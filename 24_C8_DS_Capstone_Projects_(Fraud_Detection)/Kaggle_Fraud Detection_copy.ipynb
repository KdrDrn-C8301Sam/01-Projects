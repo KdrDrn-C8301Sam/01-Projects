{
 "cells": [
  {
   "cell_type": "code",
   "execution_count": 1,
   "metadata": {},
   "outputs": [],
   "source": [
    "# This Python 3 environment comes with many helpful analytics libraries installed\n",
    "# It is defined by the kaggle/python Docker image: https://github.com/kaggle/docker-python\n",
    "# For example, here's several helpful packages to load\n",
    "\n",
    "# import numpy as np # linear algebra\n",
    "# import pandas as pd # data processing, CSV file I/O (e.g. pd.read_csv)\n",
    "\n",
    "# Input data files are available in the read-only \"../input/\" directory\n",
    "# For example, running this (by clicking run or pressing Shift+Enter) will list all files under the input directory\n",
    "\n",
    "# import os\n",
    "# for dirname, _, filenames in os.walk('/kaggle/input'):\n",
    "#     for filename in filenames:\n",
    "#         print(os.path.join(dirname, filename))\n",
    "\n",
    "# You can write up to 20GB to the current directory (/kaggle/working/) that gets preserved as output when you create a version using \"Save & Run All\" \n",
    "# You can also write temporary files to /kaggle/temp/, but they won't be saved outside of the current session"
   ]
  },
  {
   "cell_type": "markdown",
   "metadata": {},
   "source": [
    "# <h1 style=\"text-align: center;\" class=\"list-group-item list-group-item-action active\" data-toggle=\"list\" role=\"tab\" aria-controls=\"home\">FRAUD DETECTION</h1>"
   ]
  },
  {
   "cell_type": "markdown",
   "metadata": {},
   "source": [
    "![](https://cdn.dnaindia.com/sites/default/files/styles/full/public/2017/04/04/562375-cyberfraud-040417.jpg)\n",
    "\n",
    "**Image credit:** [dnaindia](https://www.dnaindia.com/mumbai/report-goregaon-man-duped-of-rs-30k-in-credit-card-fraud-2380446)"
   ]
  },
  {
   "cell_type": "markdown",
   "metadata": {
    "id": "-24P_wByMuHX"
   },
   "source": [
    "# WELCOME!"
   ]
  },
  {
   "cell_type": "markdown",
   "metadata": {
    "id": "Ow9AD-4vMuHX"
   },
   "source": [
    "Welcome to \"***Fraud Detection ***\"study.\n",
    "\n",
    "In this study without knowing what the column names are, we will only be interested in their values. \n",
    "\n",
    "We will implement ***Logistic Regression, Random Forest, Neural Network*** algorithms and ***SMOTE*** technique. Also visualize performances of the models using ***Seaborn, Matplotlib, Plotly*** and ***Yellowbrick*** in a variety of ways."
   ]
  },
  {
   "cell_type": "markdown",
   "metadata": {
    "id": "dqbMkIZ-MuHY"
   },
   "source": [
    "<a id=\"toc\"></a>\n",
    "\n",
    "## <h3 style=\"background-color:#B61151; font-family:newtimeroman; color:#FFF9ED; font-size:150%; text-align:center; border-radius:10px 10px;\" class=\"list-group-item list-group-item-action active\" data-toggle=\"list\" role=\"tablist\" aria-controls=\"home\">TABLE OF CONTENTS</h3>\n",
    "\n",
    "* [1 - DATA](#1)\n",
    "    * [1.1 Context](#1.1)\n",
    "    * [1.2 About the Features](#1.2) \n",
    "    * [1.3 What the Problem is](#1.3) \n",
    "    * [1.4 Project Structure & Tasks](#1.4) \n",
    "* [2 - LIBRARIES NEEDED IN THE STUDY](#2)\n",
    "    * [2.1 User Defined Functions](#2.1)\n",
    "* [3 - ANALYSIS](#3)\n",
    "    * [3.1 Loading & Reading the Data](#3)\n",
    "* [4 - EXPLORATORY DATA ANALYSIS (EDA) & VISUALIZATION](#4)\n",
    "    * [4.1 A General Look at the Data](#4.1)\n",
    "    * [4.2 Examination of Features and Data Insights](#4.2)\n",
    "    * [4.3 Data Cleaning](#4.3)\n",
    "* [5 - MODEL BUILDING WITHOUT SMOTE](#5)\n",
    "    * [5.1 Data Pre - Processing](#5.1)          \n",
    "        * [5.1.1 Scalling](#5.1.1)\n",
    "        * [5.1.2 Train - Test Split](#5.1.2)\n",
    "    * [5.2 Logistic Regression without SMOTE](#5.2)\n",
    "        * [5.2.1 Model Building](#5.2.1)\n",
    "        * [5.2.2 Evaluating Model Performance](#5.2.2)\n",
    "        * [5.2.3 Logistic Regression Cross Validation](#5.2.3)\n",
    "        * [5.2.4 Logistic Regression GridSearchCV](#5.2.4)\n",
    "        * [5.2.5 Logistic Regression ROC (Receiver Operating Curve) & AUC (Area Under Curve)](#5.2.5)            \n",
    "        * [5.2.6 Prediction](#5.2.6)        \n",
    "    * [5.3 Random Forest Classifier without SMOTE](#5.3)\n",
    "        * [5.3.1 Model Building](#5.3.1)\n",
    "        * [5.3.2 Evaluating Model Performance](#5.3.2)\n",
    "        * [5.3.3 Feature Importance for Random Forest Model](#5.3.3) \n",
    "        * [5.3.4 Random Forest Classifier Cross Validation](#5.3.4)\n",
    "        * [5.3.5 Random Forest Classifier GridSearchCV](#5.3.5)\n",
    "        * [5.3.6 Random Forest Classifier ROC (Receiver Operating Curve) and AUC (Area Under Curve)](#5.3.6) \n",
    "        * [5.3.7 Prediction](#5.3.7) \n",
    "* [6 - MODEL BUILDING WITH SMOTE](#6)\n",
    "    * [6.1 Data Pre - Processing](#6.1)          \n",
    "        * [6.1.1 Scalling](#6.1.1)\n",
    "        * [6.1.2 Train - Test Split](#6.1.2)\n",
    "    * [6.2 Logistic Regression with SMOTE](#6.2)\n",
    "        * [6.2.1 Model Building](#6.2.1)\n",
    "        * [6.2.2 Evaluating Model Performance](#6.2.2)\n",
    "        * [6.2.3 Logistic Regression Cross Validation](#6.2.3)\n",
    "        * [6.2.4 Logistic Regression GridSearchCV](#6.2.4)\n",
    "        * [6.2.5 Logistic Regression ROC (Receiver Operating Curve) & AUC (Area Under Curve)](#6.2.5)            \n",
    "        * [6.2.6 Prediction](#6.2.6)        \n",
    "    * [6.3 Random Forest Classifier with SMOTE](#6.3)\n",
    "        * [6.3.1 Model Building](#6.3.1)\n",
    "        * [6.3.2 Evaluating Model Performance](#6.3.2)\n",
    "        * [6.3.3 Random Forest Classifier Cross Validation](#6.3.3)\n",
    "        * [6.3.4 Random Forest Classifier GridSearchCV](#6.3.4)\n",
    "        * [6.3.5 Random Forest Classifier ROC (Receiver Operating Curve) and AUC (Area Under Curve)](#6.3.5)     \n",
    "        * [6.3.6 Prediction](#6.3.6) \n",
    "* [7 - NEURAL NETWORK](#7)\n",
    "    * [7.1 Data Pre - Processing](#7.1)          \n",
    "        * [7.1.1 Scalling](#7.1.1)\n",
    "        * [7.1.2 Train - Test Split](#7.1.2)\n",
    "    * [7.2 Import Libraries](#7.2)\n",
    "    * [7.3 Define Model](#7.3)\n",
    "    * [7.4 Compile Model](#7.4)\n",
    "    * [7.5 Fit Model](#7.5)\n",
    "    * [7.6 Evaluating Model Performance](#7.6)\n",
    "    * [7.7 Neural Network GridSearchCV](#7.7)\n",
    "    * [7.8 Neural Network ROC (Receiver Operating Curve) & AUC (Area Under Curve)](#7.8)  \n",
    "    * [7.9 Prediction](#7.9)  \n",
    "* [8 - THE COMPARISON OF MODELS](#8)   \n",
    "* [9 - FINAL MODEL](#9)\n",
    "* [10 - MODEL DEPLOYMENT](#10)\n",
    "    * [10.1 Save and Export the Model as .pkl](#10.1)\n",
    "    * [10.2 Example of An Application Code for Deployment](#9.2)  \n",
    "* [11 - CONCLUSION](#11)\n"
   ]
  },
  {
   "cell_type": "markdown",
   "metadata": {},
   "source": [
    "<a id=\"1\"></a>\n",
    "## <p style=\"background-color:#B61151; font-family:newtimeroman; color:#FFF9ED; font-size:150%; text-align:center; border-radius:10px 10px;\">1 - DATA</p>\n",
    "\n",
    "<a href=\"#toc\" class=\"btn btn-primary btn-sm\" role=\"button\" aria-pressed=\"true\" \n",
    "style=\"color:blue; background-color:#dfa8e4\" data-toggle=\"popover\">Table of Contents</a>\n",
    "\n",
    "The datasets contains transactions made by credit cards in September 2013 by european cardholders. This dataset presents transactions that occurred in two days, where it has **492 frauds** out of **284,807** transactions. The dataset is **highly unbalanced**, the positive class (frauds) account for 0.172% of all transactions.\n",
    "\n",
    "**For a better understanding and more information, please refer to https://www.kaggle.com/mlg-ulb/creditcardfraud**"
   ]
  },
  {
   "cell_type": "markdown",
   "metadata": {},
   "source": [
    "<a id=\"1.1\"></a>\n",
    "### <p style=\"background-color:#9452a5; font-family:newtimeroman; color:#FFF9ED; font-size:150%; text-align:left; border-radius:10px 10px;\">1.1 Context</p>\n",
    "\n",
    "<a href=\"#toc\" class=\"btn btn-primary btn-sm\" role=\"button\" aria-pressed=\"true\" \n",
    "style=\"color:blue; background-color:#e9a1ed\" data-toggle=\"popover\">Table of Contents</a>\n",
    "\n",
    "Fraud that involves cell phones, insurance claims, tax return claims, credit card transactions, government procurement etc. represent significant problems for governments and businesses and specialized analysis techniques for discovering fraud using them are required. These methods exist in the areas of Knowledge Discovery in Databases (KDD), Data Mining, Machine Learning and Statistics. They offer applicable and successful solutions in different areas of electronic fraud crimes.\n",
    "\n",
    "In general, the primary reason to use data analytics techniques is to tackle fraud since many internal control systems have serious weaknesses. For example, the currently prevailing approach employed by many law enforcement agencies to detect companies involved in potential cases of fraud consists in receiving circumstantial evidence or complaints from whistleblowers. As a result, a large number of fraud cases remain undetected and unprosecuted. In order to effectively test, detect, validate, correct error and monitor control systems against fraudulent activities, businesses entities and organizations rely on specialized data analytics techniques such as data mining, data matching, sounds like function, Regression analysis, Clustering analysis and Gap. Techniques used for fraud detection fall into two primary classes: statistical techniques and artificial intelligence.\n",
    "\n",
    "https://en.wikipedia.org/wiki/Data_analysis_techniques_for_fraud_detection"
   ]
  },
  {
   "cell_type": "markdown",
   "metadata": {},
   "source": [
    "<a id=\"1.2\"></a>\n",
    "### <p style=\"background-color:#9452a5; font-family:newtimeroman; color:#FFF9ED; font-size:150%; text-align:left; border-radius:10px 10px;\">1.2 About The Features</p>\n",
    "\n",
    "<a href=\"#toc\" class=\"btn btn-primary btn-sm\" role=\"button\" aria-pressed=\"true\" \n",
    "style=\"color:blue; background-color:#e9a1ed\" data-toggle=\"popover\">Table of Contents</a>\n",
    "\n",
    "It contains only numerical input variables which are the result of a PCA transformation. Unfortunately, due to confidentiality issues, it is not provided the original features and more background information about the data. Features V1, V2, … V28 are the principal components obtained with PCA, the only features which have not been transformed with PCA are 'Time' and 'Amount'. Feature 'Time' contains the seconds elapsed between each transaction and the first transaction in the dataset. The feature 'Amount' is the transaction Amount, this feature can be used for example-dependant cost-sensitive learning. Feature 'Class' is the response variable and it takes value 1 in case of fraud and 0 otherwise.\n",
    "\n",
    "**Feature Information:**\n",
    "\n",
    "**Time**: This feature is contains the seconds elapsed between each transaction and the first transaction in the dataset. \n",
    "\n",
    "**Amount**:  This feature is the transaction Amount, can be used for example-dependant cost-senstive learning. \n",
    "\n",
    "**Class**: This feature is the target variable and it takes value 1 in case of fraud and 0 otherwise."
   ]
  },
  {
   "cell_type": "markdown",
   "metadata": {},
   "source": [
    "<a id=\"1.3\"></a>\n",
    "### <p style=\"background-color:#9452a5; font-family:newtimeroman; color:#FFF9ED; font-size:150%; text-align:left; border-radius:10px 10px;\">1.3 What the Problem is</p>\n",
    "\n",
    "<a href=\"#toc\" class=\"btn btn-primary btn-sm\" role=\"button\" aria-pressed=\"true\" \n",
    "style=\"color:blue; background-color:#e9a1ed\" data-toggle=\"popover\">Table of Contents</a>\n",
    "\n",
    "The aim of this study is to predict whether a credit card transaction is fraudulent. Of course, this is not easy to do.\n",
    "First of all, we need to analyze and recognize the data well in order to draw a roadmap and choose the correct arguments to use. Accordingly, we can examine the frequency distributions of variables. We can observe variable correlations and want to explore multicollinearity. We can show the distribution of the target variable's classes over other variables. \n",
    "Also, it is useful to take missing values and outliers.\n",
    "\n",
    "After these procedures, we can move on to the model building stage by doing the basic data pre-processing we are familiar with. "
   ]
  },
  {
   "cell_type": "markdown",
   "metadata": {},
   "source": [
    "<a id=\"1.4\"></a>\n",
    "### <p style=\"background-color:#9452a5; font-family:newtimeroman; color:#FFF9ED; font-size:150%; text-align:left; border-radius:10px 10px;\">1.4 Project Structure & Tasks</p>\n",
    "\n",
    "<a href=\"#toc\" class=\"btn btn-primary btn-sm\" role=\"button\" aria-pressed=\"true\" \n",
    "style=\"color:blue; background-color:#e9a1ed\" data-toggle=\"popover\">Table of Contents</a>\n",
    "\n",
    "#### 1. Exploratory Data Analysis & Data Cleaning\n",
    "\n",
    "- Import Modules, Load Data & Data Review\n",
    "- Exploratory Data Analysis\n",
    "- Data Cleaning\n",
    "    \n",
    "#### 2. Data Preprocessing\n",
    "\n",
    "- Scaling\n",
    "- Train - Test Split\n",
    "\n",
    "#### 3. Model Building\n",
    "\n",
    "- Logistic Regression without SMOTE\n",
    "- Apply SMOTE\n",
    "- Logistic Regression with SMOTE\n",
    "- Random Forest Classifier with SMOTE\n",
    "- Neural Network\n",
    "\n",
    "#### 4. Model Deployement\n",
    "\n",
    "- Save and Export the Model as .pkl\n",
    "- Save and Export Variables as .pkl "
   ]
  },
  {
   "cell_type": "markdown",
   "metadata": {},
   "source": [
    "<a id=\"2\"></a>\n",
    "## <p style=\"background-color:#B61151; font-family:newtimeroman; color:#FFF9ED; font-size:150%; text-align:center; border-radius:10px 10px;\">2 - LIBRARIES NEEDED IN THE STUDY<p>\n",
    "\n",
    "<a href=\"#toc\" class=\"btn btn-primary btn-sm\" role=\"button\" aria-pressed=\"true\" \n",
    "style=\"color:blue; background-color:#dfa8e4\" data-toggle=\"popover\">Table of Contents</a>"
   ]
  },
  {
   "cell_type": "code",
   "execution_count": 6,
   "metadata": {
    "id": "yKZtJybfMuHa"
   },
   "outputs": [
    {
     "ename": "ImportError",
     "evalue": "cannot import name 'plot_precision_recall_curve' from 'sklearn.metrics' (C:\\Users\\Toshiba\\anaconda3\\lib\\site-packages\\sklearn\\metrics\\__init__.py)",
     "output_type": "error",
     "traceback": [
      "\u001b[1;31m---------------------------------------------------------------------------\u001b[0m",
      "\u001b[1;31mImportError\u001b[0m                               Traceback (most recent call last)",
      "Cell \u001b[1;32mIn[6], line 72\u001b[0m\n\u001b[0;32m     65\u001b[0m \u001b[38;5;66;03m# from catboost import CatBoostClassifier\u001b[39;00m\n\u001b[0;32m     66\u001b[0m \u001b[38;5;66;03m# from lightgbm import LGBMClassifier\u001b[39;00m\n\u001b[0;32m     67\u001b[0m \u001b[38;5;66;03m# from xgboost import XGBClassifier, plot_importance\u001b[39;00m\n\u001b[0;32m     68\u001b[0m \n\u001b[0;32m     69\u001b[0m \u001b[38;5;66;03m## metrics\u001b[39;00m\n\u001b[0;32m     70\u001b[0m \u001b[38;5;66;03m# from sklearn.metrics import plot_confusion_matrix, r2_score, mean_absolute_error, mean_squared_error\u001b[39;00m\n\u001b[0;32m     71\u001b[0m \u001b[38;5;28;01mfrom\u001b[39;00m \u001b[38;5;21;01msklearn\u001b[39;00m\u001b[38;5;21;01m.\u001b[39;00m\u001b[38;5;21;01mmetrics\u001b[39;00m \u001b[38;5;28;01mimport\u001b[39;00m confusion_matrix, accuracy_score, classification_report\n\u001b[1;32m---> 72\u001b[0m \u001b[38;5;28;01mfrom\u001b[39;00m \u001b[38;5;21;01msklearn\u001b[39;00m\u001b[38;5;21;01m.\u001b[39;00m\u001b[38;5;21;01mmetrics\u001b[39;00m \u001b[38;5;28;01mimport\u001b[39;00m make_scorer, precision_score, precision_recall_curve, plot_precision_recall_curve \n\u001b[0;32m     73\u001b[0m \u001b[38;5;28;01mfrom\u001b[39;00m \u001b[38;5;21;01msklearn\u001b[39;00m\u001b[38;5;21;01m.\u001b[39;00m\u001b[38;5;21;01mmetrics\u001b[39;00m \u001b[38;5;28;01mimport\u001b[39;00m plot_roc_curve, roc_auc_score, roc_curve, f1_score, accuracy_score, recall_score\n\u001b[0;32m     74\u001b[0m \u001b[38;5;28;01mfrom\u001b[39;00m \u001b[38;5;21;01msklearn\u001b[39;00m\u001b[38;5;21;01m.\u001b[39;00m\u001b[38;5;21;01mmetrics\u001b[39;00m \u001b[38;5;28;01mimport\u001b[39;00m silhouette_samples,silhouette_score, average_precision_score\n",
      "\u001b[1;31mImportError\u001b[0m: cannot import name 'plot_precision_recall_curve' from 'sklearn.metrics' (C:\\Users\\Toshiba\\anaconda3\\lib\\site-packages\\sklearn\\metrics\\__init__.py)"
     ]
    }
   ],
   "source": [
    "## Import Libraies\n",
    "\n",
    "## import all main libraries automatically with pyforest\n",
    "# !pip install pyforest\n",
    "# !pip install pycaret[full]\n",
    "\n",
    "# import pyforest\n",
    "\n",
    "## main libraries\n",
    "import numpy as np\n",
    "import pandas as pd \n",
    "import seaborn as sns\n",
    "import matplotlib.pyplot as plt\n",
    "%matplotlib inline\n",
    "import matplotlib.ticker as mticker\n",
    "\n",
    "# !pip install squarify\n",
    "import squarify as sq\n",
    "\n",
    "import scipy.stats as stats\n",
    "from scipy.cluster.hierarchy import linkage, dendrogram\n",
    "import statsmodels.api as sm\n",
    "import statsmodels.formula.api as smf\n",
    "import datetime as dt\n",
    "from datetime import datetime\n",
    "# from pyclustertend import hopkins\n",
    "\n",
    "## pre-processing\n",
    "from sklearn.cluster import KMeans, AgglomerativeClustering\n",
    "from sklearn.compose import make_column_transformer, ColumnTransformer\n",
    "from sklearn.decomposition import PCA\n",
    "from sklearn.dummy import DummyClassifier\n",
    "from sklearn.impute import SimpleImputer, KNNImputer\n",
    "\n",
    "## feature Selection\n",
    "from sklearn.feature_selection import SelectKBest, SelectPercentile, f_classif, f_regression, mutual_info_regression\n",
    "\n",
    "## scaling\n",
    "from sklearn.preprocessing import scale \n",
    "from sklearn.preprocessing import StandardScaler\n",
    "from sklearn.preprocessing import PolynomialFeatures \n",
    "from sklearn.preprocessing import OneHotEncoder\n",
    "from sklearn.preprocessing import PowerTransformer \n",
    "from sklearn.preprocessing import MinMaxScaler\n",
    "from sklearn.preprocessing import LabelEncoder\n",
    "from sklearn.preprocessing import RobustScaler\n",
    "\n",
    "## regression/prediction\n",
    "from sklearn.discriminant_analysis import LinearDiscriminantAnalysis\n",
    "from sklearn.linear_model import LinearRegression, Lasso, Ridge, ElasticNet, LogisticRegression\n",
    "from sklearn.ensemble import RandomForestRegressor, GradientBoostingRegressor, ExtraTreesRegressor\n",
    "from sklearn.neighbors import KNeighborsRegressor\n",
    "from sklearn.svm import SVR\n",
    "from xgboost import XGBRegressor\n",
    "from sklearn.tree import DecisionTreeRegressor\n",
    "\n",
    "## ann\n",
    "from sklearn.neural_network import MLPRegressor\n",
    "\n",
    "## classification\n",
    "from sklearn.ensemble import RandomForestClassifier, AdaBoostClassifier, GradientBoostingClassifier, ExtraTreesClassifier\n",
    "from sklearn.neighbors import KNeighborsClassifier\n",
    "from sklearn.svm import SVC\n",
    "from sklearn.tree import DecisionTreeClassifier, plot_tree \n",
    "# from catboost import CatBoostClassifier\n",
    "# from lightgbm import LGBMClassifier\n",
    "# from xgboost import XGBClassifier, plot_importance\n",
    "\n",
    "## metrics\n",
    "# from sklearn.metrics import plot_confusion_matrix, r2_score, mean_absolute_error, mean_squared_error\n",
    "from sklearn.metrics import confusion_matrix, accuracy_score, classification_report\n",
    "from sklearn.metrics import make_scorer, precision_score, precision_recall_curve, plot_precision_recall_curve \n",
    "from sklearn.metrics import plot_roc_curve, roc_auc_score, roc_curve, f1_score, accuracy_score, recall_score\n",
    "from sklearn.metrics import silhouette_samples,silhouette_score, average_precision_score\n",
    "from sklearn.metrics.cluster import adjusted_rand_score\n",
    "from sklearn.metrics import auc\n",
    "\n",
    "## model selection\n",
    "from sklearn import model_selection\n",
    "from sklearn.model_selection import RandomizedSearchCV\n",
    "from sklearn.model_selection import RepeatedStratifiedKFold, KFold, cross_val_predict, train_test_split\n",
    "from sklearn.model_selection import StratifiedKFold, GridSearchCV, cross_val_score, cross_validate\n",
    "\n",
    "## MLearning\n",
    "from sklearn.pipeline import make_pipeline, Pipeline\n",
    "import optuna\n",
    "from sklearn.naive_bayes import GaussianNB\n",
    "\n",
    "## clevers\n",
    "# !pip install -U pandas-profiling --user\n",
    "import pandas_profiling\n",
    "from pandas_profiling.report.presentation.flavours.html.templates import create_html_assets\n",
    "\n",
    "import ipywidgets\n",
    "from ipywidgets import interact\n",
    "import missingno as msno \n",
    "# !pip install wordcloud\n",
    "from wordcloud import WordCloud\n",
    "\n",
    "# !pip install termcolor\n",
    "import colorama\n",
    "from colorama import Fore, Style  # makes strings colored\n",
    "from termcolor import colored\n",
    "from termcolor import cprint\n",
    "# grey red green yellow blue magenta cyan white (on_grey ..)\n",
    "# bold dark underline blink reverse concealed\n",
    "# cprint(\"Have a first look to:\",\"blue\",\"on_grey\", attrs=['bold'])\n",
    "\n",
    "## plotly and cufflinks\n",
    "import plotly \n",
    "import plotly.express as px\n",
    "import cufflinks as cf\n",
    "import plotly.graph_objs as go\n",
    "import plotly.offline as py\n",
    "from plotly.offline import iplot\n",
    "from plotly.subplots import make_subplots\n",
    "import plotly.figure_factory as ff\n",
    "cf.go_offline()\n",
    "cf.set_config_file(offline=False, world_readable=True)\n",
    "\n",
    "## Ignore Warnings\n",
    "import warnings\n",
    "warnings.filterwarnings(\"ignore\")\n",
    "warnings.warn(\"this will not show\")\n",
    "\n",
    "## Figure&Display options\n",
    "plt.rcParams[\"figure.figsize\"] = (10,6)\n",
    "pd.set_option('max_colwidth',200)\n",
    "pd.set_option('display.max_rows', 1000)\n",
    "pd.set_option('display.max_columns', 200)\n",
    "pd.set_option('display.float_format', lambda x: '%.3f' % x)"
   ]
  },
  {
   "cell_type": "code",
   "execution_count": 12,
   "metadata": {},
   "outputs": [
    {
     "name": "stdout",
     "output_type": "stream",
     "text": [
      "Requirement already satisfied: scikit-plot in c:\\users\\toshiba\\anaconda3\\lib\\site-packages (0.3.7)"
     ]
    },
    {
     "name": "stderr",
     "output_type": "stream",
     "text": [
      "ERROR: Could not install packages due to an OSError: [Errno 2] No such file or directory: 'c:\\\\users\\\\toshiba\\\\anaconda3\\\\lib\\\\site-packages\\\\numpy-1.23.5.dist-info\\\\METADATA'\n",
      "\n"
     ]
    },
    {
     "name": "stdout",
     "output_type": "stream",
     "text": [
      "\n",
      "Requirement already satisfied: matplotlib>=1.4.0 in c:\\users\\toshiba\\anaconda3\\lib\\site-packages (from scikit-plot) (3.7.1)\n",
      "Requirement already satisfied: scikit-learn>=0.18 in c:\\users\\toshiba\\anaconda3\\lib\\site-packages (from scikit-plot) (1.2.2)\n",
      "Requirement already satisfied: scipy>=0.9 in c:\\users\\toshiba\\anaconda3\\lib\\site-packages (from scikit-plot) (1.11.1)\n",
      "Requirement already satisfied: joblib>=0.10 in c:\\users\\toshiba\\anaconda3\\lib\\site-packages (from scikit-plot) (1.2.0)\n",
      "Requirement already satisfied: contourpy>=1.0.1 in c:\\users\\toshiba\\anaconda3\\lib\\site-packages (from matplotlib>=1.4.0->scikit-plot) (1.0.5)\n",
      "Requirement already satisfied: cycler>=0.10 in c:\\users\\toshiba\\anaconda3\\lib\\site-packages (from matplotlib>=1.4.0->scikit-plot) (0.11.0)\n",
      "Requirement already satisfied: fonttools>=4.22.0 in c:\\users\\toshiba\\anaconda3\\lib\\site-packages (from matplotlib>=1.4.0->scikit-plot) (4.25.0)\n",
      "Requirement already satisfied: kiwisolver>=1.0.1 in c:\\users\\toshiba\\anaconda3\\lib\\site-packages (from matplotlib>=1.4.0->scikit-plot) (1.4.4)\n",
      "Requirement already satisfied: numpy>=1.20 in c:\\users\\toshiba\\anaconda3\\lib\\site-packages (from matplotlib>=1.4.0->scikit-plot) (1.23.5)\n",
      "Requirement already satisfied: packaging>=20.0 in c:\\users\\toshiba\\anaconda3\\lib\\site-packages (from matplotlib>=1.4.0->scikit-plot) (23.0)\n",
      "Requirement already satisfied: pillow>=6.2.0 in c:\\users\\toshiba\\anaconda3\\lib\\site-packages (from matplotlib>=1.4.0->scikit-plot) (9.4.0)\n",
      "Requirement already satisfied: pyparsing>=2.3.1 in c:\\users\\toshiba\\anaconda3\\lib\\site-packages (from matplotlib>=1.4.0->scikit-plot) (3.0.9)\n",
      "Requirement already satisfied: python-dateutil>=2.7 in c:\\users\\toshiba\\anaconda3\\lib\\site-packages (from matplotlib>=1.4.0->scikit-plot) (2.8.2)\n",
      "Requirement already satisfied: importlib-resources>=3.2.0 in c:\\users\\toshiba\\anaconda3\\lib\\site-packages (from matplotlib>=1.4.0->scikit-plot) (5.2.0)\n",
      "Requirement already satisfied: threadpoolctl>=2.0.0 in c:\\users\\toshiba\\anaconda3\\lib\\site-packages (from scikit-learn>=0.18->scikit-plot) (2.2.0)\n",
      "Requirement already satisfied: zipp>=3.1.0 in c:\\users\\toshiba\\anaconda3\\lib\\site-packages (from importlib-resources>=3.2.0->matplotlib>=1.4.0->scikit-plot) (3.11.0)\n"
     ]
    }
   ],
   "source": [
    "!pip install scikit-plot"
   ]
  },
  {
   "cell_type": "code",
   "execution_count": 11,
   "metadata": {},
   "outputs": [
    {
     "ename": "SyntaxError",
     "evalue": "invalid syntax (1926773838.py, line 1)",
     "output_type": "error",
     "traceback": [
      "\u001b[1;36m  Cell \u001b[1;32mIn[11], line 1\u001b[1;36m\u001b[0m\n\u001b[1;33m    import scikit-plot as skplt\u001b[0m\n\u001b[1;37m                 ^\u001b[0m\n\u001b[1;31mSyntaxError\u001b[0m\u001b[1;31m:\u001b[0m invalid syntax\n"
     ]
    }
   ],
   "source": [
    "import scikit-plot as skplt\n",
    "from skplt.metrics import plot_precision_recall_curve"
   ]
  },
  {
   "cell_type": "markdown",
   "metadata": {},
   "source": [
    "<a id=\"2.1\"></a>\n",
    "### <p style=\"background-color:#9452a5; font-family:newtimeroman; color:#FFF9ED; font-size:150%; text-align:LEFT; border-radius:10px 10px;\">2.1 User Defined Functions<p>\n",
    "\n",
    "<a href=\"#toc\" class=\"btn btn-primary btn-sm\" role=\"button\" aria-pressed=\"true\" \n",
    "style=\"color:blue; background-color:#dfa8e4\" data-toggle=\"popover\">Table of Contents</a>\n",
    "    \n",
    "**We have defined some useful user defined functions.**"
   ]
  },
  {
   "cell_type": "code",
   "execution_count": null,
   "metadata": {},
   "outputs": [],
   "source": [
    "## Some Useful User-Defined-Functions\n",
    "\n",
    "###############################################################################\n",
    "\n",
    "def missing_values(df):\n",
    "    missing_number = df.isnull().sum().sort_values(ascending=False)\n",
    "    missing_percent = (df.isnull().sum()/df.isnull().count()).sort_values(ascending=False)\n",
    "    missing_values = pd.concat([missing_number, missing_percent], axis=1, keys=['Missing_Number', 'Missing_Percent'])\n",
    "    return missing_values[missing_values['Missing_Number']>0]\n",
    "\n",
    "###############################################################################\n",
    "\n",
    "def first_looking(df):\n",
    "    print(colored(\"Shape:\", 'yellow', attrs=['bold']), df.shape,'\\n', \n",
    "          colored('*'*100, 'red', attrs=['bold']),\n",
    "          colored(\"\\nInfo:\\n\",'yellow', attrs=['bold']), sep='')\n",
    "    print(df.info(), '\\n', \n",
    "          colored('*'*100, 'red', attrs=['bold']), sep='')\n",
    "    print(colored(\"Number of Uniques:\\n\", 'yellow', attrs=['bold']), df.nunique(),'\\n',\n",
    "          colored('*'*100, 'red', attrs=['bold']), sep='')\n",
    "    print(colored(\"Missing Values:\\n\", 'yellow', attrs=['bold']), missing_values(df),'\\n', \n",
    "          colored('*'*100, 'red', attrs=['bold']), sep='')\n",
    "    print(colored(\"All Columns:\", 'yellow', attrs=['bold']), *list(df.columns), sep='\\n- ') \n",
    "    print(colored('*'*100, 'red', attrs=['bold']), sep='')\n",
    "\n",
    "    df.columns= df.columns.str.lower().str.replace('&', '_').str.replace(' ', '_')\n",
    "    \n",
    "    print(colored(\"Columns after rename:\", 'yellow', attrs=['bold']), *list(df.columns), sep='\\n- ')\n",
    "    print(colored('*'*100, 'red', attrs=['bold']), sep='')\n",
    "    \n",
    "###############################################################################\n",
    "## To view summary information about the columns\n",
    "\n",
    "def summary(column):\n",
    "    print(colored(\"Column: \",'yellow', attrs=['bold']), column)\n",
    "    print(colored('*'*100, 'red', attrs=['bold']), sep='')\n",
    "    print(colored(\"Missing values: \", 'yellow', attrs=['bold']), df[column].isnull().sum())\n",
    "    print(colored('*'*100, 'red', attrs=['bold']), sep='')\n",
    "    print(colored(\"Missing values(%): \", 'yellow', attrs=['bold']), round(df[column].isnull().sum()/df.shape[0]*100, 2))\n",
    "    print(colored('*'*100, 'red', attrs=['bold']), sep='')\n",
    "    print(colored(\"Unique values: \", 'yellow', attrs=['bold']), df[column].nunique())\n",
    "    print(colored('*'*100, 'red', attrs=['bold']), sep='')\n",
    "    print(colored(\"Value counts: \\n\", 'yellow', attrs=['bold']), df[column].value_counts(dropna = False), sep='')\n",
    "    print(colored('*'*100, 'red', attrs=['bold']), sep='')\n",
    "    \n",
    "###############################################################################\n",
    "                    \n",
    "def multicolinearity_control(df):                    \n",
    "    df_temp = df.corr()\n",
    "    count = 'Done'\n",
    "    feature =[]\n",
    "    collinear= []\n",
    "    for col in df_temp.columns:\n",
    "        for i in df_temp.index:\n",
    "            if abs(df_temp[col][i] > .8 and df_temp[col][i] < 1):\n",
    "                    feature.append(col)\n",
    "                    collinear.append(i)\n",
    "                    cprint(f\"multicolinearity alert in between {col} - {i}\", \"red\", attrs=[\"bold\"])\n",
    "    else:\n",
    "        cprint(f\"There is NO multicollinearity between the features.\", \"blue\", attrs=[\"bold\"])                     \n",
    "                    \n",
    "###############################################################################\n",
    "\n",
    "def duplicate_values(df):\n",
    "    print(colored(\"Duplicate check...\", 'yellow', attrs=['bold']), sep='')\n",
    "    duplicate_values = df.duplicated(subset=None, keep='first').sum()\n",
    "    if duplicate_values > 0:\n",
    "        df.drop_duplicates(keep='first', inplace=True)\n",
    "        print(duplicate_values, colored(\" Duplicates were dropped!\"),'\\n',\n",
    "              colored('*'*100, 'red', attrs=['bold']), sep='')\n",
    "    else:\n",
    "        print(colored(\"There are no duplicates\"),'\\n',\n",
    "              colored('*'*100, 'red', attrs=['bold']), sep='')     \n",
    "\n",
    "###############################################################################\n",
    "        \n",
    "def drop_columns(df, drop_columns):\n",
    "    if drop_columns !=[]:\n",
    "        df.drop(drop_columns, axis=1, inplace=True)\n",
    "        print(drop_columns, 'were dropped')\n",
    "    else:\n",
    "        print(colored('Missing value control...', 'yellow', attrs=['bold']),'\\n',\n",
    "              colored('If there is a missing value above the limit you have given, the relevant columns are dropped and an information is given.'), sep='')\n",
    "\n",
    "###############################################################################\n",
    "\n",
    "def drop_null(df, limit):\n",
    "    for i in df.isnull().sum().index:\n",
    "        if (df.isnull().sum()[i]/df.shape[0]*100)>limit:\n",
    "            print(df.isnull().sum()[i], 'percent of', i ,'were null and dropped')\n",
    "            df.drop(i, axis=1, inplace=True)\n",
    "    print(colored('Last shape after missing value control:', 'yellow', attrs=['bold']), df.shape, '\\n', \n",
    "          colored('*'*100, 'red', attrs=['bold']), sep='')\n",
    "\n",
    "###############################################################################\n",
    "\n",
    "def shape_control():\n",
    "    print('df.shape:', df.shape)\n",
    "    print('X.shape:', X.shape)\n",
    "    print('y.shape:', y.shape)\n",
    "    print('X_train.shape:', X_train.shape)\n",
    "    print('y_train.shape:', y_train.shape)\n",
    "    print('X_test.shape:', X_test.shape)\n",
    "    print('y_test.shape:', y_test.shape)\n",
    "\n",
    "###############################################################################  \n",
    "\n",
    "## show values in bar graphic\n",
    "def show_values_on_bars(axs):\n",
    "    def _show_on_single_plot(ax):        \n",
    "        for p in ax.patches:\n",
    "            _x = p.get_x() + p.get_width() / 2\n",
    "            _y = p.get_y() + p.get_height()\n",
    "            value = '{:.2f}'.format(p.get_height())\n",
    "            ax.text(_x, _y, value, ha=\"center\") \n",
    "    if isinstance(axs, np.ndarray):\n",
    "        for idx, ax in np.ndenumerate(axs):\n",
    "            _show_on_single_plot(ax)\n",
    "    else:\n",
    "        _show_on_single_plot(axs)\n",
    "        \n",
    "############################################################################### \n",
    "\n",
    "'''This function detects the best z-score for outlier detection in the specified column.'''\n",
    "\n",
    "def outlier_zscore(df, col, min_z=1, max_z = 5, step = 0.05, print_list = False):\n",
    "    z_scores = stats.zscore(df[col].dropna())\n",
    "    threshold_list = []\n",
    "    \n",
    "    for threshold in np.arange(min_z, max_z, step):\n",
    "        threshold_list.append((threshold, len(np.where(z_scores > threshold)[0])))\n",
    "    \n",
    "    df_outlier = pd.DataFrame(threshold_list, columns = ['threshold', 'outlier_count'])\n",
    "    df_outlier['pct'] = (df_outlier.outlier_count - df_outlier.outlier_count.shift(-1))/df_outlier.outlier_count*100\n",
    "    df_outlier['pct'] = df_outlier['pct'].apply(lambda x : x-100 if x == 100 else x)\n",
    "    best_treshold = round(df_outlier.iloc[df_outlier.pct.argmax(), 0],2)\n",
    "    IQR_coef = round((best_treshold - 0.675) / 1.35, 2)\n",
    "    outlier_limit = int(df[col].dropna().mean() + (df[col].dropna().std()) * df_outlier.iloc[df_outlier.pct.argmax(), 0])\n",
    "    num_outlier = df_outlier.iloc[df_outlier.pct.argmax(), 1]\n",
    "    percentile_threshold = stats.percentileofscore(df[col].dropna(), outlier_limit)\n",
    "    plt.plot(df_outlier.threshold, df_outlier.outlier_count)\n",
    "    plt.vlines(best_treshold, 0, df_outlier.outlier_count.max(), colors=\"r\", ls = \":\")\n",
    "    plt.annotate(\"Zscore : {}\\nIQR_coef : {}\\nValue : {}\\nNum_outlier : {}\\nPercentile : {}\".format(best_treshold,\n",
    "                                                                          IQR_coef,\n",
    "                                                                          outlier_limit,\n",
    "                                                                          num_outlier,     \n",
    "                                                                          (np.round(percentile_threshold, 3), \n",
    "                                                                           np.round(100-percentile_threshold, 3))),\n",
    "                                                                          (best_treshold, df_outlier.outlier_count.max()/2))\n",
    "    plt.show()\n",
    "    if print_list:\n",
    "        print(df_outlier)\n",
    "    return (plt, df_outlier, best_treshold, IQR_coef, outlier_limit, num_outlier, percentile_threshold)\n",
    "\n",
    "############################################################################### \n",
    "\n",
    "'''This function plots histogram, boxplot and z-score/outlier graphs for the specified column.'''\n",
    "\n",
    "def outlier_inspect(df, col, min_z = 1, max_z = 5, step = 0.05, max_hist = None, bins = 50):\n",
    "    fig = plt.figure(figsize=(20, 6))\n",
    "    fig.suptitle(col, fontsize=16)\n",
    "    plt.subplot(1,3,1)\n",
    "    if max_hist == None:\n",
    "        sns.distplot(df[col], kde=False, bins = 50)\n",
    "    else :\n",
    "        sns.distplot(df[df[col]<=max_hist][col], kde=False, bins = 50)\n",
    "    plt.subplot(1,3,2)\n",
    "    sns.boxplot(df[col])\n",
    "    plt.subplot(1,3,3)\n",
    "    z_score_inspect = outlier_zscore(df, col, min_z = min_z, max_z = max_z, step = step)\n",
    "    plt.show()\n",
    "    \n",
    "############################################################################### \n",
    "\n",
    "\"\"\"This function gives max/min threshold, number of data, number of outlier and plots its boxplot,\n",
    "according to the tree type and the entered z-score value for the relevant column.\"\"\"\n",
    "\n",
    "def num_outliers(df, col, whis = 1.5):\n",
    "    q1 = df.groupby(\"class\")[col].quantile(0.25)\n",
    "    q3 = df.groupby(\"class\")[col].quantile(0.75)\n",
    "    iqr = q3 - q1\n",
    "    print(\"Column_name :\", col)\n",
    "    print(\"whis :\", whis)\n",
    "    print(\"-------------------------------------------\")\n",
    "    for i in np.sort(df['class'].unique()):\n",
    "        min_threshold = q1.loc[i] - whis*iqr.loc[i]\n",
    "        max_threshold = q3.loc[i] + whis*iqr.loc[i]\n",
    "        print(\"min_threshold:\", min_threshold, \"\\nmax_threshold:\", max_threshold)\n",
    "        num_outliers = len(df[df[\"class\"]==i][col][(df[col]<min_threshold) | (df[col]>max_threshold)])\n",
    "        print(f\"Num_of_values for {i} :\", len(df[df[\"class\"]==i]))\n",
    "        print(f\"Num_of_outliers for {i} :\", num_outliers)\n",
    "        print(\"-------------------------------------------\")\n",
    "    return sns.boxplot(y = df[col], x = df[\"class\"], whis=whis)\n",
    "\n",
    "############################################################################### \n",
    "\n",
    "\"\"\"This function assigns the NaN-value first and then drop related rows, according to the tree type and the entered\n",
    "whis value and plots the boxplot for the relevant column. \"\"\"\n",
    "\n",
    "def remove_outliers(df, col, whis=1.5):\n",
    "    q1 = df.groupby(\"class\")[col].quantile(0.25)\n",
    "    q3 = df.groupby(\"class\")[col].quantile(0.75)\n",
    "    iqr = q3 - q1\n",
    "    for i in np.sort(df['class'].unique()):\n",
    "        min_threshold = q1.loc[i] - whis*iqr.loc[i]\n",
    "        max_threshold = q3.loc[i] + whis*iqr.loc[i]\n",
    "        df.loc[((df[\"class\"]==i) & ((df[col]<min_threshold) | (df[col]>max_threshold))), col] = np.nan\n",
    "    return sns.boxplot(y = df[col], x = df[\"class\"], whis=whis)\n",
    "\n",
    "############################################################################### "
   ]
  },
  {
   "cell_type": "markdown",
   "metadata": {},
   "source": [
    "<a id=\"3\"></a>\n",
    "## <p style=\"background-color:#B61151; font-family:newtimeroman; color:#FFF9ED; font-size:150%; text-align:center; border-radius:10px 10px;\">3 - ANALYSIS<p>"
   ]
  },
  {
   "cell_type": "markdown",
   "metadata": {},
   "source": [
    "<a id=\"3.1\"></a>\n",
    "### <p style=\"background-color:#9452a5; font-family:newtimeroman; color:#FFF9ED; font-size:150%; text-align:LEFT; border-radius:10px 10px;\">3.1 Loading & Reading the Data<p>\n",
    "\n",
    "<a href=\"#toc\" class=\"btn btn-primary btn-sm\" role=\"button\" aria-pressed=\"true\" \n",
    "style=\"color:blue; background-color:#dfa8e4\" data-toggle=\"popover\">Table of Contents</a>\n",
    "\n",
    "**How to read and assign the dataset as df: You can [Visit Here](https://pandas.pydata.org/docs/reference/api/pandas.read_csv.html) (You can define it as what you want instead of df)**"
   ]
  },
  {
   "cell_type": "markdown",
   "metadata": {},
   "source": [
    "Let's first load the required creditcard dataset using pandas's \"read_csv\" function."
   ]
  },
  {
   "cell_type": "code",
   "execution_count": null,
   "metadata": {},
   "outputs": [],
   "source": [
    "df0 = pd.read_csv('creditcard.csv')\n",
    "# df0=pd.read_csv('../input/online-retail-dataset/Online Retail.csv',index_col=0)\n",
    "df = df0.copy()\n",
    "df.head(3) "
   ]
  },
  {
   "cell_type": "code",
   "execution_count": null,
   "metadata": {},
   "outputs": [],
   "source": [
    "df.tail(3)"
   ]
  },
  {
   "cell_type": "code",
   "execution_count": null,
   "metadata": {},
   "outputs": [],
   "source": [
    "df.sample(3)"
   ]
  },
  {
   "cell_type": "markdown",
   "metadata": {},
   "source": [
    "<a id=\"4\"></a>\n",
    "## <p style=\"background-color:#B61151; font-family:newtimeroman; color:#FFF9ED; font-size:150%; text-align:center; border-radius:10px 10px;\">4 - DATA CLEANING & EXPLORATORY DATA ANALYSIS (EDA)<p>\n",
    "\n",
    "**Exploratory Data Analysis is an initial process of analysis, in which we can summarize characteristics of data such as pattern, trends, outliers, and hypothesis testing using descriptive statistics and visualization.**"
   ]
  },
  {
   "cell_type": "markdown",
   "metadata": {},
   "source": [
    "<a id=\"4.1\"></a>\n",
    "### <p style=\"background-color:#9452a5; font-family:newtimeroman; color:#FFF9ED; font-size:150%; text-align:LEFT; border-radius:10px 10px;\">4.1 A General Look at the Data<p>\n",
    "\n",
    "<a href=\"#toc\" class=\"btn btn-primary btn-sm\" role=\"button\" aria-pressed=\"true\" \n",
    "style=\"color:blue; background-color:#dfa8e4\" data-toggle=\"popover\">Table of Contents</a>"
   ]
  },
  {
   "cell_type": "code",
   "execution_count": null,
   "metadata": {
    "scrolled": false
   },
   "outputs": [],
   "source": [
    "first_looking(df)\n",
    "duplicate_values(df)\n",
    "drop_columns(df, [])\n",
    "drop_null(df, 90)\n",
    "# df.describe().T"
   ]
  },
  {
   "cell_type": "code",
   "execution_count": null,
   "metadata": {
    "scrolled": true
   },
   "outputs": [],
   "source": [
    "df.describe().T"
   ]
  },
  {
   "cell_type": "markdown",
   "metadata": {},
   "source": [
    "***According to the basic examinations on the dataset;***\n",
    "\n",
    "- We have a classification problem.\n",
    "- We are going to make classification on the target variable \"class\".\n",
    "- And we will build a model to get the best classification on the \"class\" column.\n",
    "- Because of that we are going to look at the balance of \"class\" column.\n",
    "- The dataset has 31 columns and 283726 observations after dropping of duplicated observations.\n",
    "- All columns contain numerical values. \n",
    "- There seems to be no missing value. "
   ]
  },
  {
   "cell_type": "markdown",
   "metadata": {},
   "source": [
    "<a id=\"4.2\"></a>\n",
    "### <p style=\"background-color:#9452a5; font-family:newtimeroman; color:#FFF9ED; font-size:150%; text-align:LEFT; border-radius:10px 10px;\">4.2 Examination of Features and Data Insights<p>\n",
    "\n",
    "<a href=\"#toc\" class=\"btn btn-primary btn-sm\" role=\"button\" aria-pressed=\"true\" \n",
    "style=\"color:blue; background-color:#dfa8e4\" data-toggle=\"popover\">Table of Contents</a>\n",
    "    \n",
    "**In the given dataset, feature 'Class' is the response variable and it takes value 1 in case of fraud and 0 otherwise. So, we can divide data into two groups and compare their characteristics. Here, we can find the average of both the groups using groupby() and mean() function.**   "
   ]
  },
  {
   "cell_type": "markdown",
   "metadata": {},
   "source": [
    "'class' Column-Target Column"
   ]
  },
  {
   "cell_type": "code",
   "execution_count": null,
   "metadata": {},
   "outputs": [],
   "source": [
    "cprint('Have a first look to \"class\" column',\"green\",\"on_red\", attrs=[\"bold\"])\n",
    "print(\"-----\"*10)\n",
    "summary('class')"
   ]
  },
  {
   "cell_type": "code",
   "execution_count": null,
   "metadata": {},
   "outputs": [],
   "source": [
    "cprint('Mean values according to the \"class\" column','green', 'on_red')\n",
    "df.groupby('class').mean()"
   ]
  },
  {
   "cell_type": "code",
   "execution_count": null,
   "metadata": {
    "scrolled": true
   },
   "outputs": [],
   "source": [
    "cprint('Descriptive statistics according to the \"class==0, Non-Fraudulent\"',\"green\",\"on_red\", attrs=[\"bold\"])\n",
    "df[df['class'] == 1].describe().T.style.background_gradient(subset = ['mean','min','50%', 'max'], cmap = 'RdPu')"
   ]
  },
  {
   "cell_type": "code",
   "execution_count": null,
   "metadata": {
    "scrolled": true
   },
   "outputs": [],
   "source": [
    "cprint('Descriptive statistics according to the \"class==1, Fraudulent\"',\"green\",\"on_red\", attrs=[\"bold\"])\n",
    "df[df['class'] == 0].describe().T.style.background_gradient(subset = ['mean','min','50%', 'max'], cmap = 'RdPu')"
   ]
  },
  {
   "cell_type": "code",
   "execution_count": null,
   "metadata": {},
   "outputs": [],
   "source": [
    "fig = px.pie(df, values = df['class'].value_counts(), \n",
    "             names = (df['class'].value_counts()).index, \n",
    "             title = '\"class\" Column Distribution')\n",
    "fig.show()"
   ]
  },
  {
   "cell_type": "code",
   "execution_count": null,
   "metadata": {},
   "outputs": [],
   "source": [
    "y = df['class']\n",
    "print(f'Percentage of class-1: % {round(y.value_counts(normalize=True)[1]*100,2)} --> \\\n",
    "({y.value_counts()[1]} observations for class-1)\\nPercentage of class-0: % {round(y.value_counts(normalize=True)[0]*100,2)} --> ({y.value_counts()[0]} observations for class-0)')"
   ]
  },
  {
   "cell_type": "markdown",
   "metadata": {},
   "source": [
    "- 'class' column has binary type values.\n",
    "- We have an imbalanced data. Class frequencies of the target variable are quite imbalanced.\n",
    "- Almost 0.17 % of the transactions are fraudulent(473).\n",
    "- Almost 99.83 % of the transactions are non-fraudulent(283253)."
   ]
  },
  {
   "cell_type": "markdown",
   "metadata": {},
   "source": [
    "**'time' Column**\n",
    "\n",
    "- Time: This feature is contains the seconds elapsed between each transaction and the first transaction in the dataset."
   ]
  },
  {
   "cell_type": "code",
   "execution_count": null,
   "metadata": {},
   "outputs": [],
   "source": [
    "cprint(\"Have a First Look to 'time' Column\",\"green\",\"on_red\", attrs=[\"bold\"])\n",
    "print(\"-----\"*10)\n",
    "summary('time')"
   ]
  },
  {
   "cell_type": "code",
   "execution_count": null,
   "metadata": {},
   "outputs": [],
   "source": [
    "cprint(\"Describe Values of Column 'time'\",\"green\",\"on_red\", attrs=[\"bold\"])\n",
    "df.time.describe()"
   ]
  },
  {
   "cell_type": "code",
   "execution_count": null,
   "metadata": {},
   "outputs": [],
   "source": [
    "fig = px.box(df, x = df['time'], color = df['class'], title = 'Boxplot Of Column \"time\"')\n",
    "fig.show()"
   ]
  },
  {
   "cell_type": "markdown",
   "metadata": {},
   "source": [
    "**'amount' Column**\n",
    "\n",
    "- Amount: This feature is the transaction Amount, can be used for example-dependant cost-senstive learning."
   ]
  },
  {
   "cell_type": "code",
   "execution_count": null,
   "metadata": {},
   "outputs": [],
   "source": [
    "cprint(\"Have a First Look to 'amount' Column\",\"green\",\"on_red\", attrs=[\"bold\"])\n",
    "print(\"-----\"*10)\n",
    "summary('time')"
   ]
  },
  {
   "cell_type": "code",
   "execution_count": null,
   "metadata": {},
   "outputs": [],
   "source": [
    "cprint(\"Describe Values of Column 'amount'\",\"green\",\"on_red\", attrs=[\"bold\"])\n",
    "df.amount.describe()"
   ]
  },
  {
   "cell_type": "code",
   "execution_count": null,
   "metadata": {},
   "outputs": [],
   "source": [
    "fig = px.box(df, x = df['amount'], color = df['class'], title = 'Boxplot Of Column \"amount\"')\n",
    "fig.show()"
   ]
  },
  {
   "cell_type": "markdown",
   "metadata": {},
   "source": [
    "**All 'v' Columns**"
   ]
  },
  {
   "cell_type": "markdown",
   "metadata": {},
   "source": [
    " Features from V1 to V28 are the principal components obtained with PCA."
   ]
  },
  {
   "cell_type": "markdown",
   "metadata": {},
   "source": [
    "**The dataset is too large. Let's take a look at how the distribution of class=1 and class=0 by quartiles is shaped.**"
   ]
  },
  {
   "cell_type": "code",
   "execution_count": null,
   "metadata": {},
   "outputs": [],
   "source": [
    "def transaction_transformer(price):\n",
    "    if price <= 5.600:\n",
    "        return 'Q-1'\n",
    "    if 5.600 < price <= 22.700:\n",
    "        return 'Q-2'\n",
    "    if 22.700 < price <= 75.510:\n",
    "        return 'Q-3'\n",
    "    else:\n",
    "        return 'Q-4'"
   ]
  },
  {
   "cell_type": "code",
   "execution_count": null,
   "metadata": {},
   "outputs": [],
   "source": [
    "df['transaction_class'] = df['amount'].apply(transaction_transformer)"
   ]
  },
  {
   "cell_type": "code",
   "execution_count": null,
   "metadata": {},
   "outputs": [],
   "source": [
    "fig = px.pie(df, values = df[df['class']==0]['transaction_class'].value_counts(), \n",
    "             names = df[df['class']==0]['transaction_class'].value_counts().index, \n",
    "             title = 'transaction_class & class==0 Distribution')\n",
    "fig.show()"
   ]
  },
  {
   "cell_type": "code",
   "execution_count": null,
   "metadata": {},
   "outputs": [],
   "source": [
    "fig = px.pie(df, values = df[df['class']==1]['transaction_class'].value_counts(), \n",
    "             names = df[df['class']==1]['transaction_class'].value_counts().index, \n",
    "             title = 'transaction_class & class==1 Distribution')\n",
    "fig.show()"
   ]
  },
  {
   "cell_type": "code",
   "execution_count": null,
   "metadata": {},
   "outputs": [],
   "source": [
    "print('Number of fraudulent transactions for Q-1      : ', df[(df['class']==1) & (df['transaction_class']=='Q-1')]['class'].sum())\n",
    "print('Total amount of fraudulent transactions for Q-1: ', df[(df['class']==1) & (df['transaction_class']=='Q-1')]['amount'].sum())\n",
    "print('Mean amount of fraudulent transactions for Q-1 : ', df[(df['class']==1) & (df['transaction_class']=='Q-1')]['amount'].mean())"
   ]
  },
  {
   "cell_type": "code",
   "execution_count": null,
   "metadata": {},
   "outputs": [],
   "source": [
    "print('Number of fraudulent transactions for Q-2      : ', df[(df['class']==1) & (df['transaction_class']=='Q-2')]['class'].sum())\n",
    "print('Total amount of fraudulent transactions for Q-2: ', df[(df['class']==1) & (df['transaction_class']=='Q-2')]['amount'].sum())\n",
    "print('Mean amount of fraudulent transactions for Q-2 : ', df[(df['class']==1) & (df['transaction_class']=='Q-2')]['amount'].mean())"
   ]
  },
  {
   "cell_type": "code",
   "execution_count": null,
   "metadata": {},
   "outputs": [],
   "source": [
    "print('Number of fraudulent transactions for Q-3      : ', df[(df['class']==1) & (df['transaction_class']=='Q-3')]['class'].sum())\n",
    "print('Total amount of fraudulent transactions for Q-3: ', df[(df['class']==1) & (df['transaction_class']=='Q-3')]['amount'].sum())\n",
    "print('Mean amount of fraudulent transactions for Q-3 : ', df[(df['class']==1) & (df['transaction_class']=='Q-3')]['amount'].mean())"
   ]
  },
  {
   "cell_type": "code",
   "execution_count": null,
   "metadata": {},
   "outputs": [],
   "source": [
    "print('Number of fraudulent transactions for Q-4      : ', df[(df['class']==1) & (df['transaction_class']=='Q-4')]['class'].sum())\n",
    "print('Total amount of fraudulent transactions for Q-4: ', df[(df['class']==1) & (df['transaction_class']=='Q-4')]['amount'].sum())\n",
    "print('Mean amount of fraudulent transactions for Q-4 : ', df[(df['class']==1) & (df['transaction_class']=='Q-4')]['amount'].mean())"
   ]
  },
  {
   "cell_type": "code",
   "execution_count": null,
   "metadata": {},
   "outputs": [],
   "source": [
    "df.drop(['transaction_class'], axis = 1, inplace = True)"
   ]
  },
  {
   "cell_type": "markdown",
   "metadata": {},
   "source": [
    "- As seen above, there are fraudulent transactions in every quarter. \n",
    "- Q-1 has the highest number of transactions with 213 transactions.\n",
    "- Q-4 has the highest amount with 56014.34 amount."
   ]
  },
  {
   "cell_type": "markdown",
   "metadata": {},
   "source": [
    "Let's look the correlation and multicollinearity among the features."
   ]
  },
  {
   "cell_type": "code",
   "execution_count": null,
   "metadata": {},
   "outputs": [],
   "source": [
    "cprint(\"Heatmap of df\",'green', 'on_red', attrs=[\"bold\"])\n",
    "print(\"-----\"*10)\n",
    "plt.figure(figsize = (17, 17))\n",
    "sns.heatmap (df.corr(), annot = True, fmt = '.2f', vmin = -1, vmax = 1)\n",
    "plt.xticks(rotation = 45);"
   ]
  },
  {
   "cell_type": "code",
   "execution_count": null,
   "metadata": {},
   "outputs": [],
   "source": [
    "multicolinearity_control(df)"
   ]
  },
  {
   "cell_type": "code",
   "execution_count": null,
   "metadata": {},
   "outputs": [],
   "source": [
    "df.corr()['class'].sort_values().drop('class').iplot(kind = 'barh', title = 'Correlation Between the Columns');"
   ]
  },
  {
   "cell_type": "markdown",
   "metadata": {},
   "source": [
    "***Based on the examinations made above,***\n",
    "\n",
    "- There is no multicollinearity problem among the features.\n",
    "- We have weak level correlation between the features and the target column.\n",
    "- Also there is weak level correlation between the columns."
   ]
  },
  {
   "cell_type": "markdown",
   "metadata": {},
   "source": [
    "<a id=\"4.3\"></a>\n",
    "### <p style=\"background-color:#9452a5; font-family:newtimeroman; color:#FFF9ED; font-size:150%; text-align:LEFT; border-radius:10px 10px;\">4.3 Data Cleaning<p>\n",
    "\n",
    "<a href=\"#toc\" class=\"btn btn-primary btn-sm\" role=\"button\" aria-pressed=\"true\" \n",
    "style=\"color:blue; background-color:#dfa8e4\" data-toggle=\"popover\">Table of Contents</a>"
   ]
  },
  {
   "cell_type": "markdown",
   "metadata": {
    "id": "NGyEoz9fJQ0E"
   },
   "source": [
    "Check Missing Values and Outliers"
   ]
  },
  {
   "cell_type": "code",
   "execution_count": null,
   "metadata": {
    "id": "BvpEPuGAMuHa"
   },
   "outputs": [],
   "source": [
    "cprint(\"Missing Values\",\"green\",\"on_red\", attrs=[\"bold\"])\n",
    "missing_values(df)"
   ]
  },
  {
   "cell_type": "markdown",
   "metadata": {},
   "source": [
    "- There seems to be no missing value."
   ]
  },
  {
   "cell_type": "markdown",
   "metadata": {},
   "source": [
    "What about the outliers?"
   ]
  },
  {
   "cell_type": "code",
   "execution_count": null,
   "metadata": {},
   "outputs": [],
   "source": [
    "cprint(\"Boxplots\",\"green\",\"on_red\", attrs=[\"bold\"])\n",
    "%matplotlib inline\n",
    "index = 0\n",
    "plt.figure(figsize=(20,20))\n",
    "for feature in df.columns[2:29]:\n",
    "    index += 1\n",
    "    plt.subplot(7,4,index)\n",
    "    sns.boxplot(x=feature, data=df, whis=1.5)"
   ]
  },
  {
   "cell_type": "code",
   "execution_count": null,
   "metadata": {},
   "outputs": [],
   "source": [
    "cprint(\"Boxplots\",\"green\",\"on_red\", attrs=[\"bold\"])\n",
    "index = 0\n",
    "plt.figure(figsize=(20,20))\n",
    "for feature in df.columns[:30]:\n",
    "    index += 1\n",
    "    plt.subplot(8,4,index)\n",
    "    sns.boxplot(y = feature, x = \"class\", data = df, whis=3)"
   ]
  },
  {
   "cell_type": "code",
   "execution_count": null,
   "metadata": {},
   "outputs": [],
   "source": [
    "from scipy.stats import zscore\n",
    "from scipy import stats\n",
    "from numpy import percentile"
   ]
  },
  {
   "cell_type": "markdown",
   "metadata": {},
   "source": [
    "- 'outlier_zscore' function detects the best z-score for outlier detection in the specified column.\n",
    "- 'outlier_inspect' function plots histogram, boxplot and z-score/outlier graphs for the specified column."
   ]
  },
  {
   "cell_type": "code",
   "execution_count": null,
   "metadata": {
    "scrolled": true
   },
   "outputs": [],
   "source": [
    "cprint(\"Outlier Inspection\",\"green\",\"on_red\", attrs=[\"bold\"])\n",
    "for col in df.columns[:30]:\n",
    "    outlier_inspect(df, col)"
   ]
  },
  {
   "cell_type": "markdown",
   "metadata": {},
   "source": [
    "**Evaluation**\n",
    "\n",
    "1. There is no missing value in this data set.\n",
    "2. When each feature is examined, although it is seen that there are outliers in the boxplots, it is evaluated that this dataset does not actually have an outlier.\n",
    "3. However, since it was considered that the data with a z-score value above 4.73 (IQR_coef = 3) according to the class type would adversely affect the model, so I decided to assign the Nan-Value to these data first and then drop them."
   ]
  },
  {
   "cell_type": "code",
   "execution_count": null,
   "metadata": {},
   "outputs": [],
   "source": [
    "IQR_coef = 3\n",
    "z_score = round(0.675 + IQR_coef*1.35, 2)\n",
    "z_score"
   ]
  },
  {
   "cell_type": "code",
   "execution_count": null,
   "metadata": {},
   "outputs": [],
   "source": [
    "z_score = 3\n",
    "iqr_coef = round((z_score - 0.675) / 1.35, 2)\n",
    "iqr_coef"
   ]
  },
  {
   "cell_type": "markdown",
   "metadata": {},
   "source": [
    "Let's create a new df before outlier operation."
   ]
  },
  {
   "cell_type": "code",
   "execution_count": null,
   "metadata": {},
   "outputs": [],
   "source": [
    "df_out = df.copy()"
   ]
  },
  {
   "cell_type": "code",
   "execution_count": null,
   "metadata": {},
   "outputs": [],
   "source": [
    "cprint(\"Shape of new df before outlier check\",'green', 'on_red', attrs=[\"bold\"])\n",
    "df_out.shape"
   ]
  },
  {
   "cell_type": "code",
   "execution_count": null,
   "metadata": {},
   "outputs": [],
   "source": [
    "cprint(\"Value counts of 'class' column before outlier check\",'green', 'on_red', attrs=[\"bold\"])\n",
    "df_out['class'].value_counts(dropna=False)"
   ]
  },
  {
   "cell_type": "code",
   "execution_count": null,
   "metadata": {},
   "outputs": [],
   "source": [
    "cprint(\"Missing value control before outlier check\",'green', 'on_red', attrs=[\"bold\"])\n",
    "missing_values(df_out)"
   ]
  },
  {
   "cell_type": "markdown",
   "metadata": {},
   "source": [
    "- 'num_outliers' function gives max/min threshold, number of data, number of outlier and plots its boxplot,\n",
    "according to the tree type and the entered z-score value for the relevant column.\n",
    "- We can see the number of outliers column by column below."
   ]
  },
  {
   "cell_type": "code",
   "execution_count": null,
   "metadata": {},
   "outputs": [],
   "source": [
    "for col in df_out.columns[:30]:\n",
    "    num_outliers(df_out, col, whis=3)"
   ]
  },
  {
   "cell_type": "markdown",
   "metadata": {},
   "source": [
    "- 'remove_outliers' function assigns the NaN-value first and then drop related rows, according to the class and the entered\n",
    "whis value and plots the boxplot for the relevant column."
   ]
  },
  {
   "cell_type": "code",
   "execution_count": null,
   "metadata": {},
   "outputs": [],
   "source": [
    "for col in df_out.columns[1:30]:\n",
    "    remove_outliers(df_out, col, whis=3)"
   ]
  },
  {
   "cell_type": "code",
   "execution_count": null,
   "metadata": {},
   "outputs": [],
   "source": [
    "cprint(\"Missing value control after outlier check\",'green', 'on_red', attrs=[\"bold\"])\n",
    "missing_values(df_out)"
   ]
  },
  {
   "cell_type": "code",
   "execution_count": null,
   "metadata": {},
   "outputs": [],
   "source": [
    "df_out.dropna(inplace=True)"
   ]
  },
  {
   "cell_type": "code",
   "execution_count": null,
   "metadata": {},
   "outputs": [],
   "source": [
    "cprint(\"Missing value control after outlier check\",'green', 'on_red', attrs=[\"bold\"])\n",
    "missing_values(df_out)"
   ]
  },
  {
   "cell_type": "code",
   "execution_count": null,
   "metadata": {},
   "outputs": [],
   "source": [
    "cprint(\"Shape of new df after outlier check\",'green', 'on_red', attrs=[\"bold\"])\n",
    "df_out.shape"
   ]
  },
  {
   "cell_type": "code",
   "execution_count": null,
   "metadata": {},
   "outputs": [],
   "source": [
    "cprint(\"Value counts of 'class' column after outlier check\",'green', 'on_red', attrs=[\"bold\"])\n",
    "df_out['class'].value_counts(dropna=False)"
   ]
  },
  {
   "cell_type": "markdown",
   "metadata": {
    "id": "tMOO7g-sMuHb"
   },
   "source": [
    "---\n",
    "---\n"
   ]
  },
  {
   "cell_type": "markdown",
   "metadata": {
    "id": "MwQdl4PdJQ0I"
   },
   "source": [
    "<a id=\"5\"></a>\n",
    "## <p style=\"background-color:#B61151; font-family:newtimeroman; color:#FFF9ED; font-size:150%; text-align:center; border-radius:10px 10px;\">5 - MODEL BUILDING WITHOUT SMOTE<p>\n",
    "<a href=\"#toc\" class=\"btn btn-primary btn-sm\" role=\"button\" aria-pressed=\"true\" \n",
    "style=\"color:blue; background-color:#dfa8e4\" data-toggle=\"popover\">Table of Contents</a>\n",
    "\n",
    "---------\n",
    "This dataset is severely unbalanced (most of the transactions are non-fraud). \n",
    "    \n",
    "We will make class prediction with three different algorithms. \n",
    "    \n",
    "It is important that we can evaluate the effectiveness of SMOTE. For this reason, implement the Logistic Regression and Random Forest Classifier algorithms in two different ways, with SMOTE applied and without."
   ]
  },
  {
   "cell_type": "code",
   "execution_count": null,
   "metadata": {},
   "outputs": [],
   "source": [
    "def eval(model, X_train, X_test):\n",
    "    y_pred = model.predict(X_test)\n",
    "    y_pred_train = model.predict(X_train)\n",
    "    \n",
    "    print(confusion_matrix(y_test, y_pred))\n",
    "    print(\"Test_Set\")\n",
    "    print(classification_report(y_test,y_pred))\n",
    "    print(\"Train_Set\")\n",
    "    print(classification_report(y_train,y_pred_train))\n",
    "    print(\"---\"*20)\n",
    "    plot_confusion_matrix(model, X_test, y_test, cmap=\"plasma\")"
   ]
  },
  {
   "cell_type": "code",
   "execution_count": null,
   "metadata": {
    "id": "g7GAK-u3MuHd"
   },
   "outputs": [],
   "source": [
    "def train_val(y_train, y_train_pred, y_test, y_pred):\n",
    "    \n",
    "    scores = {\"train_set\": {\"Accuracy\" : accuracy_score(y_train, y_train_pred),\n",
    "                            \"Precision\" : precision_score(y_train, y_train_pred),\n",
    "                            \"Recall\" : recall_score(y_train, y_train_pred),                          \n",
    "                            \"f1\" : f1_score(y_train, y_train_pred),\n",
    "                            \"roc_auc\" : roc_auc_score(y_train, y_train_pred),\n",
    "                            \"recall_auc\" : auc(recall, precision)},\n",
    "    \n",
    "              \"test_set\": {\"Accuracy\" : accuracy_score(y_test, y_pred),\n",
    "                           \"Precision\" : precision_score(y_test, y_pred),\n",
    "                           \"Recall\" : recall_score(y_test, y_pred),                          \n",
    "                           \"f1\" : f1_score(y_test, y_pred),\n",
    "                           \"roc_auc\" : roc_auc_score(y_test, y_pred),\n",
    "                           \"recall_auc\" : auc(recall, precision)}}\n",
    "    \n",
    "    return pd.DataFrame(scores)"
   ]
  },
  {
   "cell_type": "markdown",
   "metadata": {
    "id": "Yf6VvH6WMuHb"
   },
   "source": [
    "<a id=\"5.1\"></a>\n",
    "### <p style=\"background-color:#B61151; font-family:newtimeroman; color:#FFF9ED; font-size:150%; text-align:center; border-radius:10px 10px;\">5.1 Data Pre - Processing<p>\n",
    "<a href=\"#toc\" class=\"btn btn-primary btn-sm\" role=\"button\" aria-pressed=\"true\" \n",
    "style=\"color:blue; background-color:#dfa8e4\" data-toggle=\"popover\">Table of Contents</a>"
   ]
  },
  {
   "cell_type": "markdown",
   "metadata": {},
   "source": [
    "<a id=\"5.1.1\"></a>\n",
    "#### <p style=\"background-color:#9452a5; font-family:newtimeroman; color:#FFF9ED; font-size:150%; text-align:LEFT; border-radius:10px 10px;\">5.1.1 Scaling<p>\n",
    "\n",
    "<a href=\"#toc\" class=\"btn btn-primary btn-sm\" role=\"button\" aria-pressed=\"true\" \n",
    "style=\"color:blue; background-color:#dfa8e4\" data-toggle=\"popover\">Table of Contents</a>"
   ]
  },
  {
   "cell_type": "code",
   "execution_count": null,
   "metadata": {
    "cellView": "form",
    "id": "9YbdPguXMuHb"
   },
   "outputs": [],
   "source": [
    "df_ml = df_out.copy()"
   ]
  },
  {
   "cell_type": "code",
   "execution_count": null,
   "metadata": {},
   "outputs": [],
   "source": [
    "scaler = StandardScaler()\n",
    "\n",
    "df_ml[\"amount\"] = scaler.fit_transform(df_ml[\"amount\"].values.reshape(-1,1))\n",
    "df_ml[\"time\"] = scaler.fit_transform(df_ml[\"time\"].values.reshape(-1,1))"
   ]
  },
  {
   "cell_type": "markdown",
   "metadata": {
    "id": "hlm6gCsKMuHb"
   },
   "source": [
    "<a id=\"5.1.2\"></a>\n",
    "#### <p style=\"background-color:#9452a5; font-family:newtimeroman; color:#FFF9ED; font-size:150%; text-align:LEFT; border-radius:10px 10px;\">5.1.2 Train - Test Split<p>\n",
    "\n",
    "<a href=\"#toc\" class=\"btn btn-primary btn-sm\" role=\"button\" aria-pressed=\"true\" \n",
    "style=\"color:blue; background-color:#dfa8e4\" data-toggle=\"popover\">Table of Contents</a>"
   ]
  },
  {
   "cell_type": "code",
   "execution_count": null,
   "metadata": {},
   "outputs": [],
   "source": [
    "X = df_ml.drop(['class'], axis = 1)\n",
    "y = df_ml['class']"
   ]
  },
  {
   "cell_type": "code",
   "execution_count": null,
   "metadata": {
    "id": "AuzpxEmKMuHb"
   },
   "outputs": [],
   "source": [
    "X_train, X_test, y_train, y_test = train_test_split(X, y, stratify = y, test_size = 0.2, random_state = 42)"
   ]
  },
  {
   "cell_type": "code",
   "execution_count": null,
   "metadata": {},
   "outputs": [],
   "source": [
    "print('X_train.shape : ', X_train.shape)\n",
    "print('X_test.shape  : ', X_test.shape)"
   ]
  },
  {
   "cell_type": "code",
   "execution_count": null,
   "metadata": {},
   "outputs": [],
   "source": [
    "cprint('y_train.value_counts','green', 'on_red')\n",
    "y_train.value_counts()"
   ]
  },
  {
   "cell_type": "code",
   "execution_count": null,
   "metadata": {},
   "outputs": [],
   "source": [
    "cprint('y_test.value_counts','green', 'on_red')\n",
    "y_test.value_counts()"
   ]
  },
  {
   "cell_type": "markdown",
   "metadata": {},
   "source": [
    "<a id=\"5.2\"></a>\n",
    "### <p style=\"background-color:#B61151; font-family:newtimeroman; color:#FFF9ED; font-size:150%; text-align:center; border-radius:10px 10px;\">5.2 Logistic Regression without SMOTE<p>\n",
    "<a href=\"#toc\" class=\"btn btn-primary btn-sm\" role=\"button\" aria-pressed=\"true\" \n",
    "style=\"color:blue; background-color:#dfa8e4\" data-toggle=\"popover\">Table of Contents</a>"
   ]
  },
  {
   "cell_type": "markdown",
   "metadata": {
    "id": "6KD76bc5MuHd"
   },
   "source": [
    "<a id=\"5.2.1\"></a>\n",
    "#### <p style=\"background-color:#19D1D1; font-family:newtimeroman; color:#FFF9ED; font-size:150%; text-align:LEFT; border-radius:10px 10px;\">5.2.1 Model Building with Logistic Regression</p>\n",
    "\n",
    "<a href=\"#toc\" class=\"btn btn-primary btn-sm\" role=\"button\" aria-pressed=\"true\" \n",
    "style=\"color:blue; background-color:#79FAF4\" data-toggle=\"popover\">Table of Contents</a>"
   ]
  },
  {
   "cell_type": "code",
   "execution_count": null,
   "metadata": {},
   "outputs": [],
   "source": [
    "LogReg_model = LogisticRegression(class_weight = 'balanced', random_state = 42)\n",
    "LogReg_model.fit(X_train, y_train)\n",
    "y_pred = LogReg_model.predict(X_test)\n",
    "y_train_pred = LogReg_model.predict(X_train)"
   ]
  },
  {
   "cell_type": "markdown",
   "metadata": {},
   "source": [
    "<a id=\"5.2.2\"></a>\n",
    "#### <p style=\"background-color:#19D1D1; font-family:newtimeroman; color:#FFF9ED; font-size:150%; text-align:LEFT; border-radius:10px 10px;\">5.2.2 Evaluating Model Performance</p>\n",
    "\n",
    "<a href=\"#toc\" class=\"btn btn-primary btn-sm\" role=\"button\" aria-pressed=\"true\" \n",
    "style=\"color:blue; background-color:#79FAF4\" data-toggle=\"popover\">Table of Contents</a>"
   ]
  },
  {
   "cell_type": "code",
   "execution_count": null,
   "metadata": {},
   "outputs": [],
   "source": [
    "LogReg_model_f1 = f1_score(y_test, y_pred)\n",
    "LogReg_model_acc = accuracy_score(y_test, y_pred)\n",
    "LogReg_model_recall = recall_score(y_test, y_pred)\n",
    "LogReg_model_auc = roc_auc_score(y_test, y_pred)\n",
    "LogReg_model_pre = precision_score(y_test, y_pred)\n",
    "precision, recall, _ = precision_recall_curve(y_test, y_pred)\n",
    "LogReg_model_recall_auc = auc(recall, precision)"
   ]
  },
  {
   "cell_type": "code",
   "execution_count": null,
   "metadata": {},
   "outputs": [],
   "source": [
    "print(\"LogReg_Model\")\n",
    "print (\"------------------\")\n",
    "eval(LogReg_model, X_train, X_test)"
   ]
  },
  {
   "cell_type": "code",
   "execution_count": null,
   "metadata": {},
   "outputs": [],
   "source": [
    "cprint('LogReg_model Scores','green', 'on_red')\n",
    "train_val(y_train, y_train_pred, y_test, y_pred)"
   ]
  },
  {
   "cell_type": "code",
   "execution_count": null,
   "metadata": {},
   "outputs": [],
   "source": [
    "from yellowbrick.classifier import ClassPredictionError\n",
    "visualizer = ClassPredictionError(LogReg_model)\n",
    "# Fit the training data to the visualizer\n",
    "visualizer.fit(X_train, y_train)\n",
    "# Evaluate the model on the test data\n",
    "visualizer.score(X_test, y_test)\n",
    "# Draw visualization\n",
    "visualizer.poof();"
   ]
  },
  {
   "cell_type": "markdown",
   "metadata": {},
   "source": [
    "<a id=\"5.2.3\"></a>\n",
    "#### <p style=\"background-color:#19D1D1; font-family:newtimeroman; color:#FFF9ED; font-size:150%; text-align:LEFT; border-radius:10px 10px;\">5.2.3 Logistic Regression Cross Validation</p>\n",
    "\n",
    "<a href=\"#toc\" class=\"btn btn-primary btn-sm\" role=\"button\" aria-pressed=\"true\" \n",
    "style=\"color:blue; background-color:#79FAF4\" data-toggle=\"popover\">Table of Contents</a>"
   ]
  },
  {
   "cell_type": "code",
   "execution_count": null,
   "metadata": {},
   "outputs": [],
   "source": [
    "cprint('Cross Validation scores for Logistic Regression with default parameters','green', 'on_red')\n",
    "\n",
    "LogReg_cv = LogisticRegression(class_weight = 'balanced', random_state = 42)\n",
    "LogReg_cv_scores = cross_validate(LogReg_cv, X_train, y_train, \n",
    "                              scoring = ['accuracy', 'precision','recall', 'f1', 'roc_auc'], cv = 10)\n",
    "LogReg_cv_scores = pd.DataFrame(LogReg_cv_scores, index = range(1, 11))\n",
    "LogReg_cv_scores.mean()[2:]"
   ]
  },
  {
   "cell_type": "markdown",
   "metadata": {},
   "source": [
    "<a id=\"5.2.4\"></a>\n",
    "#### <p style=\"background-color:#19D1D1; font-family:newtimeroman; color:#FFF9ED; font-size:150%; text-align:LEFT; border-radius:10px 10px;\">5.2.4 Logistic Regression GridSearchCV</p>\n",
    "\n",
    "<a href=\"#toc\" class=\"btn btn-primary btn-sm\" role=\"button\" aria-pressed=\"true\" \n",
    "style=\"color:blue; background-color:#79FAF4\" data-toggle=\"popover\">Table of Contents</a>"
   ]
  },
  {
   "cell_type": "code",
   "execution_count": null,
   "metadata": {},
   "outputs": [],
   "source": [
    "param_grid = { \"class_weight\" : [\"balanced\", None],\n",
    "              'penalty': [\"l1\",\"l2\"],\n",
    "              'solver' : ['saga','lbfgs'],\n",
    "              }"
   ]
  },
  {
   "cell_type": "code",
   "execution_count": null,
   "metadata": {},
   "outputs": [],
   "source": [
    "LogReg_grid = LogisticRegression(class_weight = 'balanced', random_state = 42)\n",
    "LogReg_grid_model = GridSearchCV(LogReg_grid, param_grid, scoring = \"f1\", verbose = 2, n_jobs = -1).fit(X_train, y_train)"
   ]
  },
  {
   "cell_type": "code",
   "execution_count": null,
   "metadata": {},
   "outputs": [],
   "source": [
    "print(colored('\\033[1mBest Estimators of GridSearchCV for Logistic Regression Model:\\033[0m', 'blue'), colored(LogReg_grid_model.best_estimator_, 'red'))"
   ]
  },
  {
   "cell_type": "code",
   "execution_count": null,
   "metadata": {},
   "outputs": [],
   "source": [
    "print(colored('\\033[1mBest Parameters of GridSearchCV for Logistic Regression Model:\\033[0m', 'blue'), colored(LogReg_grid_model.best_params_, 'red'))"
   ]
  },
  {
   "cell_type": "code",
   "execution_count": null,
   "metadata": {},
   "outputs": [],
   "source": [
    "LogReg_tuned = LogisticRegression(class_weight = 'balanced',\n",
    "                                  penalty = 'l1', \n",
    "                                  solver = 'saga',\n",
    "                                  random_state = 42).fit(X_train, y_train)"
   ]
  },
  {
   "cell_type": "code",
   "execution_count": null,
   "metadata": {},
   "outputs": [],
   "source": [
    "y_pred = LogReg_tuned.predict(X_test)\n",
    "y_train_pred = LogReg_tuned.predict(X_train)\n",
    "\n",
    "\n",
    "LogReg_tuned_f1 = f1_score(y_test, y_pred)\n",
    "LogReg_tuned_acc = accuracy_score(y_test, y_pred)\n",
    "LogReg_tuned_recall = recall_score(y_test, y_pred)\n",
    "LogReg_tuned_auc = roc_auc_score(y_test, y_pred)\n",
    "LogReg_tuned_pre = precision_score(y_test, y_pred)\n",
    "LogReg_tuned_recall_auc = auc(recall, precision)\n",
    "precision, recall, _ = precision_recall_curve(y_test, y_pred)\n",
    "LogReg_tuned_recall_auc = auc(recall, precision)"
   ]
  },
  {
   "cell_type": "code",
   "execution_count": null,
   "metadata": {},
   "outputs": [],
   "source": [
    "print(\"LogReg_tuned\")\n",
    "print (\"------------------\")\n",
    "eval(LogReg_tuned, X_train, X_test)"
   ]
  },
  {
   "cell_type": "code",
   "execution_count": null,
   "metadata": {},
   "outputs": [],
   "source": [
    "cprint('Logistic Regression_tuned Scores','green', 'on_red')\n",
    "train_val(y_train, y_train_pred, y_test, y_pred)"
   ]
  },
  {
   "cell_type": "code",
   "execution_count": null,
   "metadata": {},
   "outputs": [],
   "source": [
    "from yellowbrick.classifier import ClassPredictionError\n",
    "visualizer = ClassPredictionError(LogReg_tuned)\n",
    "# Fit the training data to the visualizer\n",
    "visualizer.fit(X_train, y_train)\n",
    "# Evaluate the model on the test data\n",
    "visualizer.score(X_test, y_test)\n",
    "# Draw visualization\n",
    "visualizer.poof();"
   ]
  },
  {
   "cell_type": "markdown",
   "metadata": {},
   "source": [
    "<a id=\"5.2.5\"></a>\n",
    "#### <p style=\"background-color:#19D1D1; font-family:newtimeroman; color:#FFF9ED; font-size:150%; text-align:LEFT; border-radius:10px 10px;\">5.2.5 Logistic Regression ROC (Receiver Operating Curve) and AUC (Area Under Curve)</p>\n",
    "\n",
    "<a href=\"#toc\" class=\"btn btn-primary btn-sm\" role=\"button\" aria-pressed=\"true\" \n",
    "style=\"color:blue; background-color:#79FAF4\" data-toggle=\"popover\">Table of Contents</a>"
   ]
  },
  {
   "cell_type": "code",
   "execution_count": null,
   "metadata": {},
   "outputs": [],
   "source": [
    "cprint('roc_curve','green', 'on_red')\n",
    "plot_roc_curve(LogReg_tuned, X_test, y_test);"
   ]
  },
  {
   "cell_type": "code",
   "execution_count": null,
   "metadata": {},
   "outputs": [],
   "source": [
    "cprint('optimal_threshold for roc_curve','green', 'on_red')\n",
    "\n",
    "fp_rate, tp_rate, thresholds = roc_curve(y_test, y_pred_proba)\n",
    "optimal_idx = np.argmax(tp_rate - fp_rate)\n",
    "optimal_threshold = thresholds[optimal_idx]\n",
    "optimal_threshold"
   ]
  },
  {
   "cell_type": "code",
   "execution_count": null,
   "metadata": {},
   "outputs": [],
   "source": [
    "cprint('precision_recall_curve','green', 'on_red')\n",
    "plot_precision_recall_curve(LogReg_tuned, X_test, y_test);"
   ]
  },
  {
   "cell_type": "code",
   "execution_count": null,
   "metadata": {},
   "outputs": [],
   "source": [
    "cprint('optimal_threshold for precision_recall_curve','green', 'on_red')\n",
    "\n",
    "precisions, recalls, thresholds = precision_recall_curve(y_test, y_pred_proba)\n",
    "optimal_idx = np.argmax((2 * precisions * recalls) / (precisions + recalls))  \n",
    "optimal_threshold = thresholds[optimal_idx]\n",
    "optimal_threshold"
   ]
  },
  {
   "cell_type": "markdown",
   "metadata": {
    "id": "uvKAJVTNMuHd"
   },
   "source": [
    "<a id=\"5.2.6\"></a>\n",
    "#### <p style=\"background-color:#19D1D1; font-family:newtimeroman; color:#FFF9ED; font-size:150%; text-align:LEFT; border-radius:10px 10px;\">5.2.6 Prediction</p>\n",
    "\n",
    "<a href=\"#toc\" class=\"btn btn-primary btn-sm\" role=\"button\" aria-pressed=\"true\" \n",
    "style=\"color:blue; background-color:#79FAF4\" data-toggle=\"popover\">Table of Contents</a>"
   ]
  },
  {
   "cell_type": "code",
   "execution_count": null,
   "metadata": {},
   "outputs": [],
   "source": [
    "cprint('LogReg_tuned Predictions','green', 'on_red')\n",
    "LogReg_Pred = {\"Actual\": y_test, \"LogReg_Pred\":y_pred}\n",
    "LogReg_Pred = pd.DataFrame.from_dict(LogReg_Pred)\n",
    "LogReg_Pred.sample(5)"
   ]
  },
  {
   "cell_type": "code",
   "execution_count": null,
   "metadata": {},
   "outputs": [],
   "source": [
    "pd.crosstab(LogReg_Pred['Actual'], LogReg_Pred['LogReg_Pred'])"
   ]
  },
  {
   "cell_type": "code",
   "execution_count": null,
   "metadata": {},
   "outputs": [],
   "source": [
    "cprint('Predictions','green', 'on_red')\n",
    "Model_Preds = LogReg_Pred\n",
    "Model_Preds.sample(5)"
   ]
  },
  {
   "cell_type": "code",
   "execution_count": null,
   "metadata": {},
   "outputs": [],
   "source": [
    "# logistic_regression = pickle.dump(LogReg_tuned, open('logistic_Regression_Model(tuned)', 'wb'))"
   ]
  },
  {
   "cell_type": "markdown",
   "metadata": {},
   "source": [
    "<a id=\"5.3\"></a>\n",
    "### <p style=\"background-color:#B61151; font-family:newtimeroman; color:#FFF9ED; font-size:150%; text-align:center; border-radius:10px 10px;\">5.3 Random Forest Classifier without SMOTE<p>\n",
    "<a href=\"#toc\" class=\"btn btn-primary btn-sm\" role=\"button\" aria-pressed=\"true\" \n",
    "style=\"color:blue; background-color:#dfa8e4\" data-toggle=\"popover\">Table of Contents</a>"
   ]
  },
  {
   "cell_type": "markdown",
   "metadata": {},
   "source": [
    "<a id=\"5.3.1\"></a>\n",
    "#### <p style=\"background-color:#9452a5; font-family:newtimeroman; color:#FFF9ED; font-size:150%; text-align:LEFT; border-radius:10px 10px;\">5.3.1 Model Building with Random Forest Classifier<p>\n",
    "\n",
    "<a href=\"#toc\" class=\"btn btn-primary btn-sm\" role=\"button\" aria-pressed=\"true\" \n",
    "style=\"color:blue; background-color:#dfa8e4\" data-toggle=\"popover\">Table of Contents</a>"
   ]
  },
  {
   "cell_type": "code",
   "execution_count": null,
   "metadata": {},
   "outputs": [],
   "source": [
    "RF_model = RandomForestClassifier(class_weight = \"balanced\", random_state = 42)\n",
    "RF_model.fit(X_train, y_train)\n",
    "y_pred = RF_model.predict(X_test)\n",
    "y_train_pred = RF_model.predict(X_train)"
   ]
  },
  {
   "cell_type": "markdown",
   "metadata": {},
   "source": [
    "<a id=\"5.3.2\"></a>\n",
    "#### <p style=\"background-color:#19D1D1; font-family:newtimeroman; color:#FFF9ED; font-size:150%; text-align:LEFT; border-radius:10px 10px;\">5.3.2 Evaluating Model Performance</p>\n",
    "\n",
    "<a href=\"#toc\" class=\"btn btn-primary btn-sm\" role=\"button\" aria-pressed=\"true\" \n",
    "style=\"color:blue; background-color:#79FAF4\" data-toggle=\"popover\">Table of Contents</a>"
   ]
  },
  {
   "cell_type": "code",
   "execution_count": null,
   "metadata": {},
   "outputs": [],
   "source": [
    "RF_model_f1 = f1_score(y_test, y_pred)\n",
    "RF_model_acc = accuracy_score(y_test, y_pred)\n",
    "RF_model_recall = recall_score(y_test, y_pred)\n",
    "RF_model_auc = roc_auc_score(y_test, y_pred)\n",
    "RF_model_pre = precision_score(y_test, y_pred)\n",
    "precision, recall, _ = precision_recall_curve(y_test, y_pred)\n",
    "RF_model_recall_auc = auc(recall, precision)"
   ]
  },
  {
   "cell_type": "code",
   "execution_count": null,
   "metadata": {},
   "outputs": [],
   "source": [
    "print(\"RF_Model\")\n",
    "print (\"------------------\")\n",
    "eval(RF_model, X_train, X_test)"
   ]
  },
  {
   "cell_type": "code",
   "execution_count": null,
   "metadata": {},
   "outputs": [],
   "source": [
    "cprint('RF_model Scores','green', 'on_red')\n",
    "train_val(y_train, y_train_pred, y_test, y_pred)"
   ]
  },
  {
   "cell_type": "code",
   "execution_count": null,
   "metadata": {},
   "outputs": [],
   "source": [
    "from yellowbrick.classifier import ClassPredictionError\n",
    "visualizer = ClassPredictionError(RF_model)\n",
    "# Fit the training data to the visualizer\n",
    "visualizer.fit(X_train, y_train)\n",
    "# Evaluate the model on the test data\n",
    "visualizer.score(X_test, y_test)\n",
    "# Draw visualization\n",
    "visualizer.poof();"
   ]
  },
  {
   "cell_type": "markdown",
   "metadata": {},
   "source": [
    "<a id=\"5.3.3\"></a>\n",
    "#### <p style=\"background-color:#19D1D1; font-family:newtimeroman; color:#FFF9ED; font-size:150%; text-align:LEFT; border-radius:10px 10px;\">5.3.3 Feature Importance for Random Forest Model</p>\n",
    "\n",
    "<a href=\"#toc\" class=\"btn btn-primary btn-sm\" role=\"button\" aria-pressed=\"true\" \n",
    "style=\"color:blue; background-color:#79FAF4\" data-toggle=\"popover\">Table of Contents</a>"
   ]
  },
  {
   "cell_type": "code",
   "execution_count": null,
   "metadata": {},
   "outputs": [],
   "source": [
    "cprint('Random Forest Feature Importance','green', 'on_red')\n",
    "RF_feature_imp = pd.DataFrame(index=X.columns, data = RF_model.feature_importances_, columns = ['Importance']).sort_values(\"Importance\", ascending = False)\n",
    "RF_feature_imp"
   ]
  },
  {
   "cell_type": "code",
   "execution_count": null,
   "metadata": {},
   "outputs": [],
   "source": [
    "fig = px.bar(RF_feature_imp.sort_values('Importance', ascending = False), x = RF_feature_imp.sort_values('Importance', \n",
    "             ascending = False).index, y = 'Importance', title = \"Feature Importance\", \n",
    "             labels = dict(x = \"Features\", y =\"Feature_Importance\"))\n",
    "fig.show()"
   ]
  },
  {
   "cell_type": "markdown",
   "metadata": {},
   "source": [
    "<a id=\"5.3.4\"></a>\n",
    "#### <p style=\"background-color:#19D1D1; font-family:newtimeroman; color:#FFF9ED; font-size:150%; text-align:LEFT; border-radius:10px 10px;\">5.3.4 Random Forest Classifier Cross Validation</p>\n",
    "\n",
    "<a href=\"#toc\" class=\"btn btn-primary btn-sm\" role=\"button\" aria-pressed=\"true\" \n",
    "style=\"color:blue; background-color:#79FAF4\" data-toggle=\"popover\">Table of Contents</a>"
   ]
  },
  {
   "cell_type": "code",
   "execution_count": null,
   "metadata": {},
   "outputs": [],
   "source": [
    "cprint('Cross Validation scores for Random Forest with default parameters','green', 'on_red')\n",
    "RF_cv = RandomForestClassifier(class_weight = \"balanced\", random_state = 42)\n",
    "RF_cv_scores = cross_validate(RF_cv, X_train, y_train, \n",
    "                              scoring = ['accuracy', 'precision','recall', 'f1', 'roc_auc'], cv = 10)\n",
    "RF_cv_scores = pd.DataFrame(RF_cv_scores, index = range(1, 11))\n",
    "RF_cv_scores.mean()[2:]"
   ]
  },
  {
   "cell_type": "markdown",
   "metadata": {},
   "source": [
    "<a id=\"5.3.5\"></a>\n",
    "#### <p style=\"background-color:#19D1D1; font-family:newtimeroman; color:#FFF9ED; font-size:150%; text-align:LEFT; border-radius:10px 10px;\">5.3.5 Random Forest Classifier GridSearchCV</p>\n",
    "\n",
    "<a href=\"#toc\" class=\"btn btn-primary btn-sm\" role=\"button\" aria-pressed=\"true\" \n",
    "style=\"color:blue; background-color:#79FAF4\" data-toggle=\"popover\">Table of Contents</a>"
   ]
  },
  {
   "cell_type": "code",
   "execution_count": null,
   "metadata": {},
   "outputs": [],
   "source": [
    "param_grid = {'n_estimators' : [50, 100, 300],\n",
    "              'max_features' : [2, 3, 4],\n",
    "              'max_depth' : [3, 5, 7],\n",
    "              'min_samples_split' : [2, 5, 8]}"
   ]
  },
  {
   "cell_type": "code",
   "execution_count": null,
   "metadata": {},
   "outputs": [],
   "source": [
    "RF_grid = RandomForestClassifier(class_weight = 'balanced', random_state = 42)\n",
    "RF_grid_model = GridSearchCV(estimator = RF_grid, \n",
    "                             param_grid = param_grid, \n",
    "                             scoring = \"recall\", \n",
    "                             n_jobs = -1, verbose = 2)\n",
    "RF_grid_model.fit(X_train, y_train)"
   ]
  },
  {
   "cell_type": "code",
   "execution_count": null,
   "metadata": {},
   "outputs": [],
   "source": [
    "print(colored('\\033[1mBest Estimators of GridSearchCV for Random Forest Model:\\033[0m', 'blue'), colored(RF_grid_model.best_estimator_, 'red'))"
   ]
  },
  {
   "cell_type": "code",
   "execution_count": null,
   "metadata": {},
   "outputs": [],
   "source": [
    "print(colored('\\033[1mBest Parameters of GridSearchCV for Random Forest Model:\\033[0m', 'blue'), colored(RF_grid_model.best_params_, 'red'))"
   ]
  },
  {
   "cell_type": "code",
   "execution_count": null,
   "metadata": {},
   "outputs": [],
   "source": [
    "RF_tuned = RandomForestClassifier(class_weight = 'balanced',\n",
    "                                  max_depth = 5,\n",
    "                                  max_features = 2,\n",
    "                                  min_samples_split = 5,\n",
    "                                  n_estimators = 50,\n",
    "                                  random_state = 42).fit(X_train, y_train)"
   ]
  },
  {
   "cell_type": "code",
   "execution_count": null,
   "metadata": {},
   "outputs": [],
   "source": [
    "y_pred = RF_tuned.predict(X_test)\n",
    "y_train_pred = RF_tuned.predict(X_train)\n",
    "\n",
    "RF_tuned_f1 = f1_score(y_test, y_pred)\n",
    "RF_tuned_acc = accuracy_score(y_test, y_pred)\n",
    "RF_tuned_recall = recall_score(y_test, y_pred)\n",
    "RF_tuned_auc = roc_auc_score(y_test, y_pred)\n",
    "RF_tuned_pre = precision_score(y_test, y_pred)\n",
    "precision, recall, _ = precision_recall_curve(y_test, y_pred)\n",
    "RF_tuned_recall_auc = auc(recall, precision)"
   ]
  },
  {
   "cell_type": "code",
   "execution_count": null,
   "metadata": {},
   "outputs": [],
   "source": [
    "print(\"RF_tuned\")\n",
    "print (\"------------------\")\n",
    "eval(RF_tuned, X_train, X_test)"
   ]
  },
  {
   "cell_type": "code",
   "execution_count": null,
   "metadata": {},
   "outputs": [],
   "source": [
    "cprint('RF_tuned Scores','green', 'on_red')\n",
    "train_val(y_train, y_train_pred, y_test, y_pred)"
   ]
  },
  {
   "cell_type": "code",
   "execution_count": null,
   "metadata": {},
   "outputs": [],
   "source": [
    "from yellowbrick.classifier import ClassPredictionError\n",
    "visualizer = ClassPredictionError(RF_tuned)\n",
    "# Fit the training data to the visualizer\n",
    "visualizer.fit(X_train, y_train)\n",
    "# Evaluate the model on the test data\n",
    "visualizer.score(X_test, y_test)\n",
    "# Draw visualization\n",
    "visualizer.poof();"
   ]
  },
  {
   "cell_type": "markdown",
   "metadata": {},
   "source": [
    "<a id=\"5.3.6\"></a>\n",
    "#### <p style=\"background-color:#19D1D1; font-family:newtimeroman; color:#FFF9ED; font-size:150%; text-align:LEFT; border-radius:10px 10px;\">5.3.6 Random Forest Classifier ROC (Receiver Operating Curve) and AUC (Area Under Curve)</p>\n",
    "\n",
    "<a href=\"#toc\" class=\"btn btn-primary btn-sm\" role=\"button\" aria-pressed=\"true\" \n",
    "style=\"color:blue; background-color:#79FAF4\" data-toggle=\"popover\">Table of Contents</a>"
   ]
  },
  {
   "cell_type": "code",
   "execution_count": null,
   "metadata": {},
   "outputs": [],
   "source": [
    "cprint('roc_curve','green', 'on_red')\n",
    "plot_roc_curve(RF_tuned, X_test, y_test);"
   ]
  },
  {
   "cell_type": "code",
   "execution_count": null,
   "metadata": {},
   "outputs": [],
   "source": [
    "cprint('optimal_threshold for roc_curve','green', 'on_red')\n",
    "\n",
    "fp_rate, tp_rate, thresholds = roc_curve(y_test, y_pred_proba)\n",
    "optimal_idx = np.argmax(tp_rate - fp_rate)\n",
    "optimal_threshold = thresholds[optimal_idx]\n",
    "optimal_threshold"
   ]
  },
  {
   "cell_type": "code",
   "execution_count": null,
   "metadata": {},
   "outputs": [],
   "source": [
    "cprint('precision_recall_curve','green', 'on_red')\n",
    "plot_precision_recall_curve(RF_tuned, X_test, y_test);"
   ]
  },
  {
   "cell_type": "code",
   "execution_count": null,
   "metadata": {},
   "outputs": [],
   "source": [
    "cprint('optimal_threshold for precision_recall_curve','green', 'on_red')\n",
    "\n",
    "precisions, recalls, thresholds = precision_recall_curve(y_test, y_pred_proba)\n",
    "optimal_idx = np.argmax((2 * precisions * recalls) / (precisions + recalls))  \n",
    "optimal_threshold = thresholds[optimal_idx]\n",
    "optimal_threshold"
   ]
  },
  {
   "cell_type": "markdown",
   "metadata": {},
   "source": [
    "<a id=\"5.3.7\"></a>\n",
    "#### <p style=\"background-color:#19D1D1; font-family:newtimeroman; color:#FFF9ED; font-size:150%; text-align:LEFT; border-radius:10px 10px;\">5.3.7 Prediction</p>\n",
    "\n",
    "<a href=\"#toc\" class=\"btn btn-primary btn-sm\" role=\"button\" aria-pressed=\"true\" \n",
    "style=\"color:blue; background-color:#79FAF4\" data-toggle=\"popover\">Table of Contents</a>"
   ]
  },
  {
   "cell_type": "code",
   "execution_count": null,
   "metadata": {},
   "outputs": [],
   "source": [
    "cprint('RF_tuned Predictions','green', 'on_red')\n",
    "RF_Pred = {\"Actual\": y_test, \"RF_Pred\":y_pred}\n",
    "RF_Pred = pd.DataFrame.from_dict(RF_Pred)\n",
    "RF_Pred.sample(5)"
   ]
  },
  {
   "cell_type": "code",
   "execution_count": null,
   "metadata": {},
   "outputs": [],
   "source": [
    "pd.crosstab(RF_Pred['Actual'], RF_Pred['RF_Pred'])"
   ]
  },
  {
   "cell_type": "code",
   "execution_count": null,
   "metadata": {},
   "outputs": [],
   "source": [
    "cprint('Predictions','green', 'on_red')\n",
    "RF_Pred.drop(\"Actual\", axis = 1, inplace = True)\n",
    "Model_Preds = pd.merge(Model_Preds, RF_Pred, left_index = True, right_index = True)\n",
    "Model_Preds.sample(5)"
   ]
  },
  {
   "cell_type": "code",
   "execution_count": null,
   "metadata": {},
   "outputs": [],
   "source": [
    "# random_forest_classifier = pickle.dump(RF_tuned, open('random_forest_model(tuned)', 'wb'))"
   ]
  },
  {
   "cell_type": "markdown",
   "metadata": {
    "id": "WukW9Gb3MuHh"
   },
   "source": [
    "<a id=\"6\"></a>\n",
    "## <p style=\"background-color:#B61151; font-family:newtimeroman; color:#FFF9ED; font-size:150%; text-align:center; border-radius:10px 10px;\">6 - MODEL BUILDING WITH SMOTE<p>\n",
    "<a href=\"#toc\" class=\"btn btn-primary btn-sm\" role=\"button\" aria-pressed=\"true\" \n",
    "style=\"color:blue; background-color:#dfa8e4\" data-toggle=\"popover\">Table of Contents</a>\n",
    "    \n",
    "This dataset is severely **unbalanced** (most of the transactions are non-fraud). So the algorithms are much more likely to classify new observations to the majority class and high accuracy won't tell us anything. To address the problem of imbalanced dataset we can use undersampling and oversampling data approach techniques. Oversampling increases the number of minority class members in the training set. The advantage of oversampling is that no information from the original training set is lost unlike in undersampling, as all observations from the minority and majority classes are kept. On the other hand, it is prone to overfitting. \n",
    "\n",
    "There is a type of oversampling called **[SMOTE](https://www.geeksforgeeks.org/ml-handling-imbalanced-data-with-smote-and-near-miss-algorithm-in-python/)** (Synthetic Minority Oversampling Technique), which we are going to use to make our dataset balanced. It creates synthetic points from the minority class."
   ]
  },
  {
   "cell_type": "markdown",
   "metadata": {},
   "source": [
    "<a id=\"6.1\"></a>\n",
    "### <p style=\"background-color:#B61151; font-family:newtimeroman; color:#FFF9ED; font-size:150%; text-align:center; border-radius:10px 10px;\">6.1 Data Pre - Processing<p>\n",
    "<a href=\"#toc\" class=\"btn btn-primary btn-sm\" role=\"button\" aria-pressed=\"true\" \n",
    "style=\"color:blue; background-color:#dfa8e4\" data-toggle=\"popover\">Table of Contents</a>"
   ]
  },
  {
   "cell_type": "markdown",
   "metadata": {},
   "source": [
    "<a id=\"6.1.1\"></a>\n",
    "#### <p style=\"background-color:#9452a5; font-family:newtimeroman; color:#FFF9ED; font-size:150%; text-align:LEFT; border-radius:10px 10px;\">6.1.1 Scaling<p>\n",
    "\n",
    "<a href=\"#toc\" class=\"btn btn-primary btn-sm\" role=\"button\" aria-pressed=\"true\" \n",
    "style=\"color:blue; background-color:#dfa8e4\" data-toggle=\"popover\">Table of Contents</a>"
   ]
  },
  {
   "cell_type": "code",
   "execution_count": null,
   "metadata": {},
   "outputs": [],
   "source": [
    "from imblearn.over_sampling import SMOTE\n",
    "from imblearn.under_sampling import RandomUnderSampler\n",
    "from imblearn.pipeline import Pipeline"
   ]
  },
  {
   "cell_type": "code",
   "execution_count": null,
   "metadata": {},
   "outputs": [],
   "source": [
    "df_smote = df_out.copy()"
   ]
  },
  {
   "cell_type": "code",
   "execution_count": null,
   "metadata": {},
   "outputs": [],
   "source": [
    "scaler = StandardScaler()\n",
    "\n",
    "df_smote[\"amount\"] = scaler.fit_transform(df_ml[\"amount\"].values.reshape(-1,1))\n",
    "df_smote[\"time\"] = scaler.fit_transform(df_ml[\"time\"].values.reshape(-1,1))"
   ]
  },
  {
   "cell_type": "markdown",
   "metadata": {},
   "source": [
    "<a id=\"6.1.2\"></a>\n",
    "#### <p style=\"background-color:#9452a5; font-family:newtimeroman; color:#FFF9ED; font-size:150%; text-align:LEFT; border-radius:10px 10px;\">6.1.2 Applying SMOTE and Train - Test Split<p>\n",
    "\n",
    "<a href=\"#toc\" class=\"btn btn-primary btn-sm\" role=\"button\" aria-pressed=\"true\" \n",
    "style=\"color:blue; background-color:#dfa8e4\" data-toggle=\"popover\">Table of Contents</a>"
   ]
  },
  {
   "cell_type": "code",
   "execution_count": null,
   "metadata": {},
   "outputs": [],
   "source": [
    "X = df_smote.drop(['class'], axis = 1)\n",
    "y = df_smote['class']"
   ]
  },
  {
   "cell_type": "code",
   "execution_count": null,
   "metadata": {},
   "outputs": [],
   "source": [
    "over = SMOTE(sampling_strategy = {1: 10000})\n",
    "under = RandomUnderSampler(sampling_strategy = {0: 10000})\n",
    "steps = [('o', over), ('u', under)]\n",
    "pipeline = Pipeline(steps = steps)\n",
    "X, y = pipeline.fit_resample(X, y)"
   ]
  },
  {
   "cell_type": "code",
   "execution_count": null,
   "metadata": {},
   "outputs": [],
   "source": [
    "X_train, X_test, y_train, y_test = train_test_split(X, y, stratify = y, test_size = 0.2, random_state = 42)"
   ]
  },
  {
   "cell_type": "code",
   "execution_count": null,
   "metadata": {},
   "outputs": [],
   "source": [
    "print('X_train.shape : ', X_train.shape)\n",
    "print('X_test.shape  : ', X_test.shape)"
   ]
  },
  {
   "cell_type": "code",
   "execution_count": null,
   "metadata": {},
   "outputs": [],
   "source": [
    "cprint('y_train.value_counts','green', 'on_red')\n",
    "y_train.value_counts()"
   ]
  },
  {
   "cell_type": "code",
   "execution_count": null,
   "metadata": {},
   "outputs": [],
   "source": [
    "cprint('y_test.value_counts','green', 'on_red')\n",
    "y_test.value_counts()"
   ]
  },
  {
   "cell_type": "markdown",
   "metadata": {},
   "source": [
    "<a id=\"6.2\"></a>\n",
    "### <p style=\"background-color:#B61151; font-family:newtimeroman; color:#FFF9ED; font-size:150%; text-align:center; border-radius:10px 10px;\">6.2 Logistic Regression with SMOTE<p>\n",
    "<a href=\"#toc\" class=\"btn btn-primary btn-sm\" role=\"button\" aria-pressed=\"true\" \n",
    "style=\"color:blue; background-color:#dfa8e4\" data-toggle=\"popover\">Table of Contents</a>"
   ]
  },
  {
   "cell_type": "markdown",
   "metadata": {},
   "source": [
    "<a id=\"6.2.1\"></a>\n",
    "#### <p style=\"background-color:#19D1D1; font-family:newtimeroman; color:#FFF9ED; font-size:150%; text-align:LEFT; border-radius:10px 10px;\">6.2.1 Model Building with Logistic Regression</p>\n",
    "\n",
    "<a href=\"#toc\" class=\"btn btn-primary btn-sm\" role=\"button\" aria-pressed=\"true\" \n",
    "style=\"color:blue; background-color:#79FAF4\" data-toggle=\"popover\">Table of Contents</a>"
   ]
  },
  {
   "cell_type": "code",
   "execution_count": null,
   "metadata": {},
   "outputs": [],
   "source": [
    "LogReg_smote_model = LogisticRegression(class_weight = 'balanced', random_state = 42)\n",
    "LogReg_smote_model.fit(X_resampled, y_resampled)\n",
    "y_pred = LogReg_smote_model.predict(X_test)\n",
    "y_train_pred = LogReg_smote_model.predict(X_train)"
   ]
  },
  {
   "cell_type": "markdown",
   "metadata": {},
   "source": [
    "<a id=\"6.2.2\"></a>\n",
    "#### <p style=\"background-color:#19D1D1; font-family:newtimeroman; color:#FFF9ED; font-size:150%; text-align:LEFT; border-radius:10px 10px;\">6.2.2 Evaluating Model Performance</p>\n",
    "\n",
    "<a href=\"#toc\" class=\"btn btn-primary btn-sm\" role=\"button\" aria-pressed=\"true\" \n",
    "style=\"color:blue; background-color:#79FAF4\" data-toggle=\"popover\">Table of Contents</a>"
   ]
  },
  {
   "cell_type": "code",
   "execution_count": null,
   "metadata": {},
   "outputs": [],
   "source": [
    "LogReg_smote_model_f1 = f1_score(y_test, y_pred)\n",
    "LogReg_smote_model_acc = accuracy_score(y_test, y_pred)\n",
    "LogReg_smote_model_recall = recall_score(y_test, y_pred)\n",
    "LogReg_smote_model_auc = roc_auc_score(y_test, y_pred)\n",
    "LogReg_smote_model_pre = precision_score(y_test, y_pred)\n",
    "precision, recall, _ = precision_recall_curve(y_test, y_pred)\n",
    "LogReg_smote_model_recall_auc = auc(recall, precision)"
   ]
  },
  {
   "cell_type": "code",
   "execution_count": null,
   "metadata": {},
   "outputs": [],
   "source": [
    "print(\"LogRegSmote_Model\")\n",
    "print (\"------------------\")\n",
    "eval(LogReg_smote_model, X_train, X_test)"
   ]
  },
  {
   "cell_type": "code",
   "execution_count": null,
   "metadata": {},
   "outputs": [],
   "source": [
    "cprint('LogRegSmote_model Scores','green', 'on_red')\n",
    "train_val(y_train, y_train_pred, y_test, y_pred)"
   ]
  },
  {
   "cell_type": "code",
   "execution_count": null,
   "metadata": {},
   "outputs": [],
   "source": [
    "from yellowbrick.classifier import ClassPredictionError\n",
    "visualizer = ClassPredictionError(LogReg_smote_model)\n",
    "# Fit the training data to the visualizer\n",
    "visualizer.fit(X_train, y_train)\n",
    "# Evaluate the model on the test data\n",
    "visualizer.score(X_test, y_test)\n",
    "# Draw visualization\n",
    "visualizer.poof();"
   ]
  },
  {
   "cell_type": "markdown",
   "metadata": {},
   "source": [
    "<a id=\"6.2.3\"></a>\n",
    "#### <p style=\"background-color:#19D1D1; font-family:newtimeroman; color:#FFF9ED; font-size:150%; text-align:LEFT; border-radius:10px 10px;\">6.2.3 Logistic Regression Cross Validation</p>\n",
    "\n",
    "<a href=\"#toc\" class=\"btn btn-primary btn-sm\" role=\"button\" aria-pressed=\"true\" \n",
    "style=\"color:blue; background-color:#79FAF4\" data-toggle=\"popover\">Table of Contents</a>"
   ]
  },
  {
   "cell_type": "code",
   "execution_count": null,
   "metadata": {},
   "outputs": [],
   "source": [
    "cprint('Cross Validation scores for Logistic Regression with default parameters(SMOTE)','green', 'on_red')\n",
    "LogRegSmote_cv = LogisticRegression(class_weight = 'balanced', random_state = 42)\n",
    "LogRegSmote_cv_scores = cross_validate(LogRegSmote_cv, X_train, y_train, \n",
    "                              scoring = ['accuracy', 'precision','recall', 'f1', 'roc_auc'], cv = 10)\n",
    "LogRegSmote_cv_scores = pd.DataFrame(LogRegSmote_cv_scores, index = range(1, 11))\n",
    "LogRegSmote_cv_scores.mean()[2:]"
   ]
  },
  {
   "cell_type": "markdown",
   "metadata": {},
   "source": [
    "<a id=\"6.2.4\"></a>\n",
    "#### <p style=\"background-color:#19D1D1; font-family:newtimeroman; color:#FFF9ED; font-size:150%; text-align:LEFT; border-radius:10px 10px;\">6.2.4 Logistic Regression GridSearchCV</p>\n",
    "\n",
    "<a href=\"#toc\" class=\"btn btn-primary btn-sm\" role=\"button\" aria-pressed=\"true\" \n",
    "style=\"color:blue; background-color:#79FAF4\" data-toggle=\"popover\">Table of Contents</a>"
   ]
  },
  {
   "cell_type": "code",
   "execution_count": null,
   "metadata": {},
   "outputs": [],
   "source": [
    "param_grid = { \"class_weight\" : [\"balanced\", None],\n",
    "              'penalty': [\"l1\",\"l2\"],\n",
    "              'solver' : ['saga','lbfgs'],\n",
    "              }"
   ]
  },
  {
   "cell_type": "code",
   "execution_count": null,
   "metadata": {},
   "outputs": [],
   "source": [
    "LogRegSmote_grid = LogisticRegression(class_weight = 'balanced', random_state = 42)\n",
    "LogRegSmote_grid_model = GridSearchCV(LogRegSmote_grid, param_grid, scoring = \"f1\", verbose = 2, n_jobs = -1).fit(X_train, y_train)"
   ]
  },
  {
   "cell_type": "code",
   "execution_count": null,
   "metadata": {},
   "outputs": [],
   "source": [
    "print(colored('\\033[1mBest Estimators of GridSearchCV for Logistic Regression Model:\\033[0m', 'blue'), colored(LogRegSmote_grid_model.best_estimator_, 'red'))"
   ]
  },
  {
   "cell_type": "code",
   "execution_count": null,
   "metadata": {},
   "outputs": [],
   "source": [
    "print(colored('\\033[1mBest Parameters of GridSearchCV for Logistic Regression Model:\\033[0m', 'blue'), colored(LogRegSmote_grid_model.best_params_, 'red'))"
   ]
  },
  {
   "cell_type": "code",
   "execution_count": null,
   "metadata": {},
   "outputs": [],
   "source": [
    "LogRegSmote_tuned = LogisticRegression(class_weight = 'balanced',\n",
    "                                       penalty = 'l2', \n",
    "                                       solver = 'lbfgs',\n",
    "                                       random_state = 42).fit(X_train, y_train)"
   ]
  },
  {
   "cell_type": "code",
   "execution_count": null,
   "metadata": {},
   "outputs": [],
   "source": [
    "y_pred = LogRegSmote_tuned.predict(X_test)\n",
    "y_train_pred = LogRegSmote_tuned.predict(X_train)\n",
    "\n",
    "LogRegSmote_tuned_f1 = f1_score(y_test, y_pred)\n",
    "LogRegSmote_tuned_acc = accuracy_score(y_test, y_pred)\n",
    "LogRegSmote_tuned_recall = recall_score(y_test, y_pred)\n",
    "LogRegSmote_tuned_auc = roc_auc_score(y_test, y_pred)\n",
    "LogRegSmote_tuned_pre = precision_score(y_test, y_pred)\n",
    "precision, recall, _ = precision_recall_curve(y_test, y_pred)\n",
    "LogRegSmote_tuned_recall_auc = auc(recall, precision)"
   ]
  },
  {
   "cell_type": "code",
   "execution_count": null,
   "metadata": {},
   "outputs": [],
   "source": [
    "print(\"LogRegSmote_tuned\")\n",
    "print (\"------------------\")\n",
    "eval(LogRegSmote_tuned, X_train, X_test)"
   ]
  },
  {
   "cell_type": "code",
   "execution_count": null,
   "metadata": {},
   "outputs": [],
   "source": [
    "cprint('LogRegSmote_tuned Scores','green', 'on_red')\n",
    "train_val(y_train, y_train_pred, y_test, y_pred)"
   ]
  },
  {
   "cell_type": "code",
   "execution_count": null,
   "metadata": {},
   "outputs": [],
   "source": [
    "from yellowbrick.classifier import ClassPredictionError\n",
    "visualizer = ClassPredictionError(LogRegSmote_tuned)\n",
    "# Fit the training data to the visualizer\n",
    "visualizer.fit(X_train, y_train)\n",
    "# Evaluate the model on the test data\n",
    "visualizer.score(X_test, y_test)\n",
    "# Draw visualization\n",
    "visualizer.poof();"
   ]
  },
  {
   "cell_type": "markdown",
   "metadata": {},
   "source": [
    "<a id=\"6.2.5\"></a>\n",
    "#### <p style=\"background-color:#19D1D1; font-family:newtimeroman; color:#FFF9ED; font-size:150%; text-align:LEFT; border-radius:10px 10px;\">6.2.5 Logistic Regression ROC (Receiver Operating Curve) and AUC (Area Under Curve)</p>\n",
    "\n",
    "<a href=\"#toc\" class=\"btn btn-primary btn-sm\" role=\"button\" aria-pressed=\"true\" \n",
    "style=\"color:blue; background-color:#79FAF4\" data-toggle=\"popover\">Table of Contents</a>"
   ]
  },
  {
   "cell_type": "code",
   "execution_count": null,
   "metadata": {},
   "outputs": [],
   "source": [
    "cprint('roc_curve','green', 'on_red')\n",
    "plot_roc_curve(LogRegSmote_tuned, X_test, y_test);"
   ]
  },
  {
   "cell_type": "code",
   "execution_count": null,
   "metadata": {},
   "outputs": [],
   "source": [
    "cprint('precision_recall_curve','green', 'on_red')\n",
    "plot_precision_recall_curve(LogRegSmote_tuned, X_test, y_test);"
   ]
  },
  {
   "cell_type": "markdown",
   "metadata": {},
   "source": [
    "<a id=\"6.2.6\"></a>\n",
    "#### <p style=\"background-color:#19D1D1; font-family:newtimeroman; color:#FFF9ED; font-size:150%; text-align:LEFT; border-radius:10px 10px;\">6.2.6 Prediction</p>\n",
    "\n",
    "<a href=\"#toc\" class=\"btn btn-primary btn-sm\" role=\"button\" aria-pressed=\"true\" \n",
    "style=\"color:blue; background-color:#79FAF4\" data-toggle=\"popover\">Table of Contents</a>"
   ]
  },
  {
   "cell_type": "code",
   "execution_count": null,
   "metadata": {},
   "outputs": [],
   "source": [
    "cprint('LogRegSmote_tuned Predictions','green', 'on_red')\n",
    "LogRegSmote_Pred = {\"Actual\": y_test, \"LogRegSmote_Pred\":y_pred}\n",
    "LogRegSmote_Pred = pd.DataFrame.from_dict(LogRegSmote_Pred)\n",
    "LogRegSmote_Pred.sample(5)"
   ]
  },
  {
   "cell_type": "code",
   "execution_count": null,
   "metadata": {},
   "outputs": [],
   "source": [
    "pd.crosstab(LogRegSmote_Pred['Actual'], LogRegSmote_Pred['LogRegSmote_Pred'])"
   ]
  },
  {
   "cell_type": "code",
   "execution_count": null,
   "metadata": {},
   "outputs": [],
   "source": [
    "cprint('Predictions','green', 'on_red')\n",
    "LogRegSmote_Pred.drop(\"Actual\", axis = 1, inplace = True)\n",
    "Model_Preds = pd.merge(Model_Preds, LogRegSmote_Pred, left_index = True, right_index = True)\n",
    "Model_Preds.sample(5)"
   ]
  },
  {
   "cell_type": "code",
   "execution_count": null,
   "metadata": {},
   "outputs": [],
   "source": [
    "# logistic_regression_smote = pickle.dump(LogRegSmote_tuned, open('logistic_regression_smote(tuned)', 'wb'))"
   ]
  },
  {
   "cell_type": "markdown",
   "metadata": {},
   "source": [
    "<a id=\"6.3\"></a>\n",
    "### <p style=\"background-color:#B61151; font-family:newtimeroman; color:#FFF9ED; font-size:150%; text-align:center; border-radius:10px 10px;\">6.3 Random Forest Classifier with SMOTE<p>\n",
    "<a href=\"#toc\" class=\"btn btn-primary btn-sm\" role=\"button\" aria-pressed=\"true\" \n",
    "style=\"color:blue; background-color:#dfa8e4\" data-toggle=\"popover\">Table of Contents</a>"
   ]
  },
  {
   "cell_type": "markdown",
   "metadata": {},
   "source": [
    "<a id=\"6.3.1\"></a>\n",
    "#### <p style=\"background-color:#9452a5; font-family:newtimeroman; color:#FFF9ED; font-size:150%; text-align:LEFT; border-radius:10px 10px;\">6.3.1 Model Building with Random Forest Classifier<p>\n",
    "\n",
    "<a href=\"#toc\" class=\"btn btn-primary btn-sm\" role=\"button\" aria-pressed=\"true\" \n",
    "style=\"color:blue; background-color:#dfa8e4\" data-toggle=\"popover\">Table of Contents</a>"
   ]
  },
  {
   "cell_type": "code",
   "execution_count": null,
   "metadata": {},
   "outputs": [],
   "source": [
    "RF_smote_model = RandomForestClassifier(class_weight = \"balanced\", random_state = 42)\n",
    "RF_smote_model.fit(X_train, y_train)\n",
    "y_pred = RF_smote_model.predict(X_test)\n",
    "y_train_pred = RF_smote_model.predict(X_train)"
   ]
  },
  {
   "cell_type": "markdown",
   "metadata": {},
   "source": [
    "<a id=\"6.3.2\"></a>\n",
    "#### <p style=\"background-color:#19D1D1; font-family:newtimeroman; color:#FFF9ED; font-size:150%; text-align:LEFT; border-radius:10px 10px;\">6.3.2 Evaluating Model Performance</p>\n",
    "\n",
    "<a href=\"#toc\" class=\"btn btn-primary btn-sm\" role=\"button\" aria-pressed=\"true\" \n",
    "style=\"color:blue; background-color:#79FAF4\" data-toggle=\"popover\">Table of Contents</a>"
   ]
  },
  {
   "cell_type": "code",
   "execution_count": null,
   "metadata": {},
   "outputs": [],
   "source": [
    "RF_smote_model_f1 = f1_score(y_test, y_pred)\n",
    "RF_smote_model_acc = accuracy_score(y_test, y_pred)\n",
    "RF_smote_model_recall = recall_score(y_test, y_pred)\n",
    "RF_smote_model_auc = roc_auc_score(y_test, y_pred)\n",
    "RF_smote_model_pre = precision_score(y_test, y_pred)\n",
    "precision, recall, _ = precision_recall_curve(y_test, y_pred)\n",
    "RF_smote_model_recall_auc = auc(recall, precision)"
   ]
  },
  {
   "cell_type": "code",
   "execution_count": null,
   "metadata": {},
   "outputs": [],
   "source": [
    "print(\"RF_smote_model\")\n",
    "print (\"------------------\")\n",
    "eval(RF_smote_model, X_train, X_test)"
   ]
  },
  {
   "cell_type": "code",
   "execution_count": null,
   "metadata": {},
   "outputs": [],
   "source": [
    "cprint('RF_smote_model Scores','green', 'on_red')\n",
    "train_val(y_train, y_train_pred, y_test, y_pred)"
   ]
  },
  {
   "cell_type": "code",
   "execution_count": null,
   "metadata": {},
   "outputs": [],
   "source": [
    "from yellowbrick.classifier import ClassPredictionError\n",
    "visualizer = ClassPredictionError(RF_smote_model)\n",
    "# Fit the training data to the visualizer\n",
    "visualizer.fit(X_train, y_train)\n",
    "# Evaluate the model on the test data\n",
    "visualizer.score(X_test, y_test)\n",
    "# Draw visualization\n",
    "visualizer.poof();"
   ]
  },
  {
   "cell_type": "markdown",
   "metadata": {},
   "source": [
    "<a id=\"6.3.3\"></a>\n",
    "#### <p style=\"background-color:#19D1D1; font-family:newtimeroman; color:#FFF9ED; font-size:150%; text-align:LEFT; border-radius:10px 10px;\">6.3.3 Random Forest Classifier Cross Validation</p>\n",
    "\n",
    "<a href=\"#toc\" class=\"btn btn-primary btn-sm\" role=\"button\" aria-pressed=\"true\" \n",
    "style=\"color:blue; background-color:#79FAF4\" data-toggle=\"popover\">Table of Contents</a>"
   ]
  },
  {
   "cell_type": "code",
   "execution_count": null,
   "metadata": {},
   "outputs": [],
   "source": [
    "cprint('Cross Validation scores for Random Forest with default parameters(SMOTE)','green', 'on_red')\n",
    "RF_smote_cv = RandomForestClassifier(class_weight = \"balanced\", random_state = 42)\n",
    "RF_smote_cv_scores = cross_validate(RF_smote_cv, X_train, y_train, \n",
    "                              scoring = ['accuracy', 'precision','recall', 'f1', 'roc_auc'], cv = 10)\n",
    "RF_smote_cv_scores = pd.DataFrame(RF_smote_cv_scores, index = range(1, 11))\n",
    "RF_smote_cv_scores.mean()[2:]"
   ]
  },
  {
   "cell_type": "markdown",
   "metadata": {},
   "source": [
    "<a id=\"6.3.4\"></a>\n",
    "#### <p style=\"background-color:#19D1D1; font-family:newtimeroman; color:#FFF9ED; font-size:150%; text-align:LEFT; border-radius:10px 10px;\">6.3.4 Random Forest Classifier GridSearchCV</p>\n",
    "\n",
    "<a href=\"#toc\" class=\"btn btn-primary btn-sm\" role=\"button\" aria-pressed=\"true\" \n",
    "style=\"color:blue; background-color:#79FAF4\" data-toggle=\"popover\">Table of Contents</a>"
   ]
  },
  {
   "cell_type": "code",
   "execution_count": null,
   "metadata": {},
   "outputs": [],
   "source": [
    "param_grid = {'n_estimators' : [50, 100, 300],\n",
    "              'max_features' : [2, 3, 4],\n",
    "              'max_depth' : [3, 5, 7],\n",
    "              'min_samples_split' : [2, 5, 8]}"
   ]
  },
  {
   "cell_type": "code",
   "execution_count": null,
   "metadata": {},
   "outputs": [],
   "source": [
    "RF_smote_grid = RandomForestClassifier(class_weight = 'balanced', random_state = 42)\n",
    "RF_smote_grid_model = GridSearchCV(estimator = RF_grid, \n",
    "                             param_grid = param_grid, \n",
    "                             scoring = \"recall\", \n",
    "                             n_jobs = -1, verbose = 2)\n",
    "RF_smote_grid_model.fit(X_train, y_train)"
   ]
  },
  {
   "cell_type": "code",
   "execution_count": null,
   "metadata": {},
   "outputs": [],
   "source": [
    "print(colored('\\033[1mBest Estimators of GridSearchCV for Random Forest Smote Model:\\033[0m', 'blue'), colored(RF_smote_grid_model.best_estimator_, 'red'))"
   ]
  },
  {
   "cell_type": "code",
   "execution_count": null,
   "metadata": {},
   "outputs": [],
   "source": [
    "print(colored('\\033[1mBest Parameters of GridSearchCV for Random Forest Smote Model:\\033[0m', 'blue'), colored(RF_smote_grid_model.best_params_, 'red'))"
   ]
  },
  {
   "cell_type": "code",
   "execution_count": null,
   "metadata": {},
   "outputs": [],
   "source": [
    "RFSmote_tuned = RandomForestClassifier(class_weight = 'balanced',\n",
    "                                       max_depth = 7,\n",
    "                                       max_features = 4,\n",
    "                                       min_samples_split = 2,\n",
    "                                       n_estimators = 50,\n",
    "                                       random_state = 42).fit(X_train, y_train)"
   ]
  },
  {
   "cell_type": "code",
   "execution_count": null,
   "metadata": {},
   "outputs": [],
   "source": [
    "y_pred = RFSmote_tuned.predict(X_test)\n",
    "y_train_pred = RFSmote_tuned.predict(X_train)\n",
    "\n",
    "RFSmote_tuned_f1 = f1_score(y_test, y_pred)\n",
    "RFSmote_tuned_acc = accuracy_score(y_test, y_pred)\n",
    "RFSmote_tuned_recall = recall_score(y_test, y_pred)\n",
    "RFSmote_tuned_auc = roc_auc_score(y_test, y_pred)\n",
    "RFSmote_tuned_pre = precision_score(y_test, y_pred)\n",
    "precision, recall, _ = precision_recall_curve(y_test, y_pred)\n",
    "RFSmote_tuned_recall_auc = auc(recall, precision)"
   ]
  },
  {
   "cell_type": "code",
   "execution_count": null,
   "metadata": {},
   "outputs": [],
   "source": [
    "print(\"RFSmote_tuned\")\n",
    "print (\"------------------\")\n",
    "eval(RFSmote_tuned, X_train, X_test)"
   ]
  },
  {
   "cell_type": "code",
   "execution_count": null,
   "metadata": {},
   "outputs": [],
   "source": [
    "cprint('RFSmote_tuned Scores','green', 'on_red')\n",
    "train_val(y_train, y_train_pred, y_test, y_pred)"
   ]
  },
  {
   "cell_type": "code",
   "execution_count": null,
   "metadata": {},
   "outputs": [],
   "source": [
    "from yellowbrick.classifier import ClassPredictionError\n",
    "visualizer = ClassPredictionError(RFSmote_tuned)\n",
    "# Fit the training data to the visualizer\n",
    "visualizer.fit(X_train, y_train)\n",
    "# Evaluate the model on the test data\n",
    "visualizer.score(X_test, y_test)\n",
    "# Draw visualization\n",
    "visualizer.poof();"
   ]
  },
  {
   "cell_type": "markdown",
   "metadata": {},
   "source": [
    "<a id=\"6.3.5\"></a>\n",
    "#### <p style=\"background-color:#19D1D1; font-family:newtimeroman; color:#FFF9ED; font-size:150%; text-align:LEFT; border-radius:10px 10px;\">6.3.5 Random Forest Classifier ROC (Receiver Operating Curve) and AUC (Area Under Curve)</p>\n",
    "\n",
    "<a href=\"#toc\" class=\"btn btn-primary btn-sm\" role=\"button\" aria-pressed=\"true\" \n",
    "style=\"color:blue; background-color:#79FAF4\" data-toggle=\"popover\">Table of Contents</a>"
   ]
  },
  {
   "cell_type": "code",
   "execution_count": null,
   "metadata": {},
   "outputs": [],
   "source": [
    "cprint('roc_curve','green', 'on_red')\n",
    "plot_roc_curve(RFSmote_tuned, X_test, y_test);"
   ]
  },
  {
   "cell_type": "code",
   "execution_count": null,
   "metadata": {},
   "outputs": [],
   "source": [
    "cprint('precision_recall_curve','green', 'on_red')\n",
    "plot_precision_recall_curve(RFSmote_tuned, X_test, y_test);"
   ]
  },
  {
   "cell_type": "markdown",
   "metadata": {},
   "source": [
    "<a id=\"6.3.6\"></a>\n",
    "#### <p style=\"background-color:#19D1D1; font-family:newtimeroman; color:#FFF9ED; font-size:150%; text-align:LEFT; border-radius:10px 10px;\">6.3.6 Prediction</p>\n",
    "\n",
    "<a href=\"#toc\" class=\"btn btn-primary btn-sm\" role=\"button\" aria-pressed=\"true\" \n",
    "style=\"color:blue; background-color:#79FAF4\" data-toggle=\"popover\">Table of Contents</a>"
   ]
  },
  {
   "cell_type": "code",
   "execution_count": null,
   "metadata": {},
   "outputs": [],
   "source": [
    "cprint('RFSmote_tuned Predictions','green', 'on_red')\n",
    "RFSmote_Pred = {\"Actual\": y_test, \"RFSmote_Pred\":y_pred}\n",
    "RFSmote_Pred = pd.DataFrame.from_dict(RFSmote_Pred)\n",
    "RFSmote_Pred.sample(5)"
   ]
  },
  {
   "cell_type": "code",
   "execution_count": null,
   "metadata": {},
   "outputs": [],
   "source": [
    "pd.crosstab(RFSmote_Pred['Actual'], RFSmote_Pred['RFSmote_Pred'])"
   ]
  },
  {
   "cell_type": "code",
   "execution_count": null,
   "metadata": {},
   "outputs": [],
   "source": [
    "cprint('Predictions','green', 'on_red')\n",
    "RFSmote_Pred.drop(\"Actual\", axis = 1, inplace = True)\n",
    "Model_Preds = pd.merge(Model_Preds, RFSmote_Pred, left_index = True, right_index = True)\n",
    "Model_Preds.sample(10)"
   ]
  },
  {
   "cell_type": "code",
   "execution_count": null,
   "metadata": {},
   "outputs": [],
   "source": [
    "# random_forest_smote = pickle.dump(RFSmote_tuned, open('random_forest_smote(tuned)', 'wb'))"
   ]
  },
  {
   "cell_type": "markdown",
   "metadata": {
    "id": "ife6NlFRJQ0f"
   },
   "source": [
    "<a id=\"7\"></a>\n",
    "## <p style=\"background-color:#B61151; font-family:newtimeroman; color:#FFF9ED; font-size:150%; text-align:center; border-radius:10px 10px;\">7 - NEURAL NETWORK<p>\n",
    "<a href=\"#toc\" class=\"btn btn-primary btn-sm\" role=\"button\" aria-pressed=\"true\" \n",
    "style=\"color:blue; background-color:#dfa8e4\" data-toggle=\"popover\">Table of Contents</a>\n",
    "\n",
    "In the final step, we will make classification with Neural Network which is a Deep Learning algorithm. \n",
    "\n",
    "Neural networks are a series of algorithms that mimic the operations of a human brain to recognize relationships between vast amounts of data. They are used in a variety of applications in financial services, from forecasting and marketing research to fraud detection and risk assessment.\n",
    "\n",
    "A neural network contains layers of interconnected nodes. Each node is a perceptron and is similar to a multiple linear regression. The perceptron feeds the signal produced by a multiple linear regression into an activation function that may be nonlinear.\n",
    "\n",
    "In a multi-layered perceptron (MLP), perceptrons are arranged in interconnected layers. The input layer collects input patterns. The output layer has classifications or output signals to which input patterns may map. \n",
    "\n",
    "Hidden layers fine-tune the input weightings until the neural network’s margin of error is minimal. It is hypothesized that hidden layers extrapolate salient features in the input data that have predictive power regarding the outputs.\n",
    "\n",
    "We will discover **[how to create](https://towardsdatascience.com/building-our-first-neural-network-in-keras-bdc8abbc17f5)** your deep learning neural network model in Python using **[Keras](https://keras.io/about/)**. Keras is a powerful and easy-to-use free open source Python library for developing and evaluating deep learning models.\n",
    "\n",
    "- The steps we are going to cover for this algorithm are as follows:\n",
    "\n",
    "   *i. Import Libraries*\n",
    "   \n",
    "   *ii. Define Model*\n",
    "    \n",
    "   *iii. Compile Model*\n",
    "   \n",
    "   *iv. Fit Model*\n",
    "   \n",
    "   *v. Prediction and Model Evaluating*\n",
    "   \n",
    "   *vi. Plot Precision and Recall Curve*"
   ]
  },
  {
   "cell_type": "markdown",
   "metadata": {},
   "source": [
    "<a id=\"7.1\"></a>\n",
    "### <p style=\"background-color:#B61151; font-family:newtimeroman; color:#FFF9ED; font-size:150%; text-align:center; border-radius:10px 10px;\">7.1 Data Pre - Processing<p>\n",
    "<a href=\"#toc\" class=\"btn btn-primary btn-sm\" role=\"button\" aria-pressed=\"true\" \n",
    "style=\"color:blue; background-color:#dfa8e4\" data-toggle=\"popover\">Table of Contents</a>"
   ]
  },
  {
   "cell_type": "markdown",
   "metadata": {},
   "source": [
    "<a id=\"7.1.1\"></a>\n",
    "#### <p style=\"background-color:#B61151; font-family:newtimeroman; color:#FFF9ED; font-size:150%; text-align:center; border-radius:10px 10px;\">7.1.1 Scalling<p>\n",
    "<a href=\"#toc\" class=\"btn btn-primary btn-sm\" role=\"button\" aria-pressed=\"true\" \n",
    "style=\"color:blue; background-color:#dfa8e4\" data-toggle=\"popover\">Table of Contents</a>"
   ]
  },
  {
   "cell_type": "code",
   "execution_count": null,
   "metadata": {},
   "outputs": [],
   "source": [
    "df_dl = df_out.copy()"
   ]
  },
  {
   "cell_type": "code",
   "execution_count": null,
   "metadata": {},
   "outputs": [],
   "source": [
    "scaler = StandardScaler()\n",
    "\n",
    "df_dl[\"amount\"] = scaler.fit_transform(df_dl[\"amount\"].values.reshape(-1,1))\n",
    "df_dl[\"time\"] = scaler.fit_transform(df_dl[\"time\"].values.reshape(-1,1))"
   ]
  },
  {
   "cell_type": "markdown",
   "metadata": {},
   "source": [
    "<a id=\"7.1.2\"></a>\n",
    "#### <p style=\"background-color:#B61151; font-family:newtimeroman; color:#FFF9ED; font-size:150%; text-align:center; border-radius:10px 10px;\">7.1.2 Train - Test Split<p>\n",
    "<a href=\"#toc\" class=\"btn btn-primary btn-sm\" role=\"button\" aria-pressed=\"true\" \n",
    "style=\"color:blue; background-color:#dfa8e4\" data-toggle=\"popover\">Table of Contents</a>"
   ]
  },
  {
   "cell_type": "code",
   "execution_count": null,
   "metadata": {},
   "outputs": [],
   "source": [
    "X = df_dl.drop(['class'], axis = 1)\n",
    "y = df_dl['class']"
   ]
  },
  {
   "cell_type": "code",
   "execution_count": null,
   "metadata": {},
   "outputs": [],
   "source": [
    "X_train, X_test, y_train, y_test = train_test_split(X, y, stratify = y, test_size = 0.2, random_state = 42)"
   ]
  },
  {
   "cell_type": "code",
   "execution_count": null,
   "metadata": {},
   "outputs": [],
   "source": [
    "print('X_train.shape : ', X_train.shape)\n",
    "print('X_test.shape  : ', X_test.shape)"
   ]
  },
  {
   "cell_type": "code",
   "execution_count": null,
   "metadata": {},
   "outputs": [],
   "source": [
    "cprint('y_train.value_counts','green', 'on_red')\n",
    "print(\"-----\"*10)\n",
    "y_train.value_counts()"
   ]
  },
  {
   "cell_type": "code",
   "execution_count": null,
   "metadata": {},
   "outputs": [],
   "source": [
    "cprint('y_test.value_counts','green', 'on_red')\n",
    "print(\"-----\"*10)\n",
    "y_test.value_counts()"
   ]
  },
  {
   "cell_type": "markdown",
   "metadata": {},
   "source": [
    "<a id=\"7.2\"></a>\n",
    "### <p style=\"background-color:#B61151; font-family:newtimeroman; color:#FFF9ED; font-size:150%; text-align:center; border-radius:10px 10px;\">7.2 Import Libraries<p>\n",
    "<a href=\"#toc\" class=\"btn btn-primary btn-sm\" role=\"button\" aria-pressed=\"true\" \n",
    "style=\"color:blue; background-color:#dfa8e4\" data-toggle=\"popover\">Table of Contents</a>"
   ]
  },
  {
   "cell_type": "code",
   "execution_count": null,
   "metadata": {
    "executionInfo": {
     "elapsed": 1897,
     "status": "ok",
     "timestamp": 1610977899555,
     "user": {
      "displayName": "Owen l",
      "photoUrl": "",
      "userId": "01085249422681493006"
     },
     "user_tz": -180
    },
    "id": "LhEc3K9KMuHi"
   },
   "outputs": [],
   "source": [
    "from tensorflow.keras.models import Sequential\n",
    "from tensorflow.keras.layers import Dense, Activation\n",
    "from tensorflow.keras.callbacks import EarlyStopping\n",
    "from tensorflow.keras.optimizers import Adam, SGD, Adamax, RMSprop,Adadelta\n",
    "from tensorflow.keras.layers import Dropout\n",
    "from sklearn.utils import class_weight\n",
    "from sklearn.utils import compute_class_weight\n",
    "from tensorflow.keras.wrappers.scikit_learn import KerasClassifier\n",
    "from sklearn.metrics import classification_report, confusion_matrix\n",
    "# from sklearn.metrics import plot_roc_curve, roc_auc_score, roc_curve, average_precision_score\n",
    "from sklearn.metrics import roc_auc_score, roc_curve, average_precision_score\n",
    "from sklearn.model_selection import cross_val_score, cross_validate\n",
    "from sklearn.model_selection import GridSearchCV"
   ]
  },
  {
   "cell_type": "markdown",
   "metadata": {},
   "source": [
    "<a id=\"7.3\"></a>\n",
    "### <p style=\"background-color:#B61151; font-family:newtimeroman; color:#FFF9ED; font-size:150%; text-align:center; border-radius:10px 10px;\">7.3 Define Model<p>\n",
    "<a href=\"#toc\" class=\"btn btn-primary btn-sm\" role=\"button\" aria-pressed=\"true\" \n",
    "style=\"color:blue; background-color:#dfa8e4\" data-toggle=\"popover\">Table of Contents</a>"
   ]
  },
  {
   "cell_type": "code",
   "execution_count": null,
   "metadata": {
    "executionInfo": {
     "elapsed": 2582,
     "status": "ok",
     "timestamp": 1610977900244,
     "user": {
      "displayName": "Owen l",
      "photoUrl": "",
      "userId": "01085249422681493006"
     },
     "user_tz": -180
    },
    "id": "4okQmpRpMuHi"
   },
   "outputs": [],
   "source": [
    "dl_model = Sequential()\n",
    "\n",
    "dl_model.add(Dense(32, activation = \"relu\"))\n",
    "dl_model.add(Dropout(0.25))\n",
    "dl_model.add(Dense(16, activation = \"relu\"))\n",
    "dl_model.add(Dropout(0.25))\n",
    "dl_model.add(Dense(1, activation = \"sigmoid\"))"
   ]
  },
  {
   "cell_type": "markdown",
   "metadata": {},
   "source": [
    "<a id=\"7.4\"></a>\n",
    "### <p style=\"background-color:#B61151; font-family:newtimeroman; color:#FFF9ED; font-size:150%; text-align:center; border-radius:10px 10px;\">7.4 Compile Model<p>\n",
    "<a href=\"#toc\" class=\"btn btn-primary btn-sm\" role=\"button\" aria-pressed=\"true\" \n",
    "style=\"color:blue; background-color:#dfa8e4\" data-toggle=\"popover\">Table of Contents</a>"
   ]
  },
  {
   "cell_type": "code",
   "execution_count": null,
   "metadata": {},
   "outputs": [],
   "source": [
    "optimizer = Adam(lr = 0.001)\n",
    "dl_model.compile(loss = 'binary_crossentropy',\n",
    "                 optimizer = optimizer,\n",
    "                 metrics = [\"Recall\"])"
   ]
  },
  {
   "cell_type": "code",
   "execution_count": null,
   "metadata": {
    "executionInfo": {
     "elapsed": 2582,
     "status": "ok",
     "timestamp": 1610977900245,
     "user": {
      "displayName": "Owen l",
      "photoUrl": "",
      "userId": "01085249422681493006"
     },
     "user_tz": -180
    },
    "id": "f4W96rfHMuHi"
   },
   "outputs": [],
   "source": [
    "train_classes = y_train\n",
    "class_weights = compute_class_weight(\n",
    "                                        class_weight = \"balanced\",\n",
    "                                        classes = np.unique(train_classes),\n",
    "                                        y = train_classes                                                    \n",
    "                                    )\n",
    "class_weights = dict(zip(np.unique(train_classes), class_weights)),\n",
    "print(\"class_weights : \", class_weights)"
   ]
  },
  {
   "cell_type": "code",
   "execution_count": null,
   "metadata": {},
   "outputs": [],
   "source": [
    "early_stop = EarlyStopping(monitor = \"val_loss\", mode = \"auto\", verbose = 1, patience = 20, restore_best_weights = True)"
   ]
  },
  {
   "cell_type": "markdown",
   "metadata": {},
   "source": [
    "<a id=\"7.5\"></a>\n",
    "### <p style=\"background-color:#B61151; font-family:newtimeroman; color:#FFF9ED; font-size:150%; text-align:center; border-radius:10px 10px;\">7.5 Fit Model<p>\n",
    "<a href=\"#toc\" class=\"btn btn-primary btn-sm\" role=\"button\" aria-pressed=\"true\" \n",
    "style=\"color:blue; background-color:#dfa8e4\" data-toggle=\"popover\">Table of Contents</a>"
   ]
  },
  {
   "cell_type": "code",
   "execution_count": null,
   "metadata": {
    "scrolled": true
   },
   "outputs": [],
   "source": [
    "dl_model.fit(x = X_train, y = y_train, \n",
    "             validation_split = 0.1, \n",
    "             batch_size = 64, \n",
    "             epochs = 500, \n",
    "             verbose = 0, \n",
    "             callbacks = [early_stop], \n",
    "             class_weight = {0: 0.500766887790496, 1: 326.4929328621908})"
   ]
  },
  {
   "cell_type": "code",
   "execution_count": null,
   "metadata": {
    "executionInfo": {
     "elapsed": 2580,
     "status": "ok",
     "timestamp": 1610977900245,
     "user": {
      "displayName": "Owen l",
      "photoUrl": "",
      "userId": "01085249422681493006"
     },
     "user_tz": -180
    },
    "id": "cmkPKExFMuHj",
    "scrolled": true
   },
   "outputs": [],
   "source": [
    "dl_model.summary()"
   ]
  },
  {
   "cell_type": "markdown",
   "metadata": {},
   "source": [
    "<a id=\"7.6\"></a>\n",
    "### <p style=\"background-color:#B61151; font-family:newtimeroman; color:#FFF9ED; font-size:150%; text-align:center; border-radius:10px 10px;\">7.6 Evaluating Model Performance<p>\n",
    "<a href=\"#toc\" class=\"btn btn-primary btn-sm\" role=\"button\" aria-pressed=\"true\" \n",
    "style=\"color:blue; background-color:#dfa8e4\" data-toggle=\"popover\">Table of Contents</a>"
   ]
  },
  {
   "cell_type": "code",
   "execution_count": null,
   "metadata": {
    "executionInfo": {
     "elapsed": 2579,
     "status": "ok",
     "timestamp": 1610977900246,
     "user": {
      "displayName": "Owen l",
      "photoUrl": "",
      "userId": "01085249422681493006"
     },
     "user_tz": -180
    },
    "id": "wRi_uFjIMuHj"
   },
   "outputs": [],
   "source": [
    "cprint('DL_model loss_df','green', 'on_red')\n",
    "loss_df = pd.DataFrame(dl_model.history.history)\n",
    "loss_df.head(1)"
   ]
  },
  {
   "cell_type": "code",
   "execution_count": null,
   "metadata": {},
   "outputs": [],
   "source": [
    "cprint('DL_model loss_df','green', 'on_red')\n",
    "loss_df.plot();"
   ]
  },
  {
   "cell_type": "code",
   "execution_count": null,
   "metadata": {},
   "outputs": [],
   "source": [
    "cprint('DL_model Evaluation(train_set)','green', 'on_red')\n",
    "print(\"-----\"*10)\n",
    "dl_model.evaluate(X_train, y_train)"
   ]
  },
  {
   "cell_type": "code",
   "execution_count": null,
   "metadata": {},
   "outputs": [],
   "source": [
    "cprint('DL_model Evaluation(test_set)','green', 'on_red')\n",
    "print(\"-----\"*10)\n",
    "dl_model.evaluate(X_test, y_test)"
   ]
  },
  {
   "cell_type": "code",
   "execution_count": null,
   "metadata": {},
   "outputs": [],
   "source": [
    "cprint('DL_model loss & accuracy','green', 'on_red')\n",
    "print(\"-----\"*10)\n",
    "loss, accuracy = dl_model.evaluate(X_test, y_test, verbose=0)\n",
    "print(\"loss     : \", loss)\n",
    "print(\"accuracy : \", accuracy)"
   ]
  },
  {
   "cell_type": "code",
   "execution_count": null,
   "metadata": {},
   "outputs": [],
   "source": [
    "cprint('Confusion_Matrix & Classification_Report','green', 'on_red')\n",
    "print(\"-----\"*10)\n",
    "y_pred = (dl_model.predict(X_test) > 0.5).astype(\"int32\")\n",
    "#y_pred = model.predict_classes(X_test)\n",
    "print(confusion_matrix(y_test, y_pred))\n",
    "print(classification_report(y_test, y_pred))"
   ]
  },
  {
   "cell_type": "code",
   "execution_count": null,
   "metadata": {},
   "outputs": [],
   "source": [
    "y_pred_proba = dl_model.predict(X_test)\n",
    "\n",
    "DL_Acc = accuracy_score(y_test, y_pred)\n",
    "DL_AP = average_precision_score(y_test, y_pred_proba)\n",
    "DL_f1 = f1_score(y_test, y_pred)\n",
    "DL_rec = recall_score(y_test, y_pred)\n",
    "DL_roc_auc = roc_auc_score(y_test, y_pred_proba)\n",
    "DL_pre = precision_score(y_test, y_pred)\n",
    "precision, recall, _ = precision_recall_curve(y_test, y_pred)\n",
    "DL_recall_auc = auc(recall, precision)"
   ]
  },
  {
   "cell_type": "code",
   "execution_count": null,
   "metadata": {},
   "outputs": [],
   "source": [
    "cprint('DL_model Scores','green', 'on_red')\n",
    "print(\"-----\"*10)\n",
    "print(\"DL_Acc           :\", DL_Acc)\n",
    "print(\"DL_AP            :\", DL_AP)\n",
    "print(\"DL_f1            :\", DL_f1)\n",
    "print(\"DL_rec           :\", DL_rec)\n",
    "print(\"DL_roc_auc       :\", DL_roc_auc)\n",
    "print(\"DL_pre           :\", DL_pre)\n",
    "print(\"DL_recall_auc    :\", DL_recall_auc)"
   ]
  },
  {
   "cell_type": "markdown",
   "metadata": {
    "id": "_JAEDNkjMuHj"
   },
   "source": [
    "<a id=\"7.7\"></a>\n",
    "### <p style=\"background-color:#B61151; font-family:newtimeroman; color:#FFF9ED; font-size:150%; text-align:center; border-radius:10px 10px;\">7.7 Neural Network GridSearchCV<p>\n",
    "<a href=\"#toc\" class=\"btn btn-primary btn-sm\" role=\"button\" aria-pressed=\"true\" \n",
    "style=\"color:blue; background-color:#dfa8e4\" data-toggle=\"popover\">Table of Contents</a>"
   ]
  },
  {
   "cell_type": "code",
   "execution_count": null,
   "metadata": {},
   "outputs": [],
   "source": [
    "def build_classifier(optimizer):\n",
    "    classifier = Sequential()\n",
    "    classifier.add(Dense(units = 32, activation = 'relu'))\n",
    "    classifier.add(Dropout(0.25))\n",
    "    classifier.add(Dense(units = 16, activation = 'relu'))\n",
    "    classifier.add(Dropout(0.25))\n",
    "    classifier.add(Dense(units = 1, activation = 'sigmoid'))\n",
    "    classifier.compile(optimizer = optimizer, loss = 'binary_crossentropy', metrics = [\"Recall\"])\n",
    "    return classifier"
   ]
  },
  {
   "cell_type": "code",
   "execution_count": null,
   "metadata": {},
   "outputs": [],
   "source": [
    "print(\"class_weights : \", class_weights)"
   ]
  },
  {
   "cell_type": "code",
   "execution_count": null,
   "metadata": {},
   "outputs": [],
   "source": [
    "early_stop = EarlyStopping(monitor = \"loss\", mode = \"auto\", verbose = 1, patience = 20, restore_best_weights=True)"
   ]
  },
  {
   "cell_type": "code",
   "execution_count": null,
   "metadata": {
    "scrolled": true
   },
   "outputs": [],
   "source": [
    "classifier = KerasClassifier(build_fn = build_classifier, epochs = 20)\n",
    "parameters = {'batch_size': [32, 64],\n",
    "              'optimizer': ['adam', 'rmsprop', \"SGD\", \"adagrad\", \"adadelta\"]}\n",
    "grid_model = GridSearchCV(estimator = classifier,\n",
    "                          param_grid = parameters,\n",
    "                          scoring = 'recall',\n",
    "                          cv = 10,\n",
    "                          n_jobs = -1,\n",
    "                          verbose = 0)\n",
    "grid_model.fit(X_train, y_train, callbacks = [early_stop], class_weight = {0: 0.500766887790496, 1: 326.4929328621908})"
   ]
  },
  {
   "cell_type": "code",
   "execution_count": null,
   "metadata": {},
   "outputs": [],
   "source": [
    "print(\"grid_model.best_score_ :\", grid_model.best_score_)"
   ]
  },
  {
   "cell_type": "code",
   "execution_count": null,
   "metadata": {},
   "outputs": [],
   "source": [
    "print(\"grid_model.best_params_ :\", grid_model.best_params_)"
   ]
  },
  {
   "cell_type": "code",
   "execution_count": null,
   "metadata": {},
   "outputs": [],
   "source": [
    "y_test_pred = (grid_model.predict(X_test) > 0.5).astype(\"int32\")\n",
    "print(confusion_matrix(y_test, y_test_pred))\n",
    "print(classification_report(y_test, y_test_pred))"
   ]
  },
  {
   "cell_type": "code",
   "execution_count": null,
   "metadata": {},
   "outputs": [],
   "source": [
    "dl_tuned = Sequential()\n",
    "\n",
    "dl_tuned.add(Dense(32, activation = \"relu\"))\n",
    "dl_tuned.add(Dropout(0.25))\n",
    "dl_tuned.add(Dense(16, activation = \"relu\"))\n",
    "dl_tuned.add(Dropout(0.25))\n",
    "dl_tuned.add(Dense(1, activation = \"sigmoid\"))"
   ]
  },
  {
   "cell_type": "code",
   "execution_count": null,
   "metadata": {},
   "outputs": [],
   "source": [
    "optimizer = SGD(lr = 0.001)\n",
    "dl_tuned.compile(loss = 'binary_crossentropy',\n",
    "                 optimizer = optimizer,\n",
    "                 metrics = [\"Recall\"])"
   ]
  },
  {
   "cell_type": "code",
   "execution_count": null,
   "metadata": {},
   "outputs": [],
   "source": [
    "train_classes = y_train\n",
    "class_weights = compute_class_weight(\n",
    "                                        class_weight = \"balanced\",\n",
    "                                        classes = np.unique(train_classes),\n",
    "                                        y = train_classes                                                    \n",
    "                                    )\n",
    "class_weights = dict(zip(np.unique(train_classes), class_weights)),\n",
    "class_weights"
   ]
  },
  {
   "cell_type": "code",
   "execution_count": null,
   "metadata": {},
   "outputs": [],
   "source": [
    "early_stop = EarlyStopping(monitor = \"val_loss\", mode = \"auto\", verbose = 1, patience = 20, restore_best_weights = True)"
   ]
  },
  {
   "cell_type": "code",
   "execution_count": null,
   "metadata": {
    "scrolled": true
   },
   "outputs": [],
   "source": [
    "dl_tuned.fit(x = X_train, y = y_train, \n",
    "             validation_split = 0.1, \n",
    "             batch_size = 64, \n",
    "             epochs = 500, \n",
    "             verbose = 0, \n",
    "             callbacks = [early_stop], \n",
    "             class_weight = {0: 0.500766887790496, 1: 326.4929328621908})"
   ]
  },
  {
   "cell_type": "code",
   "execution_count": null,
   "metadata": {},
   "outputs": [],
   "source": [
    "dl_tuned.summary()"
   ]
  },
  {
   "cell_type": "code",
   "execution_count": null,
   "metadata": {},
   "outputs": [],
   "source": [
    "cprint('DL_tuned loss_df','green', 'on_red')\n",
    "loss_df = pd.DataFrame(dl_tuned.history.history)\n",
    "loss_df.head(1)"
   ]
  },
  {
   "cell_type": "code",
   "execution_count": null,
   "metadata": {},
   "outputs": [],
   "source": [
    "cprint('DL_tuned loss_df','green', 'on_red')\n",
    "loss_df.plot();"
   ]
  },
  {
   "cell_type": "code",
   "execution_count": null,
   "metadata": {},
   "outputs": [],
   "source": [
    "cprint('DL_tuned Evaluation(train_set)','green', 'on_red')\n",
    "print(\"-----\"*10)\n",
    "dl_tuned.evaluate(X_train, y_train)"
   ]
  },
  {
   "cell_type": "code",
   "execution_count": null,
   "metadata": {},
   "outputs": [],
   "source": [
    "cprint('DL_tuned Evaluation(test_set)','green', 'on_red')\n",
    "print(\"-----\"*10)\n",
    "dl_tuned.evaluate(X_test, y_test)"
   ]
  },
  {
   "cell_type": "code",
   "execution_count": null,
   "metadata": {},
   "outputs": [],
   "source": [
    "cprint('DL_tuned loss & accuracy','green', 'on_red')\n",
    "print(\"-----\"*10)\n",
    "loss, accuracy = dl_tuned.evaluate(X_test, y_test, verbose=0)\n",
    "print(\"loss     : \", loss)\n",
    "print(\"accuracy : \", accuracy)"
   ]
  },
  {
   "cell_type": "code",
   "execution_count": null,
   "metadata": {},
   "outputs": [],
   "source": [
    "cprint('Confusion_Matrix & Classification_Report','green', 'on_red')\n",
    "y_pred = (dl_tuned.predict(X_test) > 0.5).astype(\"int32\")\n",
    "#y_pred = model.predict_classes(X_test)\n",
    "print(confusion_matrix(y_test, y_pred))\n",
    "print(classification_report(y_test, y_pred))"
   ]
  },
  {
   "cell_type": "code",
   "execution_count": null,
   "metadata": {},
   "outputs": [],
   "source": [
    "y_pred_proba = dl_tuned.predict(X_test)\n",
    "\n",
    "DLTuned_Acc = accuracy_score(y_test, y_pred)\n",
    "DLTuned_AP = average_precision_score(y_test, y_pred_proba)\n",
    "DLTuned_f1 = f1_score(y_test, y_pred)\n",
    "DLTuned_rec = recall_score(y_test, y_pred)\n",
    "DLTuned_roc_auc = roc_auc_score(y_test, y_pred_proba)\n",
    "DLTuned_pre = precision_score(y_test, y_pred)\n",
    "precision, recall, _ = precision_recall_curve(y_test, y_pred)\n",
    "DLTuned_recall_auc = auc(recall, precision)"
   ]
  },
  {
   "cell_type": "code",
   "execution_count": null,
   "metadata": {},
   "outputs": [],
   "source": [
    "cprint('DL_model Scores','green', 'on_red')\n",
    "print(\"-----\"*10)\n",
    "print(\"DL_Tuned_Acc           :\", DLTuned_Acc)\n",
    "print(\"DL_Tuned_AP            :\", DLTuned_AP)\n",
    "print(\"DL_Tuned_f1            :\", DLTuned_f1)\n",
    "print(\"DL_Tuned_rec           :\", DLTuned_rec)\n",
    "print(\"DL_Tuned_roc_auc       :\", DLTuned_roc_auc)\n",
    "print(\"DL_Tuned_pre           :\", DLTuned_pre)\n",
    "print(\"DL_Tuned_recall_auc    :\", DLTuned_recall_auc)"
   ]
  },
  {
   "cell_type": "markdown",
   "metadata": {},
   "source": [
    "<a id=\"7.8\"></a>\n",
    "### <p style=\"background-color:#B61151; font-family:newtimeroman; color:#FFF9ED; font-size:150%; text-align:center; border-radius:10px 10px;\">7.8 Neural Network ROC (Receiver Operating Curve) & AUC (Area Under Curve)<p>\n",
    "<a href=\"#toc\" class=\"btn btn-primary btn-sm\" role=\"button\" aria-pressed=\"true\" \n",
    "style=\"color:blue; background-color:#dfa8e4\" data-toggle=\"popover\">Table of Contents</a>"
   ]
  },
  {
   "cell_type": "code",
   "execution_count": null,
   "metadata": {},
   "outputs": [],
   "source": [
    "fpr, tpr, thresholds = roc_curve(y_test, y_pred_proba)\n",
    "plt.plot([0,1],[0,1],'k--')\n",
    "plt.plot(fpr,tpr, label='ANN')\n",
    "plt.xlabel('False Positive Rate')\n",
    "plt.ylabel('True Positive Rate')\n",
    "plt.title('ROC Curve for Keras Model_Weighted')\n",
    "plt.show()"
   ]
  },
  {
   "cell_type": "code",
   "execution_count": null,
   "metadata": {},
   "outputs": [],
   "source": [
    "cprint('optimal_threshold for roc_curve','green', 'on_red')\n",
    "print(\"-----\"*10)\n",
    "fp_rate, tp_rate, thresholds = roc_curve(y_test, y_pred_proba)\n",
    "optimal_idx = np.argmax(tp_rate - fp_rate)\n",
    "optimal_threshold = thresholds[optimal_idx]\n",
    "optimal_threshold"
   ]
  },
  {
   "cell_type": "code",
   "execution_count": null,
   "metadata": {},
   "outputs": [],
   "source": [
    "y_pred_proba = dl_tuned.predict(X_test)\n",
    "precision, recall, thresholds = precision_recall_curve(y_test, y_pred_proba)\n",
    "plt.plot([0,1],[0,1],'k--')\n",
    "plt.plot(precision, recall)\n",
    "plt.xlabel('precision')\n",
    "plt.ylabel('recall')\n",
    "plt.title('Precision Recall Curve')\n",
    "plt.show()"
   ]
  },
  {
   "cell_type": "code",
   "execution_count": null,
   "metadata": {},
   "outputs": [],
   "source": [
    "cprint('optimal_threshold for precision_recall_curve','green', 'on_red')\n",
    "print(\"-----\"*10)\n",
    "precisions, recalls, thresholds = precision_recall_curve(y_test, y_pred_proba)\n",
    "optimal_idx = np.argmax((2 * precisions * recalls) / (precisions + recalls))  \n",
    "optimal_threshold = thresholds[optimal_idx]\n",
    "optimal_threshold"
   ]
  },
  {
   "cell_type": "markdown",
   "metadata": {},
   "source": [
    "<a id=\"7.9\"></a>\n",
    "### <p style=\"background-color:#B61151; font-family:newtimeroman; color:#FFF9ED; font-size:150%; text-align:center; border-radius:10px 10px;\">7.9 Prediction<p>\n",
    "<a href=\"#toc\" class=\"btn btn-primary btn-sm\" role=\"button\" aria-pressed=\"true\" \n",
    "style=\"color:blue; background-color:#dfa8e4\" data-toggle=\"popover\">Table of Contents</a>"
   ]
  },
  {
   "cell_type": "code",
   "execution_count": null,
   "metadata": {},
   "outputs": [],
   "source": [
    "# dl_tuned.save('neural_network(tuned).h5')"
   ]
  },
  {
   "cell_type": "markdown",
   "metadata": {},
   "source": [
    "<a id=\"7.9.1\"></a>\n",
    "#### <p style=\"background-color:#B61151; font-family:newtimeroman; color:#FFF9ED; font-size:150%; text-align:center; border-radius:10px 10px;\">7.9.1 Loading Model and Scaler<p>\n",
    "<a href=\"#toc\" class=\"btn btn-primary btn-sm\" role=\"button\" aria-pressed=\"true\" \n",
    "style=\"color:blue; background-color:#dfa8e4\" data-toggle=\"popover\">Table of Contents</a>"
   ]
  },
  {
   "cell_type": "code",
   "execution_count": null,
   "metadata": {},
   "outputs": [],
   "source": [
    "from tensorflow.keras.models import load_model"
   ]
  },
  {
   "cell_type": "code",
   "execution_count": null,
   "metadata": {},
   "outputs": [],
   "source": [
    "neural_network = load_model('neural_network(tuned).h5')"
   ]
  },
  {
   "cell_type": "code",
   "execution_count": null,
   "metadata": {},
   "outputs": [],
   "source": [
    "Actual = pd.DataFrame(y_test)\n",
    "Actual.head()"
   ]
  },
  {
   "cell_type": "code",
   "execution_count": null,
   "metadata": {},
   "outputs": [],
   "source": [
    "y_pred_proba[:5]"
   ]
  },
  {
   "cell_type": "code",
   "execution_count": null,
   "metadata": {},
   "outputs": [],
   "source": [
    "y_pred = (dl_model.predict(X_test) > 0.5).astype(\"int32\")\n",
    "y_pred[:5]"
   ]
  },
  {
   "cell_type": "code",
   "execution_count": null,
   "metadata": {},
   "outputs": [],
   "source": [
    "DL_pred.rename(columns = {0:'DL_Pred'}, inplace = True)\n",
    "DL_pred.head()"
   ]
  },
  {
   "cell_type": "code",
   "execution_count": null,
   "metadata": {},
   "outputs": [],
   "source": [
    "DL_pred[\"DL_Pred\"].apply(lambda x: 1 if x >= 0.5 else 0)"
   ]
  },
  {
   "cell_type": "code",
   "execution_count": null,
   "metadata": {},
   "outputs": [],
   "source": [
    "cprint('DL_tuned Predictions','green', 'on_red')\n",
    "DL_pred = pd.DataFrame(y_pred, index = Actual.index)\n",
    "DL_pred = pd.concat([Actual, DL_pred], axis=1)\n",
    "DL_pred.rename(columns = {'class':'Actual', 0:'DL_Pred'}, inplace = True)\n",
    "DL_pred.head()"
   ]
  },
  {
   "cell_type": "code",
   "execution_count": null,
   "metadata": {},
   "outputs": [],
   "source": [
    "DL_pred.sample(10)"
   ]
  },
  {
   "cell_type": "code",
   "execution_count": null,
   "metadata": {},
   "outputs": [],
   "source": [
    "pd.crosstab(DL_pred['Actual'], DL_pred['DL_Pred'])"
   ]
  },
  {
   "cell_type": "markdown",
   "metadata": {},
   "source": [
    "<a id=\"8\"></a>\n",
    "## <p style=\"background-color:#B61151; font-family:newtimeroman; color:#FFF9ED; font-size:150%; text-align:center; border-radius:10px 10px;\">8 - THE COMPARISON OF MODELS<p>\n",
    "<a href=\"#toc\" class=\"btn btn-primary btn-sm\" role=\"button\" aria-pressed=\"true\" \n",
    "style=\"color:blue; background-color:#dfa8e4\" data-toggle=\"popover\">Table of Contents</a>"
   ]
  },
  {
   "cell_type": "code",
   "execution_count": null,
   "metadata": {
    "scrolled": false
   },
   "outputs": [],
   "source": [
    "compare = pd.DataFrame({\"Model\": [\"LogReg_Model\", \"LogReg_Tuned\", \"RF_Model\", \"RF_Tuned\", \"LogRegSmote_Model\",\n",
    "                                  \"LogRegSmote_Tuned\", \"RFSmote_Model\", \"RFSmote_Tuned\", \"DL_Model\", \"DL_Tuned\"],\n",
    "                        \n",
    "                        \"Accuracy_Score\": [LogReg_model_acc, LogReg_tuned_acc, RF_model_acc, RF_tuned_acc, LogReg_smote_model_acc,\n",
    "                                  LogRegSmote_tuned_acc, RF_smote_model_acc, RFSmote_tuned_acc, DL_Acc, DLTuned_Acc],\n",
    "                        \n",
    "                        \"F1_Score\": [LogReg_model_f1, LogReg_tuned_f1, RF_model_f1, RF_tuned_f1, \n",
    "                                  LogReg_smote_model_f1, LogRegSmote_tuned_f1, RF_smote_model_f1, RFSmote_tuned_f1, DL_f1,\n",
    "                                  DLTuned_f1],\n",
    "                        \n",
    "                        \"Precision_Score\": [LogReg_model_pre, LogReg_tuned_pre, RF_model_pre, RF_tuned_pre, LogReg_smote_model_pre,\n",
    "                                  LogRegSmote_tuned_pre, RF_smote_model_pre, RFSmote_tuned_pre, DL_AP, DLTuned_AP],\n",
    "                                                 \n",
    "                        \"Recall_Score\": [LogReg_model_recall, LogReg_tuned_recall, RF_model_recall, RF_tuned_recall, \n",
    "                                  LogReg_smote_model_recall, LogRegSmote_tuned_recall, RF_smote_model_recall, RFSmote_tuned_recall,\n",
    "                                  DL_rec, DLTuned_rec],\n",
    "                        \n",
    "                        \"Roc_Auc_Score\": [LogReg_model_auc, LogReg_tuned_auc, RF_model_auc, RF_tuned_auc, LogReg_smote_model_auc,\n",
    "                                  LogRegSmote_tuned_auc, RF_smote_model_auc, RFSmote_tuned_auc, DL_roc_auc, DLTuned_roc_auc],\n",
    "                       \n",
    "                        \"Recall_Auc_Score\": [LogReg_model_recall_auc, LogReg_tuned_recall_auc, RF_model_recall_auc, \n",
    "                                  RF_tuned_recall_auc, LogReg_smote_model_recall_auc, LogRegSmote_tuned_recall_auc, \n",
    "                                  RF_smote_model_recall_auc, RFSmote_tuned_recall_auc, DL_recall_auc, DLTuned_recall_auc]})\n",
    "  \n",
    "    \n",
    "compare = compare.sort_values(by=\"Recall_Score\", ascending=True)\n",
    "fig = px.bar(compare, x = \"Recall_Score\", y = \"Model\", title = \"Recall_Score\")\n",
    "fig.show()\n",
    "\n",
    "compare = compare.sort_values(by=\"F1_Score\", ascending=True)\n",
    "fig = px.bar(compare, x = \"F1_Score\", y = \"Model\", title = \"F1_Score\")\n",
    "fig.show()\n",
    "\n",
    "compare = compare.sort_values(by=\"Roc_Auc_Score\", ascending=True)\n",
    "fig = px.bar(compare, x = \"Roc_Auc_Score\", y = \"Model\", title = \"Roc_Auc_Score\")\n",
    "fig.show()\n",
    "\n",
    "compare = compare.sort_values(by=\"Recall_Auc_Score\", ascending=True)\n",
    "fig = px.bar(compare, x = \"Recall_Auc_Score\", y = \"Model\", title = \"Recall_Auc_Score\")\n",
    "fig.show()\n",
    "\n",
    "compare = compare.sort_values(by=\"Precision_Score\", ascending=True)\n",
    "fig = px.bar(compare, x = \"Precision_Score\", y = \"Model\", title = \"Precision_Score\")\n",
    "fig.show()\n",
    "\n",
    "compare = compare.sort_values(by=\"Accuracy_Score\", ascending=True)\n",
    "fig = px.bar(compare, x = \"Accuracy_Score\", y = \"Model\", title = \"Accuracy_Score\")\n",
    "fig.show()"
   ]
  },
  {
   "cell_type": "code",
   "execution_count": null,
   "metadata": {},
   "outputs": [],
   "source": [
    "compare.sort_values(by=\"Recall_Score\", ascending=False)"
   ]
  },
  {
   "cell_type": "markdown",
   "metadata": {},
   "source": [
    "<a id=\"9\"></a>\n",
    "## <p style=\"background-color:#B61151; font-family:newtimeroman; color:#FFF9ED; font-size:150%; text-align:center; border-radius:10px 10px;\">9 - FINAL MODEL<p>\n",
    "<a href=\"#toc\" class=\"btn btn-primary btn-sm\" role=\"button\" aria-pressed=\"true\" \n",
    "style=\"color:blue; background-color:#dfa8e4\" data-toggle=\"popover\">Table of Contents</a>\n",
    "    \n",
    "For the final model, I will first look at the correlation values of the df_out columns and the feature importance values of the Random Forest Classifier default and tuned models created with SMOTE data above. "
   ]
  },
  {
   "cell_type": "code",
   "execution_count": null,
   "metadata": {
    "scrolled": false
   },
   "outputs": [],
   "source": [
    "df_out.corr()['class'].sort_values().drop('class').iplot(kind = 'barh', title = 'Correlation Between the Columns');"
   ]
  },
  {
   "cell_type": "code",
   "execution_count": null,
   "metadata": {},
   "outputs": [],
   "source": [
    "RFSmote_feature_imp = pd.DataFrame(index=X.columns, data = RF_smote_model.feature_importances_, columns = ['Importance']).sort_values(\"Importance\", ascending = False)\n",
    "\n",
    "fig = px.bar(RFSmote_feature_imp.sort_values('Importance', ascending = False), x = RFSmote_feature_imp.sort_values('Importance', \n",
    "             ascending = False).index, y = 'Importance', title = \"RFSmote Feature_Importance\", \n",
    "             labels = dict(x = \"Features\", y =\"Importance\"))\n",
    "fig.show()"
   ]
  },
  {
   "cell_type": "code",
   "execution_count": null,
   "metadata": {},
   "outputs": [],
   "source": [
    "RFSmote_tuned_feature_imp = pd.DataFrame(index=X.columns, data = RFSmote_tuned.feature_importances_, columns = ['Importance']).sort_values(\"Importance\", ascending = False)\n",
    "\n",
    "fig = px.bar(RFSmote_tuned_feature_imp.sort_values('Importance', ascending = False), x = RFSmote_tuned_feature_imp.sort_values('Importance', \n",
    "             ascending = False).index, y = 'Importance', title = \"RFSmote_tuned Feature_Importance\", \n",
    "             labels = dict(x = \"Features\", y =\"Importance\"))\n",
    "fig.show()"
   ]
  },
  {
   "cell_type": "markdown",
   "metadata": {},
   "source": [
    "Based on the above values, I create the data for my final model with the following columns. "
   ]
  },
  {
   "cell_type": "code",
   "execution_count": null,
   "metadata": {},
   "outputs": [],
   "source": [
    "df_deploy = df_out[['v2', 'v3', 'v4', 'v7', 'v10', 'v11', 'v12', 'v14', 'v16', 'v17', 'class']].copy()\n",
    "df_deploy.head(1)"
   ]
  },
  {
   "cell_type": "code",
   "execution_count": null,
   "metadata": {},
   "outputs": [],
   "source": [
    "X = df_deploy.drop(['class'], axis = 1)\n",
    "y = df_deploy['class']"
   ]
  },
  {
   "cell_type": "code",
   "execution_count": null,
   "metadata": {},
   "outputs": [],
   "source": [
    "from imblearn.over_sampling import SMOTE\n",
    "from imblearn.under_sampling import RandomUnderSampler\n",
    "from imblearn.pipeline import Pipeline\n",
    "\n",
    "over = SMOTE(sampling_strategy = {1: 10000})\n",
    "under = RandomUnderSampler(sampling_strategy = {0: 10000})\n",
    "steps = [('o', over), ('u', under)]\n",
    "pipeline = Pipeline(steps = steps)\n",
    "X, y = pipeline.fit_resample(X, y)"
   ]
  },
  {
   "cell_type": "code",
   "execution_count": null,
   "metadata": {},
   "outputs": [],
   "source": [
    "X_train, X_test, y_train, y_test = train_test_split(X, y, stratify = y, test_size = 0.2, random_state = 42)"
   ]
  },
  {
   "cell_type": "code",
   "execution_count": null,
   "metadata": {},
   "outputs": [],
   "source": [
    "print('X_train.shape : ', X_train.shape)\n",
    "print('X_test.shape  : ', X_test.shape)"
   ]
  },
  {
   "cell_type": "code",
   "execution_count": null,
   "metadata": {},
   "outputs": [],
   "source": [
    "cprint('y_train.value_counts','green', 'on_red')\n",
    "y_train.value_counts()"
   ]
  },
  {
   "cell_type": "code",
   "execution_count": null,
   "metadata": {},
   "outputs": [],
   "source": [
    "cprint('y_test.value_counts','green', 'on_red')\n",
    "y_test.value_counts()"
   ]
  },
  {
   "cell_type": "markdown",
   "metadata": {},
   "source": [
    "I obtained the best parameters with GridSearch above for Logistic Regression and Random Forest Classifier. I want to get a final score by running these models with best parameters and other models with default parameters. "
   ]
  },
  {
   "cell_type": "code",
   "execution_count": null,
   "metadata": {
    "scrolled": false
   },
   "outputs": [],
   "source": [
    "models = []\n",
    "\n",
    "models.append((\"LogReg_Deploy\", LogisticRegression(class_weight = 'balanced',\n",
    "                                                   penalty = 'l2', \n",
    "                                                   solver = 'lbfgs',\n",
    "                                                   random_state = 42)))\n",
    "models.append((\"RandomForest_Deploy\", RandomForestClassifier(class_weight = 'balanced',\n",
    "                                                             max_depth = 7,\n",
    "                                                             max_features = 4,\n",
    "                                                             min_samples_split = 2,\n",
    "                                                             n_estimators = 50,\n",
    "                                                             random_state = 42)))\n",
    "models.append((\"KNN_trial\", KNeighborsClassifier()))\n",
    "models.append((\"SVC_trial\", SVC(class_weight=\"balanced\", random_state=42)))\n",
    "models.append((\"DTC_trial\", DecisionTreeClassifier(class_weight=\"balanced\", random_state=42)))\n",
    "models.append((\"ADA_trial\", AdaBoostClassifier(random_state=42)))\n",
    "models.append((\"GBC_trial\", GradientBoostingClassifier(random_state=42)))\n",
    "models.append((\"XGB_trial\", XGBClassifier(random_state=42, verbosity = 0)))\n",
    "models.append((\"LGB_trial\", LGBMClassifier(random_state=42)))\n",
    "\n",
    "# evaluate each model in turn\n",
    "\n",
    "results = []\n",
    "names = []\n",
    "f1_scores = []\n",
    "recall_scores = []\n",
    "roc_auc_scores = []\n",
    "\n",
    "for name, model in models:\n",
    "        \n",
    "    kfold = StratifiedKFold(n_splits=10, shuffle=True)\n",
    "    cv_results = cross_val_score(model, X_train, y_train, cv=kfold, scoring=\"recall\")\n",
    "\n",
    "    results.append(cv_results)\n",
    "    names.append(name)\n",
    "\n",
    "    print(f\"{name} MODEL: {round(cv_results.mean(), 4)}\")\n",
    "        \n",
    "    y_pred = model.fit(X_train, y_train).predict(X_test)\n",
    "\n",
    "    f1_scores.append(f1_score(y_test, y_pred))\n",
    "    recall_scores.append(recall_score(y_test, y_pred))\n",
    "    roc_auc_scores.append(roc_auc_score(y_test, y_pred))    \n",
    "\n",
    "result_df = pd.DataFrame(results, columns=[i for i in range(1, 11)], index=names).T\n",
    "result_df.iplot(kind=\"box\", boxpoints=\"all\", title=\"CV Results\")\n",
    "\n",
    "compare = pd.DataFrame({\"F1\": f1_scores,\n",
    "                        \"Recall\": recall_scores,\n",
    "                        \"ROC AUC\": roc_auc_scores                        \n",
    "                       }, index=names)\n",
    "\n",
    "for score in compare.columns:\n",
    "    compare[score].sort_values().iplot(kind=\"barh\", title=f\"{score} Score\")\n",
    "    \n",
    "compare"
   ]
  },
  {
   "cell_type": "markdown",
   "metadata": {},
   "source": [
    "The scores of the other models I ran with the default parameters are very good.\n",
    "However, I'll go with Logistic Regression and Random Forest Classifier for model deployment. "
   ]
  },
  {
   "cell_type": "markdown",
   "metadata": {},
   "source": [
    "**Final Model with Logistic Regression (With Feature Importance and SMOTE)**"
   ]
  },
  {
   "cell_type": "code",
   "execution_count": null,
   "metadata": {},
   "outputs": [],
   "source": [
    "LogReg_Deploy = LogisticRegression(class_weight = 'balanced',\n",
    "                                         penalty = 'l2', \n",
    "                                         solver = 'lbfgs',\n",
    "                                         random_state = 42).fit(X_train, y_train)\n",
    "\n",
    "y_pred = LogReg_Deploy.predict(X_test)\n",
    "y_train_pred = LogReg_Deploy.predict(X_train)\n",
    "\n",
    "LogReg_Deploy_f1 = f1_score(y_test, y_pred)\n",
    "LogReg_Deploy_acc = accuracy_score(y_test, y_pred)\n",
    "LogReg_Deploy_recall = recall_score(y_test, y_pred)\n",
    "LogReg_Deploy_auc = roc_auc_score(y_test, y_pred)\n",
    "LogReg_Deploy_pre = precision_score(y_test, y_pred)\n",
    "precision, recall, _ = precision_recall_curve(y_test, y_pred)\n",
    "LogReg_Deploy_recall_auc = auc(recall, precision)\n",
    "\n",
    "print(\"LogReg_Deploy\")\n",
    "print (\"------------------\")\n",
    "eval(LogReg_Deploy, X_train, X_test)"
   ]
  },
  {
   "cell_type": "markdown",
   "metadata": {},
   "source": [
    "**Final Model with Random Forest Classifier (With Feature Importance and SMOTE)**"
   ]
  },
  {
   "cell_type": "code",
   "execution_count": null,
   "metadata": {},
   "outputs": [],
   "source": [
    "RandomForest_Deploy = RandomForestClassifier(class_weight = 'balanced',\n",
    "                                       max_depth = 7,\n",
    "                                       max_features = 4,\n",
    "                                       min_samples_split = 2,\n",
    "                                       n_estimators = 50,\n",
    "                                       random_state = 42).fit(X_train, y_train)\n",
    "\n",
    "y_pred = RandomForest_Deploy.predict(X_test)\n",
    "y_train_pred = RandomForest_Deploy.predict(X_train)\n",
    "\n",
    "RandomForest_Deploy_f1 = f1_score(y_test, y_pred)\n",
    "RandomForest_Deploy_acc = accuracy_score(y_test, y_pred)\n",
    "RandomForest_Deploy_recall = recall_score(y_test, y_pred)\n",
    "RandomForest_Deploy_auc = roc_auc_score(y_test, y_pred)\n",
    "RandomForest_Deploy_pre = precision_score(y_test, y_pred)\n",
    "precision, recall, _ = precision_recall_curve(y_test, y_pred)\n",
    "RandomForest_Deploy_recall_auc = auc(recall, precision)\n",
    "\n",
    "print(\"RandomForest_Deploy\")\n",
    "print (\"------------------\")\n",
    "eval(RandomForest_Deploy, X_train, X_test)"
   ]
  },
  {
   "cell_type": "markdown",
   "metadata": {},
   "source": [
    "<a id=\"10\"></a>\n",
    "## <p style=\"background-color:#B61151; font-family:newtimeroman; color:#FFF9ED; font-size:150%; text-align:center; border-radius:10px 10px;\">10 - MODEL DEPLOYMENT<p>\n",
    "<a href=\"#toc\" class=\"btn btn-primary btn-sm\" role=\"button\" aria-pressed=\"true\" \n",
    "style=\"color:blue; background-color:#dfa8e4\" data-toggle=\"popover\">Table of Contents</a>\n",
    "    \n",
    "You cooked the food in the kitchen and moved on to the serving stage. The question is how do you showcase your work to others? Model Deployment helps you showcase your work to the world and make better decisions with it. But, deploying a model can get a little tricky at times. Before deploying the model, many things such as data storage, preprocessing, model building and monitoring need to be studied.\n",
    "\n",
    "Deployment of machine learning models, means making your models available to your other business systems. By deploying models, other systems can send data to them and get their predictions, which are in turn populated back into the company systems. Through machine learning model deployment, can begin to take full advantage of the model you built.\n",
    "\n",
    "Data science is concerned with how to build machine learning models, which algorithm is more predictive, how to design features, and what variables to use to make the models more accurate. However, how these models are actually used is often neglected. And yet this is the most important step in the machine learning pipline. Only when a model is fully integrated with the business systems, real values ​​can be extract from its predictions."
   ]
  },
  {
   "cell_type": "markdown",
   "metadata": {
    "id": "oCAYcMLEH_7P"
   },
   "source": [
    "<a id=\"10.1\"></a>\n",
    "### <p style=\"background-color:#B61151; font-family:newtimeroman; color:#FFF9ED; font-size:150%; text-align:center; border-radius:10px 10px;\">10.1 Save and Export the Model as .pkl<p>\n",
    "<a href=\"#toc\" class=\"btn btn-primary btn-sm\" role=\"button\" aria-pressed=\"true\" \n",
    "style=\"color:blue; background-color:#dfa8e4\" data-toggle=\"popover\">Table of Contents</a>\n",
    "    \n",
    "I save the models for deployment below. "
   ]
  },
  {
   "cell_type": "code",
   "execution_count": null,
   "metadata": {},
   "outputs": [],
   "source": [
    "# logistic_regression = pickle.dump(LogReg_Deploy, open('logistic_regression_model', 'wb'))"
   ]
  },
  {
   "cell_type": "code",
   "execution_count": null,
   "metadata": {},
   "outputs": [],
   "source": [
    "# random_forest_classifier = pickle.dump(RandomForest_Deploy, open('random_forest_model', 'wb'))"
   ]
  },
  {
   "cell_type": "markdown",
   "metadata": {},
   "source": [
    "<a id=\"10.2\"></a>\n",
    "### <p style=\"background-color:#B61151; font-family:newtimeroman; color:#FFF9ED; font-size:150%; text-align:center; border-radius:10px 10px;\">10.2 Example of An Application Code for Deployment<p>\n",
    "<a href=\"#toc\" class=\"btn btn-primary btn-sm\" role=\"button\" aria-pressed=\"true\" \n",
    "style=\"color:blue; background-color:#dfa8e4\" data-toggle=\"popover\">Table of Contents</a>\n",
    "    \n",
    "Below is an example of an app.py. With this app, I deployed my model via streamlit for real life predictions."
   ]
  },
  {
   "cell_type": "raw",
   "metadata": {},
   "source": [
    "import streamlit as st\n",
    "import pickle\n",
    "import pandas as pd\n",
    "from sklearn.preprocessing import MinMaxScaler\n",
    "from PIL import Image\n",
    "import base64\n",
    "st.sidebar.title('Transaction Information')\n",
    "\n",
    "html_temp = \"\"\"\n",
    "<div style=\"background-color:Blue;padding:10px\">\n",
    "<h2 style=\"color:white;text-align:center;\">Fraud Detection</h2>\n",
    "</div><br>\"\"\"\n",
    "\n",
    "st.markdown(html_temp,unsafe_allow_html=True)\n",
    "st.markdown(\"<h1 style='text-align: center; color: Black;'>Select Your Model</h1>\", unsafe_allow_html=True)\n",
    "\n",
    "selection = st.selectbox(\"\", [\"Logistic Regression\",\"Random Forest\"])\n",
    "\n",
    "if selection ==\"Logistic Regression\":\n",
    "\tst.write(\"You selected\", selection, \"model\")\n",
    "\tmodel = pickle.load(open('logistic_regression_model', 'rb'))\n",
    "else:\n",
    "\tst.write(\"You selected\", selection, \"model\")\n",
    "\tmodel = pickle.load(open('random_forest_model', 'rb'))\n",
    "\n",
    "v2 = st.sidebar.slider(label=\"V2-PCA\", min_value=-10.00, max_value=15.00, step=0.01)\n",
    "v3 = st.sidebar.slider(label=\"V3-PCA\", min_value=-25.00, max_value=5.00, step=0.01)\n",
    "v4 = st.sidebar.slider(label=\"V4-PCA\", min_value=-5.00, max_value=15.00, step=0.01)\n",
    "v7 = st.sidebar.slider(label=\"V7-PCA\", min_value=-45.00, max_value=130.00, step=0.01)\n",
    "v10 = st.sidebar.slider(label=\"V10-PCA\", min_value=-20.00, max_value=5.00, step=0.01)\n",
    "v11 = st.sidebar.slider(label=\"V11-PCA\", min_value=-5.00, max_value=15.00, step=0.01)\n",
    "v12 = st.sidebar.slider(label=\"V12-PCA\", min_value=-20.00, max_value=5.00, step=0.01)\n",
    "v14 = st.sidebar.slider(label=\"V14-PCA\", min_value=-20.00, max_value=5.00, step=0.01)\n",
    "v16 = st.sidebar.slider(label=\"V16-PCA\", min_value=-15.00, max_value=20.00, step=0.01)\n",
    "v17 = st.sidebar.slider(label=\"V17-PCA\", min_value=-30.00, max_value=10.00, step=0.01)\n",
    "\n",
    "\n",
    "coll_dict = {'V2-PCA':v2, 'V3-PCA':v3, 'V4-PCA':v4, 'V7-PCA':v7, 'V10-PCA':v10,\\\n",
    "\t\t\t'V11-PCA':v11, 'V12-PCA':v12, 'V14-PCA':v14, 'V16-PCA':v16, 'V17-PCA':v17}\n",
    "\n",
    "columns = ['v2', 'v3', 'v4', 'v7', 'v10', 'v11', 'v12', 'v14', 'v16', 'v17']\n",
    "\n",
    "df_coll = pd.DataFrame.from_dict([coll_dict])\n",
    "user_inputs = df_coll\n",
    "\n",
    "prediction = model.predict(user_inputs)\n",
    "\n",
    "\n",
    "html_temp = \"\"\"\n",
    "<div style=\"background-color:Black;padding:10px\">\n",
    "<h2 style=\"color:white;text-align:center;\">Fraud Detection Prediction - Group - 4</h2>\n",
    "\n",
    "</div><br>\"\"\"\n",
    "\n",
    "st.markdown(\"<h1 style='text-align: center; color: Black;'>Transaction Information</h1>\", unsafe_allow_html=True)\n",
    "\n",
    "st.table(df_coll)\n",
    "\n",
    "st.subheader('Click PREDICT if configuration is OK')\n",
    "\n",
    "if st.button('PREDICT'):\n",
    "\tif prediction[0]==0:\n",
    "\t\tst.success(prediction[0])\n",
    "\t\tst.success(f'Transaction is SAFE :)')\n",
    "\telif prediction[0]==1:\n",
    "\t\tst.warning(prediction[0])\n",
    "\t\tst.warning(f'ALARM! Transaction is FRAUDULENT :(')"
   ]
  },
  {
   "attachments": {
    "image.png": {
     "image/png": "[encoded data removed]"
    }
   },
   "cell_type": "markdown",
   "metadata": {
    "id": "MqluJ9yvIOex"
   },
   "source": [
    "![image.png](attachment:image.png)"
   ]
  },
  {
   "cell_type": "markdown",
   "metadata": {},
   "source": [
    "<a id=\"11\"></a>\n",
    "## <p style=\"background-color:#B61151; font-family:newtimeroman; color:#FFF9ED; font-size:150%; text-align:center; border-radius:10px 10px;\">11 - CONCLUSION<p>\n",
    "<a href=\"#toc\" class=\"btn btn-primary btn-sm\" role=\"button\" aria-pressed=\"true\" \n",
    "style=\"color:blue; background-color:#dfa8e4\" data-toggle=\"popover\">Table of Contents</a>"
   ]
  },
  {
   "cell_type": "markdown",
   "metadata": {},
   "source": [
    "The datasets contains transactions made by credit cards in September 2013 by european cardholders. A study is requested from us to predict which transaction is fraudulent or not by using this data.\n",
    "\n",
    "First of all, to observe the structure of the data, outliers, missing values and features that affect the target variable, we used exploratory data analysis and data visualization techniques.\n",
    "\n",
    "Then, we performed data pre-processing operations to increase the recall score of algorithms.** \n",
    "\n",
    "We built models to predict transaction is fraudulent or not. We trained our models with train set, tested the success of models with test set. \n",
    "\n",
    "In this study, we made modelling with ***Logistic Regression***, ***Random Forest Classifier*** and ***Neural Network***.\n",
    "\n",
    "We used scikit-learn ***Confusion Metrics*** module for accuracy calculation and the ***Yellowbrick*** module for model selection and visualization.\n",
    "\n",
    "Implementing SMOTE Technique on our imbalanced dataset helped us to balanced the data.\n",
    "\n",
    "After comparison between models, we found that RandomForestClassifier (Befor and After) SMOTE gave us the best result.\n",
    "\n",
    "I chose the 10 most effective feature according to the correlation, and feature importance results. With these 10 feature and target feature, I create a new dataframe. With this dataframe, I made modelling with Logistic Regression and Random Forest Classifier with SMOTE.\n",
    "\n",
    "I save  Logistic Regression and Random Forest Classifier as a final model. Then with these final models, I deployed my study via streamlit.\n",
    "\n",
    "We have come to the end of the study. I hope it was useful. I would be very happy if you send your constructive and educational comments about the kernel.\n",
    "\n",
    "Please don't forget to upvote if you liked!\n",
    "\n",
    "You can find an instruction about how to deploy a model at last part of the kernel given below.\n",
    "https://www.kaggle.com/azizozmen/employee-churn-attrition-predict-eda-multi-algosHow "
   ]
  },
  {
   "cell_type": "code",
   "execution_count": null,
   "metadata": {},
   "outputs": [],
   "source": []
  }
 ],
 "metadata": {
  "colab": {
   "collapsed_sections": [
    "OV28RJBeMuHb",
    "hlm6gCsKMuHb",
    "zKZcwgucJQ0I",
    "4f8q5y12MuHe",
    "9wvBCEvpJQ0U",
    "_3zm70O7JQ0Z"
   ],
   "name": "Fraud Detection_Student_V2.ipynb",
   "provenance": [],
   "toc_visible": true
  },
  "kernelspec": {
   "display_name": "Python 3 (ipykernel)",
   "language": "python",
   "name": "python3"
  },
  "language_info": {
   "codemirror_mode": {
    "name": "ipython",
    "version": 3
   },
   "file_extension": ".py",
   "mimetype": "text/x-python",
   "name": "python",
   "nbconvert_exporter": "python",
   "pygments_lexer": "ipython3",
   "version": "3.9.17"
  }
 },
 "nbformat": 4,
 "nbformat_minor": 1
}
