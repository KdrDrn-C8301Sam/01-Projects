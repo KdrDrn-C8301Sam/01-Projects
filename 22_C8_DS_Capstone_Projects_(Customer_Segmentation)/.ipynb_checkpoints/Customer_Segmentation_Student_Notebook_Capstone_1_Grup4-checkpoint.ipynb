{
 "cells": [
  {
   "cell_type": "markdown",
   "metadata": {
    "id": "yG6Ti6UOiqav"
   },
   "source": [
    "___\n",
    "\n",
    "<p style=\"text-align: center;\"><img src=\"https://docs.google.com/uc?id=1lY0Uj5R04yMY3-ZppPWxqCr5pvBLYPnV\" class=\"img-fluid\" alt=\"CLRSWY\"></p>\n",
    "\n",
    "___"
   ]
  },
  {
   "cell_type": "markdown",
   "metadata": {},
   "source": [
    "# PREFACE"
   ]
  },
  {
   "cell_type": "markdown",
   "metadata": {
    "id": "oLS5y2Jqiqa1"
   },
   "source": [
    "Welcome to \"RFM Customer Segmentation & Cohort Analysis Project\". This is the first project of the Capstone Project Series, which consists of 4 different project that contain different scenarios.\n",
    "\n",
    "This is a project which you will learn what is RFM? And how to apply RFM Analysis and Customer Segmentation using K-Means Clustering. Also you will improve your Data Cleaning, Data Visualization and Exploratory Data Analysis capabilities. On the other hand you will create Cohort and Conduct Cohort Analysis. \n",
    "\n",
    "Before diving into the project, please take a look at the determines and project structure.\n",
    "\n",
    "- **NOTE:** This tutorial assumes that you already know the basics of coding in Python and are familiar with the theory behind K-Means Clustering.\n",
    "\n"
   ]
  },
  {
   "cell_type": "markdown",
   "metadata": {},
   "source": [
    "# DATA\n",
    "\n",
    "\n",
    "Using the [Online Retail dataset](https://archive.ics.uci.edu/ml/datasets/Online+Retail) from the UCI Machine Learning Repository for exploratory data analysis, ***Customer Segmentation***, ***RFM Analysis***, ***K-Means Clustering*** and ***Cohort Analysis***.\n",
    "\n",
    "This is a transnational data set which contains all the transactions occurring between 01/12/2010 and 09/12/2011 for a UK-based and registered non-store online retail. The company mainly sells unique all-occasion gifts. Many customers of the company are wholesalers."
   ]
  },
  {
   "cell_type": "markdown",
   "metadata": {},
   "source": [
    "# Context\n",
    "\n",
    "**\"Predict behavior to retain customers. You can analyze all relevant customer data and develop focused customer retention programs.\" [IBM Sample Data Sets]**\n",
    "\n",
    "**Each row represents a customer, each column contains customer’s attributes described on the column Metadata.**\n",
    "\n",
    "**The data set includes information about:**\n",
    "\n",
    "- **Customers who left within the last month – the column is called Churn**\n",
    "- **Services that each customer has signed up for – phone, multiple lines, internet, online security, online backup, device -protection, tech support, and streaming TV and movies**\n",
    "- **Customer account information – how long they’ve been a customer, contract, payment method, paperless billing, monthly charges, and total charges**\n",
    "- **Demographic info about customers – gender, age range, and if they have partners and dependents**\n",
    "\n",
    "**To explore this type of models and learn more about the subject.**"
   ]
  },
  {
   "cell_type": "markdown",
   "metadata": {},
   "source": [
    "### About The Features\n",
    "\n",
    "**The features in the given dataset are:**\n",
    "\n",
    "**InvoiceNo**: Invoice number. *Nominal*, a 6-digit integral number uniquely assigned to each transaction. If this code starts with letter 'c', it indicates a cancellation. \n",
    "<br>\n",
    "**StockCode**: Product (item) code. *Nominal*, a 5-digit integral number uniquely assigned to each distinct product.\n",
    "<br>\n",
    "**Description**: Product (item) name. *Nominal*. \n",
    "<br>\n",
    "**Quantity**: The quantities of each product (item) per transaction. *Numeric*.\n",
    "<br>\n",
    "**InvoiceDate**: Invoice Date and time. *Numeric*, the day and time when each transaction was generated.\n",
    "<br>\n",
    "**UnitPrice**: Unit price. *Numeric*, Product price per unit in sterling.\n",
    "<br>\n",
    "**CustomerID**: Customer number. *Nominal*, a 5-digit integral number uniquely assigned to each customer.\n",
    "<br>\n",
    "**Country**: Country name. *Nominal*, the name of the country where each customer resides."
   ]
  },
  {
   "cell_type": "markdown",
   "metadata": {},
   "source": [
    "### What The Problem Is\n",
    "\n",
    "First of all, to observe the structure of the data and missing values, you can use exploratory data analysis and data visualization techniques.\n",
    "\n",
    "You must do descriptive analysis. Because you must understand the relationship of the features to each other and clear the noise and missing values in the data. After that, the data set will be ready for RFM analysis.\n",
    "\n",
    "Before starting the RFM Analysis, you will be asked to do some analysis regarding the distribution of *Orders*, *Customers* and *Countries*. These analyzes will help the company develop its sales policies and contribute to the correct use of resources.\n",
    "\n",
    "You will notice that the UK not only has the most sales revenue, but also the most customers. So you will continue to analyze only UK transactions in the next RFM Analysis, Customer Segmentation and K-Means Clustering topics.\n",
    "\n",
    "Next, you will begin RFM Analysis, a customer segmentation technique based on customers' past purchasing behavior. \n",
    "\n",
    "By using RFM Analysis, you can enable companies to develop different approaches to different customer segments so that they can get to know their customers better, observe trends better, and increase customer retention and sales revenues.\n",
    "\n",
    "You will calculate the Recency, Frequency and Monetary values of the customers in the RFM Analysis you will make using the data consisting of UK transactions. Ultimately, you have to create an RFM table containing these values.\n",
    "\n",
    "In the Customer Segmentation section, you will create an RFM Segmentation Table where you segment your customers by using the RFM table. For example, you can label the best customer as \"Big Spenders\" and the lost customer as \"Lost Customer\".\n",
    "\n",
    "We will segment the customers ourselves based on their recency, frequency, and monetary values. But can an **unsupervised learning** model do this better for us? You will use the K-Means algorithm to find the answer to this question. Then you will compare the classification made by the algorithm with the classification you have made yourself.\n",
    "\n",
    "Before applying K-Means Clustering, you should do data pre-processing. In this context, it will be useful to examine feature correlations and distributions. In addition, the data you apply for K-Means should be normalized.\n",
    "\n",
    "On the other hand, you should inform the K-means algorithm about the number of clusters it will predict. You will also try the *** Elbow method *** and *** Silhouette Analysis *** to find the optimum number of clusters.\n",
    "\n",
    "After the above operations, you will have made cluster estimation with K-Means. You should visualize the cluster distribution by using a scatter plot. You can observe the properties of the resulting clusters with the help of the boxplot. Thus you will be able to tag clusters and interpret results.\n",
    "\n",
    "Finally, you will do Cohort Analysis with the data you used at the beginning, regardless of the analysis you have done before. Cohort analysis is a subset of behavioral analytics that takes the user data and breaks them into related groups for analysis. This analysis can further be used to do customer segmentation and track metrics like retention, churn, and lifetime value.\n",
    "\n",
    "\n",
    "\n",
    "\n",
    "\n",
    "**- In the given study, we have a classification problem.**\n",
    "\n",
    "- We will try to create classifications on the target variable in the given dataset.\n",
    "- The Target variable in the given dataset is \"Churn\"\n",
    "- To make the best classification possible on the target variable, we will focus on if the target variable is balanced or not.\n",
    "- As you will be familiar with later, the target variable in this study is an imblanced data so this researcher will concentrate Recall score on evaluating the results rather than Accuracy score used in the evaluation of balanced data.\n",
    "- Lastly we will build a variety of Classification models and compare the models giving the best prediction on Heart Disease."
   ]
  },
  {
   "cell_type": "markdown",
   "metadata": {
    "id": "KQ62QseViqa2"
   },
   "source": [
    "### Project Structure\n",
    "\n",
    "- Data Cleaning & Exploratory Data Analysis\n",
    "- RFM Analysis\n",
    "- Customer Segmentation\n",
    "- Applying K-Means Clustering\n",
    "- Create Cohort and Conduct Cohort Analysis"
   ]
  },
  {
   "cell_type": "markdown",
   "metadata": {
    "id": "wsPQ1tUwiqa2"
   },
   "source": [
    "### The Tasks in The Study\n",
    "\n",
    "#### 1. Data Cleaning & Exploratory Data Analysis\n",
    "\n",
    "- Import Modules, Load Data & Data Review\n",
    "\n",
    "- Follow the Steps Below\n",
    "\n",
    "    *i. Take a look at relationships between InvoiceNo, Quantity and UnitPrice columns.*\n",
    "    \n",
    "    *ii. What does the letter \"C\" in the invoiceno column mean?*\n",
    "    \n",
    "    *iii. Handling Missing Values*\n",
    "    \n",
    "    *iv. Clean the Data from the Noise and Missing Values*\n",
    "    \n",
    "    *v. Explore the Orders*\n",
    "    \n",
    "    *vi. Explore Customers by Country*\n",
    "    \n",
    "    *vii. Explore the UK Market*\n",
    "    \n",
    "#### 2. RFM Analysis\n",
    "\n",
    "- Follow the steps below\n",
    "\n",
    "   *i. Import Libraries*\n",
    "   \n",
    "   *ii. Review \"df_uk\" DataFrame (the df_uk what you create at the end of the Task 1)*\n",
    "   \n",
    "   *iii. Calculate Recency*\n",
    "   \n",
    "   *iv. Calculate Frequency*\n",
    "   \n",
    "   *v. Calculate Monetary Values*\n",
    "   \n",
    "   *vi. Create RFM Table*\n",
    "\n",
    "#### 3. Customer Segmentation with RFM Scores\n",
    "\n",
    "- Calculate RFM Scoring\n",
    "\n",
    "    *i. Creating the RFM Segmentation Table*\n",
    " \n",
    "\n",
    "- Plot RFM Segments\n",
    "\n",
    "#### 4. Applying K-Means Clustering\n",
    "- Data Pre-Processing and Exploring\n",
    "\n",
    "    *i. Define and Plot Feature Correlations*\n",
    " \n",
    "    *ii. Visualize Feature Distributions*\n",
    " \n",
    "    *iii. Data Normalization*\n",
    "\n",
    "\n",
    "- K-Means Implementation\n",
    "\n",
    "    *i. Define Optimal Cluster Number (K) by using \"Elbow Method\" and \"Silhouette Analysis\"*\n",
    " \n",
    "    *ii. Visualize the Clusters*\n",
    " \n",
    "    *iii. Assign the label*\n",
    " \n",
    "    *iv. Conclusion*\n",
    " \n",
    "#### 5. Create Cohort and Conduct Cohort Analysis\n",
    "- Future Engineering\n",
    "\n",
    "    *i. Extract the Month of the Purchase*\n",
    " \n",
    "    *ii. Calculating time offset in Months i.e. Cohort Index*\n",
    " \n",
    "\n",
    "- Create 1st Cohort: User Number & Retention Rate \n",
    "\n",
    "    *i. Pivot Cohort and Cohort Retention*\n",
    " \n",
    "    *ii. Visualize analysis of cohort 1 using seaborn and matplotlib*\n",
    "\n",
    "\n",
    "- Create 2nd Cohort: Average Quantity Sold \n",
    "\n",
    "    *i. Pivot Cohort and Cohort Retention*\n",
    " \n",
    "    *ii. Visualize analysis of cohort 2 using seaborn and matplotlib*\n",
    "\n",
    "\n",
    "- Create 3rd Cohort: Average Sales\n",
    "\n",
    "    *i. Pivot Cohort and Cohort Retention*\n",
    " \n",
    "    *ii. Visualize analysis of cohort 3 using seaborn and matplotlib*\n",
    "    \n",
    "\n",
    "- **Note: There may be sub-tasks associated with each task, you will see them in order during the course of the work.**\n"
   ]
  },
  {
   "cell_type": "markdown",
   "metadata": {
    "id": "k-NlVU1UQGVA"
   },
   "source": [
    "# 1. Data Cleaning & Exploratory Data Analysis"
   ]
  },
  {
   "cell_type": "markdown",
   "metadata": {
    "id": "L63G_-Dqiqa3"
   },
   "source": [
    "## Import Modules, Load Data & Data Review"
   ]
  },
  {
   "cell_type": "code",
   "execution_count": 2,
   "metadata": {},
   "outputs": [
    {
     "name": "stderr",
     "output_type": "stream",
     "text": [
      "C:\\Users\\Toshiba\\anaconda3\\lib\\site-packages\\numpy\\_distributor_init.py:30: UserWarning: loaded more than 1 DLL from .libs:\n",
      "C:\\Users\\Toshiba\\anaconda3\\lib\\site-packages\\numpy\\.libs\\libopenblas.WCDJNK7YVMPZQ2ME2ZZHJJRJ3JIKNDB7.gfortran-win_amd64.dll\n",
      "C:\\Users\\Toshiba\\anaconda3\\lib\\site-packages\\numpy\\.libs\\libopenblas.XWYDX2IKJW2NMTWSFYNGFUWKQU3LYTCZ.gfortran-win_amd64.dll\n",
      "  warnings.warn(\"loaded more than 1 DLL from .libs:\"\n"
     ]
    },
    {
     "data": {
      "text/html": [
       "        <script type=\"text/javascript\">\n",
       "        window.PlotlyConfig = {MathJaxConfig: 'local'};\n",
       "        if (window.MathJax) {MathJax.Hub.Config({SVG: {font: \"STIX-Web\"}});}\n",
       "        if (typeof require !== 'undefined') {\n",
       "        require.undef(\"plotly\");\n",
       "        requirejs.config({\n",
       "            paths: {\n",
       "                'plotly': ['https://cdn.plot.ly/plotly-2.2.0.min']\n",
       "            }\n",
       "        });\n",
       "        require(['plotly'], function(Plotly) {\n",
       "            window._Plotly = Plotly;\n",
       "        });\n",
       "        }\n",
       "        </script>\n",
       "        "
      ]
     },
     "metadata": {},
     "output_type": "display_data"
    }
   ],
   "source": [
    "# !pip install pyforest\n",
    "# 1-Import Libraies\n",
    "# !pip install pyforest\n",
    "\n",
    "# 1-Import Libraies\n",
    "\n",
    "import ipywidgets\n",
    "from ipywidgets import interact\n",
    "\n",
    "import numpy as np\n",
    "import pandas as pd \n",
    "\n",
    "import seaborn as sns\n",
    "import matplotlib.pyplot as plt\n",
    "%matplotlib inline\n",
    "import matplotlib.ticker as mticker\n",
    "import squarify as sq\n",
    "\n",
    "import scipy.stats as stats\n",
    "import statsmodels.api as sm\n",
    "import statsmodels.formula.api as smf\n",
    "import missingno as msno \n",
    "\n",
    "import datetime as dt\n",
    "from datetime import datetime\n",
    "import datetime as dt\n",
    "from datetime import datetime\n",
    "\n",
    "from sklearn.cluster import KMeans\n",
    "\n",
    "# Scaling\n",
    "from sklearn.preprocessing import scale \n",
    "from sklearn.preprocessing import StandardScaler\n",
    "from sklearn.preprocessing import PolynomialFeatures \n",
    "from sklearn.preprocessing import OneHotEncoder\n",
    "from sklearn.preprocessing import PowerTransformer \n",
    "from sklearn.preprocessing import MinMaxScaler\n",
    "from sklearn.preprocessing import RobustScaler\n",
    "from sklearn.compose import make_column_transformer\n",
    "\n",
    "# Importing plotly and cufflinks in offline mode\n",
    "import plotly.express as px\n",
    "import cufflinks as cf\n",
    "import plotly.offline\n",
    "cf.go_offline()\n",
    "cf.set_config_file(offline=False, world_readable=True)\n",
    "\n",
    "# !pip install termcolor\n",
    "import colorama\n",
    "from colorama import Fore, Style  # maakes strings colored\n",
    "from termcolor import colored\n",
    "from termcolor import cprint\n",
    "\n",
    "import ipywidgets\n",
    "from ipywidgets import interact\n",
    "\n",
    "# Ignore Warnings\n",
    "import warnings\n",
    "warnings.filterwarnings(\"ignore\")\n",
    "warnings.warn(\"this will not show\")\n",
    "\n",
    "# Figure&Display options\n",
    "plt.rcParams[\"figure.figsize\"] = (10,6)\n",
    "pd.set_option('max_colwidth',200)\n",
    "pd.set_option('display.max_rows', 1000)\n",
    "pd.set_option('display.max_columns', 200)\n",
    "pd.set_option('display.float_format', lambda x: '%.3f' % x)"
   ]
  },
  {
   "cell_type": "code",
   "execution_count": 3,
   "metadata": {},
   "outputs": [],
   "source": [
    "## Some Useful Functions\n",
    "\n",
    "###############################################################################\n",
    "\n",
    "def missing_values(df):\n",
    "    missing_number = df.isnull().sum().sort_values(ascending=False)\n",
    "    missing_percent = (df.isnull().sum()/df.isnull().count()).sort_values(ascending=False)\n",
    "    missing_values = pd.concat([missing_number, missing_percent], axis=1, keys=['Missing_Number', 'Missing_Percent'])\n",
    "    return missing_values[missing_values['Missing_Number']>0]\n",
    "\n",
    "###############################################################################\n",
    "\n",
    "def first_looking(df):\n",
    "    print(colored(\"Shape:\", attrs=['bold']), df.shape,'\\n', \n",
    "          colored('*'*100, 'red', attrs=['bold']),\n",
    "          colored(\"\\nInfo:\\n\", attrs=['bold']), sep='')\n",
    "    print(df.info(), '\\n', \n",
    "          colored('*'*100, 'red', attrs=['bold']), sep='')\n",
    "    print(colored(\"Number of Uniques:\\n\", attrs=['bold']), df.nunique(),'\\n',\n",
    "          colored('*'*100, 'red', attrs=['bold']), sep='')\n",
    "    print(colored(\"Missing Values:\\n\", attrs=['bold']), missing_values(df),'\\n', \n",
    "          colored('*'*100, 'red', attrs=['bold']), sep='')\n",
    "    print(colored(\"All Columns:\", attrs=['bold']), list(df.columns),'\\n', \n",
    "          colored('*'*100, 'red', attrs=['bold']), sep='')\n",
    "\n",
    "    df.columns= df.columns.str.lower().str.replace('&', '_').str.replace(' ', '_')\n",
    "    print(colored(\"Columns after rename:\", attrs=['bold']), list(df.columns),'\\n',\n",
    "          colored('*'*100, 'red', attrs=['bold']), sep='')  \n",
    "    print(colored(\"Columns after rename:\", attrs=['bold']), list(df.columns),'\\n',\n",
    "          colored('*'*100, 'red', attrs=['bold']), sep='')\n",
    "    print(colored(\"Descriptive Statistics \\n\", attrs=['bold']), df.describe().round(2),'\\n',\n",
    "          colored('*'*100, 'red', attrs=['bold']), sep='') # Gives a statstical breakdown of the data.\n",
    "    print(colored(\"Descriptive Statistics (Categorical Columns) \\n\", attrs=['bold']), df.describe(include=object).T,'\\n',\n",
    "          colored('*'*100, 'red', attrs=['bold']), sep='') # Gives a statstical breakdown of the data.\n",
    "    \n",
    "def multicolinearity_control(df):\n",
    "    feature =[]\n",
    "    collinear=[]\n",
    "    for col in df.corr().columns:\n",
    "        for i in df.corr().index:\n",
    "            if (abs(df.corr()[col][i])> .9 and abs(df.corr()[col][i]) < 1):\n",
    "                    feature.append(col)\n",
    "                    collinear.append(i)\n",
    "                    print(colored(f\"Multicolinearity alert in between:{col} - {i}\", \n",
    "                                  \"red\", attrs=['bold']), df.shape,'\\n',\n",
    "                                  colored('*'*100, 'red', attrs=['bold']), sep='')\n",
    "\n",
    "def duplicate_values(df):\n",
    "    print(colored(\"Duplicate check...\", attrs=['bold']), sep='')\n",
    "    print(\"There are\", df.duplicated(subset=None, keep='first').sum(), \"duplicated observations in the dataset.\")\n",
    "#     duplicate_values = df.duplicated(subset=None, keep='first').sum()\n",
    "#     if duplicate_values > 0:\n",
    "#         df.drop_duplicates(keep='first', inplace=True)\n",
    "#         print(duplicate_values, colored(\" Duplicates were dropped!\"),'\\n',\n",
    "#               colored('*'*100, 'red', attrs=['bold']), sep='')\n",
    "#     else:\n",
    "#         print(colored(\"There are no duplicates\"),'\\n',\n",
    "#               colored('*'*100, 'red', attrs=['bold']), sep='')     \n",
    "        \n",
    "# def drop_columns(df, drop_columns):\n",
    "#     if drop_columns !=[]:\n",
    "#         df.drop(drop_columns, axis=1, inplace=True)\n",
    "#         print(drop_columns, 'were dropped')\n",
    "#     else:\n",
    "#         print(colored('We will now check the missing values and if necessary, the related columns will be dropped!', attrs=['bold']),'\\n',\n",
    "#               colored('*'*100, 'red', attrs=['bold']), sep='')\n",
    "        \n",
    "def drop_null(df, limit):\n",
    "    print('Shape:', df.shape)\n",
    "    for i in df.isnull().sum().index:\n",
    "        if (df.isnull().sum()[i]/df.shape[0]*100)>limit:\n",
    "            print(df.isnull().sum()[i], 'percent of', i ,'null and were dropped')\n",
    "            df.drop(i, axis=1, inplace=True)\n",
    "            print('new shape:', df.shape)       \n",
    "    print('New shape after missing value control:', df.shape)\n",
    "    \n",
    "###############################################################################\n",
    "\n",
    "# To view summary information about the columns\n",
    "\n",
    "def first_look(col):\n",
    "    print(\"column name    : \", col)\n",
    "    print(\"--------------------------------\")\n",
    "    print(\"per_of_nulls   : \", \"%\", round(df[col].isnull().sum()/df.shape[0]*100, 2))\n",
    "    print(\"num_of_nulls   : \", df[col].isnull().sum())\n",
    "    print(\"num_of_uniques : \", df[col].nunique())\n",
    "    print(df[col].value_counts(dropna = False))\n",
    "    \n",
    "###############################################################################\n",
    "\n",
    "def fill_most(df, group_col, col_name):\n",
    "    '''Fills the missing values with the most existing value (mode) in the relevant column according to single-stage grouping'''\n",
    "    for group in list(df[group_col].unique()):\n",
    "        cond = df[group_col]==group\n",
    "        mode = list(df[cond][col_name].mode())\n",
    "        if mode != []:\n",
    "            df.loc[cond, col_name] = df.loc[cond, col_name].fillna(df[cond][col_name].mode()[0])\n",
    "        else:\n",
    "            df.loc[cond, col_name] = df.loc[cond, col_name].fillna(df[col_name].mode()[0])\n",
    "    print(\"Number of NaN : \",df[col_name].isnull().sum())\n",
    "    print(\"------------------\")\n",
    "    print(df[col_name].value_counts(dropna=False))"
   ]
  },
  {
   "cell_type": "code",
   "execution_count": 4,
   "metadata": {},
   "outputs": [
    {
     "data": {
      "text/html": [
       "<div>\n",
       "<style scoped>\n",
       "    .dataframe tbody tr th:only-of-type {\n",
       "        vertical-align: middle;\n",
       "    }\n",
       "\n",
       "    .dataframe tbody tr th {\n",
       "        vertical-align: top;\n",
       "    }\n",
       "\n",
       "    .dataframe thead th {\n",
       "        text-align: right;\n",
       "    }\n",
       "</style>\n",
       "<table border=\"1\" class=\"dataframe\">\n",
       "  <thead>\n",
       "    <tr style=\"text-align: right;\">\n",
       "      <th></th>\n",
       "      <th>InvoiceNo</th>\n",
       "      <th>StockCode</th>\n",
       "      <th>Description</th>\n",
       "      <th>Quantity</th>\n",
       "      <th>InvoiceDate</th>\n",
       "      <th>UnitPrice</th>\n",
       "      <th>CustomerID</th>\n",
       "      <th>Country</th>\n",
       "    </tr>\n",
       "  </thead>\n",
       "  <tbody>\n",
       "    <tr>\n",
       "      <th>0</th>\n",
       "      <td>536365.0</td>\n",
       "      <td>85123A</td>\n",
       "      <td>WHITE HANGING HEART T-LIGHT HOLDER</td>\n",
       "      <td>6.000</td>\n",
       "      <td>2010-12-01 08:26:00</td>\n",
       "      <td>2.550</td>\n",
       "      <td>17850.000</td>\n",
       "      <td>United Kingdom</td>\n",
       "    </tr>\n",
       "    <tr>\n",
       "      <th>1</th>\n",
       "      <td>536365.0</td>\n",
       "      <td>71053.0</td>\n",
       "      <td>WHITE METAL LANTERN</td>\n",
       "      <td>6.000</td>\n",
       "      <td>2010-12-01 08:26:00</td>\n",
       "      <td>3.390</td>\n",
       "      <td>17850.000</td>\n",
       "      <td>United Kingdom</td>\n",
       "    </tr>\n",
       "    <tr>\n",
       "      <th>2</th>\n",
       "      <td>536365.0</td>\n",
       "      <td>84406B</td>\n",
       "      <td>CREAM CUPID HEARTS COAT HANGER</td>\n",
       "      <td>8.000</td>\n",
       "      <td>2010-12-01 08:26:00</td>\n",
       "      <td>2.750</td>\n",
       "      <td>17850.000</td>\n",
       "      <td>United Kingdom</td>\n",
       "    </tr>\n",
       "  </tbody>\n",
       "</table>\n",
       "</div>"
      ],
      "text/plain": [
       "  InvoiceNo StockCode                         Description  Quantity  \\\n",
       "0  536365.0    85123A  WHITE HANGING HEART T-LIGHT HOLDER     6.000   \n",
       "1  536365.0   71053.0                 WHITE METAL LANTERN     6.000   \n",
       "2  536365.0    84406B      CREAM CUPID HEARTS COAT HANGER     8.000   \n",
       "\n",
       "           InvoiceDate  UnitPrice  CustomerID         Country  \n",
       "0  2010-12-01 08:26:00      2.550   17850.000  United Kingdom  \n",
       "1  2010-12-01 08:26:00      3.390   17850.000  United Kingdom  \n",
       "2  2010-12-01 08:26:00      2.750   17850.000  United Kingdom  "
      ]
     },
     "execution_count": 4,
     "metadata": {},
     "output_type": "execute_result"
    }
   ],
   "source": [
    "df0 = pd.read_csv('Online Retail.csv', index_col=0)\n",
    "df = df0.copy()\n",
    "df.head(3) "
   ]
  },
  {
   "cell_type": "code",
   "execution_count": 5,
   "metadata": {},
   "outputs": [
    {
     "data": {
      "text/html": [
       "<div>\n",
       "<style scoped>\n",
       "    .dataframe tbody tr th:only-of-type {\n",
       "        vertical-align: middle;\n",
       "    }\n",
       "\n",
       "    .dataframe tbody tr th {\n",
       "        vertical-align: top;\n",
       "    }\n",
       "\n",
       "    .dataframe thead th {\n",
       "        text-align: right;\n",
       "    }\n",
       "</style>\n",
       "<table border=\"1\" class=\"dataframe\">\n",
       "  <thead>\n",
       "    <tr style=\"text-align: right;\">\n",
       "      <th></th>\n",
       "      <th>InvoiceNo</th>\n",
       "      <th>StockCode</th>\n",
       "      <th>Description</th>\n",
       "      <th>Quantity</th>\n",
       "      <th>InvoiceDate</th>\n",
       "      <th>UnitPrice</th>\n",
       "      <th>CustomerID</th>\n",
       "      <th>Country</th>\n",
       "    </tr>\n",
       "  </thead>\n",
       "  <tbody>\n",
       "    <tr>\n",
       "      <th>541906</th>\n",
       "      <td>581587.0</td>\n",
       "      <td>23254.0</td>\n",
       "      <td>CHILDRENS CUTLERY DOLLY GIRL</td>\n",
       "      <td>4.000</td>\n",
       "      <td>2011-12-09 12:50:00</td>\n",
       "      <td>4.150</td>\n",
       "      <td>12680.000</td>\n",
       "      <td>France</td>\n",
       "    </tr>\n",
       "    <tr>\n",
       "      <th>541907</th>\n",
       "      <td>581587.0</td>\n",
       "      <td>23255.0</td>\n",
       "      <td>CHILDRENS CUTLERY CIRCUS PARADE</td>\n",
       "      <td>4.000</td>\n",
       "      <td>2011-12-09 12:50:00</td>\n",
       "      <td>4.150</td>\n",
       "      <td>12680.000</td>\n",
       "      <td>France</td>\n",
       "    </tr>\n",
       "    <tr>\n",
       "      <th>541908</th>\n",
       "      <td>581587.0</td>\n",
       "      <td>22138.0</td>\n",
       "      <td>BAKING SET 9 PIECE RETROSPOT</td>\n",
       "      <td>3.000</td>\n",
       "      <td>2011-12-09 12:50:00</td>\n",
       "      <td>4.950</td>\n",
       "      <td>12680.000</td>\n",
       "      <td>France</td>\n",
       "    </tr>\n",
       "  </tbody>\n",
       "</table>\n",
       "</div>"
      ],
      "text/plain": [
       "       InvoiceNo StockCode                      Description  Quantity  \\\n",
       "541906  581587.0   23254.0    CHILDRENS CUTLERY DOLLY GIRL      4.000   \n",
       "541907  581587.0   23255.0  CHILDRENS CUTLERY CIRCUS PARADE     4.000   \n",
       "541908  581587.0   22138.0    BAKING SET 9 PIECE RETROSPOT      3.000   \n",
       "\n",
       "                InvoiceDate  UnitPrice  CustomerID Country  \n",
       "541906  2011-12-09 12:50:00      4.150   12680.000  France  \n",
       "541907  2011-12-09 12:50:00      4.150   12680.000  France  \n",
       "541908  2011-12-09 12:50:00      4.950   12680.000  France  "
      ]
     },
     "execution_count": 5,
     "metadata": {},
     "output_type": "execute_result"
    }
   ],
   "source": [
    "df.tail(3) "
   ]
  },
  {
   "cell_type": "code",
   "execution_count": 6,
   "metadata": {},
   "outputs": [
    {
     "data": {
      "text/html": [
       "<div>\n",
       "<style scoped>\n",
       "    .dataframe tbody tr th:only-of-type {\n",
       "        vertical-align: middle;\n",
       "    }\n",
       "\n",
       "    .dataframe tbody tr th {\n",
       "        vertical-align: top;\n",
       "    }\n",
       "\n",
       "    .dataframe thead th {\n",
       "        text-align: right;\n",
       "    }\n",
       "</style>\n",
       "<table border=\"1\" class=\"dataframe\">\n",
       "  <thead>\n",
       "    <tr style=\"text-align: right;\">\n",
       "      <th></th>\n",
       "      <th>InvoiceNo</th>\n",
       "      <th>StockCode</th>\n",
       "      <th>Description</th>\n",
       "      <th>Quantity</th>\n",
       "      <th>InvoiceDate</th>\n",
       "      <th>UnitPrice</th>\n",
       "      <th>CustomerID</th>\n",
       "      <th>Country</th>\n",
       "    </tr>\n",
       "  </thead>\n",
       "  <tbody>\n",
       "    <tr>\n",
       "      <th>415649</th>\n",
       "      <td>572549.0</td>\n",
       "      <td>22114.0</td>\n",
       "      <td>HOT WATER BOTTLE TEA AND SYMPATHY</td>\n",
       "      <td>1.000</td>\n",
       "      <td>2011-10-24 17:03:00</td>\n",
       "      <td>8.290</td>\n",
       "      <td>NaN</td>\n",
       "      <td>United Kingdom</td>\n",
       "    </tr>\n",
       "    <tr>\n",
       "      <th>305098</th>\n",
       "      <td>563626.0</td>\n",
       "      <td>20725.0</td>\n",
       "      <td>LUNCH BAG RED RETROSPOT</td>\n",
       "      <td>10.000</td>\n",
       "      <td>2011-08-18 10:31:00</td>\n",
       "      <td>1.650</td>\n",
       "      <td>16187.000</td>\n",
       "      <td>United Kingdom</td>\n",
       "    </tr>\n",
       "    <tr>\n",
       "      <th>276004</th>\n",
       "      <td>561026.0</td>\n",
       "      <td>22098.0</td>\n",
       "      <td>BOUDOIR SQUARE TISSUE BOX</td>\n",
       "      <td>1.000</td>\n",
       "      <td>2011-07-24 10:49:00</td>\n",
       "      <td>0.390</td>\n",
       "      <td>17265.000</td>\n",
       "      <td>United Kingdom</td>\n",
       "    </tr>\n",
       "    <tr>\n",
       "      <th>536901</th>\n",
       "      <td>581225.0</td>\n",
       "      <td>22727.0</td>\n",
       "      <td>ALARM CLOCK BAKELIKE RED</td>\n",
       "      <td>4.000</td>\n",
       "      <td>2011-12-08 09:55:00</td>\n",
       "      <td>3.750</td>\n",
       "      <td>17677.000</td>\n",
       "      <td>United Kingdom</td>\n",
       "    </tr>\n",
       "    <tr>\n",
       "      <th>130832</th>\n",
       "      <td>547511.0</td>\n",
       "      <td>79321.0</td>\n",
       "      <td>CHILLI LIGHTS</td>\n",
       "      <td>8.000</td>\n",
       "      <td>2011-03-23 13:44:00</td>\n",
       "      <td>5.750</td>\n",
       "      <td>17411.000</td>\n",
       "      <td>United Kingdom</td>\n",
       "    </tr>\n",
       "  </tbody>\n",
       "</table>\n",
       "</div>"
      ],
      "text/plain": [
       "       InvoiceNo StockCode                        Description  Quantity  \\\n",
       "415649  572549.0   22114.0  HOT WATER BOTTLE TEA AND SYMPATHY     1.000   \n",
       "305098  563626.0   20725.0            LUNCH BAG RED RETROSPOT    10.000   \n",
       "276004  561026.0   22098.0          BOUDOIR SQUARE TISSUE BOX     1.000   \n",
       "536901  581225.0   22727.0          ALARM CLOCK BAKELIKE RED      4.000   \n",
       "130832  547511.0   79321.0                      CHILLI LIGHTS     8.000   \n",
       "\n",
       "                InvoiceDate  UnitPrice  CustomerID         Country  \n",
       "415649  2011-10-24 17:03:00      8.290         NaN  United Kingdom  \n",
       "305098  2011-08-18 10:31:00      1.650   16187.000  United Kingdom  \n",
       "276004  2011-07-24 10:49:00      0.390   17265.000  United Kingdom  \n",
       "536901  2011-12-08 09:55:00      3.750   17677.000  United Kingdom  \n",
       "130832  2011-03-23 13:44:00      5.750   17411.000  United Kingdom  "
      ]
     },
     "execution_count": 6,
     "metadata": {},
     "output_type": "execute_result"
    }
   ],
   "source": [
    "df.sample(5)"
   ]
  },
  {
   "cell_type": "code",
   "execution_count": 7,
   "metadata": {},
   "outputs": [
    {
     "name": "stdout",
     "output_type": "stream",
     "text": [
      "\u001b[1mShape:\u001b[0m(541909, 8)\n",
      "\u001b[1m\u001b[31m****************************************************************************************************\u001b[0m\u001b[1m\n",
      "Info:\n",
      "\u001b[0m\n",
      "<class 'pandas.core.frame.DataFrame'>\n",
      "Int64Index: 541909 entries, 0 to 541908\n",
      "Data columns (total 8 columns):\n",
      " #   Column       Non-Null Count   Dtype  \n",
      "---  ------       --------------   -----  \n",
      " 0   InvoiceNo    541909 non-null  object \n",
      " 1   StockCode    541909 non-null  object \n",
      " 2   Description  540455 non-null  object \n",
      " 3   Quantity     541909 non-null  float64\n",
      " 4   InvoiceDate  541909 non-null  object \n",
      " 5   UnitPrice    541909 non-null  float64\n",
      " 6   CustomerID   406829 non-null  float64\n",
      " 7   Country      541909 non-null  object \n",
      "dtypes: float64(3), object(5)\n",
      "memory usage: 37.2+ MB\n",
      "None\n",
      "\u001b[1m\u001b[31m****************************************************************************************************\u001b[0m\n",
      "\u001b[1mNumber of Uniques:\n",
      "\u001b[0mInvoiceNo      25900\n",
      "StockCode       4070\n",
      "Description     4223\n",
      "Quantity         722\n",
      "InvoiceDate    23260\n",
      "UnitPrice       1630\n",
      "CustomerID      4372\n",
      "Country           38\n",
      "dtype: int64\n",
      "\u001b[1m\u001b[31m****************************************************************************************************\u001b[0m\n",
      "\u001b[1mMissing Values:\n",
      "\u001b[0m             Missing_Number  Missing_Percent\n",
      "CustomerID           135080            0.249\n",
      "Description            1454            0.003\n",
      "\u001b[1m\u001b[31m****************************************************************************************************\u001b[0m\n",
      "\u001b[1mAll Columns:\u001b[0m['InvoiceNo', 'StockCode', 'Description', 'Quantity', 'InvoiceDate', 'UnitPrice', 'CustomerID', 'Country']\n",
      "\u001b[1m\u001b[31m****************************************************************************************************\u001b[0m\n",
      "\u001b[1mColumns after rename:\u001b[0m['invoiceno', 'stockcode', 'description', 'quantity', 'invoicedate', 'unitprice', 'customerid', 'country']\n",
      "\u001b[1m\u001b[31m****************************************************************************************************\u001b[0m\n",
      "\u001b[1mColumns after rename:\u001b[0m['invoiceno', 'stockcode', 'description', 'quantity', 'invoicedate', 'unitprice', 'customerid', 'country']\n",
      "\u001b[1m\u001b[31m****************************************************************************************************\u001b[0m\n",
      "\u001b[1mDescriptive Statistics \n",
      "\u001b[0m        quantity  unitprice  customerid\n",
      "count 541909.000 541909.000  406829.000\n",
      "mean       9.550      4.610   15287.690\n",
      "std      218.080     96.760    1713.600\n",
      "min   -80995.000 -11062.060   12346.000\n",
      "25%        1.000      1.250   13953.000\n",
      "50%        3.000      2.080   15152.000\n",
      "75%       10.000      4.130   16791.000\n",
      "max    80995.000  38970.000   18287.000\n",
      "\u001b[1m\u001b[31m****************************************************************************************************\u001b[0m\n",
      "\u001b[1mDescriptive Statistics (Categorical Columns) \n",
      "\u001b[0m              count unique                                 top    freq\n",
      "invoiceno    541909  25900                            573585.0    1114\n",
      "stockcode    541909   4070                              85123A    2313\n",
      "description  540455   4223  WHITE HANGING HEART T-LIGHT HOLDER    2369\n",
      "invoicedate  541909  23260                 2011-10-31 14:41:00    1114\n",
      "country      541909     38                      United Kingdom  495478\n",
      "\u001b[1m\u001b[31m****************************************************************************************************\u001b[0m\n",
      "\u001b[1mDuplicate check...\u001b[0m\n",
      "There are 5268 duplicated observations in the dataset.\n"
     ]
    }
   ],
   "source": [
    "first_looking(df)\n",
    "duplicate_values(df)"
   ]
  },
  {
   "cell_type": "markdown",
   "metadata": {},
   "source": [
    "**Let's try to get some information by examining the columns in the dataset.**"
   ]
  },
  {
   "cell_type": "code",
   "execution_count": 8,
   "metadata": {},
   "outputs": [
    {
     "data": {
      "text/plain": [
       "Index(['invoiceno', 'stockcode', 'description', 'quantity', 'invoicedate',\n",
       "       'unitprice', 'customerid', 'country'],\n",
       "      dtype='object')"
      ]
     },
     "execution_count": 8,
     "metadata": {},
     "output_type": "execute_result"
    }
   ],
   "source": [
    "df.columns"
   ]
  },
  {
   "cell_type": "markdown",
   "metadata": {},
   "source": [
    "- Since the dataset has 'unitprice' and 'quantity' columns, I'm creating the **total_price** column as I think it can be useful for column analysis. "
   ]
  },
  {
   "cell_type": "code",
   "execution_count": 10,
   "metadata": {},
   "outputs": [
    {
     "data": {
      "text/plain": [
       "0   15.300\n",
       "1   20.340\n",
       "2   22.000\n",
       "Name: total_price, dtype: float64"
      ]
     },
     "execution_count": 10,
     "metadata": {},
     "output_type": "execute_result"
    }
   ],
   "source": [
    "df['total_price'] = df['quantity'] * df['unitprice']\n",
    "df['total_price'].head(3)"
   ]
  },
  {
   "cell_type": "code",
   "execution_count": 11,
   "metadata": {},
   "outputs": [
    {
     "data": {
      "text/plain": [
       "(541909, 9)"
      ]
     },
     "execution_count": 11,
     "metadata": {},
     "output_type": "execute_result"
    }
   ],
   "source": [
    "df.shape"
   ]
  },
  {
   "cell_type": "markdown",
   "metadata": {},
   "source": [
    "**invoiceno**"
   ]
  },
  {
   "cell_type": "code",
   "execution_count": 12,
   "metadata": {},
   "outputs": [
    {
     "name": "stdout",
     "output_type": "stream",
     "text": [
      "\u001b[31mHave a First Look to 'invoice' Column\u001b[0m\n",
      "column name    :  invoiceno\n",
      "--------------------------------\n",
      "per_of_nulls   :  % 0.0\n",
      "num_of_nulls   :  0\n",
      "num_of_uniques :  25900\n",
      "573585.0    1114\n",
      "581219.0     749\n",
      "581492.0     731\n",
      "580729.0     721\n",
      "558475.0     705\n",
      "            ... \n",
      "554023.0       1\n",
      "554022.0       1\n",
      "554021.0       1\n",
      "554020.0       1\n",
      "C558901        1\n",
      "Name: invoiceno, Length: 25900, dtype: int64\n"
     ]
    }
   ],
   "source": [
    "cprint(\"Have a First Look to 'invoice' Column\",'red')\n",
    "first_look('invoiceno')"
   ]
  },
  {
   "cell_type": "code",
   "execution_count": 13,
   "metadata": {},
   "outputs": [
    {
     "name": "stdout",
     "output_type": "stream",
     "text": [
      "\u001b[31mTotal number of invoices for each country :\u001b[0m\n",
      "country\n",
      "United Kingdom          495478\n",
      "Germany                   9495\n",
      "France                    8557\n",
      "EIRE                      8196\n",
      "Spain                     2533\n",
      "Netherlands               2371\n",
      "Belgium                   2069\n",
      "Switzerland               2002\n",
      "Portugal                  1519\n",
      "Australia                 1259\n",
      "Norway                    1086\n",
      "Italy                      803\n",
      "Channel Islands            758\n",
      "Finland                    695\n",
      "Cyprus                     622\n",
      "Sweden                     462\n",
      "Unspecified                446\n",
      "Austria                    401\n",
      "Denmark                    389\n",
      "Japan                      358\n",
      "Poland                     341\n",
      "Israel                     297\n",
      "USA                        291\n",
      "Hong Kong                  288\n",
      "Singapore                  229\n",
      "Iceland                    182\n",
      "Canada                     151\n",
      "Greece                     146\n",
      "Malta                      127\n",
      "United Arab Emirates        68\n",
      "European Community          61\n",
      "RSA                         58\n",
      "Lebanon                     45\n",
      "Lithuania                   35\n",
      "Brazil                      32\n",
      "Czech Republic              30\n",
      "Bahrain                     19\n",
      "Saudi Arabia                10\n",
      "Name: invoiceno, dtype: int64\n"
     ]
    }
   ],
   "source": [
    "cprint(\"Total number of invoices for each country :\",'red')\n",
    "print(df.groupby('country')['invoiceno'].count().sort_values(ascending=False))"
   ]
  },
  {
   "cell_type": "code",
   "execution_count": 14,
   "metadata": {},
   "outputs": [],
   "source": [
    "# fig = px.histogram(df, x = 'country', title = 'Invoice Counts by Country')\n",
    "# fig.show();"
   ]
  },
  {
   "cell_type": "code",
   "execution_count": 15,
   "metadata": {
    "scrolled": true
   },
   "outputs": [
    {
     "data": {
      "text/plain": [
       "334656    566264.0\n",
       "158777    550313.0\n",
       "37993     539492.0\n",
       "329479    565847.0\n",
       "93078     544214.0\n",
       "140448    548405.0\n",
       "403621    571652.0\n",
       "328174    565765.0\n",
       "725       536425.0\n",
       "348159    567378.0\n",
       "502211    578844.0\n",
       "288718    562204.0\n",
       "74356     542420.0\n",
       "326254    565481.0\n",
       "433275    573909.0\n",
       "536243    581219.0\n",
       "304983    563615.0\n",
       "188925    553074.0\n",
       "388172    570420.0\n",
       "366701    568788.0\n",
       "269567    560473.0\n",
       "129304    547382.0\n",
       "334230    566234.0\n",
       "339734    566602.0\n",
       "516076    579865.0\n",
       "Name: invoiceno, dtype: object"
      ]
     },
     "execution_count": 15,
     "metadata": {},
     "output_type": "execute_result"
    }
   ],
   "source": [
    "df['invoiceno'].sample(25)"
   ]
  },
  {
   "cell_type": "code",
   "execution_count": 16,
   "metadata": {},
   "outputs": [
    {
     "name": "stdout",
     "output_type": "stream",
     "text": [
      "\u001b[31mThe Bottom Five invoiceno According to total_price :\u001b[0m\n"
     ]
    },
    {
     "data": {
      "text/plain": [
       "invoiceno  customerid  country       \n",
       "C581484    16446.000   United Kingdom   -168469.600\n",
       "C541433    12346.000   United Kingdom    -77183.600\n",
       "C556445    15098.000   United Kingdom    -38970.000\n",
       "C550456    15749.000   United Kingdom    -22998.400\n",
       "C570556    16029.000   United Kingdom    -11816.640\n",
       "Name: total_price, dtype: float64"
      ]
     },
     "execution_count": 16,
     "metadata": {},
     "output_type": "execute_result"
    }
   ],
   "source": [
    "cprint(\"The Bottom Five invoiceno According to total_price :\",'red')\n",
    "df.groupby(['invoiceno','customerid', 'country'])['total_price'].sum().sort_values().head()"
   ]
  },
  {
   "cell_type": "code",
   "execution_count": 17,
   "metadata": {},
   "outputs": [
    {
     "name": "stdout",
     "output_type": "stream",
     "text": [
      "\u001b[31mThe Top Five invoiceno According to total_price :\u001b[0m\n"
     ]
    },
    {
     "data": {
      "text/plain": [
       "invoiceno  customerid  country       \n",
       "581483.0   16446.000   United Kingdom   168469.600\n",
       "541431.0   12346.000   United Kingdom    77183.600\n",
       "556444.0   15098.000   United Kingdom    38970.000\n",
       "567423.0   17450.000   United Kingdom    31698.160\n",
       "556917.0   12415.000   Australia         22775.930\n",
       "Name: total_price, dtype: float64"
      ]
     },
     "execution_count": 17,
     "metadata": {},
     "output_type": "execute_result"
    }
   ],
   "source": [
    "cprint(\"The Top Five invoiceno According to total_price :\",'red')\n",
    "df.groupby(['invoiceno','customerid', 'country'])['total_price'].sum().sort_values(ascending=False).head()"
   ]
  },
  {
   "cell_type": "code",
   "execution_count": 18,
   "metadata": {},
   "outputs": [
    {
     "name": "stdout",
     "output_type": "stream",
     "text": [
      "\u001b[31mThe Bottom Five invoiceno According to quantity :\u001b[0m\n"
     ]
    },
    {
     "data": {
      "text/plain": [
       "invoiceno  customerid  country       \n",
       "C581484    16446.000   United Kingdom   -80995.000\n",
       "C541433    12346.000   United Kingdom   -74215.000\n",
       "C536757    15838.000   United Kingdom    -9360.000\n",
       "C550456    15749.000   United Kingdom    -9014.000\n",
       "C570556    16029.000   United Kingdom    -6480.000\n",
       "Name: quantity, dtype: float64"
      ]
     },
     "execution_count": 18,
     "metadata": {},
     "output_type": "execute_result"
    }
   ],
   "source": [
    "cprint(\"The Bottom Five invoiceno According to quantity :\",'red')\n",
    "df.groupby(['invoiceno','customerid', 'country'])['quantity'].sum().sort_values().head()"
   ]
  },
  {
   "cell_type": "code",
   "execution_count": 19,
   "metadata": {},
   "outputs": [
    {
     "name": "stdout",
     "output_type": "stream",
     "text": [
      "\u001b[31mThe Top Five invoiceno According to quantity :\u001b[0m\n"
     ]
    },
    {
     "data": {
      "text/plain": [
       "invoiceno  customerid  country       \n",
       "581483.0   16446.000   United Kingdom   80995.000\n",
       "541431.0   12346.000   United Kingdom   74215.000\n",
       "556917.0   12415.000   Australia        15049.000\n",
       "563076.0   14646.000   Netherlands      14730.000\n",
       "572035.0   14646.000   Netherlands      13392.000\n",
       "Name: quantity, dtype: float64"
      ]
     },
     "execution_count": 19,
     "metadata": {},
     "output_type": "execute_result"
    }
   ],
   "source": [
    "cprint(\"The Top Five invoiceno According to quantity :\",'red')\n",
    "df.groupby(['invoiceno','customerid', 'country'])['quantity'].sum().sort_values(ascending=False).head()"
   ]
  },
  {
   "cell_type": "markdown",
   "metadata": {},
   "source": [
    "- When viewing the observation by way of taking example from the 'invoiceno' column, it can be seen that some invoiceno values start with A and C when quantity and total_price below 0. \n",
    "- Let's look how many of the observations starts with A or C."
   ]
  },
  {
   "cell_type": "code",
   "execution_count": 20,
   "metadata": {},
   "outputs": [
    {
     "name": "stdout",
     "output_type": "stream",
     "text": [
      "\u001b[31minvoiceno Starts with A:\u001b[0m\n"
     ]
    },
    {
     "data": {
      "text/plain": [
       "False    541906\n",
       "True          3\n",
       "Name: invoiceno, dtype: int64"
      ]
     },
     "execution_count": 20,
     "metadata": {},
     "output_type": "execute_result"
    }
   ],
   "source": [
    "cprint(\"invoiceno Starts with A:\",'red')\n",
    "df['invoiceno'].str.startswith('A').value_counts()"
   ]
  },
  {
   "cell_type": "code",
   "execution_count": 21,
   "metadata": {},
   "outputs": [
    {
     "name": "stdout",
     "output_type": "stream",
     "text": [
      "\u001b[31minvoiceno Starts with C:\u001b[0m\n"
     ]
    },
    {
     "data": {
      "text/plain": [
       "False    532621\n",
       "True       9288\n",
       "Name: invoiceno, dtype: int64"
      ]
     },
     "execution_count": 21,
     "metadata": {},
     "output_type": "execute_result"
    }
   ],
   "source": [
    "cprint(\"invoiceno Starts with C:\",'red')\n",
    "df['invoiceno'].str.startswith('C').value_counts()"
   ]
  },
  {
   "cell_type": "code",
   "execution_count": 22,
   "metadata": {},
   "outputs": [
    {
     "name": "stdout",
     "output_type": "stream",
     "text": [
      "\u001b[31minvoiceno Starts with A or C:\u001b[0m\n"
     ]
    },
    {
     "data": {
      "text/plain": [
       "False    532618\n",
       "True       9291\n",
       "Name: invoiceno, dtype: int64"
      ]
     },
     "execution_count": 22,
     "metadata": {},
     "output_type": "execute_result"
    }
   ],
   "source": [
    "cprint(\"invoiceno Starts with A or C:\",'red')\n",
    "(df['invoiceno'].str.startswith('C') | df['invoiceno'].str.startswith('A')).value_counts()"
   ]
  },
  {
   "cell_type": "code",
   "execution_count": 23,
   "metadata": {},
   "outputs": [
    {
     "data": {
      "text/plain": [
       "False    532618\n",
       "True       9291\n",
       "Name: invoiceno, dtype: int64"
      ]
     },
     "execution_count": 23,
     "metadata": {},
     "output_type": "execute_result"
    }
   ],
   "source": [
    "df[\"invoiceno\"].str[0].str.isalpha().value_counts()"
   ]
  },
  {
   "cell_type": "code",
   "execution_count": 24,
   "metadata": {},
   "outputs": [],
   "source": [
    "# fig = px.pie(df, values = df['invoiceno'].str.startswith('C').value_counts(), \n",
    "#              names = (df[\"invoiceno\"].str[0].str.isalpha().value_counts()).value_counts().index, \n",
    "#              title = 'invoiceno Starts With A or C')\n",
    "# fig.show()"
   ]
  },
  {
   "cell_type": "markdown",
   "metadata": {},
   "source": [
    "**stockcode**"
   ]
  },
  {
   "cell_type": "code",
   "execution_count": 25,
   "metadata": {},
   "outputs": [
    {
     "name": "stdout",
     "output_type": "stream",
     "text": [
      "\u001b[31mHave a First Look to 'stockcode' Column\u001b[0m\n",
      "column name    :  stockcode\n",
      "--------------------------------\n",
      "per_of_nulls   :  % 0.0\n",
      "num_of_nulls   :  0\n",
      "num_of_uniques :  4070\n",
      "85123A     2313\n",
      "22423.0    2203\n",
      "85099B     2159\n",
      "47566.0    1727\n",
      "20725.0    1639\n",
      "           ... \n",
      "21431.0       1\n",
      "22275.0       1\n",
      "17001.0       1\n",
      "90187A        1\n",
      "72759.0       1\n",
      "Name: stockcode, Length: 4070, dtype: int64\n"
     ]
    }
   ],
   "source": [
    "cprint(\"Have a First Look to 'stockcode' Column\",'red')\n",
    "first_look('stockcode')"
   ]
  },
  {
   "cell_type": "markdown",
   "metadata": {},
   "source": [
    "**description**"
   ]
  },
  {
   "cell_type": "code",
   "execution_count": 26,
   "metadata": {},
   "outputs": [
    {
     "name": "stdout",
     "output_type": "stream",
     "text": [
      "\u001b[31mHave a First Look to 'description' Column\u001b[0m\n",
      "column name    :  description\n",
      "--------------------------------\n",
      "per_of_nulls   :  % 0.27\n",
      "num_of_nulls   :  1454\n",
      "num_of_uniques :  4223\n",
      "WHITE HANGING HEART T-LIGHT HOLDER     2369\n",
      "REGENCY CAKESTAND 3 TIER               2200\n",
      "JUMBO BAG RED RETROSPOT                2159\n",
      "PARTY BUNTING                          1727\n",
      "LUNCH BAG RED RETROSPOT                1638\n",
      "                                       ... \n",
      "Missing                                   1\n",
      "historic computer difference?....se       1\n",
      "DUSTY PINK CHRISTMAS TREE 30CM            1\n",
      "WRAP BLUE RUSSIAN FOLKART                 1\n",
      "PINK BERTIE MOBILE PHONE CHARM            1\n",
      "Name: description, Length: 4224, dtype: int64\n"
     ]
    }
   ],
   "source": [
    "cprint(\"Have a First Look to 'description' Column\",'red')\n",
    "first_look('description')"
   ]
  },
  {
   "cell_type": "markdown",
   "metadata": {},
   "source": [
    "- **Number of unique values** of 'stockcode' & 'description' columns are different. Let's look why?"
   ]
  },
  {
   "cell_type": "markdown",
   "metadata": {},
   "source": [
    "**stockcode & description**"
   ]
  },
  {
   "cell_type": "code",
   "execution_count": 27,
   "metadata": {},
   "outputs": [
    {
     "name": "stdout",
     "output_type": "stream",
     "text": [
      "\u001b[31mNumber of Missing Values\u001b[0m\n"
     ]
    },
    {
     "data": {
      "text/plain": [
       "stockcode         0\n",
       "description    1454\n",
       "dtype: int64"
      ]
     },
     "execution_count": 27,
     "metadata": {},
     "output_type": "execute_result"
    }
   ],
   "source": [
    "cprint(\"Number of Missing Values\",'red')\n",
    "df[['stockcode','description']].isnull().sum()"
   ]
  },
  {
   "cell_type": "code",
   "execution_count": 28,
   "metadata": {},
   "outputs": [
    {
     "name": "stdout",
     "output_type": "stream",
     "text": [
      "\u001b[31mCroos check\u001b[0m\n"
     ]
    },
    {
     "data": {
      "text/html": [
       "<div>\n",
       "<style scoped>\n",
       "    .dataframe tbody tr th:only-of-type {\n",
       "        vertical-align: middle;\n",
       "    }\n",
       "\n",
       "    .dataframe tbody tr th {\n",
       "        vertical-align: top;\n",
       "    }\n",
       "\n",
       "    .dataframe thead th {\n",
       "        text-align: right;\n",
       "    }\n",
       "</style>\n",
       "<table border=\"1\" class=\"dataframe\">\n",
       "  <thead>\n",
       "    <tr style=\"text-align: right;\">\n",
       "      <th></th>\n",
       "      <th>stockcode</th>\n",
       "      <th>description</th>\n",
       "    </tr>\n",
       "  </thead>\n",
       "  <tbody>\n",
       "    <tr>\n",
       "      <th>622</th>\n",
       "      <td>22139.0</td>\n",
       "      <td>NaN</td>\n",
       "    </tr>\n",
       "    <tr>\n",
       "      <th>1970</th>\n",
       "      <td>21134.0</td>\n",
       "      <td>NaN</td>\n",
       "    </tr>\n",
       "    <tr>\n",
       "      <th>1971</th>\n",
       "      <td>22145.0</td>\n",
       "      <td>NaN</td>\n",
       "    </tr>\n",
       "    <tr>\n",
       "      <th>1972</th>\n",
       "      <td>37509.0</td>\n",
       "      <td>NaN</td>\n",
       "    </tr>\n",
       "    <tr>\n",
       "      <th>1987</th>\n",
       "      <td>85226A</td>\n",
       "      <td>NaN</td>\n",
       "    </tr>\n",
       "    <tr>\n",
       "      <th>...</th>\n",
       "      <td>...</td>\n",
       "      <td>...</td>\n",
       "    </tr>\n",
       "    <tr>\n",
       "      <th>535322</th>\n",
       "      <td>84581.0</td>\n",
       "      <td>NaN</td>\n",
       "    </tr>\n",
       "    <tr>\n",
       "      <th>535326</th>\n",
       "      <td>23406.0</td>\n",
       "      <td>NaN</td>\n",
       "    </tr>\n",
       "    <tr>\n",
       "      <th>535332</th>\n",
       "      <td>21620.0</td>\n",
       "      <td>NaN</td>\n",
       "    </tr>\n",
       "    <tr>\n",
       "      <th>536981</th>\n",
       "      <td>72817.0</td>\n",
       "      <td>NaN</td>\n",
       "    </tr>\n",
       "    <tr>\n",
       "      <th>538554</th>\n",
       "      <td>85175.0</td>\n",
       "      <td>NaN</td>\n",
       "    </tr>\n",
       "  </tbody>\n",
       "</table>\n",
       "<p>1454 rows × 2 columns</p>\n",
       "</div>"
      ],
      "text/plain": [
       "       stockcode description\n",
       "622      22139.0         NaN\n",
       "1970     21134.0         NaN\n",
       "1971     22145.0         NaN\n",
       "1972     37509.0         NaN\n",
       "1987      85226A         NaN\n",
       "...          ...         ...\n",
       "535322   84581.0         NaN\n",
       "535326   23406.0         NaN\n",
       "535332   21620.0         NaN\n",
       "536981   72817.0         NaN\n",
       "538554   85175.0         NaN\n",
       "\n",
       "[1454 rows x 2 columns]"
      ]
     },
     "execution_count": 28,
     "metadata": {},
     "output_type": "execute_result"
    }
   ],
   "source": [
    "cprint(\"Croos check\",'red')\n",
    "df[(df['stockcode'].notnull()) & (df['description'].isnull())][['stockcode','description']]"
   ]
  },
  {
   "cell_type": "markdown",
   "metadata": {},
   "source": [
    "- The number of rows in the query result is the same as the missing value of the 'description' column."
   ]
  },
  {
   "cell_type": "code",
   "execution_count": 29,
   "metadata": {},
   "outputs": [
    {
     "name": "stdout",
     "output_type": "stream",
     "text": [
      "\u001b[31mCroos check\u001b[0m\n"
     ]
    },
    {
     "data": {
      "text/html": [
       "<div>\n",
       "<style scoped>\n",
       "    .dataframe tbody tr th:only-of-type {\n",
       "        vertical-align: middle;\n",
       "    }\n",
       "\n",
       "    .dataframe tbody tr th {\n",
       "        vertical-align: top;\n",
       "    }\n",
       "\n",
       "    .dataframe thead th {\n",
       "        text-align: right;\n",
       "    }\n",
       "</style>\n",
       "<table border=\"1\" class=\"dataframe\">\n",
       "  <thead>\n",
       "    <tr style=\"text-align: right;\">\n",
       "      <th></th>\n",
       "      <th>stockcode</th>\n",
       "      <th>description</th>\n",
       "    </tr>\n",
       "  </thead>\n",
       "  <tbody>\n",
       "  </tbody>\n",
       "</table>\n",
       "</div>"
      ],
      "text/plain": [
       "Empty DataFrame\n",
       "Columns: [stockcode, description]\n",
       "Index: []"
      ]
     },
     "execution_count": 29,
     "metadata": {},
     "output_type": "execute_result"
    }
   ],
   "source": [
    "cprint(\"Croos check\",'red')\n",
    "df[(df['description'].notnull()) & (df['stockcode'].isnull())][['stockcode','description']]"
   ]
  },
  {
   "cell_type": "markdown",
   "metadata": {},
   "source": [
    "- Let's check it out on a stockcode. "
   ]
  },
  {
   "cell_type": "code",
   "execution_count": 30,
   "metadata": {},
   "outputs": [
    {
     "name": "stdout",
     "output_type": "stream",
     "text": [
      "\u001b[31mCroos check\u001b[0m\n"
     ]
    },
    {
     "data": {
      "text/plain": [
       "RETROSPOT TEA SET CERAMIC 11 PC     988\n",
       "NaN                                   4\n",
       "amazon                                1\n",
       "Name: description, dtype: int64"
      ]
     },
     "execution_count": 30,
     "metadata": {},
     "output_type": "execute_result"
    }
   ],
   "source": [
    "cprint(\"Croos check\",'red')\n",
    "df[df['stockcode']=='22139.0']['description'].value_counts(dropna=False)"
   ]
  },
  {
   "cell_type": "markdown",
   "metadata": {},
   "source": [
    "- We saw that the unique value numbers of the stockcode and description columns were different, so we did the operations we saw above.\n",
    "- As can be seen above, there are 2 different descriptions for the item with stockcode 22139.0.\n",
    "- The difference between the unique value numbers is due to more than one description entered for an item and the missing value in the description column.\n",
    "- As can be seen above, while there should be a unique description value for each unique stockcode, more than one description was entered. "
   ]
  },
  {
   "cell_type": "markdown",
   "metadata": {},
   "source": [
    "**quantity**"
   ]
  },
  {
   "cell_type": "code",
   "execution_count": 31,
   "metadata": {},
   "outputs": [
    {
     "name": "stdout",
     "output_type": "stream",
     "text": [
      "\u001b[31mHave a First Look to 'stockcode' Column\u001b[0m\n",
      "column name    :  quantity\n",
      "--------------------------------\n",
      "per_of_nulls   :  % 0.0\n",
      "num_of_nulls   :  0\n",
      "num_of_uniques :  722\n",
      "1.000         148227\n",
      "2.000          81829\n",
      "12.000         61063\n",
      "6.000          40868\n",
      "4.000          38484\n",
      "3.000          37121\n",
      "24.000         24021\n",
      "10.000         22288\n",
      "8.000          13129\n",
      "5.000          11757\n",
      "48.000          6068\n",
      "25.000          5124\n",
      "20.000          5019\n",
      "16.000          4266\n",
      "-1.000          4184\n",
      "36.000          3822\n",
      "7.000           2914\n",
      "9.000           2037\n",
      "72.000          1946\n",
      "100.000         1819\n",
      "96.000          1813\n",
      "18.000          1787\n",
      "-2.000          1395\n",
      "30.000          1185\n",
      "40.000          1081\n",
      "32.000          1047\n",
      "144.000         1021\n",
      "11.000           956\n",
      "50.000           916\n",
      "15.000           802\n",
      "60.000           675\n",
      "-3.000           620\n",
      "120.000          605\n",
      "13.000           585\n",
      "14.000           569\n",
      "-12.000          564\n",
      "-6.000           518\n",
      "-4.000           502\n",
      "200.000          419\n",
      "192.000          342\n",
      "64.000           283\n",
      "17.000           270\n",
      "240.000          263\n",
      "-24.000          261\n",
      "288.000          248\n",
      "-5.000           235\n",
      "19.000           223\n",
      "80.000           211\n",
      "-10.000          197\n",
      "21.000           177\n",
      "22.000           169\n",
      "-8.000           169\n",
      "28.000           169\n",
      "108.000          142\n",
      "128.000          133\n",
      "216.000          117\n",
      "27.000           112\n",
      "23.000           110\n",
      "300.000          107\n",
      "-7.000           107\n",
      "26.000           104\n",
      "-48.000           97\n",
      "160.000           92\n",
      "-9.000            87\n",
      "432.000           82\n",
      "480.000           76\n",
      "42.000            72\n",
      "600.000           71\n",
      "-36.000           69\n",
      "150.000           67\n",
      "-20.000           64\n",
      "33.000            64\n",
      "75.000            64\n",
      "29.000            62\n",
      "-11.000           62\n",
      "35.000            60\n",
      "-100.000          60\n",
      "576.000           59\n",
      "360.000           58\n",
      "-16.000           58\n",
      "34.000            56\n",
      "-25.000           55\n",
      "31.000            54\n",
      "400.000           51\n",
      "-18.000           49\n",
      "-30.000           49\n",
      "84.000            48\n",
      "180.000           47\n",
      "384.000           45\n",
      "90.000            44\n",
      "54.000            42\n",
      "-40.000           42\n",
      "37.000            41\n",
      "-14.000           41\n",
      "720.000           41\n",
      "38.000            39\n",
      "70.000            36\n",
      "41.000            35\n",
      "-21.000           34\n",
      "-15.000           34\n",
      "44.000            33\n",
      "-72.000           33\n",
      "56.000            33\n",
      "250.000           32\n",
      "-144.000          32\n",
      "45.000            31\n",
      "-96.000           31\n",
      "-13.000           29\n",
      "-32.000           28\n",
      "47.000            27\n",
      "320.000           27\n",
      "256.000           27\n",
      "43.000            26\n",
      "500.000           26\n",
      "-50.000           25\n",
      "49.000            25\n",
      "39.000            24\n",
      "66.000            23\n",
      "-23.000           23\n",
      "-19.000           22\n",
      "-22.000           22\n",
      "-17.000           21\n",
      "-120.000          21\n",
      "52.000            20\n",
      "168.000           20\n",
      "53.000            19\n",
      "-70.000           19\n",
      "46.000            19\n",
      "-80.000           18\n",
      "1200.000          18\n",
      "57.000            18\n",
      "125.000           16\n",
      "78.000            16\n",
      "71.000            16\n",
      "51.000            16\n",
      "504.000           15\n",
      "408.000           15\n",
      "324.000           15\n",
      "112.000           15\n",
      "-38.000           15\n",
      "-200.000          14\n",
      "65.000            14\n",
      "-35.000           14\n",
      "960.000           14\n",
      "-60.000           13\n",
      "-33.000           13\n",
      "1000.000          13\n",
      "63.000            13\n",
      "58.000            13\n",
      "-42.000           13\n",
      "104.000           13\n",
      "204.000           13\n",
      "864.000           13\n",
      "61.000            12\n",
      "55.000            12\n",
      "-110.000          12\n",
      "-27.000           12\n",
      "62.000            11\n",
      "110.000           11\n",
      "-240.000          11\n",
      "126.000           11\n",
      "-140.000          10\n",
      "94.000            10\n",
      "-31.000           10\n",
      "252.000           10\n",
      "156.000           10\n",
      "140.000           10\n",
      "68.000             9\n",
      "1440.000           9\n",
      "-45.000            9\n",
      "-26.000            9\n",
      "59.000             9\n",
      "800.000            9\n",
      "-49.000            9\n",
      "-39.000            9\n",
      "-54.000            9\n",
      "67.000             9\n",
      "620.000            8\n",
      "-37.000            8\n",
      "-53.000            8\n",
      "-29.000            8\n",
      "1296.000           8\n",
      "88.000             8\n",
      "74.000             8\n",
      "83.000             8\n",
      "89.000             8\n",
      "-46.000            8\n",
      "-108.000           8\n",
      "-288.000           8\n",
      "-84.000            8\n",
      "-28.000            8\n",
      "-41.000            8\n",
      "81.000             8\n",
      "280.000            8\n",
      "1152.000           7\n",
      "85.000             7\n",
      "130.000            7\n",
      "-63.000            7\n",
      "114.000            7\n",
      "-34.000            7\n",
      "-64.000            7\n",
      "86.000             7\n",
      "-1440.000          7\n",
      "76.000             7\n",
      "95.000             7\n",
      "336.000            7\n",
      "-192.000           7\n",
      "-130.000           7\n",
      "138.000            6\n",
      "-300.000           6\n",
      "-43.000            6\n",
      "-47.000            6\n",
      "98.000             6\n",
      "-65.000            6\n",
      "-57.000            6\n",
      "-90.000            6\n",
      "-82.000            6\n",
      "82.000             6\n",
      "132.000            6\n",
      "-150.000           6\n",
      "-160.000           6\n",
      "-52.000            6\n",
      "117.000            5\n",
      "456.000            5\n",
      "73.000             5\n",
      "350.000            5\n",
      "-250.000           5\n",
      "700.000            5\n",
      "-600.000           5\n",
      "220.000            5\n",
      "101.000            5\n",
      "416.000            5\n",
      "118.000            5\n",
      "69.000             5\n",
      "-400.000           5\n",
      "102.000            5\n",
      "-66.000            5\n",
      "-59.000            5\n",
      "-61.000            5\n",
      "91.000             5\n",
      "224.000            5\n",
      "-62.000            5\n",
      "111.000            5\n",
      "312.000            5\n",
      "-77.000            5\n",
      "612.000            4\n",
      "124.000            4\n",
      "264.000            4\n",
      "-102.000           4\n",
      "2400.000           4\n",
      "-220.000           4\n",
      "232.000            4\n",
      "92.000             4\n",
      "-51.000            4\n",
      "186.000            4\n",
      "129.000            4\n",
      "228.000            4\n",
      "171.000            4\n",
      "270.000            4\n",
      "-360.000           4\n",
      "-720.000           4\n",
      "420.000            4\n",
      "-432.000           4\n",
      "-44.000            4\n",
      "-180.000           4\n",
      "121.000            4\n",
      "115.000            4\n",
      "158.000            4\n",
      "1300.000           4\n",
      "1008.000           4\n",
      "93.000             4\n",
      "-94.000            4\n",
      "152.000            4\n",
      "-75.000            4\n",
      "113.000            4\n",
      "2000.000           4\n",
      "105.000            3\n",
      "-86.000            3\n",
      "222.000            3\n",
      "-56.000            3\n",
      "696.000            3\n",
      "-210.000           3\n",
      "236.000            3\n",
      "840.000            3\n",
      "153.000            3\n",
      "-124.000           3\n",
      "624.000            3\n",
      "170.000            3\n",
      "-1300.000          3\n",
      "-58.000            3\n",
      "768.000            3\n",
      "744.000            3\n",
      "-576.000           3\n",
      "-125.000           3\n",
      "640.000            3\n",
      "-126.000           3\n",
      "109.000            3\n",
      "139.000            3\n",
      "-67.000            3\n",
      "-95.000            3\n",
      "246.000            3\n",
      "-230.000           3\n",
      "147.000            3\n",
      "208.000            3\n",
      "-390.000           3\n",
      "1728.000           3\n",
      "176.000            3\n",
      "900.000            3\n",
      "97.000             3\n",
      "116.000            3\n",
      "210.000            3\n",
      "-92.000            3\n",
      "378.000            3\n",
      "1500.000           3\n",
      "79.000             3\n",
      "272.000            3\n",
      "468.000            2\n",
      "-111.000           2\n",
      "-184.000           2\n",
      "198.000            2\n",
      "1600.000           2\n",
      "255.000            2\n",
      "323.000            2\n",
      "-73.000            2\n",
      "-104.000           2\n",
      "-1296.000          2\n",
      "-9600.000          2\n",
      "276.000            2\n",
      "888.000            2\n",
      "143.000            2\n",
      "135.000            2\n",
      "330.000            2\n",
      "151.000            2\n",
      "-93.000            2\n",
      "-68.000            2\n",
      "-201.000           2\n",
      "-170.000           2\n",
      "215.000            2\n",
      "-97.000            2\n",
      "-168.000           2\n",
      "-101.000           2\n",
      "-71.000            2\n",
      "184.000            2\n",
      "756.000            2\n",
      "-74.000            2\n",
      "-840.000           2\n",
      "-177.000           2\n",
      "-145.000           2\n",
      "248.000            2\n",
      "-188.000           2\n",
      "1944.000           2\n",
      "396.000            2\n",
      "496.000            2\n",
      "-69.000            2\n",
      "-138.000           2\n",
      "2880.000           2\n",
      "-152.000           2\n",
      "-156.000           2\n",
      "448.000            2\n",
      "245.000            2\n",
      "-252.000           2\n",
      "-117.000           2\n",
      "-203.000           2\n",
      "352.000            2\n",
      "-121.000           2\n",
      "131.000            2\n",
      "-408.000           2\n",
      "-324.000           2\n",
      "-480.000           2\n",
      "-164.000           2\n",
      "-78.000            2\n",
      "87.000             2\n",
      "540.000            2\n",
      "-179.000           2\n",
      "-109.000           2\n",
      "972.000            2\n",
      "-186.000           2\n",
      "-209.000           2\n",
      "183.000            2\n",
      "99.000             2\n",
      "-147.000           2\n",
      "-55.000            2\n",
      "225.000            2\n",
      "268.000            2\n",
      "-178.000           2\n",
      "-234.000           2\n",
      "3114.000           2\n",
      "167.000            2\n",
      "123.000            2\n",
      "392.000            2\n",
      "164.000            2\n",
      "-76.000            2\n",
      "-1200.000          2\n",
      "670.000            2\n",
      "211.000            2\n",
      "-217.000           2\n",
      "-99.000            2\n",
      "1056.000           2\n",
      "181.000            2\n",
      "304.000            2\n",
      "1930.000           2\n",
      "-207.000           2\n",
      "-87.000            2\n",
      "-162.000           2\n",
      "244.000            2\n",
      "149.000            2\n",
      "-197.000           2\n",
      "-114.000           2\n",
      "3000.000           2\n",
      "-256.000           2\n",
      "-153.000           2\n",
      "136.000            2\n",
      "163.000            2\n",
      "219.000            2\n",
      "-312.000           1\n",
      "-79.000            1\n",
      "404.000            1\n",
      "-1050.000          1\n",
      "133.000            1\n",
      "-131.000           1\n",
      "193.000            1\n",
      "207.000            1\n",
      "-337.000           1\n",
      "-231.000           1\n",
      "-355.000           1\n",
      "-327.000           1\n",
      "-129.000           1\n",
      "-458.000           1\n",
      "-275.000           1\n",
      "-434.000           1\n",
      "-2880.000          1\n",
      "1540.000           1\n",
      "672.000            1\n",
      "-85.000            1\n",
      "199.000            1\n",
      "-752.000           1\n",
      "-1510.000          1\n",
      "-550.000           1\n",
      "494.000            1\n",
      "310.000            1\n",
      "249.000            1\n",
      "-864.000           1\n",
      "450.000            1\n",
      "-3667.000          1\n",
      "-635.000           1\n",
      "-756.000           1\n",
      "698.000            1\n",
      "344.000            1\n",
      "80995.000          1\n",
      "682.000            1\n",
      "-484.000           1\n",
      "-682.000           1\n",
      "750.000            1\n",
      "-384.000           1\n",
      "-235.000           1\n",
      "688.000            1\n",
      "1788.000           1\n",
      "-132.000           1\n",
      "528.000            1\n",
      "1412.000           1\n",
      "852.000            1\n",
      "1428.000           1\n",
      "-338.000           1\n",
      "708.000            1\n",
      "666.000            1\n",
      "1878.000           1\n",
      "306.000            1\n",
      "1130.000           1\n",
      "326.000            1\n",
      "205.000            1\n",
      "-244.000           1\n",
      "654.000            1\n",
      "281.000            1\n",
      "-380.000           1\n",
      "-276.000           1\n",
      "-2003.000          1\n",
      "2040.000           1\n",
      "-1131.000          1\n",
      "-135.000           1\n",
      "-1128.000          1\n",
      "-905.000           1\n",
      "-4830.000          1\n",
      "-674.000           1\n",
      "212.000            1\n",
      "-155.000           1\n",
      "-2618.000          1\n",
      "-1158.000          1\n",
      "-428.000           1\n",
      "-224.000           1\n",
      "-149.000           1\n",
      "1120.000           1\n",
      "-1671.000          1\n",
      "832.000            1\n",
      "257.000            1\n",
      "992.000            1\n",
      "630.000            1\n",
      "12540.000          1\n",
      "370.000            1\n",
      "-175.000           1\n",
      "-267.000           1\n",
      "760.000            1\n",
      "-98.000            1\n",
      "314.000            1\n",
      "-81.000            1\n",
      "774.000            1\n",
      "-1284.000          1\n",
      "-1560.000          1\n",
      "162.000            1\n",
      "2100.000           1\n",
      "-151.000           1\n",
      "1020.000           1\n",
      "234.000            1\n",
      "148.000            1\n",
      "-696.000           1\n",
      "179.000            1\n",
      "388.000            1\n",
      "-306.000           1\n",
      "-270.000           1\n",
      "-365.000           1\n",
      "1820.000           1\n",
      "478.000            1\n",
      "-313.000           1\n",
      "335.000            1\n",
      "253.000            1\n",
      "484.000            1\n",
      "242.000            1\n",
      "375.000            1\n",
      "-430.000           1\n",
      "-800.000           1\n",
      "1404.000           1\n",
      "279.000            1\n",
      "-398.000           1\n",
      "-504.000           1\n",
      "-280.000           1\n",
      "77.000             1\n",
      "1992.000           1\n",
      "137.000            1\n",
      "374.000            1\n",
      "912.000            1\n",
      "628.000            1\n",
      "-900.000           1\n",
      "-1000.000          1\n",
      "-112.000           1\n",
      "4800.000           1\n",
      "-335.000           1\n",
      "-103.000           1\n",
      "177.000            1\n",
      "490.000            1\n",
      "-468.000           1\n",
      "-657.000           1\n",
      "637.000            1\n",
      "-1897.000          1\n",
      "-541.000           1\n",
      "-232.000           1\n",
      "-450.000           1\n",
      "-323.000           1\n",
      "2160.000           1\n",
      "-259.000           1\n",
      "-5368.000          1\n",
      "-1100.000          1\n",
      "-1277.000          1\n",
      "-1121.000          1\n",
      "-741.000           1\n",
      "-975.000           1\n",
      "-345.000           1\n",
      "-675.000           1\n",
      "-3000.000          1\n",
      "-154.000           1\n",
      "-278.000           1\n",
      "-391.000           1\n",
      "-88.000            1\n",
      "-83.000            1\n",
      "-524.000           1\n",
      "-2472.000          1\n",
      "-105.000           1\n",
      "-3114.000          1\n",
      "-2000.000          1\n",
      "-1930.000          1\n",
      "-670.000           1\n",
      "-1092.000          1\n",
      "-750.000           1\n",
      "-1479.000          1\n",
      "-158.000           1\n",
      "-139.000           1\n",
      "-91.000            1\n",
      "-194.000           1\n",
      "-624.000           1\n",
      "-690.000           1\n",
      "165.000            1\n",
      "122.000            1\n",
      "175.000            1\n",
      "342.000            1\n",
      "3906.000           1\n",
      "141.000            1\n",
      "492.000            1\n",
      "-723.000           1\n",
      "197.000            1\n",
      "172.000            1\n",
      "752.000            1\n",
      "-500.000           1\n",
      "213.000            1\n",
      "460.000            1\n",
      "267.000            1\n",
      "106.000            1\n",
      "-223.000           1\n",
      "407.000            1\n",
      "1394.000           1\n",
      "1488.000           1\n",
      "258.000            1\n",
      "402.000            1\n",
      "-320.000           1\n",
      "1400.000           1\n",
      "1824.000           1\n",
      "-9360.000          1\n",
      "-106.000           1\n",
      "-939.000           1\n",
      "-2600.000          1\n",
      "-990.000           1\n",
      "-173.000           1\n",
      "1287.000           1\n",
      "-1430.000          1\n",
      "2592.000           1\n",
      "-206.000           1\n",
      "2560.000           1\n",
      "5568.000           1\n",
      "-1400.000          1\n",
      "-74215.000         1\n",
      "74215.000          1\n",
      "648.000            1\n",
      "-310.000           1\n",
      "1284.000           1\n",
      "1356.000           1\n",
      "1010.000           1\n",
      "860.000            1\n",
      "-290.000           1\n",
      "462.000            1\n",
      "-620.000           1\n",
      "-443.000           1\n",
      "-227.000           1\n",
      "1900.000           1\n",
      "348.000            1\n",
      "-342.000           1\n",
      "-1060.000          1\n",
      "107.000            1\n",
      "142.000            1\n",
      "-346.000           1\n",
      "261.000            1\n",
      "-530.000           1\n",
      "828.000            1\n",
      "-2834.000          1\n",
      "3186.000           1\n",
      "291.000            1\n",
      "-169.000           1\n",
      "3100.000           1\n",
      "-3100.000          1\n",
      "-251.000           1\n",
      "512.000            1\n",
      "157.000            1\n",
      "-343.000           1\n",
      "-455.000           1\n",
      "425.000            1\n",
      "-3167.000          1\n",
      "-967.000           1\n",
      "-242.000           1\n",
      "-115.000           1\n",
      "-113.000           1\n",
      "-318.000           1\n",
      "-334.000           1\n",
      "145.000            1\n",
      "-553.000           1\n",
      "230.000            1\n",
      "410.000            1\n",
      "196.000            1\n",
      "-701.000           1\n",
      "-828.000           1\n",
      "824.000            1\n",
      "684.000            1\n",
      "968.000            1\n",
      "560.000            1\n",
      "701.000            1\n",
      "273.000            1\n",
      "-664.000           1\n",
      "4300.000           1\n",
      "-212.000           1\n",
      "608.000            1\n",
      "738.000            1\n",
      "552.000            1\n",
      "906.000            1\n",
      "2700.000           1\n",
      "227.000            1\n",
      "-413.000           1\n",
      "155.000            1\n",
      "-590.000           1\n",
      "-786.000           1\n",
      "-1350.000          1\n",
      "428.000            1\n",
      "1350.000           1\n",
      "-2376.000          1\n",
      "-960.000           1\n",
      "-1512.000          1\n",
      "146.000            1\n",
      "-116.000           1\n",
      "4000.000           1\n",
      "-304.000           1\n",
      "-1681.000          1\n",
      "430.000            1\n",
      "-118.000           1\n",
      "588.000            1\n",
      "188.000            1\n",
      "-271.000           1\n",
      "-420.000           1\n",
      "660.000            1\n",
      "-9058.000          1\n",
      "-1515.000          1\n",
      "1515.000           1\n",
      "-204.000           1\n",
      "-618.000           1\n",
      "-472.000           1\n",
      "-161.000           1\n",
      "-1206.000          1\n",
      "-272.000           1\n",
      "-80995.000         1\n",
      "Name: quantity, dtype: int64\n"
     ]
    }
   ],
   "source": [
    "cprint(\"Have a First Look to 'stockcode' Column\",'red')\n",
    "first_look('quantity')"
   ]
  },
  {
   "cell_type": "code",
   "execution_count": 32,
   "metadata": {},
   "outputs": [
    {
     "name": "stdout",
     "output_type": "stream",
     "text": [
      "\u001b[31mNumber of Observations That Quantity Values Below 0\u001b[0m\n"
     ]
    },
    {
     "data": {
      "text/plain": [
       "False    531285\n",
       "True      10624\n",
       "Name: quantity, dtype: int64"
      ]
     },
     "execution_count": 32,
     "metadata": {},
     "output_type": "execute_result"
    }
   ],
   "source": [
    "cprint(\"Number of Observations That Quantity Values Below 0\",'red')\n",
    "(df['quantity']<0).value_counts()"
   ]
  },
  {
   "cell_type": "code",
   "execution_count": 33,
   "metadata": {},
   "outputs": [],
   "source": [
    "# fig = px.pie(df, values = (df['quantity'] < 0).value_counts(), \n",
    "#              names = (df['quantity'] < 0).value_counts().index, title = 'quantity Smaller Than 0')\n",
    "# fig.show()"
   ]
  },
  {
   "cell_type": "code",
   "execution_count": 34,
   "metadata": {
    "scrolled": true
   },
   "outputs": [
    {
     "name": "stdout",
     "output_type": "stream",
     "text": [
      "\u001b[31mNumber of Observations That Quantity Values Above 0\u001b[0m\n"
     ]
    },
    {
     "data": {
      "text/html": [
       "<div>\n",
       "<style scoped>\n",
       "    .dataframe tbody tr th:only-of-type {\n",
       "        vertical-align: middle;\n",
       "    }\n",
       "\n",
       "    .dataframe tbody tr th {\n",
       "        vertical-align: top;\n",
       "    }\n",
       "\n",
       "    .dataframe thead th {\n",
       "        text-align: right;\n",
       "    }\n",
       "</style>\n",
       "<table border=\"1\" class=\"dataframe\">\n",
       "  <thead>\n",
       "    <tr style=\"text-align: right;\">\n",
       "      <th></th>\n",
       "      <th>invoiceno</th>\n",
       "      <th>stockcode</th>\n",
       "      <th>description</th>\n",
       "      <th>quantity</th>\n",
       "      <th>invoicedate</th>\n",
       "      <th>unitprice</th>\n",
       "      <th>customerid</th>\n",
       "      <th>country</th>\n",
       "    </tr>\n",
       "  </thead>\n",
       "  <tbody>\n",
       "    <tr>\n",
       "      <th>0</th>\n",
       "      <td>536365.0</td>\n",
       "      <td>85123A</td>\n",
       "      <td>WHITE HANGING HEART T-LIGHT HOLDER</td>\n",
       "      <td>6.000</td>\n",
       "      <td>2010-12-01 08:26:00</td>\n",
       "      <td>2.550</td>\n",
       "      <td>17850.000</td>\n",
       "      <td>United Kingdom</td>\n",
       "    </tr>\n",
       "    <tr>\n",
       "      <th>1</th>\n",
       "      <td>536365.0</td>\n",
       "      <td>71053.0</td>\n",
       "      <td>WHITE METAL LANTERN</td>\n",
       "      <td>6.000</td>\n",
       "      <td>2010-12-01 08:26:00</td>\n",
       "      <td>3.390</td>\n",
       "      <td>17850.000</td>\n",
       "      <td>United Kingdom</td>\n",
       "    </tr>\n",
       "    <tr>\n",
       "      <th>2</th>\n",
       "      <td>536365.0</td>\n",
       "      <td>84406B</td>\n",
       "      <td>CREAM CUPID HEARTS COAT HANGER</td>\n",
       "      <td>8.000</td>\n",
       "      <td>2010-12-01 08:26:00</td>\n",
       "      <td>2.750</td>\n",
       "      <td>17850.000</td>\n",
       "      <td>United Kingdom</td>\n",
       "    </tr>\n",
       "    <tr>\n",
       "      <th>3</th>\n",
       "      <td>536365.0</td>\n",
       "      <td>84029G</td>\n",
       "      <td>KNITTED UNION FLAG HOT WATER BOTTLE</td>\n",
       "      <td>6.000</td>\n",
       "      <td>2010-12-01 08:26:00</td>\n",
       "      <td>3.390</td>\n",
       "      <td>17850.000</td>\n",
       "      <td>United Kingdom</td>\n",
       "    </tr>\n",
       "    <tr>\n",
       "      <th>4</th>\n",
       "      <td>536365.0</td>\n",
       "      <td>84029E</td>\n",
       "      <td>RED WOOLLY HOTTIE WHITE HEART.</td>\n",
       "      <td>6.000</td>\n",
       "      <td>2010-12-01 08:26:00</td>\n",
       "      <td>3.390</td>\n",
       "      <td>17850.000</td>\n",
       "      <td>United Kingdom</td>\n",
       "    </tr>\n",
       "    <tr>\n",
       "      <th>...</th>\n",
       "      <td>...</td>\n",
       "      <td>...</td>\n",
       "      <td>...</td>\n",
       "      <td>...</td>\n",
       "      <td>...</td>\n",
       "      <td>...</td>\n",
       "      <td>...</td>\n",
       "      <td>...</td>\n",
       "    </tr>\n",
       "    <tr>\n",
       "      <th>541904</th>\n",
       "      <td>581587.0</td>\n",
       "      <td>22613.0</td>\n",
       "      <td>PACK OF 20 SPACEBOY NAPKINS</td>\n",
       "      <td>12.000</td>\n",
       "      <td>2011-12-09 12:50:00</td>\n",
       "      <td>0.850</td>\n",
       "      <td>12680.000</td>\n",
       "      <td>France</td>\n",
       "    </tr>\n",
       "    <tr>\n",
       "      <th>541905</th>\n",
       "      <td>581587.0</td>\n",
       "      <td>22899.0</td>\n",
       "      <td>CHILDREN'S APRON DOLLY GIRL</td>\n",
       "      <td>6.000</td>\n",
       "      <td>2011-12-09 12:50:00</td>\n",
       "      <td>2.100</td>\n",
       "      <td>12680.000</td>\n",
       "      <td>France</td>\n",
       "    </tr>\n",
       "    <tr>\n",
       "      <th>541906</th>\n",
       "      <td>581587.0</td>\n",
       "      <td>23254.0</td>\n",
       "      <td>CHILDRENS CUTLERY DOLLY GIRL</td>\n",
       "      <td>4.000</td>\n",
       "      <td>2011-12-09 12:50:00</td>\n",
       "      <td>4.150</td>\n",
       "      <td>12680.000</td>\n",
       "      <td>France</td>\n",
       "    </tr>\n",
       "    <tr>\n",
       "      <th>541907</th>\n",
       "      <td>581587.0</td>\n",
       "      <td>23255.0</td>\n",
       "      <td>CHILDRENS CUTLERY CIRCUS PARADE</td>\n",
       "      <td>4.000</td>\n",
       "      <td>2011-12-09 12:50:00</td>\n",
       "      <td>4.150</td>\n",
       "      <td>12680.000</td>\n",
       "      <td>France</td>\n",
       "    </tr>\n",
       "    <tr>\n",
       "      <th>541908</th>\n",
       "      <td>581587.0</td>\n",
       "      <td>22138.0</td>\n",
       "      <td>BAKING SET 9 PIECE RETROSPOT</td>\n",
       "      <td>3.000</td>\n",
       "      <td>2011-12-09 12:50:00</td>\n",
       "      <td>4.950</td>\n",
       "      <td>12680.000</td>\n",
       "      <td>France</td>\n",
       "    </tr>\n",
       "  </tbody>\n",
       "</table>\n",
       "<p>531285 rows × 8 columns</p>\n",
       "</div>"
      ],
      "text/plain": [
       "       invoiceno stockcode                          description  quantity  \\\n",
       "0       536365.0    85123A   WHITE HANGING HEART T-LIGHT HOLDER     6.000   \n",
       "1       536365.0   71053.0                  WHITE METAL LANTERN     6.000   \n",
       "2       536365.0    84406B       CREAM CUPID HEARTS COAT HANGER     8.000   \n",
       "3       536365.0    84029G  KNITTED UNION FLAG HOT WATER BOTTLE     6.000   \n",
       "4       536365.0    84029E       RED WOOLLY HOTTIE WHITE HEART.     6.000   \n",
       "...          ...       ...                                  ...       ...   \n",
       "541904  581587.0   22613.0          PACK OF 20 SPACEBOY NAPKINS    12.000   \n",
       "541905  581587.0   22899.0         CHILDREN'S APRON DOLLY GIRL      6.000   \n",
       "541906  581587.0   23254.0        CHILDRENS CUTLERY DOLLY GIRL      4.000   \n",
       "541907  581587.0   23255.0      CHILDRENS CUTLERY CIRCUS PARADE     4.000   \n",
       "541908  581587.0   22138.0        BAKING SET 9 PIECE RETROSPOT      3.000   \n",
       "\n",
       "                invoicedate  unitprice  customerid         country  \n",
       "0       2010-12-01 08:26:00      2.550   17850.000  United Kingdom  \n",
       "1       2010-12-01 08:26:00      3.390   17850.000  United Kingdom  \n",
       "2       2010-12-01 08:26:00      2.750   17850.000  United Kingdom  \n",
       "3       2010-12-01 08:26:00      3.390   17850.000  United Kingdom  \n",
       "4       2010-12-01 08:26:00      3.390   17850.000  United Kingdom  \n",
       "...                     ...        ...         ...             ...  \n",
       "541904  2011-12-09 12:50:00      0.850   12680.000          France  \n",
       "541905  2011-12-09 12:50:00      2.100   12680.000          France  \n",
       "541906  2011-12-09 12:50:00      4.150   12680.000          France  \n",
       "541907  2011-12-09 12:50:00      4.150   12680.000          France  \n",
       "541908  2011-12-09 12:50:00      4.950   12680.000          France  \n",
       "\n",
       "[531285 rows x 8 columns]"
      ]
     },
     "execution_count": 34,
     "metadata": {},
     "output_type": "execute_result"
    }
   ],
   "source": [
    "cprint(\"Number of Observations That Quantity Values Above 0\",'red')\n",
    "df[df['quantity'] > 0][['invoiceno', 'stockcode', 'description', 'quantity', 'invoicedate', 'unitprice', 'customerid', 'country']]"
   ]
  },
  {
   "cell_type": "code",
   "execution_count": 35,
   "metadata": {},
   "outputs": [
    {
     "name": "stdout",
     "output_type": "stream",
     "text": [
      "\u001b[31mNumber of Observations That Quantity Values Equal to 0\u001b[0m\n"
     ]
    },
    {
     "data": {
      "text/html": [
       "<div>\n",
       "<style scoped>\n",
       "    .dataframe tbody tr th:only-of-type {\n",
       "        vertical-align: middle;\n",
       "    }\n",
       "\n",
       "    .dataframe tbody tr th {\n",
       "        vertical-align: top;\n",
       "    }\n",
       "\n",
       "    .dataframe thead th {\n",
       "        text-align: right;\n",
       "    }\n",
       "</style>\n",
       "<table border=\"1\" class=\"dataframe\">\n",
       "  <thead>\n",
       "    <tr style=\"text-align: right;\">\n",
       "      <th></th>\n",
       "      <th>invoiceno</th>\n",
       "      <th>stockcode</th>\n",
       "      <th>description</th>\n",
       "      <th>quantity</th>\n",
       "      <th>invoicedate</th>\n",
       "      <th>unitprice</th>\n",
       "      <th>customerid</th>\n",
       "      <th>country</th>\n",
       "    </tr>\n",
       "  </thead>\n",
       "  <tbody>\n",
       "  </tbody>\n",
       "</table>\n",
       "</div>"
      ],
      "text/plain": [
       "Empty DataFrame\n",
       "Columns: [invoiceno, stockcode, description, quantity, invoicedate, unitprice, customerid, country]\n",
       "Index: []"
      ]
     },
     "execution_count": 35,
     "metadata": {},
     "output_type": "execute_result"
    }
   ],
   "source": [
    "cprint(\"Number of Observations That Quantity Values Equal to 0\",'red')\n",
    "df[df['quantity'] == 0][['invoiceno', 'stockcode', 'description', 'quantity', 'invoicedate', 'unitprice', 'customerid', 'country']]"
   ]
  },
  {
   "cell_type": "code",
   "execution_count": 36,
   "metadata": {
    "scrolled": true
   },
   "outputs": [
    {
     "name": "stdout",
     "output_type": "stream",
     "text": [
      "\u001b[31mNumber of Observations That Quantity Values Below 0\u001b[0m\n"
     ]
    },
    {
     "data": {
      "text/html": [
       "<div>\n",
       "<style scoped>\n",
       "    .dataframe tbody tr th:only-of-type {\n",
       "        vertical-align: middle;\n",
       "    }\n",
       "\n",
       "    .dataframe tbody tr th {\n",
       "        vertical-align: top;\n",
       "    }\n",
       "\n",
       "    .dataframe thead th {\n",
       "        text-align: right;\n",
       "    }\n",
       "</style>\n",
       "<table border=\"1\" class=\"dataframe\">\n",
       "  <thead>\n",
       "    <tr style=\"text-align: right;\">\n",
       "      <th></th>\n",
       "      <th>invoiceno</th>\n",
       "      <th>stockcode</th>\n",
       "      <th>description</th>\n",
       "      <th>quantity</th>\n",
       "      <th>invoicedate</th>\n",
       "      <th>unitprice</th>\n",
       "      <th>customerid</th>\n",
       "      <th>country</th>\n",
       "    </tr>\n",
       "  </thead>\n",
       "  <tbody>\n",
       "    <tr>\n",
       "      <th>141</th>\n",
       "      <td>C536379</td>\n",
       "      <td>D</td>\n",
       "      <td>Discount</td>\n",
       "      <td>-1.000</td>\n",
       "      <td>2010-12-01 09:41:00</td>\n",
       "      <td>27.500</td>\n",
       "      <td>14527.000</td>\n",
       "      <td>United Kingdom</td>\n",
       "    </tr>\n",
       "    <tr>\n",
       "      <th>154</th>\n",
       "      <td>C536383</td>\n",
       "      <td>35004C</td>\n",
       "      <td>SET OF 3 COLOURED  FLYING DUCKS</td>\n",
       "      <td>-1.000</td>\n",
       "      <td>2010-12-01 09:49:00</td>\n",
       "      <td>4.650</td>\n",
       "      <td>15311.000</td>\n",
       "      <td>United Kingdom</td>\n",
       "    </tr>\n",
       "    <tr>\n",
       "      <th>235</th>\n",
       "      <td>C536391</td>\n",
       "      <td>22556.0</td>\n",
       "      <td>PLASTERS IN TIN CIRCUS PARADE</td>\n",
       "      <td>-12.000</td>\n",
       "      <td>2010-12-01 10:24:00</td>\n",
       "      <td>1.650</td>\n",
       "      <td>17548.000</td>\n",
       "      <td>United Kingdom</td>\n",
       "    </tr>\n",
       "    <tr>\n",
       "      <th>236</th>\n",
       "      <td>C536391</td>\n",
       "      <td>21984.0</td>\n",
       "      <td>PACK OF 12 PINK PAISLEY TISSUES</td>\n",
       "      <td>-24.000</td>\n",
       "      <td>2010-12-01 10:24:00</td>\n",
       "      <td>0.290</td>\n",
       "      <td>17548.000</td>\n",
       "      <td>United Kingdom</td>\n",
       "    </tr>\n",
       "    <tr>\n",
       "      <th>237</th>\n",
       "      <td>C536391</td>\n",
       "      <td>21983.0</td>\n",
       "      <td>PACK OF 12 BLUE PAISLEY TISSUES</td>\n",
       "      <td>-24.000</td>\n",
       "      <td>2010-12-01 10:24:00</td>\n",
       "      <td>0.290</td>\n",
       "      <td>17548.000</td>\n",
       "      <td>United Kingdom</td>\n",
       "    </tr>\n",
       "    <tr>\n",
       "      <th>...</th>\n",
       "      <td>...</td>\n",
       "      <td>...</td>\n",
       "      <td>...</td>\n",
       "      <td>...</td>\n",
       "      <td>...</td>\n",
       "      <td>...</td>\n",
       "      <td>...</td>\n",
       "      <td>...</td>\n",
       "    </tr>\n",
       "    <tr>\n",
       "      <th>540449</th>\n",
       "      <td>C581490</td>\n",
       "      <td>23144.0</td>\n",
       "      <td>ZINC T-LIGHT HOLDER STARS SMALL</td>\n",
       "      <td>-11.000</td>\n",
       "      <td>2011-12-09 09:57:00</td>\n",
       "      <td>0.830</td>\n",
       "      <td>14397.000</td>\n",
       "      <td>United Kingdom</td>\n",
       "    </tr>\n",
       "    <tr>\n",
       "      <th>541541</th>\n",
       "      <td>C581499</td>\n",
       "      <td>M</td>\n",
       "      <td>Manual</td>\n",
       "      <td>-1.000</td>\n",
       "      <td>2011-12-09 10:28:00</td>\n",
       "      <td>224.690</td>\n",
       "      <td>15498.000</td>\n",
       "      <td>United Kingdom</td>\n",
       "    </tr>\n",
       "    <tr>\n",
       "      <th>541715</th>\n",
       "      <td>C581568</td>\n",
       "      <td>21258.0</td>\n",
       "      <td>VICTORIAN SEWING BOX LARGE</td>\n",
       "      <td>-5.000</td>\n",
       "      <td>2011-12-09 11:57:00</td>\n",
       "      <td>10.950</td>\n",
       "      <td>15311.000</td>\n",
       "      <td>United Kingdom</td>\n",
       "    </tr>\n",
       "    <tr>\n",
       "      <th>541716</th>\n",
       "      <td>C581569</td>\n",
       "      <td>84978.0</td>\n",
       "      <td>HANGING HEART JAR T-LIGHT HOLDER</td>\n",
       "      <td>-1.000</td>\n",
       "      <td>2011-12-09 11:58:00</td>\n",
       "      <td>1.250</td>\n",
       "      <td>17315.000</td>\n",
       "      <td>United Kingdom</td>\n",
       "    </tr>\n",
       "    <tr>\n",
       "      <th>541717</th>\n",
       "      <td>C581569</td>\n",
       "      <td>20979.0</td>\n",
       "      <td>36 PENCILS TUBE RED RETROSPOT</td>\n",
       "      <td>-5.000</td>\n",
       "      <td>2011-12-09 11:58:00</td>\n",
       "      <td>1.250</td>\n",
       "      <td>17315.000</td>\n",
       "      <td>United Kingdom</td>\n",
       "    </tr>\n",
       "  </tbody>\n",
       "</table>\n",
       "<p>10624 rows × 8 columns</p>\n",
       "</div>"
      ],
      "text/plain": [
       "       invoiceno stockcode                       description  quantity  \\\n",
       "141      C536379         D                          Discount    -1.000   \n",
       "154      C536383    35004C   SET OF 3 COLOURED  FLYING DUCKS    -1.000   \n",
       "235      C536391   22556.0    PLASTERS IN TIN CIRCUS PARADE    -12.000   \n",
       "236      C536391   21984.0  PACK OF 12 PINK PAISLEY TISSUES    -24.000   \n",
       "237      C536391   21983.0  PACK OF 12 BLUE PAISLEY TISSUES    -24.000   \n",
       "...          ...       ...                               ...       ...   \n",
       "540449   C581490   23144.0   ZINC T-LIGHT HOLDER STARS SMALL   -11.000   \n",
       "541541   C581499         M                            Manual    -1.000   \n",
       "541715   C581568   21258.0        VICTORIAN SEWING BOX LARGE    -5.000   \n",
       "541716   C581569   84978.0  HANGING HEART JAR T-LIGHT HOLDER    -1.000   \n",
       "541717   C581569   20979.0     36 PENCILS TUBE RED RETROSPOT    -5.000   \n",
       "\n",
       "                invoicedate  unitprice  customerid         country  \n",
       "141     2010-12-01 09:41:00     27.500   14527.000  United Kingdom  \n",
       "154     2010-12-01 09:49:00      4.650   15311.000  United Kingdom  \n",
       "235     2010-12-01 10:24:00      1.650   17548.000  United Kingdom  \n",
       "236     2010-12-01 10:24:00      0.290   17548.000  United Kingdom  \n",
       "237     2010-12-01 10:24:00      0.290   17548.000  United Kingdom  \n",
       "...                     ...        ...         ...             ...  \n",
       "540449  2011-12-09 09:57:00      0.830   14397.000  United Kingdom  \n",
       "541541  2011-12-09 10:28:00    224.690   15498.000  United Kingdom  \n",
       "541715  2011-12-09 11:57:00     10.950   15311.000  United Kingdom  \n",
       "541716  2011-12-09 11:58:00      1.250   17315.000  United Kingdom  \n",
       "541717  2011-12-09 11:58:00      1.250   17315.000  United Kingdom  \n",
       "\n",
       "[10624 rows x 8 columns]"
      ]
     },
     "execution_count": 36,
     "metadata": {},
     "output_type": "execute_result"
    }
   ],
   "source": [
    "cprint(\"Number of Observations That Quantity Values Below 0\",'red')\n",
    "df[df['quantity'] < 0][['invoiceno', 'stockcode', 'description', 'quantity', 'invoicedate', 'unitprice', 'customerid', 'country']]"
   ]
  },
  {
   "cell_type": "markdown",
   "metadata": {},
   "source": [
    "**unitprice**"
   ]
  },
  {
   "cell_type": "code",
   "execution_count": 37,
   "metadata": {},
   "outputs": [
    {
     "name": "stdout",
     "output_type": "stream",
     "text": [
      "\u001b[31mHave a First Look to 'unitprice' Column\u001b[0m\n",
      "column name    :  unitprice\n",
      "--------------------------------\n",
      "per_of_nulls   :  % 0.0\n",
      "num_of_nulls   :  0\n",
      "num_of_uniques :  1630\n",
      "1.250      50496\n",
      "1.650      38181\n",
      "0.850      28497\n",
      "2.950      27768\n",
      "0.420      24533\n",
      "           ...  \n",
      "84.210         1\n",
      "46.860         1\n",
      "28.660         1\n",
      "156.450        1\n",
      "224.690        1\n",
      "Name: unitprice, Length: 1630, dtype: int64\n"
     ]
    }
   ],
   "source": [
    "cprint(\"Have a First Look to 'unitprice' Column\",'red')\n",
    "first_look('unitprice')"
   ]
  },
  {
   "cell_type": "code",
   "execution_count": 38,
   "metadata": {},
   "outputs": [
    {
     "name": "stdout",
     "output_type": "stream",
     "text": [
      "\u001b[31mNumber of Observations That Unitprice Values Above 0\u001b[0m\n"
     ]
    },
    {
     "data": {
      "text/html": [
       "<div>\n",
       "<style scoped>\n",
       "    .dataframe tbody tr th:only-of-type {\n",
       "        vertical-align: middle;\n",
       "    }\n",
       "\n",
       "    .dataframe tbody tr th {\n",
       "        vertical-align: top;\n",
       "    }\n",
       "\n",
       "    .dataframe thead th {\n",
       "        text-align: right;\n",
       "    }\n",
       "</style>\n",
       "<table border=\"1\" class=\"dataframe\">\n",
       "  <thead>\n",
       "    <tr style=\"text-align: right;\">\n",
       "      <th></th>\n",
       "      <th>invoiceno</th>\n",
       "      <th>stockcode</th>\n",
       "      <th>description</th>\n",
       "      <th>quantity</th>\n",
       "      <th>invoicedate</th>\n",
       "      <th>unitprice</th>\n",
       "      <th>customerid</th>\n",
       "      <th>country</th>\n",
       "    </tr>\n",
       "  </thead>\n",
       "  <tbody>\n",
       "    <tr>\n",
       "      <th>0</th>\n",
       "      <td>536365.0</td>\n",
       "      <td>85123A</td>\n",
       "      <td>WHITE HANGING HEART T-LIGHT HOLDER</td>\n",
       "      <td>6.000</td>\n",
       "      <td>2010-12-01 08:26:00</td>\n",
       "      <td>2.550</td>\n",
       "      <td>17850.000</td>\n",
       "      <td>United Kingdom</td>\n",
       "    </tr>\n",
       "    <tr>\n",
       "      <th>1</th>\n",
       "      <td>536365.0</td>\n",
       "      <td>71053.0</td>\n",
       "      <td>WHITE METAL LANTERN</td>\n",
       "      <td>6.000</td>\n",
       "      <td>2010-12-01 08:26:00</td>\n",
       "      <td>3.390</td>\n",
       "      <td>17850.000</td>\n",
       "      <td>United Kingdom</td>\n",
       "    </tr>\n",
       "    <tr>\n",
       "      <th>2</th>\n",
       "      <td>536365.0</td>\n",
       "      <td>84406B</td>\n",
       "      <td>CREAM CUPID HEARTS COAT HANGER</td>\n",
       "      <td>8.000</td>\n",
       "      <td>2010-12-01 08:26:00</td>\n",
       "      <td>2.750</td>\n",
       "      <td>17850.000</td>\n",
       "      <td>United Kingdom</td>\n",
       "    </tr>\n",
       "    <tr>\n",
       "      <th>3</th>\n",
       "      <td>536365.0</td>\n",
       "      <td>84029G</td>\n",
       "      <td>KNITTED UNION FLAG HOT WATER BOTTLE</td>\n",
       "      <td>6.000</td>\n",
       "      <td>2010-12-01 08:26:00</td>\n",
       "      <td>3.390</td>\n",
       "      <td>17850.000</td>\n",
       "      <td>United Kingdom</td>\n",
       "    </tr>\n",
       "    <tr>\n",
       "      <th>4</th>\n",
       "      <td>536365.0</td>\n",
       "      <td>84029E</td>\n",
       "      <td>RED WOOLLY HOTTIE WHITE HEART.</td>\n",
       "      <td>6.000</td>\n",
       "      <td>2010-12-01 08:26:00</td>\n",
       "      <td>3.390</td>\n",
       "      <td>17850.000</td>\n",
       "      <td>United Kingdom</td>\n",
       "    </tr>\n",
       "  </tbody>\n",
       "</table>\n",
       "</div>"
      ],
      "text/plain": [
       "  invoiceno stockcode                          description  quantity  \\\n",
       "0  536365.0    85123A   WHITE HANGING HEART T-LIGHT HOLDER     6.000   \n",
       "1  536365.0   71053.0                  WHITE METAL LANTERN     6.000   \n",
       "2  536365.0    84406B       CREAM CUPID HEARTS COAT HANGER     8.000   \n",
       "3  536365.0    84029G  KNITTED UNION FLAG HOT WATER BOTTLE     6.000   \n",
       "4  536365.0    84029E       RED WOOLLY HOTTIE WHITE HEART.     6.000   \n",
       "\n",
       "           invoicedate  unitprice  customerid         country  \n",
       "0  2010-12-01 08:26:00      2.550   17850.000  United Kingdom  \n",
       "1  2010-12-01 08:26:00      3.390   17850.000  United Kingdom  \n",
       "2  2010-12-01 08:26:00      2.750   17850.000  United Kingdom  \n",
       "3  2010-12-01 08:26:00      3.390   17850.000  United Kingdom  \n",
       "4  2010-12-01 08:26:00      3.390   17850.000  United Kingdom  "
      ]
     },
     "execution_count": 38,
     "metadata": {},
     "output_type": "execute_result"
    }
   ],
   "source": [
    "cprint(\"Number of Observations That Unitprice Values Above 0\",'red')\n",
    "df[df['unitprice'] > 0][['invoiceno', 'stockcode', 'description', 'quantity', 'invoicedate', 'unitprice', 'customerid', 'country']].head()"
   ]
  },
  {
   "cell_type": "code",
   "execution_count": 39,
   "metadata": {},
   "outputs": [
    {
     "name": "stdout",
     "output_type": "stream",
     "text": [
      "\u001b[31mNumber of Observations That Unitprice Values Equal to 0\u001b[0m\n"
     ]
    },
    {
     "data": {
      "text/html": [
       "<div>\n",
       "<style scoped>\n",
       "    .dataframe tbody tr th:only-of-type {\n",
       "        vertical-align: middle;\n",
       "    }\n",
       "\n",
       "    .dataframe tbody tr th {\n",
       "        vertical-align: top;\n",
       "    }\n",
       "\n",
       "    .dataframe thead th {\n",
       "        text-align: right;\n",
       "    }\n",
       "</style>\n",
       "<table border=\"1\" class=\"dataframe\">\n",
       "  <thead>\n",
       "    <tr style=\"text-align: right;\">\n",
       "      <th></th>\n",
       "      <th>invoiceno</th>\n",
       "      <th>stockcode</th>\n",
       "      <th>description</th>\n",
       "      <th>quantity</th>\n",
       "      <th>invoicedate</th>\n",
       "      <th>unitprice</th>\n",
       "      <th>customerid</th>\n",
       "      <th>country</th>\n",
       "    </tr>\n",
       "  </thead>\n",
       "  <tbody>\n",
       "    <tr>\n",
       "      <th>622</th>\n",
       "      <td>536414.0</td>\n",
       "      <td>22139.0</td>\n",
       "      <td>NaN</td>\n",
       "      <td>56.000</td>\n",
       "      <td>2010-12-01 11:52:00</td>\n",
       "      <td>0.000</td>\n",
       "      <td>NaN</td>\n",
       "      <td>United Kingdom</td>\n",
       "    </tr>\n",
       "    <tr>\n",
       "      <th>1970</th>\n",
       "      <td>536545.0</td>\n",
       "      <td>21134.0</td>\n",
       "      <td>NaN</td>\n",
       "      <td>1.000</td>\n",
       "      <td>2010-12-01 14:32:00</td>\n",
       "      <td>0.000</td>\n",
       "      <td>NaN</td>\n",
       "      <td>United Kingdom</td>\n",
       "    </tr>\n",
       "    <tr>\n",
       "      <th>1971</th>\n",
       "      <td>536546.0</td>\n",
       "      <td>22145.0</td>\n",
       "      <td>NaN</td>\n",
       "      <td>1.000</td>\n",
       "      <td>2010-12-01 14:33:00</td>\n",
       "      <td>0.000</td>\n",
       "      <td>NaN</td>\n",
       "      <td>United Kingdom</td>\n",
       "    </tr>\n",
       "    <tr>\n",
       "      <th>1972</th>\n",
       "      <td>536547.0</td>\n",
       "      <td>37509.0</td>\n",
       "      <td>NaN</td>\n",
       "      <td>1.000</td>\n",
       "      <td>2010-12-01 14:33:00</td>\n",
       "      <td>0.000</td>\n",
       "      <td>NaN</td>\n",
       "      <td>United Kingdom</td>\n",
       "    </tr>\n",
       "    <tr>\n",
       "      <th>1987</th>\n",
       "      <td>536549.0</td>\n",
       "      <td>85226A</td>\n",
       "      <td>NaN</td>\n",
       "      <td>1.000</td>\n",
       "      <td>2010-12-01 14:34:00</td>\n",
       "      <td>0.000</td>\n",
       "      <td>NaN</td>\n",
       "      <td>United Kingdom</td>\n",
       "    </tr>\n",
       "  </tbody>\n",
       "</table>\n",
       "</div>"
      ],
      "text/plain": [
       "     invoiceno stockcode description  quantity          invoicedate  \\\n",
       "622   536414.0   22139.0         NaN    56.000  2010-12-01 11:52:00   \n",
       "1970  536545.0   21134.0         NaN     1.000  2010-12-01 14:32:00   \n",
       "1971  536546.0   22145.0         NaN     1.000  2010-12-01 14:33:00   \n",
       "1972  536547.0   37509.0         NaN     1.000  2010-12-01 14:33:00   \n",
       "1987  536549.0    85226A         NaN     1.000  2010-12-01 14:34:00   \n",
       "\n",
       "      unitprice  customerid         country  \n",
       "622       0.000         NaN  United Kingdom  \n",
       "1970      0.000         NaN  United Kingdom  \n",
       "1971      0.000         NaN  United Kingdom  \n",
       "1972      0.000         NaN  United Kingdom  \n",
       "1987      0.000         NaN  United Kingdom  "
      ]
     },
     "execution_count": 39,
     "metadata": {},
     "output_type": "execute_result"
    }
   ],
   "source": [
    "cprint(\"Number of Observations That Unitprice Values Equal to 0\",'red')\n",
    "df[df['unitprice']==0][['invoiceno', 'stockcode', 'description', 'quantity', 'invoicedate', 'unitprice', 'customerid', 'country']].head()"
   ]
  },
  {
   "cell_type": "code",
   "execution_count": 40,
   "metadata": {},
   "outputs": [
    {
     "name": "stdout",
     "output_type": "stream",
     "text": [
      "\u001b[31mNumber of Observations That Unitprice Values Below 0\u001b[0m\n"
     ]
    },
    {
     "data": {
      "text/html": [
       "<div>\n",
       "<style scoped>\n",
       "    .dataframe tbody tr th:only-of-type {\n",
       "        vertical-align: middle;\n",
       "    }\n",
       "\n",
       "    .dataframe tbody tr th {\n",
       "        vertical-align: top;\n",
       "    }\n",
       "\n",
       "    .dataframe thead th {\n",
       "        text-align: right;\n",
       "    }\n",
       "</style>\n",
       "<table border=\"1\" class=\"dataframe\">\n",
       "  <thead>\n",
       "    <tr style=\"text-align: right;\">\n",
       "      <th></th>\n",
       "      <th>invoiceno</th>\n",
       "      <th>stockcode</th>\n",
       "      <th>description</th>\n",
       "      <th>quantity</th>\n",
       "      <th>invoicedate</th>\n",
       "      <th>unitprice</th>\n",
       "      <th>customerid</th>\n",
       "      <th>country</th>\n",
       "    </tr>\n",
       "  </thead>\n",
       "  <tbody>\n",
       "    <tr>\n",
       "      <th>299983</th>\n",
       "      <td>A563186</td>\n",
       "      <td>B</td>\n",
       "      <td>Adjust bad debt</td>\n",
       "      <td>1.000</td>\n",
       "      <td>2011-08-12 14:51:00</td>\n",
       "      <td>-11062.060</td>\n",
       "      <td>NaN</td>\n",
       "      <td>United Kingdom</td>\n",
       "    </tr>\n",
       "    <tr>\n",
       "      <th>299984</th>\n",
       "      <td>A563187</td>\n",
       "      <td>B</td>\n",
       "      <td>Adjust bad debt</td>\n",
       "      <td>1.000</td>\n",
       "      <td>2011-08-12 14:52:00</td>\n",
       "      <td>-11062.060</td>\n",
       "      <td>NaN</td>\n",
       "      <td>United Kingdom</td>\n",
       "    </tr>\n",
       "  </tbody>\n",
       "</table>\n",
       "</div>"
      ],
      "text/plain": [
       "       invoiceno stockcode      description  quantity          invoicedate  \\\n",
       "299983   A563186         B  Adjust bad debt     1.000  2011-08-12 14:51:00   \n",
       "299984   A563187         B  Adjust bad debt     1.000  2011-08-12 14:52:00   \n",
       "\n",
       "        unitprice  customerid         country  \n",
       "299983 -11062.060         NaN  United Kingdom  \n",
       "299984 -11062.060         NaN  United Kingdom  "
      ]
     },
     "execution_count": 40,
     "metadata": {},
     "output_type": "execute_result"
    }
   ],
   "source": [
    "cprint(\"Number of Observations That Unitprice Values Below 0\",'red')\n",
    "df[df['unitprice']<0][['invoiceno', 'stockcode', 'description', 'quantity', 'invoicedate', 'unitprice', 'customerid', 'country']].head()"
   ]
  },
  {
   "cell_type": "markdown",
   "metadata": {},
   "source": [
    "**customerid**"
   ]
  },
  {
   "cell_type": "code",
   "execution_count": 41,
   "metadata": {},
   "outputs": [
    {
     "name": "stdout",
     "output_type": "stream",
     "text": [
      "\u001b[31mHave a First Look to 'customerid' Column\u001b[0m\n",
      "column name    :  customerid\n",
      "--------------------------------\n",
      "per_of_nulls   :  % 24.93\n",
      "num_of_nulls   :  135080\n",
      "num_of_uniques :  4372\n",
      "NaN          135080\n",
      "17841.000      7983\n",
      "14911.000      5903\n",
      "14096.000      5128\n",
      "12748.000      4642\n",
      "              ...  \n",
      "13270.000         1\n",
      "17763.000         1\n",
      "17291.000         1\n",
      "15668.000         1\n",
      "15562.000         1\n",
      "Name: customerid, Length: 4373, dtype: int64\n"
     ]
    }
   ],
   "source": [
    "cprint(\"Have a First Look to 'customerid' Column\",'red')\n",
    "first_look('customerid')"
   ]
  },
  {
   "cell_type": "code",
   "execution_count": 42,
   "metadata": {},
   "outputs": [],
   "source": [
    "# fig = px.histogram(df, x = 'country', y = 'customerid', title = 'Customer Counts by Country')\n",
    "# fig.show()"
   ]
  },
  {
   "cell_type": "code",
   "execution_count": 43,
   "metadata": {},
   "outputs": [
    {
     "name": "stdout",
     "output_type": "stream",
     "text": [
      "\u001b[31mCustomer by number of orders (Bottom 5)\u001b[0m\n"
     ]
    },
    {
     "data": {
      "text/plain": [
       "customerid  country       \n",
       "16579.000   United Kingdom    1\n",
       "12505.000   Italy             1\n",
       "13366.000   United Kingdom    1\n",
       "12503.000   Spain             1\n",
       "15562.000   United Kingdom    1\n",
       "Name: invoiceno, dtype: int64"
      ]
     },
     "execution_count": 43,
     "metadata": {},
     "output_type": "execute_result"
    }
   ],
   "source": [
    "cprint(\"Customer by number of orders (Bottom 5)\",'red')\n",
    "df.groupby(['customerid', 'country'])['invoiceno'].count().sort_values().head()"
   ]
  },
  {
   "cell_type": "code",
   "execution_count": 44,
   "metadata": {},
   "outputs": [
    {
     "name": "stdout",
     "output_type": "stream",
     "text": [
      "\u001b[31mCustomer by number of orders (Top 5)\u001b[0m\n"
     ]
    },
    {
     "data": {
      "text/plain": [
       "customerid  country       \n",
       "17841.000   United Kingdom    7983\n",
       "14911.000   EIRE              5903\n",
       "14096.000   United Kingdom    5128\n",
       "12748.000   United Kingdom    4642\n",
       "14606.000   United Kingdom    2782\n",
       "Name: invoiceno, dtype: int64"
      ]
     },
     "execution_count": 44,
     "metadata": {},
     "output_type": "execute_result"
    }
   ],
   "source": [
    "cprint(\"Customer by number of orders (Top 5)\",'red')\n",
    "df.groupby(['customerid', 'country'])['invoiceno'].count().sort_values(ascending=False).head()"
   ]
  },
  {
   "cell_type": "code",
   "execution_count": 45,
   "metadata": {},
   "outputs": [
    {
     "name": "stdout",
     "output_type": "stream",
     "text": [
      "\u001b[31mCustomer status according to the number of pieces in the orders (Bottom 5)\u001b[0m\n"
     ]
    },
    {
     "data": {
      "text/plain": [
       "customerid  country       \n",
       "16546.000   United Kingdom   -303.000\n",
       "15823.000   United Kingdom   -283.000\n",
       "14213.000   United Kingdom   -244.000\n",
       "16742.000   United Kingdom   -189.000\n",
       "16252.000   United Kingdom   -158.000\n",
       "Name: quantity, dtype: float64"
      ]
     },
     "execution_count": 45,
     "metadata": {},
     "output_type": "execute_result"
    }
   ],
   "source": [
    "cprint(\"Customer status according to the number of pieces in the orders (Bottom 5)\",'red')\n",
    "df.groupby(['customerid', 'country'])['quantity'].sum().sort_values().head()"
   ]
  },
  {
   "cell_type": "code",
   "execution_count": 46,
   "metadata": {},
   "outputs": [
    {
     "name": "stdout",
     "output_type": "stream",
     "text": [
      "\u001b[31mCustomer status according to the number of pieces in the orders (Top 5)\u001b[0m\n"
     ]
    },
    {
     "data": {
      "text/plain": [
       "customerid  country       \n",
       "14646.000   Netherlands      196719.000\n",
       "12415.000   Australia         77242.000\n",
       "14911.000   EIRE              77180.000\n",
       "17450.000   United Kingdom    69029.000\n",
       "18102.000   United Kingdom    64122.000\n",
       "Name: quantity, dtype: float64"
      ]
     },
     "execution_count": 46,
     "metadata": {},
     "output_type": "execute_result"
    }
   ],
   "source": [
    "cprint(\"Customer status according to the number of pieces in the orders (Top 5)\",'red')\n",
    "df.groupby(['customerid', 'country'])['quantity'].sum().sort_values(ascending=False).head()"
   ]
  },
  {
   "cell_type": "code",
   "execution_count": 47,
   "metadata": {},
   "outputs": [
    {
     "name": "stdout",
     "output_type": "stream",
     "text": [
      "\u001b[31mCustomer status according to the spendings (Bottom 5)\u001b[0m\n"
     ]
    },
    {
     "data": {
      "text/plain": [
       "customerid  country       \n",
       "17448.000   United Kingdom   -4287.630\n",
       "15369.000   United Kingdom   -1592.490\n",
       "14213.000   United Kingdom   -1192.200\n",
       "17603.000   United Kingdom   -1165.300\n",
       "12503.000   Spain            -1126.000\n",
       "Name: total_price, dtype: float64"
      ]
     },
     "execution_count": 47,
     "metadata": {},
     "output_type": "execute_result"
    }
   ],
   "source": [
    "cprint(\"Customer status according to the spendings (Bottom 5)\",'red')\n",
    "df.groupby(['customerid', 'country'])['total_price'].sum().sort_values().head()"
   ]
  },
  {
   "cell_type": "code",
   "execution_count": 48,
   "metadata": {},
   "outputs": [
    {
     "name": "stdout",
     "output_type": "stream",
     "text": [
      "\u001b[31mCustomer status according to the spendings (Top 5)\u001b[0m\n"
     ]
    },
    {
     "data": {
      "text/plain": [
       "customerid  country       \n",
       "14646.000   Netherlands      279489.020\n",
       "18102.000   United Kingdom   256438.490\n",
       "17450.000   United Kingdom   187482.170\n",
       "14911.000   EIRE             132572.620\n",
       "12415.000   Australia        123725.450\n",
       "Name: total_price, dtype: float64"
      ]
     },
     "execution_count": 48,
     "metadata": {},
     "output_type": "execute_result"
    }
   ],
   "source": [
    "cprint(\"Customer status according to the spendings (Top 5)\",'red')\n",
    "df.groupby(['customerid', 'country'])['total_price'].sum().sort_values(ascending=False).head()"
   ]
  },
  {
   "cell_type": "markdown",
   "metadata": {},
   "source": [
    "**invoicedate**"
   ]
  },
  {
   "cell_type": "code",
   "execution_count": 49,
   "metadata": {},
   "outputs": [
    {
     "name": "stdout",
     "output_type": "stream",
     "text": [
      "\u001b[31mHave a First Look to 'invoicedate' Column\u001b[0m\n",
      "column name    :  invoicedate\n",
      "--------------------------------\n",
      "per_of_nulls   :  % 0.0\n",
      "num_of_nulls   :  0\n",
      "num_of_uniques :  23260\n",
      "2011-10-31 14:41:00    1114\n",
      "2011-12-08 09:28:00     749\n",
      "2011-12-09 10:03:00     731\n",
      "2011-12-05 17:24:00     721\n",
      "2011-06-29 15:58:00     705\n",
      "                       ... \n",
      "2011-09-28 09:57:00       1\n",
      "2011-09-28 09:45:00       1\n",
      "2011-03-16 12:13:00       1\n",
      "2011-03-16 12:22:00       1\n",
      "2011-03-16 15:58:00       1\n",
      "Name: invoicedate, Length: 23260, dtype: int64\n"
     ]
    }
   ],
   "source": [
    "cprint(\"Have a First Look to 'invoicedate' Column\",'red')\n",
    "first_look('invoicedate')"
   ]
  },
  {
   "cell_type": "code",
   "execution_count": 50,
   "metadata": {},
   "outputs": [
    {
     "data": {
      "text/plain": [
       "'2011-12-09 12:50:00'"
      ]
     },
     "execution_count": 50,
     "metadata": {},
     "output_type": "execute_result"
    }
   ],
   "source": [
    "df.invoicedate.max()"
   ]
  },
  {
   "cell_type": "code",
   "execution_count": 51,
   "metadata": {},
   "outputs": [
    {
     "data": {
      "text/plain": [
       "'2010-12-01 08:26:00'"
      ]
     },
     "execution_count": 51,
     "metadata": {},
     "output_type": "execute_result"
    }
   ],
   "source": [
    "df.invoicedate.min()"
   ]
  },
  {
   "cell_type": "code",
   "execution_count": 53,
   "metadata": {},
   "outputs": [
    {
     "data": {
      "text/plain": [
       "customerid\n",
       "12346.000   2011-01-18 10:17:00\n",
       "12347.000   2011-12-07 15:52:00\n",
       "12348.000   2011-09-25 13:13:00\n",
       "12349.000   2011-11-21 09:51:00\n",
       "12350.000   2011-02-02 16:01:00\n",
       "                    ...        \n",
       "18280.000   2011-03-07 09:52:00\n",
       "18281.000   2011-06-12 10:53:00\n",
       "18282.000   2011-12-02 11:43:00\n",
       "18283.000   2011-12-06 12:02:00\n",
       "18287.000   2011-10-28 09:29:00\n",
       "Name: invoicedate, Length: 4372, dtype: datetime64[ns]"
      ]
     },
     "execution_count": 53,
     "metadata": {},
     "output_type": "execute_result"
    }
   ],
   "source": [
    "df[\"invoicedate\"] = pd.to_datetime(df[\"invoicedate\"])\n",
    "df.groupby('customerid')['invoicedate'].max()"
   ]
  },
  {
   "cell_type": "markdown",
   "metadata": {
    "id": "YECMxCzUQGV7"
   },
   "source": [
    "### i. Take a look at relationships between InvoiceNo, Quantity and UnitPrice columns."
   ]
  },
  {
   "cell_type": "code",
   "execution_count": 54,
   "metadata": {},
   "outputs": [
    {
     "data": {
      "text/html": [
       "<div>\n",
       "<style scoped>\n",
       "    .dataframe tbody tr th:only-of-type {\n",
       "        vertical-align: middle;\n",
       "    }\n",
       "\n",
       "    .dataframe tbody tr th {\n",
       "        vertical-align: top;\n",
       "    }\n",
       "\n",
       "    .dataframe thead th {\n",
       "        text-align: right;\n",
       "    }\n",
       "</style>\n",
       "<table border=\"1\" class=\"dataframe\">\n",
       "  <thead>\n",
       "    <tr style=\"text-align: right;\">\n",
       "      <th></th>\n",
       "      <th>invoiceno</th>\n",
       "      <th>quantity</th>\n",
       "      <th>unitprice</th>\n",
       "    </tr>\n",
       "  </thead>\n",
       "  <tbody>\n",
       "    <tr>\n",
       "      <th>0</th>\n",
       "      <td>536365.0</td>\n",
       "      <td>6.000</td>\n",
       "      <td>2.550</td>\n",
       "    </tr>\n",
       "    <tr>\n",
       "      <th>1</th>\n",
       "      <td>536365.0</td>\n",
       "      <td>6.000</td>\n",
       "      <td>3.390</td>\n",
       "    </tr>\n",
       "    <tr>\n",
       "      <th>2</th>\n",
       "      <td>536365.0</td>\n",
       "      <td>8.000</td>\n",
       "      <td>2.750</td>\n",
       "    </tr>\n",
       "    <tr>\n",
       "      <th>3</th>\n",
       "      <td>536365.0</td>\n",
       "      <td>6.000</td>\n",
       "      <td>3.390</td>\n",
       "    </tr>\n",
       "    <tr>\n",
       "      <th>4</th>\n",
       "      <td>536365.0</td>\n",
       "      <td>6.000</td>\n",
       "      <td>3.390</td>\n",
       "    </tr>\n",
       "  </tbody>\n",
       "</table>\n",
       "</div>"
      ],
      "text/plain": [
       "  invoiceno  quantity  unitprice\n",
       "0  536365.0     6.000      2.550\n",
       "1  536365.0     6.000      3.390\n",
       "2  536365.0     8.000      2.750\n",
       "3  536365.0     6.000      3.390\n",
       "4  536365.0     6.000      3.390"
      ]
     },
     "execution_count": 54,
     "metadata": {},
     "output_type": "execute_result"
    }
   ],
   "source": [
    "df[['invoiceno', 'quantity', 'unitprice']].head(5)"
   ]
  },
  {
   "cell_type": "code",
   "execution_count": 55,
   "metadata": {},
   "outputs": [
    {
     "data": {
      "text/html": [
       "<style type=\"text/css\">\n",
       "#T_c8f3d_row0_col0, #T_c8f3d_row1_col0, #T_c8f3d_row1_col1, #T_c8f3d_row1_col2, #T_c8f3d_row1_col5 {\n",
       "  background-color: #fff7f3;\n",
       "  color: #000000;\n",
       "}\n",
       "#T_c8f3d_row0_col1, #T_c8f3d_row0_col2, #T_c8f3d_row0_col5 {\n",
       "  background-color: #49006a;\n",
       "  color: #f1f1f1;\n",
       "}\n",
       "</style>\n",
       "<table id=\"T_c8f3d_\">\n",
       "  <thead>\n",
       "    <tr>\n",
       "      <th class=\"blank level0\" >&nbsp;</th>\n",
       "      <th class=\"col_heading level0 col0\" >count</th>\n",
       "      <th class=\"col_heading level0 col1\" >mean</th>\n",
       "      <th class=\"col_heading level0 col2\" >std</th>\n",
       "      <th class=\"col_heading level0 col3\" >min</th>\n",
       "      <th class=\"col_heading level0 col4\" >25%</th>\n",
       "      <th class=\"col_heading level0 col5\" >50%</th>\n",
       "      <th class=\"col_heading level0 col6\" >75%</th>\n",
       "      <th class=\"col_heading level0 col7\" >max</th>\n",
       "    </tr>\n",
       "  </thead>\n",
       "  <tbody>\n",
       "    <tr>\n",
       "      <th id=\"T_c8f3d_level0_row0\" class=\"row_heading level0 row0\" >quantity</th>\n",
       "      <td id=\"T_c8f3d_row0_col0\" class=\"data row0 col0\" >541909.000000</td>\n",
       "      <td id=\"T_c8f3d_row0_col1\" class=\"data row0 col1\" >9.552250</td>\n",
       "      <td id=\"T_c8f3d_row0_col2\" class=\"data row0 col2\" >218.081158</td>\n",
       "      <td id=\"T_c8f3d_row0_col3\" class=\"data row0 col3\" >-80995.000000</td>\n",
       "      <td id=\"T_c8f3d_row0_col4\" class=\"data row0 col4\" >1.000000</td>\n",
       "      <td id=\"T_c8f3d_row0_col5\" class=\"data row0 col5\" >3.000000</td>\n",
       "      <td id=\"T_c8f3d_row0_col6\" class=\"data row0 col6\" >10.000000</td>\n",
       "      <td id=\"T_c8f3d_row0_col7\" class=\"data row0 col7\" >80995.000000</td>\n",
       "    </tr>\n",
       "    <tr>\n",
       "      <th id=\"T_c8f3d_level0_row1\" class=\"row_heading level0 row1\" >unitprice</th>\n",
       "      <td id=\"T_c8f3d_row1_col0\" class=\"data row1 col0\" >541909.000000</td>\n",
       "      <td id=\"T_c8f3d_row1_col1\" class=\"data row1 col1\" >4.611114</td>\n",
       "      <td id=\"T_c8f3d_row1_col2\" class=\"data row1 col2\" >96.759853</td>\n",
       "      <td id=\"T_c8f3d_row1_col3\" class=\"data row1 col3\" >-11062.060000</td>\n",
       "      <td id=\"T_c8f3d_row1_col4\" class=\"data row1 col4\" >1.250000</td>\n",
       "      <td id=\"T_c8f3d_row1_col5\" class=\"data row1 col5\" >2.080000</td>\n",
       "      <td id=\"T_c8f3d_row1_col6\" class=\"data row1 col6\" >4.130000</td>\n",
       "      <td id=\"T_c8f3d_row1_col7\" class=\"data row1 col7\" >38970.000000</td>\n",
       "    </tr>\n",
       "  </tbody>\n",
       "</table>\n"
      ],
      "text/plain": [
       "<pandas.io.formats.style.Styler at 0x2bc093dbcd0>"
      ]
     },
     "execution_count": 55,
     "metadata": {},
     "output_type": "execute_result"
    }
   ],
   "source": [
    "df[[\"invoiceno\", \"quantity\", \"unitprice\"]].describe().T.style.background_gradient(subset=['mean','std','50%','count'], cmap='RdPu')"
   ]
  },
  {
   "cell_type": "code",
   "execution_count": 56,
   "metadata": {},
   "outputs": [
    {
     "data": {
      "text/html": [
       "<div>\n",
       "<style scoped>\n",
       "    .dataframe tbody tr th:only-of-type {\n",
       "        vertical-align: middle;\n",
       "    }\n",
       "\n",
       "    .dataframe tbody tr th {\n",
       "        vertical-align: top;\n",
       "    }\n",
       "\n",
       "    .dataframe thead th {\n",
       "        text-align: right;\n",
       "    }\n",
       "</style>\n",
       "<table border=\"1\" class=\"dataframe\">\n",
       "  <thead>\n",
       "    <tr style=\"text-align: right;\">\n",
       "      <th></th>\n",
       "      <th>count</th>\n",
       "      <th>unique</th>\n",
       "      <th>top</th>\n",
       "      <th>freq</th>\n",
       "    </tr>\n",
       "  </thead>\n",
       "  <tbody>\n",
       "    <tr>\n",
       "      <th>invoiceno</th>\n",
       "      <td>541909</td>\n",
       "      <td>25900</td>\n",
       "      <td>573585.0</td>\n",
       "      <td>1114</td>\n",
       "    </tr>\n",
       "  </tbody>\n",
       "</table>\n",
       "</div>"
      ],
      "text/plain": [
       "            count unique       top  freq\n",
       "invoiceno  541909  25900  573585.0  1114"
      ]
     },
     "execution_count": 56,
     "metadata": {},
     "output_type": "execute_result"
    }
   ],
   "source": [
    "df[[\"invoiceno\", \"quantity\", \"unitprice\"]].describe(include=object).T"
   ]
  },
  {
   "cell_type": "markdown",
   "metadata": {},
   "source": [
    "- There are values below zero in quantity and unitprice columns.\n",
    "- Let's find the reason."
   ]
  },
  {
   "cell_type": "code",
   "execution_count": 57,
   "metadata": {
    "scrolled": true
   },
   "outputs": [
    {
     "data": {
      "text/html": [
       "<div>\n",
       "<style scoped>\n",
       "    .dataframe tbody tr th:only-of-type {\n",
       "        vertical-align: middle;\n",
       "    }\n",
       "\n",
       "    .dataframe tbody tr th {\n",
       "        vertical-align: top;\n",
       "    }\n",
       "\n",
       "    .dataframe thead th {\n",
       "        text-align: right;\n",
       "    }\n",
       "</style>\n",
       "<table border=\"1\" class=\"dataframe\">\n",
       "  <thead>\n",
       "    <tr style=\"text-align: right;\">\n",
       "      <th></th>\n",
       "      <th>invoiceno</th>\n",
       "      <th>stockcode</th>\n",
       "      <th>description</th>\n",
       "      <th>quantity</th>\n",
       "      <th>invoicedate</th>\n",
       "      <th>unitprice</th>\n",
       "      <th>customerid</th>\n",
       "      <th>country</th>\n",
       "    </tr>\n",
       "  </thead>\n",
       "  <tbody>\n",
       "    <tr>\n",
       "      <th>141</th>\n",
       "      <td>C536379</td>\n",
       "      <td>D</td>\n",
       "      <td>Discount</td>\n",
       "      <td>-1.000</td>\n",
       "      <td>2010-12-01 09:41:00</td>\n",
       "      <td>27.500</td>\n",
       "      <td>14527.000</td>\n",
       "      <td>United Kingdom</td>\n",
       "    </tr>\n",
       "    <tr>\n",
       "      <th>154</th>\n",
       "      <td>C536383</td>\n",
       "      <td>35004C</td>\n",
       "      <td>SET OF 3 COLOURED  FLYING DUCKS</td>\n",
       "      <td>-1.000</td>\n",
       "      <td>2010-12-01 09:49:00</td>\n",
       "      <td>4.650</td>\n",
       "      <td>15311.000</td>\n",
       "      <td>United Kingdom</td>\n",
       "    </tr>\n",
       "    <tr>\n",
       "      <th>235</th>\n",
       "      <td>C536391</td>\n",
       "      <td>22556.0</td>\n",
       "      <td>PLASTERS IN TIN CIRCUS PARADE</td>\n",
       "      <td>-12.000</td>\n",
       "      <td>2010-12-01 10:24:00</td>\n",
       "      <td>1.650</td>\n",
       "      <td>17548.000</td>\n",
       "      <td>United Kingdom</td>\n",
       "    </tr>\n",
       "    <tr>\n",
       "      <th>236</th>\n",
       "      <td>C536391</td>\n",
       "      <td>21984.0</td>\n",
       "      <td>PACK OF 12 PINK PAISLEY TISSUES</td>\n",
       "      <td>-24.000</td>\n",
       "      <td>2010-12-01 10:24:00</td>\n",
       "      <td>0.290</td>\n",
       "      <td>17548.000</td>\n",
       "      <td>United Kingdom</td>\n",
       "    </tr>\n",
       "    <tr>\n",
       "      <th>237</th>\n",
       "      <td>C536391</td>\n",
       "      <td>21983.0</td>\n",
       "      <td>PACK OF 12 BLUE PAISLEY TISSUES</td>\n",
       "      <td>-24.000</td>\n",
       "      <td>2010-12-01 10:24:00</td>\n",
       "      <td>0.290</td>\n",
       "      <td>17548.000</td>\n",
       "      <td>United Kingdom</td>\n",
       "    </tr>\n",
       "    <tr>\n",
       "      <th>...</th>\n",
       "      <td>...</td>\n",
       "      <td>...</td>\n",
       "      <td>...</td>\n",
       "      <td>...</td>\n",
       "      <td>...</td>\n",
       "      <td>...</td>\n",
       "      <td>...</td>\n",
       "      <td>...</td>\n",
       "    </tr>\n",
       "    <tr>\n",
       "      <th>540449</th>\n",
       "      <td>C581490</td>\n",
       "      <td>23144.0</td>\n",
       "      <td>ZINC T-LIGHT HOLDER STARS SMALL</td>\n",
       "      <td>-11.000</td>\n",
       "      <td>2011-12-09 09:57:00</td>\n",
       "      <td>0.830</td>\n",
       "      <td>14397.000</td>\n",
       "      <td>United Kingdom</td>\n",
       "    </tr>\n",
       "    <tr>\n",
       "      <th>541541</th>\n",
       "      <td>C581499</td>\n",
       "      <td>M</td>\n",
       "      <td>Manual</td>\n",
       "      <td>-1.000</td>\n",
       "      <td>2011-12-09 10:28:00</td>\n",
       "      <td>224.690</td>\n",
       "      <td>15498.000</td>\n",
       "      <td>United Kingdom</td>\n",
       "    </tr>\n",
       "    <tr>\n",
       "      <th>541715</th>\n",
       "      <td>C581568</td>\n",
       "      <td>21258.0</td>\n",
       "      <td>VICTORIAN SEWING BOX LARGE</td>\n",
       "      <td>-5.000</td>\n",
       "      <td>2011-12-09 11:57:00</td>\n",
       "      <td>10.950</td>\n",
       "      <td>15311.000</td>\n",
       "      <td>United Kingdom</td>\n",
       "    </tr>\n",
       "    <tr>\n",
       "      <th>541716</th>\n",
       "      <td>C581569</td>\n",
       "      <td>84978.0</td>\n",
       "      <td>HANGING HEART JAR T-LIGHT HOLDER</td>\n",
       "      <td>-1.000</td>\n",
       "      <td>2011-12-09 11:58:00</td>\n",
       "      <td>1.250</td>\n",
       "      <td>17315.000</td>\n",
       "      <td>United Kingdom</td>\n",
       "    </tr>\n",
       "    <tr>\n",
       "      <th>541717</th>\n",
       "      <td>C581569</td>\n",
       "      <td>20979.0</td>\n",
       "      <td>36 PENCILS TUBE RED RETROSPOT</td>\n",
       "      <td>-5.000</td>\n",
       "      <td>2011-12-09 11:58:00</td>\n",
       "      <td>1.250</td>\n",
       "      <td>17315.000</td>\n",
       "      <td>United Kingdom</td>\n",
       "    </tr>\n",
       "  </tbody>\n",
       "</table>\n",
       "<p>10624 rows × 8 columns</p>\n",
       "</div>"
      ],
      "text/plain": [
       "       invoiceno stockcode                       description  quantity  \\\n",
       "141      C536379         D                          Discount    -1.000   \n",
       "154      C536383    35004C   SET OF 3 COLOURED  FLYING DUCKS    -1.000   \n",
       "235      C536391   22556.0    PLASTERS IN TIN CIRCUS PARADE    -12.000   \n",
       "236      C536391   21984.0  PACK OF 12 PINK PAISLEY TISSUES    -24.000   \n",
       "237      C536391   21983.0  PACK OF 12 BLUE PAISLEY TISSUES    -24.000   \n",
       "...          ...       ...                               ...       ...   \n",
       "540449   C581490   23144.0   ZINC T-LIGHT HOLDER STARS SMALL   -11.000   \n",
       "541541   C581499         M                            Manual    -1.000   \n",
       "541715   C581568   21258.0        VICTORIAN SEWING BOX LARGE    -5.000   \n",
       "541716   C581569   84978.0  HANGING HEART JAR T-LIGHT HOLDER    -1.000   \n",
       "541717   C581569   20979.0     36 PENCILS TUBE RED RETROSPOT    -5.000   \n",
       "\n",
       "               invoicedate  unitprice  customerid         country  \n",
       "141    2010-12-01 09:41:00     27.500   14527.000  United Kingdom  \n",
       "154    2010-12-01 09:49:00      4.650   15311.000  United Kingdom  \n",
       "235    2010-12-01 10:24:00      1.650   17548.000  United Kingdom  \n",
       "236    2010-12-01 10:24:00      0.290   17548.000  United Kingdom  \n",
       "237    2010-12-01 10:24:00      0.290   17548.000  United Kingdom  \n",
       "...                    ...        ...         ...             ...  \n",
       "540449 2011-12-09 09:57:00      0.830   14397.000  United Kingdom  \n",
       "541541 2011-12-09 10:28:00    224.690   15498.000  United Kingdom  \n",
       "541715 2011-12-09 11:57:00     10.950   15311.000  United Kingdom  \n",
       "541716 2011-12-09 11:58:00      1.250   17315.000  United Kingdom  \n",
       "541717 2011-12-09 11:58:00      1.250   17315.000  United Kingdom  \n",
       "\n",
       "[10624 rows x 8 columns]"
      ]
     },
     "execution_count": 57,
     "metadata": {},
     "output_type": "execute_result"
    }
   ],
   "source": [
    "df[df['quantity'] < 0][['invoiceno', 'stockcode', 'description', 'quantity', 'invoicedate', 'unitprice', 'customerid', 'country']]"
   ]
  },
  {
   "cell_type": "code",
   "execution_count": 58,
   "metadata": {},
   "outputs": [
    {
     "data": {
      "text/html": [
       "<div>\n",
       "<style scoped>\n",
       "    .dataframe tbody tr th:only-of-type {\n",
       "        vertical-align: middle;\n",
       "    }\n",
       "\n",
       "    .dataframe tbody tr th {\n",
       "        vertical-align: top;\n",
       "    }\n",
       "\n",
       "    .dataframe thead th {\n",
       "        text-align: right;\n",
       "    }\n",
       "</style>\n",
       "<table border=\"1\" class=\"dataframe\">\n",
       "  <thead>\n",
       "    <tr style=\"text-align: right;\">\n",
       "      <th></th>\n",
       "      <th>invoiceno</th>\n",
       "      <th>stockcode</th>\n",
       "      <th>description</th>\n",
       "      <th>quantity</th>\n",
       "      <th>invoicedate</th>\n",
       "      <th>unitprice</th>\n",
       "      <th>customerid</th>\n",
       "      <th>country</th>\n",
       "    </tr>\n",
       "  </thead>\n",
       "  <tbody>\n",
       "    <tr>\n",
       "      <th>0</th>\n",
       "      <td>536365.0</td>\n",
       "      <td>85123A</td>\n",
       "      <td>WHITE HANGING HEART T-LIGHT HOLDER</td>\n",
       "      <td>6.000</td>\n",
       "      <td>2010-12-01 08:26:00</td>\n",
       "      <td>2.550</td>\n",
       "      <td>17850.000</td>\n",
       "      <td>United Kingdom</td>\n",
       "    </tr>\n",
       "  </tbody>\n",
       "</table>\n",
       "</div>"
      ],
      "text/plain": [
       "  invoiceno stockcode                         description  quantity  \\\n",
       "0  536365.0    85123A  WHITE HANGING HEART T-LIGHT HOLDER     6.000   \n",
       "\n",
       "          invoicedate  unitprice  customerid         country  \n",
       "0 2010-12-01 08:26:00      2.550   17850.000  United Kingdom  "
      ]
     },
     "execution_count": 58,
     "metadata": {},
     "output_type": "execute_result"
    }
   ],
   "source": [
    "df[df['quantity'] > 0][['invoiceno', 'stockcode', 'description', 'quantity', 'invoicedate', 'unitprice', 'customerid', 'country']].head(1)"
   ]
  },
  {
   "cell_type": "code",
   "execution_count": 59,
   "metadata": {},
   "outputs": [
    {
     "data": {
      "text/html": [
       "<div>\n",
       "<style scoped>\n",
       "    .dataframe tbody tr th:only-of-type {\n",
       "        vertical-align: middle;\n",
       "    }\n",
       "\n",
       "    .dataframe tbody tr th {\n",
       "        vertical-align: top;\n",
       "    }\n",
       "\n",
       "    .dataframe thead th {\n",
       "        text-align: right;\n",
       "    }\n",
       "</style>\n",
       "<table border=\"1\" class=\"dataframe\">\n",
       "  <thead>\n",
       "    <tr style=\"text-align: right;\">\n",
       "      <th></th>\n",
       "      <th>invoiceno</th>\n",
       "      <th>stockcode</th>\n",
       "      <th>description</th>\n",
       "      <th>quantity</th>\n",
       "      <th>invoicedate</th>\n",
       "      <th>unitprice</th>\n",
       "      <th>customerid</th>\n",
       "      <th>country</th>\n",
       "    </tr>\n",
       "  </thead>\n",
       "  <tbody>\n",
       "  </tbody>\n",
       "</table>\n",
       "</div>"
      ],
      "text/plain": [
       "Empty DataFrame\n",
       "Columns: [invoiceno, stockcode, description, quantity, invoicedate, unitprice, customerid, country]\n",
       "Index: []"
      ]
     },
     "execution_count": 59,
     "metadata": {},
     "output_type": "execute_result"
    }
   ],
   "source": [
    "df[df['quantity'] == 0][['invoiceno', 'stockcode', 'description', 'quantity', 'invoicedate', 'unitprice', 'customerid', 'country']]"
   ]
  },
  {
   "cell_type": "markdown",
   "metadata": {},
   "source": [
    "As seen above, invoiceno values of observations with negative quantity values start with 'C'. The letter 'C' most likely represents the word 'Cancelled'."
   ]
  },
  {
   "cell_type": "code",
   "execution_count": 60,
   "metadata": {},
   "outputs": [
    {
     "data": {
      "text/html": [
       "<div>\n",
       "<style scoped>\n",
       "    .dataframe tbody tr th:only-of-type {\n",
       "        vertical-align: middle;\n",
       "    }\n",
       "\n",
       "    .dataframe tbody tr th {\n",
       "        vertical-align: top;\n",
       "    }\n",
       "\n",
       "    .dataframe thead th {\n",
       "        text-align: right;\n",
       "    }\n",
       "</style>\n",
       "<table border=\"1\" class=\"dataframe\">\n",
       "  <thead>\n",
       "    <tr style=\"text-align: right;\">\n",
       "      <th></th>\n",
       "      <th>invoiceno</th>\n",
       "      <th>stockcode</th>\n",
       "      <th>description</th>\n",
       "      <th>quantity</th>\n",
       "      <th>invoicedate</th>\n",
       "      <th>unitprice</th>\n",
       "      <th>customerid</th>\n",
       "      <th>country</th>\n",
       "    </tr>\n",
       "  </thead>\n",
       "  <tbody>\n",
       "    <tr>\n",
       "      <th>299983</th>\n",
       "      <td>A563186</td>\n",
       "      <td>B</td>\n",
       "      <td>Adjust bad debt</td>\n",
       "      <td>1.000</td>\n",
       "      <td>2011-08-12 14:51:00</td>\n",
       "      <td>-11062.060</td>\n",
       "      <td>NaN</td>\n",
       "      <td>United Kingdom</td>\n",
       "    </tr>\n",
       "    <tr>\n",
       "      <th>299984</th>\n",
       "      <td>A563187</td>\n",
       "      <td>B</td>\n",
       "      <td>Adjust bad debt</td>\n",
       "      <td>1.000</td>\n",
       "      <td>2011-08-12 14:52:00</td>\n",
       "      <td>-11062.060</td>\n",
       "      <td>NaN</td>\n",
       "      <td>United Kingdom</td>\n",
       "    </tr>\n",
       "  </tbody>\n",
       "</table>\n",
       "</div>"
      ],
      "text/plain": [
       "       invoiceno stockcode      description  quantity         invoicedate  \\\n",
       "299983   A563186         B  Adjust bad debt     1.000 2011-08-12 14:51:00   \n",
       "299984   A563187         B  Adjust bad debt     1.000 2011-08-12 14:52:00   \n",
       "\n",
       "        unitprice  customerid         country  \n",
       "299983 -11062.060         NaN  United Kingdom  \n",
       "299984 -11062.060         NaN  United Kingdom  "
      ]
     },
     "execution_count": 60,
     "metadata": {},
     "output_type": "execute_result"
    }
   ],
   "source": [
    "df[df['unitprice'] < 0][['invoiceno', 'stockcode', 'description', 'quantity', 'invoicedate', 'unitprice', 'customerid', 'country']]"
   ]
  },
  {
   "cell_type": "code",
   "execution_count": 62,
   "metadata": {
    "scrolled": true
   },
   "outputs": [
    {
     "data": {
      "text/html": [
       "<div>\n",
       "<style scoped>\n",
       "    .dataframe tbody tr th:only-of-type {\n",
       "        vertical-align: middle;\n",
       "    }\n",
       "\n",
       "    .dataframe tbody tr th {\n",
       "        vertical-align: top;\n",
       "    }\n",
       "\n",
       "    .dataframe thead th {\n",
       "        text-align: right;\n",
       "    }\n",
       "</style>\n",
       "<table border=\"1\" class=\"dataframe\">\n",
       "  <thead>\n",
       "    <tr style=\"text-align: right;\">\n",
       "      <th></th>\n",
       "      <th>invoiceno</th>\n",
       "      <th>stockcode</th>\n",
       "      <th>description</th>\n",
       "      <th>quantity</th>\n",
       "      <th>invoicedate</th>\n",
       "      <th>unitprice</th>\n",
       "      <th>customerid</th>\n",
       "      <th>country</th>\n",
       "    </tr>\n",
       "  </thead>\n",
       "  <tbody>\n",
       "    <tr>\n",
       "      <th>0</th>\n",
       "      <td>536365.0</td>\n",
       "      <td>85123A</td>\n",
       "      <td>WHITE HANGING HEART T-LIGHT HOLDER</td>\n",
       "      <td>6.000</td>\n",
       "      <td>2010-12-01 08:26:00</td>\n",
       "      <td>2.550</td>\n",
       "      <td>17850.000</td>\n",
       "      <td>United Kingdom</td>\n",
       "    </tr>\n",
       "    <tr>\n",
       "      <th>1</th>\n",
       "      <td>536365.0</td>\n",
       "      <td>71053.0</td>\n",
       "      <td>WHITE METAL LANTERN</td>\n",
       "      <td>6.000</td>\n",
       "      <td>2010-12-01 08:26:00</td>\n",
       "      <td>3.390</td>\n",
       "      <td>17850.000</td>\n",
       "      <td>United Kingdom</td>\n",
       "    </tr>\n",
       "    <tr>\n",
       "      <th>2</th>\n",
       "      <td>536365.0</td>\n",
       "      <td>84406B</td>\n",
       "      <td>CREAM CUPID HEARTS COAT HANGER</td>\n",
       "      <td>8.000</td>\n",
       "      <td>2010-12-01 08:26:00</td>\n",
       "      <td>2.750</td>\n",
       "      <td>17850.000</td>\n",
       "      <td>United Kingdom</td>\n",
       "    </tr>\n",
       "    <tr>\n",
       "      <th>3</th>\n",
       "      <td>536365.0</td>\n",
       "      <td>84029G</td>\n",
       "      <td>KNITTED UNION FLAG HOT WATER BOTTLE</td>\n",
       "      <td>6.000</td>\n",
       "      <td>2010-12-01 08:26:00</td>\n",
       "      <td>3.390</td>\n",
       "      <td>17850.000</td>\n",
       "      <td>United Kingdom</td>\n",
       "    </tr>\n",
       "    <tr>\n",
       "      <th>4</th>\n",
       "      <td>536365.0</td>\n",
       "      <td>84029E</td>\n",
       "      <td>RED WOOLLY HOTTIE WHITE HEART.</td>\n",
       "      <td>6.000</td>\n",
       "      <td>2010-12-01 08:26:00</td>\n",
       "      <td>3.390</td>\n",
       "      <td>17850.000</td>\n",
       "      <td>United Kingdom</td>\n",
       "    </tr>\n",
       "    <tr>\n",
       "      <th>...</th>\n",
       "      <td>...</td>\n",
       "      <td>...</td>\n",
       "      <td>...</td>\n",
       "      <td>...</td>\n",
       "      <td>...</td>\n",
       "      <td>...</td>\n",
       "      <td>...</td>\n",
       "      <td>...</td>\n",
       "    </tr>\n",
       "    <tr>\n",
       "      <th>541904</th>\n",
       "      <td>581587.0</td>\n",
       "      <td>22613.0</td>\n",
       "      <td>PACK OF 20 SPACEBOY NAPKINS</td>\n",
       "      <td>12.000</td>\n",
       "      <td>2011-12-09 12:50:00</td>\n",
       "      <td>0.850</td>\n",
       "      <td>12680.000</td>\n",
       "      <td>France</td>\n",
       "    </tr>\n",
       "    <tr>\n",
       "      <th>541905</th>\n",
       "      <td>581587.0</td>\n",
       "      <td>22899.0</td>\n",
       "      <td>CHILDREN'S APRON DOLLY GIRL</td>\n",
       "      <td>6.000</td>\n",
       "      <td>2011-12-09 12:50:00</td>\n",
       "      <td>2.100</td>\n",
       "      <td>12680.000</td>\n",
       "      <td>France</td>\n",
       "    </tr>\n",
       "    <tr>\n",
       "      <th>541906</th>\n",
       "      <td>581587.0</td>\n",
       "      <td>23254.0</td>\n",
       "      <td>CHILDRENS CUTLERY DOLLY GIRL</td>\n",
       "      <td>4.000</td>\n",
       "      <td>2011-12-09 12:50:00</td>\n",
       "      <td>4.150</td>\n",
       "      <td>12680.000</td>\n",
       "      <td>France</td>\n",
       "    </tr>\n",
       "    <tr>\n",
       "      <th>541907</th>\n",
       "      <td>581587.0</td>\n",
       "      <td>23255.0</td>\n",
       "      <td>CHILDRENS CUTLERY CIRCUS PARADE</td>\n",
       "      <td>4.000</td>\n",
       "      <td>2011-12-09 12:50:00</td>\n",
       "      <td>4.150</td>\n",
       "      <td>12680.000</td>\n",
       "      <td>France</td>\n",
       "    </tr>\n",
       "    <tr>\n",
       "      <th>541908</th>\n",
       "      <td>581587.0</td>\n",
       "      <td>22138.0</td>\n",
       "      <td>BAKING SET 9 PIECE RETROSPOT</td>\n",
       "      <td>3.000</td>\n",
       "      <td>2011-12-09 12:50:00</td>\n",
       "      <td>4.950</td>\n",
       "      <td>12680.000</td>\n",
       "      <td>France</td>\n",
       "    </tr>\n",
       "  </tbody>\n",
       "</table>\n",
       "<p>539392 rows × 8 columns</p>\n",
       "</div>"
      ],
      "text/plain": [
       "       invoiceno stockcode                          description  quantity  \\\n",
       "0       536365.0    85123A   WHITE HANGING HEART T-LIGHT HOLDER     6.000   \n",
       "1       536365.0   71053.0                  WHITE METAL LANTERN     6.000   \n",
       "2       536365.0    84406B       CREAM CUPID HEARTS COAT HANGER     8.000   \n",
       "3       536365.0    84029G  KNITTED UNION FLAG HOT WATER BOTTLE     6.000   \n",
       "4       536365.0    84029E       RED WOOLLY HOTTIE WHITE HEART.     6.000   \n",
       "...          ...       ...                                  ...       ...   \n",
       "541904  581587.0   22613.0          PACK OF 20 SPACEBOY NAPKINS    12.000   \n",
       "541905  581587.0   22899.0         CHILDREN'S APRON DOLLY GIRL      6.000   \n",
       "541906  581587.0   23254.0        CHILDRENS CUTLERY DOLLY GIRL      4.000   \n",
       "541907  581587.0   23255.0      CHILDRENS CUTLERY CIRCUS PARADE     4.000   \n",
       "541908  581587.0   22138.0        BAKING SET 9 PIECE RETROSPOT      3.000   \n",
       "\n",
       "               invoicedate  unitprice  customerid         country  \n",
       "0      2010-12-01 08:26:00      2.550   17850.000  United Kingdom  \n",
       "1      2010-12-01 08:26:00      3.390   17850.000  United Kingdom  \n",
       "2      2010-12-01 08:26:00      2.750   17850.000  United Kingdom  \n",
       "3      2010-12-01 08:26:00      3.390   17850.000  United Kingdom  \n",
       "4      2010-12-01 08:26:00      3.390   17850.000  United Kingdom  \n",
       "...                    ...        ...         ...             ...  \n",
       "541904 2011-12-09 12:50:00      0.850   12680.000          France  \n",
       "541905 2011-12-09 12:50:00      2.100   12680.000          France  \n",
       "541906 2011-12-09 12:50:00      4.150   12680.000          France  \n",
       "541907 2011-12-09 12:50:00      4.150   12680.000          France  \n",
       "541908 2011-12-09 12:50:00      4.950   12680.000          France  \n",
       "\n",
       "[539392 rows x 8 columns]"
      ]
     },
     "execution_count": 62,
     "metadata": {},
     "output_type": "execute_result"
    }
   ],
   "source": [
    "df[df['unitprice'] > 0][['invoiceno', 'stockcode', 'description', 'quantity', 'invoicedate', 'unitprice', 'customerid', 'country']]"
   ]
  },
  {
   "cell_type": "code",
   "execution_count": 63,
   "metadata": {
    "scrolled": true
   },
   "outputs": [
    {
     "data": {
      "text/html": [
       "<div>\n",
       "<style scoped>\n",
       "    .dataframe tbody tr th:only-of-type {\n",
       "        vertical-align: middle;\n",
       "    }\n",
       "\n",
       "    .dataframe tbody tr th {\n",
       "        vertical-align: top;\n",
       "    }\n",
       "\n",
       "    .dataframe thead th {\n",
       "        text-align: right;\n",
       "    }\n",
       "</style>\n",
       "<table border=\"1\" class=\"dataframe\">\n",
       "  <thead>\n",
       "    <tr style=\"text-align: right;\">\n",
       "      <th></th>\n",
       "      <th>invoiceno</th>\n",
       "      <th>stockcode</th>\n",
       "      <th>description</th>\n",
       "      <th>quantity</th>\n",
       "      <th>invoicedate</th>\n",
       "      <th>unitprice</th>\n",
       "      <th>customerid</th>\n",
       "      <th>country</th>\n",
       "    </tr>\n",
       "  </thead>\n",
       "  <tbody>\n",
       "    <tr>\n",
       "      <th>622</th>\n",
       "      <td>536414.0</td>\n",
       "      <td>22139.0</td>\n",
       "      <td>NaN</td>\n",
       "      <td>56.000</td>\n",
       "      <td>2010-12-01 11:52:00</td>\n",
       "      <td>0.000</td>\n",
       "      <td>NaN</td>\n",
       "      <td>United Kingdom</td>\n",
       "    </tr>\n",
       "    <tr>\n",
       "      <th>1970</th>\n",
       "      <td>536545.0</td>\n",
       "      <td>21134.0</td>\n",
       "      <td>NaN</td>\n",
       "      <td>1.000</td>\n",
       "      <td>2010-12-01 14:32:00</td>\n",
       "      <td>0.000</td>\n",
       "      <td>NaN</td>\n",
       "      <td>United Kingdom</td>\n",
       "    </tr>\n",
       "    <tr>\n",
       "      <th>1971</th>\n",
       "      <td>536546.0</td>\n",
       "      <td>22145.0</td>\n",
       "      <td>NaN</td>\n",
       "      <td>1.000</td>\n",
       "      <td>2010-12-01 14:33:00</td>\n",
       "      <td>0.000</td>\n",
       "      <td>NaN</td>\n",
       "      <td>United Kingdom</td>\n",
       "    </tr>\n",
       "    <tr>\n",
       "      <th>1972</th>\n",
       "      <td>536547.0</td>\n",
       "      <td>37509.0</td>\n",
       "      <td>NaN</td>\n",
       "      <td>1.000</td>\n",
       "      <td>2010-12-01 14:33:00</td>\n",
       "      <td>0.000</td>\n",
       "      <td>NaN</td>\n",
       "      <td>United Kingdom</td>\n",
       "    </tr>\n",
       "    <tr>\n",
       "      <th>1987</th>\n",
       "      <td>536549.0</td>\n",
       "      <td>85226A</td>\n",
       "      <td>NaN</td>\n",
       "      <td>1.000</td>\n",
       "      <td>2010-12-01 14:34:00</td>\n",
       "      <td>0.000</td>\n",
       "      <td>NaN</td>\n",
       "      <td>United Kingdom</td>\n",
       "    </tr>\n",
       "    <tr>\n",
       "      <th>...</th>\n",
       "      <td>...</td>\n",
       "      <td>...</td>\n",
       "      <td>...</td>\n",
       "      <td>...</td>\n",
       "      <td>...</td>\n",
       "      <td>...</td>\n",
       "      <td>...</td>\n",
       "      <td>...</td>\n",
       "    </tr>\n",
       "    <tr>\n",
       "      <th>536981</th>\n",
       "      <td>581234.0</td>\n",
       "      <td>72817.0</td>\n",
       "      <td>NaN</td>\n",
       "      <td>27.000</td>\n",
       "      <td>2011-12-08 10:33:00</td>\n",
       "      <td>0.000</td>\n",
       "      <td>NaN</td>\n",
       "      <td>United Kingdom</td>\n",
       "    </tr>\n",
       "    <tr>\n",
       "      <th>538504</th>\n",
       "      <td>581406.0</td>\n",
       "      <td>46000M</td>\n",
       "      <td>POLYESTER FILLER PAD 45x45cm</td>\n",
       "      <td>240.000</td>\n",
       "      <td>2011-12-08 13:58:00</td>\n",
       "      <td>0.000</td>\n",
       "      <td>NaN</td>\n",
       "      <td>United Kingdom</td>\n",
       "    </tr>\n",
       "    <tr>\n",
       "      <th>538505</th>\n",
       "      <td>581406.0</td>\n",
       "      <td>46000S</td>\n",
       "      <td>POLYESTER FILLER PAD 40x40cm</td>\n",
       "      <td>300.000</td>\n",
       "      <td>2011-12-08 13:58:00</td>\n",
       "      <td>0.000</td>\n",
       "      <td>NaN</td>\n",
       "      <td>United Kingdom</td>\n",
       "    </tr>\n",
       "    <tr>\n",
       "      <th>538554</th>\n",
       "      <td>581408.0</td>\n",
       "      <td>85175.0</td>\n",
       "      <td>NaN</td>\n",
       "      <td>20.000</td>\n",
       "      <td>2011-12-08 14:06:00</td>\n",
       "      <td>0.000</td>\n",
       "      <td>NaN</td>\n",
       "      <td>United Kingdom</td>\n",
       "    </tr>\n",
       "    <tr>\n",
       "      <th>538919</th>\n",
       "      <td>581422.0</td>\n",
       "      <td>23169.0</td>\n",
       "      <td>smashed</td>\n",
       "      <td>-235.000</td>\n",
       "      <td>2011-12-08 15:24:00</td>\n",
       "      <td>0.000</td>\n",
       "      <td>NaN</td>\n",
       "      <td>United Kingdom</td>\n",
       "    </tr>\n",
       "  </tbody>\n",
       "</table>\n",
       "<p>2515 rows × 8 columns</p>\n",
       "</div>"
      ],
      "text/plain": [
       "       invoiceno stockcode                   description  quantity  \\\n",
       "622     536414.0   22139.0                           NaN    56.000   \n",
       "1970    536545.0   21134.0                           NaN     1.000   \n",
       "1971    536546.0   22145.0                           NaN     1.000   \n",
       "1972    536547.0   37509.0                           NaN     1.000   \n",
       "1987    536549.0    85226A                           NaN     1.000   \n",
       "...          ...       ...                           ...       ...   \n",
       "536981  581234.0   72817.0                           NaN    27.000   \n",
       "538504  581406.0    46000M  POLYESTER FILLER PAD 45x45cm   240.000   \n",
       "538505  581406.0    46000S  POLYESTER FILLER PAD 40x40cm   300.000   \n",
       "538554  581408.0   85175.0                           NaN    20.000   \n",
       "538919  581422.0   23169.0                       smashed  -235.000   \n",
       "\n",
       "               invoicedate  unitprice  customerid         country  \n",
       "622    2010-12-01 11:52:00      0.000         NaN  United Kingdom  \n",
       "1970   2010-12-01 14:32:00      0.000         NaN  United Kingdom  \n",
       "1971   2010-12-01 14:33:00      0.000         NaN  United Kingdom  \n",
       "1972   2010-12-01 14:33:00      0.000         NaN  United Kingdom  \n",
       "1987   2010-12-01 14:34:00      0.000         NaN  United Kingdom  \n",
       "...                    ...        ...         ...             ...  \n",
       "536981 2011-12-08 10:33:00      0.000         NaN  United Kingdom  \n",
       "538504 2011-12-08 13:58:00      0.000         NaN  United Kingdom  \n",
       "538505 2011-12-08 13:58:00      0.000         NaN  United Kingdom  \n",
       "538554 2011-12-08 14:06:00      0.000         NaN  United Kingdom  \n",
       "538919 2011-12-08 15:24:00      0.000         NaN  United Kingdom  \n",
       "\n",
       "[2515 rows x 8 columns]"
      ]
     },
     "execution_count": 63,
     "metadata": {},
     "output_type": "execute_result"
    }
   ],
   "source": [
    "df[df['unitprice'] == 0][['invoiceno', 'stockcode', 'description', 'quantity', 'invoicedate', 'unitprice', 'customerid', 'country']]"
   ]
  },
  {
   "cell_type": "markdown",
   "metadata": {},
   "source": [
    "- As seen above, invoiceno values of observations with negative unitprice values start with 'A'. The letter 'A' most likely represents the word 'Abandoned'."
   ]
  },
  {
   "cell_type": "markdown",
   "metadata": {
    "id": "KiSW67N_QGV8"
   },
   "source": [
    "- We see that there are negative values in the Quantity and UnitPrice columns. These are possibly canceled and returned orders. Let's check it out."
   ]
  },
  {
   "cell_type": "markdown",
   "metadata": {
    "id": "7OoPE-QLiqa4"
   },
   "source": [
    "### ii. What does the letter \"C\" in the InvoiceNo column mean?"
   ]
  },
  {
   "cell_type": "code",
   "execution_count": 64,
   "metadata": {},
   "outputs": [
    {
     "data": {
      "text/html": [
       "<style type=\"text/css\">\n",
       "#T_f281c_row0_col0, #T_f281c_row0_col1, #T_f281c_row0_col2, #T_f281c_row0_col5, #T_f281c_row1_col0 {\n",
       "  background-color: #fff7f3;\n",
       "  color: #000000;\n",
       "}\n",
       "#T_f281c_row1_col1, #T_f281c_row1_col2, #T_f281c_row1_col5 {\n",
       "  background-color: #49006a;\n",
       "  color: #f1f1f1;\n",
       "}\n",
       "</style>\n",
       "<table id=\"T_f281c_\">\n",
       "  <thead>\n",
       "    <tr>\n",
       "      <th class=\"blank level0\" >&nbsp;</th>\n",
       "      <th class=\"col_heading level0 col0\" >count</th>\n",
       "      <th class=\"col_heading level0 col1\" >mean</th>\n",
       "      <th class=\"col_heading level0 col2\" >std</th>\n",
       "      <th class=\"col_heading level0 col3\" >min</th>\n",
       "      <th class=\"col_heading level0 col4\" >25%</th>\n",
       "      <th class=\"col_heading level0 col5\" >50%</th>\n",
       "      <th class=\"col_heading level0 col6\" >75%</th>\n",
       "      <th class=\"col_heading level0 col7\" >max</th>\n",
       "    </tr>\n",
       "  </thead>\n",
       "  <tbody>\n",
       "    <tr>\n",
       "      <th id=\"T_f281c_level0_row0\" class=\"row_heading level0 row0\" >unitprice</th>\n",
       "      <td id=\"T_f281c_row0_col0\" class=\"data row0 col0\" >541909.000000</td>\n",
       "      <td id=\"T_f281c_row0_col1\" class=\"data row0 col1\" >4.611114</td>\n",
       "      <td id=\"T_f281c_row0_col2\" class=\"data row0 col2\" >96.759853</td>\n",
       "      <td id=\"T_f281c_row0_col3\" class=\"data row0 col3\" >-11062.060000</td>\n",
       "      <td id=\"T_f281c_row0_col4\" class=\"data row0 col4\" >1.250000</td>\n",
       "      <td id=\"T_f281c_row0_col5\" class=\"data row0 col5\" >2.080000</td>\n",
       "      <td id=\"T_f281c_row0_col6\" class=\"data row0 col6\" >4.130000</td>\n",
       "      <td id=\"T_f281c_row0_col7\" class=\"data row0 col7\" >38970.000000</td>\n",
       "    </tr>\n",
       "    <tr>\n",
       "      <th id=\"T_f281c_level0_row1\" class=\"row_heading level0 row1\" >quantity</th>\n",
       "      <td id=\"T_f281c_row1_col0\" class=\"data row1 col0\" >541909.000000</td>\n",
       "      <td id=\"T_f281c_row1_col1\" class=\"data row1 col1\" >9.552250</td>\n",
       "      <td id=\"T_f281c_row1_col2\" class=\"data row1 col2\" >218.081158</td>\n",
       "      <td id=\"T_f281c_row1_col3\" class=\"data row1 col3\" >-80995.000000</td>\n",
       "      <td id=\"T_f281c_row1_col4\" class=\"data row1 col4\" >1.000000</td>\n",
       "      <td id=\"T_f281c_row1_col5\" class=\"data row1 col5\" >3.000000</td>\n",
       "      <td id=\"T_f281c_row1_col6\" class=\"data row1 col6\" >10.000000</td>\n",
       "      <td id=\"T_f281c_row1_col7\" class=\"data row1 col7\" >80995.000000</td>\n",
       "    </tr>\n",
       "  </tbody>\n",
       "</table>\n"
      ],
      "text/plain": [
       "<pandas.io.formats.style.Styler at 0x2bc65eb6eb0>"
      ]
     },
     "execution_count": 64,
     "metadata": {},
     "output_type": "execute_result"
    }
   ],
   "source": [
    "df[['unitprice', 'quantity']].describe().T.style.background_gradient(subset = ['mean','std','50%','count'], cmap='RdPu')"
   ]
  },
  {
   "cell_type": "code",
   "execution_count": 65,
   "metadata": {},
   "outputs": [
    {
     "data": {
      "text/plain": [
       "False    532621\n",
       "True       9288\n",
       "Name: invoiceno, dtype: int64"
      ]
     },
     "execution_count": 65,
     "metadata": {},
     "output_type": "execute_result"
    }
   ],
   "source": [
    "df[\"invoiceno\"].str.startswith('C').value_counts()"
   ]
  },
  {
   "cell_type": "code",
   "execution_count": 66,
   "metadata": {},
   "outputs": [
    {
     "data": {
      "text/plain": [
       "False   98.286\n",
       "True     1.714\n",
       "Name: invoiceno, dtype: float64"
      ]
     },
     "execution_count": 66,
     "metadata": {},
     "output_type": "execute_result"
    }
   ],
   "source": [
    "df[\"invoiceno\"].str.startswith('C').value_counts(normalize = True)*100"
   ]
  },
  {
   "cell_type": "code",
   "execution_count": 67,
   "metadata": {},
   "outputs": [
    {
     "data": {
      "text/plain": [
       "9288"
      ]
     },
     "execution_count": 67,
     "metadata": {},
     "output_type": "execute_result"
    }
   ],
   "source": [
    "df[\"invoiceno\"].str.startswith('C').sum()"
   ]
  },
  {
   "cell_type": "markdown",
   "metadata": {
    "id": "Kt32SZgJQGV8"
   },
   "source": [
    "If the invoice number starts with the letter \"C\", it means the order was cancelled. Or those who abandon their order."
   ]
  },
  {
   "cell_type": "code",
   "execution_count": 68,
   "metadata": {
    "scrolled": true
   },
   "outputs": [
    {
     "name": "stdout",
     "output_type": "stream",
     "text": [
      "\u001b[31mCancelled Orders\u001b[0m\n"
     ]
    },
    {
     "data": {
      "text/html": [
       "<div>\n",
       "<style scoped>\n",
       "    .dataframe tbody tr th:only-of-type {\n",
       "        vertical-align: middle;\n",
       "    }\n",
       "\n",
       "    .dataframe tbody tr th {\n",
       "        vertical-align: top;\n",
       "    }\n",
       "\n",
       "    .dataframe thead th {\n",
       "        text-align: right;\n",
       "    }\n",
       "</style>\n",
       "<table border=\"1\" class=\"dataframe\">\n",
       "  <thead>\n",
       "    <tr style=\"text-align: right;\">\n",
       "      <th></th>\n",
       "      <th>invoiceno</th>\n",
       "      <th>stockcode</th>\n",
       "      <th>description</th>\n",
       "      <th>quantity</th>\n",
       "      <th>invoicedate</th>\n",
       "      <th>unitprice</th>\n",
       "      <th>customerid</th>\n",
       "      <th>country</th>\n",
       "    </tr>\n",
       "  </thead>\n",
       "  <tbody>\n",
       "    <tr>\n",
       "      <th>141</th>\n",
       "      <td>C536379</td>\n",
       "      <td>D</td>\n",
       "      <td>Discount</td>\n",
       "      <td>-1.000</td>\n",
       "      <td>2010-12-01 09:41:00</td>\n",
       "      <td>27.500</td>\n",
       "      <td>14527.000</td>\n",
       "      <td>United Kingdom</td>\n",
       "    </tr>\n",
       "    <tr>\n",
       "      <th>154</th>\n",
       "      <td>C536383</td>\n",
       "      <td>35004C</td>\n",
       "      <td>SET OF 3 COLOURED  FLYING DUCKS</td>\n",
       "      <td>-1.000</td>\n",
       "      <td>2010-12-01 09:49:00</td>\n",
       "      <td>4.650</td>\n",
       "      <td>15311.000</td>\n",
       "      <td>United Kingdom</td>\n",
       "    </tr>\n",
       "    <tr>\n",
       "      <th>235</th>\n",
       "      <td>C536391</td>\n",
       "      <td>22556.0</td>\n",
       "      <td>PLASTERS IN TIN CIRCUS PARADE</td>\n",
       "      <td>-12.000</td>\n",
       "      <td>2010-12-01 10:24:00</td>\n",
       "      <td>1.650</td>\n",
       "      <td>17548.000</td>\n",
       "      <td>United Kingdom</td>\n",
       "    </tr>\n",
       "    <tr>\n",
       "      <th>236</th>\n",
       "      <td>C536391</td>\n",
       "      <td>21984.0</td>\n",
       "      <td>PACK OF 12 PINK PAISLEY TISSUES</td>\n",
       "      <td>-24.000</td>\n",
       "      <td>2010-12-01 10:24:00</td>\n",
       "      <td>0.290</td>\n",
       "      <td>17548.000</td>\n",
       "      <td>United Kingdom</td>\n",
       "    </tr>\n",
       "    <tr>\n",
       "      <th>237</th>\n",
       "      <td>C536391</td>\n",
       "      <td>21983.0</td>\n",
       "      <td>PACK OF 12 BLUE PAISLEY TISSUES</td>\n",
       "      <td>-24.000</td>\n",
       "      <td>2010-12-01 10:24:00</td>\n",
       "      <td>0.290</td>\n",
       "      <td>17548.000</td>\n",
       "      <td>United Kingdom</td>\n",
       "    </tr>\n",
       "    <tr>\n",
       "      <th>...</th>\n",
       "      <td>...</td>\n",
       "      <td>...</td>\n",
       "      <td>...</td>\n",
       "      <td>...</td>\n",
       "      <td>...</td>\n",
       "      <td>...</td>\n",
       "      <td>...</td>\n",
       "      <td>...</td>\n",
       "    </tr>\n",
       "    <tr>\n",
       "      <th>540449</th>\n",
       "      <td>C581490</td>\n",
       "      <td>23144.0</td>\n",
       "      <td>ZINC T-LIGHT HOLDER STARS SMALL</td>\n",
       "      <td>-11.000</td>\n",
       "      <td>2011-12-09 09:57:00</td>\n",
       "      <td>0.830</td>\n",
       "      <td>14397.000</td>\n",
       "      <td>United Kingdom</td>\n",
       "    </tr>\n",
       "    <tr>\n",
       "      <th>541541</th>\n",
       "      <td>C581499</td>\n",
       "      <td>M</td>\n",
       "      <td>Manual</td>\n",
       "      <td>-1.000</td>\n",
       "      <td>2011-12-09 10:28:00</td>\n",
       "      <td>224.690</td>\n",
       "      <td>15498.000</td>\n",
       "      <td>United Kingdom</td>\n",
       "    </tr>\n",
       "    <tr>\n",
       "      <th>541715</th>\n",
       "      <td>C581568</td>\n",
       "      <td>21258.0</td>\n",
       "      <td>VICTORIAN SEWING BOX LARGE</td>\n",
       "      <td>-5.000</td>\n",
       "      <td>2011-12-09 11:57:00</td>\n",
       "      <td>10.950</td>\n",
       "      <td>15311.000</td>\n",
       "      <td>United Kingdom</td>\n",
       "    </tr>\n",
       "    <tr>\n",
       "      <th>541716</th>\n",
       "      <td>C581569</td>\n",
       "      <td>84978.0</td>\n",
       "      <td>HANGING HEART JAR T-LIGHT HOLDER</td>\n",
       "      <td>-1.000</td>\n",
       "      <td>2011-12-09 11:58:00</td>\n",
       "      <td>1.250</td>\n",
       "      <td>17315.000</td>\n",
       "      <td>United Kingdom</td>\n",
       "    </tr>\n",
       "    <tr>\n",
       "      <th>541717</th>\n",
       "      <td>C581569</td>\n",
       "      <td>20979.0</td>\n",
       "      <td>36 PENCILS TUBE RED RETROSPOT</td>\n",
       "      <td>-5.000</td>\n",
       "      <td>2011-12-09 11:58:00</td>\n",
       "      <td>1.250</td>\n",
       "      <td>17315.000</td>\n",
       "      <td>United Kingdom</td>\n",
       "    </tr>\n",
       "  </tbody>\n",
       "</table>\n",
       "<p>10624 rows × 8 columns</p>\n",
       "</div>"
      ],
      "text/plain": [
       "       invoiceno stockcode                       description  quantity  \\\n",
       "141      C536379         D                          Discount    -1.000   \n",
       "154      C536383    35004C   SET OF 3 COLOURED  FLYING DUCKS    -1.000   \n",
       "235      C536391   22556.0    PLASTERS IN TIN CIRCUS PARADE    -12.000   \n",
       "236      C536391   21984.0  PACK OF 12 PINK PAISLEY TISSUES    -24.000   \n",
       "237      C536391   21983.0  PACK OF 12 BLUE PAISLEY TISSUES    -24.000   \n",
       "...          ...       ...                               ...       ...   \n",
       "540449   C581490   23144.0   ZINC T-LIGHT HOLDER STARS SMALL   -11.000   \n",
       "541541   C581499         M                            Manual    -1.000   \n",
       "541715   C581568   21258.0        VICTORIAN SEWING BOX LARGE    -5.000   \n",
       "541716   C581569   84978.0  HANGING HEART JAR T-LIGHT HOLDER    -1.000   \n",
       "541717   C581569   20979.0     36 PENCILS TUBE RED RETROSPOT    -5.000   \n",
       "\n",
       "               invoicedate  unitprice  customerid         country  \n",
       "141    2010-12-01 09:41:00     27.500   14527.000  United Kingdom  \n",
       "154    2010-12-01 09:49:00      4.650   15311.000  United Kingdom  \n",
       "235    2010-12-01 10:24:00      1.650   17548.000  United Kingdom  \n",
       "236    2010-12-01 10:24:00      0.290   17548.000  United Kingdom  \n",
       "237    2010-12-01 10:24:00      0.290   17548.000  United Kingdom  \n",
       "...                    ...        ...         ...             ...  \n",
       "540449 2011-12-09 09:57:00      0.830   14397.000  United Kingdom  \n",
       "541541 2011-12-09 10:28:00    224.690   15498.000  United Kingdom  \n",
       "541715 2011-12-09 11:57:00     10.950   15311.000  United Kingdom  \n",
       "541716 2011-12-09 11:58:00      1.250   17315.000  United Kingdom  \n",
       "541717 2011-12-09 11:58:00      1.250   17315.000  United Kingdom  \n",
       "\n",
       "[10624 rows x 8 columns]"
      ]
     },
     "execution_count": 68,
     "metadata": {},
     "output_type": "execute_result"
    }
   ],
   "source": [
    "cprint(\"Cancelled Orders\",'red')\n",
    "df[df['quantity'] < 0][['invoiceno', 'stockcode', 'description', 'quantity', 'invoicedate', 'unitprice', 'customerid', 'country']]"
   ]
  },
  {
   "cell_type": "code",
   "execution_count": 69,
   "metadata": {
    "scrolled": true
   },
   "outputs": [
    {
     "name": "stdout",
     "output_type": "stream",
     "text": [
      "\u001b[31mNon-Cancelled Orders\u001b[0m\n"
     ]
    },
    {
     "data": {
      "text/html": [
       "<div>\n",
       "<style scoped>\n",
       "    .dataframe tbody tr th:only-of-type {\n",
       "        vertical-align: middle;\n",
       "    }\n",
       "\n",
       "    .dataframe tbody tr th {\n",
       "        vertical-align: top;\n",
       "    }\n",
       "\n",
       "    .dataframe thead th {\n",
       "        text-align: right;\n",
       "    }\n",
       "</style>\n",
       "<table border=\"1\" class=\"dataframe\">\n",
       "  <thead>\n",
       "    <tr style=\"text-align: right;\">\n",
       "      <th></th>\n",
       "      <th>invoiceno</th>\n",
       "      <th>stockcode</th>\n",
       "      <th>description</th>\n",
       "      <th>quantity</th>\n",
       "      <th>invoicedate</th>\n",
       "      <th>unitprice</th>\n",
       "      <th>customerid</th>\n",
       "      <th>country</th>\n",
       "    </tr>\n",
       "  </thead>\n",
       "  <tbody>\n",
       "    <tr>\n",
       "      <th>0</th>\n",
       "      <td>536365.0</td>\n",
       "      <td>85123A</td>\n",
       "      <td>WHITE HANGING HEART T-LIGHT HOLDER</td>\n",
       "      <td>6.000</td>\n",
       "      <td>2010-12-01 08:26:00</td>\n",
       "      <td>2.550</td>\n",
       "      <td>17850.000</td>\n",
       "      <td>United Kingdom</td>\n",
       "    </tr>\n",
       "    <tr>\n",
       "      <th>1</th>\n",
       "      <td>536365.0</td>\n",
       "      <td>71053.0</td>\n",
       "      <td>WHITE METAL LANTERN</td>\n",
       "      <td>6.000</td>\n",
       "      <td>2010-12-01 08:26:00</td>\n",
       "      <td>3.390</td>\n",
       "      <td>17850.000</td>\n",
       "      <td>United Kingdom</td>\n",
       "    </tr>\n",
       "    <tr>\n",
       "      <th>2</th>\n",
       "      <td>536365.0</td>\n",
       "      <td>84406B</td>\n",
       "      <td>CREAM CUPID HEARTS COAT HANGER</td>\n",
       "      <td>8.000</td>\n",
       "      <td>2010-12-01 08:26:00</td>\n",
       "      <td>2.750</td>\n",
       "      <td>17850.000</td>\n",
       "      <td>United Kingdom</td>\n",
       "    </tr>\n",
       "    <tr>\n",
       "      <th>3</th>\n",
       "      <td>536365.0</td>\n",
       "      <td>84029G</td>\n",
       "      <td>KNITTED UNION FLAG HOT WATER BOTTLE</td>\n",
       "      <td>6.000</td>\n",
       "      <td>2010-12-01 08:26:00</td>\n",
       "      <td>3.390</td>\n",
       "      <td>17850.000</td>\n",
       "      <td>United Kingdom</td>\n",
       "    </tr>\n",
       "    <tr>\n",
       "      <th>4</th>\n",
       "      <td>536365.0</td>\n",
       "      <td>84029E</td>\n",
       "      <td>RED WOOLLY HOTTIE WHITE HEART.</td>\n",
       "      <td>6.000</td>\n",
       "      <td>2010-12-01 08:26:00</td>\n",
       "      <td>3.390</td>\n",
       "      <td>17850.000</td>\n",
       "      <td>United Kingdom</td>\n",
       "    </tr>\n",
       "    <tr>\n",
       "      <th>...</th>\n",
       "      <td>...</td>\n",
       "      <td>...</td>\n",
       "      <td>...</td>\n",
       "      <td>...</td>\n",
       "      <td>...</td>\n",
       "      <td>...</td>\n",
       "      <td>...</td>\n",
       "      <td>...</td>\n",
       "    </tr>\n",
       "    <tr>\n",
       "      <th>541904</th>\n",
       "      <td>581587.0</td>\n",
       "      <td>22613.0</td>\n",
       "      <td>PACK OF 20 SPACEBOY NAPKINS</td>\n",
       "      <td>12.000</td>\n",
       "      <td>2011-12-09 12:50:00</td>\n",
       "      <td>0.850</td>\n",
       "      <td>12680.000</td>\n",
       "      <td>France</td>\n",
       "    </tr>\n",
       "    <tr>\n",
       "      <th>541905</th>\n",
       "      <td>581587.0</td>\n",
       "      <td>22899.0</td>\n",
       "      <td>CHILDREN'S APRON DOLLY GIRL</td>\n",
       "      <td>6.000</td>\n",
       "      <td>2011-12-09 12:50:00</td>\n",
       "      <td>2.100</td>\n",
       "      <td>12680.000</td>\n",
       "      <td>France</td>\n",
       "    </tr>\n",
       "    <tr>\n",
       "      <th>541906</th>\n",
       "      <td>581587.0</td>\n",
       "      <td>23254.0</td>\n",
       "      <td>CHILDRENS CUTLERY DOLLY GIRL</td>\n",
       "      <td>4.000</td>\n",
       "      <td>2011-12-09 12:50:00</td>\n",
       "      <td>4.150</td>\n",
       "      <td>12680.000</td>\n",
       "      <td>France</td>\n",
       "    </tr>\n",
       "    <tr>\n",
       "      <th>541907</th>\n",
       "      <td>581587.0</td>\n",
       "      <td>23255.0</td>\n",
       "      <td>CHILDRENS CUTLERY CIRCUS PARADE</td>\n",
       "      <td>4.000</td>\n",
       "      <td>2011-12-09 12:50:00</td>\n",
       "      <td>4.150</td>\n",
       "      <td>12680.000</td>\n",
       "      <td>France</td>\n",
       "    </tr>\n",
       "    <tr>\n",
       "      <th>541908</th>\n",
       "      <td>581587.0</td>\n",
       "      <td>22138.0</td>\n",
       "      <td>BAKING SET 9 PIECE RETROSPOT</td>\n",
       "      <td>3.000</td>\n",
       "      <td>2011-12-09 12:50:00</td>\n",
       "      <td>4.950</td>\n",
       "      <td>12680.000</td>\n",
       "      <td>France</td>\n",
       "    </tr>\n",
       "  </tbody>\n",
       "</table>\n",
       "<p>531285 rows × 8 columns</p>\n",
       "</div>"
      ],
      "text/plain": [
       "       invoiceno stockcode                          description  quantity  \\\n",
       "0       536365.0    85123A   WHITE HANGING HEART T-LIGHT HOLDER     6.000   \n",
       "1       536365.0   71053.0                  WHITE METAL LANTERN     6.000   \n",
       "2       536365.0    84406B       CREAM CUPID HEARTS COAT HANGER     8.000   \n",
       "3       536365.0    84029G  KNITTED UNION FLAG HOT WATER BOTTLE     6.000   \n",
       "4       536365.0    84029E       RED WOOLLY HOTTIE WHITE HEART.     6.000   \n",
       "...          ...       ...                                  ...       ...   \n",
       "541904  581587.0   22613.0          PACK OF 20 SPACEBOY NAPKINS    12.000   \n",
       "541905  581587.0   22899.0         CHILDREN'S APRON DOLLY GIRL      6.000   \n",
       "541906  581587.0   23254.0        CHILDRENS CUTLERY DOLLY GIRL      4.000   \n",
       "541907  581587.0   23255.0      CHILDRENS CUTLERY CIRCUS PARADE     4.000   \n",
       "541908  581587.0   22138.0        BAKING SET 9 PIECE RETROSPOT      3.000   \n",
       "\n",
       "               invoicedate  unitprice  customerid         country  \n",
       "0      2010-12-01 08:26:00      2.550   17850.000  United Kingdom  \n",
       "1      2010-12-01 08:26:00      3.390   17850.000  United Kingdom  \n",
       "2      2010-12-01 08:26:00      2.750   17850.000  United Kingdom  \n",
       "3      2010-12-01 08:26:00      3.390   17850.000  United Kingdom  \n",
       "4      2010-12-01 08:26:00      3.390   17850.000  United Kingdom  \n",
       "...                    ...        ...         ...             ...  \n",
       "541904 2011-12-09 12:50:00      0.850   12680.000          France  \n",
       "541905 2011-12-09 12:50:00      2.100   12680.000          France  \n",
       "541906 2011-12-09 12:50:00      4.150   12680.000          France  \n",
       "541907 2011-12-09 12:50:00      4.150   12680.000          France  \n",
       "541908 2011-12-09 12:50:00      4.950   12680.000          France  \n",
       "\n",
       "[531285 rows x 8 columns]"
      ]
     },
     "execution_count": 69,
     "metadata": {},
     "output_type": "execute_result"
    }
   ],
   "source": [
    "cprint(\"Non-Cancelled Orders\",'red')\n",
    "df[df['quantity'] > 0][['invoiceno', 'stockcode', 'description', 'quantity', 'invoicedate', 'unitprice', 'customerid', 'country']]"
   ]
  },
  {
   "cell_type": "markdown",
   "metadata": {
    "id": "YP5RPZq1QGV_"
   },
   "source": [
    "When we filter canceled orders by Quantity> 0 or filter non-canceled orders by Quantity <0 nothing returns, this confirms that negative values mean the order was canceled. So lets find out how many orders were cancelled?"
   ]
  },
  {
   "cell_type": "markdown",
   "metadata": {},
   "source": [
    "Note That : The min for unit price = 0 and the min for Quantity with negative value"
   ]
  },
  {
   "cell_type": "markdown",
   "metadata": {},
   "source": [
    "**8872 (2.209%) orders were cancelled.**"
   ]
  },
  {
   "cell_type": "code",
   "execution_count": 70,
   "metadata": {},
   "outputs": [
    {
     "name": "stdout",
     "output_type": "stream",
     "text": [
      "\u001b[31minvoiceno Starts with A or C:\u001b[0m\n"
     ]
    },
    {
     "data": {
      "text/plain": [
       "False    532621\n",
       "True       9288\n",
       "Name: invoiceno, dtype: int64"
      ]
     },
     "execution_count": 70,
     "metadata": {},
     "output_type": "execute_result"
    }
   ],
   "source": [
    "cprint(\"invoiceno Starts with A or C:\",'red')\n",
    "df['invoiceno'].str.startswith('C').value_counts()"
   ]
  },
  {
   "cell_type": "code",
   "execution_count": 71,
   "metadata": {},
   "outputs": [],
   "source": [
    "# fig = px.pie(df, values = df['invoiceno'].str.startswith('C').value_counts(), \n",
    "#              names = (df['invoiceno'].str.startswith('C') | df['invoiceno'].str.startswith('A')).value_counts().index, \n",
    "#              title = 'invoiceno Starts With \"C\"')\n",
    "# fig.show()"
   ]
  },
  {
   "cell_type": "markdown",
   "metadata": {
    "id": "nrp8logRQGWA"
   },
   "source": [
    "#### 9288 or about 36% of the orders were cancelled. Looking deeper into why these orders were cancelled may prevent future cancellations. Now let's find out what a negative UnitPrice means.\n"
   ]
  },
  {
   "cell_type": "code",
   "execution_count": 72,
   "metadata": {},
   "outputs": [
    {
     "name": "stdout",
     "output_type": "stream",
     "text": [
      "\u001b[31minvoiceno Starts with \"A\" & unitprice<0:\u001b[0m\n"
     ]
    },
    {
     "data": {
      "text/html": [
       "<div>\n",
       "<style scoped>\n",
       "    .dataframe tbody tr th:only-of-type {\n",
       "        vertical-align: middle;\n",
       "    }\n",
       "\n",
       "    .dataframe tbody tr th {\n",
       "        vertical-align: top;\n",
       "    }\n",
       "\n",
       "    .dataframe thead th {\n",
       "        text-align: right;\n",
       "    }\n",
       "</style>\n",
       "<table border=\"1\" class=\"dataframe\">\n",
       "  <thead>\n",
       "    <tr style=\"text-align: right;\">\n",
       "      <th></th>\n",
       "      <th>invoiceno</th>\n",
       "      <th>stockcode</th>\n",
       "      <th>description</th>\n",
       "      <th>quantity</th>\n",
       "      <th>invoicedate</th>\n",
       "      <th>unitprice</th>\n",
       "      <th>customerid</th>\n",
       "      <th>country</th>\n",
       "    </tr>\n",
       "  </thead>\n",
       "  <tbody>\n",
       "    <tr>\n",
       "      <th>299983</th>\n",
       "      <td>A563186</td>\n",
       "      <td>B</td>\n",
       "      <td>Adjust bad debt</td>\n",
       "      <td>1.000</td>\n",
       "      <td>2011-08-12 14:51:00</td>\n",
       "      <td>-11062.060</td>\n",
       "      <td>NaN</td>\n",
       "      <td>United Kingdom</td>\n",
       "    </tr>\n",
       "    <tr>\n",
       "      <th>299984</th>\n",
       "      <td>A563187</td>\n",
       "      <td>B</td>\n",
       "      <td>Adjust bad debt</td>\n",
       "      <td>1.000</td>\n",
       "      <td>2011-08-12 14:52:00</td>\n",
       "      <td>-11062.060</td>\n",
       "      <td>NaN</td>\n",
       "      <td>United Kingdom</td>\n",
       "    </tr>\n",
       "  </tbody>\n",
       "</table>\n",
       "</div>"
      ],
      "text/plain": [
       "       invoiceno stockcode      description  quantity         invoicedate  \\\n",
       "299983   A563186         B  Adjust bad debt     1.000 2011-08-12 14:51:00   \n",
       "299984   A563187         B  Adjust bad debt     1.000 2011-08-12 14:52:00   \n",
       "\n",
       "        unitprice  customerid         country  \n",
       "299983 -11062.060         NaN  United Kingdom  \n",
       "299984 -11062.060         NaN  United Kingdom  "
      ]
     },
     "execution_count": 72,
     "metadata": {},
     "output_type": "execute_result"
    }
   ],
   "source": [
    "cprint('invoiceno Starts with \"A\" & unitprice<0:','red')\n",
    "df[df['unitprice']<0][['invoiceno', 'stockcode', 'description', 'quantity', 'invoicedate', 'unitprice', 'customerid', 'country']]"
   ]
  },
  {
   "cell_type": "markdown",
   "metadata": {
    "id": "nXVVls6sQGVQ"
   },
   "source": [
    "### iii. Handling with Missing Values"
   ]
  },
  {
   "cell_type": "code",
   "execution_count": 73,
   "metadata": {},
   "outputs": [
    {
     "data": {
      "text/html": [
       "<div>\n",
       "<style scoped>\n",
       "    .dataframe tbody tr th:only-of-type {\n",
       "        vertical-align: middle;\n",
       "    }\n",
       "\n",
       "    .dataframe tbody tr th {\n",
       "        vertical-align: top;\n",
       "    }\n",
       "\n",
       "    .dataframe thead th {\n",
       "        text-align: right;\n",
       "    }\n",
       "</style>\n",
       "<table border=\"1\" class=\"dataframe\">\n",
       "  <thead>\n",
       "    <tr style=\"text-align: right;\">\n",
       "      <th></th>\n",
       "      <th>Missing_Number</th>\n",
       "      <th>Missing_Percent</th>\n",
       "    </tr>\n",
       "  </thead>\n",
       "  <tbody>\n",
       "    <tr>\n",
       "      <th>customerid</th>\n",
       "      <td>135080</td>\n",
       "      <td>0.249</td>\n",
       "    </tr>\n",
       "    <tr>\n",
       "      <th>description</th>\n",
       "      <td>1454</td>\n",
       "      <td>0.003</td>\n",
       "    </tr>\n",
       "  </tbody>\n",
       "</table>\n",
       "</div>"
      ],
      "text/plain": [
       "             Missing_Number  Missing_Percent\n",
       "customerid           135080            0.249\n",
       "description            1454            0.003"
      ]
     },
     "execution_count": 73,
     "metadata": {},
     "output_type": "execute_result"
    }
   ],
   "source": [
    "missing_values(df)"
   ]
  },
  {
   "cell_type": "code",
   "execution_count": 74,
   "metadata": {},
   "outputs": [
    {
     "name": "stdout",
     "output_type": "stream",
     "text": [
      "\u001b[31mBefore filling missing values of 'description' column\u001b[0m\n"
     ]
    },
    {
     "data": {
      "text/plain": [
       "RETROSPOT TEA SET CERAMIC 11 PC     988\n",
       "NaN                                   4\n",
       "amazon                                1\n",
       "Name: description, dtype: int64"
      ]
     },
     "execution_count": 74,
     "metadata": {},
     "output_type": "execute_result"
    }
   ],
   "source": [
    "cprint(\"Before filling missing values of 'description' column\",'red')\n",
    "df[df['stockcode']=='22139.0']['description'].value_counts(dropna=False)"
   ]
  },
  {
   "cell_type": "code",
   "execution_count": 75,
   "metadata": {},
   "outputs": [
    {
     "name": "stdout",
     "output_type": "stream",
     "text": [
      "Number of NaN :  0\n",
      "------------------\n",
      "WHITE HANGING HEART T-LIGHT HOLDER    2481\n",
      "REGENCY CAKESTAND 3 TIER              2200\n",
      "JUMBO BAG RED RETROSPOT               2159\n",
      "PARTY BUNTING                         1727\n",
      "LUNCH BAG RED RETROSPOT               1638\n",
      "                                      ... \n",
      "FLOWER FAIRY 5 SUMMER DRAW LINERS        1\n",
      "website fixed                            1\n",
      "WRAP  PINK FLOCK                         1\n",
      "Found in w/hse                           1\n",
      "PEARL & SHELL 42\"NECKL. IVORY            1\n",
      "Name: description, Length: 4223, dtype: int64\n"
     ]
    }
   ],
   "source": [
    "fill_most(df, 'stockcode', 'description')"
   ]
  },
  {
   "cell_type": "code",
   "execution_count": 76,
   "metadata": {},
   "outputs": [
    {
     "name": "stdout",
     "output_type": "stream",
     "text": [
      "\u001b[31mCross check\u001b[0m\n"
     ]
    },
    {
     "data": {
      "text/plain": [
       "RETROSPOT TEA SET CERAMIC 11 PC     992\n",
       "amazon                                1\n",
       "Name: description, dtype: int64"
      ]
     },
     "execution_count": 76,
     "metadata": {},
     "output_type": "execute_result"
    }
   ],
   "source": [
    "cprint(\"Cross check\",'red')\n",
    "df[df['stockcode']=='22139.0']['description'].value_counts(dropna=False)"
   ]
  },
  {
   "cell_type": "markdown",
   "metadata": {
    "id": "EQtZK5paQGVf"
   },
   "source": [
    "Let's assume that the orders which do NOT have customer ID's were not made by the customers already in the dataset because the customers who in fact made some purchases already have ID's. \n",
    "\n",
    "So we don't want to assign these orders to those customers because this would alter the insights we draw from the data. "
   ]
  },
  {
   "cell_type": "markdown",
   "metadata": {
    "id": "llu-bMTAiqa6"
   },
   "source": [
    "### iv. Clean the Data from the Noise and Missing Values"
   ]
  },
  {
   "cell_type": "code",
   "execution_count": 77,
   "metadata": {},
   "outputs": [
    {
     "data": {
      "text/plain": [
       "(541909, 9)"
      ]
     },
     "execution_count": 77,
     "metadata": {},
     "output_type": "execute_result"
    }
   ],
   "source": [
    "df.shape"
   ]
  },
  {
   "cell_type": "code",
   "execution_count": 78,
   "metadata": {},
   "outputs": [
    {
     "data": {
      "text/html": [
       "<div>\n",
       "<style scoped>\n",
       "    .dataframe tbody tr th:only-of-type {\n",
       "        vertical-align: middle;\n",
       "    }\n",
       "\n",
       "    .dataframe tbody tr th {\n",
       "        vertical-align: top;\n",
       "    }\n",
       "\n",
       "    .dataframe thead th {\n",
       "        text-align: right;\n",
       "    }\n",
       "</style>\n",
       "<table border=\"1\" class=\"dataframe\">\n",
       "  <thead>\n",
       "    <tr style=\"text-align: right;\">\n",
       "      <th></th>\n",
       "      <th>Missing_Number</th>\n",
       "      <th>Missing_Percent</th>\n",
       "    </tr>\n",
       "  </thead>\n",
       "  <tbody>\n",
       "    <tr>\n",
       "      <th>customerid</th>\n",
       "      <td>135080</td>\n",
       "      <td>0.249</td>\n",
       "    </tr>\n",
       "  </tbody>\n",
       "</table>\n",
       "</div>"
      ],
      "text/plain": [
       "            Missing_Number  Missing_Percent\n",
       "customerid          135080            0.249"
      ]
     },
     "execution_count": 78,
     "metadata": {},
     "output_type": "execute_result"
    }
   ],
   "source": [
    "missing_values(df)"
   ]
  },
  {
   "cell_type": "markdown",
   "metadata": {},
   "source": [
    "**Drop the observations with missing values**"
   ]
  },
  {
   "cell_type": "code",
   "execution_count": 79,
   "metadata": {},
   "outputs": [
    {
     "data": {
      "text/plain": [
       "(406829, 9)"
      ]
     },
     "execution_count": 79,
     "metadata": {},
     "output_type": "execute_result"
    }
   ],
   "source": [
    "df = df.dropna(subset=[\"customerid\"])\n",
    "df.shape"
   ]
  },
  {
   "cell_type": "markdown",
   "metadata": {},
   "source": [
    "**Get rid of cancellations and negative values**"
   ]
  },
  {
   "cell_type": "code",
   "execution_count": 81,
   "metadata": {
    "id": "R-TgtE4Ziqa6"
   },
   "outputs": [
    {
     "data": {
      "text/plain": [
       "(397884, 9)"
      ]
     },
     "execution_count": 81,
     "metadata": {},
     "output_type": "execute_result"
    }
   ],
   "source": [
    "df = df[(df['unitprice'] > 0) & (df['quantity'] > 0)]\n",
    "df.shape"
   ]
  },
  {
   "cell_type": "markdown",
   "metadata": {},
   "source": [
    "**Check for dublicated values**"
   ]
  },
  {
   "cell_type": "code",
   "execution_count": 82,
   "metadata": {},
   "outputs": [
    {
     "name": "stdout",
     "output_type": "stream",
     "text": [
      "There are 5192 duplicated observations in the dataset.\n",
      "5192 Duplicated observations are dropped!\n"
     ]
    }
   ],
   "source": [
    "print(\"There are\", df.duplicated(subset=None, keep='first').sum(), \"duplicated observations in the dataset.\")\n",
    "print(df.duplicated(subset=None, keep='first').sum(), \"Duplicated observations are dropped!\")\n",
    "df.drop_duplicates(keep='first', inplace=True)"
   ]
  },
  {
   "cell_type": "code",
   "execution_count": 83,
   "metadata": {},
   "outputs": [
    {
     "data": {
      "text/plain": [
       "(392692, 9)"
      ]
     },
     "execution_count": 83,
     "metadata": {},
     "output_type": "execute_result"
    }
   ],
   "source": [
    "df.shape"
   ]
  },
  {
   "cell_type": "code",
   "execution_count": 84,
   "metadata": {},
   "outputs": [
    {
     "data": {
      "text/plain": [
       "Index(['invoiceno', 'stockcode', 'description', 'quantity', 'invoicedate',\n",
       "       'unitprice', 'customerid', 'country', 'total_price'],\n",
       "      dtype='object')"
      ]
     },
     "execution_count": 84,
     "metadata": {},
     "output_type": "execute_result"
    }
   ],
   "source": [
    "df.columns"
   ]
  },
  {
   "cell_type": "markdown",
   "metadata": {
    "id": "25MkNjZqQGWC"
   },
   "source": [
    "### v. Explore the Orders\n"
   ]
  },
  {
   "cell_type": "markdown",
   "metadata": {
    "id": "8OAkPoUjiqa7"
   },
   "source": [
    "1. Find the unique number of InvoiceNo  per customer"
   ]
  },
  {
   "cell_type": "code",
   "execution_count": 86,
   "metadata": {},
   "outputs": [
    {
     "data": {
      "text/plain": [
       "customerid\n",
       "12748.000    209\n",
       "14911.000    201\n",
       "17841.000    124\n",
       "13089.000     97\n",
       "14606.000     93\n",
       "            ... \n",
       "15314.000      1\n",
       "15313.000      1\n",
       "15308.000      1\n",
       "15307.000      1\n",
       "15300.000      1\n",
       "Name: invoiceno, Length: 4338, dtype: int64"
      ]
     },
     "execution_count": 86,
     "metadata": {},
     "output_type": "execute_result"
    }
   ],
   "source": [
    "df.groupby(\"customerid\")[\"invoiceno\"].nunique().sort_values(ascending=False)"
   ]
  },
  {
   "cell_type": "markdown",
   "metadata": {
    "id": "di03OKjzQGWE"
   },
   "source": [
    "2. What's the average number of unqiue items per order or per customer?"
   ]
  },
  {
   "cell_type": "code",
   "execution_count": 87,
   "metadata": {
    "id": "V4LxkeIIiqa7"
   },
   "outputs": [
    {
     "name": "stdout",
     "output_type": "stream",
     "text": [
      "\u001b[31mAverage number of unqiue items per order\u001b[0m\n"
     ]
    },
    {
     "data": {
      "text/plain": [
       "invoiceno  stockcode  description                        \n",
       "536365.0   21730.0    GLASS STAR FROSTED T-LIGHT HOLDER     6.000\n",
       "           22752.0    SET 7 BABUSHKA NESTING BOXES          2.000\n",
       "           71053.0    WHITE METAL LANTERN                   6.000\n",
       "           84029E     RED WOOLLY HOTTIE WHITE HEART.        6.000\n",
       "           84029G     KNITTED UNION FLAG HOT WATER BOTTLE   6.000\n",
       "                                                             ... \n",
       "581587.0   22730.0    ALARM CLOCK BAKELIKE IVORY            4.000\n",
       "           22899.0    CHILDREN'S APRON DOLLY GIRL           6.000\n",
       "           23254.0    CHILDRENS CUTLERY DOLLY GIRL          4.000\n",
       "           23255.0    CHILDRENS CUTLERY CIRCUS PARADE       4.000\n",
       "           23256.0    CHILDRENS CUTLERY SPACEBOY            4.000\n",
       "Name: quantity, Length: 387843, dtype: float64"
      ]
     },
     "execution_count": 87,
     "metadata": {},
     "output_type": "execute_result"
    }
   ],
   "source": [
    "cprint(\"Average number of unqiue items per order\",'red')\n",
    "df.groupby([\"invoiceno\",\"stockcode\",\"description\"])[\"quantity\"].mean()"
   ]
  },
  {
   "cell_type": "code",
   "execution_count": 88,
   "metadata": {},
   "outputs": [
    {
     "name": "stdout",
     "output_type": "stream",
     "text": [
      "\u001b[31mAverage number of unqiue items per customer\u001b[0m\n"
     ]
    },
    {
     "data": {
      "text/plain": [
       "customerid  stockcode\n",
       "12346.000   23166.0     74215.000\n",
       "12347.000   16008.0        24.000\n",
       "            17021.0        36.000\n",
       "            20665.0         6.000\n",
       "            20719.0        10.000\n",
       "                           ...   \n",
       "18287.000   84920.0         4.000\n",
       "            85039A         48.000\n",
       "            85039B         40.000\n",
       "            85040A         24.000\n",
       "            85173.0        48.000\n",
       "Name: quantity, Length: 266792, dtype: float64"
      ]
     },
     "execution_count": 88,
     "metadata": {},
     "output_type": "execute_result"
    }
   ],
   "source": [
    "cprint(\"Average number of unqiue items per customer\",'red')\n",
    "df.groupby([\"customerid\",\"stockcode\"])[\"quantity\"].mean()"
   ]
  },
  {
   "cell_type": "markdown",
   "metadata": {
    "id": "HUKzA73dQGWH"
   },
   "source": [
    "3. Let's see how this compares to the number of unique products per customer."
   ]
  },
  {
   "cell_type": "code",
   "execution_count": 89,
   "metadata": {
    "id": "b8uzjYyKiqa7"
   },
   "outputs": [
    {
     "data": {
      "text/plain": [
       "customerid\n",
       "14911.000    1787\n",
       "12748.000    1768\n",
       "17841.000    1323\n",
       "14096.000    1119\n",
       "14298.000     884\n",
       "             ... \n",
       "15389.000       1\n",
       "18174.000       1\n",
       "12823.000       1\n",
       "14576.000       1\n",
       "12346.000       1\n",
       "Name: stockcode, Length: 4338, dtype: int64"
      ]
     },
     "execution_count": 89,
     "metadata": {},
     "output_type": "execute_result"
    }
   ],
   "source": [
    "df.groupby(\"customerid\")[\"stockcode\"].nunique().sort_values(ascending=False)"
   ]
  },
  {
   "cell_type": "markdown",
   "metadata": {
    "id": "I_Ozp-U5QGWK"
   },
   "source": [
    "### vi. Explore Customers by Country"
   ]
  },
  {
   "cell_type": "markdown",
   "metadata": {
    "id": "SP6M3isLiqa8"
   },
   "source": [
    "1. What's the total revenue per country?"
   ]
  },
  {
   "cell_type": "code",
   "execution_count": 90,
   "metadata": {},
   "outputs": [
    {
     "data": {
      "text/html": [
       "<div>\n",
       "<style scoped>\n",
       "    .dataframe tbody tr th:only-of-type {\n",
       "        vertical-align: middle;\n",
       "    }\n",
       "\n",
       "    .dataframe tbody tr th {\n",
       "        vertical-align: top;\n",
       "    }\n",
       "\n",
       "    .dataframe thead th {\n",
       "        text-align: right;\n",
       "    }\n",
       "</style>\n",
       "<table border=\"1\" class=\"dataframe\">\n",
       "  <thead>\n",
       "    <tr style=\"text-align: right;\">\n",
       "      <th></th>\n",
       "      <th>invoiceno</th>\n",
       "      <th>stockcode</th>\n",
       "      <th>description</th>\n",
       "      <th>quantity</th>\n",
       "      <th>invoicedate</th>\n",
       "      <th>unitprice</th>\n",
       "      <th>customerid</th>\n",
       "      <th>country</th>\n",
       "      <th>total_price</th>\n",
       "    </tr>\n",
       "  </thead>\n",
       "  <tbody>\n",
       "    <tr>\n",
       "      <th>0</th>\n",
       "      <td>536365.0</td>\n",
       "      <td>85123A</td>\n",
       "      <td>WHITE HANGING HEART T-LIGHT HOLDER</td>\n",
       "      <td>6.000</td>\n",
       "      <td>2010-12-01 08:26:00</td>\n",
       "      <td>2.550</td>\n",
       "      <td>17850.000</td>\n",
       "      <td>United Kingdom</td>\n",
       "      <td>15.300</td>\n",
       "    </tr>\n",
       "  </tbody>\n",
       "</table>\n",
       "</div>"
      ],
      "text/plain": [
       "  invoiceno stockcode                         description  quantity  \\\n",
       "0  536365.0    85123A  WHITE HANGING HEART T-LIGHT HOLDER     6.000   \n",
       "\n",
       "          invoicedate  unitprice  customerid         country  total_price  \n",
       "0 2010-12-01 08:26:00      2.550   17850.000  United Kingdom       15.300  "
      ]
     },
     "execution_count": 90,
     "metadata": {},
     "output_type": "execute_result"
    }
   ],
   "source": [
    "df.head(1)"
   ]
  },
  {
   "cell_type": "code",
   "execution_count": 91,
   "metadata": {
    "scrolled": true
   },
   "outputs": [
    {
     "data": {
      "text/plain": [
       "country\n",
       "United Kingdom         7285024.644\n",
       "Netherlands             285446.340\n",
       "EIRE                    265262.460\n",
       "Germany                 228678.400\n",
       "France                  208934.310\n",
       "Australia               138453.810\n",
       "Spain                    61558.560\n",
       "Switzerland              56443.950\n",
       "Belgium                  41196.340\n",
       "Sweden                   38367.830\n",
       "Japan                    37416.370\n",
       "Norway                   36165.440\n",
       "Portugal                 33375.840\n",
       "Finland                  22546.080\n",
       "Singapore                21279.290\n",
       "Channel Islands          20440.540\n",
       "Denmark                  18955.340\n",
       "Italy                    17483.240\n",
       "Cyprus                   13502.850\n",
       "Austria                  10198.680\n",
       "Poland                    7334.650\n",
       "Israel                    7215.840\n",
       "Greece                    4760.520\n",
       "Iceland                   4310.000\n",
       "Canada                    3666.380\n",
       "USA                       3580.390\n",
       "Malta                     2725.590\n",
       "Unspecified               2660.770\n",
       "United Arab Emirates      1902.280\n",
       "Lebanon                   1693.880\n",
       "Lithuania                 1661.060\n",
       "European Community        1300.250\n",
       "Brazil                    1143.600\n",
       "RSA                       1002.310\n",
       "Czech Republic             826.740\n",
       "Bahrain                    548.400\n",
       "Saudi Arabia               145.920\n",
       "Name: total_price, dtype: float64"
      ]
     },
     "execution_count": 91,
     "metadata": {},
     "output_type": "execute_result"
    }
   ],
   "source": [
    "# total_price --> total_revenue olarak değişebilir\n",
    "\n",
    "df.groupby(\"country\")['total_price'].sum().sort_values(ascending=False)"
   ]
  },
  {
   "cell_type": "markdown",
   "metadata": {
    "id": "qk64qtEliqa8"
   },
   "source": [
    "2. Visualize number of customer per country"
   ]
  },
  {
   "cell_type": "code",
   "execution_count": 92,
   "metadata": {
    "scrolled": true
   },
   "outputs": [
    {
     "data": {
      "text/plain": [
       "country\n",
       "United Kingdom          3920\n",
       "Germany                   94\n",
       "France                    87\n",
       "Spain                     30\n",
       "Belgium                   25\n",
       "Switzerland               21\n",
       "Portugal                  19\n",
       "Italy                     14\n",
       "Finland                   12\n",
       "Austria                   11\n",
       "Norway                    10\n",
       "Netherlands                9\n",
       "Australia                  9\n",
       "Denmark                    9\n",
       "Channel Islands            9\n",
       "Cyprus                     8\n",
       "Sweden                     8\n",
       "Japan                      8\n",
       "Poland                     6\n",
       "USA                        4\n",
       "Canada                     4\n",
       "Unspecified                4\n",
       "Greece                     4\n",
       "EIRE                       3\n",
       "Israel                     3\n",
       "Malta                      2\n",
       "United Arab Emirates       2\n",
       "Bahrain                    2\n",
       "Czech Republic             1\n",
       "Lithuania                  1\n",
       "Lebanon                    1\n",
       "RSA                        1\n",
       "Saudi Arabia               1\n",
       "Singapore                  1\n",
       "Iceland                    1\n",
       "Brazil                     1\n",
       "European Community         1\n",
       "Name: customerid, dtype: int64"
      ]
     },
     "execution_count": 92,
     "metadata": {},
     "output_type": "execute_result"
    }
   ],
   "source": [
    "df.groupby(\"country\")['customerid'].nunique().sort_values(ascending=False)"
   ]
  },
  {
   "cell_type": "code",
   "execution_count": 93,
   "metadata": {},
   "outputs": [
    {
     "data": {
      "text/plain": [
       "1    4330\n",
       "2       8\n",
       "Name: country, dtype: int64"
      ]
     },
     "execution_count": 93,
     "metadata": {},
     "output_type": "execute_result"
    }
   ],
   "source": [
    "df.groupby('customerid')['country'].nunique().value_counts()"
   ]
  },
  {
   "cell_type": "code",
   "execution_count": 94,
   "metadata": {},
   "outputs": [],
   "source": [
    "# unique rakamlar getirilecek\n",
    "\n",
    "# fig = px.histogram(df, x = 'country', y = 'customerid', title = 'Customer Counts Per Country')\n",
    "# fig.show()"
   ]
  },
  {
   "cell_type": "markdown",
   "metadata": {
    "id": "2TD66fT3iqa8"
   },
   "source": [
    "3. Visualize total cost per country"
   ]
  },
  {
   "cell_type": "code",
   "execution_count": 96,
   "metadata": {
    "scrolled": true
   },
   "outputs": [
    {
     "data": {
      "text/plain": [
       "country\n",
       "United Kingdom         7285024.644\n",
       "Netherlands             285446.340\n",
       "EIRE                    265262.460\n",
       "Germany                 228678.400\n",
       "France                  208934.310\n",
       "Australia               138453.810\n",
       "Spain                    61558.560\n",
       "Switzerland              56443.950\n",
       "Belgium                  41196.340\n",
       "Sweden                   38367.830\n",
       "Japan                    37416.370\n",
       "Norway                   36165.440\n",
       "Portugal                 33375.840\n",
       "Finland                  22546.080\n",
       "Singapore                21279.290\n",
       "Channel Islands          20440.540\n",
       "Denmark                  18955.340\n",
       "Italy                    17483.240\n",
       "Cyprus                   13502.850\n",
       "Austria                  10198.680\n",
       "Poland                    7334.650\n",
       "Israel                    7215.840\n",
       "Greece                    4760.520\n",
       "Iceland                   4310.000\n",
       "Canada                    3666.380\n",
       "USA                       3580.390\n",
       "Malta                     2725.590\n",
       "Unspecified               2660.770\n",
       "United Arab Emirates      1902.280\n",
       "Lebanon                   1693.880\n",
       "Lithuania                 1661.060\n",
       "European Community        1300.250\n",
       "Brazil                    1143.600\n",
       "RSA                       1002.310\n",
       "Czech Republic             826.740\n",
       "Bahrain                    548.400\n",
       "Saudi Arabia               145.920\n",
       "Name: total_price, dtype: float64"
      ]
     },
     "execution_count": 96,
     "metadata": {},
     "output_type": "execute_result"
    }
   ],
   "source": [
    "df.groupby('country')['total_price'].sum().sort_values(ascending=False)"
   ]
  },
  {
   "cell_type": "code",
   "execution_count": 97,
   "metadata": {
    "id": "5i0nVOggiqa8"
   },
   "outputs": [],
   "source": [
    "# fig = px.histogram(df, x = 'country', y = 'total_price', title = 'Total Cost Per Country')\n",
    "# fig.show()"
   ]
  },
  {
   "cell_type": "markdown",
   "metadata": {
    "id": "hwfJuBVCQGWR"
   },
   "source": [
    "#### The UK not only has the most sales revenue, but also the most customers. Since the majority of this data set contains orders from the UK, we can explore the UK market further by finding out what products the customers buy together and any other buying behaviors to improve our sales and targeting strategy."
   ]
  },
  {
   "cell_type": "code",
   "execution_count": 98,
   "metadata": {},
   "outputs": [
    {
     "data": {
      "text/html": [
       "<div>\n",
       "<style scoped>\n",
       "    .dataframe tbody tr th:only-of-type {\n",
       "        vertical-align: middle;\n",
       "    }\n",
       "\n",
       "    .dataframe tbody tr th {\n",
       "        vertical-align: top;\n",
       "    }\n",
       "\n",
       "    .dataframe thead th {\n",
       "        text-align: right;\n",
       "    }\n",
       "</style>\n",
       "<table border=\"1\" class=\"dataframe\">\n",
       "  <thead>\n",
       "    <tr style=\"text-align: right;\">\n",
       "      <th></th>\n",
       "      <th>invoiceno</th>\n",
       "      <th>stockcode</th>\n",
       "      <th>description</th>\n",
       "      <th>quantity</th>\n",
       "      <th>invoicedate</th>\n",
       "      <th>unitprice</th>\n",
       "      <th>customerid</th>\n",
       "      <th>country</th>\n",
       "      <th>total_price</th>\n",
       "    </tr>\n",
       "  </thead>\n",
       "  <tbody>\n",
       "    <tr>\n",
       "      <th>0</th>\n",
       "      <td>536365.0</td>\n",
       "      <td>85123A</td>\n",
       "      <td>WHITE HANGING HEART T-LIGHT HOLDER</td>\n",
       "      <td>6.000</td>\n",
       "      <td>2010-12-01 08:26:00</td>\n",
       "      <td>2.550</td>\n",
       "      <td>17850.000</td>\n",
       "      <td>United Kingdom</td>\n",
       "      <td>15.300</td>\n",
       "    </tr>\n",
       "  </tbody>\n",
       "</table>\n",
       "</div>"
      ],
      "text/plain": [
       "  invoiceno stockcode                         description  quantity  \\\n",
       "0  536365.0    85123A  WHITE HANGING HEART T-LIGHT HOLDER     6.000   \n",
       "\n",
       "          invoicedate  unitprice  customerid         country  total_price  \n",
       "0 2010-12-01 08:26:00      2.550   17850.000  United Kingdom       15.300  "
      ]
     },
     "execution_count": 98,
     "metadata": {},
     "output_type": "execute_result"
    }
   ],
   "source": [
    "df.head(1)"
   ]
  },
  {
   "cell_type": "code",
   "execution_count": 99,
   "metadata": {},
   "outputs": [],
   "source": [
    "country_text = df[\"country\"].str.split(\" \").str.join(\"_\")\n",
    "all_countries = \" \".join(country_text)"
   ]
  },
  {
   "cell_type": "code",
   "execution_count": 100,
   "metadata": {},
   "outputs": [
    {
     "data": {
      "image/png": "[encoded data removed]",
      "text/plain": [
       "<Figure size 936x936 with 1 Axes>"
      ]
     },
     "metadata": {
      "needs_background": "light"
     },
     "output_type": "display_data"
    }
   ],
   "source": [
    "from wordcloud import WordCloud\n",
    "\n",
    "wc = WordCloud(background_color=\"red\", \n",
    "               max_words=250, \n",
    "               max_font_size=256, \n",
    "               random_state=42,\n",
    "               width=800, height=400)\n",
    "wc.generate(all_countries)\n",
    "plt.figure(figsize = (13, 13))\n",
    "plt.imshow(wc)\n",
    "plt.axis('off')\n",
    "plt.show()"
   ]
  },
  {
   "cell_type": "markdown",
   "metadata": {
    "id": "7A25nnqIQGWR"
   },
   "source": [
    "### vii. Explore the UK Market\n"
   ]
  },
  {
   "cell_type": "markdown",
   "metadata": {
    "id": "wtWchB1Ziqa9"
   },
   "source": [
    "1. Create df_uk DataFrame"
   ]
  },
  {
   "cell_type": "code",
   "execution_count": 122,
   "metadata": {
    "id": "dsdH3cuZiqa9"
   },
   "outputs": [
    {
     "data": {
      "text/html": [
       "<div>\n",
       "<style scoped>\n",
       "    .dataframe tbody tr th:only-of-type {\n",
       "        vertical-align: middle;\n",
       "    }\n",
       "\n",
       "    .dataframe tbody tr th {\n",
       "        vertical-align: top;\n",
       "    }\n",
       "\n",
       "    .dataframe thead th {\n",
       "        text-align: right;\n",
       "    }\n",
       "</style>\n",
       "<table border=\"1\" class=\"dataframe\">\n",
       "  <thead>\n",
       "    <tr style=\"text-align: right;\">\n",
       "      <th></th>\n",
       "      <th>invoiceno</th>\n",
       "      <th>stockcode</th>\n",
       "      <th>description</th>\n",
       "      <th>quantity</th>\n",
       "      <th>invoicedate</th>\n",
       "      <th>unitprice</th>\n",
       "      <th>customerid</th>\n",
       "      <th>country</th>\n",
       "      <th>total_price</th>\n",
       "    </tr>\n",
       "  </thead>\n",
       "  <tbody>\n",
       "    <tr>\n",
       "      <th>0</th>\n",
       "      <td>536365.0</td>\n",
       "      <td>85123A</td>\n",
       "      <td>WHITE HANGING HEART T-LIGHT HOLDER</td>\n",
       "      <td>6.000</td>\n",
       "      <td>2010-12-01 08:26:00</td>\n",
       "      <td>2.550</td>\n",
       "      <td>17850.000</td>\n",
       "      <td>United Kingdom</td>\n",
       "      <td>15.300</td>\n",
       "    </tr>\n",
       "  </tbody>\n",
       "</table>\n",
       "</div>"
      ],
      "text/plain": [
       "  invoiceno stockcode                         description  quantity  \\\n",
       "0  536365.0    85123A  WHITE HANGING HEART T-LIGHT HOLDER     6.000   \n",
       "\n",
       "          invoicedate  unitprice  customerid         country  total_price  \n",
       "0 2010-12-01 08:26:00      2.550   17850.000  United Kingdom       15.300  "
      ]
     },
     "execution_count": 122,
     "metadata": {},
     "output_type": "execute_result"
    }
   ],
   "source": [
    "df_uk = df[df[\"country\"]==\"United Kingdom\"]\n",
    "df_uk.head(1)"
   ]
  },
  {
   "cell_type": "code",
   "execution_count": 123,
   "metadata": {},
   "outputs": [
    {
     "data": {
      "text/plain": [
       "(349203, 9)"
      ]
     },
     "execution_count": 123,
     "metadata": {},
     "output_type": "execute_result"
    }
   ],
   "source": [
    "df_uk.shape"
   ]
  },
  {
   "cell_type": "markdown",
   "metadata": {
    "id": "is5kus2bQGWT"
   },
   "source": [
    "2. What are the most popular products that are bought in the UK?"
   ]
  },
  {
   "cell_type": "code",
   "execution_count": 124,
   "metadata": {
    "id": "sCN56amLiqa9"
   },
   "outputs": [
    {
     "data": {
      "text/plain": [
       "stockcode\n",
       "23843.0   80995.000\n",
       "23166.0   76919.000\n",
       "84077.0   49086.000\n",
       "22197.0   45609.000\n",
       "85099B    41878.000\n",
       "Name: quantity, dtype: float64"
      ]
     },
     "execution_count": 124,
     "metadata": {},
     "output_type": "execute_result"
    }
   ],
   "source": [
    "df_uk.groupby([\"stockcode\"])[\"quantity\"].sum().sort_values(ascending=False).head(5)"
   ]
  },
  {
   "cell_type": "markdown",
   "metadata": {
    "id": "LHbqJD7bQGWU"
   },
   "source": [
    "### We will continue analyzing the UK transactions with customer segmentation."
   ]
  },
  {
   "cell_type": "markdown",
   "metadata": {
    "id": "MAtzWvugQGWV"
   },
   "source": [
    "# 2. RFM Analysis"
   ]
  },
  {
   "cell_type": "markdown",
   "metadata": {
    "id": "v5uUAUQpQGWV"
   },
   "source": [
    "In the age of the internet and e-commerce, companies that do not expand their businesses online or utilize digital tools to reach their customers will run into issues like scalability and a lack of digital precsence. An important marketing strategy e-commerce businesses use for analyzing and predicting customer value is customer segmentation. Customer data is used to sort customers into group based on their behaviors and preferences.\n",
    "\n",
    "**[RFM](https://www.putler.com/rfm-analysis/) (Recency, Frequency, Monetary) Analysis** is a customer segmentation technique for analyzing customer value based on past buying behavior. RFM analysis was first used by the direct mail industry more than four decades ago, yet it is still an effective way to optimize your marketing.\n",
    "<br>\n",
    "<br>\n",
    "Our goal in this Notebook is to cluster the customers in our data set to:\n",
    " - Recognize who are our most valuable customers\n",
    " - Increase revenue\n",
    " - Increase customer retention\n",
    " - Learn more about the trends and behaviors of our customers\n",
    " - Define customers that are at risk\n",
    "\n",
    "We will start with **RFM Analysis** and then compliment our findings with predictive analysis using **K-Means Clustering Algorithms.**\n",
    "\n",
    "- RECENCY (R): Time since last purchase\n",
    "- FREQUENCY (F): Total number of purchases\n",
    "- MONETARY VALUE (M): Total monetary value\n",
    "\n",
    "\n",
    "\n",
    "\n",
    "Benefits of RFM Analysis\n",
    "\n",
    "- Increased customer retention\n",
    "- Increased response rate\n",
    "- Increased conversion rate\n",
    "- Increased revenue\n",
    "\n",
    "RFM Analysis answers the following questions:\n",
    " - Who are our best customers?\n",
    " - Who has the potential to be converted into more profitable customers?\n",
    " - Which customers do we need to retain?\n",
    " - Which group of customers is most likely to respond to our marketing campaign?\n",
    " "
   ]
  },
  {
   "cell_type": "markdown",
   "metadata": {
    "id": "zX47_J8OQGWV"
   },
   "source": [
    "### i. Import Libraries"
   ]
  },
  {
   "cell_type": "code",
   "execution_count": 125,
   "metadata": {
    "id": "MOD15BxHiqa-"
   },
   "outputs": [],
   "source": [
    "import datetime as dt\n",
    "from datetime import datetime\n",
    "import datetime as dt"
   ]
  },
  {
   "cell_type": "markdown",
   "metadata": {
    "id": "9rYM4MJsQGWW"
   },
   "source": [
    "### ii. Review df_uk DataFrame"
   ]
  },
  {
   "cell_type": "code",
   "execution_count": 126,
   "metadata": {
    "id": "oQHyAJNeiqa-"
   },
   "outputs": [
    {
     "data": {
      "text/html": [
       "<div>\n",
       "<style scoped>\n",
       "    .dataframe tbody tr th:only-of-type {\n",
       "        vertical-align: middle;\n",
       "    }\n",
       "\n",
       "    .dataframe tbody tr th {\n",
       "        vertical-align: top;\n",
       "    }\n",
       "\n",
       "    .dataframe thead th {\n",
       "        text-align: right;\n",
       "    }\n",
       "</style>\n",
       "<table border=\"1\" class=\"dataframe\">\n",
       "  <thead>\n",
       "    <tr style=\"text-align: right;\">\n",
       "      <th></th>\n",
       "      <th>invoiceno</th>\n",
       "      <th>stockcode</th>\n",
       "      <th>description</th>\n",
       "      <th>quantity</th>\n",
       "      <th>invoicedate</th>\n",
       "      <th>unitprice</th>\n",
       "      <th>customerid</th>\n",
       "      <th>country</th>\n",
       "      <th>total_price</th>\n",
       "    </tr>\n",
       "  </thead>\n",
       "  <tbody>\n",
       "    <tr>\n",
       "      <th>0</th>\n",
       "      <td>536365.0</td>\n",
       "      <td>85123A</td>\n",
       "      <td>WHITE HANGING HEART T-LIGHT HOLDER</td>\n",
       "      <td>6.000</td>\n",
       "      <td>2010-12-01 08:26:00</td>\n",
       "      <td>2.550</td>\n",
       "      <td>17850.000</td>\n",
       "      <td>United Kingdom</td>\n",
       "      <td>15.300</td>\n",
       "    </tr>\n",
       "    <tr>\n",
       "      <th>1</th>\n",
       "      <td>536365.0</td>\n",
       "      <td>71053.0</td>\n",
       "      <td>WHITE METAL LANTERN</td>\n",
       "      <td>6.000</td>\n",
       "      <td>2010-12-01 08:26:00</td>\n",
       "      <td>3.390</td>\n",
       "      <td>17850.000</td>\n",
       "      <td>United Kingdom</td>\n",
       "      <td>20.340</td>\n",
       "    </tr>\n",
       "    <tr>\n",
       "      <th>2</th>\n",
       "      <td>536365.0</td>\n",
       "      <td>84406B</td>\n",
       "      <td>CREAM CUPID HEARTS COAT HANGER</td>\n",
       "      <td>8.000</td>\n",
       "      <td>2010-12-01 08:26:00</td>\n",
       "      <td>2.750</td>\n",
       "      <td>17850.000</td>\n",
       "      <td>United Kingdom</td>\n",
       "      <td>22.000</td>\n",
       "    </tr>\n",
       "    <tr>\n",
       "      <th>3</th>\n",
       "      <td>536365.0</td>\n",
       "      <td>84029G</td>\n",
       "      <td>KNITTED UNION FLAG HOT WATER BOTTLE</td>\n",
       "      <td>6.000</td>\n",
       "      <td>2010-12-01 08:26:00</td>\n",
       "      <td>3.390</td>\n",
       "      <td>17850.000</td>\n",
       "      <td>United Kingdom</td>\n",
       "      <td>20.340</td>\n",
       "    </tr>\n",
       "    <tr>\n",
       "      <th>4</th>\n",
       "      <td>536365.0</td>\n",
       "      <td>84029E</td>\n",
       "      <td>RED WOOLLY HOTTIE WHITE HEART.</td>\n",
       "      <td>6.000</td>\n",
       "      <td>2010-12-01 08:26:00</td>\n",
       "      <td>3.390</td>\n",
       "      <td>17850.000</td>\n",
       "      <td>United Kingdom</td>\n",
       "      <td>20.340</td>\n",
       "    </tr>\n",
       "  </tbody>\n",
       "</table>\n",
       "</div>"
      ],
      "text/plain": [
       "  invoiceno stockcode                          description  quantity  \\\n",
       "0  536365.0    85123A   WHITE HANGING HEART T-LIGHT HOLDER     6.000   \n",
       "1  536365.0   71053.0                  WHITE METAL LANTERN     6.000   \n",
       "2  536365.0    84406B       CREAM CUPID HEARTS COAT HANGER     8.000   \n",
       "3  536365.0    84029G  KNITTED UNION FLAG HOT WATER BOTTLE     6.000   \n",
       "4  536365.0    84029E       RED WOOLLY HOTTIE WHITE HEART.     6.000   \n",
       "\n",
       "          invoicedate  unitprice  customerid         country  total_price  \n",
       "0 2010-12-01 08:26:00      2.550   17850.000  United Kingdom       15.300  \n",
       "1 2010-12-01 08:26:00      3.390   17850.000  United Kingdom       20.340  \n",
       "2 2010-12-01 08:26:00      2.750   17850.000  United Kingdom       22.000  \n",
       "3 2010-12-01 08:26:00      3.390   17850.000  United Kingdom       20.340  \n",
       "4 2010-12-01 08:26:00      3.390   17850.000  United Kingdom       20.340  "
      ]
     },
     "execution_count": 126,
     "metadata": {},
     "output_type": "execute_result"
    }
   ],
   "source": [
    "df_uk.head()"
   ]
  },
  {
   "cell_type": "code",
   "execution_count": 127,
   "metadata": {},
   "outputs": [
    {
     "name": "stdout",
     "output_type": "stream",
     "text": [
      "\u001b[1mShape:\u001b[0m(349203, 9)\n",
      "\u001b[1m\u001b[31m****************************************************************************************************\u001b[0m\u001b[1m\n",
      "Info:\n",
      "\u001b[0m\n",
      "<class 'pandas.core.frame.DataFrame'>\n",
      "Int64Index: 349203 entries, 0 to 541893\n",
      "Data columns (total 9 columns):\n",
      " #   Column       Non-Null Count   Dtype         \n",
      "---  ------       --------------   -----         \n",
      " 0   invoiceno    349203 non-null  object        \n",
      " 1   stockcode    349203 non-null  object        \n",
      " 2   description  349203 non-null  object        \n",
      " 3   quantity     349203 non-null  float64       \n",
      " 4   invoicedate  349203 non-null  datetime64[ns]\n",
      " 5   unitprice    349203 non-null  float64       \n",
      " 6   customerid   349203 non-null  float64       \n",
      " 7   country      349203 non-null  object        \n",
      " 8   total_price  349203 non-null  float64       \n",
      "dtypes: datetime64[ns](1), float64(4), object(4)\n",
      "memory usage: 26.6+ MB\n",
      "None\n",
      "\u001b[1m\u001b[31m****************************************************************************************************\u001b[0m\n",
      "\u001b[1mNumber of Uniques:\n",
      "\u001b[0minvoiceno      16646\n",
      "stockcode       3645\n",
      "description     3844\n",
      "quantity         293\n",
      "invoicedate    15612\n",
      "unitprice        402\n",
      "customerid      3920\n",
      "country            1\n",
      "total_price     2792\n",
      "dtype: int64\n",
      "\u001b[1m\u001b[31m****************************************************************************************************\u001b[0m\n",
      "\u001b[1mMissing Values:\n",
      "\u001b[0mEmpty DataFrame\n",
      "Columns: [Missing_Number, Missing_Percent]\n",
      "Index: []\n",
      "\u001b[1m\u001b[31m****************************************************************************************************\u001b[0m\n",
      "\u001b[1mAll Columns:\u001b[0m['invoiceno', 'stockcode', 'description', 'quantity', 'invoicedate', 'unitprice', 'customerid', 'country', 'total_price']\n",
      "\u001b[1m\u001b[31m****************************************************************************************************\u001b[0m\n",
      "\u001b[1mColumns after rename:\u001b[0m['invoiceno', 'stockcode', 'description', 'quantity', 'invoicedate', 'unitprice', 'customerid', 'country', 'total_price']\n",
      "\u001b[1m\u001b[31m****************************************************************************************************\u001b[0m\n",
      "\u001b[1mColumns after rename:\u001b[0m['invoiceno', 'stockcode', 'description', 'quantity', 'invoicedate', 'unitprice', 'customerid', 'country', 'total_price']\n",
      "\u001b[1m\u001b[31m****************************************************************************************************\u001b[0m\n",
      "\u001b[1mDescriptive Statistics \n",
      "\u001b[0m        quantity  unitprice  customerid  total_price\n",
      "count 349203.000 349203.000  349203.000   349203.000\n",
      "mean      12.150      2.970   15548.380       20.860\n",
      "std      190.630     17.990    1594.380      328.420\n",
      "min        1.000      0.000   12346.000        0.000\n",
      "25%        2.000      1.250   14191.000        4.200\n",
      "50%        4.000      1.950   15518.000       10.200\n",
      "75%       12.000      3.750   16931.000       17.850\n",
      "max    80995.000   8142.750   18287.000   168469.600\n",
      "\u001b[1m\u001b[31m****************************************************************************************************\u001b[0m\n",
      "\u001b[1mDescriptive Statistics (Categorical Columns) \n",
      "\u001b[0m              count unique                                 top    freq\n",
      "invoiceno    349203  16646                            576339.0     542\n",
      "stockcode    349203   3645                              85123A    1936\n",
      "description  349203   3844  WHITE HANGING HEART T-LIGHT HOLDER    1929\n",
      "country      349203      1                      United Kingdom  349203\n",
      "\u001b[1m\u001b[31m****************************************************************************************************\u001b[0m\n",
      "\u001b[1mDuplicate check...\u001b[0m\n",
      "There are 0 duplicated observations in the dataset.\n"
     ]
    }
   ],
   "source": [
    "first_looking(df_uk)\n",
    "duplicate_values(df_uk)"
   ]
  },
  {
   "cell_type": "code",
   "execution_count": 128,
   "metadata": {},
   "outputs": [
    {
     "data": {
      "image/png": "[encoded data removed]",
      "text/plain": [
       "<Figure size 1152x648 with 1 Axes>"
      ]
     },
     "metadata": {
      "needs_background": "light"
     },
     "output_type": "display_data"
    }
   ],
   "source": [
    "# Top 15 most owned products.\n",
    "df_uk[\"stockcode\"].value_counts().head(15).plot(kind=\"bar\", width=0.5, color='pink', edgecolor='purple', figsize=(16,9));"
   ]
  },
  {
   "cell_type": "code",
   "execution_count": 129,
   "metadata": {},
   "outputs": [
    {
     "data": {
      "text/plain": [
       "stockcode\n",
       "23843.0   168469.600\n",
       "22423.0   110713.000\n",
       "85123A     94960.850\n",
       "23166.0    80291.440\n",
       "85099B     77191.330\n",
       "47566.0    63050.280\n",
       "84879.0    52228.680\n",
       "22502.0    46520.450\n",
       "79321.0    45483.910\n",
       "22086.0    40392.080\n",
       "21137.0    37835.840\n",
       "23284.0    34852.300\n",
       "22197.0    34409.530\n",
       "82484.0    33508.460\n",
       "22386.0    33389.520\n",
       "Name: total_price, dtype: float64"
      ]
     },
     "execution_count": 129,
     "metadata": {},
     "output_type": "execute_result"
    }
   ],
   "source": [
    "df_uk.groupby(\"stockcode\")['total_price'].sum().sort_values(ascending=False)[:15]"
   ]
  },
  {
   "cell_type": "code",
   "execution_count": 130,
   "metadata": {},
   "outputs": [],
   "source": [
    "# fig = px.histogram(df_uk, x = df_uk.groupby(\"stockcode\")['total_price'].sum().sort_values(ascending=False)[:15].index,\n",
    "#                    y = df_uk.groupby(\"stockcode\")['total_price'].sum().sort_values(ascending=False)[:15].values, \n",
    "#                    title = 'Customer Counts by Country')\n",
    "# fig.show()"
   ]
  },
  {
   "cell_type": "markdown",
   "metadata": {
    "id": "MvfCcPLgQGWa"
   },
   "source": [
    "### iii. Recency: Days since last purchase\n",
    "To calculate the recency values, follow these steps in order:\n",
    "\n",
    "1. To calculate recency, we need to choose a date as a point of reference to evaluate how many days ago was the customer's last purchase.\n",
    "2. Create a new column called Date which contains the invoice date without the timestamp\n",
    "3. Group by CustomerID and check the last date of purchase\n",
    "4. Calculate the days since last purchase\n",
    "5. Drop Last_Purchase_Date since we don't need it anymore\n",
    "6. Plot RFM distributions"
   ]
  },
  {
   "cell_type": "markdown",
   "metadata": {
    "id": "b7Gzn6r6QGWb"
   },
   "source": [
    "1. Choose a date as a point of reference to evaluate how many days ago was the customer's last purchase."
   ]
  },
  {
   "cell_type": "code",
   "execution_count": 135,
   "metadata": {},
   "outputs": [
    {
     "data": {
      "text/html": [
       "<div>\n",
       "<style scoped>\n",
       "    .dataframe tbody tr th:only-of-type {\n",
       "        vertical-align: middle;\n",
       "    }\n",
       "\n",
       "    .dataframe tbody tr th {\n",
       "        vertical-align: top;\n",
       "    }\n",
       "\n",
       "    .dataframe thead th {\n",
       "        text-align: right;\n",
       "    }\n",
       "</style>\n",
       "<table border=\"1\" class=\"dataframe\">\n",
       "  <thead>\n",
       "    <tr style=\"text-align: right;\">\n",
       "      <th></th>\n",
       "      <th>invoiceno</th>\n",
       "      <th>stockcode</th>\n",
       "      <th>description</th>\n",
       "      <th>quantity</th>\n",
       "      <th>invoicedate</th>\n",
       "      <th>unitprice</th>\n",
       "      <th>customerid</th>\n",
       "      <th>country</th>\n",
       "      <th>total_price</th>\n",
       "      <th>ref_date</th>\n",
       "    </tr>\n",
       "  </thead>\n",
       "  <tbody>\n",
       "    <tr>\n",
       "      <th>0</th>\n",
       "      <td>536365.0</td>\n",
       "      <td>85123A</td>\n",
       "      <td>WHITE HANGING HEART T-LIGHT HOLDER</td>\n",
       "      <td>6.000</td>\n",
       "      <td>2010-12-01 08:26:00</td>\n",
       "      <td>2.550</td>\n",
       "      <td>17850.000</td>\n",
       "      <td>United Kingdom</td>\n",
       "      <td>15.300</td>\n",
       "      <td>2011-12-09</td>\n",
       "    </tr>\n",
       "  </tbody>\n",
       "</table>\n",
       "</div>"
      ],
      "text/plain": [
       "  invoiceno stockcode                         description  quantity  \\\n",
       "0  536365.0    85123A  WHITE HANGING HEART T-LIGHT HOLDER     6.000   \n",
       "\n",
       "          invoicedate  unitprice  customerid         country  total_price  \\\n",
       "0 2010-12-01 08:26:00      2.550   17850.000  United Kingdom       15.300   \n",
       "\n",
       "     ref_date  \n",
       "0  2011-12-09  "
      ]
     },
     "execution_count": 135,
     "metadata": {},
     "output_type": "execute_result"
    }
   ],
   "source": [
    "df_uk[\"ref_date\"] = pd.to_datetime(df_uk['invoicedate']).dt.date.max()\n",
    "df_uk.head(1)"
   ]
  },
  {
   "cell_type": "code",
   "execution_count": 137,
   "metadata": {},
   "outputs": [],
   "source": [
    "df_uk['ref_date'] = pd.to_datetime(df_uk['ref_date'])"
   ]
  },
  {
   "cell_type": "markdown",
   "metadata": {
    "id": "Ge34PCT0iqa-"
   },
   "source": [
    "2. Create a new column called Date which contains the invoice date without the timestamp"
   ]
  },
  {
   "cell_type": "code",
   "execution_count": 139,
   "metadata": {
    "scrolled": false
   },
   "outputs": [
    {
     "data": {
      "text/html": [
       "<div>\n",
       "<style scoped>\n",
       "    .dataframe tbody tr th:only-of-type {\n",
       "        vertical-align: middle;\n",
       "    }\n",
       "\n",
       "    .dataframe tbody tr th {\n",
       "        vertical-align: top;\n",
       "    }\n",
       "\n",
       "    .dataframe thead th {\n",
       "        text-align: right;\n",
       "    }\n",
       "</style>\n",
       "<table border=\"1\" class=\"dataframe\">\n",
       "  <thead>\n",
       "    <tr style=\"text-align: right;\">\n",
       "      <th></th>\n",
       "      <th>invoiceno</th>\n",
       "      <th>stockcode</th>\n",
       "      <th>description</th>\n",
       "      <th>quantity</th>\n",
       "      <th>invoicedate</th>\n",
       "      <th>unitprice</th>\n",
       "      <th>customerid</th>\n",
       "      <th>country</th>\n",
       "      <th>total_price</th>\n",
       "      <th>ref_date</th>\n",
       "      <th>date</th>\n",
       "    </tr>\n",
       "  </thead>\n",
       "  <tbody>\n",
       "    <tr>\n",
       "      <th>0</th>\n",
       "      <td>536365.0</td>\n",
       "      <td>85123A</td>\n",
       "      <td>WHITE HANGING HEART T-LIGHT HOLDER</td>\n",
       "      <td>6.000</td>\n",
       "      <td>2010-12-01 08:26:00</td>\n",
       "      <td>2.550</td>\n",
       "      <td>17850.000</td>\n",
       "      <td>United Kingdom</td>\n",
       "      <td>15.300</td>\n",
       "      <td>2011-12-09</td>\n",
       "      <td>2010-12-01</td>\n",
       "    </tr>\n",
       "  </tbody>\n",
       "</table>\n",
       "</div>"
      ],
      "text/plain": [
       "  invoiceno stockcode                         description  quantity  \\\n",
       "0  536365.0    85123A  WHITE HANGING HEART T-LIGHT HOLDER     6.000   \n",
       "\n",
       "          invoicedate  unitprice  customerid         country  total_price  \\\n",
       "0 2010-12-01 08:26:00      2.550   17850.000  United Kingdom       15.300   \n",
       "\n",
       "    ref_date        date  \n",
       "0 2011-12-09  2010-12-01  "
      ]
     },
     "execution_count": 139,
     "metadata": {},
     "output_type": "execute_result"
    }
   ],
   "source": [
    "df_uk[\"date\"] = pd.to_datetime(df_uk[\"invoicedate\"]).dt.date\n",
    "df_uk.head(1)"
   ]
  },
  {
   "cell_type": "code",
   "execution_count": 140,
   "metadata": {},
   "outputs": [],
   "source": [
    "df_uk['date'] = pd.to_datetime(df_uk['date'])"
   ]
  },
  {
   "cell_type": "markdown",
   "metadata": {
    "id": "1KJzP5Ldiqa_"
   },
   "source": [
    "3. Group by CustomerID and check the last date of purchase"
   ]
  },
  {
   "cell_type": "code",
   "execution_count": 141,
   "metadata": {
    "id": "x8kMt-Uyiqa_",
    "scrolled": true
   },
   "outputs": [
    {
     "data": {
      "text/html": [
       "<div>\n",
       "<style scoped>\n",
       "    .dataframe tbody tr th:only-of-type {\n",
       "        vertical-align: middle;\n",
       "    }\n",
       "\n",
       "    .dataframe tbody tr th {\n",
       "        vertical-align: top;\n",
       "    }\n",
       "\n",
       "    .dataframe thead th {\n",
       "        text-align: right;\n",
       "    }\n",
       "</style>\n",
       "<table border=\"1\" class=\"dataframe\">\n",
       "  <thead>\n",
       "    <tr style=\"text-align: right;\">\n",
       "      <th></th>\n",
       "      <th>date</th>\n",
       "    </tr>\n",
       "    <tr>\n",
       "      <th>customerid</th>\n",
       "      <th></th>\n",
       "    </tr>\n",
       "  </thead>\n",
       "  <tbody>\n",
       "    <tr>\n",
       "      <th>12346.000</th>\n",
       "      <td>2011-01-18</td>\n",
       "    </tr>\n",
       "    <tr>\n",
       "      <th>12747.000</th>\n",
       "      <td>2011-12-07</td>\n",
       "    </tr>\n",
       "    <tr>\n",
       "      <th>12748.000</th>\n",
       "      <td>2011-12-09</td>\n",
       "    </tr>\n",
       "    <tr>\n",
       "      <th>12749.000</th>\n",
       "      <td>2011-12-06</td>\n",
       "    </tr>\n",
       "    <tr>\n",
       "      <th>12820.000</th>\n",
       "      <td>2011-12-06</td>\n",
       "    </tr>\n",
       "    <tr>\n",
       "      <th>...</th>\n",
       "      <td>...</td>\n",
       "    </tr>\n",
       "    <tr>\n",
       "      <th>18280.000</th>\n",
       "      <td>2011-03-07</td>\n",
       "    </tr>\n",
       "    <tr>\n",
       "      <th>18281.000</th>\n",
       "      <td>2011-06-12</td>\n",
       "    </tr>\n",
       "    <tr>\n",
       "      <th>18282.000</th>\n",
       "      <td>2011-12-02</td>\n",
       "    </tr>\n",
       "    <tr>\n",
       "      <th>18283.000</th>\n",
       "      <td>2011-12-06</td>\n",
       "    </tr>\n",
       "    <tr>\n",
       "      <th>18287.000</th>\n",
       "      <td>2011-10-28</td>\n",
       "    </tr>\n",
       "  </tbody>\n",
       "</table>\n",
       "<p>3920 rows × 1 columns</p>\n",
       "</div>"
      ],
      "text/plain": [
       "                 date\n",
       "customerid           \n",
       "12346.000  2011-01-18\n",
       "12747.000  2011-12-07\n",
       "12748.000  2011-12-09\n",
       "12749.000  2011-12-06\n",
       "12820.000  2011-12-06\n",
       "...               ...\n",
       "18280.000  2011-03-07\n",
       "18281.000  2011-06-12\n",
       "18282.000  2011-12-02\n",
       "18283.000  2011-12-06\n",
       "18287.000  2011-10-28\n",
       "\n",
       "[3920 rows x 1 columns]"
      ]
     },
     "execution_count": 141,
     "metadata": {},
     "output_type": "execute_result"
    }
   ],
   "source": [
    "df_uk.groupby('customerid')[['date']].max()"
   ]
  },
  {
   "cell_type": "code",
   "execution_count": 142,
   "metadata": {
    "id": "iTeKws6giqa_"
   },
   "outputs": [
    {
     "data": {
      "text/html": [
       "<div>\n",
       "<style scoped>\n",
       "    .dataframe tbody tr th:only-of-type {\n",
       "        vertical-align: middle;\n",
       "    }\n",
       "\n",
       "    .dataframe tbody tr th {\n",
       "        vertical-align: top;\n",
       "    }\n",
       "\n",
       "    .dataframe thead th {\n",
       "        text-align: right;\n",
       "    }\n",
       "</style>\n",
       "<table border=\"1\" class=\"dataframe\">\n",
       "  <thead>\n",
       "    <tr style=\"text-align: right;\">\n",
       "      <th></th>\n",
       "      <th>invoiceno</th>\n",
       "      <th>stockcode</th>\n",
       "      <th>description</th>\n",
       "      <th>quantity</th>\n",
       "      <th>invoicedate</th>\n",
       "      <th>unitprice</th>\n",
       "      <th>customerid</th>\n",
       "      <th>country</th>\n",
       "      <th>total_price</th>\n",
       "      <th>ref_date</th>\n",
       "      <th>date</th>\n",
       "      <th>last_purchase_date</th>\n",
       "    </tr>\n",
       "  </thead>\n",
       "  <tbody>\n",
       "    <tr>\n",
       "      <th>0</th>\n",
       "      <td>536365.0</td>\n",
       "      <td>85123A</td>\n",
       "      <td>WHITE HANGING HEART T-LIGHT HOLDER</td>\n",
       "      <td>6.000</td>\n",
       "      <td>2010-12-01 08:26:00</td>\n",
       "      <td>2.550</td>\n",
       "      <td>17850.000</td>\n",
       "      <td>United Kingdom</td>\n",
       "      <td>15.300</td>\n",
       "      <td>2011-12-09</td>\n",
       "      <td>2010-12-01</td>\n",
       "      <td>2010-12-02 15:27:00</td>\n",
       "    </tr>\n",
       "  </tbody>\n",
       "</table>\n",
       "</div>"
      ],
      "text/plain": [
       "  invoiceno stockcode                         description  quantity  \\\n",
       "0  536365.0    85123A  WHITE HANGING HEART T-LIGHT HOLDER     6.000   \n",
       "\n",
       "          invoicedate  unitprice  customerid         country  total_price  \\\n",
       "0 2010-12-01 08:26:00      2.550   17850.000  United Kingdom       15.300   \n",
       "\n",
       "    ref_date       date  last_purchase_date  \n",
       "0 2011-12-09 2010-12-01 2010-12-02 15:27:00  "
      ]
     },
     "execution_count": 142,
     "metadata": {},
     "output_type": "execute_result"
    }
   ],
   "source": [
    "df_uk['last_purchase_date'] = df_uk.groupby('customerid')['invoicedate'].transform(max)\n",
    "df_uk.head(1)"
   ]
  },
  {
   "cell_type": "code",
   "execution_count": 143,
   "metadata": {},
   "outputs": [
    {
     "data": {
      "text/html": [
       "<div>\n",
       "<style scoped>\n",
       "    .dataframe tbody tr th:only-of-type {\n",
       "        vertical-align: middle;\n",
       "    }\n",
       "\n",
       "    .dataframe tbody tr th {\n",
       "        vertical-align: top;\n",
       "    }\n",
       "\n",
       "    .dataframe thead th {\n",
       "        text-align: right;\n",
       "    }\n",
       "</style>\n",
       "<table border=\"1\" class=\"dataframe\">\n",
       "  <thead>\n",
       "    <tr style=\"text-align: right;\">\n",
       "      <th></th>\n",
       "      <th>invoiceno</th>\n",
       "      <th>stockcode</th>\n",
       "      <th>description</th>\n",
       "      <th>quantity</th>\n",
       "      <th>invoicedate</th>\n",
       "      <th>unitprice</th>\n",
       "      <th>customerid</th>\n",
       "      <th>country</th>\n",
       "      <th>total_price</th>\n",
       "      <th>ref_date</th>\n",
       "      <th>date</th>\n",
       "      <th>last_purchase_date</th>\n",
       "    </tr>\n",
       "  </thead>\n",
       "  <tbody>\n",
       "    <tr>\n",
       "      <th>0</th>\n",
       "      <td>536365.0</td>\n",
       "      <td>85123A</td>\n",
       "      <td>WHITE HANGING HEART T-LIGHT HOLDER</td>\n",
       "      <td>6.000</td>\n",
       "      <td>2010-12-01 08:26:00</td>\n",
       "      <td>2.550</td>\n",
       "      <td>17850.000</td>\n",
       "      <td>United Kingdom</td>\n",
       "      <td>15.300</td>\n",
       "      <td>2011-12-09</td>\n",
       "      <td>2010-12-01</td>\n",
       "      <td>2010-12-02</td>\n",
       "    </tr>\n",
       "  </tbody>\n",
       "</table>\n",
       "</div>"
      ],
      "text/plain": [
       "  invoiceno stockcode                         description  quantity  \\\n",
       "0  536365.0    85123A  WHITE HANGING HEART T-LIGHT HOLDER     6.000   \n",
       "\n",
       "          invoicedate  unitprice  customerid         country  total_price  \\\n",
       "0 2010-12-01 08:26:00      2.550   17850.000  United Kingdom       15.300   \n",
       "\n",
       "    ref_date       date last_purchase_date  \n",
       "0 2011-12-09 2010-12-01         2010-12-02  "
      ]
     },
     "execution_count": 143,
     "metadata": {},
     "output_type": "execute_result"
    }
   ],
   "source": [
    "df_uk['last_purchase_date'] = pd.to_datetime(df_uk['last_purchase_date']).dt.date\n",
    "df_uk.head(1)"
   ]
  },
  {
   "cell_type": "code",
   "execution_count": 145,
   "metadata": {},
   "outputs": [],
   "source": [
    "df_uk['last_purchase_date'] = pd.to_datetime(df_uk['last_purchase_date'])"
   ]
  },
  {
   "cell_type": "code",
   "execution_count": 146,
   "metadata": {},
   "outputs": [
    {
     "name": "stdout",
     "output_type": "stream",
     "text": [
      "<class 'pandas.core.frame.DataFrame'>\n",
      "Int64Index: 349203 entries, 0 to 541893\n",
      "Data columns (total 12 columns):\n",
      " #   Column              Non-Null Count   Dtype         \n",
      "---  ------              --------------   -----         \n",
      " 0   invoiceno           349203 non-null  object        \n",
      " 1   stockcode           349203 non-null  object        \n",
      " 2   description         349203 non-null  object        \n",
      " 3   quantity            349203 non-null  float64       \n",
      " 4   invoicedate         349203 non-null  datetime64[ns]\n",
      " 5   unitprice           349203 non-null  float64       \n",
      " 6   customerid          349203 non-null  float64       \n",
      " 7   country             349203 non-null  object        \n",
      " 8   total_price         349203 non-null  float64       \n",
      " 9   ref_date            349203 non-null  datetime64[ns]\n",
      " 10  date                349203 non-null  datetime64[ns]\n",
      " 11  last_purchase_date  349203 non-null  datetime64[ns]\n",
      "dtypes: datetime64[ns](4), float64(4), object(4)\n",
      "memory usage: 34.6+ MB\n"
     ]
    }
   ],
   "source": [
    "df_uk.info()"
   ]
  },
  {
   "cell_type": "code",
   "execution_count": 147,
   "metadata": {},
   "outputs": [
    {
     "data": {
      "text/html": [
       "<div>\n",
       "<style scoped>\n",
       "    .dataframe tbody tr th:only-of-type {\n",
       "        vertical-align: middle;\n",
       "    }\n",
       "\n",
       "    .dataframe tbody tr th {\n",
       "        vertical-align: top;\n",
       "    }\n",
       "\n",
       "    .dataframe thead th {\n",
       "        text-align: right;\n",
       "    }\n",
       "</style>\n",
       "<table border=\"1\" class=\"dataframe\">\n",
       "  <thead>\n",
       "    <tr style=\"text-align: right;\">\n",
       "      <th></th>\n",
       "      <th>last_purchase_date</th>\n",
       "    </tr>\n",
       "    <tr>\n",
       "      <th>customerid</th>\n",
       "      <th></th>\n",
       "    </tr>\n",
       "  </thead>\n",
       "  <tbody>\n",
       "    <tr>\n",
       "      <th>12346.000</th>\n",
       "      <td>2011-01-18</td>\n",
       "    </tr>\n",
       "    <tr>\n",
       "      <th>12747.000</th>\n",
       "      <td>2011-12-07</td>\n",
       "    </tr>\n",
       "    <tr>\n",
       "      <th>12748.000</th>\n",
       "      <td>2011-12-09</td>\n",
       "    </tr>\n",
       "    <tr>\n",
       "      <th>12749.000</th>\n",
       "      <td>2011-12-06</td>\n",
       "    </tr>\n",
       "    <tr>\n",
       "      <th>12820.000</th>\n",
       "      <td>2011-12-06</td>\n",
       "    </tr>\n",
       "    <tr>\n",
       "      <th>...</th>\n",
       "      <td>...</td>\n",
       "    </tr>\n",
       "    <tr>\n",
       "      <th>18280.000</th>\n",
       "      <td>2011-03-07</td>\n",
       "    </tr>\n",
       "    <tr>\n",
       "      <th>18281.000</th>\n",
       "      <td>2011-06-12</td>\n",
       "    </tr>\n",
       "    <tr>\n",
       "      <th>18282.000</th>\n",
       "      <td>2011-12-02</td>\n",
       "    </tr>\n",
       "    <tr>\n",
       "      <th>18283.000</th>\n",
       "      <td>2011-12-06</td>\n",
       "    </tr>\n",
       "    <tr>\n",
       "      <th>18287.000</th>\n",
       "      <td>2011-10-28</td>\n",
       "    </tr>\n",
       "  </tbody>\n",
       "</table>\n",
       "<p>3920 rows × 1 columns</p>\n",
       "</div>"
      ],
      "text/plain": [
       "           last_purchase_date\n",
       "customerid                   \n",
       "12346.000          2011-01-18\n",
       "12747.000          2011-12-07\n",
       "12748.000          2011-12-09\n",
       "12749.000          2011-12-06\n",
       "12820.000          2011-12-06\n",
       "...                       ...\n",
       "18280.000          2011-03-07\n",
       "18281.000          2011-06-12\n",
       "18282.000          2011-12-02\n",
       "18283.000          2011-12-06\n",
       "18287.000          2011-10-28\n",
       "\n",
       "[3920 rows x 1 columns]"
      ]
     },
     "execution_count": 147,
     "metadata": {},
     "output_type": "execute_result"
    }
   ],
   "source": [
    "df_uk.groupby('customerid')[['last_purchase_date']].max()"
   ]
  },
  {
   "cell_type": "markdown",
   "metadata": {
    "id": "1Zxs1mzPiqa_"
   },
   "source": [
    "4. Calculate the days since last purchase"
   ]
  },
  {
   "cell_type": "code",
   "execution_count": 157,
   "metadata": {},
   "outputs": [
    {
     "data": {
      "text/html": [
       "<div>\n",
       "<style scoped>\n",
       "    .dataframe tbody tr th:only-of-type {\n",
       "        vertical-align: middle;\n",
       "    }\n",
       "\n",
       "    .dataframe tbody tr th {\n",
       "        vertical-align: top;\n",
       "    }\n",
       "\n",
       "    .dataframe thead th {\n",
       "        text-align: right;\n",
       "    }\n",
       "</style>\n",
       "<table border=\"1\" class=\"dataframe\">\n",
       "  <thead>\n",
       "    <tr style=\"text-align: right;\">\n",
       "      <th></th>\n",
       "      <th>last_purchase_date</th>\n",
       "    </tr>\n",
       "    <tr>\n",
       "      <th>customerid</th>\n",
       "      <th></th>\n",
       "    </tr>\n",
       "  </thead>\n",
       "  <tbody>\n",
       "    <tr>\n",
       "      <th>12346.000</th>\n",
       "      <td>2011-01-18</td>\n",
       "    </tr>\n",
       "    <tr>\n",
       "      <th>12747.000</th>\n",
       "      <td>2011-12-07</td>\n",
       "    </tr>\n",
       "    <tr>\n",
       "      <th>12748.000</th>\n",
       "      <td>2011-12-09</td>\n",
       "    </tr>\n",
       "    <tr>\n",
       "      <th>12749.000</th>\n",
       "      <td>2011-12-06</td>\n",
       "    </tr>\n",
       "    <tr>\n",
       "      <th>12820.000</th>\n",
       "      <td>2011-12-06</td>\n",
       "    </tr>\n",
       "    <tr>\n",
       "      <th>...</th>\n",
       "      <td>...</td>\n",
       "    </tr>\n",
       "    <tr>\n",
       "      <th>18280.000</th>\n",
       "      <td>2011-03-07</td>\n",
       "    </tr>\n",
       "    <tr>\n",
       "      <th>18281.000</th>\n",
       "      <td>2011-06-12</td>\n",
       "    </tr>\n",
       "    <tr>\n",
       "      <th>18282.000</th>\n",
       "      <td>2011-12-02</td>\n",
       "    </tr>\n",
       "    <tr>\n",
       "      <th>18283.000</th>\n",
       "      <td>2011-12-06</td>\n",
       "    </tr>\n",
       "    <tr>\n",
       "      <th>18287.000</th>\n",
       "      <td>2011-10-28</td>\n",
       "    </tr>\n",
       "  </tbody>\n",
       "</table>\n",
       "<p>3920 rows × 1 columns</p>\n",
       "</div>"
      ],
      "text/plain": [
       "           last_purchase_date\n",
       "customerid                   \n",
       "12346.000          2011-01-18\n",
       "12747.000          2011-12-07\n",
       "12748.000          2011-12-09\n",
       "12749.000          2011-12-06\n",
       "12820.000          2011-12-06\n",
       "...                       ...\n",
       "18280.000          2011-03-07\n",
       "18281.000          2011-06-12\n",
       "18282.000          2011-12-02\n",
       "18283.000          2011-12-06\n",
       "18287.000          2011-10-28\n",
       "\n",
       "[3920 rows x 1 columns]"
      ]
     },
     "execution_count": 157,
     "metadata": {},
     "output_type": "execute_result"
    }
   ],
   "source": [
    "df_uk.groupby('customerid')[['last_purchase_date']].max()"
   ]
  },
  {
   "cell_type": "code",
   "execution_count": 149,
   "metadata": {},
   "outputs": [
    {
     "data": {
      "text/html": [
       "<div>\n",
       "<style scoped>\n",
       "    .dataframe tbody tr th:only-of-type {\n",
       "        vertical-align: middle;\n",
       "    }\n",
       "\n",
       "    .dataframe tbody tr th {\n",
       "        vertical-align: top;\n",
       "    }\n",
       "\n",
       "    .dataframe thead th {\n",
       "        text-align: right;\n",
       "    }\n",
       "</style>\n",
       "<table border=\"1\" class=\"dataframe\">\n",
       "  <thead>\n",
       "    <tr style=\"text-align: right;\">\n",
       "      <th></th>\n",
       "      <th>invoiceno</th>\n",
       "      <th>stockcode</th>\n",
       "      <th>description</th>\n",
       "      <th>quantity</th>\n",
       "      <th>invoicedate</th>\n",
       "      <th>unitprice</th>\n",
       "      <th>customerid</th>\n",
       "      <th>country</th>\n",
       "      <th>total_price</th>\n",
       "      <th>ref_date</th>\n",
       "      <th>date</th>\n",
       "      <th>last_purchase_date</th>\n",
       "      <th>customer_recency</th>\n",
       "    </tr>\n",
       "  </thead>\n",
       "  <tbody>\n",
       "    <tr>\n",
       "      <th>0</th>\n",
       "      <td>536365.0</td>\n",
       "      <td>85123A</td>\n",
       "      <td>WHITE HANGING HEART T-LIGHT HOLDER</td>\n",
       "      <td>6.000</td>\n",
       "      <td>2010-12-01 08:26:00</td>\n",
       "      <td>2.550</td>\n",
       "      <td>17850.000</td>\n",
       "      <td>United Kingdom</td>\n",
       "      <td>15.300</td>\n",
       "      <td>2011-12-09</td>\n",
       "      <td>2010-12-01</td>\n",
       "      <td>2010-12-02</td>\n",
       "      <td>372 days</td>\n",
       "    </tr>\n",
       "  </tbody>\n",
       "</table>\n",
       "</div>"
      ],
      "text/plain": [
       "  invoiceno stockcode                         description  quantity  \\\n",
       "0  536365.0    85123A  WHITE HANGING HEART T-LIGHT HOLDER     6.000   \n",
       "\n",
       "          invoicedate  unitprice  customerid         country  total_price  \\\n",
       "0 2010-12-01 08:26:00      2.550   17850.000  United Kingdom       15.300   \n",
       "\n",
       "    ref_date       date last_purchase_date customer_recency  \n",
       "0 2011-12-09 2010-12-01         2010-12-02         372 days  "
      ]
     },
     "execution_count": 149,
     "metadata": {},
     "output_type": "execute_result"
    }
   ],
   "source": [
    "df_uk[\"customer_recency\"] = df_uk[\"ref_date\"] - df_uk[\"last_purchase_date\"]\n",
    "df_uk.head(1)"
   ]
  },
  {
   "cell_type": "code",
   "execution_count": 150,
   "metadata": {},
   "outputs": [
    {
     "data": {
      "text/html": [
       "<div>\n",
       "<style scoped>\n",
       "    .dataframe tbody tr th:only-of-type {\n",
       "        vertical-align: middle;\n",
       "    }\n",
       "\n",
       "    .dataframe tbody tr th {\n",
       "        vertical-align: top;\n",
       "    }\n",
       "\n",
       "    .dataframe thead th {\n",
       "        text-align: right;\n",
       "    }\n",
       "</style>\n",
       "<table border=\"1\" class=\"dataframe\">\n",
       "  <thead>\n",
       "    <tr style=\"text-align: right;\">\n",
       "      <th></th>\n",
       "      <th>invoiceno</th>\n",
       "      <th>stockcode</th>\n",
       "      <th>description</th>\n",
       "      <th>quantity</th>\n",
       "      <th>invoicedate</th>\n",
       "      <th>unitprice</th>\n",
       "      <th>customerid</th>\n",
       "      <th>country</th>\n",
       "      <th>total_price</th>\n",
       "      <th>ref_date</th>\n",
       "      <th>date</th>\n",
       "      <th>last_purchase_date</th>\n",
       "      <th>customer_recency</th>\n",
       "      <th>recency_value</th>\n",
       "    </tr>\n",
       "  </thead>\n",
       "  <tbody>\n",
       "    <tr>\n",
       "      <th>0</th>\n",
       "      <td>536365.0</td>\n",
       "      <td>85123A</td>\n",
       "      <td>WHITE HANGING HEART T-LIGHT HOLDER</td>\n",
       "      <td>6.000</td>\n",
       "      <td>2010-12-01 08:26:00</td>\n",
       "      <td>2.550</td>\n",
       "      <td>17850.000</td>\n",
       "      <td>United Kingdom</td>\n",
       "      <td>15.300</td>\n",
       "      <td>2011-12-09</td>\n",
       "      <td>2010-12-01</td>\n",
       "      <td>2010-12-02</td>\n",
       "      <td>372 days</td>\n",
       "      <td>372</td>\n",
       "    </tr>\n",
       "  </tbody>\n",
       "</table>\n",
       "</div>"
      ],
      "text/plain": [
       "  invoiceno stockcode                         description  quantity  \\\n",
       "0  536365.0    85123A  WHITE HANGING HEART T-LIGHT HOLDER     6.000   \n",
       "\n",
       "          invoicedate  unitprice  customerid         country  total_price  \\\n",
       "0 2010-12-01 08:26:00      2.550   17850.000  United Kingdom       15.300   \n",
       "\n",
       "    ref_date       date last_purchase_date customer_recency  recency_value  \n",
       "0 2011-12-09 2010-12-01         2010-12-02         372 days            372  "
      ]
     },
     "execution_count": 150,
     "metadata": {},
     "output_type": "execute_result"
    }
   ],
   "source": [
    "df_uk['recency_value'] = pd.to_numeric(df_uk['customer_recency'].dt.days.astype('int64'))\n",
    "df_uk.head(1)\n",
    "\n",
    "# alternative 1\n",
    "# df_uk[\"recency\"] = df_uk.groupby('customerid')['last_purchase_date'].apply(lambda x: ref_date - x)\n",
    "# df_uk['recency'] = pd.to_numeric(df_uk['recency'].dt.days, downcast='integer')"
   ]
  },
  {
   "cell_type": "code",
   "execution_count": 153,
   "metadata": {},
   "outputs": [
    {
     "data": {
      "text/html": [
       "<div>\n",
       "<style scoped>\n",
       "    .dataframe tbody tr th:only-of-type {\n",
       "        vertical-align: middle;\n",
       "    }\n",
       "\n",
       "    .dataframe tbody tr th {\n",
       "        vertical-align: top;\n",
       "    }\n",
       "\n",
       "    .dataframe thead th {\n",
       "        text-align: right;\n",
       "    }\n",
       "</style>\n",
       "<table border=\"1\" class=\"dataframe\">\n",
       "  <thead>\n",
       "    <tr style=\"text-align: right;\">\n",
       "      <th></th>\n",
       "      <th>customerid</th>\n",
       "      <th>recency</th>\n",
       "    </tr>\n",
       "  </thead>\n",
       "  <tbody>\n",
       "    <tr>\n",
       "      <th>0</th>\n",
       "      <td>12346.000</td>\n",
       "      <td>325.000</td>\n",
       "    </tr>\n",
       "    <tr>\n",
       "      <th>1</th>\n",
       "      <td>12747.000</td>\n",
       "      <td>2.000</td>\n",
       "    </tr>\n",
       "    <tr>\n",
       "      <th>2</th>\n",
       "      <td>12748.000</td>\n",
       "      <td>0.000</td>\n",
       "    </tr>\n",
       "    <tr>\n",
       "      <th>3</th>\n",
       "      <td>12749.000</td>\n",
       "      <td>3.000</td>\n",
       "    </tr>\n",
       "    <tr>\n",
       "      <th>4</th>\n",
       "      <td>12820.000</td>\n",
       "      <td>3.000</td>\n",
       "    </tr>\n",
       "    <tr>\n",
       "      <th>...</th>\n",
       "      <td>...</td>\n",
       "      <td>...</td>\n",
       "    </tr>\n",
       "    <tr>\n",
       "      <th>3915</th>\n",
       "      <td>18280.000</td>\n",
       "      <td>277.000</td>\n",
       "    </tr>\n",
       "    <tr>\n",
       "      <th>3916</th>\n",
       "      <td>18281.000</td>\n",
       "      <td>180.000</td>\n",
       "    </tr>\n",
       "    <tr>\n",
       "      <th>3917</th>\n",
       "      <td>18282.000</td>\n",
       "      <td>7.000</td>\n",
       "    </tr>\n",
       "    <tr>\n",
       "      <th>3918</th>\n",
       "      <td>18283.000</td>\n",
       "      <td>3.000</td>\n",
       "    </tr>\n",
       "    <tr>\n",
       "      <th>3919</th>\n",
       "      <td>18287.000</td>\n",
       "      <td>42.000</td>\n",
       "    </tr>\n",
       "  </tbody>\n",
       "</table>\n",
       "<p>3920 rows × 2 columns</p>\n",
       "</div>"
      ],
      "text/plain": [
       "      customerid  recency\n",
       "0      12346.000  325.000\n",
       "1      12747.000    2.000\n",
       "2      12748.000    0.000\n",
       "3      12749.000    3.000\n",
       "4      12820.000    3.000\n",
       "...          ...      ...\n",
       "3915   18280.000  277.000\n",
       "3916   18281.000  180.000\n",
       "3917   18282.000    7.000\n",
       "3918   18283.000    3.000\n",
       "3919   18287.000   42.000\n",
       "\n",
       "[3920 rows x 2 columns]"
      ]
     },
     "execution_count": 153,
     "metadata": {},
     "output_type": "execute_result"
    }
   ],
   "source": [
    "customer_recency = pd.DataFrame(df_uk.groupby('customerid')['recency_value'].mean())\n",
    "customer_recency.rename(columns={'recency_value':'recency'}, inplace=True)\n",
    "customer_recency.reset_index(inplace=True)\n",
    "customer_recency"
   ]
  },
  {
   "cell_type": "markdown",
   "metadata": {
    "id": "yAuMSkfsiqa_"
   },
   "source": [
    "5. Drop Last_Purchase_Date since we don't need it anymore"
   ]
  },
  {
   "cell_type": "code",
   "execution_count": 158,
   "metadata": {},
   "outputs": [
    {
     "data": {
      "text/plain": [
       "(349203, 14)"
      ]
     },
     "execution_count": 158,
     "metadata": {},
     "output_type": "execute_result"
    }
   ],
   "source": [
    "df_uk.shape"
   ]
  },
  {
   "cell_type": "code",
   "execution_count": 159,
   "metadata": {},
   "outputs": [
    {
     "data": {
      "text/html": [
       "<div>\n",
       "<style scoped>\n",
       "    .dataframe tbody tr th:only-of-type {\n",
       "        vertical-align: middle;\n",
       "    }\n",
       "\n",
       "    .dataframe tbody tr th {\n",
       "        vertical-align: top;\n",
       "    }\n",
       "\n",
       "    .dataframe thead th {\n",
       "        text-align: right;\n",
       "    }\n",
       "</style>\n",
       "<table border=\"1\" class=\"dataframe\">\n",
       "  <thead>\n",
       "    <tr style=\"text-align: right;\">\n",
       "      <th></th>\n",
       "      <th>invoiceno</th>\n",
       "      <th>stockcode</th>\n",
       "      <th>description</th>\n",
       "      <th>quantity</th>\n",
       "      <th>invoicedate</th>\n",
       "      <th>unitprice</th>\n",
       "      <th>customerid</th>\n",
       "      <th>country</th>\n",
       "      <th>total_price</th>\n",
       "      <th>ref_date</th>\n",
       "      <th>date</th>\n",
       "      <th>last_purchase_date</th>\n",
       "      <th>customer_recency</th>\n",
       "      <th>recency_value</th>\n",
       "    </tr>\n",
       "  </thead>\n",
       "  <tbody>\n",
       "    <tr>\n",
       "      <th>0</th>\n",
       "      <td>536365.0</td>\n",
       "      <td>85123A</td>\n",
       "      <td>WHITE HANGING HEART T-LIGHT HOLDER</td>\n",
       "      <td>6.000</td>\n",
       "      <td>2010-12-01 08:26:00</td>\n",
       "      <td>2.550</td>\n",
       "      <td>17850.000</td>\n",
       "      <td>United Kingdom</td>\n",
       "      <td>15.300</td>\n",
       "      <td>2011-12-09</td>\n",
       "      <td>2010-12-01</td>\n",
       "      <td>2010-12-02</td>\n",
       "      <td>372 days</td>\n",
       "      <td>372</td>\n",
       "    </tr>\n",
       "  </tbody>\n",
       "</table>\n",
       "</div>"
      ],
      "text/plain": [
       "  invoiceno stockcode                         description  quantity  \\\n",
       "0  536365.0    85123A  WHITE HANGING HEART T-LIGHT HOLDER     6.000   \n",
       "\n",
       "          invoicedate  unitprice  customerid         country  total_price  \\\n",
       "0 2010-12-01 08:26:00      2.550   17850.000  United Kingdom       15.300   \n",
       "\n",
       "    ref_date       date last_purchase_date customer_recency  recency_value  \n",
       "0 2011-12-09 2010-12-01         2010-12-02         372 days            372  "
      ]
     },
     "execution_count": 159,
     "metadata": {},
     "output_type": "execute_result"
    }
   ],
   "source": [
    "df_uk.head(1)"
   ]
  },
  {
   "cell_type": "code",
   "execution_count": 160,
   "metadata": {
    "id": "4bNmKqHNiqa_"
   },
   "outputs": [
    {
     "data": {
      "text/html": [
       "<div>\n",
       "<style scoped>\n",
       "    .dataframe tbody tr th:only-of-type {\n",
       "        vertical-align: middle;\n",
       "    }\n",
       "\n",
       "    .dataframe tbody tr th {\n",
       "        vertical-align: top;\n",
       "    }\n",
       "\n",
       "    .dataframe thead th {\n",
       "        text-align: right;\n",
       "    }\n",
       "</style>\n",
       "<table border=\"1\" class=\"dataframe\">\n",
       "  <thead>\n",
       "    <tr style=\"text-align: right;\">\n",
       "      <th></th>\n",
       "      <th>invoiceno</th>\n",
       "      <th>stockcode</th>\n",
       "      <th>description</th>\n",
       "      <th>quantity</th>\n",
       "      <th>invoicedate</th>\n",
       "      <th>unitprice</th>\n",
       "      <th>customerid</th>\n",
       "      <th>country</th>\n",
       "      <th>total_price</th>\n",
       "      <th>ref_date</th>\n",
       "      <th>date</th>\n",
       "      <th>customer_recency</th>\n",
       "      <th>recency_value</th>\n",
       "    </tr>\n",
       "  </thead>\n",
       "  <tbody>\n",
       "    <tr>\n",
       "      <th>0</th>\n",
       "      <td>536365.0</td>\n",
       "      <td>85123A</td>\n",
       "      <td>WHITE HANGING HEART T-LIGHT HOLDER</td>\n",
       "      <td>6.000</td>\n",
       "      <td>2010-12-01 08:26:00</td>\n",
       "      <td>2.550</td>\n",
       "      <td>17850.000</td>\n",
       "      <td>United Kingdom</td>\n",
       "      <td>15.300</td>\n",
       "      <td>2011-12-09</td>\n",
       "      <td>2010-12-01</td>\n",
       "      <td>372 days</td>\n",
       "      <td>372</td>\n",
       "    </tr>\n",
       "  </tbody>\n",
       "</table>\n",
       "</div>"
      ],
      "text/plain": [
       "  invoiceno stockcode                         description  quantity  \\\n",
       "0  536365.0    85123A  WHITE HANGING HEART T-LIGHT HOLDER     6.000   \n",
       "\n",
       "          invoicedate  unitprice  customerid         country  total_price  \\\n",
       "0 2010-12-01 08:26:00      2.550   17850.000  United Kingdom       15.300   \n",
       "\n",
       "    ref_date       date customer_recency  recency_value  \n",
       "0 2011-12-09 2010-12-01         372 days            372  "
      ]
     },
     "execution_count": 160,
     "metadata": {},
     "output_type": "execute_result"
    }
   ],
   "source": [
    "df_uk.drop('last_purchase_date', axis=1, inplace=True)\n",
    "df_uk.head(1)"
   ]
  },
  {
   "cell_type": "markdown",
   "metadata": {
    "id": "IB9a0AL9iqa_"
   },
   "source": [
    "6. Plot RFM distributions"
   ]
  },
  {
   "cell_type": "code",
   "execution_count": 161,
   "metadata": {},
   "outputs": [],
   "source": [
    "# fig = px.histogram(df_uk, x = 'customer_recency', title = 'Customer Regency Distribution')\n",
    "# fig.show()"
   ]
  },
  {
   "cell_type": "code",
   "execution_count": 163,
   "metadata": {},
   "outputs": [
    {
     "data": {
      "image/png": "[encoded data removed]",
      "text/plain": [
       "<Figure size 864x648 with 1 Axes>"
      ]
     },
     "metadata": {
      "needs_background": "light"
     },
     "output_type": "display_data"
    }
   ],
   "source": [
    "plt.figure(figsize=(12,9))\n",
    "sns.distplot(df_uk['customer_recency'], kde=False, bins=50);"
   ]
  },
  {
   "cell_type": "markdown",
   "metadata": {
    "id": "MAjKZD0KQGWg"
   },
   "source": [
    "### iv. Frequency: Number of purchases\n",
    "\n",
    "To calculate how many times a customer purchased something, we need to count how many invoices each customer has. To calculate the frequency values, follow these steps in order:"
   ]
  },
  {
   "cell_type": "markdown",
   "metadata": {
    "id": "TDoNslseiqbA"
   },
   "source": [
    "1. Make a copy of df_uk and drop duplicates"
   ]
  },
  {
   "cell_type": "code",
   "execution_count": 164,
   "metadata": {
    "id": "6gk2gokFiqbA"
   },
   "outputs": [
    {
     "data": {
      "text/html": [
       "<div>\n",
       "<style scoped>\n",
       "    .dataframe tbody tr th:only-of-type {\n",
       "        vertical-align: middle;\n",
       "    }\n",
       "\n",
       "    .dataframe tbody tr th {\n",
       "        vertical-align: top;\n",
       "    }\n",
       "\n",
       "    .dataframe thead th {\n",
       "        text-align: right;\n",
       "    }\n",
       "</style>\n",
       "<table border=\"1\" class=\"dataframe\">\n",
       "  <thead>\n",
       "    <tr style=\"text-align: right;\">\n",
       "      <th></th>\n",
       "      <th>invoiceno</th>\n",
       "      <th>stockcode</th>\n",
       "      <th>description</th>\n",
       "      <th>quantity</th>\n",
       "      <th>invoicedate</th>\n",
       "      <th>unitprice</th>\n",
       "      <th>customerid</th>\n",
       "      <th>country</th>\n",
       "      <th>total_price</th>\n",
       "      <th>ref_date</th>\n",
       "      <th>date</th>\n",
       "      <th>customer_recency</th>\n",
       "      <th>recency_value</th>\n",
       "    </tr>\n",
       "  </thead>\n",
       "  <tbody>\n",
       "    <tr>\n",
       "      <th>0</th>\n",
       "      <td>536365.0</td>\n",
       "      <td>85123A</td>\n",
       "      <td>WHITE HANGING HEART T-LIGHT HOLDER</td>\n",
       "      <td>6.000</td>\n",
       "      <td>2010-12-01 08:26:00</td>\n",
       "      <td>2.550</td>\n",
       "      <td>17850.000</td>\n",
       "      <td>United Kingdom</td>\n",
       "      <td>15.300</td>\n",
       "      <td>2011-12-09</td>\n",
       "      <td>2010-12-01</td>\n",
       "      <td>372 days</td>\n",
       "      <td>372</td>\n",
       "    </tr>\n",
       "  </tbody>\n",
       "</table>\n",
       "</div>"
      ],
      "text/plain": [
       "  invoiceno stockcode                         description  quantity  \\\n",
       "0  536365.0    85123A  WHITE HANGING HEART T-LIGHT HOLDER     6.000   \n",
       "\n",
       "          invoicedate  unitprice  customerid         country  total_price  \\\n",
       "0 2010-12-01 08:26:00      2.550   17850.000  United Kingdom       15.300   \n",
       "\n",
       "    ref_date       date customer_recency  recency_value  \n",
       "0 2011-12-09 2010-12-01         372 days            372  "
      ]
     },
     "execution_count": 164,
     "metadata": {},
     "output_type": "execute_result"
    }
   ],
   "source": [
    "df_uk1 = df_uk.copy()\n",
    "df_uk1.head(1)"
   ]
  },
  {
   "cell_type": "code",
   "execution_count": 193,
   "metadata": {},
   "outputs": [
    {
     "data": {
      "text/plain": [
       "0"
      ]
     },
     "execution_count": 193,
     "metadata": {},
     "output_type": "execute_result"
    }
   ],
   "source": [
    "df_uk1.duplicated().sum()"
   ]
  },
  {
   "cell_type": "markdown",
   "metadata": {
    "id": "7KrnuXrLiqbA"
   },
   "source": [
    "2. Calculate the frequency of purchases"
   ]
  },
  {
   "cell_type": "code",
   "execution_count": 165,
   "metadata": {
    "id": "1LTM_cxpiqbA"
   },
   "outputs": [
    {
     "data": {
      "text/html": [
       "<div>\n",
       "<style scoped>\n",
       "    .dataframe tbody tr th:only-of-type {\n",
       "        vertical-align: middle;\n",
       "    }\n",
       "\n",
       "    .dataframe tbody tr th {\n",
       "        vertical-align: top;\n",
       "    }\n",
       "\n",
       "    .dataframe thead th {\n",
       "        text-align: right;\n",
       "    }\n",
       "</style>\n",
       "<table border=\"1\" class=\"dataframe\">\n",
       "  <thead>\n",
       "    <tr style=\"text-align: right;\">\n",
       "      <th></th>\n",
       "      <th>customerid</th>\n",
       "      <th>frequency</th>\n",
       "    </tr>\n",
       "  </thead>\n",
       "  <tbody>\n",
       "    <tr>\n",
       "      <th>0</th>\n",
       "      <td>12346.000</td>\n",
       "      <td>1</td>\n",
       "    </tr>\n",
       "    <tr>\n",
       "      <th>1</th>\n",
       "      <td>12747.000</td>\n",
       "      <td>11</td>\n",
       "    </tr>\n",
       "    <tr>\n",
       "      <th>2</th>\n",
       "      <td>12748.000</td>\n",
       "      <td>209</td>\n",
       "    </tr>\n",
       "    <tr>\n",
       "      <th>3</th>\n",
       "      <td>12749.000</td>\n",
       "      <td>5</td>\n",
       "    </tr>\n",
       "    <tr>\n",
       "      <th>4</th>\n",
       "      <td>12820.000</td>\n",
       "      <td>4</td>\n",
       "    </tr>\n",
       "    <tr>\n",
       "      <th>...</th>\n",
       "      <td>...</td>\n",
       "      <td>...</td>\n",
       "    </tr>\n",
       "    <tr>\n",
       "      <th>3915</th>\n",
       "      <td>18280.000</td>\n",
       "      <td>1</td>\n",
       "    </tr>\n",
       "    <tr>\n",
       "      <th>3916</th>\n",
       "      <td>18281.000</td>\n",
       "      <td>1</td>\n",
       "    </tr>\n",
       "    <tr>\n",
       "      <th>3917</th>\n",
       "      <td>18282.000</td>\n",
       "      <td>2</td>\n",
       "    </tr>\n",
       "    <tr>\n",
       "      <th>3918</th>\n",
       "      <td>18283.000</td>\n",
       "      <td>16</td>\n",
       "    </tr>\n",
       "    <tr>\n",
       "      <th>3919</th>\n",
       "      <td>18287.000</td>\n",
       "      <td>3</td>\n",
       "    </tr>\n",
       "  </tbody>\n",
       "</table>\n",
       "<p>3920 rows × 2 columns</p>\n",
       "</div>"
      ],
      "text/plain": [
       "      customerid  frequency\n",
       "0      12346.000          1\n",
       "1      12747.000         11\n",
       "2      12748.000        209\n",
       "3      12749.000          5\n",
       "4      12820.000          4\n",
       "...          ...        ...\n",
       "3915   18280.000          1\n",
       "3916   18281.000          1\n",
       "3917   18282.000          2\n",
       "3918   18283.000         16\n",
       "3919   18287.000          3\n",
       "\n",
       "[3920 rows x 2 columns]"
      ]
     },
     "execution_count": 165,
     "metadata": {},
     "output_type": "execute_result"
    }
   ],
   "source": [
    "customer_frequency = pd.DataFrame(df_uk.groupby('customerid')['invoiceno'].nunique())\n",
    "customer_frequency.rename(columns={'invoiceno':'frequency'}, inplace=True)\n",
    "customer_frequency.reset_index(inplace=True)\n",
    "customer_frequency"
   ]
  },
  {
   "cell_type": "code",
   "execution_count": 166,
   "metadata": {},
   "outputs": [
    {
     "data": {
      "text/html": [
       "<div>\n",
       "<style scoped>\n",
       "    .dataframe tbody tr th:only-of-type {\n",
       "        vertical-align: middle;\n",
       "    }\n",
       "\n",
       "    .dataframe tbody tr th {\n",
       "        vertical-align: top;\n",
       "    }\n",
       "\n",
       "    .dataframe thead th {\n",
       "        text-align: right;\n",
       "    }\n",
       "</style>\n",
       "<table border=\"1\" class=\"dataframe\">\n",
       "  <thead>\n",
       "    <tr style=\"text-align: right;\">\n",
       "      <th></th>\n",
       "      <th>invoiceno</th>\n",
       "      <th>stockcode</th>\n",
       "      <th>description</th>\n",
       "      <th>quantity</th>\n",
       "      <th>invoicedate</th>\n",
       "      <th>unitprice</th>\n",
       "      <th>customerid</th>\n",
       "      <th>country</th>\n",
       "      <th>total_price</th>\n",
       "      <th>ref_date</th>\n",
       "      <th>date</th>\n",
       "      <th>customer_recency</th>\n",
       "      <th>recency_value</th>\n",
       "      <th>customer_frequency</th>\n",
       "    </tr>\n",
       "  </thead>\n",
       "  <tbody>\n",
       "    <tr>\n",
       "      <th>0</th>\n",
       "      <td>536365.0</td>\n",
       "      <td>85123A</td>\n",
       "      <td>WHITE HANGING HEART T-LIGHT HOLDER</td>\n",
       "      <td>6.000</td>\n",
       "      <td>2010-12-01 08:26:00</td>\n",
       "      <td>2.550</td>\n",
       "      <td>17850.000</td>\n",
       "      <td>United Kingdom</td>\n",
       "      <td>15.300</td>\n",
       "      <td>2011-12-09</td>\n",
       "      <td>2010-12-01</td>\n",
       "      <td>372 days</td>\n",
       "      <td>372</td>\n",
       "      <td>297</td>\n",
       "    </tr>\n",
       "  </tbody>\n",
       "</table>\n",
       "</div>"
      ],
      "text/plain": [
       "  invoiceno stockcode                         description  quantity  \\\n",
       "0  536365.0    85123A  WHITE HANGING HEART T-LIGHT HOLDER     6.000   \n",
       "\n",
       "          invoicedate  unitprice  customerid         country  total_price  \\\n",
       "0 2010-12-01 08:26:00      2.550   17850.000  United Kingdom       15.300   \n",
       "\n",
       "    ref_date       date customer_recency  recency_value  customer_frequency  \n",
       "0 2011-12-09 2010-12-01         372 days            372                 297  "
      ]
     },
     "execution_count": 166,
     "metadata": {},
     "output_type": "execute_result"
    }
   ],
   "source": [
    "df_uk['customer_frequency'] = df_uk.groupby('customerid')['invoiceno'].transform('count')\n",
    "df_uk.head(1)"
   ]
  },
  {
   "cell_type": "markdown",
   "metadata": {
    "id": "V9NNBCNgiqbA"
   },
   "source": [
    "3. Plot RFM distributions"
   ]
  },
  {
   "cell_type": "code",
   "execution_count": 167,
   "metadata": {
    "id": "yUtZAHu1iqbA"
   },
   "outputs": [],
   "source": [
    "# fig = px.histogram(df_uk, x = 'customer_frequency', title = 'Customer Frequency Distribution')\n",
    "# fig.show()"
   ]
  },
  {
   "cell_type": "code",
   "execution_count": 168,
   "metadata": {},
   "outputs": [
    {
     "data": {
      "image/png": "[encoded data removed]",
      "text/plain": [
       "<Figure size 864x648 with 1 Axes>"
      ]
     },
     "metadata": {
      "needs_background": "light"
     },
     "output_type": "display_data"
    }
   ],
   "source": [
    "plt.figure(figsize=(12,9))\n",
    "sns.distplot(df_uk['customer_frequency'], kde=False, bins=50);"
   ]
  },
  {
   "cell_type": "markdown",
   "metadata": {
    "id": "wUY3gKjQQGWh"
   },
   "source": [
    "### v. Monetary: Total amount of money spent\n",
    "\n",
    "The monetary value is calculated by adding together the cost of the customers' purchases.\n"
   ]
  },
  {
   "cell_type": "markdown",
   "metadata": {
    "id": "5_4_QLWtiqbA"
   },
   "source": [
    "1. Calculate sum total cost by customers and named \"Monetary\""
   ]
  },
  {
   "cell_type": "code",
   "execution_count": 169,
   "metadata": {},
   "outputs": [
    {
     "data": {
      "text/html": [
       "<div>\n",
       "<style scoped>\n",
       "    .dataframe tbody tr th:only-of-type {\n",
       "        vertical-align: middle;\n",
       "    }\n",
       "\n",
       "    .dataframe tbody tr th {\n",
       "        vertical-align: top;\n",
       "    }\n",
       "\n",
       "    .dataframe thead th {\n",
       "        text-align: right;\n",
       "    }\n",
       "</style>\n",
       "<table border=\"1\" class=\"dataframe\">\n",
       "  <thead>\n",
       "    <tr style=\"text-align: right;\">\n",
       "      <th></th>\n",
       "      <th>customerid</th>\n",
       "      <th>monetary</th>\n",
       "    </tr>\n",
       "  </thead>\n",
       "  <tbody>\n",
       "    <tr>\n",
       "      <th>0</th>\n",
       "      <td>12346.000</td>\n",
       "      <td>77183.600</td>\n",
       "    </tr>\n",
       "    <tr>\n",
       "      <th>1</th>\n",
       "      <td>12747.000</td>\n",
       "      <td>4196.010</td>\n",
       "    </tr>\n",
       "    <tr>\n",
       "      <th>2</th>\n",
       "      <td>12748.000</td>\n",
       "      <td>33053.190</td>\n",
       "    </tr>\n",
       "    <tr>\n",
       "      <th>3</th>\n",
       "      <td>12749.000</td>\n",
       "      <td>4090.880</td>\n",
       "    </tr>\n",
       "    <tr>\n",
       "      <th>4</th>\n",
       "      <td>12820.000</td>\n",
       "      <td>942.340</td>\n",
       "    </tr>\n",
       "    <tr>\n",
       "      <th>...</th>\n",
       "      <td>...</td>\n",
       "      <td>...</td>\n",
       "    </tr>\n",
       "    <tr>\n",
       "      <th>3915</th>\n",
       "      <td>18280.000</td>\n",
       "      <td>180.600</td>\n",
       "    </tr>\n",
       "    <tr>\n",
       "      <th>3916</th>\n",
       "      <td>18281.000</td>\n",
       "      <td>80.820</td>\n",
       "    </tr>\n",
       "    <tr>\n",
       "      <th>3917</th>\n",
       "      <td>18282.000</td>\n",
       "      <td>178.050</td>\n",
       "    </tr>\n",
       "    <tr>\n",
       "      <th>3918</th>\n",
       "      <td>18283.000</td>\n",
       "      <td>2045.530</td>\n",
       "    </tr>\n",
       "    <tr>\n",
       "      <th>3919</th>\n",
       "      <td>18287.000</td>\n",
       "      <td>1837.280</td>\n",
       "    </tr>\n",
       "  </tbody>\n",
       "</table>\n",
       "<p>3920 rows × 2 columns</p>\n",
       "</div>"
      ],
      "text/plain": [
       "      customerid  monetary\n",
       "0      12346.000 77183.600\n",
       "1      12747.000  4196.010\n",
       "2      12748.000 33053.190\n",
       "3      12749.000  4090.880\n",
       "4      12820.000   942.340\n",
       "...          ...       ...\n",
       "3915   18280.000   180.600\n",
       "3916   18281.000    80.820\n",
       "3917   18282.000   178.050\n",
       "3918   18283.000  2045.530\n",
       "3919   18287.000  1837.280\n",
       "\n",
       "[3920 rows x 2 columns]"
      ]
     },
     "execution_count": 169,
     "metadata": {},
     "output_type": "execute_result"
    }
   ],
   "source": [
    "customer_monetary = pd.DataFrame(df_uk.groupby('customerid')['total_price'].sum())\n",
    "customer_monetary.rename(columns={'total_price':'monetary'}, inplace=True)\n",
    "customer_monetary.reset_index(inplace=True)\n",
    "customer_monetary"
   ]
  },
  {
   "cell_type": "code",
   "execution_count": 170,
   "metadata": {
    "id": "bilKBqvIiqbB"
   },
   "outputs": [
    {
     "data": {
      "text/html": [
       "<div>\n",
       "<style scoped>\n",
       "    .dataframe tbody tr th:only-of-type {\n",
       "        vertical-align: middle;\n",
       "    }\n",
       "\n",
       "    .dataframe tbody tr th {\n",
       "        vertical-align: top;\n",
       "    }\n",
       "\n",
       "    .dataframe thead th {\n",
       "        text-align: right;\n",
       "    }\n",
       "</style>\n",
       "<table border=\"1\" class=\"dataframe\">\n",
       "  <thead>\n",
       "    <tr style=\"text-align: right;\">\n",
       "      <th></th>\n",
       "      <th>invoiceno</th>\n",
       "      <th>stockcode</th>\n",
       "      <th>description</th>\n",
       "      <th>quantity</th>\n",
       "      <th>invoicedate</th>\n",
       "      <th>unitprice</th>\n",
       "      <th>customerid</th>\n",
       "      <th>country</th>\n",
       "      <th>total_price</th>\n",
       "      <th>ref_date</th>\n",
       "      <th>date</th>\n",
       "      <th>customer_recency</th>\n",
       "      <th>recency_value</th>\n",
       "      <th>customer_frequency</th>\n",
       "      <th>customer_monetary</th>\n",
       "    </tr>\n",
       "  </thead>\n",
       "  <tbody>\n",
       "    <tr>\n",
       "      <th>0</th>\n",
       "      <td>536365.0</td>\n",
       "      <td>85123A</td>\n",
       "      <td>WHITE HANGING HEART T-LIGHT HOLDER</td>\n",
       "      <td>6.000</td>\n",
       "      <td>2010-12-01 08:26:00</td>\n",
       "      <td>2.550</td>\n",
       "      <td>17850.000</td>\n",
       "      <td>United Kingdom</td>\n",
       "      <td>15.300</td>\n",
       "      <td>2011-12-09</td>\n",
       "      <td>2010-12-01</td>\n",
       "      <td>372 days</td>\n",
       "      <td>372</td>\n",
       "      <td>297</td>\n",
       "      <td>5391.210</td>\n",
       "    </tr>\n",
       "  </tbody>\n",
       "</table>\n",
       "</div>"
      ],
      "text/plain": [
       "  invoiceno stockcode                         description  quantity  \\\n",
       "0  536365.0    85123A  WHITE HANGING HEART T-LIGHT HOLDER     6.000   \n",
       "\n",
       "          invoicedate  unitprice  customerid         country  total_price  \\\n",
       "0 2010-12-01 08:26:00      2.550   17850.000  United Kingdom       15.300   \n",
       "\n",
       "    ref_date       date customer_recency  recency_value  customer_frequency  \\\n",
       "0 2011-12-09 2010-12-01         372 days            372                 297   \n",
       "\n",
       "   customer_monetary  \n",
       "0           5391.210  "
      ]
     },
     "execution_count": 170,
     "metadata": {},
     "output_type": "execute_result"
    }
   ],
   "source": [
    "df_uk['customer_monetary'] = df_uk.groupby('customerid')['total_price'].transform('sum')\n",
    "df_uk.head(1)"
   ]
  },
  {
   "cell_type": "markdown",
   "metadata": {
    "id": "dYsaCPRDiqbB"
   },
   "source": [
    "2. Plot RFM distributions"
   ]
  },
  {
   "cell_type": "code",
   "execution_count": 171,
   "metadata": {},
   "outputs": [],
   "source": [
    "# fig = px.histogram(df_uk, x = 'customer_monetary', title = 'Customer Monetary Distribution')\n",
    "# fig.show()"
   ]
  },
  {
   "cell_type": "code",
   "execution_count": 172,
   "metadata": {
    "id": "Sd41fD67iqbB"
   },
   "outputs": [
    {
     "data": {
      "image/png": "[encoded data removed]",
      "text/plain": [
       "<Figure size 864x648 with 1 Axes>"
      ]
     },
     "metadata": {
      "needs_background": "light"
     },
     "output_type": "display_data"
    }
   ],
   "source": [
    "plt.figure(figsize=(12,9))\n",
    "sns.distplot(df_uk['customer_monetary'], kde=False, bins=50);"
   ]
  },
  {
   "cell_type": "markdown",
   "metadata": {
    "id": "SeaecPkSQGWj"
   },
   "source": [
    "### vi. Create RFM Table\n",
    "Merge the recency, frequency and motetary dataframes"
   ]
  },
  {
   "cell_type": "code",
   "execution_count": 173,
   "metadata": {
    "id": "M88KNSbyiqbB"
   },
   "outputs": [
    {
     "data": {
      "text/html": [
       "<div>\n",
       "<style scoped>\n",
       "    .dataframe tbody tr th:only-of-type {\n",
       "        vertical-align: middle;\n",
       "    }\n",
       "\n",
       "    .dataframe tbody tr th {\n",
       "        vertical-align: top;\n",
       "    }\n",
       "\n",
       "    .dataframe thead th {\n",
       "        text-align: right;\n",
       "    }\n",
       "</style>\n",
       "<table border=\"1\" class=\"dataframe\">\n",
       "  <thead>\n",
       "    <tr style=\"text-align: right;\">\n",
       "      <th></th>\n",
       "      <th>customerid</th>\n",
       "      <th>recency</th>\n",
       "      <th>frequency</th>\n",
       "      <th>monetary</th>\n",
       "    </tr>\n",
       "  </thead>\n",
       "  <tbody>\n",
       "    <tr>\n",
       "      <th>0</th>\n",
       "      <td>12346.000</td>\n",
       "      <td>325.000</td>\n",
       "      <td>1</td>\n",
       "      <td>77183.600</td>\n",
       "    </tr>\n",
       "    <tr>\n",
       "      <th>1</th>\n",
       "      <td>12747.000</td>\n",
       "      <td>2.000</td>\n",
       "      <td>11</td>\n",
       "      <td>4196.010</td>\n",
       "    </tr>\n",
       "    <tr>\n",
       "      <th>2</th>\n",
       "      <td>12748.000</td>\n",
       "      <td>0.000</td>\n",
       "      <td>209</td>\n",
       "      <td>33053.190</td>\n",
       "    </tr>\n",
       "    <tr>\n",
       "      <th>3</th>\n",
       "      <td>12749.000</td>\n",
       "      <td>3.000</td>\n",
       "      <td>5</td>\n",
       "      <td>4090.880</td>\n",
       "    </tr>\n",
       "    <tr>\n",
       "      <th>4</th>\n",
       "      <td>12820.000</td>\n",
       "      <td>3.000</td>\n",
       "      <td>4</td>\n",
       "      <td>942.340</td>\n",
       "    </tr>\n",
       "  </tbody>\n",
       "</table>\n",
       "</div>"
      ],
      "text/plain": [
       "   customerid  recency  frequency  monetary\n",
       "0   12346.000  325.000          1 77183.600\n",
       "1   12747.000    2.000         11  4196.010\n",
       "2   12748.000    0.000        209 33053.190\n",
       "3   12749.000    3.000          5  4090.880\n",
       "4   12820.000    3.000          4   942.340"
      ]
     },
     "execution_count": 173,
     "metadata": {},
     "output_type": "execute_result"
    }
   ],
   "source": [
    "customer_rfm = pd.merge(pd.merge(customer_recency, customer_frequency, on='customerid'), customer_monetary, on='customerid')\n",
    "customer_rfm.head()"
   ]
  },
  {
   "cell_type": "code",
   "execution_count": 174,
   "metadata": {},
   "outputs": [
    {
     "name": "stdout",
     "output_type": "stream",
     "text": [
      "<class 'pandas.core.frame.DataFrame'>\n",
      "Int64Index: 3920 entries, 0 to 3919\n",
      "Data columns (total 4 columns):\n",
      " #   Column      Non-Null Count  Dtype  \n",
      "---  ------      --------------  -----  \n",
      " 0   customerid  3920 non-null   float64\n",
      " 1   recency     3920 non-null   float64\n",
      " 2   frequency   3920 non-null   int64  \n",
      " 3   monetary    3920 non-null   float64\n",
      "dtypes: float64(3), int64(1)\n",
      "memory usage: 153.1 KB\n"
     ]
    }
   ],
   "source": [
    "customer_rfm.info()"
   ]
  },
  {
   "cell_type": "markdown",
   "metadata": {
    "id": "ULWwsxCkQGWl"
   },
   "source": [
    "# 3. Customer Segmentation with RFM Scores"
   ]
  },
  {
   "cell_type": "markdown",
   "metadata": {
    "id": "TZrxUBX4iqbB"
   },
   "source": [
    "Businesses have this ever-lasting urge to understand their customers. The better you understand the customer, the better you serve them, and the higher the financial gain you receive from that customer. Since the dawn of trade, this process of understanding customers for a strategic gain has been there practiced and this task is known majorly as [Customer Segmentation](https://clevertap.com/blog/rfm-analysis/).\n",
    "Well as the name suggests, Customer Segmentation could segment customers according to their precise needs. Some of the common ways of segmenting customers are based on their Recency-Frequency-Monatory values, their demographics like gender, region, country, etc, and some of their business-crafted scores. You will use Recency-Frequency-Monatory values for this case.\n",
    "\n",
    "In this section, you will create an RFM Segmentation Table where you segment your customers by using the RFM table. For example, you can label the best customer as \"Big Spenders\" and the lost customer as \"Lost Customer\"."
   ]
  },
  {
   "cell_type": "markdown",
   "metadata": {
    "id": "anOsOGpfQGWl"
   },
   "source": [
    "## Calculate RFM Scoring\n",
    "\n",
    "The simplest way to create customer segments from an RFM model is by using **Quartiles**. We will assign a score from 1 to 4 to each category (Recency, Frequency, and Monetary) with 4 being the highest/best value. The final RFM score is calculated by combining all RFM values. For Customer Segmentation, you will use the df_rfm data set resulting from the RFM analysis.\n",
    "<br>\n",
    "<br>\n",
    "**Note**: Data can be assigned into more groups for better granularity, but we will use 4 in this case."
   ]
  },
  {
   "cell_type": "markdown",
   "metadata": {
    "id": "WiwXSsP7iqbB"
   },
   "source": [
    "1. Divide the df_rfm into quarters"
   ]
  },
  {
   "cell_type": "code",
   "execution_count": null,
   "metadata": {
    "id": "mFQJGPYHiqbC"
   },
   "outputs": [],
   "source": []
  },
  {
   "cell_type": "markdown",
   "metadata": {
    "id": "KnkzCAf9QGWo"
   },
   "source": [
    "### i. Creating the RFM Segmentation Table\n"
   ]
  },
  {
   "cell_type": "markdown",
   "metadata": {
    "id": "hLIB-z-_iqbC"
   },
   "source": [
    "1. Create two functions, one for Recency and one for Frequency and Monetary. For Recency, customers in the first quarter should be scored as 4, this represents the highest Recency value. Conversely, for Frequency and Monetary, customers in the last quarter should be scored as 4, representing the highest Frequency and Monetary values."
   ]
  },
  {
   "cell_type": "code",
   "execution_count": null,
   "metadata": {
    "id": "SXnW03R8iqbC"
   },
   "outputs": [],
   "source": []
  },
  {
   "cell_type": "markdown",
   "metadata": {
    "id": "tLDK_XeLiqbC"
   },
   "source": [
    "2. Score customers from 1 to 4 by applying the functions you have created. Also create separate score column for each value. "
   ]
  },
  {
   "cell_type": "code",
   "execution_count": null,
   "metadata": {
    "id": "plReZMcQiqbC"
   },
   "outputs": [],
   "source": []
  },
  {
   "cell_type": "markdown",
   "metadata": {
    "id": "JskteCFdQGWq"
   },
   "source": [
    "3. Now that scored each customer, you'll combine the scores for segmentation."
   ]
  },
  {
   "cell_type": "code",
   "execution_count": null,
   "metadata": {
    "id": "ZYfoHF6QiqbC"
   },
   "outputs": [],
   "source": []
  },
  {
   "cell_type": "markdown",
   "metadata": {
    "id": "uWwWeyjPiqbC"
   },
   "source": [
    "4. Define rfm_level function that tags customers by using RFM_Scrores and Create a new variable RFM_Level"
   ]
  },
  {
   "cell_type": "code",
   "execution_count": null,
   "metadata": {
    "id": "mxXk7jFPiqbD"
   },
   "outputs": [],
   "source": []
  },
  {
   "cell_type": "markdown",
   "metadata": {
    "id": "Lq36PiX3iqbD"
   },
   "source": [
    "5. Calculate average values for each RFM_Level, and return a size of each segment "
   ]
  },
  {
   "cell_type": "code",
   "execution_count": null,
   "metadata": {
    "id": "jn5r5P2WiqbD"
   },
   "outputs": [],
   "source": []
  },
  {
   "cell_type": "markdown",
   "metadata": {
    "id": "tuZ5Olo4iqbD"
   },
   "source": [
    "## Plot RFM Segments"
   ]
  },
  {
   "cell_type": "markdown",
   "metadata": {
    "id": "STfELckwiqbD"
   },
   "source": [
    "1. Create your plot and resize it."
   ]
  },
  {
   "cell_type": "code",
   "execution_count": null,
   "metadata": {
    "id": "Oef37q3diqbD"
   },
   "outputs": [],
   "source": []
  },
  {
   "cell_type": "markdown",
   "metadata": {
    "id": "FhOe2bb6QGWu"
   },
   "source": [
    "Using customer segmentation categories found [here](http://www.blastam.com/blog/rfm-analysis-boosts-sales) we can formulate different marketing strategies and approaches for customer engagement for each type of customer.\n",
    "\n",
    "Note: The author in the article scores 1 as the highest and 4 as the lowest"
   ]
  },
  {
   "cell_type": "markdown",
   "metadata": {
    "id": "Te_6gUR5iqbD"
   },
   "source": [
    "2. How many customers do we have in each segment?"
   ]
  },
  {
   "cell_type": "code",
   "execution_count": null,
   "metadata": {
    "id": "Gs4rP-0viqbD"
   },
   "outputs": [],
   "source": []
  },
  {
   "cell_type": "markdown",
   "metadata": {
    "id": "1RwemvLyQGWv"
   },
   "source": [
    "# 3. Applying K-Means Clustering"
   ]
  },
  {
   "cell_type": "markdown",
   "metadata": {
    "id": "h6WZ0PnZQGWv"
   },
   "source": [
    "Now that we have our customers segmented into 6 different categories, we can gain further insight into customer behavior by using predictive models in conjuction with out RFM model.\n",
    "Possible algorithms include **Logistic Regression**, **K-means Clustering**, and **K-nearest Neighbor**. We will go with [K-Means](https://towardsdatascience.com/understanding-k-means-clustering-in-machine-learning-6a6e67336aa1) since we already have our distinct groups determined. K-means has also been widely used for market segmentation and has the advantage of being simple to implement."
   ]
  },
  {
   "cell_type": "markdown",
   "metadata": {
    "id": "IrWIRLkMiqbE"
   },
   "source": [
    "## Data Pre-Processing and Exploring"
   ]
  },
  {
   "cell_type": "code",
   "execution_count": null,
   "metadata": {
    "id": "cLoRGR6NiqbE"
   },
   "outputs": [],
   "source": []
  },
  {
   "cell_type": "markdown",
   "metadata": {
    "id": "-6SGV0xoQGWw"
   },
   "source": [
    "### i. Define and Plot Feature Correlations"
   ]
  },
  {
   "cell_type": "markdown",
   "metadata": {
    "id": "JpMAiWNBiqbE"
   },
   "source": [
    "Create Heatmap and evaluate the results "
   ]
  },
  {
   "cell_type": "code",
   "execution_count": null,
   "metadata": {
    "id": "I6Cv8_EqiqbE"
   },
   "outputs": [],
   "source": []
  },
  {
   "cell_type": "markdown",
   "metadata": {
    "id": "8WhL5MBEQGWy"
   },
   "source": [
    "### ii. Visualize Feature Distributions\n",
    "\n",
    "To get a better understanding of the dataset, you can costruct a scatter matrix of each of the three features in the RFM data."
   ]
  },
  {
   "cell_type": "code",
   "execution_count": null,
   "metadata": {
    "id": "FHE0Vb0KiqbE"
   },
   "outputs": [],
   "source": []
  },
  {
   "cell_type": "markdown",
   "metadata": {
    "id": "Q2RsjzjbQGWz"
   },
   "source": [
    "### iii. Data Normalization"
   ]
  },
  {
   "cell_type": "markdown",
   "metadata": {
    "id": "hXsrPpegiqbF"
   },
   "source": [
    "1. You can use the logarithm method to normalize the values in a column."
   ]
  },
  {
   "cell_type": "code",
   "execution_count": null,
   "metadata": {
    "id": "b-cBU8jxiqbF"
   },
   "outputs": [],
   "source": []
  },
  {
   "cell_type": "markdown",
   "metadata": {
    "id": "fC6dHnqKiqbF"
   },
   "source": [
    "2. Plot normalized data with scatter matrix or pairplot. Also evaluate results."
   ]
  },
  {
   "cell_type": "code",
   "execution_count": null,
   "metadata": {
    "id": "iB9jDUPriqbF"
   },
   "outputs": [],
   "source": []
  },
  {
   "cell_type": "markdown",
   "metadata": {
    "id": "35c0aDixQGW4"
   },
   "source": [
    "## K-Means Implementation\n",
    "\n",
    "For k-means, you have to set k to the number of clusters you want, but figuring out how many clusters is not obvious from the beginning. We will try different cluster numbers and check their [silhouette coefficient](http://scikit-learn.org/stable/auto_examples/cluster/plot_kmeans_silhouette_analysis.html). The silhouette coefficient for a data point measures how similar it is to its assigned cluster from -1 (dissimilar) to 1 (similar). \n",
    "<br>\n",
    "<br>\n",
    "**Note**: K-means is sensitive to initializations because they are critical to qualifty of optima found. Thus, we will use smart initialization called \"Elbow Method\"."
   ]
  },
  {
   "cell_type": "markdown",
   "metadata": {
    "id": "JloMSEeriqbF"
   },
   "source": [
    "### i. Define the Optimal Number of Clusters"
   ]
  },
  {
   "cell_type": "markdown",
   "metadata": {
    "id": "McFq6IWZt5hg"
   },
   "source": [
    "[The Elbow Method](https://en.wikipedia.org/wiki/Elbow_method_(clustering) "
   ]
  },
  {
   "cell_type": "code",
   "execution_count": null,
   "metadata": {
    "id": "2202eo2riqbF"
   },
   "outputs": [],
   "source": []
  },
  {
   "cell_type": "markdown",
   "metadata": {
    "id": "ACT_d0UpwUSC"
   },
   "source": [
    "[Silhouette Coefficient](http://scikit-learn.org/stable/auto_examples/cluster/plot_kmeans_silhouette_analysis.html)"
   ]
  },
  {
   "cell_type": "code",
   "execution_count": null,
   "metadata": {
    "id": "qS4TLbRniqbG"
   },
   "outputs": [],
   "source": []
  },
  {
   "cell_type": "markdown",
   "metadata": {
    "id": "o6dW2MWZiqbG"
   },
   "source": [
    "### ii. Model Fitting"
   ]
  },
  {
   "cell_type": "markdown",
   "metadata": {
    "id": "cXM5ksoPiqbG"
   },
   "source": [
    "Fit the K-Means Algorithm with the optimal number of clusters you decided and save the model to disk."
   ]
  },
  {
   "cell_type": "code",
   "execution_count": null,
   "metadata": {
    "id": "geMuViLniqbG"
   },
   "outputs": [],
   "source": []
  },
  {
   "cell_type": "markdown",
   "metadata": {
    "id": "GqcSwNZTQGW7"
   },
   "source": [
    "### iii. Visualize the Clusters"
   ]
  },
  {
   "cell_type": "markdown",
   "metadata": {
    "id": "Cfx5kzPriqbG"
   },
   "source": [
    "1. Create a scatter plot and select cluster centers"
   ]
  },
  {
   "cell_type": "code",
   "execution_count": null,
   "metadata": {
    "id": "cyrovJB0iqbH"
   },
   "outputs": [],
   "source": []
  },
  {
   "cell_type": "markdown",
   "metadata": {
    "id": "D4sHOvlniqbH"
   },
   "source": [
    "2. Visualize Cluster Id vs Recency, Cluster Id vs Frequency and Cluster Id vs Monetary using Box plot. Also evaluate the results. "
   ]
  },
  {
   "cell_type": "code",
   "execution_count": null,
   "metadata": {
    "id": "lzPl-LXViqbH"
   },
   "outputs": [],
   "source": []
  },
  {
   "cell_type": "markdown",
   "metadata": {
    "id": "yRyku5qJiqbH"
   },
   "source": [
    "### iv. Assign the Label"
   ]
  },
  {
   "cell_type": "code",
   "execution_count": null,
   "metadata": {
    "id": "gVrkisf9iqbH"
   },
   "outputs": [],
   "source": []
  },
  {
   "cell_type": "markdown",
   "metadata": {
    "id": "_DiG6sxS4gWH"
   },
   "source": [
    "**Conclusion**\n",
    "\n",
    "- Cluster 0 : The first cluster belongs to the \"Best Customers\" segment which we saw earlier as they purchase recently (R=4), frequent buyers (F=4), and spent the most (M=4)\n",
    "\n",
    "- Cluster 1 : Second cluster can be interpreted as passer customers as their last purchase is long ago (R<=1),purchased very few (F>=2 & F < 4) and spent little (M>=4 & M < 4).Company has to come up with new strategies to make them permanent members. Low value customers\n",
    "- Cluster 2 : The third cluster is more related to the \"Almost Lost\" segment as they Haven’t purchased for some time(R=1), but used to purchase frequently and spent a lot."
   ]
  },
  {
   "cell_type": "markdown",
   "metadata": {
    "id": "lf4OsPmSQGXA"
   },
   "source": [
    "### v. Conclusion\n",
    "\n",
    "Discuss your final results. Compare your own labels from the Customer Segmentation with the labels found by K-Means."
   ]
  },
  {
   "cell_type": "markdown",
   "metadata": {
    "id": "UFaHgoLoQGXA"
   },
   "source": [
    "How we want to continue this analysis depends on how the business plans to use the results and the level of granularity the business stakeholders want to see in the clusters. We can also ask what range of customer behavior from high to low value customers are the stakeholders interested in exploring. From those answers, various methods of clustering can be used and applied on RFM variable or directly on the transaction data set."
   ]
  },
  {
   "cell_type": "markdown",
   "metadata": {
    "id": "ysCkU1B-iqbI"
   },
   "source": [
    "**Annotation:**\n",
    "\n",
    "Limitations of K-means clustering:\n",
    "\n",
    "1. There is no assurance that it will lead to the global best solution.\n",
    "2. Can't deal with different shapes(not circular) and consider one point's probability of belonging to more than one cluster.\n",
    "\n",
    "These disadvantages of K-means show that for many datasets (especially low-dimensional datasets), it may not perform as well as you might hope."
   ]
  },
  {
   "cell_type": "markdown",
   "metadata": {
    "id": "xiPd_IbnQGVn"
   },
   "source": [
    "# 5. Create Cohort & Conduct Cohort Analysis\n",
    "[Cohort Analysis](https://medium.com/swlh/cohort-analysis-using-python-and-pandas-d2a60f4d0a4d) is specifically useful in analyzing user growth patterns for products. In terms of a product, a cohort can be a group of people with the same sign-up date, the same usage starts month/date, or the same traffic source.\n",
    "Cohort analysis is an analytics method by which these groups can be tracked over time for finding key insights. This analysis can further be used to do customer segmentation and track metrics like retention, churn, and lifetime value.\n",
    "\n",
    "For e-commerce organizations, cohort analysis is a unique opportunity to find out which clients are the most valuable to their business. by performing Cohort analysis you can get the following answers to the following questions:\n",
    "\n",
    "- How much effective was a marketing campaign held in a particular time period?\n",
    "- Did the strategy employ to improve the conversion rates of Customers worked?\n",
    "- Should I focus more on retention rather than acquiring new customers?\n",
    "- Are my customer nurturing strategies effective?\n",
    "- Which marketing channels bring me the best results?\n",
    "- Is there a seasonality pattern in Customer behavior?\n",
    "- Along with various performance measures/metrics for your organization."
   ]
  },
  {
   "cell_type": "markdown",
   "metadata": {
    "id": "xhiYivPrQGVo"
   },
   "source": [
    "Since we will be performing Cohort Analysis based on transaction records of customers, the columns we will be dealing with mainly:\n",
    "- Invoice Data\n",
    "- CustomerID\n",
    "- Price\n",
    "- Quantity\n",
    "\n",
    "The following steps will performed to generate the Cohort Chart of Retention Rate:\n",
    "- Month Extraction from InvioceDate column\n",
    "- Assigning Cohort to Each Transaction\n",
    "- Assigning Cohort Index to each transaction\n",
    "- Calculating number of unique customers in each Group of (ChortDate,Index)\n",
    "- Creating Cohort Table for Retention Rate\n",
    "- Creating the Cohort Chart using the Cohort Table\n",
    "\n",
    "The Detailed information about each step is given below:"
   ]
  },
  {
   "cell_type": "markdown",
   "metadata": {
    "id": "eo0GB_osiqbI"
   },
   "source": [
    "## Future Engineering"
   ]
  },
  {
   "cell_type": "markdown",
   "metadata": {
    "id": "JVwPNjpyQGVo"
   },
   "source": [
    "### i. Extract the Month of the Purchase\n",
    "First we will create a function, which takes any date and returns the formatted date with day value as 1st of the same month and Year."
   ]
  },
  {
   "cell_type": "code",
   "execution_count": null,
   "metadata": {
    "id": "lK1CqlNQiqbI"
   },
   "outputs": [],
   "source": []
  },
  {
   "cell_type": "markdown",
   "metadata": {
    "id": "NQKsM_9IQGVq"
   },
   "source": [
    "Now we will use the function created above to convert all the invoice dates into respective month date format."
   ]
  },
  {
   "cell_type": "code",
   "execution_count": null,
   "metadata": {
    "id": "DL17u0dniqbJ"
   },
   "outputs": [],
   "source": []
  },
  {
   "cell_type": "markdown",
   "metadata": {
    "id": "XPE7kTz2QGVs"
   },
   "source": [
    "### ii. Calculating time offset in Months i.e. Cohort Index:\n",
    "Calculating time offset for each transaction will allows us to report the metrics for each cohort in a comparable fashion.\n",
    "First, you will create 4 variables that capture the integer value of years, months for Invoice and Cohort Date using the get_date_int() function which you'll create it below."
   ]
  },
  {
   "cell_type": "code",
   "execution_count": null,
   "metadata": {
    "id": "1_3aYf4FiqbJ"
   },
   "outputs": [],
   "source": []
  },
  {
   "cell_type": "markdown",
   "metadata": {
    "id": "SGm1eweDQGVu"
   },
   "source": [
    "You will use this function to extract the integer values for Invoice as well as Cohort Date in 3 seperate series for each of the two columns"
   ]
  },
  {
   "cell_type": "code",
   "execution_count": null,
   "metadata": {
    "id": "2wF_ViD_iqbJ"
   },
   "outputs": [],
   "source": []
  },
  {
   "cell_type": "markdown",
   "metadata": {
    "id": "Z9jYVljviqbJ"
   },
   "source": [
    "Use the variables created above to calcualte the difference in days and store them in cohort Index column."
   ]
  },
  {
   "cell_type": "code",
   "execution_count": null,
   "metadata": {
    "id": "wVlAYCbEiqbJ"
   },
   "outputs": [],
   "source": []
  },
  {
   "cell_type": "markdown",
   "metadata": {
    "id": "W-t76CXSQGVw"
   },
   "source": [
    "## Create 1st Cohort: User number & Retention Rate"
   ]
  },
  {
   "cell_type": "markdown",
   "metadata": {
    "id": "bKvUWci9iqbJ"
   },
   "source": [
    "### i. Pivot Cohort and Cohort Retention"
   ]
  },
  {
   "cell_type": "code",
   "execution_count": null,
   "metadata": {
    "id": "U-8HzlZWiqbK"
   },
   "outputs": [],
   "source": []
  },
  {
   "cell_type": "markdown",
   "metadata": {
    "id": "63TIyBY6iqbK"
   },
   "source": [
    "### ii. Visualize analysis of cohort 1 using seaborn and matplotlib modules"
   ]
  },
  {
   "cell_type": "code",
   "execution_count": null,
   "metadata": {
    "id": "SY7mPvCAiqbK"
   },
   "outputs": [],
   "source": []
  },
  {
   "cell_type": "markdown",
   "metadata": {
    "id": "yORYolvqQGV0"
   },
   "source": [
    "## Create the 2nd Cohort: Average Quantity Sold"
   ]
  },
  {
   "cell_type": "markdown",
   "metadata": {
    "id": "Tu1hM3CFiqbK"
   },
   "source": [
    "### i. Pivot Cohort and Cohort Retention"
   ]
  },
  {
   "cell_type": "code",
   "execution_count": null,
   "metadata": {
    "id": "yQ8jlhPEiqbK"
   },
   "outputs": [],
   "source": []
  },
  {
   "cell_type": "markdown",
   "metadata": {
    "id": "F3PJHMS6iqbK"
   },
   "source": [
    "### ii. Visualize analysis of cohort 2 using seaborn and matplotlib modules"
   ]
  },
  {
   "cell_type": "code",
   "execution_count": null,
   "metadata": {
    "id": "9vuHi3wPiqbK"
   },
   "outputs": [],
   "source": []
  },
  {
   "cell_type": "markdown",
   "metadata": {
    "id": "UUoG5yUIQGV3"
   },
   "source": [
    "## Create the 3rd Cohort: Average Sales\n"
   ]
  },
  {
   "cell_type": "markdown",
   "metadata": {
    "id": "EKNS-mO5iqbL"
   },
   "source": [
    "### i. Pivot Cohort and Cohort Retention"
   ]
  },
  {
   "cell_type": "code",
   "execution_count": null,
   "metadata": {
    "id": "t2s-zyWeiqbL"
   },
   "outputs": [],
   "source": []
  },
  {
   "cell_type": "markdown",
   "metadata": {
    "id": "tRGOpeUPiqbL"
   },
   "source": [
    "### ii. Visualize analysis of cohort 3 using seaborn and matplotlib modules"
   ]
  },
  {
   "cell_type": "code",
   "execution_count": null,
   "metadata": {
    "id": "EYkkDncXiqbL"
   },
   "outputs": [],
   "source": []
  },
  {
   "cell_type": "markdown",
   "metadata": {
    "id": "uD9lu1ExQGV5"
   },
   "source": [
    "For e-commerce organisations, cohort analysis is a unique opportunity to find out which clients are the most valuable to their business. by performing Cohort analysis you can get answers to following questions:\n",
    "\n",
    "- How much effective was a marketing campaign held in a particular time period?\n",
    "- Did the strategy employed to improve the conversion rates of Customers worked?\n",
    "- Should I focus more on retention rather than acquiring new customers?\n",
    "- Are my customer nurturing strategies effective?\n",
    "- Which marketing channels bring me the best results?\n",
    "- Is there a seasoanlity pattern in Customer behahiour?"
   ]
  },
  {
   "cell_type": "markdown",
   "metadata": {
    "id": "ZX_Y6S36iqbL"
   },
   "source": [
    "___\n",
    "\n",
    "<p style=\"text-align: center;\"><img src=\"https://docs.google.com/uc?id=1lY0Uj5R04yMY3-ZppPWxqCr5pvBLYPnV\" class=\"img-fluid\" alt=\"CLRSWY\"></p>\n",
    "\n",
    "___"
   ]
  }
 ],
 "metadata": {
  "colab": {
   "collapsed_sections": [
    "lf4OsPmSQGXA"
   ],
   "name": "RFM - Customer Segmentation_Student_V3.ipynb",
   "provenance": [],
   "toc_visible": true
  },
  "kernelspec": {
   "display_name": "Python 3 (ipykernel)",
   "language": "python",
   "name": "python3"
  },
  "language_info": {
   "codemirror_mode": {
    "name": "ipython",
    "version": 3
   },
   "file_extension": ".py",
   "mimetype": "text/x-python",
   "name": "python",
   "nbconvert_exporter": "python",
   "pygments_lexer": "ipython3",
   "version": "3.8.12"
  }
 },
 "nbformat": 4,
 "nbformat_minor": 1
}
