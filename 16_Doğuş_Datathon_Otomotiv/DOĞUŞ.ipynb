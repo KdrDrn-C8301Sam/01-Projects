{
 "cells": [
  {
   "cell_type": "code",
   "execution_count": 1,
   "id": "f52e872c",
   "metadata": {},
   "outputs": [
    {
     "data": {
      "text/html": [
       "        <script type=\"text/javascript\">\n",
       "        window.PlotlyConfig = {MathJaxConfig: 'local'};\n",
       "        if (window.MathJax) {MathJax.Hub.Config({SVG: {font: \"STIX-Web\"}});}\n",
       "        if (typeof require !== 'undefined') {\n",
       "        require.undef(\"plotly\");\n",
       "        requirejs.config({\n",
       "            paths: {\n",
       "                'plotly': ['https://cdn.plot.ly/plotly-2.2.0.min']\n",
       "            }\n",
       "        });\n",
       "        require(['plotly'], function(Plotly) {\n",
       "            window._Plotly = Plotly;\n",
       "        });\n",
       "        }\n",
       "        </script>\n",
       "        "
      ]
     },
     "metadata": {},
     "output_type": "display_data"
    }
   ],
   "source": [
    "#!pip install pyforest\n",
    "\n",
    "# 1-Import Libraies\n",
    "import numpy as np\n",
    "import pandas as pd \n",
    "import seaborn as sns\n",
    "import matplotlib.pyplot as plt\n",
    "import scipy.stats as stats\n",
    "%matplotlib inline\n",
    "import statsmodels.api as sm\n",
    "import statsmodels.formula.api as smf\n",
    "import missingno as msno \n",
    "\n",
    "from sklearn.compose import make_column_transformer\n",
    "\n",
    "#Scaling\n",
    "from sklearn.preprocessing import scale \n",
    "from sklearn.preprocessing import StandardScaler\n",
    "from sklearn.preprocessing import PolynomialFeatures \n",
    "from sklearn.preprocessing import OneHotEncoder\n",
    "from sklearn.preprocessing import PowerTransformer \n",
    "from sklearn.preprocessing import MinMaxScaler\n",
    "from sklearn.preprocessing import RobustScaler\n",
    "\n",
    "\n",
    "#Importing plotly and cufflinks in offline mode\n",
    "import cufflinks as cf\n",
    "import plotly.offline\n",
    "cf.go_offline()\n",
    "cf.set_config_file(offline=False, world_readable=True)\n",
    "\n",
    "#Ignore Warnings\n",
    "import warnings\n",
    "warnings.filterwarnings(\"ignore\")\n",
    "warnings.warn(\"this will not show\")\n",
    "\n",
    "#Figure&Display options\n",
    "plt.rcParams[\"figure.figsize\"] = (10,6)\n",
    "pd.set_option('max_colwidth',200)\n",
    "pd.set_option('display.max_rows', 1000)\n",
    "pd.set_option('display.max_columns', 200)\n",
    "pd.set_option('display.float_format', lambda x: '%.3f' % x)\n",
    "\n",
    "#!pip install termcolor\n",
    "import colorama\n",
    "from colorama import Fore, Style  # maakes strings colored\n",
    "from termcolor import colored"
   ]
  },
  {
   "cell_type": "code",
   "execution_count": 2,
   "id": "2c328472",
   "metadata": {},
   "outputs": [],
   "source": [
    "## Useful Functions\n",
    "\n",
    "###############################################################################\n",
    "\n",
    "def missing(df):\n",
    "    missing_number = df.isnull().sum().sort_values(ascending=False)\n",
    "    missing_percent = (df.isnull().sum()/df.isnull().count()).sort_values(ascending=False)\n",
    "    missing_values = pd.concat([missing_number, missing_percent], axis=1, keys=['Missing_Number', 'Missing_Percent'])\n",
    "    return missing_values\n",
    "\n",
    "def missing_values(df):\n",
    "    return missing(df)[missing(df)['Missing_Number']>0]\n",
    "\n",
    "###############################################################################\n",
    "\n",
    "def first_looking(df):\n",
    "    print(colored(\"Shape:\", attrs=['bold']), df.shape,'\\n',\n",
    "          f\"There is \", df.shape[0], \" observation and \", df.shape[1], \" columns in the dataset.\", '\\n',\n",
    "          colored('-'*79, 'red', attrs=['bold']),\n",
    "          colored(\"\\nInfo:\\n\", attrs=['bold']), sep='')\n",
    "    print(df.info(), '\\n', \n",
    "          colored('-'*79, 'red', attrs=['bold']), sep='')\n",
    "    print(colored(\"Number of Uniques:\\n\", attrs=['bold']), df.nunique(),'\\n',\n",
    "          colored('-'*79, 'red', attrs=['bold']), sep='')\n",
    "    print(colored(\"Missing Values:\\n\", attrs=['bold']), missing_values(df),'\\n', \n",
    "          colored('-'*79, 'red', attrs=['bold']), sep='')\n",
    "    print(colored(\"All Columns:\", attrs=['bold']), list(df.columns),'\\n', \n",
    "          colored('-'*79, 'red', attrs=['bold']), sep='')\n",
    "\n",
    "    df.columns= df.columns.str.lower().str.replace('&', '_').str.replace(' ', '_')\n",
    "\n",
    "    print(colored(\"Columns after rename:\", attrs=['bold']), list(df.columns),'\\n',\n",
    "              colored('-'*79, 'red', attrs=['bold']), sep='')\n",
    "\n",
    "def duplicate_values(df):\n",
    "    duplicate_values = df.duplicated(subset=None, keep='first').sum()\n",
    "    if duplicate_values > 0:\n",
    "        df.drop_duplicates(keep='first', inplace=True)\n",
    "        print(duplicate_values, colored(\"duplicates were dropped\", attrs=['bold']),'\\n',\n",
    "              colored('-'*79, 'red', attrs=['bold']), sep='')\n",
    "    else:\n",
    "        print(colored(\"No duplicates\", attrs=['bold']),'\\n',\n",
    "              colored('-'*79, 'red', attrs=['bold']), sep='')\n",
    "        \n",
    "def drop_columns(df, drop_columns):\n",
    "    if drop_columns !=[]:\n",
    "        df.drop(drop_columns, axis=1, inplace=True)\n",
    "        print(drop_columns, 'were dropped')\n",
    "    else:\n",
    "        print(colored('We will now check the missing values and if necessary drop some columns!!!', attrs=['bold']),'\\n',\n",
    "              colored('-'*79, 'red', attrs=['bold']), sep='')\n",
    "        \n",
    "def drop_null(df, limit):\n",
    "    print('Shape:', df.shape)\n",
    "    for i in df.isnull().sum().index:\n",
    "        if (df.isnull().sum()[i]/df.shape[0]*100)>limit:\n",
    "            print(df.isnull().sum()[i], 'percent of', i ,'null and were dropped')\n",
    "            df.drop(i, axis=1, inplace=True)\n",
    "            print('new shape:', df.shape)\n",
    "        else:\n",
    "            print(df.isnull().sum()[i], '%, percentage of missing values of', i ,'less than limit', limit, '%, so we will keep it.')\n",
    "    print('New shape after missing value control:', df.shape)\n",
    "\n",
    "###############################################################################"
   ]
  },
  {
   "cell_type": "code",
   "execution_count": 3,
   "id": "6c703048",
   "metadata": {},
   "outputs": [
    {
     "name": "stdout",
     "output_type": "stream",
     "text": [
      "\u001b[1mShape:\u001b[0m(849919, 10)\n",
      "There is 849919 observation and 10 columns in the dataset.\n",
      "\u001b[1m\u001b[31m-------------------------------------------------------------------------------\u001b[0m\u001b[1m\n",
      "Info:\n",
      "\u001b[0m\n",
      "<class 'pandas.core.frame.DataFrame'>\n",
      "RangeIndex: 849919 entries, 0 to 849918\n",
      "Data columns (total 10 columns):\n",
      " #   Column                         Non-Null Count   Dtype  \n",
      "---  ------                         --------------   -----  \n",
      " 0   Unnamed: 0                     849919 non-null  int64  \n",
      " 1   BASE_CUSTOMER_ID               849919 non-null  int64  \n",
      " 2   CUSTOMER_ID                    849919 non-null  int64  \n",
      " 3   GENDER                         849916 non-null  object \n",
      " 4   GENDER_ID                      849919 non-null  int64  \n",
      " 5   MARITAL_STATUS                 620802 non-null  object \n",
      " 6   MARITAL_STATUS_ID              849919 non-null  int64  \n",
      " 7   BIRTH_DATE                     645447 non-null  float64\n",
      " 8   FK_ADDRESS_COMMUNICATION_CITY  730341 non-null  object \n",
      " 9   OCCUPATION                     381052 non-null  object \n",
      "dtypes: float64(1), int64(5), object(4)\n",
      "memory usage: 64.8+ MB\n",
      "None\n",
      "\u001b[1m\u001b[31m-------------------------------------------------------------------------------\u001b[0m\n",
      "\u001b[1mNumber of Uniques:\n",
      "\u001b[0mUnnamed: 0                       849919\n",
      "BASE_CUSTOMER_ID                 196564\n",
      "CUSTOMER_ID                      849919\n",
      "GENDER                                2\n",
      "GENDER_ID                             3\n",
      "MARITAL_STATUS                        2\n",
      "MARITAL_STATUS_ID                     3\n",
      "BIRTH_DATE                          107\n",
      "FK_ADDRESS_COMMUNICATION_CITY       142\n",
      "OCCUPATION                           63\n",
      "dtype: int64\n",
      "\u001b[1m\u001b[31m-------------------------------------------------------------------------------\u001b[0m\n",
      "\u001b[1mMissing Values:\n",
      "\u001b[0m                               Missing_Number  Missing_Percent\n",
      "OCCUPATION                             468867            0.552\n",
      "MARITAL_STATUS                         229117            0.270\n",
      "BIRTH_DATE                             204472            0.241\n",
      "FK_ADDRESS_COMMUNICATION_CITY          119578            0.141\n",
      "GENDER                                      3            0.000\n",
      "\u001b[1m\u001b[31m-------------------------------------------------------------------------------\u001b[0m\n",
      "\u001b[1mAll Columns:\u001b[0m['Unnamed: 0', 'BASE_CUSTOMER_ID', 'CUSTOMER_ID', 'GENDER', 'GENDER_ID', 'MARITAL_STATUS', 'MARITAL_STATUS_ID', 'BIRTH_DATE', 'FK_ADDRESS_COMMUNICATION_CITY', 'OCCUPATION']\n",
      "\u001b[1m\u001b[31m-------------------------------------------------------------------------------\u001b[0m\n",
      "\u001b[1mColumns after rename:\u001b[0m['unnamed:_0', 'base_customer_id', 'customer_id', 'gender', 'gender_id', 'marital_status', 'marital_status_id', 'birth_date', 'fk_address_communication_city', 'occupation']\n",
      "\u001b[1m\u001b[31m-------------------------------------------------------------------------------\u001b[0m\n",
      "\u001b[1mNo duplicates\u001b[0m\n",
      "\u001b[1m\u001b[31m-------------------------------------------------------------------------------\u001b[0m\n",
      "['unnamed:_0', 'gender_id', 'marital_status_id'] were dropped\n",
      "Shape: (849919, 7)\n",
      "0 %, percentage of missing values of base_customer_id less than limit 90 %, so we will keep it.\n",
      "0 %, percentage of missing values of customer_id less than limit 90 %, so we will keep it.\n",
      "3 %, percentage of missing values of gender less than limit 90 %, so we will keep it.\n",
      "229117 %, percentage of missing values of marital_status less than limit 90 %, so we will keep it.\n",
      "204472 %, percentage of missing values of birth_date less than limit 90 %, so we will keep it.\n",
      "119578 %, percentage of missing values of fk_address_communication_city less than limit 90 %, so we will keep it.\n",
      "468867 %, percentage of missing values of occupation less than limit 90 %, so we will keep it.\n",
      "New shape after missing value control: (849919, 7)\n"
     ]
    }
   ],
   "source": [
    "# 1-Load|Read Data\n",
    "dataset_path = \"D_FINAL_CUSTOMER_DATATHON.csv\"\n",
    "df1 = pd.read_csv(dataset_path)\n",
    "first_looking(df1)\n",
    "duplicate_values(df1)\n",
    "drop_columns(df1,['unnamed:_0', 'gender_id', \"marital_status_id\"])\n",
    "drop_null(df1, 90)"
   ]
  },
  {
   "cell_type": "code",
   "execution_count": 4,
   "id": "4fed1b8b",
   "metadata": {},
   "outputs": [
    {
     "name": "stdout",
     "output_type": "stream",
     "text": [
      "\u001b[1mShape:\u001b[0m(374879, 7)\n",
      "There is 374879 observation and 7 columns in the dataset.\n",
      "\u001b[1m\u001b[31m-------------------------------------------------------------------------------\u001b[0m\u001b[1m\n",
      "Info:\n",
      "\u001b[0m\n",
      "<class 'pandas.core.frame.DataFrame'>\n",
      "RangeIndex: 374879 entries, 0 to 374878\n",
      "Data columns (total 7 columns):\n",
      " #   Column                          Non-Null Count   Dtype \n",
      "---  ------                          --------------   ----- \n",
      " 0   Unnamed: 0                      374879 non-null  int64 \n",
      " 1   BASE_CUSTOMER_ID                374879 non-null  int64 \n",
      " 2   VEHICLE_ID                      374879 non-null  int64 \n",
      " 3   START_DATE                      374879 non-null  object\n",
      " 4   END_DATE                        159757 non-null  object\n",
      " 5   FK_RELATION_STATUS_ID           374879 non-null  int64 \n",
      " 6   FK_RELATION_STATUS_EXPLANATION  374879 non-null  object\n",
      "dtypes: int64(4), object(3)\n",
      "memory usage: 20.0+ MB\n",
      "None\n",
      "\u001b[1m\u001b[31m-------------------------------------------------------------------------------\u001b[0m\n",
      "\u001b[1mNumber of Uniques:\n",
      "\u001b[0mUnnamed: 0                        374879\n",
      "BASE_CUSTOMER_ID                  196538\n",
      "VEHICLE_ID                        345092\n",
      "START_DATE                          8132\n",
      "END_DATE                            6164\n",
      "FK_RELATION_STATUS_ID                  2\n",
      "FK_RELATION_STATUS_EXPLANATION         2\n",
      "dtype: int64\n",
      "\u001b[1m\u001b[31m-------------------------------------------------------------------------------\u001b[0m\n",
      "\u001b[1mMissing Values:\n",
      "\u001b[0m          Missing_Number  Missing_Percent\n",
      "END_DATE          215122            0.574\n",
      "\u001b[1m\u001b[31m-------------------------------------------------------------------------------\u001b[0m\n",
      "\u001b[1mAll Columns:\u001b[0m['Unnamed: 0', 'BASE_CUSTOMER_ID', 'VEHICLE_ID', 'START_DATE', 'END_DATE', 'FK_RELATION_STATUS_ID', 'FK_RELATION_STATUS_EXPLANATION']\n",
      "\u001b[1m\u001b[31m-------------------------------------------------------------------------------\u001b[0m\n",
      "\u001b[1mColumns after rename:\u001b[0m['unnamed:_0', 'base_customer_id', 'vehicle_id', 'start_date', 'end_date', 'fk_relation_status_id', 'fk_relation_status_explanation']\n",
      "\u001b[1m\u001b[31m-------------------------------------------------------------------------------\u001b[0m\n",
      "\u001b[1mNo duplicates\u001b[0m\n",
      "\u001b[1m\u001b[31m-------------------------------------------------------------------------------\u001b[0m\n",
      "['unnamed:_0'] were dropped\n",
      "Shape: (374879, 6)\n",
      "0 %, percentage of missing values of base_customer_id less than limit 90 %, so we will keep it.\n",
      "0 %, percentage of missing values of vehicle_id less than limit 90 %, so we will keep it.\n",
      "0 %, percentage of missing values of start_date less than limit 90 %, so we will keep it.\n",
      "215122 %, percentage of missing values of end_date less than limit 90 %, so we will keep it.\n",
      "0 %, percentage of missing values of fk_relation_status_id less than limit 90 %, so we will keep it.\n",
      "0 %, percentage of missing values of fk_relation_status_explanation less than limit 90 %, so we will keep it.\n",
      "New shape after missing value control: (374879, 6)\n"
     ]
    }
   ],
   "source": [
    "# 2-Load|Read Data\n",
    "dataset_path = \"D_FINAL_CUSTOMER_RELATED_TABLE_FOR_DATATHON.csv\"\n",
    "df2 = pd.read_csv(dataset_path)\n",
    "first_looking(df2)\n",
    "duplicate_values(df2)\n",
    "drop_columns(df2,['unnamed:_0'])\n",
    "drop_null(df2, 90)"
   ]
  },
  {
   "cell_type": "code",
   "execution_count": null,
   "id": "f875c540",
   "metadata": {},
   "outputs": [],
   "source": []
  },
  {
   "cell_type": "code",
   "execution_count": 5,
   "id": "5222040c",
   "metadata": {},
   "outputs": [
    {
     "name": "stdout",
     "output_type": "stream",
     "text": [
      "\u001b[1mShape:\u001b[0m(397526, 7)\n",
      "There is 397526 observation and 7 columns in the dataset.\n",
      "\u001b[1m\u001b[31m-------------------------------------------------------------------------------\u001b[0m\u001b[1m\n",
      "Info:\n",
      "\u001b[0m\n",
      "<class 'pandas.core.frame.DataFrame'>\n",
      "RangeIndex: 397526 entries, 0 to 397525\n",
      "Data columns (total 7 columns):\n",
      " #   Column             Non-Null Count   Dtype  \n",
      "---  ------             --------------   -----  \n",
      " 0   Unnamed: 0         397526 non-null  int64  \n",
      " 1   CUSTOMER_ID        397526 non-null  int64  \n",
      " 2   SALESFILE_ID       397526 non-null  float64\n",
      " 3   SF_CREATE_DATE     397526 non-null  object \n",
      " 4   STATUS             397526 non-null  int64  \n",
      " 5   REQ_BRAND_CODE     397526 non-null  object \n",
      " 6   REQ_TOPMODEL_CODE  397237 non-null  float64\n",
      "dtypes: float64(2), int64(3), object(2)\n",
      "memory usage: 21.2+ MB\n",
      "None\n",
      "\u001b[1m\u001b[31m-------------------------------------------------------------------------------\u001b[0m\n",
      "\u001b[1mNumber of Uniques:\n",
      "\u001b[0mUnnamed: 0           397526\n",
      "CUSTOMER_ID          183523\n",
      "SALESFILE_ID         396278\n",
      "SF_CREATE_DATE       395534\n",
      "STATUS                    6\n",
      "REQ_BRAND_CODE            5\n",
      "REQ_TOPMODEL_CODE       277\n",
      "dtype: int64\n",
      "\u001b[1m\u001b[31m-------------------------------------------------------------------------------\u001b[0m\n",
      "\u001b[1mMissing Values:\n",
      "\u001b[0m                   Missing_Number  Missing_Percent\n",
      "REQ_TOPMODEL_CODE             289            0.001\n",
      "\u001b[1m\u001b[31m-------------------------------------------------------------------------------\u001b[0m\n",
      "\u001b[1mAll Columns:\u001b[0m['Unnamed: 0', 'CUSTOMER_ID', 'SALESFILE_ID', 'SF_CREATE_DATE', 'STATUS', 'REQ_BRAND_CODE', 'REQ_TOPMODEL_CODE']\n",
      "\u001b[1m\u001b[31m-------------------------------------------------------------------------------\u001b[0m\n",
      "\u001b[1mColumns after rename:\u001b[0m['unnamed:_0', 'customer_id', 'salesfile_id', 'sf_create_date', 'status', 'req_brand_code', 'req_topmodel_code']\n",
      "\u001b[1m\u001b[31m-------------------------------------------------------------------------------\u001b[0m\n",
      "\u001b[1mNo duplicates\u001b[0m\n",
      "\u001b[1m\u001b[31m-------------------------------------------------------------------------------\u001b[0m\n",
      "['unnamed:_0'] were dropped\n",
      "Shape: (397526, 6)\n",
      "0 %, percentage of missing values of customer_id less than limit 90 %, so we will keep it.\n",
      "0 %, percentage of missing values of salesfile_id less than limit 90 %, so we will keep it.\n",
      "0 %, percentage of missing values of sf_create_date less than limit 90 %, so we will keep it.\n",
      "0 %, percentage of missing values of status less than limit 90 %, so we will keep it.\n",
      "0 %, percentage of missing values of req_brand_code less than limit 90 %, so we will keep it.\n",
      "289 %, percentage of missing values of req_topmodel_code less than limit 90 %, so we will keep it.\n",
      "New shape after missing value control: (397526, 6)\n"
     ]
    }
   ],
   "source": [
    "# 3-Load|Read Data\n",
    "dataset_path = \"D_FINAL_SALES_FILE_DATATHON.csv\"\n",
    "df3 = pd.read_csv(dataset_path)\n",
    "first_looking(df3)\n",
    "duplicate_values(df3)\n",
    "drop_columns(df3,['unnamed:_0'])\n",
    "drop_null(df3, 90)"
   ]
  },
  {
   "cell_type": "code",
   "execution_count": null,
   "id": "9bcb9d97",
   "metadata": {},
   "outputs": [],
   "source": []
  },
  {
   "cell_type": "code",
   "execution_count": 6,
   "id": "e29c6741",
   "metadata": {},
   "outputs": [
    {
     "name": "stdout",
     "output_type": "stream",
     "text": [
      "\u001b[1mShape:\u001b[0m(169525, 4)\n",
      "There is 169525 observation and 4 columns in the dataset.\n",
      "\u001b[1m\u001b[31m-------------------------------------------------------------------------------\u001b[0m\u001b[1m\n",
      "Info:\n",
      "\u001b[0m\n",
      "<class 'pandas.core.frame.DataFrame'>\n",
      "RangeIndex: 169525 entries, 0 to 169524\n",
      "Data columns (total 4 columns):\n",
      " #   Column       Non-Null Count   Dtype \n",
      "---  ------       --------------   ----- \n",
      " 0   Unnamed: 0   169525 non-null  int64 \n",
      " 1   VEHICLE_ID   169525 non-null  int64 \n",
      " 2   CUSTOMER_ID  169525 non-null  int64 \n",
      " 3   CREATE_DATE  169525 non-null  object\n",
      "dtypes: int64(3), object(1)\n",
      "memory usage: 5.2+ MB\n",
      "None\n",
      "\u001b[1m\u001b[31m-------------------------------------------------------------------------------\u001b[0m\n",
      "\u001b[1mNumber of Uniques:\n",
      "\u001b[0mUnnamed: 0     169525\n",
      "VEHICLE_ID     169521\n",
      "CUSTOMER_ID    138432\n",
      "CREATE_DATE    151242\n",
      "dtype: int64\n",
      "\u001b[1m\u001b[31m-------------------------------------------------------------------------------\u001b[0m\n",
      "\u001b[1mMissing Values:\n",
      "\u001b[0mEmpty DataFrame\n",
      "Columns: [Missing_Number, Missing_Percent]\n",
      "Index: []\n",
      "\u001b[1m\u001b[31m-------------------------------------------------------------------------------\u001b[0m\n",
      "\u001b[1mAll Columns:\u001b[0m['Unnamed: 0', 'VEHICLE_ID', 'CUSTOMER_ID', 'CREATE_DATE']\n",
      "\u001b[1m\u001b[31m-------------------------------------------------------------------------------\u001b[0m\n",
      "\u001b[1mColumns after rename:\u001b[0m['unnamed:_0', 'vehicle_id', 'customer_id', 'create_date']\n",
      "\u001b[1m\u001b[31m-------------------------------------------------------------------------------\u001b[0m\n",
      "\u001b[1mNo duplicates\u001b[0m\n",
      "\u001b[1m\u001b[31m-------------------------------------------------------------------------------\u001b[0m\n",
      "['unnamed:_0'] were dropped\n",
      "Shape: (169525, 3)\n",
      "0 %, percentage of missing values of vehicle_id less than limit 90 %, so we will keep it.\n",
      "0 %, percentage of missing values of customer_id less than limit 90 %, so we will keep it.\n",
      "0 %, percentage of missing values of create_date less than limit 90 %, so we will keep it.\n",
      "New shape after missing value control: (169525, 3)\n"
     ]
    }
   ],
   "source": [
    "# 4-Load|Read Data\n",
    "dataset_path = \"D_FINAL_SIFIR_ARAC_ALANLAR_DATATHON.csv\"\n",
    "df4 = pd.read_csv(dataset_path)\n",
    "first_looking(df4)\n",
    "duplicate_values(df4)\n",
    "drop_columns(df4,['unnamed:_0'])\n",
    "drop_null(df4, 90)"
   ]
  },
  {
   "cell_type": "code",
   "execution_count": 7,
   "id": "e0f176af",
   "metadata": {},
   "outputs": [],
   "source": [
    "df4.rename({\"create_date\":\"sıfır_create_date\"}, axis=1, inplace=True)"
   ]
  },
  {
   "cell_type": "code",
   "execution_count": null,
   "id": "8eea7063",
   "metadata": {},
   "outputs": [],
   "source": []
  },
  {
   "cell_type": "code",
   "execution_count": 8,
   "id": "e1e26950",
   "metadata": {},
   "outputs": [
    {
     "name": "stdout",
     "output_type": "stream",
     "text": [
      "\u001b[1mShape:\u001b[0m(345092, 8)\n",
      "There is 345092 observation and 8 columns in the dataset.\n",
      "\u001b[1m\u001b[31m-------------------------------------------------------------------------------\u001b[0m\u001b[1m\n",
      "Info:\n",
      "\u001b[0m\n",
      "<class 'pandas.core.frame.DataFrame'>\n",
      "RangeIndex: 345092 entries, 0 to 345091\n",
      "Data columns (total 8 columns):\n",
      " #   Column          Non-Null Count   Dtype \n",
      "---  ------          --------------   ----- \n",
      " 0   Unnamed: 0      345092 non-null  int64 \n",
      " 1   VEHICLE_ID      345092 non-null  int64 \n",
      " 2   TRAFFIC_DATE    344226 non-null  object\n",
      " 3   BRAND_CODE      345092 non-null  object\n",
      " 4   BASEMODEL_CODE  345092 non-null  int64 \n",
      " 5   TOPMODEL_CODE   345092 non-null  int64 \n",
      " 6   MOTOR_GAS_TYPE  272646 non-null  object\n",
      " 7   GEAR_BOX_TYPE   261077 non-null  object\n",
      "dtypes: int64(4), object(4)\n",
      "memory usage: 21.1+ MB\n",
      "None\n",
      "\u001b[1m\u001b[31m-------------------------------------------------------------------------------\u001b[0m\n",
      "\u001b[1mNumber of Uniques:\n",
      "\u001b[0mUnnamed: 0        345092\n",
      "VEHICLE_ID        345092\n",
      "TRAFFIC_DATE        7428\n",
      "BRAND_CODE             5\n",
      "BASEMODEL_CODE      2477\n",
      "TOPMODEL_CODE        346\n",
      "MOTOR_GAS_TYPE        10\n",
      "GEAR_BOX_TYPE         14\n",
      "dtype: int64\n",
      "\u001b[1m\u001b[31m-------------------------------------------------------------------------------\u001b[0m\n",
      "\u001b[1mMissing Values:\n",
      "\u001b[0m                Missing_Number  Missing_Percent\n",
      "GEAR_BOX_TYPE            84015            0.243\n",
      "MOTOR_GAS_TYPE           72446            0.210\n",
      "TRAFFIC_DATE               866            0.003\n",
      "\u001b[1m\u001b[31m-------------------------------------------------------------------------------\u001b[0m\n",
      "\u001b[1mAll Columns:\u001b[0m['Unnamed: 0', 'VEHICLE_ID', 'TRAFFIC_DATE', 'BRAND_CODE', 'BASEMODEL_CODE', 'TOPMODEL_CODE', 'MOTOR_GAS_TYPE', 'GEAR_BOX_TYPE']\n",
      "\u001b[1m\u001b[31m-------------------------------------------------------------------------------\u001b[0m\n",
      "\u001b[1mColumns after rename:\u001b[0m['unnamed:_0', 'vehicle_id', 'traffic_date', 'brand_code', 'basemodel_code', 'topmodel_code', 'motor_gas_type', 'gear_box_type']\n",
      "\u001b[1m\u001b[31m-------------------------------------------------------------------------------\u001b[0m\n",
      "\u001b[1mNo duplicates\u001b[0m\n",
      "\u001b[1m\u001b[31m-------------------------------------------------------------------------------\u001b[0m\n",
      "['unnamed:_0'] were dropped\n",
      "Shape: (345092, 7)\n",
      "0 %, percentage of missing values of vehicle_id less than limit 90 %, so we will keep it.\n",
      "866 %, percentage of missing values of traffic_date less than limit 90 %, so we will keep it.\n",
      "0 %, percentage of missing values of brand_code less than limit 90 %, so we will keep it.\n",
      "0 %, percentage of missing values of basemodel_code less than limit 90 %, so we will keep it.\n",
      "0 %, percentage of missing values of topmodel_code less than limit 90 %, so we will keep it.\n",
      "72446 %, percentage of missing values of motor_gas_type less than limit 90 %, so we will keep it.\n",
      "84015 %, percentage of missing values of gear_box_type less than limit 90 %, so we will keep it.\n",
      "New shape after missing value control: (345092, 7)\n"
     ]
    }
   ],
   "source": [
    "# 5-Load|Read Data\n",
    "dataset_path = \"D_FINAL_VEHICLE_TABLE_DATATHON.csv\"\n",
    "df5 = pd.read_csv(dataset_path)\n",
    "first_looking(df5)\n",
    "duplicate_values(df5)\n",
    "drop_columns(df5,['unnamed:_0'])\n",
    "drop_null(df5, 90)"
   ]
  },
  {
   "cell_type": "code",
   "execution_count": null,
   "id": "040d953e",
   "metadata": {},
   "outputs": [],
   "source": []
  },
  {
   "cell_type": "code",
   "execution_count": 9,
   "id": "b9524065",
   "metadata": {},
   "outputs": [
    {
     "name": "stdout",
     "output_type": "stream",
     "text": [
      "\u001b[1mShape:\u001b[0m(1041000, 5)\n",
      "There is 1041000 observation and 5 columns in the dataset.\n",
      "\u001b[1m\u001b[31m-------------------------------------------------------------------------------\u001b[0m\u001b[1m\n",
      "Info:\n",
      "\u001b[0m\n",
      "<class 'pandas.core.frame.DataFrame'>\n",
      "RangeIndex: 1041000 entries, 0 to 1040999\n",
      "Data columns (total 5 columns):\n",
      " #   Column           Non-Null Count    Dtype  \n",
      "---  ------           --------------    -----  \n",
      " 0   Unnamed: 0       1041000 non-null  int64  \n",
      " 1   CREATE_DATE      1041000 non-null  object \n",
      " 2   IS_MAINTENANCE   1041000 non-null  int64  \n",
      " 3   VEHICLE_ID       1041000 non-null  int64  \n",
      " 4   TOTAL_AMOUNT_TL  965596 non-null   float64\n",
      "dtypes: float64(1), int64(3), object(1)\n",
      "memory usage: 39.7+ MB\n",
      "None\n",
      "\u001b[1m\u001b[31m-------------------------------------------------------------------------------\u001b[0m\n",
      "\u001b[1mNumber of Uniques:\n",
      "\u001b[0mUnnamed: 0         1041000\n",
      "CREATE_DATE        1033883\n",
      "IS_MAINTENANCE           2\n",
      "VEHICLE_ID          225447\n",
      "TOTAL_AMOUNT_TL      16006\n",
      "dtype: int64\n",
      "\u001b[1m\u001b[31m-------------------------------------------------------------------------------\u001b[0m\n",
      "\u001b[1mMissing Values:\n",
      "\u001b[0m                 Missing_Number  Missing_Percent\n",
      "TOTAL_AMOUNT_TL           75404            0.072\n",
      "\u001b[1m\u001b[31m-------------------------------------------------------------------------------\u001b[0m\n",
      "\u001b[1mAll Columns:\u001b[0m['Unnamed: 0', 'CREATE_DATE', 'IS_MAINTENANCE', 'VEHICLE_ID', 'TOTAL_AMOUNT_TL']\n",
      "\u001b[1m\u001b[31m-------------------------------------------------------------------------------\u001b[0m\n",
      "\u001b[1mColumns after rename:\u001b[0m['unnamed:_0', 'create_date', 'is_maintenance', 'vehicle_id', 'total_amount_tl']\n",
      "\u001b[1m\u001b[31m-------------------------------------------------------------------------------\u001b[0m\n",
      "\u001b[1mNo duplicates\u001b[0m\n",
      "\u001b[1m\u001b[31m-------------------------------------------------------------------------------\u001b[0m\n",
      "['unnamed:_0'] were dropped\n",
      "Shape: (1041000, 4)\n",
      "0 %, percentage of missing values of create_date less than limit 90 %, so we will keep it.\n",
      "0 %, percentage of missing values of is_maintenance less than limit 90 %, so we will keep it.\n",
      "0 %, percentage of missing values of vehicle_id less than limit 90 %, so we will keep it.\n",
      "75404 %, percentage of missing values of total_amount_tl less than limit 90 %, so we will keep it.\n",
      "New shape after missing value control: (1041000, 4)\n"
     ]
    }
   ],
   "source": [
    "# 6-Load|Read Data\n",
    "dataset_path = \"D_MASK_SERVIS_BAKIM_DATATHON_FINAL.csv\"\n",
    "df6 = pd.read_csv(dataset_path)\n",
    "first_looking(df6)\n",
    "duplicate_values(df6)\n",
    "drop_columns(df6,['unnamed:_0'])\n",
    "drop_null(df6, 90)"
   ]
  },
  {
   "cell_type": "code",
   "execution_count": 10,
   "id": "b5c73b6e",
   "metadata": {},
   "outputs": [],
   "source": [
    "df6.rename({\"create_date\":\"servis_create_date\"}, axis=1, inplace=True)"
   ]
  },
  {
   "cell_type": "code",
   "execution_count": null,
   "id": "008a2f8a",
   "metadata": {},
   "outputs": [],
   "source": []
  },
  {
   "cell_type": "code",
   "execution_count": 11,
   "id": "034b252c",
   "metadata": {},
   "outputs": [
    {
     "name": "stdout",
     "output_type": "stream",
     "text": [
      "\u001b[1mShape:\u001b[0m(166943, 2)\n",
      "There is 166943 observation and 2 columns in the dataset.\n",
      "\u001b[1m\u001b[31m-------------------------------------------------------------------------------\u001b[0m\u001b[1m\n",
      "Info:\n",
      "\u001b[0m\n",
      "<class 'pandas.core.frame.DataFrame'>\n",
      "RangeIndex: 166943 entries, 0 to 166942\n",
      "Data columns (total 2 columns):\n",
      " #   Column    Non-Null Count   Dtype  \n",
      "---  ------    --------------   -----  \n",
      " 0   Id        166943 non-null  int64  \n",
      " 1   Expected  0 non-null       float64\n",
      "dtypes: float64(1), int64(1)\n",
      "memory usage: 2.5 MB\n",
      "None\n",
      "\u001b[1m\u001b[31m-------------------------------------------------------------------------------\u001b[0m\n",
      "\u001b[1mNumber of Uniques:\n",
      "\u001b[0mId          166943\n",
      "Expected         0\n",
      "dtype: int64\n",
      "\u001b[1m\u001b[31m-------------------------------------------------------------------------------\u001b[0m\n",
      "\u001b[1mMissing Values:\n",
      "\u001b[0m          Missing_Number  Missing_Percent\n",
      "Expected          166943            1.000\n",
      "\u001b[1m\u001b[31m-------------------------------------------------------------------------------\u001b[0m\n",
      "\u001b[1mAll Columns:\u001b[0m['Id', 'Expected']\n",
      "\u001b[1m\u001b[31m-------------------------------------------------------------------------------\u001b[0m\n",
      "\u001b[1mColumns after rename:\u001b[0m['id', 'expected']\n",
      "\u001b[1m\u001b[31m-------------------------------------------------------------------------------\u001b[0m\n",
      "\u001b[1mNo duplicates\u001b[0m\n",
      "\u001b[1m\u001b[31m-------------------------------------------------------------------------------\u001b[0m\n",
      "\u001b[1mWe will now check the missing values and if necessary drop some columns!!!\u001b[0m\n",
      "\u001b[1m\u001b[31m-------------------------------------------------------------------------------\u001b[0m\n"
     ]
    }
   ],
   "source": [
    "# 7-Load|Read Data\n",
    "dataset_path = \"D_sample_submission.csv\"\n",
    "df7 = pd.read_csv(dataset_path)\n",
    "first_looking(df7)\n",
    "duplicate_values(df7)\n",
    "drop_columns(df7,[])\n",
    "# drop_null(df7, 90)"
   ]
  },
  {
   "cell_type": "code",
   "execution_count": 12,
   "id": "c9c5a170",
   "metadata": {},
   "outputs": [
    {
     "data": {
      "text/plain": [
       "Index(['id', 'expected'], dtype='object')"
      ]
     },
     "execution_count": 12,
     "metadata": {},
     "output_type": "execute_result"
    }
   ],
   "source": [
    "df7.columns"
   ]
  },
  {
   "cell_type": "code",
   "execution_count": 13,
   "id": "6a029369",
   "metadata": {},
   "outputs": [],
   "source": [
    "df7.rename({\"id\" : \"base_customer_id\"}, axis=1, inplace=True)"
   ]
  },
  {
   "cell_type": "code",
   "execution_count": 14,
   "id": "da332bcd",
   "metadata": {},
   "outputs": [
    {
     "data": {
      "text/plain": [
       "Index(['base_customer_id', 'expected'], dtype='object')"
      ]
     },
     "execution_count": 14,
     "metadata": {},
     "output_type": "execute_result"
    }
   ],
   "source": [
    "df7.columns"
   ]
  },
  {
   "cell_type": "code",
   "execution_count": null,
   "id": "671ac624",
   "metadata": {},
   "outputs": [],
   "source": []
  },
  {
   "cell_type": "code",
   "execution_count": 15,
   "id": "f3e7a2a5",
   "metadata": {},
   "outputs": [
    {
     "data": {
      "text/plain": [
       "(166943, 2)"
      ]
     },
     "execution_count": 15,
     "metadata": {},
     "output_type": "execute_result"
    }
   ],
   "source": [
    "df7.shape"
   ]
  },
  {
   "cell_type": "code",
   "execution_count": 16,
   "id": "9fe0b87e",
   "metadata": {},
   "outputs": [
    {
     "data": {
      "text/plain": [
       "(374879, 6)"
      ]
     },
     "execution_count": 16,
     "metadata": {},
     "output_type": "execute_result"
    }
   ],
   "source": [
    "df2.shape"
   ]
  },
  {
   "cell_type": "code",
   "execution_count": null,
   "id": "17f23026",
   "metadata": {},
   "outputs": [],
   "source": []
  },
  {
   "cell_type": "code",
   "execution_count": 17,
   "id": "ab37a459",
   "metadata": {},
   "outputs": [],
   "source": [
    "df72 = df7.merge(df2, how = \"left\", on = [\"base_customer_id\"], )"
   ]
  },
  {
   "cell_type": "code",
   "execution_count": 18,
   "id": "e97cef35",
   "metadata": {},
   "outputs": [
    {
     "data": {
      "text/plain": [
       "(320181, 7)"
      ]
     },
     "execution_count": 18,
     "metadata": {},
     "output_type": "execute_result"
    }
   ],
   "source": [
    "df72.shape"
   ]
  },
  {
   "cell_type": "code",
   "execution_count": 19,
   "id": "d2fba21d",
   "metadata": {},
   "outputs": [
    {
     "data": {
      "text/html": [
       "<div>\n",
       "<style scoped>\n",
       "    .dataframe tbody tr th:only-of-type {\n",
       "        vertical-align: middle;\n",
       "    }\n",
       "\n",
       "    .dataframe tbody tr th {\n",
       "        vertical-align: top;\n",
       "    }\n",
       "\n",
       "    .dataframe thead th {\n",
       "        text-align: right;\n",
       "    }\n",
       "</style>\n",
       "<table border=\"1\" class=\"dataframe\">\n",
       "  <thead>\n",
       "    <tr style=\"text-align: right;\">\n",
       "      <th></th>\n",
       "      <th>base_customer_id</th>\n",
       "      <th>expected</th>\n",
       "      <th>vehicle_id</th>\n",
       "      <th>start_date</th>\n",
       "      <th>end_date</th>\n",
       "      <th>fk_relation_status_id</th>\n",
       "      <th>fk_relation_status_explanation</th>\n",
       "    </tr>\n",
       "  </thead>\n",
       "  <tbody>\n",
       "    <tr>\n",
       "      <th>0</th>\n",
       "      <td>168254</td>\n",
       "      <td>NaN</td>\n",
       "      <td>5329232</td>\n",
       "      <td>2019-09-20</td>\n",
       "      <td>NaN</td>\n",
       "      <td>1</td>\n",
       "      <td>Aktif Ruhsat Sahibi</td>\n",
       "    </tr>\n",
       "    <tr>\n",
       "      <th>1</th>\n",
       "      <td>168254</td>\n",
       "      <td>NaN</td>\n",
       "      <td>5183621</td>\n",
       "      <td>2015-09-14</td>\n",
       "      <td>2019-07-05</td>\n",
       "      <td>2</td>\n",
       "      <td>Pasif Ruhsat Sahibi</td>\n",
       "    </tr>\n",
       "    <tr>\n",
       "      <th>2</th>\n",
       "      <td>168254</td>\n",
       "      <td>NaN</td>\n",
       "      <td>5208488</td>\n",
       "      <td>2012-09-15</td>\n",
       "      <td>2014-02-19</td>\n",
       "      <td>2</td>\n",
       "      <td>Pasif Ruhsat Sahibi</td>\n",
       "    </tr>\n",
       "    <tr>\n",
       "      <th>3</th>\n",
       "      <td>168254</td>\n",
       "      <td>NaN</td>\n",
       "      <td>5310923</td>\n",
       "      <td>2018-07-19</td>\n",
       "      <td>2019-08-16</td>\n",
       "      <td>2</td>\n",
       "      <td>Pasif Ruhsat Sahibi</td>\n",
       "    </tr>\n",
       "    <tr>\n",
       "      <th>4</th>\n",
       "      <td>168254</td>\n",
       "      <td>NaN</td>\n",
       "      <td>5311914</td>\n",
       "      <td>2019-03-29</td>\n",
       "      <td>2021-02-10</td>\n",
       "      <td>2</td>\n",
       "      <td>Pasif Ruhsat Sahibi</td>\n",
       "    </tr>\n",
       "  </tbody>\n",
       "</table>\n",
       "</div>"
      ],
      "text/plain": [
       "   base_customer_id  expected  vehicle_id  start_date    end_date  \\\n",
       "0            168254       NaN     5329232  2019-09-20         NaN   \n",
       "1            168254       NaN     5183621  2015-09-14  2019-07-05   \n",
       "2            168254       NaN     5208488  2012-09-15  2014-02-19   \n",
       "3            168254       NaN     5310923  2018-07-19  2019-08-16   \n",
       "4            168254       NaN     5311914  2019-03-29  2021-02-10   \n",
       "\n",
       "   fk_relation_status_id fk_relation_status_explanation  \n",
       "0                      1            Aktif Ruhsat Sahibi  \n",
       "1                      2            Pasif Ruhsat Sahibi  \n",
       "2                      2            Pasif Ruhsat Sahibi  \n",
       "3                      2            Pasif Ruhsat Sahibi  \n",
       "4                      2            Pasif Ruhsat Sahibi  "
      ]
     },
     "execution_count": 19,
     "metadata": {},
     "output_type": "execute_result"
    }
   ],
   "source": [
    "df72.head()"
   ]
  },
  {
   "cell_type": "code",
   "execution_count": 20,
   "id": "50991b33",
   "metadata": {},
   "outputs": [
    {
     "ename": "ValueError",
     "evalue": "Index contains duplicate entries, cannot reshape",
     "output_type": "error",
     "traceback": [
      "\u001b[1;31m---------------------------------------------------------------------------\u001b[0m",
      "\u001b[1;31mValueError\u001b[0m                                Traceback (most recent call last)",
      "\u001b[1;32m<ipython-input-20-16308eba7c24>\u001b[0m in \u001b[0;36m<module>\u001b[1;34m\u001b[0m\n\u001b[1;32m----> 1\u001b[1;33m \u001b[0mpd\u001b[0m\u001b[1;33m.\u001b[0m\u001b[0mpivot\u001b[0m\u001b[1;33m(\u001b[0m\u001b[0mdata\u001b[0m\u001b[1;33m=\u001b[0m\u001b[0mdf72\u001b[0m\u001b[1;33m,\u001b[0m \u001b[0mindex\u001b[0m\u001b[1;33m=\u001b[0m\u001b[1;34m\"base_customer_id\"\u001b[0m\u001b[1;33m,\u001b[0m \u001b[0mcolumns\u001b[0m\u001b[1;33m=\u001b[0m\u001b[1;34m\"fk_relation_status_explanation\"\u001b[0m\u001b[1;33m)\u001b[0m\u001b[1;33m\u001b[0m\u001b[1;33m\u001b[0m\u001b[0m\n\u001b[0m",
      "\u001b[1;32m~\\anaconda3\\lib\\site-packages\\pandas\\core\\reshape\\pivot.py\u001b[0m in \u001b[0;36mpivot\u001b[1;34m(data, index, columns, values)\u001b[0m\n\u001b[0;32m    459\u001b[0m         \u001b[1;32melse\u001b[0m\u001b[1;33m:\u001b[0m\u001b[1;33m\u001b[0m\u001b[1;33m\u001b[0m\u001b[0m\n\u001b[0;32m    460\u001b[0m             \u001b[0mindexed\u001b[0m \u001b[1;33m=\u001b[0m \u001b[0mdata\u001b[0m\u001b[1;33m.\u001b[0m\u001b[0m_constructor_sliced\u001b[0m\u001b[1;33m(\u001b[0m\u001b[0mdata\u001b[0m\u001b[1;33m[\u001b[0m\u001b[0mvalues\u001b[0m\u001b[1;33m]\u001b[0m\u001b[1;33m.\u001b[0m\u001b[0m_values\u001b[0m\u001b[1;33m,\u001b[0m \u001b[0mindex\u001b[0m\u001b[1;33m=\u001b[0m\u001b[0mindex\u001b[0m\u001b[1;33m)\u001b[0m\u001b[1;33m\u001b[0m\u001b[1;33m\u001b[0m\u001b[0m\n\u001b[1;32m--> 461\u001b[1;33m     \u001b[1;32mreturn\u001b[0m \u001b[0mindexed\u001b[0m\u001b[1;33m.\u001b[0m\u001b[0munstack\u001b[0m\u001b[1;33m(\u001b[0m\u001b[0mcolumns\u001b[0m\u001b[1;33m)\u001b[0m\u001b[1;33m\u001b[0m\u001b[1;33m\u001b[0m\u001b[0m\n\u001b[0m\u001b[0;32m    462\u001b[0m \u001b[1;33m\u001b[0m\u001b[0m\n\u001b[0;32m    463\u001b[0m \u001b[1;33m\u001b[0m\u001b[0m\n",
      "\u001b[1;32m~\\anaconda3\\lib\\site-packages\\pandas\\core\\frame.py\u001b[0m in \u001b[0;36munstack\u001b[1;34m(self, level, fill_value)\u001b[0m\n\u001b[0;32m   7350\u001b[0m         \u001b[1;32mfrom\u001b[0m \u001b[0mpandas\u001b[0m\u001b[1;33m.\u001b[0m\u001b[0mcore\u001b[0m\u001b[1;33m.\u001b[0m\u001b[0mreshape\u001b[0m\u001b[1;33m.\u001b[0m\u001b[0mreshape\u001b[0m \u001b[1;32mimport\u001b[0m \u001b[0munstack\u001b[0m\u001b[1;33m\u001b[0m\u001b[1;33m\u001b[0m\u001b[0m\n\u001b[0;32m   7351\u001b[0m \u001b[1;33m\u001b[0m\u001b[0m\n\u001b[1;32m-> 7352\u001b[1;33m         \u001b[0mresult\u001b[0m \u001b[1;33m=\u001b[0m \u001b[0munstack\u001b[0m\u001b[1;33m(\u001b[0m\u001b[0mself\u001b[0m\u001b[1;33m,\u001b[0m \u001b[0mlevel\u001b[0m\u001b[1;33m,\u001b[0m \u001b[0mfill_value\u001b[0m\u001b[1;33m)\u001b[0m\u001b[1;33m\u001b[0m\u001b[1;33m\u001b[0m\u001b[0m\n\u001b[0m\u001b[0;32m   7353\u001b[0m \u001b[1;33m\u001b[0m\u001b[0m\n\u001b[0;32m   7354\u001b[0m         \u001b[1;32mreturn\u001b[0m \u001b[0mresult\u001b[0m\u001b[1;33m.\u001b[0m\u001b[0m__finalize__\u001b[0m\u001b[1;33m(\u001b[0m\u001b[0mself\u001b[0m\u001b[1;33m,\u001b[0m \u001b[0mmethod\u001b[0m\u001b[1;33m=\u001b[0m\u001b[1;34m\"unstack\"\u001b[0m\u001b[1;33m)\u001b[0m\u001b[1;33m\u001b[0m\u001b[1;33m\u001b[0m\u001b[0m\n",
      "\u001b[1;32m~\\anaconda3\\lib\\site-packages\\pandas\\core\\reshape\\reshape.py\u001b[0m in \u001b[0;36munstack\u001b[1;34m(obj, level, fill_value)\u001b[0m\n\u001b[0;32m    415\u001b[0m     \u001b[1;32mif\u001b[0m \u001b[0misinstance\u001b[0m\u001b[1;33m(\u001b[0m\u001b[0mobj\u001b[0m\u001b[1;33m,\u001b[0m \u001b[0mDataFrame\u001b[0m\u001b[1;33m)\u001b[0m\u001b[1;33m:\u001b[0m\u001b[1;33m\u001b[0m\u001b[1;33m\u001b[0m\u001b[0m\n\u001b[0;32m    416\u001b[0m         \u001b[1;32mif\u001b[0m \u001b[0misinstance\u001b[0m\u001b[1;33m(\u001b[0m\u001b[0mobj\u001b[0m\u001b[1;33m.\u001b[0m\u001b[0mindex\u001b[0m\u001b[1;33m,\u001b[0m \u001b[0mMultiIndex\u001b[0m\u001b[1;33m)\u001b[0m\u001b[1;33m:\u001b[0m\u001b[1;33m\u001b[0m\u001b[1;33m\u001b[0m\u001b[0m\n\u001b[1;32m--> 417\u001b[1;33m             \u001b[1;32mreturn\u001b[0m \u001b[0m_unstack_frame\u001b[0m\u001b[1;33m(\u001b[0m\u001b[0mobj\u001b[0m\u001b[1;33m,\u001b[0m \u001b[0mlevel\u001b[0m\u001b[1;33m,\u001b[0m \u001b[0mfill_value\u001b[0m\u001b[1;33m=\u001b[0m\u001b[0mfill_value\u001b[0m\u001b[1;33m)\u001b[0m\u001b[1;33m\u001b[0m\u001b[1;33m\u001b[0m\u001b[0m\n\u001b[0m\u001b[0;32m    418\u001b[0m         \u001b[1;32melse\u001b[0m\u001b[1;33m:\u001b[0m\u001b[1;33m\u001b[0m\u001b[1;33m\u001b[0m\u001b[0m\n\u001b[0;32m    419\u001b[0m             \u001b[1;32mreturn\u001b[0m \u001b[0mobj\u001b[0m\u001b[1;33m.\u001b[0m\u001b[0mT\u001b[0m\u001b[1;33m.\u001b[0m\u001b[0mstack\u001b[0m\u001b[1;33m(\u001b[0m\u001b[0mdropna\u001b[0m\u001b[1;33m=\u001b[0m\u001b[1;32mFalse\u001b[0m\u001b[1;33m)\u001b[0m\u001b[1;33m\u001b[0m\u001b[1;33m\u001b[0m\u001b[0m\n",
      "\u001b[1;32m~\\anaconda3\\lib\\site-packages\\pandas\\core\\reshape\\reshape.py\u001b[0m in \u001b[0;36m_unstack_frame\u001b[1;34m(obj, level, fill_value)\u001b[0m\n\u001b[0;32m    438\u001b[0m \u001b[1;32mdef\u001b[0m \u001b[0m_unstack_frame\u001b[0m\u001b[1;33m(\u001b[0m\u001b[0mobj\u001b[0m\u001b[1;33m,\u001b[0m \u001b[0mlevel\u001b[0m\u001b[1;33m,\u001b[0m \u001b[0mfill_value\u001b[0m\u001b[1;33m=\u001b[0m\u001b[1;32mNone\u001b[0m\u001b[1;33m)\u001b[0m\u001b[1;33m:\u001b[0m\u001b[1;33m\u001b[0m\u001b[1;33m\u001b[0m\u001b[0m\n\u001b[0;32m    439\u001b[0m     \u001b[1;32mif\u001b[0m \u001b[1;32mnot\u001b[0m \u001b[0mobj\u001b[0m\u001b[1;33m.\u001b[0m\u001b[0m_can_fast_transpose\u001b[0m\u001b[1;33m:\u001b[0m\u001b[1;33m\u001b[0m\u001b[1;33m\u001b[0m\u001b[0m\n\u001b[1;32m--> 440\u001b[1;33m         \u001b[0munstacker\u001b[0m \u001b[1;33m=\u001b[0m \u001b[0m_Unstacker\u001b[0m\u001b[1;33m(\u001b[0m\u001b[0mobj\u001b[0m\u001b[1;33m.\u001b[0m\u001b[0mindex\u001b[0m\u001b[1;33m,\u001b[0m \u001b[0mlevel\u001b[0m\u001b[1;33m=\u001b[0m\u001b[0mlevel\u001b[0m\u001b[1;33m)\u001b[0m\u001b[1;33m\u001b[0m\u001b[1;33m\u001b[0m\u001b[0m\n\u001b[0m\u001b[0;32m    441\u001b[0m         \u001b[0mmgr\u001b[0m \u001b[1;33m=\u001b[0m \u001b[0mobj\u001b[0m\u001b[1;33m.\u001b[0m\u001b[0m_mgr\u001b[0m\u001b[1;33m.\u001b[0m\u001b[0munstack\u001b[0m\u001b[1;33m(\u001b[0m\u001b[0munstacker\u001b[0m\u001b[1;33m,\u001b[0m \u001b[0mfill_value\u001b[0m\u001b[1;33m=\u001b[0m\u001b[0mfill_value\u001b[0m\u001b[1;33m)\u001b[0m\u001b[1;33m\u001b[0m\u001b[1;33m\u001b[0m\u001b[0m\n\u001b[0;32m    442\u001b[0m         \u001b[1;32mreturn\u001b[0m \u001b[0mobj\u001b[0m\u001b[1;33m.\u001b[0m\u001b[0m_constructor\u001b[0m\u001b[1;33m(\u001b[0m\u001b[0mmgr\u001b[0m\u001b[1;33m)\u001b[0m\u001b[1;33m\u001b[0m\u001b[1;33m\u001b[0m\u001b[0m\n",
      "\u001b[1;32m~\\anaconda3\\lib\\site-packages\\pandas\\core\\reshape\\reshape.py\u001b[0m in \u001b[0;36m__init__\u001b[1;34m(self, index, level, constructor)\u001b[0m\n\u001b[0;32m    116\u001b[0m             \u001b[1;32mraise\u001b[0m \u001b[0mValueError\u001b[0m\u001b[1;33m(\u001b[0m\u001b[1;34m\"Unstacked DataFrame is too big, causing int32 overflow\"\u001b[0m\u001b[1;33m)\u001b[0m\u001b[1;33m\u001b[0m\u001b[1;33m\u001b[0m\u001b[0m\n\u001b[0;32m    117\u001b[0m \u001b[1;33m\u001b[0m\u001b[0m\n\u001b[1;32m--> 118\u001b[1;33m         \u001b[0mself\u001b[0m\u001b[1;33m.\u001b[0m\u001b[0m_make_selectors\u001b[0m\u001b[1;33m(\u001b[0m\u001b[1;33m)\u001b[0m\u001b[1;33m\u001b[0m\u001b[1;33m\u001b[0m\u001b[0m\n\u001b[0m\u001b[0;32m    119\u001b[0m \u001b[1;33m\u001b[0m\u001b[0m\n\u001b[0;32m    120\u001b[0m     \u001b[1;33m@\u001b[0m\u001b[0mcache_readonly\u001b[0m\u001b[1;33m\u001b[0m\u001b[1;33m\u001b[0m\u001b[0m\n",
      "\u001b[1;32m~\\anaconda3\\lib\\site-packages\\pandas\\core\\reshape\\reshape.py\u001b[0m in \u001b[0;36m_make_selectors\u001b[1;34m(self)\u001b[0m\n\u001b[0;32m    165\u001b[0m \u001b[1;33m\u001b[0m\u001b[0m\n\u001b[0;32m    166\u001b[0m         \u001b[1;32mif\u001b[0m \u001b[0mmask\u001b[0m\u001b[1;33m.\u001b[0m\u001b[0msum\u001b[0m\u001b[1;33m(\u001b[0m\u001b[1;33m)\u001b[0m \u001b[1;33m<\u001b[0m \u001b[0mlen\u001b[0m\u001b[1;33m(\u001b[0m\u001b[0mself\u001b[0m\u001b[1;33m.\u001b[0m\u001b[0mindex\u001b[0m\u001b[1;33m)\u001b[0m\u001b[1;33m:\u001b[0m\u001b[1;33m\u001b[0m\u001b[1;33m\u001b[0m\u001b[0m\n\u001b[1;32m--> 167\u001b[1;33m             \u001b[1;32mraise\u001b[0m \u001b[0mValueError\u001b[0m\u001b[1;33m(\u001b[0m\u001b[1;34m\"Index contains duplicate entries, cannot reshape\"\u001b[0m\u001b[1;33m)\u001b[0m\u001b[1;33m\u001b[0m\u001b[1;33m\u001b[0m\u001b[0m\n\u001b[0m\u001b[0;32m    168\u001b[0m \u001b[1;33m\u001b[0m\u001b[0m\n\u001b[0;32m    169\u001b[0m         \u001b[0mself\u001b[0m\u001b[1;33m.\u001b[0m\u001b[0mgroup_index\u001b[0m \u001b[1;33m=\u001b[0m \u001b[0mcomp_index\u001b[0m\u001b[1;33m\u001b[0m\u001b[1;33m\u001b[0m\u001b[0m\n",
      "\u001b[1;31mValueError\u001b[0m: Index contains duplicate entries, cannot reshape"
     ]
    }
   ],
   "source": [
    "pd.pivot(data=df72, index=\"base_customer_id\", columns=\"fk_relation_status_explanation\")"
   ]
  },
  {
   "cell_type": "code",
   "execution_count": null,
   "id": "5f2630b6",
   "metadata": {},
   "outputs": [],
   "source": []
  },
  {
   "cell_type": "code",
   "execution_count": null,
   "id": "c59565ce",
   "metadata": {},
   "outputs": [],
   "source": []
  },
  {
   "cell_type": "code",
   "execution_count": 15,
   "id": "de324d2d",
   "metadata": {},
   "outputs": [
    {
     "data": {
      "text/plain": [
       "Index(['base_customer_id', 'customer_id', 'gender', 'marital_status',\n",
       "       'birth_date', 'fk_address_communication_city', 'occupation'],\n",
       "      dtype='object')"
      ]
     },
     "execution_count": 15,
     "metadata": {},
     "output_type": "execute_result"
    }
   ],
   "source": [
    "df1.columns"
   ]
  },
  {
   "cell_type": "code",
   "execution_count": 16,
   "id": "4fa62df1",
   "metadata": {},
   "outputs": [
    {
     "data": {
      "text/plain": [
       "Index(['base_customer_id', 'vehicle_id', 'start_date', 'end_date',\n",
       "       'fk_relation_status_id', 'fk_relation_status_explanation'],\n",
       "      dtype='object')"
      ]
     },
     "execution_count": 16,
     "metadata": {},
     "output_type": "execute_result"
    }
   ],
   "source": [
    "df2.columns"
   ]
  },
  {
   "cell_type": "code",
   "execution_count": 17,
   "id": "f87294a0",
   "metadata": {},
   "outputs": [
    {
     "data": {
      "text/plain": [
       "Index(['customer_id', 'salesfile_id', 'sf_create_date', 'status',\n",
       "       'req_brand_code', 'req_topmodel_code'],\n",
       "      dtype='object')"
      ]
     },
     "execution_count": 17,
     "metadata": {},
     "output_type": "execute_result"
    }
   ],
   "source": [
    "df3.columns"
   ]
  },
  {
   "cell_type": "code",
   "execution_count": 18,
   "id": "c23d5c70",
   "metadata": {},
   "outputs": [
    {
     "data": {
      "text/plain": [
       "Index(['vehicle_id', 'customer_id', 'sıfır_create_date'], dtype='object')"
      ]
     },
     "execution_count": 18,
     "metadata": {},
     "output_type": "execute_result"
    }
   ],
   "source": [
    "df4.columns"
   ]
  },
  {
   "cell_type": "code",
   "execution_count": null,
   "id": "a11fa5ac",
   "metadata": {},
   "outputs": [],
   "source": []
  },
  {
   "cell_type": "code",
   "execution_count": 19,
   "id": "7716bb87",
   "metadata": {},
   "outputs": [
    {
     "data": {
      "text/plain": [
       "Index(['vehicle_id', 'traffic_date', 'brand_code', 'basemodel_code',\n",
       "       'topmodel_code', 'motor_gas_type', 'gear_box_type'],\n",
       "      dtype='object')"
      ]
     },
     "execution_count": 19,
     "metadata": {},
     "output_type": "execute_result"
    }
   ],
   "source": [
    "df5.columns"
   ]
  },
  {
   "cell_type": "code",
   "execution_count": 20,
   "id": "35cec9eb",
   "metadata": {},
   "outputs": [
    {
     "data": {
      "text/plain": [
       "Index(['servis_create_date', 'is_maintenance', 'vehicle_id',\n",
       "       'total_amount_tl'],\n",
       "      dtype='object')"
      ]
     },
     "execution_count": 20,
     "metadata": {},
     "output_type": "execute_result"
    }
   ],
   "source": [
    "df6.columns"
   ]
  },
  {
   "cell_type": "code",
   "execution_count": null,
   "id": "e3c206d7",
   "metadata": {},
   "outputs": [],
   "source": []
  },
  {
   "cell_type": "code",
   "execution_count": null,
   "id": "8d3f194c",
   "metadata": {},
   "outputs": [],
   "source": []
  },
  {
   "cell_type": "code",
   "execution_count": null,
   "id": "35901cb5",
   "metadata": {},
   "outputs": [],
   "source": []
  },
  {
   "cell_type": "code",
   "execution_count": 21,
   "id": "e03a8bcb",
   "metadata": {},
   "outputs": [],
   "source": [
    "df62 = df6.merge(df2, how = \"outer\", on = [\"vehicle_id\"], )"
   ]
  },
  {
   "cell_type": "code",
   "execution_count": 22,
   "id": "0aeb47cf",
   "metadata": {},
   "outputs": [],
   "source": [
    "df625 = df62.merge(df5, how = \"outer\", on = [\"vehicle_id\"])"
   ]
  },
  {
   "cell_type": "code",
   "execution_count": 23,
   "id": "7b1c73c2",
   "metadata": {},
   "outputs": [
    {
     "data": {
      "text/html": [
       "<div>\n",
       "<style scoped>\n",
       "    .dataframe tbody tr th:only-of-type {\n",
       "        vertical-align: middle;\n",
       "    }\n",
       "\n",
       "    .dataframe tbody tr th {\n",
       "        vertical-align: top;\n",
       "    }\n",
       "\n",
       "    .dataframe thead th {\n",
       "        text-align: right;\n",
       "    }\n",
       "</style>\n",
       "<table border=\"1\" class=\"dataframe\">\n",
       "  <thead>\n",
       "    <tr style=\"text-align: right;\">\n",
       "      <th></th>\n",
       "      <th>servis_create_date</th>\n",
       "      <th>is_maintenance</th>\n",
       "      <th>vehicle_id</th>\n",
       "      <th>total_amount_tl</th>\n",
       "      <th>base_customer_id</th>\n",
       "      <th>start_date</th>\n",
       "      <th>end_date</th>\n",
       "      <th>fk_relation_status_id</th>\n",
       "      <th>fk_relation_status_explanation</th>\n",
       "      <th>traffic_date</th>\n",
       "      <th>brand_code</th>\n",
       "      <th>basemodel_code</th>\n",
       "      <th>topmodel_code</th>\n",
       "      <th>motor_gas_type</th>\n",
       "      <th>gear_box_type</th>\n",
       "    </tr>\n",
       "  </thead>\n",
       "  <tbody>\n",
       "    <tr>\n",
       "      <th>0</th>\n",
       "      <td>2010-12-29 10:50:56</td>\n",
       "      <td>1.000</td>\n",
       "      <td>5000001</td>\n",
       "      <td>192.000</td>\n",
       "      <td>120581</td>\n",
       "      <td>2005-07-11</td>\n",
       "      <td>NaN</td>\n",
       "      <td>1</td>\n",
       "      <td>Aktif Ruhsat Sahibi</td>\n",
       "      <td>1998-12-28</td>\n",
       "      <td>X</td>\n",
       "      <td>14911</td>\n",
       "      <td>9491</td>\n",
       "      <td>NaN</td>\n",
       "      <td>NaN</td>\n",
       "    </tr>\n",
       "    <tr>\n",
       "      <th>1</th>\n",
       "      <td>2013-08-21 10:34:21</td>\n",
       "      <td>1.000</td>\n",
       "      <td>5000001</td>\n",
       "      <td>267.000</td>\n",
       "      <td>120581</td>\n",
       "      <td>2005-07-11</td>\n",
       "      <td>NaN</td>\n",
       "      <td>1</td>\n",
       "      <td>Aktif Ruhsat Sahibi</td>\n",
       "      <td>1998-12-28</td>\n",
       "      <td>X</td>\n",
       "      <td>14911</td>\n",
       "      <td>9491</td>\n",
       "      <td>NaN</td>\n",
       "      <td>NaN</td>\n",
       "    </tr>\n",
       "    <tr>\n",
       "      <th>2</th>\n",
       "      <td>2015-11-30 10:55:00</td>\n",
       "      <td>1.000</td>\n",
       "      <td>5000001</td>\n",
       "      <td>1747.000</td>\n",
       "      <td>120581</td>\n",
       "      <td>2005-07-11</td>\n",
       "      <td>NaN</td>\n",
       "      <td>1</td>\n",
       "      <td>Aktif Ruhsat Sahibi</td>\n",
       "      <td>1998-12-28</td>\n",
       "      <td>X</td>\n",
       "      <td>14911</td>\n",
       "      <td>9491</td>\n",
       "      <td>NaN</td>\n",
       "      <td>NaN</td>\n",
       "    </tr>\n",
       "    <tr>\n",
       "      <th>3</th>\n",
       "      <td>2015-12-09 13:38:49</td>\n",
       "      <td>0.000</td>\n",
       "      <td>5000001</td>\n",
       "      <td>465.000</td>\n",
       "      <td>120581</td>\n",
       "      <td>2005-07-11</td>\n",
       "      <td>NaN</td>\n",
       "      <td>1</td>\n",
       "      <td>Aktif Ruhsat Sahibi</td>\n",
       "      <td>1998-12-28</td>\n",
       "      <td>X</td>\n",
       "      <td>14911</td>\n",
       "      <td>9491</td>\n",
       "      <td>NaN</td>\n",
       "      <td>NaN</td>\n",
       "    </tr>\n",
       "    <tr>\n",
       "      <th>4</th>\n",
       "      <td>2017-11-23 09:53:22</td>\n",
       "      <td>1.000</td>\n",
       "      <td>5000001</td>\n",
       "      <td>549.000</td>\n",
       "      <td>120581</td>\n",
       "      <td>2005-07-11</td>\n",
       "      <td>NaN</td>\n",
       "      <td>1</td>\n",
       "      <td>Aktif Ruhsat Sahibi</td>\n",
       "      <td>1998-12-28</td>\n",
       "      <td>X</td>\n",
       "      <td>14911</td>\n",
       "      <td>9491</td>\n",
       "      <td>NaN</td>\n",
       "      <td>NaN</td>\n",
       "    </tr>\n",
       "  </tbody>\n",
       "</table>\n",
       "</div>"
      ],
      "text/plain": [
       "    servis_create_date  is_maintenance  vehicle_id  total_amount_tl  \\\n",
       "0  2010-12-29 10:50:56           1.000     5000001          192.000   \n",
       "1  2013-08-21 10:34:21           1.000     5000001          267.000   \n",
       "2  2015-11-30 10:55:00           1.000     5000001         1747.000   \n",
       "3  2015-12-09 13:38:49           0.000     5000001          465.000   \n",
       "4  2017-11-23 09:53:22           1.000     5000001          549.000   \n",
       "\n",
       "   base_customer_id  start_date end_date  fk_relation_status_id  \\\n",
       "0            120581  2005-07-11      NaN                      1   \n",
       "1            120581  2005-07-11      NaN                      1   \n",
       "2            120581  2005-07-11      NaN                      1   \n",
       "3            120581  2005-07-11      NaN                      1   \n",
       "4            120581  2005-07-11      NaN                      1   \n",
       "\n",
       "  fk_relation_status_explanation traffic_date brand_code  basemodel_code  \\\n",
       "0            Aktif Ruhsat Sahibi   1998-12-28          X           14911   \n",
       "1            Aktif Ruhsat Sahibi   1998-12-28          X           14911   \n",
       "2            Aktif Ruhsat Sahibi   1998-12-28          X           14911   \n",
       "3            Aktif Ruhsat Sahibi   1998-12-28          X           14911   \n",
       "4            Aktif Ruhsat Sahibi   1998-12-28          X           14911   \n",
       "\n",
       "   topmodel_code motor_gas_type gear_box_type  \n",
       "0           9491            NaN           NaN  \n",
       "1           9491            NaN           NaN  \n",
       "2           9491            NaN           NaN  \n",
       "3           9491            NaN           NaN  \n",
       "4           9491            NaN           NaN  "
      ]
     },
     "execution_count": 23,
     "metadata": {},
     "output_type": "execute_result"
    }
   ],
   "source": [
    "df625.head()"
   ]
  },
  {
   "cell_type": "code",
   "execution_count": null,
   "id": "45574523",
   "metadata": {},
   "outputs": [],
   "source": []
  },
  {
   "cell_type": "code",
   "execution_count": 24,
   "id": "5d361e23",
   "metadata": {},
   "outputs": [],
   "source": [
    "df71 = df7.merge(df1, how = \"left\", on = [\"base_customer_id\"])"
   ]
  },
  {
   "cell_type": "code",
   "execution_count": 25,
   "id": "af633b31",
   "metadata": {},
   "outputs": [],
   "source": [
    "df713 = df71.merge(df3, how = \"left\", on = [\"customer_id\"])"
   ]
  },
  {
   "cell_type": "code",
   "execution_count": 26,
   "id": "5897f229",
   "metadata": {},
   "outputs": [
    {
     "data": {
      "text/html": [
       "<div>\n",
       "<style scoped>\n",
       "    .dataframe tbody tr th:only-of-type {\n",
       "        vertical-align: middle;\n",
       "    }\n",
       "\n",
       "    .dataframe tbody tr th {\n",
       "        vertical-align: top;\n",
       "    }\n",
       "\n",
       "    .dataframe thead th {\n",
       "        text-align: right;\n",
       "    }\n",
       "</style>\n",
       "<table border=\"1\" class=\"dataframe\">\n",
       "  <thead>\n",
       "    <tr style=\"text-align: right;\">\n",
       "      <th></th>\n",
       "      <th>base_customer_id</th>\n",
       "      <th>expected</th>\n",
       "      <th>customer_id</th>\n",
       "      <th>gender</th>\n",
       "      <th>marital_status</th>\n",
       "      <th>birth_date</th>\n",
       "      <th>fk_address_communication_city</th>\n",
       "      <th>occupation</th>\n",
       "      <th>salesfile_id</th>\n",
       "      <th>sf_create_date</th>\n",
       "      <th>status</th>\n",
       "      <th>req_brand_code</th>\n",
       "      <th>req_topmodel_code</th>\n",
       "    </tr>\n",
       "  </thead>\n",
       "  <tbody>\n",
       "    <tr>\n",
       "      <th>0</th>\n",
       "      <td>168254</td>\n",
       "      <td>NaN</td>\n",
       "      <td>1507435</td>\n",
       "      <td>Erkek</td>\n",
       "      <td>Bekar</td>\n",
       "      <td>1988.000</td>\n",
       "      <td>Şanlıurfa</td>\n",
       "      <td>NaN</td>\n",
       "      <td>NaN</td>\n",
       "      <td>NaN</td>\n",
       "      <td>NaN</td>\n",
       "      <td>NaN</td>\n",
       "      <td>NaN</td>\n",
       "    </tr>\n",
       "    <tr>\n",
       "      <th>1</th>\n",
       "      <td>168254</td>\n",
       "      <td>NaN</td>\n",
       "      <td>1663507</td>\n",
       "      <td>Erkek</td>\n",
       "      <td>Bekar</td>\n",
       "      <td>1988.000</td>\n",
       "      <td>Şanlıurfa</td>\n",
       "      <td>NaN</td>\n",
       "      <td>NaN</td>\n",
       "      <td>NaN</td>\n",
       "      <td>NaN</td>\n",
       "      <td>NaN</td>\n",
       "      <td>NaN</td>\n",
       "    </tr>\n",
       "    <tr>\n",
       "      <th>2</th>\n",
       "      <td>168254</td>\n",
       "      <td>NaN</td>\n",
       "      <td>1507434</td>\n",
       "      <td>Erkek</td>\n",
       "      <td>Bekar</td>\n",
       "      <td>1988.000</td>\n",
       "      <td>Şanlıurfa</td>\n",
       "      <td>NaN</td>\n",
       "      <td>8525045.000</td>\n",
       "      <td>2019-03-27 15:18:06</td>\n",
       "      <td>102.000</td>\n",
       "      <td>Y</td>\n",
       "      <td>9231.000</td>\n",
       "    </tr>\n",
       "    <tr>\n",
       "      <th>3</th>\n",
       "      <td>168254</td>\n",
       "      <td>NaN</td>\n",
       "      <td>1507434</td>\n",
       "      <td>Erkek</td>\n",
       "      <td>Bekar</td>\n",
       "      <td>1988.000</td>\n",
       "      <td>Şanlıurfa</td>\n",
       "      <td>NaN</td>\n",
       "      <td>343656.000</td>\n",
       "      <td>2010-11-23 16:15:05</td>\n",
       "      <td>102.000</td>\n",
       "      <td>Y</td>\n",
       "      <td>9201.000</td>\n",
       "    </tr>\n",
       "    <tr>\n",
       "      <th>4</th>\n",
       "      <td>168254</td>\n",
       "      <td>NaN</td>\n",
       "      <td>1507434</td>\n",
       "      <td>Erkek</td>\n",
       "      <td>Bekar</td>\n",
       "      <td>1988.000</td>\n",
       "      <td>Şanlıurfa</td>\n",
       "      <td>NaN</td>\n",
       "      <td>5908506.000</td>\n",
       "      <td>2016-09-30 12:00:53</td>\n",
       "      <td>105.000</td>\n",
       "      <td>Y</td>\n",
       "      <td>9231.000</td>\n",
       "    </tr>\n",
       "  </tbody>\n",
       "</table>\n",
       "</div>"
      ],
      "text/plain": [
       "   base_customer_id  expected  customer_id gender marital_status  birth_date  \\\n",
       "0            168254       NaN      1507435  Erkek          Bekar    1988.000   \n",
       "1            168254       NaN      1663507  Erkek          Bekar    1988.000   \n",
       "2            168254       NaN      1507434  Erkek          Bekar    1988.000   \n",
       "3            168254       NaN      1507434  Erkek          Bekar    1988.000   \n",
       "4            168254       NaN      1507434  Erkek          Bekar    1988.000   \n",
       "\n",
       "  fk_address_communication_city occupation  salesfile_id       sf_create_date  \\\n",
       "0                     Şanlıurfa        NaN           NaN                  NaN   \n",
       "1                     Şanlıurfa        NaN           NaN                  NaN   \n",
       "2                     Şanlıurfa        NaN   8525045.000  2019-03-27 15:18:06   \n",
       "3                     Şanlıurfa        NaN    343656.000  2010-11-23 16:15:05   \n",
       "4                     Şanlıurfa        NaN   5908506.000  2016-09-30 12:00:53   \n",
       "\n",
       "   status req_brand_code  req_topmodel_code  \n",
       "0     NaN            NaN                NaN  \n",
       "1     NaN            NaN                NaN  \n",
       "2 102.000              Y           9231.000  \n",
       "3 102.000              Y           9201.000  \n",
       "4 105.000              Y           9231.000  "
      ]
     },
     "execution_count": 26,
     "metadata": {},
     "output_type": "execute_result"
    }
   ],
   "source": [
    "df713.head()"
   ]
  },
  {
   "cell_type": "code",
   "execution_count": null,
   "id": "b703a209",
   "metadata": {},
   "outputs": [],
   "source": []
  },
  {
   "cell_type": "code",
   "execution_count": 27,
   "id": "5200a148",
   "metadata": {},
   "outputs": [
    {
     "data": {
      "text/plain": [
       "Index(['vehicle_id', 'customer_id', 'sıfır_create_date'], dtype='object')"
      ]
     },
     "execution_count": 27,
     "metadata": {},
     "output_type": "execute_result"
    }
   ],
   "source": [
    "df4.columns"
   ]
  },
  {
   "cell_type": "code",
   "execution_count": 28,
   "id": "f74feb32",
   "metadata": {},
   "outputs": [
    {
     "data": {
      "text/plain": [
       "Index(['base_customer_id', 'expected', 'customer_id', 'gender',\n",
       "       'marital_status', 'birth_date', 'fk_address_communication_city',\n",
       "       'occupation', 'salesfile_id', 'sf_create_date', 'status',\n",
       "       'req_brand_code', 'req_topmodel_code'],\n",
       "      dtype='object')"
      ]
     },
     "execution_count": 28,
     "metadata": {},
     "output_type": "execute_result"
    }
   ],
   "source": [
    "df713.columns"
   ]
  },
  {
   "cell_type": "code",
   "execution_count": 29,
   "id": "afd177eb",
   "metadata": {},
   "outputs": [
    {
     "data": {
      "text/plain": [
       "Index(['servis_create_date', 'is_maintenance', 'vehicle_id', 'total_amount_tl',\n",
       "       'base_customer_id', 'start_date', 'end_date', 'fk_relation_status_id',\n",
       "       'fk_relation_status_explanation', 'traffic_date', 'brand_code',\n",
       "       'basemodel_code', 'topmodel_code', 'motor_gas_type', 'gear_box_type'],\n",
       "      dtype='object')"
      ]
     },
     "execution_count": 29,
     "metadata": {},
     "output_type": "execute_result"
    }
   ],
   "source": [
    "df625.columns"
   ]
  },
  {
   "cell_type": "code",
   "execution_count": null,
   "id": "ca679cda",
   "metadata": {},
   "outputs": [],
   "source": []
  },
  {
   "cell_type": "code",
   "execution_count": 30,
   "id": "abdede9b",
   "metadata": {},
   "outputs": [],
   "source": [
    "df_ = df713.merge(df625, how = \"left\", on = [\"base_customer_id\"])"
   ]
  },
  {
   "cell_type": "code",
   "execution_count": 31,
   "id": "9a4f6cf2",
   "metadata": {},
   "outputs": [
    {
     "data": {
      "text/html": [
       "<div>\n",
       "<style scoped>\n",
       "    .dataframe tbody tr th:only-of-type {\n",
       "        vertical-align: middle;\n",
       "    }\n",
       "\n",
       "    .dataframe tbody tr th {\n",
       "        vertical-align: top;\n",
       "    }\n",
       "\n",
       "    .dataframe thead th {\n",
       "        text-align: right;\n",
       "    }\n",
       "</style>\n",
       "<table border=\"1\" class=\"dataframe\">\n",
       "  <thead>\n",
       "    <tr style=\"text-align: right;\">\n",
       "      <th></th>\n",
       "      <th>base_customer_id</th>\n",
       "      <th>expected</th>\n",
       "      <th>customer_id</th>\n",
       "      <th>gender</th>\n",
       "      <th>marital_status</th>\n",
       "      <th>birth_date</th>\n",
       "      <th>fk_address_communication_city</th>\n",
       "      <th>occupation</th>\n",
       "      <th>salesfile_id</th>\n",
       "      <th>sf_create_date</th>\n",
       "      <th>status</th>\n",
       "      <th>req_brand_code</th>\n",
       "      <th>req_topmodel_code</th>\n",
       "      <th>servis_create_date</th>\n",
       "      <th>is_maintenance</th>\n",
       "      <th>vehicle_id</th>\n",
       "      <th>total_amount_tl</th>\n",
       "      <th>start_date</th>\n",
       "      <th>end_date</th>\n",
       "      <th>fk_relation_status_id</th>\n",
       "      <th>fk_relation_status_explanation</th>\n",
       "      <th>traffic_date</th>\n",
       "      <th>brand_code</th>\n",
       "      <th>basemodel_code</th>\n",
       "      <th>topmodel_code</th>\n",
       "      <th>motor_gas_type</th>\n",
       "      <th>gear_box_type</th>\n",
       "    </tr>\n",
       "  </thead>\n",
       "  <tbody>\n",
       "    <tr>\n",
       "      <th>0</th>\n",
       "      <td>168254</td>\n",
       "      <td>NaN</td>\n",
       "      <td>1507435</td>\n",
       "      <td>Erkek</td>\n",
       "      <td>Bekar</td>\n",
       "      <td>1988.000</td>\n",
       "      <td>Şanlıurfa</td>\n",
       "      <td>NaN</td>\n",
       "      <td>NaN</td>\n",
       "      <td>NaN</td>\n",
       "      <td>NaN</td>\n",
       "      <td>NaN</td>\n",
       "      <td>NaN</td>\n",
       "      <td>2014-01-15 10:18:52</td>\n",
       "      <td>0.000</td>\n",
       "      <td>5183621</td>\n",
       "      <td>NaN</td>\n",
       "      <td>2015-09-14</td>\n",
       "      <td>2019-07-05</td>\n",
       "      <td>2</td>\n",
       "      <td>Pasif Ruhsat Sahibi</td>\n",
       "      <td>2010-12-27</td>\n",
       "      <td>X</td>\n",
       "      <td>13042</td>\n",
       "      <td>9295</td>\n",
       "      <td>Dizel</td>\n",
       "      <td>Sürekli Değişken</td>\n",
       "    </tr>\n",
       "  </tbody>\n",
       "</table>\n",
       "</div>"
      ],
      "text/plain": [
       "   base_customer_id  expected  customer_id gender marital_status  birth_date  \\\n",
       "0            168254       NaN      1507435  Erkek          Bekar    1988.000   \n",
       "\n",
       "  fk_address_communication_city occupation  salesfile_id sf_create_date  \\\n",
       "0                     Şanlıurfa        NaN           NaN            NaN   \n",
       "\n",
       "   status req_brand_code  req_topmodel_code   servis_create_date  \\\n",
       "0     NaN            NaN                NaN  2014-01-15 10:18:52   \n",
       "\n",
       "   is_maintenance  vehicle_id  total_amount_tl  start_date    end_date  \\\n",
       "0           0.000     5183621              NaN  2015-09-14  2019-07-05   \n",
       "\n",
       "   fk_relation_status_id fk_relation_status_explanation traffic_date  \\\n",
       "0                      2            Pasif Ruhsat Sahibi   2010-12-27   \n",
       "\n",
       "  brand_code  basemodel_code  topmodel_code motor_gas_type     gear_box_type  \n",
       "0          X           13042           9295          Dizel  Sürekli Değişken  "
      ]
     },
     "execution_count": 31,
     "metadata": {},
     "output_type": "execute_result"
    }
   ],
   "source": [
    "df_.head(1)"
   ]
  },
  {
   "cell_type": "code",
   "execution_count": null,
   "id": "a833834d",
   "metadata": {},
   "outputs": [],
   "source": []
  },
  {
   "cell_type": "code",
   "execution_count": null,
   "id": "e5fb2852",
   "metadata": {},
   "outputs": [],
   "source": [
    "df = df_.merge(df4, how = \"left\", on = [\"customer_id\"])"
   ]
  },
  {
   "cell_type": "code",
   "execution_count": null,
   "id": "06e31ec9",
   "metadata": {},
   "outputs": [],
   "source": [
    "df.head(1)"
   ]
  },
  {
   "cell_type": "code",
   "execution_count": null,
   "id": "53781a26",
   "metadata": {},
   "outputs": [],
   "source": [
    "df.info()"
   ]
  },
  {
   "cell_type": "code",
   "execution_count": null,
   "id": "714e1d97",
   "metadata": {},
   "outputs": [],
   "source": [
    "df.isnull().sum()"
   ]
  },
  {
   "cell_type": "code",
   "execution_count": null,
   "id": "f327d8e8",
   "metadata": {},
   "outputs": [],
   "source": [
    "df.base_customer_id.nunique()"
   ]
  },
  {
   "cell_type": "code",
   "execution_count": null,
   "id": "7ac527e7",
   "metadata": {},
   "outputs": [],
   "source": [
    "df[[\"base_customer_id\", \"customer_id\", \"traffic_date\", \"vehicle_id_x\", \"vehicle_id_y\"]]"
   ]
  },
  {
   "cell_type": "code",
   "execution_count": null,
   "id": "fc8231da",
   "metadata": {},
   "outputs": [],
   "source": []
  }
 ],
 "metadata": {
  "kernelspec": {
   "display_name": "Python 3",
   "language": "python",
   "name": "python3"
  },
  "language_info": {
   "codemirror_mode": {
    "name": "ipython",
    "version": 3
   },
   "file_extension": ".py",
   "mimetype": "text/x-python",
   "name": "python",
   "nbconvert_exporter": "python",
   "pygments_lexer": "ipython3",
   "version": "3.8.8"
  }
 },
 "nbformat": 4,
 "nbformat_minor": 5
}
