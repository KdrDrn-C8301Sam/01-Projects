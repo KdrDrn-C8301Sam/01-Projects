{
 "cells": [
  {
   "cell_type": "code",
   "execution_count": 70,
   "id": "8453a8d6",
   "metadata": {},
   "outputs": [
    {
     "data": {
      "text/html": [
       "        <script type=\"text/javascript\">\n",
       "        window.PlotlyConfig = {MathJaxConfig: 'local'};\n",
       "        if (window.MathJax) {MathJax.Hub.Config({SVG: {font: \"STIX-Web\"}});}\n",
       "        if (typeof require !== 'undefined') {\n",
       "        require.undef(\"plotly\");\n",
       "        requirejs.config({\n",
       "            paths: {\n",
       "                'plotly': ['https://cdn.plot.ly/plotly-2.2.0.min']\n",
       "            }\n",
       "        });\n",
       "        require(['plotly'], function(Plotly) {\n",
       "            window._Plotly = Plotly;\n",
       "        });\n",
       "        }\n",
       "        </script>\n",
       "        "
      ]
     },
     "metadata": {},
     "output_type": "display_data"
    }
   ],
   "source": [
    "#!pip install pyforest\n",
    "\n",
    "# 1-Import Libraies\n",
    "import numpy as np\n",
    "import pandas as pd \n",
    "import seaborn as sns\n",
    "import matplotlib.pyplot as plt\n",
    "import scipy.stats as stats\n",
    "%matplotlib inline\n",
    "import statsmodels.api as sm\n",
    "import statsmodels.formula.api as smf\n",
    "import missingno as msno \n",
    "\n",
    "from sklearn.compose import make_column_transformer\n",
    "\n",
    "#Scaling\n",
    "from sklearn.preprocessing import scale \n",
    "from sklearn.preprocessing import StandardScaler\n",
    "from sklearn.preprocessing import PolynomialFeatures \n",
    "from sklearn.preprocessing import OneHotEncoder\n",
    "from sklearn.preprocessing import PowerTransformer \n",
    "from sklearn.preprocessing import MinMaxScaler\n",
    "from sklearn.preprocessing import RobustScaler\n",
    "\n",
    "\n",
    "#Importing plotly and cufflinks in offline mode\n",
    "import cufflinks as cf\n",
    "import plotly.offline\n",
    "cf.go_offline()\n",
    "cf.set_config_file(offline=False, world_readable=True)\n",
    "\n",
    "#Ignore Warnings\n",
    "import warnings\n",
    "warnings.filterwarnings(\"ignore\")\n",
    "warnings.warn(\"this will not show\")\n",
    "\n",
    "#Figure&Display options\n",
    "plt.rcParams[\"figure.figsize\"] = (10,6)\n",
    "pd.set_option('max_colwidth',200)\n",
    "pd.set_option('display.max_rows', 1000)\n",
    "pd.set_option('display.max_columns', 200)\n",
    "pd.set_option('display.float_format', lambda x: '%.3f' % x)\n",
    "\n",
    "#!pip install termcolor\n",
    "import colorama\n",
    "from colorama import Fore, Style  # maakes strings colored\n",
    "from termcolor import colored\n",
    "\n",
    "import ipywidgets\n",
    "from ipywidgets import interact"
   ]
  },
  {
   "cell_type": "code",
   "execution_count": 71,
   "id": "d00cf786",
   "metadata": {},
   "outputs": [],
   "source": [
    "## Useful Functions\n",
    "\n",
    "###############################################################################\n",
    "\n",
    "def missing(df):\n",
    "    missing_number = df.isnull().sum().sort_values(ascending=False)\n",
    "    missing_percent = (df.isnull().sum()/df.isnull().count()).sort_values(ascending=False)\n",
    "    missing_values = pd.concat([missing_number, missing_percent], axis=1, keys=['Missing_Number', 'Missing_Percent'])\n",
    "    return missing_values\n",
    "\n",
    "def missing_values(df):\n",
    "    return missing(df)[missing(df)['Missing_Number']>0]\n",
    "\n",
    "###############################################################################\n",
    "\n",
    "def first_looking(df):\n",
    "    print(colored(\"Shape:\", attrs=['bold']), df.shape,'\\n',\n",
    "          f\"There is \", df.shape[0], \" observation and \", df.shape[1], \" columns in the dataset.\", '\\n',\n",
    "          colored('-'*79, 'red', attrs=['bold']),\n",
    "          colored(\"\\nInfo:\\n\", attrs=['bold']), sep='')\n",
    "    print(df.info(), '\\n', \n",
    "          colored('-'*79, 'red', attrs=['bold']), sep='')\n",
    "    print(colored(\"Number of Uniques:\\n\", attrs=['bold']), df.nunique(),'\\n',\n",
    "          colored('-'*79, 'red', attrs=['bold']), sep='')\n",
    "    print(colored(\"Missing Values:\\n\", attrs=['bold']), missing_values(df),'\\n', \n",
    "          colored('-'*79, 'red', attrs=['bold']), sep='')\n",
    "    print(colored(\"All Columns:\", attrs=['bold']), list(df.columns),'\\n', \n",
    "          colored('-'*79, 'red', attrs=['bold']), sep='')\n",
    "\n",
    "    df.columns= df.columns.str.lower().str.replace('&', '_').str.replace(' ', '_')\n",
    "\n",
    "    print(colored(\"Columns after rename:\", attrs=['bold']), list(df.columns),'\\n',\n",
    "              colored('-'*79, 'red', attrs=['bold']), sep='')\n",
    "\n",
    "def duplicate_values(df):\n",
    "    duplicate_values = df.duplicated(subset=None, keep='first').sum()\n",
    "    if duplicate_values > 0:\n",
    "        df.drop_duplicates(keep='first', inplace=True)\n",
    "        print(duplicate_values, colored(\"duplicates were dropped\", attrs=['bold']),'\\n',\n",
    "              colored('-'*79, 'red', attrs=['bold']), sep='')\n",
    "    else:\n",
    "        print(colored(\"No duplicates\", attrs=['bold']),'\\n',\n",
    "              colored('-'*79, 'red', attrs=['bold']), sep='')\n",
    "        \n",
    "def drop_columns(df, drop_columns):\n",
    "    if drop_columns !=[]:\n",
    "        df.drop(drop_columns, axis=1, inplace=True)\n",
    "        print(drop_columns, 'were dropped')\n",
    "    else:\n",
    "        print(colored('We will now check the missing values and if necessary drop some columns!!!', attrs=['bold']),'\\n',\n",
    "              colored('-'*79, 'red', attrs=['bold']), sep='')\n",
    "        \n",
    "def drop_null(df, limit):\n",
    "    print('Shape:', df.shape)\n",
    "    for i in df.isnull().sum().index:\n",
    "        if (df.isnull().sum()[i]/df.shape[0]*100)>limit:\n",
    "            print(df.isnull().sum()[i], 'percent of', i ,'null and were dropped')\n",
    "            df.drop(i, axis=1, inplace=True)\n",
    "            print('new shape:', df.shape)\n",
    "        else:\n",
    "            print(df.isnull().sum()[i], '%, percentage of missing values of', i ,'less than limit', limit, '%, so we will keep it.')\n",
    "    print('New shape after missing value control:', df.shape)\n",
    "\n",
    "###############################################################################"
   ]
  },
  {
   "cell_type": "markdown",
   "id": "8ada4c82",
   "metadata": {},
   "source": [
    "    FINAL_CUSTOMER_DATATHON.csv \n",
    "                                ['unnamed:_0', 'base_customer_id', 'customer_id', \n",
    "                                 'gender', 'gender_id', 'marital_status', 'marital_status_id', \n",
    "                                 'birth_date', 'fk_address_communication_city', 'occupation'] \n",
    "\n",
    "    FINAL_CUSTOMER_RELATED_TABLE_FOR_DATATHON.csv \n",
    "                                ['unnamed:_0', 'base_customer_id', 'vehicle_id', 'start_date',\n",
    "                                 'end_date', 'fk_relation_status_id', 'fk_relation_status_explanation']\n",
    "          \n",
    "    FINAL_SALES_FILE_DATATHON.csv \n",
    "                                ['unnamed:_0', 'customer_id', 'salesfile_id', 'sf_create_date', 'status',\n",
    "                                 'req_brand_code', 'req_topmodel_code']\n",
    "          \n",
    "    FINAL_SIFIR_ARAC_ALANLAR_DATATHON.csv \n",
    "                                ['unnamed:_0', 'vehicle_id', 'traffic_date', 'brand_code',\n",
    "                                 'basemodel_code', 'topmodel_code', 'motor_gas_type', 'gear_box_type']\n",
    "          \n",
    "    FINAL_VEHICLE_TABLE_DATATHON.csv \n",
    "                                ['unnamed:_0', 'vehicle_id', 'customer_id', 'create_date']\n",
    "    \n",
    "    MASK_SERVIS_BAKIM_DATATHON_FINAL.csv \n",
    "                                ['unnamed:_0', 'create_date', 'is_maintenance', 'vehicle_id',\n",
    "                                 'total_amount_tl']\n",
    "          \n",
    "    sample_submission.csv       ['id', 'expected']"
   ]
  },
  {
   "cell_type": "code",
   "execution_count": 72,
   "id": "959fd2c2",
   "metadata": {},
   "outputs": [],
   "source": [
    "dataset_path1 = \"FINAL_CUSTOMER_DATATHON.csv\"\n",
    "df01_ = pd.read_csv(dataset_path1)\n",
    "df1_ = df01_.copy()\n",
    "\n",
    "dataset_path2 = \"FINAL_CUSTOMER_RELATED_TABLE_FOR_DATATHON.csv\"\n",
    "df02_ = pd.read_csv(dataset_path2)\n",
    "df2_ = df02_.copy()\n",
    "\n",
    "dataset_path3 = \"FINAL_SALES_FILE_DATATHON.csv\"\n",
    "df03_ = pd.read_csv(dataset_path3)\n",
    "df3_ = df03_.copy()\n",
    "\n",
    "dataset_path4 = \"FINAL_SIFIR_ARAC_ALANLAR_DATATHON.csv\"\n",
    "df04_ = pd.read_csv(dataset_path4)\n",
    "df4_ = df04_.copy()\n",
    "\n",
    "dataset_path5 = \"FINAL_VEHICLE_TABLE_DATATHON.csv\"\n",
    "df05_ = pd.read_csv(dataset_path5)\n",
    "df5_ = df05_.copy()\n",
    "\n",
    "dataset_path6 = \"MASK_SERVIS_BAKIM_DATATHON_FINAL.csv\"\n",
    "df06_ = pd.read_csv(dataset_path6)\n",
    "df6_ = df06_.copy()\n",
    "\n",
    "dataset_path7 = \"sample_submission.csv\"\n",
    "df07_ = pd.read_csv(dataset_path7)\n",
    "df7_ = df07_.copy()"
   ]
  },
  {
   "cell_type": "code",
   "execution_count": 73,
   "id": "8905d5be",
   "metadata": {},
   "outputs": [],
   "source": [
    "# # lets check the Summary Statistics for each of the Crops\n",
    "\n",
    "# @interact\n",
    "# def summary(df_list):\n",
    "#     first_looking(df)\n",
    "#     duplicate_values(df)\n",
    "#     drop_columns(df,[])\n",
    "#     drop_null(df, 90)"
   ]
  },
  {
   "cell_type": "code",
   "execution_count": 74,
   "id": "ce134b26",
   "metadata": {},
   "outputs": [
    {
     "name": "stdout",
     "output_type": "stream",
     "text": [
      "\u001b[1mShape:\u001b[0m(849919, 10)\n",
      "There is 849919 observation and 10 columns in the dataset.\n",
      "\u001b[1m\u001b[31m-------------------------------------------------------------------------------\u001b[0m\u001b[1m\n",
      "Info:\n",
      "\u001b[0m\n",
      "<class 'pandas.core.frame.DataFrame'>\n",
      "RangeIndex: 849919 entries, 0 to 849918\n",
      "Data columns (total 10 columns):\n",
      " #   Column                         Non-Null Count   Dtype  \n",
      "---  ------                         --------------   -----  \n",
      " 0   Unnamed: 0                     849919 non-null  int64  \n",
      " 1   BASE_CUSTOMER_ID               849919 non-null  int64  \n",
      " 2   CUSTOMER_ID                    849919 non-null  int64  \n",
      " 3   GENDER                         849916 non-null  object \n",
      " 4   GENDER_ID                      849919 non-null  int64  \n",
      " 5   MARITAL_STATUS                 620802 non-null  object \n",
      " 6   MARITAL_STATUS_ID              849919 non-null  int64  \n",
      " 7   BIRTH_DATE                     645447 non-null  float64\n",
      " 8   FK_ADDRESS_COMMUNICATION_CITY  730341 non-null  object \n",
      " 9   OCCUPATION                     381052 non-null  object \n",
      "dtypes: float64(1), int64(5), object(4)\n",
      "memory usage: 64.8+ MB\n",
      "None\n",
      "\u001b[1m\u001b[31m-------------------------------------------------------------------------------\u001b[0m\n",
      "\u001b[1mNumber of Uniques:\n",
      "\u001b[0mUnnamed: 0                       849919\n",
      "BASE_CUSTOMER_ID                 196564\n",
      "CUSTOMER_ID                      849919\n",
      "GENDER                                2\n",
      "GENDER_ID                             3\n",
      "MARITAL_STATUS                        2\n",
      "MARITAL_STATUS_ID                     3\n",
      "BIRTH_DATE                          107\n",
      "FK_ADDRESS_COMMUNICATION_CITY       142\n",
      "OCCUPATION                           63\n",
      "dtype: int64\n",
      "\u001b[1m\u001b[31m-------------------------------------------------------------------------------\u001b[0m\n",
      "\u001b[1mMissing Values:\n",
      "\u001b[0m                               Missing_Number  Missing_Percent\n",
      "OCCUPATION                             468867            0.552\n",
      "MARITAL_STATUS                         229117            0.270\n",
      "BIRTH_DATE                             204472            0.241\n",
      "FK_ADDRESS_COMMUNICATION_CITY          119578            0.141\n",
      "GENDER                                      3            0.000\n",
      "\u001b[1m\u001b[31m-------------------------------------------------------------------------------\u001b[0m\n",
      "\u001b[1mAll Columns:\u001b[0m['Unnamed: 0', 'BASE_CUSTOMER_ID', 'CUSTOMER_ID', 'GENDER', 'GENDER_ID', 'MARITAL_STATUS', 'MARITAL_STATUS_ID', 'BIRTH_DATE', 'FK_ADDRESS_COMMUNICATION_CITY', 'OCCUPATION']\n",
      "\u001b[1m\u001b[31m-------------------------------------------------------------------------------\u001b[0m\n",
      "\u001b[1mColumns after rename:\u001b[0m['unnamed:_0', 'base_customer_id', 'customer_id', 'gender', 'gender_id', 'marital_status', 'marital_status_id', 'birth_date', 'fk_address_communication_city', 'occupation']\n",
      "\u001b[1m\u001b[31m-------------------------------------------------------------------------------\u001b[0m\n",
      "\u001b[1mNo duplicates\u001b[0m\n",
      "\u001b[1m\u001b[31m-------------------------------------------------------------------------------\u001b[0m\n",
      "\u001b[1mWe will now check the missing values and if necessary drop some columns!!!\u001b[0m\n",
      "\u001b[1m\u001b[31m-------------------------------------------------------------------------------\u001b[0m\n",
      "Shape: (849919, 10)\n",
      "0 %, percentage of missing values of unnamed:_0 less than limit 90 %, so we will keep it.\n",
      "0 %, percentage of missing values of base_customer_id less than limit 90 %, so we will keep it.\n",
      "0 %, percentage of missing values of customer_id less than limit 90 %, so we will keep it.\n",
      "3 %, percentage of missing values of gender less than limit 90 %, so we will keep it.\n",
      "0 %, percentage of missing values of gender_id less than limit 90 %, so we will keep it.\n",
      "229117 %, percentage of missing values of marital_status less than limit 90 %, so we will keep it.\n",
      "0 %, percentage of missing values of marital_status_id less than limit 90 %, so we will keep it.\n",
      "204472 %, percentage of missing values of birth_date less than limit 90 %, so we will keep it.\n",
      "119578 %, percentage of missing values of fk_address_communication_city less than limit 90 %, so we will keep it.\n",
      "468867 %, percentage of missing values of occupation less than limit 90 %, so we will keep it.\n",
      "New shape after missing value control: (849919, 10)\n"
     ]
    }
   ],
   "source": [
    "# 2-Load|Read Data\n",
    "dataset_path = \"FINAL_CUSTOMER_DATATHON.csv\"\n",
    "df0 = pd.read_csv(dataset_path)\n",
    "df = df0.copy() \n",
    "first_looking(df)\n",
    "duplicate_values(df)\n",
    "drop_columns(df,[])\n",
    "drop_null(df, 90)\n",
    "# df.head()\n",
    "# df.tail()\n",
    "# df.sample(5)\n",
    "# df.describe().T\n",
    "# df.describe(include=object).T"
   ]
  },
  {
   "cell_type": "code",
   "execution_count": 75,
   "id": "ef7f8365",
   "metadata": {},
   "outputs": [
    {
     "name": "stdout",
     "output_type": "stream",
     "text": [
      "\u001b[1mShape:\u001b[0m(374879, 7)\n",
      "There is 374879 observation and 7 columns in the dataset.\n",
      "\u001b[1m\u001b[31m-------------------------------------------------------------------------------\u001b[0m\u001b[1m\n",
      "Info:\n",
      "\u001b[0m\n",
      "<class 'pandas.core.frame.DataFrame'>\n",
      "RangeIndex: 374879 entries, 0 to 374878\n",
      "Data columns (total 7 columns):\n",
      " #   Column                          Non-Null Count   Dtype \n",
      "---  ------                          --------------   ----- \n",
      " 0   Unnamed: 0                      374879 non-null  int64 \n",
      " 1   BASE_CUSTOMER_ID                374879 non-null  int64 \n",
      " 2   VEHICLE_ID                      374879 non-null  int64 \n",
      " 3   START_DATE                      374879 non-null  object\n",
      " 4   END_DATE                        159757 non-null  object\n",
      " 5   FK_RELATION_STATUS_ID           374879 non-null  int64 \n",
      " 6   FK_RELATION_STATUS_EXPLANATION  374879 non-null  object\n",
      "dtypes: int64(4), object(3)\n",
      "memory usage: 20.0+ MB\n",
      "None\n",
      "\u001b[1m\u001b[31m-------------------------------------------------------------------------------\u001b[0m\n",
      "\u001b[1mNumber of Uniques:\n",
      "\u001b[0mUnnamed: 0                        374879\n",
      "BASE_CUSTOMER_ID                  196538\n",
      "VEHICLE_ID                        345092\n",
      "START_DATE                          8132\n",
      "END_DATE                            6164\n",
      "FK_RELATION_STATUS_ID                  2\n",
      "FK_RELATION_STATUS_EXPLANATION         2\n",
      "dtype: int64\n",
      "\u001b[1m\u001b[31m-------------------------------------------------------------------------------\u001b[0m\n",
      "\u001b[1mMissing Values:\n",
      "\u001b[0m          Missing_Number  Missing_Percent\n",
      "END_DATE          215122            0.574\n",
      "\u001b[1m\u001b[31m-------------------------------------------------------------------------------\u001b[0m\n",
      "\u001b[1mAll Columns:\u001b[0m['Unnamed: 0', 'BASE_CUSTOMER_ID', 'VEHICLE_ID', 'START_DATE', 'END_DATE', 'FK_RELATION_STATUS_ID', 'FK_RELATION_STATUS_EXPLANATION']\n",
      "\u001b[1m\u001b[31m-------------------------------------------------------------------------------\u001b[0m\n",
      "\u001b[1mColumns after rename:\u001b[0m['unnamed:_0', 'base_customer_id', 'vehicle_id', 'start_date', 'end_date', 'fk_relation_status_id', 'fk_relation_status_explanation']\n",
      "\u001b[1m\u001b[31m-------------------------------------------------------------------------------\u001b[0m\n",
      "\u001b[1mNo duplicates\u001b[0m\n",
      "\u001b[1m\u001b[31m-------------------------------------------------------------------------------\u001b[0m\n",
      "\u001b[1mWe will now check the missing values and if necessary drop some columns!!!\u001b[0m\n",
      "\u001b[1m\u001b[31m-------------------------------------------------------------------------------\u001b[0m\n",
      "Shape: (374879, 7)\n",
      "0 %, percentage of missing values of unnamed:_0 less than limit 90 %, so we will keep it.\n",
      "0 %, percentage of missing values of base_customer_id less than limit 90 %, so we will keep it.\n",
      "0 %, percentage of missing values of vehicle_id less than limit 90 %, so we will keep it.\n",
      "0 %, percentage of missing values of start_date less than limit 90 %, so we will keep it.\n",
      "215122 %, percentage of missing values of end_date less than limit 90 %, so we will keep it.\n",
      "0 %, percentage of missing values of fk_relation_status_id less than limit 90 %, so we will keep it.\n",
      "0 %, percentage of missing values of fk_relation_status_explanation less than limit 90 %, so we will keep it.\n",
      "New shape after missing value control: (374879, 7)\n"
     ]
    }
   ],
   "source": [
    "# 2-Load|Read Data\n",
    "dataset_path = \"FINAL_CUSTOMER_RELATED_TABLE_FOR_DATATHON.csv\"\n",
    "df0 = pd.read_csv(dataset_path)\n",
    "df = df0.copy() \n",
    "first_looking(df)\n",
    "duplicate_values(df)\n",
    "drop_columns(df,[])\n",
    "drop_null(df, 90)\n",
    "# df.head()\n",
    "# df.tail()\n",
    "# df.sample(5)\n",
    "# df.describe().T\n",
    "# df.describe(include=object).T"
   ]
  },
  {
   "cell_type": "code",
   "execution_count": 76,
   "id": "2b172e72",
   "metadata": {},
   "outputs": [
    {
     "name": "stdout",
     "output_type": "stream",
     "text": [
      "\u001b[1mShape:\u001b[0m(397526, 7)\n",
      "There is 397526 observation and 7 columns in the dataset.\n",
      "\u001b[1m\u001b[31m-------------------------------------------------------------------------------\u001b[0m\u001b[1m\n",
      "Info:\n",
      "\u001b[0m\n",
      "<class 'pandas.core.frame.DataFrame'>\n",
      "RangeIndex: 397526 entries, 0 to 397525\n",
      "Data columns (total 7 columns):\n",
      " #   Column             Non-Null Count   Dtype  \n",
      "---  ------             --------------   -----  \n",
      " 0   Unnamed: 0         397526 non-null  int64  \n",
      " 1   CUSTOMER_ID        397526 non-null  int64  \n",
      " 2   SALESFILE_ID       397526 non-null  float64\n",
      " 3   SF_CREATE_DATE     397526 non-null  object \n",
      " 4   STATUS             397526 non-null  int64  \n",
      " 5   REQ_BRAND_CODE     397526 non-null  object \n",
      " 6   REQ_TOPMODEL_CODE  397237 non-null  float64\n",
      "dtypes: float64(2), int64(3), object(2)\n",
      "memory usage: 21.2+ MB\n",
      "None\n",
      "\u001b[1m\u001b[31m-------------------------------------------------------------------------------\u001b[0m\n",
      "\u001b[1mNumber of Uniques:\n",
      "\u001b[0mUnnamed: 0           397526\n",
      "CUSTOMER_ID          183523\n",
      "SALESFILE_ID         396278\n",
      "SF_CREATE_DATE       395534\n",
      "STATUS                    6\n",
      "REQ_BRAND_CODE            5\n",
      "REQ_TOPMODEL_CODE       277\n",
      "dtype: int64\n",
      "\u001b[1m\u001b[31m-------------------------------------------------------------------------------\u001b[0m\n",
      "\u001b[1mMissing Values:\n",
      "\u001b[0m                   Missing_Number  Missing_Percent\n",
      "REQ_TOPMODEL_CODE             289            0.001\n",
      "\u001b[1m\u001b[31m-------------------------------------------------------------------------------\u001b[0m\n",
      "\u001b[1mAll Columns:\u001b[0m['Unnamed: 0', 'CUSTOMER_ID', 'SALESFILE_ID', 'SF_CREATE_DATE', 'STATUS', 'REQ_BRAND_CODE', 'REQ_TOPMODEL_CODE']\n",
      "\u001b[1m\u001b[31m-------------------------------------------------------------------------------\u001b[0m\n",
      "\u001b[1mColumns after rename:\u001b[0m['unnamed:_0', 'customer_id', 'salesfile_id', 'sf_create_date', 'status', 'req_brand_code', 'req_topmodel_code']\n",
      "\u001b[1m\u001b[31m-------------------------------------------------------------------------------\u001b[0m\n",
      "\u001b[1mNo duplicates\u001b[0m\n",
      "\u001b[1m\u001b[31m-------------------------------------------------------------------------------\u001b[0m\n",
      "\u001b[1mWe will now check the missing values and if necessary drop some columns!!!\u001b[0m\n",
      "\u001b[1m\u001b[31m-------------------------------------------------------------------------------\u001b[0m\n",
      "Shape: (397526, 7)\n",
      "0 %, percentage of missing values of unnamed:_0 less than limit 90 %, so we will keep it.\n",
      "0 %, percentage of missing values of customer_id less than limit 90 %, so we will keep it.\n",
      "0 %, percentage of missing values of salesfile_id less than limit 90 %, so we will keep it.\n",
      "0 %, percentage of missing values of sf_create_date less than limit 90 %, so we will keep it.\n",
      "0 %, percentage of missing values of status less than limit 90 %, so we will keep it.\n",
      "0 %, percentage of missing values of req_brand_code less than limit 90 %, so we will keep it.\n",
      "289 %, percentage of missing values of req_topmodel_code less than limit 90 %, so we will keep it.\n",
      "New shape after missing value control: (397526, 7)\n"
     ]
    }
   ],
   "source": [
    "# 2-Load|Read Data\n",
    "dataset_path = \"FINAL_SALES_FILE_DATATHON.csv\"\n",
    "df0 = pd.read_csv(dataset_path)\n",
    "df = df0.copy() \n",
    "first_looking(df)\n",
    "duplicate_values(df)\n",
    "drop_columns(df,[])\n",
    "drop_null(df, 90)\n",
    "# df.head()\n",
    "# df.tail()\n",
    "# df.sample(5)\n",
    "# df.describe().T\n",
    "# df.describe(include=object).T"
   ]
  },
  {
   "cell_type": "code",
   "execution_count": 77,
   "id": "faff8e5c",
   "metadata": {},
   "outputs": [
    {
     "name": "stdout",
     "output_type": "stream",
     "text": [
      "\u001b[1mShape:\u001b[0m(169525, 4)\n",
      "There is 169525 observation and 4 columns in the dataset.\n",
      "\u001b[1m\u001b[31m-------------------------------------------------------------------------------\u001b[0m\u001b[1m\n",
      "Info:\n",
      "\u001b[0m\n",
      "<class 'pandas.core.frame.DataFrame'>\n",
      "RangeIndex: 169525 entries, 0 to 169524\n",
      "Data columns (total 4 columns):\n",
      " #   Column       Non-Null Count   Dtype \n",
      "---  ------       --------------   ----- \n",
      " 0   Unnamed: 0   169525 non-null  int64 \n",
      " 1   VEHICLE_ID   169525 non-null  int64 \n",
      " 2   CUSTOMER_ID  169525 non-null  int64 \n",
      " 3   CREATE_DATE  169525 non-null  object\n",
      "dtypes: int64(3), object(1)\n",
      "memory usage: 5.2+ MB\n",
      "None\n",
      "\u001b[1m\u001b[31m-------------------------------------------------------------------------------\u001b[0m\n",
      "\u001b[1mNumber of Uniques:\n",
      "\u001b[0mUnnamed: 0     169525\n",
      "VEHICLE_ID     169521\n",
      "CUSTOMER_ID    138432\n",
      "CREATE_DATE    151242\n",
      "dtype: int64\n",
      "\u001b[1m\u001b[31m-------------------------------------------------------------------------------\u001b[0m\n",
      "\u001b[1mMissing Values:\n",
      "\u001b[0mEmpty DataFrame\n",
      "Columns: [Missing_Number, Missing_Percent]\n",
      "Index: []\n",
      "\u001b[1m\u001b[31m-------------------------------------------------------------------------------\u001b[0m\n",
      "\u001b[1mAll Columns:\u001b[0m['Unnamed: 0', 'VEHICLE_ID', 'CUSTOMER_ID', 'CREATE_DATE']\n",
      "\u001b[1m\u001b[31m-------------------------------------------------------------------------------\u001b[0m\n",
      "\u001b[1mColumns after rename:\u001b[0m['unnamed:_0', 'vehicle_id', 'customer_id', 'create_date']\n",
      "\u001b[1m\u001b[31m-------------------------------------------------------------------------------\u001b[0m\n",
      "\u001b[1mNo duplicates\u001b[0m\n",
      "\u001b[1m\u001b[31m-------------------------------------------------------------------------------\u001b[0m\n",
      "\u001b[1mWe will now check the missing values and if necessary drop some columns!!!\u001b[0m\n",
      "\u001b[1m\u001b[31m-------------------------------------------------------------------------------\u001b[0m\n",
      "Shape: (169525, 4)\n",
      "0 %, percentage of missing values of unnamed:_0 less than limit 90 %, so we will keep it.\n",
      "0 %, percentage of missing values of vehicle_id less than limit 90 %, so we will keep it.\n",
      "0 %, percentage of missing values of customer_id less than limit 90 %, so we will keep it.\n",
      "0 %, percentage of missing values of create_date less than limit 90 %, so we will keep it.\n",
      "New shape after missing value control: (169525, 4)\n"
     ]
    }
   ],
   "source": [
    "# 2-Load|Read Data\n",
    "dataset_path = \"FINAL_SIFIR_ARAC_ALANLAR_DATATHON.csv\"\n",
    "df0 = pd.read_csv(dataset_path)\n",
    "df = df0.copy() \n",
    "first_looking(df)\n",
    "duplicate_values(df)\n",
    "drop_columns(df,[])\n",
    "drop_null(df, 90)\n",
    "# df.head()\n",
    "# df.tail()\n",
    "# df.sample(5)\n",
    "# df.describe().T\n",
    "# df.describe(include=object).T"
   ]
  },
  {
   "cell_type": "code",
   "execution_count": 78,
   "id": "6ec288f0",
   "metadata": {},
   "outputs": [
    {
     "name": "stdout",
     "output_type": "stream",
     "text": [
      "\u001b[1mShape:\u001b[0m(345092, 8)\n",
      "There is 345092 observation and 8 columns in the dataset.\n",
      "\u001b[1m\u001b[31m-------------------------------------------------------------------------------\u001b[0m\u001b[1m\n",
      "Info:\n",
      "\u001b[0m\n",
      "<class 'pandas.core.frame.DataFrame'>\n",
      "RangeIndex: 345092 entries, 0 to 345091\n",
      "Data columns (total 8 columns):\n",
      " #   Column          Non-Null Count   Dtype \n",
      "---  ------          --------------   ----- \n",
      " 0   Unnamed: 0      345092 non-null  int64 \n",
      " 1   VEHICLE_ID      345092 non-null  int64 \n",
      " 2   TRAFFIC_DATE    344226 non-null  object\n",
      " 3   BRAND_CODE      345092 non-null  object\n",
      " 4   BASEMODEL_CODE  345092 non-null  int64 \n",
      " 5   TOPMODEL_CODE   345092 non-null  int64 \n",
      " 6   MOTOR_GAS_TYPE  272646 non-null  object\n",
      " 7   GEAR_BOX_TYPE   261077 non-null  object\n",
      "dtypes: int64(4), object(4)\n",
      "memory usage: 21.1+ MB\n",
      "None\n",
      "\u001b[1m\u001b[31m-------------------------------------------------------------------------------\u001b[0m\n",
      "\u001b[1mNumber of Uniques:\n",
      "\u001b[0mUnnamed: 0        345092\n",
      "VEHICLE_ID        345092\n",
      "TRAFFIC_DATE        7428\n",
      "BRAND_CODE             5\n",
      "BASEMODEL_CODE      2477\n",
      "TOPMODEL_CODE        346\n",
      "MOTOR_GAS_TYPE        10\n",
      "GEAR_BOX_TYPE         14\n",
      "dtype: int64\n",
      "\u001b[1m\u001b[31m-------------------------------------------------------------------------------\u001b[0m\n",
      "\u001b[1mMissing Values:\n",
      "\u001b[0m                Missing_Number  Missing_Percent\n",
      "GEAR_BOX_TYPE            84015            0.243\n",
      "MOTOR_GAS_TYPE           72446            0.210\n",
      "TRAFFIC_DATE               866            0.003\n",
      "\u001b[1m\u001b[31m-------------------------------------------------------------------------------\u001b[0m\n",
      "\u001b[1mAll Columns:\u001b[0m['Unnamed: 0', 'VEHICLE_ID', 'TRAFFIC_DATE', 'BRAND_CODE', 'BASEMODEL_CODE', 'TOPMODEL_CODE', 'MOTOR_GAS_TYPE', 'GEAR_BOX_TYPE']\n",
      "\u001b[1m\u001b[31m-------------------------------------------------------------------------------\u001b[0m\n",
      "\u001b[1mColumns after rename:\u001b[0m['unnamed:_0', 'vehicle_id', 'traffic_date', 'brand_code', 'basemodel_code', 'topmodel_code', 'motor_gas_type', 'gear_box_type']\n",
      "\u001b[1m\u001b[31m-------------------------------------------------------------------------------\u001b[0m\n",
      "\u001b[1mNo duplicates\u001b[0m\n",
      "\u001b[1m\u001b[31m-------------------------------------------------------------------------------\u001b[0m\n",
      "\u001b[1mWe will now check the missing values and if necessary drop some columns!!!\u001b[0m\n",
      "\u001b[1m\u001b[31m-------------------------------------------------------------------------------\u001b[0m\n",
      "Shape: (345092, 8)\n",
      "0 %, percentage of missing values of unnamed:_0 less than limit 90 %, so we will keep it.\n",
      "0 %, percentage of missing values of vehicle_id less than limit 90 %, so we will keep it.\n",
      "866 %, percentage of missing values of traffic_date less than limit 90 %, so we will keep it.\n",
      "0 %, percentage of missing values of brand_code less than limit 90 %, so we will keep it.\n",
      "0 %, percentage of missing values of basemodel_code less than limit 90 %, so we will keep it.\n",
      "0 %, percentage of missing values of topmodel_code less than limit 90 %, so we will keep it.\n",
      "72446 %, percentage of missing values of motor_gas_type less than limit 90 %, so we will keep it.\n",
      "84015 %, percentage of missing values of gear_box_type less than limit 90 %, so we will keep it.\n",
      "New shape after missing value control: (345092, 8)\n"
     ]
    }
   ],
   "source": [
    "# 2-Load|Read Data\n",
    "dataset_path = \"FINAL_VEHICLE_TABLE_DATATHON.csv\"\n",
    "df0 = pd.read_csv(dataset_path)\n",
    "df = df0.copy() \n",
    "first_looking(df)\n",
    "duplicate_values(df)\n",
    "drop_columns(df,[])\n",
    "drop_null(df, 90)\n",
    "# df.head()\n",
    "# df.tail()\n",
    "# df.sample(5)\n",
    "# df.describe().T\n",
    "# df.describe(include=object).T"
   ]
  },
  {
   "cell_type": "code",
   "execution_count": 79,
   "id": "d983cf70",
   "metadata": {},
   "outputs": [
    {
     "name": "stdout",
     "output_type": "stream",
     "text": [
      "\u001b[1mShape:\u001b[0m(1041000, 5)\n",
      "There is 1041000 observation and 5 columns in the dataset.\n",
      "\u001b[1m\u001b[31m-------------------------------------------------------------------------------\u001b[0m\u001b[1m\n",
      "Info:\n",
      "\u001b[0m\n",
      "<class 'pandas.core.frame.DataFrame'>\n",
      "RangeIndex: 1041000 entries, 0 to 1040999\n",
      "Data columns (total 5 columns):\n",
      " #   Column           Non-Null Count    Dtype  \n",
      "---  ------           --------------    -----  \n",
      " 0   Unnamed: 0       1041000 non-null  int64  \n",
      " 1   CREATE_DATE      1041000 non-null  object \n",
      " 2   IS_MAINTENANCE   1041000 non-null  int64  \n",
      " 3   VEHICLE_ID       1041000 non-null  int64  \n",
      " 4   TOTAL_AMOUNT_TL  965596 non-null   float64\n",
      "dtypes: float64(1), int64(3), object(1)\n",
      "memory usage: 39.7+ MB\n",
      "None\n",
      "\u001b[1m\u001b[31m-------------------------------------------------------------------------------\u001b[0m\n",
      "\u001b[1mNumber of Uniques:\n",
      "\u001b[0mUnnamed: 0         1041000\n",
      "CREATE_DATE        1033883\n",
      "IS_MAINTENANCE           2\n",
      "VEHICLE_ID          225447\n",
      "TOTAL_AMOUNT_TL      16006\n",
      "dtype: int64\n",
      "\u001b[1m\u001b[31m-------------------------------------------------------------------------------\u001b[0m\n",
      "\u001b[1mMissing Values:\n",
      "\u001b[0m                 Missing_Number  Missing_Percent\n",
      "TOTAL_AMOUNT_TL           75404            0.072\n",
      "\u001b[1m\u001b[31m-------------------------------------------------------------------------------\u001b[0m\n",
      "\u001b[1mAll Columns:\u001b[0m['Unnamed: 0', 'CREATE_DATE', 'IS_MAINTENANCE', 'VEHICLE_ID', 'TOTAL_AMOUNT_TL']\n",
      "\u001b[1m\u001b[31m-------------------------------------------------------------------------------\u001b[0m\n",
      "\u001b[1mColumns after rename:\u001b[0m['unnamed:_0', 'create_date', 'is_maintenance', 'vehicle_id', 'total_amount_tl']\n",
      "\u001b[1m\u001b[31m-------------------------------------------------------------------------------\u001b[0m\n",
      "\u001b[1mNo duplicates\u001b[0m\n",
      "\u001b[1m\u001b[31m-------------------------------------------------------------------------------\u001b[0m\n",
      "\u001b[1mWe will now check the missing values and if necessary drop some columns!!!\u001b[0m\n",
      "\u001b[1m\u001b[31m-------------------------------------------------------------------------------\u001b[0m\n",
      "Shape: (1041000, 5)\n",
      "0 %, percentage of missing values of unnamed:_0 less than limit 90 %, so we will keep it.\n",
      "0 %, percentage of missing values of create_date less than limit 90 %, so we will keep it.\n",
      "0 %, percentage of missing values of is_maintenance less than limit 90 %, so we will keep it.\n",
      "0 %, percentage of missing values of vehicle_id less than limit 90 %, so we will keep it.\n",
      "75404 %, percentage of missing values of total_amount_tl less than limit 90 %, so we will keep it.\n",
      "New shape after missing value control: (1041000, 5)\n"
     ]
    }
   ],
   "source": [
    "# 2-Load|Read Data\n",
    "dataset_path = \"MASK_SERVIS_BAKIM_DATATHON_FINAL.csv\"\n",
    "df0 = pd.read_csv(dataset_path)\n",
    "df = df0.copy() \n",
    "first_looking(df)\n",
    "duplicate_values(df)\n",
    "drop_columns(df,[])\n",
    "drop_null(df, 90)\n",
    "# df.head()\n",
    "# df.tail()\n",
    "# df.sample(5)\n",
    "# df.describe().T\n",
    "# df.describe(include=object).T"
   ]
  },
  {
   "cell_type": "code",
   "execution_count": 80,
   "id": "0c9d13e4",
   "metadata": {
    "scrolled": false
   },
   "outputs": [
    {
     "name": "stdout",
     "output_type": "stream",
     "text": [
      "\u001b[1mShape:\u001b[0m(166943, 2)\n",
      "There is 166943 observation and 2 columns in the dataset.\n",
      "\u001b[1m\u001b[31m-------------------------------------------------------------------------------\u001b[0m\u001b[1m\n",
      "Info:\n",
      "\u001b[0m\n",
      "<class 'pandas.core.frame.DataFrame'>\n",
      "RangeIndex: 166943 entries, 0 to 166942\n",
      "Data columns (total 2 columns):\n",
      " #   Column    Non-Null Count   Dtype  \n",
      "---  ------    --------------   -----  \n",
      " 0   Id        166943 non-null  int64  \n",
      " 1   Expected  0 non-null       float64\n",
      "dtypes: float64(1), int64(1)\n",
      "memory usage: 2.5 MB\n",
      "None\n",
      "\u001b[1m\u001b[31m-------------------------------------------------------------------------------\u001b[0m\n",
      "\u001b[1mNumber of Uniques:\n",
      "\u001b[0mId          166943\n",
      "Expected         0\n",
      "dtype: int64\n",
      "\u001b[1m\u001b[31m-------------------------------------------------------------------------------\u001b[0m\n",
      "\u001b[1mMissing Values:\n",
      "\u001b[0m          Missing_Number  Missing_Percent\n",
      "Expected          166943            1.000\n",
      "\u001b[1m\u001b[31m-------------------------------------------------------------------------------\u001b[0m\n",
      "\u001b[1mAll Columns:\u001b[0m['Id', 'Expected']\n",
      "\u001b[1m\u001b[31m-------------------------------------------------------------------------------\u001b[0m\n",
      "\u001b[1mColumns after rename:\u001b[0m['id', 'expected']\n",
      "\u001b[1m\u001b[31m-------------------------------------------------------------------------------\u001b[0m\n",
      "\u001b[1mNo duplicates\u001b[0m\n",
      "\u001b[1m\u001b[31m-------------------------------------------------------------------------------\u001b[0m\n",
      "\u001b[1mWe will now check the missing values and if necessary drop some columns!!!\u001b[0m\n",
      "\u001b[1m\u001b[31m-------------------------------------------------------------------------------\u001b[0m\n",
      "Shape: (166943, 2)\n",
      "0 %, percentage of missing values of id less than limit 90 %, so we will keep it.\n",
      "166943 percent of expected null and were dropped\n",
      "new shape: (166943, 1)\n",
      "New shape after missing value control: (166943, 1)\n"
     ]
    }
   ],
   "source": [
    "# 2-Load|Read Data\n",
    "dataset_path = \"sample_submission.csv\"\n",
    "df0 = pd.read_csv(dataset_path)\n",
    "df = df0.copy() \n",
    "first_looking(df)\n",
    "duplicate_values(df)\n",
    "drop_columns(df,[])\n",
    "drop_null(df, 90)\n",
    "# df.head()\n",
    "# df.tail()\n",
    "# df.sample(5)\n",
    "# df.describe().T\n",
    "# df.describe(include=object).T"
   ]
  },
  {
   "cell_type": "code",
   "execution_count": 81,
   "id": "7b118ee7",
   "metadata": {
    "scrolled": false
   },
   "outputs": [
    {
     "name": "stdout",
     "output_type": "stream",
     "text": [
      "Index(['Unnamed: 0', 'BASE_CUSTOMER_ID', 'CUSTOMER_ID', 'GENDER', 'GENDER_ID',\n",
      "       'MARITAL_STATUS', 'MARITAL_STATUS_ID', 'BIRTH_DATE',\n",
      "       'FK_ADDRESS_COMMUNICATION_CITY', 'OCCUPATION'],\n",
      "      dtype='object')\n",
      "Index(['Unnamed: 0', 'BASE_CUSTOMER_ID', 'VEHICLE_ID', 'START_DATE',\n",
      "       'END_DATE', 'FK_RELATION_STATUS_ID', 'FK_RELATION_STATUS_EXPLANATION'],\n",
      "      dtype='object')\n",
      "Index(['Unnamed: 0', 'CUSTOMER_ID', 'SALESFILE_ID', 'SF_CREATE_DATE', 'STATUS',\n",
      "       'REQ_BRAND_CODE', 'REQ_TOPMODEL_CODE'],\n",
      "      dtype='object')\n",
      "Index(['Unnamed: 0', 'VEHICLE_ID', 'CUSTOMER_ID', 'CREATE_DATE'], dtype='object')\n",
      "Index(['Unnamed: 0', 'VEHICLE_ID', 'TRAFFIC_DATE', 'BRAND_CODE',\n",
      "       'BASEMODEL_CODE', 'TOPMODEL_CODE', 'MOTOR_GAS_TYPE', 'GEAR_BOX_TYPE'],\n",
      "      dtype='object')\n",
      "Index(['Unnamed: 0', 'CREATE_DATE', 'IS_MAINTENANCE', 'VEHICLE_ID',\n",
      "       'TOTAL_AMOUNT_TL'],\n",
      "      dtype='object')\n",
      "Index(['Id', 'Expected'], dtype='object')\n"
     ]
    }
   ],
   "source": [
    "print(df1_.columns)\n",
    "print(df2_.columns)\n",
    "print(df3_.columns)\n",
    "print(df4_.columns)\n",
    "print(df5_.columns)\n",
    "print(df6_.columns)\n",
    "print(df7_.columns)"
   ]
  },
  {
   "cell_type": "code",
   "execution_count": 82,
   "id": "36c47449",
   "metadata": {},
   "outputs": [
    {
     "name": "stdout",
     "output_type": "stream",
     "text": [
      "0              0\n",
      "1              1\n",
      "2              2\n",
      "3              3\n",
      "4              4\n",
      "           ...  \n",
      "849914    849914\n",
      "849915    849915\n",
      "849916    849916\n",
      "849917    849917\n",
      "849918    849918\n",
      "Name: Unnamed: 0, Length: 849919, dtype: int64\n",
      "(849919, 10)\n",
      "0              0\n",
      "1              1\n",
      "2              2\n",
      "3              3\n",
      "4              4\n",
      "           ...  \n",
      "374874    374874\n",
      "374875    374875\n",
      "374876    374876\n",
      "374877    374877\n",
      "374878    374878\n",
      "Name: Unnamed: 0, Length: 374879, dtype: int64\n",
      "(374879, 7)\n",
      "0              0\n",
      "1              1\n",
      "2              2\n",
      "3              3\n",
      "4              4\n",
      "           ...  \n",
      "397521    397521\n",
      "397522    397522\n",
      "397523    397523\n",
      "397524    397524\n",
      "397525    397525\n",
      "Name: Unnamed: 0, Length: 397526, dtype: int64\n",
      "(397526, 7)\n",
      "0              0\n",
      "1              1\n",
      "2              2\n",
      "3              3\n",
      "4              4\n",
      "           ...  \n",
      "169520    169520\n",
      "169521    169521\n",
      "169522    169522\n",
      "169523    169523\n",
      "169524    169524\n",
      "Name: Unnamed: 0, Length: 169525, dtype: int64\n",
      "(169525, 4)\n",
      "0              0\n",
      "1              1\n",
      "2              2\n",
      "3              3\n",
      "4              4\n",
      "           ...  \n",
      "345087    345087\n",
      "345088    345088\n",
      "345089    345089\n",
      "345090    345090\n",
      "345091    345091\n",
      "Name: Unnamed: 0, Length: 345092, dtype: int64\n",
      "(345092, 8)\n",
      "0                0\n",
      "1                1\n",
      "2                2\n",
      "3                3\n",
      "4                4\n",
      "            ...   \n",
      "1040995    1040995\n",
      "1040996    1040996\n",
      "1040997    1040997\n",
      "1040998    1040998\n",
      "1040999    1040999\n",
      "Name: Unnamed: 0, Length: 1041000, dtype: int64\n",
      "(1041000, 5)\n",
      "(166943, 2)\n"
     ]
    }
   ],
   "source": [
    "print(df1_[\"Unnamed: 0\"])\n",
    "print(df1_.shape)\n",
    "print(df2_[\"Unnamed: 0\"])\n",
    "print(df2_.shape)\n",
    "print(df3_[\"Unnamed: 0\"])\n",
    "print(df3_.shape)\n",
    "print(df4_[\"Unnamed: 0\"])\n",
    "print(df4_.shape)\n",
    "print(df5_[\"Unnamed: 0\"])\n",
    "print(df5_.shape)\n",
    "print(df6_[\"Unnamed: 0\"])\n",
    "print(df6_.shape)\n",
    "print(df7_.shape)"
   ]
  },
  {
   "cell_type": "code",
   "execution_count": 83,
   "id": "c2b8f13f",
   "metadata": {},
   "outputs": [
    {
     "name": "stdout",
     "output_type": "stream",
     "text": [
      "Unnamed: 0 were dropped\n",
      "Unnamed: 0 were dropped\n",
      "Unnamed: 0 were dropped\n",
      "Unnamed: 0 were dropped\n",
      "Unnamed: 0 were dropped\n",
      "Unnamed: 0 were dropped\n"
     ]
    }
   ],
   "source": [
    "drop_columns(df1_, 'Unnamed: 0')\n",
    "drop_columns(df2_, 'Unnamed: 0')\n",
    "drop_columns(df3_, 'Unnamed: 0')\n",
    "drop_columns(df4_, 'Unnamed: 0')\n",
    "drop_columns(df5_, 'Unnamed: 0')\n",
    "drop_columns(df6_, 'Unnamed: 0')\n",
    "# unnamed:_0 indexlerden olusuyor sadece, dusuyoruz"
   ]
  },
  {
   "cell_type": "code",
   "execution_count": 84,
   "id": "bc529d6a",
   "metadata": {},
   "outputs": [],
   "source": [
    "df1_.columns= df1_.columns.str.lower().str.replace('&', '_').str.replace(' ', '_')\n",
    "df2_.columns= df2_.columns.str.lower().str.replace('&', '_').str.replace(' ', '_')\n",
    "df3_.columns= df3_.columns.str.lower().str.replace('&', '_').str.replace(' ', '_')\n",
    "df4_.columns= df4_.columns.str.lower().str.replace('&', '_').str.replace(' ', '_')\n",
    "df5_.columns= df5_.columns.str.lower().str.replace('&', '_').str.replace(' ', '_')\n",
    "df6_.columns= df6_.columns.str.lower().str.replace('&', '_').str.replace(' ', '_')\n",
    "df7_.columns= df7_.columns.str.lower().str.replace('&', '_').str.replace(' ', '_')"
   ]
  },
  {
   "cell_type": "code",
   "execution_count": 85,
   "id": "bbc1d49a",
   "metadata": {},
   "outputs": [
    {
     "name": "stdout",
     "output_type": "stream",
     "text": [
      "Index(['base_customer_id', 'customer_id', 'gender', 'gender_id',\n",
      "       'marital_status', 'marital_status_id', 'birth_date',\n",
      "       'fk_address_communication_city', 'occupation'],\n",
      "      dtype='object')\n",
      "Index(['base_customer_id', 'vehicle_id', 'start_date', 'end_date',\n",
      "       'fk_relation_status_id', 'fk_relation_status_explanation'],\n",
      "      dtype='object')\n",
      "Index(['customer_id', 'salesfile_id', 'sf_create_date', 'status',\n",
      "       'req_brand_code', 'req_topmodel_code'],\n",
      "      dtype='object')\n",
      "Index(['vehicle_id', 'customer_id', 'create_date'], dtype='object')\n",
      "Index(['vehicle_id', 'traffic_date', 'brand_code', 'basemodel_code',\n",
      "       'topmodel_code', 'motor_gas_type', 'gear_box_type'],\n",
      "      dtype='object')\n",
      "Index(['create_date', 'is_maintenance', 'vehicle_id', 'total_amount_tl'], dtype='object')\n",
      "Index(['id', 'expected'], dtype='object')\n"
     ]
    }
   ],
   "source": [
    "print(df1_.columns)\n",
    "print(df2_.columns)\n",
    "print(df3_.columns)\n",
    "print(df4_.columns)\n",
    "print(df5_.columns)\n",
    "print(df6_.columns)\n",
    "print(df7_.columns)"
   ]
  },
  {
   "cell_type": "markdown",
   "id": "d159f56d",
   "metadata": {},
   "source": [
    "# prepare df7_ to join"
   ]
  },
  {
   "cell_type": "code",
   "execution_count": 86,
   "id": "df6d703a",
   "metadata": {},
   "outputs": [
    {
     "data": {
      "text/html": [
       "<div>\n",
       "<style scoped>\n",
       "    .dataframe tbody tr th:only-of-type {\n",
       "        vertical-align: middle;\n",
       "    }\n",
       "\n",
       "    .dataframe tbody tr th {\n",
       "        vertical-align: top;\n",
       "    }\n",
       "\n",
       "    .dataframe thead th {\n",
       "        text-align: right;\n",
       "    }\n",
       "</style>\n",
       "<table border=\"1\" class=\"dataframe\">\n",
       "  <thead>\n",
       "    <tr style=\"text-align: right;\">\n",
       "      <th></th>\n",
       "      <th>base_customer_id</th>\n",
       "      <th>expected</th>\n",
       "    </tr>\n",
       "  </thead>\n",
       "  <tbody>\n",
       "    <tr>\n",
       "      <th>0</th>\n",
       "      <td>168254</td>\n",
       "      <td>NaN</td>\n",
       "    </tr>\n",
       "    <tr>\n",
       "      <th>1</th>\n",
       "      <td>124747</td>\n",
       "      <td>NaN</td>\n",
       "    </tr>\n",
       "    <tr>\n",
       "      <th>2</th>\n",
       "      <td>135493</td>\n",
       "      <td>NaN</td>\n",
       "    </tr>\n",
       "    <tr>\n",
       "      <th>3</th>\n",
       "      <td>90543</td>\n",
       "      <td>NaN</td>\n",
       "    </tr>\n",
       "    <tr>\n",
       "      <th>4</th>\n",
       "      <td>40421</td>\n",
       "      <td>NaN</td>\n",
       "    </tr>\n",
       "    <tr>\n",
       "      <th>...</th>\n",
       "      <td>...</td>\n",
       "      <td>...</td>\n",
       "    </tr>\n",
       "    <tr>\n",
       "      <th>166938</th>\n",
       "      <td>53945</td>\n",
       "      <td>NaN</td>\n",
       "    </tr>\n",
       "    <tr>\n",
       "      <th>166939</th>\n",
       "      <td>98842</td>\n",
       "      <td>NaN</td>\n",
       "    </tr>\n",
       "    <tr>\n",
       "      <th>166940</th>\n",
       "      <td>55766</td>\n",
       "      <td>NaN</td>\n",
       "    </tr>\n",
       "    <tr>\n",
       "      <th>166941</th>\n",
       "      <td>22680</td>\n",
       "      <td>NaN</td>\n",
       "    </tr>\n",
       "    <tr>\n",
       "      <th>166942</th>\n",
       "      <td>154304</td>\n",
       "      <td>NaN</td>\n",
       "    </tr>\n",
       "  </tbody>\n",
       "</table>\n",
       "<p>166943 rows × 2 columns</p>\n",
       "</div>"
      ],
      "text/plain": [
       "        base_customer_id  expected\n",
       "0                 168254       NaN\n",
       "1                 124747       NaN\n",
       "2                 135493       NaN\n",
       "3                  90543       NaN\n",
       "4                  40421       NaN\n",
       "...                  ...       ...\n",
       "166938             53945       NaN\n",
       "166939             98842       NaN\n",
       "166940             55766       NaN\n",
       "166941             22680       NaN\n",
       "166942            154304       NaN\n",
       "\n",
       "[166943 rows x 2 columns]"
      ]
     },
     "execution_count": 86,
     "metadata": {},
     "output_type": "execute_result"
    }
   ],
   "source": [
    "df7_.rename({'id': 'base_customer_id'}, axis=1, inplace=True)\n",
    "df7_"
   ]
  },
  {
   "cell_type": "code",
   "execution_count": 87,
   "id": "d1d3618b",
   "metadata": {},
   "outputs": [
    {
     "name": "stdout",
     "output_type": "stream",
     "text": [
      "expected were dropped\n"
     ]
    }
   ],
   "source": [
    "drop_columns(df7_, \"expected\")\n",
    "# expected bizim tahminleri yazacagimiz kolon suan icin dusuyoruz"
   ]
  },
  {
   "cell_type": "code",
   "execution_count": 88,
   "id": "12d35a86",
   "metadata": {},
   "outputs": [
    {
     "data": {
      "text/html": [
       "<div>\n",
       "<style scoped>\n",
       "    .dataframe tbody tr th:only-of-type {\n",
       "        vertical-align: middle;\n",
       "    }\n",
       "\n",
       "    .dataframe tbody tr th {\n",
       "        vertical-align: top;\n",
       "    }\n",
       "\n",
       "    .dataframe thead th {\n",
       "        text-align: right;\n",
       "    }\n",
       "</style>\n",
       "<table border=\"1\" class=\"dataframe\">\n",
       "  <thead>\n",
       "    <tr style=\"text-align: right;\">\n",
       "      <th></th>\n",
       "      <th>base_customer_id</th>\n",
       "    </tr>\n",
       "  </thead>\n",
       "  <tbody>\n",
       "    <tr>\n",
       "      <th>0</th>\n",
       "      <td>168254</td>\n",
       "    </tr>\n",
       "    <tr>\n",
       "      <th>1</th>\n",
       "      <td>124747</td>\n",
       "    </tr>\n",
       "  </tbody>\n",
       "</table>\n",
       "</div>"
      ],
      "text/plain": [
       "   base_customer_id\n",
       "0            168254\n",
       "1            124747"
      ]
     },
     "execution_count": 88,
     "metadata": {},
     "output_type": "execute_result"
    }
   ],
   "source": [
    "df7_.head(2)"
   ]
  },
  {
   "cell_type": "markdown",
   "id": "963cd8f4",
   "metadata": {},
   "source": [
    "# prepare df1_ to join"
   ]
  },
  {
   "cell_type": "code",
   "execution_count": 89,
   "id": "c2a3c78a",
   "metadata": {},
   "outputs": [
    {
     "data": {
      "text/html": [
       "<div>\n",
       "<style scoped>\n",
       "    .dataframe tbody tr th:only-of-type {\n",
       "        vertical-align: middle;\n",
       "    }\n",
       "\n",
       "    .dataframe tbody tr th {\n",
       "        vertical-align: top;\n",
       "    }\n",
       "\n",
       "    .dataframe thead th {\n",
       "        text-align: right;\n",
       "    }\n",
       "</style>\n",
       "<table border=\"1\" class=\"dataframe\">\n",
       "  <thead>\n",
       "    <tr style=\"text-align: right;\">\n",
       "      <th></th>\n",
       "      <th>base_customer_id</th>\n",
       "      <th>customer_id</th>\n",
       "      <th>gender</th>\n",
       "      <th>gender_id</th>\n",
       "      <th>marital_status</th>\n",
       "      <th>marital_status_id</th>\n",
       "      <th>birth_date</th>\n",
       "      <th>fk_address_communication_city</th>\n",
       "      <th>occupation</th>\n",
       "    </tr>\n",
       "  </thead>\n",
       "  <tbody>\n",
       "    <tr>\n",
       "      <th>0</th>\n",
       "      <td>158891</td>\n",
       "      <td>1747700</td>\n",
       "      <td>Erkek</td>\n",
       "      <td>100</td>\n",
       "      <td>NaN</td>\n",
       "      <td>0</td>\n",
       "      <td>NaN</td>\n",
       "      <td>NaN</td>\n",
       "      <td>NaN</td>\n",
       "    </tr>\n",
       "    <tr>\n",
       "      <th>1</th>\n",
       "      <td>169233</td>\n",
       "      <td>1710561</td>\n",
       "      <td>Erkek</td>\n",
       "      <td>100</td>\n",
       "      <td>Evli</td>\n",
       "      <td>101</td>\n",
       "      <td>1962.000</td>\n",
       "      <td>Erzurum</td>\n",
       "      <td>Öğretmen / Eğitmen</td>\n",
       "    </tr>\n",
       "  </tbody>\n",
       "</table>\n",
       "</div>"
      ],
      "text/plain": [
       "   base_customer_id  customer_id gender  gender_id marital_status  \\\n",
       "0            158891      1747700  Erkek        100            NaN   \n",
       "1            169233      1710561  Erkek        100           Evli   \n",
       "\n",
       "   marital_status_id  birth_date fk_address_communication_city  \\\n",
       "0                  0         NaN                           NaN   \n",
       "1                101    1962.000                       Erzurum   \n",
       "\n",
       "           occupation  \n",
       "0                 NaN  \n",
       "1  Öğretmen / Eğitmen  "
      ]
     },
     "execution_count": 89,
     "metadata": {},
     "output_type": "execute_result"
    }
   ],
   "source": [
    "df1_.head(2)"
   ]
  },
  {
   "cell_type": "code",
   "execution_count": 90,
   "id": "e3137e1b",
   "metadata": {},
   "outputs": [
    {
     "data": {
      "text/html": [
       "<div>\n",
       "<style scoped>\n",
       "    .dataframe tbody tr th:only-of-type {\n",
       "        vertical-align: middle;\n",
       "    }\n",
       "\n",
       "    .dataframe tbody tr th {\n",
       "        vertical-align: top;\n",
       "    }\n",
       "\n",
       "    .dataframe thead th {\n",
       "        text-align: right;\n",
       "    }\n",
       "</style>\n",
       "<table border=\"1\" class=\"dataframe\">\n",
       "  <thead>\n",
       "    <tr style=\"text-align: right;\">\n",
       "      <th></th>\n",
       "      <th>base_customer_id</th>\n",
       "      <th>customer_id</th>\n",
       "      <th>gender</th>\n",
       "      <th>gender_id</th>\n",
       "      <th>marital_status</th>\n",
       "      <th>marital_status_id</th>\n",
       "      <th>birth_date</th>\n",
       "      <th>fk_address_communication_city</th>\n",
       "      <th>occupation</th>\n",
       "    </tr>\n",
       "  </thead>\n",
       "  <tbody>\n",
       "    <tr>\n",
       "      <th>0</th>\n",
       "      <td>158891</td>\n",
       "      <td>1747700</td>\n",
       "      <td>Erkek</td>\n",
       "      <td>100</td>\n",
       "      <td>NaN</td>\n",
       "      <td>0</td>\n",
       "      <td>NaN</td>\n",
       "      <td>NaN</td>\n",
       "      <td>NaN</td>\n",
       "    </tr>\n",
       "    <tr>\n",
       "      <th>1</th>\n",
       "      <td>169233</td>\n",
       "      <td>1710561</td>\n",
       "      <td>Erkek</td>\n",
       "      <td>100</td>\n",
       "      <td>Evli</td>\n",
       "      <td>101</td>\n",
       "      <td>1962.000</td>\n",
       "      <td>Erzurum</td>\n",
       "      <td>Öğretmen / Eğitmen</td>\n",
       "    </tr>\n",
       "    <tr>\n",
       "      <th>2</th>\n",
       "      <td>30887</td>\n",
       "      <td>1043923</td>\n",
       "      <td>Erkek</td>\n",
       "      <td>100</td>\n",
       "      <td>Evli</td>\n",
       "      <td>101</td>\n",
       "      <td>1971.000</td>\n",
       "      <td>İstanbul</td>\n",
       "      <td>Esnaf</td>\n",
       "    </tr>\n",
       "    <tr>\n",
       "      <th>3</th>\n",
       "      <td>38013</td>\n",
       "      <td>1101926</td>\n",
       "      <td>Erkek</td>\n",
       "      <td>100</td>\n",
       "      <td>NaN</td>\n",
       "      <td>0</td>\n",
       "      <td>NaN</td>\n",
       "      <td>Manisa</td>\n",
       "      <td>NaN</td>\n",
       "    </tr>\n",
       "    <tr>\n",
       "      <th>4</th>\n",
       "      <td>157091</td>\n",
       "      <td>1819787</td>\n",
       "      <td>Kadın</td>\n",
       "      <td>101</td>\n",
       "      <td>NaN</td>\n",
       "      <td>0</td>\n",
       "      <td>NaN</td>\n",
       "      <td>Ankara</td>\n",
       "      <td>NaN</td>\n",
       "    </tr>\n",
       "    <tr>\n",
       "      <th>...</th>\n",
       "      <td>...</td>\n",
       "      <td>...</td>\n",
       "      <td>...</td>\n",
       "      <td>...</td>\n",
       "      <td>...</td>\n",
       "      <td>...</td>\n",
       "      <td>...</td>\n",
       "      <td>...</td>\n",
       "      <td>...</td>\n",
       "    </tr>\n",
       "    <tr>\n",
       "      <th>849914</th>\n",
       "      <td>18175</td>\n",
       "      <td>1744051</td>\n",
       "      <td>Erkek</td>\n",
       "      <td>100</td>\n",
       "      <td>NaN</td>\n",
       "      <td>0</td>\n",
       "      <td>NaN</td>\n",
       "      <td>NaN</td>\n",
       "      <td>NaN</td>\n",
       "    </tr>\n",
       "    <tr>\n",
       "      <th>849915</th>\n",
       "      <td>108604</td>\n",
       "      <td>1209486</td>\n",
       "      <td>Erkek</td>\n",
       "      <td>100</td>\n",
       "      <td>Evli</td>\n",
       "      <td>101</td>\n",
       "      <td>1969.000</td>\n",
       "      <td>İstanbul</td>\n",
       "      <td>Nakliyeci / Lojistik / Taşımacılık</td>\n",
       "    </tr>\n",
       "    <tr>\n",
       "      <th>849916</th>\n",
       "      <td>155926</td>\n",
       "      <td>1670812</td>\n",
       "      <td>Erkek</td>\n",
       "      <td>100</td>\n",
       "      <td>Evli</td>\n",
       "      <td>101</td>\n",
       "      <td>1970.000</td>\n",
       "      <td>İstanbul</td>\n",
       "      <td>NaN</td>\n",
       "    </tr>\n",
       "    <tr>\n",
       "      <th>849917</th>\n",
       "      <td>123223</td>\n",
       "      <td>1691689</td>\n",
       "      <td>Erkek</td>\n",
       "      <td>100</td>\n",
       "      <td>Evli</td>\n",
       "      <td>101</td>\n",
       "      <td>1970.000</td>\n",
       "      <td>Kayseri</td>\n",
       "      <td>NaN</td>\n",
       "    </tr>\n",
       "    <tr>\n",
       "      <th>849918</th>\n",
       "      <td>88245</td>\n",
       "      <td>1300543</td>\n",
       "      <td>Kadın</td>\n",
       "      <td>101</td>\n",
       "      <td>Bekar</td>\n",
       "      <td>102</td>\n",
       "      <td>1966.000</td>\n",
       "      <td>İstanbul</td>\n",
       "      <td>Tekstilci</td>\n",
       "    </tr>\n",
       "  </tbody>\n",
       "</table>\n",
       "<p>849919 rows × 9 columns</p>\n",
       "</div>"
      ],
      "text/plain": [
       "        base_customer_id  customer_id gender  gender_id marital_status  \\\n",
       "0                 158891      1747700  Erkek        100            NaN   \n",
       "1                 169233      1710561  Erkek        100           Evli   \n",
       "2                  30887      1043923  Erkek        100           Evli   \n",
       "3                  38013      1101926  Erkek        100            NaN   \n",
       "4                 157091      1819787  Kadın        101            NaN   \n",
       "...                  ...          ...    ...        ...            ...   \n",
       "849914             18175      1744051  Erkek        100            NaN   \n",
       "849915            108604      1209486  Erkek        100           Evli   \n",
       "849916            155926      1670812  Erkek        100           Evli   \n",
       "849917            123223      1691689  Erkek        100           Evli   \n",
       "849918             88245      1300543  Kadın        101          Bekar   \n",
       "\n",
       "        marital_status_id  birth_date fk_address_communication_city  \\\n",
       "0                       0         NaN                           NaN   \n",
       "1                     101    1962.000                       Erzurum   \n",
       "2                     101    1971.000                      İstanbul   \n",
       "3                       0         NaN                        Manisa   \n",
       "4                       0         NaN                        Ankara   \n",
       "...                   ...         ...                           ...   \n",
       "849914                  0         NaN                           NaN   \n",
       "849915                101    1969.000                      İstanbul   \n",
       "849916                101    1970.000                      İstanbul   \n",
       "849917                101    1970.000                       Kayseri   \n",
       "849918                102    1966.000                      İstanbul   \n",
       "\n",
       "                                occupation  \n",
       "0                                      NaN  \n",
       "1                       Öğretmen / Eğitmen  \n",
       "2                                    Esnaf  \n",
       "3                                      NaN  \n",
       "4                                      NaN  \n",
       "...                                    ...  \n",
       "849914                                 NaN  \n",
       "849915  Nakliyeci / Lojistik / Taşımacılık  \n",
       "849916                                 NaN  \n",
       "849917                                 NaN  \n",
       "849918                           Tekstilci  \n",
       "\n",
       "[849919 rows x 9 columns]"
      ]
     },
     "execution_count": 90,
     "metadata": {},
     "output_type": "execute_result"
    }
   ],
   "source": [
    "df1_"
   ]
  },
  {
   "cell_type": "code",
   "execution_count": 91,
   "id": "955e554e",
   "metadata": {},
   "outputs": [
    {
     "data": {
      "text/plain": [
       "gender  gender_id  marital_status  marital_status_id\n",
       "Erkek   100        Evli            101                  447463\n",
       "                   Bekar           102                   77143\n",
       "Kadın   101        Evli            101                   65748\n",
       "                   Bekar           102                   30448\n",
       "dtype: int64"
      ]
     },
     "execution_count": 91,
     "metadata": {},
     "output_type": "execute_result"
    }
   ],
   "source": [
    "df1_[[\"gender\", \"gender_id\", \n",
    "     \"marital_status\",\"marital_status_id\" ]].value_counts()"
   ]
  },
  {
   "cell_type": "code",
   "execution_count": 92,
   "id": "716e7b4c",
   "metadata": {},
   "outputs": [
    {
     "data": {
      "text/plain": [
       "100    731411\n",
       "101    118505\n",
       "0           3\n",
       "Name: gender_id, dtype: int64"
      ]
     },
     "execution_count": 92,
     "metadata": {},
     "output_type": "execute_result"
    }
   ],
   "source": [
    "df1_[\"gender_id\"].value_counts(dropna=False)"
   ]
  },
  {
   "cell_type": "code",
   "execution_count": 93,
   "id": "1b636615",
   "metadata": {},
   "outputs": [
    {
     "data": {
      "text/html": [
       "<div>\n",
       "<style scoped>\n",
       "    .dataframe tbody tr th:only-of-type {\n",
       "        vertical-align: middle;\n",
       "    }\n",
       "\n",
       "    .dataframe tbody tr th {\n",
       "        vertical-align: top;\n",
       "    }\n",
       "\n",
       "    .dataframe thead th {\n",
       "        text-align: right;\n",
       "    }\n",
       "</style>\n",
       "<table border=\"1\" class=\"dataframe\">\n",
       "  <thead>\n",
       "    <tr style=\"text-align: right;\">\n",
       "      <th></th>\n",
       "      <th>base_customer_id</th>\n",
       "      <th>customer_id</th>\n",
       "      <th>gender</th>\n",
       "      <th>gender_id</th>\n",
       "      <th>marital_status</th>\n",
       "      <th>marital_status_id</th>\n",
       "      <th>birth_date</th>\n",
       "      <th>fk_address_communication_city</th>\n",
       "      <th>occupation</th>\n",
       "    </tr>\n",
       "  </thead>\n",
       "  <tbody>\n",
       "    <tr>\n",
       "      <th>54223</th>\n",
       "      <td>138147</td>\n",
       "      <td>1808549</td>\n",
       "      <td>NaN</td>\n",
       "      <td>0</td>\n",
       "      <td>NaN</td>\n",
       "      <td>0</td>\n",
       "      <td>NaN</td>\n",
       "      <td>NaN</td>\n",
       "      <td>NaN</td>\n",
       "    </tr>\n",
       "    <tr>\n",
       "      <th>368071</th>\n",
       "      <td>158309</td>\n",
       "      <td>1468162</td>\n",
       "      <td>NaN</td>\n",
       "      <td>0</td>\n",
       "      <td>NaN</td>\n",
       "      <td>0</td>\n",
       "      <td>NaN</td>\n",
       "      <td>Giresun</td>\n",
       "      <td>NaN</td>\n",
       "    </tr>\n",
       "    <tr>\n",
       "      <th>689191</th>\n",
       "      <td>158309</td>\n",
       "      <td>1468161</td>\n",
       "      <td>NaN</td>\n",
       "      <td>0</td>\n",
       "      <td>NaN</td>\n",
       "      <td>0</td>\n",
       "      <td>NaN</td>\n",
       "      <td>Giresun</td>\n",
       "      <td>NaN</td>\n",
       "    </tr>\n",
       "  </tbody>\n",
       "</table>\n",
       "</div>"
      ],
      "text/plain": [
       "        base_customer_id  customer_id gender  gender_id marital_status  \\\n",
       "54223             138147      1808549    NaN          0            NaN   \n",
       "368071            158309      1468162    NaN          0            NaN   \n",
       "689191            158309      1468161    NaN          0            NaN   \n",
       "\n",
       "        marital_status_id  birth_date fk_address_communication_city occupation  \n",
       "54223                   0         NaN                           NaN        NaN  \n",
       "368071                  0         NaN                       Giresun        NaN  \n",
       "689191                  0         NaN                       Giresun        NaN  "
      ]
     },
     "execution_count": 93,
     "metadata": {},
     "output_type": "execute_result"
    }
   ],
   "source": [
    "df1_[df1_[\"gender_id\"]==0]\n",
    "# gender ID 0 olanlarin ikisi ayni kisi(158309) ve gender bilgisi girilmemis"
   ]
  },
  {
   "cell_type": "code",
   "execution_count": 94,
   "id": "1a18de9a",
   "metadata": {},
   "outputs": [
    {
     "data": {
      "text/html": [
       "<div>\n",
       "<style scoped>\n",
       "    .dataframe tbody tr th:only-of-type {\n",
       "        vertical-align: middle;\n",
       "    }\n",
       "\n",
       "    .dataframe tbody tr th {\n",
       "        vertical-align: top;\n",
       "    }\n",
       "\n",
       "    .dataframe thead th {\n",
       "        text-align: right;\n",
       "    }\n",
       "</style>\n",
       "<table border=\"1\" class=\"dataframe\">\n",
       "  <thead>\n",
       "    <tr style=\"text-align: right;\">\n",
       "      <th></th>\n",
       "      <th>base_customer_id</th>\n",
       "      <th>customer_id</th>\n",
       "      <th>gender</th>\n",
       "      <th>gender_id</th>\n",
       "      <th>marital_status</th>\n",
       "      <th>marital_status_id</th>\n",
       "      <th>birth_date</th>\n",
       "      <th>fk_address_communication_city</th>\n",
       "      <th>occupation</th>\n",
       "    </tr>\n",
       "  </thead>\n",
       "  <tbody>\n",
       "    <tr>\n",
       "      <th>368071</th>\n",
       "      <td>158309</td>\n",
       "      <td>1468162</td>\n",
       "      <td>NaN</td>\n",
       "      <td>0</td>\n",
       "      <td>NaN</td>\n",
       "      <td>0</td>\n",
       "      <td>NaN</td>\n",
       "      <td>Giresun</td>\n",
       "      <td>NaN</td>\n",
       "    </tr>\n",
       "    <tr>\n",
       "      <th>689191</th>\n",
       "      <td>158309</td>\n",
       "      <td>1468161</td>\n",
       "      <td>NaN</td>\n",
       "      <td>0</td>\n",
       "      <td>NaN</td>\n",
       "      <td>0</td>\n",
       "      <td>NaN</td>\n",
       "      <td>Giresun</td>\n",
       "      <td>NaN</td>\n",
       "    </tr>\n",
       "  </tbody>\n",
       "</table>\n",
       "</div>"
      ],
      "text/plain": [
       "        base_customer_id  customer_id gender  gender_id marital_status  \\\n",
       "368071            158309      1468162    NaN          0            NaN   \n",
       "689191            158309      1468161    NaN          0            NaN   \n",
       "\n",
       "        marital_status_id  birth_date fk_address_communication_city occupation  \n",
       "368071                  0         NaN                       Giresun        NaN  \n",
       "689191                  0         NaN                       Giresun        NaN  "
      ]
     },
     "execution_count": 94,
     "metadata": {},
     "output_type": "execute_result"
    }
   ],
   "source": [
    "df1_[df1_[\"base_customer_id\"]==158309]\n",
    "# bu kisinin cinsiyeti henuz tespit edilemedigi icin nan kalacak"
   ]
  },
  {
   "cell_type": "code",
   "execution_count": 95,
   "id": "1e7b9adc",
   "metadata": {},
   "outputs": [
    {
     "data": {
      "text/html": [
       "<div>\n",
       "<style scoped>\n",
       "    .dataframe tbody tr th:only-of-type {\n",
       "        vertical-align: middle;\n",
       "    }\n",
       "\n",
       "    .dataframe tbody tr th {\n",
       "        vertical-align: top;\n",
       "    }\n",
       "\n",
       "    .dataframe thead th {\n",
       "        text-align: right;\n",
       "    }\n",
       "</style>\n",
       "<table border=\"1\" class=\"dataframe\">\n",
       "  <thead>\n",
       "    <tr style=\"text-align: right;\">\n",
       "      <th></th>\n",
       "      <th>base_customer_id</th>\n",
       "      <th>customer_id</th>\n",
       "      <th>gender</th>\n",
       "      <th>gender_id</th>\n",
       "      <th>marital_status</th>\n",
       "      <th>marital_status_id</th>\n",
       "      <th>birth_date</th>\n",
       "      <th>fk_address_communication_city</th>\n",
       "      <th>occupation</th>\n",
       "    </tr>\n",
       "  </thead>\n",
       "  <tbody>\n",
       "    <tr>\n",
       "      <th>54223</th>\n",
       "      <td>138147</td>\n",
       "      <td>1808549</td>\n",
       "      <td>NaN</td>\n",
       "      <td>0</td>\n",
       "      <td>NaN</td>\n",
       "      <td>0</td>\n",
       "      <td>NaN</td>\n",
       "      <td>NaN</td>\n",
       "      <td>NaN</td>\n",
       "    </tr>\n",
       "    <tr>\n",
       "      <th>125775</th>\n",
       "      <td>138147</td>\n",
       "      <td>1823829</td>\n",
       "      <td>Erkek</td>\n",
       "      <td>100</td>\n",
       "      <td>Evli</td>\n",
       "      <td>101</td>\n",
       "      <td>1981.000</td>\n",
       "      <td>Isparta</td>\n",
       "      <td>Serbest</td>\n",
       "    </tr>\n",
       "    <tr>\n",
       "      <th>312332</th>\n",
       "      <td>138147</td>\n",
       "      <td>1448732</td>\n",
       "      <td>Erkek</td>\n",
       "      <td>100</td>\n",
       "      <td>Evli</td>\n",
       "      <td>101</td>\n",
       "      <td>1981.000</td>\n",
       "      <td>Isparta</td>\n",
       "      <td>Esnaf</td>\n",
       "    </tr>\n",
       "    <tr>\n",
       "      <th>325514</th>\n",
       "      <td>138147</td>\n",
       "      <td>1822401</td>\n",
       "      <td>Erkek</td>\n",
       "      <td>100</td>\n",
       "      <td>Evli</td>\n",
       "      <td>101</td>\n",
       "      <td>1981.000</td>\n",
       "      <td>Isparta</td>\n",
       "      <td>Serbest</td>\n",
       "    </tr>\n",
       "    <tr>\n",
       "      <th>370518</th>\n",
       "      <td>138147</td>\n",
       "      <td>1822818</td>\n",
       "      <td>Erkek</td>\n",
       "      <td>100</td>\n",
       "      <td>Evli</td>\n",
       "      <td>101</td>\n",
       "      <td>1981.000</td>\n",
       "      <td>Isparta</td>\n",
       "      <td>Esnaf</td>\n",
       "    </tr>\n",
       "    <tr>\n",
       "      <th>485788</th>\n",
       "      <td>138147</td>\n",
       "      <td>1392445</td>\n",
       "      <td>Erkek</td>\n",
       "      <td>100</td>\n",
       "      <td>Evli</td>\n",
       "      <td>101</td>\n",
       "      <td>1981.000</td>\n",
       "      <td>Burdur</td>\n",
       "      <td>NaN</td>\n",
       "    </tr>\n",
       "    <tr>\n",
       "      <th>641593</th>\n",
       "      <td>138147</td>\n",
       "      <td>1801401</td>\n",
       "      <td>Erkek</td>\n",
       "      <td>100</td>\n",
       "      <td>NaN</td>\n",
       "      <td>0</td>\n",
       "      <td>NaN</td>\n",
       "      <td>Isparta</td>\n",
       "      <td>NaN</td>\n",
       "    </tr>\n",
       "    <tr>\n",
       "      <th>690934</th>\n",
       "      <td>138147</td>\n",
       "      <td>1392446</td>\n",
       "      <td>Erkek</td>\n",
       "      <td>100</td>\n",
       "      <td>Evli</td>\n",
       "      <td>101</td>\n",
       "      <td>1981.000</td>\n",
       "      <td>Isparta</td>\n",
       "      <td>Serbest</td>\n",
       "    </tr>\n",
       "    <tr>\n",
       "      <th>845285</th>\n",
       "      <td>138147</td>\n",
       "      <td>1747889</td>\n",
       "      <td>Erkek</td>\n",
       "      <td>100</td>\n",
       "      <td>Evli</td>\n",
       "      <td>101</td>\n",
       "      <td>1981.000</td>\n",
       "      <td>Isparta</td>\n",
       "      <td>Oto. Bayisi / Oto. Galerisi</td>\n",
       "    </tr>\n",
       "  </tbody>\n",
       "</table>\n",
       "</div>"
      ],
      "text/plain": [
       "        base_customer_id  customer_id gender  gender_id marital_status  \\\n",
       "54223             138147      1808549    NaN          0            NaN   \n",
       "125775            138147      1823829  Erkek        100           Evli   \n",
       "312332            138147      1448732  Erkek        100           Evli   \n",
       "325514            138147      1822401  Erkek        100           Evli   \n",
       "370518            138147      1822818  Erkek        100           Evli   \n",
       "485788            138147      1392445  Erkek        100           Evli   \n",
       "641593            138147      1801401  Erkek        100            NaN   \n",
       "690934            138147      1392446  Erkek        100           Evli   \n",
       "845285            138147      1747889  Erkek        100           Evli   \n",
       "\n",
       "        marital_status_id  birth_date fk_address_communication_city  \\\n",
       "54223                   0         NaN                           NaN   \n",
       "125775                101    1981.000                       Isparta   \n",
       "312332                101    1981.000                       Isparta   \n",
       "325514                101    1981.000                       Isparta   \n",
       "370518                101    1981.000                       Isparta   \n",
       "485788                101    1981.000                        Burdur   \n",
       "641593                  0         NaN                       Isparta   \n",
       "690934                101    1981.000                       Isparta   \n",
       "845285                101    1981.000                       Isparta   \n",
       "\n",
       "                         occupation  \n",
       "54223                           NaN  \n",
       "125775                      Serbest  \n",
       "312332                        Esnaf  \n",
       "325514                      Serbest  \n",
       "370518                        Esnaf  \n",
       "485788                          NaN  \n",
       "641593                          NaN  \n",
       "690934                      Serbest  \n",
       "845285  Oto. Bayisi / Oto. Galerisi  "
      ]
     },
     "execution_count": 95,
     "metadata": {},
     "output_type": "execute_result"
    }
   ],
   "source": [
    "df1_[df1_[\"base_customer_id\"]==138147]\n",
    "# 138147a gender girilmemis ancak erkek oldugu goruldu "
   ]
  },
  {
   "cell_type": "code",
   "execution_count": 96,
   "id": "f97a3601",
   "metadata": {},
   "outputs": [],
   "source": [
    "df1_.loc[(df1_[\"base_customer_id\"]==138147), \"gender\"]=\"Erkek\"\n",
    "df1_.loc[(df1_[\"base_customer_id\"]==138147), \"gender_id\"]=100\n",
    "# 138147a gender id girilmemisti  erkek oldugu goruldu erkek olacak sekilde gender id 100 atandi\n",
    "# 138147a gender girilmemis  erkek oldugu goruldu erkek olarak atandi"
   ]
  },
  {
   "cell_type": "code",
   "execution_count": 97,
   "id": "f6f8e91b",
   "metadata": {},
   "outputs": [
    {
     "data": {
      "text/html": [
       "<div>\n",
       "<style scoped>\n",
       "    .dataframe tbody tr th:only-of-type {\n",
       "        vertical-align: middle;\n",
       "    }\n",
       "\n",
       "    .dataframe tbody tr th {\n",
       "        vertical-align: top;\n",
       "    }\n",
       "\n",
       "    .dataframe thead th {\n",
       "        text-align: right;\n",
       "    }\n",
       "</style>\n",
       "<table border=\"1\" class=\"dataframe\">\n",
       "  <thead>\n",
       "    <tr style=\"text-align: right;\">\n",
       "      <th></th>\n",
       "      <th>base_customer_id</th>\n",
       "      <th>customer_id</th>\n",
       "      <th>gender</th>\n",
       "      <th>gender_id</th>\n",
       "      <th>marital_status</th>\n",
       "      <th>marital_status_id</th>\n",
       "      <th>birth_date</th>\n",
       "      <th>fk_address_communication_city</th>\n",
       "      <th>occupation</th>\n",
       "    </tr>\n",
       "  </thead>\n",
       "  <tbody>\n",
       "    <tr>\n",
       "      <th>54223</th>\n",
       "      <td>138147</td>\n",
       "      <td>1808549</td>\n",
       "      <td>Erkek</td>\n",
       "      <td>100</td>\n",
       "      <td>NaN</td>\n",
       "      <td>0</td>\n",
       "      <td>NaN</td>\n",
       "      <td>NaN</td>\n",
       "      <td>NaN</td>\n",
       "    </tr>\n",
       "    <tr>\n",
       "      <th>125775</th>\n",
       "      <td>138147</td>\n",
       "      <td>1823829</td>\n",
       "      <td>Erkek</td>\n",
       "      <td>100</td>\n",
       "      <td>Evli</td>\n",
       "      <td>101</td>\n",
       "      <td>1981.000</td>\n",
       "      <td>Isparta</td>\n",
       "      <td>Serbest</td>\n",
       "    </tr>\n",
       "    <tr>\n",
       "      <th>312332</th>\n",
       "      <td>138147</td>\n",
       "      <td>1448732</td>\n",
       "      <td>Erkek</td>\n",
       "      <td>100</td>\n",
       "      <td>Evli</td>\n",
       "      <td>101</td>\n",
       "      <td>1981.000</td>\n",
       "      <td>Isparta</td>\n",
       "      <td>Esnaf</td>\n",
       "    </tr>\n",
       "    <tr>\n",
       "      <th>325514</th>\n",
       "      <td>138147</td>\n",
       "      <td>1822401</td>\n",
       "      <td>Erkek</td>\n",
       "      <td>100</td>\n",
       "      <td>Evli</td>\n",
       "      <td>101</td>\n",
       "      <td>1981.000</td>\n",
       "      <td>Isparta</td>\n",
       "      <td>Serbest</td>\n",
       "    </tr>\n",
       "    <tr>\n",
       "      <th>370518</th>\n",
       "      <td>138147</td>\n",
       "      <td>1822818</td>\n",
       "      <td>Erkek</td>\n",
       "      <td>100</td>\n",
       "      <td>Evli</td>\n",
       "      <td>101</td>\n",
       "      <td>1981.000</td>\n",
       "      <td>Isparta</td>\n",
       "      <td>Esnaf</td>\n",
       "    </tr>\n",
       "    <tr>\n",
       "      <th>485788</th>\n",
       "      <td>138147</td>\n",
       "      <td>1392445</td>\n",
       "      <td>Erkek</td>\n",
       "      <td>100</td>\n",
       "      <td>Evli</td>\n",
       "      <td>101</td>\n",
       "      <td>1981.000</td>\n",
       "      <td>Burdur</td>\n",
       "      <td>NaN</td>\n",
       "    </tr>\n",
       "    <tr>\n",
       "      <th>641593</th>\n",
       "      <td>138147</td>\n",
       "      <td>1801401</td>\n",
       "      <td>Erkek</td>\n",
       "      <td>100</td>\n",
       "      <td>NaN</td>\n",
       "      <td>0</td>\n",
       "      <td>NaN</td>\n",
       "      <td>Isparta</td>\n",
       "      <td>NaN</td>\n",
       "    </tr>\n",
       "    <tr>\n",
       "      <th>690934</th>\n",
       "      <td>138147</td>\n",
       "      <td>1392446</td>\n",
       "      <td>Erkek</td>\n",
       "      <td>100</td>\n",
       "      <td>Evli</td>\n",
       "      <td>101</td>\n",
       "      <td>1981.000</td>\n",
       "      <td>Isparta</td>\n",
       "      <td>Serbest</td>\n",
       "    </tr>\n",
       "    <tr>\n",
       "      <th>845285</th>\n",
       "      <td>138147</td>\n",
       "      <td>1747889</td>\n",
       "      <td>Erkek</td>\n",
       "      <td>100</td>\n",
       "      <td>Evli</td>\n",
       "      <td>101</td>\n",
       "      <td>1981.000</td>\n",
       "      <td>Isparta</td>\n",
       "      <td>Oto. Bayisi / Oto. Galerisi</td>\n",
       "    </tr>\n",
       "  </tbody>\n",
       "</table>\n",
       "</div>"
      ],
      "text/plain": [
       "        base_customer_id  customer_id gender  gender_id marital_status  \\\n",
       "54223             138147      1808549  Erkek        100            NaN   \n",
       "125775            138147      1823829  Erkek        100           Evli   \n",
       "312332            138147      1448732  Erkek        100           Evli   \n",
       "325514            138147      1822401  Erkek        100           Evli   \n",
       "370518            138147      1822818  Erkek        100           Evli   \n",
       "485788            138147      1392445  Erkek        100           Evli   \n",
       "641593            138147      1801401  Erkek        100            NaN   \n",
       "690934            138147      1392446  Erkek        100           Evli   \n",
       "845285            138147      1747889  Erkek        100           Evli   \n",
       "\n",
       "        marital_status_id  birth_date fk_address_communication_city  \\\n",
       "54223                   0         NaN                           NaN   \n",
       "125775                101    1981.000                       Isparta   \n",
       "312332                101    1981.000                       Isparta   \n",
       "325514                101    1981.000                       Isparta   \n",
       "370518                101    1981.000                       Isparta   \n",
       "485788                101    1981.000                        Burdur   \n",
       "641593                  0         NaN                       Isparta   \n",
       "690934                101    1981.000                       Isparta   \n",
       "845285                101    1981.000                       Isparta   \n",
       "\n",
       "                         occupation  \n",
       "54223                           NaN  \n",
       "125775                      Serbest  \n",
       "312332                        Esnaf  \n",
       "325514                      Serbest  \n",
       "370518                        Esnaf  \n",
       "485788                          NaN  \n",
       "641593                          NaN  \n",
       "690934                      Serbest  \n",
       "845285  Oto. Bayisi / Oto. Galerisi  "
      ]
     },
     "execution_count": 97,
     "metadata": {},
     "output_type": "execute_result"
    }
   ],
   "source": [
    "df1_[df1_[\"base_customer_id\"]==138147]\n",
    "# 138147a(index 54223) gender erkek olarak atandi"
   ]
  },
  {
   "cell_type": "code",
   "execution_count": 98,
   "id": "c329e3c7",
   "metadata": {},
   "outputs": [
    {
     "data": {
      "text/plain": [
       "(849919, 9)"
      ]
     },
     "execution_count": 98,
     "metadata": {},
     "output_type": "execute_result"
    }
   ],
   "source": [
    "df1_.shape"
   ]
  },
  {
   "cell_type": "code",
   "execution_count": 99,
   "id": "ebe05239",
   "metadata": {},
   "outputs": [
    {
     "data": {
      "text/plain": [
       "Erkek    731412\n",
       "Kadın    118505\n",
       "NaN           2\n",
       "Name: gender, dtype: int64"
      ]
     },
     "execution_count": 99,
     "metadata": {},
     "output_type": "execute_result"
    }
   ],
   "source": [
    "df1_[\"gender\"].value_counts(dropna=False)"
   ]
  },
  {
   "cell_type": "code",
   "execution_count": 100,
   "id": "c423b205",
   "metadata": {},
   "outputs": [
    {
     "data": {
      "text/plain": [
       "True     731412\n",
       "False    118507\n",
       "dtype: int64"
      ]
     },
     "execution_count": 100,
     "metadata": {},
     "output_type": "execute_result"
    }
   ],
   "source": [
    "((df1_[\"gender_id\"]==100)&(df1_[\"gender\"]==\"Erkek\")).value_counts()"
   ]
  },
  {
   "cell_type": "code",
   "execution_count": 101,
   "id": "f8356a72",
   "metadata": {},
   "outputs": [
    {
     "data": {
      "text/plain": [
       "False    731414\n",
       "True     118505\n",
       "dtype: int64"
      ]
     },
     "execution_count": 101,
     "metadata": {},
     "output_type": "execute_result"
    }
   ],
   "source": [
    "((df1_[\"gender_id\"]==101)&(df1_[\"gender\"]==\"Kadın\")).value_counts()\n",
    "# 101 olanlarin kadin oldugu teyit edildi\n",
    "# 100 olanlarin erkek oldugu teyit edildi\n",
    "# dolayisi ile gender idyi dusuyoruz\n",
    "# genderdaki iki adaet NAN ile sonra ilgilenecegiz"
   ]
  },
  {
   "cell_type": "code",
   "execution_count": 102,
   "id": "e99bf2eb",
   "metadata": {},
   "outputs": [
    {
     "name": "stdout",
     "output_type": "stream",
     "text": [
      "gender_id were dropped\n"
     ]
    }
   ],
   "source": [
    "drop_columns(df1_, \"gender_id\")\n",
    "# gender IDyi dustuk ancak genderda ik adet NAN kaldi simdilik"
   ]
  },
  {
   "cell_type": "code",
   "execution_count": 103,
   "id": "c9d81fb9",
   "metadata": {},
   "outputs": [
    {
     "data": {
      "text/html": [
       "<div>\n",
       "<style scoped>\n",
       "    .dataframe tbody tr th:only-of-type {\n",
       "        vertical-align: middle;\n",
       "    }\n",
       "\n",
       "    .dataframe tbody tr th {\n",
       "        vertical-align: top;\n",
       "    }\n",
       "\n",
       "    .dataframe thead th {\n",
       "        text-align: right;\n",
       "    }\n",
       "</style>\n",
       "<table border=\"1\" class=\"dataframe\">\n",
       "  <thead>\n",
       "    <tr style=\"text-align: right;\">\n",
       "      <th></th>\n",
       "      <th>base_customer_id</th>\n",
       "      <th>customer_id</th>\n",
       "      <th>gender</th>\n",
       "      <th>marital_status</th>\n",
       "      <th>marital_status_id</th>\n",
       "      <th>birth_date</th>\n",
       "      <th>fk_address_communication_city</th>\n",
       "      <th>occupation</th>\n",
       "    </tr>\n",
       "  </thead>\n",
       "  <tbody>\n",
       "    <tr>\n",
       "      <th>0</th>\n",
       "      <td>158891</td>\n",
       "      <td>1747700</td>\n",
       "      <td>Erkek</td>\n",
       "      <td>NaN</td>\n",
       "      <td>0</td>\n",
       "      <td>NaN</td>\n",
       "      <td>NaN</td>\n",
       "      <td>NaN</td>\n",
       "    </tr>\n",
       "    <tr>\n",
       "      <th>1</th>\n",
       "      <td>169233</td>\n",
       "      <td>1710561</td>\n",
       "      <td>Erkek</td>\n",
       "      <td>Evli</td>\n",
       "      <td>101</td>\n",
       "      <td>1962.000</td>\n",
       "      <td>Erzurum</td>\n",
       "      <td>Öğretmen / Eğitmen</td>\n",
       "    </tr>\n",
       "  </tbody>\n",
       "</table>\n",
       "</div>"
      ],
      "text/plain": [
       "   base_customer_id  customer_id gender marital_status  marital_status_id  \\\n",
       "0            158891      1747700  Erkek            NaN                  0   \n",
       "1            169233      1710561  Erkek           Evli                101   \n",
       "\n",
       "   birth_date fk_address_communication_city          occupation  \n",
       "0         NaN                           NaN                 NaN  \n",
       "1    1962.000                       Erzurum  Öğretmen / Eğitmen  "
      ]
     },
     "execution_count": 103,
     "metadata": {},
     "output_type": "execute_result"
    }
   ],
   "source": [
    "df1_.head(2)"
   ]
  },
  {
   "cell_type": "code",
   "execution_count": 104,
   "id": "15f62f6d",
   "metadata": {},
   "outputs": [
    {
     "data": {
      "text/plain": [
       "101    513211\n",
       "0      229117\n",
       "102    107591\n",
       "Name: marital_status_id, dtype: int64"
      ]
     },
     "execution_count": 104,
     "metadata": {},
     "output_type": "execute_result"
    }
   ],
   "source": [
    "df1_[\"marital_status_id\"].value_counts(dropna=False)"
   ]
  },
  {
   "cell_type": "code",
   "execution_count": 105,
   "id": "ebb88f3a",
   "metadata": {},
   "outputs": [
    {
     "data": {
      "text/plain": [
       "Evli     513211\n",
       "NaN      229117\n",
       "Bekar    107591\n",
       "Name: marital_status, dtype: int64"
      ]
     },
     "execution_count": 105,
     "metadata": {},
     "output_type": "execute_result"
    }
   ],
   "source": [
    "df1_[\"marital_status\"].value_counts(dropna=False)"
   ]
  },
  {
   "cell_type": "code",
   "execution_count": 106,
   "id": "8290e0f2",
   "metadata": {},
   "outputs": [
    {
     "data": {
      "text/plain": [
       "True     513211\n",
       "False    336708\n",
       "dtype: int64"
      ]
     },
     "execution_count": 106,
     "metadata": {},
     "output_type": "execute_result"
    }
   ],
   "source": [
    "((df1_[\"marital_status_id\"]==101)&(df1_[\"marital_status\"]==\"Evli\")).value_counts()"
   ]
  },
  {
   "cell_type": "code",
   "execution_count": 107,
   "id": "e91bbd76",
   "metadata": {},
   "outputs": [
    {
     "data": {
      "text/plain": [
       "False    742328\n",
       "True     107591\n",
       "dtype: int64"
      ]
     },
     "execution_count": 107,
     "metadata": {},
     "output_type": "execute_result"
    }
   ],
   "source": [
    "((df1_[\"marital_status_id\"]==102)&(df1_[\"marital_status\"]==\"Bekar\")).value_counts()\n",
    "# 101 olanlarin Evli oldugu teyit edildi\n",
    "# 102 olanlarin Bekar oldugu teyit edildi\n",
    "# 0 olanlarin NaN oldugu teyit edildi\n",
    "# dolayisi ile marital_status_idyi dusuyoruz"
   ]
  },
  {
   "cell_type": "code",
   "execution_count": 108,
   "id": "56fefc81",
   "metadata": {},
   "outputs": [
    {
     "name": "stdout",
     "output_type": "stream",
     "text": [
      "marital_status_id were dropped\n"
     ]
    }
   ],
   "source": [
    "drop_columns(df1_, \"marital_status_id\")\n",
    "# marital_status_idyi dustuk ancak genderda ik adet NAN kaldi simdilik"
   ]
  },
  {
   "cell_type": "code",
   "execution_count": 109,
   "id": "e80a35f2",
   "metadata": {},
   "outputs": [
    {
     "data": {
      "text/html": [
       "<div>\n",
       "<style scoped>\n",
       "    .dataframe tbody tr th:only-of-type {\n",
       "        vertical-align: middle;\n",
       "    }\n",
       "\n",
       "    .dataframe tbody tr th {\n",
       "        vertical-align: top;\n",
       "    }\n",
       "\n",
       "    .dataframe thead th {\n",
       "        text-align: right;\n",
       "    }\n",
       "</style>\n",
       "<table border=\"1\" class=\"dataframe\">\n",
       "  <thead>\n",
       "    <tr style=\"text-align: right;\">\n",
       "      <th></th>\n",
       "      <th>base_customer_id</th>\n",
       "      <th>customer_id</th>\n",
       "      <th>gender</th>\n",
       "      <th>marital_status</th>\n",
       "      <th>birth_date</th>\n",
       "      <th>fk_address_communication_city</th>\n",
       "      <th>occupation</th>\n",
       "    </tr>\n",
       "  </thead>\n",
       "  <tbody>\n",
       "    <tr>\n",
       "      <th>0</th>\n",
       "      <td>158891</td>\n",
       "      <td>1747700</td>\n",
       "      <td>Erkek</td>\n",
       "      <td>NaN</td>\n",
       "      <td>NaN</td>\n",
       "      <td>NaN</td>\n",
       "      <td>NaN</td>\n",
       "    </tr>\n",
       "    <tr>\n",
       "      <th>1</th>\n",
       "      <td>169233</td>\n",
       "      <td>1710561</td>\n",
       "      <td>Erkek</td>\n",
       "      <td>Evli</td>\n",
       "      <td>1962.000</td>\n",
       "      <td>Erzurum</td>\n",
       "      <td>Öğretmen / Eğitmen</td>\n",
       "    </tr>\n",
       "  </tbody>\n",
       "</table>\n",
       "</div>"
      ],
      "text/plain": [
       "   base_customer_id  customer_id gender marital_status  birth_date  \\\n",
       "0            158891      1747700  Erkek            NaN         NaN   \n",
       "1            169233      1710561  Erkek           Evli    1962.000   \n",
       "\n",
       "  fk_address_communication_city          occupation  \n",
       "0                           NaN                 NaN  \n",
       "1                       Erzurum  Öğretmen / Eğitmen  "
      ]
     },
     "execution_count": 109,
     "metadata": {},
     "output_type": "execute_result"
    }
   ],
   "source": [
    "df1_.head(2)"
   ]
  },
  {
   "cell_type": "code",
   "execution_count": 110,
   "id": "f95a70b6",
   "metadata": {},
   "outputs": [
    {
     "data": {
      "text/plain": [
       "(849919, 7)"
      ]
     },
     "execution_count": 110,
     "metadata": {},
     "output_type": "execute_result"
    }
   ],
   "source": [
    "df1_.shape"
   ]
  },
  {
   "cell_type": "code",
   "execution_count": 111,
   "id": "676e4ce9",
   "metadata": {},
   "outputs": [
    {
     "data": {
      "text/plain": [
       "Evli     513211\n",
       "NaN      229117\n",
       "Bekar    107591\n",
       "Name: marital_status, dtype: int64"
      ]
     },
     "execution_count": 111,
     "metadata": {},
     "output_type": "execute_result"
    }
   ],
   "source": [
    "df1_[\"marital_status\"].value_counts(dropna=False)"
   ]
  },
  {
   "cell_type": "code",
   "execution_count": 112,
   "id": "de3d5805",
   "metadata": {},
   "outputs": [],
   "source": [
    "df1_.loc[(df1_[\"marital_status\"].isnull()), \"marital_status\"]=\"Other\"\n",
    "# Marital statusu bilinmeyenlere Other girildi"
   ]
  },
  {
   "cell_type": "code",
   "execution_count": 113,
   "id": "1c8ba709",
   "metadata": {},
   "outputs": [
    {
     "data": {
      "text/plain": [
       "Evli     513211\n",
       "Other    229117\n",
       "Bekar    107591\n",
       "Name: marital_status, dtype: int64"
      ]
     },
     "execution_count": 113,
     "metadata": {},
     "output_type": "execute_result"
    }
   ],
   "source": [
    "df1_[\"marital_status\"].value_counts(dropna=False)"
   ]
  },
  {
   "cell_type": "code",
   "execution_count": 114,
   "id": "e12c2830",
   "metadata": {},
   "outputs": [
    {
     "data": {
      "text/html": [
       "<div>\n",
       "<style scoped>\n",
       "    .dataframe tbody tr th:only-of-type {\n",
       "        vertical-align: middle;\n",
       "    }\n",
       "\n",
       "    .dataframe tbody tr th {\n",
       "        vertical-align: top;\n",
       "    }\n",
       "\n",
       "    .dataframe thead th {\n",
       "        text-align: right;\n",
       "    }\n",
       "</style>\n",
       "<table border=\"1\" class=\"dataframe\">\n",
       "  <thead>\n",
       "    <tr style=\"text-align: right;\">\n",
       "      <th></th>\n",
       "      <th>Missing_Number</th>\n",
       "      <th>Missing_Percent</th>\n",
       "    </tr>\n",
       "  </thead>\n",
       "  <tbody>\n",
       "    <tr>\n",
       "      <th>occupation</th>\n",
       "      <td>468867</td>\n",
       "      <td>0.552</td>\n",
       "    </tr>\n",
       "    <tr>\n",
       "      <th>birth_date</th>\n",
       "      <td>204472</td>\n",
       "      <td>0.241</td>\n",
       "    </tr>\n",
       "    <tr>\n",
       "      <th>fk_address_communication_city</th>\n",
       "      <td>119578</td>\n",
       "      <td>0.141</td>\n",
       "    </tr>\n",
       "    <tr>\n",
       "      <th>gender</th>\n",
       "      <td>2</td>\n",
       "      <td>0.000</td>\n",
       "    </tr>\n",
       "  </tbody>\n",
       "</table>\n",
       "</div>"
      ],
      "text/plain": [
       "                               Missing_Number  Missing_Percent\n",
       "occupation                             468867            0.552\n",
       "birth_date                             204472            0.241\n",
       "fk_address_communication_city          119578            0.141\n",
       "gender                                      2            0.000"
      ]
     },
     "execution_count": 114,
     "metadata": {},
     "output_type": "execute_result"
    }
   ],
   "source": [
    "missing_values(df1_)"
   ]
  },
  {
   "cell_type": "code",
   "execution_count": 115,
   "id": "b4c1c3f3",
   "metadata": {},
   "outputs": [
    {
     "data": {
      "text/plain": [
       "NaN                                                   468867\n",
       "Emekli                                                 43677\n",
       "Diğer                                                  40399\n",
       "Serbest                                                32652\n",
       "Esnaf                                                  32251\n",
       "Doktor / Diş Hekimi / Veteriner                        18594\n",
       "Mühendis                                               18462\n",
       "Öğretmen / Eğitmen                                     13832\n",
       "Ev Hanımı                                              13729\n",
       "Tekstilci                                              13034\n",
       "Bankacı / Sigortacı / Finansçı / Ekonomist / Borsa     12522\n",
       "İşletmeci / İmalatçı (kobi - 250 Çalışandan Az)        11690\n",
       "Muhasebeci / Mali Müşavir / Denetçi / Müfettiş          9787\n",
       "Orta / Alt Seviye Kamu Görevli / Memur / Bürokrat       8532\n",
       "Şöför / Taksici / Transfer                              7838\n",
       "Avukat / Hukukçu / Hakim / Savcı                        7724\n",
       "İşçi                                                    6625\n",
       "Müteahit                                                6177\n",
       "Nakliyeci / Lojistik / Taşımacılık                      5734\n",
       "Tüccar                                                  5699\n",
       "Eczacı                                                  5679\n",
       "Öğrenci                                                 4176\n",
       "Akademisyen / Öğr.görevlisi / Araştırma Görevlisi       4128\n",
       "Turizmci                                                3878\n",
       "Çiftçi / Balıkçı / Ormancı / Hayvancılıkla Uğraşan      3606\n",
       "Asker (subay / Astsubay)                                3594\n",
       "Teknisyen / Mekaniker / Tekniker                        3495\n",
       "Mimar / İç Mimar                                        3120\n",
       "Oto. Tamir / Servis / Yedek Parça / Teknik Destek       3005\n",
       "Kuyumcu / Sarraf                                        2997\n",
       "İşletmeci / İmalatçı (büyük İşletme)                    2814\n",
       "Danışman                                                2745\n",
       "Bilişimci / Bilgisayar                                  2737\n",
       "Mobilyacı                                               2624\n",
       "Halkla İlişkiler / Reklamcı / Pazarlama / İletişim      2582\n",
       "Oto. Bayisi / Oto. Galerisi                             2503\n",
       "Polis                                                   2015\n",
       "Emlakçı                                                 1853\n",
       "Üst Düzey Bürokrat / Kamu / Belediye / Emniyet          1464\n",
       "Toptancı                                                1428\n",
       "Pilot / Kaptan                                          1131\n",
       "Hemşire                                                 1128\n",
       "Gazeteci / Basın / Yayın / Muhabir / Radyo Dj            975\n",
       "Distribütör / İthalatçı / İhracatçı                      966\n",
       "Sporcu / Antranör / Hakem                                731\n",
       "Tasarımcı (grafik, Moda)                                 704\n",
       "Elektirikçi                                              665\n",
       "Yazar / Ressam / Tiyatrocu / Besteci / Şarkıcı Vs.       603\n",
       "Gümrük Komisyoncusu                                      469\n",
       "Noter                                                    434\n",
       "Hostes / Host / Havaalanı Personeli                      433\n",
       "Matbaacı                                                 420\n",
       "Kuaför                                                   392\n",
       "Müşteri İlişkileri                                       389\n",
       "Sekreter / Asistan                                       333\n",
       "Hizmetli / Garson / Komi / Aşçı Vs.                      317\n",
       "Menejer / Yapımcı / Yönetmen / Organizatör               304\n",
       "Fotoğrafçılık                                            253\n",
       "Psikolog / Sosyolog / Sosyal Bilimler                    216\n",
       "Hurdacı                                                  214\n",
       "Armatör                                                  189\n",
       "Çiçekçi                                                  149\n",
       "Rehber / Tur Operatörü                                   126\n",
       "Sendikacı                                                110\n",
       "Name: occupation, dtype: int64"
      ]
     },
     "execution_count": 115,
     "metadata": {},
     "output_type": "execute_result"
    }
   ],
   "source": [
    "df1_[\"occupation\"].value_counts(dropna=False)\n",
    "# Diğer yazanlar listedeki meslek grubunun haricindeki kisilerden olabilecegiden NANlara Other atamasi yapilmadi\n",
    "# ihtiyac olursa daha sonra NANlar doldurulacak"
   ]
  },
  {
   "cell_type": "code",
   "execution_count": 116,
   "id": "af848f8c",
   "metadata": {},
   "outputs": [],
   "source": [
    "df1_[\"occupation\"] = df1_[\"occupation\"].str.lower()\n",
    "df1_[\"occupation\"] = df1_[\"occupation\"].str.replace('ı', 'i').str.replace('ğ', 'g').str.replace('ş', 's')\n",
    "df1_[\"occupation\"] = df1_[\"occupation\"].str.replace('ö', 'o').str.replace('ç', 'c').str.replace('ä', 'a')"
   ]
  },
  {
   "cell_type": "code",
   "execution_count": 117,
   "id": "f993d191",
   "metadata": {},
   "outputs": [
    {
     "data": {
      "text/plain": [
       "NaN                                                     468867\n",
       "emekli                                                   43677\n",
       "diger                                                    40399\n",
       "serbest                                                  32652\n",
       "esnaf                                                    32251\n",
       "doktor / dis hekimi / veteriner                          18594\n",
       "mühendis                                                 18462\n",
       "ogretmen / egitmen                                       13832\n",
       "ev hanimi                                                13729\n",
       "tekstilci                                                13034\n",
       "bankaci / sigortaci / finansci / ekonomist / borsa       12522\n",
       "i̇sletmeci / i̇malatci (kobi - 250 calisandan az)        11690\n",
       "muhasebeci / mali müsavir / denetci / müfettis            9787\n",
       "orta / alt seviye kamu gorevli / memur / bürokrat         8532\n",
       "sofor / taksici / transfer                                7838\n",
       "avukat / hukukcu / hakim / savci                          7724\n",
       "i̇sci                                                     6625\n",
       "müteahit                                                  6177\n",
       "nakliyeci / lojistik / tasimacilik                        5734\n",
       "tüccar                                                    5699\n",
       "eczaci                                                    5679\n",
       "ogrenci                                                   4176\n",
       "akademisyen / ogr.gorevlisi / arastirma gorevlisi         4128\n",
       "turizmci                                                  3878\n",
       "ciftci / balikci / ormanci / hayvancilikla ugrasan        3606\n",
       "asker (subay / astsubay)                                  3594\n",
       "teknisyen / mekaniker / tekniker                          3495\n",
       "mimar / i̇c mimar                                         3120\n",
       "oto. tamir / servis / yedek parca / teknik destek         3005\n",
       "kuyumcu / sarraf                                          2997\n",
       "i̇sletmeci / i̇malatci (büyük i̇sletme)                   2814\n",
       "danisman                                                  2745\n",
       "bilisimci / bilgisayar                                    2737\n",
       "mobilyaci                                                 2624\n",
       "halkla i̇liskiler / reklamci / pazarlama / i̇letisim      2582\n",
       "oto. bayisi / oto. galerisi                               2503\n",
       "polis                                                     2015\n",
       "emlakci                                                   1853\n",
       "üst düzey bürokrat / kamu / belediye / emniyet            1464\n",
       "toptanci                                                  1428\n",
       "pilot / kaptan                                            1131\n",
       "hemsire                                                   1128\n",
       "gazeteci / basin / yayin / muhabir / radyo dj              975\n",
       "distribütor / i̇thalatci / i̇hracatci                      966\n",
       "sporcu / antranor / hakem                                  731\n",
       "tasarimci (grafik, moda)                                   704\n",
       "elektirikci                                                665\n",
       "yazar / ressam / tiyatrocu / besteci / sarkici vs.         603\n",
       "gümrük komisyoncusu                                        469\n",
       "noter                                                      434\n",
       "hostes / host / havaalani personeli                        433\n",
       "matbaaci                                                   420\n",
       "kuafor                                                     392\n",
       "müsteri i̇liskileri                                        389\n",
       "sekreter / asistan                                         333\n",
       "hizmetli / garson / komi / asci vs.                        317\n",
       "menejer / yapimci / yonetmen / organizator                 304\n",
       "fotografcilik                                              253\n",
       "psikolog / sosyolog / sosyal bilimler                      216\n",
       "hurdaci                                                    214\n",
       "armator                                                    189\n",
       "cicekci                                                    149\n",
       "rehber / tur operatorü                                     126\n",
       "sendikaci                                                  110\n",
       "Name: occupation, dtype: int64"
      ]
     },
     "execution_count": 117,
     "metadata": {},
     "output_type": "execute_result"
    }
   ],
   "source": [
    "df1_[\"occupation\"].value_counts(dropna=False)"
   ]
  },
  {
   "cell_type": "code",
   "execution_count": 118,
   "id": "97453987",
   "metadata": {},
   "outputs": [
    {
     "data": {
      "text/plain": [
       "NaN         204472\n",
       "1974.000     22213\n",
       "1971.000     22054\n",
       "1972.000     21720\n",
       "1973.000     21152\n",
       "1970.000     20811\n",
       "1965.000     20513\n",
       "1975.000     20459\n",
       "1976.000     20293\n",
       "1977.000     20148\n",
       "1966.000     19967\n",
       "1969.000     19949\n",
       "1978.000     19547\n",
       "1968.000     18765\n",
       "1964.000     18616\n",
       "1979.000     18565\n",
       "1980.000     17456\n",
       "1967.000     17387\n",
       "1963.000     16811\n",
       "1960.000     16646\n",
       "1981.000     16233\n",
       "1962.000     16201\n",
       "1961.000     14892\n",
       "1959.000     14801\n",
       "1982.000     13873\n",
       "1956.000     13072\n",
       "1955.000     12632\n",
       "1958.000     12572\n",
       "1983.000     11563\n",
       "1957.000     11029\n",
       "1954.000     10571\n",
       "1984.000     10071\n",
       "1953.000      9188\n",
       "1952.000      8807\n",
       "1950.000      8695\n",
       "1985.000      8309\n",
       "1951.000      7108\n",
       "1949.000      6816\n",
       "1986.000      6604\n",
       "1948.000      5934\n",
       "1987.000      5250\n",
       "1947.000      5161\n",
       "1945.000      4513\n",
       "1946.000      4469\n",
       "1988.000      3746\n",
       "1944.000      3318\n",
       "1943.000      2804\n",
       "1942.000      2765\n",
       "1989.000      2633\n",
       "1940.000      2076\n",
       "1941.000      1888\n",
       "1990.000      1856\n",
       "1939.000      1682\n",
       "1938.000      1519\n",
       "1991.000      1145\n",
       "1937.000      1073\n",
       "1936.000       883\n",
       "1935.000       719\n",
       "1992.000       662\n",
       "1934.000       652\n",
       "1933.000       613\n",
       "1932.000       452\n",
       "1993.000       423\n",
       "1931.000       353\n",
       "1930.000       264\n",
       "1929.000       239\n",
       "1994.000       234\n",
       "1928.000       162\n",
       "1927.000       161\n",
       "1995.000       148\n",
       "1998.000       121\n",
       "1997.000       105\n",
       "1996.000       102\n",
       "1925.000        98\n",
       "2020.000        82\n",
       "1924.000        81\n",
       "1926.000        79\n",
       "1999.000        75\n",
       "2006.000        71\n",
       "2001.000        63\n",
       "2000.000        62\n",
       "2007.000        60\n",
       "2002.000        57\n",
       "2008.000        52\n",
       "2004.000        52\n",
       "2021.000        50\n",
       "2009.000        46\n",
       "2005.000        42\n",
       "1922.000        39\n",
       "2003.000        34\n",
       "2011.000        28\n",
       "1923.000        25\n",
       "2010.000        24\n",
       "1921.000        17\n",
       "2019.000        12\n",
       "2014.000        12\n",
       "2012.000        11\n",
       "1917.000         9\n",
       "1919.000         9\n",
       "1916.000         4\n",
       "2013.000         3\n",
       "1914.000         3\n",
       "1920.000         3\n",
       "2018.000         3\n",
       "2015.000         2\n",
       "2017.000         2\n",
       "1915.000         2\n",
       "1918.000         1\n",
       "Name: birth_date, dtype: int64"
      ]
     },
     "execution_count": 118,
     "metadata": {},
     "output_type": "execute_result"
    }
   ],
   "source": [
    "df1_[\"birth_date\"].value_counts(dropna=False)\n",
    "# dogum tarihi olarak dogum yillari girilmis bu kisilerin 2021 tarihi itibariyle \n",
    "# yaslarini hesaplayip bu kolonu \"age\" oalrak tutacagiz\n",
    "# NANlarin daha sonra degerlendirecegiz"
   ]
  },
  {
   "cell_type": "code",
   "execution_count": 119,
   "id": "551604a8",
   "metadata": {},
   "outputs": [
    {
     "data": {
      "text/plain": [
       "0           NaN\n",
       "1        59.000\n",
       "2        50.000\n",
       "3           NaN\n",
       "4           NaN\n",
       "          ...  \n",
       "849914      NaN\n",
       "849915   52.000\n",
       "849916   51.000\n",
       "849917   51.000\n",
       "849918   55.000\n",
       "Name: birth_date, Length: 849919, dtype: float64"
      ]
     },
     "execution_count": 119,
     "metadata": {},
     "output_type": "execute_result"
    }
   ],
   "source": [
    "2021-df1_[\"birth_date\"]"
   ]
  },
  {
   "cell_type": "code",
   "execution_count": 120,
   "id": "2a2aace5",
   "metadata": {},
   "outputs": [],
   "source": [
    "df1_[\"birth_date\"]=2021-df1_[\"birth_date\"]\n",
    "# dogum tarihi olarak dogum yillari girilmis bu kisilerin 2021 tarihi itibariyle \n",
    "# yaslari hesaplandi\n",
    "# NANlarin daha sonra degerlendirecegiz"
   ]
  },
  {
   "cell_type": "code",
   "execution_count": 121,
   "id": "64929911",
   "metadata": {},
   "outputs": [
    {
     "data": {
      "text/plain": [
       "NaN        204472\n",
       "47.000      22213\n",
       "50.000      22054\n",
       "49.000      21720\n",
       "48.000      21152\n",
       "51.000      20811\n",
       "56.000      20513\n",
       "46.000      20459\n",
       "45.000      20293\n",
       "44.000      20148\n",
       "55.000      19967\n",
       "52.000      19949\n",
       "43.000      19547\n",
       "53.000      18765\n",
       "57.000      18616\n",
       "42.000      18565\n",
       "41.000      17456\n",
       "54.000      17387\n",
       "58.000      16811\n",
       "61.000      16646\n",
       "40.000      16233\n",
       "59.000      16201\n",
       "60.000      14892\n",
       "62.000      14801\n",
       "39.000      13873\n",
       "65.000      13072\n",
       "66.000      12632\n",
       "63.000      12572\n",
       "38.000      11563\n",
       "64.000      11029\n",
       "67.000      10571\n",
       "37.000      10071\n",
       "68.000       9188\n",
       "69.000       8807\n",
       "71.000       8695\n",
       "36.000       8309\n",
       "70.000       7108\n",
       "72.000       6816\n",
       "35.000       6604\n",
       "73.000       5934\n",
       "34.000       5250\n",
       "74.000       5161\n",
       "76.000       4513\n",
       "75.000       4469\n",
       "33.000       3746\n",
       "77.000       3318\n",
       "78.000       2804\n",
       "79.000       2765\n",
       "32.000       2633\n",
       "81.000       2076\n",
       "80.000       1888\n",
       "31.000       1856\n",
       "82.000       1682\n",
       "83.000       1519\n",
       "30.000       1145\n",
       "84.000       1073\n",
       "85.000        883\n",
       "86.000        719\n",
       "29.000        662\n",
       "87.000        652\n",
       "88.000        613\n",
       "89.000        452\n",
       "28.000        423\n",
       "90.000        353\n",
       "91.000        264\n",
       "92.000        239\n",
       "27.000        234\n",
       "93.000        162\n",
       "94.000        161\n",
       "26.000        148\n",
       "23.000        121\n",
       "24.000        105\n",
       "25.000        102\n",
       "96.000         98\n",
       "1.000          82\n",
       "97.000         81\n",
       "95.000         79\n",
       "22.000         75\n",
       "15.000         71\n",
       "20.000         63\n",
       "21.000         62\n",
       "14.000         60\n",
       "19.000         57\n",
       "13.000         52\n",
       "17.000         52\n",
       "0.000          50\n",
       "12.000         46\n",
       "16.000         42\n",
       "99.000         39\n",
       "18.000         34\n",
       "10.000         28\n",
       "98.000         25\n",
       "11.000         24\n",
       "100.000        17\n",
       "7.000          12\n",
       "2.000          12\n",
       "9.000          11\n",
       "104.000         9\n",
       "102.000         9\n",
       "105.000         4\n",
       "3.000           3\n",
       "107.000         3\n",
       "8.000           3\n",
       "101.000         3\n",
       "106.000         2\n",
       "4.000           2\n",
       "6.000           2\n",
       "103.000         1\n",
       "Name: birth_date, dtype: int64"
      ]
     },
     "execution_count": 121,
     "metadata": {},
     "output_type": "execute_result"
    }
   ],
   "source": [
    "df1_[\"birth_date\"].value_counts(dropna=False)"
   ]
  },
  {
   "cell_type": "code",
   "execution_count": 122,
   "id": "ddcdd605",
   "metadata": {},
   "outputs": [
    {
     "data": {
      "text/html": [
       "<div>\n",
       "<style scoped>\n",
       "    .dataframe tbody tr th:only-of-type {\n",
       "        vertical-align: middle;\n",
       "    }\n",
       "\n",
       "    .dataframe tbody tr th {\n",
       "        vertical-align: top;\n",
       "    }\n",
       "\n",
       "    .dataframe thead th {\n",
       "        text-align: right;\n",
       "    }\n",
       "</style>\n",
       "<table border=\"1\" class=\"dataframe\">\n",
       "  <thead>\n",
       "    <tr style=\"text-align: right;\">\n",
       "      <th></th>\n",
       "      <th>base_customer_id</th>\n",
       "      <th>customer_id</th>\n",
       "      <th>gender</th>\n",
       "      <th>marital_status</th>\n",
       "      <th>age</th>\n",
       "      <th>fk_address_communication_city</th>\n",
       "      <th>occupation</th>\n",
       "    </tr>\n",
       "  </thead>\n",
       "  <tbody>\n",
       "    <tr>\n",
       "      <th>0</th>\n",
       "      <td>158891</td>\n",
       "      <td>1747700</td>\n",
       "      <td>Erkek</td>\n",
       "      <td>Other</td>\n",
       "      <td>NaN</td>\n",
       "      <td>NaN</td>\n",
       "      <td>NaN</td>\n",
       "    </tr>\n",
       "    <tr>\n",
       "      <th>1</th>\n",
       "      <td>169233</td>\n",
       "      <td>1710561</td>\n",
       "      <td>Erkek</td>\n",
       "      <td>Evli</td>\n",
       "      <td>59.000</td>\n",
       "      <td>Erzurum</td>\n",
       "      <td>ogretmen / egitmen</td>\n",
       "    </tr>\n",
       "  </tbody>\n",
       "</table>\n",
       "</div>"
      ],
      "text/plain": [
       "   base_customer_id  customer_id gender marital_status    age  \\\n",
       "0            158891      1747700  Erkek          Other    NaN   \n",
       "1            169233      1710561  Erkek           Evli 59.000   \n",
       "\n",
       "  fk_address_communication_city          occupation  \n",
       "0                           NaN                 NaN  \n",
       "1                       Erzurum  ogretmen / egitmen  "
      ]
     },
     "execution_count": 122,
     "metadata": {},
     "output_type": "execute_result"
    }
   ],
   "source": [
    "df1_.rename({'birth_date': 'age'}, axis=1, inplace=True)\n",
    "df1_.head(2)\n",
    "# dogum tarihi kolonu \"age\" olarak guncellendi"
   ]
  },
  {
   "cell_type": "code",
   "execution_count": 123,
   "id": "47c17a67",
   "metadata": {},
   "outputs": [
    {
     "data": {
      "text/html": [
       "<div>\n",
       "<style scoped>\n",
       "    .dataframe tbody tr th:only-of-type {\n",
       "        vertical-align: middle;\n",
       "    }\n",
       "\n",
       "    .dataframe tbody tr th {\n",
       "        vertical-align: top;\n",
       "    }\n",
       "\n",
       "    .dataframe thead th {\n",
       "        text-align: right;\n",
       "    }\n",
       "</style>\n",
       "<table border=\"1\" class=\"dataframe\">\n",
       "  <thead>\n",
       "    <tr style=\"text-align: right;\">\n",
       "      <th></th>\n",
       "      <th>Missing_Number</th>\n",
       "      <th>Missing_Percent</th>\n",
       "    </tr>\n",
       "  </thead>\n",
       "  <tbody>\n",
       "    <tr>\n",
       "      <th>occupation</th>\n",
       "      <td>468867</td>\n",
       "      <td>0.552</td>\n",
       "    </tr>\n",
       "    <tr>\n",
       "      <th>age</th>\n",
       "      <td>204472</td>\n",
       "      <td>0.241</td>\n",
       "    </tr>\n",
       "    <tr>\n",
       "      <th>fk_address_communication_city</th>\n",
       "      <td>119578</td>\n",
       "      <td>0.141</td>\n",
       "    </tr>\n",
       "    <tr>\n",
       "      <th>gender</th>\n",
       "      <td>2</td>\n",
       "      <td>0.000</td>\n",
       "    </tr>\n",
       "  </tbody>\n",
       "</table>\n",
       "</div>"
      ],
      "text/plain": [
       "                               Missing_Number  Missing_Percent\n",
       "occupation                             468867            0.552\n",
       "age                                    204472            0.241\n",
       "fk_address_communication_city          119578            0.141\n",
       "gender                                      2            0.000"
      ]
     },
     "execution_count": 123,
     "metadata": {},
     "output_type": "execute_result"
    }
   ],
   "source": [
    "missing_values(df1_)\n",
    "# city kismini inceleyelim"
   ]
  },
  {
   "cell_type": "code",
   "execution_count": 124,
   "id": "9ec82912",
   "metadata": {},
   "outputs": [
    {
     "data": {
      "text/html": [
       "<div>\n",
       "<style scoped>\n",
       "    .dataframe tbody tr th:only-of-type {\n",
       "        vertical-align: middle;\n",
       "    }\n",
       "\n",
       "    .dataframe tbody tr th {\n",
       "        vertical-align: top;\n",
       "    }\n",
       "\n",
       "    .dataframe thead th {\n",
       "        text-align: right;\n",
       "    }\n",
       "</style>\n",
       "<table border=\"1\" class=\"dataframe\">\n",
       "  <thead>\n",
       "    <tr style=\"text-align: right;\">\n",
       "      <th></th>\n",
       "      <th>base_customer_id</th>\n",
       "      <th>customer_id</th>\n",
       "      <th>gender</th>\n",
       "      <th>marital_status</th>\n",
       "      <th>age</th>\n",
       "      <th>city</th>\n",
       "      <th>occupation</th>\n",
       "    </tr>\n",
       "  </thead>\n",
       "  <tbody>\n",
       "    <tr>\n",
       "      <th>0</th>\n",
       "      <td>158891</td>\n",
       "      <td>1747700</td>\n",
       "      <td>Erkek</td>\n",
       "      <td>Other</td>\n",
       "      <td>NaN</td>\n",
       "      <td>NaN</td>\n",
       "      <td>NaN</td>\n",
       "    </tr>\n",
       "    <tr>\n",
       "      <th>1</th>\n",
       "      <td>169233</td>\n",
       "      <td>1710561</td>\n",
       "      <td>Erkek</td>\n",
       "      <td>Evli</td>\n",
       "      <td>59.000</td>\n",
       "      <td>Erzurum</td>\n",
       "      <td>ogretmen / egitmen</td>\n",
       "    </tr>\n",
       "  </tbody>\n",
       "</table>\n",
       "</div>"
      ],
      "text/plain": [
       "   base_customer_id  customer_id gender marital_status    age     city  \\\n",
       "0            158891      1747700  Erkek          Other    NaN      NaN   \n",
       "1            169233      1710561  Erkek           Evli 59.000  Erzurum   \n",
       "\n",
       "           occupation  \n",
       "0                 NaN  \n",
       "1  ogretmen / egitmen  "
      ]
     },
     "execution_count": 124,
     "metadata": {},
     "output_type": "execute_result"
    }
   ],
   "source": [
    "df1_.rename({'fk_address_communication_city': 'city'}, axis=1, inplace=True)\n",
    "df1_.head(2)\n",
    "# yeniden adlandirma yapildi"
   ]
  },
  {
   "cell_type": "code",
   "execution_count": 125,
   "id": "99be6247",
   "metadata": {},
   "outputs": [
    {
     "data": {
      "text/plain": [
       "İstanbul          271740\n",
       "Ankara             78830\n",
       "İzmir              39362\n",
       "Antalya            26717\n",
       "Kocaeli            15380\n",
       "Bursa              15258\n",
       "Gaziantep          14850\n",
       "Konya              14409\n",
       "Adana              13368\n",
       "Kayseri            12885\n",
       "Mersin             12669\n",
       "Muğla              10500\n",
       "Trabzon             9021\n",
       "Hatay               8607\n",
       "Elazığ              8076\n",
       "Erzurum             7992\n",
       "Diyarbakır          7960\n",
       "Samsun              7646\n",
       "Eskişehir           7455\n",
       "Şanlıurfa           7340\n",
       "Tekirdağ            6564\n",
       "Sakarya             6540\n",
       "Denizli             5815\n",
       "Manisa              5702\n",
       "Balıkesir           5687\n",
       "Aydın               5275\n",
       "Malatya             4727\n",
       "Afyonkarahisar      4425\n",
       "Kahramanmaraş       4414\n",
       "Zonguldak           4114\n",
       "Van                 4096\n",
       "Edirne              3787\n",
       "Isparta             3504\n",
       "Ordu                3053\n",
       "Kütahya             2894\n",
       "Çorum               2881\n",
       "Mardin              2659\n",
       "Nevşehir            2567\n",
       "Çanakkale           2558\n",
       "Tokat               2498\n",
       "Batman              2438\n",
       "Kırklareli          2322\n",
       "Yozgat              2312\n",
       "Giresun             2305\n",
       "Rize                2170\n",
       "Osmaniye            2168\n",
       "Sivas               2094\n",
       "Bolu                2049\n",
       "Düzce               1963\n",
       "Adıyaman            1847\n",
       "Amasya              1818\n",
       "Uşak                1802\n",
       "Ağrı                1770\n",
       "Niğde               1769\n",
       "Erzincan            1760\n",
       "Aksaray             1758\n",
       "Burdur              1595\n",
       "Kastamonu           1525\n",
       "Kars                1418\n",
       "Muş                 1330\n",
       "Bilecik             1260\n",
       "Yalova              1242\n",
       "Şırnak              1228\n",
       "Kırşehir            1180\n",
       "Artvin              1141\n",
       "Bitlis              1119\n",
       "Karaman             1037\n",
       "Bartın              1033\n",
       "Kırıkkale            950\n",
       "Bingöl               931\n",
       "Karabük              911\n",
       "Iğdır                894\n",
       "Sinop                860\n",
       "Gümüşhane            618\n",
       "Siirt                607\n",
       "Çankırı              530\n",
       "Tunceli              526\n",
       "Bayburt              520\n",
       "Hakkari              491\n",
       "Ardahan              444\n",
       "Kilis                424\n",
       "İzmit                253\n",
       "Almanya                6\n",
       "DİYARBAKIR             5\n",
       "X                      4\n",
       "GİRNE                  4\n",
       "SİVAS                  4\n",
       "BÜKREŞ                 3\n",
       "bursa                  3\n",
       "Lackfabrık             3\n",
       "Taşkent                3\n",
       "DİKMEN                 2\n",
       "Nahçıvan               2\n",
       "Heılbronn              2\n",
       "Alm                    2\n",
       "darmstadt              2\n",
       "nijmegen               2\n",
       "nahçıvan               2\n",
       "istanbul               2\n",
       "Kıbrıs                 2\n",
       "Tehran                 2\n",
       "Maasmechelen           2\n",
       "Hamburg                2\n",
       "Lefkoşa                2\n",
       "BİLİNMEYEN             2\n",
       "girne                  2\n",
       "RİZE                   2\n",
       "Volgelsheım            2\n",
       "KÜTAHYA                2\n",
       "Yenimahalle            1\n",
       "L                      1\n",
       "Lefkoşe                1\n",
       "Gostivar               1\n",
       "iran                   1\n",
       "ist                    1\n",
       "z                      1\n",
       "Gazimagusa             1\n",
       "Praha                  1\n",
       "Hoorn                  1\n",
       "Asd                    1\n",
       "Batum                  1\n",
       "Volgelshem             1\n",
       "salmas                 1\n",
       "Amıens                 1\n",
       "texas                  1\n",
       "Frankfurt              1\n",
       "Merkez                 1\n",
       "Sofıa                  1\n",
       "DİĞER                  1\n",
       "Dortmund               1\n",
       "Romanya                1\n",
       "Hammer Str             1\n",
       "Ulukışla               1\n",
       "BİNGÖL                 1\n",
       "köln                   1\n",
       "wuppertal              1\n",
       "Bucurestı              1\n",
       "Wısbaden               1\n",
       "florida                1\n",
       "DÜZCE                  1\n",
       "Ludwingsburg           1\n",
       "Karlsruhe              1\n",
       "Name: city, dtype: int64"
      ]
     },
     "execution_count": 125,
     "metadata": {},
     "output_type": "execute_result"
    }
   ],
   "source": [
    "df1_[\"city\"].value_counts()"
   ]
  },
  {
   "cell_type": "code",
   "execution_count": 126,
   "id": "066e0760",
   "metadata": {},
   "outputs": [],
   "source": [
    "df1_[\"city\"] = df1_[\"city\"].str.lower()\n",
    "df1_[\"city\"] = df1_[\"city\"].str.replace('ı', 'i').str.replace('ğ', 'g').str.replace('ş', 's')\n",
    "df1_[\"city\"] = df1_[\"city\"].str.replace('ö', 'o').str.replace('ç', 'c').str.replace('ä', 'a')"
   ]
  },
  {
   "cell_type": "code",
   "execution_count": 127,
   "id": "951ca7f0",
   "metadata": {},
   "outputs": [
    {
     "data": {
      "text/plain": [
       "i̇stanbul         271740\n",
       "ankara             78830\n",
       "i̇zmir             39362\n",
       "antalya            26717\n",
       "kocaeli            15380\n",
       "bursa              15261\n",
       "gaziantep          14850\n",
       "konya              14409\n",
       "adana              13368\n",
       "kayseri            12885\n",
       "mersin             12669\n",
       "mugla              10500\n",
       "trabzon             9021\n",
       "hatay               8607\n",
       "elazig              8076\n",
       "erzurum             7992\n",
       "diyarbakir          7960\n",
       "samsun              7646\n",
       "eskisehir           7455\n",
       "sanliurfa           7340\n",
       "tekirdag            6564\n",
       "sakarya             6540\n",
       "denizli             5815\n",
       "manisa              5702\n",
       "balikesir           5687\n",
       "aydin               5275\n",
       "malatya             4727\n",
       "afyonkarahisar      4425\n",
       "kahramanmaras       4414\n",
       "zonguldak           4114\n",
       "van                 4096\n",
       "edirne              3787\n",
       "isparta             3504\n",
       "ordu                3053\n",
       "kütahya             2896\n",
       "corum               2881\n",
       "mardin              2659\n",
       "nevsehir            2567\n",
       "canakkale           2558\n",
       "tokat               2498\n",
       "batman              2438\n",
       "kirklareli          2322\n",
       "yozgat              2312\n",
       "giresun             2305\n",
       "rize                2170\n",
       "osmaniye            2168\n",
       "sivas               2094\n",
       "bolu                2049\n",
       "düzce               1964\n",
       "adiyaman            1847\n",
       "amasya              1818\n",
       "usak                1802\n",
       "agri                1770\n",
       "nigde               1769\n",
       "erzincan            1760\n",
       "aksaray             1758\n",
       "burdur              1595\n",
       "kastamonu           1525\n",
       "kars                1418\n",
       "mus                 1330\n",
       "bilecik             1260\n",
       "yalova              1242\n",
       "sirnak              1228\n",
       "kirsehir            1180\n",
       "artvin              1141\n",
       "bitlis              1119\n",
       "karaman             1037\n",
       "bartin              1033\n",
       "kirikkale            950\n",
       "bingol               931\n",
       "karabük              911\n",
       "igdir                894\n",
       "sinop                860\n",
       "gümüshane            618\n",
       "siirt                607\n",
       "cankiri              530\n",
       "tunceli              526\n",
       "bayburt              520\n",
       "hakkari              491\n",
       "ardahan              444\n",
       "kilis                424\n",
       "i̇zmit               253\n",
       "almanya                6\n",
       "di̇yarbakir            5\n",
       "x                      4\n",
       "gi̇rne                 4\n",
       "nahcivan               4\n",
       "si̇vas                 4\n",
       "lackfabrik             3\n",
       "taskent                3\n",
       "bükres                 3\n",
       "istanbul               2\n",
       "kibris                 2\n",
       "bi̇li̇nmeyen           2\n",
       "heilbronn              2\n",
       "nijmegen               2\n",
       "alm                    2\n",
       "darmstadt              2\n",
       "volgelsheim            2\n",
       "hamburg                2\n",
       "maasmechelen           2\n",
       "di̇kmen                2\n",
       "lefkosa                2\n",
       "tehran                 2\n",
       "girne                  2\n",
       "ri̇ze                  2\n",
       "gostivar               1\n",
       "iran                   1\n",
       "bucuresti              1\n",
       "asd                    1\n",
       "florida                1\n",
       "di̇ger                 1\n",
       "praha                  1\n",
       "amiens                 1\n",
       "yenimahalle            1\n",
       "karlsruhe              1\n",
       "koln                   1\n",
       "ludwingsburg           1\n",
       "ist                    1\n",
       "z                      1\n",
       "dortmund               1\n",
       "romanya                1\n",
       "hoorn                  1\n",
       "wisbaden               1\n",
       "merkez                 1\n",
       "hammer str             1\n",
       "frankfurt              1\n",
       "lefkose                1\n",
       "volgelshem             1\n",
       "salmas                 1\n",
       "gazimagusa             1\n",
       "wuppertal              1\n",
       "bi̇ngol                1\n",
       "texas                  1\n",
       "l                      1\n",
       "batum                  1\n",
       "ulukisla               1\n",
       "sofia                  1\n",
       "Name: city, dtype: int64"
      ]
     },
     "execution_count": 127,
     "metadata": {},
     "output_type": "execute_result"
    }
   ],
   "source": [
    "df1_[\"city\"].value_counts()"
   ]
  },
  {
   "cell_type": "code",
   "execution_count": 128,
   "id": "67f2829f",
   "metadata": {},
   "outputs": [
    {
     "data": {
      "text/plain": [
       "['i̇stanbul',\n",
       " 'ankara',\n",
       " 'i̇zmir',\n",
       " 'antalya',\n",
       " 'kocaeli',\n",
       " 'bursa',\n",
       " 'gaziantep',\n",
       " 'konya',\n",
       " 'adana',\n",
       " 'kayseri',\n",
       " 'mersin',\n",
       " 'mugla',\n",
       " 'trabzon',\n",
       " 'hatay',\n",
       " 'elazig',\n",
       " 'erzurum',\n",
       " 'diyarbakir',\n",
       " 'samsun',\n",
       " 'eskisehir',\n",
       " 'sanliurfa',\n",
       " 'tekirdag',\n",
       " 'sakarya',\n",
       " 'denizli',\n",
       " 'manisa',\n",
       " 'balikesir',\n",
       " 'aydin',\n",
       " 'malatya',\n",
       " 'afyonkarahisar',\n",
       " 'kahramanmaras',\n",
       " 'zonguldak',\n",
       " 'van',\n",
       " 'edirne',\n",
       " 'isparta',\n",
       " 'ordu',\n",
       " 'kütahya',\n",
       " 'corum',\n",
       " 'mardin',\n",
       " 'nevsehir',\n",
       " 'canakkale',\n",
       " 'tokat',\n",
       " 'batman',\n",
       " 'kirklareli',\n",
       " 'yozgat',\n",
       " 'giresun',\n",
       " 'rize',\n",
       " 'osmaniye',\n",
       " 'sivas',\n",
       " 'bolu',\n",
       " 'düzce',\n",
       " 'adiyaman',\n",
       " 'amasya',\n",
       " 'usak',\n",
       " 'agri',\n",
       " 'nigde',\n",
       " 'erzincan',\n",
       " 'aksaray',\n",
       " 'burdur',\n",
       " 'kastamonu',\n",
       " 'kars',\n",
       " 'mus',\n",
       " 'bilecik',\n",
       " 'yalova',\n",
       " 'sirnak',\n",
       " 'kirsehir',\n",
       " 'artvin',\n",
       " 'bitlis',\n",
       " 'karaman',\n",
       " 'bartin',\n",
       " 'kirikkale',\n",
       " 'bingol',\n",
       " 'karabük',\n",
       " 'igdir',\n",
       " 'sinop',\n",
       " 'gümüshane',\n",
       " 'siirt',\n",
       " 'cankiri',\n",
       " 'tunceli',\n",
       " 'bayburt',\n",
       " 'hakkari',\n",
       " 'ardahan',\n",
       " 'kilis',\n",
       " 'i̇zmit',\n",
       " 'almanya',\n",
       " 'di̇yarbakir',\n",
       " 'x',\n",
       " 'gi̇rne',\n",
       " 'nahcivan',\n",
       " 'si̇vas',\n",
       " 'lackfabrik',\n",
       " 'taskent',\n",
       " 'bükres',\n",
       " 'istanbul',\n",
       " 'kibris',\n",
       " 'bi̇li̇nmeyen',\n",
       " 'heilbronn',\n",
       " 'nijmegen',\n",
       " 'alm',\n",
       " 'darmstadt',\n",
       " 'volgelsheim',\n",
       " 'hamburg',\n",
       " 'maasmechelen',\n",
       " 'di̇kmen',\n",
       " 'lefkosa',\n",
       " 'tehran',\n",
       " 'girne',\n",
       " 'ri̇ze',\n",
       " 'gostivar',\n",
       " 'iran',\n",
       " 'bucuresti',\n",
       " 'asd',\n",
       " 'florida',\n",
       " 'di̇ger',\n",
       " 'praha',\n",
       " 'amiens',\n",
       " 'yenimahalle',\n",
       " 'karlsruhe',\n",
       " 'koln',\n",
       " 'ludwingsburg',\n",
       " 'ist',\n",
       " 'z',\n",
       " 'dortmund',\n",
       " 'romanya',\n",
       " 'hoorn',\n",
       " 'wisbaden',\n",
       " 'merkez',\n",
       " 'hammer str',\n",
       " 'frankfurt',\n",
       " 'lefkose',\n",
       " 'volgelshem',\n",
       " 'salmas',\n",
       " 'gazimagusa',\n",
       " 'wuppertal',\n",
       " 'bi̇ngol',\n",
       " 'texas',\n",
       " 'l',\n",
       " 'batum',\n",
       " 'ulukisla',\n",
       " 'sofia']"
      ]
     },
     "execution_count": 128,
     "metadata": {},
     "output_type": "execute_result"
    }
   ],
   "source": [
    "df1_[\"city\"].value_counts().index.tolist()"
   ]
  },
  {
   "cell_type": "code",
   "execution_count": 129,
   "id": "757b2238",
   "metadata": {},
   "outputs": [],
   "source": [
    "edit = ['di̇yarbakir', 'si̇vas', 'bi̇li̇nmeyen', 'x', 'ri̇ze', 'istanbul', 'l', 'di̇ger', 'yenimahalle', 'z', 'asd', 'ulukisla',  'merkez','ist', 'bi̇ngol']\n",
    "outland = ['almanya', 'gi̇rne', 'nahcivan', 'bükres', 'taskent', 'lackfabrik', 'darmstadt', 'hamburg', 'volgelsheim','maasmechelen',\n",
    " 'tehran', 'di̇kmen', 'lefkosa', 'alm', 'girne', 'kibris', 'heilbronn', 'nijmegen', 'texas', 'koln', 'salmas','dortmund',\n",
    " 'volgelshem', 'hammer str', 'frankfurt', 'ludwingsburg', 'sofia', 'karlsruhe', 'gazimagusa', 'hoorn', 'iran', 'wisbaden',\n",
    " 'amiens','gostivar', 'bucuresti', 'praha', 'florida', 'batum', 'wuppertal', 'lefkose', 'romanya']"
   ]
  },
  {
   "cell_type": "code",
   "execution_count": 130,
   "id": "60f0321f",
   "metadata": {},
   "outputs": [],
   "source": [
    "df1_[\"city\"] = df1_[\"city\"].replace(['si̇vas', 'ulukisla'], 'sivas')\n",
    "df1_[\"city\"] = df1_[\"city\"].replace('di̇yarbakir', 'diyarbakir')\n",
    "df1_[\"city\"] = df1_[\"city\"].replace('ri̇ze', 'rize')\n",
    "df1_[\"city\"] = df1_[\"city\"].replace('yenimahalle', 'ankara')\n",
    "df1_[\"city\"] = df1_[\"city\"].replace(['ist','istanbul'], 'i̇stanbul')\n",
    "df1_[\"city\"] = df1_[\"city\"].replace('bi̇ngol', 'bingol')\n",
    "df1_[\"city\"] = df1_[\"city\"].replace(outland, 'outland')\n",
    "# yurt disi adresleri outland olarak guncellendi\n",
    "# bazi sehirler yeniden adlandirildi\n",
    "# edit_remain = ['bi̇li̇nmeyen', 'x', 'l', 'di̇ger', 'z', 'asd', 'ulukisla',  'merkez'] henuz guncellenmedi"
   ]
  },
  {
   "cell_type": "code",
   "execution_count": 131,
   "id": "32f44f80",
   "metadata": {},
   "outputs": [
    {
     "data": {
      "text/plain": [
       "i̇stanbul         271743\n",
       "ankara             78831\n",
       "i̇zmir             39362\n",
       "antalya            26717\n",
       "kocaeli            15380\n",
       "bursa              15261\n",
       "gaziantep          14850\n",
       "konya              14409\n",
       "adana              13368\n",
       "kayseri            12885\n",
       "mersin             12669\n",
       "mugla              10500\n",
       "trabzon             9021\n",
       "hatay               8607\n",
       "elazig              8076\n",
       "erzurum             7992\n",
       "diyarbakir          7965\n",
       "samsun              7646\n",
       "eskisehir           7455\n",
       "sanliurfa           7340\n",
       "tekirdag            6564\n",
       "sakarya             6540\n",
       "denizli             5815\n",
       "manisa              5702\n",
       "balikesir           5687\n",
       "aydin               5275\n",
       "malatya             4727\n",
       "afyonkarahisar      4425\n",
       "kahramanmaras       4414\n",
       "zonguldak           4114\n",
       "van                 4096\n",
       "edirne              3787\n",
       "isparta             3504\n",
       "ordu                3053\n",
       "kütahya             2896\n",
       "corum               2881\n",
       "mardin              2659\n",
       "nevsehir            2567\n",
       "canakkale           2558\n",
       "tokat               2498\n",
       "batman              2438\n",
       "kirklareli          2322\n",
       "yozgat              2312\n",
       "giresun             2305\n",
       "rize                2172\n",
       "osmaniye            2168\n",
       "sivas               2099\n",
       "bolu                2049\n",
       "düzce               1964\n",
       "adiyaman            1847\n",
       "amasya              1818\n",
       "usak                1802\n",
       "agri                1770\n",
       "nigde               1769\n",
       "erzincan            1760\n",
       "aksaray             1758\n",
       "burdur              1595\n",
       "kastamonu           1525\n",
       "kars                1418\n",
       "mus                 1330\n",
       "bilecik             1260\n",
       "yalova              1242\n",
       "sirnak              1228\n",
       "kirsehir            1180\n",
       "artvin              1141\n",
       "bitlis              1119\n",
       "karaman             1037\n",
       "bartin              1033\n",
       "kirikkale            950\n",
       "bingol               932\n",
       "karabük              911\n",
       "igdir                894\n",
       "sinop                860\n",
       "gümüshane            618\n",
       "siirt                607\n",
       "cankiri              530\n",
       "tunceli              526\n",
       "bayburt              520\n",
       "hakkari              491\n",
       "ardahan              444\n",
       "kilis                424\n",
       "i̇zmit               253\n",
       "outland               70\n",
       "x                      4\n",
       "bi̇li̇nmeyen           2\n",
       "di̇ger                 1\n",
       "merkez                 1\n",
       "z                      1\n",
       "l                      1\n",
       "asd                    1\n",
       "Name: city, dtype: int64"
      ]
     },
     "execution_count": 131,
     "metadata": {},
     "output_type": "execute_result"
    }
   ],
   "source": [
    "df1_[\"city\"].value_counts()"
   ]
  },
  {
   "cell_type": "code",
   "execution_count": 132,
   "id": "014b1ea5",
   "metadata": {},
   "outputs": [
    {
     "data": {
      "text/html": [
       "<div>\n",
       "<style scoped>\n",
       "    .dataframe tbody tr th:only-of-type {\n",
       "        vertical-align: middle;\n",
       "    }\n",
       "\n",
       "    .dataframe tbody tr th {\n",
       "        vertical-align: top;\n",
       "    }\n",
       "\n",
       "    .dataframe thead th {\n",
       "        text-align: right;\n",
       "    }\n",
       "</style>\n",
       "<table border=\"1\" class=\"dataframe\">\n",
       "  <thead>\n",
       "    <tr style=\"text-align: right;\">\n",
       "      <th></th>\n",
       "      <th>Missing_Number</th>\n",
       "      <th>Missing_Percent</th>\n",
       "    </tr>\n",
       "  </thead>\n",
       "  <tbody>\n",
       "    <tr>\n",
       "      <th>occupation</th>\n",
       "      <td>468867</td>\n",
       "      <td>0.552</td>\n",
       "    </tr>\n",
       "    <tr>\n",
       "      <th>age</th>\n",
       "      <td>204472</td>\n",
       "      <td>0.241</td>\n",
       "    </tr>\n",
       "    <tr>\n",
       "      <th>city</th>\n",
       "      <td>119578</td>\n",
       "      <td>0.141</td>\n",
       "    </tr>\n",
       "    <tr>\n",
       "      <th>gender</th>\n",
       "      <td>2</td>\n",
       "      <td>0.000</td>\n",
       "    </tr>\n",
       "  </tbody>\n",
       "</table>\n",
       "</div>"
      ],
      "text/plain": [
       "            Missing_Number  Missing_Percent\n",
       "occupation          468867            0.552\n",
       "age                 204472            0.241\n",
       "city                119578            0.141\n",
       "gender                   2            0.000"
      ]
     },
     "execution_count": 132,
     "metadata": {},
     "output_type": "execute_result"
    }
   ],
   "source": [
    "missing_values(df1_)\n",
    "# suan icin bunlarla ilgili birsey yapilmayacak artik joinlerden sonra tekrar ele alinacak"
   ]
  },
  {
   "cell_type": "code",
   "execution_count": 133,
   "id": "870c3600",
   "metadata": {},
   "outputs": [
    {
     "data": {
      "text/html": [
       "<div>\n",
       "<style scoped>\n",
       "    .dataframe tbody tr th:only-of-type {\n",
       "        vertical-align: middle;\n",
       "    }\n",
       "\n",
       "    .dataframe tbody tr th {\n",
       "        vertical-align: top;\n",
       "    }\n",
       "\n",
       "    .dataframe thead th {\n",
       "        text-align: right;\n",
       "    }\n",
       "</style>\n",
       "<table border=\"1\" class=\"dataframe\">\n",
       "  <thead>\n",
       "    <tr style=\"text-align: right;\">\n",
       "      <th></th>\n",
       "      <th>base_customer_id</th>\n",
       "      <th>customer_id</th>\n",
       "      <th>gender</th>\n",
       "      <th>marital_status</th>\n",
       "      <th>age</th>\n",
       "      <th>city</th>\n",
       "      <th>occupation</th>\n",
       "    </tr>\n",
       "  </thead>\n",
       "  <tbody>\n",
       "    <tr>\n",
       "      <th>0</th>\n",
       "      <td>158891</td>\n",
       "      <td>1747700</td>\n",
       "      <td>Erkek</td>\n",
       "      <td>Other</td>\n",
       "      <td>NaN</td>\n",
       "      <td>NaN</td>\n",
       "      <td>NaN</td>\n",
       "    </tr>\n",
       "    <tr>\n",
       "      <th>1</th>\n",
       "      <td>169233</td>\n",
       "      <td>1710561</td>\n",
       "      <td>Erkek</td>\n",
       "      <td>Evli</td>\n",
       "      <td>59.000</td>\n",
       "      <td>erzurum</td>\n",
       "      <td>ogretmen / egitmen</td>\n",
       "    </tr>\n",
       "    <tr>\n",
       "      <th>2</th>\n",
       "      <td>30887</td>\n",
       "      <td>1043923</td>\n",
       "      <td>Erkek</td>\n",
       "      <td>Evli</td>\n",
       "      <td>50.000</td>\n",
       "      <td>i̇stanbul</td>\n",
       "      <td>esnaf</td>\n",
       "    </tr>\n",
       "    <tr>\n",
       "      <th>3</th>\n",
       "      <td>38013</td>\n",
       "      <td>1101926</td>\n",
       "      <td>Erkek</td>\n",
       "      <td>Other</td>\n",
       "      <td>NaN</td>\n",
       "      <td>manisa</td>\n",
       "      <td>NaN</td>\n",
       "    </tr>\n",
       "    <tr>\n",
       "      <th>4</th>\n",
       "      <td>157091</td>\n",
       "      <td>1819787</td>\n",
       "      <td>Kadın</td>\n",
       "      <td>Other</td>\n",
       "      <td>NaN</td>\n",
       "      <td>ankara</td>\n",
       "      <td>NaN</td>\n",
       "    </tr>\n",
       "    <tr>\n",
       "      <th>...</th>\n",
       "      <td>...</td>\n",
       "      <td>...</td>\n",
       "      <td>...</td>\n",
       "      <td>...</td>\n",
       "      <td>...</td>\n",
       "      <td>...</td>\n",
       "      <td>...</td>\n",
       "    </tr>\n",
       "    <tr>\n",
       "      <th>849914</th>\n",
       "      <td>18175</td>\n",
       "      <td>1744051</td>\n",
       "      <td>Erkek</td>\n",
       "      <td>Other</td>\n",
       "      <td>NaN</td>\n",
       "      <td>NaN</td>\n",
       "      <td>NaN</td>\n",
       "    </tr>\n",
       "    <tr>\n",
       "      <th>849915</th>\n",
       "      <td>108604</td>\n",
       "      <td>1209486</td>\n",
       "      <td>Erkek</td>\n",
       "      <td>Evli</td>\n",
       "      <td>52.000</td>\n",
       "      <td>i̇stanbul</td>\n",
       "      <td>nakliyeci / lojistik / tasimacilik</td>\n",
       "    </tr>\n",
       "    <tr>\n",
       "      <th>849916</th>\n",
       "      <td>155926</td>\n",
       "      <td>1670812</td>\n",
       "      <td>Erkek</td>\n",
       "      <td>Evli</td>\n",
       "      <td>51.000</td>\n",
       "      <td>i̇stanbul</td>\n",
       "      <td>NaN</td>\n",
       "    </tr>\n",
       "    <tr>\n",
       "      <th>849917</th>\n",
       "      <td>123223</td>\n",
       "      <td>1691689</td>\n",
       "      <td>Erkek</td>\n",
       "      <td>Evli</td>\n",
       "      <td>51.000</td>\n",
       "      <td>kayseri</td>\n",
       "      <td>NaN</td>\n",
       "    </tr>\n",
       "    <tr>\n",
       "      <th>849918</th>\n",
       "      <td>88245</td>\n",
       "      <td>1300543</td>\n",
       "      <td>Kadın</td>\n",
       "      <td>Bekar</td>\n",
       "      <td>55.000</td>\n",
       "      <td>i̇stanbul</td>\n",
       "      <td>tekstilci</td>\n",
       "    </tr>\n",
       "  </tbody>\n",
       "</table>\n",
       "<p>849919 rows × 7 columns</p>\n",
       "</div>"
      ],
      "text/plain": [
       "        base_customer_id  customer_id gender marital_status    age       city  \\\n",
       "0                 158891      1747700  Erkek          Other    NaN        NaN   \n",
       "1                 169233      1710561  Erkek           Evli 59.000    erzurum   \n",
       "2                  30887      1043923  Erkek           Evli 50.000  i̇stanbul   \n",
       "3                  38013      1101926  Erkek          Other    NaN     manisa   \n",
       "4                 157091      1819787  Kadın          Other    NaN     ankara   \n",
       "...                  ...          ...    ...            ...    ...        ...   \n",
       "849914             18175      1744051  Erkek          Other    NaN        NaN   \n",
       "849915            108604      1209486  Erkek           Evli 52.000  i̇stanbul   \n",
       "849916            155926      1670812  Erkek           Evli 51.000  i̇stanbul   \n",
       "849917            123223      1691689  Erkek           Evli 51.000    kayseri   \n",
       "849918             88245      1300543  Kadın          Bekar 55.000  i̇stanbul   \n",
       "\n",
       "                                occupation  \n",
       "0                                      NaN  \n",
       "1                       ogretmen / egitmen  \n",
       "2                                    esnaf  \n",
       "3                                      NaN  \n",
       "4                                      NaN  \n",
       "...                                    ...  \n",
       "849914                                 NaN  \n",
       "849915  nakliyeci / lojistik / tasimacilik  \n",
       "849916                                 NaN  \n",
       "849917                                 NaN  \n",
       "849918                           tekstilci  \n",
       "\n",
       "[849919 rows x 7 columns]"
      ]
     },
     "execution_count": 133,
     "metadata": {},
     "output_type": "execute_result"
    }
   ],
   "source": [
    "df1_"
   ]
  },
  {
   "cell_type": "code",
   "execution_count": 134,
   "id": "cc7e92ef",
   "metadata": {},
   "outputs": [
    {
     "data": {
      "text/plain": [
       "Index(['base_customer_id', 'customer_id', 'gender', 'marital_status', 'age',\n",
       "       'city', 'occupation'],\n",
       "      dtype='object')"
      ]
     },
     "execution_count": 134,
     "metadata": {},
     "output_type": "execute_result"
    }
   ],
   "source": [
    "df1_.columns"
   ]
  },
  {
   "cell_type": "code",
   "execution_count": 135,
   "id": "0c25e56b",
   "metadata": {},
   "outputs": [
    {
     "data": {
      "text/plain": [
       "196564"
      ]
     },
     "execution_count": 135,
     "metadata": {},
     "output_type": "execute_result"
    }
   ],
   "source": [
    "df1_['base_customer_id'].nunique()"
   ]
  },
  {
   "cell_type": "code",
   "execution_count": 136,
   "id": "ed915e5c",
   "metadata": {},
   "outputs": [
    {
     "data": {
      "text/plain": [
       "196564"
      ]
     },
     "execution_count": 136,
     "metadata": {},
     "output_type": "execute_result"
    }
   ],
   "source": [
    "df1_.drop_duplicates('base_customer_id', keep= 'last', inplace=True)\n",
    "df1_['base_customer_id'].nunique()"
   ]
  },
  {
   "cell_type": "code",
   "execution_count": 137,
   "id": "81d6685a",
   "metadata": {},
   "outputs": [
    {
     "data": {
      "text/plain": [
       "(196564, 7)"
      ]
     },
     "execution_count": 137,
     "metadata": {},
     "output_type": "execute_result"
    }
   ],
   "source": [
    "df1_.shape"
   ]
  },
  {
   "cell_type": "code",
   "execution_count": 142,
   "id": "e9d2213e",
   "metadata": {},
   "outputs": [
    {
     "name": "stdout",
     "output_type": "stream",
     "text": [
      "customer_id were dropped\n"
     ]
    },
    {
     "data": {
      "text/html": [
       "<div>\n",
       "<style scoped>\n",
       "    .dataframe tbody tr th:only-of-type {\n",
       "        vertical-align: middle;\n",
       "    }\n",
       "\n",
       "    .dataframe tbody tr th {\n",
       "        vertical-align: top;\n",
       "    }\n",
       "\n",
       "    .dataframe thead th {\n",
       "        text-align: right;\n",
       "    }\n",
       "</style>\n",
       "<table border=\"1\" class=\"dataframe\">\n",
       "  <thead>\n",
       "    <tr style=\"text-align: right;\">\n",
       "      <th></th>\n",
       "      <th>base_customer_id</th>\n",
       "      <th>gender</th>\n",
       "      <th>marital_status</th>\n",
       "      <th>age</th>\n",
       "      <th>city</th>\n",
       "      <th>occupation</th>\n",
       "    </tr>\n",
       "  </thead>\n",
       "  <tbody>\n",
       "    <tr>\n",
       "      <th>143</th>\n",
       "      <td>8017</td>\n",
       "      <td>Erkek</td>\n",
       "      <td>Other</td>\n",
       "      <td>NaN</td>\n",
       "      <td>NaN</td>\n",
       "      <td>NaN</td>\n",
       "    </tr>\n",
       "    <tr>\n",
       "      <th>317</th>\n",
       "      <td>148587</td>\n",
       "      <td>Erkek</td>\n",
       "      <td>Other</td>\n",
       "      <td>NaN</td>\n",
       "      <td>i̇stanbul</td>\n",
       "      <td>NaN</td>\n",
       "    </tr>\n",
       "    <tr>\n",
       "      <th>1446</th>\n",
       "      <td>52333</td>\n",
       "      <td>Erkek</td>\n",
       "      <td>Evli</td>\n",
       "      <td>70.000</td>\n",
       "      <td>ankara</td>\n",
       "      <td>NaN</td>\n",
       "    </tr>\n",
       "    <tr>\n",
       "      <th>1574</th>\n",
       "      <td>124539</td>\n",
       "      <td>Kadın</td>\n",
       "      <td>Evli</td>\n",
       "      <td>61.000</td>\n",
       "      <td>NaN</td>\n",
       "      <td>NaN</td>\n",
       "    </tr>\n",
       "    <tr>\n",
       "      <th>2042</th>\n",
       "      <td>4983</td>\n",
       "      <td>Erkek</td>\n",
       "      <td>Other</td>\n",
       "      <td>NaN</td>\n",
       "      <td>NaN</td>\n",
       "      <td>NaN</td>\n",
       "    </tr>\n",
       "    <tr>\n",
       "      <th>...</th>\n",
       "      <td>...</td>\n",
       "      <td>...</td>\n",
       "      <td>...</td>\n",
       "      <td>...</td>\n",
       "      <td>...</td>\n",
       "      <td>...</td>\n",
       "    </tr>\n",
       "    <tr>\n",
       "      <th>849914</th>\n",
       "      <td>18175</td>\n",
       "      <td>Erkek</td>\n",
       "      <td>Other</td>\n",
       "      <td>NaN</td>\n",
       "      <td>NaN</td>\n",
       "      <td>NaN</td>\n",
       "    </tr>\n",
       "    <tr>\n",
       "      <th>849915</th>\n",
       "      <td>108604</td>\n",
       "      <td>Erkek</td>\n",
       "      <td>Evli</td>\n",
       "      <td>52.000</td>\n",
       "      <td>i̇stanbul</td>\n",
       "      <td>nakliyeci / lojistik / tasimacilik</td>\n",
       "    </tr>\n",
       "    <tr>\n",
       "      <th>849916</th>\n",
       "      <td>155926</td>\n",
       "      <td>Erkek</td>\n",
       "      <td>Evli</td>\n",
       "      <td>51.000</td>\n",
       "      <td>i̇stanbul</td>\n",
       "      <td>NaN</td>\n",
       "    </tr>\n",
       "    <tr>\n",
       "      <th>849917</th>\n",
       "      <td>123223</td>\n",
       "      <td>Erkek</td>\n",
       "      <td>Evli</td>\n",
       "      <td>51.000</td>\n",
       "      <td>kayseri</td>\n",
       "      <td>NaN</td>\n",
       "    </tr>\n",
       "    <tr>\n",
       "      <th>849918</th>\n",
       "      <td>88245</td>\n",
       "      <td>Kadın</td>\n",
       "      <td>Bekar</td>\n",
       "      <td>55.000</td>\n",
       "      <td>i̇stanbul</td>\n",
       "      <td>tekstilci</td>\n",
       "    </tr>\n",
       "  </tbody>\n",
       "</table>\n",
       "<p>196564 rows × 6 columns</p>\n",
       "</div>"
      ],
      "text/plain": [
       "        base_customer_id gender marital_status    age       city  \\\n",
       "143                 8017  Erkek          Other    NaN        NaN   \n",
       "317               148587  Erkek          Other    NaN  i̇stanbul   \n",
       "1446               52333  Erkek           Evli 70.000     ankara   \n",
       "1574              124539  Kadın           Evli 61.000        NaN   \n",
       "2042                4983  Erkek          Other    NaN        NaN   \n",
       "...                  ...    ...            ...    ...        ...   \n",
       "849914             18175  Erkek          Other    NaN        NaN   \n",
       "849915            108604  Erkek           Evli 52.000  i̇stanbul   \n",
       "849916            155926  Erkek           Evli 51.000  i̇stanbul   \n",
       "849917            123223  Erkek           Evli 51.000    kayseri   \n",
       "849918             88245  Kadın          Bekar 55.000  i̇stanbul   \n",
       "\n",
       "                                occupation  \n",
       "143                                    NaN  \n",
       "317                                    NaN  \n",
       "1446                                   NaN  \n",
       "1574                                   NaN  \n",
       "2042                                   NaN  \n",
       "...                                    ...  \n",
       "849914                                 NaN  \n",
       "849915  nakliyeci / lojistik / tasimacilik  \n",
       "849916                                 NaN  \n",
       "849917                                 NaN  \n",
       "849918                           tekstilci  \n",
       "\n",
       "[196564 rows x 6 columns]"
      ]
     },
     "execution_count": 142,
     "metadata": {},
     "output_type": "execute_result"
    }
   ],
   "source": [
    "drop_columns(df1_, \"customer_id\")\n",
    "df1_\n",
    "# customer id gerekli olmadigi icin drop edildi\n",
    "# artik join icin hazir NANlar joinden sonra degerlendirilecek"
   ]
  },
  {
   "cell_type": "code",
   "execution_count": 143,
   "id": "403253f5",
   "metadata": {},
   "outputs": [
    {
     "data": {
      "text/html": [
       "<div>\n",
       "<style scoped>\n",
       "    .dataframe tbody tr th:only-of-type {\n",
       "        vertical-align: middle;\n",
       "    }\n",
       "\n",
       "    .dataframe tbody tr th {\n",
       "        vertical-align: top;\n",
       "    }\n",
       "\n",
       "    .dataframe thead th {\n",
       "        text-align: right;\n",
       "    }\n",
       "</style>\n",
       "<table border=\"1\" class=\"dataframe\">\n",
       "  <thead>\n",
       "    <tr style=\"text-align: right;\">\n",
       "      <th></th>\n",
       "      <th>Unnamed: 0</th>\n",
       "      <th>BASE_CUSTOMER_ID</th>\n",
       "      <th>CUSTOMER_ID</th>\n",
       "      <th>GENDER</th>\n",
       "      <th>GENDER_ID</th>\n",
       "      <th>MARITAL_STATUS</th>\n",
       "      <th>MARITAL_STATUS_ID</th>\n",
       "      <th>BIRTH_DATE</th>\n",
       "      <th>FK_ADDRESS_COMMUNICATION_CITY</th>\n",
       "      <th>OCCUPATION</th>\n",
       "    </tr>\n",
       "  </thead>\n",
       "  <tbody>\n",
       "    <tr>\n",
       "      <th>0</th>\n",
       "      <td>0</td>\n",
       "      <td>158891</td>\n",
       "      <td>1747700</td>\n",
       "      <td>Erkek</td>\n",
       "      <td>100</td>\n",
       "      <td>NaN</td>\n",
       "      <td>0</td>\n",
       "      <td>NaN</td>\n",
       "      <td>NaN</td>\n",
       "      <td>NaN</td>\n",
       "    </tr>\n",
       "    <tr>\n",
       "      <th>1</th>\n",
       "      <td>1</td>\n",
       "      <td>169233</td>\n",
       "      <td>1710561</td>\n",
       "      <td>Erkek</td>\n",
       "      <td>100</td>\n",
       "      <td>Evli</td>\n",
       "      <td>101</td>\n",
       "      <td>1962.000</td>\n",
       "      <td>Erzurum</td>\n",
       "      <td>Öğretmen / Eğitmen</td>\n",
       "    </tr>\n",
       "    <tr>\n",
       "      <th>2</th>\n",
       "      <td>2</td>\n",
       "      <td>30887</td>\n",
       "      <td>1043923</td>\n",
       "      <td>Erkek</td>\n",
       "      <td>100</td>\n",
       "      <td>Evli</td>\n",
       "      <td>101</td>\n",
       "      <td>1971.000</td>\n",
       "      <td>İstanbul</td>\n",
       "      <td>Esnaf</td>\n",
       "    </tr>\n",
       "    <tr>\n",
       "      <th>3</th>\n",
       "      <td>3</td>\n",
       "      <td>38013</td>\n",
       "      <td>1101926</td>\n",
       "      <td>Erkek</td>\n",
       "      <td>100</td>\n",
       "      <td>NaN</td>\n",
       "      <td>0</td>\n",
       "      <td>NaN</td>\n",
       "      <td>Manisa</td>\n",
       "      <td>NaN</td>\n",
       "    </tr>\n",
       "    <tr>\n",
       "      <th>4</th>\n",
       "      <td>4</td>\n",
       "      <td>157091</td>\n",
       "      <td>1819787</td>\n",
       "      <td>Kadın</td>\n",
       "      <td>101</td>\n",
       "      <td>NaN</td>\n",
       "      <td>0</td>\n",
       "      <td>NaN</td>\n",
       "      <td>Ankara</td>\n",
       "      <td>NaN</td>\n",
       "    </tr>\n",
       "    <tr>\n",
       "      <th>...</th>\n",
       "      <td>...</td>\n",
       "      <td>...</td>\n",
       "      <td>...</td>\n",
       "      <td>...</td>\n",
       "      <td>...</td>\n",
       "      <td>...</td>\n",
       "      <td>...</td>\n",
       "      <td>...</td>\n",
       "      <td>...</td>\n",
       "      <td>...</td>\n",
       "    </tr>\n",
       "    <tr>\n",
       "      <th>849914</th>\n",
       "      <td>849914</td>\n",
       "      <td>18175</td>\n",
       "      <td>1744051</td>\n",
       "      <td>Erkek</td>\n",
       "      <td>100</td>\n",
       "      <td>NaN</td>\n",
       "      <td>0</td>\n",
       "      <td>NaN</td>\n",
       "      <td>NaN</td>\n",
       "      <td>NaN</td>\n",
       "    </tr>\n",
       "    <tr>\n",
       "      <th>849915</th>\n",
       "      <td>849915</td>\n",
       "      <td>108604</td>\n",
       "      <td>1209486</td>\n",
       "      <td>Erkek</td>\n",
       "      <td>100</td>\n",
       "      <td>Evli</td>\n",
       "      <td>101</td>\n",
       "      <td>1969.000</td>\n",
       "      <td>İstanbul</td>\n",
       "      <td>Nakliyeci / Lojistik / Taşımacılık</td>\n",
       "    </tr>\n",
       "    <tr>\n",
       "      <th>849916</th>\n",
       "      <td>849916</td>\n",
       "      <td>155926</td>\n",
       "      <td>1670812</td>\n",
       "      <td>Erkek</td>\n",
       "      <td>100</td>\n",
       "      <td>Evli</td>\n",
       "      <td>101</td>\n",
       "      <td>1970.000</td>\n",
       "      <td>İstanbul</td>\n",
       "      <td>NaN</td>\n",
       "    </tr>\n",
       "    <tr>\n",
       "      <th>849917</th>\n",
       "      <td>849917</td>\n",
       "      <td>123223</td>\n",
       "      <td>1691689</td>\n",
       "      <td>Erkek</td>\n",
       "      <td>100</td>\n",
       "      <td>Evli</td>\n",
       "      <td>101</td>\n",
       "      <td>1970.000</td>\n",
       "      <td>Kayseri</td>\n",
       "      <td>NaN</td>\n",
       "    </tr>\n",
       "    <tr>\n",
       "      <th>849918</th>\n",
       "      <td>849918</td>\n",
       "      <td>88245</td>\n",
       "      <td>1300543</td>\n",
       "      <td>Kadın</td>\n",
       "      <td>101</td>\n",
       "      <td>Bekar</td>\n",
       "      <td>102</td>\n",
       "      <td>1966.000</td>\n",
       "      <td>İstanbul</td>\n",
       "      <td>Tekstilci</td>\n",
       "    </tr>\n",
       "  </tbody>\n",
       "</table>\n",
       "<p>849919 rows × 10 columns</p>\n",
       "</div>"
      ],
      "text/plain": [
       "        Unnamed: 0  BASE_CUSTOMER_ID  CUSTOMER_ID GENDER  GENDER_ID  \\\n",
       "0                0            158891      1747700  Erkek        100   \n",
       "1                1            169233      1710561  Erkek        100   \n",
       "2                2             30887      1043923  Erkek        100   \n",
       "3                3             38013      1101926  Erkek        100   \n",
       "4                4            157091      1819787  Kadın        101   \n",
       "...            ...               ...          ...    ...        ...   \n",
       "849914      849914             18175      1744051  Erkek        100   \n",
       "849915      849915            108604      1209486  Erkek        100   \n",
       "849916      849916            155926      1670812  Erkek        100   \n",
       "849917      849917            123223      1691689  Erkek        100   \n",
       "849918      849918             88245      1300543  Kadın        101   \n",
       "\n",
       "       MARITAL_STATUS  MARITAL_STATUS_ID  BIRTH_DATE  \\\n",
       "0                 NaN                  0         NaN   \n",
       "1                Evli                101    1962.000   \n",
       "2                Evli                101    1971.000   \n",
       "3                 NaN                  0         NaN   \n",
       "4                 NaN                  0         NaN   \n",
       "...               ...                ...         ...   \n",
       "849914            NaN                  0         NaN   \n",
       "849915           Evli                101    1969.000   \n",
       "849916           Evli                101    1970.000   \n",
       "849917           Evli                101    1970.000   \n",
       "849918          Bekar                102    1966.000   \n",
       "\n",
       "       FK_ADDRESS_COMMUNICATION_CITY                          OCCUPATION  \n",
       "0                                NaN                                 NaN  \n",
       "1                            Erzurum                  Öğretmen / Eğitmen  \n",
       "2                           İstanbul                               Esnaf  \n",
       "3                             Manisa                                 NaN  \n",
       "4                             Ankara                                 NaN  \n",
       "...                              ...                                 ...  \n",
       "849914                           NaN                                 NaN  \n",
       "849915                      İstanbul  Nakliyeci / Lojistik / Taşımacılık  \n",
       "849916                      İstanbul                                 NaN  \n",
       "849917                       Kayseri                                 NaN  \n",
       "849918                      İstanbul                           Tekstilci  \n",
       "\n",
       "[849919 rows x 10 columns]"
      ]
     },
     "execution_count": 143,
     "metadata": {},
     "output_type": "execute_result"
    }
   ],
   "source": [
    "df01_\n",
    "# baslangic hali"
   ]
  },
  {
   "cell_type": "code",
   "execution_count": 139,
   "id": "b02dc9ab",
   "metadata": {},
   "outputs": [
    {
     "data": {
      "text/html": [
       "<div>\n",
       "<style scoped>\n",
       "    .dataframe tbody tr th:only-of-type {\n",
       "        vertical-align: middle;\n",
       "    }\n",
       "\n",
       "    .dataframe tbody tr th {\n",
       "        vertical-align: top;\n",
       "    }\n",
       "\n",
       "    .dataframe thead th {\n",
       "        text-align: right;\n",
       "    }\n",
       "</style>\n",
       "<table border=\"1\" class=\"dataframe\">\n",
       "  <thead>\n",
       "    <tr style=\"text-align: right;\">\n",
       "      <th></th>\n",
       "      <th>Missing_Number</th>\n",
       "      <th>Missing_Percent</th>\n",
       "    </tr>\n",
       "  </thead>\n",
       "  <tbody>\n",
       "    <tr>\n",
       "      <th>occupation</th>\n",
       "      <td>105572</td>\n",
       "      <td>0.537</td>\n",
       "    </tr>\n",
       "    <tr>\n",
       "      <th>age</th>\n",
       "      <td>43945</td>\n",
       "      <td>0.224</td>\n",
       "    </tr>\n",
       "    <tr>\n",
       "      <th>city</th>\n",
       "      <td>22188</td>\n",
       "      <td>0.113</td>\n",
       "    </tr>\n",
       "    <tr>\n",
       "      <th>gender</th>\n",
       "      <td>1</td>\n",
       "      <td>0.000</td>\n",
       "    </tr>\n",
       "  </tbody>\n",
       "</table>\n",
       "</div>"
      ],
      "text/plain": [
       "            Missing_Number  Missing_Percent\n",
       "occupation          105572            0.537\n",
       "age                  43945            0.224\n",
       "city                 22188            0.113\n",
       "gender                   1            0.000"
      ]
     },
     "execution_count": 139,
     "metadata": {},
     "output_type": "execute_result"
    }
   ],
   "source": [
    "missing_values(df1_)"
   ]
  },
  {
   "cell_type": "markdown",
   "id": "72733cef",
   "metadata": {},
   "source": [
    "# prepare df2_ to join"
   ]
  },
  {
   "cell_type": "code",
   "execution_count": 140,
   "id": "60808b9a",
   "metadata": {},
   "outputs": [
    {
     "data": {
      "text/html": [
       "<div>\n",
       "<style scoped>\n",
       "    .dataframe tbody tr th:only-of-type {\n",
       "        vertical-align: middle;\n",
       "    }\n",
       "\n",
       "    .dataframe tbody tr th {\n",
       "        vertical-align: top;\n",
       "    }\n",
       "\n",
       "    .dataframe thead th {\n",
       "        text-align: right;\n",
       "    }\n",
       "</style>\n",
       "<table border=\"1\" class=\"dataframe\">\n",
       "  <thead>\n",
       "    <tr style=\"text-align: right;\">\n",
       "      <th></th>\n",
       "      <th>base_customer_id</th>\n",
       "      <th>vehicle_id</th>\n",
       "      <th>start_date</th>\n",
       "      <th>end_date</th>\n",
       "      <th>fk_relation_status_id</th>\n",
       "      <th>fk_relation_status_explanation</th>\n",
       "    </tr>\n",
       "  </thead>\n",
       "  <tbody>\n",
       "    <tr>\n",
       "      <th>0</th>\n",
       "      <td>189537</td>\n",
       "      <td>5321560</td>\n",
       "      <td>2018-07-24</td>\n",
       "      <td>2019-07-03</td>\n",
       "      <td>2</td>\n",
       "      <td>Pasif Ruhsat Sahibi</td>\n",
       "    </tr>\n",
       "    <tr>\n",
       "      <th>1</th>\n",
       "      <td>110802</td>\n",
       "      <td>5329278</td>\n",
       "      <td>2019-07-16</td>\n",
       "      <td>NaN</td>\n",
       "      <td>1</td>\n",
       "      <td>Aktif Ruhsat Sahibi</td>\n",
       "    </tr>\n",
       "    <tr>\n",
       "      <th>2</th>\n",
       "      <td>160615</td>\n",
       "      <td>5329282</td>\n",
       "      <td>2019-09-12</td>\n",
       "      <td>NaN</td>\n",
       "      <td>1</td>\n",
       "      <td>Aktif Ruhsat Sahibi</td>\n",
       "    </tr>\n",
       "    <tr>\n",
       "      <th>3</th>\n",
       "      <td>115664</td>\n",
       "      <td>5328513</td>\n",
       "      <td>2019-02-25</td>\n",
       "      <td>NaN</td>\n",
       "      <td>1</td>\n",
       "      <td>Aktif Ruhsat Sahibi</td>\n",
       "    </tr>\n",
       "    <tr>\n",
       "      <th>4</th>\n",
       "      <td>81061</td>\n",
       "      <td>5322264</td>\n",
       "      <td>2018-04-16</td>\n",
       "      <td>NaN</td>\n",
       "      <td>1</td>\n",
       "      <td>Aktif Ruhsat Sahibi</td>\n",
       "    </tr>\n",
       "    <tr>\n",
       "      <th>...</th>\n",
       "      <td>...</td>\n",
       "      <td>...</td>\n",
       "      <td>...</td>\n",
       "      <td>...</td>\n",
       "      <td>...</td>\n",
       "      <td>...</td>\n",
       "    </tr>\n",
       "    <tr>\n",
       "      <th>374874</th>\n",
       "      <td>154304</td>\n",
       "      <td>5179455</td>\n",
       "      <td>2010-10-19</td>\n",
       "      <td>NaN</td>\n",
       "      <td>1</td>\n",
       "      <td>Aktif Ruhsat Sahibi</td>\n",
       "    </tr>\n",
       "    <tr>\n",
       "      <th>374875</th>\n",
       "      <td>75199</td>\n",
       "      <td>5180458</td>\n",
       "      <td>2019-01-02</td>\n",
       "      <td>NaN</td>\n",
       "      <td>1</td>\n",
       "      <td>Aktif Ruhsat Sahibi</td>\n",
       "    </tr>\n",
       "    <tr>\n",
       "      <th>374876</th>\n",
       "      <td>9036</td>\n",
       "      <td>5177679</td>\n",
       "      <td>2012-05-28</td>\n",
       "      <td>NaN</td>\n",
       "      <td>1</td>\n",
       "      <td>Aktif Ruhsat Sahibi</td>\n",
       "    </tr>\n",
       "    <tr>\n",
       "      <th>374877</th>\n",
       "      <td>33936</td>\n",
       "      <td>5172864</td>\n",
       "      <td>2014-08-16</td>\n",
       "      <td>NaN</td>\n",
       "      <td>1</td>\n",
       "      <td>Aktif Ruhsat Sahibi</td>\n",
       "    </tr>\n",
       "    <tr>\n",
       "      <th>374878</th>\n",
       "      <td>91144</td>\n",
       "      <td>5189133</td>\n",
       "      <td>2012-01-13</td>\n",
       "      <td>2013-01-25</td>\n",
       "      <td>2</td>\n",
       "      <td>Pasif Ruhsat Sahibi</td>\n",
       "    </tr>\n",
       "  </tbody>\n",
       "</table>\n",
       "<p>374879 rows × 6 columns</p>\n",
       "</div>"
      ],
      "text/plain": [
       "        base_customer_id  vehicle_id  start_date    end_date  \\\n",
       "0                 189537     5321560  2018-07-24  2019-07-03   \n",
       "1                 110802     5329278  2019-07-16         NaN   \n",
       "2                 160615     5329282  2019-09-12         NaN   \n",
       "3                 115664     5328513  2019-02-25         NaN   \n",
       "4                  81061     5322264  2018-04-16         NaN   \n",
       "...                  ...         ...         ...         ...   \n",
       "374874            154304     5179455  2010-10-19         NaN   \n",
       "374875             75199     5180458  2019-01-02         NaN   \n",
       "374876              9036     5177679  2012-05-28         NaN   \n",
       "374877             33936     5172864  2014-08-16         NaN   \n",
       "374878             91144     5189133  2012-01-13  2013-01-25   \n",
       "\n",
       "        fk_relation_status_id fk_relation_status_explanation  \n",
       "0                           2            Pasif Ruhsat Sahibi  \n",
       "1                           1            Aktif Ruhsat Sahibi  \n",
       "2                           1            Aktif Ruhsat Sahibi  \n",
       "3                           1            Aktif Ruhsat Sahibi  \n",
       "4                           1            Aktif Ruhsat Sahibi  \n",
       "...                       ...                            ...  \n",
       "374874                      1            Aktif Ruhsat Sahibi  \n",
       "374875                      1            Aktif Ruhsat Sahibi  \n",
       "374876                      1            Aktif Ruhsat Sahibi  \n",
       "374877                      1            Aktif Ruhsat Sahibi  \n",
       "374878                      2            Pasif Ruhsat Sahibi  \n",
       "\n",
       "[374879 rows x 6 columns]"
      ]
     },
     "execution_count": 140,
     "metadata": {},
     "output_type": "execute_result"
    }
   ],
   "source": [
    "df2_"
   ]
  },
  {
   "cell_type": "code",
   "execution_count": null,
   "id": "9ef88310",
   "metadata": {},
   "outputs": [],
   "source": []
  },
  {
   "cell_type": "markdown",
   "id": "03ac6956",
   "metadata": {},
   "source": [
    "# !df3_ will be direct drop"
   ]
  },
  {
   "cell_type": "code",
   "execution_count": null,
   "id": "9fcabdea",
   "metadata": {},
   "outputs": [],
   "source": []
  },
  {
   "cell_type": "markdown",
   "id": "34b5e62d",
   "metadata": {},
   "source": [
    "# prepare df4_ to join"
   ]
  },
  {
   "cell_type": "code",
   "execution_count": 144,
   "id": "d1671e14",
   "metadata": {
    "collapsed": true
   },
   "outputs": [
    {
     "data": {
      "text/html": [
       "<div>\n",
       "<style scoped>\n",
       "    .dataframe tbody tr th:only-of-type {\n",
       "        vertical-align: middle;\n",
       "    }\n",
       "\n",
       "    .dataframe tbody tr th {\n",
       "        vertical-align: top;\n",
       "    }\n",
       "\n",
       "    .dataframe thead th {\n",
       "        text-align: right;\n",
       "    }\n",
       "</style>\n",
       "<table border=\"1\" class=\"dataframe\">\n",
       "  <thead>\n",
       "    <tr style=\"text-align: right;\">\n",
       "      <th></th>\n",
       "      <th>vehicle_id</th>\n",
       "      <th>customer_id</th>\n",
       "      <th>create_date</th>\n",
       "    </tr>\n",
       "  </thead>\n",
       "  <tbody>\n",
       "    <tr>\n",
       "      <th>0</th>\n",
       "      <td>5015193</td>\n",
       "      <td>1063740</td>\n",
       "      <td>2005-01-01 19:08:33</td>\n",
       "    </tr>\n",
       "    <tr>\n",
       "      <th>1</th>\n",
       "      <td>5110231</td>\n",
       "      <td>1155678</td>\n",
       "      <td>2005-09-29 17:16:15</td>\n",
       "    </tr>\n",
       "    <tr>\n",
       "      <th>2</th>\n",
       "      <td>5290356</td>\n",
       "      <td>1737831</td>\n",
       "      <td>2016-04-29 13:12:10</td>\n",
       "    </tr>\n",
       "    <tr>\n",
       "      <th>3</th>\n",
       "      <td>5344576</td>\n",
       "      <td>1841362</td>\n",
       "      <td>2021-03-16 13:39:01</td>\n",
       "    </tr>\n",
       "    <tr>\n",
       "      <th>4</th>\n",
       "      <td>5094010</td>\n",
       "      <td>1066916</td>\n",
       "      <td>2005-04-20 09:51:19</td>\n",
       "    </tr>\n",
       "    <tr>\n",
       "      <th>...</th>\n",
       "      <td>...</td>\n",
       "      <td>...</td>\n",
       "      <td>...</td>\n",
       "    </tr>\n",
       "    <tr>\n",
       "      <th>169520</th>\n",
       "      <td>5160829</td>\n",
       "      <td>1269016</td>\n",
       "      <td>2009-06-10 16:16:15</td>\n",
       "    </tr>\n",
       "    <tr>\n",
       "      <th>169521</th>\n",
       "      <td>5098542</td>\n",
       "      <td>1157563</td>\n",
       "      <td>2005-08-01 12:07:57</td>\n",
       "    </tr>\n",
       "    <tr>\n",
       "      <th>169522</th>\n",
       "      <td>5148086</td>\n",
       "      <td>1156732</td>\n",
       "      <td>2007-12-28 17:15:09</td>\n",
       "    </tr>\n",
       "    <tr>\n",
       "      <th>169523</th>\n",
       "      <td>5263144</td>\n",
       "      <td>1032834</td>\n",
       "      <td>2015-06-24 11:19:15</td>\n",
       "    </tr>\n",
       "    <tr>\n",
       "      <th>169524</th>\n",
       "      <td>5026911</td>\n",
       "      <td>1058351</td>\n",
       "      <td>2005-01-01 14:46:45</td>\n",
       "    </tr>\n",
       "  </tbody>\n",
       "</table>\n",
       "<p>169525 rows × 3 columns</p>\n",
       "</div>"
      ],
      "text/plain": [
       "        vehicle_id  customer_id          create_date\n",
       "0          5015193      1063740  2005-01-01 19:08:33\n",
       "1          5110231      1155678  2005-09-29 17:16:15\n",
       "2          5290356      1737831  2016-04-29 13:12:10\n",
       "3          5344576      1841362  2021-03-16 13:39:01\n",
       "4          5094010      1066916  2005-04-20 09:51:19\n",
       "...            ...          ...                  ...\n",
       "169520     5160829      1269016  2009-06-10 16:16:15\n",
       "169521     5098542      1157563  2005-08-01 12:07:57\n",
       "169522     5148086      1156732  2007-12-28 17:15:09\n",
       "169523     5263144      1032834  2015-06-24 11:19:15\n",
       "169524     5026911      1058351  2005-01-01 14:46:45\n",
       "\n",
       "[169525 rows x 3 columns]"
      ]
     },
     "execution_count": 144,
     "metadata": {},
     "output_type": "execute_result"
    }
   ],
   "source": [
    "df4_"
   ]
  },
  {
   "cell_type": "code",
   "execution_count": 145,
   "id": "64636c50",
   "metadata": {
    "collapsed": true
   },
   "outputs": [
    {
     "data": {
      "text/plain": [
       "169521"
      ]
     },
     "execution_count": 145,
     "metadata": {},
     "output_type": "execute_result"
    }
   ],
   "source": [
    "df4_[\"vehicle_id\"].nunique()"
   ]
  },
  {
   "cell_type": "code",
   "execution_count": 152,
   "id": "5940fb75",
   "metadata": {
    "collapsed": true
   },
   "outputs": [
    {
     "data": {
      "text/html": [
       "<div>\n",
       "<style scoped>\n",
       "    .dataframe tbody tr th:only-of-type {\n",
       "        vertical-align: middle;\n",
       "    }\n",
       "\n",
       "    .dataframe tbody tr th {\n",
       "        vertical-align: top;\n",
       "    }\n",
       "\n",
       "    .dataframe thead th {\n",
       "        text-align: right;\n",
       "    }\n",
       "</style>\n",
       "<table border=\"1\" class=\"dataframe\">\n",
       "  <thead>\n",
       "    <tr style=\"text-align: right;\">\n",
       "      <th></th>\n",
       "      <th>vehicle_id</th>\n",
       "      <th>customer_id</th>\n",
       "      <th>create_date</th>\n",
       "    </tr>\n",
       "  </thead>\n",
       "  <tbody>\n",
       "    <tr>\n",
       "      <th>52668</th>\n",
       "      <td>5343132</td>\n",
       "      <td>1839162</td>\n",
       "      <td>2021-01-25 12:45:16</td>\n",
       "    </tr>\n",
       "    <tr>\n",
       "      <th>105083</th>\n",
       "      <td>5313105</td>\n",
       "      <td>1779976</td>\n",
       "      <td>2017-09-20 11:14:41</td>\n",
       "    </tr>\n",
       "    <tr>\n",
       "      <th>105232</th>\n",
       "      <td>5278151</td>\n",
       "      <td>1287365</td>\n",
       "      <td>2016-01-12 12:15:53</td>\n",
       "    </tr>\n",
       "    <tr>\n",
       "      <th>141970</th>\n",
       "      <td>5341686</td>\n",
       "      <td>1837605</td>\n",
       "      <td>2020-12-22 12:28:54</td>\n",
       "    </tr>\n",
       "  </tbody>\n",
       "</table>\n",
       "</div>"
      ],
      "text/plain": [
       "        vehicle_id  customer_id          create_date\n",
       "52668      5343132      1839162  2021-01-25 12:45:16\n",
       "105083     5313105      1779976  2017-09-20 11:14:41\n",
       "105232     5278151      1287365  2016-01-12 12:15:53\n",
       "141970     5341686      1837605  2020-12-22 12:28:54"
      ]
     },
     "execution_count": 152,
     "metadata": {},
     "output_type": "execute_result"
    }
   ],
   "source": [
    "df4_[df4_[\"vehicle_id\"].duplicated()]"
   ]
  },
  {
   "cell_type": "code",
   "execution_count": 154,
   "id": "1aca1b5b",
   "metadata": {
    "collapsed": true
   },
   "outputs": [
    {
     "data": {
      "text/html": [
       "<div>\n",
       "<style scoped>\n",
       "    .dataframe tbody tr th:only-of-type {\n",
       "        vertical-align: middle;\n",
       "    }\n",
       "\n",
       "    .dataframe tbody tr th {\n",
       "        vertical-align: top;\n",
       "    }\n",
       "\n",
       "    .dataframe thead th {\n",
       "        text-align: right;\n",
       "    }\n",
       "</style>\n",
       "<table border=\"1\" class=\"dataframe\">\n",
       "  <thead>\n",
       "    <tr style=\"text-align: right;\">\n",
       "      <th></th>\n",
       "      <th>vehicle_id</th>\n",
       "      <th>customer_id</th>\n",
       "      <th>create_date</th>\n",
       "    </tr>\n",
       "  </thead>\n",
       "  <tbody>\n",
       "    <tr>\n",
       "      <th>34275</th>\n",
       "      <td>5343132</td>\n",
       "      <td>1839162</td>\n",
       "      <td>2021-04-14 12:43:37</td>\n",
       "    </tr>\n",
       "    <tr>\n",
       "      <th>52668</th>\n",
       "      <td>5343132</td>\n",
       "      <td>1839162</td>\n",
       "      <td>2021-01-25 12:45:16</td>\n",
       "    </tr>\n",
       "  </tbody>\n",
       "</table>\n",
       "</div>"
      ],
      "text/plain": [
       "       vehicle_id  customer_id          create_date\n",
       "34275     5343132      1839162  2021-04-14 12:43:37\n",
       "52668     5343132      1839162  2021-01-25 12:45:16"
      ]
     },
     "execution_count": 154,
     "metadata": {},
     "output_type": "execute_result"
    }
   ],
   "source": [
    "df4_[df4_[\"vehicle_id\"]==5343132]"
   ]
  },
  {
   "cell_type": "code",
   "execution_count": 155,
   "id": "c217c8bf",
   "metadata": {
    "collapsed": true
   },
   "outputs": [
    {
     "data": {
      "text/html": [
       "<div>\n",
       "<style scoped>\n",
       "    .dataframe tbody tr th:only-of-type {\n",
       "        vertical-align: middle;\n",
       "    }\n",
       "\n",
       "    .dataframe tbody tr th {\n",
       "        vertical-align: top;\n",
       "    }\n",
       "\n",
       "    .dataframe thead th {\n",
       "        text-align: right;\n",
       "    }\n",
       "</style>\n",
       "<table border=\"1\" class=\"dataframe\">\n",
       "  <thead>\n",
       "    <tr style=\"text-align: right;\">\n",
       "      <th></th>\n",
       "      <th>vehicle_id</th>\n",
       "      <th>customer_id</th>\n",
       "      <th>create_date</th>\n",
       "    </tr>\n",
       "  </thead>\n",
       "  <tbody>\n",
       "    <tr>\n",
       "      <th>38204</th>\n",
       "      <td>5313105</td>\n",
       "      <td>1779976</td>\n",
       "      <td>2017-09-21 14:42:16</td>\n",
       "    </tr>\n",
       "    <tr>\n",
       "      <th>105083</th>\n",
       "      <td>5313105</td>\n",
       "      <td>1779976</td>\n",
       "      <td>2017-09-20 11:14:41</td>\n",
       "    </tr>\n",
       "  </tbody>\n",
       "</table>\n",
       "</div>"
      ],
      "text/plain": [
       "        vehicle_id  customer_id          create_date\n",
       "38204      5313105      1779976  2017-09-21 14:42:16\n",
       "105083     5313105      1779976  2017-09-20 11:14:41"
      ]
     },
     "execution_count": 155,
     "metadata": {},
     "output_type": "execute_result"
    }
   ],
   "source": [
    "df4_[df4_[\"vehicle_id\"]==5313105]"
   ]
  },
  {
   "cell_type": "code",
   "execution_count": 156,
   "id": "af7b0cf6",
   "metadata": {
    "collapsed": true
   },
   "outputs": [
    {
     "data": {
      "text/html": [
       "<div>\n",
       "<style scoped>\n",
       "    .dataframe tbody tr th:only-of-type {\n",
       "        vertical-align: middle;\n",
       "    }\n",
       "\n",
       "    .dataframe tbody tr th {\n",
       "        vertical-align: top;\n",
       "    }\n",
       "\n",
       "    .dataframe thead th {\n",
       "        text-align: right;\n",
       "    }\n",
       "</style>\n",
       "<table border=\"1\" class=\"dataframe\">\n",
       "  <thead>\n",
       "    <tr style=\"text-align: right;\">\n",
       "      <th></th>\n",
       "      <th>vehicle_id</th>\n",
       "      <th>customer_id</th>\n",
       "      <th>create_date</th>\n",
       "    </tr>\n",
       "  </thead>\n",
       "  <tbody>\n",
       "    <tr>\n",
       "      <th>55791</th>\n",
       "      <td>5278151</td>\n",
       "      <td>1287365</td>\n",
       "      <td>2016-01-06 15:22:16</td>\n",
       "    </tr>\n",
       "    <tr>\n",
       "      <th>105232</th>\n",
       "      <td>5278151</td>\n",
       "      <td>1287365</td>\n",
       "      <td>2016-01-12 12:15:53</td>\n",
       "    </tr>\n",
       "  </tbody>\n",
       "</table>\n",
       "</div>"
      ],
      "text/plain": [
       "        vehicle_id  customer_id          create_date\n",
       "55791      5278151      1287365  2016-01-06 15:22:16\n",
       "105232     5278151      1287365  2016-01-12 12:15:53"
      ]
     },
     "execution_count": 156,
     "metadata": {},
     "output_type": "execute_result"
    }
   ],
   "source": [
    "df4_[df4_[\"vehicle_id\"]==5278151]"
   ]
  },
  {
   "cell_type": "code",
   "execution_count": 157,
   "id": "7a7da17a",
   "metadata": {
    "collapsed": true
   },
   "outputs": [
    {
     "data": {
      "text/html": [
       "<div>\n",
       "<style scoped>\n",
       "    .dataframe tbody tr th:only-of-type {\n",
       "        vertical-align: middle;\n",
       "    }\n",
       "\n",
       "    .dataframe tbody tr th {\n",
       "        vertical-align: top;\n",
       "    }\n",
       "\n",
       "    .dataframe thead th {\n",
       "        text-align: right;\n",
       "    }\n",
       "</style>\n",
       "<table border=\"1\" class=\"dataframe\">\n",
       "  <thead>\n",
       "    <tr style=\"text-align: right;\">\n",
       "      <th></th>\n",
       "      <th>vehicle_id</th>\n",
       "      <th>customer_id</th>\n",
       "      <th>create_date</th>\n",
       "    </tr>\n",
       "  </thead>\n",
       "  <tbody>\n",
       "    <tr>\n",
       "      <th>97935</th>\n",
       "      <td>5341686</td>\n",
       "      <td>1837605</td>\n",
       "      <td>2020-12-11 10:01:59</td>\n",
       "    </tr>\n",
       "    <tr>\n",
       "      <th>141970</th>\n",
       "      <td>5341686</td>\n",
       "      <td>1837605</td>\n",
       "      <td>2020-12-22 12:28:54</td>\n",
       "    </tr>\n",
       "  </tbody>\n",
       "</table>\n",
       "</div>"
      ],
      "text/plain": [
       "        vehicle_id  customer_id          create_date\n",
       "97935      5341686      1837605  2020-12-11 10:01:59\n",
       "141970     5341686      1837605  2020-12-22 12:28:54"
      ]
     },
     "execution_count": 157,
     "metadata": {},
     "output_type": "execute_result"
    }
   ],
   "source": [
    "df4_[df4_[\"vehicle_id\"]==5341686]"
   ]
  },
  {
   "cell_type": "code",
   "execution_count": 159,
   "id": "2894d26b",
   "metadata": {
    "collapsed": true
   },
   "outputs": [
    {
     "data": {
      "text/plain": [
       "169521"
      ]
     },
     "execution_count": 159,
     "metadata": {},
     "output_type": "execute_result"
    }
   ],
   "source": [
    "df4_['vehicle_id'].nunique()"
   ]
  },
  {
   "cell_type": "code",
   "execution_count": 160,
   "id": "1a6c5c89",
   "metadata": {
    "collapsed": true
   },
   "outputs": [
    {
     "data": {
      "text/plain": [
       "169521"
      ]
     },
     "execution_count": 160,
     "metadata": {},
     "output_type": "execute_result"
    }
   ],
   "source": [
    "df4_.drop_duplicates('vehicle_id', keep= 'last', inplace=True)\n",
    "df4_['vehicle_id'].nunique()"
   ]
  },
  {
   "cell_type": "code",
   "execution_count": 162,
   "id": "69f6bd66",
   "metadata": {
    "collapsed": true
   },
   "outputs": [],
   "source": [
    "df4_['year'] = pd.DatetimeIndex(df4_['create_date']).year"
   ]
  },
  {
   "cell_type": "code",
   "execution_count": 164,
   "id": "79a112db",
   "metadata": {
    "collapsed": true
   },
   "outputs": [
    {
     "data": {
      "text/html": [
       "<div>\n",
       "<style scoped>\n",
       "    .dataframe tbody tr th:only-of-type {\n",
       "        vertical-align: middle;\n",
       "    }\n",
       "\n",
       "    .dataframe tbody tr th {\n",
       "        vertical-align: top;\n",
       "    }\n",
       "\n",
       "    .dataframe thead th {\n",
       "        text-align: right;\n",
       "    }\n",
       "</style>\n",
       "<table border=\"1\" class=\"dataframe\">\n",
       "  <thead>\n",
       "    <tr style=\"text-align: right;\">\n",
       "      <th></th>\n",
       "      <th>vehicle_id</th>\n",
       "      <th>customer_id</th>\n",
       "      <th>create_date</th>\n",
       "      <th>year</th>\n",
       "    </tr>\n",
       "  </thead>\n",
       "  <tbody>\n",
       "    <tr>\n",
       "      <th>0</th>\n",
       "      <td>5015193</td>\n",
       "      <td>1063740</td>\n",
       "      <td>2005-01-01 19:08:33</td>\n",
       "      <td>2005</td>\n",
       "    </tr>\n",
       "    <tr>\n",
       "      <th>1</th>\n",
       "      <td>5110231</td>\n",
       "      <td>1155678</td>\n",
       "      <td>2005-09-29 17:16:15</td>\n",
       "      <td>2005</td>\n",
       "    </tr>\n",
       "    <tr>\n",
       "      <th>2</th>\n",
       "      <td>5290356</td>\n",
       "      <td>1737831</td>\n",
       "      <td>2016-04-29 13:12:10</td>\n",
       "      <td>2016</td>\n",
       "    </tr>\n",
       "    <tr>\n",
       "      <th>3</th>\n",
       "      <td>5344576</td>\n",
       "      <td>1841362</td>\n",
       "      <td>2021-03-16 13:39:01</td>\n",
       "      <td>2021</td>\n",
       "    </tr>\n",
       "    <tr>\n",
       "      <th>4</th>\n",
       "      <td>5094010</td>\n",
       "      <td>1066916</td>\n",
       "      <td>2005-04-20 09:51:19</td>\n",
       "      <td>2005</td>\n",
       "    </tr>\n",
       "    <tr>\n",
       "      <th>...</th>\n",
       "      <td>...</td>\n",
       "      <td>...</td>\n",
       "      <td>...</td>\n",
       "      <td>...</td>\n",
       "    </tr>\n",
       "    <tr>\n",
       "      <th>169520</th>\n",
       "      <td>5160829</td>\n",
       "      <td>1269016</td>\n",
       "      <td>2009-06-10 16:16:15</td>\n",
       "      <td>2009</td>\n",
       "    </tr>\n",
       "    <tr>\n",
       "      <th>169521</th>\n",
       "      <td>5098542</td>\n",
       "      <td>1157563</td>\n",
       "      <td>2005-08-01 12:07:57</td>\n",
       "      <td>2005</td>\n",
       "    </tr>\n",
       "    <tr>\n",
       "      <th>169522</th>\n",
       "      <td>5148086</td>\n",
       "      <td>1156732</td>\n",
       "      <td>2007-12-28 17:15:09</td>\n",
       "      <td>2007</td>\n",
       "    </tr>\n",
       "    <tr>\n",
       "      <th>169523</th>\n",
       "      <td>5263144</td>\n",
       "      <td>1032834</td>\n",
       "      <td>2015-06-24 11:19:15</td>\n",
       "      <td>2015</td>\n",
       "    </tr>\n",
       "    <tr>\n",
       "      <th>169524</th>\n",
       "      <td>5026911</td>\n",
       "      <td>1058351</td>\n",
       "      <td>2005-01-01 14:46:45</td>\n",
       "      <td>2005</td>\n",
       "    </tr>\n",
       "  </tbody>\n",
       "</table>\n",
       "<p>169521 rows × 4 columns</p>\n",
       "</div>"
      ],
      "text/plain": [
       "        vehicle_id  customer_id          create_date  year\n",
       "0          5015193      1063740  2005-01-01 19:08:33  2005\n",
       "1          5110231      1155678  2005-09-29 17:16:15  2005\n",
       "2          5290356      1737831  2016-04-29 13:12:10  2016\n",
       "3          5344576      1841362  2021-03-16 13:39:01  2021\n",
       "4          5094010      1066916  2005-04-20 09:51:19  2005\n",
       "...            ...          ...                  ...   ...\n",
       "169520     5160829      1269016  2009-06-10 16:16:15  2009\n",
       "169521     5098542      1157563  2005-08-01 12:07:57  2005\n",
       "169522     5148086      1156732  2007-12-28 17:15:09  2007\n",
       "169523     5263144      1032834  2015-06-24 11:19:15  2015\n",
       "169524     5026911      1058351  2005-01-01 14:46:45  2005\n",
       "\n",
       "[169521 rows x 4 columns]"
      ]
     },
     "execution_count": 164,
     "metadata": {},
     "output_type": "execute_result"
    }
   ],
   "source": [
    "df4_"
   ]
  },
  {
   "cell_type": "code",
   "execution_count": 167,
   "id": "0ab475c4",
   "metadata": {
    "collapsed": true
   },
   "outputs": [],
   "source": [
    "df4_[\"year\"] = 2021 - df4_[\"year\"]\n",
    "df4_.rename({'year': 'age_control_acc_df4'}, axis=1, inplace=True)\n",
    "# dogum tarihi kolonu \"age\" olarak guncellendi"
   ]
  },
  {
   "cell_type": "code",
   "execution_count": 168,
   "id": "b3873233",
   "metadata": {
    "collapsed": true
   },
   "outputs": [
    {
     "name": "stdout",
     "output_type": "stream",
     "text": [
      "create_date were dropped\n"
     ]
    },
    {
     "data": {
      "text/html": [
       "<div>\n",
       "<style scoped>\n",
       "    .dataframe tbody tr th:only-of-type {\n",
       "        vertical-align: middle;\n",
       "    }\n",
       "\n",
       "    .dataframe tbody tr th {\n",
       "        vertical-align: top;\n",
       "    }\n",
       "\n",
       "    .dataframe thead th {\n",
       "        text-align: right;\n",
       "    }\n",
       "</style>\n",
       "<table border=\"1\" class=\"dataframe\">\n",
       "  <thead>\n",
       "    <tr style=\"text-align: right;\">\n",
       "      <th></th>\n",
       "      <th>vehicle_id</th>\n",
       "      <th>customer_id</th>\n",
       "      <th>age_control_acc_df4</th>\n",
       "    </tr>\n",
       "  </thead>\n",
       "  <tbody>\n",
       "    <tr>\n",
       "      <th>0</th>\n",
       "      <td>5015193</td>\n",
       "      <td>1063740</td>\n",
       "      <td>16</td>\n",
       "    </tr>\n",
       "    <tr>\n",
       "      <th>1</th>\n",
       "      <td>5110231</td>\n",
       "      <td>1155678</td>\n",
       "      <td>16</td>\n",
       "    </tr>\n",
       "  </tbody>\n",
       "</table>\n",
       "</div>"
      ],
      "text/plain": [
       "   vehicle_id  customer_id  age_control_acc_df4\n",
       "0     5015193      1063740                   16\n",
       "1     5110231      1155678                   16"
      ]
     },
     "execution_count": 168,
     "metadata": {},
     "output_type": "execute_result"
    }
   ],
   "source": [
    "drop_columns(df4_, \"create_date\")\n",
    "df4_.head(2)"
   ]
  },
  {
   "cell_type": "code",
   "execution_count": 173,
   "id": "5041efef",
   "metadata": {
    "collapsed": true
   },
   "outputs": [
    {
     "data": {
      "text/plain": [
       "(169521, 3)"
      ]
     },
     "execution_count": 173,
     "metadata": {},
     "output_type": "execute_result"
    }
   ],
   "source": [
    "df4_.shape"
   ]
  },
  {
   "cell_type": "code",
   "execution_count": 171,
   "id": "36af63b1",
   "metadata": {
    "collapsed": true
   },
   "outputs": [
    {
     "data": {
      "text/plain": [
       "169521"
      ]
     },
     "execution_count": 171,
     "metadata": {},
     "output_type": "execute_result"
    }
   ],
   "source": [
    "df4_[\"vehicle_id\"].nunique()"
   ]
  },
  {
   "cell_type": "code",
   "execution_count": 177,
   "id": "9713bbaf",
   "metadata": {
    "collapsed": true
   },
   "outputs": [
    {
     "data": {
      "text/plain": [
       "138432"
      ]
     },
     "execution_count": 177,
     "metadata": {},
     "output_type": "execute_result"
    }
   ],
   "source": [
    "df4_[\"customer_id\"].nunique()"
   ]
  },
  {
   "cell_type": "code",
   "execution_count": 190,
   "id": "0ab1a43e",
   "metadata": {},
   "outputs": [
    {
     "data": {
      "text/html": [
       "<div>\n",
       "<style scoped>\n",
       "    .dataframe tbody tr th:only-of-type {\n",
       "        vertical-align: middle;\n",
       "    }\n",
       "\n",
       "    .dataframe tbody tr th {\n",
       "        vertical-align: top;\n",
       "    }\n",
       "\n",
       "    .dataframe thead th {\n",
       "        text-align: right;\n",
       "    }\n",
       "</style>\n",
       "<table border=\"1\" class=\"dataframe\">\n",
       "  <thead>\n",
       "    <tr style=\"text-align: right;\">\n",
       "      <th></th>\n",
       "      <th>Missing_Number</th>\n",
       "      <th>Missing_Percent</th>\n",
       "    </tr>\n",
       "  </thead>\n",
       "  <tbody>\n",
       "  </tbody>\n",
       "</table>\n",
       "</div>"
      ],
      "text/plain": [
       "Empty DataFrame\n",
       "Columns: [Missing_Number, Missing_Percent]\n",
       "Index: []"
      ]
     },
     "execution_count": 190,
     "metadata": {},
     "output_type": "execute_result"
    }
   ],
   "source": [
    "missing_values(df4_)"
   ]
  },
  {
   "cell_type": "code",
   "execution_count": 178,
   "id": "6e63feef",
   "metadata": {
    "collapsed": true
   },
   "outputs": [
    {
     "name": "stdout",
     "output_type": "stream",
     "text": [
      "customer_id were dropped\n"
     ]
    },
    {
     "data": {
      "text/html": [
       "<div>\n",
       "<style scoped>\n",
       "    .dataframe tbody tr th:only-of-type {\n",
       "        vertical-align: middle;\n",
       "    }\n",
       "\n",
       "    .dataframe tbody tr th {\n",
       "        vertical-align: top;\n",
       "    }\n",
       "\n",
       "    .dataframe thead th {\n",
       "        text-align: right;\n",
       "    }\n",
       "</style>\n",
       "<table border=\"1\" class=\"dataframe\">\n",
       "  <thead>\n",
       "    <tr style=\"text-align: right;\">\n",
       "      <th></th>\n",
       "      <th>vehicle_id</th>\n",
       "      <th>age_control_acc_df4</th>\n",
       "    </tr>\n",
       "  </thead>\n",
       "  <tbody>\n",
       "    <tr>\n",
       "      <th>0</th>\n",
       "      <td>5015193</td>\n",
       "      <td>16</td>\n",
       "    </tr>\n",
       "    <tr>\n",
       "      <th>1</th>\n",
       "      <td>5110231</td>\n",
       "      <td>16</td>\n",
       "    </tr>\n",
       "    <tr>\n",
       "      <th>2</th>\n",
       "      <td>5290356</td>\n",
       "      <td>5</td>\n",
       "    </tr>\n",
       "    <tr>\n",
       "      <th>3</th>\n",
       "      <td>5344576</td>\n",
       "      <td>0</td>\n",
       "    </tr>\n",
       "    <tr>\n",
       "      <th>4</th>\n",
       "      <td>5094010</td>\n",
       "      <td>16</td>\n",
       "    </tr>\n",
       "    <tr>\n",
       "      <th>...</th>\n",
       "      <td>...</td>\n",
       "      <td>...</td>\n",
       "    </tr>\n",
       "    <tr>\n",
       "      <th>169520</th>\n",
       "      <td>5160829</td>\n",
       "      <td>12</td>\n",
       "    </tr>\n",
       "    <tr>\n",
       "      <th>169521</th>\n",
       "      <td>5098542</td>\n",
       "      <td>16</td>\n",
       "    </tr>\n",
       "    <tr>\n",
       "      <th>169522</th>\n",
       "      <td>5148086</td>\n",
       "      <td>14</td>\n",
       "    </tr>\n",
       "    <tr>\n",
       "      <th>169523</th>\n",
       "      <td>5263144</td>\n",
       "      <td>6</td>\n",
       "    </tr>\n",
       "    <tr>\n",
       "      <th>169524</th>\n",
       "      <td>5026911</td>\n",
       "      <td>16</td>\n",
       "    </tr>\n",
       "  </tbody>\n",
       "</table>\n",
       "<p>169521 rows × 2 columns</p>\n",
       "</div>"
      ],
      "text/plain": [
       "        vehicle_id  age_control_acc_df4\n",
       "0          5015193                   16\n",
       "1          5110231                   16\n",
       "2          5290356                    5\n",
       "3          5344576                    0\n",
       "4          5094010                   16\n",
       "...            ...                  ...\n",
       "169520     5160829                   12\n",
       "169521     5098542                   16\n",
       "169522     5148086                   14\n",
       "169523     5263144                    6\n",
       "169524     5026911                   16\n",
       "\n",
       "[169521 rows x 2 columns]"
      ]
     },
     "execution_count": 178,
     "metadata": {},
     "output_type": "execute_result"
    }
   ],
   "source": [
    "df4_1 = df4_.copy()\n",
    "drop_columns(df4_, \"customer_id\")\n",
    "df4_\n",
    "# # customer id gerekli olmadigi (gerekli olursa df4_1den alinabilir) icin drop edildi\n",
    "# # artik join icin hazir NANlar joinden sonra degerlendirilecek"
   ]
  },
  {
   "cell_type": "code",
   "execution_count": 170,
   "id": "76386de2",
   "metadata": {
    "collapsed": true
   },
   "outputs": [
    {
     "data": {
      "text/html": [
       "<div>\n",
       "<style scoped>\n",
       "    .dataframe tbody tr th:only-of-type {\n",
       "        vertical-align: middle;\n",
       "    }\n",
       "\n",
       "    .dataframe tbody tr th {\n",
       "        vertical-align: top;\n",
       "    }\n",
       "\n",
       "    .dataframe thead th {\n",
       "        text-align: right;\n",
       "    }\n",
       "</style>\n",
       "<table border=\"1\" class=\"dataframe\">\n",
       "  <thead>\n",
       "    <tr style=\"text-align: right;\">\n",
       "      <th></th>\n",
       "      <th>Unnamed: 0</th>\n",
       "      <th>VEHICLE_ID</th>\n",
       "      <th>CUSTOMER_ID</th>\n",
       "      <th>CREATE_DATE</th>\n",
       "    </tr>\n",
       "  </thead>\n",
       "  <tbody>\n",
       "    <tr>\n",
       "      <th>0</th>\n",
       "      <td>0</td>\n",
       "      <td>5015193</td>\n",
       "      <td>1063740</td>\n",
       "      <td>2005-01-01 19:08:33</td>\n",
       "    </tr>\n",
       "    <tr>\n",
       "      <th>1</th>\n",
       "      <td>1</td>\n",
       "      <td>5110231</td>\n",
       "      <td>1155678</td>\n",
       "      <td>2005-09-29 17:16:15</td>\n",
       "    </tr>\n",
       "    <tr>\n",
       "      <th>2</th>\n",
       "      <td>2</td>\n",
       "      <td>5290356</td>\n",
       "      <td>1737831</td>\n",
       "      <td>2016-04-29 13:12:10</td>\n",
       "    </tr>\n",
       "    <tr>\n",
       "      <th>3</th>\n",
       "      <td>3</td>\n",
       "      <td>5344576</td>\n",
       "      <td>1841362</td>\n",
       "      <td>2021-03-16 13:39:01</td>\n",
       "    </tr>\n",
       "    <tr>\n",
       "      <th>4</th>\n",
       "      <td>4</td>\n",
       "      <td>5094010</td>\n",
       "      <td>1066916</td>\n",
       "      <td>2005-04-20 09:51:19</td>\n",
       "    </tr>\n",
       "    <tr>\n",
       "      <th>...</th>\n",
       "      <td>...</td>\n",
       "      <td>...</td>\n",
       "      <td>...</td>\n",
       "      <td>...</td>\n",
       "    </tr>\n",
       "    <tr>\n",
       "      <th>169520</th>\n",
       "      <td>169520</td>\n",
       "      <td>5160829</td>\n",
       "      <td>1269016</td>\n",
       "      <td>2009-06-10 16:16:15</td>\n",
       "    </tr>\n",
       "    <tr>\n",
       "      <th>169521</th>\n",
       "      <td>169521</td>\n",
       "      <td>5098542</td>\n",
       "      <td>1157563</td>\n",
       "      <td>2005-08-01 12:07:57</td>\n",
       "    </tr>\n",
       "    <tr>\n",
       "      <th>169522</th>\n",
       "      <td>169522</td>\n",
       "      <td>5148086</td>\n",
       "      <td>1156732</td>\n",
       "      <td>2007-12-28 17:15:09</td>\n",
       "    </tr>\n",
       "    <tr>\n",
       "      <th>169523</th>\n",
       "      <td>169523</td>\n",
       "      <td>5263144</td>\n",
       "      <td>1032834</td>\n",
       "      <td>2015-06-24 11:19:15</td>\n",
       "    </tr>\n",
       "    <tr>\n",
       "      <th>169524</th>\n",
       "      <td>169524</td>\n",
       "      <td>5026911</td>\n",
       "      <td>1058351</td>\n",
       "      <td>2005-01-01 14:46:45</td>\n",
       "    </tr>\n",
       "  </tbody>\n",
       "</table>\n",
       "<p>169525 rows × 4 columns</p>\n",
       "</div>"
      ],
      "text/plain": [
       "        Unnamed: 0  VEHICLE_ID  CUSTOMER_ID          CREATE_DATE\n",
       "0                0     5015193      1063740  2005-01-01 19:08:33\n",
       "1                1     5110231      1155678  2005-09-29 17:16:15\n",
       "2                2     5290356      1737831  2016-04-29 13:12:10\n",
       "3                3     5344576      1841362  2021-03-16 13:39:01\n",
       "4                4     5094010      1066916  2005-04-20 09:51:19\n",
       "...            ...         ...          ...                  ...\n",
       "169520      169520     5160829      1269016  2009-06-10 16:16:15\n",
       "169521      169521     5098542      1157563  2005-08-01 12:07:57\n",
       "169522      169522     5148086      1156732  2007-12-28 17:15:09\n",
       "169523      169523     5263144      1032834  2015-06-24 11:19:15\n",
       "169524      169524     5026911      1058351  2005-01-01 14:46:45\n",
       "\n",
       "[169525 rows x 4 columns]"
      ]
     },
     "execution_count": 170,
     "metadata": {},
     "output_type": "execute_result"
    }
   ],
   "source": [
    "df04_\n",
    "# baslangic hali"
   ]
  },
  {
   "cell_type": "markdown",
   "id": "2d7b59b2",
   "metadata": {},
   "source": [
    "# prepare df5_ to join"
   ]
  },
  {
   "cell_type": "code",
   "execution_count": 179,
   "id": "1d785959",
   "metadata": {},
   "outputs": [
    {
     "data": {
      "text/html": [
       "<div>\n",
       "<style scoped>\n",
       "    .dataframe tbody tr th:only-of-type {\n",
       "        vertical-align: middle;\n",
       "    }\n",
       "\n",
       "    .dataframe tbody tr th {\n",
       "        vertical-align: top;\n",
       "    }\n",
       "\n",
       "    .dataframe thead th {\n",
       "        text-align: right;\n",
       "    }\n",
       "</style>\n",
       "<table border=\"1\" class=\"dataframe\">\n",
       "  <thead>\n",
       "    <tr style=\"text-align: right;\">\n",
       "      <th></th>\n",
       "      <th>vehicle_id</th>\n",
       "      <th>traffic_date</th>\n",
       "      <th>brand_code</th>\n",
       "      <th>basemodel_code</th>\n",
       "      <th>topmodel_code</th>\n",
       "      <th>motor_gas_type</th>\n",
       "      <th>gear_box_type</th>\n",
       "    </tr>\n",
       "  </thead>\n",
       "  <tbody>\n",
       "    <tr>\n",
       "      <th>0</th>\n",
       "      <td>5317713</td>\n",
       "      <td>2017-12-07</td>\n",
       "      <td>Z</td>\n",
       "      <td>13398</td>\n",
       "      <td>9349</td>\n",
       "      <td>Benzin</td>\n",
       "      <td>Manuel</td>\n",
       "    </tr>\n",
       "    <tr>\n",
       "      <th>1</th>\n",
       "      <td>5259212</td>\n",
       "      <td>2014-12-09</td>\n",
       "      <td>X</td>\n",
       "      <td>15694</td>\n",
       "      <td>9524</td>\n",
       "      <td>Dizel</td>\n",
       "      <td>Otomatik (DSG)</td>\n",
       "    </tr>\n",
       "    <tr>\n",
       "      <th>2</th>\n",
       "      <td>5110414</td>\n",
       "      <td>2005-12-12</td>\n",
       "      <td>Y</td>\n",
       "      <td>11183</td>\n",
       "      <td>9118</td>\n",
       "      <td>Kurşunsuz Benzin</td>\n",
       "      <td>Otomatik</td>\n",
       "    </tr>\n",
       "    <tr>\n",
       "      <th>3</th>\n",
       "      <td>5101263</td>\n",
       "      <td>2005-08-23</td>\n",
       "      <td>X</td>\n",
       "      <td>15039</td>\n",
       "      <td>9495</td>\n",
       "      <td>Benzin</td>\n",
       "      <td>Manuel</td>\n",
       "    </tr>\n",
       "    <tr>\n",
       "      <th>4</th>\n",
       "      <td>5053909</td>\n",
       "      <td>2003-04-09</td>\n",
       "      <td>Y</td>\n",
       "      <td>12255</td>\n",
       "      <td>9219</td>\n",
       "      <td>NaN</td>\n",
       "      <td>NaN</td>\n",
       "    </tr>\n",
       "    <tr>\n",
       "      <th>...</th>\n",
       "      <td>...</td>\n",
       "      <td>...</td>\n",
       "      <td>...</td>\n",
       "      <td>...</td>\n",
       "      <td>...</td>\n",
       "      <td>...</td>\n",
       "      <td>...</td>\n",
       "    </tr>\n",
       "    <tr>\n",
       "      <th>345087</th>\n",
       "      <td>5253033</td>\n",
       "      <td>2014-07-24</td>\n",
       "      <td>T</td>\n",
       "      <td>13515</td>\n",
       "      <td>9352</td>\n",
       "      <td>Benzin</td>\n",
       "      <td>Manuel</td>\n",
       "    </tr>\n",
       "    <tr>\n",
       "      <th>345088</th>\n",
       "      <td>5174679</td>\n",
       "      <td>2010-05-27</td>\n",
       "      <td>T</td>\n",
       "      <td>13833</td>\n",
       "      <td>9376</td>\n",
       "      <td>Benzin</td>\n",
       "      <td>Manuel</td>\n",
       "    </tr>\n",
       "    <tr>\n",
       "      <th>345089</th>\n",
       "      <td>5059846</td>\n",
       "      <td>2004-12-14</td>\n",
       "      <td>X</td>\n",
       "      <td>15316</td>\n",
       "      <td>9509</td>\n",
       "      <td>Benzin</td>\n",
       "      <td>Otomatik</td>\n",
       "    </tr>\n",
       "    <tr>\n",
       "      <th>345090</th>\n",
       "      <td>5080882</td>\n",
       "      <td>2004-06-29</td>\n",
       "      <td>K</td>\n",
       "      <td>14615</td>\n",
       "      <td>9446</td>\n",
       "      <td>Dizel</td>\n",
       "      <td>Manuel</td>\n",
       "    </tr>\n",
       "    <tr>\n",
       "      <th>345091</th>\n",
       "      <td>5057488</td>\n",
       "      <td>2003-11-18</td>\n",
       "      <td>Y</td>\n",
       "      <td>16308</td>\n",
       "      <td>9571</td>\n",
       "      <td>NaN</td>\n",
       "      <td>NaN</td>\n",
       "    </tr>\n",
       "  </tbody>\n",
       "</table>\n",
       "<p>345092 rows × 7 columns</p>\n",
       "</div>"
      ],
      "text/plain": [
       "        vehicle_id traffic_date brand_code  basemodel_code  topmodel_code  \\\n",
       "0          5317713   2017-12-07          Z           13398           9349   \n",
       "1          5259212   2014-12-09          X           15694           9524   \n",
       "2          5110414   2005-12-12          Y           11183           9118   \n",
       "3          5101263   2005-08-23          X           15039           9495   \n",
       "4          5053909   2003-04-09          Y           12255           9219   \n",
       "...            ...          ...        ...             ...            ...   \n",
       "345087     5253033   2014-07-24          T           13515           9352   \n",
       "345088     5174679   2010-05-27          T           13833           9376   \n",
       "345089     5059846   2004-12-14          X           15316           9509   \n",
       "345090     5080882   2004-06-29          K           14615           9446   \n",
       "345091     5057488   2003-11-18          Y           16308           9571   \n",
       "\n",
       "          motor_gas_type   gear_box_type  \n",
       "0                 Benzin          Manuel  \n",
       "1                  Dizel  Otomatik (DSG)  \n",
       "2       Kurşunsuz Benzin        Otomatik  \n",
       "3                 Benzin          Manuel  \n",
       "4                    NaN             NaN  \n",
       "...                  ...             ...  \n",
       "345087            Benzin          Manuel  \n",
       "345088            Benzin          Manuel  \n",
       "345089            Benzin        Otomatik  \n",
       "345090             Dizel          Manuel  \n",
       "345091               NaN             NaN  \n",
       "\n",
       "[345092 rows x 7 columns]"
      ]
     },
     "execution_count": 179,
     "metadata": {},
     "output_type": "execute_result"
    }
   ],
   "source": [
    "df5_"
   ]
  },
  {
   "cell_type": "code",
   "execution_count": 180,
   "id": "6a169ccb",
   "metadata": {},
   "outputs": [
    {
     "data": {
      "text/plain": [
       "345092"
      ]
     },
     "execution_count": 180,
     "metadata": {},
     "output_type": "execute_result"
    }
   ],
   "source": [
    "df5_[\"vehicle_id\"].nunique()"
   ]
  },
  {
   "cell_type": "code",
   "execution_count": 181,
   "id": "d3ccce09",
   "metadata": {
    "scrolled": true
   },
   "outputs": [
    {
     "data": {
      "text/html": [
       "<div>\n",
       "<style scoped>\n",
       "    .dataframe tbody tr th:only-of-type {\n",
       "        vertical-align: middle;\n",
       "    }\n",
       "\n",
       "    .dataframe tbody tr th {\n",
       "        vertical-align: top;\n",
       "    }\n",
       "\n",
       "    .dataframe thead th {\n",
       "        text-align: right;\n",
       "    }\n",
       "</style>\n",
       "<table border=\"1\" class=\"dataframe\">\n",
       "  <thead>\n",
       "    <tr style=\"text-align: right;\">\n",
       "      <th></th>\n",
       "      <th>vehicle_id</th>\n",
       "      <th>traffic_date</th>\n",
       "      <th>brand_code</th>\n",
       "      <th>basemodel_code</th>\n",
       "      <th>topmodel_code</th>\n",
       "      <th>motor_gas_type</th>\n",
       "      <th>gear_box_type</th>\n",
       "    </tr>\n",
       "  </thead>\n",
       "  <tbody>\n",
       "  </tbody>\n",
       "</table>\n",
       "</div>"
      ],
      "text/plain": [
       "Empty DataFrame\n",
       "Columns: [vehicle_id, traffic_date, brand_code, basemodel_code, topmodel_code, motor_gas_type, gear_box_type]\n",
       "Index: []"
      ]
     },
     "execution_count": 181,
     "metadata": {},
     "output_type": "execute_result"
    }
   ],
   "source": [
    "df5_[df5_[\"vehicle_id\"].duplicated()]"
   ]
  },
  {
   "cell_type": "code",
   "execution_count": 182,
   "id": "ad7142a1",
   "metadata": {},
   "outputs": [],
   "source": [
    "df5_['year'] = pd.DatetimeIndex(df5_['traffic_date']).year"
   ]
  },
  {
   "cell_type": "code",
   "execution_count": 183,
   "id": "734cf527",
   "metadata": {},
   "outputs": [
    {
     "data": {
      "text/html": [
       "<div>\n",
       "<style scoped>\n",
       "    .dataframe tbody tr th:only-of-type {\n",
       "        vertical-align: middle;\n",
       "    }\n",
       "\n",
       "    .dataframe tbody tr th {\n",
       "        vertical-align: top;\n",
       "    }\n",
       "\n",
       "    .dataframe thead th {\n",
       "        text-align: right;\n",
       "    }\n",
       "</style>\n",
       "<table border=\"1\" class=\"dataframe\">\n",
       "  <thead>\n",
       "    <tr style=\"text-align: right;\">\n",
       "      <th></th>\n",
       "      <th>vehicle_id</th>\n",
       "      <th>traffic_date</th>\n",
       "      <th>brand_code</th>\n",
       "      <th>basemodel_code</th>\n",
       "      <th>topmodel_code</th>\n",
       "      <th>motor_gas_type</th>\n",
       "      <th>gear_box_type</th>\n",
       "      <th>year</th>\n",
       "    </tr>\n",
       "  </thead>\n",
       "  <tbody>\n",
       "    <tr>\n",
       "      <th>0</th>\n",
       "      <td>5317713</td>\n",
       "      <td>2017-12-07</td>\n",
       "      <td>Z</td>\n",
       "      <td>13398</td>\n",
       "      <td>9349</td>\n",
       "      <td>Benzin</td>\n",
       "      <td>Manuel</td>\n",
       "      <td>2017.000</td>\n",
       "    </tr>\n",
       "    <tr>\n",
       "      <th>1</th>\n",
       "      <td>5259212</td>\n",
       "      <td>2014-12-09</td>\n",
       "      <td>X</td>\n",
       "      <td>15694</td>\n",
       "      <td>9524</td>\n",
       "      <td>Dizel</td>\n",
       "      <td>Otomatik (DSG)</td>\n",
       "      <td>2014.000</td>\n",
       "    </tr>\n",
       "    <tr>\n",
       "      <th>2</th>\n",
       "      <td>5110414</td>\n",
       "      <td>2005-12-12</td>\n",
       "      <td>Y</td>\n",
       "      <td>11183</td>\n",
       "      <td>9118</td>\n",
       "      <td>Kurşunsuz Benzin</td>\n",
       "      <td>Otomatik</td>\n",
       "      <td>2005.000</td>\n",
       "    </tr>\n",
       "    <tr>\n",
       "      <th>3</th>\n",
       "      <td>5101263</td>\n",
       "      <td>2005-08-23</td>\n",
       "      <td>X</td>\n",
       "      <td>15039</td>\n",
       "      <td>9495</td>\n",
       "      <td>Benzin</td>\n",
       "      <td>Manuel</td>\n",
       "      <td>2005.000</td>\n",
       "    </tr>\n",
       "    <tr>\n",
       "      <th>4</th>\n",
       "      <td>5053909</td>\n",
       "      <td>2003-04-09</td>\n",
       "      <td>Y</td>\n",
       "      <td>12255</td>\n",
       "      <td>9219</td>\n",
       "      <td>NaN</td>\n",
       "      <td>NaN</td>\n",
       "      <td>2003.000</td>\n",
       "    </tr>\n",
       "    <tr>\n",
       "      <th>...</th>\n",
       "      <td>...</td>\n",
       "      <td>...</td>\n",
       "      <td>...</td>\n",
       "      <td>...</td>\n",
       "      <td>...</td>\n",
       "      <td>...</td>\n",
       "      <td>...</td>\n",
       "      <td>...</td>\n",
       "    </tr>\n",
       "    <tr>\n",
       "      <th>345087</th>\n",
       "      <td>5253033</td>\n",
       "      <td>2014-07-24</td>\n",
       "      <td>T</td>\n",
       "      <td>13515</td>\n",
       "      <td>9352</td>\n",
       "      <td>Benzin</td>\n",
       "      <td>Manuel</td>\n",
       "      <td>2014.000</td>\n",
       "    </tr>\n",
       "    <tr>\n",
       "      <th>345088</th>\n",
       "      <td>5174679</td>\n",
       "      <td>2010-05-27</td>\n",
       "      <td>T</td>\n",
       "      <td>13833</td>\n",
       "      <td>9376</td>\n",
       "      <td>Benzin</td>\n",
       "      <td>Manuel</td>\n",
       "      <td>2010.000</td>\n",
       "    </tr>\n",
       "    <tr>\n",
       "      <th>345089</th>\n",
       "      <td>5059846</td>\n",
       "      <td>2004-12-14</td>\n",
       "      <td>X</td>\n",
       "      <td>15316</td>\n",
       "      <td>9509</td>\n",
       "      <td>Benzin</td>\n",
       "      <td>Otomatik</td>\n",
       "      <td>2004.000</td>\n",
       "    </tr>\n",
       "    <tr>\n",
       "      <th>345090</th>\n",
       "      <td>5080882</td>\n",
       "      <td>2004-06-29</td>\n",
       "      <td>K</td>\n",
       "      <td>14615</td>\n",
       "      <td>9446</td>\n",
       "      <td>Dizel</td>\n",
       "      <td>Manuel</td>\n",
       "      <td>2004.000</td>\n",
       "    </tr>\n",
       "    <tr>\n",
       "      <th>345091</th>\n",
       "      <td>5057488</td>\n",
       "      <td>2003-11-18</td>\n",
       "      <td>Y</td>\n",
       "      <td>16308</td>\n",
       "      <td>9571</td>\n",
       "      <td>NaN</td>\n",
       "      <td>NaN</td>\n",
       "      <td>2003.000</td>\n",
       "    </tr>\n",
       "  </tbody>\n",
       "</table>\n",
       "<p>345092 rows × 8 columns</p>\n",
       "</div>"
      ],
      "text/plain": [
       "        vehicle_id traffic_date brand_code  basemodel_code  topmodel_code  \\\n",
       "0          5317713   2017-12-07          Z           13398           9349   \n",
       "1          5259212   2014-12-09          X           15694           9524   \n",
       "2          5110414   2005-12-12          Y           11183           9118   \n",
       "3          5101263   2005-08-23          X           15039           9495   \n",
       "4          5053909   2003-04-09          Y           12255           9219   \n",
       "...            ...          ...        ...             ...            ...   \n",
       "345087     5253033   2014-07-24          T           13515           9352   \n",
       "345088     5174679   2010-05-27          T           13833           9376   \n",
       "345089     5059846   2004-12-14          X           15316           9509   \n",
       "345090     5080882   2004-06-29          K           14615           9446   \n",
       "345091     5057488   2003-11-18          Y           16308           9571   \n",
       "\n",
       "          motor_gas_type   gear_box_type     year  \n",
       "0                 Benzin          Manuel 2017.000  \n",
       "1                  Dizel  Otomatik (DSG) 2014.000  \n",
       "2       Kurşunsuz Benzin        Otomatik 2005.000  \n",
       "3                 Benzin          Manuel 2005.000  \n",
       "4                    NaN             NaN 2003.000  \n",
       "...                  ...             ...      ...  \n",
       "345087            Benzin          Manuel 2014.000  \n",
       "345088            Benzin          Manuel 2010.000  \n",
       "345089            Benzin        Otomatik 2004.000  \n",
       "345090             Dizel          Manuel 2004.000  \n",
       "345091               NaN             NaN 2003.000  \n",
       "\n",
       "[345092 rows x 8 columns]"
      ]
     },
     "execution_count": 183,
     "metadata": {},
     "output_type": "execute_result"
    }
   ],
   "source": [
    "df5_"
   ]
  },
  {
   "cell_type": "code",
   "execution_count": 184,
   "id": "26c9b14e",
   "metadata": {},
   "outputs": [],
   "source": [
    "df5_[\"year\"] = 2021 - df5_[\"year\"]\n",
    "df5_.rename({'year': 'age_control_acc_df5'}, axis=1, inplace=True)\n",
    "# traffic_date kolonu \"age\" olarak guncellendi, bu muhtemelen en dogru yas bilgisini verecek"
   ]
  },
  {
   "cell_type": "code",
   "execution_count": 185,
   "id": "915b2e56",
   "metadata": {},
   "outputs": [
    {
     "data": {
      "text/html": [
       "<div>\n",
       "<style scoped>\n",
       "    .dataframe tbody tr th:only-of-type {\n",
       "        vertical-align: middle;\n",
       "    }\n",
       "\n",
       "    .dataframe tbody tr th {\n",
       "        vertical-align: top;\n",
       "    }\n",
       "\n",
       "    .dataframe thead th {\n",
       "        text-align: right;\n",
       "    }\n",
       "</style>\n",
       "<table border=\"1\" class=\"dataframe\">\n",
       "  <thead>\n",
       "    <tr style=\"text-align: right;\">\n",
       "      <th></th>\n",
       "      <th>vehicle_id</th>\n",
       "      <th>traffic_date</th>\n",
       "      <th>brand_code</th>\n",
       "      <th>basemodel_code</th>\n",
       "      <th>topmodel_code</th>\n",
       "      <th>motor_gas_type</th>\n",
       "      <th>gear_box_type</th>\n",
       "      <th>age_control_acc_df5</th>\n",
       "    </tr>\n",
       "  </thead>\n",
       "  <tbody>\n",
       "    <tr>\n",
       "      <th>0</th>\n",
       "      <td>5317713</td>\n",
       "      <td>2017-12-07</td>\n",
       "      <td>Z</td>\n",
       "      <td>13398</td>\n",
       "      <td>9349</td>\n",
       "      <td>Benzin</td>\n",
       "      <td>Manuel</td>\n",
       "      <td>4.000</td>\n",
       "    </tr>\n",
       "    <tr>\n",
       "      <th>1</th>\n",
       "      <td>5259212</td>\n",
       "      <td>2014-12-09</td>\n",
       "      <td>X</td>\n",
       "      <td>15694</td>\n",
       "      <td>9524</td>\n",
       "      <td>Dizel</td>\n",
       "      <td>Otomatik (DSG)</td>\n",
       "      <td>7.000</td>\n",
       "    </tr>\n",
       "    <tr>\n",
       "      <th>2</th>\n",
       "      <td>5110414</td>\n",
       "      <td>2005-12-12</td>\n",
       "      <td>Y</td>\n",
       "      <td>11183</td>\n",
       "      <td>9118</td>\n",
       "      <td>Kurşunsuz Benzin</td>\n",
       "      <td>Otomatik</td>\n",
       "      <td>16.000</td>\n",
       "    </tr>\n",
       "    <tr>\n",
       "      <th>3</th>\n",
       "      <td>5101263</td>\n",
       "      <td>2005-08-23</td>\n",
       "      <td>X</td>\n",
       "      <td>15039</td>\n",
       "      <td>9495</td>\n",
       "      <td>Benzin</td>\n",
       "      <td>Manuel</td>\n",
       "      <td>16.000</td>\n",
       "    </tr>\n",
       "    <tr>\n",
       "      <th>4</th>\n",
       "      <td>5053909</td>\n",
       "      <td>2003-04-09</td>\n",
       "      <td>Y</td>\n",
       "      <td>12255</td>\n",
       "      <td>9219</td>\n",
       "      <td>NaN</td>\n",
       "      <td>NaN</td>\n",
       "      <td>18.000</td>\n",
       "    </tr>\n",
       "    <tr>\n",
       "      <th>...</th>\n",
       "      <td>...</td>\n",
       "      <td>...</td>\n",
       "      <td>...</td>\n",
       "      <td>...</td>\n",
       "      <td>...</td>\n",
       "      <td>...</td>\n",
       "      <td>...</td>\n",
       "      <td>...</td>\n",
       "    </tr>\n",
       "    <tr>\n",
       "      <th>345087</th>\n",
       "      <td>5253033</td>\n",
       "      <td>2014-07-24</td>\n",
       "      <td>T</td>\n",
       "      <td>13515</td>\n",
       "      <td>9352</td>\n",
       "      <td>Benzin</td>\n",
       "      <td>Manuel</td>\n",
       "      <td>7.000</td>\n",
       "    </tr>\n",
       "    <tr>\n",
       "      <th>345088</th>\n",
       "      <td>5174679</td>\n",
       "      <td>2010-05-27</td>\n",
       "      <td>T</td>\n",
       "      <td>13833</td>\n",
       "      <td>9376</td>\n",
       "      <td>Benzin</td>\n",
       "      <td>Manuel</td>\n",
       "      <td>11.000</td>\n",
       "    </tr>\n",
       "    <tr>\n",
       "      <th>345089</th>\n",
       "      <td>5059846</td>\n",
       "      <td>2004-12-14</td>\n",
       "      <td>X</td>\n",
       "      <td>15316</td>\n",
       "      <td>9509</td>\n",
       "      <td>Benzin</td>\n",
       "      <td>Otomatik</td>\n",
       "      <td>17.000</td>\n",
       "    </tr>\n",
       "    <tr>\n",
       "      <th>345090</th>\n",
       "      <td>5080882</td>\n",
       "      <td>2004-06-29</td>\n",
       "      <td>K</td>\n",
       "      <td>14615</td>\n",
       "      <td>9446</td>\n",
       "      <td>Dizel</td>\n",
       "      <td>Manuel</td>\n",
       "      <td>17.000</td>\n",
       "    </tr>\n",
       "    <tr>\n",
       "      <th>345091</th>\n",
       "      <td>5057488</td>\n",
       "      <td>2003-11-18</td>\n",
       "      <td>Y</td>\n",
       "      <td>16308</td>\n",
       "      <td>9571</td>\n",
       "      <td>NaN</td>\n",
       "      <td>NaN</td>\n",
       "      <td>18.000</td>\n",
       "    </tr>\n",
       "  </tbody>\n",
       "</table>\n",
       "<p>345092 rows × 8 columns</p>\n",
       "</div>"
      ],
      "text/plain": [
       "        vehicle_id traffic_date brand_code  basemodel_code  topmodel_code  \\\n",
       "0          5317713   2017-12-07          Z           13398           9349   \n",
       "1          5259212   2014-12-09          X           15694           9524   \n",
       "2          5110414   2005-12-12          Y           11183           9118   \n",
       "3          5101263   2005-08-23          X           15039           9495   \n",
       "4          5053909   2003-04-09          Y           12255           9219   \n",
       "...            ...          ...        ...             ...            ...   \n",
       "345087     5253033   2014-07-24          T           13515           9352   \n",
       "345088     5174679   2010-05-27          T           13833           9376   \n",
       "345089     5059846   2004-12-14          X           15316           9509   \n",
       "345090     5080882   2004-06-29          K           14615           9446   \n",
       "345091     5057488   2003-11-18          Y           16308           9571   \n",
       "\n",
       "          motor_gas_type   gear_box_type  age_control_acc_df5  \n",
       "0                 Benzin          Manuel                4.000  \n",
       "1                  Dizel  Otomatik (DSG)                7.000  \n",
       "2       Kurşunsuz Benzin        Otomatik               16.000  \n",
       "3                 Benzin          Manuel               16.000  \n",
       "4                    NaN             NaN               18.000  \n",
       "...                  ...             ...                  ...  \n",
       "345087            Benzin          Manuel                7.000  \n",
       "345088            Benzin          Manuel               11.000  \n",
       "345089            Benzin        Otomatik               17.000  \n",
       "345090             Dizel          Manuel               17.000  \n",
       "345091               NaN             NaN               18.000  \n",
       "\n",
       "[345092 rows x 8 columns]"
      ]
     },
     "execution_count": 185,
     "metadata": {},
     "output_type": "execute_result"
    }
   ],
   "source": [
    "df5_"
   ]
  },
  {
   "cell_type": "code",
   "execution_count": 186,
   "id": "0e81e7b2",
   "metadata": {},
   "outputs": [
    {
     "name": "stdout",
     "output_type": "stream",
     "text": [
      "traffic_date were dropped\n"
     ]
    },
    {
     "data": {
      "text/html": [
       "<div>\n",
       "<style scoped>\n",
       "    .dataframe tbody tr th:only-of-type {\n",
       "        vertical-align: middle;\n",
       "    }\n",
       "\n",
       "    .dataframe tbody tr th {\n",
       "        vertical-align: top;\n",
       "    }\n",
       "\n",
       "    .dataframe thead th {\n",
       "        text-align: right;\n",
       "    }\n",
       "</style>\n",
       "<table border=\"1\" class=\"dataframe\">\n",
       "  <thead>\n",
       "    <tr style=\"text-align: right;\">\n",
       "      <th></th>\n",
       "      <th>vehicle_id</th>\n",
       "      <th>brand_code</th>\n",
       "      <th>basemodel_code</th>\n",
       "      <th>topmodel_code</th>\n",
       "      <th>motor_gas_type</th>\n",
       "      <th>gear_box_type</th>\n",
       "      <th>age_control_acc_df5</th>\n",
       "    </tr>\n",
       "  </thead>\n",
       "  <tbody>\n",
       "    <tr>\n",
       "      <th>0</th>\n",
       "      <td>5317713</td>\n",
       "      <td>Z</td>\n",
       "      <td>13398</td>\n",
       "      <td>9349</td>\n",
       "      <td>Benzin</td>\n",
       "      <td>Manuel</td>\n",
       "      <td>4.000</td>\n",
       "    </tr>\n",
       "    <tr>\n",
       "      <th>1</th>\n",
       "      <td>5259212</td>\n",
       "      <td>X</td>\n",
       "      <td>15694</td>\n",
       "      <td>9524</td>\n",
       "      <td>Dizel</td>\n",
       "      <td>Otomatik (DSG)</td>\n",
       "      <td>7.000</td>\n",
       "    </tr>\n",
       "  </tbody>\n",
       "</table>\n",
       "</div>"
      ],
      "text/plain": [
       "   vehicle_id brand_code  basemodel_code  topmodel_code motor_gas_type  \\\n",
       "0     5317713          Z           13398           9349         Benzin   \n",
       "1     5259212          X           15694           9524          Dizel   \n",
       "\n",
       "    gear_box_type  age_control_acc_df5  \n",
       "0          Manuel                4.000  \n",
       "1  Otomatik (DSG)                7.000  "
      ]
     },
     "execution_count": 186,
     "metadata": {},
     "output_type": "execute_result"
    }
   ],
   "source": [
    "drop_columns(df5_, \"traffic_date\")\n",
    "df5_.head(2)"
   ]
  },
  {
   "cell_type": "code",
   "execution_count": 187,
   "id": "359206c6",
   "metadata": {},
   "outputs": [
    {
     "data": {
      "text/plain": [
       "(345092, 7)"
      ]
     },
     "execution_count": 187,
     "metadata": {},
     "output_type": "execute_result"
    }
   ],
   "source": [
    "df5_.shape"
   ]
  },
  {
   "cell_type": "code",
   "execution_count": 188,
   "id": "dcb25ff9",
   "metadata": {},
   "outputs": [
    {
     "data": {
      "text/plain": [
       "345092"
      ]
     },
     "execution_count": 188,
     "metadata": {},
     "output_type": "execute_result"
    }
   ],
   "source": [
    "df5_[\"vehicle_id\"].nunique()"
   ]
  },
  {
   "cell_type": "code",
   "execution_count": 189,
   "id": "81fab1b3",
   "metadata": {},
   "outputs": [
    {
     "data": {
      "text/html": [
       "<div>\n",
       "<style scoped>\n",
       "    .dataframe tbody tr th:only-of-type {\n",
       "        vertical-align: middle;\n",
       "    }\n",
       "\n",
       "    .dataframe tbody tr th {\n",
       "        vertical-align: top;\n",
       "    }\n",
       "\n",
       "    .dataframe thead th {\n",
       "        text-align: right;\n",
       "    }\n",
       "</style>\n",
       "<table border=\"1\" class=\"dataframe\">\n",
       "  <thead>\n",
       "    <tr style=\"text-align: right;\">\n",
       "      <th></th>\n",
       "      <th>Missing_Number</th>\n",
       "      <th>Missing_Percent</th>\n",
       "    </tr>\n",
       "  </thead>\n",
       "  <tbody>\n",
       "    <tr>\n",
       "      <th>gear_box_type</th>\n",
       "      <td>84015</td>\n",
       "      <td>0.243</td>\n",
       "    </tr>\n",
       "    <tr>\n",
       "      <th>motor_gas_type</th>\n",
       "      <td>72446</td>\n",
       "      <td>0.210</td>\n",
       "    </tr>\n",
       "    <tr>\n",
       "      <th>age_control_acc_df5</th>\n",
       "      <td>866</td>\n",
       "      <td>0.003</td>\n",
       "    </tr>\n",
       "  </tbody>\n",
       "</table>\n",
       "</div>"
      ],
      "text/plain": [
       "                     Missing_Number  Missing_Percent\n",
       "gear_box_type                 84015            0.243\n",
       "motor_gas_type                72446            0.210\n",
       "age_control_acc_df5             866            0.003"
      ]
     },
     "execution_count": 189,
     "metadata": {},
     "output_type": "execute_result"
    }
   ],
   "source": [
    "missing_values(df5_)"
   ]
  },
  {
   "cell_type": "code",
   "execution_count": 192,
   "id": "a5622ebe",
   "metadata": {},
   "outputs": [
    {
     "name": "stdout",
     "output_type": "stream",
     "text": [
      "['basemodel_code', 'topmodel_code', 'motor_gas_type', 'gear_box_type'] were dropped\n"
     ]
    },
    {
     "data": {
      "text/html": [
       "<div>\n",
       "<style scoped>\n",
       "    .dataframe tbody tr th:only-of-type {\n",
       "        vertical-align: middle;\n",
       "    }\n",
       "\n",
       "    .dataframe tbody tr th {\n",
       "        vertical-align: top;\n",
       "    }\n",
       "\n",
       "    .dataframe thead th {\n",
       "        text-align: right;\n",
       "    }\n",
       "</style>\n",
       "<table border=\"1\" class=\"dataframe\">\n",
       "  <thead>\n",
       "    <tr style=\"text-align: right;\">\n",
       "      <th></th>\n",
       "      <th>vehicle_id</th>\n",
       "      <th>brand_code</th>\n",
       "      <th>age_control_acc_df5</th>\n",
       "    </tr>\n",
       "  </thead>\n",
       "  <tbody>\n",
       "    <tr>\n",
       "      <th>0</th>\n",
       "      <td>5317713</td>\n",
       "      <td>Z</td>\n",
       "      <td>4.000</td>\n",
       "    </tr>\n",
       "    <tr>\n",
       "      <th>1</th>\n",
       "      <td>5259212</td>\n",
       "      <td>X</td>\n",
       "      <td>7.000</td>\n",
       "    </tr>\n",
       "    <tr>\n",
       "      <th>2</th>\n",
       "      <td>5110414</td>\n",
       "      <td>Y</td>\n",
       "      <td>16.000</td>\n",
       "    </tr>\n",
       "    <tr>\n",
       "      <th>3</th>\n",
       "      <td>5101263</td>\n",
       "      <td>X</td>\n",
       "      <td>16.000</td>\n",
       "    </tr>\n",
       "    <tr>\n",
       "      <th>4</th>\n",
       "      <td>5053909</td>\n",
       "      <td>Y</td>\n",
       "      <td>18.000</td>\n",
       "    </tr>\n",
       "    <tr>\n",
       "      <th>...</th>\n",
       "      <td>...</td>\n",
       "      <td>...</td>\n",
       "      <td>...</td>\n",
       "    </tr>\n",
       "    <tr>\n",
       "      <th>345087</th>\n",
       "      <td>5253033</td>\n",
       "      <td>T</td>\n",
       "      <td>7.000</td>\n",
       "    </tr>\n",
       "    <tr>\n",
       "      <th>345088</th>\n",
       "      <td>5174679</td>\n",
       "      <td>T</td>\n",
       "      <td>11.000</td>\n",
       "    </tr>\n",
       "    <tr>\n",
       "      <th>345089</th>\n",
       "      <td>5059846</td>\n",
       "      <td>X</td>\n",
       "      <td>17.000</td>\n",
       "    </tr>\n",
       "    <tr>\n",
       "      <th>345090</th>\n",
       "      <td>5080882</td>\n",
       "      <td>K</td>\n",
       "      <td>17.000</td>\n",
       "    </tr>\n",
       "    <tr>\n",
       "      <th>345091</th>\n",
       "      <td>5057488</td>\n",
       "      <td>Y</td>\n",
       "      <td>18.000</td>\n",
       "    </tr>\n",
       "  </tbody>\n",
       "</table>\n",
       "<p>345092 rows × 3 columns</p>\n",
       "</div>"
      ],
      "text/plain": [
       "        vehicle_id brand_code  age_control_acc_df5\n",
       "0          5317713          Z                4.000\n",
       "1          5259212          X                7.000\n",
       "2          5110414          Y               16.000\n",
       "3          5101263          X               16.000\n",
       "4          5053909          Y               18.000\n",
       "...            ...        ...                  ...\n",
       "345087     5253033          T                7.000\n",
       "345088     5174679          T               11.000\n",
       "345089     5059846          X               17.000\n",
       "345090     5080882          K               17.000\n",
       "345091     5057488          Y               18.000\n",
       "\n",
       "[345092 rows x 3 columns]"
      ]
     },
     "execution_count": 192,
     "metadata": {},
     "output_type": "execute_result"
    }
   ],
   "source": [
    "df5_1 = df5_.copy()\n",
    "drop_columns(df5_, [\"basemodel_code\", \"topmodel_code\", \"motor_gas_type\", \"gear_box_type\"])\n",
    "df5_\n",
    "# [\"basemodel_code\", \"topmodel_code\", \"motor_gas_type\", \"gear_box_type\"] gerekli olmadigi \n",
    "# (gerekli olursa df5_1den alinabilir) icin drop edildi\n",
    "# # artik join icin hazir NANlar joinden sonra degerlendirilecek"
   ]
  },
  {
   "cell_type": "code",
   "execution_count": 191,
   "id": "7a928708",
   "metadata": {},
   "outputs": [
    {
     "data": {
      "text/html": [
       "<div>\n",
       "<style scoped>\n",
       "    .dataframe tbody tr th:only-of-type {\n",
       "        vertical-align: middle;\n",
       "    }\n",
       "\n",
       "    .dataframe tbody tr th {\n",
       "        vertical-align: top;\n",
       "    }\n",
       "\n",
       "    .dataframe thead th {\n",
       "        text-align: right;\n",
       "    }\n",
       "</style>\n",
       "<table border=\"1\" class=\"dataframe\">\n",
       "  <thead>\n",
       "    <tr style=\"text-align: right;\">\n",
       "      <th></th>\n",
       "      <th>Unnamed: 0</th>\n",
       "      <th>VEHICLE_ID</th>\n",
       "      <th>TRAFFIC_DATE</th>\n",
       "      <th>BRAND_CODE</th>\n",
       "      <th>BASEMODEL_CODE</th>\n",
       "      <th>TOPMODEL_CODE</th>\n",
       "      <th>MOTOR_GAS_TYPE</th>\n",
       "      <th>GEAR_BOX_TYPE</th>\n",
       "    </tr>\n",
       "  </thead>\n",
       "  <tbody>\n",
       "    <tr>\n",
       "      <th>0</th>\n",
       "      <td>0</td>\n",
       "      <td>5317713</td>\n",
       "      <td>2017-12-07</td>\n",
       "      <td>Z</td>\n",
       "      <td>13398</td>\n",
       "      <td>9349</td>\n",
       "      <td>Benzin</td>\n",
       "      <td>Manuel</td>\n",
       "    </tr>\n",
       "    <tr>\n",
       "      <th>1</th>\n",
       "      <td>1</td>\n",
       "      <td>5259212</td>\n",
       "      <td>2014-12-09</td>\n",
       "      <td>X</td>\n",
       "      <td>15694</td>\n",
       "      <td>9524</td>\n",
       "      <td>Dizel</td>\n",
       "      <td>Otomatik (DSG)</td>\n",
       "    </tr>\n",
       "    <tr>\n",
       "      <th>2</th>\n",
       "      <td>2</td>\n",
       "      <td>5110414</td>\n",
       "      <td>2005-12-12</td>\n",
       "      <td>Y</td>\n",
       "      <td>11183</td>\n",
       "      <td>9118</td>\n",
       "      <td>Kurşunsuz Benzin</td>\n",
       "      <td>Otomatik</td>\n",
       "    </tr>\n",
       "    <tr>\n",
       "      <th>3</th>\n",
       "      <td>3</td>\n",
       "      <td>5101263</td>\n",
       "      <td>2005-08-23</td>\n",
       "      <td>X</td>\n",
       "      <td>15039</td>\n",
       "      <td>9495</td>\n",
       "      <td>Benzin</td>\n",
       "      <td>Manuel</td>\n",
       "    </tr>\n",
       "    <tr>\n",
       "      <th>4</th>\n",
       "      <td>4</td>\n",
       "      <td>5053909</td>\n",
       "      <td>2003-04-09</td>\n",
       "      <td>Y</td>\n",
       "      <td>12255</td>\n",
       "      <td>9219</td>\n",
       "      <td>NaN</td>\n",
       "      <td>NaN</td>\n",
       "    </tr>\n",
       "    <tr>\n",
       "      <th>...</th>\n",
       "      <td>...</td>\n",
       "      <td>...</td>\n",
       "      <td>...</td>\n",
       "      <td>...</td>\n",
       "      <td>...</td>\n",
       "      <td>...</td>\n",
       "      <td>...</td>\n",
       "      <td>...</td>\n",
       "    </tr>\n",
       "    <tr>\n",
       "      <th>345087</th>\n",
       "      <td>345087</td>\n",
       "      <td>5253033</td>\n",
       "      <td>2014-07-24</td>\n",
       "      <td>T</td>\n",
       "      <td>13515</td>\n",
       "      <td>9352</td>\n",
       "      <td>Benzin</td>\n",
       "      <td>Manuel</td>\n",
       "    </tr>\n",
       "    <tr>\n",
       "      <th>345088</th>\n",
       "      <td>345088</td>\n",
       "      <td>5174679</td>\n",
       "      <td>2010-05-27</td>\n",
       "      <td>T</td>\n",
       "      <td>13833</td>\n",
       "      <td>9376</td>\n",
       "      <td>Benzin</td>\n",
       "      <td>Manuel</td>\n",
       "    </tr>\n",
       "    <tr>\n",
       "      <th>345089</th>\n",
       "      <td>345089</td>\n",
       "      <td>5059846</td>\n",
       "      <td>2004-12-14</td>\n",
       "      <td>X</td>\n",
       "      <td>15316</td>\n",
       "      <td>9509</td>\n",
       "      <td>Benzin</td>\n",
       "      <td>Otomatik</td>\n",
       "    </tr>\n",
       "    <tr>\n",
       "      <th>345090</th>\n",
       "      <td>345090</td>\n",
       "      <td>5080882</td>\n",
       "      <td>2004-06-29</td>\n",
       "      <td>K</td>\n",
       "      <td>14615</td>\n",
       "      <td>9446</td>\n",
       "      <td>Dizel</td>\n",
       "      <td>Manuel</td>\n",
       "    </tr>\n",
       "    <tr>\n",
       "      <th>345091</th>\n",
       "      <td>345091</td>\n",
       "      <td>5057488</td>\n",
       "      <td>2003-11-18</td>\n",
       "      <td>Y</td>\n",
       "      <td>16308</td>\n",
       "      <td>9571</td>\n",
       "      <td>NaN</td>\n",
       "      <td>NaN</td>\n",
       "    </tr>\n",
       "  </tbody>\n",
       "</table>\n",
       "<p>345092 rows × 8 columns</p>\n",
       "</div>"
      ],
      "text/plain": [
       "        Unnamed: 0  VEHICLE_ID TRAFFIC_DATE BRAND_CODE  BASEMODEL_CODE  \\\n",
       "0                0     5317713   2017-12-07          Z           13398   \n",
       "1                1     5259212   2014-12-09          X           15694   \n",
       "2                2     5110414   2005-12-12          Y           11183   \n",
       "3                3     5101263   2005-08-23          X           15039   \n",
       "4                4     5053909   2003-04-09          Y           12255   \n",
       "...            ...         ...          ...        ...             ...   \n",
       "345087      345087     5253033   2014-07-24          T           13515   \n",
       "345088      345088     5174679   2010-05-27          T           13833   \n",
       "345089      345089     5059846   2004-12-14          X           15316   \n",
       "345090      345090     5080882   2004-06-29          K           14615   \n",
       "345091      345091     5057488   2003-11-18          Y           16308   \n",
       "\n",
       "        TOPMODEL_CODE    MOTOR_GAS_TYPE   GEAR_BOX_TYPE  \n",
       "0                9349            Benzin          Manuel  \n",
       "1                9524             Dizel  Otomatik (DSG)  \n",
       "2                9118  Kurşunsuz Benzin        Otomatik  \n",
       "3                9495            Benzin          Manuel  \n",
       "4                9219               NaN             NaN  \n",
       "...               ...               ...             ...  \n",
       "345087           9352            Benzin          Manuel  \n",
       "345088           9376            Benzin          Manuel  \n",
       "345089           9509            Benzin        Otomatik  \n",
       "345090           9446             Dizel          Manuel  \n",
       "345091           9571               NaN             NaN  \n",
       "\n",
       "[345092 rows x 8 columns]"
      ]
     },
     "execution_count": 191,
     "metadata": {},
     "output_type": "execute_result"
    }
   ],
   "source": [
    "df05_\n",
    "# baslangic hali"
   ]
  },
  {
   "cell_type": "markdown",
   "id": "2c396d54",
   "metadata": {},
   "source": [
    "# prepare df6_ to join"
   ]
  },
  {
   "cell_type": "code",
   "execution_count": null,
   "id": "3dcd3aa3",
   "metadata": {},
   "outputs": [],
   "source": []
  },
  {
   "cell_type": "markdown",
   "id": "cbc20bb7",
   "metadata": {},
   "source": [
    "# join son kontrol"
   ]
  },
  {
   "cell_type": "code",
   "execution_count": 197,
   "id": "7e30d164",
   "metadata": {},
   "outputs": [
    {
     "data": {
      "text/html": [
       "<div>\n",
       "<style scoped>\n",
       "    .dataframe tbody tr th:only-of-type {\n",
       "        vertical-align: middle;\n",
       "    }\n",
       "\n",
       "    .dataframe tbody tr th {\n",
       "        vertical-align: top;\n",
       "    }\n",
       "\n",
       "    .dataframe thead th {\n",
       "        text-align: right;\n",
       "    }\n",
       "</style>\n",
       "<table border=\"1\" class=\"dataframe\">\n",
       "  <thead>\n",
       "    <tr style=\"text-align: right;\">\n",
       "      <th></th>\n",
       "      <th>base_customer_id</th>\n",
       "      <th>gender</th>\n",
       "      <th>marital_status</th>\n",
       "      <th>age</th>\n",
       "      <th>city</th>\n",
       "      <th>occupation</th>\n",
       "    </tr>\n",
       "  </thead>\n",
       "  <tbody>\n",
       "    <tr>\n",
       "      <th>143</th>\n",
       "      <td>8017</td>\n",
       "      <td>Erkek</td>\n",
       "      <td>Other</td>\n",
       "      <td>NaN</td>\n",
       "      <td>NaN</td>\n",
       "      <td>NaN</td>\n",
       "    </tr>\n",
       "  </tbody>\n",
       "</table>\n",
       "</div>"
      ],
      "text/plain": [
       "     base_customer_id gender marital_status  age city occupation\n",
       "143              8017  Erkek          Other  NaN  NaN        NaN"
      ]
     },
     "execution_count": 197,
     "metadata": {},
     "output_type": "execute_result"
    }
   ],
   "source": [
    "df1_.head(1)"
   ]
  },
  {
   "cell_type": "code",
   "execution_count": 198,
   "id": "e627824e",
   "metadata": {},
   "outputs": [
    {
     "data": {
      "text/html": [
       "<div>\n",
       "<style scoped>\n",
       "    .dataframe tbody tr th:only-of-type {\n",
       "        vertical-align: middle;\n",
       "    }\n",
       "\n",
       "    .dataframe tbody tr th {\n",
       "        vertical-align: top;\n",
       "    }\n",
       "\n",
       "    .dataframe thead th {\n",
       "        text-align: right;\n",
       "    }\n",
       "</style>\n",
       "<table border=\"1\" class=\"dataframe\">\n",
       "  <thead>\n",
       "    <tr style=\"text-align: right;\">\n",
       "      <th></th>\n",
       "      <th>base_customer_id</th>\n",
       "      <th>vehicle_id</th>\n",
       "      <th>start_date</th>\n",
       "      <th>end_date</th>\n",
       "      <th>fk_relation_status_id</th>\n",
       "      <th>fk_relation_status_explanation</th>\n",
       "    </tr>\n",
       "  </thead>\n",
       "  <tbody>\n",
       "    <tr>\n",
       "      <th>0</th>\n",
       "      <td>189537</td>\n",
       "      <td>5321560</td>\n",
       "      <td>2018-07-24</td>\n",
       "      <td>2019-07-03</td>\n",
       "      <td>2</td>\n",
       "      <td>Pasif Ruhsat Sahibi</td>\n",
       "    </tr>\n",
       "  </tbody>\n",
       "</table>\n",
       "</div>"
      ],
      "text/plain": [
       "   base_customer_id  vehicle_id  start_date    end_date  \\\n",
       "0            189537     5321560  2018-07-24  2019-07-03   \n",
       "\n",
       "   fk_relation_status_id fk_relation_status_explanation  \n",
       "0                      2            Pasif Ruhsat Sahibi  "
      ]
     },
     "execution_count": 198,
     "metadata": {},
     "output_type": "execute_result"
    }
   ],
   "source": [
    "df2_.head(1)"
   ]
  },
  {
   "cell_type": "code",
   "execution_count": 199,
   "id": "95df9ac7",
   "metadata": {},
   "outputs": [
    {
     "data": {
      "text/html": [
       "<div>\n",
       "<style scoped>\n",
       "    .dataframe tbody tr th:only-of-type {\n",
       "        vertical-align: middle;\n",
       "    }\n",
       "\n",
       "    .dataframe tbody tr th {\n",
       "        vertical-align: top;\n",
       "    }\n",
       "\n",
       "    .dataframe thead th {\n",
       "        text-align: right;\n",
       "    }\n",
       "</style>\n",
       "<table border=\"1\" class=\"dataframe\">\n",
       "  <thead>\n",
       "    <tr style=\"text-align: right;\">\n",
       "      <th></th>\n",
       "      <th>customer_id</th>\n",
       "      <th>salesfile_id</th>\n",
       "      <th>sf_create_date</th>\n",
       "      <th>status</th>\n",
       "      <th>req_brand_code</th>\n",
       "      <th>req_topmodel_code</th>\n",
       "    </tr>\n",
       "  </thead>\n",
       "  <tbody>\n",
       "    <tr>\n",
       "      <th>0</th>\n",
       "      <td>1712792</td>\n",
       "      <td>7274467.000</td>\n",
       "      <td>2017-11-17 12:15:39</td>\n",
       "      <td>101</td>\n",
       "      <td>Y</td>\n",
       "      <td>9231.000</td>\n",
       "    </tr>\n",
       "  </tbody>\n",
       "</table>\n",
       "</div>"
      ],
      "text/plain": [
       "   customer_id  salesfile_id       sf_create_date  status req_brand_code  \\\n",
       "0      1712792   7274467.000  2017-11-17 12:15:39     101              Y   \n",
       "\n",
       "   req_topmodel_code  \n",
       "0           9231.000  "
      ]
     },
     "execution_count": 199,
     "metadata": {},
     "output_type": "execute_result"
    }
   ],
   "source": [
    "df3_.head(1)"
   ]
  },
  {
   "cell_type": "code",
   "execution_count": 200,
   "id": "c8d30738",
   "metadata": {},
   "outputs": [
    {
     "data": {
      "text/html": [
       "<div>\n",
       "<style scoped>\n",
       "    .dataframe tbody tr th:only-of-type {\n",
       "        vertical-align: middle;\n",
       "    }\n",
       "\n",
       "    .dataframe tbody tr th {\n",
       "        vertical-align: top;\n",
       "    }\n",
       "\n",
       "    .dataframe thead th {\n",
       "        text-align: right;\n",
       "    }\n",
       "</style>\n",
       "<table border=\"1\" class=\"dataframe\">\n",
       "  <thead>\n",
       "    <tr style=\"text-align: right;\">\n",
       "      <th></th>\n",
       "      <th>vehicle_id</th>\n",
       "      <th>age_control_acc_df4</th>\n",
       "    </tr>\n",
       "  </thead>\n",
       "  <tbody>\n",
       "    <tr>\n",
       "      <th>0</th>\n",
       "      <td>5015193</td>\n",
       "      <td>16</td>\n",
       "    </tr>\n",
       "  </tbody>\n",
       "</table>\n",
       "</div>"
      ],
      "text/plain": [
       "   vehicle_id  age_control_acc_df4\n",
       "0     5015193                   16"
      ]
     },
     "execution_count": 200,
     "metadata": {},
     "output_type": "execute_result"
    }
   ],
   "source": [
    "df4_.head(1)"
   ]
  },
  {
   "cell_type": "code",
   "execution_count": 201,
   "id": "b6742d5d",
   "metadata": {},
   "outputs": [
    {
     "data": {
      "text/html": [
       "<div>\n",
       "<style scoped>\n",
       "    .dataframe tbody tr th:only-of-type {\n",
       "        vertical-align: middle;\n",
       "    }\n",
       "\n",
       "    .dataframe tbody tr th {\n",
       "        vertical-align: top;\n",
       "    }\n",
       "\n",
       "    .dataframe thead th {\n",
       "        text-align: right;\n",
       "    }\n",
       "</style>\n",
       "<table border=\"1\" class=\"dataframe\">\n",
       "  <thead>\n",
       "    <tr style=\"text-align: right;\">\n",
       "      <th></th>\n",
       "      <th>vehicle_id</th>\n",
       "      <th>brand_code</th>\n",
       "      <th>age_control_acc_df5</th>\n",
       "    </tr>\n",
       "  </thead>\n",
       "  <tbody>\n",
       "    <tr>\n",
       "      <th>0</th>\n",
       "      <td>5317713</td>\n",
       "      <td>Z</td>\n",
       "      <td>4.000</td>\n",
       "    </tr>\n",
       "  </tbody>\n",
       "</table>\n",
       "</div>"
      ],
      "text/plain": [
       "   vehicle_id brand_code  age_control_acc_df5\n",
       "0     5317713          Z                4.000"
      ]
     },
     "execution_count": 201,
     "metadata": {},
     "output_type": "execute_result"
    }
   ],
   "source": [
    "df5_.head(1)"
   ]
  },
  {
   "cell_type": "code",
   "execution_count": 202,
   "id": "ca6c7ac2",
   "metadata": {},
   "outputs": [
    {
     "data": {
      "text/html": [
       "<div>\n",
       "<style scoped>\n",
       "    .dataframe tbody tr th:only-of-type {\n",
       "        vertical-align: middle;\n",
       "    }\n",
       "\n",
       "    .dataframe tbody tr th {\n",
       "        vertical-align: top;\n",
       "    }\n",
       "\n",
       "    .dataframe thead th {\n",
       "        text-align: right;\n",
       "    }\n",
       "</style>\n",
       "<table border=\"1\" class=\"dataframe\">\n",
       "  <thead>\n",
       "    <tr style=\"text-align: right;\">\n",
       "      <th></th>\n",
       "      <th>create_date</th>\n",
       "      <th>is_maintenance</th>\n",
       "      <th>vehicle_id</th>\n",
       "      <th>total_amount_tl</th>\n",
       "    </tr>\n",
       "  </thead>\n",
       "  <tbody>\n",
       "    <tr>\n",
       "      <th>0</th>\n",
       "      <td>2010-12-29 10:50:56</td>\n",
       "      <td>1</td>\n",
       "      <td>5000001</td>\n",
       "      <td>192.000</td>\n",
       "    </tr>\n",
       "  </tbody>\n",
       "</table>\n",
       "</div>"
      ],
      "text/plain": [
       "           create_date  is_maintenance  vehicle_id  total_amount_tl\n",
       "0  2010-12-29 10:50:56               1     5000001          192.000"
      ]
     },
     "execution_count": 202,
     "metadata": {},
     "output_type": "execute_result"
    }
   ],
   "source": [
    "df6_.head(1)"
   ]
  },
  {
   "cell_type": "code",
   "execution_count": 203,
   "id": "e71520f4",
   "metadata": {},
   "outputs": [
    {
     "data": {
      "text/html": [
       "<div>\n",
       "<style scoped>\n",
       "    .dataframe tbody tr th:only-of-type {\n",
       "        vertical-align: middle;\n",
       "    }\n",
       "\n",
       "    .dataframe tbody tr th {\n",
       "        vertical-align: top;\n",
       "    }\n",
       "\n",
       "    .dataframe thead th {\n",
       "        text-align: right;\n",
       "    }\n",
       "</style>\n",
       "<table border=\"1\" class=\"dataframe\">\n",
       "  <thead>\n",
       "    <tr style=\"text-align: right;\">\n",
       "      <th></th>\n",
       "      <th>base_customer_id</th>\n",
       "    </tr>\n",
       "  </thead>\n",
       "  <tbody>\n",
       "    <tr>\n",
       "      <th>0</th>\n",
       "      <td>168254</td>\n",
       "    </tr>\n",
       "  </tbody>\n",
       "</table>\n",
       "</div>"
      ],
      "text/plain": [
       "   base_customer_id\n",
       "0            168254"
      ]
     },
     "execution_count": 203,
     "metadata": {},
     "output_type": "execute_result"
    }
   ],
   "source": [
    "df7_.head(1)"
   ]
  },
  {
   "cell_type": "code",
   "execution_count": 204,
   "id": "87c165ba",
   "metadata": {},
   "outputs": [
    {
     "name": "stdout",
     "output_type": "stream",
     "text": [
      "(196564, 6)\n",
      "(374879, 6)\n",
      "(397526, 6)\n",
      "(169521, 2)\n",
      "(345092, 3)\n",
      "(1041000, 4)\n",
      "(166943, 1)\n"
     ]
    }
   ],
   "source": [
    "print(df1_.shape)\n",
    "\n",
    "print(df2_.shape)\n",
    "\n",
    "print(df3_.shape)\n",
    "\n",
    "print(df4_.shape)\n",
    "\n",
    "print(df5_.shape)\n",
    "\n",
    "print(df6_.shape)\n",
    "\n",
    "print(df7_.shape)"
   ]
  },
  {
   "cell_type": "markdown",
   "id": "0a4cf026",
   "metadata": {},
   "source": [
    "# join baslangic"
   ]
  },
  {
   "cell_type": "code",
   "execution_count": null,
   "id": "53aacdc5",
   "metadata": {},
   "outputs": [],
   "source": []
  },
  {
   "cell_type": "markdown",
   "id": "3ec88675",
   "metadata": {},
   "source": [
    "# v01den kalan calismalar"
   ]
  },
  {
   "cell_type": "code",
   "execution_count": 774,
   "id": "923d0a38",
   "metadata": {
    "scrolled": true
   },
   "outputs": [
    {
     "data": {
      "text/plain": [
       "(166943, 1)"
      ]
     },
     "execution_count": 774,
     "metadata": {},
     "output_type": "execute_result"
    }
   ],
   "source": [
    "df7_.shape"
   ]
  },
  {
   "cell_type": "code",
   "execution_count": 775,
   "id": "4d114a8a",
   "metadata": {},
   "outputs": [
    {
     "data": {
      "text/html": [
       "<div>\n",
       "<style scoped>\n",
       "    .dataframe tbody tr th:only-of-type {\n",
       "        vertical-align: middle;\n",
       "    }\n",
       "\n",
       "    .dataframe tbody tr th {\n",
       "        vertical-align: top;\n",
       "    }\n",
       "\n",
       "    .dataframe thead th {\n",
       "        text-align: right;\n",
       "    }\n",
       "</style>\n",
       "<table border=\"1\" class=\"dataframe\">\n",
       "  <thead>\n",
       "    <tr style=\"text-align: right;\">\n",
       "      <th></th>\n",
       "      <th>base_customer_id</th>\n",
       "    </tr>\n",
       "  </thead>\n",
       "  <tbody>\n",
       "    <tr>\n",
       "      <th>0</th>\n",
       "      <td>168254</td>\n",
       "    </tr>\n",
       "    <tr>\n",
       "      <th>1</th>\n",
       "      <td>124747</td>\n",
       "    </tr>\n",
       "  </tbody>\n",
       "</table>\n",
       "</div>"
      ],
      "text/plain": [
       "   base_customer_id\n",
       "0            168254\n",
       "1            124747"
      ]
     },
     "execution_count": 775,
     "metadata": {},
     "output_type": "execute_result"
    }
   ],
   "source": [
    "df7_.head(2)"
   ]
  },
  {
   "cell_type": "code",
   "execution_count": 776,
   "id": "fd549db0",
   "metadata": {},
   "outputs": [
    {
     "data": {
      "text/plain": [
       "166943"
      ]
     },
     "execution_count": 776,
     "metadata": {},
     "output_type": "execute_result"
    }
   ],
   "source": [
    "df7_[\"base_customer_id\"].nunique()"
   ]
  },
  {
   "cell_type": "code",
   "execution_count": 777,
   "id": "79ce3faa",
   "metadata": {},
   "outputs": [
    {
     "data": {
      "text/plain": [
       "166943"
      ]
     },
     "execution_count": 777,
     "metadata": {},
     "output_type": "execute_result"
    }
   ],
   "source": [
    "df_ = df7_.merge(df1_, on=\"base_customer_id\", how='left')\n",
    "df_[\"base_customer_id\"].nunique()"
   ]
  },
  {
   "cell_type": "code",
   "execution_count": 778,
   "id": "f436780c",
   "metadata": {},
   "outputs": [
    {
     "data": {
      "text/plain": [
       "(714249, 7)"
      ]
     },
     "execution_count": 778,
     "metadata": {},
     "output_type": "execute_result"
    }
   ],
   "source": [
    "df_.shape"
   ]
  },
  {
   "cell_type": "code",
   "execution_count": 779,
   "id": "f6c9b281",
   "metadata": {},
   "outputs": [
    {
     "data": {
      "text/plain": [
       "135670"
      ]
     },
     "execution_count": 779,
     "metadata": {},
     "output_type": "execute_result"
    }
   ],
   "source": [
    "849919-714249  # df1-df_\n",
    "# df1deki 135670 adet veri girisi bizim sample_submission yapacagimiz kisilere ait degil"
   ]
  },
  {
   "cell_type": "code",
   "execution_count": 780,
   "id": "568d1828",
   "metadata": {
    "scrolled": true
   },
   "outputs": [
    {
     "data": {
      "text/plain": [
       "Aktif Ruhsat Sahibi    215122\n",
       "Pasif Ruhsat Sahibi    159757\n",
       "Name: fk_relation_status_explanation, dtype: int64"
      ]
     },
     "execution_count": 780,
     "metadata": {},
     "output_type": "execute_result"
    }
   ],
   "source": [
    "df2_[\"fk_relation_status_explanation\"].value_counts()"
   ]
  },
  {
   "cell_type": "code",
   "execution_count": 781,
   "id": "32d04391",
   "metadata": {},
   "outputs": [],
   "source": [
    "df2__ = df2_[df2_[\"fk_relation_status_explanation\"]==\"Aktif Ruhsat Sahibi\"][\"base_customer_id\"].unique()"
   ]
  },
  {
   "cell_type": "code",
   "execution_count": 782,
   "id": "9c8ce053",
   "metadata": {},
   "outputs": [
    {
     "data": {
      "text/plain": [
       "166943"
      ]
     },
     "execution_count": 782,
     "metadata": {},
     "output_type": "execute_result"
    }
   ],
   "source": [
    "len(df2__)"
   ]
  },
  {
   "cell_type": "code",
   "execution_count": 783,
   "id": "fab0d709",
   "metadata": {},
   "outputs": [
    {
     "data": {
      "text/plain": [
       "array([     1,      2,      3, ..., 196559, 196560, 196563], dtype=int64)"
      ]
     },
     "execution_count": 783,
     "metadata": {},
     "output_type": "execute_result"
    }
   ],
   "source": [
    "np.sort(df2__)"
   ]
  },
  {
   "cell_type": "code",
   "execution_count": 784,
   "id": "6eaf4847",
   "metadata": {},
   "outputs": [
    {
     "data": {
      "text/plain": [
       "40570     1\n",
       "131267    2\n",
       "68238     3\n",
       "Name: base_customer_id, dtype: int64"
      ]
     },
     "execution_count": 784,
     "metadata": {},
     "output_type": "execute_result"
    }
   ],
   "source": [
    "df7_[\"base_customer_id\"].sort_values().head(3)"
   ]
  },
  {
   "cell_type": "code",
   "execution_count": 785,
   "id": "003feb88",
   "metadata": {},
   "outputs": [
    {
     "data": {
      "text/plain": [
       "141974    196559\n",
       "92600     196560\n",
       "148887    196563\n",
       "Name: base_customer_id, dtype: int64"
      ]
     },
     "execution_count": 785,
     "metadata": {},
     "output_type": "execute_result"
    }
   ],
   "source": [
    "df7_[\"base_customer_id\"].sort_values().tail(3)"
   ]
  },
  {
   "cell_type": "code",
   "execution_count": 786,
   "id": "19879862",
   "metadata": {},
   "outputs": [
    {
     "data": {
      "text/plain": [
       "166943"
      ]
     },
     "execution_count": 786,
     "metadata": {},
     "output_type": "execute_result"
    }
   ],
   "source": [
    "len(df7_)"
   ]
  },
  {
   "cell_type": "code",
   "execution_count": 787,
   "id": "b1264762",
   "metadata": {},
   "outputs": [
    {
     "data": {
      "text/plain": [
       "True    166943\n",
       "Name: base_customer_id, dtype: int64"
      ]
     },
     "execution_count": 787,
     "metadata": {},
     "output_type": "execute_result"
    }
   ],
   "source": [
    "(np.sort(df2__)==df7_[\"base_customer_id\"].sort_values()).value_counts()\n",
    "# df7_ ile df2_ deki BCIDler birebir ayni, sorun yok; df2_'de 166943 unique BCID ve \n",
    "# bu kisilere ait toplam 215122 adet aktif ruhsatli arac ve bu araclarin VehicleIDleri var, \n",
    "# ayrica yine bu kisilere ait ~309000-215122 adet Pasif Ruhsatli arac ve bu araclarin VehicleIDleri var."
   ]
  },
  {
   "cell_type": "code",
   "execution_count": 788,
   "id": "f5a32ace",
   "metadata": {},
   "outputs": [
    {
     "data": {
      "text/html": [
       "<div>\n",
       "<style scoped>\n",
       "    .dataframe tbody tr th:only-of-type {\n",
       "        vertical-align: middle;\n",
       "    }\n",
       "\n",
       "    .dataframe tbody tr th {\n",
       "        vertical-align: top;\n",
       "    }\n",
       "\n",
       "    .dataframe thead th {\n",
       "        text-align: right;\n",
       "    }\n",
       "</style>\n",
       "<table border=\"1\" class=\"dataframe\">\n",
       "  <thead>\n",
       "    <tr style=\"text-align: right;\">\n",
       "      <th></th>\n",
       "      <th>base_customer_id</th>\n",
       "      <th>vehicle_id</th>\n",
       "    </tr>\n",
       "  </thead>\n",
       "  <tbody>\n",
       "    <tr>\n",
       "      <th>1</th>\n",
       "      <td>110802</td>\n",
       "      <td>5329278</td>\n",
       "    </tr>\n",
       "    <tr>\n",
       "      <th>2</th>\n",
       "      <td>160615</td>\n",
       "      <td>5329282</td>\n",
       "    </tr>\n",
       "    <tr>\n",
       "      <th>3</th>\n",
       "      <td>115664</td>\n",
       "      <td>5328513</td>\n",
       "    </tr>\n",
       "    <tr>\n",
       "      <th>4</th>\n",
       "      <td>81061</td>\n",
       "      <td>5322264</td>\n",
       "    </tr>\n",
       "    <tr>\n",
       "      <th>5</th>\n",
       "      <td>127152</td>\n",
       "      <td>5322205</td>\n",
       "    </tr>\n",
       "    <tr>\n",
       "      <th>...</th>\n",
       "      <td>...</td>\n",
       "      <td>...</td>\n",
       "    </tr>\n",
       "    <tr>\n",
       "      <th>374870</th>\n",
       "      <td>168053</td>\n",
       "      <td>5179442</td>\n",
       "    </tr>\n",
       "    <tr>\n",
       "      <th>374874</th>\n",
       "      <td>154304</td>\n",
       "      <td>5179455</td>\n",
       "    </tr>\n",
       "    <tr>\n",
       "      <th>374875</th>\n",
       "      <td>75199</td>\n",
       "      <td>5180458</td>\n",
       "    </tr>\n",
       "    <tr>\n",
       "      <th>374876</th>\n",
       "      <td>9036</td>\n",
       "      <td>5177679</td>\n",
       "    </tr>\n",
       "    <tr>\n",
       "      <th>374877</th>\n",
       "      <td>33936</td>\n",
       "      <td>5172864</td>\n",
       "    </tr>\n",
       "  </tbody>\n",
       "</table>\n",
       "<p>215122 rows × 2 columns</p>\n",
       "</div>"
      ],
      "text/plain": [
       "        base_customer_id  vehicle_id\n",
       "1                 110802     5329278\n",
       "2                 160615     5329282\n",
       "3                 115664     5328513\n",
       "4                  81061     5322264\n",
       "5                 127152     5322205\n",
       "...                  ...         ...\n",
       "374870            168053     5179442\n",
       "374874            154304     5179455\n",
       "374875             75199     5180458\n",
       "374876              9036     5177679\n",
       "374877             33936     5172864\n",
       "\n",
       "[215122 rows x 2 columns]"
      ]
     },
     "execution_count": 788,
     "metadata": {},
     "output_type": "execute_result"
    }
   ],
   "source": [
    "df2_[df2_[\"fk_relation_status_explanation\"]==\"Aktif Ruhsat Sahibi\"][[\"base_customer_id\",\"vehicle_id\"]]\n",
    "# df2_ 166943 unique BCID ve \n",
    "# bu kisilere ait toplam 215122 adet aktif ruhsatli arac ve VehicleIDleri var \n",
    "# en onemli kitle hem kapali hem acik ruhsatli arac bilgisi olan bu kisiler olabilir\n",
    "# bunlarin disinda yaklasik 30bin kisinin sadece kapali ruhsatli araci var\n",
    "# bu kisiler dogus otomotivde aktif kayitli olmayabilirler ancak daha once birsekilde kayda girmisler \n",
    "# tekrar musteri olabilirler"
   ]
  },
  {
   "cell_type": "code",
   "execution_count": 789,
   "id": "a1980b19",
   "metadata": {},
   "outputs": [
    {
     "data": {
      "text/plain": [
       "Aktif Ruhsat Sahibi    215122\n",
       "Pasif Ruhsat Sahibi    159757\n",
       "Name: fk_relation_status_explanation, dtype: int64"
      ]
     },
     "execution_count": 789,
     "metadata": {},
     "output_type": "execute_result"
    }
   ],
   "source": [
    "df2_[\"fk_relation_status_explanation\"].value_counts(dropna=False)"
   ]
  },
  {
   "cell_type": "code",
   "execution_count": 790,
   "id": "100f9126",
   "metadata": {},
   "outputs": [
    {
     "data": {
      "text/plain": [
       "(374879, 6)"
      ]
     },
     "execution_count": 790,
     "metadata": {},
     "output_type": "execute_result"
    }
   ],
   "source": [
    "df2_.shape"
   ]
  },
  {
   "cell_type": "code",
   "execution_count": 791,
   "id": "e0db3c1d",
   "metadata": {},
   "outputs": [
    {
     "data": {
      "text/plain": [
       "196538"
      ]
     },
     "execution_count": 791,
     "metadata": {},
     "output_type": "execute_result"
    }
   ],
   "source": [
    "df2_[\"base_customer_id\"].nunique()"
   ]
  },
  {
   "cell_type": "code",
   "execution_count": 792,
   "id": "47ca7cab",
   "metadata": {},
   "outputs": [
    {
     "data": {
      "text/html": [
       "<div>\n",
       "<style scoped>\n",
       "    .dataframe tbody tr th:only-of-type {\n",
       "        vertical-align: middle;\n",
       "    }\n",
       "\n",
       "    .dataframe tbody tr th {\n",
       "        vertical-align: top;\n",
       "    }\n",
       "\n",
       "    .dataframe thead th {\n",
       "        text-align: right;\n",
       "    }\n",
       "</style>\n",
       "<table border=\"1\" class=\"dataframe\">\n",
       "  <thead>\n",
       "    <tr style=\"text-align: right;\">\n",
       "      <th></th>\n",
       "      <th>base_customer_id</th>\n",
       "      <th>vehicle_id</th>\n",
       "      <th>start_date</th>\n",
       "      <th>end_date</th>\n",
       "      <th>fk_relation_status_id</th>\n",
       "      <th>fk_relation_status_explanation</th>\n",
       "    </tr>\n",
       "  </thead>\n",
       "  <tbody>\n",
       "    <tr>\n",
       "      <th>1</th>\n",
       "      <td>110802</td>\n",
       "      <td>5329278</td>\n",
       "      <td>2019-07-16</td>\n",
       "      <td>NaN</td>\n",
       "      <td>1</td>\n",
       "      <td>Aktif Ruhsat Sahibi</td>\n",
       "    </tr>\n",
       "    <tr>\n",
       "      <th>2</th>\n",
       "      <td>160615</td>\n",
       "      <td>5329282</td>\n",
       "      <td>2019-09-12</td>\n",
       "      <td>NaN</td>\n",
       "      <td>1</td>\n",
       "      <td>Aktif Ruhsat Sahibi</td>\n",
       "    </tr>\n",
       "    <tr>\n",
       "      <th>3</th>\n",
       "      <td>115664</td>\n",
       "      <td>5328513</td>\n",
       "      <td>2019-02-25</td>\n",
       "      <td>NaN</td>\n",
       "      <td>1</td>\n",
       "      <td>Aktif Ruhsat Sahibi</td>\n",
       "    </tr>\n",
       "    <tr>\n",
       "      <th>4</th>\n",
       "      <td>81061</td>\n",
       "      <td>5322264</td>\n",
       "      <td>2018-04-16</td>\n",
       "      <td>NaN</td>\n",
       "      <td>1</td>\n",
       "      <td>Aktif Ruhsat Sahibi</td>\n",
       "    </tr>\n",
       "    <tr>\n",
       "      <th>5</th>\n",
       "      <td>127152</td>\n",
       "      <td>5322205</td>\n",
       "      <td>2021-04-12</td>\n",
       "      <td>NaN</td>\n",
       "      <td>1</td>\n",
       "      <td>Aktif Ruhsat Sahibi</td>\n",
       "    </tr>\n",
       "    <tr>\n",
       "      <th>...</th>\n",
       "      <td>...</td>\n",
       "      <td>...</td>\n",
       "      <td>...</td>\n",
       "      <td>...</td>\n",
       "      <td>...</td>\n",
       "      <td>...</td>\n",
       "    </tr>\n",
       "    <tr>\n",
       "      <th>374870</th>\n",
       "      <td>168053</td>\n",
       "      <td>5179442</td>\n",
       "      <td>2013-06-25</td>\n",
       "      <td>NaN</td>\n",
       "      <td>1</td>\n",
       "      <td>Aktif Ruhsat Sahibi</td>\n",
       "    </tr>\n",
       "    <tr>\n",
       "      <th>374874</th>\n",
       "      <td>154304</td>\n",
       "      <td>5179455</td>\n",
       "      <td>2010-10-19</td>\n",
       "      <td>NaN</td>\n",
       "      <td>1</td>\n",
       "      <td>Aktif Ruhsat Sahibi</td>\n",
       "    </tr>\n",
       "    <tr>\n",
       "      <th>374875</th>\n",
       "      <td>75199</td>\n",
       "      <td>5180458</td>\n",
       "      <td>2019-01-02</td>\n",
       "      <td>NaN</td>\n",
       "      <td>1</td>\n",
       "      <td>Aktif Ruhsat Sahibi</td>\n",
       "    </tr>\n",
       "    <tr>\n",
       "      <th>374876</th>\n",
       "      <td>9036</td>\n",
       "      <td>5177679</td>\n",
       "      <td>2012-05-28</td>\n",
       "      <td>NaN</td>\n",
       "      <td>1</td>\n",
       "      <td>Aktif Ruhsat Sahibi</td>\n",
       "    </tr>\n",
       "    <tr>\n",
       "      <th>374877</th>\n",
       "      <td>33936</td>\n",
       "      <td>5172864</td>\n",
       "      <td>2014-08-16</td>\n",
       "      <td>NaN</td>\n",
       "      <td>1</td>\n",
       "      <td>Aktif Ruhsat Sahibi</td>\n",
       "    </tr>\n",
       "  </tbody>\n",
       "</table>\n",
       "<p>215122 rows × 6 columns</p>\n",
       "</div>"
      ],
      "text/plain": [
       "        base_customer_id  vehicle_id  start_date end_date  \\\n",
       "1                 110802     5329278  2019-07-16      NaN   \n",
       "2                 160615     5329282  2019-09-12      NaN   \n",
       "3                 115664     5328513  2019-02-25      NaN   \n",
       "4                  81061     5322264  2018-04-16      NaN   \n",
       "5                 127152     5322205  2021-04-12      NaN   \n",
       "...                  ...         ...         ...      ...   \n",
       "374870            168053     5179442  2013-06-25      NaN   \n",
       "374874            154304     5179455  2010-10-19      NaN   \n",
       "374875             75199     5180458  2019-01-02      NaN   \n",
       "374876              9036     5177679  2012-05-28      NaN   \n",
       "374877             33936     5172864  2014-08-16      NaN   \n",
       "\n",
       "        fk_relation_status_id fk_relation_status_explanation  \n",
       "1                           1            Aktif Ruhsat Sahibi  \n",
       "2                           1            Aktif Ruhsat Sahibi  \n",
       "3                           1            Aktif Ruhsat Sahibi  \n",
       "4                           1            Aktif Ruhsat Sahibi  \n",
       "5                           1            Aktif Ruhsat Sahibi  \n",
       "...                       ...                            ...  \n",
       "374870                      1            Aktif Ruhsat Sahibi  \n",
       "374874                      1            Aktif Ruhsat Sahibi  \n",
       "374875                      1            Aktif Ruhsat Sahibi  \n",
       "374876                      1            Aktif Ruhsat Sahibi  \n",
       "374877                      1            Aktif Ruhsat Sahibi  \n",
       "\n",
       "[215122 rows x 6 columns]"
      ]
     },
     "execution_count": 792,
     "metadata": {},
     "output_type": "execute_result"
    }
   ],
   "source": [
    "df2_[df2_[\"fk_relation_status_explanation\"]==\"Aktif Ruhsat Sahibi\"]"
   ]
  },
  {
   "cell_type": "code",
   "execution_count": 793,
   "id": "8c1f9b65",
   "metadata": {},
   "outputs": [
    {
     "data": {
      "text/html": [
       "<div>\n",
       "<style scoped>\n",
       "    .dataframe tbody tr th:only-of-type {\n",
       "        vertical-align: middle;\n",
       "    }\n",
       "\n",
       "    .dataframe tbody tr th {\n",
       "        vertical-align: top;\n",
       "    }\n",
       "\n",
       "    .dataframe thead th {\n",
       "        text-align: right;\n",
       "    }\n",
       "</style>\n",
       "<table border=\"1\" class=\"dataframe\">\n",
       "  <thead>\n",
       "    <tr style=\"text-align: right;\">\n",
       "      <th></th>\n",
       "      <th>base_customer_id</th>\n",
       "      <th>vehicle_id</th>\n",
       "      <th>start_date</th>\n",
       "      <th>end_date</th>\n",
       "      <th>fk_relation_status_id</th>\n",
       "      <th>fk_relation_status_explanation</th>\n",
       "    </tr>\n",
       "  </thead>\n",
       "  <tbody>\n",
       "    <tr>\n",
       "      <th>0</th>\n",
       "      <td>189537</td>\n",
       "      <td>5321560</td>\n",
       "      <td>2018-07-24</td>\n",
       "      <td>2019-07-03</td>\n",
       "      <td>2</td>\n",
       "      <td>Pasif Ruhsat Sahibi</td>\n",
       "    </tr>\n",
       "    <tr>\n",
       "      <th>6</th>\n",
       "      <td>153835</td>\n",
       "      <td>5322205</td>\n",
       "      <td>2018-06-05</td>\n",
       "      <td>2019-06-21</td>\n",
       "      <td>2</td>\n",
       "      <td>Pasif Ruhsat Sahibi</td>\n",
       "    </tr>\n",
       "    <tr>\n",
       "      <th>10</th>\n",
       "      <td>164581</td>\n",
       "      <td>5321370</td>\n",
       "      <td>2020-04-29</td>\n",
       "      <td>2020-08-07</td>\n",
       "      <td>2</td>\n",
       "      <td>Pasif Ruhsat Sahibi</td>\n",
       "    </tr>\n",
       "    <tr>\n",
       "      <th>11</th>\n",
       "      <td>111788</td>\n",
       "      <td>5321488</td>\n",
       "      <td>2018-02-07</td>\n",
       "      <td>2019-02-26</td>\n",
       "      <td>2</td>\n",
       "      <td>Pasif Ruhsat Sahibi</td>\n",
       "    </tr>\n",
       "    <tr>\n",
       "      <th>16</th>\n",
       "      <td>154311</td>\n",
       "      <td>5326120</td>\n",
       "      <td>2018-10-31</td>\n",
       "      <td>2019-12-11</td>\n",
       "      <td>2</td>\n",
       "      <td>Pasif Ruhsat Sahibi</td>\n",
       "    </tr>\n",
       "    <tr>\n",
       "      <th>...</th>\n",
       "      <td>...</td>\n",
       "      <td>...</td>\n",
       "      <td>...</td>\n",
       "      <td>...</td>\n",
       "      <td>...</td>\n",
       "      <td>...</td>\n",
       "    </tr>\n",
       "    <tr>\n",
       "      <th>374869</th>\n",
       "      <td>168053</td>\n",
       "      <td>5179442</td>\n",
       "      <td>2010-09-14</td>\n",
       "      <td>2011-11-24</td>\n",
       "      <td>2</td>\n",
       "      <td>Pasif Ruhsat Sahibi</td>\n",
       "    </tr>\n",
       "    <tr>\n",
       "      <th>374871</th>\n",
       "      <td>93551</td>\n",
       "      <td>5188087</td>\n",
       "      <td>2019-06-26</td>\n",
       "      <td>2019-06-29</td>\n",
       "      <td>2</td>\n",
       "      <td>Pasif Ruhsat Sahibi</td>\n",
       "    </tr>\n",
       "    <tr>\n",
       "      <th>374872</th>\n",
       "      <td>157467</td>\n",
       "      <td>5188087</td>\n",
       "      <td>2013-07-22</td>\n",
       "      <td>2014-06-12</td>\n",
       "      <td>2</td>\n",
       "      <td>Pasif Ruhsat Sahibi</td>\n",
       "    </tr>\n",
       "    <tr>\n",
       "      <th>374873</th>\n",
       "      <td>133546</td>\n",
       "      <td>5178752</td>\n",
       "      <td>2014-01-31</td>\n",
       "      <td>2014-03-19</td>\n",
       "      <td>2</td>\n",
       "      <td>Pasif Ruhsat Sahibi</td>\n",
       "    </tr>\n",
       "    <tr>\n",
       "      <th>374878</th>\n",
       "      <td>91144</td>\n",
       "      <td>5189133</td>\n",
       "      <td>2012-01-13</td>\n",
       "      <td>2013-01-25</td>\n",
       "      <td>2</td>\n",
       "      <td>Pasif Ruhsat Sahibi</td>\n",
       "    </tr>\n",
       "  </tbody>\n",
       "</table>\n",
       "<p>159757 rows × 6 columns</p>\n",
       "</div>"
      ],
      "text/plain": [
       "        base_customer_id  vehicle_id  start_date    end_date  \\\n",
       "0                 189537     5321560  2018-07-24  2019-07-03   \n",
       "6                 153835     5322205  2018-06-05  2019-06-21   \n",
       "10                164581     5321370  2020-04-29  2020-08-07   \n",
       "11                111788     5321488  2018-02-07  2019-02-26   \n",
       "16                154311     5326120  2018-10-31  2019-12-11   \n",
       "...                  ...         ...         ...         ...   \n",
       "374869            168053     5179442  2010-09-14  2011-11-24   \n",
       "374871             93551     5188087  2019-06-26  2019-06-29   \n",
       "374872            157467     5188087  2013-07-22  2014-06-12   \n",
       "374873            133546     5178752  2014-01-31  2014-03-19   \n",
       "374878             91144     5189133  2012-01-13  2013-01-25   \n",
       "\n",
       "        fk_relation_status_id fk_relation_status_explanation  \n",
       "0                           2            Pasif Ruhsat Sahibi  \n",
       "6                           2            Pasif Ruhsat Sahibi  \n",
       "10                          2            Pasif Ruhsat Sahibi  \n",
       "11                          2            Pasif Ruhsat Sahibi  \n",
       "16                          2            Pasif Ruhsat Sahibi  \n",
       "...                       ...                            ...  \n",
       "374869                      2            Pasif Ruhsat Sahibi  \n",
       "374871                      2            Pasif Ruhsat Sahibi  \n",
       "374872                      2            Pasif Ruhsat Sahibi  \n",
       "374873                      2            Pasif Ruhsat Sahibi  \n",
       "374878                      2            Pasif Ruhsat Sahibi  \n",
       "\n",
       "[159757 rows x 6 columns]"
      ]
     },
     "execution_count": 793,
     "metadata": {},
     "output_type": "execute_result"
    }
   ],
   "source": [
    "df2_[df2_[\"fk_relation_status_explanation\"]==\"Pasif Ruhsat Sahibi\"]"
   ]
  },
  {
   "cell_type": "code",
   "execution_count": 794,
   "id": "bafc1810",
   "metadata": {},
   "outputs": [
    {
     "data": {
      "text/plain": [
       "1         110802\n",
       "2         160615\n",
       "3         115664\n",
       "4          81061\n",
       "5         127152\n",
       "           ...  \n",
       "374870    168053\n",
       "374874    154304\n",
       "374875     75199\n",
       "374876      9036\n",
       "374877     33936\n",
       "Name: base_customer_id, Length: 215122, dtype: int64"
      ]
     },
     "execution_count": 794,
     "metadata": {},
     "output_type": "execute_result"
    }
   ],
   "source": [
    "df2_aktifID = df2_[df2_[\"fk_relation_status_explanation\"]==\"Aktif Ruhsat Sahibi\"][\"base_customer_id\"]\n",
    "df2_aktifID"
   ]
  },
  {
   "cell_type": "code",
   "execution_count": 795,
   "id": "deae1ecb",
   "metadata": {},
   "outputs": [
    {
     "data": {
      "text/plain": [
       "166943"
      ]
     },
     "execution_count": 795,
     "metadata": {},
     "output_type": "execute_result"
    }
   ],
   "source": [
    "df2_aktifID.nunique()"
   ]
  },
  {
   "cell_type": "code",
   "execution_count": 796,
   "id": "4c3035d9",
   "metadata": {},
   "outputs": [
    {
     "data": {
      "text/plain": [
       "0         189537\n",
       "6         153835\n",
       "10        164581\n",
       "11        111788\n",
       "16        154311\n",
       "           ...  \n",
       "374869    168053\n",
       "374871     93551\n",
       "374872    157467\n",
       "374873    133546\n",
       "374878     91144\n",
       "Name: base_customer_id, Length: 159757, dtype: int64"
      ]
     },
     "execution_count": 796,
     "metadata": {},
     "output_type": "execute_result"
    }
   ],
   "source": [
    "df2_pasifID = df2_[df2_[\"fk_relation_status_explanation\"]==\"Pasif Ruhsat Sahibi\"][\"base_customer_id\"]\n",
    "df2_pasifID "
   ]
  },
  {
   "cell_type": "code",
   "execution_count": 797,
   "id": "00a25352",
   "metadata": {},
   "outputs": [
    {
     "data": {
      "text/plain": [
       "85757"
      ]
     },
     "execution_count": 797,
     "metadata": {},
     "output_type": "execute_result"
    }
   ],
   "source": [
    "df2_pasifID.nunique()"
   ]
  },
  {
   "cell_type": "code",
   "execution_count": 798,
   "id": "29fca403",
   "metadata": {},
   "outputs": [
    {
     "name": "stdout",
     "output_type": "stream",
     "text": [
      "196538\n",
      "aktif 166943\n",
      "pasif 85757\n"
     ]
    }
   ],
   "source": [
    "print(df2_[\"base_customer_id\"].nunique())\n",
    "print(\"aktif\", df2_aktifID.nunique())\n",
    "print(\"pasif\", df2_pasifID.nunique())"
   ]
  },
  {
   "cell_type": "code",
   "execution_count": 799,
   "id": "e5e5e92d",
   "metadata": {},
   "outputs": [
    {
     "data": {
      "text/plain": [
       "196538"
      ]
     },
     "execution_count": 799,
     "metadata": {},
     "output_type": "execute_result"
    }
   ],
   "source": [
    "166943+85757-56162"
   ]
  },
  {
   "attachments": {
    "image.png": {
     "image/png": "[encoded data removed]"
    }
   },
   "cell_type": "markdown",
   "id": "39b9fd21",
   "metadata": {},
   "source": [
    "![image.png](attachment:image.png)"
   ]
  },
  {
   "cell_type": "code",
   "execution_count": 800,
   "id": "a92fc0ce",
   "metadata": {},
   "outputs": [],
   "source": [
    "# df_diff = pd.concat([df2_aktifID , df2_pasifID ]).drop_duplicates(keep=False)\n",
    "# df_diff"
   ]
  },
  {
   "cell_type": "code",
   "execution_count": 801,
   "id": "d6fa99c1",
   "metadata": {},
   "outputs": [
    {
     "data": {
      "text/plain": [
       "Aktif Ruhsat Sahibi    215122\n",
       "Pasif Ruhsat Sahibi    159757\n",
       "Name: fk_relation_status_explanation, dtype: int64"
      ]
     },
     "execution_count": 801,
     "metadata": {},
     "output_type": "execute_result"
    }
   ],
   "source": [
    "df2_[\"fk_relation_status_explanation\"].value_counts(dropna=False)"
   ]
  },
  {
   "cell_type": "code",
   "execution_count": 802,
   "id": "74a051b0",
   "metadata": {},
   "outputs": [
    {
     "data": {
      "text/plain": [
       "196538"
      ]
     },
     "execution_count": 802,
     "metadata": {},
     "output_type": "execute_result"
    }
   ],
   "source": [
    "df2_[\"base_customer_id\"].nunique()"
   ]
  },
  {
   "cell_type": "code",
   "execution_count": 803,
   "id": "7ad5f0b9",
   "metadata": {},
   "outputs": [
    {
     "data": {
      "text/plain": [
       "(374879, 6)"
      ]
     },
     "execution_count": 803,
     "metadata": {},
     "output_type": "execute_result"
    }
   ],
   "source": [
    "df2_.shape"
   ]
  },
  {
   "cell_type": "code",
   "execution_count": 804,
   "id": "df6ea031",
   "metadata": {},
   "outputs": [
    {
     "data": {
      "text/html": [
       "<div>\n",
       "<style scoped>\n",
       "    .dataframe tbody tr th:only-of-type {\n",
       "        vertical-align: middle;\n",
       "    }\n",
       "\n",
       "    .dataframe tbody tr th {\n",
       "        vertical-align: top;\n",
       "    }\n",
       "\n",
       "    .dataframe thead th {\n",
       "        text-align: right;\n",
       "    }\n",
       "</style>\n",
       "<table border=\"1\" class=\"dataframe\">\n",
       "  <thead>\n",
       "    <tr style=\"text-align: right;\">\n",
       "      <th></th>\n",
       "      <th>base_customer_id</th>\n",
       "    </tr>\n",
       "  </thead>\n",
       "  <tbody>\n",
       "    <tr>\n",
       "      <th>0</th>\n",
       "      <td>160615</td>\n",
       "    </tr>\n",
       "    <tr>\n",
       "      <th>1</th>\n",
       "      <td>160615</td>\n",
       "    </tr>\n",
       "    <tr>\n",
       "      <th>2</th>\n",
       "      <td>160615</td>\n",
       "    </tr>\n",
       "    <tr>\n",
       "      <th>3</th>\n",
       "      <td>160615</td>\n",
       "    </tr>\n",
       "    <tr>\n",
       "      <th>4</th>\n",
       "      <td>160615</td>\n",
       "    </tr>\n",
       "    <tr>\n",
       "      <th>...</th>\n",
       "      <td>...</td>\n",
       "    </tr>\n",
       "    <tr>\n",
       "      <th>410450</th>\n",
       "      <td>33936</td>\n",
       "    </tr>\n",
       "    <tr>\n",
       "      <th>410451</th>\n",
       "      <td>33936</td>\n",
       "    </tr>\n",
       "    <tr>\n",
       "      <th>410452</th>\n",
       "      <td>33936</td>\n",
       "    </tr>\n",
       "    <tr>\n",
       "      <th>410453</th>\n",
       "      <td>33936</td>\n",
       "    </tr>\n",
       "    <tr>\n",
       "      <th>410454</th>\n",
       "      <td>33936</td>\n",
       "    </tr>\n",
       "  </tbody>\n",
       "</table>\n",
       "<p>410455 rows × 1 columns</p>\n",
       "</div>"
      ],
      "text/plain": [
       "        base_customer_id\n",
       "0                 160615\n",
       "1                 160615\n",
       "2                 160615\n",
       "3                 160615\n",
       "4                 160615\n",
       "...                  ...\n",
       "410450             33936\n",
       "410451             33936\n",
       "410452             33936\n",
       "410453             33936\n",
       "410454             33936\n",
       "\n",
       "[410455 rows x 1 columns]"
      ]
     },
     "execution_count": 804,
     "metadata": {},
     "output_type": "execute_result"
    }
   ],
   "source": [
    "df2_target_customer = pd.merge(df2_aktifID, df2_pasifID, how='inner')\n",
    "df2_target_customer"
   ]
  },
  {
   "cell_type": "code",
   "execution_count": 805,
   "id": "a5d6eeca",
   "metadata": {},
   "outputs": [
    {
     "data": {
      "text/plain": [
       "base_customer_id    56162\n",
       "dtype: int64"
      ]
     },
     "execution_count": 805,
     "metadata": {},
     "output_type": "execute_result"
    }
   ],
   "source": [
    "df2_target_customer.nunique()\n",
    "# hem pasif hem de aktif araci olan bizim potansiyel arac alacagini dusundugumuz kitle"
   ]
  },
  {
   "cell_type": "code",
   "execution_count": 806,
   "id": "12ea9453",
   "metadata": {},
   "outputs": [],
   "source": [
    "# set(df2_target_customer[\"base_customer_id\"])"
   ]
  },
  {
   "cell_type": "code",
   "execution_count": 807,
   "id": "ce8c7c82",
   "metadata": {},
   "outputs": [
    {
     "data": {
      "text/plain": [
       "56162"
      ]
     },
     "execution_count": 807,
     "metadata": {},
     "output_type": "execute_result"
    }
   ],
   "source": [
    "len(set(df2_target_customer[\"base_customer_id\"]))\n",
    "# hem pasif hem de aktif araci olan bizim potansiyel arac alacagini dusundugumuz kitlenin base customer idileri"
   ]
  },
  {
   "cell_type": "code",
   "execution_count": 808,
   "id": "8e833a99",
   "metadata": {},
   "outputs": [
    {
     "data": {
      "text/html": [
       "<div>\n",
       "<style scoped>\n",
       "    .dataframe tbody tr th:only-of-type {\n",
       "        vertical-align: middle;\n",
       "    }\n",
       "\n",
       "    .dataframe tbody tr th {\n",
       "        vertical-align: top;\n",
       "    }\n",
       "\n",
       "    .dataframe thead th {\n",
       "        text-align: right;\n",
       "    }\n",
       "</style>\n",
       "<table border=\"1\" class=\"dataframe\">\n",
       "  <thead>\n",
       "    <tr style=\"text-align: right;\">\n",
       "      <th></th>\n",
       "      <th>base_customer_id</th>\n",
       "      <th>vehicle_id</th>\n",
       "      <th>start_date</th>\n",
       "      <th>end_date</th>\n",
       "      <th>fk_relation_status_id</th>\n",
       "      <th>fk_relation_status_explanation</th>\n",
       "    </tr>\n",
       "  </thead>\n",
       "  <tbody>\n",
       "    <tr>\n",
       "      <th>39159</th>\n",
       "      <td>131075</td>\n",
       "      <td>5033658</td>\n",
       "      <td>2007-09-10</td>\n",
       "      <td>2007-10-20</td>\n",
       "      <td>2</td>\n",
       "      <td>Pasif Ruhsat Sahibi</td>\n",
       "    </tr>\n",
       "    <tr>\n",
       "      <th>39160</th>\n",
       "      <td>131075</td>\n",
       "      <td>5033658</td>\n",
       "      <td>2008-06-07</td>\n",
       "      <td>NaN</td>\n",
       "      <td>1</td>\n",
       "      <td>Aktif Ruhsat Sahibi</td>\n",
       "    </tr>\n",
       "    <tr>\n",
       "      <th>192140</th>\n",
       "      <td>131075</td>\n",
       "      <td>5298045</td>\n",
       "      <td>2016-11-23</td>\n",
       "      <td>NaN</td>\n",
       "      <td>1</td>\n",
       "      <td>Aktif Ruhsat Sahibi</td>\n",
       "    </tr>\n",
       "  </tbody>\n",
       "</table>\n",
       "</div>"
      ],
      "text/plain": [
       "        base_customer_id  vehicle_id  start_date    end_date  \\\n",
       "39159             131075     5033658  2007-09-10  2007-10-20   \n",
       "39160             131075     5033658  2008-06-07         NaN   \n",
       "192140            131075     5298045  2016-11-23         NaN   \n",
       "\n",
       "        fk_relation_status_id fk_relation_status_explanation  \n",
       "39159                       2            Pasif Ruhsat Sahibi  \n",
       "39160                       1            Aktif Ruhsat Sahibi  \n",
       "192140                      1            Aktif Ruhsat Sahibi  "
      ]
     },
     "execution_count": 808,
     "metadata": {},
     "output_type": "execute_result"
    }
   ],
   "source": [
    "df2_[df2_[\"base_customer_id\"]==131075]"
   ]
  },
  {
   "cell_type": "code",
   "execution_count": 809,
   "id": "410e826b",
   "metadata": {},
   "outputs": [
    {
     "data": {
      "text/plain": [
       "Aktif Ruhsat Sahibi    215122\n",
       "Pasif Ruhsat Sahibi    159757\n",
       "Name: fk_relation_status_explanation, dtype: int64"
      ]
     },
     "execution_count": 809,
     "metadata": {},
     "output_type": "execute_result"
    }
   ],
   "source": [
    "df2_[\"fk_relation_status_explanation\"].value_counts(dropna=False)"
   ]
  },
  {
   "cell_type": "code",
   "execution_count": 810,
   "id": "96e6f754",
   "metadata": {},
   "outputs": [
    {
     "data": {
      "text/plain": [
       "166943"
      ]
     },
     "execution_count": 810,
     "metadata": {},
     "output_type": "execute_result"
    }
   ],
   "source": [
    "df2_[df2_[\"fk_relation_status_explanation\"]==\"Aktif Ruhsat Sahibi\"][\"base_customer_id\"].nunique()"
   ]
  },
  {
   "cell_type": "code",
   "execution_count": 811,
   "id": "7244b8fb",
   "metadata": {},
   "outputs": [
    {
     "data": {
      "text/plain": [
       "85757"
      ]
     },
     "execution_count": 811,
     "metadata": {},
     "output_type": "execute_result"
    }
   ],
   "source": [
    "df2_[df2_[\"fk_relation_status_explanation\"]==\"Pasif Ruhsat Sahibi\"][\"base_customer_id\"].nunique()"
   ]
  },
  {
   "cell_type": "code",
   "execution_count": 812,
   "id": "dab2e336",
   "metadata": {},
   "outputs": [
    {
     "data": {
      "text/html": [
       "<div>\n",
       "<style scoped>\n",
       "    .dataframe tbody tr th:only-of-type {\n",
       "        vertical-align: middle;\n",
       "    }\n",
       "\n",
       "    .dataframe tbody tr th {\n",
       "        vertical-align: top;\n",
       "    }\n",
       "\n",
       "    .dataframe thead th {\n",
       "        text-align: right;\n",
       "    }\n",
       "</style>\n",
       "<table border=\"1\" class=\"dataframe\">\n",
       "  <thead>\n",
       "    <tr style=\"text-align: right;\">\n",
       "      <th></th>\n",
       "      <th>base_customer_id</th>\n",
       "      <th>customer_id</th>\n",
       "      <th>gender</th>\n",
       "      <th>marital_status</th>\n",
       "      <th>birth_date</th>\n",
       "      <th>fk_address_communication_city</th>\n",
       "      <th>occupation</th>\n",
       "    </tr>\n",
       "  </thead>\n",
       "  <tbody>\n",
       "    <tr>\n",
       "      <th>0</th>\n",
       "      <td>168254</td>\n",
       "      <td>1507435</td>\n",
       "      <td>Erkek</td>\n",
       "      <td>Bekar</td>\n",
       "      <td>1988.000</td>\n",
       "      <td>Şanlıurfa</td>\n",
       "      <td>NaN</td>\n",
       "    </tr>\n",
       "    <tr>\n",
       "      <th>1</th>\n",
       "      <td>168254</td>\n",
       "      <td>1663507</td>\n",
       "      <td>Erkek</td>\n",
       "      <td>Bekar</td>\n",
       "      <td>1988.000</td>\n",
       "      <td>Şanlıurfa</td>\n",
       "      <td>NaN</td>\n",
       "    </tr>\n",
       "  </tbody>\n",
       "</table>\n",
       "</div>"
      ],
      "text/plain": [
       "   base_customer_id  customer_id gender marital_status  birth_date  \\\n",
       "0            168254      1507435  Erkek          Bekar    1988.000   \n",
       "1            168254      1663507  Erkek          Bekar    1988.000   \n",
       "\n",
       "  fk_address_communication_city occupation  \n",
       "0                     Şanlıurfa        NaN  \n",
       "1                     Şanlıurfa        NaN  "
      ]
     },
     "execution_count": 812,
     "metadata": {},
     "output_type": "execute_result"
    }
   ],
   "source": [
    "df_.head(2)"
   ]
  },
  {
   "cell_type": "code",
   "execution_count": 813,
   "id": "87e9d34d",
   "metadata": {},
   "outputs": [
    {
     "data": {
      "text/html": [
       "<div>\n",
       "<style scoped>\n",
       "    .dataframe tbody tr th:only-of-type {\n",
       "        vertical-align: middle;\n",
       "    }\n",
       "\n",
       "    .dataframe tbody tr th {\n",
       "        vertical-align: top;\n",
       "    }\n",
       "\n",
       "    .dataframe thead th {\n",
       "        text-align: right;\n",
       "    }\n",
       "</style>\n",
       "<table border=\"1\" class=\"dataframe\">\n",
       "  <thead>\n",
       "    <tr style=\"text-align: right;\">\n",
       "      <th></th>\n",
       "      <th>base_customer_id</th>\n",
       "      <th>vehicle_id</th>\n",
       "      <th>start_date</th>\n",
       "      <th>end_date</th>\n",
       "      <th>fk_relation_status_id</th>\n",
       "      <th>fk_relation_status_explanation</th>\n",
       "    </tr>\n",
       "  </thead>\n",
       "  <tbody>\n",
       "    <tr>\n",
       "      <th>0</th>\n",
       "      <td>189537</td>\n",
       "      <td>5321560</td>\n",
       "      <td>2018-07-24</td>\n",
       "      <td>2019-07-03</td>\n",
       "      <td>2</td>\n",
       "      <td>Pasif Ruhsat Sahibi</td>\n",
       "    </tr>\n",
       "    <tr>\n",
       "      <th>1</th>\n",
       "      <td>110802</td>\n",
       "      <td>5329278</td>\n",
       "      <td>2019-07-16</td>\n",
       "      <td>NaN</td>\n",
       "      <td>1</td>\n",
       "      <td>Aktif Ruhsat Sahibi</td>\n",
       "    </tr>\n",
       "  </tbody>\n",
       "</table>\n",
       "</div>"
      ],
      "text/plain": [
       "   base_customer_id  vehicle_id  start_date    end_date  \\\n",
       "0            189537     5321560  2018-07-24  2019-07-03   \n",
       "1            110802     5329278  2019-07-16         NaN   \n",
       "\n",
       "   fk_relation_status_id fk_relation_status_explanation  \n",
       "0                      2            Pasif Ruhsat Sahibi  \n",
       "1                      1            Aktif Ruhsat Sahibi  "
      ]
     },
     "execution_count": 813,
     "metadata": {},
     "output_type": "execute_result"
    }
   ],
   "source": [
    "df2_.head(2)"
   ]
  },
  {
   "cell_type": "code",
   "execution_count": 814,
   "id": "8beabb3f",
   "metadata": {},
   "outputs": [
    {
     "data": {
      "text/plain": [
       "1    215122\n",
       "2    159757\n",
       "Name: fk_relation_status_id, dtype: int64"
      ]
     },
     "execution_count": 814,
     "metadata": {},
     "output_type": "execute_result"
    }
   ],
   "source": [
    "df2_[\"fk_relation_status_id\"].value_counts(dropna=False)"
   ]
  },
  {
   "cell_type": "code",
   "execution_count": 815,
   "id": "f0c9e38c",
   "metadata": {},
   "outputs": [
    {
     "data": {
      "text/plain": [
       "True     215122\n",
       "False    159757\n",
       "dtype: int64"
      ]
     },
     "execution_count": 815,
     "metadata": {},
     "output_type": "execute_result"
    }
   ],
   "source": [
    "((df2_[\"fk_relation_status_id\"]==1)&(df2_[\"fk_relation_status_explanation\"]==\"Aktif Ruhsat Sahibi\")).value_counts()"
   ]
  },
  {
   "cell_type": "code",
   "execution_count": 816,
   "id": "5eb81217",
   "metadata": {},
   "outputs": [
    {
     "data": {
      "text/plain": [
       "False    215122\n",
       "True     159757\n",
       "dtype: int64"
      ]
     },
     "execution_count": 816,
     "metadata": {},
     "output_type": "execute_result"
    }
   ],
   "source": [
    "((df2_[\"fk_relation_status_id\"]==2)&(df2_[\"fk_relation_status_explanation\"]==\"Pasif Ruhsat Sahibi\")).value_counts()\n",
    "# 1 olanlarin Aktif Ruhsat Sahibi oldugu teyit edildi\n",
    "# 2 olanlarin Pasif Ruhsat Sahibi oldugu teyit edildi\n",
    "# dolayisi ile fk_relation_status_idyi dusuyoruz\n",
    "# unnamed:_0 da dusuyoruz"
   ]
  },
  {
   "cell_type": "code",
   "execution_count": 817,
   "id": "8bacb878",
   "metadata": {},
   "outputs": [
    {
     "name": "stdout",
     "output_type": "stream",
     "text": [
      "fk_relation_status_id were dropped\n"
     ]
    }
   ],
   "source": [
    "drop_columns(df2_, \"fk_relation_status_id\")"
   ]
  },
  {
   "cell_type": "code",
   "execution_count": 818,
   "id": "33857894",
   "metadata": {},
   "outputs": [
    {
     "data": {
      "text/html": [
       "<div>\n",
       "<style scoped>\n",
       "    .dataframe tbody tr th:only-of-type {\n",
       "        vertical-align: middle;\n",
       "    }\n",
       "\n",
       "    .dataframe tbody tr th {\n",
       "        vertical-align: top;\n",
       "    }\n",
       "\n",
       "    .dataframe thead th {\n",
       "        text-align: right;\n",
       "    }\n",
       "</style>\n",
       "<table border=\"1\" class=\"dataframe\">\n",
       "  <thead>\n",
       "    <tr style=\"text-align: right;\">\n",
       "      <th></th>\n",
       "      <th>base_customer_id</th>\n",
       "      <th>vehicle_id</th>\n",
       "      <th>start_date</th>\n",
       "      <th>end_date</th>\n",
       "      <th>fk_relation_status_explanation</th>\n",
       "    </tr>\n",
       "  </thead>\n",
       "  <tbody>\n",
       "    <tr>\n",
       "      <th>0</th>\n",
       "      <td>189537</td>\n",
       "      <td>5321560</td>\n",
       "      <td>2018-07-24</td>\n",
       "      <td>2019-07-03</td>\n",
       "      <td>Pasif Ruhsat Sahibi</td>\n",
       "    </tr>\n",
       "    <tr>\n",
       "      <th>1</th>\n",
       "      <td>110802</td>\n",
       "      <td>5329278</td>\n",
       "      <td>2019-07-16</td>\n",
       "      <td>NaN</td>\n",
       "      <td>Aktif Ruhsat Sahibi</td>\n",
       "    </tr>\n",
       "  </tbody>\n",
       "</table>\n",
       "</div>"
      ],
      "text/plain": [
       "   base_customer_id  vehicle_id  start_date    end_date  \\\n",
       "0            189537     5321560  2018-07-24  2019-07-03   \n",
       "1            110802     5329278  2019-07-16         NaN   \n",
       "\n",
       "  fk_relation_status_explanation  \n",
       "0            Pasif Ruhsat Sahibi  \n",
       "1            Aktif Ruhsat Sahibi  "
      ]
     },
     "execution_count": 818,
     "metadata": {},
     "output_type": "execute_result"
    }
   ],
   "source": [
    "df2_.head(2)"
   ]
  },
  {
   "cell_type": "code",
   "execution_count": 819,
   "id": "a845dad2",
   "metadata": {},
   "outputs": [
    {
     "data": {
      "text/plain": [
       "(714249, 7)"
      ]
     },
     "execution_count": 819,
     "metadata": {},
     "output_type": "execute_result"
    }
   ],
   "source": [
    "df_.shape\n",
    "# df7_ ve df1_ join edilmisti suana kadar"
   ]
  },
  {
   "cell_type": "code",
   "execution_count": 820,
   "id": "48231c02",
   "metadata": {},
   "outputs": [
    {
     "data": {
      "text/plain": [
       "(374879, 5)"
      ]
     },
     "execution_count": 820,
     "metadata": {},
     "output_type": "execute_result"
    }
   ],
   "source": [
    "df2_.shape"
   ]
  },
  {
   "cell_type": "code",
   "execution_count": 821,
   "id": "7db2ed1d",
   "metadata": {},
   "outputs": [
    {
     "data": {
      "text/html": [
       "<div>\n",
       "<style scoped>\n",
       "    .dataframe tbody tr th:only-of-type {\n",
       "        vertical-align: middle;\n",
       "    }\n",
       "\n",
       "    .dataframe tbody tr th {\n",
       "        vertical-align: top;\n",
       "    }\n",
       "\n",
       "    .dataframe thead th {\n",
       "        text-align: right;\n",
       "    }\n",
       "</style>\n",
       "<table border=\"1\" class=\"dataframe\">\n",
       "  <thead>\n",
       "    <tr style=\"text-align: right;\">\n",
       "      <th></th>\n",
       "      <th>base_customer_id</th>\n",
       "      <th>customer_id</th>\n",
       "      <th>gender</th>\n",
       "      <th>marital_status</th>\n",
       "      <th>birth_date</th>\n",
       "      <th>fk_address_communication_city</th>\n",
       "      <th>occupation</th>\n",
       "    </tr>\n",
       "  </thead>\n",
       "  <tbody>\n",
       "    <tr>\n",
       "      <th>0</th>\n",
       "      <td>168254</td>\n",
       "      <td>1507435</td>\n",
       "      <td>Erkek</td>\n",
       "      <td>Bekar</td>\n",
       "      <td>1988.000</td>\n",
       "      <td>Şanlıurfa</td>\n",
       "      <td>NaN</td>\n",
       "    </tr>\n",
       "    <tr>\n",
       "      <th>1</th>\n",
       "      <td>168254</td>\n",
       "      <td>1663507</td>\n",
       "      <td>Erkek</td>\n",
       "      <td>Bekar</td>\n",
       "      <td>1988.000</td>\n",
       "      <td>Şanlıurfa</td>\n",
       "      <td>NaN</td>\n",
       "    </tr>\n",
       "  </tbody>\n",
       "</table>\n",
       "</div>"
      ],
      "text/plain": [
       "   base_customer_id  customer_id gender marital_status  birth_date  \\\n",
       "0            168254      1507435  Erkek          Bekar    1988.000   \n",
       "1            168254      1663507  Erkek          Bekar    1988.000   \n",
       "\n",
       "  fk_address_communication_city occupation  \n",
       "0                     Şanlıurfa        NaN  \n",
       "1                     Şanlıurfa        NaN  "
      ]
     },
     "execution_count": 821,
     "metadata": {},
     "output_type": "execute_result"
    }
   ],
   "source": [
    "df_.head(2)"
   ]
  },
  {
   "cell_type": "code",
   "execution_count": 822,
   "id": "ffca964d",
   "metadata": {},
   "outputs": [
    {
     "data": {
      "text/plain": [
       "166943"
      ]
     },
     "execution_count": 822,
     "metadata": {},
     "output_type": "execute_result"
    }
   ],
   "source": [
    "df_ = df_.merge(df2_, on=\"base_customer_id\", how='left')\n",
    "df_[\"base_customer_id\"].nunique()"
   ]
  },
  {
   "cell_type": "code",
   "execution_count": 823,
   "id": "2aeae518",
   "metadata": {},
   "outputs": [
    {
     "data": {
      "text/html": [
       "<div>\n",
       "<style scoped>\n",
       "    .dataframe tbody tr th:only-of-type {\n",
       "        vertical-align: middle;\n",
       "    }\n",
       "\n",
       "    .dataframe tbody tr th {\n",
       "        vertical-align: top;\n",
       "    }\n",
       "\n",
       "    .dataframe thead th {\n",
       "        text-align: right;\n",
       "    }\n",
       "</style>\n",
       "<table border=\"1\" class=\"dataframe\">\n",
       "  <thead>\n",
       "    <tr style=\"text-align: right;\">\n",
       "      <th></th>\n",
       "      <th>base_customer_id</th>\n",
       "      <th>customer_id</th>\n",
       "      <th>gender</th>\n",
       "      <th>marital_status</th>\n",
       "      <th>birth_date</th>\n",
       "      <th>fk_address_communication_city</th>\n",
       "      <th>occupation</th>\n",
       "      <th>vehicle_id</th>\n",
       "      <th>start_date</th>\n",
       "      <th>end_date</th>\n",
       "      <th>fk_relation_status_explanation</th>\n",
       "    </tr>\n",
       "  </thead>\n",
       "  <tbody>\n",
       "    <tr>\n",
       "      <th>0</th>\n",
       "      <td>168254</td>\n",
       "      <td>1507435</td>\n",
       "      <td>Erkek</td>\n",
       "      <td>Bekar</td>\n",
       "      <td>1988.000</td>\n",
       "      <td>Şanlıurfa</td>\n",
       "      <td>NaN</td>\n",
       "      <td>5329232</td>\n",
       "      <td>2019-09-20</td>\n",
       "      <td>NaN</td>\n",
       "      <td>Aktif Ruhsat Sahibi</td>\n",
       "    </tr>\n",
       "    <tr>\n",
       "      <th>1</th>\n",
       "      <td>168254</td>\n",
       "      <td>1507435</td>\n",
       "      <td>Erkek</td>\n",
       "      <td>Bekar</td>\n",
       "      <td>1988.000</td>\n",
       "      <td>Şanlıurfa</td>\n",
       "      <td>NaN</td>\n",
       "      <td>5183621</td>\n",
       "      <td>2015-09-14</td>\n",
       "      <td>2019-07-05</td>\n",
       "      <td>Pasif Ruhsat Sahibi</td>\n",
       "    </tr>\n",
       "  </tbody>\n",
       "</table>\n",
       "</div>"
      ],
      "text/plain": [
       "   base_customer_id  customer_id gender marital_status  birth_date  \\\n",
       "0            168254      1507435  Erkek          Bekar    1988.000   \n",
       "1            168254      1507435  Erkek          Bekar    1988.000   \n",
       "\n",
       "  fk_address_communication_city occupation  vehicle_id  start_date  \\\n",
       "0                     Şanlıurfa        NaN     5329232  2019-09-20   \n",
       "1                     Şanlıurfa        NaN     5183621  2015-09-14   \n",
       "\n",
       "     end_date fk_relation_status_explanation  \n",
       "0         NaN            Aktif Ruhsat Sahibi  \n",
       "1  2019-07-05            Pasif Ruhsat Sahibi  "
      ]
     },
     "execution_count": 823,
     "metadata": {},
     "output_type": "execute_result"
    }
   ],
   "source": [
    "df_.head(2)"
   ]
  },
  {
   "cell_type": "code",
   "execution_count": 824,
   "id": "af7c5a4b",
   "metadata": {},
   "outputs": [
    {
     "data": {
      "text/plain": [
       "(1671022, 11)"
      ]
     },
     "execution_count": 824,
     "metadata": {},
     "output_type": "execute_result"
    }
   ],
   "source": [
    "df_.shape\n",
    "# df7_ ve df1_ join edilmisti, simdi de df2_ join edildi"
   ]
  },
  {
   "cell_type": "markdown",
   "id": "234ef721",
   "metadata": {},
   "source": [
    "#### VEHICLE ID UZERINDEN JOIN KISMI"
   ]
  },
  {
   "cell_type": "code",
   "execution_count": 825,
   "id": "244d4038",
   "metadata": {},
   "outputs": [
    {
     "data": {
      "text/html": [
       "<div>\n",
       "<style scoped>\n",
       "    .dataframe tbody tr th:only-of-type {\n",
       "        vertical-align: middle;\n",
       "    }\n",
       "\n",
       "    .dataframe tbody tr th {\n",
       "        vertical-align: top;\n",
       "    }\n",
       "\n",
       "    .dataframe thead th {\n",
       "        text-align: right;\n",
       "    }\n",
       "</style>\n",
       "<table border=\"1\" class=\"dataframe\">\n",
       "  <thead>\n",
       "    <tr style=\"text-align: right;\">\n",
       "      <th></th>\n",
       "      <th>customer_id</th>\n",
       "      <th>salesfile_id</th>\n",
       "      <th>sf_create_date</th>\n",
       "      <th>status</th>\n",
       "      <th>req_brand_code</th>\n",
       "      <th>req_topmodel_code</th>\n",
       "    </tr>\n",
       "  </thead>\n",
       "  <tbody>\n",
       "    <tr>\n",
       "      <th>0</th>\n",
       "      <td>1712792</td>\n",
       "      <td>7274467.000</td>\n",
       "      <td>2017-11-17 12:15:39</td>\n",
       "      <td>101</td>\n",
       "      <td>Y</td>\n",
       "      <td>9231.000</td>\n",
       "    </tr>\n",
       "  </tbody>\n",
       "</table>\n",
       "</div>"
      ],
      "text/plain": [
       "   customer_id  salesfile_id       sf_create_date  status req_brand_code  \\\n",
       "0      1712792   7274467.000  2017-11-17 12:15:39     101              Y   \n",
       "\n",
       "   req_topmodel_code  \n",
       "0           9231.000  "
      ]
     },
     "execution_count": 825,
     "metadata": {},
     "output_type": "execute_result"
    }
   ],
   "source": [
    "df3_.head(1)"
   ]
  },
  {
   "cell_type": "code",
   "execution_count": 826,
   "id": "e9901022",
   "metadata": {},
   "outputs": [
    {
     "data": {
      "text/plain": [
       "(397526, 6)"
      ]
     },
     "execution_count": 826,
     "metadata": {},
     "output_type": "execute_result"
    }
   ],
   "source": [
    "df3_.shape"
   ]
  },
  {
   "cell_type": "code",
   "execution_count": 827,
   "id": "c505ea1e",
   "metadata": {},
   "outputs": [
    {
     "data": {
      "text/html": [
       "<div>\n",
       "<style scoped>\n",
       "    .dataframe tbody tr th:only-of-type {\n",
       "        vertical-align: middle;\n",
       "    }\n",
       "\n",
       "    .dataframe tbody tr th {\n",
       "        vertical-align: top;\n",
       "    }\n",
       "\n",
       "    .dataframe thead th {\n",
       "        text-align: right;\n",
       "    }\n",
       "</style>\n",
       "<table border=\"1\" class=\"dataframe\">\n",
       "  <thead>\n",
       "    <tr style=\"text-align: right;\">\n",
       "      <th></th>\n",
       "      <th>vehicle_id</th>\n",
       "      <th>customer_id</th>\n",
       "      <th>create_date</th>\n",
       "    </tr>\n",
       "  </thead>\n",
       "  <tbody>\n",
       "    <tr>\n",
       "      <th>0</th>\n",
       "      <td>5015193</td>\n",
       "      <td>1063740</td>\n",
       "      <td>2005-01-01 19:08:33</td>\n",
       "    </tr>\n",
       "  </tbody>\n",
       "</table>\n",
       "</div>"
      ],
      "text/plain": [
       "   vehicle_id  customer_id          create_date\n",
       "0     5015193      1063740  2005-01-01 19:08:33"
      ]
     },
     "execution_count": 827,
     "metadata": {},
     "output_type": "execute_result"
    }
   ],
   "source": [
    "df4_.head(1)"
   ]
  },
  {
   "cell_type": "code",
   "execution_count": 828,
   "id": "d45ce872",
   "metadata": {},
   "outputs": [
    {
     "data": {
      "text/plain": [
       "(169525, 3)"
      ]
     },
     "execution_count": 828,
     "metadata": {},
     "output_type": "execute_result"
    }
   ],
   "source": [
    "df4_.shape"
   ]
  },
  {
   "cell_type": "code",
   "execution_count": 829,
   "id": "05044634",
   "metadata": {},
   "outputs": [
    {
     "data": {
      "text/html": [
       "<div>\n",
       "<style scoped>\n",
       "    .dataframe tbody tr th:only-of-type {\n",
       "        vertical-align: middle;\n",
       "    }\n",
       "\n",
       "    .dataframe tbody tr th {\n",
       "        vertical-align: top;\n",
       "    }\n",
       "\n",
       "    .dataframe thead th {\n",
       "        text-align: right;\n",
       "    }\n",
       "</style>\n",
       "<table border=\"1\" class=\"dataframe\">\n",
       "  <thead>\n",
       "    <tr style=\"text-align: right;\">\n",
       "      <th></th>\n",
       "      <th>vehicle_id</th>\n",
       "      <th>traffic_date</th>\n",
       "      <th>brand_code</th>\n",
       "      <th>basemodel_code</th>\n",
       "      <th>topmodel_code</th>\n",
       "      <th>motor_gas_type</th>\n",
       "      <th>gear_box_type</th>\n",
       "    </tr>\n",
       "  </thead>\n",
       "  <tbody>\n",
       "    <tr>\n",
       "      <th>0</th>\n",
       "      <td>5317713</td>\n",
       "      <td>2017-12-07</td>\n",
       "      <td>Z</td>\n",
       "      <td>13398</td>\n",
       "      <td>9349</td>\n",
       "      <td>Benzin</td>\n",
       "      <td>Manuel</td>\n",
       "    </tr>\n",
       "  </tbody>\n",
       "</table>\n",
       "</div>"
      ],
      "text/plain": [
       "   vehicle_id traffic_date brand_code  basemodel_code  topmodel_code  \\\n",
       "0     5317713   2017-12-07          Z           13398           9349   \n",
       "\n",
       "  motor_gas_type gear_box_type  \n",
       "0         Benzin        Manuel  "
      ]
     },
     "execution_count": 829,
     "metadata": {},
     "output_type": "execute_result"
    }
   ],
   "source": [
    "df5_.head(1)"
   ]
  },
  {
   "cell_type": "code",
   "execution_count": 830,
   "id": "3707c97d",
   "metadata": {},
   "outputs": [
    {
     "data": {
      "text/plain": [
       "(345092, 7)"
      ]
     },
     "execution_count": 830,
     "metadata": {},
     "output_type": "execute_result"
    }
   ],
   "source": [
    "df5_.shape"
   ]
  },
  {
   "cell_type": "code",
   "execution_count": 831,
   "id": "0ca98909",
   "metadata": {},
   "outputs": [
    {
     "data": {
      "text/html": [
       "<div>\n",
       "<style scoped>\n",
       "    .dataframe tbody tr th:only-of-type {\n",
       "        vertical-align: middle;\n",
       "    }\n",
       "\n",
       "    .dataframe tbody tr th {\n",
       "        vertical-align: top;\n",
       "    }\n",
       "\n",
       "    .dataframe thead th {\n",
       "        text-align: right;\n",
       "    }\n",
       "</style>\n",
       "<table border=\"1\" class=\"dataframe\">\n",
       "  <thead>\n",
       "    <tr style=\"text-align: right;\">\n",
       "      <th></th>\n",
       "      <th>create_date</th>\n",
       "      <th>is_maintenance</th>\n",
       "      <th>vehicle_id</th>\n",
       "      <th>total_amount_tl</th>\n",
       "    </tr>\n",
       "  </thead>\n",
       "  <tbody>\n",
       "    <tr>\n",
       "      <th>0</th>\n",
       "      <td>2010-12-29 10:50:56</td>\n",
       "      <td>1</td>\n",
       "      <td>5000001</td>\n",
       "      <td>192.000</td>\n",
       "    </tr>\n",
       "  </tbody>\n",
       "</table>\n",
       "</div>"
      ],
      "text/plain": [
       "           create_date  is_maintenance  vehicle_id  total_amount_tl\n",
       "0  2010-12-29 10:50:56               1     5000001          192.000"
      ]
     },
     "execution_count": 831,
     "metadata": {},
     "output_type": "execute_result"
    }
   ],
   "source": [
    "df6_.head(1)"
   ]
  },
  {
   "cell_type": "code",
   "execution_count": 832,
   "id": "eefdc2c7",
   "metadata": {},
   "outputs": [
    {
     "data": {
      "text/plain": [
       "(1041000, 4)"
      ]
     },
     "execution_count": 832,
     "metadata": {},
     "output_type": "execute_result"
    }
   ],
   "source": [
    "df6_.shape"
   ]
  },
  {
   "cell_type": "code",
   "execution_count": 833,
   "id": "7deaafa4",
   "metadata": {},
   "outputs": [
    {
     "data": {
      "text/plain": [
       "225447"
      ]
     },
     "execution_count": 833,
     "metadata": {},
     "output_type": "execute_result"
    }
   ],
   "source": [
    "df6_vehicle = df6_[\"vehicle_id\"]\n",
    "df6_vehicle.nunique()"
   ]
  },
  {
   "cell_type": "code",
   "execution_count": 834,
   "id": "0328de19",
   "metadata": {},
   "outputs": [
    {
     "data": {
      "text/plain": [
       "0         5317713\n",
       "1         5259212\n",
       "2         5110414\n",
       "3         5101263\n",
       "4         5053909\n",
       "           ...   \n",
       "345087    5253033\n",
       "345088    5174679\n",
       "345089    5059846\n",
       "345090    5080882\n",
       "345091    5057488\n",
       "Name: vehicle_id, Length: 345092, dtype: int64"
      ]
     },
     "execution_count": 834,
     "metadata": {},
     "output_type": "execute_result"
    }
   ],
   "source": [
    "df5_vehicle = df5_[\"vehicle_id\"]\n",
    "df5_vehicle"
   ]
  },
  {
   "cell_type": "code",
   "execution_count": 835,
   "id": "490d68e9",
   "metadata": {},
   "outputs": [
    {
     "data": {
      "text/plain": [
       "0         5015193\n",
       "1         5110231\n",
       "2         5290356\n",
       "3         5344576\n",
       "4         5094010\n",
       "           ...   \n",
       "169520    5160829\n",
       "169521    5098542\n",
       "169522    5148086\n",
       "169523    5263144\n",
       "169524    5026911\n",
       "Name: vehicle_id, Length: 169525, dtype: int64"
      ]
     },
     "execution_count": 835,
     "metadata": {},
     "output_type": "execute_result"
    }
   ],
   "source": [
    "df4_vehicle = df4_[\"vehicle_id\"]\n",
    "df4_vehicle"
   ]
  },
  {
   "cell_type": "code",
   "execution_count": 836,
   "id": "f5008e28",
   "metadata": {},
   "outputs": [
    {
     "data": {
      "text/plain": [
       "(1671022, 11)"
      ]
     },
     "execution_count": 836,
     "metadata": {},
     "output_type": "execute_result"
    }
   ],
   "source": [
    "df_.shape"
   ]
  },
  {
   "cell_type": "code",
   "execution_count": 837,
   "id": "23cdfa22",
   "metadata": {},
   "outputs": [
    {
     "data": {
      "text/plain": [
       "0          5329232\n",
       "1          5183621\n",
       "2          5208488\n",
       "3          5310923\n",
       "4          5311914\n",
       "            ...   \n",
       "1671017    5179455\n",
       "1671018    5308799\n",
       "1671019    5179455\n",
       "1671020    5308799\n",
       "1671021    5179455\n",
       "Name: vehicle_id, Length: 1671022, dtype: int64"
      ]
     },
     "execution_count": 837,
     "metadata": {},
     "output_type": "execute_result"
    }
   ],
   "source": [
    "df_vehicle = df_[\"vehicle_id\"]\n",
    "df_vehicle"
   ]
  },
  {
   "cell_type": "code",
   "execution_count": 838,
   "id": "b594c9a4",
   "metadata": {},
   "outputs": [
    {
     "data": {
      "text/html": [
       "<div>\n",
       "<style scoped>\n",
       "    .dataframe tbody tr th:only-of-type {\n",
       "        vertical-align: middle;\n",
       "    }\n",
       "\n",
       "    .dataframe tbody tr th {\n",
       "        vertical-align: top;\n",
       "    }\n",
       "\n",
       "    .dataframe thead th {\n",
       "        text-align: right;\n",
       "    }\n",
       "</style>\n",
       "<table border=\"1\" class=\"dataframe\">\n",
       "  <thead>\n",
       "    <tr style=\"text-align: right;\">\n",
       "      <th></th>\n",
       "      <th>base_customer_id</th>\n",
       "    </tr>\n",
       "  </thead>\n",
       "  <tbody>\n",
       "    <tr>\n",
       "      <th>0</th>\n",
       "      <td>168254</td>\n",
       "    </tr>\n",
       "    <tr>\n",
       "      <th>1</th>\n",
       "      <td>124747</td>\n",
       "    </tr>\n",
       "    <tr>\n",
       "      <th>2</th>\n",
       "      <td>135493</td>\n",
       "    </tr>\n",
       "    <tr>\n",
       "      <th>3</th>\n",
       "      <td>90543</td>\n",
       "    </tr>\n",
       "    <tr>\n",
       "      <th>4</th>\n",
       "      <td>40421</td>\n",
       "    </tr>\n",
       "  </tbody>\n",
       "</table>\n",
       "</div>"
      ],
      "text/plain": [
       "   base_customer_id\n",
       "0            168254\n",
       "1            124747\n",
       "2            135493\n",
       "3             90543\n",
       "4             40421"
      ]
     },
     "execution_count": 838,
     "metadata": {},
     "output_type": "execute_result"
    }
   ],
   "source": [
    "df7_.head()"
   ]
  },
  {
   "cell_type": "markdown",
   "id": "c3ce54f9",
   "metadata": {},
   "source": [
    "### df7_ ve df2_ uzerinden kod deneme"
   ]
  },
  {
   "cell_type": "code",
   "execution_count": 839,
   "id": "2dd37beb",
   "metadata": {},
   "outputs": [
    {
     "data": {
      "text/html": [
       "<div>\n",
       "<style scoped>\n",
       "    .dataframe tbody tr th:only-of-type {\n",
       "        vertical-align: middle;\n",
       "    }\n",
       "\n",
       "    .dataframe tbody tr th {\n",
       "        vertical-align: top;\n",
       "    }\n",
       "\n",
       "    .dataframe thead th {\n",
       "        text-align: right;\n",
       "    }\n",
       "</style>\n",
       "<table border=\"1\" class=\"dataframe\">\n",
       "  <thead>\n",
       "    <tr style=\"text-align: right;\">\n",
       "      <th></th>\n",
       "      <th>base_customer_id</th>\n",
       "      <th>vehicle_id</th>\n",
       "      <th>start_date</th>\n",
       "      <th>end_date</th>\n",
       "      <th>fk_relation_status_explanation</th>\n",
       "    </tr>\n",
       "  </thead>\n",
       "  <tbody>\n",
       "    <tr>\n",
       "      <th>0</th>\n",
       "      <td>189537</td>\n",
       "      <td>5321560</td>\n",
       "      <td>2018-07-24</td>\n",
       "      <td>2019-07-03</td>\n",
       "      <td>Pasif Ruhsat Sahibi</td>\n",
       "    </tr>\n",
       "    <tr>\n",
       "      <th>1</th>\n",
       "      <td>110802</td>\n",
       "      <td>5329278</td>\n",
       "      <td>2019-07-16</td>\n",
       "      <td>NaN</td>\n",
       "      <td>Aktif Ruhsat Sahibi</td>\n",
       "    </tr>\n",
       "    <tr>\n",
       "      <th>2</th>\n",
       "      <td>160615</td>\n",
       "      <td>5329282</td>\n",
       "      <td>2019-09-12</td>\n",
       "      <td>NaN</td>\n",
       "      <td>Aktif Ruhsat Sahibi</td>\n",
       "    </tr>\n",
       "    <tr>\n",
       "      <th>3</th>\n",
       "      <td>115664</td>\n",
       "      <td>5328513</td>\n",
       "      <td>2019-02-25</td>\n",
       "      <td>NaN</td>\n",
       "      <td>Aktif Ruhsat Sahibi</td>\n",
       "    </tr>\n",
       "    <tr>\n",
       "      <th>4</th>\n",
       "      <td>81061</td>\n",
       "      <td>5322264</td>\n",
       "      <td>2018-04-16</td>\n",
       "      <td>NaN</td>\n",
       "      <td>Aktif Ruhsat Sahibi</td>\n",
       "    </tr>\n",
       "  </tbody>\n",
       "</table>\n",
       "</div>"
      ],
      "text/plain": [
       "   base_customer_id  vehicle_id  start_date    end_date  \\\n",
       "0            189537     5321560  2018-07-24  2019-07-03   \n",
       "1            110802     5329278  2019-07-16         NaN   \n",
       "2            160615     5329282  2019-09-12         NaN   \n",
       "3            115664     5328513  2019-02-25         NaN   \n",
       "4             81061     5322264  2018-04-16         NaN   \n",
       "\n",
       "  fk_relation_status_explanation  \n",
       "0            Pasif Ruhsat Sahibi  \n",
       "1            Aktif Ruhsat Sahibi  \n",
       "2            Aktif Ruhsat Sahibi  \n",
       "3            Aktif Ruhsat Sahibi  \n",
       "4            Aktif Ruhsat Sahibi  "
      ]
     },
     "execution_count": 839,
     "metadata": {},
     "output_type": "execute_result"
    }
   ],
   "source": [
    "df2_.head()"
   ]
  },
  {
   "cell_type": "code",
   "execution_count": 840,
   "id": "f0126a61",
   "metadata": {},
   "outputs": [
    {
     "data": {
      "text/plain": [
       "0         189537\n",
       "1         110802\n",
       "2         160615\n",
       "3         115664\n",
       "4          81061\n",
       "           ...  \n",
       "374874    154304\n",
       "374875     75199\n",
       "374876      9036\n",
       "374877     33936\n",
       "374878     91144\n",
       "Name: base_customer_id, Length: 374879, dtype: int64"
      ]
     },
     "execution_count": 840,
     "metadata": {},
     "output_type": "execute_result"
    }
   ],
   "source": [
    "df2_[\"base_customer_id\"]"
   ]
  },
  {
   "cell_type": "code",
   "execution_count": 841,
   "id": "23973dd4",
   "metadata": {},
   "outputs": [
    {
     "data": {
      "text/plain": [
       "196538"
      ]
     },
     "execution_count": 841,
     "metadata": {},
     "output_type": "execute_result"
    }
   ],
   "source": [
    "df2_[\"base_customer_id\"].nunique()\n",
    "# aktif ve/veya pasif ve pasif araci olan kisilerin unique toplam sayisi"
   ]
  },
  {
   "cell_type": "code",
   "execution_count": 842,
   "id": "a6e49769",
   "metadata": {},
   "outputs": [
    {
     "data": {
      "text/plain": [
       "166943"
      ]
     },
     "execution_count": 842,
     "metadata": {},
     "output_type": "execute_result"
    }
   ],
   "source": [
    "df7_[\"base_customer_id\"].nunique()\n",
    "# aktif ve/veya pasif araci olan kisilerin unique toplam sayisi"
   ]
  },
  {
   "cell_type": "code",
   "execution_count": 843,
   "id": "184b7eac",
   "metadata": {},
   "outputs": [
    {
     "data": {
      "text/plain": [
       "29595"
      ]
     },
     "execution_count": 843,
     "metadata": {},
     "output_type": "execute_result"
    }
   ],
   "source": [
    "df2_[\"base_customer_id\"].nunique()-df7_[\"base_customer_id\"].nunique()\n",
    "# sadece pasif araci olan kisilerin unique sayisi"
   ]
  },
  {
   "cell_type": "code",
   "execution_count": 844,
   "id": "32bfb72b",
   "metadata": {},
   "outputs": [
    {
     "data": {
      "text/plain": [
       "base_customer_id    166943\n",
       "dtype: int64"
      ]
     },
     "execution_count": 844,
     "metadata": {},
     "output_type": "execute_result"
    }
   ],
   "source": [
    "pd.merge(df7_[\"base_customer_id\"], df2_[\"base_customer_id\"], how='inner').nunique()"
   ]
  },
  {
   "cell_type": "code",
   "execution_count": 845,
   "id": "cf8df988",
   "metadata": {},
   "outputs": [
    {
     "data": {
      "text/plain": [
       "424876"
      ]
     },
     "execution_count": 845,
     "metadata": {},
     "output_type": "execute_result"
    }
   ],
   "source": [
    "215122+104877*2"
   ]
  },
  {
   "cell_type": "code",
   "execution_count": 846,
   "id": "8d7a2a5c",
   "metadata": {},
   "outputs": [
    {
     "data": {
      "text/plain": [
       "base_customer_id    56162\n",
       "dtype: int64"
      ]
     },
     "execution_count": 846,
     "metadata": {},
     "output_type": "execute_result"
    }
   ],
   "source": [
    "df2_target_customer = pd.merge(df2_aktifID, df2_pasifID, how='inner')\n",
    "df2_target_customer.nunique()\n",
    "# hem aktif hem pasif araci olan unique kisiler bunlarin toplam 105059 pasif araci var"
   ]
  },
  {
   "cell_type": "code",
   "execution_count": 847,
   "id": "7f0a3b62",
   "metadata": {},
   "outputs": [
    {
     "data": {
      "text/plain": [
       "right_only    54698\n",
       "left_only         0\n",
       "both              0\n",
       "Name: Exist, dtype: int64"
      ]
     },
     "execution_count": 847,
     "metadata": {},
     "output_type": "execute_result"
    }
   ],
   "source": [
    "df2__ = pd.merge(df7_[\"base_customer_id\"], df2_[\"base_customer_id\"], how='outer', indicator='Exist')\n",
    "df2__ = df2__.loc[df2__['Exist'] != 'both']\n",
    "df2__[\"Exist\"].value_counts()\n",
    "# sadece pasif araci olan kisilerin  arac sayisi teyit (birden fazla arac kayitlari var)"
   ]
  },
  {
   "cell_type": "code",
   "execution_count": 848,
   "id": "80b399e3",
   "metadata": {},
   "outputs": [
    {
     "data": {
      "text/plain": [
       "both          320181\n",
       "left_only          0\n",
       "right_only         0\n",
       "Name: Exist, dtype: int64"
      ]
     },
     "execution_count": 848,
     "metadata": {},
     "output_type": "execute_result"
    }
   ],
   "source": [
    "# If you like to filter by a common ID\n",
    "df2___  = pd.merge(df7_, df2_, on=\"base_customer_id\", how='outer', indicator='Exist')\n",
    "df2___  = df2___.loc[df2___['Exist'] == 'both']\n",
    "df2___[\"Exist\"].value_counts()\n",
    "# sadece aktif 215122 araci olan 110781 kisinin araclari ile  hem aktif hem pasif araci olan\n",
    "# 56162 kisinin 105059 pasif araclarin toplam sayisi"
   ]
  },
  {
   "cell_type": "code",
   "execution_count": 849,
   "id": "fa0812ba",
   "metadata": {},
   "outputs": [
    {
     "data": {
      "text/plain": [
       "56162"
      ]
     },
     "execution_count": 849,
     "metadata": {},
     "output_type": "execute_result"
    }
   ],
   "source": [
    "df2___[df2___[\"fk_relation_status_explanation\"]==\"Pasif Ruhsat Sahibi\"][\"base_customer_id\"].nunique()\n",
    "# sadece pasif araci olan kisilerin unique sayisi teyit"
   ]
  },
  {
   "cell_type": "code",
   "execution_count": 850,
   "id": "aa6538ba",
   "metadata": {},
   "outputs": [],
   "source": [
    "# set(df2___[df2___[\"fk_relation_status_explanation\"]==\"Pasif Ruhsat Sahibi\"][\"base_customer_id\"])\n",
    "# sadece pasif araci olan kisilerin base customer idleri"
   ]
  },
  {
   "cell_type": "code",
   "execution_count": 851,
   "id": "b71b857a",
   "metadata": {},
   "outputs": [
    {
     "data": {
      "text/plain": [
       "166943"
      ]
     },
     "execution_count": 851,
     "metadata": {},
     "output_type": "execute_result"
    }
   ],
   "source": [
    "df2_[df2_[\"fk_relation_status_explanation\"]==\"Aktif Ruhsat Sahibi\"][\"base_customer_id\"].nunique()"
   ]
  },
  {
   "cell_type": "code",
   "execution_count": 852,
   "id": "816cc65c",
   "metadata": {},
   "outputs": [],
   "source": [
    "# df2_[df2_[\"fk_relation_status_explanation\"]==\"Aktif Ruhsat Sahibi\"]\n",
    "# # burdan giderek sadece aktif arac sahibi olan 110331 kisiyi bulsak iyi olabilir"
   ]
  },
  {
   "cell_type": "markdown",
   "id": "377fc9b8",
   "metadata": {},
   "source": [
    "### df7_ ve df2_ uzerinden kod deneme sonu"
   ]
  },
  {
   "cell_type": "markdown",
   "id": "4bc765f2",
   "metadata": {},
   "source": [
    "# vehicle id uzerinden merge karar sureci"
   ]
  },
  {
   "cell_type": "markdown",
   "id": "2dbcc46d",
   "metadata": {},
   "source": [
    "# df4_\n",
    "# 300900 aracin 146724u ortak 22797 aracin bilgisi df4_ de fazlalik"
   ]
  },
  {
   "cell_type": "code",
   "execution_count": 853,
   "id": "2be93463",
   "metadata": {},
   "outputs": [
    {
     "data": {
      "text/plain": [
       "(1671022,)"
      ]
     },
     "execution_count": 853,
     "metadata": {},
     "output_type": "execute_result"
    }
   ],
   "source": [
    "df_[\"vehicle_id\"].shape"
   ]
  },
  {
   "cell_type": "code",
   "execution_count": 854,
   "id": "1a0e5ca4",
   "metadata": {},
   "outputs": [
    {
     "data": {
      "text/plain": [
       "300900"
      ]
     },
     "execution_count": 854,
     "metadata": {},
     "output_type": "execute_result"
    }
   ],
   "source": [
    "df_[\"vehicle_id\"].nunique()"
   ]
  },
  {
   "cell_type": "code",
   "execution_count": 855,
   "id": "2df64700",
   "metadata": {},
   "outputs": [
    {
     "data": {
      "text/plain": [
       "vehicle_id          0\n",
       "base_customer_id    0\n",
       "dtype: int64"
      ]
     },
     "execution_count": 855,
     "metadata": {},
     "output_type": "execute_result"
    }
   ],
   "source": [
    "df_[[\"vehicle_id\", \"base_customer_id\"]].isnull().sum()"
   ]
  },
  {
   "cell_type": "code",
   "execution_count": 856,
   "id": "6beb4490",
   "metadata": {},
   "outputs": [
    {
     "data": {
      "text/plain": [
       "166943"
      ]
     },
     "execution_count": 856,
     "metadata": {},
     "output_type": "execute_result"
    }
   ],
   "source": [
    "df_[[\"vehicle_id\", \"base_customer_id\"]][\"base_customer_id\"].nunique()"
   ]
  },
  {
   "cell_type": "code",
   "execution_count": 857,
   "id": "89f4f318",
   "metadata": {},
   "outputs": [
    {
     "data": {
      "text/plain": [
       "(169525,)"
      ]
     },
     "execution_count": 857,
     "metadata": {},
     "output_type": "execute_result"
    }
   ],
   "source": [
    "df4_[\"vehicle_id\"].shape"
   ]
  },
  {
   "cell_type": "code",
   "execution_count": 858,
   "id": "d8cc601c",
   "metadata": {},
   "outputs": [
    {
     "data": {
      "text/plain": [
       "169521"
      ]
     },
     "execution_count": 858,
     "metadata": {},
     "output_type": "execute_result"
    }
   ],
   "source": [
    "df4_[\"vehicle_id\"].nunique()"
   ]
  },
  {
   "cell_type": "code",
   "execution_count": 859,
   "id": "d224358e",
   "metadata": {
    "scrolled": true
   },
   "outputs": [
    {
     "data": {
      "text/plain": [
       "vehicle_id    146724\n",
       "dtype: int64"
      ]
     },
     "execution_count": 859,
     "metadata": {},
     "output_type": "execute_result"
    }
   ],
   "source": [
    "pd.merge(df_vehicle, df4_vehicle, how='inner').nunique()\n",
    "# 300900 aracin 146724u ortak 22797 aracin bilgisi df_ de eksik"
   ]
  },
  {
   "cell_type": "code",
   "execution_count": 860,
   "id": "4872ddcf",
   "metadata": {},
   "outputs": [
    {
     "data": {
      "text/plain": [
       "left_only     841055\n",
       "right_only     22797\n",
       "both               0\n",
       "Name: Exist, dtype: int64"
      ]
     },
     "execution_count": 860,
     "metadata": {},
     "output_type": "execute_result"
    }
   ],
   "source": [
    "df4__ = pd.merge(df_vehicle, df4_vehicle, how='outer', indicator='Exist')\n",
    "df4__ = df4__.loc[df4__['Exist'] != 'both']\n",
    "df4__[\"Exist\"].value_counts()"
   ]
  },
  {
   "cell_type": "code",
   "execution_count": 861,
   "id": "7c6f2e4e",
   "metadata": {},
   "outputs": [
    {
     "data": {
      "text/plain": [
       "both          829987\n",
       "left_only          0\n",
       "right_only         0\n",
       "Name: Exist, dtype: int64"
      ]
     },
     "execution_count": 861,
     "metadata": {},
     "output_type": "execute_result"
    }
   ],
   "source": [
    "# If you like to filter by a common ID\n",
    "df4__  = pd.merge(df_, df4_, on=\"vehicle_id\", how='outer', indicator='Exist')\n",
    "df4__  = df4__.loc[df4__['Exist'] == 'both']\n",
    "df4__[\"Exist\"].value_counts()"
   ]
  },
  {
   "cell_type": "code",
   "execution_count": 862,
   "id": "546335d4",
   "metadata": {},
   "outputs": [
    {
     "data": {
      "text/plain": [
       "146724"
      ]
     },
     "execution_count": 862,
     "metadata": {},
     "output_type": "execute_result"
    }
   ],
   "source": [
    "df4__[\"vehicle_id\"].nunique()"
   ]
  },
  {
   "cell_type": "markdown",
   "id": "0c5b899a",
   "metadata": {},
   "source": [
    "# df5_\n",
    "\n",
    "# 300900 aracin 300900u ortak 44192 arac bilgisi df5_ de fazlalik var"
   ]
  },
  {
   "cell_type": "code",
   "execution_count": 863,
   "id": "8479d5dc",
   "metadata": {},
   "outputs": [
    {
     "data": {
      "text/plain": [
       "(1671022,)"
      ]
     },
     "execution_count": 863,
     "metadata": {},
     "output_type": "execute_result"
    }
   ],
   "source": [
    "df_[\"vehicle_id\"].shape"
   ]
  },
  {
   "cell_type": "code",
   "execution_count": 864,
   "id": "ddff8c44",
   "metadata": {},
   "outputs": [
    {
     "data": {
      "text/plain": [
       "300900"
      ]
     },
     "execution_count": 864,
     "metadata": {},
     "output_type": "execute_result"
    }
   ],
   "source": [
    "df_[\"vehicle_id\"].nunique()"
   ]
  },
  {
   "cell_type": "code",
   "execution_count": 865,
   "id": "91478c10",
   "metadata": {},
   "outputs": [
    {
     "data": {
      "text/plain": [
       "vehicle_id    300900\n",
       "dtype: int64"
      ]
     },
     "execution_count": 865,
     "metadata": {},
     "output_type": "execute_result"
    }
   ],
   "source": [
    "pd.merge(df_vehicle, df5_vehicle, how='inner').nunique()"
   ]
  },
  {
   "cell_type": "code",
   "execution_count": 866,
   "id": "4cf83b53",
   "metadata": {},
   "outputs": [
    {
     "data": {
      "text/plain": [
       "right_only    44192\n",
       "left_only         0\n",
       "both              0\n",
       "Name: Exist, dtype: int64"
      ]
     },
     "execution_count": 866,
     "metadata": {},
     "output_type": "execute_result"
    }
   ],
   "source": [
    "df5__ = pd.merge(df_vehicle, df5_vehicle, how='outer', indicator='Exist')\n",
    "df5__ = df5__.loc[df5__['Exist'] != 'both']\n",
    "df5__[\"Exist\"].value_counts()"
   ]
  },
  {
   "cell_type": "code",
   "execution_count": 867,
   "id": "e10c9e32",
   "metadata": {},
   "outputs": [
    {
     "data": {
      "text/plain": [
       "both          1671022\n",
       "left_only           0\n",
       "right_only          0\n",
       "Name: Exist, dtype: int64"
      ]
     },
     "execution_count": 867,
     "metadata": {},
     "output_type": "execute_result"
    }
   ],
   "source": [
    "df5__ = pd.merge(df_vehicle, df5_vehicle, how='outer', indicator='Exist')\n",
    "df5__ = df5__.loc[df5__['Exist'] == 'both']\n",
    "df5__[\"Exist\"].value_counts()"
   ]
  },
  {
   "cell_type": "markdown",
   "id": "efa2d6d8",
   "metadata": {},
   "source": [
    "# df6_\n",
    "# 194175 ortak 127970 df6da fazlalik var"
   ]
  },
  {
   "cell_type": "code",
   "execution_count": 868,
   "id": "e8cf9416",
   "metadata": {},
   "outputs": [
    {
     "data": {
      "text/plain": [
       "300900"
      ]
     },
     "execution_count": 868,
     "metadata": {},
     "output_type": "execute_result"
    }
   ],
   "source": [
    "df_[\"vehicle_id\"].nunique()"
   ]
  },
  {
   "cell_type": "code",
   "execution_count": 869,
   "id": "3e6134c4",
   "metadata": {},
   "outputs": [
    {
     "data": {
      "text/plain": [
       "vehicle_id    194175\n",
       "dtype: int64"
      ]
     },
     "execution_count": 869,
     "metadata": {},
     "output_type": "execute_result"
    }
   ],
   "source": [
    "pd.merge(df_vehicle, df6_vehicle, how='inner').nunique()"
   ]
  },
  {
   "cell_type": "code",
   "execution_count": 870,
   "id": "02932a91",
   "metadata": {},
   "outputs": [
    {
     "data": {
      "text/plain": [
       "left_only     568787\n",
       "right_only    127970\n",
       "both               0\n",
       "Name: Exist, dtype: int64"
      ]
     },
     "execution_count": 870,
     "metadata": {},
     "output_type": "execute_result"
    }
   ],
   "source": [
    "df6__ = pd.merge(df_vehicle, df6_vehicle, how='outer', indicator='Exist')\n",
    "df6__ = df6__.loc[df6__['Exist'] != 'both']\n",
    "df6__[\"Exist\"].value_counts()"
   ]
  },
  {
   "cell_type": "code",
   "execution_count": 871,
   "id": "98047b2e",
   "metadata": {},
   "outputs": [
    {
     "data": {
      "text/plain": [
       "both          5249190\n",
       "left_only           0\n",
       "right_only          0\n",
       "Name: Exist, dtype: int64"
      ]
     },
     "execution_count": 871,
     "metadata": {},
     "output_type": "execute_result"
    }
   ],
   "source": [
    "df6__ = pd.merge(df_vehicle, df6_vehicle, how='outer', indicator='Exist')\n",
    "df6__ = df6__.loc[df6__['Exist'] == 'both']\n",
    "df6__[\"Exist\"].value_counts()"
   ]
  },
  {
   "cell_type": "markdown",
   "id": "e06163c5",
   "metadata": {},
   "source": [
    "# df4_ ve df5_\n",
    "\n",
    "# 169521 ortak 175571 df5_ de fazla"
   ]
  },
  {
   "cell_type": "code",
   "execution_count": 872,
   "id": "42201530",
   "metadata": {},
   "outputs": [
    {
     "data": {
      "text/plain": [
       "(169525,)"
      ]
     },
     "execution_count": 872,
     "metadata": {},
     "output_type": "execute_result"
    }
   ],
   "source": [
    "df4_vehicle.shape"
   ]
  },
  {
   "cell_type": "code",
   "execution_count": 873,
   "id": "564511b0",
   "metadata": {},
   "outputs": [
    {
     "data": {
      "text/plain": [
       "169521"
      ]
     },
     "execution_count": 873,
     "metadata": {},
     "output_type": "execute_result"
    }
   ],
   "source": [
    "df4_vehicle.nunique()"
   ]
  },
  {
   "cell_type": "code",
   "execution_count": 874,
   "id": "95107e4a",
   "metadata": {},
   "outputs": [
    {
     "data": {
      "text/plain": [
       "(345092,)"
      ]
     },
     "execution_count": 874,
     "metadata": {},
     "output_type": "execute_result"
    }
   ],
   "source": [
    "df5_vehicle.shape"
   ]
  },
  {
   "cell_type": "code",
   "execution_count": 875,
   "id": "b8edc1fc",
   "metadata": {},
   "outputs": [
    {
     "data": {
      "text/plain": [
       "345092"
      ]
     },
     "execution_count": 875,
     "metadata": {},
     "output_type": "execute_result"
    }
   ],
   "source": [
    "df5_vehicle.nunique()"
   ]
  },
  {
   "cell_type": "code",
   "execution_count": 876,
   "id": "cabd97da",
   "metadata": {},
   "outputs": [
    {
     "data": {
      "text/plain": [
       "vehicle_id    169521\n",
       "dtype: int64"
      ]
     },
     "execution_count": 876,
     "metadata": {},
     "output_type": "execute_result"
    }
   ],
   "source": [
    "pd.merge(df4_vehicle, df5_vehicle, how='inner').nunique()"
   ]
  },
  {
   "cell_type": "code",
   "execution_count": 877,
   "id": "46ed52c6",
   "metadata": {},
   "outputs": [
    {
     "data": {
      "text/plain": [
       "right_only    175571\n",
       "left_only          0\n",
       "both               0\n",
       "Name: Exist, dtype: int64"
      ]
     },
     "execution_count": 877,
     "metadata": {},
     "output_type": "execute_result"
    }
   ],
   "source": [
    "df45__ = pd.merge(df4_, df5_, on=\"vehicle_id\", how='outer', indicator='Exist')\n",
    "df45__  = df45__.loc[df45__['Exist'] != 'both']\n",
    "df45__[\"Exist\"].value_counts()"
   ]
  },
  {
   "cell_type": "markdown",
   "id": "e23721b4",
   "metadata": {},
   "source": [
    "# df4_ ve df6_\n",
    "\n",
    "# 121830 ortak 47693 df4_ de fazla"
   ]
  },
  {
   "cell_type": "code",
   "execution_count": 878,
   "id": "913d1db3",
   "metadata": {},
   "outputs": [
    {
     "data": {
      "text/plain": [
       "(169525,)"
      ]
     },
     "execution_count": 878,
     "metadata": {},
     "output_type": "execute_result"
    }
   ],
   "source": [
    "df4_vehicle.shape"
   ]
  },
  {
   "cell_type": "code",
   "execution_count": 879,
   "id": "ac9680d7",
   "metadata": {},
   "outputs": [
    {
     "data": {
      "text/plain": [
       "169521"
      ]
     },
     "execution_count": 879,
     "metadata": {},
     "output_type": "execute_result"
    }
   ],
   "source": [
    "df4_vehicle.nunique()"
   ]
  },
  {
   "cell_type": "code",
   "execution_count": 880,
   "id": "7d2ca1a8",
   "metadata": {},
   "outputs": [
    {
     "data": {
      "text/plain": [
       "(1041000,)"
      ]
     },
     "execution_count": 880,
     "metadata": {},
     "output_type": "execute_result"
    }
   ],
   "source": [
    "df6_vehicle.shape"
   ]
  },
  {
   "cell_type": "code",
   "execution_count": 881,
   "id": "4ab4243f",
   "metadata": {},
   "outputs": [
    {
     "data": {
      "text/plain": [
       "225447"
      ]
     },
     "execution_count": 881,
     "metadata": {},
     "output_type": "execute_result"
    }
   ],
   "source": [
    "df6_vehicle.nunique()"
   ]
  },
  {
   "cell_type": "code",
   "execution_count": 882,
   "id": "d1d41e4b",
   "metadata": {},
   "outputs": [
    {
     "data": {
      "text/plain": [
       "vehicle_id    121830\n",
       "dtype: int64"
      ]
     },
     "execution_count": 882,
     "metadata": {},
     "output_type": "execute_result"
    }
   ],
   "source": [
    "pd.merge(df4_vehicle, df6_vehicle, how='inner').nunique()"
   ]
  },
  {
   "cell_type": "code",
   "execution_count": 883,
   "id": "f16c8faa",
   "metadata": {},
   "outputs": [
    {
     "data": {
      "text/plain": [
       "right_only    359663\n",
       "left_only      47693\n",
       "both               0\n",
       "Name: Exist, dtype: int64"
      ]
     },
     "execution_count": 883,
     "metadata": {},
     "output_type": "execute_result"
    }
   ],
   "source": [
    "df46__ = pd.merge(df4_, df6_, on=\"vehicle_id\", how='outer', indicator='Exist')\n",
    "df46__  = df46__.loc[df46__['Exist'] != 'both']\n",
    "df46__[\"Exist\"].value_counts()"
   ]
  },
  {
   "cell_type": "code",
   "execution_count": null,
   "id": "64265b8a",
   "metadata": {},
   "outputs": [],
   "source": []
  },
  {
   "cell_type": "markdown",
   "id": "324e9879",
   "metadata": {},
   "source": [
    "# df5_ ve df6_\n",
    "\n",
    "# 225447 ortak  df5_ de 119645 fazlalik var"
   ]
  },
  {
   "cell_type": "code",
   "execution_count": 884,
   "id": "3ce001a3",
   "metadata": {},
   "outputs": [
    {
     "data": {
      "text/plain": [
       "(345092,)"
      ]
     },
     "execution_count": 884,
     "metadata": {},
     "output_type": "execute_result"
    }
   ],
   "source": [
    "df5_vehicle.shape"
   ]
  },
  {
   "cell_type": "code",
   "execution_count": 885,
   "id": "648b045e",
   "metadata": {},
   "outputs": [
    {
     "data": {
      "text/plain": [
       "345092"
      ]
     },
     "execution_count": 885,
     "metadata": {},
     "output_type": "execute_result"
    }
   ],
   "source": [
    "df5_vehicle.nunique()"
   ]
  },
  {
   "cell_type": "code",
   "execution_count": 886,
   "id": "dadd8137",
   "metadata": {},
   "outputs": [
    {
     "data": {
      "text/plain": [
       "(1041000,)"
      ]
     },
     "execution_count": 886,
     "metadata": {},
     "output_type": "execute_result"
    }
   ],
   "source": [
    "df6_vehicle.shape"
   ]
  },
  {
   "cell_type": "code",
   "execution_count": 887,
   "id": "27a40c7d",
   "metadata": {},
   "outputs": [
    {
     "data": {
      "text/plain": [
       "225447"
      ]
     },
     "execution_count": 887,
     "metadata": {},
     "output_type": "execute_result"
    }
   ],
   "source": [
    "df6_vehicle.nunique()"
   ]
  },
  {
   "cell_type": "code",
   "execution_count": 888,
   "id": "80fbb618",
   "metadata": {
    "scrolled": true
   },
   "outputs": [
    {
     "data": {
      "text/plain": [
       "vehicle_id    225447\n",
       "dtype: int64"
      ]
     },
     "execution_count": 888,
     "metadata": {},
     "output_type": "execute_result"
    }
   ],
   "source": [
    "pd.merge(df5_vehicle, df6_vehicle, how='inner').nunique()"
   ]
  },
  {
   "cell_type": "code",
   "execution_count": 889,
   "id": "82518727",
   "metadata": {},
   "outputs": [
    {
     "data": {
      "text/plain": [
       "left_only     119645\n",
       "right_only         0\n",
       "both               0\n",
       "Name: Exist, dtype: int64"
      ]
     },
     "execution_count": 889,
     "metadata": {},
     "output_type": "execute_result"
    }
   ],
   "source": [
    "df56__ = pd.merge(df5_, df6_, on=\"vehicle_id\", how='outer', indicator='Exist')\n",
    "df56__  = df56__.loc[df56__['Exist'] != 'both']\n",
    "df56__[\"Exist\"].value_counts()"
   ]
  },
  {
   "cell_type": "markdown",
   "id": "970ea016",
   "metadata": {},
   "source": [
    "# df_ ve df3_\n",
    "\n",
    "# 147268 ortak 82481 df3_de fazla"
   ]
  },
  {
   "cell_type": "code",
   "execution_count": 890,
   "id": "026276ec",
   "metadata": {},
   "outputs": [
    {
     "data": {
      "text/plain": [
       "(1671022,)"
      ]
     },
     "execution_count": 890,
     "metadata": {},
     "output_type": "execute_result"
    }
   ],
   "source": [
    "df_[\"customer_id\"].shape"
   ]
  },
  {
   "cell_type": "code",
   "execution_count": 891,
   "id": "8f76288e",
   "metadata": {},
   "outputs": [
    {
     "data": {
      "text/plain": [
       "714249"
      ]
     },
     "execution_count": 891,
     "metadata": {},
     "output_type": "execute_result"
    }
   ],
   "source": [
    "df_[\"customer_id\"].nunique()"
   ]
  },
  {
   "cell_type": "code",
   "execution_count": 892,
   "id": "521d3d3f",
   "metadata": {},
   "outputs": [
    {
     "data": {
      "text/plain": [
       "(397526,)"
      ]
     },
     "execution_count": 892,
     "metadata": {},
     "output_type": "execute_result"
    }
   ],
   "source": [
    "df3_[\"customer_id\"].shape"
   ]
  },
  {
   "cell_type": "code",
   "execution_count": 893,
   "id": "b2651d4e",
   "metadata": {},
   "outputs": [
    {
     "data": {
      "text/plain": [
       "183523"
      ]
     },
     "execution_count": 893,
     "metadata": {},
     "output_type": "execute_result"
    }
   ],
   "source": [
    "df3_[\"customer_id\"].nunique()"
   ]
  },
  {
   "cell_type": "code",
   "execution_count": 894,
   "id": "caddd502",
   "metadata": {},
   "outputs": [
    {
     "data": {
      "text/plain": [
       "customer_id    147268\n",
       "dtype: int64"
      ]
     },
     "execution_count": 894,
     "metadata": {},
     "output_type": "execute_result"
    }
   ],
   "source": [
    "pd.merge(df_[\"customer_id\"], df3_[\"customer_id\"], how='inner').nunique()"
   ]
  },
  {
   "cell_type": "code",
   "execution_count": 895,
   "id": "2ad69706",
   "metadata": {},
   "outputs": [
    {
     "data": {
      "text/plain": [
       "left_only     1230162\n",
       "right_only      82481\n",
       "both                0\n",
       "Name: Exist, dtype: int64"
      ]
     },
     "execution_count": 895,
     "metadata": {},
     "output_type": "execute_result"
    }
   ],
   "source": [
    "df_3__ = pd.merge(df_, df3_, on=\"customer_id\", how='outer', indicator='Exist')\n",
    "df_3__  = df_3__.loc[df_3__['Exist'] != 'both']\n",
    "df_3__[\"Exist\"].value_counts()"
   ]
  },
  {
   "cell_type": "markdown",
   "id": "f6801f1f",
   "metadata": {},
   "source": [
    "# df3_ ve df df4_ \n",
    "# 89233 ortakdf4_de 51808 fazla"
   ]
  },
  {
   "cell_type": "code",
   "execution_count": 896,
   "id": "66ce4c26",
   "metadata": {},
   "outputs": [
    {
     "data": {
      "text/plain": [
       "(397526,)"
      ]
     },
     "execution_count": 896,
     "metadata": {},
     "output_type": "execute_result"
    }
   ],
   "source": [
    "df3_[\"customer_id\"].shape"
   ]
  },
  {
   "cell_type": "code",
   "execution_count": 897,
   "id": "2ce37c49",
   "metadata": {},
   "outputs": [
    {
     "data": {
      "text/plain": [
       "183523"
      ]
     },
     "execution_count": 897,
     "metadata": {},
     "output_type": "execute_result"
    }
   ],
   "source": [
    "df3_[\"customer_id\"].nunique()"
   ]
  },
  {
   "cell_type": "code",
   "execution_count": 898,
   "id": "0a5a1f70",
   "metadata": {},
   "outputs": [
    {
     "data": {
      "text/plain": [
       "(169525,)"
      ]
     },
     "execution_count": 898,
     "metadata": {},
     "output_type": "execute_result"
    }
   ],
   "source": [
    "df4_[\"customer_id\"].shape"
   ]
  },
  {
   "cell_type": "code",
   "execution_count": 899,
   "id": "0c270793",
   "metadata": {},
   "outputs": [
    {
     "data": {
      "text/plain": [
       "138432"
      ]
     },
     "execution_count": 899,
     "metadata": {},
     "output_type": "execute_result"
    }
   ],
   "source": [
    "df4_[\"customer_id\"].nunique()"
   ]
  },
  {
   "cell_type": "code",
   "execution_count": 900,
   "id": "cc2957a4",
   "metadata": {},
   "outputs": [
    {
     "data": {
      "text/plain": [
       "customer_id    89233\n",
       "dtype: int64"
      ]
     },
     "execution_count": 900,
     "metadata": {},
     "output_type": "execute_result"
    }
   ],
   "source": [
    "pd.merge(df3_[\"customer_id\"], df4_[\"customer_id\"], how='inner').nunique()"
   ]
  },
  {
   "cell_type": "code",
   "execution_count": 901,
   "id": "d3c1dc45",
   "metadata": {},
   "outputs": [
    {
     "data": {
      "text/plain": [
       "left_only     152825\n",
       "right_only     51808\n",
       "both               0\n",
       "Name: Exist, dtype: int64"
      ]
     },
     "execution_count": 901,
     "metadata": {},
     "output_type": "execute_result"
    }
   ],
   "source": [
    "df34__ = pd.merge(df3_, df4_, on=\"customer_id\", how='outer', indicator='Exist')\n",
    "df34__ = df34__.loc[df34__['Exist'] != 'both']\n",
    "df34__[\"Exist\"].value_counts()"
   ]
  },
  {
   "cell_type": "markdown",
   "id": "eed5e082",
   "metadata": {},
   "source": [
    "# df_ ve df5_ merge"
   ]
  },
  {
   "cell_type": "code",
   "execution_count": 902,
   "id": "468def84",
   "metadata": {},
   "outputs": [
    {
     "data": {
      "text/plain": [
       "(1671022, 11)"
      ]
     },
     "execution_count": 902,
     "metadata": {},
     "output_type": "execute_result"
    }
   ],
   "source": [
    "df_.shape"
   ]
  },
  {
   "cell_type": "code",
   "execution_count": 903,
   "id": "0bfe28fd",
   "metadata": {},
   "outputs": [
    {
     "data": {
      "text/html": [
       "<div>\n",
       "<style scoped>\n",
       "    .dataframe tbody tr th:only-of-type {\n",
       "        vertical-align: middle;\n",
       "    }\n",
       "\n",
       "    .dataframe tbody tr th {\n",
       "        vertical-align: top;\n",
       "    }\n",
       "\n",
       "    .dataframe thead th {\n",
       "        text-align: right;\n",
       "    }\n",
       "</style>\n",
       "<table border=\"1\" class=\"dataframe\">\n",
       "  <thead>\n",
       "    <tr style=\"text-align: right;\">\n",
       "      <th></th>\n",
       "      <th>base_customer_id</th>\n",
       "      <th>customer_id</th>\n",
       "      <th>gender</th>\n",
       "      <th>marital_status</th>\n",
       "      <th>birth_date</th>\n",
       "      <th>fk_address_communication_city</th>\n",
       "      <th>occupation</th>\n",
       "      <th>vehicle_id</th>\n",
       "      <th>start_date</th>\n",
       "      <th>end_date</th>\n",
       "      <th>fk_relation_status_explanation</th>\n",
       "    </tr>\n",
       "  </thead>\n",
       "  <tbody>\n",
       "    <tr>\n",
       "      <th>0</th>\n",
       "      <td>168254</td>\n",
       "      <td>1507435</td>\n",
       "      <td>Erkek</td>\n",
       "      <td>Bekar</td>\n",
       "      <td>1988.000</td>\n",
       "      <td>Şanlıurfa</td>\n",
       "      <td>NaN</td>\n",
       "      <td>5329232</td>\n",
       "      <td>2019-09-20</td>\n",
       "      <td>NaN</td>\n",
       "      <td>Aktif Ruhsat Sahibi</td>\n",
       "    </tr>\n",
       "    <tr>\n",
       "      <th>1</th>\n",
       "      <td>168254</td>\n",
       "      <td>1507435</td>\n",
       "      <td>Erkek</td>\n",
       "      <td>Bekar</td>\n",
       "      <td>1988.000</td>\n",
       "      <td>Şanlıurfa</td>\n",
       "      <td>NaN</td>\n",
       "      <td>5183621</td>\n",
       "      <td>2015-09-14</td>\n",
       "      <td>2019-07-05</td>\n",
       "      <td>Pasif Ruhsat Sahibi</td>\n",
       "    </tr>\n",
       "  </tbody>\n",
       "</table>\n",
       "</div>"
      ],
      "text/plain": [
       "   base_customer_id  customer_id gender marital_status  birth_date  \\\n",
       "0            168254      1507435  Erkek          Bekar    1988.000   \n",
       "1            168254      1507435  Erkek          Bekar    1988.000   \n",
       "\n",
       "  fk_address_communication_city occupation  vehicle_id  start_date  \\\n",
       "0                     Şanlıurfa        NaN     5329232  2019-09-20   \n",
       "1                     Şanlıurfa        NaN     5183621  2015-09-14   \n",
       "\n",
       "     end_date fk_relation_status_explanation  \n",
       "0         NaN            Aktif Ruhsat Sahibi  \n",
       "1  2019-07-05            Pasif Ruhsat Sahibi  "
      ]
     },
     "execution_count": 903,
     "metadata": {},
     "output_type": "execute_result"
    }
   ],
   "source": [
    "df_.head(2)"
   ]
  },
  {
   "cell_type": "code",
   "execution_count": 904,
   "id": "9875309e",
   "metadata": {},
   "outputs": [
    {
     "data": {
      "text/plain": [
       "(345092, 7)"
      ]
     },
     "execution_count": 904,
     "metadata": {},
     "output_type": "execute_result"
    }
   ],
   "source": [
    "df5_.shape"
   ]
  },
  {
   "cell_type": "code",
   "execution_count": 905,
   "id": "c2ee3ed5",
   "metadata": {},
   "outputs": [
    {
     "data": {
      "text/html": [
       "<div>\n",
       "<style scoped>\n",
       "    .dataframe tbody tr th:only-of-type {\n",
       "        vertical-align: middle;\n",
       "    }\n",
       "\n",
       "    .dataframe tbody tr th {\n",
       "        vertical-align: top;\n",
       "    }\n",
       "\n",
       "    .dataframe thead th {\n",
       "        text-align: right;\n",
       "    }\n",
       "</style>\n",
       "<table border=\"1\" class=\"dataframe\">\n",
       "  <thead>\n",
       "    <tr style=\"text-align: right;\">\n",
       "      <th></th>\n",
       "      <th>vehicle_id</th>\n",
       "      <th>traffic_date</th>\n",
       "      <th>brand_code</th>\n",
       "      <th>basemodel_code</th>\n",
       "      <th>topmodel_code</th>\n",
       "      <th>motor_gas_type</th>\n",
       "      <th>gear_box_type</th>\n",
       "    </tr>\n",
       "  </thead>\n",
       "  <tbody>\n",
       "    <tr>\n",
       "      <th>0</th>\n",
       "      <td>5317713</td>\n",
       "      <td>2017-12-07</td>\n",
       "      <td>Z</td>\n",
       "      <td>13398</td>\n",
       "      <td>9349</td>\n",
       "      <td>Benzin</td>\n",
       "      <td>Manuel</td>\n",
       "    </tr>\n",
       "    <tr>\n",
       "      <th>1</th>\n",
       "      <td>5259212</td>\n",
       "      <td>2014-12-09</td>\n",
       "      <td>X</td>\n",
       "      <td>15694</td>\n",
       "      <td>9524</td>\n",
       "      <td>Dizel</td>\n",
       "      <td>Otomatik (DSG)</td>\n",
       "    </tr>\n",
       "  </tbody>\n",
       "</table>\n",
       "</div>"
      ],
      "text/plain": [
       "   vehicle_id traffic_date brand_code  basemodel_code  topmodel_code  \\\n",
       "0     5317713   2017-12-07          Z           13398           9349   \n",
       "1     5259212   2014-12-09          X           15694           9524   \n",
       "\n",
       "  motor_gas_type   gear_box_type  \n",
       "0         Benzin          Manuel  \n",
       "1          Dizel  Otomatik (DSG)  "
      ]
     },
     "execution_count": 905,
     "metadata": {},
     "output_type": "execute_result"
    }
   ],
   "source": [
    "df5_.head(2)"
   ]
  },
  {
   "cell_type": "code",
   "execution_count": 906,
   "id": "3afa3a21",
   "metadata": {},
   "outputs": [
    {
     "data": {
      "text/plain": [
       "300900"
      ]
     },
     "execution_count": 906,
     "metadata": {},
     "output_type": "execute_result"
    }
   ],
   "source": [
    "df_[\"vehicle_id\"].nunique()"
   ]
  },
  {
   "cell_type": "code",
   "execution_count": 907,
   "id": "c22356f4",
   "metadata": {},
   "outputs": [
    {
     "data": {
      "text/plain": [
       "166943"
      ]
     },
     "execution_count": 907,
     "metadata": {},
     "output_type": "execute_result"
    }
   ],
   "source": [
    "df_[\"base_customer_id\"].nunique()"
   ]
  },
  {
   "cell_type": "markdown",
   "id": "dea93c17",
   "metadata": {},
   "source": [
    "# stop"
   ]
  },
  {
   "cell_type": "code",
   "execution_count": 908,
   "id": "6b58031e",
   "metadata": {},
   "outputs": [
    {
     "data": {
      "text/plain": [
       "166943"
      ]
     },
     "execution_count": 908,
     "metadata": {},
     "output_type": "execute_result"
    }
   ],
   "source": [
    "df_ = df_.merge(df5_, on = \"vehicle_id\", how='left')\n",
    "df_[\"base_customer_id\"].nunique()\n",
    "# df712 idi 5 eklendi ortalik karisti"
   ]
  },
  {
   "cell_type": "code",
   "execution_count": 925,
   "id": "f3c78a62",
   "metadata": {},
   "outputs": [
    {
     "data": {
      "text/html": [
       "<div>\n",
       "<style scoped>\n",
       "    .dataframe tbody tr th:only-of-type {\n",
       "        vertical-align: middle;\n",
       "    }\n",
       "\n",
       "    .dataframe tbody tr th {\n",
       "        vertical-align: top;\n",
       "    }\n",
       "\n",
       "    .dataframe thead th {\n",
       "        text-align: right;\n",
       "    }\n",
       "</style>\n",
       "<table border=\"1\" class=\"dataframe\">\n",
       "  <thead>\n",
       "    <tr style=\"text-align: right;\">\n",
       "      <th></th>\n",
       "      <th>base_customer_id</th>\n",
       "      <th>customer_id</th>\n",
       "      <th>gender</th>\n",
       "      <th>marital_status</th>\n",
       "      <th>birth_date</th>\n",
       "      <th>fk_address_communication_city</th>\n",
       "      <th>occupation</th>\n",
       "      <th>vehicle_id_x</th>\n",
       "      <th>start_date_x</th>\n",
       "      <th>end_date_x</th>\n",
       "      <th>fk_relation_status_explanation_x</th>\n",
       "      <th>traffic_date</th>\n",
       "      <th>brand_code</th>\n",
       "      <th>basemodel_code</th>\n",
       "      <th>topmodel_code</th>\n",
       "      <th>motor_gas_type</th>\n",
       "      <th>gear_box_type</th>\n",
       "      <th>vehicle_id_y</th>\n",
       "      <th>start_date_y</th>\n",
       "      <th>end_date_y</th>\n",
       "      <th>fk_relation_status_explanation_y</th>\n",
       "    </tr>\n",
       "  </thead>\n",
       "  <tbody>\n",
       "    <tr>\n",
       "      <th>0</th>\n",
       "      <td>168254</td>\n",
       "      <td>1507435</td>\n",
       "      <td>Erkek</td>\n",
       "      <td>Bekar</td>\n",
       "      <td>1988.000</td>\n",
       "      <td>Şanlıurfa</td>\n",
       "      <td>NaN</td>\n",
       "      <td>5329232</td>\n",
       "      <td>2019-09-20</td>\n",
       "      <td>NaN</td>\n",
       "      <td>Aktif Ruhsat Sahibi</td>\n",
       "      <td>2019-03-05</td>\n",
       "      <td>Z</td>\n",
       "      <td>12643</td>\n",
       "      <td>9245</td>\n",
       "      <td>Dizel</td>\n",
       "      <td>NaN</td>\n",
       "      <td>5329232</td>\n",
       "      <td>2019-09-20</td>\n",
       "      <td>NaN</td>\n",
       "      <td>Aktif Ruhsat Sahibi</td>\n",
       "    </tr>\n",
       "    <tr>\n",
       "      <th>1</th>\n",
       "      <td>168254</td>\n",
       "      <td>1507435</td>\n",
       "      <td>Erkek</td>\n",
       "      <td>Bekar</td>\n",
       "      <td>1988.000</td>\n",
       "      <td>Şanlıurfa</td>\n",
       "      <td>NaN</td>\n",
       "      <td>5329232</td>\n",
       "      <td>2019-09-20</td>\n",
       "      <td>NaN</td>\n",
       "      <td>Aktif Ruhsat Sahibi</td>\n",
       "      <td>2019-03-05</td>\n",
       "      <td>Z</td>\n",
       "      <td>12643</td>\n",
       "      <td>9245</td>\n",
       "      <td>Dizel</td>\n",
       "      <td>NaN</td>\n",
       "      <td>5183621</td>\n",
       "      <td>2015-09-14</td>\n",
       "      <td>2019-07-05</td>\n",
       "      <td>Pasif Ruhsat Sahibi</td>\n",
       "    </tr>\n",
       "  </tbody>\n",
       "</table>\n",
       "</div>"
      ],
      "text/plain": [
       "   base_customer_id  customer_id gender marital_status  birth_date  \\\n",
       "0            168254      1507435  Erkek          Bekar    1988.000   \n",
       "1            168254      1507435  Erkek          Bekar    1988.000   \n",
       "\n",
       "  fk_address_communication_city occupation  vehicle_id_x start_date_x  \\\n",
       "0                     Şanlıurfa        NaN       5329232   2019-09-20   \n",
       "1                     Şanlıurfa        NaN       5329232   2019-09-20   \n",
       "\n",
       "  end_date_x fk_relation_status_explanation_x traffic_date brand_code  \\\n",
       "0        NaN              Aktif Ruhsat Sahibi   2019-03-05          Z   \n",
       "1        NaN              Aktif Ruhsat Sahibi   2019-03-05          Z   \n",
       "\n",
       "   basemodel_code  topmodel_code motor_gas_type gear_box_type  vehicle_id_y  \\\n",
       "0           12643           9245          Dizel           NaN       5329232   \n",
       "1           12643           9245          Dizel           NaN       5183621   \n",
       "\n",
       "  start_date_y  end_date_y fk_relation_status_explanation_y  \n",
       "0   2019-09-20         NaN              Aktif Ruhsat Sahibi  \n",
       "1   2015-09-14  2019-07-05              Pasif Ruhsat Sahibi  "
      ]
     },
     "execution_count": 925,
     "metadata": {},
     "output_type": "execute_result"
    }
   ],
   "source": [
    "df_.head(2)"
   ]
  },
  {
   "cell_type": "code",
   "execution_count": 924,
   "id": "a657753e",
   "metadata": {},
   "outputs": [
    {
     "data": {
      "text/plain": [
       "(28440948, 21)"
      ]
     },
     "execution_count": 924,
     "metadata": {},
     "output_type": "execute_result"
    }
   ],
   "source": [
    "df_.shape"
   ]
  },
  {
   "cell_type": "markdown",
   "id": "1103618e",
   "metadata": {},
   "source": [
    "# df_ ve df4_ merge"
   ]
  },
  {
   "cell_type": "code",
   "execution_count": 926,
   "id": "42ff89ef",
   "metadata": {},
   "outputs": [
    {
     "data": {
      "text/plain": [
       "300900"
      ]
     },
     "execution_count": 926,
     "metadata": {},
     "output_type": "execute_result"
    }
   ],
   "source": [
    "df_[\"vehicle_id_x\"].nunique()"
   ]
  },
  {
   "cell_type": "code",
   "execution_count": 927,
   "id": "530c127d",
   "metadata": {},
   "outputs": [
    {
     "data": {
      "text/plain": [
       "300900"
      ]
     },
     "execution_count": 927,
     "metadata": {},
     "output_type": "execute_result"
    }
   ],
   "source": [
    "df_[\"vehicle_id_y\"].nunique()"
   ]
  },
  {
   "cell_type": "markdown",
   "id": "6013ab98",
   "metadata": {},
   "source": [
    "# df_ ve df6_ merge"
   ]
  },
  {
   "cell_type": "code",
   "execution_count": null,
   "id": "0e4a63cb",
   "metadata": {},
   "outputs": [],
   "source": []
  },
  {
   "cell_type": "code",
   "execution_count": 911,
   "id": "ce2d8fe1",
   "metadata": {},
   "outputs": [
    {
     "data": {
      "text/html": [
       "<div>\n",
       "<style scoped>\n",
       "    .dataframe tbody tr th:only-of-type {\n",
       "        vertical-align: middle;\n",
       "    }\n",
       "\n",
       "    .dataframe tbody tr th {\n",
       "        vertical-align: top;\n",
       "    }\n",
       "\n",
       "    .dataframe thead th {\n",
       "        text-align: right;\n",
       "    }\n",
       "</style>\n",
       "<table border=\"1\" class=\"dataframe\">\n",
       "  <thead>\n",
       "    <tr style=\"text-align: right;\">\n",
       "      <th></th>\n",
       "      <th>vehicle_id</th>\n",
       "      <th>customer_id</th>\n",
       "      <th>create_date_sifirarac</th>\n",
       "    </tr>\n",
       "  </thead>\n",
       "  <tbody>\n",
       "    <tr>\n",
       "      <th>0</th>\n",
       "      <td>5015193</td>\n",
       "      <td>1063740</td>\n",
       "      <td>2005-01-01 19:08:33</td>\n",
       "    </tr>\n",
       "    <tr>\n",
       "      <th>1</th>\n",
       "      <td>5110231</td>\n",
       "      <td>1155678</td>\n",
       "      <td>2005-09-29 17:16:15</td>\n",
       "    </tr>\n",
       "    <tr>\n",
       "      <th>2</th>\n",
       "      <td>5290356</td>\n",
       "      <td>1737831</td>\n",
       "      <td>2016-04-29 13:12:10</td>\n",
       "    </tr>\n",
       "    <tr>\n",
       "      <th>3</th>\n",
       "      <td>5344576</td>\n",
       "      <td>1841362</td>\n",
       "      <td>2021-03-16 13:39:01</td>\n",
       "    </tr>\n",
       "    <tr>\n",
       "      <th>4</th>\n",
       "      <td>5094010</td>\n",
       "      <td>1066916</td>\n",
       "      <td>2005-04-20 09:51:19</td>\n",
       "    </tr>\n",
       "    <tr>\n",
       "      <th>...</th>\n",
       "      <td>...</td>\n",
       "      <td>...</td>\n",
       "      <td>...</td>\n",
       "    </tr>\n",
       "    <tr>\n",
       "      <th>169520</th>\n",
       "      <td>5160829</td>\n",
       "      <td>1269016</td>\n",
       "      <td>2009-06-10 16:16:15</td>\n",
       "    </tr>\n",
       "    <tr>\n",
       "      <th>169521</th>\n",
       "      <td>5098542</td>\n",
       "      <td>1157563</td>\n",
       "      <td>2005-08-01 12:07:57</td>\n",
       "    </tr>\n",
       "    <tr>\n",
       "      <th>169522</th>\n",
       "      <td>5148086</td>\n",
       "      <td>1156732</td>\n",
       "      <td>2007-12-28 17:15:09</td>\n",
       "    </tr>\n",
       "    <tr>\n",
       "      <th>169523</th>\n",
       "      <td>5263144</td>\n",
       "      <td>1032834</td>\n",
       "      <td>2015-06-24 11:19:15</td>\n",
       "    </tr>\n",
       "    <tr>\n",
       "      <th>169524</th>\n",
       "      <td>5026911</td>\n",
       "      <td>1058351</td>\n",
       "      <td>2005-01-01 14:46:45</td>\n",
       "    </tr>\n",
       "  </tbody>\n",
       "</table>\n",
       "<p>169525 rows × 3 columns</p>\n",
       "</div>"
      ],
      "text/plain": [
       "        vehicle_id  customer_id create_date_sifirarac\n",
       "0          5015193      1063740   2005-01-01 19:08:33\n",
       "1          5110231      1155678   2005-09-29 17:16:15\n",
       "2          5290356      1737831   2016-04-29 13:12:10\n",
       "3          5344576      1841362   2021-03-16 13:39:01\n",
       "4          5094010      1066916   2005-04-20 09:51:19\n",
       "...            ...          ...                   ...\n",
       "169520     5160829      1269016   2009-06-10 16:16:15\n",
       "169521     5098542      1157563   2005-08-01 12:07:57\n",
       "169522     5148086      1156732   2007-12-28 17:15:09\n",
       "169523     5263144      1032834   2015-06-24 11:19:15\n",
       "169524     5026911      1058351   2005-01-01 14:46:45\n",
       "\n",
       "[169525 rows x 3 columns]"
      ]
     },
     "execution_count": 911,
     "metadata": {},
     "output_type": "execute_result"
    }
   ],
   "source": [
    "df4_.rename({'create_date': 'create_date_sifirarac'}, axis=1, inplace=True)\n",
    "df4_"
   ]
  },
  {
   "cell_type": "code",
   "execution_count": 912,
   "id": "d0648721",
   "metadata": {},
   "outputs": [
    {
     "data": {
      "text/plain": [
       "vehicle_id    169521\n",
       "dtype: int64"
      ]
     },
     "execution_count": 912,
     "metadata": {},
     "output_type": "execute_result"
    }
   ],
   "source": [
    "pd.merge(df4_vehicle, df5_vehicle, how='inner').nunique()"
   ]
  },
  {
   "cell_type": "code",
   "execution_count": null,
   "id": "bf7ebc33",
   "metadata": {},
   "outputs": [],
   "source": []
  },
  {
   "cell_type": "code",
   "execution_count": 913,
   "id": "923104a4",
   "metadata": {},
   "outputs": [
    {
     "data": {
      "text/plain": [
       "166943"
      ]
     },
     "execution_count": 913,
     "metadata": {},
     "output_type": "execute_result"
    }
   ],
   "source": [
    "df_ = df_.merge(df2_, on = \"base_customer_id\", how='left')\n",
    "df_[\"base_customer_id\"].nunique()\n",
    "# df7_+df_1(BaseCustID)+df3_(CustomerID)"
   ]
  },
  {
   "cell_type": "code",
   "execution_count": 914,
   "id": "72f7025a",
   "metadata": {},
   "outputs": [
    {
     "data": {
      "text/plain": [
       "1         110802\n",
       "2         160615\n",
       "3         115664\n",
       "4          81061\n",
       "5         127152\n",
       "           ...  \n",
       "374870    168053\n",
       "374874    154304\n",
       "374875     75199\n",
       "374876      9036\n",
       "374877     33936\n",
       "Name: base_customer_id, Length: 215122, dtype: int64"
      ]
     },
     "execution_count": 914,
     "metadata": {},
     "output_type": "execute_result"
    }
   ],
   "source": [
    "df2_aktif = df2_[df2_[\"fk_relation_status_explanation\"]==\"Aktif Ruhsat Sahibi\"][\"base_customer_id\"]\n",
    "df2_aktif"
   ]
  },
  {
   "cell_type": "code",
   "execution_count": 915,
   "id": "e392223e",
   "metadata": {},
   "outputs": [
    {
     "data": {
      "text/plain": [
       "0         189537\n",
       "6         153835\n",
       "10        164581\n",
       "11        111788\n",
       "16        154311\n",
       "           ...  \n",
       "374869    168053\n",
       "374871     93551\n",
       "374872    157467\n",
       "374873    133546\n",
       "374878     91144\n",
       "Name: base_customer_id, Length: 159757, dtype: int64"
      ]
     },
     "execution_count": 915,
     "metadata": {},
     "output_type": "execute_result"
    }
   ],
   "source": [
    "df2_pasif = df2_[df2_[\"fk_relation_status_explanation\"]==\"Pasif Ruhsat Sahibi\"][\"base_customer_id\"]\n",
    "df2_pasif "
   ]
  },
  {
   "cell_type": "code",
   "execution_count": 916,
   "id": "32daec45",
   "metadata": {},
   "outputs": [
    {
     "data": {
      "text/plain": [
       "(374879, 5)"
      ]
     },
     "execution_count": 916,
     "metadata": {},
     "output_type": "execute_result"
    }
   ],
   "source": [
    "df2_.shape"
   ]
  },
  {
   "cell_type": "code",
   "execution_count": 917,
   "id": "d4ca6970",
   "metadata": {},
   "outputs": [
    {
     "data": {
      "text/plain": [
       "131        55526\n",
       "175       194513\n",
       "183       183147\n",
       "188       192492\n",
       "196       180052\n",
       "           ...  \n",
       "374834    104036\n",
       "374842    155760\n",
       "374858     22680\n",
       "374863    124954\n",
       "374865    167802\n",
       "Name: base_customer_id, Length: 106685, dtype: int64"
      ]
     },
     "execution_count": 917,
     "metadata": {},
     "output_type": "execute_result"
    }
   ],
   "source": [
    "df_diff = pd.concat([df2_pasif, df2_aktif]).drop_duplicates(keep=False)\n",
    "df_diff"
   ]
  },
  {
   "cell_type": "code",
   "execution_count": 918,
   "id": "0d9dcf36",
   "metadata": {},
   "outputs": [
    {
     "data": {
      "text/plain": [
       "53072"
      ]
     },
     "execution_count": 918,
     "metadata": {},
     "output_type": "execute_result"
    }
   ],
   "source": [
    "159757-106685"
   ]
  },
  {
   "cell_type": "code",
   "execution_count": 919,
   "id": "173593cf",
   "metadata": {},
   "outputs": [
    {
     "data": {
      "text/plain": [
       "(28440948, 21)"
      ]
     },
     "execution_count": 919,
     "metadata": {},
     "output_type": "execute_result"
    }
   ],
   "source": [
    "df_.shape"
   ]
  },
  {
   "cell_type": "code",
   "execution_count": 920,
   "id": "a6af09a4",
   "metadata": {},
   "outputs": [
    {
     "data": {
      "text/html": [
       "<div>\n",
       "<style scoped>\n",
       "    .dataframe tbody tr th:only-of-type {\n",
       "        vertical-align: middle;\n",
       "    }\n",
       "\n",
       "    .dataframe tbody tr th {\n",
       "        vertical-align: top;\n",
       "    }\n",
       "\n",
       "    .dataframe thead th {\n",
       "        text-align: right;\n",
       "    }\n",
       "</style>\n",
       "<table border=\"1\" class=\"dataframe\">\n",
       "  <thead>\n",
       "    <tr style=\"text-align: right;\">\n",
       "      <th></th>\n",
       "      <th>base_customer_id</th>\n",
       "      <th>customer_id</th>\n",
       "      <th>gender</th>\n",
       "      <th>marital_status</th>\n",
       "      <th>birth_date</th>\n",
       "      <th>fk_address_communication_city</th>\n",
       "      <th>occupation</th>\n",
       "      <th>vehicle_id_x</th>\n",
       "      <th>start_date_x</th>\n",
       "      <th>end_date_x</th>\n",
       "      <th>fk_relation_status_explanation_x</th>\n",
       "      <th>traffic_date</th>\n",
       "      <th>brand_code</th>\n",
       "      <th>basemodel_code</th>\n",
       "      <th>topmodel_code</th>\n",
       "      <th>motor_gas_type</th>\n",
       "      <th>gear_box_type</th>\n",
       "      <th>vehicle_id_y</th>\n",
       "      <th>start_date_y</th>\n",
       "      <th>end_date_y</th>\n",
       "      <th>fk_relation_status_explanation_y</th>\n",
       "    </tr>\n",
       "  </thead>\n",
       "  <tbody>\n",
       "    <tr>\n",
       "      <th>0</th>\n",
       "      <td>168254</td>\n",
       "      <td>1507435</td>\n",
       "      <td>Erkek</td>\n",
       "      <td>Bekar</td>\n",
       "      <td>1988.000</td>\n",
       "      <td>Şanlıurfa</td>\n",
       "      <td>NaN</td>\n",
       "      <td>5329232</td>\n",
       "      <td>2019-09-20</td>\n",
       "      <td>NaN</td>\n",
       "      <td>Aktif Ruhsat Sahibi</td>\n",
       "      <td>2019-03-05</td>\n",
       "      <td>Z</td>\n",
       "      <td>12643</td>\n",
       "      <td>9245</td>\n",
       "      <td>Dizel</td>\n",
       "      <td>NaN</td>\n",
       "      <td>5329232</td>\n",
       "      <td>2019-09-20</td>\n",
       "      <td>NaN</td>\n",
       "      <td>Aktif Ruhsat Sahibi</td>\n",
       "    </tr>\n",
       "    <tr>\n",
       "      <th>1</th>\n",
       "      <td>168254</td>\n",
       "      <td>1507435</td>\n",
       "      <td>Erkek</td>\n",
       "      <td>Bekar</td>\n",
       "      <td>1988.000</td>\n",
       "      <td>Şanlıurfa</td>\n",
       "      <td>NaN</td>\n",
       "      <td>5329232</td>\n",
       "      <td>2019-09-20</td>\n",
       "      <td>NaN</td>\n",
       "      <td>Aktif Ruhsat Sahibi</td>\n",
       "      <td>2019-03-05</td>\n",
       "      <td>Z</td>\n",
       "      <td>12643</td>\n",
       "      <td>9245</td>\n",
       "      <td>Dizel</td>\n",
       "      <td>NaN</td>\n",
       "      <td>5183621</td>\n",
       "      <td>2015-09-14</td>\n",
       "      <td>2019-07-05</td>\n",
       "      <td>Pasif Ruhsat Sahibi</td>\n",
       "    </tr>\n",
       "    <tr>\n",
       "      <th>2</th>\n",
       "      <td>168254</td>\n",
       "      <td>1507435</td>\n",
       "      <td>Erkek</td>\n",
       "      <td>Bekar</td>\n",
       "      <td>1988.000</td>\n",
       "      <td>Şanlıurfa</td>\n",
       "      <td>NaN</td>\n",
       "      <td>5329232</td>\n",
       "      <td>2019-09-20</td>\n",
       "      <td>NaN</td>\n",
       "      <td>Aktif Ruhsat Sahibi</td>\n",
       "      <td>2019-03-05</td>\n",
       "      <td>Z</td>\n",
       "      <td>12643</td>\n",
       "      <td>9245</td>\n",
       "      <td>Dizel</td>\n",
       "      <td>NaN</td>\n",
       "      <td>5208488</td>\n",
       "      <td>2012-09-15</td>\n",
       "      <td>2014-02-19</td>\n",
       "      <td>Pasif Ruhsat Sahibi</td>\n",
       "    </tr>\n",
       "    <tr>\n",
       "      <th>3</th>\n",
       "      <td>168254</td>\n",
       "      <td>1507435</td>\n",
       "      <td>Erkek</td>\n",
       "      <td>Bekar</td>\n",
       "      <td>1988.000</td>\n",
       "      <td>Şanlıurfa</td>\n",
       "      <td>NaN</td>\n",
       "      <td>5329232</td>\n",
       "      <td>2019-09-20</td>\n",
       "      <td>NaN</td>\n",
       "      <td>Aktif Ruhsat Sahibi</td>\n",
       "      <td>2019-03-05</td>\n",
       "      <td>Z</td>\n",
       "      <td>12643</td>\n",
       "      <td>9245</td>\n",
       "      <td>Dizel</td>\n",
       "      <td>NaN</td>\n",
       "      <td>5310923</td>\n",
       "      <td>2018-07-19</td>\n",
       "      <td>2019-08-16</td>\n",
       "      <td>Pasif Ruhsat Sahibi</td>\n",
       "    </tr>\n",
       "    <tr>\n",
       "      <th>4</th>\n",
       "      <td>168254</td>\n",
       "      <td>1507435</td>\n",
       "      <td>Erkek</td>\n",
       "      <td>Bekar</td>\n",
       "      <td>1988.000</td>\n",
       "      <td>Şanlıurfa</td>\n",
       "      <td>NaN</td>\n",
       "      <td>5329232</td>\n",
       "      <td>2019-09-20</td>\n",
       "      <td>NaN</td>\n",
       "      <td>Aktif Ruhsat Sahibi</td>\n",
       "      <td>2019-03-05</td>\n",
       "      <td>Z</td>\n",
       "      <td>12643</td>\n",
       "      <td>9245</td>\n",
       "      <td>Dizel</td>\n",
       "      <td>NaN</td>\n",
       "      <td>5311914</td>\n",
       "      <td>2019-03-29</td>\n",
       "      <td>2021-02-10</td>\n",
       "      <td>Pasif Ruhsat Sahibi</td>\n",
       "    </tr>\n",
       "  </tbody>\n",
       "</table>\n",
       "</div>"
      ],
      "text/plain": [
       "   base_customer_id  customer_id gender marital_status  birth_date  \\\n",
       "0            168254      1507435  Erkek          Bekar    1988.000   \n",
       "1            168254      1507435  Erkek          Bekar    1988.000   \n",
       "2            168254      1507435  Erkek          Bekar    1988.000   \n",
       "3            168254      1507435  Erkek          Bekar    1988.000   \n",
       "4            168254      1507435  Erkek          Bekar    1988.000   \n",
       "\n",
       "  fk_address_communication_city occupation  vehicle_id_x start_date_x  \\\n",
       "0                     Şanlıurfa        NaN       5329232   2019-09-20   \n",
       "1                     Şanlıurfa        NaN       5329232   2019-09-20   \n",
       "2                     Şanlıurfa        NaN       5329232   2019-09-20   \n",
       "3                     Şanlıurfa        NaN       5329232   2019-09-20   \n",
       "4                     Şanlıurfa        NaN       5329232   2019-09-20   \n",
       "\n",
       "  end_date_x fk_relation_status_explanation_x traffic_date brand_code  \\\n",
       "0        NaN              Aktif Ruhsat Sahibi   2019-03-05          Z   \n",
       "1        NaN              Aktif Ruhsat Sahibi   2019-03-05          Z   \n",
       "2        NaN              Aktif Ruhsat Sahibi   2019-03-05          Z   \n",
       "3        NaN              Aktif Ruhsat Sahibi   2019-03-05          Z   \n",
       "4        NaN              Aktif Ruhsat Sahibi   2019-03-05          Z   \n",
       "\n",
       "   basemodel_code  topmodel_code motor_gas_type gear_box_type  vehicle_id_y  \\\n",
       "0           12643           9245          Dizel           NaN       5329232   \n",
       "1           12643           9245          Dizel           NaN       5183621   \n",
       "2           12643           9245          Dizel           NaN       5208488   \n",
       "3           12643           9245          Dizel           NaN       5310923   \n",
       "4           12643           9245          Dizel           NaN       5311914   \n",
       "\n",
       "  start_date_y  end_date_y fk_relation_status_explanation_y  \n",
       "0   2019-09-20         NaN              Aktif Ruhsat Sahibi  \n",
       "1   2015-09-14  2019-07-05              Pasif Ruhsat Sahibi  \n",
       "2   2012-09-15  2014-02-19              Pasif Ruhsat Sahibi  \n",
       "3   2018-07-19  2019-08-16              Pasif Ruhsat Sahibi  \n",
       "4   2019-03-29  2021-02-10              Pasif Ruhsat Sahibi  "
      ]
     },
     "execution_count": 920,
     "metadata": {},
     "output_type": "execute_result"
    }
   ],
   "source": [
    "df_.head()"
   ]
  },
  {
   "cell_type": "code",
   "execution_count": 921,
   "id": "78b04e17",
   "metadata": {},
   "outputs": [
    {
     "ename": "KeyError",
     "evalue": "'vehicle_id'",
     "output_type": "error",
     "traceback": [
      "\u001b[1;31m---------------------------------------------------------------------------\u001b[0m",
      "\u001b[1;31mKeyError\u001b[0m                                  Traceback (most recent call last)",
      "\u001b[1;32m<ipython-input-921-bfe5cec959d7>\u001b[0m in \u001b[0;36m<module>\u001b[1;34m\u001b[0m\n\u001b[1;32m----> 1\u001b[1;33m \u001b[0mdf_\u001b[0m \u001b[1;33m=\u001b[0m \u001b[0mdf_\u001b[0m\u001b[1;33m.\u001b[0m\u001b[0mmerge\u001b[0m\u001b[1;33m(\u001b[0m\u001b[0mdf6_\u001b[0m\u001b[1;33m,\u001b[0m \u001b[0mon\u001b[0m \u001b[1;33m=\u001b[0m \u001b[1;34m\"vehicle_id\"\u001b[0m\u001b[1;33m,\u001b[0m \u001b[0mhow\u001b[0m\u001b[1;33m=\u001b[0m\u001b[1;34m'left'\u001b[0m\u001b[1;33m)\u001b[0m\u001b[1;33m\u001b[0m\u001b[1;33m\u001b[0m\u001b[0m\n\u001b[0m\u001b[0;32m      2\u001b[0m \u001b[0mdf_\u001b[0m\u001b[1;33m[\u001b[0m\u001b[1;34m\"base_customer_id\"\u001b[0m\u001b[1;33m]\u001b[0m\u001b[1;33m.\u001b[0m\u001b[0mnunique\u001b[0m\u001b[1;33m(\u001b[0m\u001b[1;33m)\u001b[0m\u001b[1;33m\u001b[0m\u001b[1;33m\u001b[0m\u001b[0m\n\u001b[0;32m      3\u001b[0m \u001b[1;31m# df7_+df_1(BaseCustID)+df3_(CustomerID)\u001b[0m\u001b[1;33m\u001b[0m\u001b[1;33m\u001b[0m\u001b[1;33m\u001b[0m\u001b[0m\n",
      "\u001b[1;32m~\\anaconda3\\lib\\site-packages\\pandas\\core\\frame.py\u001b[0m in \u001b[0;36mmerge\u001b[1;34m(self, right, how, on, left_on, right_on, left_index, right_index, sort, suffixes, copy, indicator, validate)\u001b[0m\n\u001b[0;32m   8206\u001b[0m             \u001b[0mcopy\u001b[0m\u001b[1;33m=\u001b[0m\u001b[0mcopy\u001b[0m\u001b[1;33m,\u001b[0m\u001b[1;33m\u001b[0m\u001b[1;33m\u001b[0m\u001b[0m\n\u001b[0;32m   8207\u001b[0m             \u001b[0mindicator\u001b[0m\u001b[1;33m=\u001b[0m\u001b[0mindicator\u001b[0m\u001b[1;33m,\u001b[0m\u001b[1;33m\u001b[0m\u001b[1;33m\u001b[0m\u001b[0m\n\u001b[1;32m-> 8208\u001b[1;33m             \u001b[0mvalidate\u001b[0m\u001b[1;33m=\u001b[0m\u001b[0mvalidate\u001b[0m\u001b[1;33m,\u001b[0m\u001b[1;33m\u001b[0m\u001b[1;33m\u001b[0m\u001b[0m\n\u001b[0m\u001b[0;32m   8209\u001b[0m         )\n\u001b[0;32m   8210\u001b[0m \u001b[1;33m\u001b[0m\u001b[0m\n",
      "\u001b[1;32m~\\anaconda3\\lib\\site-packages\\pandas\\core\\reshape\\merge.py\u001b[0m in \u001b[0;36mmerge\u001b[1;34m(left, right, how, on, left_on, right_on, left_index, right_index, sort, suffixes, copy, indicator, validate)\u001b[0m\n\u001b[0;32m     85\u001b[0m         \u001b[0mcopy\u001b[0m\u001b[1;33m=\u001b[0m\u001b[0mcopy\u001b[0m\u001b[1;33m,\u001b[0m\u001b[1;33m\u001b[0m\u001b[1;33m\u001b[0m\u001b[0m\n\u001b[0;32m     86\u001b[0m         \u001b[0mindicator\u001b[0m\u001b[1;33m=\u001b[0m\u001b[0mindicator\u001b[0m\u001b[1;33m,\u001b[0m\u001b[1;33m\u001b[0m\u001b[1;33m\u001b[0m\u001b[0m\n\u001b[1;32m---> 87\u001b[1;33m         \u001b[0mvalidate\u001b[0m\u001b[1;33m=\u001b[0m\u001b[0mvalidate\u001b[0m\u001b[1;33m,\u001b[0m\u001b[1;33m\u001b[0m\u001b[1;33m\u001b[0m\u001b[0m\n\u001b[0m\u001b[0;32m     88\u001b[0m     )\n\u001b[0;32m     89\u001b[0m     \u001b[1;32mreturn\u001b[0m \u001b[0mop\u001b[0m\u001b[1;33m.\u001b[0m\u001b[0mget_result\u001b[0m\u001b[1;33m(\u001b[0m\u001b[1;33m)\u001b[0m\u001b[1;33m\u001b[0m\u001b[1;33m\u001b[0m\u001b[0m\n",
      "\u001b[1;32m~\\anaconda3\\lib\\site-packages\\pandas\\core\\reshape\\merge.py\u001b[0m in \u001b[0;36m__init__\u001b[1;34m(self, left, right, how, on, left_on, right_on, axis, left_index, right_index, sort, suffixes, copy, indicator, validate)\u001b[0m\n\u001b[0;32m    666\u001b[0m             \u001b[0mself\u001b[0m\u001b[1;33m.\u001b[0m\u001b[0mright_join_keys\u001b[0m\u001b[1;33m,\u001b[0m\u001b[1;33m\u001b[0m\u001b[1;33m\u001b[0m\u001b[0m\n\u001b[0;32m    667\u001b[0m             \u001b[0mself\u001b[0m\u001b[1;33m.\u001b[0m\u001b[0mjoin_names\u001b[0m\u001b[1;33m,\u001b[0m\u001b[1;33m\u001b[0m\u001b[1;33m\u001b[0m\u001b[0m\n\u001b[1;32m--> 668\u001b[1;33m         ) = self._get_merge_keys()\n\u001b[0m\u001b[0;32m    669\u001b[0m \u001b[1;33m\u001b[0m\u001b[0m\n\u001b[0;32m    670\u001b[0m         \u001b[1;31m# validate the merge keys dtypes. We may need to coerce\u001b[0m\u001b[1;33m\u001b[0m\u001b[1;33m\u001b[0m\u001b[1;33m\u001b[0m\u001b[0m\n",
      "\u001b[1;32m~\\anaconda3\\lib\\site-packages\\pandas\\core\\reshape\\merge.py\u001b[0m in \u001b[0;36m_get_merge_keys\u001b[1;34m(self)\u001b[0m\n\u001b[0;32m   1044\u001b[0m                         \u001b[0mright_keys\u001b[0m\u001b[1;33m.\u001b[0m\u001b[0mappend\u001b[0m\u001b[1;33m(\u001b[0m\u001b[0mrk\u001b[0m\u001b[1;33m)\u001b[0m\u001b[1;33m\u001b[0m\u001b[1;33m\u001b[0m\u001b[0m\n\u001b[0;32m   1045\u001b[0m                     \u001b[1;32mif\u001b[0m \u001b[0mlk\u001b[0m \u001b[1;32mis\u001b[0m \u001b[1;32mnot\u001b[0m \u001b[1;32mNone\u001b[0m\u001b[1;33m:\u001b[0m\u001b[1;33m\u001b[0m\u001b[1;33m\u001b[0m\u001b[0m\n\u001b[1;32m-> 1046\u001b[1;33m                         \u001b[0mleft_keys\u001b[0m\u001b[1;33m.\u001b[0m\u001b[0mappend\u001b[0m\u001b[1;33m(\u001b[0m\u001b[0mleft\u001b[0m\u001b[1;33m.\u001b[0m\u001b[0m_get_label_or_level_values\u001b[0m\u001b[1;33m(\u001b[0m\u001b[0mlk\u001b[0m\u001b[1;33m)\u001b[0m\u001b[1;33m)\u001b[0m\u001b[1;33m\u001b[0m\u001b[1;33m\u001b[0m\u001b[0m\n\u001b[0m\u001b[0;32m   1047\u001b[0m                         \u001b[0mjoin_names\u001b[0m\u001b[1;33m.\u001b[0m\u001b[0mappend\u001b[0m\u001b[1;33m(\u001b[0m\u001b[0mlk\u001b[0m\u001b[1;33m)\u001b[0m\u001b[1;33m\u001b[0m\u001b[1;33m\u001b[0m\u001b[0m\n\u001b[0;32m   1048\u001b[0m                     \u001b[1;32melse\u001b[0m\u001b[1;33m:\u001b[0m\u001b[1;33m\u001b[0m\u001b[1;33m\u001b[0m\u001b[0m\n",
      "\u001b[1;32m~\\anaconda3\\lib\\site-packages\\pandas\\core\\generic.py\u001b[0m in \u001b[0;36m_get_label_or_level_values\u001b[1;34m(self, key, axis)\u001b[0m\n\u001b[0;32m   1682\u001b[0m             \u001b[0mvalues\u001b[0m \u001b[1;33m=\u001b[0m \u001b[0mself\u001b[0m\u001b[1;33m.\u001b[0m\u001b[0maxes\u001b[0m\u001b[1;33m[\u001b[0m\u001b[0maxis\u001b[0m\u001b[1;33m]\u001b[0m\u001b[1;33m.\u001b[0m\u001b[0mget_level_values\u001b[0m\u001b[1;33m(\u001b[0m\u001b[0mkey\u001b[0m\u001b[1;33m)\u001b[0m\u001b[1;33m.\u001b[0m\u001b[0m_values\u001b[0m\u001b[1;33m\u001b[0m\u001b[1;33m\u001b[0m\u001b[0m\n\u001b[0;32m   1683\u001b[0m         \u001b[1;32melse\u001b[0m\u001b[1;33m:\u001b[0m\u001b[1;33m\u001b[0m\u001b[1;33m\u001b[0m\u001b[0m\n\u001b[1;32m-> 1684\u001b[1;33m             \u001b[1;32mraise\u001b[0m \u001b[0mKeyError\u001b[0m\u001b[1;33m(\u001b[0m\u001b[0mkey\u001b[0m\u001b[1;33m)\u001b[0m\u001b[1;33m\u001b[0m\u001b[1;33m\u001b[0m\u001b[0m\n\u001b[0m\u001b[0;32m   1685\u001b[0m \u001b[1;33m\u001b[0m\u001b[0m\n\u001b[0;32m   1686\u001b[0m         \u001b[1;31m# Check for duplicates\u001b[0m\u001b[1;33m\u001b[0m\u001b[1;33m\u001b[0m\u001b[1;33m\u001b[0m\u001b[0m\n",
      "\u001b[1;31mKeyError\u001b[0m: 'vehicle_id'"
     ]
    }
   ],
   "source": [
    "df_ = df_.merge(df6_, on = \"vehicle_id\", how='left')\n",
    "df_[\"base_customer_id\"].nunique()\n",
    "# df7_+df_1(BaseCustID)+df3_(CustomerID)"
   ]
  },
  {
   "cell_type": "code",
   "execution_count": null,
   "id": "9bcf9aec",
   "metadata": {},
   "outputs": [],
   "source": [
    "df_.shape"
   ]
  },
  {
   "cell_type": "code",
   "execution_count": null,
   "id": "0da85d9b",
   "metadata": {},
   "outputs": [],
   "source": [
    "df_.head()"
   ]
  },
  {
   "cell_type": "code",
   "execution_count": null,
   "id": "db7d7f5c",
   "metadata": {},
   "outputs": [],
   "source": [
    "df_[\"vehicle_id\"].nunique()"
   ]
  },
  {
   "cell_type": "code",
   "execution_count": null,
   "id": "08841bb6",
   "metadata": {},
   "outputs": [],
   "source": [
    "df_[(df_[\"base_customer_id\"].notnull())&(df_[\"vehicle_id\"].isnull())][\"base_customer_id\"]"
   ]
  },
  {
   "cell_type": "code",
   "execution_count": null,
   "id": "6326bef0",
   "metadata": {},
   "outputs": [],
   "source": [
    "df_vehicle = df_[\"vehicle_id\"]"
   ]
  },
  {
   "cell_type": "code",
   "execution_count": null,
   "id": "8d85c090",
   "metadata": {},
   "outputs": [],
   "source": [
    "df_diff = pd.concat([df_vehicle, df2_vehicle]).drop_duplicates(keep=False)\n",
    "df_diff"
   ]
  },
  {
   "cell_type": "code",
   "execution_count": null,
   "id": "3f8df14a",
   "metadata": {},
   "outputs": [],
   "source": [
    "df_[df_[\"vehicle_id\"]==5124447]"
   ]
  },
  {
   "cell_type": "code",
   "execution_count": null,
   "id": "0f793cc1",
   "metadata": {},
   "outputs": [],
   "source": [
    "df6_[df6_[\"vehicle_id\"]==5124447]"
   ]
  },
  {
   "cell_type": "code",
   "execution_count": null,
   "id": "7c6968c0",
   "metadata": {},
   "outputs": [],
   "source": [
    "df6_[df6_[\"vehicle_id\"]==5095487]"
   ]
  },
  {
   "cell_type": "code",
   "execution_count": null,
   "id": "bbb3a25e",
   "metadata": {},
   "outputs": [],
   "source": [
    "df6_[df6_[\"vehicle_id\"]==5009220]"
   ]
  },
  {
   "cell_type": "code",
   "execution_count": null,
   "id": "86889411",
   "metadata": {},
   "outputs": [],
   "source": [
    "df6_[df6_[\"vehicle_id\"]==5251191]"
   ]
  },
  {
   "cell_type": "code",
   "execution_count": null,
   "id": "a19296cd",
   "metadata": {},
   "outputs": [],
   "source": [
    "df2_vehicle[df2_vehicle==5251191]"
   ]
  },
  {
   "cell_type": "code",
   "execution_count": null,
   "id": "371f686d",
   "metadata": {},
   "outputs": [],
   "source": [
    "df_[df_[\"vehicle_id\"]==5251191]"
   ]
  },
  {
   "cell_type": "code",
   "execution_count": null,
   "id": "eb0ed66e",
   "metadata": {},
   "outputs": [],
   "source": [
    "df_[\"fk_relation_status_explanation\"].value_counts()"
   ]
  },
  {
   "cell_type": "code",
   "execution_count": null,
   "id": "74980988",
   "metadata": {},
   "outputs": [],
   "source": [
    "df_vehicle.nunique()"
   ]
  },
  {
   "cell_type": "code",
   "execution_count": null,
   "id": "fd3e6ed8",
   "metadata": {},
   "outputs": [],
   "source": [
    "df2_vehicle.nunique()"
   ]
  },
  {
   "cell_type": "code",
   "execution_count": null,
   "id": "ab59ca1e",
   "metadata": {},
   "outputs": [],
   "source": [
    "df2_.info()"
   ]
  },
  {
   "cell_type": "code",
   "execution_count": null,
   "id": "1c5dfa1a",
   "metadata": {},
   "outputs": [],
   "source": [
    "len(df_)"
   ]
  },
  {
   "cell_type": "code",
   "execution_count": null,
   "id": "036e4954",
   "metadata": {},
   "outputs": [],
   "source": [
    "df_[[\"base_customer_id\",\"vehicle_id\"]].value_counts()"
   ]
  },
  {
   "cell_type": "code",
   "execution_count": null,
   "id": "6cba9b98",
   "metadata": {},
   "outputs": [],
   "source": [
    "df2_vehicle"
   ]
  },
  {
   "cell_type": "code",
   "execution_count": null,
   "id": "ea9a8e95",
   "metadata": {},
   "outputs": [],
   "source": [
    "df2_.shape"
   ]
  },
  {
   "cell_type": "code",
   "execution_count": null,
   "id": "76dfe56b",
   "metadata": {},
   "outputs": [],
   "source": [
    "df4_.head(2)"
   ]
  },
  {
   "cell_type": "code",
   "execution_count": null,
   "id": "65d5a001",
   "metadata": {},
   "outputs": [],
   "source": [
    "df4_.shape"
   ]
  },
  {
   "cell_type": "code",
   "execution_count": null,
   "id": "2eacbd30",
   "metadata": {},
   "outputs": [],
   "source": [
    "df_ = df_.merge(df2_, on = \"base_customer_id\", how='left')\n",
    "df_[\"base_customer_id\"].nunique()\n",
    "# df7_+df_1(BaseCustID)+df3_(CustomerID)"
   ]
  },
  {
   "cell_type": "code",
   "execution_count": null,
   "id": "64b10d38",
   "metadata": {},
   "outputs": [],
   "source": [
    "drop_columns(df_, [\"expected\", \"unnamed:_0_x\", \"unnamed:_0_y\"])"
   ]
  },
  {
   "cell_type": "code",
   "execution_count": null,
   "id": "08ee785e",
   "metadata": {},
   "outputs": [],
   "source": [
    "df_.head()"
   ]
  },
  {
   "cell_type": "code",
   "execution_count": null,
   "id": "2dae8503",
   "metadata": {},
   "outputs": [],
   "source": [
    "df_ = df_.merge(df3_, on = \"customer_id\", how='left')\n",
    "df_[\"base_customer_id\"].nunique()"
   ]
  },
  {
   "cell_type": "code",
   "execution_count": null,
   "id": "6c8d9082",
   "metadata": {},
   "outputs": [],
   "source": [
    "df_.shape"
   ]
  },
  {
   "cell_type": "code",
   "execution_count": null,
   "id": "3309220c",
   "metadata": {},
   "outputs": [],
   "source": [
    "df4_.head()"
   ]
  },
  {
   "cell_type": "code",
   "execution_count": null,
   "id": "090a7138",
   "metadata": {},
   "outputs": [],
   "source": []
  },
  {
   "cell_type": "code",
   "execution_count": null,
   "id": "c48e2a72",
   "metadata": {},
   "outputs": [],
   "source": [
    "df_ = df_.merge(df4_, on = \"customer_id\", how='left')\n",
    "df_[\"base_customer_id\"].nunique()"
   ]
  },
  {
   "cell_type": "code",
   "execution_count": null,
   "id": "848e62f4",
   "metadata": {},
   "outputs": [],
   "source": [
    "df.head(2)"
   ]
  },
  {
   "cell_type": "code",
   "execution_count": null,
   "id": "b8b7ac38",
   "metadata": {},
   "outputs": [],
   "source": [
    "df_.head(2)"
   ]
  },
  {
   "cell_type": "code",
   "execution_count": null,
   "id": "3717e499",
   "metadata": {},
   "outputs": [],
   "source": [
    "df1_.head(2)"
   ]
  },
  {
   "cell_type": "code",
   "execution_count": null,
   "id": "4cd5de20",
   "metadata": {},
   "outputs": [],
   "source": [
    "df2_.head(2)"
   ]
  },
  {
   "cell_type": "code",
   "execution_count": null,
   "id": "9f14483a",
   "metadata": {},
   "outputs": [],
   "source": [
    "df3_.head(2)"
   ]
  },
  {
   "cell_type": "code",
   "execution_count": null,
   "id": "16af9ead",
   "metadata": {},
   "outputs": [],
   "source": [
    "df4_.head(2)"
   ]
  },
  {
   "cell_type": "code",
   "execution_count": null,
   "id": "472d33af",
   "metadata": {
    "scrolled": false
   },
   "outputs": [],
   "source": [
    "df5_.head(2)"
   ]
  },
  {
   "cell_type": "code",
   "execution_count": null,
   "id": "7e31a49d",
   "metadata": {},
   "outputs": [],
   "source": [
    "df6_.head(2)"
   ]
  },
  {
   "cell_type": "code",
   "execution_count": null,
   "id": "b442375e",
   "metadata": {},
   "outputs": [],
   "source": [
    "df7_.head(2)"
   ]
  }
 ],
 "metadata": {
  "kernelspec": {
   "display_name": "Python 3",
   "language": "python",
   "name": "python3"
  },
  "language_info": {
   "codemirror_mode": {
    "name": "ipython",
    "version": 3
   },
   "file_extension": ".py",
   "mimetype": "text/x-python",
   "name": "python",
   "nbconvert_exporter": "python",
   "pygments_lexer": "ipython3",
   "version": "3.7.10"
  }
 },
 "nbformat": 4,
 "nbformat_minor": 5
}
