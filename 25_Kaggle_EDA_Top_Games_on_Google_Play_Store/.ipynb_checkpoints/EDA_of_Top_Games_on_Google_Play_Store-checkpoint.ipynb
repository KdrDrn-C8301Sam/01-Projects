{
 "cells": [
  {
   "cell_type": "code",
   "execution_count": null,
   "id": "557762da",
   "metadata": {},
   "outputs": [],
   "source": []
  },
  {
   "cell_type": "markdown",
   "id": "06a15588",
   "metadata": {},
   "source": [
    "# EDA of Top Games on Google Play Store\n",
    "\n",
    "- With help of this study, I aimed to to focus on \"android-games\" dataset to make Exploratory Data Analysis.\n",
    "- It is designed to be a beginner-friendly study."
   ]
  },
  {
   "cell_type": "markdown",
   "id": "4d0a208a",
   "metadata": {},
   "source": [
    "Let's begin with importing the necessary libraries."
   ]
  },
  {
   "cell_type": "code",
   "execution_count": 1,
   "id": "ea1b11cd",
   "metadata": {},
   "outputs": [],
   "source": [
    "import numpy as np\n",
    "import pandas as pd\n",
    "import seaborn as sns\n",
    "import matplotlib.pyplot as plt\n",
    "from pandas.plotting import register_matplotlib_converters\n",
    "from pylab import rcParams\n",
    "sns.set_style(\"darkgrid\")\n",
    "\n",
    "import warnings\n",
    "warnings.filterwarnings(\"ignore\")"
   ]
  },
  {
   "cell_type": "code",
   "execution_count": 2,
   "id": "6c29626e",
   "metadata": {},
   "outputs": [],
   "source": [
    "import plotly \n",
    "import plotly.express as px\n",
    "import plotly.graph_objs as go\n",
    "import plotly.offline as py\n",
    "from plotly.offline import iplot\n",
    "from plotly.subplots import make_subplots\n",
    "import plotly.figure_factory as ff"
   ]
  },
  {
   "cell_type": "markdown",
   "id": "628f643c",
   "metadata": {},
   "source": [
    "# Overview\n",
    "\n",
    "- Read the csv\n",
    "- Get basic information from the dataset"
   ]
  },
  {
   "cell_type": "code",
   "execution_count": 3,
   "id": "1c41ab57",
   "metadata": {},
   "outputs": [],
   "source": [
    "df = pd.read_csv(\"android-games.csv\")"
   ]
  },
  {
   "cell_type": "code",
   "execution_count": 7,
   "id": "400f676e",
   "metadata": {},
   "outputs": [
    {
     "data": {
      "text/html": [
       "<div>\n",
       "<style scoped>\n",
       "    .dataframe tbody tr th:only-of-type {\n",
       "        vertical-align: middle;\n",
       "    }\n",
       "\n",
       "    .dataframe tbody tr th {\n",
       "        vertical-align: top;\n",
       "    }\n",
       "\n",
       "    .dataframe thead th {\n",
       "        text-align: right;\n",
       "    }\n",
       "</style>\n",
       "<table border=\"1\" class=\"dataframe\">\n",
       "  <thead>\n",
       "    <tr style=\"text-align: right;\">\n",
       "      <th></th>\n",
       "      <th>rank</th>\n",
       "      <th>title</th>\n",
       "      <th>total ratings</th>\n",
       "      <th>installs</th>\n",
       "      <th>average rating</th>\n",
       "      <th>growth (30 days)</th>\n",
       "      <th>growth (60 days)</th>\n",
       "      <th>price</th>\n",
       "      <th>category</th>\n",
       "      <th>5 star ratings</th>\n",
       "      <th>4 star ratings</th>\n",
       "      <th>3 star ratings</th>\n",
       "      <th>2 star ratings</th>\n",
       "      <th>1 star ratings</th>\n",
       "      <th>paid</th>\n",
       "    </tr>\n",
       "  </thead>\n",
       "  <tbody>\n",
       "    <tr>\n",
       "      <th>0</th>\n",
       "      <td>1</td>\n",
       "      <td>Garena Free Fire- World Series</td>\n",
       "      <td>86273129</td>\n",
       "      <td>500.0 M</td>\n",
       "      <td>4</td>\n",
       "      <td>2.1</td>\n",
       "      <td>6.9</td>\n",
       "      <td>0.0</td>\n",
       "      <td>GAME ACTION</td>\n",
       "      <td>63546766</td>\n",
       "      <td>4949507</td>\n",
       "      <td>3158756</td>\n",
       "      <td>2122183</td>\n",
       "      <td>12495915</td>\n",
       "      <td>False</td>\n",
       "    </tr>\n",
       "    <tr>\n",
       "      <th>1</th>\n",
       "      <td>2</td>\n",
       "      <td>PUBG MOBILE - Traverse</td>\n",
       "      <td>37276732</td>\n",
       "      <td>500.0 M</td>\n",
       "      <td>4</td>\n",
       "      <td>1.8</td>\n",
       "      <td>3.6</td>\n",
       "      <td>0.0</td>\n",
       "      <td>GAME ACTION</td>\n",
       "      <td>28339753</td>\n",
       "      <td>2164478</td>\n",
       "      <td>1253185</td>\n",
       "      <td>809821</td>\n",
       "      <td>4709492</td>\n",
       "      <td>False</td>\n",
       "    </tr>\n",
       "    <tr>\n",
       "      <th>2</th>\n",
       "      <td>3</td>\n",
       "      <td>Mobile Legends: Bang Bang</td>\n",
       "      <td>26663595</td>\n",
       "      <td>100.0 M</td>\n",
       "      <td>4</td>\n",
       "      <td>1.5</td>\n",
       "      <td>3.2</td>\n",
       "      <td>0.0</td>\n",
       "      <td>GAME ACTION</td>\n",
       "      <td>18777988</td>\n",
       "      <td>1812094</td>\n",
       "      <td>1050600</td>\n",
       "      <td>713912</td>\n",
       "      <td>4308998</td>\n",
       "      <td>False</td>\n",
       "    </tr>\n",
       "    <tr>\n",
       "      <th>3</th>\n",
       "      <td>4</td>\n",
       "      <td>Brawl Stars</td>\n",
       "      <td>17971552</td>\n",
       "      <td>100.0 M</td>\n",
       "      <td>4</td>\n",
       "      <td>1.4</td>\n",
       "      <td>4.4</td>\n",
       "      <td>0.0</td>\n",
       "      <td>GAME ACTION</td>\n",
       "      <td>13018610</td>\n",
       "      <td>1552950</td>\n",
       "      <td>774012</td>\n",
       "      <td>406184</td>\n",
       "      <td>2219794</td>\n",
       "      <td>False</td>\n",
       "    </tr>\n",
       "    <tr>\n",
       "      <th>4</th>\n",
       "      <td>5</td>\n",
       "      <td>Sniper 3D: Fun Free Online FPS Shooting Game</td>\n",
       "      <td>14464235</td>\n",
       "      <td>500.0 M</td>\n",
       "      <td>4</td>\n",
       "      <td>0.8</td>\n",
       "      <td>1.5</td>\n",
       "      <td>0.0</td>\n",
       "      <td>GAME ACTION</td>\n",
       "      <td>9827328</td>\n",
       "      <td>2124154</td>\n",
       "      <td>1047741</td>\n",
       "      <td>380670</td>\n",
       "      <td>1084340</td>\n",
       "      <td>False</td>\n",
       "    </tr>\n",
       "  </tbody>\n",
       "</table>\n",
       "</div>"
      ],
      "text/plain": [
       "   rank                                         title  total ratings installs  \\\n",
       "0     1                Garena Free Fire- World Series       86273129  500.0 M   \n",
       "1     2                        PUBG MOBILE - Traverse       37276732  500.0 M   \n",
       "2     3                     Mobile Legends: Bang Bang       26663595  100.0 M   \n",
       "3     4                                   Brawl Stars       17971552  100.0 M   \n",
       "4     5  Sniper 3D: Fun Free Online FPS Shooting Game       14464235  500.0 M   \n",
       "\n",
       "   average rating  growth (30 days)  growth (60 days)  price     category  \\\n",
       "0               4               2.1               6.9    0.0  GAME ACTION   \n",
       "1               4               1.8               3.6    0.0  GAME ACTION   \n",
       "2               4               1.5               3.2    0.0  GAME ACTION   \n",
       "3               4               1.4               4.4    0.0  GAME ACTION   \n",
       "4               4               0.8               1.5    0.0  GAME ACTION   \n",
       "\n",
       "   5 star ratings  4 star ratings  3 star ratings  2 star ratings  \\\n",
       "0        63546766         4949507         3158756         2122183   \n",
       "1        28339753         2164478         1253185          809821   \n",
       "2        18777988         1812094         1050600          713912   \n",
       "3        13018610         1552950          774012          406184   \n",
       "4         9827328         2124154         1047741          380670   \n",
       "\n",
       "   1 star ratings   paid  \n",
       "0        12495915  False  \n",
       "1         4709492  False  \n",
       "2         4308998  False  \n",
       "3         2219794  False  \n",
       "4         1084340  False  "
      ]
     },
     "execution_count": 7,
     "metadata": {},
     "output_type": "execute_result"
    }
   ],
   "source": [
    "df.head()"
   ]
  },
  {
   "cell_type": "code",
   "execution_count": 8,
   "id": "a6e0befc",
   "metadata": {},
   "outputs": [
    {
     "data": {
      "text/html": [
       "<div>\n",
       "<style scoped>\n",
       "    .dataframe tbody tr th:only-of-type {\n",
       "        vertical-align: middle;\n",
       "    }\n",
       "\n",
       "    .dataframe tbody tr th {\n",
       "        vertical-align: top;\n",
       "    }\n",
       "\n",
       "    .dataframe thead th {\n",
       "        text-align: right;\n",
       "    }\n",
       "</style>\n",
       "<table border=\"1\" class=\"dataframe\">\n",
       "  <thead>\n",
       "    <tr style=\"text-align: right;\">\n",
       "      <th></th>\n",
       "      <th>rank</th>\n",
       "      <th>title</th>\n",
       "      <th>total ratings</th>\n",
       "      <th>installs</th>\n",
       "      <th>average rating</th>\n",
       "      <th>growth (30 days)</th>\n",
       "      <th>growth (60 days)</th>\n",
       "      <th>price</th>\n",
       "      <th>category</th>\n",
       "      <th>5 star ratings</th>\n",
       "      <th>4 star ratings</th>\n",
       "      <th>3 star ratings</th>\n",
       "      <th>2 star ratings</th>\n",
       "      <th>1 star ratings</th>\n",
       "      <th>paid</th>\n",
       "    </tr>\n",
       "  </thead>\n",
       "  <tbody>\n",
       "    <tr>\n",
       "      <th>1725</th>\n",
       "      <td>96</td>\n",
       "      <td>زوايا - لعبة ستحرك زوايا عقلك</td>\n",
       "      <td>112408</td>\n",
       "      <td>1.0 M</td>\n",
       "      <td>4</td>\n",
       "      <td>0.9</td>\n",
       "      <td>1.8</td>\n",
       "      <td>0.0</td>\n",
       "      <td>GAME WORD</td>\n",
       "      <td>101036</td>\n",
       "      <td>3607</td>\n",
       "      <td>3237</td>\n",
       "      <td>1229</td>\n",
       "      <td>3297</td>\n",
       "      <td>False</td>\n",
       "    </tr>\n",
       "    <tr>\n",
       "      <th>1726</th>\n",
       "      <td>97</td>\n",
       "      <td>Bible Word Puzzle - Free Bible Word Games</td>\n",
       "      <td>111595</td>\n",
       "      <td>1.0 M</td>\n",
       "      <td>4</td>\n",
       "      <td>0.9</td>\n",
       "      <td>2.3</td>\n",
       "      <td>0.0</td>\n",
       "      <td>GAME WORD</td>\n",
       "      <td>88950</td>\n",
       "      <td>14856</td>\n",
       "      <td>4297</td>\n",
       "      <td>1385</td>\n",
       "      <td>2103</td>\n",
       "      <td>False</td>\n",
       "    </tr>\n",
       "    <tr>\n",
       "      <th>1727</th>\n",
       "      <td>98</td>\n",
       "      <td>Scrabble® GO - New Word Game</td>\n",
       "      <td>110723</td>\n",
       "      <td>10.0 M</td>\n",
       "      <td>4</td>\n",
       "      <td>0.9</td>\n",
       "      <td>1.9</td>\n",
       "      <td>0.0</td>\n",
       "      <td>GAME WORD</td>\n",
       "      <td>64184</td>\n",
       "      <td>18332</td>\n",
       "      <td>9385</td>\n",
       "      <td>6688</td>\n",
       "      <td>12132</td>\n",
       "      <td>False</td>\n",
       "    </tr>\n",
       "    <tr>\n",
       "      <th>1728</th>\n",
       "      <td>99</td>\n",
       "      <td>Word Nut: Word Puzzle Games &amp; Crosswords</td>\n",
       "      <td>109530</td>\n",
       "      <td>5.0 M</td>\n",
       "      <td>4</td>\n",
       "      <td>1.9</td>\n",
       "      <td>4.1</td>\n",
       "      <td>0.0</td>\n",
       "      <td>GAME WORD</td>\n",
       "      <td>99987</td>\n",
       "      <td>4766</td>\n",
       "      <td>1469</td>\n",
       "      <td>953</td>\n",
       "      <td>2353</td>\n",
       "      <td>False</td>\n",
       "    </tr>\n",
       "    <tr>\n",
       "      <th>1729</th>\n",
       "      <td>100</td>\n",
       "      <td>Pinturillo 2</td>\n",
       "      <td>108917</td>\n",
       "      <td>10.0 M</td>\n",
       "      <td>3</td>\n",
       "      <td>1.1</td>\n",
       "      <td>2.5</td>\n",
       "      <td>0.0</td>\n",
       "      <td>GAME WORD</td>\n",
       "      <td>50813</td>\n",
       "      <td>16480</td>\n",
       "      <td>11825</td>\n",
       "      <td>6166</td>\n",
       "      <td>23631</td>\n",
       "      <td>False</td>\n",
       "    </tr>\n",
       "  </tbody>\n",
       "</table>\n",
       "</div>"
      ],
      "text/plain": [
       "      rank                                      title  total ratings installs  \\\n",
       "1725    96              زوايا - لعبة ستحرك زوايا عقلك         112408    1.0 M   \n",
       "1726    97  Bible Word Puzzle - Free Bible Word Games         111595    1.0 M   \n",
       "1727    98               Scrabble® GO - New Word Game         110723   10.0 M   \n",
       "1728    99   Word Nut: Word Puzzle Games & Crosswords         109530    5.0 M   \n",
       "1729   100                               Pinturillo 2         108917   10.0 M   \n",
       "\n",
       "      average rating  growth (30 days)  growth (60 days)  price   category  \\\n",
       "1725               4               0.9               1.8    0.0  GAME WORD   \n",
       "1726               4               0.9               2.3    0.0  GAME WORD   \n",
       "1727               4               0.9               1.9    0.0  GAME WORD   \n",
       "1728               4               1.9               4.1    0.0  GAME WORD   \n",
       "1729               3               1.1               2.5    0.0  GAME WORD   \n",
       "\n",
       "      5 star ratings  4 star ratings  3 star ratings  2 star ratings  \\\n",
       "1725          101036            3607            3237            1229   \n",
       "1726           88950           14856            4297            1385   \n",
       "1727           64184           18332            9385            6688   \n",
       "1728           99987            4766            1469             953   \n",
       "1729           50813           16480           11825            6166   \n",
       "\n",
       "      1 star ratings   paid  \n",
       "1725            3297  False  \n",
       "1726            2103  False  \n",
       "1727           12132  False  \n",
       "1728            2353  False  \n",
       "1729           23631  False  "
      ]
     },
     "execution_count": 8,
     "metadata": {},
     "output_type": "execute_result"
    }
   ],
   "source": [
    "df.tail()"
   ]
  },
  {
   "cell_type": "code",
   "execution_count": 9,
   "id": "e631cdcc",
   "metadata": {},
   "outputs": [
    {
     "data": {
      "text/html": [
       "<div>\n",
       "<style scoped>\n",
       "    .dataframe tbody tr th:only-of-type {\n",
       "        vertical-align: middle;\n",
       "    }\n",
       "\n",
       "    .dataframe tbody tr th {\n",
       "        vertical-align: top;\n",
       "    }\n",
       "\n",
       "    .dataframe thead th {\n",
       "        text-align: right;\n",
       "    }\n",
       "</style>\n",
       "<table border=\"1\" class=\"dataframe\">\n",
       "  <thead>\n",
       "    <tr style=\"text-align: right;\">\n",
       "      <th></th>\n",
       "      <th>rank</th>\n",
       "      <th>title</th>\n",
       "      <th>total ratings</th>\n",
       "      <th>installs</th>\n",
       "      <th>average rating</th>\n",
       "      <th>growth (30 days)</th>\n",
       "      <th>growth (60 days)</th>\n",
       "      <th>price</th>\n",
       "      <th>category</th>\n",
       "      <th>5 star ratings</th>\n",
       "      <th>4 star ratings</th>\n",
       "      <th>3 star ratings</th>\n",
       "      <th>2 star ratings</th>\n",
       "      <th>1 star ratings</th>\n",
       "      <th>paid</th>\n",
       "    </tr>\n",
       "  </thead>\n",
       "  <tbody>\n",
       "    <tr>\n",
       "      <th>1442</th>\n",
       "      <td>17</td>\n",
       "      <td>Rise of Kingdoms: Lost Crusade</td>\n",
       "      <td>1651636</td>\n",
       "      <td>10.0 M</td>\n",
       "      <td>4</td>\n",
       "      <td>1.5</td>\n",
       "      <td>3.3</td>\n",
       "      <td>0.0</td>\n",
       "      <td>GAME STRATEGY</td>\n",
       "      <td>1165118</td>\n",
       "      <td>185134</td>\n",
       "      <td>73380</td>\n",
       "      <td>37330</td>\n",
       "      <td>190672</td>\n",
       "      <td>False</td>\n",
       "    </tr>\n",
       "    <tr>\n",
       "      <th>569</th>\n",
       "      <td>44</td>\n",
       "      <td>NEW SLOTS 2021－free casino games &amp; slot machines</td>\n",
       "      <td>265946</td>\n",
       "      <td>5.0 M</td>\n",
       "      <td>4</td>\n",
       "      <td>0.9</td>\n",
       "      <td>1.8</td>\n",
       "      <td>0.0</td>\n",
       "      <td>GAME CASINO</td>\n",
       "      <td>219920</td>\n",
       "      <td>23950</td>\n",
       "      <td>8698</td>\n",
       "      <td>2822</td>\n",
       "      <td>10553</td>\n",
       "      <td>False</td>\n",
       "    </tr>\n",
       "    <tr>\n",
       "      <th>1321</th>\n",
       "      <td>96</td>\n",
       "      <td>Happy Pet Story: Virtual Pet Game</td>\n",
       "      <td>371385</td>\n",
       "      <td>10.0 M</td>\n",
       "      <td>4</td>\n",
       "      <td>0.8</td>\n",
       "      <td>1.6</td>\n",
       "      <td>0.0</td>\n",
       "      <td>GAME SIMULATION</td>\n",
       "      <td>293088</td>\n",
       "      <td>33781</td>\n",
       "      <td>16211</td>\n",
       "      <td>7196</td>\n",
       "      <td>21108</td>\n",
       "      <td>False</td>\n",
       "    </tr>\n",
       "    <tr>\n",
       "      <th>199</th>\n",
       "      <td>100</td>\n",
       "      <td>Prison Escape Puzzle: Adventure</td>\n",
       "      <td>154835</td>\n",
       "      <td>10.0 M</td>\n",
       "      <td>4</td>\n",
       "      <td>0.3</td>\n",
       "      <td>0.7</td>\n",
       "      <td>0.0</td>\n",
       "      <td>GAME ADVENTURE</td>\n",
       "      <td>99726</td>\n",
       "      <td>22100</td>\n",
       "      <td>12197</td>\n",
       "      <td>5612</td>\n",
       "      <td>15197</td>\n",
       "      <td>False</td>\n",
       "    </tr>\n",
       "    <tr>\n",
       "      <th>215</th>\n",
       "      <td>16</td>\n",
       "      <td>Block Craft 3D: Building Simulator Games For Free</td>\n",
       "      <td>2156973</td>\n",
       "      <td>100.0 M</td>\n",
       "      <td>4</td>\n",
       "      <td>1.8</td>\n",
       "      <td>3.9</td>\n",
       "      <td>0.0</td>\n",
       "      <td>GAME ARCADE</td>\n",
       "      <td>1510574</td>\n",
       "      <td>191501</td>\n",
       "      <td>113211</td>\n",
       "      <td>71395</td>\n",
       "      <td>270289</td>\n",
       "      <td>False</td>\n",
       "    </tr>\n",
       "  </tbody>\n",
       "</table>\n",
       "</div>"
      ],
      "text/plain": [
       "      rank                                              title  total ratings  \\\n",
       "1442    17                     Rise of Kingdoms: Lost Crusade        1651636   \n",
       "569     44   NEW SLOTS 2021－free casino games & slot machines         265946   \n",
       "1321    96                  Happy Pet Story: Virtual Pet Game         371385   \n",
       "199    100                    Prison Escape Puzzle: Adventure         154835   \n",
       "215     16  Block Craft 3D: Building Simulator Games For Free        2156973   \n",
       "\n",
       "     installs  average rating  growth (30 days)  growth (60 days)  price  \\\n",
       "1442   10.0 M               4               1.5               3.3    0.0   \n",
       "569     5.0 M               4               0.9               1.8    0.0   \n",
       "1321   10.0 M               4               0.8               1.6    0.0   \n",
       "199    10.0 M               4               0.3               0.7    0.0   \n",
       "215   100.0 M               4               1.8               3.9    0.0   \n",
       "\n",
       "             category  5 star ratings  4 star ratings  3 star ratings  \\\n",
       "1442    GAME STRATEGY         1165118          185134           73380   \n",
       "569       GAME CASINO          219920           23950            8698   \n",
       "1321  GAME SIMULATION          293088           33781           16211   \n",
       "199    GAME ADVENTURE           99726           22100           12197   \n",
       "215       GAME ARCADE         1510574          191501          113211   \n",
       "\n",
       "      2 star ratings  1 star ratings   paid  \n",
       "1442           37330          190672  False  \n",
       "569             2822           10553  False  \n",
       "1321            7196           21108  False  \n",
       "199             5612           15197  False  \n",
       "215            71395          270289  False  "
      ]
     },
     "execution_count": 9,
     "metadata": {},
     "output_type": "execute_result"
    }
   ],
   "source": [
    "df.sample(5)"
   ]
  },
  {
   "cell_type": "markdown",
   "id": "697107ef",
   "metadata": {},
   "source": [
    "- Let's see df's dimensionality. We have 1730 rows (Games) and 15 columns (Feature). "
   ]
  },
  {
   "cell_type": "code",
   "execution_count": 10,
   "id": "0bf05b5e",
   "metadata": {},
   "outputs": [
    {
     "data": {
      "text/plain": [
       "(1730, 15)"
      ]
     },
     "execution_count": 10,
     "metadata": {},
     "output_type": "execute_result"
    }
   ],
   "source": [
    "df.shape"
   ]
  },
  {
   "cell_type": "markdown",
   "id": "915cdbdf",
   "metadata": {},
   "source": [
    "- Now we can display all columns and their data types."
   ]
  },
  {
   "cell_type": "code",
   "execution_count": 11,
   "id": "2bb3a31e",
   "metadata": {},
   "outputs": [
    {
     "name": "stdout",
     "output_type": "stream",
     "text": [
      "<class 'pandas.core.frame.DataFrame'>\n",
      "RangeIndex: 1730 entries, 0 to 1729\n",
      "Data columns (total 15 columns):\n",
      " #   Column            Non-Null Count  Dtype  \n",
      "---  ------            --------------  -----  \n",
      " 0   rank              1730 non-null   int64  \n",
      " 1   title             1730 non-null   object \n",
      " 2   total ratings     1730 non-null   int64  \n",
      " 3   installs          1730 non-null   object \n",
      " 4   average rating    1730 non-null   int64  \n",
      " 5   growth (30 days)  1730 non-null   float64\n",
      " 6   growth (60 days)  1730 non-null   float64\n",
      " 7   price             1730 non-null   float64\n",
      " 8   category          1730 non-null   object \n",
      " 9   5 star ratings    1730 non-null   int64  \n",
      " 10  4 star ratings    1730 non-null   int64  \n",
      " 11  3 star ratings    1730 non-null   int64  \n",
      " 12  2 star ratings    1730 non-null   int64  \n",
      " 13  1 star ratings    1730 non-null   int64  \n",
      " 14  paid              1730 non-null   bool   \n",
      "dtypes: bool(1), float64(3), int64(8), object(3)\n",
      "memory usage: 191.0+ KB\n"
     ]
    }
   ],
   "source": [
    "df.info()"
   ]
  },
  {
   "cell_type": "markdown",
   "id": "d123265c",
   "metadata": {},
   "source": [
    "- An overview of the values each column contains. Below we can see some basic descriptive statistics for all numeric columns."
   ]
  },
  {
   "cell_type": "code",
   "execution_count": 12,
   "id": "20ffedb0",
   "metadata": {},
   "outputs": [
    {
     "data": {
      "text/html": [
       "<div>\n",
       "<style scoped>\n",
       "    .dataframe tbody tr th:only-of-type {\n",
       "        vertical-align: middle;\n",
       "    }\n",
       "\n",
       "    .dataframe tbody tr th {\n",
       "        vertical-align: top;\n",
       "    }\n",
       "\n",
       "    .dataframe thead th {\n",
       "        text-align: right;\n",
       "    }\n",
       "</style>\n",
       "<table border=\"1\" class=\"dataframe\">\n",
       "  <thead>\n",
       "    <tr style=\"text-align: right;\">\n",
       "      <th></th>\n",
       "      <th>rank</th>\n",
       "      <th>total ratings</th>\n",
       "      <th>average rating</th>\n",
       "      <th>growth (30 days)</th>\n",
       "      <th>growth (60 days)</th>\n",
       "      <th>price</th>\n",
       "      <th>5 star ratings</th>\n",
       "      <th>4 star ratings</th>\n",
       "      <th>3 star ratings</th>\n",
       "      <th>2 star ratings</th>\n",
       "      <th>1 star ratings</th>\n",
       "    </tr>\n",
       "  </thead>\n",
       "  <tbody>\n",
       "    <tr>\n",
       "      <th>count</th>\n",
       "      <td>1730.000000</td>\n",
       "      <td>1.730000e+03</td>\n",
       "      <td>1730.000000</td>\n",
       "      <td>1730.000000</td>\n",
       "      <td>1730.000000</td>\n",
       "      <td>1730.000000</td>\n",
       "      <td>1.730000e+03</td>\n",
       "      <td>1.730000e+03</td>\n",
       "      <td>1.730000e+03</td>\n",
       "      <td>1.730000e+03</td>\n",
       "      <td>1.730000e+03</td>\n",
       "    </tr>\n",
       "    <tr>\n",
       "      <th>mean</th>\n",
       "      <td>50.386705</td>\n",
       "      <td>1.064332e+06</td>\n",
       "      <td>3.908092</td>\n",
       "      <td>321.735896</td>\n",
       "      <td>122.554971</td>\n",
       "      <td>0.010942</td>\n",
       "      <td>7.622315e+05</td>\n",
       "      <td>1.164366e+05</td>\n",
       "      <td>5.706307e+04</td>\n",
       "      <td>2.710336e+04</td>\n",
       "      <td>1.014950e+05</td>\n",
       "    </tr>\n",
       "    <tr>\n",
       "      <th>std</th>\n",
       "      <td>28.936742</td>\n",
       "      <td>3.429250e+06</td>\n",
       "      <td>0.290973</td>\n",
       "      <td>6018.914507</td>\n",
       "      <td>2253.891703</td>\n",
       "      <td>0.214987</td>\n",
       "      <td>2.538658e+06</td>\n",
       "      <td>3.021631e+05</td>\n",
       "      <td>1.495314e+05</td>\n",
       "      <td>8.154542e+04</td>\n",
       "      <td>4.083745e+05</td>\n",
       "    </tr>\n",
       "    <tr>\n",
       "      <th>min</th>\n",
       "      <td>1.000000</td>\n",
       "      <td>3.299300e+04</td>\n",
       "      <td>2.000000</td>\n",
       "      <td>0.000000</td>\n",
       "      <td>0.000000</td>\n",
       "      <td>0.000000</td>\n",
       "      <td>1.397500e+04</td>\n",
       "      <td>2.451000e+03</td>\n",
       "      <td>7.180000e+02</td>\n",
       "      <td>2.660000e+02</td>\n",
       "      <td>5.450000e+02</td>\n",
       "    </tr>\n",
       "    <tr>\n",
       "      <th>25%</th>\n",
       "      <td>25.000000</td>\n",
       "      <td>1.759992e+05</td>\n",
       "      <td>4.000000</td>\n",
       "      <td>0.100000</td>\n",
       "      <td>0.200000</td>\n",
       "      <td>0.000000</td>\n",
       "      <td>1.277300e+05</td>\n",
       "      <td>2.064300e+04</td>\n",
       "      <td>9.652500e+03</td>\n",
       "      <td>4.262250e+03</td>\n",
       "      <td>1.281200e+04</td>\n",
       "    </tr>\n",
       "    <tr>\n",
       "      <th>50%</th>\n",
       "      <td>50.000000</td>\n",
       "      <td>4.286065e+05</td>\n",
       "      <td>4.000000</td>\n",
       "      <td>0.500000</td>\n",
       "      <td>1.000000</td>\n",
       "      <td>0.000000</td>\n",
       "      <td>2.964340e+05</td>\n",
       "      <td>5.098050e+04</td>\n",
       "      <td>2.507800e+04</td>\n",
       "      <td>1.067550e+04</td>\n",
       "      <td>3.368600e+04</td>\n",
       "    </tr>\n",
       "    <tr>\n",
       "      <th>75%</th>\n",
       "      <td>75.000000</td>\n",
       "      <td>8.837970e+05</td>\n",
       "      <td>4.000000</td>\n",
       "      <td>1.700000</td>\n",
       "      <td>3.300000</td>\n",
       "      <td>0.000000</td>\n",
       "      <td>6.198358e+05</td>\n",
       "      <td>1.018140e+05</td>\n",
       "      <td>5.229500e+04</td>\n",
       "      <td>2.322875e+04</td>\n",
       "      <td>8.015725e+04</td>\n",
       "    </tr>\n",
       "    <tr>\n",
       "      <th>max</th>\n",
       "      <td>100.000000</td>\n",
       "      <td>8.627313e+07</td>\n",
       "      <td>4.000000</td>\n",
       "      <td>227105.700000</td>\n",
       "      <td>69441.400000</td>\n",
       "      <td>7.490000</td>\n",
       "      <td>6.354677e+07</td>\n",
       "      <td>5.404966e+06</td>\n",
       "      <td>3.158756e+06</td>\n",
       "      <td>2.122183e+06</td>\n",
       "      <td>1.249592e+07</td>\n",
       "    </tr>\n",
       "  </tbody>\n",
       "</table>\n",
       "</div>"
      ],
      "text/plain": [
       "              rank  total ratings  average rating  growth (30 days)  \\\n",
       "count  1730.000000   1.730000e+03     1730.000000       1730.000000   \n",
       "mean     50.386705   1.064332e+06        3.908092        321.735896   \n",
       "std      28.936742   3.429250e+06        0.290973       6018.914507   \n",
       "min       1.000000   3.299300e+04        2.000000          0.000000   \n",
       "25%      25.000000   1.759992e+05        4.000000          0.100000   \n",
       "50%      50.000000   4.286065e+05        4.000000          0.500000   \n",
       "75%      75.000000   8.837970e+05        4.000000          1.700000   \n",
       "max     100.000000   8.627313e+07        4.000000     227105.700000   \n",
       "\n",
       "       growth (60 days)        price  5 star ratings  4 star ratings  \\\n",
       "count       1730.000000  1730.000000    1.730000e+03    1.730000e+03   \n",
       "mean         122.554971     0.010942    7.622315e+05    1.164366e+05   \n",
       "std         2253.891703     0.214987    2.538658e+06    3.021631e+05   \n",
       "min            0.000000     0.000000    1.397500e+04    2.451000e+03   \n",
       "25%            0.200000     0.000000    1.277300e+05    2.064300e+04   \n",
       "50%            1.000000     0.000000    2.964340e+05    5.098050e+04   \n",
       "75%            3.300000     0.000000    6.198358e+05    1.018140e+05   \n",
       "max        69441.400000     7.490000    6.354677e+07    5.404966e+06   \n",
       "\n",
       "       3 star ratings  2 star ratings  1 star ratings  \n",
       "count    1.730000e+03    1.730000e+03    1.730000e+03  \n",
       "mean     5.706307e+04    2.710336e+04    1.014950e+05  \n",
       "std      1.495314e+05    8.154542e+04    4.083745e+05  \n",
       "min      7.180000e+02    2.660000e+02    5.450000e+02  \n",
       "25%      9.652500e+03    4.262250e+03    1.281200e+04  \n",
       "50%      2.507800e+04    1.067550e+04    3.368600e+04  \n",
       "75%      5.229500e+04    2.322875e+04    8.015725e+04  \n",
       "max      3.158756e+06    2.122183e+06    1.249592e+07  "
      ]
     },
     "execution_count": 12,
     "metadata": {},
     "output_type": "execute_result"
    }
   ],
   "source": [
    "df.describe()"
   ]
  },
  {
   "cell_type": "markdown",
   "id": "ce903e2c",
   "metadata": {},
   "source": [
    "- We can also analyze other data types. But we can not calculate a mean or a standard deviation for the object columns. However, it will still display some descriptive statistics"
   ]
  },
  {
   "cell_type": "code",
   "execution_count": 13,
   "id": "bd0b5170",
   "metadata": {},
   "outputs": [
    {
     "data": {
      "text/html": [
       "<div>\n",
       "<style scoped>\n",
       "    .dataframe tbody tr th:only-of-type {\n",
       "        vertical-align: middle;\n",
       "    }\n",
       "\n",
       "    .dataframe tbody tr th {\n",
       "        vertical-align: top;\n",
       "    }\n",
       "\n",
       "    .dataframe thead th {\n",
       "        text-align: right;\n",
       "    }\n",
       "</style>\n",
       "<table border=\"1\" class=\"dataframe\">\n",
       "  <thead>\n",
       "    <tr style=\"text-align: right;\">\n",
       "      <th></th>\n",
       "      <th>title</th>\n",
       "      <th>installs</th>\n",
       "      <th>category</th>\n",
       "    </tr>\n",
       "  </thead>\n",
       "  <tbody>\n",
       "    <tr>\n",
       "      <th>count</th>\n",
       "      <td>1730</td>\n",
       "      <td>1730</td>\n",
       "      <td>1730</td>\n",
       "    </tr>\n",
       "    <tr>\n",
       "      <th>unique</th>\n",
       "      <td>1675</td>\n",
       "      <td>9</td>\n",
       "      <td>17</td>\n",
       "    </tr>\n",
       "    <tr>\n",
       "      <th>top</th>\n",
       "      <td>Solitaire</td>\n",
       "      <td>10.0 M</td>\n",
       "      <td>GAME CARD</td>\n",
       "    </tr>\n",
       "    <tr>\n",
       "      <th>freq</th>\n",
       "      <td>36</td>\n",
       "      <td>805</td>\n",
       "      <td>126</td>\n",
       "    </tr>\n",
       "  </tbody>\n",
       "</table>\n",
       "</div>"
      ],
      "text/plain": [
       "            title installs   category\n",
       "count        1730     1730       1730\n",
       "unique       1675        9         17\n",
       "top     Solitaire   10.0 M  GAME CARD\n",
       "freq           36      805        126"
      ]
     },
     "execution_count": 13,
     "metadata": {},
     "output_type": "execute_result"
    }
   ],
   "source": [
    "df.describe(include=object)"
   ]
  },
  {
   "cell_type": "markdown",
   "id": "24c97316",
   "metadata": {},
   "source": [
    "- Above, we have checked if our dataset have null values via .info(). Now let's check again."
   ]
  },
  {
   "cell_type": "code",
   "execution_count": 14,
   "id": "e51e3041",
   "metadata": {},
   "outputs": [
    {
     "data": {
      "text/plain": [
       "rank                0\n",
       "title               0\n",
       "total ratings       0\n",
       "installs            0\n",
       "average rating      0\n",
       "growth (30 days)    0\n",
       "growth (60 days)    0\n",
       "price               0\n",
       "category            0\n",
       "5 star ratings      0\n",
       "4 star ratings      0\n",
       "3 star ratings      0\n",
       "2 star ratings      0\n",
       "1 star ratings      0\n",
       "paid                0\n",
       "dtype: int64"
      ]
     },
     "execution_count": 14,
     "metadata": {},
     "output_type": "execute_result"
    }
   ],
   "source": [
    "df.isnull().sum()"
   ]
  },
  {
   "cell_type": "markdown",
   "id": "15571aae",
   "metadata": {},
   "source": [
    "- A dataset with 0 null values. Very good for a beginner."
   ]
  },
  {
   "cell_type": "markdown",
   "id": "36e4e3c5",
   "metadata": {},
   "source": [
    "Before going further, let's make a copy of dataframe. I feel more relax by making this copy. Before making changings and adjustments on the dataset, I prefer to make a copy and work on it."
   ]
  },
  {
   "cell_type": "code",
   "execution_count": 15,
   "id": "220707d3",
   "metadata": {},
   "outputs": [],
   "source": [
    "df_1 = df.copy()"
   ]
  },
  {
   "cell_type": "code",
   "execution_count": 16,
   "id": "6c7295fc",
   "metadata": {},
   "outputs": [
    {
     "data": {
      "text/html": [
       "<div>\n",
       "<style scoped>\n",
       "    .dataframe tbody tr th:only-of-type {\n",
       "        vertical-align: middle;\n",
       "    }\n",
       "\n",
       "    .dataframe tbody tr th {\n",
       "        vertical-align: top;\n",
       "    }\n",
       "\n",
       "    .dataframe thead th {\n",
       "        text-align: right;\n",
       "    }\n",
       "</style>\n",
       "<table border=\"1\" class=\"dataframe\">\n",
       "  <thead>\n",
       "    <tr style=\"text-align: right;\">\n",
       "      <th></th>\n",
       "      <th>rank</th>\n",
       "      <th>title</th>\n",
       "      <th>total ratings</th>\n",
       "      <th>installs</th>\n",
       "      <th>average rating</th>\n",
       "      <th>growth (30 days)</th>\n",
       "      <th>growth (60 days)</th>\n",
       "      <th>price</th>\n",
       "      <th>category</th>\n",
       "      <th>5 star ratings</th>\n",
       "      <th>4 star ratings</th>\n",
       "      <th>3 star ratings</th>\n",
       "      <th>2 star ratings</th>\n",
       "      <th>1 star ratings</th>\n",
       "      <th>paid</th>\n",
       "    </tr>\n",
       "  </thead>\n",
       "  <tbody>\n",
       "    <tr>\n",
       "      <th>0</th>\n",
       "      <td>1</td>\n",
       "      <td>Garena Free Fire- World Series</td>\n",
       "      <td>86273129</td>\n",
       "      <td>500.0 M</td>\n",
       "      <td>4</td>\n",
       "      <td>2.1</td>\n",
       "      <td>6.9</td>\n",
       "      <td>0.0</td>\n",
       "      <td>GAME ACTION</td>\n",
       "      <td>63546766</td>\n",
       "      <td>4949507</td>\n",
       "      <td>3158756</td>\n",
       "      <td>2122183</td>\n",
       "      <td>12495915</td>\n",
       "      <td>False</td>\n",
       "    </tr>\n",
       "  </tbody>\n",
       "</table>\n",
       "</div>"
      ],
      "text/plain": [
       "   rank                           title  total ratings installs  \\\n",
       "0     1  Garena Free Fire- World Series       86273129  500.0 M   \n",
       "\n",
       "   average rating  growth (30 days)  growth (60 days)  price     category  \\\n",
       "0               4               2.1               6.9    0.0  GAME ACTION   \n",
       "\n",
       "   5 star ratings  4 star ratings  3 star ratings  2 star ratings  \\\n",
       "0        63546766         4949507         3158756         2122183   \n",
       "\n",
       "   1 star ratings   paid  \n",
       "0        12495915  False  "
      ]
     },
     "execution_count": 16,
     "metadata": {},
     "output_type": "execute_result"
    }
   ],
   "source": [
    "df_1.head(1)"
   ]
  },
  {
   "cell_type": "markdown",
   "id": "fea3837f",
   "metadata": {},
   "source": [
    "# Necessary Adjustments Before Analysis\n",
    "\n",
    "- Till now, we got an overview to dataset to fix any issues before moving on to a more sophisticated analysis. Let's go on further with \"install\" column.\n",
    "\n",
    "- \"installs\" column displays numeric values. However, it's type is \"object\". We have to manipulate it."
   ]
  },
  {
   "cell_type": "markdown",
   "id": "0677a448",
   "metadata": {},
   "source": [
    "- Let's get rid of \"M\" and \"k\" and make a numerical variable."
   ]
  },
  {
   "cell_type": "code",
   "execution_count": 17,
   "id": "2f18b415",
   "metadata": {},
   "outputs": [
    {
     "data": {
      "text/plain": [
       "10.0 M      805\n",
       "50.0 M      252\n",
       "5.0 M       245\n",
       "100.0 M     204\n",
       "1.0 M       192\n",
       "500.0 k      15\n",
       "500.0 M      12\n",
       "100.0 k       3\n",
       "1000.0 M      2\n",
       "Name: installs, dtype: int64"
      ]
     },
     "execution_count": 17,
     "metadata": {},
     "output_type": "execute_result"
    }
   ],
   "source": [
    "df_1.installs.value_counts()"
   ]
  },
  {
   "cell_type": "markdown",
   "id": "fb494c51",
   "metadata": {},
   "source": [
    "- Via \"in_thousand\" function we will change the values into million"
   ]
  },
  {
   "cell_type": "code",
   "execution_count": 18,
   "id": "c28d99b7",
   "metadata": {},
   "outputs": [],
   "source": [
    "def in_thousand (inst) :\n",
    "    if inst == \"500.0 k\" :\n",
    "        return \"0.5 M\"\n",
    "    elif inst == \"100.0 k\" :\n",
    "        return \"0.1 M\"\n",
    "    else :\n",
    "        return inst"
   ]
  },
  {
   "cell_type": "markdown",
   "id": "999bf3d9",
   "metadata": {},
   "source": [
    "- Now, all the values in \"install\" column in million form and we got rid of \"k\""
   ]
  },
  {
   "cell_type": "code",
   "execution_count": 19,
   "id": "834fa1a4",
   "metadata": {},
   "outputs": [],
   "source": [
    "df_1[\"installs\"]= df_1[\"installs\"].apply(in_thousand)"
   ]
  },
  {
   "cell_type": "code",
   "execution_count": 20,
   "id": "76bfe77d",
   "metadata": {},
   "outputs": [
    {
     "data": {
      "text/plain": [
       "0       500.0 M\n",
       "1       500.0 M\n",
       "2       100.0 M\n",
       "3       100.0 M\n",
       "4       500.0 M\n",
       "         ...   \n",
       "1725      1.0 M\n",
       "1726      1.0 M\n",
       "1727     10.0 M\n",
       "1728      5.0 M\n",
       "1729     10.0 M\n",
       "Name: installs, Length: 1730, dtype: object"
      ]
     },
     "execution_count": 20,
     "metadata": {},
     "output_type": "execute_result"
    }
   ],
   "source": [
    "df_1[\"installs\"]"
   ]
  },
  {
   "cell_type": "markdown",
   "id": "a890d0ef",
   "metadata": {},
   "source": [
    "- With this step, we got rid of \"M\" and changed type as \"float64\"."
   ]
  },
  {
   "cell_type": "code",
   "execution_count": 21,
   "id": "7b0885a9",
   "metadata": {},
   "outputs": [],
   "source": [
    "df_1[\"installs\"]= df_1[\"installs\"].str.replace( \"M\", \"\").str.strip().astype(\"float\")"
   ]
  },
  {
   "cell_type": "code",
   "execution_count": 22,
   "id": "95529564",
   "metadata": {},
   "outputs": [
    {
     "data": {
      "text/plain": [
       "0       500.0\n",
       "1       500.0\n",
       "2       100.0\n",
       "3       100.0\n",
       "4       500.0\n",
       "        ...  \n",
       "1725      1.0\n",
       "1726      1.0\n",
       "1727     10.0\n",
       "1728      5.0\n",
       "1729     10.0\n",
       "Name: installs, Length: 1730, dtype: float64"
      ]
     },
     "execution_count": 22,
     "metadata": {},
     "output_type": "execute_result"
    }
   ],
   "source": [
    "df_1[\"installs\"]"
   ]
  },
  {
   "cell_type": "markdown",
   "id": "d3634efb",
   "metadata": {},
   "source": [
    "- By renaming the column we summarized what we had done before. "
   ]
  },
  {
   "cell_type": "code",
   "execution_count": 23,
   "id": "0265c1ae",
   "metadata": {},
   "outputs": [],
   "source": [
    "df_1= df_1.rename(columns={\"installs\": \"installs_in_million\"})"
   ]
  },
  {
   "cell_type": "code",
   "execution_count": 24,
   "id": "67dfdec1",
   "metadata": {},
   "outputs": [
    {
     "data": {
      "text/plain": [
       "10.0      805\n",
       "50.0      252\n",
       "5.0       245\n",
       "100.0     204\n",
       "1.0       192\n",
       "0.5        15\n",
       "500.0      12\n",
       "0.1         3\n",
       "1000.0      2\n",
       "Name: installs_in_million, dtype: int64"
      ]
     },
     "execution_count": 24,
     "metadata": {},
     "output_type": "execute_result"
    }
   ],
   "source": [
    "df_1[\"installs_in_million\"].value_counts()"
   ]
  },
  {
   "cell_type": "markdown",
   "id": "703d8ee9",
   "metadata": {},
   "source": [
    "\"paid\" and \"price\" columns are seemed to be common. If we have look at the values of these columns we can easily observe that almost all the games are free. We can drop one of them."
   ]
  },
  {
   "cell_type": "code",
   "execution_count": 25,
   "id": "beb94b49",
   "metadata": {},
   "outputs": [
    {
     "data": {
      "text/plain": [
       "0.00    1723\n",
       "1.99       3\n",
       "1.49       1\n",
       "0.99       1\n",
       "2.99       1\n",
       "7.49       1\n",
       "Name: price, dtype: int64"
      ]
     },
     "execution_count": 25,
     "metadata": {},
     "output_type": "execute_result"
    }
   ],
   "source": [
    "df_1[\"price\"].value_counts()"
   ]
  },
  {
   "cell_type": "code",
   "execution_count": 26,
   "id": "e3f85d68",
   "metadata": {},
   "outputs": [
    {
     "data": {
      "text/plain": [
       "False    1723\n",
       "True        7\n",
       "Name: paid, dtype: int64"
      ]
     },
     "execution_count": 26,
     "metadata": {},
     "output_type": "execute_result"
    }
   ],
   "source": [
    "df_1[\"paid\"].value_counts()"
   ]
  },
  {
   "cell_type": "code",
   "execution_count": 27,
   "id": "e4127d00",
   "metadata": {},
   "outputs": [],
   "source": [
    "df_1.drop(\"price\", axis=1, inplace=True)"
   ]
  },
  {
   "cell_type": "code",
   "execution_count": 28,
   "id": "bc98ad14",
   "metadata": {},
   "outputs": [
    {
     "data": {
      "text/plain": [
       "(1730, 14)"
      ]
     },
     "execution_count": 28,
     "metadata": {},
     "output_type": "execute_result"
    }
   ],
   "source": [
    "df_1.shape"
   ]
  },
  {
   "cell_type": "code",
   "execution_count": 29,
   "id": "d89abfdd",
   "metadata": {},
   "outputs": [
    {
     "name": "stdout",
     "output_type": "stream",
     "text": [
      "<class 'pandas.core.frame.DataFrame'>\n",
      "RangeIndex: 1730 entries, 0 to 1729\n",
      "Data columns (total 14 columns):\n",
      " #   Column               Non-Null Count  Dtype  \n",
      "---  ------               --------------  -----  \n",
      " 0   rank                 1730 non-null   int64  \n",
      " 1   title                1730 non-null   object \n",
      " 2   total ratings        1730 non-null   int64  \n",
      " 3   installs_in_million  1730 non-null   float64\n",
      " 4   average rating       1730 non-null   int64  \n",
      " 5   growth (30 days)     1730 non-null   float64\n",
      " 6   growth (60 days)     1730 non-null   float64\n",
      " 7   category             1730 non-null   object \n",
      " 8   5 star ratings       1730 non-null   int64  \n",
      " 9   4 star ratings       1730 non-null   int64  \n",
      " 10  3 star ratings       1730 non-null   int64  \n",
      " 11  2 star ratings       1730 non-null   int64  \n",
      " 12  1 star ratings       1730 non-null   int64  \n",
      " 13  paid                 1730 non-null   bool   \n",
      "dtypes: bool(1), float64(3), int64(8), object(2)\n",
      "memory usage: 177.5+ KB\n"
     ]
    }
   ],
   "source": [
    "df_1.info()"
   ]
  },
  {
   "cell_type": "code",
   "execution_count": 30,
   "id": "1f707c7d",
   "metadata": {},
   "outputs": [
    {
     "data": {
      "text/html": [
       "<div>\n",
       "<style scoped>\n",
       "    .dataframe tbody tr th:only-of-type {\n",
       "        vertical-align: middle;\n",
       "    }\n",
       "\n",
       "    .dataframe tbody tr th {\n",
       "        vertical-align: top;\n",
       "    }\n",
       "\n",
       "    .dataframe thead th {\n",
       "        text-align: right;\n",
       "    }\n",
       "</style>\n",
       "<table border=\"1\" class=\"dataframe\">\n",
       "  <thead>\n",
       "    <tr style=\"text-align: right;\">\n",
       "      <th></th>\n",
       "      <th>rank</th>\n",
       "      <th>title</th>\n",
       "      <th>total ratings</th>\n",
       "      <th>installs_in_million</th>\n",
       "      <th>average rating</th>\n",
       "      <th>growth (30 days)</th>\n",
       "      <th>growth (60 days)</th>\n",
       "      <th>category</th>\n",
       "      <th>5 star ratings</th>\n",
       "      <th>4 star ratings</th>\n",
       "      <th>3 star ratings</th>\n",
       "      <th>2 star ratings</th>\n",
       "      <th>1 star ratings</th>\n",
       "      <th>paid</th>\n",
       "    </tr>\n",
       "  </thead>\n",
       "  <tbody>\n",
       "    <tr>\n",
       "      <th>0</th>\n",
       "      <td>1</td>\n",
       "      <td>Garena Free Fire- World Series</td>\n",
       "      <td>86273129</td>\n",
       "      <td>500.0</td>\n",
       "      <td>4</td>\n",
       "      <td>2.1</td>\n",
       "      <td>6.9</td>\n",
       "      <td>GAME ACTION</td>\n",
       "      <td>63546766</td>\n",
       "      <td>4949507</td>\n",
       "      <td>3158756</td>\n",
       "      <td>2122183</td>\n",
       "      <td>12495915</td>\n",
       "      <td>False</td>\n",
       "    </tr>\n",
       "  </tbody>\n",
       "</table>\n",
       "</div>"
      ],
      "text/plain": [
       "   rank                           title  total ratings  installs_in_million  \\\n",
       "0     1  Garena Free Fire- World Series       86273129                500.0   \n",
       "\n",
       "   average rating  growth (30 days)  growth (60 days)     category  \\\n",
       "0               4               2.1               6.9  GAME ACTION   \n",
       "\n",
       "   5 star ratings  4 star ratings  3 star ratings  2 star ratings  \\\n",
       "0        63546766         4949507         3158756         2122183   \n",
       "\n",
       "   1 star ratings   paid  \n",
       "0        12495915  False  "
      ]
     },
     "execution_count": 30,
     "metadata": {},
     "output_type": "execute_result"
    }
   ],
   "source": [
    "df_1.head(1)"
   ]
  },
  {
   "cell_type": "markdown",
   "id": "2a7c5204",
   "metadata": {},
   "source": [
    "# Analysis\n",
    "\n",
    "### Categories"
   ]
  },
  {
   "cell_type": "code",
   "execution_count": 31,
   "id": "813baeab",
   "metadata": {},
   "outputs": [
    {
     "data": {
      "text/plain": [
       "GAME CARD            126\n",
       "GAME WORD            104\n",
       "GAME MUSIC           100\n",
       "GAME ROLE PLAYING    100\n",
       "GAME SIMULATION      100\n",
       "GAME BOARD           100\n",
       "GAME EDUCATIONAL     100\n",
       "GAME SPORTS          100\n",
       "GAME ARCADE          100\n",
       "GAME ACTION          100\n",
       "GAME CASINO          100\n",
       "GAME ADVENTURE       100\n",
       "GAME RACING          100\n",
       "GAME PUZZLE          100\n",
       "GAME STRATEGY        100\n",
       "GAME CASUAL          100\n",
       "GAME TRIVIA          100\n",
       "Name: category, dtype: int64"
      ]
     },
     "execution_count": 31,
     "metadata": {},
     "output_type": "execute_result"
    }
   ],
   "source": [
    "df_1[\"category\"].value_counts()"
   ]
  },
  {
   "cell_type": "code",
   "execution_count": 47,
   "id": "7deb0656",
   "metadata": {},
   "outputs": [
    {
     "data": {
      "text/plain": [
       "GAME CARD            7.283237\n",
       "GAME WORD            6.011561\n",
       "GAME MUSIC           5.780347\n",
       "GAME ROLE PLAYING    5.780347\n",
       "GAME SIMULATION      5.780347\n",
       "GAME BOARD           5.780347\n",
       "GAME EDUCATIONAL     5.780347\n",
       "GAME SPORTS          5.780347\n",
       "GAME ARCADE          5.780347\n",
       "GAME ACTION          5.780347\n",
       "GAME CASINO          5.780347\n",
       "GAME ADVENTURE       5.780347\n",
       "GAME RACING          5.780347\n",
       "GAME PUZZLE          5.780347\n",
       "GAME STRATEGY        5.780347\n",
       "GAME CASUAL          5.780347\n",
       "GAME TRIVIA          5.780347\n",
       "Name: category, dtype: float64"
      ]
     },
     "execution_count": 47,
     "metadata": {},
     "output_type": "execute_result"
    }
   ],
   "source": [
    "df_1[\"category\"].value_counts(normalize=True) * 100"
   ]
  },
  {
   "cell_type": "code",
   "execution_count": 33,
   "id": "8fe72421",
   "metadata": {},
   "outputs": [
    {
     "data": {
      "image/png": "[encoded data removed]",
      "text/plain": [
       "<Figure size 1080x360 with 1 Axes>"
      ]
     },
     "metadata": {},
     "output_type": "display_data"
    }
   ],
   "source": [
    "# with seaborn\n",
    "\n",
    "plt.figure(figsize = (15,5))\n",
    "sns.countplot(x = df_1[\"category\"], data = df_1, order = df_1[\"category\"].value_counts().index)\n",
    "plt.title(\"Game Categories\", fontsize = 15)\n",
    "plt.xticks(rotation = 60)\n",
    "\n",
    "for index, value in enumerate(df_1[\"category\"].value_counts().values):\n",
    "    plt.text(index,value,str(value), ha = 'center', va= \"bottom\")\n",
    "    \n",
    "plt.show()"
   ]
  },
  {
   "cell_type": "code",
   "execution_count": 55,
   "id": "01ecf621",
   "metadata": {},
   "outputs": [
    {
     "data": {
      "application/vnd.plotly.v1+json": {
       "config": {
        "plotlyServerURL": "https://plot.ly"
       },
       "data": [
        {
         "alignmentgroup": "True",
         "bingroup": "x",
         "hovertemplate": "category=%{x}<br>count=%{y}<extra></extra>",
         "legendgroup": "",
         "marker": {
          "color": "#636efa",
          "pattern": {
           "shape": ""
          }
         },
         "name": "",
         "offsetgroup": "",
         "orientation": "v",
         "showlegend": false,
         "type": "histogram",
         "x": [
          "GAME ACTION",
          "GAME ACTION",
          "GAME ACTION",
          "GAME ACTION",
          "GAME ACTION",
          "GAME ACTION",
          "GAME ACTION",
          "GAME ACTION",
          "GAME ACTION",
          "GAME ACTION",
          "GAME ACTION",
          "GAME ACTION",
          "GAME ACTION",
          "GAME ACTION",
          "GAME ACTION",
          "GAME ACTION",
          "GAME ACTION",
          "GAME ACTION",
          "GAME ACTION",
          "GAME ACTION",
          "GAME ACTION",
          "GAME ACTION",
          "GAME ACTION",
          "GAME ACTION",
          "GAME ACTION",
          "GAME ACTION",
          "GAME ACTION",
          "GAME ACTION",
          "GAME ACTION",
          "GAME ACTION",
          "GAME ACTION",
          "GAME ACTION",
          "GAME ACTION",
          "GAME ACTION",
          "GAME ACTION",
          "GAME ACTION",
          "GAME ACTION",
          "GAME ACTION",
          "GAME ACTION",
          "GAME ACTION",
          "GAME ACTION",
          "GAME ACTION",
          "GAME ACTION",
          "GAME ACTION",
          "GAME ACTION",
          "GAME ACTION",
          "GAME ACTION",
          "GAME ACTION",
          "GAME ACTION",
          "GAME ACTION",
          "GAME ACTION",
          "GAME ACTION",
          "GAME ACTION",
          "GAME ACTION",
          "GAME ACTION",
          "GAME ACTION",
          "GAME ACTION",
          "GAME ACTION",
          "GAME ACTION",
          "GAME ACTION",
          "GAME ACTION",
          "GAME ACTION",
          "GAME ACTION",
          "GAME ACTION",
          "GAME ACTION",
          "GAME ACTION",
          "GAME ACTION",
          "GAME ACTION",
          "GAME ACTION",
          "GAME ACTION",
          "GAME ACTION",
          "GAME ACTION",
          "GAME ACTION",
          "GAME ACTION",
          "GAME ACTION",
          "GAME ACTION",
          "GAME ACTION",
          "GAME ACTION",
          "GAME ACTION",
          "GAME ACTION",
          "GAME ACTION",
          "GAME ACTION",
          "GAME ACTION",
          "GAME ACTION",
          "GAME ACTION",
          "GAME ACTION",
          "GAME ACTION",
          "GAME ACTION",
          "GAME ACTION",
          "GAME ACTION",
          "GAME ACTION",
          "GAME ACTION",
          "GAME ACTION",
          "GAME ACTION",
          "GAME ACTION",
          "GAME ACTION",
          "GAME ACTION",
          "GAME ACTION",
          "GAME ACTION",
          "GAME ACTION",
          "GAME ADVENTURE",
          "GAME ADVENTURE",
          "GAME ADVENTURE",
          "GAME ADVENTURE",
          "GAME ADVENTURE",
          "GAME ADVENTURE",
          "GAME ADVENTURE",
          "GAME ADVENTURE",
          "GAME ADVENTURE",
          "GAME ADVENTURE",
          "GAME ADVENTURE",
          "GAME ADVENTURE",
          "GAME ADVENTURE",
          "GAME ADVENTURE",
          "GAME ADVENTURE",
          "GAME ADVENTURE",
          "GAME ADVENTURE",
          "GAME ADVENTURE",
          "GAME ADVENTURE",
          "GAME ADVENTURE",
          "GAME ADVENTURE",
          "GAME ADVENTURE",
          "GAME ADVENTURE",
          "GAME ADVENTURE",
          "GAME ADVENTURE",
          "GAME ADVENTURE",
          "GAME ADVENTURE",
          "GAME ADVENTURE",
          "GAME ADVENTURE",
          "GAME ADVENTURE",
          "GAME ADVENTURE",
          "GAME ADVENTURE",
          "GAME ADVENTURE",
          "GAME ADVENTURE",
          "GAME ADVENTURE",
          "GAME ADVENTURE",
          "GAME ADVENTURE",
          "GAME ADVENTURE",
          "GAME ADVENTURE",
          "GAME ADVENTURE",
          "GAME ADVENTURE",
          "GAME ADVENTURE",
          "GAME ADVENTURE",
          "GAME ADVENTURE",
          "GAME ADVENTURE",
          "GAME ADVENTURE",
          "GAME ADVENTURE",
          "GAME ADVENTURE",
          "GAME ADVENTURE",
          "GAME ADVENTURE",
          "GAME ADVENTURE",
          "GAME ADVENTURE",
          "GAME ADVENTURE",
          "GAME ADVENTURE",
          "GAME ADVENTURE",
          "GAME ADVENTURE",
          "GAME ADVENTURE",
          "GAME ADVENTURE",
          "GAME ADVENTURE",
          "GAME ADVENTURE",
          "GAME ADVENTURE",
          "GAME ADVENTURE",
          "GAME ADVENTURE",
          "GAME ADVENTURE",
          "GAME ADVENTURE",
          "GAME ADVENTURE",
          "GAME ADVENTURE",
          "GAME ADVENTURE",
          "GAME ADVENTURE",
          "GAME ADVENTURE",
          "GAME ADVENTURE",
          "GAME ADVENTURE",
          "GAME ADVENTURE",
          "GAME ADVENTURE",
          "GAME ADVENTURE",
          "GAME ADVENTURE",
          "GAME ADVENTURE",
          "GAME ADVENTURE",
          "GAME ADVENTURE",
          "GAME ADVENTURE",
          "GAME ADVENTURE",
          "GAME ADVENTURE",
          "GAME ADVENTURE",
          "GAME ADVENTURE",
          "GAME ADVENTURE",
          "GAME ADVENTURE",
          "GAME ADVENTURE",
          "GAME ADVENTURE",
          "GAME ADVENTURE",
          "GAME ADVENTURE",
          "GAME ADVENTURE",
          "GAME ADVENTURE",
          "GAME ADVENTURE",
          "GAME ADVENTURE",
          "GAME ADVENTURE",
          "GAME ADVENTURE",
          "GAME ADVENTURE",
          "GAME ADVENTURE",
          "GAME ADVENTURE",
          "GAME ADVENTURE",
          "GAME ARCADE",
          "GAME ARCADE",
          "GAME ARCADE",
          "GAME ARCADE",
          "GAME ARCADE",
          "GAME ARCADE",
          "GAME ARCADE",
          "GAME ARCADE",
          "GAME ARCADE",
          "GAME ARCADE",
          "GAME ARCADE",
          "GAME ARCADE",
          "GAME ARCADE",
          "GAME ARCADE",
          "GAME ARCADE",
          "GAME ARCADE",
          "GAME ARCADE",
          "GAME ARCADE",
          "GAME ARCADE",
          "GAME ARCADE",
          "GAME ARCADE",
          "GAME ARCADE",
          "GAME ARCADE",
          "GAME ARCADE",
          "GAME ARCADE",
          "GAME ARCADE",
          "GAME ARCADE",
          "GAME ARCADE",
          "GAME ARCADE",
          "GAME ARCADE",
          "GAME ARCADE",
          "GAME ARCADE",
          "GAME ARCADE",
          "GAME ARCADE",
          "GAME ARCADE",
          "GAME ARCADE",
          "GAME ARCADE",
          "GAME ARCADE",
          "GAME ARCADE",
          "GAME ARCADE",
          "GAME ARCADE",
          "GAME ARCADE",
          "GAME ARCADE",
          "GAME ARCADE",
          "GAME ARCADE",
          "GAME ARCADE",
          "GAME ARCADE",
          "GAME ARCADE",
          "GAME ARCADE",
          "GAME ARCADE",
          "GAME ARCADE",
          "GAME ARCADE",
          "GAME ARCADE",
          "GAME ARCADE",
          "GAME ARCADE",
          "GAME ARCADE",
          "GAME ARCADE",
          "GAME ARCADE",
          "GAME ARCADE",
          "GAME ARCADE",
          "GAME ARCADE",
          "GAME ARCADE",
          "GAME ARCADE",
          "GAME ARCADE",
          "GAME ARCADE",
          "GAME ARCADE",
          "GAME ARCADE",
          "GAME ARCADE",
          "GAME ARCADE",
          "GAME ARCADE",
          "GAME ARCADE",
          "GAME ARCADE",
          "GAME ARCADE",
          "GAME ARCADE",
          "GAME ARCADE",
          "GAME ARCADE",
          "GAME ARCADE",
          "GAME ARCADE",
          "GAME ARCADE",
          "GAME ARCADE",
          "GAME ARCADE",
          "GAME ARCADE",
          "GAME ARCADE",
          "GAME ARCADE",
          "GAME ARCADE",
          "GAME ARCADE",
          "GAME ARCADE",
          "GAME ARCADE",
          "GAME ARCADE",
          "GAME ARCADE",
          "GAME ARCADE",
          "GAME ARCADE",
          "GAME ARCADE",
          "GAME ARCADE",
          "GAME ARCADE",
          "GAME ARCADE",
          "GAME ARCADE",
          "GAME ARCADE",
          "GAME ARCADE",
          "GAME ARCADE",
          "GAME BOARD",
          "GAME BOARD",
          "GAME BOARD",
          "GAME BOARD",
          "GAME BOARD",
          "GAME BOARD",
          "GAME BOARD",
          "GAME BOARD",
          "GAME BOARD",
          "GAME BOARD",
          "GAME BOARD",
          "GAME BOARD",
          "GAME BOARD",
          "GAME BOARD",
          "GAME BOARD",
          "GAME BOARD",
          "GAME BOARD",
          "GAME BOARD",
          "GAME BOARD",
          "GAME BOARD",
          "GAME BOARD",
          "GAME BOARD",
          "GAME BOARD",
          "GAME BOARD",
          "GAME BOARD",
          "GAME BOARD",
          "GAME BOARD",
          "GAME BOARD",
          "GAME BOARD",
          "GAME BOARD",
          "GAME BOARD",
          "GAME BOARD",
          "GAME BOARD",
          "GAME BOARD",
          "GAME BOARD",
          "GAME BOARD",
          "GAME BOARD",
          "GAME BOARD",
          "GAME BOARD",
          "GAME BOARD",
          "GAME BOARD",
          "GAME BOARD",
          "GAME BOARD",
          "GAME BOARD",
          "GAME BOARD",
          "GAME BOARD",
          "GAME BOARD",
          "GAME BOARD",
          "GAME BOARD",
          "GAME BOARD",
          "GAME BOARD",
          "GAME BOARD",
          "GAME BOARD",
          "GAME BOARD",
          "GAME BOARD",
          "GAME BOARD",
          "GAME BOARD",
          "GAME BOARD",
          "GAME BOARD",
          "GAME BOARD",
          "GAME BOARD",
          "GAME BOARD",
          "GAME BOARD",
          "GAME BOARD",
          "GAME BOARD",
          "GAME BOARD",
          "GAME BOARD",
          "GAME BOARD",
          "GAME BOARD",
          "GAME BOARD",
          "GAME BOARD",
          "GAME BOARD",
          "GAME BOARD",
          "GAME BOARD",
          "GAME BOARD",
          "GAME BOARD",
          "GAME BOARD",
          "GAME BOARD",
          "GAME BOARD",
          "GAME BOARD",
          "GAME BOARD",
          "GAME BOARD",
          "GAME BOARD",
          "GAME BOARD",
          "GAME BOARD",
          "GAME BOARD",
          "GAME BOARD",
          "GAME BOARD",
          "GAME BOARD",
          "GAME BOARD",
          "GAME BOARD",
          "GAME BOARD",
          "GAME BOARD",
          "GAME BOARD",
          "GAME BOARD",
          "GAME BOARD",
          "GAME BOARD",
          "GAME BOARD",
          "GAME BOARD",
          "GAME BOARD",
          "GAME CARD",
          "GAME CARD",
          "GAME CARD",
          "GAME CARD",
          "GAME CARD",
          "GAME CARD",
          "GAME CARD",
          "GAME CARD",
          "GAME CARD",
          "GAME CARD",
          "GAME CARD",
          "GAME CARD",
          "GAME CARD",
          "GAME CARD",
          "GAME CARD",
          "GAME CARD",
          "GAME CARD",
          "GAME CARD",
          "GAME CARD",
          "GAME CARD",
          "GAME CARD",
          "GAME CARD",
          "GAME CARD",
          "GAME CARD",
          "GAME CARD",
          "GAME CARD",
          "GAME CARD",
          "GAME CARD",
          "GAME CARD",
          "GAME CARD",
          "GAME CARD",
          "GAME CARD",
          "GAME CARD",
          "GAME CARD",
          "GAME CARD",
          "GAME CARD",
          "GAME CARD",
          "GAME CARD",
          "GAME CARD",
          "GAME CARD",
          "GAME CARD",
          "GAME CARD",
          "GAME CARD",
          "GAME CARD",
          "GAME CARD",
          "GAME CARD",
          "GAME CARD",
          "GAME CARD",
          "GAME CARD",
          "GAME CARD",
          "GAME CARD",
          "GAME CARD",
          "GAME CARD",
          "GAME CARD",
          "GAME CARD",
          "GAME CARD",
          "GAME CARD",
          "GAME CARD",
          "GAME CARD",
          "GAME CARD",
          "GAME CARD",
          "GAME CARD",
          "GAME CARD",
          "GAME CARD",
          "GAME CARD",
          "GAME CARD",
          "GAME CARD",
          "GAME CARD",
          "GAME CARD",
          "GAME CARD",
          "GAME CARD",
          "GAME CARD",
          "GAME CARD",
          "GAME CARD",
          "GAME CARD",
          "GAME CARD",
          "GAME CARD",
          "GAME CARD",
          "GAME CARD",
          "GAME CARD",
          "GAME CARD",
          "GAME CARD",
          "GAME CARD",
          "GAME CARD",
          "GAME CARD",
          "GAME CARD",
          "GAME CARD",
          "GAME CARD",
          "GAME CARD",
          "GAME CARD",
          "GAME CARD",
          "GAME CARD",
          "GAME CARD",
          "GAME CARD",
          "GAME CARD",
          "GAME CARD",
          "GAME CARD",
          "GAME CARD",
          "GAME CARD",
          "GAME CARD",
          "GAME CARD",
          "GAME CARD",
          "GAME CARD",
          "GAME CARD",
          "GAME CARD",
          "GAME CARD",
          "GAME CARD",
          "GAME CARD",
          "GAME CARD",
          "GAME CARD",
          "GAME CARD",
          "GAME CARD",
          "GAME CARD",
          "GAME CARD",
          "GAME CARD",
          "GAME CARD",
          "GAME CARD",
          "GAME CARD",
          "GAME CARD",
          "GAME CARD",
          "GAME CARD",
          "GAME CARD",
          "GAME CARD",
          "GAME CARD",
          "GAME CARD",
          "GAME CARD",
          "GAME CASINO",
          "GAME CASINO",
          "GAME CASINO",
          "GAME CASINO",
          "GAME CASINO",
          "GAME CASINO",
          "GAME CASINO",
          "GAME CASINO",
          "GAME CASINO",
          "GAME CASINO",
          "GAME CASINO",
          "GAME CASINO",
          "GAME CASINO",
          "GAME CASINO",
          "GAME CASINO",
          "GAME CASINO",
          "GAME CASINO",
          "GAME CASINO",
          "GAME CASINO",
          "GAME CASINO",
          "GAME CASINO",
          "GAME CASINO",
          "GAME CASINO",
          "GAME CASINO",
          "GAME CASINO",
          "GAME CASINO",
          "GAME CASINO",
          "GAME CASINO",
          "GAME CASINO",
          "GAME CASINO",
          "GAME CASINO",
          "GAME CASINO",
          "GAME CASINO",
          "GAME CASINO",
          "GAME CASINO",
          "GAME CASINO",
          "GAME CASINO",
          "GAME CASINO",
          "GAME CASINO",
          "GAME CASINO",
          "GAME CASINO",
          "GAME CASINO",
          "GAME CASINO",
          "GAME CASINO",
          "GAME CASINO",
          "GAME CASINO",
          "GAME CASINO",
          "GAME CASINO",
          "GAME CASINO",
          "GAME CASINO",
          "GAME CASINO",
          "GAME CASINO",
          "GAME CASINO",
          "GAME CASINO",
          "GAME CASINO",
          "GAME CASINO",
          "GAME CASINO",
          "GAME CASINO",
          "GAME CASINO",
          "GAME CASINO",
          "GAME CASINO",
          "GAME CASINO",
          "GAME CASINO",
          "GAME CASINO",
          "GAME CASINO",
          "GAME CASINO",
          "GAME CASINO",
          "GAME CASINO",
          "GAME CASINO",
          "GAME CASINO",
          "GAME CASINO",
          "GAME CASINO",
          "GAME CASINO",
          "GAME CASINO",
          "GAME CASINO",
          "GAME CASINO",
          "GAME CASINO",
          "GAME CASINO",
          "GAME CASINO",
          "GAME CASINO",
          "GAME CASINO",
          "GAME CASINO",
          "GAME CASINO",
          "GAME CASINO",
          "GAME CASINO",
          "GAME CASINO",
          "GAME CASINO",
          "GAME CASINO",
          "GAME CASINO",
          "GAME CASINO",
          "GAME CASINO",
          "GAME CASINO",
          "GAME CASINO",
          "GAME CASINO",
          "GAME CASINO",
          "GAME CASINO",
          "GAME CASINO",
          "GAME CASINO",
          "GAME CASINO",
          "GAME CASINO",
          "GAME CASUAL",
          "GAME CASUAL",
          "GAME CASUAL",
          "GAME CASUAL",
          "GAME CASUAL",
          "GAME CASUAL",
          "GAME CASUAL",
          "GAME CASUAL",
          "GAME CASUAL",
          "GAME CASUAL",
          "GAME CASUAL",
          "GAME CASUAL",
          "GAME CASUAL",
          "GAME CASUAL",
          "GAME CASUAL",
          "GAME CASUAL",
          "GAME CASUAL",
          "GAME CASUAL",
          "GAME CASUAL",
          "GAME CASUAL",
          "GAME CASUAL",
          "GAME CASUAL",
          "GAME CASUAL",
          "GAME CASUAL",
          "GAME CASUAL",
          "GAME CASUAL",
          "GAME CASUAL",
          "GAME CASUAL",
          "GAME CASUAL",
          "GAME CASUAL",
          "GAME CASUAL",
          "GAME CASUAL",
          "GAME CASUAL",
          "GAME CASUAL",
          "GAME CASUAL",
          "GAME CASUAL",
          "GAME CASUAL",
          "GAME CASUAL",
          "GAME CASUAL",
          "GAME CASUAL",
          "GAME CASUAL",
          "GAME CASUAL",
          "GAME CASUAL",
          "GAME CASUAL",
          "GAME CASUAL",
          "GAME CASUAL",
          "GAME CASUAL",
          "GAME CASUAL",
          "GAME CASUAL",
          "GAME CASUAL",
          "GAME CASUAL",
          "GAME CASUAL",
          "GAME CASUAL",
          "GAME CASUAL",
          "GAME CASUAL",
          "GAME CASUAL",
          "GAME CASUAL",
          "GAME CASUAL",
          "GAME CASUAL",
          "GAME CASUAL",
          "GAME CASUAL",
          "GAME CASUAL",
          "GAME CASUAL",
          "GAME CASUAL",
          "GAME CASUAL",
          "GAME CASUAL",
          "GAME CASUAL",
          "GAME CASUAL",
          "GAME CASUAL",
          "GAME CASUAL",
          "GAME CASUAL",
          "GAME CASUAL",
          "GAME CASUAL",
          "GAME CASUAL",
          "GAME CASUAL",
          "GAME CASUAL",
          "GAME CASUAL",
          "GAME CASUAL",
          "GAME CASUAL",
          "GAME CASUAL",
          "GAME CASUAL",
          "GAME CASUAL",
          "GAME CASUAL",
          "GAME CASUAL",
          "GAME CASUAL",
          "GAME CASUAL",
          "GAME CASUAL",
          "GAME CASUAL",
          "GAME CASUAL",
          "GAME CASUAL",
          "GAME CASUAL",
          "GAME CASUAL",
          "GAME CASUAL",
          "GAME CASUAL",
          "GAME CASUAL",
          "GAME CASUAL",
          "GAME CASUAL",
          "GAME CASUAL",
          "GAME CASUAL",
          "GAME CASUAL",
          "GAME EDUCATIONAL",
          "GAME EDUCATIONAL",
          "GAME EDUCATIONAL",
          "GAME EDUCATIONAL",
          "GAME EDUCATIONAL",
          "GAME EDUCATIONAL",
          "GAME EDUCATIONAL",
          "GAME EDUCATIONAL",
          "GAME EDUCATIONAL",
          "GAME EDUCATIONAL",
          "GAME EDUCATIONAL",
          "GAME EDUCATIONAL",
          "GAME EDUCATIONAL",
          "GAME EDUCATIONAL",
          "GAME EDUCATIONAL",
          "GAME EDUCATIONAL",
          "GAME EDUCATIONAL",
          "GAME EDUCATIONAL",
          "GAME EDUCATIONAL",
          "GAME EDUCATIONAL",
          "GAME EDUCATIONAL",
          "GAME EDUCATIONAL",
          "GAME EDUCATIONAL",
          "GAME EDUCATIONAL",
          "GAME EDUCATIONAL",
          "GAME EDUCATIONAL",
          "GAME EDUCATIONAL",
          "GAME EDUCATIONAL",
          "GAME EDUCATIONAL",
          "GAME EDUCATIONAL",
          "GAME EDUCATIONAL",
          "GAME EDUCATIONAL",
          "GAME EDUCATIONAL",
          "GAME EDUCATIONAL",
          "GAME EDUCATIONAL",
          "GAME EDUCATIONAL",
          "GAME EDUCATIONAL",
          "GAME EDUCATIONAL",
          "GAME EDUCATIONAL",
          "GAME EDUCATIONAL",
          "GAME EDUCATIONAL",
          "GAME EDUCATIONAL",
          "GAME EDUCATIONAL",
          "GAME EDUCATIONAL",
          "GAME EDUCATIONAL",
          "GAME EDUCATIONAL",
          "GAME EDUCATIONAL",
          "GAME EDUCATIONAL",
          "GAME EDUCATIONAL",
          "GAME EDUCATIONAL",
          "GAME EDUCATIONAL",
          "GAME EDUCATIONAL",
          "GAME EDUCATIONAL",
          "GAME EDUCATIONAL",
          "GAME EDUCATIONAL",
          "GAME EDUCATIONAL",
          "GAME EDUCATIONAL",
          "GAME EDUCATIONAL",
          "GAME EDUCATIONAL",
          "GAME EDUCATIONAL",
          "GAME EDUCATIONAL",
          "GAME EDUCATIONAL",
          "GAME EDUCATIONAL",
          "GAME EDUCATIONAL",
          "GAME EDUCATIONAL",
          "GAME EDUCATIONAL",
          "GAME EDUCATIONAL",
          "GAME EDUCATIONAL",
          "GAME EDUCATIONAL",
          "GAME EDUCATIONAL",
          "GAME EDUCATIONAL",
          "GAME EDUCATIONAL",
          "GAME EDUCATIONAL",
          "GAME EDUCATIONAL",
          "GAME EDUCATIONAL",
          "GAME EDUCATIONAL",
          "GAME EDUCATIONAL",
          "GAME EDUCATIONAL",
          "GAME EDUCATIONAL",
          "GAME EDUCATIONAL",
          "GAME EDUCATIONAL",
          "GAME EDUCATIONAL",
          "GAME EDUCATIONAL",
          "GAME EDUCATIONAL",
          "GAME EDUCATIONAL",
          "GAME EDUCATIONAL",
          "GAME EDUCATIONAL",
          "GAME EDUCATIONAL",
          "GAME EDUCATIONAL",
          "GAME EDUCATIONAL",
          "GAME EDUCATIONAL",
          "GAME EDUCATIONAL",
          "GAME EDUCATIONAL",
          "GAME EDUCATIONAL",
          "GAME EDUCATIONAL",
          "GAME EDUCATIONAL",
          "GAME EDUCATIONAL",
          "GAME EDUCATIONAL",
          "GAME EDUCATIONAL",
          "GAME EDUCATIONAL",
          "GAME MUSIC",
          "GAME MUSIC",
          "GAME MUSIC",
          "GAME MUSIC",
          "GAME MUSIC",
          "GAME MUSIC",
          "GAME MUSIC",
          "GAME MUSIC",
          "GAME MUSIC",
          "GAME MUSIC",
          "GAME MUSIC",
          "GAME MUSIC",
          "GAME MUSIC",
          "GAME MUSIC",
          "GAME MUSIC",
          "GAME MUSIC",
          "GAME MUSIC",
          "GAME MUSIC",
          "GAME MUSIC",
          "GAME MUSIC",
          "GAME MUSIC",
          "GAME MUSIC",
          "GAME MUSIC",
          "GAME MUSIC",
          "GAME MUSIC",
          "GAME MUSIC",
          "GAME MUSIC",
          "GAME MUSIC",
          "GAME MUSIC",
          "GAME MUSIC",
          "GAME MUSIC",
          "GAME MUSIC",
          "GAME MUSIC",
          "GAME MUSIC",
          "GAME MUSIC",
          "GAME MUSIC",
          "GAME MUSIC",
          "GAME MUSIC",
          "GAME MUSIC",
          "GAME MUSIC",
          "GAME MUSIC",
          "GAME MUSIC",
          "GAME MUSIC",
          "GAME MUSIC",
          "GAME MUSIC",
          "GAME MUSIC",
          "GAME MUSIC",
          "GAME MUSIC",
          "GAME MUSIC",
          "GAME MUSIC",
          "GAME MUSIC",
          "GAME MUSIC",
          "GAME MUSIC",
          "GAME MUSIC",
          "GAME MUSIC",
          "GAME MUSIC",
          "GAME MUSIC",
          "GAME MUSIC",
          "GAME MUSIC",
          "GAME MUSIC",
          "GAME MUSIC",
          "GAME MUSIC",
          "GAME MUSIC",
          "GAME MUSIC",
          "GAME MUSIC",
          "GAME MUSIC",
          "GAME MUSIC",
          "GAME MUSIC",
          "GAME MUSIC",
          "GAME MUSIC",
          "GAME MUSIC",
          "GAME MUSIC",
          "GAME MUSIC",
          "GAME MUSIC",
          "GAME MUSIC",
          "GAME MUSIC",
          "GAME MUSIC",
          "GAME MUSIC",
          "GAME MUSIC",
          "GAME MUSIC",
          "GAME MUSIC",
          "GAME MUSIC",
          "GAME MUSIC",
          "GAME MUSIC",
          "GAME MUSIC",
          "GAME MUSIC",
          "GAME MUSIC",
          "GAME MUSIC",
          "GAME MUSIC",
          "GAME MUSIC",
          "GAME MUSIC",
          "GAME MUSIC",
          "GAME MUSIC",
          "GAME MUSIC",
          "GAME MUSIC",
          "GAME MUSIC",
          "GAME MUSIC",
          "GAME MUSIC",
          "GAME MUSIC",
          "GAME MUSIC",
          "GAME PUZZLE",
          "GAME PUZZLE",
          "GAME PUZZLE",
          "GAME PUZZLE",
          "GAME PUZZLE",
          "GAME PUZZLE",
          "GAME PUZZLE",
          "GAME PUZZLE",
          "GAME PUZZLE",
          "GAME PUZZLE",
          "GAME PUZZLE",
          "GAME PUZZLE",
          "GAME PUZZLE",
          "GAME PUZZLE",
          "GAME PUZZLE",
          "GAME PUZZLE",
          "GAME PUZZLE",
          "GAME PUZZLE",
          "GAME PUZZLE",
          "GAME PUZZLE",
          "GAME PUZZLE",
          "GAME PUZZLE",
          "GAME PUZZLE",
          "GAME PUZZLE",
          "GAME PUZZLE",
          "GAME PUZZLE",
          "GAME PUZZLE",
          "GAME PUZZLE",
          "GAME PUZZLE",
          "GAME PUZZLE",
          "GAME PUZZLE",
          "GAME PUZZLE",
          "GAME PUZZLE",
          "GAME PUZZLE",
          "GAME PUZZLE",
          "GAME PUZZLE",
          "GAME PUZZLE",
          "GAME PUZZLE",
          "GAME PUZZLE",
          "GAME PUZZLE",
          "GAME PUZZLE",
          "GAME PUZZLE",
          "GAME PUZZLE",
          "GAME PUZZLE",
          "GAME PUZZLE",
          "GAME PUZZLE",
          "GAME PUZZLE",
          "GAME PUZZLE",
          "GAME PUZZLE",
          "GAME PUZZLE",
          "GAME PUZZLE",
          "GAME PUZZLE",
          "GAME PUZZLE",
          "GAME PUZZLE",
          "GAME PUZZLE",
          "GAME PUZZLE",
          "GAME PUZZLE",
          "GAME PUZZLE",
          "GAME PUZZLE",
          "GAME PUZZLE",
          "GAME PUZZLE",
          "GAME PUZZLE",
          "GAME PUZZLE",
          "GAME PUZZLE",
          "GAME PUZZLE",
          "GAME PUZZLE",
          "GAME PUZZLE",
          "GAME PUZZLE",
          "GAME PUZZLE",
          "GAME PUZZLE",
          "GAME PUZZLE",
          "GAME PUZZLE",
          "GAME PUZZLE",
          "GAME PUZZLE",
          "GAME PUZZLE",
          "GAME PUZZLE",
          "GAME PUZZLE",
          "GAME PUZZLE",
          "GAME PUZZLE",
          "GAME PUZZLE",
          "GAME PUZZLE",
          "GAME PUZZLE",
          "GAME PUZZLE",
          "GAME PUZZLE",
          "GAME PUZZLE",
          "GAME PUZZLE",
          "GAME PUZZLE",
          "GAME PUZZLE",
          "GAME PUZZLE",
          "GAME PUZZLE",
          "GAME PUZZLE",
          "GAME PUZZLE",
          "GAME PUZZLE",
          "GAME PUZZLE",
          "GAME PUZZLE",
          "GAME PUZZLE",
          "GAME PUZZLE",
          "GAME PUZZLE",
          "GAME PUZZLE",
          "GAME PUZZLE",
          "GAME RACING",
          "GAME RACING",
          "GAME RACING",
          "GAME RACING",
          "GAME RACING",
          "GAME RACING",
          "GAME RACING",
          "GAME RACING",
          "GAME RACING",
          "GAME RACING",
          "GAME RACING",
          "GAME RACING",
          "GAME RACING",
          "GAME RACING",
          "GAME RACING",
          "GAME RACING",
          "GAME RACING",
          "GAME RACING",
          "GAME RACING",
          "GAME RACING",
          "GAME RACING",
          "GAME RACING",
          "GAME RACING",
          "GAME RACING",
          "GAME RACING",
          "GAME RACING",
          "GAME RACING",
          "GAME RACING",
          "GAME RACING",
          "GAME RACING",
          "GAME RACING",
          "GAME RACING",
          "GAME RACING",
          "GAME RACING",
          "GAME RACING",
          "GAME RACING",
          "GAME RACING",
          "GAME RACING",
          "GAME RACING",
          "GAME RACING",
          "GAME RACING",
          "GAME RACING",
          "GAME RACING",
          "GAME RACING",
          "GAME RACING",
          "GAME RACING",
          "GAME RACING",
          "GAME RACING",
          "GAME RACING",
          "GAME RACING",
          "GAME RACING",
          "GAME RACING",
          "GAME RACING",
          "GAME RACING",
          "GAME RACING",
          "GAME RACING",
          "GAME RACING",
          "GAME RACING",
          "GAME RACING",
          "GAME RACING",
          "GAME RACING",
          "GAME RACING",
          "GAME RACING",
          "GAME RACING",
          "GAME RACING",
          "GAME RACING",
          "GAME RACING",
          "GAME RACING",
          "GAME RACING",
          "GAME RACING",
          "GAME RACING",
          "GAME RACING",
          "GAME RACING",
          "GAME RACING",
          "GAME RACING",
          "GAME RACING",
          "GAME RACING",
          "GAME RACING",
          "GAME RACING",
          "GAME RACING",
          "GAME RACING",
          "GAME RACING",
          "GAME RACING",
          "GAME RACING",
          "GAME RACING",
          "GAME RACING",
          "GAME RACING",
          "GAME RACING",
          "GAME RACING",
          "GAME RACING",
          "GAME RACING",
          "GAME RACING",
          "GAME RACING",
          "GAME RACING",
          "GAME RACING",
          "GAME RACING",
          "GAME RACING",
          "GAME RACING",
          "GAME RACING",
          "GAME RACING",
          "GAME ROLE PLAYING",
          "GAME ROLE PLAYING",
          "GAME ROLE PLAYING",
          "GAME ROLE PLAYING",
          "GAME ROLE PLAYING",
          "GAME ROLE PLAYING",
          "GAME ROLE PLAYING",
          "GAME ROLE PLAYING",
          "GAME ROLE PLAYING",
          "GAME ROLE PLAYING",
          "GAME ROLE PLAYING",
          "GAME ROLE PLAYING",
          "GAME ROLE PLAYING",
          "GAME ROLE PLAYING",
          "GAME ROLE PLAYING",
          "GAME ROLE PLAYING",
          "GAME ROLE PLAYING",
          "GAME ROLE PLAYING",
          "GAME ROLE PLAYING",
          "GAME ROLE PLAYING",
          "GAME ROLE PLAYING",
          "GAME ROLE PLAYING",
          "GAME ROLE PLAYING",
          "GAME ROLE PLAYING",
          "GAME ROLE PLAYING",
          "GAME ROLE PLAYING",
          "GAME ROLE PLAYING",
          "GAME ROLE PLAYING",
          "GAME ROLE PLAYING",
          "GAME ROLE PLAYING",
          "GAME ROLE PLAYING",
          "GAME ROLE PLAYING",
          "GAME ROLE PLAYING",
          "GAME ROLE PLAYING",
          "GAME ROLE PLAYING",
          "GAME ROLE PLAYING",
          "GAME ROLE PLAYING",
          "GAME ROLE PLAYING",
          "GAME ROLE PLAYING",
          "GAME ROLE PLAYING",
          "GAME ROLE PLAYING",
          "GAME ROLE PLAYING",
          "GAME ROLE PLAYING",
          "GAME ROLE PLAYING",
          "GAME ROLE PLAYING",
          "GAME ROLE PLAYING",
          "GAME ROLE PLAYING",
          "GAME ROLE PLAYING",
          "GAME ROLE PLAYING",
          "GAME ROLE PLAYING",
          "GAME ROLE PLAYING",
          "GAME ROLE PLAYING",
          "GAME ROLE PLAYING",
          "GAME ROLE PLAYING",
          "GAME ROLE PLAYING",
          "GAME ROLE PLAYING",
          "GAME ROLE PLAYING",
          "GAME ROLE PLAYING",
          "GAME ROLE PLAYING",
          "GAME ROLE PLAYING",
          "GAME ROLE PLAYING",
          "GAME ROLE PLAYING",
          "GAME ROLE PLAYING",
          "GAME ROLE PLAYING",
          "GAME ROLE PLAYING",
          "GAME ROLE PLAYING",
          "GAME ROLE PLAYING",
          "GAME ROLE PLAYING",
          "GAME ROLE PLAYING",
          "GAME ROLE PLAYING",
          "GAME ROLE PLAYING",
          "GAME ROLE PLAYING",
          "GAME ROLE PLAYING",
          "GAME ROLE PLAYING",
          "GAME ROLE PLAYING",
          "GAME ROLE PLAYING",
          "GAME ROLE PLAYING",
          "GAME ROLE PLAYING",
          "GAME ROLE PLAYING",
          "GAME ROLE PLAYING",
          "GAME ROLE PLAYING",
          "GAME ROLE PLAYING",
          "GAME ROLE PLAYING",
          "GAME ROLE PLAYING",
          "GAME ROLE PLAYING",
          "GAME ROLE PLAYING",
          "GAME ROLE PLAYING",
          "GAME ROLE PLAYING",
          "GAME ROLE PLAYING",
          "GAME ROLE PLAYING",
          "GAME ROLE PLAYING",
          "GAME ROLE PLAYING",
          "GAME ROLE PLAYING",
          "GAME ROLE PLAYING",
          "GAME ROLE PLAYING",
          "GAME ROLE PLAYING",
          "GAME ROLE PLAYING",
          "GAME ROLE PLAYING",
          "GAME ROLE PLAYING",
          "GAME ROLE PLAYING",
          "GAME SIMULATION",
          "GAME SIMULATION",
          "GAME SIMULATION",
          "GAME SIMULATION",
          "GAME SIMULATION",
          "GAME SIMULATION",
          "GAME SIMULATION",
          "GAME SIMULATION",
          "GAME SIMULATION",
          "GAME SIMULATION",
          "GAME SIMULATION",
          "GAME SIMULATION",
          "GAME SIMULATION",
          "GAME SIMULATION",
          "GAME SIMULATION",
          "GAME SIMULATION",
          "GAME SIMULATION",
          "GAME SIMULATION",
          "GAME SIMULATION",
          "GAME SIMULATION",
          "GAME SIMULATION",
          "GAME SIMULATION",
          "GAME SIMULATION",
          "GAME SIMULATION",
          "GAME SIMULATION",
          "GAME SIMULATION",
          "GAME SIMULATION",
          "GAME SIMULATION",
          "GAME SIMULATION",
          "GAME SIMULATION",
          "GAME SIMULATION",
          "GAME SIMULATION",
          "GAME SIMULATION",
          "GAME SIMULATION",
          "GAME SIMULATION",
          "GAME SIMULATION",
          "GAME SIMULATION",
          "GAME SIMULATION",
          "GAME SIMULATION",
          "GAME SIMULATION",
          "GAME SIMULATION",
          "GAME SIMULATION",
          "GAME SIMULATION",
          "GAME SIMULATION",
          "GAME SIMULATION",
          "GAME SIMULATION",
          "GAME SIMULATION",
          "GAME SIMULATION",
          "GAME SIMULATION",
          "GAME SIMULATION",
          "GAME SIMULATION",
          "GAME SIMULATION",
          "GAME SIMULATION",
          "GAME SIMULATION",
          "GAME SIMULATION",
          "GAME SIMULATION",
          "GAME SIMULATION",
          "GAME SIMULATION",
          "GAME SIMULATION",
          "GAME SIMULATION",
          "GAME SIMULATION",
          "GAME SIMULATION",
          "GAME SIMULATION",
          "GAME SIMULATION",
          "GAME SIMULATION",
          "GAME SIMULATION",
          "GAME SIMULATION",
          "GAME SIMULATION",
          "GAME SIMULATION",
          "GAME SIMULATION",
          "GAME SIMULATION",
          "GAME SIMULATION",
          "GAME SIMULATION",
          "GAME SIMULATION",
          "GAME SIMULATION",
          "GAME SIMULATION",
          "GAME SIMULATION",
          "GAME SIMULATION",
          "GAME SIMULATION",
          "GAME SIMULATION",
          "GAME SIMULATION",
          "GAME SIMULATION",
          "GAME SIMULATION",
          "GAME SIMULATION",
          "GAME SIMULATION",
          "GAME SIMULATION",
          "GAME SIMULATION",
          "GAME SIMULATION",
          "GAME SIMULATION",
          "GAME SIMULATION",
          "GAME SIMULATION",
          "GAME SIMULATION",
          "GAME SIMULATION",
          "GAME SIMULATION",
          "GAME SIMULATION",
          "GAME SIMULATION",
          "GAME SIMULATION",
          "GAME SIMULATION",
          "GAME SIMULATION",
          "GAME SIMULATION",
          "GAME SPORTS",
          "GAME SPORTS",
          "GAME SPORTS",
          "GAME SPORTS",
          "GAME SPORTS",
          "GAME SPORTS",
          "GAME SPORTS",
          "GAME SPORTS",
          "GAME SPORTS",
          "GAME SPORTS",
          "GAME SPORTS",
          "GAME SPORTS",
          "GAME SPORTS",
          "GAME SPORTS",
          "GAME SPORTS",
          "GAME SPORTS",
          "GAME SPORTS",
          "GAME SPORTS",
          "GAME SPORTS",
          "GAME SPORTS",
          "GAME SPORTS",
          "GAME SPORTS",
          "GAME SPORTS",
          "GAME SPORTS",
          "GAME SPORTS",
          "GAME SPORTS",
          "GAME SPORTS",
          "GAME SPORTS",
          "GAME SPORTS",
          "GAME SPORTS",
          "GAME SPORTS",
          "GAME SPORTS",
          "GAME SPORTS",
          "GAME SPORTS",
          "GAME SPORTS",
          "GAME SPORTS",
          "GAME SPORTS",
          "GAME SPORTS",
          "GAME SPORTS",
          "GAME SPORTS",
          "GAME SPORTS",
          "GAME SPORTS",
          "GAME SPORTS",
          "GAME SPORTS",
          "GAME SPORTS",
          "GAME SPORTS",
          "GAME SPORTS",
          "GAME SPORTS",
          "GAME SPORTS",
          "GAME SPORTS",
          "GAME SPORTS",
          "GAME SPORTS",
          "GAME SPORTS",
          "GAME SPORTS",
          "GAME SPORTS",
          "GAME SPORTS",
          "GAME SPORTS",
          "GAME SPORTS",
          "GAME SPORTS",
          "GAME SPORTS",
          "GAME SPORTS",
          "GAME SPORTS",
          "GAME SPORTS",
          "GAME SPORTS",
          "GAME SPORTS",
          "GAME SPORTS",
          "GAME SPORTS",
          "GAME SPORTS",
          "GAME SPORTS",
          "GAME SPORTS",
          "GAME SPORTS",
          "GAME SPORTS",
          "GAME SPORTS",
          "GAME SPORTS",
          "GAME SPORTS",
          "GAME SPORTS",
          "GAME SPORTS",
          "GAME SPORTS",
          "GAME SPORTS",
          "GAME SPORTS",
          "GAME SPORTS",
          "GAME SPORTS",
          "GAME SPORTS",
          "GAME SPORTS",
          "GAME SPORTS",
          "GAME SPORTS",
          "GAME SPORTS",
          "GAME SPORTS",
          "GAME SPORTS",
          "GAME SPORTS",
          "GAME SPORTS",
          "GAME SPORTS",
          "GAME SPORTS",
          "GAME SPORTS",
          "GAME SPORTS",
          "GAME SPORTS",
          "GAME SPORTS",
          "GAME SPORTS",
          "GAME SPORTS",
          "GAME SPORTS",
          "GAME STRATEGY",
          "GAME STRATEGY",
          "GAME STRATEGY",
          "GAME STRATEGY",
          "GAME STRATEGY",
          "GAME STRATEGY",
          "GAME STRATEGY",
          "GAME STRATEGY",
          "GAME STRATEGY",
          "GAME STRATEGY",
          "GAME STRATEGY",
          "GAME STRATEGY",
          "GAME STRATEGY",
          "GAME STRATEGY",
          "GAME STRATEGY",
          "GAME STRATEGY",
          "GAME STRATEGY",
          "GAME STRATEGY",
          "GAME STRATEGY",
          "GAME STRATEGY",
          "GAME STRATEGY",
          "GAME STRATEGY",
          "GAME STRATEGY",
          "GAME STRATEGY",
          "GAME STRATEGY",
          "GAME STRATEGY",
          "GAME STRATEGY",
          "GAME STRATEGY",
          "GAME STRATEGY",
          "GAME STRATEGY",
          "GAME STRATEGY",
          "GAME STRATEGY",
          "GAME STRATEGY",
          "GAME STRATEGY",
          "GAME STRATEGY",
          "GAME STRATEGY",
          "GAME STRATEGY",
          "GAME STRATEGY",
          "GAME STRATEGY",
          "GAME STRATEGY",
          "GAME STRATEGY",
          "GAME STRATEGY",
          "GAME STRATEGY",
          "GAME STRATEGY",
          "GAME STRATEGY",
          "GAME STRATEGY",
          "GAME STRATEGY",
          "GAME STRATEGY",
          "GAME STRATEGY",
          "GAME STRATEGY",
          "GAME STRATEGY",
          "GAME STRATEGY",
          "GAME STRATEGY",
          "GAME STRATEGY",
          "GAME STRATEGY",
          "GAME STRATEGY",
          "GAME STRATEGY",
          "GAME STRATEGY",
          "GAME STRATEGY",
          "GAME STRATEGY",
          "GAME STRATEGY",
          "GAME STRATEGY",
          "GAME STRATEGY",
          "GAME STRATEGY",
          "GAME STRATEGY",
          "GAME STRATEGY",
          "GAME STRATEGY",
          "GAME STRATEGY",
          "GAME STRATEGY",
          "GAME STRATEGY",
          "GAME STRATEGY",
          "GAME STRATEGY",
          "GAME STRATEGY",
          "GAME STRATEGY",
          "GAME STRATEGY",
          "GAME STRATEGY",
          "GAME STRATEGY",
          "GAME STRATEGY",
          "GAME STRATEGY",
          "GAME STRATEGY",
          "GAME STRATEGY",
          "GAME STRATEGY",
          "GAME STRATEGY",
          "GAME STRATEGY",
          "GAME STRATEGY",
          "GAME STRATEGY",
          "GAME STRATEGY",
          "GAME STRATEGY",
          "GAME STRATEGY",
          "GAME STRATEGY",
          "GAME STRATEGY",
          "GAME STRATEGY",
          "GAME STRATEGY",
          "GAME STRATEGY",
          "GAME STRATEGY",
          "GAME STRATEGY",
          "GAME STRATEGY",
          "GAME STRATEGY",
          "GAME STRATEGY",
          "GAME STRATEGY",
          "GAME TRIVIA",
          "GAME TRIVIA",
          "GAME TRIVIA",
          "GAME TRIVIA",
          "GAME TRIVIA",
          "GAME TRIVIA",
          "GAME TRIVIA",
          "GAME TRIVIA",
          "GAME TRIVIA",
          "GAME TRIVIA",
          "GAME TRIVIA",
          "GAME TRIVIA",
          "GAME TRIVIA",
          "GAME TRIVIA",
          "GAME TRIVIA",
          "GAME TRIVIA",
          "GAME TRIVIA",
          "GAME TRIVIA",
          "GAME TRIVIA",
          "GAME TRIVIA",
          "GAME TRIVIA",
          "GAME TRIVIA",
          "GAME TRIVIA",
          "GAME TRIVIA",
          "GAME TRIVIA",
          "GAME TRIVIA",
          "GAME TRIVIA",
          "GAME TRIVIA",
          "GAME TRIVIA",
          "GAME TRIVIA",
          "GAME TRIVIA",
          "GAME TRIVIA",
          "GAME TRIVIA",
          "GAME TRIVIA",
          "GAME TRIVIA",
          "GAME TRIVIA",
          "GAME TRIVIA",
          "GAME TRIVIA",
          "GAME TRIVIA",
          "GAME TRIVIA",
          "GAME TRIVIA",
          "GAME TRIVIA",
          "GAME TRIVIA",
          "GAME TRIVIA",
          "GAME TRIVIA",
          "GAME TRIVIA",
          "GAME TRIVIA",
          "GAME TRIVIA",
          "GAME TRIVIA",
          "GAME TRIVIA",
          "GAME TRIVIA",
          "GAME TRIVIA",
          "GAME TRIVIA",
          "GAME TRIVIA",
          "GAME TRIVIA",
          "GAME TRIVIA",
          "GAME TRIVIA",
          "GAME TRIVIA",
          "GAME TRIVIA",
          "GAME TRIVIA",
          "GAME TRIVIA",
          "GAME TRIVIA",
          "GAME TRIVIA",
          "GAME TRIVIA",
          "GAME TRIVIA",
          "GAME TRIVIA",
          "GAME TRIVIA",
          "GAME TRIVIA",
          "GAME TRIVIA",
          "GAME TRIVIA",
          "GAME TRIVIA",
          "GAME TRIVIA",
          "GAME TRIVIA",
          "GAME TRIVIA",
          "GAME TRIVIA",
          "GAME TRIVIA",
          "GAME TRIVIA",
          "GAME TRIVIA",
          "GAME TRIVIA",
          "GAME TRIVIA",
          "GAME TRIVIA",
          "GAME TRIVIA",
          "GAME TRIVIA",
          "GAME TRIVIA",
          "GAME TRIVIA",
          "GAME TRIVIA",
          "GAME TRIVIA",
          "GAME TRIVIA",
          "GAME TRIVIA",
          "GAME TRIVIA",
          "GAME TRIVIA",
          "GAME TRIVIA",
          "GAME TRIVIA",
          "GAME TRIVIA",
          "GAME TRIVIA",
          "GAME TRIVIA",
          "GAME TRIVIA",
          "GAME TRIVIA",
          "GAME TRIVIA",
          "GAME TRIVIA",
          "GAME WORD",
          "GAME WORD",
          "GAME WORD",
          "GAME WORD",
          "GAME WORD",
          "GAME WORD",
          "GAME WORD",
          "GAME WORD",
          "GAME WORD",
          "GAME WORD",
          "GAME WORD",
          "GAME WORD",
          "GAME WORD",
          "GAME WORD",
          "GAME WORD",
          "GAME WORD",
          "GAME WORD",
          "GAME WORD",
          "GAME WORD",
          "GAME WORD",
          "GAME WORD",
          "GAME WORD",
          "GAME WORD",
          "GAME WORD",
          "GAME WORD",
          "GAME WORD",
          "GAME WORD",
          "GAME WORD",
          "GAME WORD",
          "GAME WORD",
          "GAME WORD",
          "GAME WORD",
          "GAME WORD",
          "GAME WORD",
          "GAME WORD",
          "GAME WORD",
          "GAME WORD",
          "GAME WORD",
          "GAME WORD",
          "GAME WORD",
          "GAME WORD",
          "GAME WORD",
          "GAME WORD",
          "GAME WORD",
          "GAME WORD",
          "GAME WORD",
          "GAME WORD",
          "GAME WORD",
          "GAME WORD",
          "GAME WORD",
          "GAME WORD",
          "GAME WORD",
          "GAME WORD",
          "GAME WORD",
          "GAME WORD",
          "GAME WORD",
          "GAME WORD",
          "GAME WORD",
          "GAME WORD",
          "GAME WORD",
          "GAME WORD",
          "GAME WORD",
          "GAME WORD",
          "GAME WORD",
          "GAME WORD",
          "GAME WORD",
          "GAME WORD",
          "GAME WORD",
          "GAME WORD",
          "GAME WORD",
          "GAME WORD",
          "GAME WORD",
          "GAME WORD",
          "GAME WORD",
          "GAME WORD",
          "GAME WORD",
          "GAME WORD",
          "GAME WORD",
          "GAME WORD",
          "GAME WORD",
          "GAME WORD",
          "GAME WORD",
          "GAME WORD",
          "GAME WORD",
          "GAME WORD",
          "GAME WORD",
          "GAME WORD",
          "GAME WORD",
          "GAME WORD",
          "GAME WORD",
          "GAME WORD",
          "GAME WORD",
          "GAME WORD",
          "GAME WORD",
          "GAME WORD",
          "GAME WORD",
          "GAME WORD",
          "GAME WORD",
          "GAME WORD",
          "GAME WORD",
          "GAME WORD",
          "GAME WORD",
          "GAME WORD",
          "GAME WORD"
         ],
         "xaxis": "x",
         "yaxis": "y"
        }
       ],
       "layout": {
        "barmode": "relative",
        "legend": {
         "tracegroupgap": 0
        },
        "template": {
         "data": {
          "bar": [
           {
            "error_x": {
             "color": "#2a3f5f"
            },
            "error_y": {
             "color": "#2a3f5f"
            },
            "marker": {
             "line": {
              "color": "#E5ECF6",
              "width": 0.5
             },
             "pattern": {
              "fillmode": "overlay",
              "size": 10,
              "solidity": 0.2
             }
            },
            "type": "bar"
           }
          ],
          "barpolar": [
           {
            "marker": {
             "line": {
              "color": "#E5ECF6",
              "width": 0.5
             },
             "pattern": {
              "fillmode": "overlay",
              "size": 10,
              "solidity": 0.2
             }
            },
            "type": "barpolar"
           }
          ],
          "carpet": [
           {
            "aaxis": {
             "endlinecolor": "#2a3f5f",
             "gridcolor": "white",
             "linecolor": "white",
             "minorgridcolor": "white",
             "startlinecolor": "#2a3f5f"
            },
            "baxis": {
             "endlinecolor": "#2a3f5f",
             "gridcolor": "white",
             "linecolor": "white",
             "minorgridcolor": "white",
             "startlinecolor": "#2a3f5f"
            },
            "type": "carpet"
           }
          ],
          "choropleth": [
           {
            "colorbar": {
             "outlinewidth": 0,
             "ticks": ""
            },
            "type": "choropleth"
           }
          ],
          "contour": [
           {
            "colorbar": {
             "outlinewidth": 0,
             "ticks": ""
            },
            "colorscale": [
             [
              0,
              "#0d0887"
             ],
             [
              0.1111111111111111,
              "#46039f"
             ],
             [
              0.2222222222222222,
              "#7201a8"
             ],
             [
              0.3333333333333333,
              "#9c179e"
             ],
             [
              0.4444444444444444,
              "#bd3786"
             ],
             [
              0.5555555555555556,
              "#d8576b"
             ],
             [
              0.6666666666666666,
              "#ed7953"
             ],
             [
              0.7777777777777778,
              "#fb9f3a"
             ],
             [
              0.8888888888888888,
              "#fdca26"
             ],
             [
              1,
              "#f0f921"
             ]
            ],
            "type": "contour"
           }
          ],
          "contourcarpet": [
           {
            "colorbar": {
             "outlinewidth": 0,
             "ticks": ""
            },
            "type": "contourcarpet"
           }
          ],
          "heatmap": [
           {
            "colorbar": {
             "outlinewidth": 0,
             "ticks": ""
            },
            "colorscale": [
             [
              0,
              "#0d0887"
             ],
             [
              0.1111111111111111,
              "#46039f"
             ],
             [
              0.2222222222222222,
              "#7201a8"
             ],
             [
              0.3333333333333333,
              "#9c179e"
             ],
             [
              0.4444444444444444,
              "#bd3786"
             ],
             [
              0.5555555555555556,
              "#d8576b"
             ],
             [
              0.6666666666666666,
              "#ed7953"
             ],
             [
              0.7777777777777778,
              "#fb9f3a"
             ],
             [
              0.8888888888888888,
              "#fdca26"
             ],
             [
              1,
              "#f0f921"
             ]
            ],
            "type": "heatmap"
           }
          ],
          "heatmapgl": [
           {
            "colorbar": {
             "outlinewidth": 0,
             "ticks": ""
            },
            "colorscale": [
             [
              0,
              "#0d0887"
             ],
             [
              0.1111111111111111,
              "#46039f"
             ],
             [
              0.2222222222222222,
              "#7201a8"
             ],
             [
              0.3333333333333333,
              "#9c179e"
             ],
             [
              0.4444444444444444,
              "#bd3786"
             ],
             [
              0.5555555555555556,
              "#d8576b"
             ],
             [
              0.6666666666666666,
              "#ed7953"
             ],
             [
              0.7777777777777778,
              "#fb9f3a"
             ],
             [
              0.8888888888888888,
              "#fdca26"
             ],
             [
              1,
              "#f0f921"
             ]
            ],
            "type": "heatmapgl"
           }
          ],
          "histogram": [
           {
            "marker": {
             "pattern": {
              "fillmode": "overlay",
              "size": 10,
              "solidity": 0.2
             }
            },
            "type": "histogram"
           }
          ],
          "histogram2d": [
           {
            "colorbar": {
             "outlinewidth": 0,
             "ticks": ""
            },
            "colorscale": [
             [
              0,
              "#0d0887"
             ],
             [
              0.1111111111111111,
              "#46039f"
             ],
             [
              0.2222222222222222,
              "#7201a8"
             ],
             [
              0.3333333333333333,
              "#9c179e"
             ],
             [
              0.4444444444444444,
              "#bd3786"
             ],
             [
              0.5555555555555556,
              "#d8576b"
             ],
             [
              0.6666666666666666,
              "#ed7953"
             ],
             [
              0.7777777777777778,
              "#fb9f3a"
             ],
             [
              0.8888888888888888,
              "#fdca26"
             ],
             [
              1,
              "#f0f921"
             ]
            ],
            "type": "histogram2d"
           }
          ],
          "histogram2dcontour": [
           {
            "colorbar": {
             "outlinewidth": 0,
             "ticks": ""
            },
            "colorscale": [
             [
              0,
              "#0d0887"
             ],
             [
              0.1111111111111111,
              "#46039f"
             ],
             [
              0.2222222222222222,
              "#7201a8"
             ],
             [
              0.3333333333333333,
              "#9c179e"
             ],
             [
              0.4444444444444444,
              "#bd3786"
             ],
             [
              0.5555555555555556,
              "#d8576b"
             ],
             [
              0.6666666666666666,
              "#ed7953"
             ],
             [
              0.7777777777777778,
              "#fb9f3a"
             ],
             [
              0.8888888888888888,
              "#fdca26"
             ],
             [
              1,
              "#f0f921"
             ]
            ],
            "type": "histogram2dcontour"
           }
          ],
          "mesh3d": [
           {
            "colorbar": {
             "outlinewidth": 0,
             "ticks": ""
            },
            "type": "mesh3d"
           }
          ],
          "parcoords": [
           {
            "line": {
             "colorbar": {
              "outlinewidth": 0,
              "ticks": ""
             }
            },
            "type": "parcoords"
           }
          ],
          "pie": [
           {
            "automargin": true,
            "type": "pie"
           }
          ],
          "scatter": [
           {
            "marker": {
             "colorbar": {
              "outlinewidth": 0,
              "ticks": ""
             }
            },
            "type": "scatter"
           }
          ],
          "scatter3d": [
           {
            "line": {
             "colorbar": {
              "outlinewidth": 0,
              "ticks": ""
             }
            },
            "marker": {
             "colorbar": {
              "outlinewidth": 0,
              "ticks": ""
             }
            },
            "type": "scatter3d"
           }
          ],
          "scattercarpet": [
           {
            "marker": {
             "colorbar": {
              "outlinewidth": 0,
              "ticks": ""
             }
            },
            "type": "scattercarpet"
           }
          ],
          "scattergeo": [
           {
            "marker": {
             "colorbar": {
              "outlinewidth": 0,
              "ticks": ""
             }
            },
            "type": "scattergeo"
           }
          ],
          "scattergl": [
           {
            "marker": {
             "colorbar": {
              "outlinewidth": 0,
              "ticks": ""
             }
            },
            "type": "scattergl"
           }
          ],
          "scattermapbox": [
           {
            "marker": {
             "colorbar": {
              "outlinewidth": 0,
              "ticks": ""
             }
            },
            "type": "scattermapbox"
           }
          ],
          "scatterpolar": [
           {
            "marker": {
             "colorbar": {
              "outlinewidth": 0,
              "ticks": ""
             }
            },
            "type": "scatterpolar"
           }
          ],
          "scatterpolargl": [
           {
            "marker": {
             "colorbar": {
              "outlinewidth": 0,
              "ticks": ""
             }
            },
            "type": "scatterpolargl"
           }
          ],
          "scatterternary": [
           {
            "marker": {
             "colorbar": {
              "outlinewidth": 0,
              "ticks": ""
             }
            },
            "type": "scatterternary"
           }
          ],
          "surface": [
           {
            "colorbar": {
             "outlinewidth": 0,
             "ticks": ""
            },
            "colorscale": [
             [
              0,
              "#0d0887"
             ],
             [
              0.1111111111111111,
              "#46039f"
             ],
             [
              0.2222222222222222,
              "#7201a8"
             ],
             [
              0.3333333333333333,
              "#9c179e"
             ],
             [
              0.4444444444444444,
              "#bd3786"
             ],
             [
              0.5555555555555556,
              "#d8576b"
             ],
             [
              0.6666666666666666,
              "#ed7953"
             ],
             [
              0.7777777777777778,
              "#fb9f3a"
             ],
             [
              0.8888888888888888,
              "#fdca26"
             ],
             [
              1,
              "#f0f921"
             ]
            ],
            "type": "surface"
           }
          ],
          "table": [
           {
            "cells": {
             "fill": {
              "color": "#EBF0F8"
             },
             "line": {
              "color": "white"
             }
            },
            "header": {
             "fill": {
              "color": "#C8D4E3"
             },
             "line": {
              "color": "white"
             }
            },
            "type": "table"
           }
          ]
         },
         "layout": {
          "annotationdefaults": {
           "arrowcolor": "#2a3f5f",
           "arrowhead": 0,
           "arrowwidth": 1
          },
          "autotypenumbers": "strict",
          "coloraxis": {
           "colorbar": {
            "outlinewidth": 0,
            "ticks": ""
           }
          },
          "colorscale": {
           "diverging": [
            [
             0,
             "#8e0152"
            ],
            [
             0.1,
             "#c51b7d"
            ],
            [
             0.2,
             "#de77ae"
            ],
            [
             0.3,
             "#f1b6da"
            ],
            [
             0.4,
             "#fde0ef"
            ],
            [
             0.5,
             "#f7f7f7"
            ],
            [
             0.6,
             "#e6f5d0"
            ],
            [
             0.7,
             "#b8e186"
            ],
            [
             0.8,
             "#7fbc41"
            ],
            [
             0.9,
             "#4d9221"
            ],
            [
             1,
             "#276419"
            ]
           ],
           "sequential": [
            [
             0,
             "#0d0887"
            ],
            [
             0.1111111111111111,
             "#46039f"
            ],
            [
             0.2222222222222222,
             "#7201a8"
            ],
            [
             0.3333333333333333,
             "#9c179e"
            ],
            [
             0.4444444444444444,
             "#bd3786"
            ],
            [
             0.5555555555555556,
             "#d8576b"
            ],
            [
             0.6666666666666666,
             "#ed7953"
            ],
            [
             0.7777777777777778,
             "#fb9f3a"
            ],
            [
             0.8888888888888888,
             "#fdca26"
            ],
            [
             1,
             "#f0f921"
            ]
           ],
           "sequentialminus": [
            [
             0,
             "#0d0887"
            ],
            [
             0.1111111111111111,
             "#46039f"
            ],
            [
             0.2222222222222222,
             "#7201a8"
            ],
            [
             0.3333333333333333,
             "#9c179e"
            ],
            [
             0.4444444444444444,
             "#bd3786"
            ],
            [
             0.5555555555555556,
             "#d8576b"
            ],
            [
             0.6666666666666666,
             "#ed7953"
            ],
            [
             0.7777777777777778,
             "#fb9f3a"
            ],
            [
             0.8888888888888888,
             "#fdca26"
            ],
            [
             1,
             "#f0f921"
            ]
           ]
          },
          "colorway": [
           "#636efa",
           "#EF553B",
           "#00cc96",
           "#ab63fa",
           "#FFA15A",
           "#19d3f3",
           "#FF6692",
           "#B6E880",
           "#FF97FF",
           "#FECB52"
          ],
          "font": {
           "color": "#2a3f5f"
          },
          "geo": {
           "bgcolor": "white",
           "lakecolor": "white",
           "landcolor": "#E5ECF6",
           "showlakes": true,
           "showland": true,
           "subunitcolor": "white"
          },
          "hoverlabel": {
           "align": "left"
          },
          "hovermode": "closest",
          "mapbox": {
           "style": "light"
          },
          "paper_bgcolor": "white",
          "plot_bgcolor": "#E5ECF6",
          "polar": {
           "angularaxis": {
            "gridcolor": "white",
            "linecolor": "white",
            "ticks": ""
           },
           "bgcolor": "#E5ECF6",
           "radialaxis": {
            "gridcolor": "white",
            "linecolor": "white",
            "ticks": ""
           }
          },
          "scene": {
           "xaxis": {
            "backgroundcolor": "#E5ECF6",
            "gridcolor": "white",
            "gridwidth": 2,
            "linecolor": "white",
            "showbackground": true,
            "ticks": "",
            "zerolinecolor": "white"
           },
           "yaxis": {
            "backgroundcolor": "#E5ECF6",
            "gridcolor": "white",
            "gridwidth": 2,
            "linecolor": "white",
            "showbackground": true,
            "ticks": "",
            "zerolinecolor": "white"
           },
           "zaxis": {
            "backgroundcolor": "#E5ECF6",
            "gridcolor": "white",
            "gridwidth": 2,
            "linecolor": "white",
            "showbackground": true,
            "ticks": "",
            "zerolinecolor": "white"
           }
          },
          "shapedefaults": {
           "line": {
            "color": "#2a3f5f"
           }
          },
          "ternary": {
           "aaxis": {
            "gridcolor": "white",
            "linecolor": "white",
            "ticks": ""
           },
           "baxis": {
            "gridcolor": "white",
            "linecolor": "white",
            "ticks": ""
           },
           "bgcolor": "#E5ECF6",
           "caxis": {
            "gridcolor": "white",
            "linecolor": "white",
            "ticks": ""
           }
          },
          "title": {
           "x": 0.05
          },
          "xaxis": {
           "automargin": true,
           "gridcolor": "white",
           "linecolor": "white",
           "ticks": "",
           "title": {
            "standoff": 15
           },
           "zerolinecolor": "white",
           "zerolinewidth": 2
          },
          "yaxis": {
           "automargin": true,
           "gridcolor": "white",
           "linecolor": "white",
           "ticks": "",
           "title": {
            "standoff": 15
           },
           "zerolinecolor": "white",
           "zerolinewidth": 2
          }
         }
        },
        "title": {
         "text": "Game Categories"
        },
        "xaxis": {
         "categoryorder": "total descending",
         "tickangle": 60
        },
        "yaxis": {
         "anchor": "x",
         "domain": [
          0,
          1
         ],
         "title": {
          "text": "count"
         }
        }
       }
      },
      "text/html": [
       "<div>                            <div id=\"69788b89-a879-413b-85bd-b6e054cf4542\" class=\"plotly-graph-div\" style=\"height:525px; width:100%;\"></div>            <script type=\"text/javascript\">                require([\"plotly\"], function(Plotly) {                    window.PLOTLYENV=window.PLOTLYENV || {};                                    if (document.getElementById(\"69788b89-a879-413b-85bd-b6e054cf4542\")) {                    Plotly.newPlot(                        \"69788b89-a879-413b-85bd-b6e054cf4542\",                        [{\"alignmentgroup\":\"True\",\"bingroup\":\"x\",\"hovertemplate\":\"category=%{x}<br>count=%{y}<extra></extra>\",\"legendgroup\":\"\",\"marker\":{\"color\":\"#636efa\",\"pattern\":{\"shape\":\"\"}},\"name\":\"\",\"offsetgroup\":\"\",\"orientation\":\"v\",\"showlegend\":false,\"type\":\"histogram\",\"x\":[\"GAME ACTION\",\"GAME ACTION\",\"GAME ACTION\",\"GAME ACTION\",\"GAME ACTION\",\"GAME ACTION\",\"GAME ACTION\",\"GAME ACTION\",\"GAME ACTION\",\"GAME ACTION\",\"GAME ACTION\",\"GAME ACTION\",\"GAME ACTION\",\"GAME ACTION\",\"GAME ACTION\",\"GAME ACTION\",\"GAME ACTION\",\"GAME ACTION\",\"GAME ACTION\",\"GAME ACTION\",\"GAME ACTION\",\"GAME ACTION\",\"GAME ACTION\",\"GAME ACTION\",\"GAME ACTION\",\"GAME ACTION\",\"GAME ACTION\",\"GAME ACTION\",\"GAME ACTION\",\"GAME ACTION\",\"GAME ACTION\",\"GAME ACTION\",\"GAME ACTION\",\"GAME ACTION\",\"GAME ACTION\",\"GAME ACTION\",\"GAME ACTION\",\"GAME ACTION\",\"GAME ACTION\",\"GAME ACTION\",\"GAME ACTION\",\"GAME ACTION\",\"GAME ACTION\",\"GAME ACTION\",\"GAME ACTION\",\"GAME ACTION\",\"GAME ACTION\",\"GAME ACTION\",\"GAME ACTION\",\"GAME ACTION\",\"GAME ACTION\",\"GAME ACTION\",\"GAME ACTION\",\"GAME ACTION\",\"GAME ACTION\",\"GAME ACTION\",\"GAME ACTION\",\"GAME ACTION\",\"GAME ACTION\",\"GAME ACTION\",\"GAME ACTION\",\"GAME ACTION\",\"GAME ACTION\",\"GAME ACTION\",\"GAME ACTION\",\"GAME ACTION\",\"GAME ACTION\",\"GAME ACTION\",\"GAME ACTION\",\"GAME ACTION\",\"GAME ACTION\",\"GAME ACTION\",\"GAME ACTION\",\"GAME ACTION\",\"GAME ACTION\",\"GAME ACTION\",\"GAME ACTION\",\"GAME ACTION\",\"GAME ACTION\",\"GAME ACTION\",\"GAME ACTION\",\"GAME ACTION\",\"GAME ACTION\",\"GAME ACTION\",\"GAME ACTION\",\"GAME ACTION\",\"GAME ACTION\",\"GAME ACTION\",\"GAME ACTION\",\"GAME ACTION\",\"GAME ACTION\",\"GAME ACTION\",\"GAME ACTION\",\"GAME ACTION\",\"GAME ACTION\",\"GAME ACTION\",\"GAME ACTION\",\"GAME ACTION\",\"GAME ACTION\",\"GAME ACTION\",\"GAME ADVENTURE\",\"GAME ADVENTURE\",\"GAME ADVENTURE\",\"GAME ADVENTURE\",\"GAME ADVENTURE\",\"GAME ADVENTURE\",\"GAME ADVENTURE\",\"GAME ADVENTURE\",\"GAME ADVENTURE\",\"GAME ADVENTURE\",\"GAME ADVENTURE\",\"GAME ADVENTURE\",\"GAME ADVENTURE\",\"GAME ADVENTURE\",\"GAME ADVENTURE\",\"GAME ADVENTURE\",\"GAME ADVENTURE\",\"GAME ADVENTURE\",\"GAME ADVENTURE\",\"GAME ADVENTURE\",\"GAME ADVENTURE\",\"GAME ADVENTURE\",\"GAME ADVENTURE\",\"GAME ADVENTURE\",\"GAME ADVENTURE\",\"GAME ADVENTURE\",\"GAME ADVENTURE\",\"GAME ADVENTURE\",\"GAME ADVENTURE\",\"GAME ADVENTURE\",\"GAME ADVENTURE\",\"GAME ADVENTURE\",\"GAME ADVENTURE\",\"GAME ADVENTURE\",\"GAME ADVENTURE\",\"GAME ADVENTURE\",\"GAME ADVENTURE\",\"GAME ADVENTURE\",\"GAME ADVENTURE\",\"GAME ADVENTURE\",\"GAME ADVENTURE\",\"GAME ADVENTURE\",\"GAME ADVENTURE\",\"GAME ADVENTURE\",\"GAME ADVENTURE\",\"GAME ADVENTURE\",\"GAME ADVENTURE\",\"GAME ADVENTURE\",\"GAME ADVENTURE\",\"GAME ADVENTURE\",\"GAME ADVENTURE\",\"GAME ADVENTURE\",\"GAME ADVENTURE\",\"GAME ADVENTURE\",\"GAME ADVENTURE\",\"GAME ADVENTURE\",\"GAME ADVENTURE\",\"GAME ADVENTURE\",\"GAME ADVENTURE\",\"GAME ADVENTURE\",\"GAME ADVENTURE\",\"GAME ADVENTURE\",\"GAME ADVENTURE\",\"GAME ADVENTURE\",\"GAME ADVENTURE\",\"GAME ADVENTURE\",\"GAME ADVENTURE\",\"GAME ADVENTURE\",\"GAME ADVENTURE\",\"GAME ADVENTURE\",\"GAME ADVENTURE\",\"GAME ADVENTURE\",\"GAME ADVENTURE\",\"GAME ADVENTURE\",\"GAME ADVENTURE\",\"GAME ADVENTURE\",\"GAME ADVENTURE\",\"GAME ADVENTURE\",\"GAME ADVENTURE\",\"GAME ADVENTURE\",\"GAME ADVENTURE\",\"GAME ADVENTURE\",\"GAME ADVENTURE\",\"GAME ADVENTURE\",\"GAME ADVENTURE\",\"GAME ADVENTURE\",\"GAME ADVENTURE\",\"GAME ADVENTURE\",\"GAME ADVENTURE\",\"GAME ADVENTURE\",\"GAME ADVENTURE\",\"GAME ADVENTURE\",\"GAME ADVENTURE\",\"GAME ADVENTURE\",\"GAME ADVENTURE\",\"GAME ADVENTURE\",\"GAME ADVENTURE\",\"GAME ADVENTURE\",\"GAME ADVENTURE\",\"GAME ADVENTURE\",\"GAME ARCADE\",\"GAME ARCADE\",\"GAME ARCADE\",\"GAME ARCADE\",\"GAME ARCADE\",\"GAME ARCADE\",\"GAME ARCADE\",\"GAME ARCADE\",\"GAME ARCADE\",\"GAME ARCADE\",\"GAME ARCADE\",\"GAME ARCADE\",\"GAME ARCADE\",\"GAME ARCADE\",\"GAME ARCADE\",\"GAME ARCADE\",\"GAME ARCADE\",\"GAME ARCADE\",\"GAME ARCADE\",\"GAME ARCADE\",\"GAME ARCADE\",\"GAME ARCADE\",\"GAME ARCADE\",\"GAME ARCADE\",\"GAME ARCADE\",\"GAME ARCADE\",\"GAME ARCADE\",\"GAME ARCADE\",\"GAME ARCADE\",\"GAME ARCADE\",\"GAME ARCADE\",\"GAME ARCADE\",\"GAME ARCADE\",\"GAME ARCADE\",\"GAME ARCADE\",\"GAME ARCADE\",\"GAME ARCADE\",\"GAME ARCADE\",\"GAME ARCADE\",\"GAME ARCADE\",\"GAME ARCADE\",\"GAME ARCADE\",\"GAME ARCADE\",\"GAME ARCADE\",\"GAME ARCADE\",\"GAME ARCADE\",\"GAME ARCADE\",\"GAME ARCADE\",\"GAME ARCADE\",\"GAME ARCADE\",\"GAME ARCADE\",\"GAME ARCADE\",\"GAME ARCADE\",\"GAME ARCADE\",\"GAME ARCADE\",\"GAME ARCADE\",\"GAME ARCADE\",\"GAME ARCADE\",\"GAME ARCADE\",\"GAME ARCADE\",\"GAME ARCADE\",\"GAME ARCADE\",\"GAME ARCADE\",\"GAME ARCADE\",\"GAME ARCADE\",\"GAME ARCADE\",\"GAME ARCADE\",\"GAME ARCADE\",\"GAME ARCADE\",\"GAME ARCADE\",\"GAME ARCADE\",\"GAME ARCADE\",\"GAME ARCADE\",\"GAME ARCADE\",\"GAME ARCADE\",\"GAME ARCADE\",\"GAME ARCADE\",\"GAME ARCADE\",\"GAME ARCADE\",\"GAME ARCADE\",\"GAME ARCADE\",\"GAME ARCADE\",\"GAME ARCADE\",\"GAME ARCADE\",\"GAME ARCADE\",\"GAME ARCADE\",\"GAME ARCADE\",\"GAME ARCADE\",\"GAME ARCADE\",\"GAME ARCADE\",\"GAME ARCADE\",\"GAME ARCADE\",\"GAME ARCADE\",\"GAME ARCADE\",\"GAME ARCADE\",\"GAME ARCADE\",\"GAME ARCADE\",\"GAME ARCADE\",\"GAME ARCADE\",\"GAME ARCADE\",\"GAME BOARD\",\"GAME BOARD\",\"GAME BOARD\",\"GAME BOARD\",\"GAME BOARD\",\"GAME BOARD\",\"GAME BOARD\",\"GAME BOARD\",\"GAME BOARD\",\"GAME BOARD\",\"GAME BOARD\",\"GAME BOARD\",\"GAME BOARD\",\"GAME BOARD\",\"GAME BOARD\",\"GAME BOARD\",\"GAME BOARD\",\"GAME BOARD\",\"GAME BOARD\",\"GAME BOARD\",\"GAME BOARD\",\"GAME BOARD\",\"GAME BOARD\",\"GAME BOARD\",\"GAME BOARD\",\"GAME BOARD\",\"GAME BOARD\",\"GAME BOARD\",\"GAME BOARD\",\"GAME BOARD\",\"GAME BOARD\",\"GAME BOARD\",\"GAME BOARD\",\"GAME BOARD\",\"GAME BOARD\",\"GAME BOARD\",\"GAME BOARD\",\"GAME BOARD\",\"GAME BOARD\",\"GAME BOARD\",\"GAME BOARD\",\"GAME BOARD\",\"GAME BOARD\",\"GAME BOARD\",\"GAME BOARD\",\"GAME BOARD\",\"GAME BOARD\",\"GAME BOARD\",\"GAME BOARD\",\"GAME BOARD\",\"GAME BOARD\",\"GAME BOARD\",\"GAME BOARD\",\"GAME BOARD\",\"GAME BOARD\",\"GAME BOARD\",\"GAME BOARD\",\"GAME BOARD\",\"GAME BOARD\",\"GAME BOARD\",\"GAME BOARD\",\"GAME BOARD\",\"GAME BOARD\",\"GAME BOARD\",\"GAME BOARD\",\"GAME BOARD\",\"GAME BOARD\",\"GAME BOARD\",\"GAME BOARD\",\"GAME BOARD\",\"GAME BOARD\",\"GAME BOARD\",\"GAME BOARD\",\"GAME BOARD\",\"GAME BOARD\",\"GAME BOARD\",\"GAME BOARD\",\"GAME BOARD\",\"GAME BOARD\",\"GAME BOARD\",\"GAME BOARD\",\"GAME BOARD\",\"GAME BOARD\",\"GAME BOARD\",\"GAME BOARD\",\"GAME BOARD\",\"GAME BOARD\",\"GAME BOARD\",\"GAME BOARD\",\"GAME BOARD\",\"GAME BOARD\",\"GAME BOARD\",\"GAME BOARD\",\"GAME BOARD\",\"GAME BOARD\",\"GAME BOARD\",\"GAME BOARD\",\"GAME BOARD\",\"GAME BOARD\",\"GAME BOARD\",\"GAME CARD\",\"GAME CARD\",\"GAME CARD\",\"GAME CARD\",\"GAME CARD\",\"GAME CARD\",\"GAME CARD\",\"GAME CARD\",\"GAME CARD\",\"GAME CARD\",\"GAME CARD\",\"GAME CARD\",\"GAME CARD\",\"GAME CARD\",\"GAME CARD\",\"GAME CARD\",\"GAME CARD\",\"GAME CARD\",\"GAME CARD\",\"GAME CARD\",\"GAME CARD\",\"GAME CARD\",\"GAME CARD\",\"GAME CARD\",\"GAME CARD\",\"GAME CARD\",\"GAME CARD\",\"GAME CARD\",\"GAME CARD\",\"GAME CARD\",\"GAME CARD\",\"GAME CARD\",\"GAME CARD\",\"GAME CARD\",\"GAME CARD\",\"GAME CARD\",\"GAME CARD\",\"GAME CARD\",\"GAME CARD\",\"GAME CARD\",\"GAME CARD\",\"GAME CARD\",\"GAME CARD\",\"GAME CARD\",\"GAME CARD\",\"GAME CARD\",\"GAME CARD\",\"GAME CARD\",\"GAME CARD\",\"GAME CARD\",\"GAME CARD\",\"GAME CARD\",\"GAME CARD\",\"GAME CARD\",\"GAME CARD\",\"GAME CARD\",\"GAME CARD\",\"GAME CARD\",\"GAME CARD\",\"GAME CARD\",\"GAME CARD\",\"GAME CARD\",\"GAME CARD\",\"GAME CARD\",\"GAME CARD\",\"GAME CARD\",\"GAME CARD\",\"GAME CARD\",\"GAME CARD\",\"GAME CARD\",\"GAME CARD\",\"GAME CARD\",\"GAME CARD\",\"GAME CARD\",\"GAME CARD\",\"GAME CARD\",\"GAME CARD\",\"GAME CARD\",\"GAME CARD\",\"GAME CARD\",\"GAME CARD\",\"GAME CARD\",\"GAME CARD\",\"GAME CARD\",\"GAME CARD\",\"GAME CARD\",\"GAME CARD\",\"GAME CARD\",\"GAME CARD\",\"GAME CARD\",\"GAME CARD\",\"GAME CARD\",\"GAME CARD\",\"GAME CARD\",\"GAME CARD\",\"GAME CARD\",\"GAME CARD\",\"GAME CARD\",\"GAME CARD\",\"GAME CARD\",\"GAME CARD\",\"GAME CARD\",\"GAME CARD\",\"GAME CARD\",\"GAME CARD\",\"GAME CARD\",\"GAME CARD\",\"GAME CARD\",\"GAME CARD\",\"GAME CARD\",\"GAME CARD\",\"GAME CARD\",\"GAME CARD\",\"GAME CARD\",\"GAME CARD\",\"GAME CARD\",\"GAME CARD\",\"GAME CARD\",\"GAME CARD\",\"GAME CARD\",\"GAME CARD\",\"GAME CARD\",\"GAME CARD\",\"GAME CARD\",\"GAME CARD\",\"GAME CARD\",\"GAME CASINO\",\"GAME CASINO\",\"GAME CASINO\",\"GAME CASINO\",\"GAME CASINO\",\"GAME CASINO\",\"GAME CASINO\",\"GAME CASINO\",\"GAME CASINO\",\"GAME CASINO\",\"GAME CASINO\",\"GAME CASINO\",\"GAME CASINO\",\"GAME CASINO\",\"GAME CASINO\",\"GAME CASINO\",\"GAME CASINO\",\"GAME CASINO\",\"GAME CASINO\",\"GAME CASINO\",\"GAME CASINO\",\"GAME CASINO\",\"GAME CASINO\",\"GAME CASINO\",\"GAME CASINO\",\"GAME CASINO\",\"GAME CASINO\",\"GAME CASINO\",\"GAME CASINO\",\"GAME CASINO\",\"GAME CASINO\",\"GAME CASINO\",\"GAME CASINO\",\"GAME CASINO\",\"GAME CASINO\",\"GAME CASINO\",\"GAME CASINO\",\"GAME CASINO\",\"GAME CASINO\",\"GAME CASINO\",\"GAME CASINO\",\"GAME CASINO\",\"GAME CASINO\",\"GAME CASINO\",\"GAME CASINO\",\"GAME CASINO\",\"GAME CASINO\",\"GAME CASINO\",\"GAME CASINO\",\"GAME CASINO\",\"GAME CASINO\",\"GAME CASINO\",\"GAME CASINO\",\"GAME CASINO\",\"GAME CASINO\",\"GAME CASINO\",\"GAME CASINO\",\"GAME CASINO\",\"GAME CASINO\",\"GAME CASINO\",\"GAME CASINO\",\"GAME CASINO\",\"GAME CASINO\",\"GAME CASINO\",\"GAME CASINO\",\"GAME CASINO\",\"GAME CASINO\",\"GAME CASINO\",\"GAME CASINO\",\"GAME CASINO\",\"GAME CASINO\",\"GAME CASINO\",\"GAME CASINO\",\"GAME CASINO\",\"GAME CASINO\",\"GAME CASINO\",\"GAME CASINO\",\"GAME CASINO\",\"GAME CASINO\",\"GAME CASINO\",\"GAME CASINO\",\"GAME CASINO\",\"GAME CASINO\",\"GAME CASINO\",\"GAME CASINO\",\"GAME CASINO\",\"GAME CASINO\",\"GAME CASINO\",\"GAME CASINO\",\"GAME CASINO\",\"GAME CASINO\",\"GAME CASINO\",\"GAME CASINO\",\"GAME CASINO\",\"GAME CASINO\",\"GAME CASINO\",\"GAME CASINO\",\"GAME CASINO\",\"GAME CASINO\",\"GAME CASINO\",\"GAME CASUAL\",\"GAME CASUAL\",\"GAME CASUAL\",\"GAME CASUAL\",\"GAME CASUAL\",\"GAME CASUAL\",\"GAME CASUAL\",\"GAME CASUAL\",\"GAME CASUAL\",\"GAME CASUAL\",\"GAME CASUAL\",\"GAME CASUAL\",\"GAME CASUAL\",\"GAME CASUAL\",\"GAME CASUAL\",\"GAME CASUAL\",\"GAME CASUAL\",\"GAME CASUAL\",\"GAME CASUAL\",\"GAME CASUAL\",\"GAME CASUAL\",\"GAME CASUAL\",\"GAME CASUAL\",\"GAME CASUAL\",\"GAME CASUAL\",\"GAME CASUAL\",\"GAME CASUAL\",\"GAME CASUAL\",\"GAME CASUAL\",\"GAME CASUAL\",\"GAME CASUAL\",\"GAME CASUAL\",\"GAME CASUAL\",\"GAME CASUAL\",\"GAME CASUAL\",\"GAME CASUAL\",\"GAME CASUAL\",\"GAME CASUAL\",\"GAME CASUAL\",\"GAME CASUAL\",\"GAME CASUAL\",\"GAME CASUAL\",\"GAME CASUAL\",\"GAME CASUAL\",\"GAME CASUAL\",\"GAME CASUAL\",\"GAME CASUAL\",\"GAME CASUAL\",\"GAME CASUAL\",\"GAME CASUAL\",\"GAME CASUAL\",\"GAME CASUAL\",\"GAME CASUAL\",\"GAME CASUAL\",\"GAME CASUAL\",\"GAME CASUAL\",\"GAME CASUAL\",\"GAME CASUAL\",\"GAME CASUAL\",\"GAME CASUAL\",\"GAME CASUAL\",\"GAME CASUAL\",\"GAME CASUAL\",\"GAME CASUAL\",\"GAME CASUAL\",\"GAME CASUAL\",\"GAME CASUAL\",\"GAME CASUAL\",\"GAME CASUAL\",\"GAME CASUAL\",\"GAME CASUAL\",\"GAME CASUAL\",\"GAME CASUAL\",\"GAME CASUAL\",\"GAME CASUAL\",\"GAME CASUAL\",\"GAME CASUAL\",\"GAME CASUAL\",\"GAME CASUAL\",\"GAME CASUAL\",\"GAME CASUAL\",\"GAME CASUAL\",\"GAME CASUAL\",\"GAME CASUAL\",\"GAME CASUAL\",\"GAME CASUAL\",\"GAME CASUAL\",\"GAME CASUAL\",\"GAME CASUAL\",\"GAME CASUAL\",\"GAME CASUAL\",\"GAME CASUAL\",\"GAME CASUAL\",\"GAME CASUAL\",\"GAME CASUAL\",\"GAME CASUAL\",\"GAME CASUAL\",\"GAME CASUAL\",\"GAME CASUAL\",\"GAME CASUAL\",\"GAME EDUCATIONAL\",\"GAME EDUCATIONAL\",\"GAME EDUCATIONAL\",\"GAME EDUCATIONAL\",\"GAME EDUCATIONAL\",\"GAME EDUCATIONAL\",\"GAME EDUCATIONAL\",\"GAME EDUCATIONAL\",\"GAME EDUCATIONAL\",\"GAME EDUCATIONAL\",\"GAME EDUCATIONAL\",\"GAME EDUCATIONAL\",\"GAME EDUCATIONAL\",\"GAME EDUCATIONAL\",\"GAME EDUCATIONAL\",\"GAME EDUCATIONAL\",\"GAME EDUCATIONAL\",\"GAME EDUCATIONAL\",\"GAME EDUCATIONAL\",\"GAME EDUCATIONAL\",\"GAME EDUCATIONAL\",\"GAME EDUCATIONAL\",\"GAME EDUCATIONAL\",\"GAME EDUCATIONAL\",\"GAME EDUCATIONAL\",\"GAME EDUCATIONAL\",\"GAME EDUCATIONAL\",\"GAME EDUCATIONAL\",\"GAME EDUCATIONAL\",\"GAME EDUCATIONAL\",\"GAME EDUCATIONAL\",\"GAME EDUCATIONAL\",\"GAME EDUCATIONAL\",\"GAME EDUCATIONAL\",\"GAME EDUCATIONAL\",\"GAME EDUCATIONAL\",\"GAME EDUCATIONAL\",\"GAME EDUCATIONAL\",\"GAME EDUCATIONAL\",\"GAME EDUCATIONAL\",\"GAME EDUCATIONAL\",\"GAME EDUCATIONAL\",\"GAME EDUCATIONAL\",\"GAME EDUCATIONAL\",\"GAME EDUCATIONAL\",\"GAME EDUCATIONAL\",\"GAME EDUCATIONAL\",\"GAME EDUCATIONAL\",\"GAME EDUCATIONAL\",\"GAME EDUCATIONAL\",\"GAME EDUCATIONAL\",\"GAME EDUCATIONAL\",\"GAME EDUCATIONAL\",\"GAME EDUCATIONAL\",\"GAME EDUCATIONAL\",\"GAME EDUCATIONAL\",\"GAME EDUCATIONAL\",\"GAME EDUCATIONAL\",\"GAME EDUCATIONAL\",\"GAME EDUCATIONAL\",\"GAME EDUCATIONAL\",\"GAME EDUCATIONAL\",\"GAME EDUCATIONAL\",\"GAME EDUCATIONAL\",\"GAME EDUCATIONAL\",\"GAME EDUCATIONAL\",\"GAME EDUCATIONAL\",\"GAME EDUCATIONAL\",\"GAME EDUCATIONAL\",\"GAME EDUCATIONAL\",\"GAME EDUCATIONAL\",\"GAME EDUCATIONAL\",\"GAME EDUCATIONAL\",\"GAME EDUCATIONAL\",\"GAME EDUCATIONAL\",\"GAME EDUCATIONAL\",\"GAME EDUCATIONAL\",\"GAME EDUCATIONAL\",\"GAME EDUCATIONAL\",\"GAME EDUCATIONAL\",\"GAME EDUCATIONAL\",\"GAME EDUCATIONAL\",\"GAME EDUCATIONAL\",\"GAME EDUCATIONAL\",\"GAME EDUCATIONAL\",\"GAME EDUCATIONAL\",\"GAME EDUCATIONAL\",\"GAME EDUCATIONAL\",\"GAME EDUCATIONAL\",\"GAME EDUCATIONAL\",\"GAME EDUCATIONAL\",\"GAME EDUCATIONAL\",\"GAME EDUCATIONAL\",\"GAME EDUCATIONAL\",\"GAME EDUCATIONAL\",\"GAME EDUCATIONAL\",\"GAME EDUCATIONAL\",\"GAME EDUCATIONAL\",\"GAME EDUCATIONAL\",\"GAME EDUCATIONAL\",\"GAME MUSIC\",\"GAME MUSIC\",\"GAME MUSIC\",\"GAME MUSIC\",\"GAME MUSIC\",\"GAME MUSIC\",\"GAME MUSIC\",\"GAME MUSIC\",\"GAME MUSIC\",\"GAME MUSIC\",\"GAME MUSIC\",\"GAME MUSIC\",\"GAME MUSIC\",\"GAME MUSIC\",\"GAME MUSIC\",\"GAME MUSIC\",\"GAME MUSIC\",\"GAME MUSIC\",\"GAME MUSIC\",\"GAME MUSIC\",\"GAME MUSIC\",\"GAME MUSIC\",\"GAME MUSIC\",\"GAME MUSIC\",\"GAME MUSIC\",\"GAME MUSIC\",\"GAME MUSIC\",\"GAME MUSIC\",\"GAME MUSIC\",\"GAME MUSIC\",\"GAME MUSIC\",\"GAME MUSIC\",\"GAME MUSIC\",\"GAME MUSIC\",\"GAME MUSIC\",\"GAME MUSIC\",\"GAME MUSIC\",\"GAME MUSIC\",\"GAME MUSIC\",\"GAME MUSIC\",\"GAME MUSIC\",\"GAME MUSIC\",\"GAME MUSIC\",\"GAME MUSIC\",\"GAME MUSIC\",\"GAME MUSIC\",\"GAME MUSIC\",\"GAME MUSIC\",\"GAME MUSIC\",\"GAME MUSIC\",\"GAME MUSIC\",\"GAME MUSIC\",\"GAME MUSIC\",\"GAME MUSIC\",\"GAME MUSIC\",\"GAME MUSIC\",\"GAME MUSIC\",\"GAME MUSIC\",\"GAME MUSIC\",\"GAME MUSIC\",\"GAME MUSIC\",\"GAME MUSIC\",\"GAME MUSIC\",\"GAME MUSIC\",\"GAME MUSIC\",\"GAME MUSIC\",\"GAME MUSIC\",\"GAME MUSIC\",\"GAME MUSIC\",\"GAME MUSIC\",\"GAME MUSIC\",\"GAME MUSIC\",\"GAME MUSIC\",\"GAME MUSIC\",\"GAME MUSIC\",\"GAME MUSIC\",\"GAME MUSIC\",\"GAME MUSIC\",\"GAME MUSIC\",\"GAME MUSIC\",\"GAME MUSIC\",\"GAME MUSIC\",\"GAME MUSIC\",\"GAME MUSIC\",\"GAME MUSIC\",\"GAME MUSIC\",\"GAME MUSIC\",\"GAME MUSIC\",\"GAME MUSIC\",\"GAME MUSIC\",\"GAME MUSIC\",\"GAME MUSIC\",\"GAME MUSIC\",\"GAME MUSIC\",\"GAME MUSIC\",\"GAME MUSIC\",\"GAME MUSIC\",\"GAME MUSIC\",\"GAME MUSIC\",\"GAME MUSIC\",\"GAME PUZZLE\",\"GAME PUZZLE\",\"GAME PUZZLE\",\"GAME PUZZLE\",\"GAME PUZZLE\",\"GAME PUZZLE\",\"GAME PUZZLE\",\"GAME PUZZLE\",\"GAME PUZZLE\",\"GAME PUZZLE\",\"GAME PUZZLE\",\"GAME PUZZLE\",\"GAME PUZZLE\",\"GAME PUZZLE\",\"GAME PUZZLE\",\"GAME PUZZLE\",\"GAME PUZZLE\",\"GAME PUZZLE\",\"GAME PUZZLE\",\"GAME PUZZLE\",\"GAME PUZZLE\",\"GAME PUZZLE\",\"GAME PUZZLE\",\"GAME PUZZLE\",\"GAME PUZZLE\",\"GAME PUZZLE\",\"GAME PUZZLE\",\"GAME PUZZLE\",\"GAME PUZZLE\",\"GAME PUZZLE\",\"GAME PUZZLE\",\"GAME PUZZLE\",\"GAME PUZZLE\",\"GAME PUZZLE\",\"GAME PUZZLE\",\"GAME PUZZLE\",\"GAME PUZZLE\",\"GAME PUZZLE\",\"GAME PUZZLE\",\"GAME PUZZLE\",\"GAME PUZZLE\",\"GAME PUZZLE\",\"GAME PUZZLE\",\"GAME PUZZLE\",\"GAME PUZZLE\",\"GAME PUZZLE\",\"GAME PUZZLE\",\"GAME PUZZLE\",\"GAME PUZZLE\",\"GAME PUZZLE\",\"GAME PUZZLE\",\"GAME PUZZLE\",\"GAME PUZZLE\",\"GAME PUZZLE\",\"GAME PUZZLE\",\"GAME PUZZLE\",\"GAME PUZZLE\",\"GAME PUZZLE\",\"GAME PUZZLE\",\"GAME PUZZLE\",\"GAME PUZZLE\",\"GAME PUZZLE\",\"GAME PUZZLE\",\"GAME PUZZLE\",\"GAME PUZZLE\",\"GAME PUZZLE\",\"GAME PUZZLE\",\"GAME PUZZLE\",\"GAME PUZZLE\",\"GAME PUZZLE\",\"GAME PUZZLE\",\"GAME PUZZLE\",\"GAME PUZZLE\",\"GAME PUZZLE\",\"GAME PUZZLE\",\"GAME PUZZLE\",\"GAME PUZZLE\",\"GAME PUZZLE\",\"GAME PUZZLE\",\"GAME PUZZLE\",\"GAME PUZZLE\",\"GAME PUZZLE\",\"GAME PUZZLE\",\"GAME PUZZLE\",\"GAME PUZZLE\",\"GAME PUZZLE\",\"GAME PUZZLE\",\"GAME PUZZLE\",\"GAME PUZZLE\",\"GAME PUZZLE\",\"GAME PUZZLE\",\"GAME PUZZLE\",\"GAME PUZZLE\",\"GAME PUZZLE\",\"GAME PUZZLE\",\"GAME PUZZLE\",\"GAME PUZZLE\",\"GAME PUZZLE\",\"GAME PUZZLE\",\"GAME PUZZLE\",\"GAME RACING\",\"GAME RACING\",\"GAME RACING\",\"GAME RACING\",\"GAME RACING\",\"GAME RACING\",\"GAME RACING\",\"GAME RACING\",\"GAME RACING\",\"GAME RACING\",\"GAME RACING\",\"GAME RACING\",\"GAME RACING\",\"GAME RACING\",\"GAME RACING\",\"GAME RACING\",\"GAME RACING\",\"GAME RACING\",\"GAME RACING\",\"GAME RACING\",\"GAME RACING\",\"GAME RACING\",\"GAME RACING\",\"GAME RACING\",\"GAME RACING\",\"GAME RACING\",\"GAME RACING\",\"GAME RACING\",\"GAME RACING\",\"GAME RACING\",\"GAME RACING\",\"GAME RACING\",\"GAME RACING\",\"GAME RACING\",\"GAME RACING\",\"GAME RACING\",\"GAME RACING\",\"GAME RACING\",\"GAME RACING\",\"GAME RACING\",\"GAME RACING\",\"GAME RACING\",\"GAME RACING\",\"GAME RACING\",\"GAME RACING\",\"GAME RACING\",\"GAME RACING\",\"GAME RACING\",\"GAME RACING\",\"GAME RACING\",\"GAME RACING\",\"GAME RACING\",\"GAME RACING\",\"GAME RACING\",\"GAME RACING\",\"GAME RACING\",\"GAME RACING\",\"GAME RACING\",\"GAME RACING\",\"GAME RACING\",\"GAME RACING\",\"GAME RACING\",\"GAME RACING\",\"GAME RACING\",\"GAME RACING\",\"GAME RACING\",\"GAME RACING\",\"GAME RACING\",\"GAME RACING\",\"GAME RACING\",\"GAME RACING\",\"GAME RACING\",\"GAME RACING\",\"GAME RACING\",\"GAME RACING\",\"GAME RACING\",\"GAME RACING\",\"GAME RACING\",\"GAME RACING\",\"GAME RACING\",\"GAME RACING\",\"GAME RACING\",\"GAME RACING\",\"GAME RACING\",\"GAME RACING\",\"GAME RACING\",\"GAME RACING\",\"GAME RACING\",\"GAME RACING\",\"GAME RACING\",\"GAME RACING\",\"GAME RACING\",\"GAME RACING\",\"GAME RACING\",\"GAME RACING\",\"GAME RACING\",\"GAME RACING\",\"GAME RACING\",\"GAME RACING\",\"GAME RACING\",\"GAME ROLE PLAYING\",\"GAME ROLE PLAYING\",\"GAME ROLE PLAYING\",\"GAME ROLE PLAYING\",\"GAME ROLE PLAYING\",\"GAME ROLE PLAYING\",\"GAME ROLE PLAYING\",\"GAME ROLE PLAYING\",\"GAME ROLE PLAYING\",\"GAME ROLE PLAYING\",\"GAME ROLE PLAYING\",\"GAME ROLE PLAYING\",\"GAME ROLE PLAYING\",\"GAME ROLE PLAYING\",\"GAME ROLE PLAYING\",\"GAME ROLE PLAYING\",\"GAME ROLE PLAYING\",\"GAME ROLE PLAYING\",\"GAME ROLE PLAYING\",\"GAME ROLE PLAYING\",\"GAME ROLE PLAYING\",\"GAME ROLE PLAYING\",\"GAME ROLE PLAYING\",\"GAME ROLE PLAYING\",\"GAME ROLE PLAYING\",\"GAME ROLE PLAYING\",\"GAME ROLE PLAYING\",\"GAME ROLE PLAYING\",\"GAME ROLE PLAYING\",\"GAME ROLE PLAYING\",\"GAME ROLE PLAYING\",\"GAME ROLE PLAYING\",\"GAME ROLE PLAYING\",\"GAME ROLE PLAYING\",\"GAME ROLE PLAYING\",\"GAME ROLE PLAYING\",\"GAME ROLE PLAYING\",\"GAME ROLE PLAYING\",\"GAME ROLE PLAYING\",\"GAME ROLE PLAYING\",\"GAME ROLE PLAYING\",\"GAME ROLE PLAYING\",\"GAME ROLE PLAYING\",\"GAME ROLE PLAYING\",\"GAME ROLE PLAYING\",\"GAME ROLE PLAYING\",\"GAME ROLE PLAYING\",\"GAME ROLE PLAYING\",\"GAME ROLE PLAYING\",\"GAME ROLE PLAYING\",\"GAME ROLE PLAYING\",\"GAME ROLE PLAYING\",\"GAME ROLE PLAYING\",\"GAME ROLE PLAYING\",\"GAME ROLE PLAYING\",\"GAME ROLE PLAYING\",\"GAME ROLE PLAYING\",\"GAME ROLE PLAYING\",\"GAME ROLE PLAYING\",\"GAME ROLE PLAYING\",\"GAME ROLE PLAYING\",\"GAME ROLE PLAYING\",\"GAME ROLE PLAYING\",\"GAME ROLE PLAYING\",\"GAME ROLE PLAYING\",\"GAME ROLE PLAYING\",\"GAME ROLE PLAYING\",\"GAME ROLE PLAYING\",\"GAME ROLE PLAYING\",\"GAME ROLE PLAYING\",\"GAME ROLE PLAYING\",\"GAME ROLE PLAYING\",\"GAME ROLE PLAYING\",\"GAME ROLE PLAYING\",\"GAME ROLE PLAYING\",\"GAME ROLE PLAYING\",\"GAME ROLE PLAYING\",\"GAME ROLE PLAYING\",\"GAME ROLE PLAYING\",\"GAME ROLE PLAYING\",\"GAME ROLE PLAYING\",\"GAME ROLE PLAYING\",\"GAME ROLE PLAYING\",\"GAME ROLE PLAYING\",\"GAME ROLE PLAYING\",\"GAME ROLE PLAYING\",\"GAME ROLE PLAYING\",\"GAME ROLE PLAYING\",\"GAME ROLE PLAYING\",\"GAME ROLE PLAYING\",\"GAME ROLE PLAYING\",\"GAME ROLE PLAYING\",\"GAME ROLE PLAYING\",\"GAME ROLE PLAYING\",\"GAME ROLE PLAYING\",\"GAME ROLE PLAYING\",\"GAME ROLE PLAYING\",\"GAME ROLE PLAYING\",\"GAME ROLE PLAYING\",\"GAME ROLE PLAYING\",\"GAME SIMULATION\",\"GAME SIMULATION\",\"GAME SIMULATION\",\"GAME SIMULATION\",\"GAME SIMULATION\",\"GAME SIMULATION\",\"GAME SIMULATION\",\"GAME SIMULATION\",\"GAME SIMULATION\",\"GAME SIMULATION\",\"GAME SIMULATION\",\"GAME SIMULATION\",\"GAME SIMULATION\",\"GAME SIMULATION\",\"GAME SIMULATION\",\"GAME SIMULATION\",\"GAME SIMULATION\",\"GAME SIMULATION\",\"GAME SIMULATION\",\"GAME SIMULATION\",\"GAME SIMULATION\",\"GAME SIMULATION\",\"GAME SIMULATION\",\"GAME SIMULATION\",\"GAME SIMULATION\",\"GAME SIMULATION\",\"GAME SIMULATION\",\"GAME SIMULATION\",\"GAME SIMULATION\",\"GAME SIMULATION\",\"GAME SIMULATION\",\"GAME SIMULATION\",\"GAME SIMULATION\",\"GAME SIMULATION\",\"GAME SIMULATION\",\"GAME SIMULATION\",\"GAME SIMULATION\",\"GAME SIMULATION\",\"GAME SIMULATION\",\"GAME SIMULATION\",\"GAME SIMULATION\",\"GAME SIMULATION\",\"GAME SIMULATION\",\"GAME SIMULATION\",\"GAME SIMULATION\",\"GAME SIMULATION\",\"GAME SIMULATION\",\"GAME SIMULATION\",\"GAME SIMULATION\",\"GAME SIMULATION\",\"GAME SIMULATION\",\"GAME SIMULATION\",\"GAME SIMULATION\",\"GAME SIMULATION\",\"GAME SIMULATION\",\"GAME SIMULATION\",\"GAME SIMULATION\",\"GAME SIMULATION\",\"GAME SIMULATION\",\"GAME SIMULATION\",\"GAME SIMULATION\",\"GAME SIMULATION\",\"GAME SIMULATION\",\"GAME SIMULATION\",\"GAME SIMULATION\",\"GAME SIMULATION\",\"GAME SIMULATION\",\"GAME SIMULATION\",\"GAME SIMULATION\",\"GAME SIMULATION\",\"GAME SIMULATION\",\"GAME SIMULATION\",\"GAME SIMULATION\",\"GAME SIMULATION\",\"GAME SIMULATION\",\"GAME SIMULATION\",\"GAME SIMULATION\",\"GAME SIMULATION\",\"GAME SIMULATION\",\"GAME SIMULATION\",\"GAME SIMULATION\",\"GAME SIMULATION\",\"GAME SIMULATION\",\"GAME SIMULATION\",\"GAME SIMULATION\",\"GAME SIMULATION\",\"GAME SIMULATION\",\"GAME SIMULATION\",\"GAME SIMULATION\",\"GAME SIMULATION\",\"GAME SIMULATION\",\"GAME SIMULATION\",\"GAME SIMULATION\",\"GAME SIMULATION\",\"GAME SIMULATION\",\"GAME SIMULATION\",\"GAME SIMULATION\",\"GAME SIMULATION\",\"GAME SIMULATION\",\"GAME SIMULATION\",\"GAME SPORTS\",\"GAME SPORTS\",\"GAME SPORTS\",\"GAME SPORTS\",\"GAME SPORTS\",\"GAME SPORTS\",\"GAME SPORTS\",\"GAME SPORTS\",\"GAME SPORTS\",\"GAME SPORTS\",\"GAME SPORTS\",\"GAME SPORTS\",\"GAME SPORTS\",\"GAME SPORTS\",\"GAME SPORTS\",\"GAME SPORTS\",\"GAME SPORTS\",\"GAME SPORTS\",\"GAME SPORTS\",\"GAME SPORTS\",\"GAME SPORTS\",\"GAME SPORTS\",\"GAME SPORTS\",\"GAME SPORTS\",\"GAME SPORTS\",\"GAME SPORTS\",\"GAME SPORTS\",\"GAME SPORTS\",\"GAME SPORTS\",\"GAME SPORTS\",\"GAME SPORTS\",\"GAME SPORTS\",\"GAME SPORTS\",\"GAME SPORTS\",\"GAME SPORTS\",\"GAME SPORTS\",\"GAME SPORTS\",\"GAME SPORTS\",\"GAME SPORTS\",\"GAME SPORTS\",\"GAME SPORTS\",\"GAME SPORTS\",\"GAME SPORTS\",\"GAME SPORTS\",\"GAME SPORTS\",\"GAME SPORTS\",\"GAME SPORTS\",\"GAME SPORTS\",\"GAME SPORTS\",\"GAME SPORTS\",\"GAME SPORTS\",\"GAME SPORTS\",\"GAME SPORTS\",\"GAME SPORTS\",\"GAME SPORTS\",\"GAME SPORTS\",\"GAME SPORTS\",\"GAME SPORTS\",\"GAME SPORTS\",\"GAME SPORTS\",\"GAME SPORTS\",\"GAME SPORTS\",\"GAME SPORTS\",\"GAME SPORTS\",\"GAME SPORTS\",\"GAME SPORTS\",\"GAME SPORTS\",\"GAME SPORTS\",\"GAME SPORTS\",\"GAME SPORTS\",\"GAME SPORTS\",\"GAME SPORTS\",\"GAME SPORTS\",\"GAME SPORTS\",\"GAME SPORTS\",\"GAME SPORTS\",\"GAME SPORTS\",\"GAME SPORTS\",\"GAME SPORTS\",\"GAME SPORTS\",\"GAME SPORTS\",\"GAME SPORTS\",\"GAME SPORTS\",\"GAME SPORTS\",\"GAME SPORTS\",\"GAME SPORTS\",\"GAME SPORTS\",\"GAME SPORTS\",\"GAME SPORTS\",\"GAME SPORTS\",\"GAME SPORTS\",\"GAME SPORTS\",\"GAME SPORTS\",\"GAME SPORTS\",\"GAME SPORTS\",\"GAME SPORTS\",\"GAME SPORTS\",\"GAME SPORTS\",\"GAME SPORTS\",\"GAME SPORTS\",\"GAME STRATEGY\",\"GAME STRATEGY\",\"GAME STRATEGY\",\"GAME STRATEGY\",\"GAME STRATEGY\",\"GAME STRATEGY\",\"GAME STRATEGY\",\"GAME STRATEGY\",\"GAME STRATEGY\",\"GAME STRATEGY\",\"GAME STRATEGY\",\"GAME STRATEGY\",\"GAME STRATEGY\",\"GAME STRATEGY\",\"GAME STRATEGY\",\"GAME STRATEGY\",\"GAME STRATEGY\",\"GAME STRATEGY\",\"GAME STRATEGY\",\"GAME STRATEGY\",\"GAME STRATEGY\",\"GAME STRATEGY\",\"GAME STRATEGY\",\"GAME STRATEGY\",\"GAME STRATEGY\",\"GAME STRATEGY\",\"GAME STRATEGY\",\"GAME STRATEGY\",\"GAME STRATEGY\",\"GAME STRATEGY\",\"GAME STRATEGY\",\"GAME STRATEGY\",\"GAME STRATEGY\",\"GAME STRATEGY\",\"GAME STRATEGY\",\"GAME STRATEGY\",\"GAME STRATEGY\",\"GAME STRATEGY\",\"GAME STRATEGY\",\"GAME STRATEGY\",\"GAME STRATEGY\",\"GAME STRATEGY\",\"GAME STRATEGY\",\"GAME STRATEGY\",\"GAME STRATEGY\",\"GAME STRATEGY\",\"GAME STRATEGY\",\"GAME STRATEGY\",\"GAME STRATEGY\",\"GAME STRATEGY\",\"GAME STRATEGY\",\"GAME STRATEGY\",\"GAME STRATEGY\",\"GAME STRATEGY\",\"GAME STRATEGY\",\"GAME STRATEGY\",\"GAME STRATEGY\",\"GAME STRATEGY\",\"GAME STRATEGY\",\"GAME STRATEGY\",\"GAME STRATEGY\",\"GAME STRATEGY\",\"GAME STRATEGY\",\"GAME STRATEGY\",\"GAME STRATEGY\",\"GAME STRATEGY\",\"GAME STRATEGY\",\"GAME STRATEGY\",\"GAME STRATEGY\",\"GAME STRATEGY\",\"GAME STRATEGY\",\"GAME STRATEGY\",\"GAME STRATEGY\",\"GAME STRATEGY\",\"GAME STRATEGY\",\"GAME STRATEGY\",\"GAME STRATEGY\",\"GAME STRATEGY\",\"GAME STRATEGY\",\"GAME STRATEGY\",\"GAME STRATEGY\",\"GAME STRATEGY\",\"GAME STRATEGY\",\"GAME STRATEGY\",\"GAME STRATEGY\",\"GAME STRATEGY\",\"GAME STRATEGY\",\"GAME STRATEGY\",\"GAME STRATEGY\",\"GAME STRATEGY\",\"GAME STRATEGY\",\"GAME STRATEGY\",\"GAME STRATEGY\",\"GAME STRATEGY\",\"GAME STRATEGY\",\"GAME STRATEGY\",\"GAME STRATEGY\",\"GAME STRATEGY\",\"GAME STRATEGY\",\"GAME STRATEGY\",\"GAME TRIVIA\",\"GAME TRIVIA\",\"GAME TRIVIA\",\"GAME TRIVIA\",\"GAME TRIVIA\",\"GAME TRIVIA\",\"GAME TRIVIA\",\"GAME TRIVIA\",\"GAME TRIVIA\",\"GAME TRIVIA\",\"GAME TRIVIA\",\"GAME TRIVIA\",\"GAME TRIVIA\",\"GAME TRIVIA\",\"GAME TRIVIA\",\"GAME TRIVIA\",\"GAME TRIVIA\",\"GAME TRIVIA\",\"GAME TRIVIA\",\"GAME TRIVIA\",\"GAME TRIVIA\",\"GAME TRIVIA\",\"GAME TRIVIA\",\"GAME TRIVIA\",\"GAME TRIVIA\",\"GAME TRIVIA\",\"GAME TRIVIA\",\"GAME TRIVIA\",\"GAME TRIVIA\",\"GAME TRIVIA\",\"GAME TRIVIA\",\"GAME TRIVIA\",\"GAME TRIVIA\",\"GAME TRIVIA\",\"GAME TRIVIA\",\"GAME TRIVIA\",\"GAME TRIVIA\",\"GAME TRIVIA\",\"GAME TRIVIA\",\"GAME TRIVIA\",\"GAME TRIVIA\",\"GAME TRIVIA\",\"GAME TRIVIA\",\"GAME TRIVIA\",\"GAME TRIVIA\",\"GAME TRIVIA\",\"GAME TRIVIA\",\"GAME TRIVIA\",\"GAME TRIVIA\",\"GAME TRIVIA\",\"GAME TRIVIA\",\"GAME TRIVIA\",\"GAME TRIVIA\",\"GAME TRIVIA\",\"GAME TRIVIA\",\"GAME TRIVIA\",\"GAME TRIVIA\",\"GAME TRIVIA\",\"GAME TRIVIA\",\"GAME TRIVIA\",\"GAME TRIVIA\",\"GAME TRIVIA\",\"GAME TRIVIA\",\"GAME TRIVIA\",\"GAME TRIVIA\",\"GAME TRIVIA\",\"GAME TRIVIA\",\"GAME TRIVIA\",\"GAME TRIVIA\",\"GAME TRIVIA\",\"GAME TRIVIA\",\"GAME TRIVIA\",\"GAME TRIVIA\",\"GAME TRIVIA\",\"GAME TRIVIA\",\"GAME TRIVIA\",\"GAME TRIVIA\",\"GAME TRIVIA\",\"GAME TRIVIA\",\"GAME TRIVIA\",\"GAME TRIVIA\",\"GAME TRIVIA\",\"GAME TRIVIA\",\"GAME TRIVIA\",\"GAME TRIVIA\",\"GAME TRIVIA\",\"GAME TRIVIA\",\"GAME TRIVIA\",\"GAME TRIVIA\",\"GAME TRIVIA\",\"GAME TRIVIA\",\"GAME TRIVIA\",\"GAME TRIVIA\",\"GAME TRIVIA\",\"GAME TRIVIA\",\"GAME TRIVIA\",\"GAME TRIVIA\",\"GAME TRIVIA\",\"GAME TRIVIA\",\"GAME TRIVIA\",\"GAME WORD\",\"GAME WORD\",\"GAME WORD\",\"GAME WORD\",\"GAME WORD\",\"GAME WORD\",\"GAME WORD\",\"GAME WORD\",\"GAME WORD\",\"GAME WORD\",\"GAME WORD\",\"GAME WORD\",\"GAME WORD\",\"GAME WORD\",\"GAME WORD\",\"GAME WORD\",\"GAME WORD\",\"GAME WORD\",\"GAME WORD\",\"GAME WORD\",\"GAME WORD\",\"GAME WORD\",\"GAME WORD\",\"GAME WORD\",\"GAME WORD\",\"GAME WORD\",\"GAME WORD\",\"GAME WORD\",\"GAME WORD\",\"GAME WORD\",\"GAME WORD\",\"GAME WORD\",\"GAME WORD\",\"GAME WORD\",\"GAME WORD\",\"GAME WORD\",\"GAME WORD\",\"GAME WORD\",\"GAME WORD\",\"GAME WORD\",\"GAME WORD\",\"GAME WORD\",\"GAME WORD\",\"GAME WORD\",\"GAME WORD\",\"GAME WORD\",\"GAME WORD\",\"GAME WORD\",\"GAME WORD\",\"GAME WORD\",\"GAME WORD\",\"GAME WORD\",\"GAME WORD\",\"GAME WORD\",\"GAME WORD\",\"GAME WORD\",\"GAME WORD\",\"GAME WORD\",\"GAME WORD\",\"GAME WORD\",\"GAME WORD\",\"GAME WORD\",\"GAME WORD\",\"GAME WORD\",\"GAME WORD\",\"GAME WORD\",\"GAME WORD\",\"GAME WORD\",\"GAME WORD\",\"GAME WORD\",\"GAME WORD\",\"GAME WORD\",\"GAME WORD\",\"GAME WORD\",\"GAME WORD\",\"GAME WORD\",\"GAME WORD\",\"GAME WORD\",\"GAME WORD\",\"GAME WORD\",\"GAME WORD\",\"GAME WORD\",\"GAME WORD\",\"GAME WORD\",\"GAME WORD\",\"GAME WORD\",\"GAME WORD\",\"GAME WORD\",\"GAME WORD\",\"GAME WORD\",\"GAME WORD\",\"GAME WORD\",\"GAME WORD\",\"GAME WORD\",\"GAME WORD\",\"GAME WORD\",\"GAME WORD\",\"GAME WORD\",\"GAME WORD\",\"GAME WORD\",\"GAME WORD\",\"GAME WORD\",\"GAME WORD\",\"GAME WORD\"],\"xaxis\":\"x\",\"yaxis\":\"y\"}],                        {\"barmode\":\"relative\",\"legend\":{\"tracegroupgap\":0},\"template\":{\"data\":{\"bar\":[{\"error_x\":{\"color\":\"#2a3f5f\"},\"error_y\":{\"color\":\"#2a3f5f\"},\"marker\":{\"line\":{\"color\":\"#E5ECF6\",\"width\":0.5},\"pattern\":{\"fillmode\":\"overlay\",\"size\":10,\"solidity\":0.2}},\"type\":\"bar\"}],\"barpolar\":[{\"marker\":{\"line\":{\"color\":\"#E5ECF6\",\"width\":0.5},\"pattern\":{\"fillmode\":\"overlay\",\"size\":10,\"solidity\":0.2}},\"type\":\"barpolar\"}],\"carpet\":[{\"aaxis\":{\"endlinecolor\":\"#2a3f5f\",\"gridcolor\":\"white\",\"linecolor\":\"white\",\"minorgridcolor\":\"white\",\"startlinecolor\":\"#2a3f5f\"},\"baxis\":{\"endlinecolor\":\"#2a3f5f\",\"gridcolor\":\"white\",\"linecolor\":\"white\",\"minorgridcolor\":\"white\",\"startlinecolor\":\"#2a3f5f\"},\"type\":\"carpet\"}],\"choropleth\":[{\"colorbar\":{\"outlinewidth\":0,\"ticks\":\"\"},\"type\":\"choropleth\"}],\"contour\":[{\"colorbar\":{\"outlinewidth\":0,\"ticks\":\"\"},\"colorscale\":[[0.0,\"#0d0887\"],[0.1111111111111111,\"#46039f\"],[0.2222222222222222,\"#7201a8\"],[0.3333333333333333,\"#9c179e\"],[0.4444444444444444,\"#bd3786\"],[0.5555555555555556,\"#d8576b\"],[0.6666666666666666,\"#ed7953\"],[0.7777777777777778,\"#fb9f3a\"],[0.8888888888888888,\"#fdca26\"],[1.0,\"#f0f921\"]],\"type\":\"contour\"}],\"contourcarpet\":[{\"colorbar\":{\"outlinewidth\":0,\"ticks\":\"\"},\"type\":\"contourcarpet\"}],\"heatmap\":[{\"colorbar\":{\"outlinewidth\":0,\"ticks\":\"\"},\"colorscale\":[[0.0,\"#0d0887\"],[0.1111111111111111,\"#46039f\"],[0.2222222222222222,\"#7201a8\"],[0.3333333333333333,\"#9c179e\"],[0.4444444444444444,\"#bd3786\"],[0.5555555555555556,\"#d8576b\"],[0.6666666666666666,\"#ed7953\"],[0.7777777777777778,\"#fb9f3a\"],[0.8888888888888888,\"#fdca26\"],[1.0,\"#f0f921\"]],\"type\":\"heatmap\"}],\"heatmapgl\":[{\"colorbar\":{\"outlinewidth\":0,\"ticks\":\"\"},\"colorscale\":[[0.0,\"#0d0887\"],[0.1111111111111111,\"#46039f\"],[0.2222222222222222,\"#7201a8\"],[0.3333333333333333,\"#9c179e\"],[0.4444444444444444,\"#bd3786\"],[0.5555555555555556,\"#d8576b\"],[0.6666666666666666,\"#ed7953\"],[0.7777777777777778,\"#fb9f3a\"],[0.8888888888888888,\"#fdca26\"],[1.0,\"#f0f921\"]],\"type\":\"heatmapgl\"}],\"histogram\":[{\"marker\":{\"pattern\":{\"fillmode\":\"overlay\",\"size\":10,\"solidity\":0.2}},\"type\":\"histogram\"}],\"histogram2d\":[{\"colorbar\":{\"outlinewidth\":0,\"ticks\":\"\"},\"colorscale\":[[0.0,\"#0d0887\"],[0.1111111111111111,\"#46039f\"],[0.2222222222222222,\"#7201a8\"],[0.3333333333333333,\"#9c179e\"],[0.4444444444444444,\"#bd3786\"],[0.5555555555555556,\"#d8576b\"],[0.6666666666666666,\"#ed7953\"],[0.7777777777777778,\"#fb9f3a\"],[0.8888888888888888,\"#fdca26\"],[1.0,\"#f0f921\"]],\"type\":\"histogram2d\"}],\"histogram2dcontour\":[{\"colorbar\":{\"outlinewidth\":0,\"ticks\":\"\"},\"colorscale\":[[0.0,\"#0d0887\"],[0.1111111111111111,\"#46039f\"],[0.2222222222222222,\"#7201a8\"],[0.3333333333333333,\"#9c179e\"],[0.4444444444444444,\"#bd3786\"],[0.5555555555555556,\"#d8576b\"],[0.6666666666666666,\"#ed7953\"],[0.7777777777777778,\"#fb9f3a\"],[0.8888888888888888,\"#fdca26\"],[1.0,\"#f0f921\"]],\"type\":\"histogram2dcontour\"}],\"mesh3d\":[{\"colorbar\":{\"outlinewidth\":0,\"ticks\":\"\"},\"type\":\"mesh3d\"}],\"parcoords\":[{\"line\":{\"colorbar\":{\"outlinewidth\":0,\"ticks\":\"\"}},\"type\":\"parcoords\"}],\"pie\":[{\"automargin\":true,\"type\":\"pie\"}],\"scatter\":[{\"marker\":{\"colorbar\":{\"outlinewidth\":0,\"ticks\":\"\"}},\"type\":\"scatter\"}],\"scatter3d\":[{\"line\":{\"colorbar\":{\"outlinewidth\":0,\"ticks\":\"\"}},\"marker\":{\"colorbar\":{\"outlinewidth\":0,\"ticks\":\"\"}},\"type\":\"scatter3d\"}],\"scattercarpet\":[{\"marker\":{\"colorbar\":{\"outlinewidth\":0,\"ticks\":\"\"}},\"type\":\"scattercarpet\"}],\"scattergeo\":[{\"marker\":{\"colorbar\":{\"outlinewidth\":0,\"ticks\":\"\"}},\"type\":\"scattergeo\"}],\"scattergl\":[{\"marker\":{\"colorbar\":{\"outlinewidth\":0,\"ticks\":\"\"}},\"type\":\"scattergl\"}],\"scattermapbox\":[{\"marker\":{\"colorbar\":{\"outlinewidth\":0,\"ticks\":\"\"}},\"type\":\"scattermapbox\"}],\"scatterpolar\":[{\"marker\":{\"colorbar\":{\"outlinewidth\":0,\"ticks\":\"\"}},\"type\":\"scatterpolar\"}],\"scatterpolargl\":[{\"marker\":{\"colorbar\":{\"outlinewidth\":0,\"ticks\":\"\"}},\"type\":\"scatterpolargl\"}],\"scatterternary\":[{\"marker\":{\"colorbar\":{\"outlinewidth\":0,\"ticks\":\"\"}},\"type\":\"scatterternary\"}],\"surface\":[{\"colorbar\":{\"outlinewidth\":0,\"ticks\":\"\"},\"colorscale\":[[0.0,\"#0d0887\"],[0.1111111111111111,\"#46039f\"],[0.2222222222222222,\"#7201a8\"],[0.3333333333333333,\"#9c179e\"],[0.4444444444444444,\"#bd3786\"],[0.5555555555555556,\"#d8576b\"],[0.6666666666666666,\"#ed7953\"],[0.7777777777777778,\"#fb9f3a\"],[0.8888888888888888,\"#fdca26\"],[1.0,\"#f0f921\"]],\"type\":\"surface\"}],\"table\":[{\"cells\":{\"fill\":{\"color\":\"#EBF0F8\"},\"line\":{\"color\":\"white\"}},\"header\":{\"fill\":{\"color\":\"#C8D4E3\"},\"line\":{\"color\":\"white\"}},\"type\":\"table\"}]},\"layout\":{\"annotationdefaults\":{\"arrowcolor\":\"#2a3f5f\",\"arrowhead\":0,\"arrowwidth\":1},\"autotypenumbers\":\"strict\",\"coloraxis\":{\"colorbar\":{\"outlinewidth\":0,\"ticks\":\"\"}},\"colorscale\":{\"diverging\":[[0,\"#8e0152\"],[0.1,\"#c51b7d\"],[0.2,\"#de77ae\"],[0.3,\"#f1b6da\"],[0.4,\"#fde0ef\"],[0.5,\"#f7f7f7\"],[0.6,\"#e6f5d0\"],[0.7,\"#b8e186\"],[0.8,\"#7fbc41\"],[0.9,\"#4d9221\"],[1,\"#276419\"]],\"sequential\":[[0.0,\"#0d0887\"],[0.1111111111111111,\"#46039f\"],[0.2222222222222222,\"#7201a8\"],[0.3333333333333333,\"#9c179e\"],[0.4444444444444444,\"#bd3786\"],[0.5555555555555556,\"#d8576b\"],[0.6666666666666666,\"#ed7953\"],[0.7777777777777778,\"#fb9f3a\"],[0.8888888888888888,\"#fdca26\"],[1.0,\"#f0f921\"]],\"sequentialminus\":[[0.0,\"#0d0887\"],[0.1111111111111111,\"#46039f\"],[0.2222222222222222,\"#7201a8\"],[0.3333333333333333,\"#9c179e\"],[0.4444444444444444,\"#bd3786\"],[0.5555555555555556,\"#d8576b\"],[0.6666666666666666,\"#ed7953\"],[0.7777777777777778,\"#fb9f3a\"],[0.8888888888888888,\"#fdca26\"],[1.0,\"#f0f921\"]]},\"colorway\":[\"#636efa\",\"#EF553B\",\"#00cc96\",\"#ab63fa\",\"#FFA15A\",\"#19d3f3\",\"#FF6692\",\"#B6E880\",\"#FF97FF\",\"#FECB52\"],\"font\":{\"color\":\"#2a3f5f\"},\"geo\":{\"bgcolor\":\"white\",\"lakecolor\":\"white\",\"landcolor\":\"#E5ECF6\",\"showlakes\":true,\"showland\":true,\"subunitcolor\":\"white\"},\"hoverlabel\":{\"align\":\"left\"},\"hovermode\":\"closest\",\"mapbox\":{\"style\":\"light\"},\"paper_bgcolor\":\"white\",\"plot_bgcolor\":\"#E5ECF6\",\"polar\":{\"angularaxis\":{\"gridcolor\":\"white\",\"linecolor\":\"white\",\"ticks\":\"\"},\"bgcolor\":\"#E5ECF6\",\"radialaxis\":{\"gridcolor\":\"white\",\"linecolor\":\"white\",\"ticks\":\"\"}},\"scene\":{\"xaxis\":{\"backgroundcolor\":\"#E5ECF6\",\"gridcolor\":\"white\",\"gridwidth\":2,\"linecolor\":\"white\",\"showbackground\":true,\"ticks\":\"\",\"zerolinecolor\":\"white\"},\"yaxis\":{\"backgroundcolor\":\"#E5ECF6\",\"gridcolor\":\"white\",\"gridwidth\":2,\"linecolor\":\"white\",\"showbackground\":true,\"ticks\":\"\",\"zerolinecolor\":\"white\"},\"zaxis\":{\"backgroundcolor\":\"#E5ECF6\",\"gridcolor\":\"white\",\"gridwidth\":2,\"linecolor\":\"white\",\"showbackground\":true,\"ticks\":\"\",\"zerolinecolor\":\"white\"}},\"shapedefaults\":{\"line\":{\"color\":\"#2a3f5f\"}},\"ternary\":{\"aaxis\":{\"gridcolor\":\"white\",\"linecolor\":\"white\",\"ticks\":\"\"},\"baxis\":{\"gridcolor\":\"white\",\"linecolor\":\"white\",\"ticks\":\"\"},\"bgcolor\":\"#E5ECF6\",\"caxis\":{\"gridcolor\":\"white\",\"linecolor\":\"white\",\"ticks\":\"\"}},\"title\":{\"x\":0.05},\"xaxis\":{\"automargin\":true,\"gridcolor\":\"white\",\"linecolor\":\"white\",\"ticks\":\"\",\"title\":{\"standoff\":15},\"zerolinecolor\":\"white\",\"zerolinewidth\":2},\"yaxis\":{\"automargin\":true,\"gridcolor\":\"white\",\"linecolor\":\"white\",\"ticks\":\"\",\"title\":{\"standoff\":15},\"zerolinecolor\":\"white\",\"zerolinewidth\":2}}},\"title\":{\"text\":\"Game Categories\"},\"xaxis\":{\"categoryorder\":\"total descending\",\"tickangle\":60},\"yaxis\":{\"anchor\":\"x\",\"domain\":[0.0,1.0],\"title\":{\"text\":\"count\"}}},                        {\"responsive\": true}                    ).then(function(){\n",
       "                            \n",
       "var gd = document.getElementById('69788b89-a879-413b-85bd-b6e054cf4542');\n",
       "var x = new MutationObserver(function (mutations, observer) {{\n",
       "        var display = window.getComputedStyle(gd).display;\n",
       "        if (!display || display === 'none') {{\n",
       "            console.log([gd, 'removed!']);\n",
       "            Plotly.purge(gd);\n",
       "            observer.disconnect();\n",
       "        }}\n",
       "}});\n",
       "\n",
       "// Listen for the removal of the full notebook cells\n",
       "var notebookContainer = gd.closest('#notebook-container');\n",
       "if (notebookContainer) {{\n",
       "    x.observe(notebookContainer, {childList: true});\n",
       "}}\n",
       "\n",
       "// Listen for the clearing of the current output cell\n",
       "var outputEl = gd.closest('.output');\n",
       "if (outputEl) {{\n",
       "    x.observe(outputEl, {childList: true});\n",
       "}}\n",
       "\n",
       "                        })                };                });            </script>        </div>"
      ]
     },
     "metadata": {},
     "output_type": "display_data"
    }
   ],
   "source": [
    "# with plotly\n",
    "\n",
    "fig = px.histogram(df_1, x = \"category\", title = \"Game Categories\")\n",
    "fig.update_layout(xaxis = go.layout.XAxis(tickangle = 60))\n",
    "fig.update_layout(xaxis = {\"categoryorder\":\"total descending\"})\n",
    "\n",
    "fig.show()"
   ]
  },
  {
   "cell_type": "markdown",
   "id": "cb9e6aa8",
   "metadata": {},
   "source": [
    "### Total Ratings"
   ]
  },
  {
   "cell_type": "code",
   "execution_count": 40,
   "id": "32399f85",
   "metadata": {},
   "outputs": [
    {
     "data": {
      "text/plain": [
       "count    1.730000e+03\n",
       "mean     1.064332e+06\n",
       "std      3.429250e+06\n",
       "min      3.299300e+04\n",
       "25%      1.759992e+05\n",
       "50%      4.286065e+05\n",
       "75%      8.837970e+05\n",
       "max      8.627313e+07\n",
       "Name: total ratings, dtype: float64"
      ]
     },
     "execution_count": 40,
     "metadata": {},
     "output_type": "execute_result"
    }
   ],
   "source": [
    "df_1[\"total ratings\"].describe()"
   ]
  },
  {
   "cell_type": "code",
   "execution_count": 44,
   "id": "a5831dc5",
   "metadata": {},
   "outputs": [
    {
     "data": {
      "image/png": "[encoded data removed]",
      "text/plain": [
       "<Figure size 1080x360 with 1 Axes>"
      ]
     },
     "metadata": {},
     "output_type": "display_data"
    }
   ],
   "source": [
    "# with seaborn\n",
    "\n",
    "plt.figure(figsize = (15,5))\n",
    "sns.histplot(data = df_1, x = \"total ratings\")\n",
    "plt.title(\"Total Ratings\", fontsize = 15)\n",
    "\n",
    "plt.show()"
   ]
  },
  {
   "cell_type": "code",
   "execution_count": 197,
   "id": "0821c63a",
   "metadata": {},
   "outputs": [
    {
     "data": {
      "image/png": "[encoded data removed]",
      "text/plain": [
       "<Figure size 1080x360 with 1 Axes>"
      ]
     },
     "metadata": {},
     "output_type": "display_data"
    }
   ],
   "source": [
    "# with seaborn\n",
    "\n",
    "plt.figure(figsize = (15,5))\n",
    "sns.boxplot(data = df_1, x = \"total ratings\")\n",
    "plt.title(\"Total Ratings\", fontsize = 15)\n",
    "\n",
    "plt.show()"
   ]
  },
  {
   "cell_type": "code",
   "execution_count": 50,
   "id": "ad3dabb4",
   "metadata": {},
   "outputs": [
    {
     "data": {
      "application/vnd.plotly.v1+json": {
       "config": {
        "plotlyServerURL": "https://plot.ly"
       },
       "data": [
        {
         "alignmentgroup": "True",
         "bingroup": "x",
         "hovertemplate": "total ratings=%{x}<br>count=%{y}<extra></extra>",
         "legendgroup": "",
         "marker": {
          "color": "#636efa",
          "pattern": {
           "shape": ""
          }
         },
         "name": "",
         "offsetgroup": "",
         "orientation": "v",
         "showlegend": false,
         "type": "histogram",
         "x": [
          86273129,
          37276732,
          26663595,
          17971552,
          14464235,
          13572148,
          11936964,
          9633929,
          7578630,
          6268377,
          5681934,
          5471344,
          4801658,
          4710639,
          4564398,
          4496723,
          4464668,
          4221389,
          4215808,
          4159837,
          4112075,
          3987062,
          3516024,
          3213257,
          3195503,
          3140510,
          3133361,
          2695923,
          2670589,
          2540439,
          2472561,
          2380639,
          2365838,
          2271977,
          2131549,
          2100984,
          2083413,
          2006745,
          1985016,
          1949497,
          1860814,
          1846221,
          1823477,
          1796325,
          1714060,
          1656299,
          1642589,
          1607897,
          1599244,
          1583866,
          1576576,
          1542169,
          1495507,
          1481552,
          1457639,
          1396630,
          1344699,
          1301440,
          1291305,
          1258805,
          1254295,
          1238228,
          1227050,
          1216126,
          1196490,
          1166709,
          1161701,
          1134127,
          1129645,
          1073769,
          1070197,
          1066554,
          1023162,
          998677,
          996586,
          992742,
          974789,
          963507,
          907609,
          900069,
          875257,
          875065,
          864581,
          809654,
          809487,
          808331,
          800432,
          799866,
          799114,
          794575,
          792071,
          788653,
          777188,
          771254,
          764042,
          756002,
          748945,
          727627,
          718905,
          703514,
          21820451,
          14541662,
          4273420,
          2544322,
          2258595,
          2078458,
          2016845,
          1585186,
          1550978,
          1434245,
          1279866,
          1164984,
          1096282,
          1014301,
          1008075,
          892542,
          830121,
          822854,
          753449,
          734291,
          728187,
          677145,
          668761,
          653025,
          637160,
          625580,
          554454,
          549049,
          545166,
          532248,
          530520,
          526594,
          505541,
          495725,
          491846,
          486767,
          476258,
          443044,
          442542,
          434780,
          428566,
          394199,
          376854,
          373672,
          347489,
          342940,
          340647,
          326203,
          326177,
          321154,
          320317,
          317393,
          316902,
          316484,
          315349,
          310393,
          302458,
          299697,
          276333,
          269887,
          267176,
          248376,
          245912,
          244108,
          241766,
          237178,
          236968,
          236324,
          235190,
          232238,
          228860,
          228093,
          220878,
          220154,
          214038,
          212099,
          209326,
          205339,
          202932,
          198913,
          196731,
          195798,
          192892,
          187523,
          184387,
          184296,
          181431,
          176486,
          174281,
          173009,
          167371,
          166142,
          165363,
          164143,
          164000,
          162534,
          159801,
          155657,
          155193,
          154835,
          35665901,
          7202013,
          6960814,
          5903477,
          5402149,
          5367599,
          4919742,
          4816448,
          4565220,
          4100452,
          3398125,
          3290970,
          2858076,
          2342083,
          2222817,
          2156973,
          2096404,
          2062961,
          1988570,
          1910010,
          1900382,
          1858504,
          1793741,
          1735909,
          1679572,
          1573012,
          1564855,
          1493740,
          1471629,
          1470166,
          1458849,
          1340841,
          1337580,
          1254191,
          1215112,
          1205884,
          1188910,
          1153022,
          1136712,
          1132730,
          1102273,
          1089029,
          1082604,
          1079670,
          1079537,
          1066764,
          1042160,
          1040051,
          988381,
          955594,
          949510,
          926298,
          923982,
          903937,
          883825,
          878563,
          860147,
          827611,
          791425,
          784985,
          777941,
          752635,
          715951,
          693956,
          690642,
          662256,
          660553,
          656039,
          636293,
          626542,
          621232,
          620257,
          609853,
          588562,
          581821,
          572863,
          561461,
          556766,
          541549,
          532569,
          532176,
          509654,
          506876,
          497484,
          476858,
          473706,
          470099,
          467497,
          466518,
          460549,
          458684,
          449205,
          448716,
          447522,
          446946,
          441188,
          438162,
          429256,
          426000,
          418663,
          7512316,
          2516777,
          2430531,
          2131083,
          1590460,
          1578022,
          1283404,
          1273770,
          1245352,
          1062798,
          788064,
          769196,
          615530,
          598584,
          597656,
          575124,
          567662,
          554532,
          482155,
          470850,
          467655,
          466525,
          447613,
          404907,
          402345,
          391135,
          356365,
          353244,
          351361,
          335347,
          313765,
          312477,
          303060,
          295628,
          282866,
          277062,
          276518,
          267286,
          264663,
          263074,
          261799,
          257492,
          256773,
          256158,
          242006,
          237706,
          228476,
          221378,
          221279,
          219916,
          207685,
          206953,
          200804,
          199569,
          193778,
          190736,
          189798,
          183337,
          183016,
          175837,
          175718,
          173571,
          169696,
          162936,
          160744,
          158521,
          151671,
          151004,
          149633,
          141110,
          140706,
          138105,
          134398,
          131464,
          126466,
          122235,
          116322,
          111670,
          111627,
          111431,
          109162,
          104859,
          104158,
          103101,
          102300,
          100639,
          100315,
          99283,
          97958,
          96841,
          95383,
          94264,
          93977,
          92835,
          92620,
          92362,
          91738,
          89195,
          82144,
          80887,
          2113853,
          1765570,
          1590733,
          1590733,
          1590733,
          1590733,
          1418398,
          1120832,
          1069313,
          926432,
          881563,
          654922,
          648068,
          648068,
          648068,
          648068,
          561518,
          533216,
          507250,
          507250,
          507250,
          507250,
          501154,
          494492,
          485069,
          469770,
          467621,
          406124,
          406124,
          406124,
          406124,
          374842,
          353226,
          350853,
          337505,
          325427,
          321884,
          320403,
          313503,
          311834,
          305751,
          290160,
          281352,
          265004,
          263341,
          245912,
          240095,
          232276,
          230415,
          211163,
          208319,
          205537,
          202598,
          200923,
          194946,
          191804,
          178476,
          177098,
          174545,
          172895,
          172895,
          172895,
          170875,
          170181,
          164757,
          164757,
          164757,
          163771,
          157757,
          157757,
          157757,
          155922,
          155644,
          154738,
          153690,
          152145,
          150087,
          146718,
          145613,
          145481,
          143615,
          142577,
          140758,
          140758,
          138755,
          137405,
          136367,
          127654,
          127104,
          126880,
          125561,
          125561,
          124281,
          121295,
          116379,
          115102,
          113870,
          113663,
          113566,
          111394,
          109280,
          109069,
          107962,
          107933,
          107183,
          106773,
          106773,
          106773,
          106689,
          103958,
          103945,
          102434,
          102434,
          102434,
          101659,
          100719,
          98872,
          98872,
          98872,
          97299,
          97018,
          94069,
          91698,
          90695,
          90585,
          88866,
          2582669,
          1822223,
          1529589,
          1494419,
          1485440,
          1418336,
          1259099,
          1006982,
          925068,
          755734,
          664469,
          649856,
          617349,
          616294,
          583815,
          556639,
          544905,
          493071,
          485882,
          482246,
          477132,
          455282,
          431936,
          423010,
          422035,
          401912,
          394704,
          392274,
          377401,
          367694,
          351166,
          343727,
          333168,
          318101,
          316679,
          313214,
          312113,
          306937,
          306128,
          292630,
          272892,
          272095,
          266126,
          265946,
          264556,
          258755,
          215021,
          211680,
          211511,
          208279,
          207326,
          204371,
          189656,
          183628,
          179520,
          179001,
          177051,
          174066,
          173372,
          172651,
          172200,
          170510,
          154112,
          146663,
          145635,
          142948,
          141345,
          140882,
          139860,
          138883,
          131646,
          126322,
          125918,
          123277,
          122801,
          120434,
          117668,
          116891,
          116673,
          112869,
          107509,
          107253,
          103380,
          102352,
          100479,
          99465,
          99082,
          97488,
          94814,
          94628,
          92912,
          90370,
          90110,
          89886,
          87528,
          87102,
          86366,
          85258,
          84646,
          83313,
          31367945,
          16810315,
          13050503,
          12098786,
          11506051,
          10721875,
          10659387,
          10159890,
          9123920,
          8306868,
          8071775,
          6964142,
          5768595,
          5720687,
          4170408,
          4079806,
          3617773,
          2954685,
          2914639,
          2264014,
          2154956,
          2091145,
          2001718,
          1898651,
          1876427,
          1782012,
          1683260,
          1627243,
          1503412,
          1432166,
          1431962,
          1378621,
          1326867,
          1222505,
          1218003,
          1135695,
          1131205,
          1099997,
          1009374,
          978460,
          952348,
          941133,
          939577,
          924595,
          921224,
          910777,
          881816,
          880964,
          875343,
          865040,
          847777,
          781393,
          777217,
          752953,
          712766,
          685365,
          679330,
          670105,
          665838,
          659139,
          655486,
          652820,
          649699,
          636439,
          627963,
          627042,
          605422,
          603781,
          602123,
          592625,
          570955,
          568174,
          567668,
          556525,
          540665,
          539618,
          532119,
          526404,
          521999,
          513273,
          510146,
          497556,
          487206,
          476520,
          475705,
          469274,
          462861,
          462460,
          458766,
          444080,
          442100,
          430459,
          428132,
          414428,
          405505,
          385882,
          381919,
          378085,
          373522,
          370755,
          1690405,
          1543998,
          758930,
          571355,
          519854,
          469665,
          440099,
          335602,
          299512,
          229515,
          210406,
          204816,
          201926,
          191141,
          188628,
          185082,
          177900,
          164764,
          161896,
          158721,
          155279,
          152780,
          147633,
          146101,
          145347,
          142128,
          141681,
          138294,
          135433,
          132854,
          129911,
          128528,
          123262,
          121977,
          116243,
          106074,
          103248,
          102219,
          102168,
          101418,
          94157,
          91946,
          91542,
          90720,
          90184,
          89570,
          88278,
          85437,
          83994,
          81628,
          81135,
          79583,
          79263,
          78145,
          76981,
          76498,
          75435,
          75270,
          75082,
          73407,
          72164,
          70614,
          69285,
          68066,
          67910,
          66241,
          66160,
          66057,
          65669,
          63887,
          63873,
          63384,
          62792,
          62564,
          62194,
          61993,
          60889,
          60654,
          59598,
          57537,
          56865,
          56525,
          56416,
          56154,
          55294,
          55114,
          55006,
          54400,
          54217,
          54205,
          53535,
          53039,
          51944,
          51903,
          51861,
          51687,
          51547,
          51002,
          50931,
          49811,
          2454558,
          2381045,
          1363013,
          1280824,
          665818,
          664703,
          640085,
          608905,
          571244,
          552415,
          407001,
          403074,
          388495,
          372516,
          363476,
          296208,
          273983,
          253894,
          240014,
          239452,
          237878,
          230317,
          217878,
          208186,
          202039,
          189580,
          185412,
          167310,
          166382,
          164622,
          161111,
          152996,
          151011,
          149674,
          139058,
          138709,
          130606,
          130471,
          127314,
          123653,
          114600,
          113827,
          112810,
          111679,
          108187,
          107328,
          105984,
          104261,
          102536,
          102133,
          97355,
          95540,
          87197,
          87091,
          86693,
          83342,
          82629,
          71117,
          71008,
          69242,
          68321,
          67388,
          65897,
          65210,
          64028,
          60920,
          56963,
          56107,
          55578,
          55357,
          55015,
          54079,
          53791,
          53142,
          52940,
          50867,
          48198,
          48107,
          47959,
          47171,
          46210,
          45842,
          45178,
          45003,
          43497,
          43124,
          42881,
          42763,
          41521,
          40370,
          40192,
          38912,
          37291,
          36046,
          35324,
          34781,
          34434,
          34140,
          33173,
          32993,
          4876844,
          4467655,
          3222428,
          2941258,
          2514879,
          2301209,
          2151126,
          2107067,
          2065276,
          1951302,
          1713085,
          1704670,
          1701889,
          1652333,
          1561049,
          1557099,
          1455893,
          1361162,
          1265308,
          1232582,
          1210485,
          1198499,
          1160505,
          1160229,
          1110248,
          1104361,
          1065264,
          1039836,
          998983,
          997666,
          975608,
          968677,
          944709,
          941228,
          924459,
          884220,
          819672,
          754345,
          735564,
          721199,
          701845,
          701221,
          699239,
          694965,
          685364,
          673835,
          669939,
          661430,
          649024,
          643644,
          608546,
          596554,
          594490,
          584124,
          571570,
          570345,
          565614,
          554434,
          550425,
          547548,
          546820,
          541211,
          540007,
          530612,
          528900,
          521894,
          520896,
          518428,
          512643,
          510656,
          509754,
          502640,
          499265,
          491439,
          490970,
          489067,
          485621,
          481615,
          470475,
          466759,
          464014,
          463260,
          462036,
          460315,
          459320,
          453317,
          451860,
          440665,
          420325,
          414811,
          414626,
          414430,
          407062,
          403195,
          402599,
          398873,
          390519,
          384115,
          383236,
          377015,
          10188038,
          7580227,
          6062833,
          6062304,
          4507290,
          4476329,
          3870456,
          3612756,
          2962468,
          2490517,
          2221285,
          2178512,
          2098500,
          1848375,
          1781295,
          1618815,
          1555939,
          1516846,
          1471540,
          1463492,
          1446238,
          1415418,
          1364891,
          1297337,
          1219865,
          1119800,
          1109569,
          1100694,
          924106,
          899964,
          895239,
          883713,
          851386,
          849317,
          847739,
          780720,
          735549,
          725551,
          724219,
          713034,
          707004,
          699303,
          682124,
          654903,
          635669,
          630972,
          619717,
          611439,
          577754,
          577204,
          559157,
          558462,
          549630,
          513359,
          508166,
          503879,
          466732,
          464730,
          445846,
          430550,
          426246,
          423514,
          419851,
          414528,
          412241,
          407995,
          388123,
          386128,
          380849,
          365649,
          350249,
          349416,
          337837,
          334069,
          330803,
          318474,
          315332,
          312017,
          310589,
          309939,
          308362,
          308175,
          303913,
          297540,
          294097,
          293250,
          288581,
          285522,
          284892,
          284450,
          283592,
          283127,
          282063,
          281848,
          281769,
          280605,
          280243,
          273705,
          272721,
          271610,
          3170246,
          3126336,
          3105550,
          2651253,
          2650536,
          2374967,
          1710440,
          1493476,
          1475764,
          1424463,
          1363701,
          1344784,
          1311495,
          1193550,
          1130195,
          937102,
          914423,
          910412,
          898630,
          887982,
          880376,
          825827,
          765525,
          758951,
          732372,
          705186,
          687214,
          667980,
          666442,
          644802,
          632926,
          612572,
          597411,
          594700,
          572359,
          569162,
          558013,
          556175,
          553833,
          547967,
          538673,
          524462,
          518434,
          516540,
          514023,
          513522,
          504968,
          503826,
          503643,
          494101,
          490756,
          487726,
          474469,
          467209,
          464201,
          463791,
          459149,
          433067,
          423249,
          418992,
          414159,
          413804,
          409319,
          406697,
          398449,
          395402,
          393787,
          393183,
          386821,
          382714,
          380907,
          373793,
          371730,
          371644,
          368592,
          366341,
          364398,
          362652,
          361987,
          358237,
          357910,
          351850,
          340801,
          334232,
          332270,
          328319,
          327986,
          324192,
          320930,
          317023,
          313301,
          311126,
          302340,
          300651,
          297438,
          293945,
          284337,
          281603,
          281148,
          280566,
          5541105,
          5213933,
          3622549,
          3519405,
          3420152,
          2763325,
          2233572,
          1917203,
          1652561,
          1583634,
          1487303,
          1421165,
          1389243,
          1367006,
          1353453,
          1319464,
          1264769,
          1243436,
          1218642,
          1216891,
          1210916,
          1160646,
          1055152,
          1053098,
          1004304,
          999846,
          976872,
          961095,
          955109,
          945807,
          931389,
          913357,
          882690,
          880659,
          841432,
          813912,
          796153,
          765250,
          758948,
          740483,
          734122,
          709426,
          708938,
          704695,
          683592,
          671111,
          664240,
          651287,
          648290,
          643497,
          641259,
          640012,
          624634,
          620435,
          609547,
          607477,
          604400,
          593269,
          572365,
          555485,
          552049,
          543795,
          502248,
          501382,
          495240,
          490931,
          482519,
          469556,
          461516,
          460207,
          459870,
          452939,
          447230,
          444868,
          440328,
          438497,
          436857,
          425415,
          424389,
          423346,
          421173,
          419193,
          416810,
          408005,
          404733,
          402206,
          392903,
          392700,
          390139,
          385639,
          382940,
          382650,
          379532,
          377596,
          376552,
          371385,
          370084,
          369586,
          367616,
          365531,
          21632735,
          13385786,
          6856324,
          6633030,
          4721659,
          3181731,
          3161007,
          2999325,
          2968290,
          2935299,
          2651825,
          2284366,
          2243246,
          2010215,
          1993891,
          1990469,
          1853563,
          1753364,
          1687621,
          1631259,
          1477201,
          1375149,
          1269327,
          1245413,
          1240874,
          1223330,
          1173980,
          1171064,
          1090511,
          1028795,
          1013587,
          955057,
          911473,
          907290,
          898768,
          882096,
          830720,
          800381,
          791739,
          764961,
          763809,
          741513,
          735171,
          731621,
          709937,
          706812,
          701459,
          643614,
          609649,
          609296,
          606187,
          574059,
          560180,
          535002,
          525279,
          523056,
          498485,
          498367,
          496476,
          457537,
          456387,
          455149,
          452591,
          448601,
          446911,
          444198,
          428647,
          419893,
          413619,
          402390,
          393293,
          384096,
          379119,
          375089,
          368562,
          362339,
          356039,
          346518,
          338202,
          335702,
          327608,
          327381,
          312534,
          305429,
          301571,
          288957,
          276833,
          276082,
          272380,
          269937,
          266048,
          265926,
          264519,
          261197,
          258454,
          254590,
          252130,
          251087,
          245430,
          243214,
          55766763,
          30852360,
          6548519,
          6055738,
          5164307,
          5013543,
          3687571,
          3671736,
          3342006,
          3120219,
          2317500,
          2120051,
          1997631,
          1823903,
          1727242,
          1709263,
          1651636,
          1526081,
          1492534,
          1451408,
          1319150,
          1311005,
          1296343,
          1272102,
          1225321,
          1006180,
          993926,
          990104,
          981368,
          929429,
          905021,
          897313,
          896950,
          874080,
          853029,
          830008,
          828238,
          796172,
          780016,
          762869,
          757664,
          722453,
          696205,
          676749,
          635321,
          602797,
          569186,
          568510,
          562637,
          544851,
          524835,
          501511,
          496584,
          495783,
          494150,
          486733,
          485836,
          457050,
          447416,
          422883,
          421429,
          420713,
          419861,
          411981,
          410590,
          403144,
          399706,
          398705,
          398659,
          389030,
          386714,
          384682,
          369562,
          366186,
          362447,
          360216,
          347182,
          346748,
          340261,
          338283,
          333150,
          331561,
          331178,
          330020,
          324991,
          319868,
          318917,
          318209,
          308480,
          305701,
          297722,
          293059,
          289334,
          285623,
          280494,
          278920,
          276534,
          274882,
          272243,
          272201,
          7334155,
          4145089,
          2614691,
          1183690,
          1098826,
          837271,
          688137,
          649922,
          423164,
          406864,
          379611,
          357020,
          344975,
          334779,
          330992,
          289425,
          282642,
          279589,
          216643,
          211433,
          189577,
          181338,
          172772,
          172586,
          169372,
          166714,
          166160,
          166022,
          163509,
          163390,
          157252,
          155287,
          152329,
          152275,
          151512,
          148685,
          143211,
          142859,
          134845,
          130488,
          124963,
          120834,
          116248,
          115459,
          115024,
          114009,
          113934,
          111963,
          109743,
          107915,
          107674,
          106920,
          98012,
          96670,
          94777,
          86335,
          82509,
          77624,
          77391,
          76857,
          76445,
          75729,
          75712,
          75135,
          72097,
          67251,
          66599,
          65681,
          65504,
          64624,
          62720,
          62009,
          61000,
          60074,
          57663,
          57326,
          56774,
          55313,
          54183,
          51951,
          50815,
          50002,
          49748,
          48813,
          47912,
          46162,
          45788,
          45359,
          45126,
          45047,
          44566,
          44016,
          43149,
          42776,
          42517,
          41756,
          41520,
          40744,
          40228,
          38376,
          2418119,
          2250585,
          1885400,
          1722914,
          1227499,
          1179329,
          989128,
          973750,
          959675,
          812635,
          776334,
          749320,
          736769,
          671436,
          644092,
          619037,
          594298,
          512584,
          501384,
          496119,
          487582,
          476458,
          469540,
          455543,
          455543,
          447182,
          444744,
          436327,
          427255,
          414385,
          390612,
          390612,
          390247,
          385276,
          383907,
          373807,
          362929,
          362457,
          356922,
          354330,
          327444,
          321011,
          316607,
          313263,
          304117,
          293234,
          290063,
          287827,
          283889,
          277485,
          264230,
          248190,
          245709,
          236235,
          235887,
          232803,
          228204,
          221349,
          218894,
          218842,
          214916,
          214864,
          214313,
          210662,
          191924,
          182995,
          182761,
          181110,
          178241,
          170069,
          169669,
          161543,
          161284,
          161284,
          160717,
          159344,
          157519,
          157049,
          153454,
          153087,
          151046,
          150279,
          149858,
          149858,
          149553,
          149422,
          146848,
          143930,
          136542,
          130077,
          129132,
          127293,
          127030,
          126774,
          124219,
          123095,
          121222,
          120533,
          115437,
          112408,
          111595,
          110723,
          109530,
          108917
         ],
         "xaxis": "x",
         "yaxis": "y"
        },
        {
         "alignmentgroup": "True",
         "hovertemplate": "total ratings=%{x}<extra></extra>",
         "legendgroup": "",
         "marker": {
          "color": "#636efa"
         },
         "name": "",
         "notched": true,
         "offsetgroup": "",
         "showlegend": false,
         "type": "box",
         "x": [
          86273129,
          37276732,
          26663595,
          17971552,
          14464235,
          13572148,
          11936964,
          9633929,
          7578630,
          6268377,
          5681934,
          5471344,
          4801658,
          4710639,
          4564398,
          4496723,
          4464668,
          4221389,
          4215808,
          4159837,
          4112075,
          3987062,
          3516024,
          3213257,
          3195503,
          3140510,
          3133361,
          2695923,
          2670589,
          2540439,
          2472561,
          2380639,
          2365838,
          2271977,
          2131549,
          2100984,
          2083413,
          2006745,
          1985016,
          1949497,
          1860814,
          1846221,
          1823477,
          1796325,
          1714060,
          1656299,
          1642589,
          1607897,
          1599244,
          1583866,
          1576576,
          1542169,
          1495507,
          1481552,
          1457639,
          1396630,
          1344699,
          1301440,
          1291305,
          1258805,
          1254295,
          1238228,
          1227050,
          1216126,
          1196490,
          1166709,
          1161701,
          1134127,
          1129645,
          1073769,
          1070197,
          1066554,
          1023162,
          998677,
          996586,
          992742,
          974789,
          963507,
          907609,
          900069,
          875257,
          875065,
          864581,
          809654,
          809487,
          808331,
          800432,
          799866,
          799114,
          794575,
          792071,
          788653,
          777188,
          771254,
          764042,
          756002,
          748945,
          727627,
          718905,
          703514,
          21820451,
          14541662,
          4273420,
          2544322,
          2258595,
          2078458,
          2016845,
          1585186,
          1550978,
          1434245,
          1279866,
          1164984,
          1096282,
          1014301,
          1008075,
          892542,
          830121,
          822854,
          753449,
          734291,
          728187,
          677145,
          668761,
          653025,
          637160,
          625580,
          554454,
          549049,
          545166,
          532248,
          530520,
          526594,
          505541,
          495725,
          491846,
          486767,
          476258,
          443044,
          442542,
          434780,
          428566,
          394199,
          376854,
          373672,
          347489,
          342940,
          340647,
          326203,
          326177,
          321154,
          320317,
          317393,
          316902,
          316484,
          315349,
          310393,
          302458,
          299697,
          276333,
          269887,
          267176,
          248376,
          245912,
          244108,
          241766,
          237178,
          236968,
          236324,
          235190,
          232238,
          228860,
          228093,
          220878,
          220154,
          214038,
          212099,
          209326,
          205339,
          202932,
          198913,
          196731,
          195798,
          192892,
          187523,
          184387,
          184296,
          181431,
          176486,
          174281,
          173009,
          167371,
          166142,
          165363,
          164143,
          164000,
          162534,
          159801,
          155657,
          155193,
          154835,
          35665901,
          7202013,
          6960814,
          5903477,
          5402149,
          5367599,
          4919742,
          4816448,
          4565220,
          4100452,
          3398125,
          3290970,
          2858076,
          2342083,
          2222817,
          2156973,
          2096404,
          2062961,
          1988570,
          1910010,
          1900382,
          1858504,
          1793741,
          1735909,
          1679572,
          1573012,
          1564855,
          1493740,
          1471629,
          1470166,
          1458849,
          1340841,
          1337580,
          1254191,
          1215112,
          1205884,
          1188910,
          1153022,
          1136712,
          1132730,
          1102273,
          1089029,
          1082604,
          1079670,
          1079537,
          1066764,
          1042160,
          1040051,
          988381,
          955594,
          949510,
          926298,
          923982,
          903937,
          883825,
          878563,
          860147,
          827611,
          791425,
          784985,
          777941,
          752635,
          715951,
          693956,
          690642,
          662256,
          660553,
          656039,
          636293,
          626542,
          621232,
          620257,
          609853,
          588562,
          581821,
          572863,
          561461,
          556766,
          541549,
          532569,
          532176,
          509654,
          506876,
          497484,
          476858,
          473706,
          470099,
          467497,
          466518,
          460549,
          458684,
          449205,
          448716,
          447522,
          446946,
          441188,
          438162,
          429256,
          426000,
          418663,
          7512316,
          2516777,
          2430531,
          2131083,
          1590460,
          1578022,
          1283404,
          1273770,
          1245352,
          1062798,
          788064,
          769196,
          615530,
          598584,
          597656,
          575124,
          567662,
          554532,
          482155,
          470850,
          467655,
          466525,
          447613,
          404907,
          402345,
          391135,
          356365,
          353244,
          351361,
          335347,
          313765,
          312477,
          303060,
          295628,
          282866,
          277062,
          276518,
          267286,
          264663,
          263074,
          261799,
          257492,
          256773,
          256158,
          242006,
          237706,
          228476,
          221378,
          221279,
          219916,
          207685,
          206953,
          200804,
          199569,
          193778,
          190736,
          189798,
          183337,
          183016,
          175837,
          175718,
          173571,
          169696,
          162936,
          160744,
          158521,
          151671,
          151004,
          149633,
          141110,
          140706,
          138105,
          134398,
          131464,
          126466,
          122235,
          116322,
          111670,
          111627,
          111431,
          109162,
          104859,
          104158,
          103101,
          102300,
          100639,
          100315,
          99283,
          97958,
          96841,
          95383,
          94264,
          93977,
          92835,
          92620,
          92362,
          91738,
          89195,
          82144,
          80887,
          2113853,
          1765570,
          1590733,
          1590733,
          1590733,
          1590733,
          1418398,
          1120832,
          1069313,
          926432,
          881563,
          654922,
          648068,
          648068,
          648068,
          648068,
          561518,
          533216,
          507250,
          507250,
          507250,
          507250,
          501154,
          494492,
          485069,
          469770,
          467621,
          406124,
          406124,
          406124,
          406124,
          374842,
          353226,
          350853,
          337505,
          325427,
          321884,
          320403,
          313503,
          311834,
          305751,
          290160,
          281352,
          265004,
          263341,
          245912,
          240095,
          232276,
          230415,
          211163,
          208319,
          205537,
          202598,
          200923,
          194946,
          191804,
          178476,
          177098,
          174545,
          172895,
          172895,
          172895,
          170875,
          170181,
          164757,
          164757,
          164757,
          163771,
          157757,
          157757,
          157757,
          155922,
          155644,
          154738,
          153690,
          152145,
          150087,
          146718,
          145613,
          145481,
          143615,
          142577,
          140758,
          140758,
          138755,
          137405,
          136367,
          127654,
          127104,
          126880,
          125561,
          125561,
          124281,
          121295,
          116379,
          115102,
          113870,
          113663,
          113566,
          111394,
          109280,
          109069,
          107962,
          107933,
          107183,
          106773,
          106773,
          106773,
          106689,
          103958,
          103945,
          102434,
          102434,
          102434,
          101659,
          100719,
          98872,
          98872,
          98872,
          97299,
          97018,
          94069,
          91698,
          90695,
          90585,
          88866,
          2582669,
          1822223,
          1529589,
          1494419,
          1485440,
          1418336,
          1259099,
          1006982,
          925068,
          755734,
          664469,
          649856,
          617349,
          616294,
          583815,
          556639,
          544905,
          493071,
          485882,
          482246,
          477132,
          455282,
          431936,
          423010,
          422035,
          401912,
          394704,
          392274,
          377401,
          367694,
          351166,
          343727,
          333168,
          318101,
          316679,
          313214,
          312113,
          306937,
          306128,
          292630,
          272892,
          272095,
          266126,
          265946,
          264556,
          258755,
          215021,
          211680,
          211511,
          208279,
          207326,
          204371,
          189656,
          183628,
          179520,
          179001,
          177051,
          174066,
          173372,
          172651,
          172200,
          170510,
          154112,
          146663,
          145635,
          142948,
          141345,
          140882,
          139860,
          138883,
          131646,
          126322,
          125918,
          123277,
          122801,
          120434,
          117668,
          116891,
          116673,
          112869,
          107509,
          107253,
          103380,
          102352,
          100479,
          99465,
          99082,
          97488,
          94814,
          94628,
          92912,
          90370,
          90110,
          89886,
          87528,
          87102,
          86366,
          85258,
          84646,
          83313,
          31367945,
          16810315,
          13050503,
          12098786,
          11506051,
          10721875,
          10659387,
          10159890,
          9123920,
          8306868,
          8071775,
          6964142,
          5768595,
          5720687,
          4170408,
          4079806,
          3617773,
          2954685,
          2914639,
          2264014,
          2154956,
          2091145,
          2001718,
          1898651,
          1876427,
          1782012,
          1683260,
          1627243,
          1503412,
          1432166,
          1431962,
          1378621,
          1326867,
          1222505,
          1218003,
          1135695,
          1131205,
          1099997,
          1009374,
          978460,
          952348,
          941133,
          939577,
          924595,
          921224,
          910777,
          881816,
          880964,
          875343,
          865040,
          847777,
          781393,
          777217,
          752953,
          712766,
          685365,
          679330,
          670105,
          665838,
          659139,
          655486,
          652820,
          649699,
          636439,
          627963,
          627042,
          605422,
          603781,
          602123,
          592625,
          570955,
          568174,
          567668,
          556525,
          540665,
          539618,
          532119,
          526404,
          521999,
          513273,
          510146,
          497556,
          487206,
          476520,
          475705,
          469274,
          462861,
          462460,
          458766,
          444080,
          442100,
          430459,
          428132,
          414428,
          405505,
          385882,
          381919,
          378085,
          373522,
          370755,
          1690405,
          1543998,
          758930,
          571355,
          519854,
          469665,
          440099,
          335602,
          299512,
          229515,
          210406,
          204816,
          201926,
          191141,
          188628,
          185082,
          177900,
          164764,
          161896,
          158721,
          155279,
          152780,
          147633,
          146101,
          145347,
          142128,
          141681,
          138294,
          135433,
          132854,
          129911,
          128528,
          123262,
          121977,
          116243,
          106074,
          103248,
          102219,
          102168,
          101418,
          94157,
          91946,
          91542,
          90720,
          90184,
          89570,
          88278,
          85437,
          83994,
          81628,
          81135,
          79583,
          79263,
          78145,
          76981,
          76498,
          75435,
          75270,
          75082,
          73407,
          72164,
          70614,
          69285,
          68066,
          67910,
          66241,
          66160,
          66057,
          65669,
          63887,
          63873,
          63384,
          62792,
          62564,
          62194,
          61993,
          60889,
          60654,
          59598,
          57537,
          56865,
          56525,
          56416,
          56154,
          55294,
          55114,
          55006,
          54400,
          54217,
          54205,
          53535,
          53039,
          51944,
          51903,
          51861,
          51687,
          51547,
          51002,
          50931,
          49811,
          2454558,
          2381045,
          1363013,
          1280824,
          665818,
          664703,
          640085,
          608905,
          571244,
          552415,
          407001,
          403074,
          388495,
          372516,
          363476,
          296208,
          273983,
          253894,
          240014,
          239452,
          237878,
          230317,
          217878,
          208186,
          202039,
          189580,
          185412,
          167310,
          166382,
          164622,
          161111,
          152996,
          151011,
          149674,
          139058,
          138709,
          130606,
          130471,
          127314,
          123653,
          114600,
          113827,
          112810,
          111679,
          108187,
          107328,
          105984,
          104261,
          102536,
          102133,
          97355,
          95540,
          87197,
          87091,
          86693,
          83342,
          82629,
          71117,
          71008,
          69242,
          68321,
          67388,
          65897,
          65210,
          64028,
          60920,
          56963,
          56107,
          55578,
          55357,
          55015,
          54079,
          53791,
          53142,
          52940,
          50867,
          48198,
          48107,
          47959,
          47171,
          46210,
          45842,
          45178,
          45003,
          43497,
          43124,
          42881,
          42763,
          41521,
          40370,
          40192,
          38912,
          37291,
          36046,
          35324,
          34781,
          34434,
          34140,
          33173,
          32993,
          4876844,
          4467655,
          3222428,
          2941258,
          2514879,
          2301209,
          2151126,
          2107067,
          2065276,
          1951302,
          1713085,
          1704670,
          1701889,
          1652333,
          1561049,
          1557099,
          1455893,
          1361162,
          1265308,
          1232582,
          1210485,
          1198499,
          1160505,
          1160229,
          1110248,
          1104361,
          1065264,
          1039836,
          998983,
          997666,
          975608,
          968677,
          944709,
          941228,
          924459,
          884220,
          819672,
          754345,
          735564,
          721199,
          701845,
          701221,
          699239,
          694965,
          685364,
          673835,
          669939,
          661430,
          649024,
          643644,
          608546,
          596554,
          594490,
          584124,
          571570,
          570345,
          565614,
          554434,
          550425,
          547548,
          546820,
          541211,
          540007,
          530612,
          528900,
          521894,
          520896,
          518428,
          512643,
          510656,
          509754,
          502640,
          499265,
          491439,
          490970,
          489067,
          485621,
          481615,
          470475,
          466759,
          464014,
          463260,
          462036,
          460315,
          459320,
          453317,
          451860,
          440665,
          420325,
          414811,
          414626,
          414430,
          407062,
          403195,
          402599,
          398873,
          390519,
          384115,
          383236,
          377015,
          10188038,
          7580227,
          6062833,
          6062304,
          4507290,
          4476329,
          3870456,
          3612756,
          2962468,
          2490517,
          2221285,
          2178512,
          2098500,
          1848375,
          1781295,
          1618815,
          1555939,
          1516846,
          1471540,
          1463492,
          1446238,
          1415418,
          1364891,
          1297337,
          1219865,
          1119800,
          1109569,
          1100694,
          924106,
          899964,
          895239,
          883713,
          851386,
          849317,
          847739,
          780720,
          735549,
          725551,
          724219,
          713034,
          707004,
          699303,
          682124,
          654903,
          635669,
          630972,
          619717,
          611439,
          577754,
          577204,
          559157,
          558462,
          549630,
          513359,
          508166,
          503879,
          466732,
          464730,
          445846,
          430550,
          426246,
          423514,
          419851,
          414528,
          412241,
          407995,
          388123,
          386128,
          380849,
          365649,
          350249,
          349416,
          337837,
          334069,
          330803,
          318474,
          315332,
          312017,
          310589,
          309939,
          308362,
          308175,
          303913,
          297540,
          294097,
          293250,
          288581,
          285522,
          284892,
          284450,
          283592,
          283127,
          282063,
          281848,
          281769,
          280605,
          280243,
          273705,
          272721,
          271610,
          3170246,
          3126336,
          3105550,
          2651253,
          2650536,
          2374967,
          1710440,
          1493476,
          1475764,
          1424463,
          1363701,
          1344784,
          1311495,
          1193550,
          1130195,
          937102,
          914423,
          910412,
          898630,
          887982,
          880376,
          825827,
          765525,
          758951,
          732372,
          705186,
          687214,
          667980,
          666442,
          644802,
          632926,
          612572,
          597411,
          594700,
          572359,
          569162,
          558013,
          556175,
          553833,
          547967,
          538673,
          524462,
          518434,
          516540,
          514023,
          513522,
          504968,
          503826,
          503643,
          494101,
          490756,
          487726,
          474469,
          467209,
          464201,
          463791,
          459149,
          433067,
          423249,
          418992,
          414159,
          413804,
          409319,
          406697,
          398449,
          395402,
          393787,
          393183,
          386821,
          382714,
          380907,
          373793,
          371730,
          371644,
          368592,
          366341,
          364398,
          362652,
          361987,
          358237,
          357910,
          351850,
          340801,
          334232,
          332270,
          328319,
          327986,
          324192,
          320930,
          317023,
          313301,
          311126,
          302340,
          300651,
          297438,
          293945,
          284337,
          281603,
          281148,
          280566,
          5541105,
          5213933,
          3622549,
          3519405,
          3420152,
          2763325,
          2233572,
          1917203,
          1652561,
          1583634,
          1487303,
          1421165,
          1389243,
          1367006,
          1353453,
          1319464,
          1264769,
          1243436,
          1218642,
          1216891,
          1210916,
          1160646,
          1055152,
          1053098,
          1004304,
          999846,
          976872,
          961095,
          955109,
          945807,
          931389,
          913357,
          882690,
          880659,
          841432,
          813912,
          796153,
          765250,
          758948,
          740483,
          734122,
          709426,
          708938,
          704695,
          683592,
          671111,
          664240,
          651287,
          648290,
          643497,
          641259,
          640012,
          624634,
          620435,
          609547,
          607477,
          604400,
          593269,
          572365,
          555485,
          552049,
          543795,
          502248,
          501382,
          495240,
          490931,
          482519,
          469556,
          461516,
          460207,
          459870,
          452939,
          447230,
          444868,
          440328,
          438497,
          436857,
          425415,
          424389,
          423346,
          421173,
          419193,
          416810,
          408005,
          404733,
          402206,
          392903,
          392700,
          390139,
          385639,
          382940,
          382650,
          379532,
          377596,
          376552,
          371385,
          370084,
          369586,
          367616,
          365531,
          21632735,
          13385786,
          6856324,
          6633030,
          4721659,
          3181731,
          3161007,
          2999325,
          2968290,
          2935299,
          2651825,
          2284366,
          2243246,
          2010215,
          1993891,
          1990469,
          1853563,
          1753364,
          1687621,
          1631259,
          1477201,
          1375149,
          1269327,
          1245413,
          1240874,
          1223330,
          1173980,
          1171064,
          1090511,
          1028795,
          1013587,
          955057,
          911473,
          907290,
          898768,
          882096,
          830720,
          800381,
          791739,
          764961,
          763809,
          741513,
          735171,
          731621,
          709937,
          706812,
          701459,
          643614,
          609649,
          609296,
          606187,
          574059,
          560180,
          535002,
          525279,
          523056,
          498485,
          498367,
          496476,
          457537,
          456387,
          455149,
          452591,
          448601,
          446911,
          444198,
          428647,
          419893,
          413619,
          402390,
          393293,
          384096,
          379119,
          375089,
          368562,
          362339,
          356039,
          346518,
          338202,
          335702,
          327608,
          327381,
          312534,
          305429,
          301571,
          288957,
          276833,
          276082,
          272380,
          269937,
          266048,
          265926,
          264519,
          261197,
          258454,
          254590,
          252130,
          251087,
          245430,
          243214,
          55766763,
          30852360,
          6548519,
          6055738,
          5164307,
          5013543,
          3687571,
          3671736,
          3342006,
          3120219,
          2317500,
          2120051,
          1997631,
          1823903,
          1727242,
          1709263,
          1651636,
          1526081,
          1492534,
          1451408,
          1319150,
          1311005,
          1296343,
          1272102,
          1225321,
          1006180,
          993926,
          990104,
          981368,
          929429,
          905021,
          897313,
          896950,
          874080,
          853029,
          830008,
          828238,
          796172,
          780016,
          762869,
          757664,
          722453,
          696205,
          676749,
          635321,
          602797,
          569186,
          568510,
          562637,
          544851,
          524835,
          501511,
          496584,
          495783,
          494150,
          486733,
          485836,
          457050,
          447416,
          422883,
          421429,
          420713,
          419861,
          411981,
          410590,
          403144,
          399706,
          398705,
          398659,
          389030,
          386714,
          384682,
          369562,
          366186,
          362447,
          360216,
          347182,
          346748,
          340261,
          338283,
          333150,
          331561,
          331178,
          330020,
          324991,
          319868,
          318917,
          318209,
          308480,
          305701,
          297722,
          293059,
          289334,
          285623,
          280494,
          278920,
          276534,
          274882,
          272243,
          272201,
          7334155,
          4145089,
          2614691,
          1183690,
          1098826,
          837271,
          688137,
          649922,
          423164,
          406864,
          379611,
          357020,
          344975,
          334779,
          330992,
          289425,
          282642,
          279589,
          216643,
          211433,
          189577,
          181338,
          172772,
          172586,
          169372,
          166714,
          166160,
          166022,
          163509,
          163390,
          157252,
          155287,
          152329,
          152275,
          151512,
          148685,
          143211,
          142859,
          134845,
          130488,
          124963,
          120834,
          116248,
          115459,
          115024,
          114009,
          113934,
          111963,
          109743,
          107915,
          107674,
          106920,
          98012,
          96670,
          94777,
          86335,
          82509,
          77624,
          77391,
          76857,
          76445,
          75729,
          75712,
          75135,
          72097,
          67251,
          66599,
          65681,
          65504,
          64624,
          62720,
          62009,
          61000,
          60074,
          57663,
          57326,
          56774,
          55313,
          54183,
          51951,
          50815,
          50002,
          49748,
          48813,
          47912,
          46162,
          45788,
          45359,
          45126,
          45047,
          44566,
          44016,
          43149,
          42776,
          42517,
          41756,
          41520,
          40744,
          40228,
          38376,
          2418119,
          2250585,
          1885400,
          1722914,
          1227499,
          1179329,
          989128,
          973750,
          959675,
          812635,
          776334,
          749320,
          736769,
          671436,
          644092,
          619037,
          594298,
          512584,
          501384,
          496119,
          487582,
          476458,
          469540,
          455543,
          455543,
          447182,
          444744,
          436327,
          427255,
          414385,
          390612,
          390612,
          390247,
          385276,
          383907,
          373807,
          362929,
          362457,
          356922,
          354330,
          327444,
          321011,
          316607,
          313263,
          304117,
          293234,
          290063,
          287827,
          283889,
          277485,
          264230,
          248190,
          245709,
          236235,
          235887,
          232803,
          228204,
          221349,
          218894,
          218842,
          214916,
          214864,
          214313,
          210662,
          191924,
          182995,
          182761,
          181110,
          178241,
          170069,
          169669,
          161543,
          161284,
          161284,
          160717,
          159344,
          157519,
          157049,
          153454,
          153087,
          151046,
          150279,
          149858,
          149858,
          149553,
          149422,
          146848,
          143930,
          136542,
          130077,
          129132,
          127293,
          127030,
          126774,
          124219,
          123095,
          121222,
          120533,
          115437,
          112408,
          111595,
          110723,
          109530,
          108917
         ],
         "xaxis": "x2",
         "yaxis": "y2"
        }
       ],
       "layout": {
        "barmode": "relative",
        "legend": {
         "tracegroupgap": 0
        },
        "template": {
         "data": {
          "bar": [
           {
            "error_x": {
             "color": "#2a3f5f"
            },
            "error_y": {
             "color": "#2a3f5f"
            },
            "marker": {
             "line": {
              "color": "#E5ECF6",
              "width": 0.5
             },
             "pattern": {
              "fillmode": "overlay",
              "size": 10,
              "solidity": 0.2
             }
            },
            "type": "bar"
           }
          ],
          "barpolar": [
           {
            "marker": {
             "line": {
              "color": "#E5ECF6",
              "width": 0.5
             },
             "pattern": {
              "fillmode": "overlay",
              "size": 10,
              "solidity": 0.2
             }
            },
            "type": "barpolar"
           }
          ],
          "carpet": [
           {
            "aaxis": {
             "endlinecolor": "#2a3f5f",
             "gridcolor": "white",
             "linecolor": "white",
             "minorgridcolor": "white",
             "startlinecolor": "#2a3f5f"
            },
            "baxis": {
             "endlinecolor": "#2a3f5f",
             "gridcolor": "white",
             "linecolor": "white",
             "minorgridcolor": "white",
             "startlinecolor": "#2a3f5f"
            },
            "type": "carpet"
           }
          ],
          "choropleth": [
           {
            "colorbar": {
             "outlinewidth": 0,
             "ticks": ""
            },
            "type": "choropleth"
           }
          ],
          "contour": [
           {
            "colorbar": {
             "outlinewidth": 0,
             "ticks": ""
            },
            "colorscale": [
             [
              0,
              "#0d0887"
             ],
             [
              0.1111111111111111,
              "#46039f"
             ],
             [
              0.2222222222222222,
              "#7201a8"
             ],
             [
              0.3333333333333333,
              "#9c179e"
             ],
             [
              0.4444444444444444,
              "#bd3786"
             ],
             [
              0.5555555555555556,
              "#d8576b"
             ],
             [
              0.6666666666666666,
              "#ed7953"
             ],
             [
              0.7777777777777778,
              "#fb9f3a"
             ],
             [
              0.8888888888888888,
              "#fdca26"
             ],
             [
              1,
              "#f0f921"
             ]
            ],
            "type": "contour"
           }
          ],
          "contourcarpet": [
           {
            "colorbar": {
             "outlinewidth": 0,
             "ticks": ""
            },
            "type": "contourcarpet"
           }
          ],
          "heatmap": [
           {
            "colorbar": {
             "outlinewidth": 0,
             "ticks": ""
            },
            "colorscale": [
             [
              0,
              "#0d0887"
             ],
             [
              0.1111111111111111,
              "#46039f"
             ],
             [
              0.2222222222222222,
              "#7201a8"
             ],
             [
              0.3333333333333333,
              "#9c179e"
             ],
             [
              0.4444444444444444,
              "#bd3786"
             ],
             [
              0.5555555555555556,
              "#d8576b"
             ],
             [
              0.6666666666666666,
              "#ed7953"
             ],
             [
              0.7777777777777778,
              "#fb9f3a"
             ],
             [
              0.8888888888888888,
              "#fdca26"
             ],
             [
              1,
              "#f0f921"
             ]
            ],
            "type": "heatmap"
           }
          ],
          "heatmapgl": [
           {
            "colorbar": {
             "outlinewidth": 0,
             "ticks": ""
            },
            "colorscale": [
             [
              0,
              "#0d0887"
             ],
             [
              0.1111111111111111,
              "#46039f"
             ],
             [
              0.2222222222222222,
              "#7201a8"
             ],
             [
              0.3333333333333333,
              "#9c179e"
             ],
             [
              0.4444444444444444,
              "#bd3786"
             ],
             [
              0.5555555555555556,
              "#d8576b"
             ],
             [
              0.6666666666666666,
              "#ed7953"
             ],
             [
              0.7777777777777778,
              "#fb9f3a"
             ],
             [
              0.8888888888888888,
              "#fdca26"
             ],
             [
              1,
              "#f0f921"
             ]
            ],
            "type": "heatmapgl"
           }
          ],
          "histogram": [
           {
            "marker": {
             "pattern": {
              "fillmode": "overlay",
              "size": 10,
              "solidity": 0.2
             }
            },
            "type": "histogram"
           }
          ],
          "histogram2d": [
           {
            "colorbar": {
             "outlinewidth": 0,
             "ticks": ""
            },
            "colorscale": [
             [
              0,
              "#0d0887"
             ],
             [
              0.1111111111111111,
              "#46039f"
             ],
             [
              0.2222222222222222,
              "#7201a8"
             ],
             [
              0.3333333333333333,
              "#9c179e"
             ],
             [
              0.4444444444444444,
              "#bd3786"
             ],
             [
              0.5555555555555556,
              "#d8576b"
             ],
             [
              0.6666666666666666,
              "#ed7953"
             ],
             [
              0.7777777777777778,
              "#fb9f3a"
             ],
             [
              0.8888888888888888,
              "#fdca26"
             ],
             [
              1,
              "#f0f921"
             ]
            ],
            "type": "histogram2d"
           }
          ],
          "histogram2dcontour": [
           {
            "colorbar": {
             "outlinewidth": 0,
             "ticks": ""
            },
            "colorscale": [
             [
              0,
              "#0d0887"
             ],
             [
              0.1111111111111111,
              "#46039f"
             ],
             [
              0.2222222222222222,
              "#7201a8"
             ],
             [
              0.3333333333333333,
              "#9c179e"
             ],
             [
              0.4444444444444444,
              "#bd3786"
             ],
             [
              0.5555555555555556,
              "#d8576b"
             ],
             [
              0.6666666666666666,
              "#ed7953"
             ],
             [
              0.7777777777777778,
              "#fb9f3a"
             ],
             [
              0.8888888888888888,
              "#fdca26"
             ],
             [
              1,
              "#f0f921"
             ]
            ],
            "type": "histogram2dcontour"
           }
          ],
          "mesh3d": [
           {
            "colorbar": {
             "outlinewidth": 0,
             "ticks": ""
            },
            "type": "mesh3d"
           }
          ],
          "parcoords": [
           {
            "line": {
             "colorbar": {
              "outlinewidth": 0,
              "ticks": ""
             }
            },
            "type": "parcoords"
           }
          ],
          "pie": [
           {
            "automargin": true,
            "type": "pie"
           }
          ],
          "scatter": [
           {
            "marker": {
             "colorbar": {
              "outlinewidth": 0,
              "ticks": ""
             }
            },
            "type": "scatter"
           }
          ],
          "scatter3d": [
           {
            "line": {
             "colorbar": {
              "outlinewidth": 0,
              "ticks": ""
             }
            },
            "marker": {
             "colorbar": {
              "outlinewidth": 0,
              "ticks": ""
             }
            },
            "type": "scatter3d"
           }
          ],
          "scattercarpet": [
           {
            "marker": {
             "colorbar": {
              "outlinewidth": 0,
              "ticks": ""
             }
            },
            "type": "scattercarpet"
           }
          ],
          "scattergeo": [
           {
            "marker": {
             "colorbar": {
              "outlinewidth": 0,
              "ticks": ""
             }
            },
            "type": "scattergeo"
           }
          ],
          "scattergl": [
           {
            "marker": {
             "colorbar": {
              "outlinewidth": 0,
              "ticks": ""
             }
            },
            "type": "scattergl"
           }
          ],
          "scattermapbox": [
           {
            "marker": {
             "colorbar": {
              "outlinewidth": 0,
              "ticks": ""
             }
            },
            "type": "scattermapbox"
           }
          ],
          "scatterpolar": [
           {
            "marker": {
             "colorbar": {
              "outlinewidth": 0,
              "ticks": ""
             }
            },
            "type": "scatterpolar"
           }
          ],
          "scatterpolargl": [
           {
            "marker": {
             "colorbar": {
              "outlinewidth": 0,
              "ticks": ""
             }
            },
            "type": "scatterpolargl"
           }
          ],
          "scatterternary": [
           {
            "marker": {
             "colorbar": {
              "outlinewidth": 0,
              "ticks": ""
             }
            },
            "type": "scatterternary"
           }
          ],
          "surface": [
           {
            "colorbar": {
             "outlinewidth": 0,
             "ticks": ""
            },
            "colorscale": [
             [
              0,
              "#0d0887"
             ],
             [
              0.1111111111111111,
              "#46039f"
             ],
             [
              0.2222222222222222,
              "#7201a8"
             ],
             [
              0.3333333333333333,
              "#9c179e"
             ],
             [
              0.4444444444444444,
              "#bd3786"
             ],
             [
              0.5555555555555556,
              "#d8576b"
             ],
             [
              0.6666666666666666,
              "#ed7953"
             ],
             [
              0.7777777777777778,
              "#fb9f3a"
             ],
             [
              0.8888888888888888,
              "#fdca26"
             ],
             [
              1,
              "#f0f921"
             ]
            ],
            "type": "surface"
           }
          ],
          "table": [
           {
            "cells": {
             "fill": {
              "color": "#EBF0F8"
             },
             "line": {
              "color": "white"
             }
            },
            "header": {
             "fill": {
              "color": "#C8D4E3"
             },
             "line": {
              "color": "white"
             }
            },
            "type": "table"
           }
          ]
         },
         "layout": {
          "annotationdefaults": {
           "arrowcolor": "#2a3f5f",
           "arrowhead": 0,
           "arrowwidth": 1
          },
          "autotypenumbers": "strict",
          "coloraxis": {
           "colorbar": {
            "outlinewidth": 0,
            "ticks": ""
           }
          },
          "colorscale": {
           "diverging": [
            [
             0,
             "#8e0152"
            ],
            [
             0.1,
             "#c51b7d"
            ],
            [
             0.2,
             "#de77ae"
            ],
            [
             0.3,
             "#f1b6da"
            ],
            [
             0.4,
             "#fde0ef"
            ],
            [
             0.5,
             "#f7f7f7"
            ],
            [
             0.6,
             "#e6f5d0"
            ],
            [
             0.7,
             "#b8e186"
            ],
            [
             0.8,
             "#7fbc41"
            ],
            [
             0.9,
             "#4d9221"
            ],
            [
             1,
             "#276419"
            ]
           ],
           "sequential": [
            [
             0,
             "#0d0887"
            ],
            [
             0.1111111111111111,
             "#46039f"
            ],
            [
             0.2222222222222222,
             "#7201a8"
            ],
            [
             0.3333333333333333,
             "#9c179e"
            ],
            [
             0.4444444444444444,
             "#bd3786"
            ],
            [
             0.5555555555555556,
             "#d8576b"
            ],
            [
             0.6666666666666666,
             "#ed7953"
            ],
            [
             0.7777777777777778,
             "#fb9f3a"
            ],
            [
             0.8888888888888888,
             "#fdca26"
            ],
            [
             1,
             "#f0f921"
            ]
           ],
           "sequentialminus": [
            [
             0,
             "#0d0887"
            ],
            [
             0.1111111111111111,
             "#46039f"
            ],
            [
             0.2222222222222222,
             "#7201a8"
            ],
            [
             0.3333333333333333,
             "#9c179e"
            ],
            [
             0.4444444444444444,
             "#bd3786"
            ],
            [
             0.5555555555555556,
             "#d8576b"
            ],
            [
             0.6666666666666666,
             "#ed7953"
            ],
            [
             0.7777777777777778,
             "#fb9f3a"
            ],
            [
             0.8888888888888888,
             "#fdca26"
            ],
            [
             1,
             "#f0f921"
            ]
           ]
          },
          "colorway": [
           "#636efa",
           "#EF553B",
           "#00cc96",
           "#ab63fa",
           "#FFA15A",
           "#19d3f3",
           "#FF6692",
           "#B6E880",
           "#FF97FF",
           "#FECB52"
          ],
          "font": {
           "color": "#2a3f5f"
          },
          "geo": {
           "bgcolor": "white",
           "lakecolor": "white",
           "landcolor": "#E5ECF6",
           "showlakes": true,
           "showland": true,
           "subunitcolor": "white"
          },
          "hoverlabel": {
           "align": "left"
          },
          "hovermode": "closest",
          "mapbox": {
           "style": "light"
          },
          "paper_bgcolor": "white",
          "plot_bgcolor": "#E5ECF6",
          "polar": {
           "angularaxis": {
            "gridcolor": "white",
            "linecolor": "white",
            "ticks": ""
           },
           "bgcolor": "#E5ECF6",
           "radialaxis": {
            "gridcolor": "white",
            "linecolor": "white",
            "ticks": ""
           }
          },
          "scene": {
           "xaxis": {
            "backgroundcolor": "#E5ECF6",
            "gridcolor": "white",
            "gridwidth": 2,
            "linecolor": "white",
            "showbackground": true,
            "ticks": "",
            "zerolinecolor": "white"
           },
           "yaxis": {
            "backgroundcolor": "#E5ECF6",
            "gridcolor": "white",
            "gridwidth": 2,
            "linecolor": "white",
            "showbackground": true,
            "ticks": "",
            "zerolinecolor": "white"
           },
           "zaxis": {
            "backgroundcolor": "#E5ECF6",
            "gridcolor": "white",
            "gridwidth": 2,
            "linecolor": "white",
            "showbackground": true,
            "ticks": "",
            "zerolinecolor": "white"
           }
          },
          "shapedefaults": {
           "line": {
            "color": "#2a3f5f"
           }
          },
          "ternary": {
           "aaxis": {
            "gridcolor": "white",
            "linecolor": "white",
            "ticks": ""
           },
           "baxis": {
            "gridcolor": "white",
            "linecolor": "white",
            "ticks": ""
           },
           "bgcolor": "#E5ECF6",
           "caxis": {
            "gridcolor": "white",
            "linecolor": "white",
            "ticks": ""
           }
          },
          "title": {
           "x": 0.05
          },
          "xaxis": {
           "automargin": true,
           "gridcolor": "white",
           "linecolor": "white",
           "ticks": "",
           "title": {
            "standoff": 15
           },
           "zerolinecolor": "white",
           "zerolinewidth": 2
          },
          "yaxis": {
           "automargin": true,
           "gridcolor": "white",
           "linecolor": "white",
           "ticks": "",
           "title": {
            "standoff": 15
           },
           "zerolinecolor": "white",
           "zerolinewidth": 2
          }
         }
        },
        "title": {
         "text": "Total Ratings"
        },
        "xaxis": {
         "anchor": "y",
         "domain": [
          0,
          1
         ],
         "title": {
          "text": "total ratings"
         }
        },
        "xaxis2": {
         "anchor": "y2",
         "domain": [
          0,
          1
         ],
         "matches": "x",
         "showgrid": true,
         "showticklabels": false
        },
        "yaxis": {
         "anchor": "x",
         "domain": [
          0,
          0.8316
         ],
         "title": {
          "text": "count"
         }
        },
        "yaxis2": {
         "anchor": "x2",
         "domain": [
          0.8416,
          1
         ],
         "matches": "y2",
         "showgrid": false,
         "showline": false,
         "showticklabels": false,
         "ticks": ""
        }
       }
      },
      "text/html": [
       "<div>                            <div id=\"769e613e-bab4-4b14-a05c-12d5150fbebb\" class=\"plotly-graph-div\" style=\"height:525px; width:100%;\"></div>            <script type=\"text/javascript\">                require([\"plotly\"], function(Plotly) {                    window.PLOTLYENV=window.PLOTLYENV || {};                                    if (document.getElementById(\"769e613e-bab4-4b14-a05c-12d5150fbebb\")) {                    Plotly.newPlot(                        \"769e613e-bab4-4b14-a05c-12d5150fbebb\",                        [{\"alignmentgroup\":\"True\",\"bingroup\":\"x\",\"hovertemplate\":\"total ratings=%{x}<br>count=%{y}<extra></extra>\",\"legendgroup\":\"\",\"marker\":{\"color\":\"#636efa\",\"pattern\":{\"shape\":\"\"}},\"name\":\"\",\"offsetgroup\":\"\",\"orientation\":\"v\",\"showlegend\":false,\"type\":\"histogram\",\"x\":[86273129,37276732,26663595,17971552,14464235,13572148,11936964,9633929,7578630,6268377,5681934,5471344,4801658,4710639,4564398,4496723,4464668,4221389,4215808,4159837,4112075,3987062,3516024,3213257,3195503,3140510,3133361,2695923,2670589,2540439,2472561,2380639,2365838,2271977,2131549,2100984,2083413,2006745,1985016,1949497,1860814,1846221,1823477,1796325,1714060,1656299,1642589,1607897,1599244,1583866,1576576,1542169,1495507,1481552,1457639,1396630,1344699,1301440,1291305,1258805,1254295,1238228,1227050,1216126,1196490,1166709,1161701,1134127,1129645,1073769,1070197,1066554,1023162,998677,996586,992742,974789,963507,907609,900069,875257,875065,864581,809654,809487,808331,800432,799866,799114,794575,792071,788653,777188,771254,764042,756002,748945,727627,718905,703514,21820451,14541662,4273420,2544322,2258595,2078458,2016845,1585186,1550978,1434245,1279866,1164984,1096282,1014301,1008075,892542,830121,822854,753449,734291,728187,677145,668761,653025,637160,625580,554454,549049,545166,532248,530520,526594,505541,495725,491846,486767,476258,443044,442542,434780,428566,394199,376854,373672,347489,342940,340647,326203,326177,321154,320317,317393,316902,316484,315349,310393,302458,299697,276333,269887,267176,248376,245912,244108,241766,237178,236968,236324,235190,232238,228860,228093,220878,220154,214038,212099,209326,205339,202932,198913,196731,195798,192892,187523,184387,184296,181431,176486,174281,173009,167371,166142,165363,164143,164000,162534,159801,155657,155193,154835,35665901,7202013,6960814,5903477,5402149,5367599,4919742,4816448,4565220,4100452,3398125,3290970,2858076,2342083,2222817,2156973,2096404,2062961,1988570,1910010,1900382,1858504,1793741,1735909,1679572,1573012,1564855,1493740,1471629,1470166,1458849,1340841,1337580,1254191,1215112,1205884,1188910,1153022,1136712,1132730,1102273,1089029,1082604,1079670,1079537,1066764,1042160,1040051,988381,955594,949510,926298,923982,903937,883825,878563,860147,827611,791425,784985,777941,752635,715951,693956,690642,662256,660553,656039,636293,626542,621232,620257,609853,588562,581821,572863,561461,556766,541549,532569,532176,509654,506876,497484,476858,473706,470099,467497,466518,460549,458684,449205,448716,447522,446946,441188,438162,429256,426000,418663,7512316,2516777,2430531,2131083,1590460,1578022,1283404,1273770,1245352,1062798,788064,769196,615530,598584,597656,575124,567662,554532,482155,470850,467655,466525,447613,404907,402345,391135,356365,353244,351361,335347,313765,312477,303060,295628,282866,277062,276518,267286,264663,263074,261799,257492,256773,256158,242006,237706,228476,221378,221279,219916,207685,206953,200804,199569,193778,190736,189798,183337,183016,175837,175718,173571,169696,162936,160744,158521,151671,151004,149633,141110,140706,138105,134398,131464,126466,122235,116322,111670,111627,111431,109162,104859,104158,103101,102300,100639,100315,99283,97958,96841,95383,94264,93977,92835,92620,92362,91738,89195,82144,80887,2113853,1765570,1590733,1590733,1590733,1590733,1418398,1120832,1069313,926432,881563,654922,648068,648068,648068,648068,561518,533216,507250,507250,507250,507250,501154,494492,485069,469770,467621,406124,406124,406124,406124,374842,353226,350853,337505,325427,321884,320403,313503,311834,305751,290160,281352,265004,263341,245912,240095,232276,230415,211163,208319,205537,202598,200923,194946,191804,178476,177098,174545,172895,172895,172895,170875,170181,164757,164757,164757,163771,157757,157757,157757,155922,155644,154738,153690,152145,150087,146718,145613,145481,143615,142577,140758,140758,138755,137405,136367,127654,127104,126880,125561,125561,124281,121295,116379,115102,113870,113663,113566,111394,109280,109069,107962,107933,107183,106773,106773,106773,106689,103958,103945,102434,102434,102434,101659,100719,98872,98872,98872,97299,97018,94069,91698,90695,90585,88866,2582669,1822223,1529589,1494419,1485440,1418336,1259099,1006982,925068,755734,664469,649856,617349,616294,583815,556639,544905,493071,485882,482246,477132,455282,431936,423010,422035,401912,394704,392274,377401,367694,351166,343727,333168,318101,316679,313214,312113,306937,306128,292630,272892,272095,266126,265946,264556,258755,215021,211680,211511,208279,207326,204371,189656,183628,179520,179001,177051,174066,173372,172651,172200,170510,154112,146663,145635,142948,141345,140882,139860,138883,131646,126322,125918,123277,122801,120434,117668,116891,116673,112869,107509,107253,103380,102352,100479,99465,99082,97488,94814,94628,92912,90370,90110,89886,87528,87102,86366,85258,84646,83313,31367945,16810315,13050503,12098786,11506051,10721875,10659387,10159890,9123920,8306868,8071775,6964142,5768595,5720687,4170408,4079806,3617773,2954685,2914639,2264014,2154956,2091145,2001718,1898651,1876427,1782012,1683260,1627243,1503412,1432166,1431962,1378621,1326867,1222505,1218003,1135695,1131205,1099997,1009374,978460,952348,941133,939577,924595,921224,910777,881816,880964,875343,865040,847777,781393,777217,752953,712766,685365,679330,670105,665838,659139,655486,652820,649699,636439,627963,627042,605422,603781,602123,592625,570955,568174,567668,556525,540665,539618,532119,526404,521999,513273,510146,497556,487206,476520,475705,469274,462861,462460,458766,444080,442100,430459,428132,414428,405505,385882,381919,378085,373522,370755,1690405,1543998,758930,571355,519854,469665,440099,335602,299512,229515,210406,204816,201926,191141,188628,185082,177900,164764,161896,158721,155279,152780,147633,146101,145347,142128,141681,138294,135433,132854,129911,128528,123262,121977,116243,106074,103248,102219,102168,101418,94157,91946,91542,90720,90184,89570,88278,85437,83994,81628,81135,79583,79263,78145,76981,76498,75435,75270,75082,73407,72164,70614,69285,68066,67910,66241,66160,66057,65669,63887,63873,63384,62792,62564,62194,61993,60889,60654,59598,57537,56865,56525,56416,56154,55294,55114,55006,54400,54217,54205,53535,53039,51944,51903,51861,51687,51547,51002,50931,49811,2454558,2381045,1363013,1280824,665818,664703,640085,608905,571244,552415,407001,403074,388495,372516,363476,296208,273983,253894,240014,239452,237878,230317,217878,208186,202039,189580,185412,167310,166382,164622,161111,152996,151011,149674,139058,138709,130606,130471,127314,123653,114600,113827,112810,111679,108187,107328,105984,104261,102536,102133,97355,95540,87197,87091,86693,83342,82629,71117,71008,69242,68321,67388,65897,65210,64028,60920,56963,56107,55578,55357,55015,54079,53791,53142,52940,50867,48198,48107,47959,47171,46210,45842,45178,45003,43497,43124,42881,42763,41521,40370,40192,38912,37291,36046,35324,34781,34434,34140,33173,32993,4876844,4467655,3222428,2941258,2514879,2301209,2151126,2107067,2065276,1951302,1713085,1704670,1701889,1652333,1561049,1557099,1455893,1361162,1265308,1232582,1210485,1198499,1160505,1160229,1110248,1104361,1065264,1039836,998983,997666,975608,968677,944709,941228,924459,884220,819672,754345,735564,721199,701845,701221,699239,694965,685364,673835,669939,661430,649024,643644,608546,596554,594490,584124,571570,570345,565614,554434,550425,547548,546820,541211,540007,530612,528900,521894,520896,518428,512643,510656,509754,502640,499265,491439,490970,489067,485621,481615,470475,466759,464014,463260,462036,460315,459320,453317,451860,440665,420325,414811,414626,414430,407062,403195,402599,398873,390519,384115,383236,377015,10188038,7580227,6062833,6062304,4507290,4476329,3870456,3612756,2962468,2490517,2221285,2178512,2098500,1848375,1781295,1618815,1555939,1516846,1471540,1463492,1446238,1415418,1364891,1297337,1219865,1119800,1109569,1100694,924106,899964,895239,883713,851386,849317,847739,780720,735549,725551,724219,713034,707004,699303,682124,654903,635669,630972,619717,611439,577754,577204,559157,558462,549630,513359,508166,503879,466732,464730,445846,430550,426246,423514,419851,414528,412241,407995,388123,386128,380849,365649,350249,349416,337837,334069,330803,318474,315332,312017,310589,309939,308362,308175,303913,297540,294097,293250,288581,285522,284892,284450,283592,283127,282063,281848,281769,280605,280243,273705,272721,271610,3170246,3126336,3105550,2651253,2650536,2374967,1710440,1493476,1475764,1424463,1363701,1344784,1311495,1193550,1130195,937102,914423,910412,898630,887982,880376,825827,765525,758951,732372,705186,687214,667980,666442,644802,632926,612572,597411,594700,572359,569162,558013,556175,553833,547967,538673,524462,518434,516540,514023,513522,504968,503826,503643,494101,490756,487726,474469,467209,464201,463791,459149,433067,423249,418992,414159,413804,409319,406697,398449,395402,393787,393183,386821,382714,380907,373793,371730,371644,368592,366341,364398,362652,361987,358237,357910,351850,340801,334232,332270,328319,327986,324192,320930,317023,313301,311126,302340,300651,297438,293945,284337,281603,281148,280566,5541105,5213933,3622549,3519405,3420152,2763325,2233572,1917203,1652561,1583634,1487303,1421165,1389243,1367006,1353453,1319464,1264769,1243436,1218642,1216891,1210916,1160646,1055152,1053098,1004304,999846,976872,961095,955109,945807,931389,913357,882690,880659,841432,813912,796153,765250,758948,740483,734122,709426,708938,704695,683592,671111,664240,651287,648290,643497,641259,640012,624634,620435,609547,607477,604400,593269,572365,555485,552049,543795,502248,501382,495240,490931,482519,469556,461516,460207,459870,452939,447230,444868,440328,438497,436857,425415,424389,423346,421173,419193,416810,408005,404733,402206,392903,392700,390139,385639,382940,382650,379532,377596,376552,371385,370084,369586,367616,365531,21632735,13385786,6856324,6633030,4721659,3181731,3161007,2999325,2968290,2935299,2651825,2284366,2243246,2010215,1993891,1990469,1853563,1753364,1687621,1631259,1477201,1375149,1269327,1245413,1240874,1223330,1173980,1171064,1090511,1028795,1013587,955057,911473,907290,898768,882096,830720,800381,791739,764961,763809,741513,735171,731621,709937,706812,701459,643614,609649,609296,606187,574059,560180,535002,525279,523056,498485,498367,496476,457537,456387,455149,452591,448601,446911,444198,428647,419893,413619,402390,393293,384096,379119,375089,368562,362339,356039,346518,338202,335702,327608,327381,312534,305429,301571,288957,276833,276082,272380,269937,266048,265926,264519,261197,258454,254590,252130,251087,245430,243214,55766763,30852360,6548519,6055738,5164307,5013543,3687571,3671736,3342006,3120219,2317500,2120051,1997631,1823903,1727242,1709263,1651636,1526081,1492534,1451408,1319150,1311005,1296343,1272102,1225321,1006180,993926,990104,981368,929429,905021,897313,896950,874080,853029,830008,828238,796172,780016,762869,757664,722453,696205,676749,635321,602797,569186,568510,562637,544851,524835,501511,496584,495783,494150,486733,485836,457050,447416,422883,421429,420713,419861,411981,410590,403144,399706,398705,398659,389030,386714,384682,369562,366186,362447,360216,347182,346748,340261,338283,333150,331561,331178,330020,324991,319868,318917,318209,308480,305701,297722,293059,289334,285623,280494,278920,276534,274882,272243,272201,7334155,4145089,2614691,1183690,1098826,837271,688137,649922,423164,406864,379611,357020,344975,334779,330992,289425,282642,279589,216643,211433,189577,181338,172772,172586,169372,166714,166160,166022,163509,163390,157252,155287,152329,152275,151512,148685,143211,142859,134845,130488,124963,120834,116248,115459,115024,114009,113934,111963,109743,107915,107674,106920,98012,96670,94777,86335,82509,77624,77391,76857,76445,75729,75712,75135,72097,67251,66599,65681,65504,64624,62720,62009,61000,60074,57663,57326,56774,55313,54183,51951,50815,50002,49748,48813,47912,46162,45788,45359,45126,45047,44566,44016,43149,42776,42517,41756,41520,40744,40228,38376,2418119,2250585,1885400,1722914,1227499,1179329,989128,973750,959675,812635,776334,749320,736769,671436,644092,619037,594298,512584,501384,496119,487582,476458,469540,455543,455543,447182,444744,436327,427255,414385,390612,390612,390247,385276,383907,373807,362929,362457,356922,354330,327444,321011,316607,313263,304117,293234,290063,287827,283889,277485,264230,248190,245709,236235,235887,232803,228204,221349,218894,218842,214916,214864,214313,210662,191924,182995,182761,181110,178241,170069,169669,161543,161284,161284,160717,159344,157519,157049,153454,153087,151046,150279,149858,149858,149553,149422,146848,143930,136542,130077,129132,127293,127030,126774,124219,123095,121222,120533,115437,112408,111595,110723,109530,108917],\"xaxis\":\"x\",\"yaxis\":\"y\"},{\"alignmentgroup\":\"True\",\"hovertemplate\":\"total ratings=%{x}<extra></extra>\",\"legendgroup\":\"\",\"marker\":{\"color\":\"#636efa\"},\"name\":\"\",\"notched\":true,\"offsetgroup\":\"\",\"showlegend\":false,\"type\":\"box\",\"x\":[86273129,37276732,26663595,17971552,14464235,13572148,11936964,9633929,7578630,6268377,5681934,5471344,4801658,4710639,4564398,4496723,4464668,4221389,4215808,4159837,4112075,3987062,3516024,3213257,3195503,3140510,3133361,2695923,2670589,2540439,2472561,2380639,2365838,2271977,2131549,2100984,2083413,2006745,1985016,1949497,1860814,1846221,1823477,1796325,1714060,1656299,1642589,1607897,1599244,1583866,1576576,1542169,1495507,1481552,1457639,1396630,1344699,1301440,1291305,1258805,1254295,1238228,1227050,1216126,1196490,1166709,1161701,1134127,1129645,1073769,1070197,1066554,1023162,998677,996586,992742,974789,963507,907609,900069,875257,875065,864581,809654,809487,808331,800432,799866,799114,794575,792071,788653,777188,771254,764042,756002,748945,727627,718905,703514,21820451,14541662,4273420,2544322,2258595,2078458,2016845,1585186,1550978,1434245,1279866,1164984,1096282,1014301,1008075,892542,830121,822854,753449,734291,728187,677145,668761,653025,637160,625580,554454,549049,545166,532248,530520,526594,505541,495725,491846,486767,476258,443044,442542,434780,428566,394199,376854,373672,347489,342940,340647,326203,326177,321154,320317,317393,316902,316484,315349,310393,302458,299697,276333,269887,267176,248376,245912,244108,241766,237178,236968,236324,235190,232238,228860,228093,220878,220154,214038,212099,209326,205339,202932,198913,196731,195798,192892,187523,184387,184296,181431,176486,174281,173009,167371,166142,165363,164143,164000,162534,159801,155657,155193,154835,35665901,7202013,6960814,5903477,5402149,5367599,4919742,4816448,4565220,4100452,3398125,3290970,2858076,2342083,2222817,2156973,2096404,2062961,1988570,1910010,1900382,1858504,1793741,1735909,1679572,1573012,1564855,1493740,1471629,1470166,1458849,1340841,1337580,1254191,1215112,1205884,1188910,1153022,1136712,1132730,1102273,1089029,1082604,1079670,1079537,1066764,1042160,1040051,988381,955594,949510,926298,923982,903937,883825,878563,860147,827611,791425,784985,777941,752635,715951,693956,690642,662256,660553,656039,636293,626542,621232,620257,609853,588562,581821,572863,561461,556766,541549,532569,532176,509654,506876,497484,476858,473706,470099,467497,466518,460549,458684,449205,448716,447522,446946,441188,438162,429256,426000,418663,7512316,2516777,2430531,2131083,1590460,1578022,1283404,1273770,1245352,1062798,788064,769196,615530,598584,597656,575124,567662,554532,482155,470850,467655,466525,447613,404907,402345,391135,356365,353244,351361,335347,313765,312477,303060,295628,282866,277062,276518,267286,264663,263074,261799,257492,256773,256158,242006,237706,228476,221378,221279,219916,207685,206953,200804,199569,193778,190736,189798,183337,183016,175837,175718,173571,169696,162936,160744,158521,151671,151004,149633,141110,140706,138105,134398,131464,126466,122235,116322,111670,111627,111431,109162,104859,104158,103101,102300,100639,100315,99283,97958,96841,95383,94264,93977,92835,92620,92362,91738,89195,82144,80887,2113853,1765570,1590733,1590733,1590733,1590733,1418398,1120832,1069313,926432,881563,654922,648068,648068,648068,648068,561518,533216,507250,507250,507250,507250,501154,494492,485069,469770,467621,406124,406124,406124,406124,374842,353226,350853,337505,325427,321884,320403,313503,311834,305751,290160,281352,265004,263341,245912,240095,232276,230415,211163,208319,205537,202598,200923,194946,191804,178476,177098,174545,172895,172895,172895,170875,170181,164757,164757,164757,163771,157757,157757,157757,155922,155644,154738,153690,152145,150087,146718,145613,145481,143615,142577,140758,140758,138755,137405,136367,127654,127104,126880,125561,125561,124281,121295,116379,115102,113870,113663,113566,111394,109280,109069,107962,107933,107183,106773,106773,106773,106689,103958,103945,102434,102434,102434,101659,100719,98872,98872,98872,97299,97018,94069,91698,90695,90585,88866,2582669,1822223,1529589,1494419,1485440,1418336,1259099,1006982,925068,755734,664469,649856,617349,616294,583815,556639,544905,493071,485882,482246,477132,455282,431936,423010,422035,401912,394704,392274,377401,367694,351166,343727,333168,318101,316679,313214,312113,306937,306128,292630,272892,272095,266126,265946,264556,258755,215021,211680,211511,208279,207326,204371,189656,183628,179520,179001,177051,174066,173372,172651,172200,170510,154112,146663,145635,142948,141345,140882,139860,138883,131646,126322,125918,123277,122801,120434,117668,116891,116673,112869,107509,107253,103380,102352,100479,99465,99082,97488,94814,94628,92912,90370,90110,89886,87528,87102,86366,85258,84646,83313,31367945,16810315,13050503,12098786,11506051,10721875,10659387,10159890,9123920,8306868,8071775,6964142,5768595,5720687,4170408,4079806,3617773,2954685,2914639,2264014,2154956,2091145,2001718,1898651,1876427,1782012,1683260,1627243,1503412,1432166,1431962,1378621,1326867,1222505,1218003,1135695,1131205,1099997,1009374,978460,952348,941133,939577,924595,921224,910777,881816,880964,875343,865040,847777,781393,777217,752953,712766,685365,679330,670105,665838,659139,655486,652820,649699,636439,627963,627042,605422,603781,602123,592625,570955,568174,567668,556525,540665,539618,532119,526404,521999,513273,510146,497556,487206,476520,475705,469274,462861,462460,458766,444080,442100,430459,428132,414428,405505,385882,381919,378085,373522,370755,1690405,1543998,758930,571355,519854,469665,440099,335602,299512,229515,210406,204816,201926,191141,188628,185082,177900,164764,161896,158721,155279,152780,147633,146101,145347,142128,141681,138294,135433,132854,129911,128528,123262,121977,116243,106074,103248,102219,102168,101418,94157,91946,91542,90720,90184,89570,88278,85437,83994,81628,81135,79583,79263,78145,76981,76498,75435,75270,75082,73407,72164,70614,69285,68066,67910,66241,66160,66057,65669,63887,63873,63384,62792,62564,62194,61993,60889,60654,59598,57537,56865,56525,56416,56154,55294,55114,55006,54400,54217,54205,53535,53039,51944,51903,51861,51687,51547,51002,50931,49811,2454558,2381045,1363013,1280824,665818,664703,640085,608905,571244,552415,407001,403074,388495,372516,363476,296208,273983,253894,240014,239452,237878,230317,217878,208186,202039,189580,185412,167310,166382,164622,161111,152996,151011,149674,139058,138709,130606,130471,127314,123653,114600,113827,112810,111679,108187,107328,105984,104261,102536,102133,97355,95540,87197,87091,86693,83342,82629,71117,71008,69242,68321,67388,65897,65210,64028,60920,56963,56107,55578,55357,55015,54079,53791,53142,52940,50867,48198,48107,47959,47171,46210,45842,45178,45003,43497,43124,42881,42763,41521,40370,40192,38912,37291,36046,35324,34781,34434,34140,33173,32993,4876844,4467655,3222428,2941258,2514879,2301209,2151126,2107067,2065276,1951302,1713085,1704670,1701889,1652333,1561049,1557099,1455893,1361162,1265308,1232582,1210485,1198499,1160505,1160229,1110248,1104361,1065264,1039836,998983,997666,975608,968677,944709,941228,924459,884220,819672,754345,735564,721199,701845,701221,699239,694965,685364,673835,669939,661430,649024,643644,608546,596554,594490,584124,571570,570345,565614,554434,550425,547548,546820,541211,540007,530612,528900,521894,520896,518428,512643,510656,509754,502640,499265,491439,490970,489067,485621,481615,470475,466759,464014,463260,462036,460315,459320,453317,451860,440665,420325,414811,414626,414430,407062,403195,402599,398873,390519,384115,383236,377015,10188038,7580227,6062833,6062304,4507290,4476329,3870456,3612756,2962468,2490517,2221285,2178512,2098500,1848375,1781295,1618815,1555939,1516846,1471540,1463492,1446238,1415418,1364891,1297337,1219865,1119800,1109569,1100694,924106,899964,895239,883713,851386,849317,847739,780720,735549,725551,724219,713034,707004,699303,682124,654903,635669,630972,619717,611439,577754,577204,559157,558462,549630,513359,508166,503879,466732,464730,445846,430550,426246,423514,419851,414528,412241,407995,388123,386128,380849,365649,350249,349416,337837,334069,330803,318474,315332,312017,310589,309939,308362,308175,303913,297540,294097,293250,288581,285522,284892,284450,283592,283127,282063,281848,281769,280605,280243,273705,272721,271610,3170246,3126336,3105550,2651253,2650536,2374967,1710440,1493476,1475764,1424463,1363701,1344784,1311495,1193550,1130195,937102,914423,910412,898630,887982,880376,825827,765525,758951,732372,705186,687214,667980,666442,644802,632926,612572,597411,594700,572359,569162,558013,556175,553833,547967,538673,524462,518434,516540,514023,513522,504968,503826,503643,494101,490756,487726,474469,467209,464201,463791,459149,433067,423249,418992,414159,413804,409319,406697,398449,395402,393787,393183,386821,382714,380907,373793,371730,371644,368592,366341,364398,362652,361987,358237,357910,351850,340801,334232,332270,328319,327986,324192,320930,317023,313301,311126,302340,300651,297438,293945,284337,281603,281148,280566,5541105,5213933,3622549,3519405,3420152,2763325,2233572,1917203,1652561,1583634,1487303,1421165,1389243,1367006,1353453,1319464,1264769,1243436,1218642,1216891,1210916,1160646,1055152,1053098,1004304,999846,976872,961095,955109,945807,931389,913357,882690,880659,841432,813912,796153,765250,758948,740483,734122,709426,708938,704695,683592,671111,664240,651287,648290,643497,641259,640012,624634,620435,609547,607477,604400,593269,572365,555485,552049,543795,502248,501382,495240,490931,482519,469556,461516,460207,459870,452939,447230,444868,440328,438497,436857,425415,424389,423346,421173,419193,416810,408005,404733,402206,392903,392700,390139,385639,382940,382650,379532,377596,376552,371385,370084,369586,367616,365531,21632735,13385786,6856324,6633030,4721659,3181731,3161007,2999325,2968290,2935299,2651825,2284366,2243246,2010215,1993891,1990469,1853563,1753364,1687621,1631259,1477201,1375149,1269327,1245413,1240874,1223330,1173980,1171064,1090511,1028795,1013587,955057,911473,907290,898768,882096,830720,800381,791739,764961,763809,741513,735171,731621,709937,706812,701459,643614,609649,609296,606187,574059,560180,535002,525279,523056,498485,498367,496476,457537,456387,455149,452591,448601,446911,444198,428647,419893,413619,402390,393293,384096,379119,375089,368562,362339,356039,346518,338202,335702,327608,327381,312534,305429,301571,288957,276833,276082,272380,269937,266048,265926,264519,261197,258454,254590,252130,251087,245430,243214,55766763,30852360,6548519,6055738,5164307,5013543,3687571,3671736,3342006,3120219,2317500,2120051,1997631,1823903,1727242,1709263,1651636,1526081,1492534,1451408,1319150,1311005,1296343,1272102,1225321,1006180,993926,990104,981368,929429,905021,897313,896950,874080,853029,830008,828238,796172,780016,762869,757664,722453,696205,676749,635321,602797,569186,568510,562637,544851,524835,501511,496584,495783,494150,486733,485836,457050,447416,422883,421429,420713,419861,411981,410590,403144,399706,398705,398659,389030,386714,384682,369562,366186,362447,360216,347182,346748,340261,338283,333150,331561,331178,330020,324991,319868,318917,318209,308480,305701,297722,293059,289334,285623,280494,278920,276534,274882,272243,272201,7334155,4145089,2614691,1183690,1098826,837271,688137,649922,423164,406864,379611,357020,344975,334779,330992,289425,282642,279589,216643,211433,189577,181338,172772,172586,169372,166714,166160,166022,163509,163390,157252,155287,152329,152275,151512,148685,143211,142859,134845,130488,124963,120834,116248,115459,115024,114009,113934,111963,109743,107915,107674,106920,98012,96670,94777,86335,82509,77624,77391,76857,76445,75729,75712,75135,72097,67251,66599,65681,65504,64624,62720,62009,61000,60074,57663,57326,56774,55313,54183,51951,50815,50002,49748,48813,47912,46162,45788,45359,45126,45047,44566,44016,43149,42776,42517,41756,41520,40744,40228,38376,2418119,2250585,1885400,1722914,1227499,1179329,989128,973750,959675,812635,776334,749320,736769,671436,644092,619037,594298,512584,501384,496119,487582,476458,469540,455543,455543,447182,444744,436327,427255,414385,390612,390612,390247,385276,383907,373807,362929,362457,356922,354330,327444,321011,316607,313263,304117,293234,290063,287827,283889,277485,264230,248190,245709,236235,235887,232803,228204,221349,218894,218842,214916,214864,214313,210662,191924,182995,182761,181110,178241,170069,169669,161543,161284,161284,160717,159344,157519,157049,153454,153087,151046,150279,149858,149858,149553,149422,146848,143930,136542,130077,129132,127293,127030,126774,124219,123095,121222,120533,115437,112408,111595,110723,109530,108917],\"xaxis\":\"x2\",\"yaxis\":\"y2\"}],                        {\"barmode\":\"relative\",\"legend\":{\"tracegroupgap\":0},\"template\":{\"data\":{\"bar\":[{\"error_x\":{\"color\":\"#2a3f5f\"},\"error_y\":{\"color\":\"#2a3f5f\"},\"marker\":{\"line\":{\"color\":\"#E5ECF6\",\"width\":0.5},\"pattern\":{\"fillmode\":\"overlay\",\"size\":10,\"solidity\":0.2}},\"type\":\"bar\"}],\"barpolar\":[{\"marker\":{\"line\":{\"color\":\"#E5ECF6\",\"width\":0.5},\"pattern\":{\"fillmode\":\"overlay\",\"size\":10,\"solidity\":0.2}},\"type\":\"barpolar\"}],\"carpet\":[{\"aaxis\":{\"endlinecolor\":\"#2a3f5f\",\"gridcolor\":\"white\",\"linecolor\":\"white\",\"minorgridcolor\":\"white\",\"startlinecolor\":\"#2a3f5f\"},\"baxis\":{\"endlinecolor\":\"#2a3f5f\",\"gridcolor\":\"white\",\"linecolor\":\"white\",\"minorgridcolor\":\"white\",\"startlinecolor\":\"#2a3f5f\"},\"type\":\"carpet\"}],\"choropleth\":[{\"colorbar\":{\"outlinewidth\":0,\"ticks\":\"\"},\"type\":\"choropleth\"}],\"contour\":[{\"colorbar\":{\"outlinewidth\":0,\"ticks\":\"\"},\"colorscale\":[[0.0,\"#0d0887\"],[0.1111111111111111,\"#46039f\"],[0.2222222222222222,\"#7201a8\"],[0.3333333333333333,\"#9c179e\"],[0.4444444444444444,\"#bd3786\"],[0.5555555555555556,\"#d8576b\"],[0.6666666666666666,\"#ed7953\"],[0.7777777777777778,\"#fb9f3a\"],[0.8888888888888888,\"#fdca26\"],[1.0,\"#f0f921\"]],\"type\":\"contour\"}],\"contourcarpet\":[{\"colorbar\":{\"outlinewidth\":0,\"ticks\":\"\"},\"type\":\"contourcarpet\"}],\"heatmap\":[{\"colorbar\":{\"outlinewidth\":0,\"ticks\":\"\"},\"colorscale\":[[0.0,\"#0d0887\"],[0.1111111111111111,\"#46039f\"],[0.2222222222222222,\"#7201a8\"],[0.3333333333333333,\"#9c179e\"],[0.4444444444444444,\"#bd3786\"],[0.5555555555555556,\"#d8576b\"],[0.6666666666666666,\"#ed7953\"],[0.7777777777777778,\"#fb9f3a\"],[0.8888888888888888,\"#fdca26\"],[1.0,\"#f0f921\"]],\"type\":\"heatmap\"}],\"heatmapgl\":[{\"colorbar\":{\"outlinewidth\":0,\"ticks\":\"\"},\"colorscale\":[[0.0,\"#0d0887\"],[0.1111111111111111,\"#46039f\"],[0.2222222222222222,\"#7201a8\"],[0.3333333333333333,\"#9c179e\"],[0.4444444444444444,\"#bd3786\"],[0.5555555555555556,\"#d8576b\"],[0.6666666666666666,\"#ed7953\"],[0.7777777777777778,\"#fb9f3a\"],[0.8888888888888888,\"#fdca26\"],[1.0,\"#f0f921\"]],\"type\":\"heatmapgl\"}],\"histogram\":[{\"marker\":{\"pattern\":{\"fillmode\":\"overlay\",\"size\":10,\"solidity\":0.2}},\"type\":\"histogram\"}],\"histogram2d\":[{\"colorbar\":{\"outlinewidth\":0,\"ticks\":\"\"},\"colorscale\":[[0.0,\"#0d0887\"],[0.1111111111111111,\"#46039f\"],[0.2222222222222222,\"#7201a8\"],[0.3333333333333333,\"#9c179e\"],[0.4444444444444444,\"#bd3786\"],[0.5555555555555556,\"#d8576b\"],[0.6666666666666666,\"#ed7953\"],[0.7777777777777778,\"#fb9f3a\"],[0.8888888888888888,\"#fdca26\"],[1.0,\"#f0f921\"]],\"type\":\"histogram2d\"}],\"histogram2dcontour\":[{\"colorbar\":{\"outlinewidth\":0,\"ticks\":\"\"},\"colorscale\":[[0.0,\"#0d0887\"],[0.1111111111111111,\"#46039f\"],[0.2222222222222222,\"#7201a8\"],[0.3333333333333333,\"#9c179e\"],[0.4444444444444444,\"#bd3786\"],[0.5555555555555556,\"#d8576b\"],[0.6666666666666666,\"#ed7953\"],[0.7777777777777778,\"#fb9f3a\"],[0.8888888888888888,\"#fdca26\"],[1.0,\"#f0f921\"]],\"type\":\"histogram2dcontour\"}],\"mesh3d\":[{\"colorbar\":{\"outlinewidth\":0,\"ticks\":\"\"},\"type\":\"mesh3d\"}],\"parcoords\":[{\"line\":{\"colorbar\":{\"outlinewidth\":0,\"ticks\":\"\"}},\"type\":\"parcoords\"}],\"pie\":[{\"automargin\":true,\"type\":\"pie\"}],\"scatter\":[{\"marker\":{\"colorbar\":{\"outlinewidth\":0,\"ticks\":\"\"}},\"type\":\"scatter\"}],\"scatter3d\":[{\"line\":{\"colorbar\":{\"outlinewidth\":0,\"ticks\":\"\"}},\"marker\":{\"colorbar\":{\"outlinewidth\":0,\"ticks\":\"\"}},\"type\":\"scatter3d\"}],\"scattercarpet\":[{\"marker\":{\"colorbar\":{\"outlinewidth\":0,\"ticks\":\"\"}},\"type\":\"scattercarpet\"}],\"scattergeo\":[{\"marker\":{\"colorbar\":{\"outlinewidth\":0,\"ticks\":\"\"}},\"type\":\"scattergeo\"}],\"scattergl\":[{\"marker\":{\"colorbar\":{\"outlinewidth\":0,\"ticks\":\"\"}},\"type\":\"scattergl\"}],\"scattermapbox\":[{\"marker\":{\"colorbar\":{\"outlinewidth\":0,\"ticks\":\"\"}},\"type\":\"scattermapbox\"}],\"scatterpolar\":[{\"marker\":{\"colorbar\":{\"outlinewidth\":0,\"ticks\":\"\"}},\"type\":\"scatterpolar\"}],\"scatterpolargl\":[{\"marker\":{\"colorbar\":{\"outlinewidth\":0,\"ticks\":\"\"}},\"type\":\"scatterpolargl\"}],\"scatterternary\":[{\"marker\":{\"colorbar\":{\"outlinewidth\":0,\"ticks\":\"\"}},\"type\":\"scatterternary\"}],\"surface\":[{\"colorbar\":{\"outlinewidth\":0,\"ticks\":\"\"},\"colorscale\":[[0.0,\"#0d0887\"],[0.1111111111111111,\"#46039f\"],[0.2222222222222222,\"#7201a8\"],[0.3333333333333333,\"#9c179e\"],[0.4444444444444444,\"#bd3786\"],[0.5555555555555556,\"#d8576b\"],[0.6666666666666666,\"#ed7953\"],[0.7777777777777778,\"#fb9f3a\"],[0.8888888888888888,\"#fdca26\"],[1.0,\"#f0f921\"]],\"type\":\"surface\"}],\"table\":[{\"cells\":{\"fill\":{\"color\":\"#EBF0F8\"},\"line\":{\"color\":\"white\"}},\"header\":{\"fill\":{\"color\":\"#C8D4E3\"},\"line\":{\"color\":\"white\"}},\"type\":\"table\"}]},\"layout\":{\"annotationdefaults\":{\"arrowcolor\":\"#2a3f5f\",\"arrowhead\":0,\"arrowwidth\":1},\"autotypenumbers\":\"strict\",\"coloraxis\":{\"colorbar\":{\"outlinewidth\":0,\"ticks\":\"\"}},\"colorscale\":{\"diverging\":[[0,\"#8e0152\"],[0.1,\"#c51b7d\"],[0.2,\"#de77ae\"],[0.3,\"#f1b6da\"],[0.4,\"#fde0ef\"],[0.5,\"#f7f7f7\"],[0.6,\"#e6f5d0\"],[0.7,\"#b8e186\"],[0.8,\"#7fbc41\"],[0.9,\"#4d9221\"],[1,\"#276419\"]],\"sequential\":[[0.0,\"#0d0887\"],[0.1111111111111111,\"#46039f\"],[0.2222222222222222,\"#7201a8\"],[0.3333333333333333,\"#9c179e\"],[0.4444444444444444,\"#bd3786\"],[0.5555555555555556,\"#d8576b\"],[0.6666666666666666,\"#ed7953\"],[0.7777777777777778,\"#fb9f3a\"],[0.8888888888888888,\"#fdca26\"],[1.0,\"#f0f921\"]],\"sequentialminus\":[[0.0,\"#0d0887\"],[0.1111111111111111,\"#46039f\"],[0.2222222222222222,\"#7201a8\"],[0.3333333333333333,\"#9c179e\"],[0.4444444444444444,\"#bd3786\"],[0.5555555555555556,\"#d8576b\"],[0.6666666666666666,\"#ed7953\"],[0.7777777777777778,\"#fb9f3a\"],[0.8888888888888888,\"#fdca26\"],[1.0,\"#f0f921\"]]},\"colorway\":[\"#636efa\",\"#EF553B\",\"#00cc96\",\"#ab63fa\",\"#FFA15A\",\"#19d3f3\",\"#FF6692\",\"#B6E880\",\"#FF97FF\",\"#FECB52\"],\"font\":{\"color\":\"#2a3f5f\"},\"geo\":{\"bgcolor\":\"white\",\"lakecolor\":\"white\",\"landcolor\":\"#E5ECF6\",\"showlakes\":true,\"showland\":true,\"subunitcolor\":\"white\"},\"hoverlabel\":{\"align\":\"left\"},\"hovermode\":\"closest\",\"mapbox\":{\"style\":\"light\"},\"paper_bgcolor\":\"white\",\"plot_bgcolor\":\"#E5ECF6\",\"polar\":{\"angularaxis\":{\"gridcolor\":\"white\",\"linecolor\":\"white\",\"ticks\":\"\"},\"bgcolor\":\"#E5ECF6\",\"radialaxis\":{\"gridcolor\":\"white\",\"linecolor\":\"white\",\"ticks\":\"\"}},\"scene\":{\"xaxis\":{\"backgroundcolor\":\"#E5ECF6\",\"gridcolor\":\"white\",\"gridwidth\":2,\"linecolor\":\"white\",\"showbackground\":true,\"ticks\":\"\",\"zerolinecolor\":\"white\"},\"yaxis\":{\"backgroundcolor\":\"#E5ECF6\",\"gridcolor\":\"white\",\"gridwidth\":2,\"linecolor\":\"white\",\"showbackground\":true,\"ticks\":\"\",\"zerolinecolor\":\"white\"},\"zaxis\":{\"backgroundcolor\":\"#E5ECF6\",\"gridcolor\":\"white\",\"gridwidth\":2,\"linecolor\":\"white\",\"showbackground\":true,\"ticks\":\"\",\"zerolinecolor\":\"white\"}},\"shapedefaults\":{\"line\":{\"color\":\"#2a3f5f\"}},\"ternary\":{\"aaxis\":{\"gridcolor\":\"white\",\"linecolor\":\"white\",\"ticks\":\"\"},\"baxis\":{\"gridcolor\":\"white\",\"linecolor\":\"white\",\"ticks\":\"\"},\"bgcolor\":\"#E5ECF6\",\"caxis\":{\"gridcolor\":\"white\",\"linecolor\":\"white\",\"ticks\":\"\"}},\"title\":{\"x\":0.05},\"xaxis\":{\"automargin\":true,\"gridcolor\":\"white\",\"linecolor\":\"white\",\"ticks\":\"\",\"title\":{\"standoff\":15},\"zerolinecolor\":\"white\",\"zerolinewidth\":2},\"yaxis\":{\"automargin\":true,\"gridcolor\":\"white\",\"linecolor\":\"white\",\"ticks\":\"\",\"title\":{\"standoff\":15},\"zerolinecolor\":\"white\",\"zerolinewidth\":2}}},\"title\":{\"text\":\"Total Ratings\"},\"xaxis\":{\"anchor\":\"y\",\"domain\":[0.0,1.0],\"title\":{\"text\":\"total ratings\"}},\"xaxis2\":{\"anchor\":\"y2\",\"domain\":[0.0,1.0],\"matches\":\"x\",\"showgrid\":true,\"showticklabels\":false},\"yaxis\":{\"anchor\":\"x\",\"domain\":[0.0,0.8316],\"title\":{\"text\":\"count\"}},\"yaxis2\":{\"anchor\":\"x2\",\"domain\":[0.8416,1.0],\"matches\":\"y2\",\"showgrid\":false,\"showline\":false,\"showticklabels\":false,\"ticks\":\"\"}},                        {\"responsive\": true}                    ).then(function(){\n",
       "                            \n",
       "var gd = document.getElementById('769e613e-bab4-4b14-a05c-12d5150fbebb');\n",
       "var x = new MutationObserver(function (mutations, observer) {{\n",
       "        var display = window.getComputedStyle(gd).display;\n",
       "        if (!display || display === 'none') {{\n",
       "            console.log([gd, 'removed!']);\n",
       "            Plotly.purge(gd);\n",
       "            observer.disconnect();\n",
       "        }}\n",
       "}});\n",
       "\n",
       "// Listen for the removal of the full notebook cells\n",
       "var notebookContainer = gd.closest('#notebook-container');\n",
       "if (notebookContainer) {{\n",
       "    x.observe(notebookContainer, {childList: true});\n",
       "}}\n",
       "\n",
       "// Listen for the clearing of the current output cell\n",
       "var outputEl = gd.closest('.output');\n",
       "if (outputEl) {{\n",
       "    x.observe(outputEl, {childList: true});\n",
       "}}\n",
       "\n",
       "                        })                };                });            </script>        </div>"
      ]
     },
     "metadata": {},
     "output_type": "display_data"
    }
   ],
   "source": [
    "# with plotly\n",
    "\n",
    "fig = px.histogram(data_frame = df_1, x = \"total ratings\", title = \"Total Ratings\", marginal = \"box\")\n",
    "fig.show()"
   ]
  },
  {
   "cell_type": "markdown",
   "id": "1349f9c9",
   "metadata": {},
   "source": [
    "### Number of Game Installed"
   ]
  },
  {
   "cell_type": "code",
   "execution_count": 56,
   "id": "a4978aed",
   "metadata": {},
   "outputs": [
    {
     "data": {
      "text/plain": [
       "count    1730.000000\n",
       "mean       29.176185\n",
       "std        60.287333\n",
       "min         0.100000\n",
       "25%         5.000000\n",
       "50%        10.000000\n",
       "75%        50.000000\n",
       "max      1000.000000\n",
       "Name: installs_in_million, dtype: float64"
      ]
     },
     "execution_count": 56,
     "metadata": {},
     "output_type": "execute_result"
    }
   ],
   "source": [
    "df_1[\"installs_in_million\"].describe()"
   ]
  },
  {
   "cell_type": "code",
   "execution_count": 57,
   "id": "281922ce",
   "metadata": {},
   "outputs": [
    {
     "data": {
      "text/plain": [
       "10.0      805\n",
       "50.0      252\n",
       "5.0       245\n",
       "100.0     204\n",
       "1.0       192\n",
       "0.5        15\n",
       "500.0      12\n",
       "0.1         3\n",
       "1000.0      2\n",
       "Name: installs_in_million, dtype: int64"
      ]
     },
     "execution_count": 57,
     "metadata": {},
     "output_type": "execute_result"
    }
   ],
   "source": [
    "df_1[\"installs_in_million\"].value_counts()"
   ]
  },
  {
   "cell_type": "code",
   "execution_count": 58,
   "id": "d7fe03be",
   "metadata": {},
   "outputs": [
    {
     "data": {
      "image/png": "[encoded data removed]",
      "text/plain": [
       "<Figure size 1080x360 with 1 Axes>"
      ]
     },
     "metadata": {},
     "output_type": "display_data"
    }
   ],
   "source": [
    "# with seaborn\n",
    "\n",
    "plt.figure(figsize = (15,5))\n",
    "sns.histplot(data = df_1, x = \"installs_in_million\")\n",
    "plt.title(\"Number of Game Installed\", fontsize = 15)\n",
    "\n",
    "plt.show()"
   ]
  },
  {
   "cell_type": "code",
   "execution_count": 205,
   "id": "7455c87d",
   "metadata": {},
   "outputs": [
    {
     "data": {
      "image/png": "[encoded data removed]",
      "text/plain": [
       "<Figure size 1080x360 with 1 Axes>"
      ]
     },
     "metadata": {},
     "output_type": "display_data"
    }
   ],
   "source": [
    "# with seaborn\n",
    "\n",
    "plt.figure(figsize = (15,5))\n",
    "sns.boxplot(data = df_1, x = \"installs_in_million\")\n",
    "plt.title(\"Number of Game Installed\", fontsize = 15)\n",
    "\n",
    "plt.show()"
   ]
  },
  {
   "cell_type": "code",
   "execution_count": 60,
   "id": "5178b985",
   "metadata": {},
   "outputs": [
    {
     "data": {
      "application/vnd.plotly.v1+json": {
       "config": {
        "plotlyServerURL": "https://plot.ly"
       },
       "data": [
        {
         "alignmentgroup": "True",
         "bingroup": "x",
         "hovertemplate": "installs_in_million=%{x}<br>count=%{y}<extra></extra>",
         "legendgroup": "",
         "marker": {
          "color": "#636efa",
          "pattern": {
           "shape": ""
          }
         },
         "name": "",
         "offsetgroup": "",
         "orientation": "v",
         "showlegend": false,
         "type": "histogram",
         "x": [
          500,
          500,
          100,
          100,
          500,
          100,
          100,
          500,
          100,
          100,
          100,
          100,
          50,
          100,
          50,
          100,
          100,
          50,
          50,
          50,
          100,
          100,
          100,
          100,
          100,
          50,
          100,
          10,
          50,
          10,
          100,
          50,
          50,
          50,
          10,
          100,
          10,
          100,
          10,
          50,
          50,
          100,
          50,
          100,
          50,
          10,
          50,
          10,
          10,
          100,
          100,
          50,
          50,
          10,
          100,
          100,
          100,
          50,
          50,
          100,
          10,
          100,
          50,
          10,
          50,
          50,
          100,
          10,
          50,
          10,
          100,
          10,
          50,
          10,
          100,
          10,
          100,
          10,
          10,
          10,
          10,
          100,
          100,
          10,
          10,
          10,
          100,
          10,
          10,
          50,
          100,
          50,
          50,
          50,
          10,
          10,
          10,
          10,
          10,
          10,
          100,
          100,
          100,
          10,
          50,
          100,
          50,
          10,
          10,
          50,
          10,
          50,
          10,
          10,
          10,
          5,
          10,
          10,
          5,
          10,
          10,
          10,
          10,
          10,
          10,
          50,
          50,
          50,
          5,
          10,
          10,
          10,
          10,
          5,
          10,
          10,
          10,
          10,
          100,
          10,
          10,
          10,
          1,
          10,
          10,
          10,
          10,
          10,
          10,
          10,
          10,
          10,
          5,
          10,
          10,
          50,
          10,
          10,
          10,
          10,
          10,
          10,
          5,
          100,
          10,
          1,
          10,
          5,
          5,
          10,
          50,
          10,
          10,
          10,
          1,
          10,
          10,
          10,
          10,
          5,
          10,
          10,
          10,
          1,
          5,
          10,
          1,
          50,
          5,
          10,
          10,
          1,
          10,
          1,
          5,
          1,
          10,
          10,
          5,
          10,
          1000,
          100,
          100,
          100,
          100,
          100,
          100,
          500,
          100,
          10,
          100,
          100,
          10,
          100,
          100,
          100,
          100,
          50,
          100,
          100,
          50,
          100,
          100,
          50,
          100,
          10,
          100,
          100,
          100,
          100,
          10,
          100,
          100,
          100,
          100,
          100,
          50,
          50,
          10,
          50,
          100,
          50,
          50,
          100,
          100,
          100,
          50,
          50,
          50,
          100,
          100,
          50,
          50,
          100,
          10,
          100,
          100,
          100,
          10,
          50,
          1,
          10,
          50,
          50,
          10,
          100,
          10,
          50,
          100,
          50,
          100,
          50,
          10,
          10,
          10,
          50,
          10,
          10,
          10,
          10,
          10,
          50,
          50,
          10,
          10,
          50,
          10,
          10,
          10,
          10,
          10,
          10,
          100,
          10,
          10,
          50,
          10,
          10,
          50,
          10,
          500,
          100,
          10,
          50,
          10,
          100,
          100,
          100,
          10,
          50,
          10,
          10,
          10,
          5,
          10,
          10,
          10,
          100,
          50,
          10,
          5,
          5,
          10,
          10,
          50,
          5,
          50,
          10,
          10,
          5,
          5,
          10,
          50,
          5,
          10,
          10,
          10,
          5,
          10,
          10,
          10,
          1,
          50,
          10,
          10,
          50,
          1,
          10,
          5,
          10,
          10,
          10,
          5,
          10,
          5,
          5,
          5,
          5,
          5,
          5,
          5,
          5,
          50,
          50,
          50,
          10,
          10,
          5,
          1,
          10,
          1,
          10,
          5,
          10,
          1,
          5,
          10,
          1,
          10,
          5,
          10,
          10,
          5,
          5,
          5,
          5,
          1,
          5,
          10,
          1,
          10,
          10,
          1,
          10,
          1,
          5,
          10,
          1,
          1,
          1,
          50,
          10,
          100,
          100,
          100,
          100,
          50,
          10,
          10,
          50,
          10,
          10,
          50,
          50,
          50,
          50,
          10,
          10,
          50,
          50,
          50,
          50,
          10,
          10,
          10,
          10,
          10,
          10,
          10,
          10,
          10,
          5,
          10,
          5,
          5,
          10,
          1,
          1,
          10,
          1,
          10,
          5,
          10,
          10,
          5,
          10,
          10,
          10,
          10,
          5,
          1,
          5,
          5,
          5,
          5,
          5,
          5,
          1,
          5,
          5,
          5,
          5,
          1,
          1,
          5,
          5,
          5,
          1,
          5,
          5,
          5,
          1,
          5,
          5,
          5,
          1,
          5,
          0.5,
          5,
          10,
          1,
          10,
          10,
          10,
          1,
          0.5,
          1,
          1,
          1,
          5,
          10,
          10,
          1,
          5,
          1,
          1,
          1,
          1,
          5,
          1,
          1,
          10,
          10,
          1,
          5,
          5,
          5,
          5,
          5,
          5,
          1,
          10,
          10,
          10,
          1,
          1,
          10,
          10,
          10,
          1,
          1,
          10,
          1,
          1,
          1,
          1,
          50,
          50,
          50,
          50,
          50,
          10,
          10,
          10,
          10,
          10,
          10,
          5,
          10,
          10,
          10,
          10,
          10,
          5,
          10,
          10,
          10,
          5,
          10,
          5,
          10,
          10,
          10,
          10,
          10,
          1,
          5,
          10,
          5,
          10,
          10,
          10,
          10,
          10,
          5,
          5,
          10,
          5,
          10,
          5,
          10,
          10,
          5,
          5,
          1,
          10,
          5,
          5,
          10,
          5,
          5,
          1,
          1,
          10,
          5,
          5,
          5,
          5,
          1,
          5,
          5,
          10,
          10,
          1,
          1,
          1,
          1,
          1,
          5,
          1,
          5,
          1,
          1,
          1,
          1,
          1,
          1,
          5,
          1,
          1,
          1,
          5,
          0.5,
          5,
          1,
          1,
          5,
          1,
          1,
          1,
          1,
          1,
          1,
          1,
          1,
          1,
          1000,
          500,
          500,
          100,
          500,
          100,
          100,
          100,
          100,
          100,
          100,
          100,
          100,
          100,
          50,
          100,
          100,
          100,
          50,
          100,
          100,
          50,
          10,
          50,
          100,
          100,
          50,
          50,
          100,
          10,
          50,
          10,
          50,
          10,
          10,
          10,
          100,
          50,
          10,
          50,
          100,
          10,
          50,
          10,
          100,
          50,
          100,
          10,
          50,
          10,
          50,
          10,
          10,
          10,
          10,
          5,
          10,
          10,
          10,
          10,
          10,
          50,
          10,
          10,
          10,
          100,
          10,
          10,
          10,
          10,
          10,
          10,
          10,
          10,
          10,
          10,
          10,
          1,
          50,
          100,
          10,
          10,
          100,
          10,
          10,
          1,
          10,
          10,
          10,
          5,
          10,
          50,
          10,
          10,
          50,
          10,
          5,
          10,
          10,
          10,
          50,
          100,
          50,
          1,
          10,
          10,
          10,
          50,
          100,
          50,
          100,
          10,
          10,
          10,
          10,
          10,
          50,
          10,
          50,
          0.5,
          50,
          50,
          100,
          10,
          10,
          10,
          50,
          50,
          1,
          10,
          50,
          50,
          10,
          10,
          10,
          10,
          10,
          5,
          5,
          10,
          10,
          10,
          1,
          10,
          10,
          10,
          10,
          10,
          10,
          1,
          10,
          10,
          50,
          1,
          10,
          10,
          10,
          10,
          10,
          5,
          10,
          10,
          10,
          10,
          10,
          10,
          10,
          10,
          5,
          50,
          10,
          1,
          10,
          5,
          5,
          1,
          10,
          10,
          10,
          10,
          10,
          10,
          10,
          5,
          1,
          10,
          10,
          10,
          10,
          10,
          10,
          10,
          10,
          10,
          10,
          5,
          10,
          1,
          10,
          10,
          100,
          100,
          10,
          100,
          100,
          50,
          50,
          50,
          5,
          5,
          100,
          10,
          50,
          10,
          10,
          10,
          10,
          10,
          10,
          10,
          10,
          5,
          5,
          10,
          5,
          10,
          10,
          5,
          10,
          50,
          5,
          1,
          5,
          5,
          10,
          5,
          1,
          10,
          1,
          10,
          10,
          10,
          10,
          1,
          10,
          1,
          1,
          5,
          1,
          5,
          10,
          10,
          10,
          10,
          10,
          10,
          1,
          5,
          1,
          0.1,
          5,
          5,
          10,
          1,
          10,
          10,
          1,
          1,
          1,
          0.5,
          1,
          1,
          10,
          1,
          5,
          5,
          0.5,
          1,
          1,
          0.5,
          10,
          10,
          1,
          5,
          5,
          5,
          1,
          1,
          1,
          10,
          10,
          1,
          5,
          10,
          1,
          5,
          1,
          0.1,
          1,
          1,
          100,
          100,
          50,
          50,
          50,
          100,
          100,
          50,
          100,
          50,
          50,
          50,
          10,
          100,
          100,
          100,
          100,
          10,
          10,
          50,
          10,
          10,
          50,
          10,
          50,
          50,
          10,
          10,
          5,
          10,
          10,
          100,
          10,
          10,
          100,
          50,
          10,
          10,
          10,
          10,
          50,
          10,
          10,
          100,
          10,
          10,
          10,
          100,
          100,
          10,
          50,
          10,
          10,
          10,
          50,
          50,
          50,
          10,
          10,
          10,
          50,
          50,
          50,
          50,
          5,
          10,
          50,
          10,
          10,
          10,
          10,
          10,
          10,
          50,
          50,
          10,
          10,
          10,
          10,
          10,
          10,
          50,
          10,
          5,
          10,
          10,
          10,
          10,
          10,
          50,
          10,
          10,
          100,
          50,
          10,
          50,
          100,
          100,
          1,
          5,
          500,
          100,
          100,
          100,
          100,
          10,
          100,
          100,
          100,
          50,
          100,
          100,
          50,
          100,
          100,
          50,
          50,
          10,
          50,
          50,
          100,
          50,
          50,
          50,
          10,
          10,
          100,
          10,
          100,
          10,
          100,
          100,
          100,
          50,
          10,
          10,
          50,
          100,
          100,
          100,
          100,
          100,
          10,
          50,
          10,
          10,
          10,
          10,
          10,
          50,
          5,
          50,
          50,
          10,
          10,
          50,
          10,
          10,
          50,
          10,
          10,
          10,
          10,
          10,
          10,
          10,
          10,
          100,
          50,
          50,
          10,
          50,
          10,
          5,
          50,
          10,
          10,
          10,
          10,
          50,
          50,
          10,
          10,
          50,
          10,
          50,
          10,
          10,
          10,
          100,
          10,
          10,
          10,
          10,
          5,
          10,
          50,
          10,
          10,
          10,
          100,
          10,
          50,
          100,
          10,
          10,
          50,
          10,
          10,
          10,
          10,
          10,
          50,
          10,
          10,
          10,
          10,
          10,
          5,
          10,
          10,
          10,
          10,
          10,
          10,
          10,
          10,
          50,
          10,
          10,
          10,
          10,
          10,
          10,
          5,
          10,
          5,
          5,
          10,
          10,
          10,
          10,
          5,
          5,
          10,
          100,
          10,
          50,
          10,
          10,
          10,
          10,
          5,
          10,
          1,
          10,
          10,
          5,
          1,
          10,
          10,
          50,
          5,
          5,
          10,
          5,
          10,
          10,
          5,
          10,
          10,
          10,
          5,
          5,
          10,
          1,
          1,
          5,
          10,
          5,
          5,
          10,
          5,
          100,
          5,
          10,
          10,
          5,
          5,
          10,
          10,
          1,
          5,
          5,
          1,
          1,
          10,
          5,
          1,
          10,
          100,
          100,
          100,
          100,
          10,
          50,
          10,
          50,
          50,
          10,
          50,
          100,
          10,
          10,
          50,
          10,
          100,
          10,
          50,
          10,
          100,
          10,
          10,
          50,
          10,
          10,
          10,
          50,
          10,
          10,
          50,
          100,
          10,
          10,
          10,
          10,
          50,
          50,
          100,
          10,
          10,
          10,
          100,
          100,
          10,
          10,
          10,
          50,
          10,
          10,
          50,
          10,
          50,
          10,
          10,
          50,
          10,
          10,
          10,
          5,
          10,
          10,
          10,
          50,
          10,
          10,
          10,
          10,
          10,
          10,
          10,
          10,
          10,
          1,
          100,
          10,
          10,
          10,
          50,
          10,
          10,
          5,
          10,
          10,
          10,
          10,
          5,
          10,
          50,
          10,
          5,
          10,
          10,
          10,
          10,
          10,
          10,
          10,
          10,
          10,
          500,
          100,
          100,
          50,
          100,
          100,
          50,
          50,
          50,
          10,
          100,
          10,
          50,
          10,
          100,
          10,
          100,
          50,
          50,
          50,
          100,
          10,
          50,
          10,
          50,
          100,
          10,
          100,
          10,
          10,
          50,
          100,
          10,
          50,
          10,
          50,
          50,
          50,
          50,
          10,
          10,
          10,
          50,
          10,
          10,
          10,
          10,
          50,
          10,
          50,
          10,
          10,
          10,
          50,
          50,
          10,
          50,
          10,
          50,
          10,
          10,
          10,
          10,
          10,
          10,
          10,
          5,
          10,
          5,
          10,
          10,
          10,
          10,
          10,
          10,
          10,
          10,
          10,
          10,
          5,
          10,
          10,
          10,
          1,
          10,
          10,
          10,
          10,
          10,
          5,
          10,
          10,
          10,
          10,
          10,
          5,
          5,
          10,
          10,
          10,
          500,
          100,
          100,
          50,
          100,
          100,
          10,
          100,
          50,
          10,
          50,
          10,
          100,
          50,
          10,
          10,
          10,
          10,
          50,
          50,
          50,
          50,
          10,
          10,
          10,
          10,
          10,
          50,
          10,
          50,
          50,
          50,
          10,
          50,
          10,
          10,
          10,
          10,
          10,
          10,
          10,
          10,
          10,
          10,
          10,
          5,
          10,
          5,
          10,
          10,
          5,
          10,
          5,
          5,
          10,
          5,
          5,
          10,
          5,
          10,
          1,
          5,
          5,
          10,
          1,
          10,
          5,
          10,
          1,
          5,
          5,
          1,
          10,
          5,
          10,
          10,
          10,
          10,
          10,
          5,
          10,
          10,
          5,
          5,
          10,
          10,
          10,
          10,
          10,
          10,
          10,
          10,
          5,
          10,
          1,
          5,
          1,
          5,
          10,
          5,
          100,
          100,
          10,
          50,
          10,
          10,
          10,
          10,
          10,
          1,
          5,
          10,
          10,
          10,
          10,
          5,
          10,
          1,
          10,
          10,
          10,
          10,
          10,
          10,
          10,
          1,
          5,
          10,
          5,
          1,
          5,
          5,
          1,
          10,
          10,
          10,
          5,
          10,
          5,
          1,
          5,
          1,
          0.5,
          10,
          5,
          1,
          5,
          5,
          5,
          1,
          1,
          10,
          1,
          5,
          1,
          0.5,
          1,
          1,
          1,
          1,
          1,
          5,
          0.5,
          5,
          1,
          1,
          10,
          5,
          5,
          5,
          1,
          5,
          1,
          10,
          1,
          1,
          0.1,
          1,
          5,
          1,
          10,
          0.5,
          5,
          5,
          0.5,
          5,
          1,
          1,
          0.5,
          1,
          1,
          1,
          1,
          0.5,
          1,
          0.5,
          1,
          1,
          1,
          1,
          10,
          10,
          100,
          50,
          50,
          50,
          10,
          50,
          10,
          10,
          10,
          5,
          10,
          5,
          50,
          10,
          50,
          10,
          50,
          50,
          10,
          10,
          10,
          10,
          10,
          10,
          5,
          10,
          10,
          10,
          50,
          50,
          10,
          10,
          10,
          10,
          10,
          10,
          10,
          5,
          10,
          10,
          10,
          10,
          10,
          5,
          10,
          10,
          5,
          10,
          10,
          1,
          10,
          10,
          1,
          5,
          10,
          10,
          5,
          10,
          5,
          10,
          10,
          10,
          10,
          1,
          10,
          10,
          10,
          1,
          1,
          5,
          10,
          10,
          5,
          5,
          5,
          1,
          1,
          5,
          1,
          5,
          10,
          10,
          1,
          5,
          1,
          5,
          5,
          1,
          10,
          10,
          10,
          5,
          1,
          1,
          10,
          1,
          5,
          1,
          1,
          10,
          5,
          10
         ],
         "xaxis": "x",
         "yaxis": "y"
        },
        {
         "alignmentgroup": "True",
         "hovertemplate": "installs_in_million=%{x}<extra></extra>",
         "legendgroup": "",
         "marker": {
          "color": "#636efa"
         },
         "name": "",
         "notched": true,
         "offsetgroup": "",
         "showlegend": false,
         "type": "box",
         "x": [
          500,
          500,
          100,
          100,
          500,
          100,
          100,
          500,
          100,
          100,
          100,
          100,
          50,
          100,
          50,
          100,
          100,
          50,
          50,
          50,
          100,
          100,
          100,
          100,
          100,
          50,
          100,
          10,
          50,
          10,
          100,
          50,
          50,
          50,
          10,
          100,
          10,
          100,
          10,
          50,
          50,
          100,
          50,
          100,
          50,
          10,
          50,
          10,
          10,
          100,
          100,
          50,
          50,
          10,
          100,
          100,
          100,
          50,
          50,
          100,
          10,
          100,
          50,
          10,
          50,
          50,
          100,
          10,
          50,
          10,
          100,
          10,
          50,
          10,
          100,
          10,
          100,
          10,
          10,
          10,
          10,
          100,
          100,
          10,
          10,
          10,
          100,
          10,
          10,
          50,
          100,
          50,
          50,
          50,
          10,
          10,
          10,
          10,
          10,
          10,
          100,
          100,
          100,
          10,
          50,
          100,
          50,
          10,
          10,
          50,
          10,
          50,
          10,
          10,
          10,
          5,
          10,
          10,
          5,
          10,
          10,
          10,
          10,
          10,
          10,
          50,
          50,
          50,
          5,
          10,
          10,
          10,
          10,
          5,
          10,
          10,
          10,
          10,
          100,
          10,
          10,
          10,
          1,
          10,
          10,
          10,
          10,
          10,
          10,
          10,
          10,
          10,
          5,
          10,
          10,
          50,
          10,
          10,
          10,
          10,
          10,
          10,
          5,
          100,
          10,
          1,
          10,
          5,
          5,
          10,
          50,
          10,
          10,
          10,
          1,
          10,
          10,
          10,
          10,
          5,
          10,
          10,
          10,
          1,
          5,
          10,
          1,
          50,
          5,
          10,
          10,
          1,
          10,
          1,
          5,
          1,
          10,
          10,
          5,
          10,
          1000,
          100,
          100,
          100,
          100,
          100,
          100,
          500,
          100,
          10,
          100,
          100,
          10,
          100,
          100,
          100,
          100,
          50,
          100,
          100,
          50,
          100,
          100,
          50,
          100,
          10,
          100,
          100,
          100,
          100,
          10,
          100,
          100,
          100,
          100,
          100,
          50,
          50,
          10,
          50,
          100,
          50,
          50,
          100,
          100,
          100,
          50,
          50,
          50,
          100,
          100,
          50,
          50,
          100,
          10,
          100,
          100,
          100,
          10,
          50,
          1,
          10,
          50,
          50,
          10,
          100,
          10,
          50,
          100,
          50,
          100,
          50,
          10,
          10,
          10,
          50,
          10,
          10,
          10,
          10,
          10,
          50,
          50,
          10,
          10,
          50,
          10,
          10,
          10,
          10,
          10,
          10,
          100,
          10,
          10,
          50,
          10,
          10,
          50,
          10,
          500,
          100,
          10,
          50,
          10,
          100,
          100,
          100,
          10,
          50,
          10,
          10,
          10,
          5,
          10,
          10,
          10,
          100,
          50,
          10,
          5,
          5,
          10,
          10,
          50,
          5,
          50,
          10,
          10,
          5,
          5,
          10,
          50,
          5,
          10,
          10,
          10,
          5,
          10,
          10,
          10,
          1,
          50,
          10,
          10,
          50,
          1,
          10,
          5,
          10,
          10,
          10,
          5,
          10,
          5,
          5,
          5,
          5,
          5,
          5,
          5,
          5,
          50,
          50,
          50,
          10,
          10,
          5,
          1,
          10,
          1,
          10,
          5,
          10,
          1,
          5,
          10,
          1,
          10,
          5,
          10,
          10,
          5,
          5,
          5,
          5,
          1,
          5,
          10,
          1,
          10,
          10,
          1,
          10,
          1,
          5,
          10,
          1,
          1,
          1,
          50,
          10,
          100,
          100,
          100,
          100,
          50,
          10,
          10,
          50,
          10,
          10,
          50,
          50,
          50,
          50,
          10,
          10,
          50,
          50,
          50,
          50,
          10,
          10,
          10,
          10,
          10,
          10,
          10,
          10,
          10,
          5,
          10,
          5,
          5,
          10,
          1,
          1,
          10,
          1,
          10,
          5,
          10,
          10,
          5,
          10,
          10,
          10,
          10,
          5,
          1,
          5,
          5,
          5,
          5,
          5,
          5,
          1,
          5,
          5,
          5,
          5,
          1,
          1,
          5,
          5,
          5,
          1,
          5,
          5,
          5,
          1,
          5,
          5,
          5,
          1,
          5,
          0.5,
          5,
          10,
          1,
          10,
          10,
          10,
          1,
          0.5,
          1,
          1,
          1,
          5,
          10,
          10,
          1,
          5,
          1,
          1,
          1,
          1,
          5,
          1,
          1,
          10,
          10,
          1,
          5,
          5,
          5,
          5,
          5,
          5,
          1,
          10,
          10,
          10,
          1,
          1,
          10,
          10,
          10,
          1,
          1,
          10,
          1,
          1,
          1,
          1,
          50,
          50,
          50,
          50,
          50,
          10,
          10,
          10,
          10,
          10,
          10,
          5,
          10,
          10,
          10,
          10,
          10,
          5,
          10,
          10,
          10,
          5,
          10,
          5,
          10,
          10,
          10,
          10,
          10,
          1,
          5,
          10,
          5,
          10,
          10,
          10,
          10,
          10,
          5,
          5,
          10,
          5,
          10,
          5,
          10,
          10,
          5,
          5,
          1,
          10,
          5,
          5,
          10,
          5,
          5,
          1,
          1,
          10,
          5,
          5,
          5,
          5,
          1,
          5,
          5,
          10,
          10,
          1,
          1,
          1,
          1,
          1,
          5,
          1,
          5,
          1,
          1,
          1,
          1,
          1,
          1,
          5,
          1,
          1,
          1,
          5,
          0.5,
          5,
          1,
          1,
          5,
          1,
          1,
          1,
          1,
          1,
          1,
          1,
          1,
          1,
          1000,
          500,
          500,
          100,
          500,
          100,
          100,
          100,
          100,
          100,
          100,
          100,
          100,
          100,
          50,
          100,
          100,
          100,
          50,
          100,
          100,
          50,
          10,
          50,
          100,
          100,
          50,
          50,
          100,
          10,
          50,
          10,
          50,
          10,
          10,
          10,
          100,
          50,
          10,
          50,
          100,
          10,
          50,
          10,
          100,
          50,
          100,
          10,
          50,
          10,
          50,
          10,
          10,
          10,
          10,
          5,
          10,
          10,
          10,
          10,
          10,
          50,
          10,
          10,
          10,
          100,
          10,
          10,
          10,
          10,
          10,
          10,
          10,
          10,
          10,
          10,
          10,
          1,
          50,
          100,
          10,
          10,
          100,
          10,
          10,
          1,
          10,
          10,
          10,
          5,
          10,
          50,
          10,
          10,
          50,
          10,
          5,
          10,
          10,
          10,
          50,
          100,
          50,
          1,
          10,
          10,
          10,
          50,
          100,
          50,
          100,
          10,
          10,
          10,
          10,
          10,
          50,
          10,
          50,
          0.5,
          50,
          50,
          100,
          10,
          10,
          10,
          50,
          50,
          1,
          10,
          50,
          50,
          10,
          10,
          10,
          10,
          10,
          5,
          5,
          10,
          10,
          10,
          1,
          10,
          10,
          10,
          10,
          10,
          10,
          1,
          10,
          10,
          50,
          1,
          10,
          10,
          10,
          10,
          10,
          5,
          10,
          10,
          10,
          10,
          10,
          10,
          10,
          10,
          5,
          50,
          10,
          1,
          10,
          5,
          5,
          1,
          10,
          10,
          10,
          10,
          10,
          10,
          10,
          5,
          1,
          10,
          10,
          10,
          10,
          10,
          10,
          10,
          10,
          10,
          10,
          5,
          10,
          1,
          10,
          10,
          100,
          100,
          10,
          100,
          100,
          50,
          50,
          50,
          5,
          5,
          100,
          10,
          50,
          10,
          10,
          10,
          10,
          10,
          10,
          10,
          10,
          5,
          5,
          10,
          5,
          10,
          10,
          5,
          10,
          50,
          5,
          1,
          5,
          5,
          10,
          5,
          1,
          10,
          1,
          10,
          10,
          10,
          10,
          1,
          10,
          1,
          1,
          5,
          1,
          5,
          10,
          10,
          10,
          10,
          10,
          10,
          1,
          5,
          1,
          0.1,
          5,
          5,
          10,
          1,
          10,
          10,
          1,
          1,
          1,
          0.5,
          1,
          1,
          10,
          1,
          5,
          5,
          0.5,
          1,
          1,
          0.5,
          10,
          10,
          1,
          5,
          5,
          5,
          1,
          1,
          1,
          10,
          10,
          1,
          5,
          10,
          1,
          5,
          1,
          0.1,
          1,
          1,
          100,
          100,
          50,
          50,
          50,
          100,
          100,
          50,
          100,
          50,
          50,
          50,
          10,
          100,
          100,
          100,
          100,
          10,
          10,
          50,
          10,
          10,
          50,
          10,
          50,
          50,
          10,
          10,
          5,
          10,
          10,
          100,
          10,
          10,
          100,
          50,
          10,
          10,
          10,
          10,
          50,
          10,
          10,
          100,
          10,
          10,
          10,
          100,
          100,
          10,
          50,
          10,
          10,
          10,
          50,
          50,
          50,
          10,
          10,
          10,
          50,
          50,
          50,
          50,
          5,
          10,
          50,
          10,
          10,
          10,
          10,
          10,
          10,
          50,
          50,
          10,
          10,
          10,
          10,
          10,
          10,
          50,
          10,
          5,
          10,
          10,
          10,
          10,
          10,
          50,
          10,
          10,
          100,
          50,
          10,
          50,
          100,
          100,
          1,
          5,
          500,
          100,
          100,
          100,
          100,
          10,
          100,
          100,
          100,
          50,
          100,
          100,
          50,
          100,
          100,
          50,
          50,
          10,
          50,
          50,
          100,
          50,
          50,
          50,
          10,
          10,
          100,
          10,
          100,
          10,
          100,
          100,
          100,
          50,
          10,
          10,
          50,
          100,
          100,
          100,
          100,
          100,
          10,
          50,
          10,
          10,
          10,
          10,
          10,
          50,
          5,
          50,
          50,
          10,
          10,
          50,
          10,
          10,
          50,
          10,
          10,
          10,
          10,
          10,
          10,
          10,
          10,
          100,
          50,
          50,
          10,
          50,
          10,
          5,
          50,
          10,
          10,
          10,
          10,
          50,
          50,
          10,
          10,
          50,
          10,
          50,
          10,
          10,
          10,
          100,
          10,
          10,
          10,
          10,
          5,
          10,
          50,
          10,
          10,
          10,
          100,
          10,
          50,
          100,
          10,
          10,
          50,
          10,
          10,
          10,
          10,
          10,
          50,
          10,
          10,
          10,
          10,
          10,
          5,
          10,
          10,
          10,
          10,
          10,
          10,
          10,
          10,
          50,
          10,
          10,
          10,
          10,
          10,
          10,
          5,
          10,
          5,
          5,
          10,
          10,
          10,
          10,
          5,
          5,
          10,
          100,
          10,
          50,
          10,
          10,
          10,
          10,
          5,
          10,
          1,
          10,
          10,
          5,
          1,
          10,
          10,
          50,
          5,
          5,
          10,
          5,
          10,
          10,
          5,
          10,
          10,
          10,
          5,
          5,
          10,
          1,
          1,
          5,
          10,
          5,
          5,
          10,
          5,
          100,
          5,
          10,
          10,
          5,
          5,
          10,
          10,
          1,
          5,
          5,
          1,
          1,
          10,
          5,
          1,
          10,
          100,
          100,
          100,
          100,
          10,
          50,
          10,
          50,
          50,
          10,
          50,
          100,
          10,
          10,
          50,
          10,
          100,
          10,
          50,
          10,
          100,
          10,
          10,
          50,
          10,
          10,
          10,
          50,
          10,
          10,
          50,
          100,
          10,
          10,
          10,
          10,
          50,
          50,
          100,
          10,
          10,
          10,
          100,
          100,
          10,
          10,
          10,
          50,
          10,
          10,
          50,
          10,
          50,
          10,
          10,
          50,
          10,
          10,
          10,
          5,
          10,
          10,
          10,
          50,
          10,
          10,
          10,
          10,
          10,
          10,
          10,
          10,
          10,
          1,
          100,
          10,
          10,
          10,
          50,
          10,
          10,
          5,
          10,
          10,
          10,
          10,
          5,
          10,
          50,
          10,
          5,
          10,
          10,
          10,
          10,
          10,
          10,
          10,
          10,
          10,
          500,
          100,
          100,
          50,
          100,
          100,
          50,
          50,
          50,
          10,
          100,
          10,
          50,
          10,
          100,
          10,
          100,
          50,
          50,
          50,
          100,
          10,
          50,
          10,
          50,
          100,
          10,
          100,
          10,
          10,
          50,
          100,
          10,
          50,
          10,
          50,
          50,
          50,
          50,
          10,
          10,
          10,
          50,
          10,
          10,
          10,
          10,
          50,
          10,
          50,
          10,
          10,
          10,
          50,
          50,
          10,
          50,
          10,
          50,
          10,
          10,
          10,
          10,
          10,
          10,
          10,
          5,
          10,
          5,
          10,
          10,
          10,
          10,
          10,
          10,
          10,
          10,
          10,
          10,
          5,
          10,
          10,
          10,
          1,
          10,
          10,
          10,
          10,
          10,
          5,
          10,
          10,
          10,
          10,
          10,
          5,
          5,
          10,
          10,
          10,
          500,
          100,
          100,
          50,
          100,
          100,
          10,
          100,
          50,
          10,
          50,
          10,
          100,
          50,
          10,
          10,
          10,
          10,
          50,
          50,
          50,
          50,
          10,
          10,
          10,
          10,
          10,
          50,
          10,
          50,
          50,
          50,
          10,
          50,
          10,
          10,
          10,
          10,
          10,
          10,
          10,
          10,
          10,
          10,
          10,
          5,
          10,
          5,
          10,
          10,
          5,
          10,
          5,
          5,
          10,
          5,
          5,
          10,
          5,
          10,
          1,
          5,
          5,
          10,
          1,
          10,
          5,
          10,
          1,
          5,
          5,
          1,
          10,
          5,
          10,
          10,
          10,
          10,
          10,
          5,
          10,
          10,
          5,
          5,
          10,
          10,
          10,
          10,
          10,
          10,
          10,
          10,
          5,
          10,
          1,
          5,
          1,
          5,
          10,
          5,
          100,
          100,
          10,
          50,
          10,
          10,
          10,
          10,
          10,
          1,
          5,
          10,
          10,
          10,
          10,
          5,
          10,
          1,
          10,
          10,
          10,
          10,
          10,
          10,
          10,
          1,
          5,
          10,
          5,
          1,
          5,
          5,
          1,
          10,
          10,
          10,
          5,
          10,
          5,
          1,
          5,
          1,
          0.5,
          10,
          5,
          1,
          5,
          5,
          5,
          1,
          1,
          10,
          1,
          5,
          1,
          0.5,
          1,
          1,
          1,
          1,
          1,
          5,
          0.5,
          5,
          1,
          1,
          10,
          5,
          5,
          5,
          1,
          5,
          1,
          10,
          1,
          1,
          0.1,
          1,
          5,
          1,
          10,
          0.5,
          5,
          5,
          0.5,
          5,
          1,
          1,
          0.5,
          1,
          1,
          1,
          1,
          0.5,
          1,
          0.5,
          1,
          1,
          1,
          1,
          10,
          10,
          100,
          50,
          50,
          50,
          10,
          50,
          10,
          10,
          10,
          5,
          10,
          5,
          50,
          10,
          50,
          10,
          50,
          50,
          10,
          10,
          10,
          10,
          10,
          10,
          5,
          10,
          10,
          10,
          50,
          50,
          10,
          10,
          10,
          10,
          10,
          10,
          10,
          5,
          10,
          10,
          10,
          10,
          10,
          5,
          10,
          10,
          5,
          10,
          10,
          1,
          10,
          10,
          1,
          5,
          10,
          10,
          5,
          10,
          5,
          10,
          10,
          10,
          10,
          1,
          10,
          10,
          10,
          1,
          1,
          5,
          10,
          10,
          5,
          5,
          5,
          1,
          1,
          5,
          1,
          5,
          10,
          10,
          1,
          5,
          1,
          5,
          5,
          1,
          10,
          10,
          10,
          5,
          1,
          1,
          10,
          1,
          5,
          1,
          1,
          10,
          5,
          10
         ],
         "xaxis": "x2",
         "yaxis": "y2"
        }
       ],
       "layout": {
        "barmode": "relative",
        "legend": {
         "tracegroupgap": 0
        },
        "template": {
         "data": {
          "bar": [
           {
            "error_x": {
             "color": "#2a3f5f"
            },
            "error_y": {
             "color": "#2a3f5f"
            },
            "marker": {
             "line": {
              "color": "#E5ECF6",
              "width": 0.5
             },
             "pattern": {
              "fillmode": "overlay",
              "size": 10,
              "solidity": 0.2
             }
            },
            "type": "bar"
           }
          ],
          "barpolar": [
           {
            "marker": {
             "line": {
              "color": "#E5ECF6",
              "width": 0.5
             },
             "pattern": {
              "fillmode": "overlay",
              "size": 10,
              "solidity": 0.2
             }
            },
            "type": "barpolar"
           }
          ],
          "carpet": [
           {
            "aaxis": {
             "endlinecolor": "#2a3f5f",
             "gridcolor": "white",
             "linecolor": "white",
             "minorgridcolor": "white",
             "startlinecolor": "#2a3f5f"
            },
            "baxis": {
             "endlinecolor": "#2a3f5f",
             "gridcolor": "white",
             "linecolor": "white",
             "minorgridcolor": "white",
             "startlinecolor": "#2a3f5f"
            },
            "type": "carpet"
           }
          ],
          "choropleth": [
           {
            "colorbar": {
             "outlinewidth": 0,
             "ticks": ""
            },
            "type": "choropleth"
           }
          ],
          "contour": [
           {
            "colorbar": {
             "outlinewidth": 0,
             "ticks": ""
            },
            "colorscale": [
             [
              0,
              "#0d0887"
             ],
             [
              0.1111111111111111,
              "#46039f"
             ],
             [
              0.2222222222222222,
              "#7201a8"
             ],
             [
              0.3333333333333333,
              "#9c179e"
             ],
             [
              0.4444444444444444,
              "#bd3786"
             ],
             [
              0.5555555555555556,
              "#d8576b"
             ],
             [
              0.6666666666666666,
              "#ed7953"
             ],
             [
              0.7777777777777778,
              "#fb9f3a"
             ],
             [
              0.8888888888888888,
              "#fdca26"
             ],
             [
              1,
              "#f0f921"
             ]
            ],
            "type": "contour"
           }
          ],
          "contourcarpet": [
           {
            "colorbar": {
             "outlinewidth": 0,
             "ticks": ""
            },
            "type": "contourcarpet"
           }
          ],
          "heatmap": [
           {
            "colorbar": {
             "outlinewidth": 0,
             "ticks": ""
            },
            "colorscale": [
             [
              0,
              "#0d0887"
             ],
             [
              0.1111111111111111,
              "#46039f"
             ],
             [
              0.2222222222222222,
              "#7201a8"
             ],
             [
              0.3333333333333333,
              "#9c179e"
             ],
             [
              0.4444444444444444,
              "#bd3786"
             ],
             [
              0.5555555555555556,
              "#d8576b"
             ],
             [
              0.6666666666666666,
              "#ed7953"
             ],
             [
              0.7777777777777778,
              "#fb9f3a"
             ],
             [
              0.8888888888888888,
              "#fdca26"
             ],
             [
              1,
              "#f0f921"
             ]
            ],
            "type": "heatmap"
           }
          ],
          "heatmapgl": [
           {
            "colorbar": {
             "outlinewidth": 0,
             "ticks": ""
            },
            "colorscale": [
             [
              0,
              "#0d0887"
             ],
             [
              0.1111111111111111,
              "#46039f"
             ],
             [
              0.2222222222222222,
              "#7201a8"
             ],
             [
              0.3333333333333333,
              "#9c179e"
             ],
             [
              0.4444444444444444,
              "#bd3786"
             ],
             [
              0.5555555555555556,
              "#d8576b"
             ],
             [
              0.6666666666666666,
              "#ed7953"
             ],
             [
              0.7777777777777778,
              "#fb9f3a"
             ],
             [
              0.8888888888888888,
              "#fdca26"
             ],
             [
              1,
              "#f0f921"
             ]
            ],
            "type": "heatmapgl"
           }
          ],
          "histogram": [
           {
            "marker": {
             "pattern": {
              "fillmode": "overlay",
              "size": 10,
              "solidity": 0.2
             }
            },
            "type": "histogram"
           }
          ],
          "histogram2d": [
           {
            "colorbar": {
             "outlinewidth": 0,
             "ticks": ""
            },
            "colorscale": [
             [
              0,
              "#0d0887"
             ],
             [
              0.1111111111111111,
              "#46039f"
             ],
             [
              0.2222222222222222,
              "#7201a8"
             ],
             [
              0.3333333333333333,
              "#9c179e"
             ],
             [
              0.4444444444444444,
              "#bd3786"
             ],
             [
              0.5555555555555556,
              "#d8576b"
             ],
             [
              0.6666666666666666,
              "#ed7953"
             ],
             [
              0.7777777777777778,
              "#fb9f3a"
             ],
             [
              0.8888888888888888,
              "#fdca26"
             ],
             [
              1,
              "#f0f921"
             ]
            ],
            "type": "histogram2d"
           }
          ],
          "histogram2dcontour": [
           {
            "colorbar": {
             "outlinewidth": 0,
             "ticks": ""
            },
            "colorscale": [
             [
              0,
              "#0d0887"
             ],
             [
              0.1111111111111111,
              "#46039f"
             ],
             [
              0.2222222222222222,
              "#7201a8"
             ],
             [
              0.3333333333333333,
              "#9c179e"
             ],
             [
              0.4444444444444444,
              "#bd3786"
             ],
             [
              0.5555555555555556,
              "#d8576b"
             ],
             [
              0.6666666666666666,
              "#ed7953"
             ],
             [
              0.7777777777777778,
              "#fb9f3a"
             ],
             [
              0.8888888888888888,
              "#fdca26"
             ],
             [
              1,
              "#f0f921"
             ]
            ],
            "type": "histogram2dcontour"
           }
          ],
          "mesh3d": [
           {
            "colorbar": {
             "outlinewidth": 0,
             "ticks": ""
            },
            "type": "mesh3d"
           }
          ],
          "parcoords": [
           {
            "line": {
             "colorbar": {
              "outlinewidth": 0,
              "ticks": ""
             }
            },
            "type": "parcoords"
           }
          ],
          "pie": [
           {
            "automargin": true,
            "type": "pie"
           }
          ],
          "scatter": [
           {
            "marker": {
             "colorbar": {
              "outlinewidth": 0,
              "ticks": ""
             }
            },
            "type": "scatter"
           }
          ],
          "scatter3d": [
           {
            "line": {
             "colorbar": {
              "outlinewidth": 0,
              "ticks": ""
             }
            },
            "marker": {
             "colorbar": {
              "outlinewidth": 0,
              "ticks": ""
             }
            },
            "type": "scatter3d"
           }
          ],
          "scattercarpet": [
           {
            "marker": {
             "colorbar": {
              "outlinewidth": 0,
              "ticks": ""
             }
            },
            "type": "scattercarpet"
           }
          ],
          "scattergeo": [
           {
            "marker": {
             "colorbar": {
              "outlinewidth": 0,
              "ticks": ""
             }
            },
            "type": "scattergeo"
           }
          ],
          "scattergl": [
           {
            "marker": {
             "colorbar": {
              "outlinewidth": 0,
              "ticks": ""
             }
            },
            "type": "scattergl"
           }
          ],
          "scattermapbox": [
           {
            "marker": {
             "colorbar": {
              "outlinewidth": 0,
              "ticks": ""
             }
            },
            "type": "scattermapbox"
           }
          ],
          "scatterpolar": [
           {
            "marker": {
             "colorbar": {
              "outlinewidth": 0,
              "ticks": ""
             }
            },
            "type": "scatterpolar"
           }
          ],
          "scatterpolargl": [
           {
            "marker": {
             "colorbar": {
              "outlinewidth": 0,
              "ticks": ""
             }
            },
            "type": "scatterpolargl"
           }
          ],
          "scatterternary": [
           {
            "marker": {
             "colorbar": {
              "outlinewidth": 0,
              "ticks": ""
             }
            },
            "type": "scatterternary"
           }
          ],
          "surface": [
           {
            "colorbar": {
             "outlinewidth": 0,
             "ticks": ""
            },
            "colorscale": [
             [
              0,
              "#0d0887"
             ],
             [
              0.1111111111111111,
              "#46039f"
             ],
             [
              0.2222222222222222,
              "#7201a8"
             ],
             [
              0.3333333333333333,
              "#9c179e"
             ],
             [
              0.4444444444444444,
              "#bd3786"
             ],
             [
              0.5555555555555556,
              "#d8576b"
             ],
             [
              0.6666666666666666,
              "#ed7953"
             ],
             [
              0.7777777777777778,
              "#fb9f3a"
             ],
             [
              0.8888888888888888,
              "#fdca26"
             ],
             [
              1,
              "#f0f921"
             ]
            ],
            "type": "surface"
           }
          ],
          "table": [
           {
            "cells": {
             "fill": {
              "color": "#EBF0F8"
             },
             "line": {
              "color": "white"
             }
            },
            "header": {
             "fill": {
              "color": "#C8D4E3"
             },
             "line": {
              "color": "white"
             }
            },
            "type": "table"
           }
          ]
         },
         "layout": {
          "annotationdefaults": {
           "arrowcolor": "#2a3f5f",
           "arrowhead": 0,
           "arrowwidth": 1
          },
          "autotypenumbers": "strict",
          "coloraxis": {
           "colorbar": {
            "outlinewidth": 0,
            "ticks": ""
           }
          },
          "colorscale": {
           "diverging": [
            [
             0,
             "#8e0152"
            ],
            [
             0.1,
             "#c51b7d"
            ],
            [
             0.2,
             "#de77ae"
            ],
            [
             0.3,
             "#f1b6da"
            ],
            [
             0.4,
             "#fde0ef"
            ],
            [
             0.5,
             "#f7f7f7"
            ],
            [
             0.6,
             "#e6f5d0"
            ],
            [
             0.7,
             "#b8e186"
            ],
            [
             0.8,
             "#7fbc41"
            ],
            [
             0.9,
             "#4d9221"
            ],
            [
             1,
             "#276419"
            ]
           ],
           "sequential": [
            [
             0,
             "#0d0887"
            ],
            [
             0.1111111111111111,
             "#46039f"
            ],
            [
             0.2222222222222222,
             "#7201a8"
            ],
            [
             0.3333333333333333,
             "#9c179e"
            ],
            [
             0.4444444444444444,
             "#bd3786"
            ],
            [
             0.5555555555555556,
             "#d8576b"
            ],
            [
             0.6666666666666666,
             "#ed7953"
            ],
            [
             0.7777777777777778,
             "#fb9f3a"
            ],
            [
             0.8888888888888888,
             "#fdca26"
            ],
            [
             1,
             "#f0f921"
            ]
           ],
           "sequentialminus": [
            [
             0,
             "#0d0887"
            ],
            [
             0.1111111111111111,
             "#46039f"
            ],
            [
             0.2222222222222222,
             "#7201a8"
            ],
            [
             0.3333333333333333,
             "#9c179e"
            ],
            [
             0.4444444444444444,
             "#bd3786"
            ],
            [
             0.5555555555555556,
             "#d8576b"
            ],
            [
             0.6666666666666666,
             "#ed7953"
            ],
            [
             0.7777777777777778,
             "#fb9f3a"
            ],
            [
             0.8888888888888888,
             "#fdca26"
            ],
            [
             1,
             "#f0f921"
            ]
           ]
          },
          "colorway": [
           "#636efa",
           "#EF553B",
           "#00cc96",
           "#ab63fa",
           "#FFA15A",
           "#19d3f3",
           "#FF6692",
           "#B6E880",
           "#FF97FF",
           "#FECB52"
          ],
          "font": {
           "color": "#2a3f5f"
          },
          "geo": {
           "bgcolor": "white",
           "lakecolor": "white",
           "landcolor": "#E5ECF6",
           "showlakes": true,
           "showland": true,
           "subunitcolor": "white"
          },
          "hoverlabel": {
           "align": "left"
          },
          "hovermode": "closest",
          "mapbox": {
           "style": "light"
          },
          "paper_bgcolor": "white",
          "plot_bgcolor": "#E5ECF6",
          "polar": {
           "angularaxis": {
            "gridcolor": "white",
            "linecolor": "white",
            "ticks": ""
           },
           "bgcolor": "#E5ECF6",
           "radialaxis": {
            "gridcolor": "white",
            "linecolor": "white",
            "ticks": ""
           }
          },
          "scene": {
           "xaxis": {
            "backgroundcolor": "#E5ECF6",
            "gridcolor": "white",
            "gridwidth": 2,
            "linecolor": "white",
            "showbackground": true,
            "ticks": "",
            "zerolinecolor": "white"
           },
           "yaxis": {
            "backgroundcolor": "#E5ECF6",
            "gridcolor": "white",
            "gridwidth": 2,
            "linecolor": "white",
            "showbackground": true,
            "ticks": "",
            "zerolinecolor": "white"
           },
           "zaxis": {
            "backgroundcolor": "#E5ECF6",
            "gridcolor": "white",
            "gridwidth": 2,
            "linecolor": "white",
            "showbackground": true,
            "ticks": "",
            "zerolinecolor": "white"
           }
          },
          "shapedefaults": {
           "line": {
            "color": "#2a3f5f"
           }
          },
          "ternary": {
           "aaxis": {
            "gridcolor": "white",
            "linecolor": "white",
            "ticks": ""
           },
           "baxis": {
            "gridcolor": "white",
            "linecolor": "white",
            "ticks": ""
           },
           "bgcolor": "#E5ECF6",
           "caxis": {
            "gridcolor": "white",
            "linecolor": "white",
            "ticks": ""
           }
          },
          "title": {
           "x": 0.05
          },
          "xaxis": {
           "automargin": true,
           "gridcolor": "white",
           "linecolor": "white",
           "ticks": "",
           "title": {
            "standoff": 15
           },
           "zerolinecolor": "white",
           "zerolinewidth": 2
          },
          "yaxis": {
           "automargin": true,
           "gridcolor": "white",
           "linecolor": "white",
           "ticks": "",
           "title": {
            "standoff": 15
           },
           "zerolinecolor": "white",
           "zerolinewidth": 2
          }
         }
        },
        "title": {
         "text": "Number of Game Installed"
        },
        "xaxis": {
         "anchor": "y",
         "domain": [
          0,
          1
         ],
         "title": {
          "text": "installs_in_million"
         }
        },
        "xaxis2": {
         "anchor": "y2",
         "domain": [
          0,
          1
         ],
         "matches": "x",
         "showgrid": true,
         "showticklabels": false
        },
        "yaxis": {
         "anchor": "x",
         "domain": [
          0,
          0.8316
         ],
         "title": {
          "text": "count"
         }
        },
        "yaxis2": {
         "anchor": "x2",
         "domain": [
          0.8416,
          1
         ],
         "matches": "y2",
         "showgrid": false,
         "showline": false,
         "showticklabels": false,
         "ticks": ""
        }
       }
      },
      "text/html": [
       "<div>                            <div id=\"965cc066-6087-4e06-9718-26bef9b4518a\" class=\"plotly-graph-div\" style=\"height:525px; width:100%;\"></div>            <script type=\"text/javascript\">                require([\"plotly\"], function(Plotly) {                    window.PLOTLYENV=window.PLOTLYENV || {};                                    if (document.getElementById(\"965cc066-6087-4e06-9718-26bef9b4518a\")) {                    Plotly.newPlot(                        \"965cc066-6087-4e06-9718-26bef9b4518a\",                        [{\"alignmentgroup\":\"True\",\"bingroup\":\"x\",\"hovertemplate\":\"installs_in_million=%{x}<br>count=%{y}<extra></extra>\",\"legendgroup\":\"\",\"marker\":{\"color\":\"#636efa\",\"pattern\":{\"shape\":\"\"}},\"name\":\"\",\"offsetgroup\":\"\",\"orientation\":\"v\",\"showlegend\":false,\"type\":\"histogram\",\"x\":[500.0,500.0,100.0,100.0,500.0,100.0,100.0,500.0,100.0,100.0,100.0,100.0,50.0,100.0,50.0,100.0,100.0,50.0,50.0,50.0,100.0,100.0,100.0,100.0,100.0,50.0,100.0,10.0,50.0,10.0,100.0,50.0,50.0,50.0,10.0,100.0,10.0,100.0,10.0,50.0,50.0,100.0,50.0,100.0,50.0,10.0,50.0,10.0,10.0,100.0,100.0,50.0,50.0,10.0,100.0,100.0,100.0,50.0,50.0,100.0,10.0,100.0,50.0,10.0,50.0,50.0,100.0,10.0,50.0,10.0,100.0,10.0,50.0,10.0,100.0,10.0,100.0,10.0,10.0,10.0,10.0,100.0,100.0,10.0,10.0,10.0,100.0,10.0,10.0,50.0,100.0,50.0,50.0,50.0,10.0,10.0,10.0,10.0,10.0,10.0,100.0,100.0,100.0,10.0,50.0,100.0,50.0,10.0,10.0,50.0,10.0,50.0,10.0,10.0,10.0,5.0,10.0,10.0,5.0,10.0,10.0,10.0,10.0,10.0,10.0,50.0,50.0,50.0,5.0,10.0,10.0,10.0,10.0,5.0,10.0,10.0,10.0,10.0,100.0,10.0,10.0,10.0,1.0,10.0,10.0,10.0,10.0,10.0,10.0,10.0,10.0,10.0,5.0,10.0,10.0,50.0,10.0,10.0,10.0,10.0,10.0,10.0,5.0,100.0,10.0,1.0,10.0,5.0,5.0,10.0,50.0,10.0,10.0,10.0,1.0,10.0,10.0,10.0,10.0,5.0,10.0,10.0,10.0,1.0,5.0,10.0,1.0,50.0,5.0,10.0,10.0,1.0,10.0,1.0,5.0,1.0,10.0,10.0,5.0,10.0,1000.0,100.0,100.0,100.0,100.0,100.0,100.0,500.0,100.0,10.0,100.0,100.0,10.0,100.0,100.0,100.0,100.0,50.0,100.0,100.0,50.0,100.0,100.0,50.0,100.0,10.0,100.0,100.0,100.0,100.0,10.0,100.0,100.0,100.0,100.0,100.0,50.0,50.0,10.0,50.0,100.0,50.0,50.0,100.0,100.0,100.0,50.0,50.0,50.0,100.0,100.0,50.0,50.0,100.0,10.0,100.0,100.0,100.0,10.0,50.0,1.0,10.0,50.0,50.0,10.0,100.0,10.0,50.0,100.0,50.0,100.0,50.0,10.0,10.0,10.0,50.0,10.0,10.0,10.0,10.0,10.0,50.0,50.0,10.0,10.0,50.0,10.0,10.0,10.0,10.0,10.0,10.0,100.0,10.0,10.0,50.0,10.0,10.0,50.0,10.0,500.0,100.0,10.0,50.0,10.0,100.0,100.0,100.0,10.0,50.0,10.0,10.0,10.0,5.0,10.0,10.0,10.0,100.0,50.0,10.0,5.0,5.0,10.0,10.0,50.0,5.0,50.0,10.0,10.0,5.0,5.0,10.0,50.0,5.0,10.0,10.0,10.0,5.0,10.0,10.0,10.0,1.0,50.0,10.0,10.0,50.0,1.0,10.0,5.0,10.0,10.0,10.0,5.0,10.0,5.0,5.0,5.0,5.0,5.0,5.0,5.0,5.0,50.0,50.0,50.0,10.0,10.0,5.0,1.0,10.0,1.0,10.0,5.0,10.0,1.0,5.0,10.0,1.0,10.0,5.0,10.0,10.0,5.0,5.0,5.0,5.0,1.0,5.0,10.0,1.0,10.0,10.0,1.0,10.0,1.0,5.0,10.0,1.0,1.0,1.0,50.0,10.0,100.0,100.0,100.0,100.0,50.0,10.0,10.0,50.0,10.0,10.0,50.0,50.0,50.0,50.0,10.0,10.0,50.0,50.0,50.0,50.0,10.0,10.0,10.0,10.0,10.0,10.0,10.0,10.0,10.0,5.0,10.0,5.0,5.0,10.0,1.0,1.0,10.0,1.0,10.0,5.0,10.0,10.0,5.0,10.0,10.0,10.0,10.0,5.0,1.0,5.0,5.0,5.0,5.0,5.0,5.0,1.0,5.0,5.0,5.0,5.0,1.0,1.0,5.0,5.0,5.0,1.0,5.0,5.0,5.0,1.0,5.0,5.0,5.0,1.0,5.0,0.5,5.0,10.0,1.0,10.0,10.0,10.0,1.0,0.5,1.0,1.0,1.0,5.0,10.0,10.0,1.0,5.0,1.0,1.0,1.0,1.0,5.0,1.0,1.0,10.0,10.0,1.0,5.0,5.0,5.0,5.0,5.0,5.0,1.0,10.0,10.0,10.0,1.0,1.0,10.0,10.0,10.0,1.0,1.0,10.0,1.0,1.0,1.0,1.0,50.0,50.0,50.0,50.0,50.0,10.0,10.0,10.0,10.0,10.0,10.0,5.0,10.0,10.0,10.0,10.0,10.0,5.0,10.0,10.0,10.0,5.0,10.0,5.0,10.0,10.0,10.0,10.0,10.0,1.0,5.0,10.0,5.0,10.0,10.0,10.0,10.0,10.0,5.0,5.0,10.0,5.0,10.0,5.0,10.0,10.0,5.0,5.0,1.0,10.0,5.0,5.0,10.0,5.0,5.0,1.0,1.0,10.0,5.0,5.0,5.0,5.0,1.0,5.0,5.0,10.0,10.0,1.0,1.0,1.0,1.0,1.0,5.0,1.0,5.0,1.0,1.0,1.0,1.0,1.0,1.0,5.0,1.0,1.0,1.0,5.0,0.5,5.0,1.0,1.0,5.0,1.0,1.0,1.0,1.0,1.0,1.0,1.0,1.0,1.0,1000.0,500.0,500.0,100.0,500.0,100.0,100.0,100.0,100.0,100.0,100.0,100.0,100.0,100.0,50.0,100.0,100.0,100.0,50.0,100.0,100.0,50.0,10.0,50.0,100.0,100.0,50.0,50.0,100.0,10.0,50.0,10.0,50.0,10.0,10.0,10.0,100.0,50.0,10.0,50.0,100.0,10.0,50.0,10.0,100.0,50.0,100.0,10.0,50.0,10.0,50.0,10.0,10.0,10.0,10.0,5.0,10.0,10.0,10.0,10.0,10.0,50.0,10.0,10.0,10.0,100.0,10.0,10.0,10.0,10.0,10.0,10.0,10.0,10.0,10.0,10.0,10.0,1.0,50.0,100.0,10.0,10.0,100.0,10.0,10.0,1.0,10.0,10.0,10.0,5.0,10.0,50.0,10.0,10.0,50.0,10.0,5.0,10.0,10.0,10.0,50.0,100.0,50.0,1.0,10.0,10.0,10.0,50.0,100.0,50.0,100.0,10.0,10.0,10.0,10.0,10.0,50.0,10.0,50.0,0.5,50.0,50.0,100.0,10.0,10.0,10.0,50.0,50.0,1.0,10.0,50.0,50.0,10.0,10.0,10.0,10.0,10.0,5.0,5.0,10.0,10.0,10.0,1.0,10.0,10.0,10.0,10.0,10.0,10.0,1.0,10.0,10.0,50.0,1.0,10.0,10.0,10.0,10.0,10.0,5.0,10.0,10.0,10.0,10.0,10.0,10.0,10.0,10.0,5.0,50.0,10.0,1.0,10.0,5.0,5.0,1.0,10.0,10.0,10.0,10.0,10.0,10.0,10.0,5.0,1.0,10.0,10.0,10.0,10.0,10.0,10.0,10.0,10.0,10.0,10.0,5.0,10.0,1.0,10.0,10.0,100.0,100.0,10.0,100.0,100.0,50.0,50.0,50.0,5.0,5.0,100.0,10.0,50.0,10.0,10.0,10.0,10.0,10.0,10.0,10.0,10.0,5.0,5.0,10.0,5.0,10.0,10.0,5.0,10.0,50.0,5.0,1.0,5.0,5.0,10.0,5.0,1.0,10.0,1.0,10.0,10.0,10.0,10.0,1.0,10.0,1.0,1.0,5.0,1.0,5.0,10.0,10.0,10.0,10.0,10.0,10.0,1.0,5.0,1.0,0.1,5.0,5.0,10.0,1.0,10.0,10.0,1.0,1.0,1.0,0.5,1.0,1.0,10.0,1.0,5.0,5.0,0.5,1.0,1.0,0.5,10.0,10.0,1.0,5.0,5.0,5.0,1.0,1.0,1.0,10.0,10.0,1.0,5.0,10.0,1.0,5.0,1.0,0.1,1.0,1.0,100.0,100.0,50.0,50.0,50.0,100.0,100.0,50.0,100.0,50.0,50.0,50.0,10.0,100.0,100.0,100.0,100.0,10.0,10.0,50.0,10.0,10.0,50.0,10.0,50.0,50.0,10.0,10.0,5.0,10.0,10.0,100.0,10.0,10.0,100.0,50.0,10.0,10.0,10.0,10.0,50.0,10.0,10.0,100.0,10.0,10.0,10.0,100.0,100.0,10.0,50.0,10.0,10.0,10.0,50.0,50.0,50.0,10.0,10.0,10.0,50.0,50.0,50.0,50.0,5.0,10.0,50.0,10.0,10.0,10.0,10.0,10.0,10.0,50.0,50.0,10.0,10.0,10.0,10.0,10.0,10.0,50.0,10.0,5.0,10.0,10.0,10.0,10.0,10.0,50.0,10.0,10.0,100.0,50.0,10.0,50.0,100.0,100.0,1.0,5.0,500.0,100.0,100.0,100.0,100.0,10.0,100.0,100.0,100.0,50.0,100.0,100.0,50.0,100.0,100.0,50.0,50.0,10.0,50.0,50.0,100.0,50.0,50.0,50.0,10.0,10.0,100.0,10.0,100.0,10.0,100.0,100.0,100.0,50.0,10.0,10.0,50.0,100.0,100.0,100.0,100.0,100.0,10.0,50.0,10.0,10.0,10.0,10.0,10.0,50.0,5.0,50.0,50.0,10.0,10.0,50.0,10.0,10.0,50.0,10.0,10.0,10.0,10.0,10.0,10.0,10.0,10.0,100.0,50.0,50.0,10.0,50.0,10.0,5.0,50.0,10.0,10.0,10.0,10.0,50.0,50.0,10.0,10.0,50.0,10.0,50.0,10.0,10.0,10.0,100.0,10.0,10.0,10.0,10.0,5.0,10.0,50.0,10.0,10.0,10.0,100.0,10.0,50.0,100.0,10.0,10.0,50.0,10.0,10.0,10.0,10.0,10.0,50.0,10.0,10.0,10.0,10.0,10.0,5.0,10.0,10.0,10.0,10.0,10.0,10.0,10.0,10.0,50.0,10.0,10.0,10.0,10.0,10.0,10.0,5.0,10.0,5.0,5.0,10.0,10.0,10.0,10.0,5.0,5.0,10.0,100.0,10.0,50.0,10.0,10.0,10.0,10.0,5.0,10.0,1.0,10.0,10.0,5.0,1.0,10.0,10.0,50.0,5.0,5.0,10.0,5.0,10.0,10.0,5.0,10.0,10.0,10.0,5.0,5.0,10.0,1.0,1.0,5.0,10.0,5.0,5.0,10.0,5.0,100.0,5.0,10.0,10.0,5.0,5.0,10.0,10.0,1.0,5.0,5.0,1.0,1.0,10.0,5.0,1.0,10.0,100.0,100.0,100.0,100.0,10.0,50.0,10.0,50.0,50.0,10.0,50.0,100.0,10.0,10.0,50.0,10.0,100.0,10.0,50.0,10.0,100.0,10.0,10.0,50.0,10.0,10.0,10.0,50.0,10.0,10.0,50.0,100.0,10.0,10.0,10.0,10.0,50.0,50.0,100.0,10.0,10.0,10.0,100.0,100.0,10.0,10.0,10.0,50.0,10.0,10.0,50.0,10.0,50.0,10.0,10.0,50.0,10.0,10.0,10.0,5.0,10.0,10.0,10.0,50.0,10.0,10.0,10.0,10.0,10.0,10.0,10.0,10.0,10.0,1.0,100.0,10.0,10.0,10.0,50.0,10.0,10.0,5.0,10.0,10.0,10.0,10.0,5.0,10.0,50.0,10.0,5.0,10.0,10.0,10.0,10.0,10.0,10.0,10.0,10.0,10.0,500.0,100.0,100.0,50.0,100.0,100.0,50.0,50.0,50.0,10.0,100.0,10.0,50.0,10.0,100.0,10.0,100.0,50.0,50.0,50.0,100.0,10.0,50.0,10.0,50.0,100.0,10.0,100.0,10.0,10.0,50.0,100.0,10.0,50.0,10.0,50.0,50.0,50.0,50.0,10.0,10.0,10.0,50.0,10.0,10.0,10.0,10.0,50.0,10.0,50.0,10.0,10.0,10.0,50.0,50.0,10.0,50.0,10.0,50.0,10.0,10.0,10.0,10.0,10.0,10.0,10.0,5.0,10.0,5.0,10.0,10.0,10.0,10.0,10.0,10.0,10.0,10.0,10.0,10.0,5.0,10.0,10.0,10.0,1.0,10.0,10.0,10.0,10.0,10.0,5.0,10.0,10.0,10.0,10.0,10.0,5.0,5.0,10.0,10.0,10.0,500.0,100.0,100.0,50.0,100.0,100.0,10.0,100.0,50.0,10.0,50.0,10.0,100.0,50.0,10.0,10.0,10.0,10.0,50.0,50.0,50.0,50.0,10.0,10.0,10.0,10.0,10.0,50.0,10.0,50.0,50.0,50.0,10.0,50.0,10.0,10.0,10.0,10.0,10.0,10.0,10.0,10.0,10.0,10.0,10.0,5.0,10.0,5.0,10.0,10.0,5.0,10.0,5.0,5.0,10.0,5.0,5.0,10.0,5.0,10.0,1.0,5.0,5.0,10.0,1.0,10.0,5.0,10.0,1.0,5.0,5.0,1.0,10.0,5.0,10.0,10.0,10.0,10.0,10.0,5.0,10.0,10.0,5.0,5.0,10.0,10.0,10.0,10.0,10.0,10.0,10.0,10.0,5.0,10.0,1.0,5.0,1.0,5.0,10.0,5.0,100.0,100.0,10.0,50.0,10.0,10.0,10.0,10.0,10.0,1.0,5.0,10.0,10.0,10.0,10.0,5.0,10.0,1.0,10.0,10.0,10.0,10.0,10.0,10.0,10.0,1.0,5.0,10.0,5.0,1.0,5.0,5.0,1.0,10.0,10.0,10.0,5.0,10.0,5.0,1.0,5.0,1.0,0.5,10.0,5.0,1.0,5.0,5.0,5.0,1.0,1.0,10.0,1.0,5.0,1.0,0.5,1.0,1.0,1.0,1.0,1.0,5.0,0.5,5.0,1.0,1.0,10.0,5.0,5.0,5.0,1.0,5.0,1.0,10.0,1.0,1.0,0.1,1.0,5.0,1.0,10.0,0.5,5.0,5.0,0.5,5.0,1.0,1.0,0.5,1.0,1.0,1.0,1.0,0.5,1.0,0.5,1.0,1.0,1.0,1.0,10.0,10.0,100.0,50.0,50.0,50.0,10.0,50.0,10.0,10.0,10.0,5.0,10.0,5.0,50.0,10.0,50.0,10.0,50.0,50.0,10.0,10.0,10.0,10.0,10.0,10.0,5.0,10.0,10.0,10.0,50.0,50.0,10.0,10.0,10.0,10.0,10.0,10.0,10.0,5.0,10.0,10.0,10.0,10.0,10.0,5.0,10.0,10.0,5.0,10.0,10.0,1.0,10.0,10.0,1.0,5.0,10.0,10.0,5.0,10.0,5.0,10.0,10.0,10.0,10.0,1.0,10.0,10.0,10.0,1.0,1.0,5.0,10.0,10.0,5.0,5.0,5.0,1.0,1.0,5.0,1.0,5.0,10.0,10.0,1.0,5.0,1.0,5.0,5.0,1.0,10.0,10.0,10.0,5.0,1.0,1.0,10.0,1.0,5.0,1.0,1.0,10.0,5.0,10.0],\"xaxis\":\"x\",\"yaxis\":\"y\"},{\"alignmentgroup\":\"True\",\"hovertemplate\":\"installs_in_million=%{x}<extra></extra>\",\"legendgroup\":\"\",\"marker\":{\"color\":\"#636efa\"},\"name\":\"\",\"notched\":true,\"offsetgroup\":\"\",\"showlegend\":false,\"type\":\"box\",\"x\":[500.0,500.0,100.0,100.0,500.0,100.0,100.0,500.0,100.0,100.0,100.0,100.0,50.0,100.0,50.0,100.0,100.0,50.0,50.0,50.0,100.0,100.0,100.0,100.0,100.0,50.0,100.0,10.0,50.0,10.0,100.0,50.0,50.0,50.0,10.0,100.0,10.0,100.0,10.0,50.0,50.0,100.0,50.0,100.0,50.0,10.0,50.0,10.0,10.0,100.0,100.0,50.0,50.0,10.0,100.0,100.0,100.0,50.0,50.0,100.0,10.0,100.0,50.0,10.0,50.0,50.0,100.0,10.0,50.0,10.0,100.0,10.0,50.0,10.0,100.0,10.0,100.0,10.0,10.0,10.0,10.0,100.0,100.0,10.0,10.0,10.0,100.0,10.0,10.0,50.0,100.0,50.0,50.0,50.0,10.0,10.0,10.0,10.0,10.0,10.0,100.0,100.0,100.0,10.0,50.0,100.0,50.0,10.0,10.0,50.0,10.0,50.0,10.0,10.0,10.0,5.0,10.0,10.0,5.0,10.0,10.0,10.0,10.0,10.0,10.0,50.0,50.0,50.0,5.0,10.0,10.0,10.0,10.0,5.0,10.0,10.0,10.0,10.0,100.0,10.0,10.0,10.0,1.0,10.0,10.0,10.0,10.0,10.0,10.0,10.0,10.0,10.0,5.0,10.0,10.0,50.0,10.0,10.0,10.0,10.0,10.0,10.0,5.0,100.0,10.0,1.0,10.0,5.0,5.0,10.0,50.0,10.0,10.0,10.0,1.0,10.0,10.0,10.0,10.0,5.0,10.0,10.0,10.0,1.0,5.0,10.0,1.0,50.0,5.0,10.0,10.0,1.0,10.0,1.0,5.0,1.0,10.0,10.0,5.0,10.0,1000.0,100.0,100.0,100.0,100.0,100.0,100.0,500.0,100.0,10.0,100.0,100.0,10.0,100.0,100.0,100.0,100.0,50.0,100.0,100.0,50.0,100.0,100.0,50.0,100.0,10.0,100.0,100.0,100.0,100.0,10.0,100.0,100.0,100.0,100.0,100.0,50.0,50.0,10.0,50.0,100.0,50.0,50.0,100.0,100.0,100.0,50.0,50.0,50.0,100.0,100.0,50.0,50.0,100.0,10.0,100.0,100.0,100.0,10.0,50.0,1.0,10.0,50.0,50.0,10.0,100.0,10.0,50.0,100.0,50.0,100.0,50.0,10.0,10.0,10.0,50.0,10.0,10.0,10.0,10.0,10.0,50.0,50.0,10.0,10.0,50.0,10.0,10.0,10.0,10.0,10.0,10.0,100.0,10.0,10.0,50.0,10.0,10.0,50.0,10.0,500.0,100.0,10.0,50.0,10.0,100.0,100.0,100.0,10.0,50.0,10.0,10.0,10.0,5.0,10.0,10.0,10.0,100.0,50.0,10.0,5.0,5.0,10.0,10.0,50.0,5.0,50.0,10.0,10.0,5.0,5.0,10.0,50.0,5.0,10.0,10.0,10.0,5.0,10.0,10.0,10.0,1.0,50.0,10.0,10.0,50.0,1.0,10.0,5.0,10.0,10.0,10.0,5.0,10.0,5.0,5.0,5.0,5.0,5.0,5.0,5.0,5.0,50.0,50.0,50.0,10.0,10.0,5.0,1.0,10.0,1.0,10.0,5.0,10.0,1.0,5.0,10.0,1.0,10.0,5.0,10.0,10.0,5.0,5.0,5.0,5.0,1.0,5.0,10.0,1.0,10.0,10.0,1.0,10.0,1.0,5.0,10.0,1.0,1.0,1.0,50.0,10.0,100.0,100.0,100.0,100.0,50.0,10.0,10.0,50.0,10.0,10.0,50.0,50.0,50.0,50.0,10.0,10.0,50.0,50.0,50.0,50.0,10.0,10.0,10.0,10.0,10.0,10.0,10.0,10.0,10.0,5.0,10.0,5.0,5.0,10.0,1.0,1.0,10.0,1.0,10.0,5.0,10.0,10.0,5.0,10.0,10.0,10.0,10.0,5.0,1.0,5.0,5.0,5.0,5.0,5.0,5.0,1.0,5.0,5.0,5.0,5.0,1.0,1.0,5.0,5.0,5.0,1.0,5.0,5.0,5.0,1.0,5.0,5.0,5.0,1.0,5.0,0.5,5.0,10.0,1.0,10.0,10.0,10.0,1.0,0.5,1.0,1.0,1.0,5.0,10.0,10.0,1.0,5.0,1.0,1.0,1.0,1.0,5.0,1.0,1.0,10.0,10.0,1.0,5.0,5.0,5.0,5.0,5.0,5.0,1.0,10.0,10.0,10.0,1.0,1.0,10.0,10.0,10.0,1.0,1.0,10.0,1.0,1.0,1.0,1.0,50.0,50.0,50.0,50.0,50.0,10.0,10.0,10.0,10.0,10.0,10.0,5.0,10.0,10.0,10.0,10.0,10.0,5.0,10.0,10.0,10.0,5.0,10.0,5.0,10.0,10.0,10.0,10.0,10.0,1.0,5.0,10.0,5.0,10.0,10.0,10.0,10.0,10.0,5.0,5.0,10.0,5.0,10.0,5.0,10.0,10.0,5.0,5.0,1.0,10.0,5.0,5.0,10.0,5.0,5.0,1.0,1.0,10.0,5.0,5.0,5.0,5.0,1.0,5.0,5.0,10.0,10.0,1.0,1.0,1.0,1.0,1.0,5.0,1.0,5.0,1.0,1.0,1.0,1.0,1.0,1.0,5.0,1.0,1.0,1.0,5.0,0.5,5.0,1.0,1.0,5.0,1.0,1.0,1.0,1.0,1.0,1.0,1.0,1.0,1.0,1000.0,500.0,500.0,100.0,500.0,100.0,100.0,100.0,100.0,100.0,100.0,100.0,100.0,100.0,50.0,100.0,100.0,100.0,50.0,100.0,100.0,50.0,10.0,50.0,100.0,100.0,50.0,50.0,100.0,10.0,50.0,10.0,50.0,10.0,10.0,10.0,100.0,50.0,10.0,50.0,100.0,10.0,50.0,10.0,100.0,50.0,100.0,10.0,50.0,10.0,50.0,10.0,10.0,10.0,10.0,5.0,10.0,10.0,10.0,10.0,10.0,50.0,10.0,10.0,10.0,100.0,10.0,10.0,10.0,10.0,10.0,10.0,10.0,10.0,10.0,10.0,10.0,1.0,50.0,100.0,10.0,10.0,100.0,10.0,10.0,1.0,10.0,10.0,10.0,5.0,10.0,50.0,10.0,10.0,50.0,10.0,5.0,10.0,10.0,10.0,50.0,100.0,50.0,1.0,10.0,10.0,10.0,50.0,100.0,50.0,100.0,10.0,10.0,10.0,10.0,10.0,50.0,10.0,50.0,0.5,50.0,50.0,100.0,10.0,10.0,10.0,50.0,50.0,1.0,10.0,50.0,50.0,10.0,10.0,10.0,10.0,10.0,5.0,5.0,10.0,10.0,10.0,1.0,10.0,10.0,10.0,10.0,10.0,10.0,1.0,10.0,10.0,50.0,1.0,10.0,10.0,10.0,10.0,10.0,5.0,10.0,10.0,10.0,10.0,10.0,10.0,10.0,10.0,5.0,50.0,10.0,1.0,10.0,5.0,5.0,1.0,10.0,10.0,10.0,10.0,10.0,10.0,10.0,5.0,1.0,10.0,10.0,10.0,10.0,10.0,10.0,10.0,10.0,10.0,10.0,5.0,10.0,1.0,10.0,10.0,100.0,100.0,10.0,100.0,100.0,50.0,50.0,50.0,5.0,5.0,100.0,10.0,50.0,10.0,10.0,10.0,10.0,10.0,10.0,10.0,10.0,5.0,5.0,10.0,5.0,10.0,10.0,5.0,10.0,50.0,5.0,1.0,5.0,5.0,10.0,5.0,1.0,10.0,1.0,10.0,10.0,10.0,10.0,1.0,10.0,1.0,1.0,5.0,1.0,5.0,10.0,10.0,10.0,10.0,10.0,10.0,1.0,5.0,1.0,0.1,5.0,5.0,10.0,1.0,10.0,10.0,1.0,1.0,1.0,0.5,1.0,1.0,10.0,1.0,5.0,5.0,0.5,1.0,1.0,0.5,10.0,10.0,1.0,5.0,5.0,5.0,1.0,1.0,1.0,10.0,10.0,1.0,5.0,10.0,1.0,5.0,1.0,0.1,1.0,1.0,100.0,100.0,50.0,50.0,50.0,100.0,100.0,50.0,100.0,50.0,50.0,50.0,10.0,100.0,100.0,100.0,100.0,10.0,10.0,50.0,10.0,10.0,50.0,10.0,50.0,50.0,10.0,10.0,5.0,10.0,10.0,100.0,10.0,10.0,100.0,50.0,10.0,10.0,10.0,10.0,50.0,10.0,10.0,100.0,10.0,10.0,10.0,100.0,100.0,10.0,50.0,10.0,10.0,10.0,50.0,50.0,50.0,10.0,10.0,10.0,50.0,50.0,50.0,50.0,5.0,10.0,50.0,10.0,10.0,10.0,10.0,10.0,10.0,50.0,50.0,10.0,10.0,10.0,10.0,10.0,10.0,50.0,10.0,5.0,10.0,10.0,10.0,10.0,10.0,50.0,10.0,10.0,100.0,50.0,10.0,50.0,100.0,100.0,1.0,5.0,500.0,100.0,100.0,100.0,100.0,10.0,100.0,100.0,100.0,50.0,100.0,100.0,50.0,100.0,100.0,50.0,50.0,10.0,50.0,50.0,100.0,50.0,50.0,50.0,10.0,10.0,100.0,10.0,100.0,10.0,100.0,100.0,100.0,50.0,10.0,10.0,50.0,100.0,100.0,100.0,100.0,100.0,10.0,50.0,10.0,10.0,10.0,10.0,10.0,50.0,5.0,50.0,50.0,10.0,10.0,50.0,10.0,10.0,50.0,10.0,10.0,10.0,10.0,10.0,10.0,10.0,10.0,100.0,50.0,50.0,10.0,50.0,10.0,5.0,50.0,10.0,10.0,10.0,10.0,50.0,50.0,10.0,10.0,50.0,10.0,50.0,10.0,10.0,10.0,100.0,10.0,10.0,10.0,10.0,5.0,10.0,50.0,10.0,10.0,10.0,100.0,10.0,50.0,100.0,10.0,10.0,50.0,10.0,10.0,10.0,10.0,10.0,50.0,10.0,10.0,10.0,10.0,10.0,5.0,10.0,10.0,10.0,10.0,10.0,10.0,10.0,10.0,50.0,10.0,10.0,10.0,10.0,10.0,10.0,5.0,10.0,5.0,5.0,10.0,10.0,10.0,10.0,5.0,5.0,10.0,100.0,10.0,50.0,10.0,10.0,10.0,10.0,5.0,10.0,1.0,10.0,10.0,5.0,1.0,10.0,10.0,50.0,5.0,5.0,10.0,5.0,10.0,10.0,5.0,10.0,10.0,10.0,5.0,5.0,10.0,1.0,1.0,5.0,10.0,5.0,5.0,10.0,5.0,100.0,5.0,10.0,10.0,5.0,5.0,10.0,10.0,1.0,5.0,5.0,1.0,1.0,10.0,5.0,1.0,10.0,100.0,100.0,100.0,100.0,10.0,50.0,10.0,50.0,50.0,10.0,50.0,100.0,10.0,10.0,50.0,10.0,100.0,10.0,50.0,10.0,100.0,10.0,10.0,50.0,10.0,10.0,10.0,50.0,10.0,10.0,50.0,100.0,10.0,10.0,10.0,10.0,50.0,50.0,100.0,10.0,10.0,10.0,100.0,100.0,10.0,10.0,10.0,50.0,10.0,10.0,50.0,10.0,50.0,10.0,10.0,50.0,10.0,10.0,10.0,5.0,10.0,10.0,10.0,50.0,10.0,10.0,10.0,10.0,10.0,10.0,10.0,10.0,10.0,1.0,100.0,10.0,10.0,10.0,50.0,10.0,10.0,5.0,10.0,10.0,10.0,10.0,5.0,10.0,50.0,10.0,5.0,10.0,10.0,10.0,10.0,10.0,10.0,10.0,10.0,10.0,500.0,100.0,100.0,50.0,100.0,100.0,50.0,50.0,50.0,10.0,100.0,10.0,50.0,10.0,100.0,10.0,100.0,50.0,50.0,50.0,100.0,10.0,50.0,10.0,50.0,100.0,10.0,100.0,10.0,10.0,50.0,100.0,10.0,50.0,10.0,50.0,50.0,50.0,50.0,10.0,10.0,10.0,50.0,10.0,10.0,10.0,10.0,50.0,10.0,50.0,10.0,10.0,10.0,50.0,50.0,10.0,50.0,10.0,50.0,10.0,10.0,10.0,10.0,10.0,10.0,10.0,5.0,10.0,5.0,10.0,10.0,10.0,10.0,10.0,10.0,10.0,10.0,10.0,10.0,5.0,10.0,10.0,10.0,1.0,10.0,10.0,10.0,10.0,10.0,5.0,10.0,10.0,10.0,10.0,10.0,5.0,5.0,10.0,10.0,10.0,500.0,100.0,100.0,50.0,100.0,100.0,10.0,100.0,50.0,10.0,50.0,10.0,100.0,50.0,10.0,10.0,10.0,10.0,50.0,50.0,50.0,50.0,10.0,10.0,10.0,10.0,10.0,50.0,10.0,50.0,50.0,50.0,10.0,50.0,10.0,10.0,10.0,10.0,10.0,10.0,10.0,10.0,10.0,10.0,10.0,5.0,10.0,5.0,10.0,10.0,5.0,10.0,5.0,5.0,10.0,5.0,5.0,10.0,5.0,10.0,1.0,5.0,5.0,10.0,1.0,10.0,5.0,10.0,1.0,5.0,5.0,1.0,10.0,5.0,10.0,10.0,10.0,10.0,10.0,5.0,10.0,10.0,5.0,5.0,10.0,10.0,10.0,10.0,10.0,10.0,10.0,10.0,5.0,10.0,1.0,5.0,1.0,5.0,10.0,5.0,100.0,100.0,10.0,50.0,10.0,10.0,10.0,10.0,10.0,1.0,5.0,10.0,10.0,10.0,10.0,5.0,10.0,1.0,10.0,10.0,10.0,10.0,10.0,10.0,10.0,1.0,5.0,10.0,5.0,1.0,5.0,5.0,1.0,10.0,10.0,10.0,5.0,10.0,5.0,1.0,5.0,1.0,0.5,10.0,5.0,1.0,5.0,5.0,5.0,1.0,1.0,10.0,1.0,5.0,1.0,0.5,1.0,1.0,1.0,1.0,1.0,5.0,0.5,5.0,1.0,1.0,10.0,5.0,5.0,5.0,1.0,5.0,1.0,10.0,1.0,1.0,0.1,1.0,5.0,1.0,10.0,0.5,5.0,5.0,0.5,5.0,1.0,1.0,0.5,1.0,1.0,1.0,1.0,0.5,1.0,0.5,1.0,1.0,1.0,1.0,10.0,10.0,100.0,50.0,50.0,50.0,10.0,50.0,10.0,10.0,10.0,5.0,10.0,5.0,50.0,10.0,50.0,10.0,50.0,50.0,10.0,10.0,10.0,10.0,10.0,10.0,5.0,10.0,10.0,10.0,50.0,50.0,10.0,10.0,10.0,10.0,10.0,10.0,10.0,5.0,10.0,10.0,10.0,10.0,10.0,5.0,10.0,10.0,5.0,10.0,10.0,1.0,10.0,10.0,1.0,5.0,10.0,10.0,5.0,10.0,5.0,10.0,10.0,10.0,10.0,1.0,10.0,10.0,10.0,1.0,1.0,5.0,10.0,10.0,5.0,5.0,5.0,1.0,1.0,5.0,1.0,5.0,10.0,10.0,1.0,5.0,1.0,5.0,5.0,1.0,10.0,10.0,10.0,5.0,1.0,1.0,10.0,1.0,5.0,1.0,1.0,10.0,5.0,10.0],\"xaxis\":\"x2\",\"yaxis\":\"y2\"}],                        {\"barmode\":\"relative\",\"legend\":{\"tracegroupgap\":0},\"template\":{\"data\":{\"bar\":[{\"error_x\":{\"color\":\"#2a3f5f\"},\"error_y\":{\"color\":\"#2a3f5f\"},\"marker\":{\"line\":{\"color\":\"#E5ECF6\",\"width\":0.5},\"pattern\":{\"fillmode\":\"overlay\",\"size\":10,\"solidity\":0.2}},\"type\":\"bar\"}],\"barpolar\":[{\"marker\":{\"line\":{\"color\":\"#E5ECF6\",\"width\":0.5},\"pattern\":{\"fillmode\":\"overlay\",\"size\":10,\"solidity\":0.2}},\"type\":\"barpolar\"}],\"carpet\":[{\"aaxis\":{\"endlinecolor\":\"#2a3f5f\",\"gridcolor\":\"white\",\"linecolor\":\"white\",\"minorgridcolor\":\"white\",\"startlinecolor\":\"#2a3f5f\"},\"baxis\":{\"endlinecolor\":\"#2a3f5f\",\"gridcolor\":\"white\",\"linecolor\":\"white\",\"minorgridcolor\":\"white\",\"startlinecolor\":\"#2a3f5f\"},\"type\":\"carpet\"}],\"choropleth\":[{\"colorbar\":{\"outlinewidth\":0,\"ticks\":\"\"},\"type\":\"choropleth\"}],\"contour\":[{\"colorbar\":{\"outlinewidth\":0,\"ticks\":\"\"},\"colorscale\":[[0.0,\"#0d0887\"],[0.1111111111111111,\"#46039f\"],[0.2222222222222222,\"#7201a8\"],[0.3333333333333333,\"#9c179e\"],[0.4444444444444444,\"#bd3786\"],[0.5555555555555556,\"#d8576b\"],[0.6666666666666666,\"#ed7953\"],[0.7777777777777778,\"#fb9f3a\"],[0.8888888888888888,\"#fdca26\"],[1.0,\"#f0f921\"]],\"type\":\"contour\"}],\"contourcarpet\":[{\"colorbar\":{\"outlinewidth\":0,\"ticks\":\"\"},\"type\":\"contourcarpet\"}],\"heatmap\":[{\"colorbar\":{\"outlinewidth\":0,\"ticks\":\"\"},\"colorscale\":[[0.0,\"#0d0887\"],[0.1111111111111111,\"#46039f\"],[0.2222222222222222,\"#7201a8\"],[0.3333333333333333,\"#9c179e\"],[0.4444444444444444,\"#bd3786\"],[0.5555555555555556,\"#d8576b\"],[0.6666666666666666,\"#ed7953\"],[0.7777777777777778,\"#fb9f3a\"],[0.8888888888888888,\"#fdca26\"],[1.0,\"#f0f921\"]],\"type\":\"heatmap\"}],\"heatmapgl\":[{\"colorbar\":{\"outlinewidth\":0,\"ticks\":\"\"},\"colorscale\":[[0.0,\"#0d0887\"],[0.1111111111111111,\"#46039f\"],[0.2222222222222222,\"#7201a8\"],[0.3333333333333333,\"#9c179e\"],[0.4444444444444444,\"#bd3786\"],[0.5555555555555556,\"#d8576b\"],[0.6666666666666666,\"#ed7953\"],[0.7777777777777778,\"#fb9f3a\"],[0.8888888888888888,\"#fdca26\"],[1.0,\"#f0f921\"]],\"type\":\"heatmapgl\"}],\"histogram\":[{\"marker\":{\"pattern\":{\"fillmode\":\"overlay\",\"size\":10,\"solidity\":0.2}},\"type\":\"histogram\"}],\"histogram2d\":[{\"colorbar\":{\"outlinewidth\":0,\"ticks\":\"\"},\"colorscale\":[[0.0,\"#0d0887\"],[0.1111111111111111,\"#46039f\"],[0.2222222222222222,\"#7201a8\"],[0.3333333333333333,\"#9c179e\"],[0.4444444444444444,\"#bd3786\"],[0.5555555555555556,\"#d8576b\"],[0.6666666666666666,\"#ed7953\"],[0.7777777777777778,\"#fb9f3a\"],[0.8888888888888888,\"#fdca26\"],[1.0,\"#f0f921\"]],\"type\":\"histogram2d\"}],\"histogram2dcontour\":[{\"colorbar\":{\"outlinewidth\":0,\"ticks\":\"\"},\"colorscale\":[[0.0,\"#0d0887\"],[0.1111111111111111,\"#46039f\"],[0.2222222222222222,\"#7201a8\"],[0.3333333333333333,\"#9c179e\"],[0.4444444444444444,\"#bd3786\"],[0.5555555555555556,\"#d8576b\"],[0.6666666666666666,\"#ed7953\"],[0.7777777777777778,\"#fb9f3a\"],[0.8888888888888888,\"#fdca26\"],[1.0,\"#f0f921\"]],\"type\":\"histogram2dcontour\"}],\"mesh3d\":[{\"colorbar\":{\"outlinewidth\":0,\"ticks\":\"\"},\"type\":\"mesh3d\"}],\"parcoords\":[{\"line\":{\"colorbar\":{\"outlinewidth\":0,\"ticks\":\"\"}},\"type\":\"parcoords\"}],\"pie\":[{\"automargin\":true,\"type\":\"pie\"}],\"scatter\":[{\"marker\":{\"colorbar\":{\"outlinewidth\":0,\"ticks\":\"\"}},\"type\":\"scatter\"}],\"scatter3d\":[{\"line\":{\"colorbar\":{\"outlinewidth\":0,\"ticks\":\"\"}},\"marker\":{\"colorbar\":{\"outlinewidth\":0,\"ticks\":\"\"}},\"type\":\"scatter3d\"}],\"scattercarpet\":[{\"marker\":{\"colorbar\":{\"outlinewidth\":0,\"ticks\":\"\"}},\"type\":\"scattercarpet\"}],\"scattergeo\":[{\"marker\":{\"colorbar\":{\"outlinewidth\":0,\"ticks\":\"\"}},\"type\":\"scattergeo\"}],\"scattergl\":[{\"marker\":{\"colorbar\":{\"outlinewidth\":0,\"ticks\":\"\"}},\"type\":\"scattergl\"}],\"scattermapbox\":[{\"marker\":{\"colorbar\":{\"outlinewidth\":0,\"ticks\":\"\"}},\"type\":\"scattermapbox\"}],\"scatterpolar\":[{\"marker\":{\"colorbar\":{\"outlinewidth\":0,\"ticks\":\"\"}},\"type\":\"scatterpolar\"}],\"scatterpolargl\":[{\"marker\":{\"colorbar\":{\"outlinewidth\":0,\"ticks\":\"\"}},\"type\":\"scatterpolargl\"}],\"scatterternary\":[{\"marker\":{\"colorbar\":{\"outlinewidth\":0,\"ticks\":\"\"}},\"type\":\"scatterternary\"}],\"surface\":[{\"colorbar\":{\"outlinewidth\":0,\"ticks\":\"\"},\"colorscale\":[[0.0,\"#0d0887\"],[0.1111111111111111,\"#46039f\"],[0.2222222222222222,\"#7201a8\"],[0.3333333333333333,\"#9c179e\"],[0.4444444444444444,\"#bd3786\"],[0.5555555555555556,\"#d8576b\"],[0.6666666666666666,\"#ed7953\"],[0.7777777777777778,\"#fb9f3a\"],[0.8888888888888888,\"#fdca26\"],[1.0,\"#f0f921\"]],\"type\":\"surface\"}],\"table\":[{\"cells\":{\"fill\":{\"color\":\"#EBF0F8\"},\"line\":{\"color\":\"white\"}},\"header\":{\"fill\":{\"color\":\"#C8D4E3\"},\"line\":{\"color\":\"white\"}},\"type\":\"table\"}]},\"layout\":{\"annotationdefaults\":{\"arrowcolor\":\"#2a3f5f\",\"arrowhead\":0,\"arrowwidth\":1},\"autotypenumbers\":\"strict\",\"coloraxis\":{\"colorbar\":{\"outlinewidth\":0,\"ticks\":\"\"}},\"colorscale\":{\"diverging\":[[0,\"#8e0152\"],[0.1,\"#c51b7d\"],[0.2,\"#de77ae\"],[0.3,\"#f1b6da\"],[0.4,\"#fde0ef\"],[0.5,\"#f7f7f7\"],[0.6,\"#e6f5d0\"],[0.7,\"#b8e186\"],[0.8,\"#7fbc41\"],[0.9,\"#4d9221\"],[1,\"#276419\"]],\"sequential\":[[0.0,\"#0d0887\"],[0.1111111111111111,\"#46039f\"],[0.2222222222222222,\"#7201a8\"],[0.3333333333333333,\"#9c179e\"],[0.4444444444444444,\"#bd3786\"],[0.5555555555555556,\"#d8576b\"],[0.6666666666666666,\"#ed7953\"],[0.7777777777777778,\"#fb9f3a\"],[0.8888888888888888,\"#fdca26\"],[1.0,\"#f0f921\"]],\"sequentialminus\":[[0.0,\"#0d0887\"],[0.1111111111111111,\"#46039f\"],[0.2222222222222222,\"#7201a8\"],[0.3333333333333333,\"#9c179e\"],[0.4444444444444444,\"#bd3786\"],[0.5555555555555556,\"#d8576b\"],[0.6666666666666666,\"#ed7953\"],[0.7777777777777778,\"#fb9f3a\"],[0.8888888888888888,\"#fdca26\"],[1.0,\"#f0f921\"]]},\"colorway\":[\"#636efa\",\"#EF553B\",\"#00cc96\",\"#ab63fa\",\"#FFA15A\",\"#19d3f3\",\"#FF6692\",\"#B6E880\",\"#FF97FF\",\"#FECB52\"],\"font\":{\"color\":\"#2a3f5f\"},\"geo\":{\"bgcolor\":\"white\",\"lakecolor\":\"white\",\"landcolor\":\"#E5ECF6\",\"showlakes\":true,\"showland\":true,\"subunitcolor\":\"white\"},\"hoverlabel\":{\"align\":\"left\"},\"hovermode\":\"closest\",\"mapbox\":{\"style\":\"light\"},\"paper_bgcolor\":\"white\",\"plot_bgcolor\":\"#E5ECF6\",\"polar\":{\"angularaxis\":{\"gridcolor\":\"white\",\"linecolor\":\"white\",\"ticks\":\"\"},\"bgcolor\":\"#E5ECF6\",\"radialaxis\":{\"gridcolor\":\"white\",\"linecolor\":\"white\",\"ticks\":\"\"}},\"scene\":{\"xaxis\":{\"backgroundcolor\":\"#E5ECF6\",\"gridcolor\":\"white\",\"gridwidth\":2,\"linecolor\":\"white\",\"showbackground\":true,\"ticks\":\"\",\"zerolinecolor\":\"white\"},\"yaxis\":{\"backgroundcolor\":\"#E5ECF6\",\"gridcolor\":\"white\",\"gridwidth\":2,\"linecolor\":\"white\",\"showbackground\":true,\"ticks\":\"\",\"zerolinecolor\":\"white\"},\"zaxis\":{\"backgroundcolor\":\"#E5ECF6\",\"gridcolor\":\"white\",\"gridwidth\":2,\"linecolor\":\"white\",\"showbackground\":true,\"ticks\":\"\",\"zerolinecolor\":\"white\"}},\"shapedefaults\":{\"line\":{\"color\":\"#2a3f5f\"}},\"ternary\":{\"aaxis\":{\"gridcolor\":\"white\",\"linecolor\":\"white\",\"ticks\":\"\"},\"baxis\":{\"gridcolor\":\"white\",\"linecolor\":\"white\",\"ticks\":\"\"},\"bgcolor\":\"#E5ECF6\",\"caxis\":{\"gridcolor\":\"white\",\"linecolor\":\"white\",\"ticks\":\"\"}},\"title\":{\"x\":0.05},\"xaxis\":{\"automargin\":true,\"gridcolor\":\"white\",\"linecolor\":\"white\",\"ticks\":\"\",\"title\":{\"standoff\":15},\"zerolinecolor\":\"white\",\"zerolinewidth\":2},\"yaxis\":{\"automargin\":true,\"gridcolor\":\"white\",\"linecolor\":\"white\",\"ticks\":\"\",\"title\":{\"standoff\":15},\"zerolinecolor\":\"white\",\"zerolinewidth\":2}}},\"title\":{\"text\":\"Number of Game Installed\"},\"xaxis\":{\"anchor\":\"y\",\"domain\":[0.0,1.0],\"title\":{\"text\":\"installs_in_million\"}},\"xaxis2\":{\"anchor\":\"y2\",\"domain\":[0.0,1.0],\"matches\":\"x\",\"showgrid\":true,\"showticklabels\":false},\"yaxis\":{\"anchor\":\"x\",\"domain\":[0.0,0.8316],\"title\":{\"text\":\"count\"}},\"yaxis2\":{\"anchor\":\"x2\",\"domain\":[0.8416,1.0],\"matches\":\"y2\",\"showgrid\":false,\"showline\":false,\"showticklabels\":false,\"ticks\":\"\"}},                        {\"responsive\": true}                    ).then(function(){\n",
       "                            \n",
       "var gd = document.getElementById('965cc066-6087-4e06-9718-26bef9b4518a');\n",
       "var x = new MutationObserver(function (mutations, observer) {{\n",
       "        var display = window.getComputedStyle(gd).display;\n",
       "        if (!display || display === 'none') {{\n",
       "            console.log([gd, 'removed!']);\n",
       "            Plotly.purge(gd);\n",
       "            observer.disconnect();\n",
       "        }}\n",
       "}});\n",
       "\n",
       "// Listen for the removal of the full notebook cells\n",
       "var notebookContainer = gd.closest('#notebook-container');\n",
       "if (notebookContainer) {{\n",
       "    x.observe(notebookContainer, {childList: true});\n",
       "}}\n",
       "\n",
       "// Listen for the clearing of the current output cell\n",
       "var outputEl = gd.closest('.output');\n",
       "if (outputEl) {{\n",
       "    x.observe(outputEl, {childList: true});\n",
       "}}\n",
       "\n",
       "                        })                };                });            </script>        </div>"
      ]
     },
     "metadata": {},
     "output_type": "display_data"
    }
   ],
   "source": [
    "# with plotly\n",
    "\n",
    "fig = px.histogram(data_frame = df_1, x = \"installs_in_million\", title = \"Number of Game Installed\", marginal = \"box\")\n",
    "fig.show()"
   ]
  },
  {
   "cell_type": "markdown",
   "id": "94999590",
   "metadata": {},
   "source": [
    "### Paid-Free Games"
   ]
  },
  {
   "cell_type": "code",
   "execution_count": 61,
   "id": "fcae3d61",
   "metadata": {},
   "outputs": [
    {
     "data": {
      "text/plain": [
       "False    1723\n",
       "True        7\n",
       "Name: paid, dtype: int64"
      ]
     },
     "execution_count": 61,
     "metadata": {},
     "output_type": "execute_result"
    }
   ],
   "source": [
    "df_1[\"paid\"].value_counts()"
   ]
  },
  {
   "cell_type": "code",
   "execution_count": 62,
   "id": "df362c64",
   "metadata": {},
   "outputs": [
    {
     "data": {
      "text/plain": [
       "False    0.995954\n",
       "True     0.004046\n",
       "Name: paid, dtype: float64"
      ]
     },
     "execution_count": 62,
     "metadata": {},
     "output_type": "execute_result"
    }
   ],
   "source": [
    "df_1[\"paid\"].value_counts(normalize=True)"
   ]
  },
  {
   "cell_type": "code",
   "execution_count": 63,
   "id": "8c1cbb68",
   "metadata": {},
   "outputs": [
    {
     "data": {
      "text/plain": [
       "['Paid', 'Free']"
      ]
     },
     "execution_count": 63,
     "metadata": {},
     "output_type": "execute_result"
    }
   ],
   "source": [
    "index = [\"Paid\", \"Free\"]\n",
    "index"
   ]
  },
  {
   "cell_type": "code",
   "execution_count": 64,
   "id": "0298ddb7",
   "metadata": {},
   "outputs": [
    {
     "data": {
      "text/plain": [
       "[7, 1723]"
      ]
     },
     "execution_count": 64,
     "metadata": {},
     "output_type": "execute_result"
    }
   ],
   "source": [
    "values = [7, 1723]\n",
    "values"
   ]
  },
  {
   "cell_type": "code",
   "execution_count": 65,
   "id": "223b6a95",
   "metadata": {},
   "outputs": [
    {
     "data": {
      "image/png": "[encoded data removed]",
      "text/plain": [
       "<Figure size 576x432 with 1 Axes>"
      ]
     },
     "metadata": {},
     "output_type": "display_data"
    }
   ],
   "source": [
    "# with matplotlib\n",
    "\n",
    "plt.figure(figsize = (8,6))\n",
    "y = df_1[\"paid\"].value_counts().values\n",
    "mylabels = [\"Free\",\"Paid\"]\n",
    "myexplode = [0, 0]\n",
    "\n",
    "plt.pie(y, labels = mylabels, labeldistance = 1.1, explode = myexplode, startangle = 90, autopct = '%1.1f%%')\n",
    "\n",
    "plt.show()"
   ]
  },
  {
   "cell_type": "code",
   "execution_count": 66,
   "id": "59f3dbef",
   "metadata": {},
   "outputs": [
    {
     "data": {
      "application/vnd.plotly.v1+json": {
       "config": {
        "plotlyServerURL": "https://plot.ly"
       },
       "data": [
        {
         "domain": {
          "x": [
           0,
           1
          ],
          "y": [
           0,
           1
          ]
         },
         "hovertemplate": "label=%{label}<br>value=%{value}<extra></extra>",
         "labels": [
          "Free",
          "Paid"
         ],
         "legendgroup": "",
         "name": "",
         "showlegend": true,
         "textinfo": "percent+label",
         "textposition": "inside",
         "type": "pie",
         "values": [
          1723,
          7
         ]
        }
       ],
       "layout": {
        "legend": {
         "tracegroupgap": 0
        },
        "template": {
         "data": {
          "bar": [
           {
            "error_x": {
             "color": "#2a3f5f"
            },
            "error_y": {
             "color": "#2a3f5f"
            },
            "marker": {
             "line": {
              "color": "#E5ECF6",
              "width": 0.5
             },
             "pattern": {
              "fillmode": "overlay",
              "size": 10,
              "solidity": 0.2
             }
            },
            "type": "bar"
           }
          ],
          "barpolar": [
           {
            "marker": {
             "line": {
              "color": "#E5ECF6",
              "width": 0.5
             },
             "pattern": {
              "fillmode": "overlay",
              "size": 10,
              "solidity": 0.2
             }
            },
            "type": "barpolar"
           }
          ],
          "carpet": [
           {
            "aaxis": {
             "endlinecolor": "#2a3f5f",
             "gridcolor": "white",
             "linecolor": "white",
             "minorgridcolor": "white",
             "startlinecolor": "#2a3f5f"
            },
            "baxis": {
             "endlinecolor": "#2a3f5f",
             "gridcolor": "white",
             "linecolor": "white",
             "minorgridcolor": "white",
             "startlinecolor": "#2a3f5f"
            },
            "type": "carpet"
           }
          ],
          "choropleth": [
           {
            "colorbar": {
             "outlinewidth": 0,
             "ticks": ""
            },
            "type": "choropleth"
           }
          ],
          "contour": [
           {
            "colorbar": {
             "outlinewidth": 0,
             "ticks": ""
            },
            "colorscale": [
             [
              0,
              "#0d0887"
             ],
             [
              0.1111111111111111,
              "#46039f"
             ],
             [
              0.2222222222222222,
              "#7201a8"
             ],
             [
              0.3333333333333333,
              "#9c179e"
             ],
             [
              0.4444444444444444,
              "#bd3786"
             ],
             [
              0.5555555555555556,
              "#d8576b"
             ],
             [
              0.6666666666666666,
              "#ed7953"
             ],
             [
              0.7777777777777778,
              "#fb9f3a"
             ],
             [
              0.8888888888888888,
              "#fdca26"
             ],
             [
              1,
              "#f0f921"
             ]
            ],
            "type": "contour"
           }
          ],
          "contourcarpet": [
           {
            "colorbar": {
             "outlinewidth": 0,
             "ticks": ""
            },
            "type": "contourcarpet"
           }
          ],
          "heatmap": [
           {
            "colorbar": {
             "outlinewidth": 0,
             "ticks": ""
            },
            "colorscale": [
             [
              0,
              "#0d0887"
             ],
             [
              0.1111111111111111,
              "#46039f"
             ],
             [
              0.2222222222222222,
              "#7201a8"
             ],
             [
              0.3333333333333333,
              "#9c179e"
             ],
             [
              0.4444444444444444,
              "#bd3786"
             ],
             [
              0.5555555555555556,
              "#d8576b"
             ],
             [
              0.6666666666666666,
              "#ed7953"
             ],
             [
              0.7777777777777778,
              "#fb9f3a"
             ],
             [
              0.8888888888888888,
              "#fdca26"
             ],
             [
              1,
              "#f0f921"
             ]
            ],
            "type": "heatmap"
           }
          ],
          "heatmapgl": [
           {
            "colorbar": {
             "outlinewidth": 0,
             "ticks": ""
            },
            "colorscale": [
             [
              0,
              "#0d0887"
             ],
             [
              0.1111111111111111,
              "#46039f"
             ],
             [
              0.2222222222222222,
              "#7201a8"
             ],
             [
              0.3333333333333333,
              "#9c179e"
             ],
             [
              0.4444444444444444,
              "#bd3786"
             ],
             [
              0.5555555555555556,
              "#d8576b"
             ],
             [
              0.6666666666666666,
              "#ed7953"
             ],
             [
              0.7777777777777778,
              "#fb9f3a"
             ],
             [
              0.8888888888888888,
              "#fdca26"
             ],
             [
              1,
              "#f0f921"
             ]
            ],
            "type": "heatmapgl"
           }
          ],
          "histogram": [
           {
            "marker": {
             "pattern": {
              "fillmode": "overlay",
              "size": 10,
              "solidity": 0.2
             }
            },
            "type": "histogram"
           }
          ],
          "histogram2d": [
           {
            "colorbar": {
             "outlinewidth": 0,
             "ticks": ""
            },
            "colorscale": [
             [
              0,
              "#0d0887"
             ],
             [
              0.1111111111111111,
              "#46039f"
             ],
             [
              0.2222222222222222,
              "#7201a8"
             ],
             [
              0.3333333333333333,
              "#9c179e"
             ],
             [
              0.4444444444444444,
              "#bd3786"
             ],
             [
              0.5555555555555556,
              "#d8576b"
             ],
             [
              0.6666666666666666,
              "#ed7953"
             ],
             [
              0.7777777777777778,
              "#fb9f3a"
             ],
             [
              0.8888888888888888,
              "#fdca26"
             ],
             [
              1,
              "#f0f921"
             ]
            ],
            "type": "histogram2d"
           }
          ],
          "histogram2dcontour": [
           {
            "colorbar": {
             "outlinewidth": 0,
             "ticks": ""
            },
            "colorscale": [
             [
              0,
              "#0d0887"
             ],
             [
              0.1111111111111111,
              "#46039f"
             ],
             [
              0.2222222222222222,
              "#7201a8"
             ],
             [
              0.3333333333333333,
              "#9c179e"
             ],
             [
              0.4444444444444444,
              "#bd3786"
             ],
             [
              0.5555555555555556,
              "#d8576b"
             ],
             [
              0.6666666666666666,
              "#ed7953"
             ],
             [
              0.7777777777777778,
              "#fb9f3a"
             ],
             [
              0.8888888888888888,
              "#fdca26"
             ],
             [
              1,
              "#f0f921"
             ]
            ],
            "type": "histogram2dcontour"
           }
          ],
          "mesh3d": [
           {
            "colorbar": {
             "outlinewidth": 0,
             "ticks": ""
            },
            "type": "mesh3d"
           }
          ],
          "parcoords": [
           {
            "line": {
             "colorbar": {
              "outlinewidth": 0,
              "ticks": ""
             }
            },
            "type": "parcoords"
           }
          ],
          "pie": [
           {
            "automargin": true,
            "type": "pie"
           }
          ],
          "scatter": [
           {
            "marker": {
             "colorbar": {
              "outlinewidth": 0,
              "ticks": ""
             }
            },
            "type": "scatter"
           }
          ],
          "scatter3d": [
           {
            "line": {
             "colorbar": {
              "outlinewidth": 0,
              "ticks": ""
             }
            },
            "marker": {
             "colorbar": {
              "outlinewidth": 0,
              "ticks": ""
             }
            },
            "type": "scatter3d"
           }
          ],
          "scattercarpet": [
           {
            "marker": {
             "colorbar": {
              "outlinewidth": 0,
              "ticks": ""
             }
            },
            "type": "scattercarpet"
           }
          ],
          "scattergeo": [
           {
            "marker": {
             "colorbar": {
              "outlinewidth": 0,
              "ticks": ""
             }
            },
            "type": "scattergeo"
           }
          ],
          "scattergl": [
           {
            "marker": {
             "colorbar": {
              "outlinewidth": 0,
              "ticks": ""
             }
            },
            "type": "scattergl"
           }
          ],
          "scattermapbox": [
           {
            "marker": {
             "colorbar": {
              "outlinewidth": 0,
              "ticks": ""
             }
            },
            "type": "scattermapbox"
           }
          ],
          "scatterpolar": [
           {
            "marker": {
             "colorbar": {
              "outlinewidth": 0,
              "ticks": ""
             }
            },
            "type": "scatterpolar"
           }
          ],
          "scatterpolargl": [
           {
            "marker": {
             "colorbar": {
              "outlinewidth": 0,
              "ticks": ""
             }
            },
            "type": "scatterpolargl"
           }
          ],
          "scatterternary": [
           {
            "marker": {
             "colorbar": {
              "outlinewidth": 0,
              "ticks": ""
             }
            },
            "type": "scatterternary"
           }
          ],
          "surface": [
           {
            "colorbar": {
             "outlinewidth": 0,
             "ticks": ""
            },
            "colorscale": [
             [
              0,
              "#0d0887"
             ],
             [
              0.1111111111111111,
              "#46039f"
             ],
             [
              0.2222222222222222,
              "#7201a8"
             ],
             [
              0.3333333333333333,
              "#9c179e"
             ],
             [
              0.4444444444444444,
              "#bd3786"
             ],
             [
              0.5555555555555556,
              "#d8576b"
             ],
             [
              0.6666666666666666,
              "#ed7953"
             ],
             [
              0.7777777777777778,
              "#fb9f3a"
             ],
             [
              0.8888888888888888,
              "#fdca26"
             ],
             [
              1,
              "#f0f921"
             ]
            ],
            "type": "surface"
           }
          ],
          "table": [
           {
            "cells": {
             "fill": {
              "color": "#EBF0F8"
             },
             "line": {
              "color": "white"
             }
            },
            "header": {
             "fill": {
              "color": "#C8D4E3"
             },
             "line": {
              "color": "white"
             }
            },
            "type": "table"
           }
          ]
         },
         "layout": {
          "annotationdefaults": {
           "arrowcolor": "#2a3f5f",
           "arrowhead": 0,
           "arrowwidth": 1
          },
          "autotypenumbers": "strict",
          "coloraxis": {
           "colorbar": {
            "outlinewidth": 0,
            "ticks": ""
           }
          },
          "colorscale": {
           "diverging": [
            [
             0,
             "#8e0152"
            ],
            [
             0.1,
             "#c51b7d"
            ],
            [
             0.2,
             "#de77ae"
            ],
            [
             0.3,
             "#f1b6da"
            ],
            [
             0.4,
             "#fde0ef"
            ],
            [
             0.5,
             "#f7f7f7"
            ],
            [
             0.6,
             "#e6f5d0"
            ],
            [
             0.7,
             "#b8e186"
            ],
            [
             0.8,
             "#7fbc41"
            ],
            [
             0.9,
             "#4d9221"
            ],
            [
             1,
             "#276419"
            ]
           ],
           "sequential": [
            [
             0,
             "#0d0887"
            ],
            [
             0.1111111111111111,
             "#46039f"
            ],
            [
             0.2222222222222222,
             "#7201a8"
            ],
            [
             0.3333333333333333,
             "#9c179e"
            ],
            [
             0.4444444444444444,
             "#bd3786"
            ],
            [
             0.5555555555555556,
             "#d8576b"
            ],
            [
             0.6666666666666666,
             "#ed7953"
            ],
            [
             0.7777777777777778,
             "#fb9f3a"
            ],
            [
             0.8888888888888888,
             "#fdca26"
            ],
            [
             1,
             "#f0f921"
            ]
           ],
           "sequentialminus": [
            [
             0,
             "#0d0887"
            ],
            [
             0.1111111111111111,
             "#46039f"
            ],
            [
             0.2222222222222222,
             "#7201a8"
            ],
            [
             0.3333333333333333,
             "#9c179e"
            ],
            [
             0.4444444444444444,
             "#bd3786"
            ],
            [
             0.5555555555555556,
             "#d8576b"
            ],
            [
             0.6666666666666666,
             "#ed7953"
            ],
            [
             0.7777777777777778,
             "#fb9f3a"
            ],
            [
             0.8888888888888888,
             "#fdca26"
            ],
            [
             1,
             "#f0f921"
            ]
           ]
          },
          "colorway": [
           "#636efa",
           "#EF553B",
           "#00cc96",
           "#ab63fa",
           "#FFA15A",
           "#19d3f3",
           "#FF6692",
           "#B6E880",
           "#FF97FF",
           "#FECB52"
          ],
          "font": {
           "color": "#2a3f5f"
          },
          "geo": {
           "bgcolor": "white",
           "lakecolor": "white",
           "landcolor": "#E5ECF6",
           "showlakes": true,
           "showland": true,
           "subunitcolor": "white"
          },
          "hoverlabel": {
           "align": "left"
          },
          "hovermode": "closest",
          "mapbox": {
           "style": "light"
          },
          "paper_bgcolor": "white",
          "plot_bgcolor": "#E5ECF6",
          "polar": {
           "angularaxis": {
            "gridcolor": "white",
            "linecolor": "white",
            "ticks": ""
           },
           "bgcolor": "#E5ECF6",
           "radialaxis": {
            "gridcolor": "white",
            "linecolor": "white",
            "ticks": ""
           }
          },
          "scene": {
           "xaxis": {
            "backgroundcolor": "#E5ECF6",
            "gridcolor": "white",
            "gridwidth": 2,
            "linecolor": "white",
            "showbackground": true,
            "ticks": "",
            "zerolinecolor": "white"
           },
           "yaxis": {
            "backgroundcolor": "#E5ECF6",
            "gridcolor": "white",
            "gridwidth": 2,
            "linecolor": "white",
            "showbackground": true,
            "ticks": "",
            "zerolinecolor": "white"
           },
           "zaxis": {
            "backgroundcolor": "#E5ECF6",
            "gridcolor": "white",
            "gridwidth": 2,
            "linecolor": "white",
            "showbackground": true,
            "ticks": "",
            "zerolinecolor": "white"
           }
          },
          "shapedefaults": {
           "line": {
            "color": "#2a3f5f"
           }
          },
          "ternary": {
           "aaxis": {
            "gridcolor": "white",
            "linecolor": "white",
            "ticks": ""
           },
           "baxis": {
            "gridcolor": "white",
            "linecolor": "white",
            "ticks": ""
           },
           "bgcolor": "#E5ECF6",
           "caxis": {
            "gridcolor": "white",
            "linecolor": "white",
            "ticks": ""
           }
          },
          "title": {
           "x": 0.05
          },
          "xaxis": {
           "automargin": true,
           "gridcolor": "white",
           "linecolor": "white",
           "ticks": "",
           "title": {
            "standoff": 15
           },
           "zerolinecolor": "white",
           "zerolinewidth": 2
          },
          "yaxis": {
           "automargin": true,
           "gridcolor": "white",
           "linecolor": "white",
           "ticks": "",
           "title": {
            "standoff": 15
           },
           "zerolinecolor": "white",
           "zerolinewidth": 2
          }
         }
        },
        "title": {
         "text": "Paid-Free Games"
        }
       }
      },
      "text/html": [
       "<div>                            <div id=\"4b81be8f-09e0-49f2-a0c5-28d863869165\" class=\"plotly-graph-div\" style=\"height:525px; width:100%;\"></div>            <script type=\"text/javascript\">                require([\"plotly\"], function(Plotly) {                    window.PLOTLYENV=window.PLOTLYENV || {};                                    if (document.getElementById(\"4b81be8f-09e0-49f2-a0c5-28d863869165\")) {                    Plotly.newPlot(                        \"4b81be8f-09e0-49f2-a0c5-28d863869165\",                        [{\"domain\":{\"x\":[0.0,1.0],\"y\":[0.0,1.0]},\"hovertemplate\":\"label=%{label}<br>value=%{value}<extra></extra>\",\"labels\":[\"Free\",\"Paid\"],\"legendgroup\":\"\",\"name\":\"\",\"showlegend\":true,\"textinfo\":\"percent+label\",\"textposition\":\"inside\",\"type\":\"pie\",\"values\":[1723,7]}],                        {\"legend\":{\"tracegroupgap\":0},\"template\":{\"data\":{\"bar\":[{\"error_x\":{\"color\":\"#2a3f5f\"},\"error_y\":{\"color\":\"#2a3f5f\"},\"marker\":{\"line\":{\"color\":\"#E5ECF6\",\"width\":0.5},\"pattern\":{\"fillmode\":\"overlay\",\"size\":10,\"solidity\":0.2}},\"type\":\"bar\"}],\"barpolar\":[{\"marker\":{\"line\":{\"color\":\"#E5ECF6\",\"width\":0.5},\"pattern\":{\"fillmode\":\"overlay\",\"size\":10,\"solidity\":0.2}},\"type\":\"barpolar\"}],\"carpet\":[{\"aaxis\":{\"endlinecolor\":\"#2a3f5f\",\"gridcolor\":\"white\",\"linecolor\":\"white\",\"minorgridcolor\":\"white\",\"startlinecolor\":\"#2a3f5f\"},\"baxis\":{\"endlinecolor\":\"#2a3f5f\",\"gridcolor\":\"white\",\"linecolor\":\"white\",\"minorgridcolor\":\"white\",\"startlinecolor\":\"#2a3f5f\"},\"type\":\"carpet\"}],\"choropleth\":[{\"colorbar\":{\"outlinewidth\":0,\"ticks\":\"\"},\"type\":\"choropleth\"}],\"contour\":[{\"colorbar\":{\"outlinewidth\":0,\"ticks\":\"\"},\"colorscale\":[[0.0,\"#0d0887\"],[0.1111111111111111,\"#46039f\"],[0.2222222222222222,\"#7201a8\"],[0.3333333333333333,\"#9c179e\"],[0.4444444444444444,\"#bd3786\"],[0.5555555555555556,\"#d8576b\"],[0.6666666666666666,\"#ed7953\"],[0.7777777777777778,\"#fb9f3a\"],[0.8888888888888888,\"#fdca26\"],[1.0,\"#f0f921\"]],\"type\":\"contour\"}],\"contourcarpet\":[{\"colorbar\":{\"outlinewidth\":0,\"ticks\":\"\"},\"type\":\"contourcarpet\"}],\"heatmap\":[{\"colorbar\":{\"outlinewidth\":0,\"ticks\":\"\"},\"colorscale\":[[0.0,\"#0d0887\"],[0.1111111111111111,\"#46039f\"],[0.2222222222222222,\"#7201a8\"],[0.3333333333333333,\"#9c179e\"],[0.4444444444444444,\"#bd3786\"],[0.5555555555555556,\"#d8576b\"],[0.6666666666666666,\"#ed7953\"],[0.7777777777777778,\"#fb9f3a\"],[0.8888888888888888,\"#fdca26\"],[1.0,\"#f0f921\"]],\"type\":\"heatmap\"}],\"heatmapgl\":[{\"colorbar\":{\"outlinewidth\":0,\"ticks\":\"\"},\"colorscale\":[[0.0,\"#0d0887\"],[0.1111111111111111,\"#46039f\"],[0.2222222222222222,\"#7201a8\"],[0.3333333333333333,\"#9c179e\"],[0.4444444444444444,\"#bd3786\"],[0.5555555555555556,\"#d8576b\"],[0.6666666666666666,\"#ed7953\"],[0.7777777777777778,\"#fb9f3a\"],[0.8888888888888888,\"#fdca26\"],[1.0,\"#f0f921\"]],\"type\":\"heatmapgl\"}],\"histogram\":[{\"marker\":{\"pattern\":{\"fillmode\":\"overlay\",\"size\":10,\"solidity\":0.2}},\"type\":\"histogram\"}],\"histogram2d\":[{\"colorbar\":{\"outlinewidth\":0,\"ticks\":\"\"},\"colorscale\":[[0.0,\"#0d0887\"],[0.1111111111111111,\"#46039f\"],[0.2222222222222222,\"#7201a8\"],[0.3333333333333333,\"#9c179e\"],[0.4444444444444444,\"#bd3786\"],[0.5555555555555556,\"#d8576b\"],[0.6666666666666666,\"#ed7953\"],[0.7777777777777778,\"#fb9f3a\"],[0.8888888888888888,\"#fdca26\"],[1.0,\"#f0f921\"]],\"type\":\"histogram2d\"}],\"histogram2dcontour\":[{\"colorbar\":{\"outlinewidth\":0,\"ticks\":\"\"},\"colorscale\":[[0.0,\"#0d0887\"],[0.1111111111111111,\"#46039f\"],[0.2222222222222222,\"#7201a8\"],[0.3333333333333333,\"#9c179e\"],[0.4444444444444444,\"#bd3786\"],[0.5555555555555556,\"#d8576b\"],[0.6666666666666666,\"#ed7953\"],[0.7777777777777778,\"#fb9f3a\"],[0.8888888888888888,\"#fdca26\"],[1.0,\"#f0f921\"]],\"type\":\"histogram2dcontour\"}],\"mesh3d\":[{\"colorbar\":{\"outlinewidth\":0,\"ticks\":\"\"},\"type\":\"mesh3d\"}],\"parcoords\":[{\"line\":{\"colorbar\":{\"outlinewidth\":0,\"ticks\":\"\"}},\"type\":\"parcoords\"}],\"pie\":[{\"automargin\":true,\"type\":\"pie\"}],\"scatter\":[{\"marker\":{\"colorbar\":{\"outlinewidth\":0,\"ticks\":\"\"}},\"type\":\"scatter\"}],\"scatter3d\":[{\"line\":{\"colorbar\":{\"outlinewidth\":0,\"ticks\":\"\"}},\"marker\":{\"colorbar\":{\"outlinewidth\":0,\"ticks\":\"\"}},\"type\":\"scatter3d\"}],\"scattercarpet\":[{\"marker\":{\"colorbar\":{\"outlinewidth\":0,\"ticks\":\"\"}},\"type\":\"scattercarpet\"}],\"scattergeo\":[{\"marker\":{\"colorbar\":{\"outlinewidth\":0,\"ticks\":\"\"}},\"type\":\"scattergeo\"}],\"scattergl\":[{\"marker\":{\"colorbar\":{\"outlinewidth\":0,\"ticks\":\"\"}},\"type\":\"scattergl\"}],\"scattermapbox\":[{\"marker\":{\"colorbar\":{\"outlinewidth\":0,\"ticks\":\"\"}},\"type\":\"scattermapbox\"}],\"scatterpolar\":[{\"marker\":{\"colorbar\":{\"outlinewidth\":0,\"ticks\":\"\"}},\"type\":\"scatterpolar\"}],\"scatterpolargl\":[{\"marker\":{\"colorbar\":{\"outlinewidth\":0,\"ticks\":\"\"}},\"type\":\"scatterpolargl\"}],\"scatterternary\":[{\"marker\":{\"colorbar\":{\"outlinewidth\":0,\"ticks\":\"\"}},\"type\":\"scatterternary\"}],\"surface\":[{\"colorbar\":{\"outlinewidth\":0,\"ticks\":\"\"},\"colorscale\":[[0.0,\"#0d0887\"],[0.1111111111111111,\"#46039f\"],[0.2222222222222222,\"#7201a8\"],[0.3333333333333333,\"#9c179e\"],[0.4444444444444444,\"#bd3786\"],[0.5555555555555556,\"#d8576b\"],[0.6666666666666666,\"#ed7953\"],[0.7777777777777778,\"#fb9f3a\"],[0.8888888888888888,\"#fdca26\"],[1.0,\"#f0f921\"]],\"type\":\"surface\"}],\"table\":[{\"cells\":{\"fill\":{\"color\":\"#EBF0F8\"},\"line\":{\"color\":\"white\"}},\"header\":{\"fill\":{\"color\":\"#C8D4E3\"},\"line\":{\"color\":\"white\"}},\"type\":\"table\"}]},\"layout\":{\"annotationdefaults\":{\"arrowcolor\":\"#2a3f5f\",\"arrowhead\":0,\"arrowwidth\":1},\"autotypenumbers\":\"strict\",\"coloraxis\":{\"colorbar\":{\"outlinewidth\":0,\"ticks\":\"\"}},\"colorscale\":{\"diverging\":[[0,\"#8e0152\"],[0.1,\"#c51b7d\"],[0.2,\"#de77ae\"],[0.3,\"#f1b6da\"],[0.4,\"#fde0ef\"],[0.5,\"#f7f7f7\"],[0.6,\"#e6f5d0\"],[0.7,\"#b8e186\"],[0.8,\"#7fbc41\"],[0.9,\"#4d9221\"],[1,\"#276419\"]],\"sequential\":[[0.0,\"#0d0887\"],[0.1111111111111111,\"#46039f\"],[0.2222222222222222,\"#7201a8\"],[0.3333333333333333,\"#9c179e\"],[0.4444444444444444,\"#bd3786\"],[0.5555555555555556,\"#d8576b\"],[0.6666666666666666,\"#ed7953\"],[0.7777777777777778,\"#fb9f3a\"],[0.8888888888888888,\"#fdca26\"],[1.0,\"#f0f921\"]],\"sequentialminus\":[[0.0,\"#0d0887\"],[0.1111111111111111,\"#46039f\"],[0.2222222222222222,\"#7201a8\"],[0.3333333333333333,\"#9c179e\"],[0.4444444444444444,\"#bd3786\"],[0.5555555555555556,\"#d8576b\"],[0.6666666666666666,\"#ed7953\"],[0.7777777777777778,\"#fb9f3a\"],[0.8888888888888888,\"#fdca26\"],[1.0,\"#f0f921\"]]},\"colorway\":[\"#636efa\",\"#EF553B\",\"#00cc96\",\"#ab63fa\",\"#FFA15A\",\"#19d3f3\",\"#FF6692\",\"#B6E880\",\"#FF97FF\",\"#FECB52\"],\"font\":{\"color\":\"#2a3f5f\"},\"geo\":{\"bgcolor\":\"white\",\"lakecolor\":\"white\",\"landcolor\":\"#E5ECF6\",\"showlakes\":true,\"showland\":true,\"subunitcolor\":\"white\"},\"hoverlabel\":{\"align\":\"left\"},\"hovermode\":\"closest\",\"mapbox\":{\"style\":\"light\"},\"paper_bgcolor\":\"white\",\"plot_bgcolor\":\"#E5ECF6\",\"polar\":{\"angularaxis\":{\"gridcolor\":\"white\",\"linecolor\":\"white\",\"ticks\":\"\"},\"bgcolor\":\"#E5ECF6\",\"radialaxis\":{\"gridcolor\":\"white\",\"linecolor\":\"white\",\"ticks\":\"\"}},\"scene\":{\"xaxis\":{\"backgroundcolor\":\"#E5ECF6\",\"gridcolor\":\"white\",\"gridwidth\":2,\"linecolor\":\"white\",\"showbackground\":true,\"ticks\":\"\",\"zerolinecolor\":\"white\"},\"yaxis\":{\"backgroundcolor\":\"#E5ECF6\",\"gridcolor\":\"white\",\"gridwidth\":2,\"linecolor\":\"white\",\"showbackground\":true,\"ticks\":\"\",\"zerolinecolor\":\"white\"},\"zaxis\":{\"backgroundcolor\":\"#E5ECF6\",\"gridcolor\":\"white\",\"gridwidth\":2,\"linecolor\":\"white\",\"showbackground\":true,\"ticks\":\"\",\"zerolinecolor\":\"white\"}},\"shapedefaults\":{\"line\":{\"color\":\"#2a3f5f\"}},\"ternary\":{\"aaxis\":{\"gridcolor\":\"white\",\"linecolor\":\"white\",\"ticks\":\"\"},\"baxis\":{\"gridcolor\":\"white\",\"linecolor\":\"white\",\"ticks\":\"\"},\"bgcolor\":\"#E5ECF6\",\"caxis\":{\"gridcolor\":\"white\",\"linecolor\":\"white\",\"ticks\":\"\"}},\"title\":{\"x\":0.05},\"xaxis\":{\"automargin\":true,\"gridcolor\":\"white\",\"linecolor\":\"white\",\"ticks\":\"\",\"title\":{\"standoff\":15},\"zerolinecolor\":\"white\",\"zerolinewidth\":2},\"yaxis\":{\"automargin\":true,\"gridcolor\":\"white\",\"linecolor\":\"white\",\"ticks\":\"\",\"title\":{\"standoff\":15},\"zerolinecolor\":\"white\",\"zerolinewidth\":2}}},\"title\":{\"text\":\"Paid-Free Games\"}},                        {\"responsive\": true}                    ).then(function(){\n",
       "                            \n",
       "var gd = document.getElementById('4b81be8f-09e0-49f2-a0c5-28d863869165');\n",
       "var x = new MutationObserver(function (mutations, observer) {{\n",
       "        var display = window.getComputedStyle(gd).display;\n",
       "        if (!display || display === 'none') {{\n",
       "            console.log([gd, 'removed!']);\n",
       "            Plotly.purge(gd);\n",
       "            observer.disconnect();\n",
       "        }}\n",
       "}});\n",
       "\n",
       "// Listen for the removal of the full notebook cells\n",
       "var notebookContainer = gd.closest('#notebook-container');\n",
       "if (notebookContainer) {{\n",
       "    x.observe(notebookContainer, {childList: true});\n",
       "}}\n",
       "\n",
       "// Listen for the clearing of the current output cell\n",
       "var outputEl = gd.closest('.output');\n",
       "if (outputEl) {{\n",
       "    x.observe(outputEl, {childList: true});\n",
       "}}\n",
       "\n",
       "                        })                };                });            </script>        </div>"
      ]
     },
     "metadata": {},
     "output_type": "display_data"
    }
   ],
   "source": [
    "# with plotly\n",
    "\n",
    "paid_free_games = df_1[\"paid\"].value_counts()\n",
    "label = [\"Free\",\"Paid\"]\n",
    "fig = px.pie(paid_free_games, values = df_1[\"paid\"].value_counts().values, names=label,\n",
    "             title = \"Paid-Free Games\")\n",
    "fig.update_traces(textposition ='inside', textinfo = 'percent+label')\n",
    "fig.show()"
   ]
  },
  {
   "cell_type": "markdown",
   "id": "78e1453e",
   "metadata": {},
   "source": [
    "### Total Ratings by Category"
   ]
  },
  {
   "cell_type": "code",
   "execution_count": 69,
   "id": "d06b359f",
   "metadata": {},
   "outputs": [
    {
     "data": {
      "text/plain": [
       "category\n",
       "GAME ACTION          4.011344e+06\n",
       "GAME CASUAL          2.470866e+06\n",
       "GAME STRATEGY        1.856570e+06\n",
       "GAME ARCADE          1.793780e+06\n",
       "GAME SPORTS          1.353829e+06\n",
       "GAME RACING          1.139027e+06\n",
       "GAME PUZZLE          9.466929e+05\n",
       "GAME SIMULATION      9.341417e+05\n",
       "GAME ADVENTURE       8.935617e+05\n",
       "GAME ROLE PLAYING    7.087648e+05\n",
       "GAME BOARD           4.457431e+05\n",
       "GAME WORD            3.943603e+05\n",
       "GAME CASINO          3.619031e+05\n",
       "GAME CARD            3.326041e+05\n",
       "GAME TRIVIA          2.982217e+05\n",
       "GAME MUSIC           2.163020e+05\n",
       "GAME EDUCATIONAL     1.529804e+05\n",
       "Name: total ratings, dtype: float64"
      ]
     },
     "execution_count": 69,
     "metadata": {},
     "output_type": "execute_result"
    }
   ],
   "source": [
    "total_ratings_by_category = df_1.groupby(\"category\")[\"total ratings\"].mean().sort_values(ascending=False)\n",
    "total_ratings_by_category"
   ]
  },
  {
   "cell_type": "code",
   "execution_count": 77,
   "id": "4c524cf8",
   "metadata": {},
   "outputs": [
    {
     "data": {
      "image/png": "[encoded data removed]",
      "text/plain": [
       "<Figure size 720x432 with 1 Axes>"
      ]
     },
     "metadata": {},
     "output_type": "display_data"
    }
   ],
   "source": [
    "# with seaborn\n",
    "\n",
    "plt.figure(figsize = (10,6))\n",
    "sns.barplot(data = df_1, x = total_ratings_by_category.index, y = total_ratings_by_category.values)\n",
    "plt.xticks(rotation = 60)\n",
    "plt.title(\"Total Ratings by Category\", fontsize = 15)\n",
    "\n",
    "plt.show()"
   ]
  },
  {
   "cell_type": "code",
   "execution_count": 78,
   "id": "025378dd",
   "metadata": {},
   "outputs": [
    {
     "data": {
      "application/vnd.plotly.v1+json": {
       "config": {
        "plotlyServerURL": "https://plot.ly"
       },
       "data": [
        {
         "alignmentgroup": "True",
         "hovertemplate": "x=%{x}<br>Total Ratings=%{y}<extra></extra>",
         "legendgroup": "",
         "marker": {
          "color": "#636efa",
          "pattern": {
           "shape": ""
          }
         },
         "name": "",
         "offsetgroup": "",
         "orientation": "v",
         "showlegend": false,
         "textposition": "auto",
         "type": "bar",
         "x": [
          "GAME ACTION",
          "GAME CASUAL",
          "GAME STRATEGY",
          "GAME ARCADE",
          "GAME SPORTS",
          "GAME RACING",
          "GAME PUZZLE",
          "GAME SIMULATION",
          "GAME ADVENTURE",
          "GAME ROLE PLAYING",
          "GAME BOARD",
          "GAME WORD",
          "GAME CASINO",
          "GAME CARD",
          "GAME TRIVIA",
          "GAME MUSIC",
          "GAME EDUCATIONAL"
         ],
         "xaxis": "x",
         "y": [
          4011343.6,
          2470866.04,
          1856569.75,
          1793779.91,
          1353828.82,
          1139026.8,
          946692.92,
          934141.65,
          893561.74,
          708764.83,
          445743.07,
          394360.32692307694,
          361903.09,
          332604.09523809527,
          298221.72,
          216302.02,
          152980.35
         ],
         "yaxis": "y"
        }
       ],
       "layout": {
        "barmode": "relative",
        "legend": {
         "tracegroupgap": 0
        },
        "template": {
         "data": {
          "bar": [
           {
            "error_x": {
             "color": "#2a3f5f"
            },
            "error_y": {
             "color": "#2a3f5f"
            },
            "marker": {
             "line": {
              "color": "#E5ECF6",
              "width": 0.5
             },
             "pattern": {
              "fillmode": "overlay",
              "size": 10,
              "solidity": 0.2
             }
            },
            "type": "bar"
           }
          ],
          "barpolar": [
           {
            "marker": {
             "line": {
              "color": "#E5ECF6",
              "width": 0.5
             },
             "pattern": {
              "fillmode": "overlay",
              "size": 10,
              "solidity": 0.2
             }
            },
            "type": "barpolar"
           }
          ],
          "carpet": [
           {
            "aaxis": {
             "endlinecolor": "#2a3f5f",
             "gridcolor": "white",
             "linecolor": "white",
             "minorgridcolor": "white",
             "startlinecolor": "#2a3f5f"
            },
            "baxis": {
             "endlinecolor": "#2a3f5f",
             "gridcolor": "white",
             "linecolor": "white",
             "minorgridcolor": "white",
             "startlinecolor": "#2a3f5f"
            },
            "type": "carpet"
           }
          ],
          "choropleth": [
           {
            "colorbar": {
             "outlinewidth": 0,
             "ticks": ""
            },
            "type": "choropleth"
           }
          ],
          "contour": [
           {
            "colorbar": {
             "outlinewidth": 0,
             "ticks": ""
            },
            "colorscale": [
             [
              0,
              "#0d0887"
             ],
             [
              0.1111111111111111,
              "#46039f"
             ],
             [
              0.2222222222222222,
              "#7201a8"
             ],
             [
              0.3333333333333333,
              "#9c179e"
             ],
             [
              0.4444444444444444,
              "#bd3786"
             ],
             [
              0.5555555555555556,
              "#d8576b"
             ],
             [
              0.6666666666666666,
              "#ed7953"
             ],
             [
              0.7777777777777778,
              "#fb9f3a"
             ],
             [
              0.8888888888888888,
              "#fdca26"
             ],
             [
              1,
              "#f0f921"
             ]
            ],
            "type": "contour"
           }
          ],
          "contourcarpet": [
           {
            "colorbar": {
             "outlinewidth": 0,
             "ticks": ""
            },
            "type": "contourcarpet"
           }
          ],
          "heatmap": [
           {
            "colorbar": {
             "outlinewidth": 0,
             "ticks": ""
            },
            "colorscale": [
             [
              0,
              "#0d0887"
             ],
             [
              0.1111111111111111,
              "#46039f"
             ],
             [
              0.2222222222222222,
              "#7201a8"
             ],
             [
              0.3333333333333333,
              "#9c179e"
             ],
             [
              0.4444444444444444,
              "#bd3786"
             ],
             [
              0.5555555555555556,
              "#d8576b"
             ],
             [
              0.6666666666666666,
              "#ed7953"
             ],
             [
              0.7777777777777778,
              "#fb9f3a"
             ],
             [
              0.8888888888888888,
              "#fdca26"
             ],
             [
              1,
              "#f0f921"
             ]
            ],
            "type": "heatmap"
           }
          ],
          "heatmapgl": [
           {
            "colorbar": {
             "outlinewidth": 0,
             "ticks": ""
            },
            "colorscale": [
             [
              0,
              "#0d0887"
             ],
             [
              0.1111111111111111,
              "#46039f"
             ],
             [
              0.2222222222222222,
              "#7201a8"
             ],
             [
              0.3333333333333333,
              "#9c179e"
             ],
             [
              0.4444444444444444,
              "#bd3786"
             ],
             [
              0.5555555555555556,
              "#d8576b"
             ],
             [
              0.6666666666666666,
              "#ed7953"
             ],
             [
              0.7777777777777778,
              "#fb9f3a"
             ],
             [
              0.8888888888888888,
              "#fdca26"
             ],
             [
              1,
              "#f0f921"
             ]
            ],
            "type": "heatmapgl"
           }
          ],
          "histogram": [
           {
            "marker": {
             "pattern": {
              "fillmode": "overlay",
              "size": 10,
              "solidity": 0.2
             }
            },
            "type": "histogram"
           }
          ],
          "histogram2d": [
           {
            "colorbar": {
             "outlinewidth": 0,
             "ticks": ""
            },
            "colorscale": [
             [
              0,
              "#0d0887"
             ],
             [
              0.1111111111111111,
              "#46039f"
             ],
             [
              0.2222222222222222,
              "#7201a8"
             ],
             [
              0.3333333333333333,
              "#9c179e"
             ],
             [
              0.4444444444444444,
              "#bd3786"
             ],
             [
              0.5555555555555556,
              "#d8576b"
             ],
             [
              0.6666666666666666,
              "#ed7953"
             ],
             [
              0.7777777777777778,
              "#fb9f3a"
             ],
             [
              0.8888888888888888,
              "#fdca26"
             ],
             [
              1,
              "#f0f921"
             ]
            ],
            "type": "histogram2d"
           }
          ],
          "histogram2dcontour": [
           {
            "colorbar": {
             "outlinewidth": 0,
             "ticks": ""
            },
            "colorscale": [
             [
              0,
              "#0d0887"
             ],
             [
              0.1111111111111111,
              "#46039f"
             ],
             [
              0.2222222222222222,
              "#7201a8"
             ],
             [
              0.3333333333333333,
              "#9c179e"
             ],
             [
              0.4444444444444444,
              "#bd3786"
             ],
             [
              0.5555555555555556,
              "#d8576b"
             ],
             [
              0.6666666666666666,
              "#ed7953"
             ],
             [
              0.7777777777777778,
              "#fb9f3a"
             ],
             [
              0.8888888888888888,
              "#fdca26"
             ],
             [
              1,
              "#f0f921"
             ]
            ],
            "type": "histogram2dcontour"
           }
          ],
          "mesh3d": [
           {
            "colorbar": {
             "outlinewidth": 0,
             "ticks": ""
            },
            "type": "mesh3d"
           }
          ],
          "parcoords": [
           {
            "line": {
             "colorbar": {
              "outlinewidth": 0,
              "ticks": ""
             }
            },
            "type": "parcoords"
           }
          ],
          "pie": [
           {
            "automargin": true,
            "type": "pie"
           }
          ],
          "scatter": [
           {
            "marker": {
             "colorbar": {
              "outlinewidth": 0,
              "ticks": ""
             }
            },
            "type": "scatter"
           }
          ],
          "scatter3d": [
           {
            "line": {
             "colorbar": {
              "outlinewidth": 0,
              "ticks": ""
             }
            },
            "marker": {
             "colorbar": {
              "outlinewidth": 0,
              "ticks": ""
             }
            },
            "type": "scatter3d"
           }
          ],
          "scattercarpet": [
           {
            "marker": {
             "colorbar": {
              "outlinewidth": 0,
              "ticks": ""
             }
            },
            "type": "scattercarpet"
           }
          ],
          "scattergeo": [
           {
            "marker": {
             "colorbar": {
              "outlinewidth": 0,
              "ticks": ""
             }
            },
            "type": "scattergeo"
           }
          ],
          "scattergl": [
           {
            "marker": {
             "colorbar": {
              "outlinewidth": 0,
              "ticks": ""
             }
            },
            "type": "scattergl"
           }
          ],
          "scattermapbox": [
           {
            "marker": {
             "colorbar": {
              "outlinewidth": 0,
              "ticks": ""
             }
            },
            "type": "scattermapbox"
           }
          ],
          "scatterpolar": [
           {
            "marker": {
             "colorbar": {
              "outlinewidth": 0,
              "ticks": ""
             }
            },
            "type": "scatterpolar"
           }
          ],
          "scatterpolargl": [
           {
            "marker": {
             "colorbar": {
              "outlinewidth": 0,
              "ticks": ""
             }
            },
            "type": "scatterpolargl"
           }
          ],
          "scatterternary": [
           {
            "marker": {
             "colorbar": {
              "outlinewidth": 0,
              "ticks": ""
             }
            },
            "type": "scatterternary"
           }
          ],
          "surface": [
           {
            "colorbar": {
             "outlinewidth": 0,
             "ticks": ""
            },
            "colorscale": [
             [
              0,
              "#0d0887"
             ],
             [
              0.1111111111111111,
              "#46039f"
             ],
             [
              0.2222222222222222,
              "#7201a8"
             ],
             [
              0.3333333333333333,
              "#9c179e"
             ],
             [
              0.4444444444444444,
              "#bd3786"
             ],
             [
              0.5555555555555556,
              "#d8576b"
             ],
             [
              0.6666666666666666,
              "#ed7953"
             ],
             [
              0.7777777777777778,
              "#fb9f3a"
             ],
             [
              0.8888888888888888,
              "#fdca26"
             ],
             [
              1,
              "#f0f921"
             ]
            ],
            "type": "surface"
           }
          ],
          "table": [
           {
            "cells": {
             "fill": {
              "color": "#EBF0F8"
             },
             "line": {
              "color": "white"
             }
            },
            "header": {
             "fill": {
              "color": "#C8D4E3"
             },
             "line": {
              "color": "white"
             }
            },
            "type": "table"
           }
          ]
         },
         "layout": {
          "annotationdefaults": {
           "arrowcolor": "#2a3f5f",
           "arrowhead": 0,
           "arrowwidth": 1
          },
          "autotypenumbers": "strict",
          "coloraxis": {
           "colorbar": {
            "outlinewidth": 0,
            "ticks": ""
           }
          },
          "colorscale": {
           "diverging": [
            [
             0,
             "#8e0152"
            ],
            [
             0.1,
             "#c51b7d"
            ],
            [
             0.2,
             "#de77ae"
            ],
            [
             0.3,
             "#f1b6da"
            ],
            [
             0.4,
             "#fde0ef"
            ],
            [
             0.5,
             "#f7f7f7"
            ],
            [
             0.6,
             "#e6f5d0"
            ],
            [
             0.7,
             "#b8e186"
            ],
            [
             0.8,
             "#7fbc41"
            ],
            [
             0.9,
             "#4d9221"
            ],
            [
             1,
             "#276419"
            ]
           ],
           "sequential": [
            [
             0,
             "#0d0887"
            ],
            [
             0.1111111111111111,
             "#46039f"
            ],
            [
             0.2222222222222222,
             "#7201a8"
            ],
            [
             0.3333333333333333,
             "#9c179e"
            ],
            [
             0.4444444444444444,
             "#bd3786"
            ],
            [
             0.5555555555555556,
             "#d8576b"
            ],
            [
             0.6666666666666666,
             "#ed7953"
            ],
            [
             0.7777777777777778,
             "#fb9f3a"
            ],
            [
             0.8888888888888888,
             "#fdca26"
            ],
            [
             1,
             "#f0f921"
            ]
           ],
           "sequentialminus": [
            [
             0,
             "#0d0887"
            ],
            [
             0.1111111111111111,
             "#46039f"
            ],
            [
             0.2222222222222222,
             "#7201a8"
            ],
            [
             0.3333333333333333,
             "#9c179e"
            ],
            [
             0.4444444444444444,
             "#bd3786"
            ],
            [
             0.5555555555555556,
             "#d8576b"
            ],
            [
             0.6666666666666666,
             "#ed7953"
            ],
            [
             0.7777777777777778,
             "#fb9f3a"
            ],
            [
             0.8888888888888888,
             "#fdca26"
            ],
            [
             1,
             "#f0f921"
            ]
           ]
          },
          "colorway": [
           "#636efa",
           "#EF553B",
           "#00cc96",
           "#ab63fa",
           "#FFA15A",
           "#19d3f3",
           "#FF6692",
           "#B6E880",
           "#FF97FF",
           "#FECB52"
          ],
          "font": {
           "color": "#2a3f5f"
          },
          "geo": {
           "bgcolor": "white",
           "lakecolor": "white",
           "landcolor": "#E5ECF6",
           "showlakes": true,
           "showland": true,
           "subunitcolor": "white"
          },
          "hoverlabel": {
           "align": "left"
          },
          "hovermode": "closest",
          "mapbox": {
           "style": "light"
          },
          "paper_bgcolor": "white",
          "plot_bgcolor": "#E5ECF6",
          "polar": {
           "angularaxis": {
            "gridcolor": "white",
            "linecolor": "white",
            "ticks": ""
           },
           "bgcolor": "#E5ECF6",
           "radialaxis": {
            "gridcolor": "white",
            "linecolor": "white",
            "ticks": ""
           }
          },
          "scene": {
           "xaxis": {
            "backgroundcolor": "#E5ECF6",
            "gridcolor": "white",
            "gridwidth": 2,
            "linecolor": "white",
            "showbackground": true,
            "ticks": "",
            "zerolinecolor": "white"
           },
           "yaxis": {
            "backgroundcolor": "#E5ECF6",
            "gridcolor": "white",
            "gridwidth": 2,
            "linecolor": "white",
            "showbackground": true,
            "ticks": "",
            "zerolinecolor": "white"
           },
           "zaxis": {
            "backgroundcolor": "#E5ECF6",
            "gridcolor": "white",
            "gridwidth": 2,
            "linecolor": "white",
            "showbackground": true,
            "ticks": "",
            "zerolinecolor": "white"
           }
          },
          "shapedefaults": {
           "line": {
            "color": "#2a3f5f"
           }
          },
          "ternary": {
           "aaxis": {
            "gridcolor": "white",
            "linecolor": "white",
            "ticks": ""
           },
           "baxis": {
            "gridcolor": "white",
            "linecolor": "white",
            "ticks": ""
           },
           "bgcolor": "#E5ECF6",
           "caxis": {
            "gridcolor": "white",
            "linecolor": "white",
            "ticks": ""
           }
          },
          "title": {
           "x": 0.05
          },
          "xaxis": {
           "automargin": true,
           "gridcolor": "white",
           "linecolor": "white",
           "ticks": "",
           "title": {
            "standoff": 15
           },
           "zerolinecolor": "white",
           "zerolinewidth": 2
          },
          "yaxis": {
           "automargin": true,
           "gridcolor": "white",
           "linecolor": "white",
           "ticks": "",
           "title": {
            "standoff": 15
           },
           "zerolinecolor": "white",
           "zerolinewidth": 2
          }
         }
        },
        "title": {
         "text": "Total Ratings by Category"
        },
        "xaxis": {
         "categoryorder": "total descending",
         "tickangle": 60
        },
        "yaxis": {
         "anchor": "x",
         "domain": [
          0,
          1
         ],
         "title": {
          "text": "Total Ratings"
         }
        }
       }
      },
      "text/html": [
       "<div>                            <div id=\"214d9251-6fa0-4e22-b379-c72956672b8a\" class=\"plotly-graph-div\" style=\"height:525px; width:100%;\"></div>            <script type=\"text/javascript\">                require([\"plotly\"], function(Plotly) {                    window.PLOTLYENV=window.PLOTLYENV || {};                                    if (document.getElementById(\"214d9251-6fa0-4e22-b379-c72956672b8a\")) {                    Plotly.newPlot(                        \"214d9251-6fa0-4e22-b379-c72956672b8a\",                        [{\"alignmentgroup\":\"True\",\"hovertemplate\":\"x=%{x}<br>Total Ratings=%{y}<extra></extra>\",\"legendgroup\":\"\",\"marker\":{\"color\":\"#636efa\",\"pattern\":{\"shape\":\"\"}},\"name\":\"\",\"offsetgroup\":\"\",\"orientation\":\"v\",\"showlegend\":false,\"textposition\":\"auto\",\"type\":\"bar\",\"x\":[\"GAME ACTION\",\"GAME CASUAL\",\"GAME STRATEGY\",\"GAME ARCADE\",\"GAME SPORTS\",\"GAME RACING\",\"GAME PUZZLE\",\"GAME SIMULATION\",\"GAME ADVENTURE\",\"GAME ROLE PLAYING\",\"GAME BOARD\",\"GAME WORD\",\"GAME CASINO\",\"GAME CARD\",\"GAME TRIVIA\",\"GAME MUSIC\",\"GAME EDUCATIONAL\"],\"xaxis\":\"x\",\"y\":[4011343.6,2470866.04,1856569.75,1793779.91,1353828.82,1139026.8,946692.92,934141.65,893561.74,708764.83,445743.07,394360.32692307694,361903.09,332604.09523809527,298221.72,216302.02,152980.35],\"yaxis\":\"y\"}],                        {\"barmode\":\"relative\",\"legend\":{\"tracegroupgap\":0},\"template\":{\"data\":{\"bar\":[{\"error_x\":{\"color\":\"#2a3f5f\"},\"error_y\":{\"color\":\"#2a3f5f\"},\"marker\":{\"line\":{\"color\":\"#E5ECF6\",\"width\":0.5},\"pattern\":{\"fillmode\":\"overlay\",\"size\":10,\"solidity\":0.2}},\"type\":\"bar\"}],\"barpolar\":[{\"marker\":{\"line\":{\"color\":\"#E5ECF6\",\"width\":0.5},\"pattern\":{\"fillmode\":\"overlay\",\"size\":10,\"solidity\":0.2}},\"type\":\"barpolar\"}],\"carpet\":[{\"aaxis\":{\"endlinecolor\":\"#2a3f5f\",\"gridcolor\":\"white\",\"linecolor\":\"white\",\"minorgridcolor\":\"white\",\"startlinecolor\":\"#2a3f5f\"},\"baxis\":{\"endlinecolor\":\"#2a3f5f\",\"gridcolor\":\"white\",\"linecolor\":\"white\",\"minorgridcolor\":\"white\",\"startlinecolor\":\"#2a3f5f\"},\"type\":\"carpet\"}],\"choropleth\":[{\"colorbar\":{\"outlinewidth\":0,\"ticks\":\"\"},\"type\":\"choropleth\"}],\"contour\":[{\"colorbar\":{\"outlinewidth\":0,\"ticks\":\"\"},\"colorscale\":[[0.0,\"#0d0887\"],[0.1111111111111111,\"#46039f\"],[0.2222222222222222,\"#7201a8\"],[0.3333333333333333,\"#9c179e\"],[0.4444444444444444,\"#bd3786\"],[0.5555555555555556,\"#d8576b\"],[0.6666666666666666,\"#ed7953\"],[0.7777777777777778,\"#fb9f3a\"],[0.8888888888888888,\"#fdca26\"],[1.0,\"#f0f921\"]],\"type\":\"contour\"}],\"contourcarpet\":[{\"colorbar\":{\"outlinewidth\":0,\"ticks\":\"\"},\"type\":\"contourcarpet\"}],\"heatmap\":[{\"colorbar\":{\"outlinewidth\":0,\"ticks\":\"\"},\"colorscale\":[[0.0,\"#0d0887\"],[0.1111111111111111,\"#46039f\"],[0.2222222222222222,\"#7201a8\"],[0.3333333333333333,\"#9c179e\"],[0.4444444444444444,\"#bd3786\"],[0.5555555555555556,\"#d8576b\"],[0.6666666666666666,\"#ed7953\"],[0.7777777777777778,\"#fb9f3a\"],[0.8888888888888888,\"#fdca26\"],[1.0,\"#f0f921\"]],\"type\":\"heatmap\"}],\"heatmapgl\":[{\"colorbar\":{\"outlinewidth\":0,\"ticks\":\"\"},\"colorscale\":[[0.0,\"#0d0887\"],[0.1111111111111111,\"#46039f\"],[0.2222222222222222,\"#7201a8\"],[0.3333333333333333,\"#9c179e\"],[0.4444444444444444,\"#bd3786\"],[0.5555555555555556,\"#d8576b\"],[0.6666666666666666,\"#ed7953\"],[0.7777777777777778,\"#fb9f3a\"],[0.8888888888888888,\"#fdca26\"],[1.0,\"#f0f921\"]],\"type\":\"heatmapgl\"}],\"histogram\":[{\"marker\":{\"pattern\":{\"fillmode\":\"overlay\",\"size\":10,\"solidity\":0.2}},\"type\":\"histogram\"}],\"histogram2d\":[{\"colorbar\":{\"outlinewidth\":0,\"ticks\":\"\"},\"colorscale\":[[0.0,\"#0d0887\"],[0.1111111111111111,\"#46039f\"],[0.2222222222222222,\"#7201a8\"],[0.3333333333333333,\"#9c179e\"],[0.4444444444444444,\"#bd3786\"],[0.5555555555555556,\"#d8576b\"],[0.6666666666666666,\"#ed7953\"],[0.7777777777777778,\"#fb9f3a\"],[0.8888888888888888,\"#fdca26\"],[1.0,\"#f0f921\"]],\"type\":\"histogram2d\"}],\"histogram2dcontour\":[{\"colorbar\":{\"outlinewidth\":0,\"ticks\":\"\"},\"colorscale\":[[0.0,\"#0d0887\"],[0.1111111111111111,\"#46039f\"],[0.2222222222222222,\"#7201a8\"],[0.3333333333333333,\"#9c179e\"],[0.4444444444444444,\"#bd3786\"],[0.5555555555555556,\"#d8576b\"],[0.6666666666666666,\"#ed7953\"],[0.7777777777777778,\"#fb9f3a\"],[0.8888888888888888,\"#fdca26\"],[1.0,\"#f0f921\"]],\"type\":\"histogram2dcontour\"}],\"mesh3d\":[{\"colorbar\":{\"outlinewidth\":0,\"ticks\":\"\"},\"type\":\"mesh3d\"}],\"parcoords\":[{\"line\":{\"colorbar\":{\"outlinewidth\":0,\"ticks\":\"\"}},\"type\":\"parcoords\"}],\"pie\":[{\"automargin\":true,\"type\":\"pie\"}],\"scatter\":[{\"marker\":{\"colorbar\":{\"outlinewidth\":0,\"ticks\":\"\"}},\"type\":\"scatter\"}],\"scatter3d\":[{\"line\":{\"colorbar\":{\"outlinewidth\":0,\"ticks\":\"\"}},\"marker\":{\"colorbar\":{\"outlinewidth\":0,\"ticks\":\"\"}},\"type\":\"scatter3d\"}],\"scattercarpet\":[{\"marker\":{\"colorbar\":{\"outlinewidth\":0,\"ticks\":\"\"}},\"type\":\"scattercarpet\"}],\"scattergeo\":[{\"marker\":{\"colorbar\":{\"outlinewidth\":0,\"ticks\":\"\"}},\"type\":\"scattergeo\"}],\"scattergl\":[{\"marker\":{\"colorbar\":{\"outlinewidth\":0,\"ticks\":\"\"}},\"type\":\"scattergl\"}],\"scattermapbox\":[{\"marker\":{\"colorbar\":{\"outlinewidth\":0,\"ticks\":\"\"}},\"type\":\"scattermapbox\"}],\"scatterpolar\":[{\"marker\":{\"colorbar\":{\"outlinewidth\":0,\"ticks\":\"\"}},\"type\":\"scatterpolar\"}],\"scatterpolargl\":[{\"marker\":{\"colorbar\":{\"outlinewidth\":0,\"ticks\":\"\"}},\"type\":\"scatterpolargl\"}],\"scatterternary\":[{\"marker\":{\"colorbar\":{\"outlinewidth\":0,\"ticks\":\"\"}},\"type\":\"scatterternary\"}],\"surface\":[{\"colorbar\":{\"outlinewidth\":0,\"ticks\":\"\"},\"colorscale\":[[0.0,\"#0d0887\"],[0.1111111111111111,\"#46039f\"],[0.2222222222222222,\"#7201a8\"],[0.3333333333333333,\"#9c179e\"],[0.4444444444444444,\"#bd3786\"],[0.5555555555555556,\"#d8576b\"],[0.6666666666666666,\"#ed7953\"],[0.7777777777777778,\"#fb9f3a\"],[0.8888888888888888,\"#fdca26\"],[1.0,\"#f0f921\"]],\"type\":\"surface\"}],\"table\":[{\"cells\":{\"fill\":{\"color\":\"#EBF0F8\"},\"line\":{\"color\":\"white\"}},\"header\":{\"fill\":{\"color\":\"#C8D4E3\"},\"line\":{\"color\":\"white\"}},\"type\":\"table\"}]},\"layout\":{\"annotationdefaults\":{\"arrowcolor\":\"#2a3f5f\",\"arrowhead\":0,\"arrowwidth\":1},\"autotypenumbers\":\"strict\",\"coloraxis\":{\"colorbar\":{\"outlinewidth\":0,\"ticks\":\"\"}},\"colorscale\":{\"diverging\":[[0,\"#8e0152\"],[0.1,\"#c51b7d\"],[0.2,\"#de77ae\"],[0.3,\"#f1b6da\"],[0.4,\"#fde0ef\"],[0.5,\"#f7f7f7\"],[0.6,\"#e6f5d0\"],[0.7,\"#b8e186\"],[0.8,\"#7fbc41\"],[0.9,\"#4d9221\"],[1,\"#276419\"]],\"sequential\":[[0.0,\"#0d0887\"],[0.1111111111111111,\"#46039f\"],[0.2222222222222222,\"#7201a8\"],[0.3333333333333333,\"#9c179e\"],[0.4444444444444444,\"#bd3786\"],[0.5555555555555556,\"#d8576b\"],[0.6666666666666666,\"#ed7953\"],[0.7777777777777778,\"#fb9f3a\"],[0.8888888888888888,\"#fdca26\"],[1.0,\"#f0f921\"]],\"sequentialminus\":[[0.0,\"#0d0887\"],[0.1111111111111111,\"#46039f\"],[0.2222222222222222,\"#7201a8\"],[0.3333333333333333,\"#9c179e\"],[0.4444444444444444,\"#bd3786\"],[0.5555555555555556,\"#d8576b\"],[0.6666666666666666,\"#ed7953\"],[0.7777777777777778,\"#fb9f3a\"],[0.8888888888888888,\"#fdca26\"],[1.0,\"#f0f921\"]]},\"colorway\":[\"#636efa\",\"#EF553B\",\"#00cc96\",\"#ab63fa\",\"#FFA15A\",\"#19d3f3\",\"#FF6692\",\"#B6E880\",\"#FF97FF\",\"#FECB52\"],\"font\":{\"color\":\"#2a3f5f\"},\"geo\":{\"bgcolor\":\"white\",\"lakecolor\":\"white\",\"landcolor\":\"#E5ECF6\",\"showlakes\":true,\"showland\":true,\"subunitcolor\":\"white\"},\"hoverlabel\":{\"align\":\"left\"},\"hovermode\":\"closest\",\"mapbox\":{\"style\":\"light\"},\"paper_bgcolor\":\"white\",\"plot_bgcolor\":\"#E5ECF6\",\"polar\":{\"angularaxis\":{\"gridcolor\":\"white\",\"linecolor\":\"white\",\"ticks\":\"\"},\"bgcolor\":\"#E5ECF6\",\"radialaxis\":{\"gridcolor\":\"white\",\"linecolor\":\"white\",\"ticks\":\"\"}},\"scene\":{\"xaxis\":{\"backgroundcolor\":\"#E5ECF6\",\"gridcolor\":\"white\",\"gridwidth\":2,\"linecolor\":\"white\",\"showbackground\":true,\"ticks\":\"\",\"zerolinecolor\":\"white\"},\"yaxis\":{\"backgroundcolor\":\"#E5ECF6\",\"gridcolor\":\"white\",\"gridwidth\":2,\"linecolor\":\"white\",\"showbackground\":true,\"ticks\":\"\",\"zerolinecolor\":\"white\"},\"zaxis\":{\"backgroundcolor\":\"#E5ECF6\",\"gridcolor\":\"white\",\"gridwidth\":2,\"linecolor\":\"white\",\"showbackground\":true,\"ticks\":\"\",\"zerolinecolor\":\"white\"}},\"shapedefaults\":{\"line\":{\"color\":\"#2a3f5f\"}},\"ternary\":{\"aaxis\":{\"gridcolor\":\"white\",\"linecolor\":\"white\",\"ticks\":\"\"},\"baxis\":{\"gridcolor\":\"white\",\"linecolor\":\"white\",\"ticks\":\"\"},\"bgcolor\":\"#E5ECF6\",\"caxis\":{\"gridcolor\":\"white\",\"linecolor\":\"white\",\"ticks\":\"\"}},\"title\":{\"x\":0.05},\"xaxis\":{\"automargin\":true,\"gridcolor\":\"white\",\"linecolor\":\"white\",\"ticks\":\"\",\"title\":{\"standoff\":15},\"zerolinecolor\":\"white\",\"zerolinewidth\":2},\"yaxis\":{\"automargin\":true,\"gridcolor\":\"white\",\"linecolor\":\"white\",\"ticks\":\"\",\"title\":{\"standoff\":15},\"zerolinecolor\":\"white\",\"zerolinewidth\":2}}},\"title\":{\"text\":\"Total Ratings by Category\"},\"xaxis\":{\"categoryorder\":\"total descending\",\"tickangle\":60},\"yaxis\":{\"anchor\":\"x\",\"domain\":[0.0,1.0],\"title\":{\"text\":\"Total Ratings\"}}},                        {\"responsive\": true}                    ).then(function(){\n",
       "                            \n",
       "var gd = document.getElementById('214d9251-6fa0-4e22-b379-c72956672b8a');\n",
       "var x = new MutationObserver(function (mutations, observer) {{\n",
       "        var display = window.getComputedStyle(gd).display;\n",
       "        if (!display || display === 'none') {{\n",
       "            console.log([gd, 'removed!']);\n",
       "            Plotly.purge(gd);\n",
       "            observer.disconnect();\n",
       "        }}\n",
       "}});\n",
       "\n",
       "// Listen for the removal of the full notebook cells\n",
       "var notebookContainer = gd.closest('#notebook-container');\n",
       "if (notebookContainer) {{\n",
       "    x.observe(notebookContainer, {childList: true});\n",
       "}}\n",
       "\n",
       "// Listen for the clearing of the current output cell\n",
       "var outputEl = gd.closest('.output');\n",
       "if (outputEl) {{\n",
       "    x.observe(outputEl, {childList: true});\n",
       "}}\n",
       "\n",
       "                        })                };                });            </script>        </div>"
      ]
     },
     "metadata": {},
     "output_type": "display_data"
    }
   ],
   "source": [
    "fig = px.bar(data_frame = df_1, x = total_ratings_by_category.index, y = total_ratings_by_category.values, \n",
    "             labels = {\"y\" : \"Total Ratings\"}, title = \"Total Ratings by Category\")\n",
    "fig.update_layout(xaxis = go.layout.XAxis(tickangle = 60))\n",
    "fig.update_layout(xaxis = {'categoryorder':'total descending'})\n",
    "fig.show()"
   ]
  },
  {
   "cell_type": "markdown",
   "id": "644a810a",
   "metadata": {},
   "source": [
    "### Number of Installations by Category"
   ]
  },
  {
   "cell_type": "code",
   "execution_count": 79,
   "id": "8bbefd68",
   "metadata": {},
   "outputs": [
    {
     "data": {
      "text/plain": [
       "category\n",
       "GAME ACTION          74.100000\n",
       "GAME ARCADE          71.610000\n",
       "GAME CASUAL          63.970000\n",
       "GAME RACING          46.750000\n",
       "GAME PUZZLE          36.210000\n",
       "GAME SPORTS          33.610000\n",
       "GAME SIMULATION      27.710000\n",
       "GAME STRATEGY        23.910000\n",
       "GAME BOARD           21.230000\n",
       "GAME ADVENTURE       18.030000\n",
       "GAME EDUCATIONAL     17.895000\n",
       "GAME ROLE PLAYING    14.080000\n",
       "GAME MUSIC           12.487000\n",
       "GAME CARD            12.484127\n",
       "GAME WORD            12.317308\n",
       "GAME CASINO           7.715000\n",
       "GAME TRIVIA           6.901000\n",
       "Name: installs_in_million, dtype: float64"
      ]
     },
     "execution_count": 79,
     "metadata": {},
     "output_type": "execute_result"
    }
   ],
   "source": [
    "number_installations_by_category = df_1.groupby(\"category\")[\"installs_in_million\"].mean().sort_values(ascending=False)\n",
    "number_installations_by_category"
   ]
  },
  {
   "cell_type": "code",
   "execution_count": 80,
   "id": "1087b32e",
   "metadata": {},
   "outputs": [
    {
     "data": {
      "image/png": "[encoded data removed]",
      "text/plain": [
       "<Figure size 720x432 with 1 Axes>"
      ]
     },
     "metadata": {},
     "output_type": "display_data"
    }
   ],
   "source": [
    "# with seaborn\n",
    "\n",
    "plt.figure(figsize = (10,6))\n",
    "sns.barplot(data = df_1, x = number_installations_by_category.index, y = number_installations_by_category.values)\n",
    "plt.xticks(rotation = 60)\n",
    "plt.title(\"Number of Installations by Category\", fontsize = 15)\n",
    "plt.show()"
   ]
  },
  {
   "cell_type": "code",
   "execution_count": 81,
   "id": "a72207d1",
   "metadata": {},
   "outputs": [
    {
     "data": {
      "application/vnd.plotly.v1+json": {
       "config": {
        "plotlyServerURL": "https://plot.ly"
       },
       "data": [
        {
         "alignmentgroup": "True",
         "hovertemplate": "x=%{x}<br>Install=%{y}<extra></extra>",
         "legendgroup": "",
         "marker": {
          "color": "#636efa",
          "pattern": {
           "shape": ""
          }
         },
         "name": "",
         "offsetgroup": "",
         "orientation": "v",
         "showlegend": false,
         "textposition": "auto",
         "type": "bar",
         "x": [
          "GAME ACTION",
          "GAME ARCADE",
          "GAME CASUAL",
          "GAME RACING",
          "GAME PUZZLE",
          "GAME SPORTS",
          "GAME SIMULATION",
          "GAME STRATEGY",
          "GAME BOARD",
          "GAME ADVENTURE",
          "GAME EDUCATIONAL",
          "GAME ROLE PLAYING",
          "GAME MUSIC",
          "GAME CARD",
          "GAME WORD",
          "GAME CASINO",
          "GAME TRIVIA"
         ],
         "xaxis": "x",
         "y": [
          74.1,
          71.61,
          63.97,
          46.75,
          36.21,
          33.61,
          27.71,
          23.91,
          21.23,
          18.03,
          17.895,
          14.08,
          12.486999999999998,
          12.484126984126984,
          12.317307692307692,
          7.715,
          6.901
         ],
         "yaxis": "y"
        }
       ],
       "layout": {
        "barmode": "relative",
        "legend": {
         "tracegroupgap": 0
        },
        "template": {
         "data": {
          "bar": [
           {
            "error_x": {
             "color": "#2a3f5f"
            },
            "error_y": {
             "color": "#2a3f5f"
            },
            "marker": {
             "line": {
              "color": "#E5ECF6",
              "width": 0.5
             },
             "pattern": {
              "fillmode": "overlay",
              "size": 10,
              "solidity": 0.2
             }
            },
            "type": "bar"
           }
          ],
          "barpolar": [
           {
            "marker": {
             "line": {
              "color": "#E5ECF6",
              "width": 0.5
             },
             "pattern": {
              "fillmode": "overlay",
              "size": 10,
              "solidity": 0.2
             }
            },
            "type": "barpolar"
           }
          ],
          "carpet": [
           {
            "aaxis": {
             "endlinecolor": "#2a3f5f",
             "gridcolor": "white",
             "linecolor": "white",
             "minorgridcolor": "white",
             "startlinecolor": "#2a3f5f"
            },
            "baxis": {
             "endlinecolor": "#2a3f5f",
             "gridcolor": "white",
             "linecolor": "white",
             "minorgridcolor": "white",
             "startlinecolor": "#2a3f5f"
            },
            "type": "carpet"
           }
          ],
          "choropleth": [
           {
            "colorbar": {
             "outlinewidth": 0,
             "ticks": ""
            },
            "type": "choropleth"
           }
          ],
          "contour": [
           {
            "colorbar": {
             "outlinewidth": 0,
             "ticks": ""
            },
            "colorscale": [
             [
              0,
              "#0d0887"
             ],
             [
              0.1111111111111111,
              "#46039f"
             ],
             [
              0.2222222222222222,
              "#7201a8"
             ],
             [
              0.3333333333333333,
              "#9c179e"
             ],
             [
              0.4444444444444444,
              "#bd3786"
             ],
             [
              0.5555555555555556,
              "#d8576b"
             ],
             [
              0.6666666666666666,
              "#ed7953"
             ],
             [
              0.7777777777777778,
              "#fb9f3a"
             ],
             [
              0.8888888888888888,
              "#fdca26"
             ],
             [
              1,
              "#f0f921"
             ]
            ],
            "type": "contour"
           }
          ],
          "contourcarpet": [
           {
            "colorbar": {
             "outlinewidth": 0,
             "ticks": ""
            },
            "type": "contourcarpet"
           }
          ],
          "heatmap": [
           {
            "colorbar": {
             "outlinewidth": 0,
             "ticks": ""
            },
            "colorscale": [
             [
              0,
              "#0d0887"
             ],
             [
              0.1111111111111111,
              "#46039f"
             ],
             [
              0.2222222222222222,
              "#7201a8"
             ],
             [
              0.3333333333333333,
              "#9c179e"
             ],
             [
              0.4444444444444444,
              "#bd3786"
             ],
             [
              0.5555555555555556,
              "#d8576b"
             ],
             [
              0.6666666666666666,
              "#ed7953"
             ],
             [
              0.7777777777777778,
              "#fb9f3a"
             ],
             [
              0.8888888888888888,
              "#fdca26"
             ],
             [
              1,
              "#f0f921"
             ]
            ],
            "type": "heatmap"
           }
          ],
          "heatmapgl": [
           {
            "colorbar": {
             "outlinewidth": 0,
             "ticks": ""
            },
            "colorscale": [
             [
              0,
              "#0d0887"
             ],
             [
              0.1111111111111111,
              "#46039f"
             ],
             [
              0.2222222222222222,
              "#7201a8"
             ],
             [
              0.3333333333333333,
              "#9c179e"
             ],
             [
              0.4444444444444444,
              "#bd3786"
             ],
             [
              0.5555555555555556,
              "#d8576b"
             ],
             [
              0.6666666666666666,
              "#ed7953"
             ],
             [
              0.7777777777777778,
              "#fb9f3a"
             ],
             [
              0.8888888888888888,
              "#fdca26"
             ],
             [
              1,
              "#f0f921"
             ]
            ],
            "type": "heatmapgl"
           }
          ],
          "histogram": [
           {
            "marker": {
             "pattern": {
              "fillmode": "overlay",
              "size": 10,
              "solidity": 0.2
             }
            },
            "type": "histogram"
           }
          ],
          "histogram2d": [
           {
            "colorbar": {
             "outlinewidth": 0,
             "ticks": ""
            },
            "colorscale": [
             [
              0,
              "#0d0887"
             ],
             [
              0.1111111111111111,
              "#46039f"
             ],
             [
              0.2222222222222222,
              "#7201a8"
             ],
             [
              0.3333333333333333,
              "#9c179e"
             ],
             [
              0.4444444444444444,
              "#bd3786"
             ],
             [
              0.5555555555555556,
              "#d8576b"
             ],
             [
              0.6666666666666666,
              "#ed7953"
             ],
             [
              0.7777777777777778,
              "#fb9f3a"
             ],
             [
              0.8888888888888888,
              "#fdca26"
             ],
             [
              1,
              "#f0f921"
             ]
            ],
            "type": "histogram2d"
           }
          ],
          "histogram2dcontour": [
           {
            "colorbar": {
             "outlinewidth": 0,
             "ticks": ""
            },
            "colorscale": [
             [
              0,
              "#0d0887"
             ],
             [
              0.1111111111111111,
              "#46039f"
             ],
             [
              0.2222222222222222,
              "#7201a8"
             ],
             [
              0.3333333333333333,
              "#9c179e"
             ],
             [
              0.4444444444444444,
              "#bd3786"
             ],
             [
              0.5555555555555556,
              "#d8576b"
             ],
             [
              0.6666666666666666,
              "#ed7953"
             ],
             [
              0.7777777777777778,
              "#fb9f3a"
             ],
             [
              0.8888888888888888,
              "#fdca26"
             ],
             [
              1,
              "#f0f921"
             ]
            ],
            "type": "histogram2dcontour"
           }
          ],
          "mesh3d": [
           {
            "colorbar": {
             "outlinewidth": 0,
             "ticks": ""
            },
            "type": "mesh3d"
           }
          ],
          "parcoords": [
           {
            "line": {
             "colorbar": {
              "outlinewidth": 0,
              "ticks": ""
             }
            },
            "type": "parcoords"
           }
          ],
          "pie": [
           {
            "automargin": true,
            "type": "pie"
           }
          ],
          "scatter": [
           {
            "marker": {
             "colorbar": {
              "outlinewidth": 0,
              "ticks": ""
             }
            },
            "type": "scatter"
           }
          ],
          "scatter3d": [
           {
            "line": {
             "colorbar": {
              "outlinewidth": 0,
              "ticks": ""
             }
            },
            "marker": {
             "colorbar": {
              "outlinewidth": 0,
              "ticks": ""
             }
            },
            "type": "scatter3d"
           }
          ],
          "scattercarpet": [
           {
            "marker": {
             "colorbar": {
              "outlinewidth": 0,
              "ticks": ""
             }
            },
            "type": "scattercarpet"
           }
          ],
          "scattergeo": [
           {
            "marker": {
             "colorbar": {
              "outlinewidth": 0,
              "ticks": ""
             }
            },
            "type": "scattergeo"
           }
          ],
          "scattergl": [
           {
            "marker": {
             "colorbar": {
              "outlinewidth": 0,
              "ticks": ""
             }
            },
            "type": "scattergl"
           }
          ],
          "scattermapbox": [
           {
            "marker": {
             "colorbar": {
              "outlinewidth": 0,
              "ticks": ""
             }
            },
            "type": "scattermapbox"
           }
          ],
          "scatterpolar": [
           {
            "marker": {
             "colorbar": {
              "outlinewidth": 0,
              "ticks": ""
             }
            },
            "type": "scatterpolar"
           }
          ],
          "scatterpolargl": [
           {
            "marker": {
             "colorbar": {
              "outlinewidth": 0,
              "ticks": ""
             }
            },
            "type": "scatterpolargl"
           }
          ],
          "scatterternary": [
           {
            "marker": {
             "colorbar": {
              "outlinewidth": 0,
              "ticks": ""
             }
            },
            "type": "scatterternary"
           }
          ],
          "surface": [
           {
            "colorbar": {
             "outlinewidth": 0,
             "ticks": ""
            },
            "colorscale": [
             [
              0,
              "#0d0887"
             ],
             [
              0.1111111111111111,
              "#46039f"
             ],
             [
              0.2222222222222222,
              "#7201a8"
             ],
             [
              0.3333333333333333,
              "#9c179e"
             ],
             [
              0.4444444444444444,
              "#bd3786"
             ],
             [
              0.5555555555555556,
              "#d8576b"
             ],
             [
              0.6666666666666666,
              "#ed7953"
             ],
             [
              0.7777777777777778,
              "#fb9f3a"
             ],
             [
              0.8888888888888888,
              "#fdca26"
             ],
             [
              1,
              "#f0f921"
             ]
            ],
            "type": "surface"
           }
          ],
          "table": [
           {
            "cells": {
             "fill": {
              "color": "#EBF0F8"
             },
             "line": {
              "color": "white"
             }
            },
            "header": {
             "fill": {
              "color": "#C8D4E3"
             },
             "line": {
              "color": "white"
             }
            },
            "type": "table"
           }
          ]
         },
         "layout": {
          "annotationdefaults": {
           "arrowcolor": "#2a3f5f",
           "arrowhead": 0,
           "arrowwidth": 1
          },
          "autotypenumbers": "strict",
          "coloraxis": {
           "colorbar": {
            "outlinewidth": 0,
            "ticks": ""
           }
          },
          "colorscale": {
           "diverging": [
            [
             0,
             "#8e0152"
            ],
            [
             0.1,
             "#c51b7d"
            ],
            [
             0.2,
             "#de77ae"
            ],
            [
             0.3,
             "#f1b6da"
            ],
            [
             0.4,
             "#fde0ef"
            ],
            [
             0.5,
             "#f7f7f7"
            ],
            [
             0.6,
             "#e6f5d0"
            ],
            [
             0.7,
             "#b8e186"
            ],
            [
             0.8,
             "#7fbc41"
            ],
            [
             0.9,
             "#4d9221"
            ],
            [
             1,
             "#276419"
            ]
           ],
           "sequential": [
            [
             0,
             "#0d0887"
            ],
            [
             0.1111111111111111,
             "#46039f"
            ],
            [
             0.2222222222222222,
             "#7201a8"
            ],
            [
             0.3333333333333333,
             "#9c179e"
            ],
            [
             0.4444444444444444,
             "#bd3786"
            ],
            [
             0.5555555555555556,
             "#d8576b"
            ],
            [
             0.6666666666666666,
             "#ed7953"
            ],
            [
             0.7777777777777778,
             "#fb9f3a"
            ],
            [
             0.8888888888888888,
             "#fdca26"
            ],
            [
             1,
             "#f0f921"
            ]
           ],
           "sequentialminus": [
            [
             0,
             "#0d0887"
            ],
            [
             0.1111111111111111,
             "#46039f"
            ],
            [
             0.2222222222222222,
             "#7201a8"
            ],
            [
             0.3333333333333333,
             "#9c179e"
            ],
            [
             0.4444444444444444,
             "#bd3786"
            ],
            [
             0.5555555555555556,
             "#d8576b"
            ],
            [
             0.6666666666666666,
             "#ed7953"
            ],
            [
             0.7777777777777778,
             "#fb9f3a"
            ],
            [
             0.8888888888888888,
             "#fdca26"
            ],
            [
             1,
             "#f0f921"
            ]
           ]
          },
          "colorway": [
           "#636efa",
           "#EF553B",
           "#00cc96",
           "#ab63fa",
           "#FFA15A",
           "#19d3f3",
           "#FF6692",
           "#B6E880",
           "#FF97FF",
           "#FECB52"
          ],
          "font": {
           "color": "#2a3f5f"
          },
          "geo": {
           "bgcolor": "white",
           "lakecolor": "white",
           "landcolor": "#E5ECF6",
           "showlakes": true,
           "showland": true,
           "subunitcolor": "white"
          },
          "hoverlabel": {
           "align": "left"
          },
          "hovermode": "closest",
          "mapbox": {
           "style": "light"
          },
          "paper_bgcolor": "white",
          "plot_bgcolor": "#E5ECF6",
          "polar": {
           "angularaxis": {
            "gridcolor": "white",
            "linecolor": "white",
            "ticks": ""
           },
           "bgcolor": "#E5ECF6",
           "radialaxis": {
            "gridcolor": "white",
            "linecolor": "white",
            "ticks": ""
           }
          },
          "scene": {
           "xaxis": {
            "backgroundcolor": "#E5ECF6",
            "gridcolor": "white",
            "gridwidth": 2,
            "linecolor": "white",
            "showbackground": true,
            "ticks": "",
            "zerolinecolor": "white"
           },
           "yaxis": {
            "backgroundcolor": "#E5ECF6",
            "gridcolor": "white",
            "gridwidth": 2,
            "linecolor": "white",
            "showbackground": true,
            "ticks": "",
            "zerolinecolor": "white"
           },
           "zaxis": {
            "backgroundcolor": "#E5ECF6",
            "gridcolor": "white",
            "gridwidth": 2,
            "linecolor": "white",
            "showbackground": true,
            "ticks": "",
            "zerolinecolor": "white"
           }
          },
          "shapedefaults": {
           "line": {
            "color": "#2a3f5f"
           }
          },
          "ternary": {
           "aaxis": {
            "gridcolor": "white",
            "linecolor": "white",
            "ticks": ""
           },
           "baxis": {
            "gridcolor": "white",
            "linecolor": "white",
            "ticks": ""
           },
           "bgcolor": "#E5ECF6",
           "caxis": {
            "gridcolor": "white",
            "linecolor": "white",
            "ticks": ""
           }
          },
          "title": {
           "x": 0.05
          },
          "xaxis": {
           "automargin": true,
           "gridcolor": "white",
           "linecolor": "white",
           "ticks": "",
           "title": {
            "standoff": 15
           },
           "zerolinecolor": "white",
           "zerolinewidth": 2
          },
          "yaxis": {
           "automargin": true,
           "gridcolor": "white",
           "linecolor": "white",
           "ticks": "",
           "title": {
            "standoff": 15
           },
           "zerolinecolor": "white",
           "zerolinewidth": 2
          }
         }
        },
        "title": {
         "text": "Number of Installations by Category"
        },
        "xaxis": {
         "categoryorder": "total descending",
         "tickangle": 60
        },
        "yaxis": {
         "anchor": "x",
         "domain": [
          0,
          1
         ],
         "title": {
          "text": "Install"
         }
        }
       }
      },
      "text/html": [
       "<div>                            <div id=\"14f92986-2341-43ac-94eb-23947b37ae5a\" class=\"plotly-graph-div\" style=\"height:525px; width:100%;\"></div>            <script type=\"text/javascript\">                require([\"plotly\"], function(Plotly) {                    window.PLOTLYENV=window.PLOTLYENV || {};                                    if (document.getElementById(\"14f92986-2341-43ac-94eb-23947b37ae5a\")) {                    Plotly.newPlot(                        \"14f92986-2341-43ac-94eb-23947b37ae5a\",                        [{\"alignmentgroup\":\"True\",\"hovertemplate\":\"x=%{x}<br>Install=%{y}<extra></extra>\",\"legendgroup\":\"\",\"marker\":{\"color\":\"#636efa\",\"pattern\":{\"shape\":\"\"}},\"name\":\"\",\"offsetgroup\":\"\",\"orientation\":\"v\",\"showlegend\":false,\"textposition\":\"auto\",\"type\":\"bar\",\"x\":[\"GAME ACTION\",\"GAME ARCADE\",\"GAME CASUAL\",\"GAME RACING\",\"GAME PUZZLE\",\"GAME SPORTS\",\"GAME SIMULATION\",\"GAME STRATEGY\",\"GAME BOARD\",\"GAME ADVENTURE\",\"GAME EDUCATIONAL\",\"GAME ROLE PLAYING\",\"GAME MUSIC\",\"GAME CARD\",\"GAME WORD\",\"GAME CASINO\",\"GAME TRIVIA\"],\"xaxis\":\"x\",\"y\":[74.1,71.61,63.97,46.75,36.21,33.61,27.71,23.91,21.23,18.03,17.895,14.08,12.486999999999998,12.484126984126984,12.317307692307692,7.715,6.901],\"yaxis\":\"y\"}],                        {\"barmode\":\"relative\",\"legend\":{\"tracegroupgap\":0},\"template\":{\"data\":{\"bar\":[{\"error_x\":{\"color\":\"#2a3f5f\"},\"error_y\":{\"color\":\"#2a3f5f\"},\"marker\":{\"line\":{\"color\":\"#E5ECF6\",\"width\":0.5},\"pattern\":{\"fillmode\":\"overlay\",\"size\":10,\"solidity\":0.2}},\"type\":\"bar\"}],\"barpolar\":[{\"marker\":{\"line\":{\"color\":\"#E5ECF6\",\"width\":0.5},\"pattern\":{\"fillmode\":\"overlay\",\"size\":10,\"solidity\":0.2}},\"type\":\"barpolar\"}],\"carpet\":[{\"aaxis\":{\"endlinecolor\":\"#2a3f5f\",\"gridcolor\":\"white\",\"linecolor\":\"white\",\"minorgridcolor\":\"white\",\"startlinecolor\":\"#2a3f5f\"},\"baxis\":{\"endlinecolor\":\"#2a3f5f\",\"gridcolor\":\"white\",\"linecolor\":\"white\",\"minorgridcolor\":\"white\",\"startlinecolor\":\"#2a3f5f\"},\"type\":\"carpet\"}],\"choropleth\":[{\"colorbar\":{\"outlinewidth\":0,\"ticks\":\"\"},\"type\":\"choropleth\"}],\"contour\":[{\"colorbar\":{\"outlinewidth\":0,\"ticks\":\"\"},\"colorscale\":[[0.0,\"#0d0887\"],[0.1111111111111111,\"#46039f\"],[0.2222222222222222,\"#7201a8\"],[0.3333333333333333,\"#9c179e\"],[0.4444444444444444,\"#bd3786\"],[0.5555555555555556,\"#d8576b\"],[0.6666666666666666,\"#ed7953\"],[0.7777777777777778,\"#fb9f3a\"],[0.8888888888888888,\"#fdca26\"],[1.0,\"#f0f921\"]],\"type\":\"contour\"}],\"contourcarpet\":[{\"colorbar\":{\"outlinewidth\":0,\"ticks\":\"\"},\"type\":\"contourcarpet\"}],\"heatmap\":[{\"colorbar\":{\"outlinewidth\":0,\"ticks\":\"\"},\"colorscale\":[[0.0,\"#0d0887\"],[0.1111111111111111,\"#46039f\"],[0.2222222222222222,\"#7201a8\"],[0.3333333333333333,\"#9c179e\"],[0.4444444444444444,\"#bd3786\"],[0.5555555555555556,\"#d8576b\"],[0.6666666666666666,\"#ed7953\"],[0.7777777777777778,\"#fb9f3a\"],[0.8888888888888888,\"#fdca26\"],[1.0,\"#f0f921\"]],\"type\":\"heatmap\"}],\"heatmapgl\":[{\"colorbar\":{\"outlinewidth\":0,\"ticks\":\"\"},\"colorscale\":[[0.0,\"#0d0887\"],[0.1111111111111111,\"#46039f\"],[0.2222222222222222,\"#7201a8\"],[0.3333333333333333,\"#9c179e\"],[0.4444444444444444,\"#bd3786\"],[0.5555555555555556,\"#d8576b\"],[0.6666666666666666,\"#ed7953\"],[0.7777777777777778,\"#fb9f3a\"],[0.8888888888888888,\"#fdca26\"],[1.0,\"#f0f921\"]],\"type\":\"heatmapgl\"}],\"histogram\":[{\"marker\":{\"pattern\":{\"fillmode\":\"overlay\",\"size\":10,\"solidity\":0.2}},\"type\":\"histogram\"}],\"histogram2d\":[{\"colorbar\":{\"outlinewidth\":0,\"ticks\":\"\"},\"colorscale\":[[0.0,\"#0d0887\"],[0.1111111111111111,\"#46039f\"],[0.2222222222222222,\"#7201a8\"],[0.3333333333333333,\"#9c179e\"],[0.4444444444444444,\"#bd3786\"],[0.5555555555555556,\"#d8576b\"],[0.6666666666666666,\"#ed7953\"],[0.7777777777777778,\"#fb9f3a\"],[0.8888888888888888,\"#fdca26\"],[1.0,\"#f0f921\"]],\"type\":\"histogram2d\"}],\"histogram2dcontour\":[{\"colorbar\":{\"outlinewidth\":0,\"ticks\":\"\"},\"colorscale\":[[0.0,\"#0d0887\"],[0.1111111111111111,\"#46039f\"],[0.2222222222222222,\"#7201a8\"],[0.3333333333333333,\"#9c179e\"],[0.4444444444444444,\"#bd3786\"],[0.5555555555555556,\"#d8576b\"],[0.6666666666666666,\"#ed7953\"],[0.7777777777777778,\"#fb9f3a\"],[0.8888888888888888,\"#fdca26\"],[1.0,\"#f0f921\"]],\"type\":\"histogram2dcontour\"}],\"mesh3d\":[{\"colorbar\":{\"outlinewidth\":0,\"ticks\":\"\"},\"type\":\"mesh3d\"}],\"parcoords\":[{\"line\":{\"colorbar\":{\"outlinewidth\":0,\"ticks\":\"\"}},\"type\":\"parcoords\"}],\"pie\":[{\"automargin\":true,\"type\":\"pie\"}],\"scatter\":[{\"marker\":{\"colorbar\":{\"outlinewidth\":0,\"ticks\":\"\"}},\"type\":\"scatter\"}],\"scatter3d\":[{\"line\":{\"colorbar\":{\"outlinewidth\":0,\"ticks\":\"\"}},\"marker\":{\"colorbar\":{\"outlinewidth\":0,\"ticks\":\"\"}},\"type\":\"scatter3d\"}],\"scattercarpet\":[{\"marker\":{\"colorbar\":{\"outlinewidth\":0,\"ticks\":\"\"}},\"type\":\"scattercarpet\"}],\"scattergeo\":[{\"marker\":{\"colorbar\":{\"outlinewidth\":0,\"ticks\":\"\"}},\"type\":\"scattergeo\"}],\"scattergl\":[{\"marker\":{\"colorbar\":{\"outlinewidth\":0,\"ticks\":\"\"}},\"type\":\"scattergl\"}],\"scattermapbox\":[{\"marker\":{\"colorbar\":{\"outlinewidth\":0,\"ticks\":\"\"}},\"type\":\"scattermapbox\"}],\"scatterpolar\":[{\"marker\":{\"colorbar\":{\"outlinewidth\":0,\"ticks\":\"\"}},\"type\":\"scatterpolar\"}],\"scatterpolargl\":[{\"marker\":{\"colorbar\":{\"outlinewidth\":0,\"ticks\":\"\"}},\"type\":\"scatterpolargl\"}],\"scatterternary\":[{\"marker\":{\"colorbar\":{\"outlinewidth\":0,\"ticks\":\"\"}},\"type\":\"scatterternary\"}],\"surface\":[{\"colorbar\":{\"outlinewidth\":0,\"ticks\":\"\"},\"colorscale\":[[0.0,\"#0d0887\"],[0.1111111111111111,\"#46039f\"],[0.2222222222222222,\"#7201a8\"],[0.3333333333333333,\"#9c179e\"],[0.4444444444444444,\"#bd3786\"],[0.5555555555555556,\"#d8576b\"],[0.6666666666666666,\"#ed7953\"],[0.7777777777777778,\"#fb9f3a\"],[0.8888888888888888,\"#fdca26\"],[1.0,\"#f0f921\"]],\"type\":\"surface\"}],\"table\":[{\"cells\":{\"fill\":{\"color\":\"#EBF0F8\"},\"line\":{\"color\":\"white\"}},\"header\":{\"fill\":{\"color\":\"#C8D4E3\"},\"line\":{\"color\":\"white\"}},\"type\":\"table\"}]},\"layout\":{\"annotationdefaults\":{\"arrowcolor\":\"#2a3f5f\",\"arrowhead\":0,\"arrowwidth\":1},\"autotypenumbers\":\"strict\",\"coloraxis\":{\"colorbar\":{\"outlinewidth\":0,\"ticks\":\"\"}},\"colorscale\":{\"diverging\":[[0,\"#8e0152\"],[0.1,\"#c51b7d\"],[0.2,\"#de77ae\"],[0.3,\"#f1b6da\"],[0.4,\"#fde0ef\"],[0.5,\"#f7f7f7\"],[0.6,\"#e6f5d0\"],[0.7,\"#b8e186\"],[0.8,\"#7fbc41\"],[0.9,\"#4d9221\"],[1,\"#276419\"]],\"sequential\":[[0.0,\"#0d0887\"],[0.1111111111111111,\"#46039f\"],[0.2222222222222222,\"#7201a8\"],[0.3333333333333333,\"#9c179e\"],[0.4444444444444444,\"#bd3786\"],[0.5555555555555556,\"#d8576b\"],[0.6666666666666666,\"#ed7953\"],[0.7777777777777778,\"#fb9f3a\"],[0.8888888888888888,\"#fdca26\"],[1.0,\"#f0f921\"]],\"sequentialminus\":[[0.0,\"#0d0887\"],[0.1111111111111111,\"#46039f\"],[0.2222222222222222,\"#7201a8\"],[0.3333333333333333,\"#9c179e\"],[0.4444444444444444,\"#bd3786\"],[0.5555555555555556,\"#d8576b\"],[0.6666666666666666,\"#ed7953\"],[0.7777777777777778,\"#fb9f3a\"],[0.8888888888888888,\"#fdca26\"],[1.0,\"#f0f921\"]]},\"colorway\":[\"#636efa\",\"#EF553B\",\"#00cc96\",\"#ab63fa\",\"#FFA15A\",\"#19d3f3\",\"#FF6692\",\"#B6E880\",\"#FF97FF\",\"#FECB52\"],\"font\":{\"color\":\"#2a3f5f\"},\"geo\":{\"bgcolor\":\"white\",\"lakecolor\":\"white\",\"landcolor\":\"#E5ECF6\",\"showlakes\":true,\"showland\":true,\"subunitcolor\":\"white\"},\"hoverlabel\":{\"align\":\"left\"},\"hovermode\":\"closest\",\"mapbox\":{\"style\":\"light\"},\"paper_bgcolor\":\"white\",\"plot_bgcolor\":\"#E5ECF6\",\"polar\":{\"angularaxis\":{\"gridcolor\":\"white\",\"linecolor\":\"white\",\"ticks\":\"\"},\"bgcolor\":\"#E5ECF6\",\"radialaxis\":{\"gridcolor\":\"white\",\"linecolor\":\"white\",\"ticks\":\"\"}},\"scene\":{\"xaxis\":{\"backgroundcolor\":\"#E5ECF6\",\"gridcolor\":\"white\",\"gridwidth\":2,\"linecolor\":\"white\",\"showbackground\":true,\"ticks\":\"\",\"zerolinecolor\":\"white\"},\"yaxis\":{\"backgroundcolor\":\"#E5ECF6\",\"gridcolor\":\"white\",\"gridwidth\":2,\"linecolor\":\"white\",\"showbackground\":true,\"ticks\":\"\",\"zerolinecolor\":\"white\"},\"zaxis\":{\"backgroundcolor\":\"#E5ECF6\",\"gridcolor\":\"white\",\"gridwidth\":2,\"linecolor\":\"white\",\"showbackground\":true,\"ticks\":\"\",\"zerolinecolor\":\"white\"}},\"shapedefaults\":{\"line\":{\"color\":\"#2a3f5f\"}},\"ternary\":{\"aaxis\":{\"gridcolor\":\"white\",\"linecolor\":\"white\",\"ticks\":\"\"},\"baxis\":{\"gridcolor\":\"white\",\"linecolor\":\"white\",\"ticks\":\"\"},\"bgcolor\":\"#E5ECF6\",\"caxis\":{\"gridcolor\":\"white\",\"linecolor\":\"white\",\"ticks\":\"\"}},\"title\":{\"x\":0.05},\"xaxis\":{\"automargin\":true,\"gridcolor\":\"white\",\"linecolor\":\"white\",\"ticks\":\"\",\"title\":{\"standoff\":15},\"zerolinecolor\":\"white\",\"zerolinewidth\":2},\"yaxis\":{\"automargin\":true,\"gridcolor\":\"white\",\"linecolor\":\"white\",\"ticks\":\"\",\"title\":{\"standoff\":15},\"zerolinecolor\":\"white\",\"zerolinewidth\":2}}},\"title\":{\"text\":\"Number of Installations by Category\"},\"xaxis\":{\"categoryorder\":\"total descending\",\"tickangle\":60},\"yaxis\":{\"anchor\":\"x\",\"domain\":[0.0,1.0],\"title\":{\"text\":\"Install\"}}},                        {\"responsive\": true}                    ).then(function(){\n",
       "                            \n",
       "var gd = document.getElementById('14f92986-2341-43ac-94eb-23947b37ae5a');\n",
       "var x = new MutationObserver(function (mutations, observer) {{\n",
       "        var display = window.getComputedStyle(gd).display;\n",
       "        if (!display || display === 'none') {{\n",
       "            console.log([gd, 'removed!']);\n",
       "            Plotly.purge(gd);\n",
       "            observer.disconnect();\n",
       "        }}\n",
       "}});\n",
       "\n",
       "// Listen for the removal of the full notebook cells\n",
       "var notebookContainer = gd.closest('#notebook-container');\n",
       "if (notebookContainer) {{\n",
       "    x.observe(notebookContainer, {childList: true});\n",
       "}}\n",
       "\n",
       "// Listen for the clearing of the current output cell\n",
       "var outputEl = gd.closest('.output');\n",
       "if (outputEl) {{\n",
       "    x.observe(outputEl, {childList: true});\n",
       "}}\n",
       "\n",
       "                        })                };                });            </script>        </div>"
      ]
     },
     "metadata": {},
     "output_type": "display_data"
    }
   ],
   "source": [
    "# with plotly\n",
    "\n",
    "fig = px.bar(data_frame = df_1, x = number_installations_by_category.index, y = number_installations_by_category.values,\n",
    "             labels = {\"y\":'Install'}, title = \"Number of Installations by Category\")\n",
    "fig.update_layout(xaxis = go.layout.XAxis(tickangle = 60))\n",
    "fig.update_layout(xaxis = {\"categoryorder\":\"total descending\"})\n",
    "fig.show()"
   ]
  },
  {
   "cell_type": "markdown",
   "id": "3c8fa2e8",
   "metadata": {},
   "source": [
    "### Top 5 Ranked Games by Category\n",
    "\n",
    "- Rank\n",
    "- Title\n",
    "- Category\n",
    "- Total ratings\n",
    "- Installation"
   ]
  },
  {
   "cell_type": "code",
   "execution_count": 85,
   "id": "71ea6f12",
   "metadata": {},
   "outputs": [
    {
     "data": {
      "text/html": [
       "<div>\n",
       "<style scoped>\n",
       "    .dataframe tbody tr th:only-of-type {\n",
       "        vertical-align: middle;\n",
       "    }\n",
       "\n",
       "    .dataframe tbody tr th {\n",
       "        vertical-align: top;\n",
       "    }\n",
       "\n",
       "    .dataframe thead th {\n",
       "        text-align: right;\n",
       "    }\n",
       "</style>\n",
       "<table border=\"1\" class=\"dataframe\">\n",
       "  <thead>\n",
       "    <tr style=\"text-align: right;\">\n",
       "      <th></th>\n",
       "      <th>rank</th>\n",
       "      <th>title</th>\n",
       "      <th>category</th>\n",
       "      <th>total ratings</th>\n",
       "      <th>installs_in_million</th>\n",
       "      <th>5 star ratings</th>\n",
       "    </tr>\n",
       "  </thead>\n",
       "  <tbody>\n",
       "    <tr>\n",
       "      <th>0</th>\n",
       "      <td>1</td>\n",
       "      <td>Garena Free Fire- World Series</td>\n",
       "      <td>GAME ACTION</td>\n",
       "      <td>86273129</td>\n",
       "      <td>500.0</td>\n",
       "      <td>63546766</td>\n",
       "    </tr>\n",
       "    <tr>\n",
       "      <th>1</th>\n",
       "      <td>2</td>\n",
       "      <td>PUBG MOBILE - Traverse</td>\n",
       "      <td>GAME ACTION</td>\n",
       "      <td>37276732</td>\n",
       "      <td>500.0</td>\n",
       "      <td>28339753</td>\n",
       "    </tr>\n",
       "    <tr>\n",
       "      <th>2</th>\n",
       "      <td>3</td>\n",
       "      <td>Mobile Legends: Bang Bang</td>\n",
       "      <td>GAME ACTION</td>\n",
       "      <td>26663595</td>\n",
       "      <td>100.0</td>\n",
       "      <td>18777988</td>\n",
       "    </tr>\n",
       "    <tr>\n",
       "      <th>3</th>\n",
       "      <td>4</td>\n",
       "      <td>Brawl Stars</td>\n",
       "      <td>GAME ACTION</td>\n",
       "      <td>17971552</td>\n",
       "      <td>100.0</td>\n",
       "      <td>13018610</td>\n",
       "    </tr>\n",
       "    <tr>\n",
       "      <th>4</th>\n",
       "      <td>5</td>\n",
       "      <td>Sniper 3D: Fun Free Online FPS Shooting Game</td>\n",
       "      <td>GAME ACTION</td>\n",
       "      <td>14464235</td>\n",
       "      <td>500.0</td>\n",
       "      <td>9827328</td>\n",
       "    </tr>\n",
       "    <tr>\n",
       "      <th>...</th>\n",
       "      <td>...</td>\n",
       "      <td>...</td>\n",
       "      <td>...</td>\n",
       "      <td>...</td>\n",
       "      <td>...</td>\n",
       "      <td>...</td>\n",
       "    </tr>\n",
       "    <tr>\n",
       "      <th>1626</th>\n",
       "      <td>1</td>\n",
       "      <td>كلمات كراش - لعبة تسلية وتحدي من زيتونة</td>\n",
       "      <td>GAME WORD</td>\n",
       "      <td>2418119</td>\n",
       "      <td>10.0</td>\n",
       "      <td>2115189</td>\n",
       "    </tr>\n",
       "    <tr>\n",
       "      <th>1627</th>\n",
       "      <td>2</td>\n",
       "      <td>Word Cookies!®</td>\n",
       "      <td>GAME WORD</td>\n",
       "      <td>2250585</td>\n",
       "      <td>10.0</td>\n",
       "      <td>1679256</td>\n",
       "    </tr>\n",
       "    <tr>\n",
       "      <th>1628</th>\n",
       "      <td>3</td>\n",
       "      <td>Words of Wonders: Crossword to Connect Vocabulary</td>\n",
       "      <td>GAME WORD</td>\n",
       "      <td>1885400</td>\n",
       "      <td>100.0</td>\n",
       "      <td>1457939</td>\n",
       "    </tr>\n",
       "    <tr>\n",
       "      <th>1629</th>\n",
       "      <td>4</td>\n",
       "      <td>Words with Friends Classic: Word Puzzle Challenge</td>\n",
       "      <td>GAME WORD</td>\n",
       "      <td>1722914</td>\n",
       "      <td>50.0</td>\n",
       "      <td>971880</td>\n",
       "    </tr>\n",
       "    <tr>\n",
       "      <th>1630</th>\n",
       "      <td>5</td>\n",
       "      <td>4 Fotos 1 Palabra</td>\n",
       "      <td>GAME WORD</td>\n",
       "      <td>1227499</td>\n",
       "      <td>50.0</td>\n",
       "      <td>874832</td>\n",
       "    </tr>\n",
       "  </tbody>\n",
       "</table>\n",
       "<p>88 rows × 6 columns</p>\n",
       "</div>"
      ],
      "text/plain": [
       "      rank                                              title     category  \\\n",
       "0        1                     Garena Free Fire- World Series  GAME ACTION   \n",
       "1        2                             PUBG MOBILE - Traverse  GAME ACTION   \n",
       "2        3                          Mobile Legends: Bang Bang  GAME ACTION   \n",
       "3        4                                        Brawl Stars  GAME ACTION   \n",
       "4        5       Sniper 3D: Fun Free Online FPS Shooting Game  GAME ACTION   \n",
       "...    ...                                                ...          ...   \n",
       "1626     1            كلمات كراش - لعبة تسلية وتحدي من زيتونة    GAME WORD   \n",
       "1627     2                                     Word Cookies!®    GAME WORD   \n",
       "1628     3  Words of Wonders: Crossword to Connect Vocabulary    GAME WORD   \n",
       "1629     4  Words with Friends Classic: Word Puzzle Challenge    GAME WORD   \n",
       "1630     5                                  4 Fotos 1 Palabra    GAME WORD   \n",
       "\n",
       "      total ratings  installs_in_million  5 star ratings  \n",
       "0          86273129                500.0        63546766  \n",
       "1          37276732                500.0        28339753  \n",
       "2          26663595                100.0        18777988  \n",
       "3          17971552                100.0        13018610  \n",
       "4          14464235                500.0         9827328  \n",
       "...             ...                  ...             ...  \n",
       "1626        2418119                 10.0         2115189  \n",
       "1627        2250585                 10.0         1679256  \n",
       "1628        1885400                100.0         1457939  \n",
       "1629        1722914                 50.0          971880  \n",
       "1630        1227499                 50.0          874832  \n",
       "\n",
       "[88 rows x 6 columns]"
      ]
     },
     "execution_count": 85,
     "metadata": {},
     "output_type": "execute_result"
    }
   ],
   "source": [
    "top_5_ranked_games = df_1[df_1['rank']<6][['rank','title','category', 'total ratings', 'installs_in_million', '5 star ratings']]\n",
    "top_5_ranked_games"
   ]
  },
  {
   "cell_type": "code",
   "execution_count": 87,
   "id": "7c0cba76",
   "metadata": {},
   "outputs": [
    {
     "data": {
      "text/plain": [
       "rank  title                                           category         total ratings  installs_in_million  5 star ratings\n",
       "1     8 Ball Pool                                     GAME SPORTS      21632735       500.0                16281475          1\n",
       "      Candy Crush Saga                                GAME CASUAL      31367945       1000.0               23837448          1\n",
       "4     Toy Blast                                       GAME PUZZLE      2941258        50.0                 2267242           1\n",
       "      Teen Patti by Octro - Real 3 Patti Game         GAME CASINO      1494419        50.0                 1080443           1\n",
       "      Plague Inc.                                     GAME SIMULATION  3519405        100.0                2613482           1\n",
       "                                                                                                                            ..\n",
       "2     PUBG MOBILE - Traverse                          GAME ACTION      37276732       500.0                28339753          1\n",
       "      My Talking Tom                                  GAME CASUAL      16810315       500.0                12234051          1\n",
       "      Magic Tiles 3                                   GAME MUSIC       2381045        100.0                1570436           1\n",
       "      Hungry Shark Evolution - Offline survival game  GAME ARCADE      7202013        100.0                5220860           1\n",
       "5     모두의마블                                           GAME BOARD       1590460        10.0                 664388            1\n",
       "Length: 88, dtype: int64"
      ]
     },
     "execution_count": 87,
     "metadata": {},
     "output_type": "execute_result"
    }
   ],
   "source": [
    "top_5_ranked_games.value_counts()"
   ]
  },
  {
   "cell_type": "code",
   "execution_count": 93,
   "id": "b09f2886",
   "metadata": {},
   "outputs": [
    {
     "data": {
      "application/vnd.plotly.v1+json": {
       "config": {
        "plotlyServerURL": "https://plot.ly"
       },
       "data": [
        {
         "customdata": [
          [
           "GAME ACTION",
           1
          ],
          [
           "GAME ACTION",
           2
          ],
          [
           "GAME ACTION",
           3
          ],
          [
           "GAME ACTION",
           4
          ],
          [
           "GAME ACTION",
           5
          ]
         ],
         "hovertemplate": "category=%{customdata[0]}<br>total ratings=%{x}<br>title=%{y}<br>rank=%{customdata[1]}<extra></extra>",
         "legendgroup": "GAME ACTION",
         "marker": {
          "color": "#636efa",
          "symbol": "circle"
         },
         "mode": "markers",
         "name": "GAME ACTION",
         "orientation": "h",
         "showlegend": true,
         "type": "scatter",
         "x": [
          86273129,
          37276732,
          26663595,
          17971552,
          14464235
         ],
         "xaxis": "x",
         "y": [
          "Garena Free Fire- World Series",
          "PUBG MOBILE - Traverse",
          "Mobile Legends: Bang Bang",
          "Brawl Stars",
          "Sniper 3D: Fun Free Online FPS Shooting Game"
         ],
         "yaxis": "y"
        },
        {
         "customdata": [
          [
           "GAME ADVENTURE",
           1
          ],
          [
           "GAME ADVENTURE",
           2
          ],
          [
           "GAME ADVENTURE",
           3
          ],
          [
           "GAME ADVENTURE",
           4
          ],
          [
           "GAME ADVENTURE",
           5
          ]
         ],
         "hovertemplate": "category=%{customdata[0]}<br>total ratings=%{x}<br>title=%{y}<br>rank=%{customdata[1]}<extra></extra>",
         "legendgroup": "GAME ADVENTURE",
         "marker": {
          "color": "#EF553B",
          "symbol": "circle"
         },
         "mode": "markers",
         "name": "GAME ADVENTURE",
         "orientation": "h",
         "showlegend": true,
         "type": "scatter",
         "x": [
          21820451,
          14541662,
          4273420,
          2544322,
          2258595
         ],
         "xaxis": "x",
         "y": [
          "Roblox",
          "Pokémon GO",
          "Criminal Case",
          "쿠키런 for Kakao",
          "Harry Potter: Hogwarts Mystery"
         ],
         "yaxis": "y"
        },
        {
         "customdata": [
          [
           "GAME ARCADE",
           1
          ],
          [
           "GAME ARCADE",
           2
          ],
          [
           "GAME ARCADE",
           3
          ],
          [
           "GAME ARCADE",
           4
          ],
          [
           "GAME ARCADE",
           5
          ]
         ],
         "hovertemplate": "category=%{customdata[0]}<br>total ratings=%{x}<br>title=%{y}<br>rank=%{customdata[1]}<extra></extra>",
         "legendgroup": "GAME ARCADE",
         "marker": {
          "color": "#00cc96",
          "symbol": "circle"
         },
         "mode": "markers",
         "name": "GAME ARCADE",
         "orientation": "h",
         "showlegend": true,
         "type": "scatter",
         "x": [
          35665901,
          7202013,
          6960814,
          5903477,
          5402149
         ],
         "xaxis": "x",
         "y": [
          "Subway Surfers",
          "Hungry Shark Evolution - Offline survival game",
          "Geometry Dash Lite",
          "Zombie Tsunami",
          "Sonic Dash - Endless Running & Racing Game"
         ],
         "yaxis": "y"
        },
        {
         "customdata": [
          [
           "GAME BOARD",
           1
          ],
          [
           "GAME BOARD",
           2
          ],
          [
           "GAME BOARD",
           3
          ],
          [
           "GAME BOARD",
           4
          ],
          [
           "GAME BOARD",
           5
          ]
         ],
         "hovertemplate": "category=%{customdata[0]}<br>total ratings=%{x}<br>title=%{y}<br>rank=%{customdata[1]}<extra></extra>",
         "legendgroup": "GAME BOARD",
         "marker": {
          "color": "#ab63fa",
          "symbol": "circle"
         },
         "mode": "markers",
         "name": "GAME BOARD",
         "orientation": "h",
         "showlegend": true,
         "type": "scatter",
         "x": [
          7512316,
          2516777,
          2430531,
          2131083,
          1590460
         ],
         "xaxis": "x",
         "y": [
          "Ludo King™",
          "Happy Color™ – Color by Number. Coloring games.",
          "101 Yüzbir Okey Plus",
          "Parchisi STAR Online",
          "모두의마블"
         ],
         "yaxis": "y"
        },
        {
         "customdata": [
          [
           "GAME CARD",
           1
          ],
          [
           "GAME CARD",
           2
          ],
          [
           "GAME CARD",
           3
          ],
          [
           "GAME CARD",
           3
          ],
          [
           "GAME CARD",
           3
          ],
          [
           "GAME CARD",
           3
          ],
          [
           "GAME CARD",
           4
          ],
          [
           "GAME CARD",
           5
          ]
         ],
         "hovertemplate": "category=%{customdata[0]}<br>total ratings=%{x}<br>title=%{y}<br>rank=%{customdata[1]}<extra></extra>",
         "legendgroup": "GAME CARD",
         "marker": {
          "color": "#FFA15A",
          "symbol": "circle"
         },
         "mode": "markers",
         "name": "GAME CARD",
         "orientation": "h",
         "showlegend": true,
         "type": "scatter",
         "x": [
          2113853,
          1765570,
          1590733,
          1590733,
          1590733,
          1590733,
          1418398,
          1120832
         ],
         "xaxis": "x",
         "y": [
          "Yu-Gi-Oh! Duel Links",
          "Hearthstone",
          "Solitaire",
          "Solitaire",
          "Solitaire",
          "Solitaire",
          "World Series of Poker WSOP Texas Holdem Poker",
          "Live Hold’em Pro Poker - Free Casino Games"
         ],
         "yaxis": "y"
        },
        {
         "customdata": [
          [
           "GAME CASINO",
           1
          ],
          [
           "GAME CASINO",
           2
          ],
          [
           "GAME CASINO",
           3
          ],
          [
           "GAME CASINO",
           4
          ],
          [
           "GAME CASINO",
           5
          ]
         ],
         "hovertemplate": "category=%{customdata[0]}<br>total ratings=%{x}<br>title=%{y}<br>rank=%{customdata[1]}<extra></extra>",
         "legendgroup": "GAME CASINO",
         "marker": {
          "color": "#19d3f3",
          "symbol": "circle"
         },
         "mode": "markers",
         "name": "GAME CASINO",
         "orientation": "h",
         "showlegend": true,
         "type": "scatter",
         "x": [
          2582669,
          1822223,
          1529589,
          1494419,
          1485440
         ],
         "xaxis": "x",
         "y": [
          "Zynga Poker™ – Free Texas Holdem Online Card Games",
          "Slotomania™ Slots: Casino Slot Machine Games",
          "Teen Patti Gold – Indian Family Card Game",
          "Teen Patti by Octro - Real 3 Patti Game",
          "Coin Dozer: Sweepstakes"
         ],
         "yaxis": "y"
        },
        {
         "customdata": [
          [
           "GAME CASUAL",
           1
          ],
          [
           "GAME CASUAL",
           2
          ],
          [
           "GAME CASUAL",
           3
          ],
          [
           "GAME CASUAL",
           4
          ],
          [
           "GAME CASUAL",
           5
          ]
         ],
         "hovertemplate": "category=%{customdata[0]}<br>total ratings=%{x}<br>title=%{y}<br>rank=%{customdata[1]}<extra></extra>",
         "legendgroup": "GAME CASUAL",
         "marker": {
          "color": "#FF6692",
          "symbol": "circle"
         },
         "mode": "markers",
         "name": "GAME CASUAL",
         "orientation": "h",
         "showlegend": true,
         "type": "scatter",
         "x": [
          31367945,
          16810315,
          13050503,
          12098786,
          11506051
         ],
         "xaxis": "x",
         "y": [
          "Candy Crush Saga",
          "My Talking Tom",
          "My Talking Angela",
          "Hay Day",
          "Pou"
         ],
         "yaxis": "y"
        },
        {
         "customdata": [
          [
           "GAME EDUCATIONAL",
           1
          ],
          [
           "GAME EDUCATIONAL",
           2
          ],
          [
           "GAME EDUCATIONAL",
           3
          ],
          [
           "GAME EDUCATIONAL",
           4
          ],
          [
           "GAME EDUCATIONAL",
           5
          ]
         ],
         "hovertemplate": "category=%{customdata[0]}<br>total ratings=%{x}<br>title=%{y}<br>rank=%{customdata[1]}<extra></extra>",
         "legendgroup": "GAME EDUCATIONAL",
         "marker": {
          "color": "#B6E880",
          "symbol": "circle"
         },
         "mode": "markers",
         "name": "GAME EDUCATIONAL",
         "orientation": "h",
         "showlegend": true,
         "type": "scatter",
         "x": [
          1690405,
          1543998,
          758930,
          571355,
          519854
         ],
         "xaxis": "x",
         "y": [
          "Toca Life World: Build stories & create your world",
          "Toca Kitchen 2",
          "Cooking Mama: Let's cook!",
          "知識王",
          "Animal Jam"
         ],
         "yaxis": "y"
        },
        {
         "customdata": [
          [
           "GAME MUSIC",
           1
          ],
          [
           "GAME MUSIC",
           2
          ],
          [
           "GAME MUSIC",
           3
          ],
          [
           "GAME MUSIC",
           4
          ],
          [
           "GAME MUSIC",
           5
          ]
         ],
         "hovertemplate": "category=%{customdata[0]}<br>total ratings=%{x}<br>title=%{y}<br>rank=%{customdata[1]}<extra></extra>",
         "legendgroup": "GAME MUSIC",
         "marker": {
          "color": "#FF97FF",
          "symbol": "circle"
         },
         "mode": "markers",
         "name": "GAME MUSIC",
         "orientation": "h",
         "showlegend": true,
         "type": "scatter",
         "x": [
          2454558,
          2381045,
          1363013,
          1280824,
          665818
         ],
         "xaxis": "x",
         "y": [
          "Tiles Hop: EDM Rush!",
          "Magic Tiles 3",
          "My Singing Monsters",
          "Piano Free - Keyboard with Magic Tiles Music Games",
          "Dancing Road: Color Ball Run!"
         ],
         "yaxis": "y"
        },
        {
         "customdata": [
          [
           "GAME PUZZLE",
           1
          ],
          [
           "GAME PUZZLE",
           2
          ],
          [
           "GAME PUZZLE",
           3
          ],
          [
           "GAME PUZZLE",
           4
          ],
          [
           "GAME PUZZLE",
           5
          ]
         ],
         "hovertemplate": "category=%{customdata[0]}<br>total ratings=%{x}<br>title=%{y}<br>rank=%{customdata[1]}<extra></extra>",
         "legendgroup": "GAME PUZZLE",
         "marker": {
          "color": "#FECB52",
          "symbol": "circle"
         },
         "mode": "markers",
         "name": "GAME PUZZLE",
         "orientation": "h",
         "showlegend": true,
         "type": "scatter",
         "x": [
          4876844,
          4467655,
          3222428,
          2941258,
          2514879
         ],
         "xaxis": "x",
         "y": [
          "Fishdom",
          "Brain Out – Can you pass it?",
          "Toon Blast",
          "Toy Blast",
          "Bubble Witch 3 Saga"
         ],
         "yaxis": "y"
        },
        {
         "customdata": [
          [
           "GAME RACING",
           1
          ],
          [
           "GAME RACING",
           2
          ],
          [
           "GAME RACING",
           3
          ],
          [
           "GAME RACING",
           4
          ],
          [
           "GAME RACING",
           5
          ]
         ],
         "hovertemplate": "category=%{customdata[0]}<br>total ratings=%{x}<br>title=%{y}<br>rank=%{customdata[1]}<extra></extra>",
         "legendgroup": "GAME RACING",
         "marker": {
          "color": "#636efa",
          "symbol": "circle"
         },
         "mode": "markers",
         "name": "GAME RACING",
         "orientation": "h",
         "showlegend": true,
         "type": "scatter",
         "x": [
          10188038,
          7580227,
          6062833,
          6062304,
          4507290
         ],
         "xaxis": "x",
         "y": [
          "Hill Climb Racing",
          "Traffic Rider",
          "Traffic Racer",
          "Dr. Driving",
          "Need for Speed™ No Limits"
         ],
         "yaxis": "y"
        },
        {
         "customdata": [
          [
           "GAME ROLE PLAYING",
           1
          ],
          [
           "GAME ROLE PLAYING",
           2
          ],
          [
           "GAME ROLE PLAYING",
           3
          ],
          [
           "GAME ROLE PLAYING",
           4
          ],
          [
           "GAME ROLE PLAYING",
           5
          ]
         ],
         "hovertemplate": "category=%{customdata[0]}<br>total ratings=%{x}<br>title=%{y}<br>rank=%{customdata[1]}<extra></extra>",
         "legendgroup": "GAME ROLE PLAYING",
         "marker": {
          "color": "#EF553B",
          "symbol": "circle"
         },
         "mode": "markers",
         "name": "GAME ROLE PLAYING",
         "orientation": "h",
         "showlegend": true,
         "type": "scatter",
         "x": [
          3170246,
          3126336,
          3105550,
          2651253,
          2650536
         ],
         "xaxis": "x",
         "y": [
          "Shadow Fight 3 - RPG fighting game",
          "AFK Arena",
          "Avakin Life - 3D Virtual World",
          "Flight Pilot Simulator 3D Free",
          "Angry Birds Epic RPG"
         ],
         "yaxis": "y"
        },
        {
         "customdata": [
          [
           "GAME SIMULATION",
           1
          ],
          [
           "GAME SIMULATION",
           2
          ],
          [
           "GAME SIMULATION",
           3
          ],
          [
           "GAME SIMULATION",
           4
          ],
          [
           "GAME SIMULATION",
           5
          ]
         ],
         "hovertemplate": "category=%{customdata[0]}<br>total ratings=%{x}<br>title=%{y}<br>rank=%{customdata[1]}<extra></extra>",
         "legendgroup": "GAME SIMULATION",
         "marker": {
          "color": "#00cc96",
          "symbol": "circle"
         },
         "mode": "markers",
         "name": "GAME SIMULATION",
         "orientation": "h",
         "showlegend": true,
         "type": "scatter",
         "x": [
          5541105,
          5213933,
          3622549,
          3519405,
          3420152
         ],
         "xaxis": "x",
         "y": [
          "The Sims FreePlay",
          "SimCity BuildIt",
          "Episode - Choose Your Story",
          "Plague Inc.",
          "Fallout Shelter"
         ],
         "yaxis": "y"
        },
        {
         "customdata": [
          [
           "GAME SPORTS",
           1
          ],
          [
           "GAME SPORTS",
           2
          ],
          [
           "GAME SPORTS",
           3
          ],
          [
           "GAME SPORTS",
           4
          ],
          [
           "GAME SPORTS",
           5
          ]
         ],
         "hovertemplate": "category=%{customdata[0]}<br>total ratings=%{x}<br>title=%{y}<br>rank=%{customdata[1]}<extra></extra>",
         "legendgroup": "GAME SPORTS",
         "marker": {
          "color": "#ab63fa",
          "symbol": "circle"
         },
         "mode": "markers",
         "name": "GAME SPORTS",
         "orientation": "h",
         "showlegend": true,
         "type": "scatter",
         "x": [
          21632735,
          13385786,
          6856324,
          6633030,
          4721659
         ],
         "xaxis": "x",
         "y": [
          "8 Ball Pool",
          "Dream League Soccer",
          "Score! Hero",
          "eFootball PES 2021",
          "Top Eleven 2021: Be a Soccer Manager"
         ],
         "yaxis": "y"
        },
        {
         "customdata": [
          [
           "GAME STRATEGY",
           1
          ],
          [
           "GAME STRATEGY",
           2
          ],
          [
           "GAME STRATEGY",
           3
          ],
          [
           "GAME STRATEGY",
           4
          ],
          [
           "GAME STRATEGY",
           5
          ]
         ],
         "hovertemplate": "category=%{customdata[0]}<br>total ratings=%{x}<br>title=%{y}<br>rank=%{customdata[1]}<extra></extra>",
         "legendgroup": "GAME STRATEGY",
         "marker": {
          "color": "#FFA15A",
          "symbol": "circle"
         },
         "mode": "markers",
         "name": "GAME STRATEGY",
         "orientation": "h",
         "showlegend": true,
         "type": "scatter",
         "x": [
          55766763,
          30852360,
          6548519,
          6055738,
          5164307
         ],
         "xaxis": "x",
         "y": [
          "Clash of Clans",
          "Clash Royale",
          "Lords Mobile: Tower Defense",
          "Boom Beach",
          "Plants vs. Zombies FREE"
         ],
         "yaxis": "y"
        },
        {
         "customdata": [
          [
           "GAME TRIVIA",
           1
          ],
          [
           "GAME TRIVIA",
           2
          ],
          [
           "GAME TRIVIA",
           3
          ],
          [
           "GAME TRIVIA",
           4
          ],
          [
           "GAME TRIVIA",
           5
          ]
         ],
         "hovertemplate": "category=%{customdata[0]}<br>total ratings=%{x}<br>title=%{y}<br>rank=%{customdata[1]}<extra></extra>",
         "legendgroup": "GAME TRIVIA",
         "marker": {
          "color": "#19d3f3",
          "symbol": "circle"
         },
         "mode": "markers",
         "name": "GAME TRIVIA",
         "orientation": "h",
         "showlegend": true,
         "type": "scatter",
         "x": [
          7334155,
          4145089,
          2614691,
          1183690,
          1098826
         ],
         "xaxis": "x",
         "y": [
          "Trivia Crack",
          "Brain Test: Tricky Puzzles",
          "94% - Quiz, Trivia & Logic",
          "Logo Quiz",
          "Who is? Brain Teaser & Tricky Riddles"
         ],
         "yaxis": "y"
        },
        {
         "customdata": [
          [
           "GAME WORD",
           1
          ],
          [
           "GAME WORD",
           2
          ],
          [
           "GAME WORD",
           3
          ],
          [
           "GAME WORD",
           4
          ],
          [
           "GAME WORD",
           5
          ]
         ],
         "hovertemplate": "category=%{customdata[0]}<br>total ratings=%{x}<br>title=%{y}<br>rank=%{customdata[1]}<extra></extra>",
         "legendgroup": "GAME WORD",
         "marker": {
          "color": "#FF6692",
          "symbol": "circle"
         },
         "mode": "markers",
         "name": "GAME WORD",
         "orientation": "h",
         "showlegend": true,
         "type": "scatter",
         "x": [
          2418119,
          2250585,
          1885400,
          1722914,
          1227499
         ],
         "xaxis": "x",
         "y": [
          "كلمات كراش - لعبة تسلية وتحدي من زيتونة",
          "Word Cookies!®",
          "Words of Wonders: Crossword to Connect Vocabulary",
          "Words with Friends Classic: Word Puzzle Challenge",
          "4 Fotos 1 Palabra"
         ],
         "yaxis": "y"
        }
       ],
       "layout": {
        "legend": {
         "title": {
          "text": "category"
         },
         "tracegroupgap": 0
        },
        "template": {
         "data": {
          "bar": [
           {
            "error_x": {
             "color": "#2a3f5f"
            },
            "error_y": {
             "color": "#2a3f5f"
            },
            "marker": {
             "line": {
              "color": "#E5ECF6",
              "width": 0.5
             },
             "pattern": {
              "fillmode": "overlay",
              "size": 10,
              "solidity": 0.2
             }
            },
            "type": "bar"
           }
          ],
          "barpolar": [
           {
            "marker": {
             "line": {
              "color": "#E5ECF6",
              "width": 0.5
             },
             "pattern": {
              "fillmode": "overlay",
              "size": 10,
              "solidity": 0.2
             }
            },
            "type": "barpolar"
           }
          ],
          "carpet": [
           {
            "aaxis": {
             "endlinecolor": "#2a3f5f",
             "gridcolor": "white",
             "linecolor": "white",
             "minorgridcolor": "white",
             "startlinecolor": "#2a3f5f"
            },
            "baxis": {
             "endlinecolor": "#2a3f5f",
             "gridcolor": "white",
             "linecolor": "white",
             "minorgridcolor": "white",
             "startlinecolor": "#2a3f5f"
            },
            "type": "carpet"
           }
          ],
          "choropleth": [
           {
            "colorbar": {
             "outlinewidth": 0,
             "ticks": ""
            },
            "type": "choropleth"
           }
          ],
          "contour": [
           {
            "colorbar": {
             "outlinewidth": 0,
             "ticks": ""
            },
            "colorscale": [
             [
              0,
              "#0d0887"
             ],
             [
              0.1111111111111111,
              "#46039f"
             ],
             [
              0.2222222222222222,
              "#7201a8"
             ],
             [
              0.3333333333333333,
              "#9c179e"
             ],
             [
              0.4444444444444444,
              "#bd3786"
             ],
             [
              0.5555555555555556,
              "#d8576b"
             ],
             [
              0.6666666666666666,
              "#ed7953"
             ],
             [
              0.7777777777777778,
              "#fb9f3a"
             ],
             [
              0.8888888888888888,
              "#fdca26"
             ],
             [
              1,
              "#f0f921"
             ]
            ],
            "type": "contour"
           }
          ],
          "contourcarpet": [
           {
            "colorbar": {
             "outlinewidth": 0,
             "ticks": ""
            },
            "type": "contourcarpet"
           }
          ],
          "heatmap": [
           {
            "colorbar": {
             "outlinewidth": 0,
             "ticks": ""
            },
            "colorscale": [
             [
              0,
              "#0d0887"
             ],
             [
              0.1111111111111111,
              "#46039f"
             ],
             [
              0.2222222222222222,
              "#7201a8"
             ],
             [
              0.3333333333333333,
              "#9c179e"
             ],
             [
              0.4444444444444444,
              "#bd3786"
             ],
             [
              0.5555555555555556,
              "#d8576b"
             ],
             [
              0.6666666666666666,
              "#ed7953"
             ],
             [
              0.7777777777777778,
              "#fb9f3a"
             ],
             [
              0.8888888888888888,
              "#fdca26"
             ],
             [
              1,
              "#f0f921"
             ]
            ],
            "type": "heatmap"
           }
          ],
          "heatmapgl": [
           {
            "colorbar": {
             "outlinewidth": 0,
             "ticks": ""
            },
            "colorscale": [
             [
              0,
              "#0d0887"
             ],
             [
              0.1111111111111111,
              "#46039f"
             ],
             [
              0.2222222222222222,
              "#7201a8"
             ],
             [
              0.3333333333333333,
              "#9c179e"
             ],
             [
              0.4444444444444444,
              "#bd3786"
             ],
             [
              0.5555555555555556,
              "#d8576b"
             ],
             [
              0.6666666666666666,
              "#ed7953"
             ],
             [
              0.7777777777777778,
              "#fb9f3a"
             ],
             [
              0.8888888888888888,
              "#fdca26"
             ],
             [
              1,
              "#f0f921"
             ]
            ],
            "type": "heatmapgl"
           }
          ],
          "histogram": [
           {
            "marker": {
             "pattern": {
              "fillmode": "overlay",
              "size": 10,
              "solidity": 0.2
             }
            },
            "type": "histogram"
           }
          ],
          "histogram2d": [
           {
            "colorbar": {
             "outlinewidth": 0,
             "ticks": ""
            },
            "colorscale": [
             [
              0,
              "#0d0887"
             ],
             [
              0.1111111111111111,
              "#46039f"
             ],
             [
              0.2222222222222222,
              "#7201a8"
             ],
             [
              0.3333333333333333,
              "#9c179e"
             ],
             [
              0.4444444444444444,
              "#bd3786"
             ],
             [
              0.5555555555555556,
              "#d8576b"
             ],
             [
              0.6666666666666666,
              "#ed7953"
             ],
             [
              0.7777777777777778,
              "#fb9f3a"
             ],
             [
              0.8888888888888888,
              "#fdca26"
             ],
             [
              1,
              "#f0f921"
             ]
            ],
            "type": "histogram2d"
           }
          ],
          "histogram2dcontour": [
           {
            "colorbar": {
             "outlinewidth": 0,
             "ticks": ""
            },
            "colorscale": [
             [
              0,
              "#0d0887"
             ],
             [
              0.1111111111111111,
              "#46039f"
             ],
             [
              0.2222222222222222,
              "#7201a8"
             ],
             [
              0.3333333333333333,
              "#9c179e"
             ],
             [
              0.4444444444444444,
              "#bd3786"
             ],
             [
              0.5555555555555556,
              "#d8576b"
             ],
             [
              0.6666666666666666,
              "#ed7953"
             ],
             [
              0.7777777777777778,
              "#fb9f3a"
             ],
             [
              0.8888888888888888,
              "#fdca26"
             ],
             [
              1,
              "#f0f921"
             ]
            ],
            "type": "histogram2dcontour"
           }
          ],
          "mesh3d": [
           {
            "colorbar": {
             "outlinewidth": 0,
             "ticks": ""
            },
            "type": "mesh3d"
           }
          ],
          "parcoords": [
           {
            "line": {
             "colorbar": {
              "outlinewidth": 0,
              "ticks": ""
             }
            },
            "type": "parcoords"
           }
          ],
          "pie": [
           {
            "automargin": true,
            "type": "pie"
           }
          ],
          "scatter": [
           {
            "marker": {
             "colorbar": {
              "outlinewidth": 0,
              "ticks": ""
             }
            },
            "type": "scatter"
           }
          ],
          "scatter3d": [
           {
            "line": {
             "colorbar": {
              "outlinewidth": 0,
              "ticks": ""
             }
            },
            "marker": {
             "colorbar": {
              "outlinewidth": 0,
              "ticks": ""
             }
            },
            "type": "scatter3d"
           }
          ],
          "scattercarpet": [
           {
            "marker": {
             "colorbar": {
              "outlinewidth": 0,
              "ticks": ""
             }
            },
            "type": "scattercarpet"
           }
          ],
          "scattergeo": [
           {
            "marker": {
             "colorbar": {
              "outlinewidth": 0,
              "ticks": ""
             }
            },
            "type": "scattergeo"
           }
          ],
          "scattergl": [
           {
            "marker": {
             "colorbar": {
              "outlinewidth": 0,
              "ticks": ""
             }
            },
            "type": "scattergl"
           }
          ],
          "scattermapbox": [
           {
            "marker": {
             "colorbar": {
              "outlinewidth": 0,
              "ticks": ""
             }
            },
            "type": "scattermapbox"
           }
          ],
          "scatterpolar": [
           {
            "marker": {
             "colorbar": {
              "outlinewidth": 0,
              "ticks": ""
             }
            },
            "type": "scatterpolar"
           }
          ],
          "scatterpolargl": [
           {
            "marker": {
             "colorbar": {
              "outlinewidth": 0,
              "ticks": ""
             }
            },
            "type": "scatterpolargl"
           }
          ],
          "scatterternary": [
           {
            "marker": {
             "colorbar": {
              "outlinewidth": 0,
              "ticks": ""
             }
            },
            "type": "scatterternary"
           }
          ],
          "surface": [
           {
            "colorbar": {
             "outlinewidth": 0,
             "ticks": ""
            },
            "colorscale": [
             [
              0,
              "#0d0887"
             ],
             [
              0.1111111111111111,
              "#46039f"
             ],
             [
              0.2222222222222222,
              "#7201a8"
             ],
             [
              0.3333333333333333,
              "#9c179e"
             ],
             [
              0.4444444444444444,
              "#bd3786"
             ],
             [
              0.5555555555555556,
              "#d8576b"
             ],
             [
              0.6666666666666666,
              "#ed7953"
             ],
             [
              0.7777777777777778,
              "#fb9f3a"
             ],
             [
              0.8888888888888888,
              "#fdca26"
             ],
             [
              1,
              "#f0f921"
             ]
            ],
            "type": "surface"
           }
          ],
          "table": [
           {
            "cells": {
             "fill": {
              "color": "#EBF0F8"
             },
             "line": {
              "color": "white"
             }
            },
            "header": {
             "fill": {
              "color": "#C8D4E3"
             },
             "line": {
              "color": "white"
             }
            },
            "type": "table"
           }
          ]
         },
         "layout": {
          "annotationdefaults": {
           "arrowcolor": "#2a3f5f",
           "arrowhead": 0,
           "arrowwidth": 1
          },
          "autotypenumbers": "strict",
          "coloraxis": {
           "colorbar": {
            "outlinewidth": 0,
            "ticks": ""
           }
          },
          "colorscale": {
           "diverging": [
            [
             0,
             "#8e0152"
            ],
            [
             0.1,
             "#c51b7d"
            ],
            [
             0.2,
             "#de77ae"
            ],
            [
             0.3,
             "#f1b6da"
            ],
            [
             0.4,
             "#fde0ef"
            ],
            [
             0.5,
             "#f7f7f7"
            ],
            [
             0.6,
             "#e6f5d0"
            ],
            [
             0.7,
             "#b8e186"
            ],
            [
             0.8,
             "#7fbc41"
            ],
            [
             0.9,
             "#4d9221"
            ],
            [
             1,
             "#276419"
            ]
           ],
           "sequential": [
            [
             0,
             "#0d0887"
            ],
            [
             0.1111111111111111,
             "#46039f"
            ],
            [
             0.2222222222222222,
             "#7201a8"
            ],
            [
             0.3333333333333333,
             "#9c179e"
            ],
            [
             0.4444444444444444,
             "#bd3786"
            ],
            [
             0.5555555555555556,
             "#d8576b"
            ],
            [
             0.6666666666666666,
             "#ed7953"
            ],
            [
             0.7777777777777778,
             "#fb9f3a"
            ],
            [
             0.8888888888888888,
             "#fdca26"
            ],
            [
             1,
             "#f0f921"
            ]
           ],
           "sequentialminus": [
            [
             0,
             "#0d0887"
            ],
            [
             0.1111111111111111,
             "#46039f"
            ],
            [
             0.2222222222222222,
             "#7201a8"
            ],
            [
             0.3333333333333333,
             "#9c179e"
            ],
            [
             0.4444444444444444,
             "#bd3786"
            ],
            [
             0.5555555555555556,
             "#d8576b"
            ],
            [
             0.6666666666666666,
             "#ed7953"
            ],
            [
             0.7777777777777778,
             "#fb9f3a"
            ],
            [
             0.8888888888888888,
             "#fdca26"
            ],
            [
             1,
             "#f0f921"
            ]
           ]
          },
          "colorway": [
           "#636efa",
           "#EF553B",
           "#00cc96",
           "#ab63fa",
           "#FFA15A",
           "#19d3f3",
           "#FF6692",
           "#B6E880",
           "#FF97FF",
           "#FECB52"
          ],
          "font": {
           "color": "#2a3f5f"
          },
          "geo": {
           "bgcolor": "white",
           "lakecolor": "white",
           "landcolor": "#E5ECF6",
           "showlakes": true,
           "showland": true,
           "subunitcolor": "white"
          },
          "hoverlabel": {
           "align": "left"
          },
          "hovermode": "closest",
          "mapbox": {
           "style": "light"
          },
          "paper_bgcolor": "white",
          "plot_bgcolor": "#E5ECF6",
          "polar": {
           "angularaxis": {
            "gridcolor": "white",
            "linecolor": "white",
            "ticks": ""
           },
           "bgcolor": "#E5ECF6",
           "radialaxis": {
            "gridcolor": "white",
            "linecolor": "white",
            "ticks": ""
           }
          },
          "scene": {
           "xaxis": {
            "backgroundcolor": "#E5ECF6",
            "gridcolor": "white",
            "gridwidth": 2,
            "linecolor": "white",
            "showbackground": true,
            "ticks": "",
            "zerolinecolor": "white"
           },
           "yaxis": {
            "backgroundcolor": "#E5ECF6",
            "gridcolor": "white",
            "gridwidth": 2,
            "linecolor": "white",
            "showbackground": true,
            "ticks": "",
            "zerolinecolor": "white"
           },
           "zaxis": {
            "backgroundcolor": "#E5ECF6",
            "gridcolor": "white",
            "gridwidth": 2,
            "linecolor": "white",
            "showbackground": true,
            "ticks": "",
            "zerolinecolor": "white"
           }
          },
          "shapedefaults": {
           "line": {
            "color": "#2a3f5f"
           }
          },
          "ternary": {
           "aaxis": {
            "gridcolor": "white",
            "linecolor": "white",
            "ticks": ""
           },
           "baxis": {
            "gridcolor": "white",
            "linecolor": "white",
            "ticks": ""
           },
           "bgcolor": "#E5ECF6",
           "caxis": {
            "gridcolor": "white",
            "linecolor": "white",
            "ticks": ""
           }
          },
          "title": {
           "x": 0.05
          },
          "xaxis": {
           "automargin": true,
           "gridcolor": "white",
           "linecolor": "white",
           "ticks": "",
           "title": {
            "standoff": 15
           },
           "zerolinecolor": "white",
           "zerolinewidth": 2
          },
          "yaxis": {
           "automargin": true,
           "gridcolor": "white",
           "linecolor": "white",
           "ticks": "",
           "title": {
            "standoff": 15
           },
           "zerolinecolor": "white",
           "zerolinewidth": 2
          }
         }
        },
        "title": {
         "text": "Top 5 Ranked Games by Total Ratings"
        },
        "xaxis": {
         "anchor": "y",
         "domain": [
          0,
          1
         ],
         "title": {
          "text": "total ratings"
         }
        },
        "yaxis": {
         "anchor": "x",
         "domain": [
          0,
          1
         ],
         "title": {
          "text": "title"
         }
        }
       }
      },
      "text/html": [
       "<div>                            <div id=\"41a0159d-6c55-48f8-8949-d9bfa0596fa2\" class=\"plotly-graph-div\" style=\"height:525px; width:100%;\"></div>            <script type=\"text/javascript\">                require([\"plotly\"], function(Plotly) {                    window.PLOTLYENV=window.PLOTLYENV || {};                                    if (document.getElementById(\"41a0159d-6c55-48f8-8949-d9bfa0596fa2\")) {                    Plotly.newPlot(                        \"41a0159d-6c55-48f8-8949-d9bfa0596fa2\",                        [{\"customdata\":[[\"GAME ACTION\",1],[\"GAME ACTION\",2],[\"GAME ACTION\",3],[\"GAME ACTION\",4],[\"GAME ACTION\",5]],\"hovertemplate\":\"category=%{customdata[0]}<br>total ratings=%{x}<br>title=%{y}<br>rank=%{customdata[1]}<extra></extra>\",\"legendgroup\":\"GAME ACTION\",\"marker\":{\"color\":\"#636efa\",\"symbol\":\"circle\"},\"mode\":\"markers\",\"name\":\"GAME ACTION\",\"orientation\":\"h\",\"showlegend\":true,\"type\":\"scatter\",\"x\":[86273129,37276732,26663595,17971552,14464235],\"xaxis\":\"x\",\"y\":[\"Garena Free Fire- World Series\",\"PUBG MOBILE - Traverse\",\"Mobile Legends: Bang Bang\",\"Brawl Stars\",\"Sniper 3D: Fun Free Online FPS Shooting Game\"],\"yaxis\":\"y\"},{\"customdata\":[[\"GAME ADVENTURE\",1],[\"GAME ADVENTURE\",2],[\"GAME ADVENTURE\",3],[\"GAME ADVENTURE\",4],[\"GAME ADVENTURE\",5]],\"hovertemplate\":\"category=%{customdata[0]}<br>total ratings=%{x}<br>title=%{y}<br>rank=%{customdata[1]}<extra></extra>\",\"legendgroup\":\"GAME ADVENTURE\",\"marker\":{\"color\":\"#EF553B\",\"symbol\":\"circle\"},\"mode\":\"markers\",\"name\":\"GAME ADVENTURE\",\"orientation\":\"h\",\"showlegend\":true,\"type\":\"scatter\",\"x\":[21820451,14541662,4273420,2544322,2258595],\"xaxis\":\"x\",\"y\":[\"Roblox\",\"Pok\\u00e9mon GO\",\"Criminal Case\",\"\\ucfe0\\ud0a4\\ub7f0 for Kakao\",\"Harry Potter: Hogwarts Mystery\"],\"yaxis\":\"y\"},{\"customdata\":[[\"GAME ARCADE\",1],[\"GAME ARCADE\",2],[\"GAME ARCADE\",3],[\"GAME ARCADE\",4],[\"GAME ARCADE\",5]],\"hovertemplate\":\"category=%{customdata[0]}<br>total ratings=%{x}<br>title=%{y}<br>rank=%{customdata[1]}<extra></extra>\",\"legendgroup\":\"GAME ARCADE\",\"marker\":{\"color\":\"#00cc96\",\"symbol\":\"circle\"},\"mode\":\"markers\",\"name\":\"GAME ARCADE\",\"orientation\":\"h\",\"showlegend\":true,\"type\":\"scatter\",\"x\":[35665901,7202013,6960814,5903477,5402149],\"xaxis\":\"x\",\"y\":[\"Subway Surfers\",\"Hungry Shark Evolution - Offline survival game\",\"Geometry Dash Lite\",\"Zombie Tsunami\",\"Sonic Dash - Endless Running & Racing Game\"],\"yaxis\":\"y\"},{\"customdata\":[[\"GAME BOARD\",1],[\"GAME BOARD\",2],[\"GAME BOARD\",3],[\"GAME BOARD\",4],[\"GAME BOARD\",5]],\"hovertemplate\":\"category=%{customdata[0]}<br>total ratings=%{x}<br>title=%{y}<br>rank=%{customdata[1]}<extra></extra>\",\"legendgroup\":\"GAME BOARD\",\"marker\":{\"color\":\"#ab63fa\",\"symbol\":\"circle\"},\"mode\":\"markers\",\"name\":\"GAME BOARD\",\"orientation\":\"h\",\"showlegend\":true,\"type\":\"scatter\",\"x\":[7512316,2516777,2430531,2131083,1590460],\"xaxis\":\"x\",\"y\":[\"Ludo King\\u2122\",\"Happy Color\\u2122 \\u2013 Color by Number. Coloring games.\",\"101 Y\\u00fczbir Okey Plus\",\"Parchisi STAR Online\",\"\\ubaa8\\ub450\\uc758\\ub9c8\\ube14\"],\"yaxis\":\"y\"},{\"customdata\":[[\"GAME CARD\",1],[\"GAME CARD\",2],[\"GAME CARD\",3],[\"GAME CARD\",3],[\"GAME CARD\",3],[\"GAME CARD\",3],[\"GAME CARD\",4],[\"GAME CARD\",5]],\"hovertemplate\":\"category=%{customdata[0]}<br>total ratings=%{x}<br>title=%{y}<br>rank=%{customdata[1]}<extra></extra>\",\"legendgroup\":\"GAME CARD\",\"marker\":{\"color\":\"#FFA15A\",\"symbol\":\"circle\"},\"mode\":\"markers\",\"name\":\"GAME CARD\",\"orientation\":\"h\",\"showlegend\":true,\"type\":\"scatter\",\"x\":[2113853,1765570,1590733,1590733,1590733,1590733,1418398,1120832],\"xaxis\":\"x\",\"y\":[\"Yu-Gi-Oh! Duel Links\",\"Hearthstone\",\"Solitaire\",\"Solitaire\",\"Solitaire\",\"Solitaire\",\"World Series of Poker WSOP Texas Holdem Poker\",\"Live Hold\\u2019em Pro Poker - Free Casino Games\"],\"yaxis\":\"y\"},{\"customdata\":[[\"GAME CASINO\",1],[\"GAME CASINO\",2],[\"GAME CASINO\",3],[\"GAME CASINO\",4],[\"GAME CASINO\",5]],\"hovertemplate\":\"category=%{customdata[0]}<br>total ratings=%{x}<br>title=%{y}<br>rank=%{customdata[1]}<extra></extra>\",\"legendgroup\":\"GAME CASINO\",\"marker\":{\"color\":\"#19d3f3\",\"symbol\":\"circle\"},\"mode\":\"markers\",\"name\":\"GAME CASINO\",\"orientation\":\"h\",\"showlegend\":true,\"type\":\"scatter\",\"x\":[2582669,1822223,1529589,1494419,1485440],\"xaxis\":\"x\",\"y\":[\"Zynga Poker\\u2122 \\u2013 Free Texas Holdem Online Card Games\",\"Slotomania\\u2122 Slots: Casino Slot Machine Games\",\"Teen Patti Gold \\u2013 Indian Family Card Game\",\"Teen Patti by Octro - Real 3 Patti Game\",\"Coin Dozer: Sweepstakes\"],\"yaxis\":\"y\"},{\"customdata\":[[\"GAME CASUAL\",1],[\"GAME CASUAL\",2],[\"GAME CASUAL\",3],[\"GAME CASUAL\",4],[\"GAME CASUAL\",5]],\"hovertemplate\":\"category=%{customdata[0]}<br>total ratings=%{x}<br>title=%{y}<br>rank=%{customdata[1]}<extra></extra>\",\"legendgroup\":\"GAME CASUAL\",\"marker\":{\"color\":\"#FF6692\",\"symbol\":\"circle\"},\"mode\":\"markers\",\"name\":\"GAME CASUAL\",\"orientation\":\"h\",\"showlegend\":true,\"type\":\"scatter\",\"x\":[31367945,16810315,13050503,12098786,11506051],\"xaxis\":\"x\",\"y\":[\"Candy Crush Saga\",\"My Talking Tom\",\"My Talking Angela\",\"Hay Day\",\"Pou\"],\"yaxis\":\"y\"},{\"customdata\":[[\"GAME EDUCATIONAL\",1],[\"GAME EDUCATIONAL\",2],[\"GAME EDUCATIONAL\",3],[\"GAME EDUCATIONAL\",4],[\"GAME EDUCATIONAL\",5]],\"hovertemplate\":\"category=%{customdata[0]}<br>total ratings=%{x}<br>title=%{y}<br>rank=%{customdata[1]}<extra></extra>\",\"legendgroup\":\"GAME EDUCATIONAL\",\"marker\":{\"color\":\"#B6E880\",\"symbol\":\"circle\"},\"mode\":\"markers\",\"name\":\"GAME EDUCATIONAL\",\"orientation\":\"h\",\"showlegend\":true,\"type\":\"scatter\",\"x\":[1690405,1543998,758930,571355,519854],\"xaxis\":\"x\",\"y\":[\"Toca Life World: Build stories & create your world\",\"Toca Kitchen 2\",\"Cooking Mama: Let's cook!\",\"\\u77e5\\u8b58\\u738b\",\"Animal Jam\"],\"yaxis\":\"y\"},{\"customdata\":[[\"GAME MUSIC\",1],[\"GAME MUSIC\",2],[\"GAME MUSIC\",3],[\"GAME MUSIC\",4],[\"GAME MUSIC\",5]],\"hovertemplate\":\"category=%{customdata[0]}<br>total ratings=%{x}<br>title=%{y}<br>rank=%{customdata[1]}<extra></extra>\",\"legendgroup\":\"GAME MUSIC\",\"marker\":{\"color\":\"#FF97FF\",\"symbol\":\"circle\"},\"mode\":\"markers\",\"name\":\"GAME MUSIC\",\"orientation\":\"h\",\"showlegend\":true,\"type\":\"scatter\",\"x\":[2454558,2381045,1363013,1280824,665818],\"xaxis\":\"x\",\"y\":[\"Tiles Hop: EDM Rush!\",\"Magic Tiles 3\",\"My Singing Monsters\",\"Piano Free - Keyboard with Magic Tiles Music Games\",\"Dancing Road: Color Ball Run!\"],\"yaxis\":\"y\"},{\"customdata\":[[\"GAME PUZZLE\",1],[\"GAME PUZZLE\",2],[\"GAME PUZZLE\",3],[\"GAME PUZZLE\",4],[\"GAME PUZZLE\",5]],\"hovertemplate\":\"category=%{customdata[0]}<br>total ratings=%{x}<br>title=%{y}<br>rank=%{customdata[1]}<extra></extra>\",\"legendgroup\":\"GAME PUZZLE\",\"marker\":{\"color\":\"#FECB52\",\"symbol\":\"circle\"},\"mode\":\"markers\",\"name\":\"GAME PUZZLE\",\"orientation\":\"h\",\"showlegend\":true,\"type\":\"scatter\",\"x\":[4876844,4467655,3222428,2941258,2514879],\"xaxis\":\"x\",\"y\":[\"Fishdom\",\"Brain Out \\u2013 Can you pass it?\",\"Toon Blast\",\"Toy Blast\",\"Bubble Witch 3 Saga\"],\"yaxis\":\"y\"},{\"customdata\":[[\"GAME RACING\",1],[\"GAME RACING\",2],[\"GAME RACING\",3],[\"GAME RACING\",4],[\"GAME RACING\",5]],\"hovertemplate\":\"category=%{customdata[0]}<br>total ratings=%{x}<br>title=%{y}<br>rank=%{customdata[1]}<extra></extra>\",\"legendgroup\":\"GAME RACING\",\"marker\":{\"color\":\"#636efa\",\"symbol\":\"circle\"},\"mode\":\"markers\",\"name\":\"GAME RACING\",\"orientation\":\"h\",\"showlegend\":true,\"type\":\"scatter\",\"x\":[10188038,7580227,6062833,6062304,4507290],\"xaxis\":\"x\",\"y\":[\"Hill Climb Racing\",\"Traffic Rider\",\"Traffic Racer\",\"Dr. Driving\",\"Need for Speed\\u2122 No Limits\"],\"yaxis\":\"y\"},{\"customdata\":[[\"GAME ROLE PLAYING\",1],[\"GAME ROLE PLAYING\",2],[\"GAME ROLE PLAYING\",3],[\"GAME ROLE PLAYING\",4],[\"GAME ROLE PLAYING\",5]],\"hovertemplate\":\"category=%{customdata[0]}<br>total ratings=%{x}<br>title=%{y}<br>rank=%{customdata[1]}<extra></extra>\",\"legendgroup\":\"GAME ROLE PLAYING\",\"marker\":{\"color\":\"#EF553B\",\"symbol\":\"circle\"},\"mode\":\"markers\",\"name\":\"GAME ROLE PLAYING\",\"orientation\":\"h\",\"showlegend\":true,\"type\":\"scatter\",\"x\":[3170246,3126336,3105550,2651253,2650536],\"xaxis\":\"x\",\"y\":[\"Shadow Fight 3 - RPG fighting game\",\"AFK Arena\",\"Avakin Life - 3D Virtual World\",\"Flight Pilot Simulator 3D Free\",\"Angry Birds Epic RPG\"],\"yaxis\":\"y\"},{\"customdata\":[[\"GAME SIMULATION\",1],[\"GAME SIMULATION\",2],[\"GAME SIMULATION\",3],[\"GAME SIMULATION\",4],[\"GAME SIMULATION\",5]],\"hovertemplate\":\"category=%{customdata[0]}<br>total ratings=%{x}<br>title=%{y}<br>rank=%{customdata[1]}<extra></extra>\",\"legendgroup\":\"GAME SIMULATION\",\"marker\":{\"color\":\"#00cc96\",\"symbol\":\"circle\"},\"mode\":\"markers\",\"name\":\"GAME SIMULATION\",\"orientation\":\"h\",\"showlegend\":true,\"type\":\"scatter\",\"x\":[5541105,5213933,3622549,3519405,3420152],\"xaxis\":\"x\",\"y\":[\"The Sims FreePlay\",\"SimCity BuildIt\",\"Episode - Choose Your Story\",\"Plague Inc.\",\"Fallout Shelter\"],\"yaxis\":\"y\"},{\"customdata\":[[\"GAME SPORTS\",1],[\"GAME SPORTS\",2],[\"GAME SPORTS\",3],[\"GAME SPORTS\",4],[\"GAME SPORTS\",5]],\"hovertemplate\":\"category=%{customdata[0]}<br>total ratings=%{x}<br>title=%{y}<br>rank=%{customdata[1]}<extra></extra>\",\"legendgroup\":\"GAME SPORTS\",\"marker\":{\"color\":\"#ab63fa\",\"symbol\":\"circle\"},\"mode\":\"markers\",\"name\":\"GAME SPORTS\",\"orientation\":\"h\",\"showlegend\":true,\"type\":\"scatter\",\"x\":[21632735,13385786,6856324,6633030,4721659],\"xaxis\":\"x\",\"y\":[\"8 Ball Pool\",\"Dream League Soccer\",\"Score! Hero\",\"eFootball PES 2021\",\"Top Eleven 2021: Be a Soccer Manager\"],\"yaxis\":\"y\"},{\"customdata\":[[\"GAME STRATEGY\",1],[\"GAME STRATEGY\",2],[\"GAME STRATEGY\",3],[\"GAME STRATEGY\",4],[\"GAME STRATEGY\",5]],\"hovertemplate\":\"category=%{customdata[0]}<br>total ratings=%{x}<br>title=%{y}<br>rank=%{customdata[1]}<extra></extra>\",\"legendgroup\":\"GAME STRATEGY\",\"marker\":{\"color\":\"#FFA15A\",\"symbol\":\"circle\"},\"mode\":\"markers\",\"name\":\"GAME STRATEGY\",\"orientation\":\"h\",\"showlegend\":true,\"type\":\"scatter\",\"x\":[55766763,30852360,6548519,6055738,5164307],\"xaxis\":\"x\",\"y\":[\"Clash of Clans\",\"Clash Royale\",\"Lords Mobile: Tower Defense\",\"Boom Beach\",\"Plants vs. Zombies FREE\"],\"yaxis\":\"y\"},{\"customdata\":[[\"GAME TRIVIA\",1],[\"GAME TRIVIA\",2],[\"GAME TRIVIA\",3],[\"GAME TRIVIA\",4],[\"GAME TRIVIA\",5]],\"hovertemplate\":\"category=%{customdata[0]}<br>total ratings=%{x}<br>title=%{y}<br>rank=%{customdata[1]}<extra></extra>\",\"legendgroup\":\"GAME TRIVIA\",\"marker\":{\"color\":\"#19d3f3\",\"symbol\":\"circle\"},\"mode\":\"markers\",\"name\":\"GAME TRIVIA\",\"orientation\":\"h\",\"showlegend\":true,\"type\":\"scatter\",\"x\":[7334155,4145089,2614691,1183690,1098826],\"xaxis\":\"x\",\"y\":[\"Trivia Crack\",\"Brain Test: Tricky Puzzles\",\"94% - Quiz, Trivia & Logic\",\"Logo Quiz\",\"Who is? Brain Teaser & Tricky Riddles\"],\"yaxis\":\"y\"},{\"customdata\":[[\"GAME WORD\",1],[\"GAME WORD\",2],[\"GAME WORD\",3],[\"GAME WORD\",4],[\"GAME WORD\",5]],\"hovertemplate\":\"category=%{customdata[0]}<br>total ratings=%{x}<br>title=%{y}<br>rank=%{customdata[1]}<extra></extra>\",\"legendgroup\":\"GAME WORD\",\"marker\":{\"color\":\"#FF6692\",\"symbol\":\"circle\"},\"mode\":\"markers\",\"name\":\"GAME WORD\",\"orientation\":\"h\",\"showlegend\":true,\"type\":\"scatter\",\"x\":[2418119,2250585,1885400,1722914,1227499],\"xaxis\":\"x\",\"y\":[\"\\u0643\\u0644\\u0645\\u0627\\u062a \\u0643\\u0631\\u0627\\u0634 - \\u0644\\u0639\\u0628\\u0629 \\u062a\\u0633\\u0644\\u064a\\u0629 \\u0648\\u062a\\u062d\\u062f\\u064a \\u0645\\u0646 \\u0632\\u064a\\u062a\\u0648\\u0646\\u0629\",\"Word Cookies!\\u00ae\",\"Words of Wonders: Crossword to Connect Vocabulary\",\"Words with Friends Classic: Word Puzzle Challenge\",\"4 Fotos 1 Palabra\"],\"yaxis\":\"y\"}],                        {\"legend\":{\"title\":{\"text\":\"category\"},\"tracegroupgap\":0},\"template\":{\"data\":{\"bar\":[{\"error_x\":{\"color\":\"#2a3f5f\"},\"error_y\":{\"color\":\"#2a3f5f\"},\"marker\":{\"line\":{\"color\":\"#E5ECF6\",\"width\":0.5},\"pattern\":{\"fillmode\":\"overlay\",\"size\":10,\"solidity\":0.2}},\"type\":\"bar\"}],\"barpolar\":[{\"marker\":{\"line\":{\"color\":\"#E5ECF6\",\"width\":0.5},\"pattern\":{\"fillmode\":\"overlay\",\"size\":10,\"solidity\":0.2}},\"type\":\"barpolar\"}],\"carpet\":[{\"aaxis\":{\"endlinecolor\":\"#2a3f5f\",\"gridcolor\":\"white\",\"linecolor\":\"white\",\"minorgridcolor\":\"white\",\"startlinecolor\":\"#2a3f5f\"},\"baxis\":{\"endlinecolor\":\"#2a3f5f\",\"gridcolor\":\"white\",\"linecolor\":\"white\",\"minorgridcolor\":\"white\",\"startlinecolor\":\"#2a3f5f\"},\"type\":\"carpet\"}],\"choropleth\":[{\"colorbar\":{\"outlinewidth\":0,\"ticks\":\"\"},\"type\":\"choropleth\"}],\"contour\":[{\"colorbar\":{\"outlinewidth\":0,\"ticks\":\"\"},\"colorscale\":[[0.0,\"#0d0887\"],[0.1111111111111111,\"#46039f\"],[0.2222222222222222,\"#7201a8\"],[0.3333333333333333,\"#9c179e\"],[0.4444444444444444,\"#bd3786\"],[0.5555555555555556,\"#d8576b\"],[0.6666666666666666,\"#ed7953\"],[0.7777777777777778,\"#fb9f3a\"],[0.8888888888888888,\"#fdca26\"],[1.0,\"#f0f921\"]],\"type\":\"contour\"}],\"contourcarpet\":[{\"colorbar\":{\"outlinewidth\":0,\"ticks\":\"\"},\"type\":\"contourcarpet\"}],\"heatmap\":[{\"colorbar\":{\"outlinewidth\":0,\"ticks\":\"\"},\"colorscale\":[[0.0,\"#0d0887\"],[0.1111111111111111,\"#46039f\"],[0.2222222222222222,\"#7201a8\"],[0.3333333333333333,\"#9c179e\"],[0.4444444444444444,\"#bd3786\"],[0.5555555555555556,\"#d8576b\"],[0.6666666666666666,\"#ed7953\"],[0.7777777777777778,\"#fb9f3a\"],[0.8888888888888888,\"#fdca26\"],[1.0,\"#f0f921\"]],\"type\":\"heatmap\"}],\"heatmapgl\":[{\"colorbar\":{\"outlinewidth\":0,\"ticks\":\"\"},\"colorscale\":[[0.0,\"#0d0887\"],[0.1111111111111111,\"#46039f\"],[0.2222222222222222,\"#7201a8\"],[0.3333333333333333,\"#9c179e\"],[0.4444444444444444,\"#bd3786\"],[0.5555555555555556,\"#d8576b\"],[0.6666666666666666,\"#ed7953\"],[0.7777777777777778,\"#fb9f3a\"],[0.8888888888888888,\"#fdca26\"],[1.0,\"#f0f921\"]],\"type\":\"heatmapgl\"}],\"histogram\":[{\"marker\":{\"pattern\":{\"fillmode\":\"overlay\",\"size\":10,\"solidity\":0.2}},\"type\":\"histogram\"}],\"histogram2d\":[{\"colorbar\":{\"outlinewidth\":0,\"ticks\":\"\"},\"colorscale\":[[0.0,\"#0d0887\"],[0.1111111111111111,\"#46039f\"],[0.2222222222222222,\"#7201a8\"],[0.3333333333333333,\"#9c179e\"],[0.4444444444444444,\"#bd3786\"],[0.5555555555555556,\"#d8576b\"],[0.6666666666666666,\"#ed7953\"],[0.7777777777777778,\"#fb9f3a\"],[0.8888888888888888,\"#fdca26\"],[1.0,\"#f0f921\"]],\"type\":\"histogram2d\"}],\"histogram2dcontour\":[{\"colorbar\":{\"outlinewidth\":0,\"ticks\":\"\"},\"colorscale\":[[0.0,\"#0d0887\"],[0.1111111111111111,\"#46039f\"],[0.2222222222222222,\"#7201a8\"],[0.3333333333333333,\"#9c179e\"],[0.4444444444444444,\"#bd3786\"],[0.5555555555555556,\"#d8576b\"],[0.6666666666666666,\"#ed7953\"],[0.7777777777777778,\"#fb9f3a\"],[0.8888888888888888,\"#fdca26\"],[1.0,\"#f0f921\"]],\"type\":\"histogram2dcontour\"}],\"mesh3d\":[{\"colorbar\":{\"outlinewidth\":0,\"ticks\":\"\"},\"type\":\"mesh3d\"}],\"parcoords\":[{\"line\":{\"colorbar\":{\"outlinewidth\":0,\"ticks\":\"\"}},\"type\":\"parcoords\"}],\"pie\":[{\"automargin\":true,\"type\":\"pie\"}],\"scatter\":[{\"marker\":{\"colorbar\":{\"outlinewidth\":0,\"ticks\":\"\"}},\"type\":\"scatter\"}],\"scatter3d\":[{\"line\":{\"colorbar\":{\"outlinewidth\":0,\"ticks\":\"\"}},\"marker\":{\"colorbar\":{\"outlinewidth\":0,\"ticks\":\"\"}},\"type\":\"scatter3d\"}],\"scattercarpet\":[{\"marker\":{\"colorbar\":{\"outlinewidth\":0,\"ticks\":\"\"}},\"type\":\"scattercarpet\"}],\"scattergeo\":[{\"marker\":{\"colorbar\":{\"outlinewidth\":0,\"ticks\":\"\"}},\"type\":\"scattergeo\"}],\"scattergl\":[{\"marker\":{\"colorbar\":{\"outlinewidth\":0,\"ticks\":\"\"}},\"type\":\"scattergl\"}],\"scattermapbox\":[{\"marker\":{\"colorbar\":{\"outlinewidth\":0,\"ticks\":\"\"}},\"type\":\"scattermapbox\"}],\"scatterpolar\":[{\"marker\":{\"colorbar\":{\"outlinewidth\":0,\"ticks\":\"\"}},\"type\":\"scatterpolar\"}],\"scatterpolargl\":[{\"marker\":{\"colorbar\":{\"outlinewidth\":0,\"ticks\":\"\"}},\"type\":\"scatterpolargl\"}],\"scatterternary\":[{\"marker\":{\"colorbar\":{\"outlinewidth\":0,\"ticks\":\"\"}},\"type\":\"scatterternary\"}],\"surface\":[{\"colorbar\":{\"outlinewidth\":0,\"ticks\":\"\"},\"colorscale\":[[0.0,\"#0d0887\"],[0.1111111111111111,\"#46039f\"],[0.2222222222222222,\"#7201a8\"],[0.3333333333333333,\"#9c179e\"],[0.4444444444444444,\"#bd3786\"],[0.5555555555555556,\"#d8576b\"],[0.6666666666666666,\"#ed7953\"],[0.7777777777777778,\"#fb9f3a\"],[0.8888888888888888,\"#fdca26\"],[1.0,\"#f0f921\"]],\"type\":\"surface\"}],\"table\":[{\"cells\":{\"fill\":{\"color\":\"#EBF0F8\"},\"line\":{\"color\":\"white\"}},\"header\":{\"fill\":{\"color\":\"#C8D4E3\"},\"line\":{\"color\":\"white\"}},\"type\":\"table\"}]},\"layout\":{\"annotationdefaults\":{\"arrowcolor\":\"#2a3f5f\",\"arrowhead\":0,\"arrowwidth\":1},\"autotypenumbers\":\"strict\",\"coloraxis\":{\"colorbar\":{\"outlinewidth\":0,\"ticks\":\"\"}},\"colorscale\":{\"diverging\":[[0,\"#8e0152\"],[0.1,\"#c51b7d\"],[0.2,\"#de77ae\"],[0.3,\"#f1b6da\"],[0.4,\"#fde0ef\"],[0.5,\"#f7f7f7\"],[0.6,\"#e6f5d0\"],[0.7,\"#b8e186\"],[0.8,\"#7fbc41\"],[0.9,\"#4d9221\"],[1,\"#276419\"]],\"sequential\":[[0.0,\"#0d0887\"],[0.1111111111111111,\"#46039f\"],[0.2222222222222222,\"#7201a8\"],[0.3333333333333333,\"#9c179e\"],[0.4444444444444444,\"#bd3786\"],[0.5555555555555556,\"#d8576b\"],[0.6666666666666666,\"#ed7953\"],[0.7777777777777778,\"#fb9f3a\"],[0.8888888888888888,\"#fdca26\"],[1.0,\"#f0f921\"]],\"sequentialminus\":[[0.0,\"#0d0887\"],[0.1111111111111111,\"#46039f\"],[0.2222222222222222,\"#7201a8\"],[0.3333333333333333,\"#9c179e\"],[0.4444444444444444,\"#bd3786\"],[0.5555555555555556,\"#d8576b\"],[0.6666666666666666,\"#ed7953\"],[0.7777777777777778,\"#fb9f3a\"],[0.8888888888888888,\"#fdca26\"],[1.0,\"#f0f921\"]]},\"colorway\":[\"#636efa\",\"#EF553B\",\"#00cc96\",\"#ab63fa\",\"#FFA15A\",\"#19d3f3\",\"#FF6692\",\"#B6E880\",\"#FF97FF\",\"#FECB52\"],\"font\":{\"color\":\"#2a3f5f\"},\"geo\":{\"bgcolor\":\"white\",\"lakecolor\":\"white\",\"landcolor\":\"#E5ECF6\",\"showlakes\":true,\"showland\":true,\"subunitcolor\":\"white\"},\"hoverlabel\":{\"align\":\"left\"},\"hovermode\":\"closest\",\"mapbox\":{\"style\":\"light\"},\"paper_bgcolor\":\"white\",\"plot_bgcolor\":\"#E5ECF6\",\"polar\":{\"angularaxis\":{\"gridcolor\":\"white\",\"linecolor\":\"white\",\"ticks\":\"\"},\"bgcolor\":\"#E5ECF6\",\"radialaxis\":{\"gridcolor\":\"white\",\"linecolor\":\"white\",\"ticks\":\"\"}},\"scene\":{\"xaxis\":{\"backgroundcolor\":\"#E5ECF6\",\"gridcolor\":\"white\",\"gridwidth\":2,\"linecolor\":\"white\",\"showbackground\":true,\"ticks\":\"\",\"zerolinecolor\":\"white\"},\"yaxis\":{\"backgroundcolor\":\"#E5ECF6\",\"gridcolor\":\"white\",\"gridwidth\":2,\"linecolor\":\"white\",\"showbackground\":true,\"ticks\":\"\",\"zerolinecolor\":\"white\"},\"zaxis\":{\"backgroundcolor\":\"#E5ECF6\",\"gridcolor\":\"white\",\"gridwidth\":2,\"linecolor\":\"white\",\"showbackground\":true,\"ticks\":\"\",\"zerolinecolor\":\"white\"}},\"shapedefaults\":{\"line\":{\"color\":\"#2a3f5f\"}},\"ternary\":{\"aaxis\":{\"gridcolor\":\"white\",\"linecolor\":\"white\",\"ticks\":\"\"},\"baxis\":{\"gridcolor\":\"white\",\"linecolor\":\"white\",\"ticks\":\"\"},\"bgcolor\":\"#E5ECF6\",\"caxis\":{\"gridcolor\":\"white\",\"linecolor\":\"white\",\"ticks\":\"\"}},\"title\":{\"x\":0.05},\"xaxis\":{\"automargin\":true,\"gridcolor\":\"white\",\"linecolor\":\"white\",\"ticks\":\"\",\"title\":{\"standoff\":15},\"zerolinecolor\":\"white\",\"zerolinewidth\":2},\"yaxis\":{\"automargin\":true,\"gridcolor\":\"white\",\"linecolor\":\"white\",\"ticks\":\"\",\"title\":{\"standoff\":15},\"zerolinecolor\":\"white\",\"zerolinewidth\":2}}},\"title\":{\"text\":\"Top 5 Ranked Games by Total Ratings\"},\"xaxis\":{\"anchor\":\"y\",\"domain\":[0.0,1.0],\"title\":{\"text\":\"total ratings\"}},\"yaxis\":{\"anchor\":\"x\",\"domain\":[0.0,1.0],\"title\":{\"text\":\"title\"}}},                        {\"responsive\": true}                    ).then(function(){\n",
       "                            \n",
       "var gd = document.getElementById('41a0159d-6c55-48f8-8949-d9bfa0596fa2');\n",
       "var x = new MutationObserver(function (mutations, observer) {{\n",
       "        var display = window.getComputedStyle(gd).display;\n",
       "        if (!display || display === 'none') {{\n",
       "            console.log([gd, 'removed!']);\n",
       "            Plotly.purge(gd);\n",
       "            observer.disconnect();\n",
       "        }}\n",
       "}});\n",
       "\n",
       "// Listen for the removal of the full notebook cells\n",
       "var notebookContainer = gd.closest('#notebook-container');\n",
       "if (notebookContainer) {{\n",
       "    x.observe(notebookContainer, {childList: true});\n",
       "}}\n",
       "\n",
       "// Listen for the clearing of the current output cell\n",
       "var outputEl = gd.closest('.output');\n",
       "if (outputEl) {{\n",
       "    x.observe(outputEl, {childList: true});\n",
       "}}\n",
       "\n",
       "                        })                };                });            </script>        </div>"
      ]
     },
     "metadata": {},
     "output_type": "display_data"
    }
   ],
   "source": [
    "fig = px.scatter(top_5_ranked_games, y= 'title', x='total ratings', \n",
    "                 hover_data = top_ranked_games[['category','rank']], color='category', \n",
    "                 title = \"Top 5 Ranked Games by Total Ratings\")\n",
    "fig.show()"
   ]
  },
  {
   "cell_type": "code",
   "execution_count": null,
   "id": "f35f6937",
   "metadata": {},
   "outputs": [],
   "source": []
  },
  {
   "cell_type": "code",
   "execution_count": null,
   "id": "a648ad16",
   "metadata": {},
   "outputs": [],
   "source": []
  },
  {
   "cell_type": "code",
   "execution_count": null,
   "id": "111ad310",
   "metadata": {},
   "outputs": [],
   "source": []
  },
  {
   "cell_type": "code",
   "execution_count": null,
   "id": "ca6d06a6",
   "metadata": {},
   "outputs": [],
   "source": []
  },
  {
   "cell_type": "code",
   "execution_count": null,
   "id": "8d0af851",
   "metadata": {},
   "outputs": [],
   "source": []
  },
  {
   "cell_type": "code",
   "execution_count": null,
   "id": "edc63112",
   "metadata": {},
   "outputs": [],
   "source": []
  },
  {
   "cell_type": "code",
   "execution_count": null,
   "id": "189cb36d",
   "metadata": {},
   "outputs": [],
   "source": []
  },
  {
   "cell_type": "code",
   "execution_count": null,
   "id": "14af96b2",
   "metadata": {},
   "outputs": [],
   "source": []
  },
  {
   "cell_type": "code",
   "execution_count": null,
   "id": "1a99ca03",
   "metadata": {},
   "outputs": [],
   "source": []
  },
  {
   "cell_type": "code",
   "execution_count": null,
   "id": "2b15ac96",
   "metadata": {},
   "outputs": [],
   "source": []
  }
 ],
 "metadata": {
  "kernelspec": {
   "display_name": "Python 3 (ipykernel)",
   "language": "python",
   "name": "python3"
  },
  "language_info": {
   "codemirror_mode": {
    "name": "ipython",
    "version": 3
   },
   "file_extension": ".py",
   "mimetype": "text/x-python",
   "name": "python",
   "nbconvert_exporter": "python",
   "pygments_lexer": "ipython3",
   "version": "3.8.12"
  }
 },
 "nbformat": 4,
 "nbformat_minor": 5
}
